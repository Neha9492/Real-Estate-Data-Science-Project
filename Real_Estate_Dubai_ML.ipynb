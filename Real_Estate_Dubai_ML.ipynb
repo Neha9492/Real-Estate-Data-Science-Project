{
  "nbformat": 4,
  "nbformat_minor": 0,
  "metadata": {
    "colab": {
      "name": "Real_Estate_Dubai_ML.ipynb",
      "provenance": [],
      "collapsed_sections": [
        "yoR7XCSGMTZo",
        "MOfR1BnGMc8g",
        "EVD8lWbBMhew"
      ],
      "authorship_tag": "ABX9TyP00UAASJTIby2LZHANtMcN",
      "include_colab_link": true
    },
    "kernelspec": {
      "name": "python3",
      "display_name": "Python 3"
    },
    "language_info": {
      "name": "python"
    }
  },
  "cells": [
    {
      "cell_type": "markdown",
      "metadata": {
        "id": "view-in-github",
        "colab_type": "text"
      },
      "source": [
        "<a href=\"https://colab.research.google.com/github/Neha9492/Real-Estate-Data-Science-Project/blob/main/Real_Estate_Dubai_ML.ipynb\" target=\"_parent\"><img src=\"https://colab.research.google.com/assets/colab-badge.svg\" alt=\"Open In Colab\"/></a>"
      ]
    },
    {
      "cell_type": "markdown",
      "metadata": {
        "id": "H4mUH4_zL6Sw"
      },
      "source": [
        "###Importing libraries\n",
        "* Pandas Library helps us create and handle dataset in dataframe(https://pandas.pydata.org/)\n",
        "* Numpy\n",
        "* Matplotlib Pyplot\n",
        "* sklearn/sci-kit learn is an exhaustive library supporting various algorithms for classifiacation, regression and others\n",
        "* GradientBoostingRegressor: regression algorithm for modelling(https://scikit-learn.org/stable/modules/generated/sklearn.ensemble.GradientBoostingRegressor.html)\n",
        "* train_test_split: splits datasets into randomized train and test sets(https://scikit-learn.org/stable/modules/generated/sklearn.model_selection.train_test_split.html)\n",
        "* GridSearchCV: used for hyperparameter tuning(https://scikit-learn.org/stable/modules/generated/sklearn.model_selection.GridSearchCV.html)\n"
      ]
    },
    {
      "cell_type": "code",
      "metadata": {
        "id": "0u7H3Wuh78nQ"
      },
      "source": [
        "import pandas as pd\n",
        "import numpy as np\n",
        "import matplotlib.pyplot as plt\n",
        "from sklearn.ensemble import GradientBoostingRegressor\n",
        "from sklearn.model_selection import train_test_split\n",
        "from sklearn.metrics import mean_absolute_error\n",
        "from sklearn.model_selection import GridSearchCV"
      ],
      "execution_count": 16,
      "outputs": []
    },
    {
      "cell_type": "markdown",
      "metadata": {
        "id": "yoR7XCSGMTZo"
      },
      "source": [
        "### Import cleaned dataset in a pandas dataframe"
      ]
    },
    {
      "cell_type": "code",
      "metadata": {
        "id": "eKmo5jL08D6F"
      },
      "source": [
        "valDf = pd.read_csv('./valuation_cleaned_final.csv')"
      ],
      "execution_count": 2,
      "outputs": []
    },
    {
      "cell_type": "code",
      "metadata": {
        "colab": {
          "base_uri": "https://localhost:8080/",
          "height": 252
        },
        "id": "MA2vJdCn8ef1",
        "outputId": "f130897c-6877-4e17-b8fc-27e3c8c5b8bb"
      },
      "source": [
        "#Viewing a few rows from the dataframe\n",
        "valDf.head()"
      ],
      "execution_count": 113,
      "outputs": [
        {
          "output_type": "execute_result",
          "data": {
            "text/html": [
              "<div>\n",
              "<style scoped>\n",
              "    .dataframe tbody tr th:only-of-type {\n",
              "        vertical-align: middle;\n",
              "    }\n",
              "\n",
              "    .dataframe tbody tr th {\n",
              "        vertical-align: top;\n",
              "    }\n",
              "\n",
              "    .dataframe thead th {\n",
              "        text-align: right;\n",
              "    }\n",
              "</style>\n",
              "<table border=\"1\" class=\"dataframe\">\n",
              "  <thead>\n",
              "    <tr style=\"text-align: right;\">\n",
              "      <th></th>\n",
              "      <th>procedure_area</th>\n",
              "      <th>property_total_value</th>\n",
              "      <th>Year</th>\n",
              "      <th>Month</th>\n",
              "      <th>area_id_230.0</th>\n",
              "      <th>area_id_231.0</th>\n",
              "      <th>area_id_232.0</th>\n",
              "      <th>area_id_233.0</th>\n",
              "      <th>area_id_234.0</th>\n",
              "      <th>area_id_235.0</th>\n",
              "      <th>area_id_237.0</th>\n",
              "      <th>area_id_238.0</th>\n",
              "      <th>area_id_239.0</th>\n",
              "      <th>area_id_240.0</th>\n",
              "      <th>area_id_242.0</th>\n",
              "      <th>area_id_244.0</th>\n",
              "      <th>area_id_247.0</th>\n",
              "      <th>area_id_248.0</th>\n",
              "      <th>area_id_249.0</th>\n",
              "      <th>area_id_254.0</th>\n",
              "      <th>area_id_255.0</th>\n",
              "      <th>area_id_264.0</th>\n",
              "      <th>area_id_266.0</th>\n",
              "      <th>area_id_267.0</th>\n",
              "      <th>area_id_269.0</th>\n",
              "      <th>area_id_271.0</th>\n",
              "      <th>area_id_276.0</th>\n",
              "      <th>area_id_278.0</th>\n",
              "      <th>area_id_295.0</th>\n",
              "      <th>area_id_297.0</th>\n",
              "      <th>area_id_298.0</th>\n",
              "      <th>area_id_299.0</th>\n",
              "      <th>area_id_300.0</th>\n",
              "      <th>area_id_301.0</th>\n",
              "      <th>area_id_303.0</th>\n",
              "      <th>area_id_304.0</th>\n",
              "      <th>area_id_305.0</th>\n",
              "      <th>area_id_306.0</th>\n",
              "      <th>area_id_307.0</th>\n",
              "      <th>area_id_308.0</th>\n",
              "      <th>...</th>\n",
              "      <th>area_id_476.0</th>\n",
              "      <th>area_id_477.0</th>\n",
              "      <th>area_id_478.0</th>\n",
              "      <th>area_id_479.0</th>\n",
              "      <th>area_id_480.0</th>\n",
              "      <th>area_id_481.0</th>\n",
              "      <th>area_id_482.0</th>\n",
              "      <th>area_id_483.0</th>\n",
              "      <th>area_id_484.0</th>\n",
              "      <th>area_id_485.0</th>\n",
              "      <th>area_id_489.0</th>\n",
              "      <th>area_id_492.0</th>\n",
              "      <th>area_id_493.0</th>\n",
              "      <th>area_id_497.0</th>\n",
              "      <th>area_id_499.0</th>\n",
              "      <th>area_id_500.0</th>\n",
              "      <th>area_id_502.0</th>\n",
              "      <th>area_id_503.0</th>\n",
              "      <th>area_id_504.0</th>\n",
              "      <th>area_id_506.0</th>\n",
              "      <th>area_id_507.0</th>\n",
              "      <th>area_id_508.0</th>\n",
              "      <th>area_id_509.0</th>\n",
              "      <th>area_id_514.0</th>\n",
              "      <th>area_id_522.0</th>\n",
              "      <th>area_id_523.0</th>\n",
              "      <th>area_id_524.0</th>\n",
              "      <th>area_id_525.0</th>\n",
              "      <th>area_id_526.0</th>\n",
              "      <th>area_id_527.0</th>\n",
              "      <th>area_id_528.0</th>\n",
              "      <th>area_id_531.0</th>\n",
              "      <th>property_type_id_1</th>\n",
              "      <th>property_type_id_2</th>\n",
              "      <th>property_type_id_3</th>\n",
              "      <th>property_category_1</th>\n",
              "      <th>property_category_2</th>\n",
              "      <th>property_category_3</th>\n",
              "      <th>row_status_1</th>\n",
              "      <th>row_status_3</th>\n",
              "    </tr>\n",
              "  </thead>\n",
              "  <tbody>\n",
              "    <tr>\n",
              "      <th>0</th>\n",
              "      <td>236.44</td>\n",
              "      <td>1400000.0</td>\n",
              "      <td>2012</td>\n",
              "      <td>1</td>\n",
              "      <td>0</td>\n",
              "      <td>0</td>\n",
              "      <td>0</td>\n",
              "      <td>0</td>\n",
              "      <td>0</td>\n",
              "      <td>0</td>\n",
              "      <td>0</td>\n",
              "      <td>0</td>\n",
              "      <td>0</td>\n",
              "      <td>0</td>\n",
              "      <td>0</td>\n",
              "      <td>0</td>\n",
              "      <td>0</td>\n",
              "      <td>0</td>\n",
              "      <td>0</td>\n",
              "      <td>0</td>\n",
              "      <td>0</td>\n",
              "      <td>0</td>\n",
              "      <td>0</td>\n",
              "      <td>0</td>\n",
              "      <td>0</td>\n",
              "      <td>0</td>\n",
              "      <td>0</td>\n",
              "      <td>0</td>\n",
              "      <td>0</td>\n",
              "      <td>0</td>\n",
              "      <td>0</td>\n",
              "      <td>0</td>\n",
              "      <td>0</td>\n",
              "      <td>0</td>\n",
              "      <td>0</td>\n",
              "      <td>0</td>\n",
              "      <td>0</td>\n",
              "      <td>0</td>\n",
              "      <td>0</td>\n",
              "      <td>0</td>\n",
              "      <td>...</td>\n",
              "      <td>0</td>\n",
              "      <td>0</td>\n",
              "      <td>0</td>\n",
              "      <td>0</td>\n",
              "      <td>0</td>\n",
              "      <td>0</td>\n",
              "      <td>0</td>\n",
              "      <td>0</td>\n",
              "      <td>0</td>\n",
              "      <td>0</td>\n",
              "      <td>0</td>\n",
              "      <td>0</td>\n",
              "      <td>0</td>\n",
              "      <td>0</td>\n",
              "      <td>0</td>\n",
              "      <td>0</td>\n",
              "      <td>0</td>\n",
              "      <td>0</td>\n",
              "      <td>0</td>\n",
              "      <td>0</td>\n",
              "      <td>0</td>\n",
              "      <td>0</td>\n",
              "      <td>0</td>\n",
              "      <td>0</td>\n",
              "      <td>0</td>\n",
              "      <td>0</td>\n",
              "      <td>0</td>\n",
              "      <td>0</td>\n",
              "      <td>0</td>\n",
              "      <td>0</td>\n",
              "      <td>0</td>\n",
              "      <td>0</td>\n",
              "      <td>0</td>\n",
              "      <td>1</td>\n",
              "      <td>0</td>\n",
              "      <td>0</td>\n",
              "      <td>1</td>\n",
              "      <td>0</td>\n",
              "      <td>1</td>\n",
              "      <td>0</td>\n",
              "    </tr>\n",
              "    <tr>\n",
              "      <th>1</th>\n",
              "      <td>7432.26</td>\n",
              "      <td>15450000.0</td>\n",
              "      <td>2012</td>\n",
              "      <td>5</td>\n",
              "      <td>0</td>\n",
              "      <td>0</td>\n",
              "      <td>0</td>\n",
              "      <td>0</td>\n",
              "      <td>0</td>\n",
              "      <td>0</td>\n",
              "      <td>0</td>\n",
              "      <td>0</td>\n",
              "      <td>0</td>\n",
              "      <td>0</td>\n",
              "      <td>0</td>\n",
              "      <td>0</td>\n",
              "      <td>0</td>\n",
              "      <td>0</td>\n",
              "      <td>0</td>\n",
              "      <td>0</td>\n",
              "      <td>0</td>\n",
              "      <td>0</td>\n",
              "      <td>0</td>\n",
              "      <td>0</td>\n",
              "      <td>0</td>\n",
              "      <td>0</td>\n",
              "      <td>0</td>\n",
              "      <td>0</td>\n",
              "      <td>0</td>\n",
              "      <td>0</td>\n",
              "      <td>0</td>\n",
              "      <td>0</td>\n",
              "      <td>0</td>\n",
              "      <td>0</td>\n",
              "      <td>0</td>\n",
              "      <td>0</td>\n",
              "      <td>0</td>\n",
              "      <td>0</td>\n",
              "      <td>0</td>\n",
              "      <td>0</td>\n",
              "      <td>...</td>\n",
              "      <td>0</td>\n",
              "      <td>0</td>\n",
              "      <td>0</td>\n",
              "      <td>0</td>\n",
              "      <td>0</td>\n",
              "      <td>0</td>\n",
              "      <td>0</td>\n",
              "      <td>0</td>\n",
              "      <td>0</td>\n",
              "      <td>0</td>\n",
              "      <td>0</td>\n",
              "      <td>0</td>\n",
              "      <td>0</td>\n",
              "      <td>0</td>\n",
              "      <td>0</td>\n",
              "      <td>0</td>\n",
              "      <td>0</td>\n",
              "      <td>0</td>\n",
              "      <td>0</td>\n",
              "      <td>0</td>\n",
              "      <td>0</td>\n",
              "      <td>0</td>\n",
              "      <td>0</td>\n",
              "      <td>0</td>\n",
              "      <td>0</td>\n",
              "      <td>0</td>\n",
              "      <td>0</td>\n",
              "      <td>0</td>\n",
              "      <td>0</td>\n",
              "      <td>0</td>\n",
              "      <td>0</td>\n",
              "      <td>0</td>\n",
              "      <td>1</td>\n",
              "      <td>0</td>\n",
              "      <td>0</td>\n",
              "      <td>0</td>\n",
              "      <td>1</td>\n",
              "      <td>0</td>\n",
              "      <td>1</td>\n",
              "      <td>0</td>\n",
              "    </tr>\n",
              "    <tr>\n",
              "      <th>2</th>\n",
              "      <td>3135.48</td>\n",
              "      <td>2531250.0</td>\n",
              "      <td>2012</td>\n",
              "      <td>1</td>\n",
              "      <td>0</td>\n",
              "      <td>0</td>\n",
              "      <td>0</td>\n",
              "      <td>0</td>\n",
              "      <td>0</td>\n",
              "      <td>0</td>\n",
              "      <td>0</td>\n",
              "      <td>0</td>\n",
              "      <td>0</td>\n",
              "      <td>0</td>\n",
              "      <td>0</td>\n",
              "      <td>0</td>\n",
              "      <td>0</td>\n",
              "      <td>0</td>\n",
              "      <td>0</td>\n",
              "      <td>0</td>\n",
              "      <td>0</td>\n",
              "      <td>0</td>\n",
              "      <td>0</td>\n",
              "      <td>0</td>\n",
              "      <td>0</td>\n",
              "      <td>0</td>\n",
              "      <td>0</td>\n",
              "      <td>0</td>\n",
              "      <td>0</td>\n",
              "      <td>0</td>\n",
              "      <td>0</td>\n",
              "      <td>0</td>\n",
              "      <td>0</td>\n",
              "      <td>0</td>\n",
              "      <td>0</td>\n",
              "      <td>0</td>\n",
              "      <td>0</td>\n",
              "      <td>0</td>\n",
              "      <td>0</td>\n",
              "      <td>0</td>\n",
              "      <td>...</td>\n",
              "      <td>0</td>\n",
              "      <td>0</td>\n",
              "      <td>0</td>\n",
              "      <td>0</td>\n",
              "      <td>0</td>\n",
              "      <td>0</td>\n",
              "      <td>0</td>\n",
              "      <td>0</td>\n",
              "      <td>0</td>\n",
              "      <td>0</td>\n",
              "      <td>0</td>\n",
              "      <td>0</td>\n",
              "      <td>0</td>\n",
              "      <td>0</td>\n",
              "      <td>0</td>\n",
              "      <td>0</td>\n",
              "      <td>0</td>\n",
              "      <td>0</td>\n",
              "      <td>0</td>\n",
              "      <td>0</td>\n",
              "      <td>0</td>\n",
              "      <td>0</td>\n",
              "      <td>0</td>\n",
              "      <td>0</td>\n",
              "      <td>0</td>\n",
              "      <td>0</td>\n",
              "      <td>0</td>\n",
              "      <td>0</td>\n",
              "      <td>0</td>\n",
              "      <td>0</td>\n",
              "      <td>0</td>\n",
              "      <td>0</td>\n",
              "      <td>1</td>\n",
              "      <td>0</td>\n",
              "      <td>0</td>\n",
              "      <td>1</td>\n",
              "      <td>0</td>\n",
              "      <td>0</td>\n",
              "      <td>1</td>\n",
              "      <td>0</td>\n",
              "    </tr>\n",
              "    <tr>\n",
              "      <th>3</th>\n",
              "      <td>2181.36</td>\n",
              "      <td>6000000.0</td>\n",
              "      <td>2012</td>\n",
              "      <td>11</td>\n",
              "      <td>0</td>\n",
              "      <td>0</td>\n",
              "      <td>0</td>\n",
              "      <td>0</td>\n",
              "      <td>0</td>\n",
              "      <td>0</td>\n",
              "      <td>0</td>\n",
              "      <td>0</td>\n",
              "      <td>0</td>\n",
              "      <td>0</td>\n",
              "      <td>0</td>\n",
              "      <td>0</td>\n",
              "      <td>0</td>\n",
              "      <td>0</td>\n",
              "      <td>0</td>\n",
              "      <td>0</td>\n",
              "      <td>0</td>\n",
              "      <td>0</td>\n",
              "      <td>0</td>\n",
              "      <td>0</td>\n",
              "      <td>0</td>\n",
              "      <td>0</td>\n",
              "      <td>0</td>\n",
              "      <td>0</td>\n",
              "      <td>0</td>\n",
              "      <td>0</td>\n",
              "      <td>0</td>\n",
              "      <td>0</td>\n",
              "      <td>0</td>\n",
              "      <td>0</td>\n",
              "      <td>0</td>\n",
              "      <td>0</td>\n",
              "      <td>0</td>\n",
              "      <td>0</td>\n",
              "      <td>0</td>\n",
              "      <td>0</td>\n",
              "      <td>...</td>\n",
              "      <td>0</td>\n",
              "      <td>0</td>\n",
              "      <td>0</td>\n",
              "      <td>0</td>\n",
              "      <td>0</td>\n",
              "      <td>0</td>\n",
              "      <td>0</td>\n",
              "      <td>0</td>\n",
              "      <td>0</td>\n",
              "      <td>0</td>\n",
              "      <td>0</td>\n",
              "      <td>0</td>\n",
              "      <td>0</td>\n",
              "      <td>0</td>\n",
              "      <td>0</td>\n",
              "      <td>0</td>\n",
              "      <td>0</td>\n",
              "      <td>0</td>\n",
              "      <td>0</td>\n",
              "      <td>0</td>\n",
              "      <td>0</td>\n",
              "      <td>0</td>\n",
              "      <td>0</td>\n",
              "      <td>0</td>\n",
              "      <td>0</td>\n",
              "      <td>0</td>\n",
              "      <td>0</td>\n",
              "      <td>0</td>\n",
              "      <td>0</td>\n",
              "      <td>0</td>\n",
              "      <td>0</td>\n",
              "      <td>0</td>\n",
              "      <td>1</td>\n",
              "      <td>0</td>\n",
              "      <td>0</td>\n",
              "      <td>1</td>\n",
              "      <td>0</td>\n",
              "      <td>0</td>\n",
              "      <td>1</td>\n",
              "      <td>0</td>\n",
              "    </tr>\n",
              "    <tr>\n",
              "      <th>4</th>\n",
              "      <td>142436.93</td>\n",
              "      <td>76658950.0</td>\n",
              "      <td>2012</td>\n",
              "      <td>1</td>\n",
              "      <td>0</td>\n",
              "      <td>0</td>\n",
              "      <td>0</td>\n",
              "      <td>0</td>\n",
              "      <td>0</td>\n",
              "      <td>0</td>\n",
              "      <td>0</td>\n",
              "      <td>0</td>\n",
              "      <td>0</td>\n",
              "      <td>0</td>\n",
              "      <td>0</td>\n",
              "      <td>0</td>\n",
              "      <td>0</td>\n",
              "      <td>0</td>\n",
              "      <td>0</td>\n",
              "      <td>0</td>\n",
              "      <td>0</td>\n",
              "      <td>0</td>\n",
              "      <td>0</td>\n",
              "      <td>0</td>\n",
              "      <td>0</td>\n",
              "      <td>0</td>\n",
              "      <td>0</td>\n",
              "      <td>0</td>\n",
              "      <td>0</td>\n",
              "      <td>0</td>\n",
              "      <td>0</td>\n",
              "      <td>0</td>\n",
              "      <td>0</td>\n",
              "      <td>0</td>\n",
              "      <td>0</td>\n",
              "      <td>0</td>\n",
              "      <td>0</td>\n",
              "      <td>0</td>\n",
              "      <td>0</td>\n",
              "      <td>0</td>\n",
              "      <td>...</td>\n",
              "      <td>0</td>\n",
              "      <td>0</td>\n",
              "      <td>0</td>\n",
              "      <td>0</td>\n",
              "      <td>0</td>\n",
              "      <td>0</td>\n",
              "      <td>0</td>\n",
              "      <td>0</td>\n",
              "      <td>0</td>\n",
              "      <td>0</td>\n",
              "      <td>0</td>\n",
              "      <td>0</td>\n",
              "      <td>0</td>\n",
              "      <td>0</td>\n",
              "      <td>0</td>\n",
              "      <td>0</td>\n",
              "      <td>0</td>\n",
              "      <td>0</td>\n",
              "      <td>0</td>\n",
              "      <td>0</td>\n",
              "      <td>0</td>\n",
              "      <td>0</td>\n",
              "      <td>0</td>\n",
              "      <td>0</td>\n",
              "      <td>0</td>\n",
              "      <td>0</td>\n",
              "      <td>0</td>\n",
              "      <td>0</td>\n",
              "      <td>0</td>\n",
              "      <td>0</td>\n",
              "      <td>0</td>\n",
              "      <td>0</td>\n",
              "      <td>1</td>\n",
              "      <td>0</td>\n",
              "      <td>0</td>\n",
              "      <td>0</td>\n",
              "      <td>0</td>\n",
              "      <td>1</td>\n",
              "      <td>1</td>\n",
              "      <td>0</td>\n",
              "    </tr>\n",
              "  </tbody>\n",
              "</table>\n",
              "<p>5 rows × 196 columns</p>\n",
              "</div>"
            ],
            "text/plain": [
              "   procedure_area  property_total_value  ...  row_status_1  row_status_3\n",
              "0          236.44             1400000.0  ...             1             0\n",
              "1         7432.26            15450000.0  ...             1             0\n",
              "2         3135.48             2531250.0  ...             1             0\n",
              "3         2181.36             6000000.0  ...             1             0\n",
              "4       142436.93            76658950.0  ...             1             0\n",
              "\n",
              "[5 rows x 196 columns]"
            ]
          },
          "metadata": {
            "tags": []
          },
          "execution_count": 113
        }
      ]
    },
    {
      "cell_type": "markdown",
      "metadata": {
        "id": "MOfR1BnGMc8g"
      },
      "source": [
        "###Declaring the label or target variable and the feature variable in the dataset"
      ]
    },
    {
      "cell_type": "code",
      "metadata": {
        "id": "ycBeyymw8v8N"
      },
      "source": [
        "label = valDf['property_total_value']\n",
        "features = valDf.drop(['property_total_value'], axis=1)"
      ],
      "execution_count": 3,
      "outputs": []
    },
    {
      "cell_type": "markdown",
      "metadata": {
        "id": "EVD8lWbBMhew"
      },
      "source": [
        "###Train-Test split\n",
        "Using train_test_split function to split the features and label rows into TRAIN and TEST sets in randomized state and given ratio\n"
      ]
    },
    {
      "cell_type": "code",
      "metadata": {
        "id": "q3-tjN3Z814z"
      },
      "source": [
        "trainF, testF, trainL, testL = train_test_split(features, label, test_size=0.4, random_state=0)"
      ],
      "execution_count": 4,
      "outputs": []
    },
    {
      "cell_type": "markdown",
      "metadata": {
        "id": "xQvKr75jMzNW"
      },
      "source": [
        "###Model selection and Hyperparameter tuning\n",
        "Creating a basic model with default parameters, this is done to observe its performance and provide a direction for further hyperparameter tuning\n"
      ]
    },
    {
      "cell_type": "code",
      "metadata": {
        "id": "63Pxoz8p89a2"
      },
      "source": [
        "gbModel = GradientBoostingRegressor()"
      ],
      "execution_count": 5,
      "outputs": []
    },
    {
      "cell_type": "markdown",
      "metadata": {
        "id": "KwCzS8I7NC28"
      },
      "source": [
        "##### Fitting the model of the train set (i.e, let the model learn the parameters)"
      ]
    },
    {
      "cell_type": "code",
      "metadata": {
        "colab": {
          "base_uri": "https://localhost:8080/"
        },
        "id": "Y5WmvIiw9LPY",
        "outputId": "24221b72-d5b3-4f26-cd8c-bb2b9ccb433f"
      },
      "source": [
        "gbModel.fit(trainF, trainL)"
      ],
      "execution_count": 6,
      "outputs": [
        {
          "output_type": "execute_result",
          "data": {
            "text/plain": [
              "GradientBoostingRegressor(alpha=0.9, ccp_alpha=0.0, criterion='friedman_mse',\n",
              "                          init=None, learning_rate=0.1, loss='ls', max_depth=3,\n",
              "                          max_features=None, max_leaf_nodes=None,\n",
              "                          min_impurity_decrease=0.0, min_impurity_split=None,\n",
              "                          min_samples_leaf=1, min_samples_split=2,\n",
              "                          min_weight_fraction_leaf=0.0, n_estimators=100,\n",
              "                          n_iter_no_change=None, presort='deprecated',\n",
              "                          random_state=None, subsample=1.0, tol=0.0001,\n",
              "                          validation_fraction=0.1, verbose=0, warm_start=False)"
            ]
          },
          "metadata": {
            "tags": []
          },
          "execution_count": 6
        }
      ]
    },
    {
      "cell_type": "markdown",
      "metadata": {
        "id": "Ty-3yF__NHmA"
      },
      "source": [
        "##### Measuring the Mean Squared Absolute Error for Training Data\n",
        "######Mean Squared Absolute Error is a metric to evaluate the model. It compares the predicted value and the original values.\n",
        "######.predict() method is how the model adjusts the parameters"
      ]
    },
    {
      "cell_type": "code",
      "metadata": {
        "colab": {
          "base_uri": "https://localhost:8080/"
        },
        "id": "35NTZSri9acq",
        "outputId": "a8d541c4-a94c-4a52-b8e5-ba7916f2636c"
      },
      "source": [
        "# Measure the Mean Squared Absolute Error for Test Data\n",
        "msae = mean_absolute_error(testL, gbModel.predict(testF))\n",
        "print(msae)"
      ],
      "execution_count": 7,
      "outputs": [
        {
          "output_type": "stream",
          "text": [
            "11014454.508181963\n"
          ],
          "name": "stdout"
        }
      ]
    },
    {
      "cell_type": "markdown",
      "metadata": {
        "id": "FBNL8KK3OcSz"
      },
      "source": [
        "#####Defining a function to format and print results from the gridSearch"
      ]
    },
    {
      "cell_type": "code",
      "metadata": {
        "id": "lFPMEjVY15i6"
      },
      "source": [
        "def printResults(results):\n",
        "    print('Best ML Params: {}\\n'.format(results.best_params_))\n",
        "\n",
        "    means = results.cv_results_['mean_test_score']\n",
        "    stnDvs = results.cv_results_['std_test_score']\n",
        "\n",
        "    for mean, stnDvs, params in zip(means, stnDvs, results.cv_results_['params']):\n",
        "        print('{} (+/-{}) for {}'.format(\n",
        "                round(mean, 3),\n",
        "                round(stnDvs*2, 3),\n",
        "                params\n",
        "            )\n",
        "        )"
      ],
      "execution_count": 87,
      "outputs": []
    },
    {
      "cell_type": "markdown",
      "metadata": {
        "id": "wrmu1i4BPmQ6"
      },
      "source": [
        "##### Running the gridSearch with various parameters to find the best combination for our model"
      ]
    },
    {
      "cell_type": "code",
      "metadata": {
        "colab": {
          "base_uri": "https://localhost:8080/"
        },
        "id": "a1lxaoKj1628",
        "outputId": "cab3f54e-60a4-4f3c-bb07-a177876ee7df"
      },
      "source": [
        "gbModel = GradientBoostingRegressor()\n",
        "\n",
        "parameters = {\n",
        "    'n_estimators':[500,1000,1500],      # Number of decision trees \n",
        "    'learning_rate':[0.05,0.1,0.2],      # How much time spent learning the parameters\n",
        "    'max_depth':[5,6,7],                 # Max depth for any decision tree\n",
        "    'min_samples_leaf':[50],             # Minimum number of types of house to sample\n",
        "    'max_features':['sqrt'],             # Max percentage of features to take into account by a tree\n",
        "    'loss':['huber']                     # Function to minimise loss\n",
        "}\n",
        "\n",
        "gridSearch = GridSearchCV(gbModel, parameters, cv=5)\n",
        "gridSearch.fit(trainF, trainL.values.ravel())\n",
        "\n",
        "printResults(gridSearch)"
      ],
      "execution_count": 88,
      "outputs": [
        {
          "output_type": "stream",
          "text": [
            "Best ML Params: {'learning_rate': 0.2, 'loss': 'huber', 'max_depth': 6, 'max_features': 'sqrt', 'min_samples_leaf': 50, 'n_estimators': 1500}\n",
            "\n",
            "0.236 (+/-0.16) for {'learning_rate': 0.05, 'loss': 'huber', 'max_depth': 5, 'max_features': 'sqrt', 'min_samples_leaf': 50, 'n_estimators': 500}\n",
            "0.249 (+/-0.17) for {'learning_rate': 0.05, 'loss': 'huber', 'max_depth': 5, 'max_features': 'sqrt', 'min_samples_leaf': 50, 'n_estimators': 1000}\n",
            "0.253 (+/-0.173) for {'learning_rate': 0.05, 'loss': 'huber', 'max_depth': 5, 'max_features': 'sqrt', 'min_samples_leaf': 50, 'n_estimators': 1500}\n",
            "0.24 (+/-0.159) for {'learning_rate': 0.05, 'loss': 'huber', 'max_depth': 6, 'max_features': 'sqrt', 'min_samples_leaf': 50, 'n_estimators': 500}\n",
            "0.252 (+/-0.173) for {'learning_rate': 0.05, 'loss': 'huber', 'max_depth': 6, 'max_features': 'sqrt', 'min_samples_leaf': 50, 'n_estimators': 1000}\n",
            "0.255 (+/-0.173) for {'learning_rate': 0.05, 'loss': 'huber', 'max_depth': 6, 'max_features': 'sqrt', 'min_samples_leaf': 50, 'n_estimators': 1500}\n",
            "0.246 (+/-0.162) for {'learning_rate': 0.05, 'loss': 'huber', 'max_depth': 7, 'max_features': 'sqrt', 'min_samples_leaf': 50, 'n_estimators': 500}\n",
            "0.256 (+/-0.177) for {'learning_rate': 0.05, 'loss': 'huber', 'max_depth': 7, 'max_features': 'sqrt', 'min_samples_leaf': 50, 'n_estimators': 1000}\n",
            "0.258 (+/-0.176) for {'learning_rate': 0.05, 'loss': 'huber', 'max_depth': 7, 'max_features': 'sqrt', 'min_samples_leaf': 50, 'n_estimators': 1500}\n",
            "0.249 (+/-0.168) for {'learning_rate': 0.1, 'loss': 'huber', 'max_depth': 5, 'max_features': 'sqrt', 'min_samples_leaf': 50, 'n_estimators': 500}\n",
            "0.255 (+/-0.175) for {'learning_rate': 0.1, 'loss': 'huber', 'max_depth': 5, 'max_features': 'sqrt', 'min_samples_leaf': 50, 'n_estimators': 1000}\n",
            "0.258 (+/-0.179) for {'learning_rate': 0.1, 'loss': 'huber', 'max_depth': 5, 'max_features': 'sqrt', 'min_samples_leaf': 50, 'n_estimators': 1500}\n",
            "0.254 (+/-0.17) for {'learning_rate': 0.1, 'loss': 'huber', 'max_depth': 6, 'max_features': 'sqrt', 'min_samples_leaf': 50, 'n_estimators': 500}\n",
            "0.258 (+/-0.175) for {'learning_rate': 0.1, 'loss': 'huber', 'max_depth': 6, 'max_features': 'sqrt', 'min_samples_leaf': 50, 'n_estimators': 1000}\n",
            "0.259 (+/-0.179) for {'learning_rate': 0.1, 'loss': 'huber', 'max_depth': 6, 'max_features': 'sqrt', 'min_samples_leaf': 50, 'n_estimators': 1500}\n",
            "0.254 (+/-0.171) for {'learning_rate': 0.1, 'loss': 'huber', 'max_depth': 7, 'max_features': 'sqrt', 'min_samples_leaf': 50, 'n_estimators': 500}\n",
            "0.258 (+/-0.176) for {'learning_rate': 0.1, 'loss': 'huber', 'max_depth': 7, 'max_features': 'sqrt', 'min_samples_leaf': 50, 'n_estimators': 1000}\n",
            "0.262 (+/-0.176) for {'learning_rate': 0.1, 'loss': 'huber', 'max_depth': 7, 'max_features': 'sqrt', 'min_samples_leaf': 50, 'n_estimators': 1500}\n",
            "0.258 (+/-0.176) for {'learning_rate': 0.2, 'loss': 'huber', 'max_depth': 5, 'max_features': 'sqrt', 'min_samples_leaf': 50, 'n_estimators': 500}\n",
            "0.256 (+/-0.174) for {'learning_rate': 0.2, 'loss': 'huber', 'max_depth': 5, 'max_features': 'sqrt', 'min_samples_leaf': 50, 'n_estimators': 1000}\n",
            "0.262 (+/-0.185) for {'learning_rate': 0.2, 'loss': 'huber', 'max_depth': 5, 'max_features': 'sqrt', 'min_samples_leaf': 50, 'n_estimators': 1500}\n",
            "0.257 (+/-0.175) for {'learning_rate': 0.2, 'loss': 'huber', 'max_depth': 6, 'max_features': 'sqrt', 'min_samples_leaf': 50, 'n_estimators': 500}\n",
            "0.26 (+/-0.178) for {'learning_rate': 0.2, 'loss': 'huber', 'max_depth': 6, 'max_features': 'sqrt', 'min_samples_leaf': 50, 'n_estimators': 1000}\n",
            "0.265 (+/-0.186) for {'learning_rate': 0.2, 'loss': 'huber', 'max_depth': 6, 'max_features': 'sqrt', 'min_samples_leaf': 50, 'n_estimators': 1500}\n",
            "0.258 (+/-0.177) for {'learning_rate': 0.2, 'loss': 'huber', 'max_depth': 7, 'max_features': 'sqrt', 'min_samples_leaf': 50, 'n_estimators': 500}\n",
            "0.26 (+/-0.179) for {'learning_rate': 0.2, 'loss': 'huber', 'max_depth': 7, 'max_features': 'sqrt', 'min_samples_leaf': 50, 'n_estimators': 1000}\n",
            "0.262 (+/-0.185) for {'learning_rate': 0.2, 'loss': 'huber', 'max_depth': 7, 'max_features': 'sqrt', 'min_samples_leaf': 50, 'n_estimators': 1500}\n"
          ],
          "name": "stdout"
        }
      ]
    },
    {
      "cell_type": "markdown",
      "metadata": {
        "id": "uBz5ePoMQIFR"
      },
      "source": [
        "#####Since we found the hyperparameters, running the model with them finally."
      ]
    },
    {
      "cell_type": "code",
      "metadata": {
        "id": "-MPdpuBwct7C"
      },
      "source": [
        "gbModelbest = GradientBoostingRegressor(\n",
        "    n_estimators=1500,      # Number of decision trees \n",
        "    learning_rate=0.2,      # How much time spent learning the parameters\n",
        "    max_depth=6,            # Max depth for any decision tree\n",
        "    min_samples_leaf=50,     # Minimum number of types of house to sample\n",
        "    max_features='sqrt',   # Max percentage of features to take into account by a tree\n",
        "    loss='huber'            # The function with which to calculate the errors made by the model\n",
        ")"
      ],
      "execution_count": 9,
      "outputs": []
    },
    {
      "cell_type": "code",
      "metadata": {
        "colab": {
          "base_uri": "https://localhost:8080/"
        },
        "id": "slyKUSx1GIHe",
        "outputId": "5094b20b-8e8f-459f-95b5-d093ef9f95dc"
      },
      "source": [
        "gbModelbest.fit(trainF, trainL)"
      ],
      "execution_count": 10,
      "outputs": [
        {
          "output_type": "execute_result",
          "data": {
            "text/plain": [
              "GradientBoostingRegressor(alpha=0.9, ccp_alpha=0.0, criterion='friedman_mse',\n",
              "                          init=None, learning_rate=0.2, loss='huber',\n",
              "                          max_depth=6, max_features='sqrt', max_leaf_nodes=None,\n",
              "                          min_impurity_decrease=0.0, min_impurity_split=None,\n",
              "                          min_samples_leaf=50, min_samples_split=2,\n",
              "                          min_weight_fraction_leaf=0.0, n_estimators=1500,\n",
              "                          n_iter_no_change=None, presort='deprecated',\n",
              "                          random_state=None, subsample=1.0, tol=0.0001,\n",
              "                          validation_fraction=0.1, verbose=0, warm_start=False)"
            ]
          },
          "metadata": {
            "tags": []
          },
          "execution_count": 10
        }
      ]
    },
    {
      "cell_type": "code",
      "metadata": {
        "colab": {
          "base_uri": "https://localhost:8080/"
        },
        "id": "oxSx5ohbGQyF",
        "outputId": "01984faf-9e62-4b02-d7d3-ca85c7e98803"
      },
      "source": [
        "msae = mean_absolute_error(trainL, gbModelbest.predict(trainF))\n",
        "print(msae)"
      ],
      "execution_count": 11,
      "outputs": [
        {
          "output_type": "stream",
          "text": [
            "9684394.693166891\n"
          ],
          "name": "stdout"
        }
      ]
    },
    {
      "cell_type": "code",
      "metadata": {
        "colab": {
          "base_uri": "https://localhost:8080/"
        },
        "id": "-eGMy_R3GbGb",
        "outputId": "fc7424ad-1a7e-4807-ee6a-4984c2b6fdcf"
      },
      "source": [
        "msae = mean_absolute_error(testL, gbModelbest.predict(testF))\n",
        "print(msae)"
      ],
      "execution_count": 12,
      "outputs": [
        {
          "output_type": "stream",
          "text": [
            "9047223.297105655\n"
          ],
          "name": "stdout"
        }
      ]
    },
    {
      "cell_type": "code",
      "metadata": {
        "colab": {
          "base_uri": "https://localhost:8080/"
        },
        "id": "w747O0qISOPX",
        "outputId": "980bb5b9-a94d-491a-86e2-4ba6aba6446a"
      },
      "source": [
        "print(\"Model Accuracy: %.3f\" % gbModelbest.score(trainF, trainL))"
      ],
      "execution_count": 13,
      "outputs": [
        {
          "output_type": "stream",
          "text": [
            "Model Accuracy: 0.244\n"
          ],
          "name": "stdout"
        }
      ]
    },
    {
      "cell_type": "code",
      "metadata": {
        "colab": {
          "base_uri": "https://localhost:8080/"
        },
        "id": "KuH36aHpSABh",
        "outputId": "88fe6ed3-94c7-40f0-cf59-e15ef75ba116"
      },
      "source": [
        "print(\"Model Accuracy: %.3f\" % gbModelbest.score(testF, testL))"
      ],
      "execution_count": 14,
      "outputs": [
        {
          "output_type": "stream",
          "text": [
            "Model Accuracy: 0.377\n"
          ],
          "name": "stdout"
        }
      ]
    },
    {
      "cell_type": "markdown",
      "metadata": {
        "id": "6ZMs5OGDQxnL"
      },
      "source": [
        "##### Calculating the feature variance of the model, lets us compare the predicted labels and the original values for the test set, visualizing the same helps us understand the fitting of the model."
      ]
    },
    {
      "cell_type": "code",
      "metadata": {
        "colab": {
          "base_uri": "https://localhost:8080/",
          "height": 585
        },
        "id": "PT_RFnb-JpFa",
        "outputId": "ef763e76-8f5e-421c-a3bf-9da59770765f"
      },
      "source": [
        "gbr_params ={\n",
        "    \"n_estimators\" :1500,      # Number of decision trees \n",
        "    \"learning_rate\":0.2,      # How much time spent learning the parameters\n",
        "    \"max_depth\":6,            # Max depth for any decision tree\n",
        "    \"min_samples_leaf\":50,     # Minimum number of types of house to sample\n",
        "    \"max_features\":'sqrt'}\n",
        "test_score = np.zeros((gbr_params['n_estimators'],), dtype=np.float64)\n",
        "for i, y_pred in enumerate(gbModelbest.staged_predict(testF)):\n",
        "    test_score[i] = gbModelbest.loss_(testL, y_pred)\n",
        " \n",
        "fig = plt.figure(figsize=(8, 8))\n",
        "plt.subplot(1, 1, 1)\n",
        "plt.title('Deviance')\n",
        "plt.plot(np.arange(gbr_params['n_estimators']) + 1, gbModelbest.train_score_, 'b-',\n",
        "         label='Training Set Deviance')\n",
        "plt.plot(np.arange(gbr_params['n_estimators']) + 1, test_score, 'r-',\n",
        "         label='Test Set Deviance')\n",
        "plt.legend(loc='upper right')\n",
        "plt.xlabel('Boosting Iterations')\n",
        "plt.ylabel('Deviance')\n",
        "fig.tight_layout()\n",
        "plt.show()"
      ],
      "execution_count": 17,
      "outputs": [
        {
          "output_type": "display_data",
          "data": {
            "image/png": "[encoded data removed]",
            "text/plain": [
              "<Figure size 576x576 with 1 Axes>"
            ]
          },
          "metadata": {
            "tags": [],
            "needs_background": "light"
          }
        }
      ]
    },
    {
      "cell_type": "markdown",
      "metadata": {
        "id": "m20ifLjRRbWs"
      },
      "source": [
        "##### Observation from the graph:"
      ]
    },
    {
      "cell_type": "markdown",
      "metadata": {
        "id": "Q0hv0WdoGl5u"
      },
      "source": [
        "##Sample prediction"
      ]
    },
    {
      "cell_type": "markdown",
      "metadata": {
        "id": "s-oU4zYdRiom"
      },
      "source": [
        "##### Importing the sample dataset from a csv file"
      ]
    },
    {
      "cell_type": "code",
      "metadata": {
        "id": "5ig0U-SJGomd"
      },
      "source": [
        "sampleDf = pd.read_csv('./sampleML2.csv')"
      ],
      "execution_count": 18,
      "outputs": []
    },
    {
      "cell_type": "code",
      "metadata": {
        "colab": {
          "base_uri": "https://localhost:8080/",
          "height": 129
        },
        "id": "EZjxwjx6H3q5",
        "outputId": "a6773e3c-2bfa-47d3-cb8e-8edde232be95"
      },
      "source": [
        "sampleDf.head()"
      ],
      "execution_count": 19,
      "outputs": [
        {
          "output_type": "execute_result",
          "data": {
            "text/html": [
              "<div>\n",
              "<style scoped>\n",
              "    .dataframe tbody tr th:only-of-type {\n",
              "        vertical-align: middle;\n",
              "    }\n",
              "\n",
              "    .dataframe tbody tr th {\n",
              "        vertical-align: top;\n",
              "    }\n",
              "\n",
              "    .dataframe thead th {\n",
              "        text-align: right;\n",
              "    }\n",
              "</style>\n",
              "<table border=\"1\" class=\"dataframe\">\n",
              "  <thead>\n",
              "    <tr style=\"text-align: right;\">\n",
              "      <th></th>\n",
              "      <th>procedure_area</th>\n",
              "      <th>Year</th>\n",
              "      <th>Month</th>\n",
              "      <th>area_id_230.0</th>\n",
              "      <th>area_id_231.0</th>\n",
              "      <th>area_id_232.0</th>\n",
              "      <th>area_id_233.0</th>\n",
              "      <th>area_id_234.0</th>\n",
              "      <th>area_id_235.0</th>\n",
              "      <th>area_id_237.0</th>\n",
              "      <th>area_id_238.0</th>\n",
              "      <th>area_id_239.0</th>\n",
              "      <th>area_id_240.0</th>\n",
              "      <th>area_id_242.0</th>\n",
              "      <th>area_id_244.0</th>\n",
              "      <th>area_id_247.0</th>\n",
              "      <th>area_id_248.0</th>\n",
              "      <th>area_id_249.0</th>\n",
              "      <th>area_id_254.0</th>\n",
              "      <th>area_id_255.0</th>\n",
              "      <th>area_id_264.0</th>\n",
              "      <th>area_id_266.0</th>\n",
              "      <th>area_id_267.0</th>\n",
              "      <th>area_id_269.0</th>\n",
              "      <th>area_id_271.0</th>\n",
              "      <th>area_id_276.0</th>\n",
              "      <th>area_id_278.0</th>\n",
              "      <th>area_id_295.0</th>\n",
              "      <th>area_id_297.0</th>\n",
              "      <th>area_id_298.0</th>\n",
              "      <th>area_id_299.0</th>\n",
              "      <th>area_id_300.0</th>\n",
              "      <th>area_id_301.0</th>\n",
              "      <th>area_id_303.0</th>\n",
              "      <th>area_id_304.0</th>\n",
              "      <th>area_id_305.0</th>\n",
              "      <th>area_id_306.0</th>\n",
              "      <th>area_id_307.0</th>\n",
              "      <th>area_id_308.0</th>\n",
              "      <th>area_id_309.0</th>\n",
              "      <th>...</th>\n",
              "      <th>area_id_476.0</th>\n",
              "      <th>area_id_477.0</th>\n",
              "      <th>area_id_478.0</th>\n",
              "      <th>area_id_479.0</th>\n",
              "      <th>area_id_480.0</th>\n",
              "      <th>area_id_481.0</th>\n",
              "      <th>area_id_482.0</th>\n",
              "      <th>area_id_483.0</th>\n",
              "      <th>area_id_484.0</th>\n",
              "      <th>area_id_485.0</th>\n",
              "      <th>area_id_489.0</th>\n",
              "      <th>area_id_492.0</th>\n",
              "      <th>area_id_493.0</th>\n",
              "      <th>area_id_497.0</th>\n",
              "      <th>area_id_499.0</th>\n",
              "      <th>area_id_500.0</th>\n",
              "      <th>area_id_502.0</th>\n",
              "      <th>area_id_503.0</th>\n",
              "      <th>area_id_504.0</th>\n",
              "      <th>area_id_506.0</th>\n",
              "      <th>area_id_507.0</th>\n",
              "      <th>area_id_508.0</th>\n",
              "      <th>area_id_509.0</th>\n",
              "      <th>area_id_514.0</th>\n",
              "      <th>area_id_522.0</th>\n",
              "      <th>area_id_523.0</th>\n",
              "      <th>area_id_524.0</th>\n",
              "      <th>area_id_525.0</th>\n",
              "      <th>area_id_526.0</th>\n",
              "      <th>area_id_527.0</th>\n",
              "      <th>area_id_528.0</th>\n",
              "      <th>area_id_531.0</th>\n",
              "      <th>property_type_id_1</th>\n",
              "      <th>property_type_id_2</th>\n",
              "      <th>property_type_id_3</th>\n",
              "      <th>property_category_1</th>\n",
              "      <th>property_category_2</th>\n",
              "      <th>property_category_3</th>\n",
              "      <th>row_status_1</th>\n",
              "      <th>row_status_3</th>\n",
              "    </tr>\n",
              "  </thead>\n",
              "  <tbody>\n",
              "    <tr>\n",
              "      <th>0</th>\n",
              "      <td>236.44</td>\n",
              "      <td>2022</td>\n",
              "      <td>1</td>\n",
              "      <td>0</td>\n",
              "      <td>0</td>\n",
              "      <td>0</td>\n",
              "      <td>0</td>\n",
              "      <td>0</td>\n",
              "      <td>0</td>\n",
              "      <td>0</td>\n",
              "      <td>0</td>\n",
              "      <td>0</td>\n",
              "      <td>0</td>\n",
              "      <td>0</td>\n",
              "      <td>0</td>\n",
              "      <td>0</td>\n",
              "      <td>0</td>\n",
              "      <td>0</td>\n",
              "      <td>0</td>\n",
              "      <td>0</td>\n",
              "      <td>0</td>\n",
              "      <td>0</td>\n",
              "      <td>0</td>\n",
              "      <td>0</td>\n",
              "      <td>0</td>\n",
              "      <td>0</td>\n",
              "      <td>0</td>\n",
              "      <td>0</td>\n",
              "      <td>0</td>\n",
              "      <td>0</td>\n",
              "      <td>0</td>\n",
              "      <td>0</td>\n",
              "      <td>0</td>\n",
              "      <td>0</td>\n",
              "      <td>0</td>\n",
              "      <td>0</td>\n",
              "      <td>0</td>\n",
              "      <td>0</td>\n",
              "      <td>0</td>\n",
              "      <td>0</td>\n",
              "      <td>...</td>\n",
              "      <td>0</td>\n",
              "      <td>0</td>\n",
              "      <td>0</td>\n",
              "      <td>0</td>\n",
              "      <td>0</td>\n",
              "      <td>0</td>\n",
              "      <td>0</td>\n",
              "      <td>0</td>\n",
              "      <td>0</td>\n",
              "      <td>0</td>\n",
              "      <td>0</td>\n",
              "      <td>0</td>\n",
              "      <td>0</td>\n",
              "      <td>0</td>\n",
              "      <td>0</td>\n",
              "      <td>0</td>\n",
              "      <td>0</td>\n",
              "      <td>0</td>\n",
              "      <td>0</td>\n",
              "      <td>0</td>\n",
              "      <td>0</td>\n",
              "      <td>0</td>\n",
              "      <td>0</td>\n",
              "      <td>0</td>\n",
              "      <td>0</td>\n",
              "      <td>0</td>\n",
              "      <td>0</td>\n",
              "      <td>0</td>\n",
              "      <td>0</td>\n",
              "      <td>0</td>\n",
              "      <td>0</td>\n",
              "      <td>0</td>\n",
              "      <td>0</td>\n",
              "      <td>1</td>\n",
              "      <td>0</td>\n",
              "      <td>0</td>\n",
              "      <td>1</td>\n",
              "      <td>0</td>\n",
              "      <td>1</td>\n",
              "      <td>0</td>\n",
              "    </tr>\n",
              "  </tbody>\n",
              "</table>\n",
              "<p>1 rows × 195 columns</p>\n",
              "</div>"
            ],
            "text/plain": [
              "   procedure_area  Year  Month  ...  property_category_3  row_status_1  row_status_3\n",
              "0          236.44  2022      1  ...                    0             1             0\n",
              "\n",
              "[1 rows x 195 columns]"
            ]
          },
          "metadata": {
            "tags": []
          },
          "execution_count": 19
        }
      ]
    },
    {
      "cell_type": "markdown",
      "metadata": {
        "id": "Ti47icrXRw5O"
      },
      "source": [
        "######Using the model to predict the target variable, property_total_value for the sample dataset"
      ]
    },
    {
      "cell_type": "code",
      "metadata": {
        "id": "e7bzMxzqH6bp"
      },
      "source": [
        "val = gbModelbest.predict(sampleDf)"
      ],
      "execution_count": 20,
      "outputs": []
    },
    {
      "cell_type": "code",
      "metadata": {
        "colab": {
          "base_uri": "https://localhost:8080/"
        },
        "id": "8eMIJBh5IkTu",
        "outputId": "3137a2e6-c005-4279-ad05-683e7cc90cf3"
      },
      "source": [
        "print(val)"
      ],
      "execution_count": 21,
      "outputs": [
        {
          "output_type": "stream",
          "text": [
            "[1827299.71557244]\n"
          ],
          "name": "stdout"
        }
      ]
    }
  ]
}