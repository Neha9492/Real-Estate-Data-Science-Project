{
  "nbformat": 4,
  "nbformat_minor": 0,
  "metadata": {
    "colab": {
      "name": "Real_Estate_Dubai_Analysis_ValuationCleaningEDA.ipynb",
      "provenance": [],
      "collapsed_sections": [
        "KooiwrEYfcCF",
        "3MBEWRUsahDm",
        "XOfWGaITa-R0",
        "DvpzgoJCbENZ",
        "9BS3AUnBbysJ",
        "7u3-lMS8eI3d",
        "NWAx3im6f91c",
        "VCocBrhqg6aA"
      ]
    },
    "kernelspec": {
      "name": "python3",
      "display_name": "Python 3"
    },
    "language_info": {
      "name": "python"
    }
  },
  "cells": [
    {
      "cell_type": "markdown",
      "metadata": {
        "id": "AWFatUL35QZP"
      },
      "source": [
        "#Real Estate of Dubai - Analysis and Prediction\n",
        "##Valuation Dataset\n",
        "Fields in this dataset are as below:\n",
        "\n",
        "*   Row status\n",
        "*   Property_Id\n",
        "\n",
        "*   Property Type\n",
        "*   Property Sub Type\n",
        "\n",
        "*   Valuation date\n",
        "*   Procedure and Actual area in sq ft\n",
        "\n",
        "*   Valuation amount as actual_worth and total_value"
      ]
    },
    {
      "cell_type": "markdown",
      "metadata": {
        "id": "KooiwrEYfcCF"
      },
      "source": [
        "###Importing libraries and dataset"
      ]
    },
    {
      "cell_type": "code",
      "metadata": {
        "id": "1cwrzIKG5H4L"
      },
      "source": [
        "#import Libraries\n",
        "import pandas as pd\n",
        "import numpy as np\n",
        "\n",
        "import matplotlib.pyplot as plt\n",
        "import seaborn as sns\n",
        "import plotly.express as px\n",
        "\n",
        "%matplotlib inline"
      ],
      "execution_count": 567,
      "outputs": []
    },
    {
      "cell_type": "code",
      "metadata": {
        "id": "sLcX0CzW5xdm"
      },
      "source": [
        "#Import datasets from the csv files\n",
        "vdf = pd.read_csv('./Valuation.csv')\n"
      ],
      "execution_count": 568,
      "outputs": []
    },
    {
      "cell_type": "code",
      "metadata": {
        "id": "BIJownHj-EWW"
      },
      "source": [
        "#tdf = pd.read_csv('./Transactions.csv')"
      ],
      "execution_count": 569,
      "outputs": []
    },
    {
      "cell_type": "code",
      "metadata": {
        "colab": {
          "base_uri": "https://localhost:8080/",
          "height": 0
        },
        "id": "7FkY49UK8wEg",
        "outputId": "20d6cb1e-857f-4723-8635-1de156c1fb8e"
      },
      "source": [
        "#head() gives us first few rows of the dataframe, this gives a peek into the content of the dataframe\n",
        "vdf.head()"
      ],
      "execution_count": 570,
      "outputs": [
        {
          "output_type": "execute_result",
          "data": {
            "text/html": [
              "<div>\n",
              "<style scoped>\n",
              "    .dataframe tbody tr th:only-of-type {\n",
              "        vertical-align: middle;\n",
              "    }\n",
              "\n",
              "    .dataframe tbody tr th {\n",
              "        vertical-align: top;\n",
              "    }\n",
              "\n",
              "    .dataframe thead th {\n",
              "        text-align: right;\n",
              "    }\n",
              "</style>\n",
              "<table border=\"1\" class=\"dataframe\">\n",
              "  <thead>\n",
              "    <tr style=\"text-align: right;\">\n",
              "      <th></th>\n",
              "      <th>procedure_id</th>\n",
              "      <th>procedure_name_ar</th>\n",
              "      <th>procedure_name_en</th>\n",
              "      <th>procedure_year</th>\n",
              "      <th>procedure_number</th>\n",
              "      <th>instance_date</th>\n",
              "      <th>actual_worth</th>\n",
              "      <th>row_status_code</th>\n",
              "      <th>procedure_area</th>\n",
              "      <th>property_type_id</th>\n",
              "      <th>property_type_ar</th>\n",
              "      <th>property_type_en</th>\n",
              "      <th>property_sub_type_id</th>\n",
              "      <th>property_sub_type_ar</th>\n",
              "      <th>property_sub_type_en</th>\n",
              "      <th>area_id</th>\n",
              "      <th>area_name_ar</th>\n",
              "      <th>area_name_en</th>\n",
              "      <th>actual_area</th>\n",
              "      <th>property_total_value</th>\n",
              "    </tr>\n",
              "  </thead>\n",
              "  <tbody>\n",
              "    <tr>\n",
              "      <th>0</th>\n",
              "      <td>24</td>\n",
              "      <td>تقييم عقار</td>\n",
              "      <td>Property Evaluation</td>\n",
              "      <td>2005</td>\n",
              "      <td>254</td>\n",
              "      <td>30-04-2005</td>\n",
              "      <td>9750000</td>\n",
              "      <td>COMPLETED</td>\n",
              "      <td>697</td>\n",
              "      <td>1</td>\n",
              "      <td>ارض</td>\n",
              "      <td>Land</td>\n",
              "      <td>62</td>\n",
              "      <td>تجارية</td>\n",
              "      <td>Commercial</td>\n",
              "      <td>239</td>\n",
              "      <td>البراحه</td>\n",
              "      <td>Al Baraha</td>\n",
              "      <td>697</td>\n",
              "      <td>9750000</td>\n",
              "    </tr>\n",
              "    <tr>\n",
              "      <th>1</th>\n",
              "      <td>24</td>\n",
              "      <td>تقييم عقار</td>\n",
              "      <td>Property Evaluation</td>\n",
              "      <td>2001</td>\n",
              "      <td>259</td>\n",
              "      <td>23-10-2001</td>\n",
              "      <td>0</td>\n",
              "      <td>COMPLETED</td>\n",
              "      <td>1159</td>\n",
              "      <td>1</td>\n",
              "      <td>ارض</td>\n",
              "      <td>Land</td>\n",
              "      <td>63</td>\n",
              "      <td>سكنية</td>\n",
              "      <td>Residential</td>\n",
              "      <td>318</td>\n",
              "      <td>جميرا الثالثه</td>\n",
              "      <td>Jumeirah Third</td>\n",
              "      <td>1159</td>\n",
              "      <td>nan</td>\n",
              "    </tr>\n",
              "    <tr>\n",
              "      <th>2</th>\n",
              "      <td>24</td>\n",
              "      <td>تقييم عقار</td>\n",
              "      <td>Property Evaluation</td>\n",
              "      <td>2009</td>\n",
              "      <td>261</td>\n",
              "      <td>16-03-2009</td>\n",
              "      <td>39883500</td>\n",
              "      <td>COMPLETED</td>\n",
              "      <td>2470</td>\n",
              "      <td>1</td>\n",
              "      <td>ارض</td>\n",
              "      <td>Land</td>\n",
              "      <td>62</td>\n",
              "      <td>تجارية</td>\n",
              "      <td>Commercial</td>\n",
              "      <td>368</td>\n",
              "      <td>البرشاء الاولى</td>\n",
              "      <td>Al Barsha First</td>\n",
              "      <td>2470</td>\n",
              "      <td>39883500</td>\n",
              "    </tr>\n",
              "    <tr>\n",
              "      <th>3</th>\n",
              "      <td>24</td>\n",
              "      <td>تقييم عقار</td>\n",
              "      <td>Property Evaluation</td>\n",
              "      <td>2004</td>\n",
              "      <td>268</td>\n",
              "      <td>18-04-2004</td>\n",
              "      <td>4000000</td>\n",
              "      <td>COMPLETED</td>\n",
              "      <td>4455</td>\n",
              "      <td>1</td>\n",
              "      <td>ارض</td>\n",
              "      <td>Land</td>\n",
              "      <td>11</td>\n",
              "      <td>مخازن او مستودعات</td>\n",
              "      <td>Warehouse</td>\n",
              "      <td>319</td>\n",
              "      <td>راس الخور الصناعيه الثانيه</td>\n",
              "      <td>Ras Al Khor Industrial Second</td>\n",
              "      <td>4455</td>\n",
              "      <td>4000000</td>\n",
              "    </tr>\n",
              "    <tr>\n",
              "      <th>4</th>\n",
              "      <td>24</td>\n",
              "      <td>تقييم عقار</td>\n",
              "      <td>Property Evaluation</td>\n",
              "      <td>2006</td>\n",
              "      <td>272</td>\n",
              "      <td>22-03-2006</td>\n",
              "      <td>3000000</td>\n",
              "      <td>COMPLETED</td>\n",
              "      <td>1394</td>\n",
              "      <td>1</td>\n",
              "      <td>ارض</td>\n",
              "      <td>Land</td>\n",
              "      <td>63</td>\n",
              "      <td>سكنية</td>\n",
              "      <td>Residential</td>\n",
              "      <td>369</td>\n",
              "      <td>البرشاء الثالثه</td>\n",
              "      <td>Al Barsha Third</td>\n",
              "      <td>1394</td>\n",
              "      <td>3000000</td>\n",
              "    </tr>\n",
              "  </tbody>\n",
              "</table>\n",
              "</div>"
            ],
            "text/plain": [
              "   procedure_id procedure_name_ar  ... actual_area  property_total_value\n",
              "0            24        تقييم عقار  ...         697               9750000\n",
              "1            24        تقييم عقار  ...        1159                   nan\n",
              "2            24        تقييم عقار  ...        2470              39883500\n",
              "3            24        تقييم عقار  ...        4455               4000000\n",
              "4            24        تقييم عقار  ...        1394               3000000\n",
              "\n",
              "[5 rows x 20 columns]"
            ]
          },
          "metadata": {
            "tags": []
          },
          "execution_count": 570
        }
      ]
    },
    {
      "cell_type": "code",
      "metadata": {
        "id": "RF6CGIOZ8x7-"
      },
      "source": [
        "#tdf.head()"
      ],
      "execution_count": 571,
      "outputs": []
    },
    {
      "cell_type": "markdown",
      "metadata": {
        "id": "Autpfyhafm3H"
      },
      "source": [
        "###Dropping columns and understanding metadata"
      ]
    },
    {
      "cell_type": "code",
      "metadata": {
        "id": "cHldbS_P8z6A"
      },
      "source": [
        "#dropping fields which are either redundant or not required for our project\n",
        "#the arabic values are translated into english values in a different column, so we are removing the arabic columns\n",
        "vdf = vdf.drop(['procedure_id','procedure_name_ar','procedure_name_en','property_type_ar','property_sub_type_ar','area_name_ar'],axis=1)"
      ],
      "execution_count": 572,
      "outputs": []
    },
    {
      "cell_type": "code",
      "metadata": {
        "colab": {
          "base_uri": "https://localhost:8080/",
          "height": 290
        },
        "id": "BEMfy-bU-2AP",
        "outputId": "fdaa14fc-8016-497e-fa8e-017f29a30814"
      },
      "source": [
        "vdf.head()"
      ],
      "execution_count": 573,
      "outputs": [
        {
          "output_type": "execute_result",
          "data": {
            "text/html": [
              "<div>\n",
              "<style scoped>\n",
              "    .dataframe tbody tr th:only-of-type {\n",
              "        vertical-align: middle;\n",
              "    }\n",
              "\n",
              "    .dataframe tbody tr th {\n",
              "        vertical-align: top;\n",
              "    }\n",
              "\n",
              "    .dataframe thead th {\n",
              "        text-align: right;\n",
              "    }\n",
              "</style>\n",
              "<table border=\"1\" class=\"dataframe\">\n",
              "  <thead>\n",
              "    <tr style=\"text-align: right;\">\n",
              "      <th></th>\n",
              "      <th>procedure_year</th>\n",
              "      <th>procedure_number</th>\n",
              "      <th>instance_date</th>\n",
              "      <th>actual_worth</th>\n",
              "      <th>row_status_code</th>\n",
              "      <th>procedure_area</th>\n",
              "      <th>property_type_id</th>\n",
              "      <th>property_type_en</th>\n",
              "      <th>property_sub_type_id</th>\n",
              "      <th>property_sub_type_en</th>\n",
              "      <th>area_id</th>\n",
              "      <th>area_name_en</th>\n",
              "      <th>actual_area</th>\n",
              "      <th>property_total_value</th>\n",
              "    </tr>\n",
              "  </thead>\n",
              "  <tbody>\n",
              "    <tr>\n",
              "      <th>0</th>\n",
              "      <td>2005</td>\n",
              "      <td>254</td>\n",
              "      <td>30-04-2005</td>\n",
              "      <td>9750000</td>\n",
              "      <td>COMPLETED</td>\n",
              "      <td>697</td>\n",
              "      <td>1</td>\n",
              "      <td>Land</td>\n",
              "      <td>62</td>\n",
              "      <td>Commercial</td>\n",
              "      <td>239</td>\n",
              "      <td>Al Baraha</td>\n",
              "      <td>697</td>\n",
              "      <td>9750000</td>\n",
              "    </tr>\n",
              "    <tr>\n",
              "      <th>1</th>\n",
              "      <td>2001</td>\n",
              "      <td>259</td>\n",
              "      <td>23-10-2001</td>\n",
              "      <td>0</td>\n",
              "      <td>COMPLETED</td>\n",
              "      <td>1159</td>\n",
              "      <td>1</td>\n",
              "      <td>Land</td>\n",
              "      <td>63</td>\n",
              "      <td>Residential</td>\n",
              "      <td>318</td>\n",
              "      <td>Jumeirah Third</td>\n",
              "      <td>1159</td>\n",
              "      <td>nan</td>\n",
              "    </tr>\n",
              "    <tr>\n",
              "      <th>2</th>\n",
              "      <td>2009</td>\n",
              "      <td>261</td>\n",
              "      <td>16-03-2009</td>\n",
              "      <td>39883500</td>\n",
              "      <td>COMPLETED</td>\n",
              "      <td>2470</td>\n",
              "      <td>1</td>\n",
              "      <td>Land</td>\n",
              "      <td>62</td>\n",
              "      <td>Commercial</td>\n",
              "      <td>368</td>\n",
              "      <td>Al Barsha First</td>\n",
              "      <td>2470</td>\n",
              "      <td>39883500</td>\n",
              "    </tr>\n",
              "    <tr>\n",
              "      <th>3</th>\n",
              "      <td>2004</td>\n",
              "      <td>268</td>\n",
              "      <td>18-04-2004</td>\n",
              "      <td>4000000</td>\n",
              "      <td>COMPLETED</td>\n",
              "      <td>4455</td>\n",
              "      <td>1</td>\n",
              "      <td>Land</td>\n",
              "      <td>11</td>\n",
              "      <td>Warehouse</td>\n",
              "      <td>319</td>\n",
              "      <td>Ras Al Khor Industrial Second</td>\n",
              "      <td>4455</td>\n",
              "      <td>4000000</td>\n",
              "    </tr>\n",
              "    <tr>\n",
              "      <th>4</th>\n",
              "      <td>2006</td>\n",
              "      <td>272</td>\n",
              "      <td>22-03-2006</td>\n",
              "      <td>3000000</td>\n",
              "      <td>COMPLETED</td>\n",
              "      <td>1394</td>\n",
              "      <td>1</td>\n",
              "      <td>Land</td>\n",
              "      <td>63</td>\n",
              "      <td>Residential</td>\n",
              "      <td>369</td>\n",
              "      <td>Al Barsha Third</td>\n",
              "      <td>1394</td>\n",
              "      <td>3000000</td>\n",
              "    </tr>\n",
              "  </tbody>\n",
              "</table>\n",
              "</div>"
            ],
            "text/plain": [
              "   procedure_year  procedure_number  ... actual_area  property_total_value\n",
              "0            2005               254  ...         697               9750000\n",
              "1            2001               259  ...        1159                   nan\n",
              "2            2009               261  ...        2470              39883500\n",
              "3            2004               268  ...        4455               4000000\n",
              "4            2006               272  ...        1394               3000000\n",
              "\n",
              "[5 rows x 14 columns]"
            ]
          },
          "metadata": {
            "tags": []
          },
          "execution_count": 573
        }
      ]
    },
    {
      "cell_type": "code",
      "metadata": {
        "id": "gKyiLa-CCjhE"
      },
      "source": [
        "#dropping fields which are either redundant or not required for our project\n",
        "#tdf = tdf.drop(['procedure_id','procedure_name_ar','property_type_ar','area_name_ar','property_sub_type_ar','reg_type_ar'], axis=1)"
      ],
      "execution_count": 574,
      "outputs": []
    },
    {
      "cell_type": "code",
      "metadata": {
        "colab": {
          "base_uri": "https://localhost:8080/"
        },
        "id": "tDj7PuI_8U5a",
        "outputId": "6f3fb475-15dc-4299-b7a6-72d5fdb7ab8d"
      },
      "source": [
        "#info() gives understanding of the metadata in the dataframe\n",
        "vdf.info()"
      ],
      "execution_count": 575,
      "outputs": [
        {
          "output_type": "stream",
          "text": [
            "<class 'pandas.core.frame.DataFrame'>\n",
            "RangeIndex: 59389 entries, 0 to 59388\n",
            "Data columns (total 14 columns):\n",
            " #   Column                Non-Null Count  Dtype  \n",
            "---  ------                --------------  -----  \n",
            " 0   procedure_year        59389 non-null  int64  \n",
            " 1   procedure_number      59389 non-null  int64  \n",
            " 2   instance_date         59389 non-null  object \n",
            " 3   actual_worth          59326 non-null  float64\n",
            " 4   row_status_code       59389 non-null  object \n",
            " 5   procedure_area        59373 non-null  float64\n",
            " 6   property_type_id      59389 non-null  int64  \n",
            " 7   property_type_en      59389 non-null  object \n",
            " 8   property_sub_type_id  55564 non-null  float64\n",
            " 9   property_sub_type_en  55564 non-null  object \n",
            " 10  area_id               59387 non-null  float64\n",
            " 11  area_name_en          59387 non-null  object \n",
            " 12  actual_area           59389 non-null  float64\n",
            " 13  property_total_value  58672 non-null  float64\n",
            "dtypes: float64(6), int64(3), object(5)\n",
            "memory usage: 6.3+ MB\n"
          ],
          "name": "stdout"
        }
      ]
    },
    {
      "cell_type": "code",
      "metadata": {
        "id": "m0-mjlIn3lCW",
        "colab": {
          "base_uri": "https://localhost:8080/",
          "height": 315
        },
        "outputId": "6d14723b-afa8-40cb-d5b3-983e444e031d"
      },
      "source": [
        "#describe() helps us understand statistical information like mean etc\n",
        "vdf.describe()"
      ],
      "execution_count": 576,
      "outputs": [
        {
          "output_type": "execute_result",
          "data": {
            "text/html": [
              "<div>\n",
              "<style scoped>\n",
              "    .dataframe tbody tr th:only-of-type {\n",
              "        vertical-align: middle;\n",
              "    }\n",
              "\n",
              "    .dataframe tbody tr th {\n",
              "        vertical-align: top;\n",
              "    }\n",
              "\n",
              "    .dataframe thead th {\n",
              "        text-align: right;\n",
              "    }\n",
              "</style>\n",
              "<table border=\"1\" class=\"dataframe\">\n",
              "  <thead>\n",
              "    <tr style=\"text-align: right;\">\n",
              "      <th></th>\n",
              "      <th>procedure_year</th>\n",
              "      <th>procedure_number</th>\n",
              "      <th>actual_worth</th>\n",
              "      <th>procedure_area</th>\n",
              "      <th>property_type_id</th>\n",
              "      <th>property_sub_type_id</th>\n",
              "      <th>area_id</th>\n",
              "      <th>actual_area</th>\n",
              "      <th>property_total_value</th>\n",
              "    </tr>\n",
              "  </thead>\n",
              "  <tbody>\n",
              "    <tr>\n",
              "      <th>count</th>\n",
              "      <td>59389</td>\n",
              "      <td>59389</td>\n",
              "      <td>59326</td>\n",
              "      <td>59373</td>\n",
              "      <td>59389</td>\n",
              "      <td>55564</td>\n",
              "      <td>59387</td>\n",
              "      <td>59389</td>\n",
              "      <td>58672</td>\n",
              "    </tr>\n",
              "    <tr>\n",
              "      <th>mean</th>\n",
              "      <td>2015</td>\n",
              "      <td>2632</td>\n",
              "      <td>35506326</td>\n",
              "      <td>14925</td>\n",
              "      <td>2</td>\n",
              "      <td>57</td>\n",
              "      <td>359</td>\n",
              "      <td>13280</td>\n",
              "      <td>35861295</td>\n",
              "    </tr>\n",
              "    <tr>\n",
              "      <th>std</th>\n",
              "      <td>4</td>\n",
              "      <td>2111</td>\n",
              "      <td>225592833</td>\n",
              "      <td>385436</td>\n",
              "      <td>1</td>\n",
              "      <td>15</td>\n",
              "      <td>79</td>\n",
              "      <td>391687</td>\n",
              "      <td>226468603</td>\n",
              "    </tr>\n",
              "    <tr>\n",
              "      <th>min</th>\n",
              "      <td>2000</td>\n",
              "      <td>1</td>\n",
              "      <td>-1</td>\n",
              "      <td>0</td>\n",
              "      <td>1</td>\n",
              "      <td>1</td>\n",
              "      <td>230</td>\n",
              "      <td>0</td>\n",
              "      <td>0</td>\n",
              "    </tr>\n",
              "    <tr>\n",
              "      <th>25%</th>\n",
              "      <td>2013</td>\n",
              "      <td>820</td>\n",
              "      <td>1821507</td>\n",
              "      <td>208</td>\n",
              "      <td>1</td>\n",
              "      <td>60</td>\n",
              "      <td>306</td>\n",
              "      <td>209</td>\n",
              "      <td>1927112</td>\n",
              "    </tr>\n",
              "    <tr>\n",
              "      <th>50%</th>\n",
              "      <td>2016</td>\n",
              "      <td>2117</td>\n",
              "      <td>5874206</td>\n",
              "      <td>1022</td>\n",
              "      <td>1</td>\n",
              "      <td>62</td>\n",
              "      <td>350</td>\n",
              "      <td>1022</td>\n",
              "      <td>6000000</td>\n",
              "    </tr>\n",
              "    <tr>\n",
              "      <th>75%</th>\n",
              "      <td>2018</td>\n",
              "      <td>4045</td>\n",
              "      <td>21000000</td>\n",
              "      <td>2787</td>\n",
              "      <td>2</td>\n",
              "      <td>63</td>\n",
              "      <td>410</td>\n",
              "      <td>2774</td>\n",
              "      <td>21607652</td>\n",
              "    </tr>\n",
              "    <tr>\n",
              "      <th>max</th>\n",
              "      <td>2021</td>\n",
              "      <td>8334</td>\n",
              "      <td>16384019200</td>\n",
              "      <td>50706244</td>\n",
              "      <td>3</td>\n",
              "      <td>113</td>\n",
              "      <td>531</td>\n",
              "      <td>52472793</td>\n",
              "      <td>16384019200</td>\n",
              "    </tr>\n",
              "  </tbody>\n",
              "</table>\n",
              "</div>"
            ],
            "text/plain": [
              "       procedure_year  procedure_number  ...  actual_area  property_total_value\n",
              "count           59389             59389  ...        59389                 58672\n",
              "mean             2015              2632  ...        13280              35861295\n",
              "std                 4              2111  ...       391687             226468603\n",
              "min              2000                 1  ...            0                     0\n",
              "25%              2013               820  ...          209               1927112\n",
              "50%              2016              2117  ...         1022               6000000\n",
              "75%              2018              4045  ...         2774              21607652\n",
              "max              2021              8334  ...     52472793           16384019200\n",
              "\n",
              "[8 rows x 9 columns]"
            ]
          },
          "metadata": {
            "tags": []
          },
          "execution_count": 576
        }
      ]
    },
    {
      "cell_type": "markdown",
      "metadata": {
        "id": "96-Q8wjqaQeG"
      },
      "source": [
        "####Numeric values in 0 or negative values are basically junk data entered, we will look into removing them or replacing them.\n",
        "*Procedure year is from 2000 to 2021\n",
        "*Min area is 0\n",
        "*Min worth and value is -1"
      ]
    },
    {
      "cell_type": "markdown",
      "metadata": {
        "id": "3MBEWRUsahDm"
      },
      "source": [
        "###Row_status_code"
      ]
    },
    {
      "cell_type": "code",
      "metadata": {
        "colab": {
          "base_uri": "https://localhost:8080/",
          "height": 0
        },
        "id": "OgQnK00cCS3D",
        "outputId": "a0f089ec-b978-4e20-b6b5-0c6e2d7a397d"
      },
      "source": [
        "#Removing the rows in \"Cancelled\" or \"Entered\" development status as it is not relevant to our study\n",
        "actualvDf = vdf[vdf.row_status_code != \"CANCELLED\"]\n",
        "actualvDf = vdf[vdf.row_status_code != \"ENTERED\"]\n",
        "actualvDf.head()"
      ],
      "execution_count": 577,
      "outputs": [
        {
          "output_type": "execute_result",
          "data": {
            "text/html": [
              "<div>\n",
              "<style scoped>\n",
              "    .dataframe tbody tr th:only-of-type {\n",
              "        vertical-align: middle;\n",
              "    }\n",
              "\n",
              "    .dataframe tbody tr th {\n",
              "        vertical-align: top;\n",
              "    }\n",
              "\n",
              "    .dataframe thead th {\n",
              "        text-align: right;\n",
              "    }\n",
              "</style>\n",
              "<table border=\"1\" class=\"dataframe\">\n",
              "  <thead>\n",
              "    <tr style=\"text-align: right;\">\n",
              "      <th></th>\n",
              "      <th>procedure_year</th>\n",
              "      <th>procedure_number</th>\n",
              "      <th>instance_date</th>\n",
              "      <th>actual_worth</th>\n",
              "      <th>row_status_code</th>\n",
              "      <th>procedure_area</th>\n",
              "      <th>property_type_id</th>\n",
              "      <th>property_type_en</th>\n",
              "      <th>property_sub_type_id</th>\n",
              "      <th>property_sub_type_en</th>\n",
              "      <th>area_id</th>\n",
              "      <th>area_name_en</th>\n",
              "      <th>actual_area</th>\n",
              "      <th>property_total_value</th>\n",
              "    </tr>\n",
              "  </thead>\n",
              "  <tbody>\n",
              "    <tr>\n",
              "      <th>0</th>\n",
              "      <td>2005</td>\n",
              "      <td>254</td>\n",
              "      <td>30-04-2005</td>\n",
              "      <td>9750000</td>\n",
              "      <td>COMPLETED</td>\n",
              "      <td>697</td>\n",
              "      <td>1</td>\n",
              "      <td>Land</td>\n",
              "      <td>62</td>\n",
              "      <td>Commercial</td>\n",
              "      <td>239</td>\n",
              "      <td>Al Baraha</td>\n",
              "      <td>697</td>\n",
              "      <td>9750000</td>\n",
              "    </tr>\n",
              "    <tr>\n",
              "      <th>1</th>\n",
              "      <td>2001</td>\n",
              "      <td>259</td>\n",
              "      <td>23-10-2001</td>\n",
              "      <td>0</td>\n",
              "      <td>COMPLETED</td>\n",
              "      <td>1159</td>\n",
              "      <td>1</td>\n",
              "      <td>Land</td>\n",
              "      <td>63</td>\n",
              "      <td>Residential</td>\n",
              "      <td>318</td>\n",
              "      <td>Jumeirah Third</td>\n",
              "      <td>1159</td>\n",
              "      <td>nan</td>\n",
              "    </tr>\n",
              "    <tr>\n",
              "      <th>2</th>\n",
              "      <td>2009</td>\n",
              "      <td>261</td>\n",
              "      <td>16-03-2009</td>\n",
              "      <td>39883500</td>\n",
              "      <td>COMPLETED</td>\n",
              "      <td>2470</td>\n",
              "      <td>1</td>\n",
              "      <td>Land</td>\n",
              "      <td>62</td>\n",
              "      <td>Commercial</td>\n",
              "      <td>368</td>\n",
              "      <td>Al Barsha First</td>\n",
              "      <td>2470</td>\n",
              "      <td>39883500</td>\n",
              "    </tr>\n",
              "    <tr>\n",
              "      <th>3</th>\n",
              "      <td>2004</td>\n",
              "      <td>268</td>\n",
              "      <td>18-04-2004</td>\n",
              "      <td>4000000</td>\n",
              "      <td>COMPLETED</td>\n",
              "      <td>4455</td>\n",
              "      <td>1</td>\n",
              "      <td>Land</td>\n",
              "      <td>11</td>\n",
              "      <td>Warehouse</td>\n",
              "      <td>319</td>\n",
              "      <td>Ras Al Khor Industrial Second</td>\n",
              "      <td>4455</td>\n",
              "      <td>4000000</td>\n",
              "    </tr>\n",
              "    <tr>\n",
              "      <th>4</th>\n",
              "      <td>2006</td>\n",
              "      <td>272</td>\n",
              "      <td>22-03-2006</td>\n",
              "      <td>3000000</td>\n",
              "      <td>COMPLETED</td>\n",
              "      <td>1394</td>\n",
              "      <td>1</td>\n",
              "      <td>Land</td>\n",
              "      <td>63</td>\n",
              "      <td>Residential</td>\n",
              "      <td>369</td>\n",
              "      <td>Al Barsha Third</td>\n",
              "      <td>1394</td>\n",
              "      <td>3000000</td>\n",
              "    </tr>\n",
              "  </tbody>\n",
              "</table>\n",
              "</div>"
            ],
            "text/plain": [
              "   procedure_year  procedure_number  ... actual_area  property_total_value\n",
              "0            2005               254  ...         697               9750000\n",
              "1            2001               259  ...        1159                   nan\n",
              "2            2009               261  ...        2470              39883500\n",
              "3            2004               268  ...        4455               4000000\n",
              "4            2006               272  ...        1394               3000000\n",
              "\n",
              "[5 rows x 14 columns]"
            ]
          },
          "metadata": {
            "tags": []
          },
          "execution_count": 577
        }
      ]
    },
    {
      "cell_type": "code",
      "metadata": {
        "id": "-FK-gt-7R-xb"
      },
      "source": [
        "#row_status_code encoding the stautses to numeric values\n",
        "statusgroups = {1: \"COMPLETED\",\n",
        "                  2: \"ENTERED\",\n",
        "                  3: \"None\"\n",
        "                   }\n",
        "def statusgroup(row_status_code):\n",
        "    if row_status_code == 'COMPLETED':\n",
        "       return \"1\"\n",
        "    elif row_status_code == 'ENTERED':\n",
        "       return \"2\"\n",
        "    else:\n",
        "      return \"3\""
      ],
      "execution_count": 578,
      "outputs": []
    },
    {
      "cell_type": "code",
      "metadata": {
        "colab": {
          "base_uri": "https://localhost:8080/",
          "height": 0
        },
        "id": "3x_hR-SWSnLB",
        "outputId": "08f54614-8769-4bb6-f6fc-0526c516f318"
      },
      "source": [
        "actualvDf['row_status']= actualvDf['row_status_code'].apply(statusgroup)\n",
        "actualvDf.head()"
      ],
      "execution_count": 579,
      "outputs": [
        {
          "output_type": "stream",
          "text": [
            "/usr/local/lib/python3.7/dist-packages/ipykernel_launcher.py:1: SettingWithCopyWarning:\n",
            "\n",
            "\n",
            "A value is trying to be set on a copy of a slice from a DataFrame.\n",
            "Try using .loc[row_indexer,col_indexer] = value instead\n",
            "\n",
            "See the caveats in the documentation: https://pandas.pydata.org/pandas-docs/stable/user_guide/indexing.html#returning-a-view-versus-a-copy\n",
            "\n"
          ],
          "name": "stderr"
        },
        {
          "output_type": "execute_result",
          "data": {
            "text/html": [
              "<div>\n",
              "<style scoped>\n",
              "    .dataframe tbody tr th:only-of-type {\n",
              "        vertical-align: middle;\n",
              "    }\n",
              "\n",
              "    .dataframe tbody tr th {\n",
              "        vertical-align: top;\n",
              "    }\n",
              "\n",
              "    .dataframe thead th {\n",
              "        text-align: right;\n",
              "    }\n",
              "</style>\n",
              "<table border=\"1\" class=\"dataframe\">\n",
              "  <thead>\n",
              "    <tr style=\"text-align: right;\">\n",
              "      <th></th>\n",
              "      <th>procedure_year</th>\n",
              "      <th>procedure_number</th>\n",
              "      <th>instance_date</th>\n",
              "      <th>actual_worth</th>\n",
              "      <th>row_status_code</th>\n",
              "      <th>procedure_area</th>\n",
              "      <th>property_type_id</th>\n",
              "      <th>property_type_en</th>\n",
              "      <th>property_sub_type_id</th>\n",
              "      <th>property_sub_type_en</th>\n",
              "      <th>area_id</th>\n",
              "      <th>area_name_en</th>\n",
              "      <th>actual_area</th>\n",
              "      <th>property_total_value</th>\n",
              "      <th>row_status</th>\n",
              "    </tr>\n",
              "  </thead>\n",
              "  <tbody>\n",
              "    <tr>\n",
              "      <th>0</th>\n",
              "      <td>2005</td>\n",
              "      <td>254</td>\n",
              "      <td>30-04-2005</td>\n",
              "      <td>9750000</td>\n",
              "      <td>COMPLETED</td>\n",
              "      <td>697</td>\n",
              "      <td>1</td>\n",
              "      <td>Land</td>\n",
              "      <td>62</td>\n",
              "      <td>Commercial</td>\n",
              "      <td>239</td>\n",
              "      <td>Al Baraha</td>\n",
              "      <td>697</td>\n",
              "      <td>9750000</td>\n",
              "      <td>1</td>\n",
              "    </tr>\n",
              "    <tr>\n",
              "      <th>1</th>\n",
              "      <td>2001</td>\n",
              "      <td>259</td>\n",
              "      <td>23-10-2001</td>\n",
              "      <td>0</td>\n",
              "      <td>COMPLETED</td>\n",
              "      <td>1159</td>\n",
              "      <td>1</td>\n",
              "      <td>Land</td>\n",
              "      <td>63</td>\n",
              "      <td>Residential</td>\n",
              "      <td>318</td>\n",
              "      <td>Jumeirah Third</td>\n",
              "      <td>1159</td>\n",
              "      <td>nan</td>\n",
              "      <td>1</td>\n",
              "    </tr>\n",
              "    <tr>\n",
              "      <th>2</th>\n",
              "      <td>2009</td>\n",
              "      <td>261</td>\n",
              "      <td>16-03-2009</td>\n",
              "      <td>39883500</td>\n",
              "      <td>COMPLETED</td>\n",
              "      <td>2470</td>\n",
              "      <td>1</td>\n",
              "      <td>Land</td>\n",
              "      <td>62</td>\n",
              "      <td>Commercial</td>\n",
              "      <td>368</td>\n",
              "      <td>Al Barsha First</td>\n",
              "      <td>2470</td>\n",
              "      <td>39883500</td>\n",
              "      <td>1</td>\n",
              "    </tr>\n",
              "    <tr>\n",
              "      <th>3</th>\n",
              "      <td>2004</td>\n",
              "      <td>268</td>\n",
              "      <td>18-04-2004</td>\n",
              "      <td>4000000</td>\n",
              "      <td>COMPLETED</td>\n",
              "      <td>4455</td>\n",
              "      <td>1</td>\n",
              "      <td>Land</td>\n",
              "      <td>11</td>\n",
              "      <td>Warehouse</td>\n",
              "      <td>319</td>\n",
              "      <td>Ras Al Khor Industrial Second</td>\n",
              "      <td>4455</td>\n",
              "      <td>4000000</td>\n",
              "      <td>1</td>\n",
              "    </tr>\n",
              "    <tr>\n",
              "      <th>4</th>\n",
              "      <td>2006</td>\n",
              "      <td>272</td>\n",
              "      <td>22-03-2006</td>\n",
              "      <td>3000000</td>\n",
              "      <td>COMPLETED</td>\n",
              "      <td>1394</td>\n",
              "      <td>1</td>\n",
              "      <td>Land</td>\n",
              "      <td>63</td>\n",
              "      <td>Residential</td>\n",
              "      <td>369</td>\n",
              "      <td>Al Barsha Third</td>\n",
              "      <td>1394</td>\n",
              "      <td>3000000</td>\n",
              "      <td>1</td>\n",
              "    </tr>\n",
              "  </tbody>\n",
              "</table>\n",
              "</div>"
            ],
            "text/plain": [
              "   procedure_year  procedure_number  ... property_total_value  row_status\n",
              "0            2005               254  ...              9750000           1\n",
              "1            2001               259  ...                  nan           1\n",
              "2            2009               261  ...             39883500           1\n",
              "3            2004               268  ...              4000000           1\n",
              "4            2006               272  ...              3000000           1\n",
              "\n",
              "[5 rows x 15 columns]"
            ]
          },
          "metadata": {
            "tags": []
          },
          "execution_count": 579
        }
      ]
    },
    {
      "cell_type": "code",
      "metadata": {
        "colab": {
          "base_uri": "https://localhost:8080/",
          "height": 0
        },
        "id": "JN88VStOTBz1",
        "outputId": "2c9fcf49-dd07-4487-f96a-b699a6f83199"
      },
      "source": [
        "#Drop row_status_code column\n",
        "actualvDf=actualvDf.drop(['row_status_code'],axis=1)\n",
        "actualvDf.head()"
      ],
      "execution_count": 580,
      "outputs": [
        {
          "output_type": "execute_result",
          "data": {
            "text/html": [
              "<div>\n",
              "<style scoped>\n",
              "    .dataframe tbody tr th:only-of-type {\n",
              "        vertical-align: middle;\n",
              "    }\n",
              "\n",
              "    .dataframe tbody tr th {\n",
              "        vertical-align: top;\n",
              "    }\n",
              "\n",
              "    .dataframe thead th {\n",
              "        text-align: right;\n",
              "    }\n",
              "</style>\n",
              "<table border=\"1\" class=\"dataframe\">\n",
              "  <thead>\n",
              "    <tr style=\"text-align: right;\">\n",
              "      <th></th>\n",
              "      <th>procedure_year</th>\n",
              "      <th>procedure_number</th>\n",
              "      <th>instance_date</th>\n",
              "      <th>actual_worth</th>\n",
              "      <th>procedure_area</th>\n",
              "      <th>property_type_id</th>\n",
              "      <th>property_type_en</th>\n",
              "      <th>property_sub_type_id</th>\n",
              "      <th>property_sub_type_en</th>\n",
              "      <th>area_id</th>\n",
              "      <th>area_name_en</th>\n",
              "      <th>actual_area</th>\n",
              "      <th>property_total_value</th>\n",
              "      <th>row_status</th>\n",
              "    </tr>\n",
              "  </thead>\n",
              "  <tbody>\n",
              "    <tr>\n",
              "      <th>0</th>\n",
              "      <td>2005</td>\n",
              "      <td>254</td>\n",
              "      <td>30-04-2005</td>\n",
              "      <td>9750000</td>\n",
              "      <td>697</td>\n",
              "      <td>1</td>\n",
              "      <td>Land</td>\n",
              "      <td>62</td>\n",
              "      <td>Commercial</td>\n",
              "      <td>239</td>\n",
              "      <td>Al Baraha</td>\n",
              "      <td>697</td>\n",
              "      <td>9750000</td>\n",
              "      <td>1</td>\n",
              "    </tr>\n",
              "    <tr>\n",
              "      <th>1</th>\n",
              "      <td>2001</td>\n",
              "      <td>259</td>\n",
              "      <td>23-10-2001</td>\n",
              "      <td>0</td>\n",
              "      <td>1159</td>\n",
              "      <td>1</td>\n",
              "      <td>Land</td>\n",
              "      <td>63</td>\n",
              "      <td>Residential</td>\n",
              "      <td>318</td>\n",
              "      <td>Jumeirah Third</td>\n",
              "      <td>1159</td>\n",
              "      <td>nan</td>\n",
              "      <td>1</td>\n",
              "    </tr>\n",
              "    <tr>\n",
              "      <th>2</th>\n",
              "      <td>2009</td>\n",
              "      <td>261</td>\n",
              "      <td>16-03-2009</td>\n",
              "      <td>39883500</td>\n",
              "      <td>2470</td>\n",
              "      <td>1</td>\n",
              "      <td>Land</td>\n",
              "      <td>62</td>\n",
              "      <td>Commercial</td>\n",
              "      <td>368</td>\n",
              "      <td>Al Barsha First</td>\n",
              "      <td>2470</td>\n",
              "      <td>39883500</td>\n",
              "      <td>1</td>\n",
              "    </tr>\n",
              "    <tr>\n",
              "      <th>3</th>\n",
              "      <td>2004</td>\n",
              "      <td>268</td>\n",
              "      <td>18-04-2004</td>\n",
              "      <td>4000000</td>\n",
              "      <td>4455</td>\n",
              "      <td>1</td>\n",
              "      <td>Land</td>\n",
              "      <td>11</td>\n",
              "      <td>Warehouse</td>\n",
              "      <td>319</td>\n",
              "      <td>Ras Al Khor Industrial Second</td>\n",
              "      <td>4455</td>\n",
              "      <td>4000000</td>\n",
              "      <td>1</td>\n",
              "    </tr>\n",
              "    <tr>\n",
              "      <th>4</th>\n",
              "      <td>2006</td>\n",
              "      <td>272</td>\n",
              "      <td>22-03-2006</td>\n",
              "      <td>3000000</td>\n",
              "      <td>1394</td>\n",
              "      <td>1</td>\n",
              "      <td>Land</td>\n",
              "      <td>63</td>\n",
              "      <td>Residential</td>\n",
              "      <td>369</td>\n",
              "      <td>Al Barsha Third</td>\n",
              "      <td>1394</td>\n",
              "      <td>3000000</td>\n",
              "      <td>1</td>\n",
              "    </tr>\n",
              "  </tbody>\n",
              "</table>\n",
              "</div>"
            ],
            "text/plain": [
              "   procedure_year  procedure_number  ... property_total_value  row_status\n",
              "0            2005               254  ...              9750000           1\n",
              "1            2001               259  ...                  nan           1\n",
              "2            2009               261  ...             39883500           1\n",
              "3            2004               268  ...              4000000           1\n",
              "4            2006               272  ...              3000000           1\n",
              "\n",
              "[5 rows x 14 columns]"
            ]
          },
          "metadata": {
            "tags": []
          },
          "execution_count": 580
        }
      ]
    },
    {
      "cell_type": "markdown",
      "metadata": {
        "id": "qhbVDKKNgzlu"
      },
      "source": [
        "###Actual_worth and Property_total_value"
      ]
    },
    {
      "cell_type": "code",
      "metadata": {
        "colab": {
          "base_uri": "https://localhost:8080/"
        },
        "id": "eeM5POIVi0it",
        "outputId": "d4b6f8ee-0fa6-4911-9c76-da9c4b1adb32"
      },
      "source": [
        "actualvDf.shape"
      ],
      "execution_count": 581,
      "outputs": [
        {
          "output_type": "execute_result",
          "data": {
            "text/plain": [
              "(59200, 14)"
            ]
          },
          "metadata": {
            "tags": []
          },
          "execution_count": 581
        }
      ]
    },
    {
      "cell_type": "code",
      "metadata": {
        "colab": {
          "base_uri": "https://localhost:8080/"
        },
        "id": "FGnk-B8DIYUy",
        "outputId": "55daad6d-d7bc-4daf-b400-b7e2952a881a"
      },
      "source": [
        "#correlation 0.99 is very strongly correlated so we can drop the one of the column:\n",
        "actualvDf.isnull().sum()"
      ],
      "execution_count": 582,
      "outputs": [
        {
          "output_type": "execute_result",
          "data": {
            "text/plain": [
              "procedure_year             0\n",
              "procedure_number           0\n",
              "instance_date              0\n",
              "actual_worth              14\n",
              "procedure_area            16\n",
              "property_type_id           0\n",
              "property_type_en           0\n",
              "property_sub_type_id    3813\n",
              "property_sub_type_en    3813\n",
              "area_id                    2\n",
              "area_name_en               2\n",
              "actual_area                0\n",
              "property_total_value     668\n",
              "row_status                 0\n",
              "dtype: int64"
            ]
          },
          "metadata": {
            "tags": []
          },
          "execution_count": 582
        }
      ]
    },
    {
      "cell_type": "code",
      "metadata": {
        "colab": {
          "base_uri": "https://localhost:8080/"
        },
        "id": "bc2LTQr0B-e-",
        "outputId": "d47b3a1b-7832-4493-82c1-99e6c852e8a0"
      },
      "source": [
        "#Remove null values from actual_worth\n",
        "actualvDf = actualvDf[actualvDf.actual_worth != 0]\n",
        "actualvDf = actualvDf[actualvDf.actual_worth != \"null\"]\n",
        "actualvDf.shape"
      ],
      "execution_count": 583,
      "outputs": [
        {
          "output_type": "execute_result",
          "data": {
            "text/plain": [
              "(58408, 14)"
            ]
          },
          "metadata": {
            "tags": []
          },
          "execution_count": 583
        }
      ]
    },
    {
      "cell_type": "code",
      "metadata": {
        "colab": {
          "base_uri": "https://localhost:8080/",
          "height": 504
        },
        "id": "TdYTh5h7W8tu",
        "outputId": "d9e563fc-61de-487c-cc19-8564b4d262d7"
      },
      "source": [
        "actualvDf['value_comp'] = np.where(actualvDf['actual_worth'] == actualvDf['property_total_value'],1,0)\n",
        "actualvDf.loc[actualvDf['value_comp'] == 0]"
      ],
      "execution_count": 584,
      "outputs": [
        {
          "output_type": "execute_result",
          "data": {
            "text/html": [
              "<div>\n",
              "<style scoped>\n",
              "    .dataframe tbody tr th:only-of-type {\n",
              "        vertical-align: middle;\n",
              "    }\n",
              "\n",
              "    .dataframe tbody tr th {\n",
              "        vertical-align: top;\n",
              "    }\n",
              "\n",
              "    .dataframe thead th {\n",
              "        text-align: right;\n",
              "    }\n",
              "</style>\n",
              "<table border=\"1\" class=\"dataframe\">\n",
              "  <thead>\n",
              "    <tr style=\"text-align: right;\">\n",
              "      <th></th>\n",
              "      <th>procedure_year</th>\n",
              "      <th>procedure_number</th>\n",
              "      <th>instance_date</th>\n",
              "      <th>actual_worth</th>\n",
              "      <th>procedure_area</th>\n",
              "      <th>property_type_id</th>\n",
              "      <th>property_type_en</th>\n",
              "      <th>property_sub_type_id</th>\n",
              "      <th>property_sub_type_en</th>\n",
              "      <th>area_id</th>\n",
              "      <th>area_name_en</th>\n",
              "      <th>actual_area</th>\n",
              "      <th>property_total_value</th>\n",
              "      <th>row_status</th>\n",
              "      <th>value_comp</th>\n",
              "    </tr>\n",
              "  </thead>\n",
              "  <tbody>\n",
              "    <tr>\n",
              "      <th>298</th>\n",
              "      <td>2009</td>\n",
              "      <td>1215</td>\n",
              "      <td>15-02-2010</td>\n",
              "      <td>-1</td>\n",
              "      <td>334</td>\n",
              "      <td>1</td>\n",
              "      <td>Land</td>\n",
              "      <td>63</td>\n",
              "      <td>Residential</td>\n",
              "      <td>300</td>\n",
              "      <td>Al Rashidiya</td>\n",
              "      <td>334</td>\n",
              "      <td>1100000</td>\n",
              "      <td>1</td>\n",
              "      <td>0</td>\n",
              "    </tr>\n",
              "    <tr>\n",
              "      <th>301</th>\n",
              "      <td>2009</td>\n",
              "      <td>1167</td>\n",
              "      <td>16-02-2010</td>\n",
              "      <td>-1</td>\n",
              "      <td>11524</td>\n",
              "      <td>1</td>\n",
              "      <td>Land</td>\n",
              "      <td>62</td>\n",
              "      <td>Commercial</td>\n",
              "      <td>371</td>\n",
              "      <td>Al Safouh Second</td>\n",
              "      <td>11524</td>\n",
              "      <td>23320272</td>\n",
              "      <td>1</td>\n",
              "      <td>0</td>\n",
              "    </tr>\n",
              "    <tr>\n",
              "      <th>303</th>\n",
              "      <td>2009</td>\n",
              "      <td>1163</td>\n",
              "      <td>21-02-2010</td>\n",
              "      <td>-1</td>\n",
              "      <td>10654</td>\n",
              "      <td>1</td>\n",
              "      <td>Land</td>\n",
              "      <td>62</td>\n",
              "      <td>Commercial</td>\n",
              "      <td>371</td>\n",
              "      <td>Al Safouh Second</td>\n",
              "      <td>10654</td>\n",
              "      <td>33028416</td>\n",
              "      <td>1</td>\n",
              "      <td>0</td>\n",
              "    </tr>\n",
              "    <tr>\n",
              "      <th>305</th>\n",
              "      <td>2009</td>\n",
              "      <td>1134</td>\n",
              "      <td>23-02-2010</td>\n",
              "      <td>-1</td>\n",
              "      <td>272</td>\n",
              "      <td>1</td>\n",
              "      <td>Land</td>\n",
              "      <td>62</td>\n",
              "      <td>Commercial</td>\n",
              "      <td>238</td>\n",
              "      <td>Al Dhagaya</td>\n",
              "      <td>272</td>\n",
              "      <td>3950100</td>\n",
              "      <td>1</td>\n",
              "      <td>0</td>\n",
              "    </tr>\n",
              "    <tr>\n",
              "      <th>341</th>\n",
              "      <td>2010</td>\n",
              "      <td>574</td>\n",
              "      <td>14-04-2010</td>\n",
              "      <td>2150000</td>\n",
              "      <td>1375</td>\n",
              "      <td>1</td>\n",
              "      <td>Land</td>\n",
              "      <td>63</td>\n",
              "      <td>Residential</td>\n",
              "      <td>311</td>\n",
              "      <td>Muhaisanah Third</td>\n",
              "      <td>1375</td>\n",
              "      <td>1998000</td>\n",
              "      <td>1</td>\n",
              "      <td>0</td>\n",
              "    </tr>\n",
              "    <tr>\n",
              "      <th>...</th>\n",
              "      <td>...</td>\n",
              "      <td>...</td>\n",
              "      <td>...</td>\n",
              "      <td>...</td>\n",
              "      <td>...</td>\n",
              "      <td>...</td>\n",
              "      <td>...</td>\n",
              "      <td>...</td>\n",
              "      <td>...</td>\n",
              "      <td>...</td>\n",
              "      <td>...</td>\n",
              "      <td>...</td>\n",
              "      <td>...</td>\n",
              "      <td>...</td>\n",
              "      <td>...</td>\n",
              "    </tr>\n",
              "    <tr>\n",
              "      <th>53351</th>\n",
              "      <td>2019</td>\n",
              "      <td>892</td>\n",
              "      <td>05-03-2019</td>\n",
              "      <td>nan</td>\n",
              "      <td>1800</td>\n",
              "      <td>1</td>\n",
              "      <td>Land</td>\n",
              "      <td>62</td>\n",
              "      <td>Commercial</td>\n",
              "      <td>264</td>\n",
              "      <td>Nad Al Hamar</td>\n",
              "      <td>1800</td>\n",
              "      <td>nan</td>\n",
              "      <td>1</td>\n",
              "      <td>0</td>\n",
              "    </tr>\n",
              "    <tr>\n",
              "      <th>53352</th>\n",
              "      <td>2019</td>\n",
              "      <td>893</td>\n",
              "      <td>05-03-2019</td>\n",
              "      <td>nan</td>\n",
              "      <td>3000</td>\n",
              "      <td>1</td>\n",
              "      <td>Land</td>\n",
              "      <td>62</td>\n",
              "      <td>Commercial</td>\n",
              "      <td>264</td>\n",
              "      <td>Nad Al Hamar</td>\n",
              "      <td>3000</td>\n",
              "      <td>nan</td>\n",
              "      <td>1</td>\n",
              "      <td>0</td>\n",
              "    </tr>\n",
              "    <tr>\n",
              "      <th>53713</th>\n",
              "      <td>2020</td>\n",
              "      <td>538</td>\n",
              "      <td>16-02-2020</td>\n",
              "      <td>24923423</td>\n",
              "      <td>26016</td>\n",
              "      <td>1</td>\n",
              "      <td>Land</td>\n",
              "      <td>64</td>\n",
              "      <td>Agricultural</td>\n",
              "      <td>401</td>\n",
              "      <td>Wadi Al Amardi</td>\n",
              "      <td>26016</td>\n",
              "      <td>25000000</td>\n",
              "      <td>1</td>\n",
              "      <td>0</td>\n",
              "    </tr>\n",
              "    <tr>\n",
              "      <th>55384</th>\n",
              "      <td>2020</td>\n",
              "      <td>2401</td>\n",
              "      <td>13-09-2020</td>\n",
              "      <td>nan</td>\n",
              "      <td>43</td>\n",
              "      <td>3</td>\n",
              "      <td>Unit</td>\n",
              "      <td>60</td>\n",
              "      <td>Flat</td>\n",
              "      <td>467</td>\n",
              "      <td>Wadi Al Safa 5</td>\n",
              "      <td>43</td>\n",
              "      <td>nan</td>\n",
              "      <td>1</td>\n",
              "      <td>0</td>\n",
              "    </tr>\n",
              "    <tr>\n",
              "      <th>58007</th>\n",
              "      <td>2021</td>\n",
              "      <td>1850</td>\n",
              "      <td>18-05-2021</td>\n",
              "      <td>3352350</td>\n",
              "      <td>264</td>\n",
              "      <td>3</td>\n",
              "      <td>Unit</td>\n",
              "      <td>42</td>\n",
              "      <td>Office</td>\n",
              "      <td>465</td>\n",
              "      <td>Wadi Al Safa 3</td>\n",
              "      <td>264</td>\n",
              "      <td>3405741</td>\n",
              "      <td>3</td>\n",
              "      <td>0</td>\n",
              "    </tr>\n",
              "  </tbody>\n",
              "</table>\n",
              "<p>583 rows × 15 columns</p>\n",
              "</div>"
            ],
            "text/plain": [
              "       procedure_year  procedure_number  ... row_status  value_comp\n",
              "298              2009              1215  ...          1           0\n",
              "301              2009              1167  ...          1           0\n",
              "303              2009              1163  ...          1           0\n",
              "305              2009              1134  ...          1           0\n",
              "341              2010               574  ...          1           0\n",
              "...               ...               ...  ...        ...         ...\n",
              "53351            2019               892  ...          1           0\n",
              "53352            2019               893  ...          1           0\n",
              "53713            2020               538  ...          1           0\n",
              "55384            2020              2401  ...          1           0\n",
              "58007            2021              1850  ...          3           0\n",
              "\n",
              "[583 rows x 15 columns]"
            ]
          },
          "metadata": {
            "tags": []
          },
          "execution_count": 584
        }
      ]
    },
    {
      "cell_type": "markdown",
      "metadata": {
        "id": "XOfWGaITa-R0"
      },
      "source": [
        "###Property_type"
      ]
    },
    {
      "cell_type": "code",
      "metadata": {
        "colab": {
          "base_uri": "https://localhost:8080/",
          "height": 0
        },
        "id": "frZo2roDK0Qo",
        "outputId": "46ca393f-1cd2-44e3-9d81-13eed3b1e700"
      },
      "source": [
        "#property_type_en and property_type_id are categorical to same values as below:\n",
        "#Land: 1\n",
        "#Building: 2\n",
        "#Unit: 3\n",
        "#Dropping property_type_en as it is encoded in property_type_id\n",
        "actualvDf=actualvDf.drop(['property_type_en'],axis=1)\n",
        "actualvDf.head()"
      ],
      "execution_count": 585,
      "outputs": [
        {
          "output_type": "execute_result",
          "data": {
            "text/html": [
              "<div>\n",
              "<style scoped>\n",
              "    .dataframe tbody tr th:only-of-type {\n",
              "        vertical-align: middle;\n",
              "    }\n",
              "\n",
              "    .dataframe tbody tr th {\n",
              "        vertical-align: top;\n",
              "    }\n",
              "\n",
              "    .dataframe thead th {\n",
              "        text-align: right;\n",
              "    }\n",
              "</style>\n",
              "<table border=\"1\" class=\"dataframe\">\n",
              "  <thead>\n",
              "    <tr style=\"text-align: right;\">\n",
              "      <th></th>\n",
              "      <th>procedure_year</th>\n",
              "      <th>procedure_number</th>\n",
              "      <th>instance_date</th>\n",
              "      <th>actual_worth</th>\n",
              "      <th>procedure_area</th>\n",
              "      <th>property_type_id</th>\n",
              "      <th>property_sub_type_id</th>\n",
              "      <th>property_sub_type_en</th>\n",
              "      <th>area_id</th>\n",
              "      <th>area_name_en</th>\n",
              "      <th>actual_area</th>\n",
              "      <th>property_total_value</th>\n",
              "      <th>row_status</th>\n",
              "      <th>value_comp</th>\n",
              "    </tr>\n",
              "  </thead>\n",
              "  <tbody>\n",
              "    <tr>\n",
              "      <th>0</th>\n",
              "      <td>2005</td>\n",
              "      <td>254</td>\n",
              "      <td>30-04-2005</td>\n",
              "      <td>9750000</td>\n",
              "      <td>697</td>\n",
              "      <td>1</td>\n",
              "      <td>62</td>\n",
              "      <td>Commercial</td>\n",
              "      <td>239</td>\n",
              "      <td>Al Baraha</td>\n",
              "      <td>697</td>\n",
              "      <td>9750000</td>\n",
              "      <td>1</td>\n",
              "      <td>1</td>\n",
              "    </tr>\n",
              "    <tr>\n",
              "      <th>2</th>\n",
              "      <td>2009</td>\n",
              "      <td>261</td>\n",
              "      <td>16-03-2009</td>\n",
              "      <td>39883500</td>\n",
              "      <td>2470</td>\n",
              "      <td>1</td>\n",
              "      <td>62</td>\n",
              "      <td>Commercial</td>\n",
              "      <td>368</td>\n",
              "      <td>Al Barsha First</td>\n",
              "      <td>2470</td>\n",
              "      <td>39883500</td>\n",
              "      <td>1</td>\n",
              "      <td>1</td>\n",
              "    </tr>\n",
              "    <tr>\n",
              "      <th>3</th>\n",
              "      <td>2004</td>\n",
              "      <td>268</td>\n",
              "      <td>18-04-2004</td>\n",
              "      <td>4000000</td>\n",
              "      <td>4455</td>\n",
              "      <td>1</td>\n",
              "      <td>11</td>\n",
              "      <td>Warehouse</td>\n",
              "      <td>319</td>\n",
              "      <td>Ras Al Khor Industrial Second</td>\n",
              "      <td>4455</td>\n",
              "      <td>4000000</td>\n",
              "      <td>1</td>\n",
              "      <td>1</td>\n",
              "    </tr>\n",
              "    <tr>\n",
              "      <th>4</th>\n",
              "      <td>2006</td>\n",
              "      <td>272</td>\n",
              "      <td>22-03-2006</td>\n",
              "      <td>3000000</td>\n",
              "      <td>1394</td>\n",
              "      <td>1</td>\n",
              "      <td>63</td>\n",
              "      <td>Residential</td>\n",
              "      <td>369</td>\n",
              "      <td>Al Barsha Third</td>\n",
              "      <td>1394</td>\n",
              "      <td>3000000</td>\n",
              "      <td>1</td>\n",
              "      <td>1</td>\n",
              "    </tr>\n",
              "    <tr>\n",
              "      <th>5</th>\n",
              "      <td>2005</td>\n",
              "      <td>275</td>\n",
              "      <td>08-05-2005</td>\n",
              "      <td>26208000</td>\n",
              "      <td>4870</td>\n",
              "      <td>1</td>\n",
              "      <td>65</td>\n",
              "      <td>Industrial</td>\n",
              "      <td>378</td>\n",
              "      <td>Al Garhoud</td>\n",
              "      <td>4870</td>\n",
              "      <td>26208000</td>\n",
              "      <td>1</td>\n",
              "      <td>1</td>\n",
              "    </tr>\n",
              "  </tbody>\n",
              "</table>\n",
              "</div>"
            ],
            "text/plain": [
              "   procedure_year  procedure_number  ... row_status  value_comp\n",
              "0            2005               254  ...          1           1\n",
              "2            2009               261  ...          1           1\n",
              "3            2004               268  ...          1           1\n",
              "4            2006               272  ...          1           1\n",
              "5            2005               275  ...          1           1\n",
              "\n",
              "[5 rows x 14 columns]"
            ]
          },
          "metadata": {
            "tags": []
          },
          "execution_count": 585
        }
      ]
    },
    {
      "cell_type": "code",
      "metadata": {
        "id": "JO1Qxb-MOK3p",
        "colab": {
          "base_uri": "https://localhost:8080/",
          "height": 0
        },
        "outputId": "805a68fe-01c5-4bfe-f171-75c2380851ae"
      },
      "source": [
        "actualvDf.corr()"
      ],
      "execution_count": 586,
      "outputs": [
        {
          "output_type": "execute_result",
          "data": {
            "text/html": [
              "<div>\n",
              "<style scoped>\n",
              "    .dataframe tbody tr th:only-of-type {\n",
              "        vertical-align: middle;\n",
              "    }\n",
              "\n",
              "    .dataframe tbody tr th {\n",
              "        vertical-align: top;\n",
              "    }\n",
              "\n",
              "    .dataframe thead th {\n",
              "        text-align: right;\n",
              "    }\n",
              "</style>\n",
              "<table border=\"1\" class=\"dataframe\">\n",
              "  <thead>\n",
              "    <tr style=\"text-align: right;\">\n",
              "      <th></th>\n",
              "      <th>procedure_year</th>\n",
              "      <th>procedure_number</th>\n",
              "      <th>actual_worth</th>\n",
              "      <th>procedure_area</th>\n",
              "      <th>property_type_id</th>\n",
              "      <th>property_sub_type_id</th>\n",
              "      <th>area_id</th>\n",
              "      <th>actual_area</th>\n",
              "      <th>property_total_value</th>\n",
              "      <th>value_comp</th>\n",
              "    </tr>\n",
              "  </thead>\n",
              "  <tbody>\n",
              "    <tr>\n",
              "      <th>procedure_year</th>\n",
              "      <td>1</td>\n",
              "      <td>0</td>\n",
              "      <td>0</td>\n",
              "      <td>0</td>\n",
              "      <td>0</td>\n",
              "      <td>-0</td>\n",
              "      <td>0</td>\n",
              "      <td>0</td>\n",
              "      <td>0</td>\n",
              "      <td>0</td>\n",
              "    </tr>\n",
              "    <tr>\n",
              "      <th>procedure_number</th>\n",
              "      <td>0</td>\n",
              "      <td>1</td>\n",
              "      <td>-0</td>\n",
              "      <td>-0</td>\n",
              "      <td>0</td>\n",
              "      <td>-0</td>\n",
              "      <td>0</td>\n",
              "      <td>0</td>\n",
              "      <td>-0</td>\n",
              "      <td>0</td>\n",
              "    </tr>\n",
              "    <tr>\n",
              "      <th>actual_worth</th>\n",
              "      <td>0</td>\n",
              "      <td>-0</td>\n",
              "      <td>1</td>\n",
              "      <td>0</td>\n",
              "      <td>-0</td>\n",
              "      <td>0</td>\n",
              "      <td>0</td>\n",
              "      <td>0</td>\n",
              "      <td>1</td>\n",
              "      <td>-0</td>\n",
              "    </tr>\n",
              "    <tr>\n",
              "      <th>procedure_area</th>\n",
              "      <td>0</td>\n",
              "      <td>-0</td>\n",
              "      <td>0</td>\n",
              "      <td>1</td>\n",
              "      <td>-0</td>\n",
              "      <td>-0</td>\n",
              "      <td>0</td>\n",
              "      <td>1</td>\n",
              "      <td>0</td>\n",
              "      <td>-0</td>\n",
              "    </tr>\n",
              "    <tr>\n",
              "      <th>property_type_id</th>\n",
              "      <td>0</td>\n",
              "      <td>0</td>\n",
              "      <td>-0</td>\n",
              "      <td>-0</td>\n",
              "      <td>1</td>\n",
              "      <td>-0</td>\n",
              "      <td>0</td>\n",
              "      <td>-0</td>\n",
              "      <td>-0</td>\n",
              "      <td>0</td>\n",
              "    </tr>\n",
              "    <tr>\n",
              "      <th>property_sub_type_id</th>\n",
              "      <td>-0</td>\n",
              "      <td>-0</td>\n",
              "      <td>0</td>\n",
              "      <td>-0</td>\n",
              "      <td>-0</td>\n",
              "      <td>1</td>\n",
              "      <td>-0</td>\n",
              "      <td>-0</td>\n",
              "      <td>0</td>\n",
              "      <td>-0</td>\n",
              "    </tr>\n",
              "    <tr>\n",
              "      <th>area_id</th>\n",
              "      <td>0</td>\n",
              "      <td>0</td>\n",
              "      <td>0</td>\n",
              "      <td>0</td>\n",
              "      <td>0</td>\n",
              "      <td>-0</td>\n",
              "      <td>1</td>\n",
              "      <td>0</td>\n",
              "      <td>0</td>\n",
              "      <td>0</td>\n",
              "    </tr>\n",
              "    <tr>\n",
              "      <th>actual_area</th>\n",
              "      <td>0</td>\n",
              "      <td>0</td>\n",
              "      <td>0</td>\n",
              "      <td>1</td>\n",
              "      <td>-0</td>\n",
              "      <td>-0</td>\n",
              "      <td>0</td>\n",
              "      <td>1</td>\n",
              "      <td>0</td>\n",
              "      <td>-0</td>\n",
              "    </tr>\n",
              "    <tr>\n",
              "      <th>property_total_value</th>\n",
              "      <td>0</td>\n",
              "      <td>-0</td>\n",
              "      <td>1</td>\n",
              "      <td>0</td>\n",
              "      <td>-0</td>\n",
              "      <td>0</td>\n",
              "      <td>0</td>\n",
              "      <td>0</td>\n",
              "      <td>1</td>\n",
              "      <td>-0</td>\n",
              "    </tr>\n",
              "    <tr>\n",
              "      <th>value_comp</th>\n",
              "      <td>0</td>\n",
              "      <td>0</td>\n",
              "      <td>-0</td>\n",
              "      <td>-0</td>\n",
              "      <td>0</td>\n",
              "      <td>-0</td>\n",
              "      <td>0</td>\n",
              "      <td>-0</td>\n",
              "      <td>-0</td>\n",
              "      <td>1</td>\n",
              "    </tr>\n",
              "  </tbody>\n",
              "</table>\n",
              "</div>"
            ],
            "text/plain": [
              "                      procedure_year  ...  value_comp\n",
              "procedure_year                     1  ...           0\n",
              "procedure_number                   0  ...           0\n",
              "actual_worth                       0  ...          -0\n",
              "procedure_area                     0  ...          -0\n",
              "property_type_id                   0  ...           0\n",
              "property_sub_type_id              -0  ...          -0\n",
              "area_id                            0  ...           0\n",
              "actual_area                        0  ...          -0\n",
              "property_total_value               0  ...          -0\n",
              "value_comp                         0  ...           1\n",
              "\n",
              "[10 rows x 10 columns]"
            ]
          },
          "metadata": {
            "tags": []
          },
          "execution_count": 586
        }
      ]
    },
    {
      "cell_type": "markdown",
      "metadata": {
        "id": "DvpzgoJCbENZ"
      },
      "source": [
        "###Property_sub_type"
      ]
    },
    {
      "cell_type": "code",
      "metadata": {
        "id": "VwXGaeG_I-oj"
      },
      "source": [
        "#Dropping the property sub_types irrelevant to the study, these are general use diverse subset\n",
        "drop_lst = [\"Bus station & drivers residenc\", \n",
        "\"Car Services\", \n",
        "\"CHURCH\", \n",
        "\"Clinic\", \n",
        "\"Consulate\", \n",
        "\"Commercial\", \n",
        "\"Cooling Station\", \n",
        "\"Electricity Station\", \n",
        "\"Embassy\", \n",
        "\"Exhbition Center\", \n",
        "\"Funeral Gathering\", \n",
        "\"General Authority\", \n",
        "\"General Services\", \n",
        "\"General Use\", \n",
        "\"Government Housing\", \n",
        "\"Ground Level Parcking\", \n",
        "\"Gymnasium\", \n",
        "\"Health Club\", \n",
        "\"Hospital\", \n",
        "\"Hotel\", \n",
        "\"Labor Camp\", \n",
        "\"Mosque\", \n",
        "\"Multi Store Parcking\", \n",
        "\"Parking\", \n",
        "\"Organizations\", \n",
        "\"Petrol Station\", \n",
        "\"Railway Station\", \n",
        "\"Plants shop\", \n",
        "\"School\", \n",
        "\"Rest Area\", \n",
        "\"Sports Club\", \n",
        "\"Shopping Mall\", \n",
        "\"Sized Partition\", \n",
        "\"Warehouse\", \n",
        "\"Workshop\"]\n",
        "#actualvDf = actualvDf[actualvDf.property_sub_type_en != drop_lst, inplace=True]\n",
        "#actualvDf = vdf[vdf.row_status_code != \"ENTERED\"]\n",
        "#actualvDf.head()"
      ],
      "execution_count": 587,
      "outputs": []
    },
    {
      "cell_type": "code",
      "metadata": {
        "colab": {
          "base_uri": "https://localhost:8080/",
          "height": 0
        },
        "id": "OJ1n4RqBY569",
        "outputId": "2f4680f3-981d-4d59-e24e-d6143a4ed061"
      },
      "source": [
        "actualvDf.property_sub_type_en.replace(to_replace=drop_lst, value='Other', inplace=True)\n",
        "actualvDf = actualvDf[actualvDf.property_sub_type_en != 'Other']\n",
        "actualvDf.head()"
      ],
      "execution_count": 588,
      "outputs": [
        {
          "output_type": "execute_result",
          "data": {
            "text/html": [
              "<div>\n",
              "<style scoped>\n",
              "    .dataframe tbody tr th:only-of-type {\n",
              "        vertical-align: middle;\n",
              "    }\n",
              "\n",
              "    .dataframe tbody tr th {\n",
              "        vertical-align: top;\n",
              "    }\n",
              "\n",
              "    .dataframe thead th {\n",
              "        text-align: right;\n",
              "    }\n",
              "</style>\n",
              "<table border=\"1\" class=\"dataframe\">\n",
              "  <thead>\n",
              "    <tr style=\"text-align: right;\">\n",
              "      <th></th>\n",
              "      <th>procedure_year</th>\n",
              "      <th>procedure_number</th>\n",
              "      <th>instance_date</th>\n",
              "      <th>actual_worth</th>\n",
              "      <th>procedure_area</th>\n",
              "      <th>property_type_id</th>\n",
              "      <th>property_sub_type_id</th>\n",
              "      <th>property_sub_type_en</th>\n",
              "      <th>area_id</th>\n",
              "      <th>area_name_en</th>\n",
              "      <th>actual_area</th>\n",
              "      <th>property_total_value</th>\n",
              "      <th>row_status</th>\n",
              "      <th>value_comp</th>\n",
              "    </tr>\n",
              "  </thead>\n",
              "  <tbody>\n",
              "    <tr>\n",
              "      <th>4</th>\n",
              "      <td>2006</td>\n",
              "      <td>272</td>\n",
              "      <td>22-03-2006</td>\n",
              "      <td>3000000</td>\n",
              "      <td>1394</td>\n",
              "      <td>1</td>\n",
              "      <td>63</td>\n",
              "      <td>Residential</td>\n",
              "      <td>369</td>\n",
              "      <td>Al Barsha Third</td>\n",
              "      <td>1394</td>\n",
              "      <td>3000000</td>\n",
              "      <td>1</td>\n",
              "      <td>1</td>\n",
              "    </tr>\n",
              "    <tr>\n",
              "      <th>5</th>\n",
              "      <td>2005</td>\n",
              "      <td>275</td>\n",
              "      <td>08-05-2005</td>\n",
              "      <td>26208000</td>\n",
              "      <td>4870</td>\n",
              "      <td>1</td>\n",
              "      <td>65</td>\n",
              "      <td>Industrial</td>\n",
              "      <td>378</td>\n",
              "      <td>Al Garhoud</td>\n",
              "      <td>4870</td>\n",
              "      <td>26208000</td>\n",
              "      <td>1</td>\n",
              "      <td>1</td>\n",
              "    </tr>\n",
              "    <tr>\n",
              "      <th>8</th>\n",
              "      <td>2005</td>\n",
              "      <td>285</td>\n",
              "      <td>09-05-2005</td>\n",
              "      <td>2170000</td>\n",
              "      <td>1394</td>\n",
              "      <td>1</td>\n",
              "      <td>63</td>\n",
              "      <td>Residential</td>\n",
              "      <td>393</td>\n",
              "      <td>Al Barsha Second</td>\n",
              "      <td>1394</td>\n",
              "      <td>2170000</td>\n",
              "      <td>1</td>\n",
              "      <td>1</td>\n",
              "    </tr>\n",
              "    <tr>\n",
              "      <th>9</th>\n",
              "      <td>2006</td>\n",
              "      <td>285</td>\n",
              "      <td>28-03-2006</td>\n",
              "      <td>4500000</td>\n",
              "      <td>1394</td>\n",
              "      <td>1</td>\n",
              "      <td>63</td>\n",
              "      <td>Residential</td>\n",
              "      <td>314</td>\n",
              "      <td>Al Saffa Second</td>\n",
              "      <td>1394</td>\n",
              "      <td>4500000</td>\n",
              "      <td>1</td>\n",
              "      <td>1</td>\n",
              "    </tr>\n",
              "    <tr>\n",
              "      <th>13</th>\n",
              "      <td>2006</td>\n",
              "      <td>293</td>\n",
              "      <td>02-04-2006</td>\n",
              "      <td>5000000</td>\n",
              "      <td>311</td>\n",
              "      <td>1</td>\n",
              "      <td>63</td>\n",
              "      <td>Residential</td>\n",
              "      <td>233</td>\n",
              "      <td>Hor Al Anz</td>\n",
              "      <td>311</td>\n",
              "      <td>5000000</td>\n",
              "      <td>1</td>\n",
              "      <td>1</td>\n",
              "    </tr>\n",
              "  </tbody>\n",
              "</table>\n",
              "</div>"
            ],
            "text/plain": [
              "    procedure_year  procedure_number  ... row_status  value_comp\n",
              "4             2006               272  ...          1           1\n",
              "5             2005               275  ...          1           1\n",
              "8             2005               285  ...          1           1\n",
              "9             2006               285  ...          1           1\n",
              "13            2006               293  ...          1           1\n",
              "\n",
              "[5 rows x 14 columns]"
            ]
          },
          "metadata": {
            "tags": []
          },
          "execution_count": 588
        }
      ]
    },
    {
      "cell_type": "code",
      "metadata": {
        "id": "cw56sw77JFgk"
      },
      "source": [
        "#We are categorizing various property sub types under broader categories for analysis:\n",
        "#  Commercial for office, industrial, shop etc\n",
        "#  Residential for flat, building etc\n",
        "#Defining a dictionary with the property sub type categories\n",
        "propertygroups = {1: \"Commercial\",\n",
        "                  2: \"Residential\",\n",
        "                  3: \"None\"\n",
        "                   }\n",
        "#defining a function to categorise the values in DF into the sub type categories\n",
        "def propgroup(property_sub):\n",
        "    if property_sub is 42:\n",
        "       return \"1\"\n",
        "    elif property_sub == 65: #industrial\n",
        "       return \"1\"\n",
        "    elif property_sub == 23: #shop\n",
        "       return \"1\"\n",
        "    elif property_sub == 17: #shopping mall\n",
        "       return \"1\"\n",
        "    elif property_sub == 4: #villa\n",
        "       return \"2\"\n",
        "    elif property_sub == 3: #unit\n",
        "       return \"2\"\n",
        "    elif property_sub == 63: #residential \n",
        "       return \"2\"\n",
        "    elif property_sub == 38: #residential flat \n",
        "       return \"2\"\n",
        "    elif property_sub == 60: #flat\n",
        "       return \"2\"\n",
        "    elif property_sub == 101: #hotel apartment\n",
        "       return \"2\"\n",
        "    else:\n",
        "       return \"3\"\n",
        "  "
      ],
      "execution_count": 589,
      "outputs": []
    },
    {
      "cell_type": "code",
      "metadata": {
        "id": "ATltRS3HKMXc"
      },
      "source": [
        "#applying the propgroup function the dataframe for the property_sub_type_id column, to categorise them in aommercial or Residential\n",
        "actualvDf['property_category']= actualvDf['property_sub_type_id'].apply(propgroup)"
      ],
      "execution_count": 590,
      "outputs": []
    },
    {
      "cell_type": "code",
      "metadata": {
        "colab": {
          "base_uri": "https://localhost:8080/",
          "height": 0
        },
        "id": "oCCOGNrBMyLD",
        "outputId": "5cfe7797-8c82-45b3-de61-6c7f86522393"
      },
      "source": [
        "actualvDf.tail(15)"
      ],
      "execution_count": 591,
      "outputs": [
        {
          "output_type": "execute_result",
          "data": {
            "text/html": [
              "<div>\n",
              "<style scoped>\n",
              "    .dataframe tbody tr th:only-of-type {\n",
              "        vertical-align: middle;\n",
              "    }\n",
              "\n",
              "    .dataframe tbody tr th {\n",
              "        vertical-align: top;\n",
              "    }\n",
              "\n",
              "    .dataframe thead th {\n",
              "        text-align: right;\n",
              "    }\n",
              "</style>\n",
              "<table border=\"1\" class=\"dataframe\">\n",
              "  <thead>\n",
              "    <tr style=\"text-align: right;\">\n",
              "      <th></th>\n",
              "      <th>procedure_year</th>\n",
              "      <th>procedure_number</th>\n",
              "      <th>instance_date</th>\n",
              "      <th>actual_worth</th>\n",
              "      <th>procedure_area</th>\n",
              "      <th>property_type_id</th>\n",
              "      <th>property_sub_type_id</th>\n",
              "      <th>property_sub_type_en</th>\n",
              "      <th>area_id</th>\n",
              "      <th>area_name_en</th>\n",
              "      <th>actual_area</th>\n",
              "      <th>property_total_value</th>\n",
              "      <th>row_status</th>\n",
              "      <th>value_comp</th>\n",
              "      <th>property_category</th>\n",
              "    </tr>\n",
              "  </thead>\n",
              "  <tbody>\n",
              "    <tr>\n",
              "      <th>59357</th>\n",
              "      <td>2021</td>\n",
              "      <td>2400</td>\n",
              "      <td>17-06-2021</td>\n",
              "      <td>255894</td>\n",
              "      <td>32</td>\n",
              "      <td>3</td>\n",
              "      <td>60</td>\n",
              "      <td>Flat</td>\n",
              "      <td>484</td>\n",
              "      <td>Nadd Hessa</td>\n",
              "      <td>32</td>\n",
              "      <td>255894</td>\n",
              "      <td>1</td>\n",
              "      <td>1</td>\n",
              "      <td>2</td>\n",
              "    </tr>\n",
              "    <tr>\n",
              "      <th>59359</th>\n",
              "      <td>2021</td>\n",
              "      <td>2402</td>\n",
              "      <td>20-06-2021</td>\n",
              "      <td>3654177</td>\n",
              "      <td>263</td>\n",
              "      <td>3</td>\n",
              "      <td>42</td>\n",
              "      <td>Office</td>\n",
              "      <td>526</td>\n",
              "      <td>Business Bay</td>\n",
              "      <td>263</td>\n",
              "      <td>3654177</td>\n",
              "      <td>1</td>\n",
              "      <td>1</td>\n",
              "      <td>3</td>\n",
              "    </tr>\n",
              "    <tr>\n",
              "      <th>59363</th>\n",
              "      <td>2021</td>\n",
              "      <td>2406</td>\n",
              "      <td>20-06-2021</td>\n",
              "      <td>663282</td>\n",
              "      <td>87</td>\n",
              "      <td>3</td>\n",
              "      <td>60</td>\n",
              "      <td>Flat</td>\n",
              "      <td>507</td>\n",
              "      <td>Al Yelayiss 2</td>\n",
              "      <td>87</td>\n",
              "      <td>663282</td>\n",
              "      <td>1</td>\n",
              "      <td>1</td>\n",
              "      <td>2</td>\n",
              "    </tr>\n",
              "    <tr>\n",
              "      <th>59364</th>\n",
              "      <td>2021</td>\n",
              "      <td>2407</td>\n",
              "      <td>20-06-2021</td>\n",
              "      <td>566899</td>\n",
              "      <td>59</td>\n",
              "      <td>3</td>\n",
              "      <td>60</td>\n",
              "      <td>Flat</td>\n",
              "      <td>442</td>\n",
              "      <td>Al Barsha South Fifth</td>\n",
              "      <td>59</td>\n",
              "      <td>566899</td>\n",
              "      <td>1</td>\n",
              "      <td>1</td>\n",
              "      <td>2</td>\n",
              "    </tr>\n",
              "    <tr>\n",
              "      <th>59369</th>\n",
              "      <td>2021</td>\n",
              "      <td>2163</td>\n",
              "      <td>03-06-2021</td>\n",
              "      <td>16762406</td>\n",
              "      <td>1557</td>\n",
              "      <td>1</td>\n",
              "      <td>63</td>\n",
              "      <td>Residential</td>\n",
              "      <td>412</td>\n",
              "      <td>Al Merkadh</td>\n",
              "      <td>1557</td>\n",
              "      <td>16762406</td>\n",
              "      <td>1</td>\n",
              "      <td>1</td>\n",
              "      <td>2</td>\n",
              "    </tr>\n",
              "    <tr>\n",
              "      <th>59373</th>\n",
              "      <td>2021</td>\n",
              "      <td>2167</td>\n",
              "      <td>03-06-2021</td>\n",
              "      <td>1607872</td>\n",
              "      <td>231</td>\n",
              "      <td>3</td>\n",
              "      <td>42</td>\n",
              "      <td>Office</td>\n",
              "      <td>350</td>\n",
              "      <td>Al Thanyah Fifth</td>\n",
              "      <td>231</td>\n",
              "      <td>1607872</td>\n",
              "      <td>1</td>\n",
              "      <td>1</td>\n",
              "      <td>3</td>\n",
              "    </tr>\n",
              "    <tr>\n",
              "      <th>59374</th>\n",
              "      <td>2021</td>\n",
              "      <td>2168</td>\n",
              "      <td>03-06-2021</td>\n",
              "      <td>7500000</td>\n",
              "      <td>1263</td>\n",
              "      <td>1</td>\n",
              "      <td>63</td>\n",
              "      <td>Residential</td>\n",
              "      <td>303</td>\n",
              "      <td>Um Suqaim First</td>\n",
              "      <td>1263</td>\n",
              "      <td>7500000</td>\n",
              "      <td>1</td>\n",
              "      <td>1</td>\n",
              "      <td>2</td>\n",
              "    </tr>\n",
              "    <tr>\n",
              "      <th>59376</th>\n",
              "      <td>2021</td>\n",
              "      <td>2170</td>\n",
              "      <td>03-06-2021</td>\n",
              "      <td>3500000</td>\n",
              "      <td>1394</td>\n",
              "      <td>1</td>\n",
              "      <td>63</td>\n",
              "      <td>Residential</td>\n",
              "      <td>359</td>\n",
              "      <td>Al Twar Third</td>\n",
              "      <td>1394</td>\n",
              "      <td>3500000</td>\n",
              "      <td>1</td>\n",
              "      <td>1</td>\n",
              "      <td>2</td>\n",
              "    </tr>\n",
              "    <tr>\n",
              "      <th>59380</th>\n",
              "      <td>2021</td>\n",
              "      <td>2176</td>\n",
              "      <td>03-06-2021</td>\n",
              "      <td>515459</td>\n",
              "      <td>77</td>\n",
              "      <td>3</td>\n",
              "      <td>60</td>\n",
              "      <td>Flat</td>\n",
              "      <td>484</td>\n",
              "      <td>Nadd Hessa</td>\n",
              "      <td>77</td>\n",
              "      <td>515459</td>\n",
              "      <td>1</td>\n",
              "      <td>1</td>\n",
              "      <td>2</td>\n",
              "    </tr>\n",
              "    <tr>\n",
              "      <th>59381</th>\n",
              "      <td>2021</td>\n",
              "      <td>2177</td>\n",
              "      <td>03-06-2021</td>\n",
              "      <td>1300959986</td>\n",
              "      <td>2197514</td>\n",
              "      <td>1</td>\n",
              "      <td>63</td>\n",
              "      <td>Residential</td>\n",
              "      <td>451</td>\n",
              "      <td>Al Hebiah Fifth</td>\n",
              "      <td>2197514</td>\n",
              "      <td>1300959986</td>\n",
              "      <td>1</td>\n",
              "      <td>1</td>\n",
              "      <td>2</td>\n",
              "    </tr>\n",
              "    <tr>\n",
              "      <th>59382</th>\n",
              "      <td>2021</td>\n",
              "      <td>2178</td>\n",
              "      <td>03-06-2021</td>\n",
              "      <td>956842647</td>\n",
              "      <td>1532650</td>\n",
              "      <td>1</td>\n",
              "      <td>63</td>\n",
              "      <td>Residential</td>\n",
              "      <td>451</td>\n",
              "      <td>Al Hebiah Fifth</td>\n",
              "      <td>1532650</td>\n",
              "      <td>956842647</td>\n",
              "      <td>1</td>\n",
              "      <td>1</td>\n",
              "      <td>2</td>\n",
              "    </tr>\n",
              "    <tr>\n",
              "      <th>59383</th>\n",
              "      <td>2021</td>\n",
              "      <td>2181</td>\n",
              "      <td>06-06-2021</td>\n",
              "      <td>5991994</td>\n",
              "      <td>795</td>\n",
              "      <td>1</td>\n",
              "      <td>63</td>\n",
              "      <td>Residential</td>\n",
              "      <td>375</td>\n",
              "      <td>Jumeirah Second</td>\n",
              "      <td>795</td>\n",
              "      <td>5991994</td>\n",
              "      <td>1</td>\n",
              "      <td>1</td>\n",
              "      <td>2</td>\n",
              "    </tr>\n",
              "    <tr>\n",
              "      <th>59384</th>\n",
              "      <td>2021</td>\n",
              "      <td>2182</td>\n",
              "      <td>06-06-2021</td>\n",
              "      <td>2005800</td>\n",
              "      <td>929</td>\n",
              "      <td>1</td>\n",
              "      <td>nan</td>\n",
              "      <td>NaN</td>\n",
              "      <td>497</td>\n",
              "      <td>Lehbab Second</td>\n",
              "      <td>929</td>\n",
              "      <td>2005800</td>\n",
              "      <td>3</td>\n",
              "      <td>1</td>\n",
              "      <td>3</td>\n",
              "    </tr>\n",
              "    <tr>\n",
              "      <th>59385</th>\n",
              "      <td>2021</td>\n",
              "      <td>2183</td>\n",
              "      <td>06-06-2021</td>\n",
              "      <td>2139200</td>\n",
              "      <td>225</td>\n",
              "      <td>2</td>\n",
              "      <td>4</td>\n",
              "      <td>Villa</td>\n",
              "      <td>445</td>\n",
              "      <td>Jabal Ali First</td>\n",
              "      <td>225</td>\n",
              "      <td>2139200</td>\n",
              "      <td>1</td>\n",
              "      <td>1</td>\n",
              "      <td>2</td>\n",
              "    </tr>\n",
              "    <tr>\n",
              "      <th>59387</th>\n",
              "      <td>2021</td>\n",
              "      <td>2185</td>\n",
              "      <td>06-06-2021</td>\n",
              "      <td>727166</td>\n",
              "      <td>69</td>\n",
              "      <td>3</td>\n",
              "      <td>60</td>\n",
              "      <td>Flat</td>\n",
              "      <td>526</td>\n",
              "      <td>Business Bay</td>\n",
              "      <td>69</td>\n",
              "      <td>727166</td>\n",
              "      <td>1</td>\n",
              "      <td>1</td>\n",
              "      <td>2</td>\n",
              "    </tr>\n",
              "  </tbody>\n",
              "</table>\n",
              "</div>"
            ],
            "text/plain": [
              "       procedure_year  procedure_number  ... value_comp  property_category\n",
              "59357            2021              2400  ...          1                  2\n",
              "59359            2021              2402  ...          1                  3\n",
              "59363            2021              2406  ...          1                  2\n",
              "59364            2021              2407  ...          1                  2\n",
              "59369            2021              2163  ...          1                  2\n",
              "59373            2021              2167  ...          1                  3\n",
              "59374            2021              2168  ...          1                  2\n",
              "59376            2021              2170  ...          1                  2\n",
              "59380            2021              2176  ...          1                  2\n",
              "59381            2021              2177  ...          1                  2\n",
              "59382            2021              2178  ...          1                  2\n",
              "59383            2021              2181  ...          1                  2\n",
              "59384            2021              2182  ...          1                  3\n",
              "59385            2021              2183  ...          1                  2\n",
              "59387            2021              2185  ...          1                  2\n",
              "\n",
              "[15 rows x 15 columns]"
            ]
          },
          "metadata": {
            "tags": []
          },
          "execution_count": 591
        }
      ]
    },
    {
      "cell_type": "code",
      "metadata": {
        "id": "0EkVIxjBItu3"
      },
      "source": [
        "#Dropping property_sub_type_en as we have Property_sub_type_id and property_category as well\n",
        "actualvDf=actualvDf.drop(['property_sub_type_en'],axis=1)"
      ],
      "execution_count": 592,
      "outputs": []
    },
    {
      "cell_type": "code",
      "metadata": {
        "colab": {
          "base_uri": "https://localhost:8080/",
          "height": 0
        },
        "id": "TJ7y_9mcNjlk",
        "outputId": "91a8b0e7-bb05-4762-e0f1-6c2a8eb67803"
      },
      "source": [
        "actualvDf.head()"
      ],
      "execution_count": 593,
      "outputs": [
        {
          "output_type": "execute_result",
          "data": {
            "text/html": [
              "<div>\n",
              "<style scoped>\n",
              "    .dataframe tbody tr th:only-of-type {\n",
              "        vertical-align: middle;\n",
              "    }\n",
              "\n",
              "    .dataframe tbody tr th {\n",
              "        vertical-align: top;\n",
              "    }\n",
              "\n",
              "    .dataframe thead th {\n",
              "        text-align: right;\n",
              "    }\n",
              "</style>\n",
              "<table border=\"1\" class=\"dataframe\">\n",
              "  <thead>\n",
              "    <tr style=\"text-align: right;\">\n",
              "      <th></th>\n",
              "      <th>procedure_year</th>\n",
              "      <th>procedure_number</th>\n",
              "      <th>instance_date</th>\n",
              "      <th>actual_worth</th>\n",
              "      <th>procedure_area</th>\n",
              "      <th>property_type_id</th>\n",
              "      <th>property_sub_type_id</th>\n",
              "      <th>area_id</th>\n",
              "      <th>area_name_en</th>\n",
              "      <th>actual_area</th>\n",
              "      <th>property_total_value</th>\n",
              "      <th>row_status</th>\n",
              "      <th>value_comp</th>\n",
              "      <th>property_category</th>\n",
              "    </tr>\n",
              "  </thead>\n",
              "  <tbody>\n",
              "    <tr>\n",
              "      <th>4</th>\n",
              "      <td>2006</td>\n",
              "      <td>272</td>\n",
              "      <td>22-03-2006</td>\n",
              "      <td>3000000</td>\n",
              "      <td>1394</td>\n",
              "      <td>1</td>\n",
              "      <td>63</td>\n",
              "      <td>369</td>\n",
              "      <td>Al Barsha Third</td>\n",
              "      <td>1394</td>\n",
              "      <td>3000000</td>\n",
              "      <td>1</td>\n",
              "      <td>1</td>\n",
              "      <td>2</td>\n",
              "    </tr>\n",
              "    <tr>\n",
              "      <th>5</th>\n",
              "      <td>2005</td>\n",
              "      <td>275</td>\n",
              "      <td>08-05-2005</td>\n",
              "      <td>26208000</td>\n",
              "      <td>4870</td>\n",
              "      <td>1</td>\n",
              "      <td>65</td>\n",
              "      <td>378</td>\n",
              "      <td>Al Garhoud</td>\n",
              "      <td>4870</td>\n",
              "      <td>26208000</td>\n",
              "      <td>1</td>\n",
              "      <td>1</td>\n",
              "      <td>1</td>\n",
              "    </tr>\n",
              "    <tr>\n",
              "      <th>8</th>\n",
              "      <td>2005</td>\n",
              "      <td>285</td>\n",
              "      <td>09-05-2005</td>\n",
              "      <td>2170000</td>\n",
              "      <td>1394</td>\n",
              "      <td>1</td>\n",
              "      <td>63</td>\n",
              "      <td>393</td>\n",
              "      <td>Al Barsha Second</td>\n",
              "      <td>1394</td>\n",
              "      <td>2170000</td>\n",
              "      <td>1</td>\n",
              "      <td>1</td>\n",
              "      <td>2</td>\n",
              "    </tr>\n",
              "    <tr>\n",
              "      <th>9</th>\n",
              "      <td>2006</td>\n",
              "      <td>285</td>\n",
              "      <td>28-03-2006</td>\n",
              "      <td>4500000</td>\n",
              "      <td>1394</td>\n",
              "      <td>1</td>\n",
              "      <td>63</td>\n",
              "      <td>314</td>\n",
              "      <td>Al Saffa Second</td>\n",
              "      <td>1394</td>\n",
              "      <td>4500000</td>\n",
              "      <td>1</td>\n",
              "      <td>1</td>\n",
              "      <td>2</td>\n",
              "    </tr>\n",
              "    <tr>\n",
              "      <th>13</th>\n",
              "      <td>2006</td>\n",
              "      <td>293</td>\n",
              "      <td>02-04-2006</td>\n",
              "      <td>5000000</td>\n",
              "      <td>311</td>\n",
              "      <td>1</td>\n",
              "      <td>63</td>\n",
              "      <td>233</td>\n",
              "      <td>Hor Al Anz</td>\n",
              "      <td>311</td>\n",
              "      <td>5000000</td>\n",
              "      <td>1</td>\n",
              "      <td>1</td>\n",
              "      <td>2</td>\n",
              "    </tr>\n",
              "  </tbody>\n",
              "</table>\n",
              "</div>"
            ],
            "text/plain": [
              "    procedure_year  procedure_number  ... value_comp  property_category\n",
              "4             2006               272  ...          1                  2\n",
              "5             2005               275  ...          1                  1\n",
              "8             2005               285  ...          1                  2\n",
              "9             2006               285  ...          1                  2\n",
              "13            2006               293  ...          1                  2\n",
              "\n",
              "[5 rows x 14 columns]"
            ]
          },
          "metadata": {
            "tags": []
          },
          "execution_count": 593
        }
      ]
    },
    {
      "cell_type": "code",
      "metadata": {
        "colab": {
          "base_uri": "https://localhost:8080/"
        },
        "id": "US2PuV_6No79",
        "outputId": "c6917f1e-0a7f-4d34-a5c8-cb8f672bddf0"
      },
      "source": [
        "actualvDf.shape"
      ],
      "execution_count": 594,
      "outputs": [
        {
          "output_type": "execute_result",
          "data": {
            "text/plain": [
              "(39736, 14)"
            ]
          },
          "metadata": {
            "tags": []
          },
          "execution_count": 594
        }
      ]
    },
    {
      "cell_type": "markdown",
      "metadata": {
        "id": "9BS3AUnBbysJ"
      },
      "source": [
        "###Area_id and Area_name_en"
      ]
    },
    {
      "cell_type": "code",
      "metadata": {
        "colab": {
          "base_uri": "https://localhost:8080/",
          "height": 0
        },
        "id": "pa-Wg7hYDBIk",
        "outputId": "7f6b944b-b265-4c40-984a-cae1f5759be3"
      },
      "source": [
        "#Copying over the original dataframe to a new one, and keeping only area related fields\n",
        "areaDf=actualvDf\n",
        "areaDf = areaDf.drop(['procedure_year','procedure_number','instance_date','actual_worth','property_type_id','procedure_area','property_sub_type_id','actual_area','property_total_value','row_status','value_comp','property_category'],axis=1)\n",
        "areaDf.head()"
      ],
      "execution_count": 595,
      "outputs": [
        {
          "output_type": "execute_result",
          "data": {
            "text/html": [
              "<div>\n",
              "<style scoped>\n",
              "    .dataframe tbody tr th:only-of-type {\n",
              "        vertical-align: middle;\n",
              "    }\n",
              "\n",
              "    .dataframe tbody tr th {\n",
              "        vertical-align: top;\n",
              "    }\n",
              "\n",
              "    .dataframe thead th {\n",
              "        text-align: right;\n",
              "    }\n",
              "</style>\n",
              "<table border=\"1\" class=\"dataframe\">\n",
              "  <thead>\n",
              "    <tr style=\"text-align: right;\">\n",
              "      <th></th>\n",
              "      <th>area_id</th>\n",
              "      <th>area_name_en</th>\n",
              "    </tr>\n",
              "  </thead>\n",
              "  <tbody>\n",
              "    <tr>\n",
              "      <th>4</th>\n",
              "      <td>369</td>\n",
              "      <td>Al Barsha Third</td>\n",
              "    </tr>\n",
              "    <tr>\n",
              "      <th>5</th>\n",
              "      <td>378</td>\n",
              "      <td>Al Garhoud</td>\n",
              "    </tr>\n",
              "    <tr>\n",
              "      <th>8</th>\n",
              "      <td>393</td>\n",
              "      <td>Al Barsha Second</td>\n",
              "    </tr>\n",
              "    <tr>\n",
              "      <th>9</th>\n",
              "      <td>314</td>\n",
              "      <td>Al Saffa Second</td>\n",
              "    </tr>\n",
              "    <tr>\n",
              "      <th>13</th>\n",
              "      <td>233</td>\n",
              "      <td>Hor Al Anz</td>\n",
              "    </tr>\n",
              "  </tbody>\n",
              "</table>\n",
              "</div>"
            ],
            "text/plain": [
              "    area_id      area_name_en\n",
              "4       369   Al Barsha Third\n",
              "5       378        Al Garhoud\n",
              "8       393  Al Barsha Second\n",
              "9       314   Al Saffa Second\n",
              "13      233        Hor Al Anz"
            ]
          },
          "metadata": {
            "tags": []
          },
          "execution_count": 595
        }
      ]
    },
    {
      "cell_type": "code",
      "metadata": {
        "colab": {
          "base_uri": "https://localhost:8080/"
        },
        "id": "LZ2kfwaMcaaF",
        "outputId": "9a15e7dc-b7ec-4d2a-be8b-2180dadef119"
      },
      "source": [
        "areaDf.shape"
      ],
      "execution_count": 596,
      "outputs": [
        {
          "output_type": "execute_result",
          "data": {
            "text/plain": [
              "(39736, 2)"
            ]
          },
          "metadata": {
            "tags": []
          },
          "execution_count": 596
        }
      ]
    },
    {
      "cell_type": "code",
      "metadata": {
        "colab": {
          "base_uri": "https://localhost:8080/"
        },
        "id": "kgV7JtR_FnY4",
        "outputId": "15c25768-a0c1-414d-8922-7e4c89fe1aec"
      },
      "source": [
        "#Dropping duplicates\n",
        "areaDf = areaDf.drop_duplicates()\n",
        "areaDf.shape"
      ],
      "execution_count": 597,
      "outputs": [
        {
          "output_type": "execute_result",
          "data": {
            "text/plain": [
              "(200, 2)"
            ]
          },
          "metadata": {
            "tags": []
          },
          "execution_count": 597
        }
      ]
    },
    {
      "cell_type": "code",
      "metadata": {
        "id": "iYhYGVAqGr1K"
      },
      "source": [
        "#Sorting areas as per the area_id\n",
        "areaDf = areaDf.sort_values(by=['area_id'])"
      ],
      "execution_count": 598,
      "outputs": []
    },
    {
      "cell_type": "code",
      "metadata": {
        "colab": {
          "base_uri": "https://localhost:8080/",
          "height": 0
        },
        "id": "OMqhBx4rGCVT",
        "outputId": "e3be5f33-2cf1-4995-a4fe-27bdce58d880"
      },
      "source": [
        "areaDf.head(15)"
      ],
      "execution_count": 599,
      "outputs": [
        {
          "output_type": "execute_result",
          "data": {
            "text/html": [
              "<div>\n",
              "<style scoped>\n",
              "    .dataframe tbody tr th:only-of-type {\n",
              "        vertical-align: middle;\n",
              "    }\n",
              "\n",
              "    .dataframe tbody tr th {\n",
              "        vertical-align: top;\n",
              "    }\n",
              "\n",
              "    .dataframe thead th {\n",
              "        text-align: right;\n",
              "    }\n",
              "</style>\n",
              "<table border=\"1\" class=\"dataframe\">\n",
              "  <thead>\n",
              "    <tr style=\"text-align: right;\">\n",
              "      <th></th>\n",
              "      <th>area_id</th>\n",
              "      <th>area_name_en</th>\n",
              "    </tr>\n",
              "  </thead>\n",
              "  <tbody>\n",
              "    <tr>\n",
              "      <th>25</th>\n",
              "      <td>230</td>\n",
              "      <td>Abu Hail</td>\n",
              "    </tr>\n",
              "    <tr>\n",
              "      <th>112</th>\n",
              "      <td>231</td>\n",
              "      <td>Al Mamzer</td>\n",
              "    </tr>\n",
              "    <tr>\n",
              "      <th>28</th>\n",
              "      <td>232</td>\n",
              "      <td>Mirdif</td>\n",
              "    </tr>\n",
              "    <tr>\n",
              "      <th>13</th>\n",
              "      <td>233</td>\n",
              "      <td>Hor Al Anz</td>\n",
              "    </tr>\n",
              "    <tr>\n",
              "      <th>78</th>\n",
              "      <td>234</td>\n",
              "      <td>Hor Al Anz East</td>\n",
              "    </tr>\n",
              "    <tr>\n",
              "      <th>1979</th>\n",
              "      <td>235</td>\n",
              "      <td>Eyal Nasser</td>\n",
              "    </tr>\n",
              "    <tr>\n",
              "      <th>13286</th>\n",
              "      <td>237</td>\n",
              "      <td>Al Sabkha</td>\n",
              "    </tr>\n",
              "    <tr>\n",
              "      <th>949</th>\n",
              "      <td>238</td>\n",
              "      <td>Al Dhagaya</td>\n",
              "    </tr>\n",
              "    <tr>\n",
              "      <th>368</th>\n",
              "      <td>239</td>\n",
              "      <td>Al Baraha</td>\n",
              "    </tr>\n",
              "    <tr>\n",
              "      <th>774</th>\n",
              "      <td>240</td>\n",
              "      <td>Port Saeed</td>\n",
              "    </tr>\n",
              "    <tr>\n",
              "      <th>1171</th>\n",
              "      <td>242</td>\n",
              "      <td>Al Ras</td>\n",
              "    </tr>\n",
              "    <tr>\n",
              "      <th>76</th>\n",
              "      <td>244</td>\n",
              "      <td>Al Murqabat</td>\n",
              "    </tr>\n",
              "    <tr>\n",
              "      <th>37</th>\n",
              "      <td>247</td>\n",
              "      <td>Al Khabeesi</td>\n",
              "    </tr>\n",
              "    <tr>\n",
              "      <th>457</th>\n",
              "      <td>248</td>\n",
              "      <td>Um Ramool</td>\n",
              "    </tr>\n",
              "    <tr>\n",
              "      <th>1071</th>\n",
              "      <td>249</td>\n",
              "      <td>Al Muteena</td>\n",
              "    </tr>\n",
              "  </tbody>\n",
              "</table>\n",
              "</div>"
            ],
            "text/plain": [
              "       area_id     area_name_en\n",
              "25         230         Abu Hail\n",
              "112        231        Al Mamzer\n",
              "28         232           Mirdif\n",
              "13         233       Hor Al Anz\n",
              "78         234  Hor Al Anz East\n",
              "1979       235      Eyal Nasser\n",
              "13286      237        Al Sabkha\n",
              "949        238       Al Dhagaya\n",
              "368        239        Al Baraha\n",
              "774        240       Port Saeed\n",
              "1171       242           Al Ras\n",
              "76         244      Al Murqabat\n",
              "37         247      Al Khabeesi\n",
              "457        248        Um Ramool\n",
              "1071       249       Al Muteena"
            ]
          },
          "metadata": {
            "tags": []
          },
          "execution_count": 599
        }
      ]
    },
    {
      "cell_type": "code",
      "metadata": {
        "id": "pUFW__PdICIZ"
      },
      "source": [
        "#Dropping area_name_en from original DF as we have stored the area_id and corresponding names in a new DF areaDf, for future reference\n",
        "actualvDf=actualvDf.drop(['area_name_en'],axis=1)\n"
      ],
      "execution_count": 600,
      "outputs": []
    },
    {
      "cell_type": "code",
      "metadata": {
        "colab": {
          "base_uri": "https://localhost:8080/",
          "height": 0
        },
        "id": "XBY1cavUH5WC",
        "outputId": "3d4e336c-45bd-465e-c487-cc4fdce3b16c"
      },
      "source": [
        "actualvDf.head()"
      ],
      "execution_count": 601,
      "outputs": [
        {
          "output_type": "execute_result",
          "data": {
            "text/html": [
              "<div>\n",
              "<style scoped>\n",
              "    .dataframe tbody tr th:only-of-type {\n",
              "        vertical-align: middle;\n",
              "    }\n",
              "\n",
              "    .dataframe tbody tr th {\n",
              "        vertical-align: top;\n",
              "    }\n",
              "\n",
              "    .dataframe thead th {\n",
              "        text-align: right;\n",
              "    }\n",
              "</style>\n",
              "<table border=\"1\" class=\"dataframe\">\n",
              "  <thead>\n",
              "    <tr style=\"text-align: right;\">\n",
              "      <th></th>\n",
              "      <th>procedure_year</th>\n",
              "      <th>procedure_number</th>\n",
              "      <th>instance_date</th>\n",
              "      <th>actual_worth</th>\n",
              "      <th>procedure_area</th>\n",
              "      <th>property_type_id</th>\n",
              "      <th>property_sub_type_id</th>\n",
              "      <th>area_id</th>\n",
              "      <th>actual_area</th>\n",
              "      <th>property_total_value</th>\n",
              "      <th>row_status</th>\n",
              "      <th>value_comp</th>\n",
              "      <th>property_category</th>\n",
              "    </tr>\n",
              "  </thead>\n",
              "  <tbody>\n",
              "    <tr>\n",
              "      <th>4</th>\n",
              "      <td>2006</td>\n",
              "      <td>272</td>\n",
              "      <td>22-03-2006</td>\n",
              "      <td>3000000</td>\n",
              "      <td>1394</td>\n",
              "      <td>1</td>\n",
              "      <td>63</td>\n",
              "      <td>369</td>\n",
              "      <td>1394</td>\n",
              "      <td>3000000</td>\n",
              "      <td>1</td>\n",
              "      <td>1</td>\n",
              "      <td>2</td>\n",
              "    </tr>\n",
              "    <tr>\n",
              "      <th>5</th>\n",
              "      <td>2005</td>\n",
              "      <td>275</td>\n",
              "      <td>08-05-2005</td>\n",
              "      <td>26208000</td>\n",
              "      <td>4870</td>\n",
              "      <td>1</td>\n",
              "      <td>65</td>\n",
              "      <td>378</td>\n",
              "      <td>4870</td>\n",
              "      <td>26208000</td>\n",
              "      <td>1</td>\n",
              "      <td>1</td>\n",
              "      <td>1</td>\n",
              "    </tr>\n",
              "    <tr>\n",
              "      <th>8</th>\n",
              "      <td>2005</td>\n",
              "      <td>285</td>\n",
              "      <td>09-05-2005</td>\n",
              "      <td>2170000</td>\n",
              "      <td>1394</td>\n",
              "      <td>1</td>\n",
              "      <td>63</td>\n",
              "      <td>393</td>\n",
              "      <td>1394</td>\n",
              "      <td>2170000</td>\n",
              "      <td>1</td>\n",
              "      <td>1</td>\n",
              "      <td>2</td>\n",
              "    </tr>\n",
              "    <tr>\n",
              "      <th>9</th>\n",
              "      <td>2006</td>\n",
              "      <td>285</td>\n",
              "      <td>28-03-2006</td>\n",
              "      <td>4500000</td>\n",
              "      <td>1394</td>\n",
              "      <td>1</td>\n",
              "      <td>63</td>\n",
              "      <td>314</td>\n",
              "      <td>1394</td>\n",
              "      <td>4500000</td>\n",
              "      <td>1</td>\n",
              "      <td>1</td>\n",
              "      <td>2</td>\n",
              "    </tr>\n",
              "    <tr>\n",
              "      <th>13</th>\n",
              "      <td>2006</td>\n",
              "      <td>293</td>\n",
              "      <td>02-04-2006</td>\n",
              "      <td>5000000</td>\n",
              "      <td>311</td>\n",
              "      <td>1</td>\n",
              "      <td>63</td>\n",
              "      <td>233</td>\n",
              "      <td>311</td>\n",
              "      <td>5000000</td>\n",
              "      <td>1</td>\n",
              "      <td>1</td>\n",
              "      <td>2</td>\n",
              "    </tr>\n",
              "  </tbody>\n",
              "</table>\n",
              "</div>"
            ],
            "text/plain": [
              "    procedure_year  procedure_number  ... value_comp  property_category\n",
              "4             2006               272  ...          1                  2\n",
              "5             2005               275  ...          1                  1\n",
              "8             2005               285  ...          1                  2\n",
              "9             2006               285  ...          1                  2\n",
              "13            2006               293  ...          1                  2\n",
              "\n",
              "[5 rows x 13 columns]"
            ]
          },
          "metadata": {
            "tags": []
          },
          "execution_count": 601
        }
      ]
    },
    {
      "cell_type": "markdown",
      "metadata": {
        "id": "7u3-lMS8eI3d"
      },
      "source": [
        "###Procedure_area and Actual_area"
      ]
    },
    {
      "cell_type": "code",
      "metadata": {
        "colab": {
          "base_uri": "https://localhost:8080/"
        },
        "id": "14lzRj1m8q70",
        "outputId": "9d49dd6e-89af-45cc-ade9-7baf14fbd661"
      },
      "source": [
        "#Comparison of columns procedure_area and actual_area \n",
        "actualvDf['procedure_area'].equals(actualvDf['actual_area'])"
      ],
      "execution_count": 602,
      "outputs": [
        {
          "output_type": "execute_result",
          "data": {
            "text/plain": [
              "False"
            ]
          },
          "metadata": {
            "tags": []
          },
          "execution_count": 602
        }
      ]
    },
    {
      "cell_type": "code",
      "metadata": {
        "colab": {
          "base_uri": "https://localhost:8080/",
          "height": 0
        },
        "id": "tQxE9rsqPuE0",
        "outputId": "c5681bb7-13fa-4cb9-90b1-7daf67d518f8"
      },
      "source": [
        "actualvDf['area_comp'] = np.where(actualvDf['procedure_area'] == actualvDf['actual_area'],1,0)\n",
        "#df['Diff'] = np.where( df['Score A'] == df['Score B'] , '1', '0')\n",
        "actualvDf.head()"
      ],
      "execution_count": 603,
      "outputs": [
        {
          "output_type": "execute_result",
          "data": {
            "text/html": [
              "<div>\n",
              "<style scoped>\n",
              "    .dataframe tbody tr th:only-of-type {\n",
              "        vertical-align: middle;\n",
              "    }\n",
              "\n",
              "    .dataframe tbody tr th {\n",
              "        vertical-align: top;\n",
              "    }\n",
              "\n",
              "    .dataframe thead th {\n",
              "        text-align: right;\n",
              "    }\n",
              "</style>\n",
              "<table border=\"1\" class=\"dataframe\">\n",
              "  <thead>\n",
              "    <tr style=\"text-align: right;\">\n",
              "      <th></th>\n",
              "      <th>procedure_year</th>\n",
              "      <th>procedure_number</th>\n",
              "      <th>instance_date</th>\n",
              "      <th>actual_worth</th>\n",
              "      <th>procedure_area</th>\n",
              "      <th>property_type_id</th>\n",
              "      <th>property_sub_type_id</th>\n",
              "      <th>area_id</th>\n",
              "      <th>actual_area</th>\n",
              "      <th>property_total_value</th>\n",
              "      <th>row_status</th>\n",
              "      <th>value_comp</th>\n",
              "      <th>property_category</th>\n",
              "      <th>area_comp</th>\n",
              "    </tr>\n",
              "  </thead>\n",
              "  <tbody>\n",
              "    <tr>\n",
              "      <th>4</th>\n",
              "      <td>2006</td>\n",
              "      <td>272</td>\n",
              "      <td>22-03-2006</td>\n",
              "      <td>3000000</td>\n",
              "      <td>1394</td>\n",
              "      <td>1</td>\n",
              "      <td>63</td>\n",
              "      <td>369</td>\n",
              "      <td>1394</td>\n",
              "      <td>3000000</td>\n",
              "      <td>1</td>\n",
              "      <td>1</td>\n",
              "      <td>2</td>\n",
              "      <td>1</td>\n",
              "    </tr>\n",
              "    <tr>\n",
              "      <th>5</th>\n",
              "      <td>2005</td>\n",
              "      <td>275</td>\n",
              "      <td>08-05-2005</td>\n",
              "      <td>26208000</td>\n",
              "      <td>4870</td>\n",
              "      <td>1</td>\n",
              "      <td>65</td>\n",
              "      <td>378</td>\n",
              "      <td>4870</td>\n",
              "      <td>26208000</td>\n",
              "      <td>1</td>\n",
              "      <td>1</td>\n",
              "      <td>1</td>\n",
              "      <td>1</td>\n",
              "    </tr>\n",
              "    <tr>\n",
              "      <th>8</th>\n",
              "      <td>2005</td>\n",
              "      <td>285</td>\n",
              "      <td>09-05-2005</td>\n",
              "      <td>2170000</td>\n",
              "      <td>1394</td>\n",
              "      <td>1</td>\n",
              "      <td>63</td>\n",
              "      <td>393</td>\n",
              "      <td>1394</td>\n",
              "      <td>2170000</td>\n",
              "      <td>1</td>\n",
              "      <td>1</td>\n",
              "      <td>2</td>\n",
              "      <td>1</td>\n",
              "    </tr>\n",
              "    <tr>\n",
              "      <th>9</th>\n",
              "      <td>2006</td>\n",
              "      <td>285</td>\n",
              "      <td>28-03-2006</td>\n",
              "      <td>4500000</td>\n",
              "      <td>1394</td>\n",
              "      <td>1</td>\n",
              "      <td>63</td>\n",
              "      <td>314</td>\n",
              "      <td>1394</td>\n",
              "      <td>4500000</td>\n",
              "      <td>1</td>\n",
              "      <td>1</td>\n",
              "      <td>2</td>\n",
              "      <td>1</td>\n",
              "    </tr>\n",
              "    <tr>\n",
              "      <th>13</th>\n",
              "      <td>2006</td>\n",
              "      <td>293</td>\n",
              "      <td>02-04-2006</td>\n",
              "      <td>5000000</td>\n",
              "      <td>311</td>\n",
              "      <td>1</td>\n",
              "      <td>63</td>\n",
              "      <td>233</td>\n",
              "      <td>311</td>\n",
              "      <td>5000000</td>\n",
              "      <td>1</td>\n",
              "      <td>1</td>\n",
              "      <td>2</td>\n",
              "      <td>1</td>\n",
              "    </tr>\n",
              "  </tbody>\n",
              "</table>\n",
              "</div>"
            ],
            "text/plain": [
              "    procedure_year  procedure_number  ... property_category  area_comp\n",
              "4             2006               272  ...                 2          1\n",
              "5             2005               275  ...                 1          1\n",
              "8             2005               285  ...                 2          1\n",
              "9             2006               285  ...                 2          1\n",
              "13            2006               293  ...                 2          1\n",
              "\n",
              "[5 rows x 14 columns]"
            ]
          },
          "metadata": {
            "tags": []
          },
          "execution_count": 603
        }
      ]
    },
    {
      "cell_type": "code",
      "metadata": {
        "colab": {
          "base_uri": "https://localhost:8080/",
          "height": 0
        },
        "id": "prLzoeFWQjYX",
        "outputId": "d5116f45-eaa8-4931-c05e-e17204082f52"
      },
      "source": [
        "actualvDf.loc[actualvDf['area_comp'] == 0]\n",
        "#df.loc[df['column_name'] == some_value]"
      ],
      "execution_count": 604,
      "outputs": [
        {
          "output_type": "execute_result",
          "data": {
            "text/html": [
              "<div>\n",
              "<style scoped>\n",
              "    .dataframe tbody tr th:only-of-type {\n",
              "        vertical-align: middle;\n",
              "    }\n",
              "\n",
              "    .dataframe tbody tr th {\n",
              "        vertical-align: top;\n",
              "    }\n",
              "\n",
              "    .dataframe thead th {\n",
              "        text-align: right;\n",
              "    }\n",
              "</style>\n",
              "<table border=\"1\" class=\"dataframe\">\n",
              "  <thead>\n",
              "    <tr style=\"text-align: right;\">\n",
              "      <th></th>\n",
              "      <th>procedure_year</th>\n",
              "      <th>procedure_number</th>\n",
              "      <th>instance_date</th>\n",
              "      <th>actual_worth</th>\n",
              "      <th>procedure_area</th>\n",
              "      <th>property_type_id</th>\n",
              "      <th>property_sub_type_id</th>\n",
              "      <th>area_id</th>\n",
              "      <th>actual_area</th>\n",
              "      <th>property_total_value</th>\n",
              "      <th>row_status</th>\n",
              "      <th>value_comp</th>\n",
              "      <th>property_category</th>\n",
              "      <th>area_comp</th>\n",
              "    </tr>\n",
              "  </thead>\n",
              "  <tbody>\n",
              "    <tr>\n",
              "      <th>27</th>\n",
              "      <td>2002</td>\n",
              "      <td>326</td>\n",
              "      <td>21-07-2002</td>\n",
              "      <td>850000</td>\n",
              "      <td>1858</td>\n",
              "      <td>1</td>\n",
              "      <td>63</td>\n",
              "      <td>312</td>\n",
              "      <td>1839</td>\n",
              "      <td>850000</td>\n",
              "      <td>1</td>\n",
              "      <td>1</td>\n",
              "      <td>2</td>\n",
              "      <td>0</td>\n",
              "    </tr>\n",
              "    <tr>\n",
              "      <th>31</th>\n",
              "      <td>2008</td>\n",
              "      <td>342</td>\n",
              "      <td>06-03-2008</td>\n",
              "      <td>2505000</td>\n",
              "      <td>279</td>\n",
              "      <td>1</td>\n",
              "      <td>63</td>\n",
              "      <td>317</td>\n",
              "      <td>233</td>\n",
              "      <td>2505000</td>\n",
              "      <td>1</td>\n",
              "      <td>1</td>\n",
              "      <td>2</td>\n",
              "      <td>0</td>\n",
              "    </tr>\n",
              "    <tr>\n",
              "      <th>37</th>\n",
              "      <td>2007</td>\n",
              "      <td>354</td>\n",
              "      <td>01-05-2007</td>\n",
              "      <td>18172800</td>\n",
              "      <td>2109</td>\n",
              "      <td>1</td>\n",
              "      <td>63</td>\n",
              "      <td>247</td>\n",
              "      <td>2110</td>\n",
              "      <td>18172800</td>\n",
              "      <td>1</td>\n",
              "      <td>1</td>\n",
              "      <td>2</td>\n",
              "      <td>0</td>\n",
              "    </tr>\n",
              "    <tr>\n",
              "      <th>47</th>\n",
              "      <td>2009</td>\n",
              "      <td>13</td>\n",
              "      <td>07-01-2009</td>\n",
              "      <td>10000000</td>\n",
              "      <td>4181</td>\n",
              "      <td>1</td>\n",
              "      <td>63</td>\n",
              "      <td>401</td>\n",
              "      <td>2090</td>\n",
              "      <td>10000000</td>\n",
              "      <td>1</td>\n",
              "      <td>1</td>\n",
              "      <td>2</td>\n",
              "      <td>0</td>\n",
              "    </tr>\n",
              "    <tr>\n",
              "      <th>100</th>\n",
              "      <td>2009</td>\n",
              "      <td>92</td>\n",
              "      <td>29-01-2009</td>\n",
              "      <td>48000000</td>\n",
              "      <td>6138</td>\n",
              "      <td>1</td>\n",
              "      <td>63</td>\n",
              "      <td>317</td>\n",
              "      <td>6129</td>\n",
              "      <td>48000000</td>\n",
              "      <td>1</td>\n",
              "      <td>1</td>\n",
              "      <td>2</td>\n",
              "      <td>0</td>\n",
              "    </tr>\n",
              "    <tr>\n",
              "      <th>...</th>\n",
              "      <td>...</td>\n",
              "      <td>...</td>\n",
              "      <td>...</td>\n",
              "      <td>...</td>\n",
              "      <td>...</td>\n",
              "      <td>...</td>\n",
              "      <td>...</td>\n",
              "      <td>...</td>\n",
              "      <td>...</td>\n",
              "      <td>...</td>\n",
              "      <td>...</td>\n",
              "      <td>...</td>\n",
              "      <td>...</td>\n",
              "      <td>...</td>\n",
              "    </tr>\n",
              "    <tr>\n",
              "      <th>58390</th>\n",
              "      <td>2021</td>\n",
              "      <td>862</td>\n",
              "      <td>25-02-2021</td>\n",
              "      <td>6354662</td>\n",
              "      <td>3690</td>\n",
              "      <td>1</td>\n",
              "      <td>63</td>\n",
              "      <td>312</td>\n",
              "      <td>922</td>\n",
              "      <td>6354662</td>\n",
              "      <td>1</td>\n",
              "      <td>1</td>\n",
              "      <td>2</td>\n",
              "      <td>0</td>\n",
              "    </tr>\n",
              "    <tr>\n",
              "      <th>58393</th>\n",
              "      <td>2021</td>\n",
              "      <td>866</td>\n",
              "      <td>25-02-2021</td>\n",
              "      <td>14357858</td>\n",
              "      <td>9299</td>\n",
              "      <td>1</td>\n",
              "      <td>65</td>\n",
              "      <td>308</td>\n",
              "      <td>7410</td>\n",
              "      <td>14357858</td>\n",
              "      <td>1</td>\n",
              "      <td>1</td>\n",
              "      <td>1</td>\n",
              "      <td>0</td>\n",
              "    </tr>\n",
              "    <tr>\n",
              "      <th>58618</th>\n",
              "      <td>2021</td>\n",
              "      <td>284</td>\n",
              "      <td>19-01-2021</td>\n",
              "      <td>1184178618</td>\n",
              "      <td>2200278</td>\n",
              "      <td>1</td>\n",
              "      <td>63</td>\n",
              "      <td>451</td>\n",
              "      <td>2197514</td>\n",
              "      <td>1184178618</td>\n",
              "      <td>1</td>\n",
              "      <td>1</td>\n",
              "      <td>2</td>\n",
              "      <td>0</td>\n",
              "    </tr>\n",
              "    <tr>\n",
              "      <th>58646</th>\n",
              "      <td>2021</td>\n",
              "      <td>317</td>\n",
              "      <td>21-01-2021</td>\n",
              "      <td>11919985</td>\n",
              "      <td>2769</td>\n",
              "      <td>1</td>\n",
              "      <td>63</td>\n",
              "      <td>370</td>\n",
              "      <td>1559</td>\n",
              "      <td>11919985</td>\n",
              "      <td>1</td>\n",
              "      <td>1</td>\n",
              "      <td>2</td>\n",
              "      <td>0</td>\n",
              "    </tr>\n",
              "    <tr>\n",
              "      <th>59312</th>\n",
              "      <td>2021</td>\n",
              "      <td>2154</td>\n",
              "      <td>02-06-2021</td>\n",
              "      <td>50000000</td>\n",
              "      <td>0</td>\n",
              "      <td>1</td>\n",
              "      <td>nan</td>\n",
              "      <td>266</td>\n",
              "      <td>1326</td>\n",
              "      <td>50000000</td>\n",
              "      <td>1</td>\n",
              "      <td>1</td>\n",
              "      <td>3</td>\n",
              "      <td>0</td>\n",
              "    </tr>\n",
              "  </tbody>\n",
              "</table>\n",
              "<p>2062 rows × 14 columns</p>\n",
              "</div>"
            ],
            "text/plain": [
              "       procedure_year  procedure_number  ... property_category  area_comp\n",
              "27               2002               326  ...                 2          0\n",
              "31               2008               342  ...                 2          0\n",
              "37               2007               354  ...                 2          0\n",
              "47               2009                13  ...                 2          0\n",
              "100              2009                92  ...                 2          0\n",
              "...               ...               ...  ...               ...        ...\n",
              "58390            2021               862  ...                 2          0\n",
              "58393            2021               866  ...                 1          0\n",
              "58618            2021               284  ...                 2          0\n",
              "58646            2021               317  ...                 2          0\n",
              "59312            2021              2154  ...                 3          0\n",
              "\n",
              "[2062 rows x 14 columns]"
            ]
          },
          "metadata": {
            "tags": []
          },
          "execution_count": 604
        }
      ]
    },
    {
      "cell_type": "code",
      "metadata": {
        "colab": {
          "base_uri": "https://localhost:8080/"
        },
        "id": "zWEs7yT4HtVf",
        "outputId": "a9e1638a-d74a-4c76-9fad-968245f2b5e6"
      },
      "source": [
        "actualvDf.shape"
      ],
      "execution_count": 605,
      "outputs": [
        {
          "output_type": "execute_result",
          "data": {
            "text/plain": [
              "(39736, 14)"
            ]
          },
          "metadata": {
            "tags": []
          },
          "execution_count": 605
        }
      ]
    },
    {
      "cell_type": "code",
      "metadata": {
        "colab": {
          "base_uri": "https://localhost:8080/",
          "height": 0
        },
        "id": "W_JpH2PRRbwX",
        "outputId": "9607379c-2f25-4563-e2f0-4b39c4878a1c"
      },
      "source": [
        "#actualvDf=actualvDf.drop(['procedure_area','area_comp'],axis=1)\n",
        "actualvDf.head()"
      ],
      "execution_count": 606,
      "outputs": [
        {
          "output_type": "execute_result",
          "data": {
            "text/html": [
              "<div>\n",
              "<style scoped>\n",
              "    .dataframe tbody tr th:only-of-type {\n",
              "        vertical-align: middle;\n",
              "    }\n",
              "\n",
              "    .dataframe tbody tr th {\n",
              "        vertical-align: top;\n",
              "    }\n",
              "\n",
              "    .dataframe thead th {\n",
              "        text-align: right;\n",
              "    }\n",
              "</style>\n",
              "<table border=\"1\" class=\"dataframe\">\n",
              "  <thead>\n",
              "    <tr style=\"text-align: right;\">\n",
              "      <th></th>\n",
              "      <th>procedure_year</th>\n",
              "      <th>procedure_number</th>\n",
              "      <th>instance_date</th>\n",
              "      <th>actual_worth</th>\n",
              "      <th>procedure_area</th>\n",
              "      <th>property_type_id</th>\n",
              "      <th>property_sub_type_id</th>\n",
              "      <th>area_id</th>\n",
              "      <th>actual_area</th>\n",
              "      <th>property_total_value</th>\n",
              "      <th>row_status</th>\n",
              "      <th>value_comp</th>\n",
              "      <th>property_category</th>\n",
              "      <th>area_comp</th>\n",
              "    </tr>\n",
              "  </thead>\n",
              "  <tbody>\n",
              "    <tr>\n",
              "      <th>4</th>\n",
              "      <td>2006</td>\n",
              "      <td>272</td>\n",
              "      <td>22-03-2006</td>\n",
              "      <td>3000000</td>\n",
              "      <td>1394</td>\n",
              "      <td>1</td>\n",
              "      <td>63</td>\n",
              "      <td>369</td>\n",
              "      <td>1394</td>\n",
              "      <td>3000000</td>\n",
              "      <td>1</td>\n",
              "      <td>1</td>\n",
              "      <td>2</td>\n",
              "      <td>1</td>\n",
              "    </tr>\n",
              "    <tr>\n",
              "      <th>5</th>\n",
              "      <td>2005</td>\n",
              "      <td>275</td>\n",
              "      <td>08-05-2005</td>\n",
              "      <td>26208000</td>\n",
              "      <td>4870</td>\n",
              "      <td>1</td>\n",
              "      <td>65</td>\n",
              "      <td>378</td>\n",
              "      <td>4870</td>\n",
              "      <td>26208000</td>\n",
              "      <td>1</td>\n",
              "      <td>1</td>\n",
              "      <td>1</td>\n",
              "      <td>1</td>\n",
              "    </tr>\n",
              "    <tr>\n",
              "      <th>8</th>\n",
              "      <td>2005</td>\n",
              "      <td>285</td>\n",
              "      <td>09-05-2005</td>\n",
              "      <td>2170000</td>\n",
              "      <td>1394</td>\n",
              "      <td>1</td>\n",
              "      <td>63</td>\n",
              "      <td>393</td>\n",
              "      <td>1394</td>\n",
              "      <td>2170000</td>\n",
              "      <td>1</td>\n",
              "      <td>1</td>\n",
              "      <td>2</td>\n",
              "      <td>1</td>\n",
              "    </tr>\n",
              "    <tr>\n",
              "      <th>9</th>\n",
              "      <td>2006</td>\n",
              "      <td>285</td>\n",
              "      <td>28-03-2006</td>\n",
              "      <td>4500000</td>\n",
              "      <td>1394</td>\n",
              "      <td>1</td>\n",
              "      <td>63</td>\n",
              "      <td>314</td>\n",
              "      <td>1394</td>\n",
              "      <td>4500000</td>\n",
              "      <td>1</td>\n",
              "      <td>1</td>\n",
              "      <td>2</td>\n",
              "      <td>1</td>\n",
              "    </tr>\n",
              "    <tr>\n",
              "      <th>13</th>\n",
              "      <td>2006</td>\n",
              "      <td>293</td>\n",
              "      <td>02-04-2006</td>\n",
              "      <td>5000000</td>\n",
              "      <td>311</td>\n",
              "      <td>1</td>\n",
              "      <td>63</td>\n",
              "      <td>233</td>\n",
              "      <td>311</td>\n",
              "      <td>5000000</td>\n",
              "      <td>1</td>\n",
              "      <td>1</td>\n",
              "      <td>2</td>\n",
              "      <td>1</td>\n",
              "    </tr>\n",
              "  </tbody>\n",
              "</table>\n",
              "</div>"
            ],
            "text/plain": [
              "    procedure_year  procedure_number  ... property_category  area_comp\n",
              "4             2006               272  ...                 2          1\n",
              "5             2005               275  ...                 1          1\n",
              "8             2005               285  ...                 2          1\n",
              "9             2006               285  ...                 2          1\n",
              "13            2006               293  ...                 2          1\n",
              "\n",
              "[5 rows x 14 columns]"
            ]
          },
          "metadata": {
            "tags": []
          },
          "execution_count": 606
        }
      ]
    },
    {
      "cell_type": "markdown",
      "metadata": {
        "id": "NWAx3im6f91c"
      },
      "source": [
        "###Instance_date and Procedure_year"
      ]
    },
    {
      "cell_type": "code",
      "metadata": {
        "id": "DYMIADLbTSgh"
      },
      "source": [
        "#Format instance Date and deduce year and month of valuation\n",
        "\n",
        "actualvDf['instance_date'] = pd.to_datetime(actualvDf.instance_date)\n",
        "\n",
        "actualvDf['Year'] = actualvDf['instance_date'].dt.year\n",
        "actualvDf['Month'] = actualvDf['instance_date'].dt.month\n"
      ],
      "execution_count": 607,
      "outputs": []
    },
    {
      "cell_type": "code",
      "metadata": {
        "colab": {
          "base_uri": "https://localhost:8080/",
          "height": 0
        },
        "id": "00ggak4mWUFP",
        "outputId": "09ec749f-bdf5-415e-cd0b-b802d43b5722"
      },
      "source": [
        "#Compare Procedure_year and year from instance date if they are always same\n",
        "actualvDf['year_comp'] = np.where(actualvDf['procedure_year'] == actualvDf['Year'],1,0)\n",
        "actualvDf.loc[actualvDf['year_comp'] == 0]"
      ],
      "execution_count": 608,
      "outputs": [
        {
          "output_type": "execute_result",
          "data": {
            "text/html": [
              "<div>\n",
              "<style scoped>\n",
              "    .dataframe tbody tr th:only-of-type {\n",
              "        vertical-align: middle;\n",
              "    }\n",
              "\n",
              "    .dataframe tbody tr th {\n",
              "        vertical-align: top;\n",
              "    }\n",
              "\n",
              "    .dataframe thead th {\n",
              "        text-align: right;\n",
              "    }\n",
              "</style>\n",
              "<table border=\"1\" class=\"dataframe\">\n",
              "  <thead>\n",
              "    <tr style=\"text-align: right;\">\n",
              "      <th></th>\n",
              "      <th>procedure_year</th>\n",
              "      <th>procedure_number</th>\n",
              "      <th>instance_date</th>\n",
              "      <th>actual_worth</th>\n",
              "      <th>procedure_area</th>\n",
              "      <th>property_type_id</th>\n",
              "      <th>property_sub_type_id</th>\n",
              "      <th>area_id</th>\n",
              "      <th>actual_area</th>\n",
              "      <th>property_total_value</th>\n",
              "      <th>row_status</th>\n",
              "      <th>value_comp</th>\n",
              "      <th>property_category</th>\n",
              "      <th>area_comp</th>\n",
              "      <th>Year</th>\n",
              "      <th>Month</th>\n",
              "      <th>year_comp</th>\n",
              "    </tr>\n",
              "  </thead>\n",
              "  <tbody>\n",
              "    <tr>\n",
              "      <th>298</th>\n",
              "      <td>2009</td>\n",
              "      <td>1215</td>\n",
              "      <td>2010-02-15</td>\n",
              "      <td>-1</td>\n",
              "      <td>334</td>\n",
              "      <td>1</td>\n",
              "      <td>63</td>\n",
              "      <td>300</td>\n",
              "      <td>334</td>\n",
              "      <td>1100000</td>\n",
              "      <td>1</td>\n",
              "      <td>0</td>\n",
              "      <td>2</td>\n",
              "      <td>1</td>\n",
              "      <td>2010</td>\n",
              "      <td>2</td>\n",
              "      <td>0</td>\n",
              "    </tr>\n",
              "    <tr>\n",
              "      <th>525</th>\n",
              "      <td>2010</td>\n",
              "      <td>1104</td>\n",
              "      <td>2011-10-20</td>\n",
              "      <td>11014500</td>\n",
              "      <td>4599</td>\n",
              "      <td>1</td>\n",
              "      <td>65</td>\n",
              "      <td>373</td>\n",
              "      <td>4599</td>\n",
              "      <td>11014500</td>\n",
              "      <td>1</td>\n",
              "      <td>1</td>\n",
              "      <td>1</td>\n",
              "      <td>1</td>\n",
              "      <td>2011</td>\n",
              "      <td>10</td>\n",
              "      <td>0</td>\n",
              "    </tr>\n",
              "    <tr>\n",
              "      <th>533</th>\n",
              "      <td>2010</td>\n",
              "      <td>1128</td>\n",
              "      <td>2011-10-20</td>\n",
              "      <td>960000</td>\n",
              "      <td>557</td>\n",
              "      <td>1</td>\n",
              "      <td>3</td>\n",
              "      <td>318</td>\n",
              "      <td>557</td>\n",
              "      <td>960000</td>\n",
              "      <td>1</td>\n",
              "      <td>1</td>\n",
              "      <td>2</td>\n",
              "      <td>1</td>\n",
              "      <td>2011</td>\n",
              "      <td>10</td>\n",
              "      <td>0</td>\n",
              "    </tr>\n",
              "    <tr>\n",
              "      <th>534</th>\n",
              "      <td>2010</td>\n",
              "      <td>1129</td>\n",
              "      <td>2011-10-20</td>\n",
              "      <td>30000</td>\n",
              "      <td>37</td>\n",
              "      <td>1</td>\n",
              "      <td>nan</td>\n",
              "      <td>264</td>\n",
              "      <td>37</td>\n",
              "      <td>30000</td>\n",
              "      <td>1</td>\n",
              "      <td>1</td>\n",
              "      <td>3</td>\n",
              "      <td>1</td>\n",
              "      <td>2011</td>\n",
              "      <td>10</td>\n",
              "      <td>0</td>\n",
              "    </tr>\n",
              "    <tr>\n",
              "      <th>535</th>\n",
              "      <td>2010</td>\n",
              "      <td>1130</td>\n",
              "      <td>2011-10-20</td>\n",
              "      <td>28000</td>\n",
              "      <td>37</td>\n",
              "      <td>1</td>\n",
              "      <td>nan</td>\n",
              "      <td>401</td>\n",
              "      <td>37</td>\n",
              "      <td>28000</td>\n",
              "      <td>1</td>\n",
              "      <td>1</td>\n",
              "      <td>3</td>\n",
              "      <td>1</td>\n",
              "      <td>2011</td>\n",
              "      <td>10</td>\n",
              "      <td>0</td>\n",
              "    </tr>\n",
              "    <tr>\n",
              "      <th>...</th>\n",
              "      <td>...</td>\n",
              "      <td>...</td>\n",
              "      <td>...</td>\n",
              "      <td>...</td>\n",
              "      <td>...</td>\n",
              "      <td>...</td>\n",
              "      <td>...</td>\n",
              "      <td>...</td>\n",
              "      <td>...</td>\n",
              "      <td>...</td>\n",
              "      <td>...</td>\n",
              "      <td>...</td>\n",
              "      <td>...</td>\n",
              "      <td>...</td>\n",
              "      <td>...</td>\n",
              "      <td>...</td>\n",
              "      <td>...</td>\n",
              "    </tr>\n",
              "    <tr>\n",
              "      <th>10362</th>\n",
              "      <td>2011</td>\n",
              "      <td>1801</td>\n",
              "      <td>2012-01-17</td>\n",
              "      <td>3500000</td>\n",
              "      <td>929</td>\n",
              "      <td>1</td>\n",
              "      <td>63</td>\n",
              "      <td>318</td>\n",
              "      <td>929</td>\n",
              "      <td>3500000</td>\n",
              "      <td>1</td>\n",
              "      <td>1</td>\n",
              "      <td>2</td>\n",
              "      <td>1</td>\n",
              "      <td>2012</td>\n",
              "      <td>1</td>\n",
              "      <td>0</td>\n",
              "    </tr>\n",
              "    <tr>\n",
              "      <th>10428</th>\n",
              "      <td>2011</td>\n",
              "      <td>1775</td>\n",
              "      <td>2012-05-01</td>\n",
              "      <td>10500000</td>\n",
              "      <td>2134</td>\n",
              "      <td>1</td>\n",
              "      <td>63</td>\n",
              "      <td>375</td>\n",
              "      <td>2134</td>\n",
              "      <td>10500000</td>\n",
              "      <td>1</td>\n",
              "      <td>1</td>\n",
              "      <td>2</td>\n",
              "      <td>1</td>\n",
              "      <td>2012</td>\n",
              "      <td>5</td>\n",
              "      <td>0</td>\n",
              "    </tr>\n",
              "    <tr>\n",
              "      <th>10429</th>\n",
              "      <td>2011</td>\n",
              "      <td>1780</td>\n",
              "      <td>2012-05-01</td>\n",
              "      <td>1000000</td>\n",
              "      <td>109</td>\n",
              "      <td>3</td>\n",
              "      <td>60</td>\n",
              "      <td>330</td>\n",
              "      <td>109</td>\n",
              "      <td>1000000</td>\n",
              "      <td>1</td>\n",
              "      <td>1</td>\n",
              "      <td>2</td>\n",
              "      <td>1</td>\n",
              "      <td>2012</td>\n",
              "      <td>5</td>\n",
              "      <td>0</td>\n",
              "    </tr>\n",
              "    <tr>\n",
              "      <th>10500</th>\n",
              "      <td>2011</td>\n",
              "      <td>1755</td>\n",
              "      <td>2012-05-01</td>\n",
              "      <td>4650000</td>\n",
              "      <td>1394</td>\n",
              "      <td>1</td>\n",
              "      <td>63</td>\n",
              "      <td>314</td>\n",
              "      <td>1394</td>\n",
              "      <td>4650000</td>\n",
              "      <td>1</td>\n",
              "      <td>1</td>\n",
              "      <td>2</td>\n",
              "      <td>1</td>\n",
              "      <td>2012</td>\n",
              "      <td>5</td>\n",
              "      <td>0</td>\n",
              "    </tr>\n",
              "    <tr>\n",
              "      <th>10503</th>\n",
              "      <td>2011</td>\n",
              "      <td>1796</td>\n",
              "      <td>2012-01-17</td>\n",
              "      <td>78395760</td>\n",
              "      <td>91040</td>\n",
              "      <td>1</td>\n",
              "      <td>64</td>\n",
              "      <td>493</td>\n",
              "      <td>91040</td>\n",
              "      <td>78395760</td>\n",
              "      <td>1</td>\n",
              "      <td>1</td>\n",
              "      <td>3</td>\n",
              "      <td>1</td>\n",
              "      <td>2012</td>\n",
              "      <td>1</td>\n",
              "      <td>0</td>\n",
              "    </tr>\n",
              "  </tbody>\n",
              "</table>\n",
              "<p>62 rows × 17 columns</p>\n",
              "</div>"
            ],
            "text/plain": [
              "       procedure_year  procedure_number instance_date  ...  Year  Month  year_comp\n",
              "298              2009              1215    2010-02-15  ...  2010      2          0\n",
              "525              2010              1104    2011-10-20  ...  2011     10          0\n",
              "533              2010              1128    2011-10-20  ...  2011     10          0\n",
              "534              2010              1129    2011-10-20  ...  2011     10          0\n",
              "535              2010              1130    2011-10-20  ...  2011     10          0\n",
              "...               ...               ...           ...  ...   ...    ...        ...\n",
              "10362            2011              1801    2012-01-17  ...  2012      1          0\n",
              "10428            2011              1775    2012-05-01  ...  2012      5          0\n",
              "10429            2011              1780    2012-05-01  ...  2012      5          0\n",
              "10500            2011              1755    2012-05-01  ...  2012      5          0\n",
              "10503            2011              1796    2012-01-17  ...  2012      1          0\n",
              "\n",
              "[62 rows x 17 columns]"
            ]
          },
          "metadata": {
            "tags": []
          },
          "execution_count": 608
        }
      ]
    },
    {
      "cell_type": "code",
      "metadata": {
        "colab": {
          "base_uri": "https://localhost:8080/",
          "height": 0
        },
        "id": "cW6Rrr1QWljD",
        "outputId": "de2852e0-ed61-4c61-b12d-aef4140f4a80"
      },
      "source": [
        "#Dropping columns\n",
        "#actualvDf=actualvDf.drop(['procedure_year','instance_date','year_comp'],axis=1)\n",
        "actualvDf.tail()"
      ],
      "execution_count": 609,
      "outputs": [
        {
          "output_type": "execute_result",
          "data": {
            "text/html": [
              "<div>\n",
              "<style scoped>\n",
              "    .dataframe tbody tr th:only-of-type {\n",
              "        vertical-align: middle;\n",
              "    }\n",
              "\n",
              "    .dataframe tbody tr th {\n",
              "        vertical-align: top;\n",
              "    }\n",
              "\n",
              "    .dataframe thead th {\n",
              "        text-align: right;\n",
              "    }\n",
              "</style>\n",
              "<table border=\"1\" class=\"dataframe\">\n",
              "  <thead>\n",
              "    <tr style=\"text-align: right;\">\n",
              "      <th></th>\n",
              "      <th>procedure_year</th>\n",
              "      <th>procedure_number</th>\n",
              "      <th>instance_date</th>\n",
              "      <th>actual_worth</th>\n",
              "      <th>procedure_area</th>\n",
              "      <th>property_type_id</th>\n",
              "      <th>property_sub_type_id</th>\n",
              "      <th>area_id</th>\n",
              "      <th>actual_area</th>\n",
              "      <th>property_total_value</th>\n",
              "      <th>row_status</th>\n",
              "      <th>value_comp</th>\n",
              "      <th>property_category</th>\n",
              "      <th>area_comp</th>\n",
              "      <th>Year</th>\n",
              "      <th>Month</th>\n",
              "      <th>year_comp</th>\n",
              "    </tr>\n",
              "  </thead>\n",
              "  <tbody>\n",
              "    <tr>\n",
              "      <th>59382</th>\n",
              "      <td>2021</td>\n",
              "      <td>2178</td>\n",
              "      <td>2021-03-06</td>\n",
              "      <td>956842647</td>\n",
              "      <td>1532650</td>\n",
              "      <td>1</td>\n",
              "      <td>63</td>\n",
              "      <td>451</td>\n",
              "      <td>1532650</td>\n",
              "      <td>956842647</td>\n",
              "      <td>1</td>\n",
              "      <td>1</td>\n",
              "      <td>2</td>\n",
              "      <td>1</td>\n",
              "      <td>2021</td>\n",
              "      <td>3</td>\n",
              "      <td>1</td>\n",
              "    </tr>\n",
              "    <tr>\n",
              "      <th>59383</th>\n",
              "      <td>2021</td>\n",
              "      <td>2181</td>\n",
              "      <td>2021-06-06</td>\n",
              "      <td>5991994</td>\n",
              "      <td>795</td>\n",
              "      <td>1</td>\n",
              "      <td>63</td>\n",
              "      <td>375</td>\n",
              "      <td>795</td>\n",
              "      <td>5991994</td>\n",
              "      <td>1</td>\n",
              "      <td>1</td>\n",
              "      <td>2</td>\n",
              "      <td>1</td>\n",
              "      <td>2021</td>\n",
              "      <td>6</td>\n",
              "      <td>1</td>\n",
              "    </tr>\n",
              "    <tr>\n",
              "      <th>59384</th>\n",
              "      <td>2021</td>\n",
              "      <td>2182</td>\n",
              "      <td>2021-06-06</td>\n",
              "      <td>2005800</td>\n",
              "      <td>929</td>\n",
              "      <td>1</td>\n",
              "      <td>nan</td>\n",
              "      <td>497</td>\n",
              "      <td>929</td>\n",
              "      <td>2005800</td>\n",
              "      <td>3</td>\n",
              "      <td>1</td>\n",
              "      <td>3</td>\n",
              "      <td>1</td>\n",
              "      <td>2021</td>\n",
              "      <td>6</td>\n",
              "      <td>1</td>\n",
              "    </tr>\n",
              "    <tr>\n",
              "      <th>59385</th>\n",
              "      <td>2021</td>\n",
              "      <td>2183</td>\n",
              "      <td>2021-06-06</td>\n",
              "      <td>2139200</td>\n",
              "      <td>225</td>\n",
              "      <td>2</td>\n",
              "      <td>4</td>\n",
              "      <td>445</td>\n",
              "      <td>225</td>\n",
              "      <td>2139200</td>\n",
              "      <td>1</td>\n",
              "      <td>1</td>\n",
              "      <td>2</td>\n",
              "      <td>1</td>\n",
              "      <td>2021</td>\n",
              "      <td>6</td>\n",
              "      <td>1</td>\n",
              "    </tr>\n",
              "    <tr>\n",
              "      <th>59387</th>\n",
              "      <td>2021</td>\n",
              "      <td>2185</td>\n",
              "      <td>2021-06-06</td>\n",
              "      <td>727166</td>\n",
              "      <td>69</td>\n",
              "      <td>3</td>\n",
              "      <td>60</td>\n",
              "      <td>526</td>\n",
              "      <td>69</td>\n",
              "      <td>727166</td>\n",
              "      <td>1</td>\n",
              "      <td>1</td>\n",
              "      <td>2</td>\n",
              "      <td>1</td>\n",
              "      <td>2021</td>\n",
              "      <td>6</td>\n",
              "      <td>1</td>\n",
              "    </tr>\n",
              "  </tbody>\n",
              "</table>\n",
              "</div>"
            ],
            "text/plain": [
              "       procedure_year  procedure_number instance_date  ...  Year  Month  year_comp\n",
              "59382            2021              2178    2021-03-06  ...  2021      3          1\n",
              "59383            2021              2181    2021-06-06  ...  2021      6          1\n",
              "59384            2021              2182    2021-06-06  ...  2021      6          1\n",
              "59385            2021              2183    2021-06-06  ...  2021      6          1\n",
              "59387            2021              2185    2021-06-06  ...  2021      6          1\n",
              "\n",
              "[5 rows x 17 columns]"
            ]
          },
          "metadata": {
            "tags": []
          },
          "execution_count": 609
        }
      ]
    },
    {
      "cell_type": "markdown",
      "metadata": {
        "id": "VCocBrhqg6aA"
      },
      "source": [
        "###Formatting numeric values to 0 float integers"
      ]
    },
    {
      "cell_type": "code",
      "metadata": {
        "id": "hHFzcNHNhoX0"
      },
      "source": [
        "#\n",
        "\n",
        "#pd.options.display.float_format = '{:.0f}'.format"
      ],
      "execution_count": 610,
      "outputs": []
    },
    {
      "cell_type": "markdown",
      "metadata": {
        "id": "R35rUvw8L5b6"
      },
      "source": [
        "###Reducing dimensions"
      ]
    },
    {
      "cell_type": "code",
      "metadata": {
        "id": "VLkvY4KQL4pM"
      },
      "source": [
        "corr_matrix = actualvDf[actualvDf.columns[1:]].corr()['actual_area'][:-1]"
      ],
      "execution_count": 611,
      "outputs": []
    },
    {
      "cell_type": "code",
      "metadata": {
        "colab": {
          "base_uri": "https://localhost:8080/"
        },
        "id": "CahzNSYlRWA6",
        "outputId": "edc98c43-7cbf-4f32-913a-d11f3126601f"
      },
      "source": [
        "corr_matrix"
      ],
      "execution_count": 612,
      "outputs": [
        {
          "output_type": "execute_result",
          "data": {
            "text/plain": [
              "procedure_number       -0\n",
              "actual_worth            1\n",
              "procedure_area          0\n",
              "property_type_id       -0\n",
              "property_sub_type_id    0\n",
              "area_id                 0\n",
              "actual_area             1\n",
              "property_total_value    1\n",
              "value_comp             -0\n",
              "area_comp              -0\n",
              "Year                    0\n",
              "Month                  -0\n",
              "Name: actual_area, dtype: float64"
            ]
          },
          "metadata": {
            "tags": []
          },
          "execution_count": 612
        }
      ]
    },
    {
      "cell_type": "code",
      "metadata": {
        "id": "eX_Xzm7zKv3w"
      },
      "source": [
        "#0.99 correlation is very close so dropping a column\n",
        "actualvDf = actualvDf.drop(['actual_worth'],axis=1)"
      ],
      "execution_count": 613,
      "outputs": []
    },
    {
      "cell_type": "code",
      "metadata": {
        "id": "bPjyhlAHO1dq"
      },
      "source": [
        "\n",
        "actualvDf = actualvDf.drop(['actual_area'],axis=1)"
      ],
      "execution_count": 614,
      "outputs": []
    },
    {
      "cell_type": "code",
      "metadata": {
        "id": "0XnQrKkkPYKz"
      },
      "source": [
        "actualvDf = actualvDf.drop(['procedure_year'],axis=1)"
      ],
      "execution_count": 615,
      "outputs": []
    },
    {
      "cell_type": "code",
      "metadata": {
        "id": "zOME6-pUPST4"
      },
      "source": [
        "actualvDf = actualvDf.drop(['year_comp'],axis=1)"
      ],
      "execution_count": 616,
      "outputs": []
    },
    {
      "cell_type": "code",
      "metadata": {
        "id": "SZdjTebXPVrN"
      },
      "source": [
        "actualvDf = actualvDf.drop(['value_comp'],axis=1)"
      ],
      "execution_count": 617,
      "outputs": []
    },
    {
      "cell_type": "code",
      "metadata": {
        "id": "BwhoV8qvPXOK"
      },
      "source": [
        "actualvDf = actualvDf.drop(['area_comp'],axis=1)"
      ],
      "execution_count": 618,
      "outputs": []
    },
    {
      "cell_type": "code",
      "metadata": {
        "id": "G_uEimixUWqP"
      },
      "source": [
        "actualvDf = actualvDf.drop(['instance_date'],axis=1)"
      ],
      "execution_count": 619,
      "outputs": []
    },
    {
      "cell_type": "code",
      "metadata": {
        "id": "7EV9dRDaUT8z"
      },
      "source": [
        "df = actualvDf\n",
        "actualvDf = actualvDf.drop(['procedure_number'],axis=1)"
      ],
      "execution_count": 620,
      "outputs": []
    },
    {
      "cell_type": "code",
      "metadata": {
        "colab": {
          "base_uri": "https://localhost:8080/",
          "height": 223
        },
        "id": "5IhlFR1vVK09",
        "outputId": "85d90491-0c13-44c9-90e2-bd8d016ad5bc"
      },
      "source": [
        "df.head()"
      ],
      "execution_count": 621,
      "outputs": [
        {
          "output_type": "execute_result",
          "data": {
            "text/html": [
              "<div>\n",
              "<style scoped>\n",
              "    .dataframe tbody tr th:only-of-type {\n",
              "        vertical-align: middle;\n",
              "    }\n",
              "\n",
              "    .dataframe tbody tr th {\n",
              "        vertical-align: top;\n",
              "    }\n",
              "\n",
              "    .dataframe thead th {\n",
              "        text-align: right;\n",
              "    }\n",
              "</style>\n",
              "<table border=\"1\" class=\"dataframe\">\n",
              "  <thead>\n",
              "    <tr style=\"text-align: right;\">\n",
              "      <th></th>\n",
              "      <th>procedure_number</th>\n",
              "      <th>procedure_area</th>\n",
              "      <th>property_type_id</th>\n",
              "      <th>property_sub_type_id</th>\n",
              "      <th>area_id</th>\n",
              "      <th>property_total_value</th>\n",
              "      <th>row_status</th>\n",
              "      <th>property_category</th>\n",
              "      <th>Year</th>\n",
              "      <th>Month</th>\n",
              "    </tr>\n",
              "  </thead>\n",
              "  <tbody>\n",
              "    <tr>\n",
              "      <th>4</th>\n",
              "      <td>272</td>\n",
              "      <td>1394</td>\n",
              "      <td>1</td>\n",
              "      <td>63</td>\n",
              "      <td>369</td>\n",
              "      <td>3000000</td>\n",
              "      <td>1</td>\n",
              "      <td>2</td>\n",
              "      <td>2006</td>\n",
              "      <td>3</td>\n",
              "    </tr>\n",
              "    <tr>\n",
              "      <th>5</th>\n",
              "      <td>275</td>\n",
              "      <td>4870</td>\n",
              "      <td>1</td>\n",
              "      <td>65</td>\n",
              "      <td>378</td>\n",
              "      <td>26208000</td>\n",
              "      <td>1</td>\n",
              "      <td>1</td>\n",
              "      <td>2005</td>\n",
              "      <td>8</td>\n",
              "    </tr>\n",
              "    <tr>\n",
              "      <th>8</th>\n",
              "      <td>285</td>\n",
              "      <td>1394</td>\n",
              "      <td>1</td>\n",
              "      <td>63</td>\n",
              "      <td>393</td>\n",
              "      <td>2170000</td>\n",
              "      <td>1</td>\n",
              "      <td>2</td>\n",
              "      <td>2005</td>\n",
              "      <td>9</td>\n",
              "    </tr>\n",
              "    <tr>\n",
              "      <th>9</th>\n",
              "      <td>285</td>\n",
              "      <td>1394</td>\n",
              "      <td>1</td>\n",
              "      <td>63</td>\n",
              "      <td>314</td>\n",
              "      <td>4500000</td>\n",
              "      <td>1</td>\n",
              "      <td>2</td>\n",
              "      <td>2006</td>\n",
              "      <td>3</td>\n",
              "    </tr>\n",
              "    <tr>\n",
              "      <th>13</th>\n",
              "      <td>293</td>\n",
              "      <td>311</td>\n",
              "      <td>1</td>\n",
              "      <td>63</td>\n",
              "      <td>233</td>\n",
              "      <td>5000000</td>\n",
              "      <td>1</td>\n",
              "      <td>2</td>\n",
              "      <td>2006</td>\n",
              "      <td>2</td>\n",
              "    </tr>\n",
              "  </tbody>\n",
              "</table>\n",
              "</div>"
            ],
            "text/plain": [
              "    procedure_number  procedure_area  ...  Year  Month\n",
              "4                272            1394  ...  2006      3\n",
              "5                275            4870  ...  2005      8\n",
              "8                285            1394  ...  2005      9\n",
              "9                285            1394  ...  2006      3\n",
              "13               293             311  ...  2006      2\n",
              "\n",
              "[5 rows x 10 columns]"
            ]
          },
          "metadata": {
            "tags": []
          },
          "execution_count": 621
        }
      ]
    },
    {
      "cell_type": "markdown",
      "metadata": {
        "id": "6LIx2qFfhCLf"
      },
      "source": [
        "###Dropping null values"
      ]
    },
    {
      "cell_type": "code",
      "metadata": {
        "colab": {
          "base_uri": "https://localhost:8080/"
        },
        "id": "54DH9ejCk7MS",
        "outputId": "89e86582-1ce4-4670-c1e2-2c17cd0289ff"
      },
      "source": [
        "actualvDf.shape"
      ],
      "execution_count": 622,
      "outputs": [
        {
          "output_type": "execute_result",
          "data": {
            "text/plain": [
              "(39736, 9)"
            ]
          },
          "metadata": {
            "tags": []
          },
          "execution_count": 622
        }
      ]
    },
    {
      "cell_type": "code",
      "metadata": {
        "colab": {
          "base_uri": "https://localhost:8080/"
        },
        "id": "XoqPY5tRqdUT",
        "outputId": "2d4f9052-db35-488f-fcd0-db48b97cac77"
      },
      "source": [
        "actualvDf.isnull().sum()"
      ],
      "execution_count": 623,
      "outputs": [
        {
          "output_type": "execute_result",
          "data": {
            "text/plain": [
              "procedure_area             6\n",
              "property_type_id           0\n",
              "property_sub_type_id    3783\n",
              "area_id                    2\n",
              "property_total_value       5\n",
              "row_status                 0\n",
              "property_category          0\n",
              "Year                       0\n",
              "Month                      0\n",
              "dtype: int64"
            ]
          },
          "metadata": {
            "tags": []
          },
          "execution_count": 623
        }
      ]
    },
    {
      "cell_type": "code",
      "metadata": {
        "id": "37AepgtUHJVX"
      },
      "source": [
        "actualvDf = actualvDf.dropna(axis=0)"
      ],
      "execution_count": 624,
      "outputs": []
    },
    {
      "cell_type": "code",
      "metadata": {
        "colab": {
          "base_uri": "https://localhost:8080/"
        },
        "id": "woacb0lYlBRq",
        "outputId": "9c34dadc-eddd-424e-ec65-ec07ad4d9566"
      },
      "source": [
        "actualvDf.shape"
      ],
      "execution_count": 625,
      "outputs": [
        {
          "output_type": "execute_result",
          "data": {
            "text/plain": [
              "(35942, 9)"
            ]
          },
          "metadata": {
            "tags": []
          },
          "execution_count": 625
        }
      ]
    },
    {
      "cell_type": "code",
      "metadata": {
        "colab": {
          "base_uri": "https://localhost:8080/",
          "height": 203
        },
        "id": "17oMAo8ChvAe",
        "outputId": "1e049717-4ea7-452d-d38b-23cb739b85d8"
      },
      "source": [
        "actualvDf.head()"
      ],
      "execution_count": 626,
      "outputs": [
        {
          "output_type": "execute_result",
          "data": {
            "text/html": [
              "<div>\n",
              "<style scoped>\n",
              "    .dataframe tbody tr th:only-of-type {\n",
              "        vertical-align: middle;\n",
              "    }\n",
              "\n",
              "    .dataframe tbody tr th {\n",
              "        vertical-align: top;\n",
              "    }\n",
              "\n",
              "    .dataframe thead th {\n",
              "        text-align: right;\n",
              "    }\n",
              "</style>\n",
              "<table border=\"1\" class=\"dataframe\">\n",
              "  <thead>\n",
              "    <tr style=\"text-align: right;\">\n",
              "      <th></th>\n",
              "      <th>procedure_area</th>\n",
              "      <th>property_type_id</th>\n",
              "      <th>property_sub_type_id</th>\n",
              "      <th>area_id</th>\n",
              "      <th>property_total_value</th>\n",
              "      <th>row_status</th>\n",
              "      <th>property_category</th>\n",
              "      <th>Year</th>\n",
              "      <th>Month</th>\n",
              "    </tr>\n",
              "  </thead>\n",
              "  <tbody>\n",
              "    <tr>\n",
              "      <th>4</th>\n",
              "      <td>1394</td>\n",
              "      <td>1</td>\n",
              "      <td>63</td>\n",
              "      <td>369</td>\n",
              "      <td>3000000</td>\n",
              "      <td>1</td>\n",
              "      <td>2</td>\n",
              "      <td>2006</td>\n",
              "      <td>3</td>\n",
              "    </tr>\n",
              "    <tr>\n",
              "      <th>5</th>\n",
              "      <td>4870</td>\n",
              "      <td>1</td>\n",
              "      <td>65</td>\n",
              "      <td>378</td>\n",
              "      <td>26208000</td>\n",
              "      <td>1</td>\n",
              "      <td>1</td>\n",
              "      <td>2005</td>\n",
              "      <td>8</td>\n",
              "    </tr>\n",
              "    <tr>\n",
              "      <th>8</th>\n",
              "      <td>1394</td>\n",
              "      <td>1</td>\n",
              "      <td>63</td>\n",
              "      <td>393</td>\n",
              "      <td>2170000</td>\n",
              "      <td>1</td>\n",
              "      <td>2</td>\n",
              "      <td>2005</td>\n",
              "      <td>9</td>\n",
              "    </tr>\n",
              "    <tr>\n",
              "      <th>9</th>\n",
              "      <td>1394</td>\n",
              "      <td>1</td>\n",
              "      <td>63</td>\n",
              "      <td>314</td>\n",
              "      <td>4500000</td>\n",
              "      <td>1</td>\n",
              "      <td>2</td>\n",
              "      <td>2006</td>\n",
              "      <td>3</td>\n",
              "    </tr>\n",
              "    <tr>\n",
              "      <th>13</th>\n",
              "      <td>311</td>\n",
              "      <td>1</td>\n",
              "      <td>63</td>\n",
              "      <td>233</td>\n",
              "      <td>5000000</td>\n",
              "      <td>1</td>\n",
              "      <td>2</td>\n",
              "      <td>2006</td>\n",
              "      <td>2</td>\n",
              "    </tr>\n",
              "  </tbody>\n",
              "</table>\n",
              "</div>"
            ],
            "text/plain": [
              "    procedure_area  property_type_id  ...  Year  Month\n",
              "4             1394                 1  ...  2006      3\n",
              "5             4870                 1  ...  2005      8\n",
              "8             1394                 1  ...  2005      9\n",
              "9             1394                 1  ...  2006      3\n",
              "13             311                 1  ...  2006      2\n",
              "\n",
              "[5 rows x 9 columns]"
            ]
          },
          "metadata": {
            "tags": []
          },
          "execution_count": 626
        }
      ]
    },
    {
      "cell_type": "code",
      "metadata": {
        "colab": {
          "base_uri": "https://localhost:8080/"
        },
        "id": "pAzP7xfwqXGS",
        "outputId": "045f021f-20e0-4d03-deda-9bb5a2d25099"
      },
      "source": [
        "# Count missing values in the dataframe\n",
        "actualvDf.isnull().sum()"
      ],
      "execution_count": 627,
      "outputs": [
        {
          "output_type": "execute_result",
          "data": {
            "text/plain": [
              "procedure_area          0\n",
              "property_type_id        0\n",
              "property_sub_type_id    0\n",
              "area_id                 0\n",
              "property_total_value    0\n",
              "row_status              0\n",
              "property_category       0\n",
              "Year                    0\n",
              "Month                   0\n",
              "dtype: int64"
            ]
          },
          "metadata": {
            "tags": []
          },
          "execution_count": 627
        }
      ]
    },
    {
      "cell_type": "markdown",
      "metadata": {
        "id": "hUC9HQbqro65"
      },
      "source": [
        "##EDA"
      ]
    },
    {
      "cell_type": "code",
      "metadata": {
        "colab": {
          "base_uri": "https://localhost:8080/",
          "height": 203
        },
        "id": "jdGhECWursMn",
        "outputId": "8db26651-0a9f-4324-90cc-b001fbbcfa49"
      },
      "source": [
        "actualvDf.head()"
      ],
      "execution_count": 628,
      "outputs": [
        {
          "output_type": "execute_result",
          "data": {
            "text/html": [
              "<div>\n",
              "<style scoped>\n",
              "    .dataframe tbody tr th:only-of-type {\n",
              "        vertical-align: middle;\n",
              "    }\n",
              "\n",
              "    .dataframe tbody tr th {\n",
              "        vertical-align: top;\n",
              "    }\n",
              "\n",
              "    .dataframe thead th {\n",
              "        text-align: right;\n",
              "    }\n",
              "</style>\n",
              "<table border=\"1\" class=\"dataframe\">\n",
              "  <thead>\n",
              "    <tr style=\"text-align: right;\">\n",
              "      <th></th>\n",
              "      <th>procedure_area</th>\n",
              "      <th>property_type_id</th>\n",
              "      <th>property_sub_type_id</th>\n",
              "      <th>area_id</th>\n",
              "      <th>property_total_value</th>\n",
              "      <th>row_status</th>\n",
              "      <th>property_category</th>\n",
              "      <th>Year</th>\n",
              "      <th>Month</th>\n",
              "    </tr>\n",
              "  </thead>\n",
              "  <tbody>\n",
              "    <tr>\n",
              "      <th>4</th>\n",
              "      <td>1394</td>\n",
              "      <td>1</td>\n",
              "      <td>63</td>\n",
              "      <td>369</td>\n",
              "      <td>3000000</td>\n",
              "      <td>1</td>\n",
              "      <td>2</td>\n",
              "      <td>2006</td>\n",
              "      <td>3</td>\n",
              "    </tr>\n",
              "    <tr>\n",
              "      <th>5</th>\n",
              "      <td>4870</td>\n",
              "      <td>1</td>\n",
              "      <td>65</td>\n",
              "      <td>378</td>\n",
              "      <td>26208000</td>\n",
              "      <td>1</td>\n",
              "      <td>1</td>\n",
              "      <td>2005</td>\n",
              "      <td>8</td>\n",
              "    </tr>\n",
              "    <tr>\n",
              "      <th>8</th>\n",
              "      <td>1394</td>\n",
              "      <td>1</td>\n",
              "      <td>63</td>\n",
              "      <td>393</td>\n",
              "      <td>2170000</td>\n",
              "      <td>1</td>\n",
              "      <td>2</td>\n",
              "      <td>2005</td>\n",
              "      <td>9</td>\n",
              "    </tr>\n",
              "    <tr>\n",
              "      <th>9</th>\n",
              "      <td>1394</td>\n",
              "      <td>1</td>\n",
              "      <td>63</td>\n",
              "      <td>314</td>\n",
              "      <td>4500000</td>\n",
              "      <td>1</td>\n",
              "      <td>2</td>\n",
              "      <td>2006</td>\n",
              "      <td>3</td>\n",
              "    </tr>\n",
              "    <tr>\n",
              "      <th>13</th>\n",
              "      <td>311</td>\n",
              "      <td>1</td>\n",
              "      <td>63</td>\n",
              "      <td>233</td>\n",
              "      <td>5000000</td>\n",
              "      <td>1</td>\n",
              "      <td>2</td>\n",
              "      <td>2006</td>\n",
              "      <td>2</td>\n",
              "    </tr>\n",
              "  </tbody>\n",
              "</table>\n",
              "</div>"
            ],
            "text/plain": [
              "    procedure_area  property_type_id  ...  Year  Month\n",
              "4             1394                 1  ...  2006      3\n",
              "5             4870                 1  ...  2005      8\n",
              "8             1394                 1  ...  2005      9\n",
              "9             1394                 1  ...  2006      3\n",
              "13             311                 1  ...  2006      2\n",
              "\n",
              "[5 rows x 9 columns]"
            ]
          },
          "metadata": {
            "tags": []
          },
          "execution_count": 628
        }
      ]
    },
    {
      "cell_type": "code",
      "metadata": {
        "colab": {
          "base_uri": "https://localhost:8080/"
        },
        "id": "o2_cWml1sb01",
        "outputId": "e2ef1c43-f227-46d0-a15c-247494f50f89"
      },
      "source": [
        "actualvDf.Year.value_counts()"
      ],
      "execution_count": 629,
      "outputs": [
        {
          "output_type": "execute_result",
          "data": {
            "text/plain": [
              "2018    5157\n",
              "2017    5085\n",
              "2016    4253\n",
              "2015    4178\n",
              "2014    3487\n",
              "2019    2344\n",
              "2013    2140\n",
              "2020    1838\n",
              "2012    1447\n",
              "2021    1322\n",
              "2010     764\n",
              "2011     751\n",
              "2008     589\n",
              "2009     507\n",
              "2006     499\n",
              "2005     403\n",
              "2007     395\n",
              "2004     376\n",
              "2003     288\n",
              "2002     118\n",
              "2000       1\n",
              "Name: Year, dtype: int64"
            ]
          },
          "metadata": {
            "tags": []
          },
          "execution_count": 629
        }
      ]
    },
    {
      "cell_type": "code",
      "metadata": {
        "colab": {
          "base_uri": "https://localhost:8080/"
        },
        "id": "ALFbwtVAqJu1",
        "outputId": "edb970e5-02af-485d-f249-f59055cd839c"
      },
      "source": [
        "actualvDf.shape"
      ],
      "execution_count": 630,
      "outputs": [
        {
          "output_type": "execute_result",
          "data": {
            "text/plain": [
              "(35942, 9)"
            ]
          },
          "metadata": {
            "tags": []
          },
          "execution_count": 630
        }
      ]
    },
    {
      "cell_type": "markdown",
      "metadata": {
        "id": "8TRw4PNZsk2-"
      },
      "source": [
        "#####Looking at the yearly data we can remove the rows corresponding to the years as 2000 to 2011 (the clean data available for these years in not propotionate)"
      ]
    },
    {
      "cell_type": "code",
      "metadata": {
        "colab": {
          "base_uri": "https://localhost:8080/"
        },
        "id": "aRLfWO8km-lT",
        "outputId": "c373ca60-7fff-44f3-d62a-7c9f5be847ab"
      },
      "source": [
        "year_lst = [2000,2001,2002,2003,2004,2005,2006,2007,2008,2009,2010,2011]\n",
        "actualvDf.Year.replace(to_replace=year_lst, value=0000, inplace=True)\n",
        "actualvDf = actualvDf[actualvDf.Year != 0000]\n",
        "actualvDf.shape"
      ],
      "execution_count": 631,
      "outputs": [
        {
          "output_type": "execute_result",
          "data": {
            "text/plain": [
              "(31251, 9)"
            ]
          },
          "metadata": {
            "tags": []
          },
          "execution_count": 631
        }
      ]
    },
    {
      "cell_type": "code",
      "metadata": {
        "colab": {
          "base_uri": "https://localhost:8080/",
          "height": 295
        },
        "id": "EKRD8HDds7LM",
        "outputId": "63df5f27-4773-4358-e707-3d2c0ed13df8"
      },
      "source": [
        "#range of procedure_area\n",
        "actualvDf.describe()\n",
        "#df1 = df.iloc[:,0:2]"
      ],
      "execution_count": 632,
      "outputs": [
        {
          "output_type": "execute_result",
          "data": {
            "text/html": [
              "<div>\n",
              "<style scoped>\n",
              "    .dataframe tbody tr th:only-of-type {\n",
              "        vertical-align: middle;\n",
              "    }\n",
              "\n",
              "    .dataframe tbody tr th {\n",
              "        vertical-align: top;\n",
              "    }\n",
              "\n",
              "    .dataframe thead th {\n",
              "        text-align: right;\n",
              "    }\n",
              "</style>\n",
              "<table border=\"1\" class=\"dataframe\">\n",
              "  <thead>\n",
              "    <tr style=\"text-align: right;\">\n",
              "      <th></th>\n",
              "      <th>procedure_area</th>\n",
              "      <th>property_type_id</th>\n",
              "      <th>property_sub_type_id</th>\n",
              "      <th>area_id</th>\n",
              "      <th>property_total_value</th>\n",
              "      <th>Year</th>\n",
              "      <th>Month</th>\n",
              "    </tr>\n",
              "  </thead>\n",
              "  <tbody>\n",
              "    <tr>\n",
              "      <th>count</th>\n",
              "      <td>31251</td>\n",
              "      <td>31251</td>\n",
              "      <td>31251</td>\n",
              "      <td>31251</td>\n",
              "      <td>31251</td>\n",
              "      <td>31251</td>\n",
              "      <td>31251</td>\n",
              "    </tr>\n",
              "    <tr>\n",
              "      <th>mean</th>\n",
              "      <td>10362</td>\n",
              "      <td>2</td>\n",
              "      <td>56</td>\n",
              "      <td>381</td>\n",
              "      <td>18939128</td>\n",
              "      <td>2016</td>\n",
              "      <td>7</td>\n",
              "    </tr>\n",
              "    <tr>\n",
              "      <th>std</th>\n",
              "      <td>308206</td>\n",
              "      <td>1</td>\n",
              "      <td>15</td>\n",
              "      <td>79</td>\n",
              "      <td>102296875</td>\n",
              "      <td>2</td>\n",
              "      <td>4</td>\n",
              "    </tr>\n",
              "    <tr>\n",
              "      <th>min</th>\n",
              "      <td>0</td>\n",
              "      <td>1</td>\n",
              "      <td>1</td>\n",
              "      <td>230</td>\n",
              "      <td>160</td>\n",
              "      <td>2012</td>\n",
              "      <td>1</td>\n",
              "    </tr>\n",
              "    <tr>\n",
              "      <th>25%</th>\n",
              "      <td>112</td>\n",
              "      <td>1</td>\n",
              "      <td>60</td>\n",
              "      <td>330</td>\n",
              "      <td>1214172</td>\n",
              "      <td>2015</td>\n",
              "      <td>3</td>\n",
              "    </tr>\n",
              "    <tr>\n",
              "      <th>50%</th>\n",
              "      <td>311</td>\n",
              "      <td>1</td>\n",
              "      <td>60</td>\n",
              "      <td>364</td>\n",
              "      <td>2878159</td>\n",
              "      <td>2017</td>\n",
              "      <td>6</td>\n",
              "    </tr>\n",
              "    <tr>\n",
              "      <th>75%</th>\n",
              "      <td>1849</td>\n",
              "      <td>3</td>\n",
              "      <td>63</td>\n",
              "      <td>444</td>\n",
              "      <td>9660000</td>\n",
              "      <td>2018</td>\n",
              "      <td>10</td>\n",
              "    </tr>\n",
              "    <tr>\n",
              "      <th>max</th>\n",
              "      <td>50706244</td>\n",
              "      <td>3</td>\n",
              "      <td>112</td>\n",
              "      <td>531</td>\n",
              "      <td>9214432998</td>\n",
              "      <td>2021</td>\n",
              "      <td>12</td>\n",
              "    </tr>\n",
              "  </tbody>\n",
              "</table>\n",
              "</div>"
            ],
            "text/plain": [
              "       procedure_area  property_type_id  ...  Year  Month\n",
              "count           31251             31251  ... 31251  31251\n",
              "mean            10362                 2  ...  2016      7\n",
              "std            308206                 1  ...     2      4\n",
              "min                 0                 1  ...  2012      1\n",
              "25%               112                 1  ...  2015      3\n",
              "50%               311                 1  ...  2017      6\n",
              "75%              1849                 3  ...  2018     10\n",
              "max          50706244                 3  ...  2021     12\n",
              "\n",
              "[8 rows x 7 columns]"
            ]
          },
          "metadata": {
            "tags": []
          },
          "execution_count": 632
        }
      ]
    },
    {
      "cell_type": "code",
      "metadata": {
        "colab": {
          "base_uri": "https://localhost:8080/",
          "height": 80
        },
        "id": "0nx0_V8urstG",
        "outputId": "dfa98242-44dd-4625-ad23-084c26827cfe"
      },
      "source": [
        "df = actualvDf[actualvDf.procedure_area <= 10]\n",
        "df.tail(15)"
      ],
      "execution_count": 633,
      "outputs": [
        {
          "output_type": "execute_result",
          "data": {
            "text/html": [
              "<div>\n",
              "<style scoped>\n",
              "    .dataframe tbody tr th:only-of-type {\n",
              "        vertical-align: middle;\n",
              "    }\n",
              "\n",
              "    .dataframe tbody tr th {\n",
              "        vertical-align: top;\n",
              "    }\n",
              "\n",
              "    .dataframe thead th {\n",
              "        text-align: right;\n",
              "    }\n",
              "</style>\n",
              "<table border=\"1\" class=\"dataframe\">\n",
              "  <thead>\n",
              "    <tr style=\"text-align: right;\">\n",
              "      <th></th>\n",
              "      <th>procedure_area</th>\n",
              "      <th>property_type_id</th>\n",
              "      <th>property_sub_type_id</th>\n",
              "      <th>area_id</th>\n",
              "      <th>property_total_value</th>\n",
              "      <th>row_status</th>\n",
              "      <th>property_category</th>\n",
              "      <th>Year</th>\n",
              "      <th>Month</th>\n",
              "    </tr>\n",
              "  </thead>\n",
              "  <tbody>\n",
              "    <tr>\n",
              "      <th>57696</th>\n",
              "      <td>0</td>\n",
              "      <td>1</td>\n",
              "      <td>38</td>\n",
              "      <td>266</td>\n",
              "      <td>27000000</td>\n",
              "      <td>1</td>\n",
              "      <td>2</td>\n",
              "      <td>2021</td>\n",
              "      <td>5</td>\n",
              "    </tr>\n",
              "  </tbody>\n",
              "</table>\n",
              "</div>"
            ],
            "text/plain": [
              "       procedure_area  property_type_id  ...  Year  Month\n",
              "57696               0                 1  ...  2021      5\n",
              "\n",
              "[1 rows x 9 columns]"
            ]
          },
          "metadata": {
            "tags": []
          },
          "execution_count": 633
        }
      ]
    },
    {
      "cell_type": "code",
      "metadata": {
        "colab": {
          "base_uri": "https://localhost:8080/"
        },
        "id": "bC2I8Xe7tbAb",
        "outputId": "c00000b9-0e52-4931-b6d3-da519ac2bb06"
      },
      "source": [
        "#Drop rows with procedure_area and actual_area lessa than 10\n",
        "actualvDf = actualvDf[actualvDf.procedure_area >= 10]\n",
        "actualvDf.shape"
      ],
      "execution_count": 634,
      "outputs": [
        {
          "output_type": "execute_result",
          "data": {
            "text/plain": [
              "(31250, 9)"
            ]
          },
          "metadata": {
            "tags": []
          },
          "execution_count": 634
        }
      ]
    },
    {
      "cell_type": "code",
      "metadata": {
        "colab": {
          "base_uri": "https://localhost:8080/"
        },
        "id": "5-lvKsnVtAv1",
        "outputId": "78927344-9886-4b0d-8023-dba044feb5ed"
      },
      "source": [
        "#count of property_type_id\n",
        "actualvDf.property_type_id.value_counts()"
      ],
      "execution_count": 635,
      "outputs": [
        {
          "output_type": "execute_result",
          "data": {
            "text/plain": [
              "1    15692\n",
              "3    14551\n",
              "2     1007\n",
              "Name: property_type_id, dtype: int64"
            ]
          },
          "metadata": {
            "tags": []
          },
          "execution_count": 635
        }
      ]
    },
    {
      "cell_type": "code",
      "metadata": {
        "colab": {
          "base_uri": "https://localhost:8080/",
          "height": 542
        },
        "id": "mdaN3mY8xHrj",
        "outputId": "11b05fae-8598-4401-9ab6-aa9504783a36"
      },
      "source": [
        "fig = px.pie(actualvDf, values='property_category',names='property_type_id', color_discrete_sequence=px.colors.sequential.RdBu)\n",
        "fig.show()"
      ],
      "execution_count": 636,
      "outputs": [
        {
          "output_type": "display_data",
          "data": {
            "text/html": [
              "<html>\n",
              "<head><meta charset=\"utf-8\" /></head>\n",
              "<body>\n",
              "    <div>\n",
              "            <script src=\"https://cdnjs.cloudflare.com/ajax/libs/mathjax/2.7.5/MathJax.js?config=TeX-AMS-MML_SVG\"></script><script type=\"text/javascript\">if (window.MathJax) {MathJax.Hub.Config({SVG: {font: \"STIX-Web\"}});}</script>\n",
              "                <script type=\"text/javascript\">window.PlotlyConfig = {MathJaxConfig: 'local'};</script>\n",
              "        <script src=\"https://cdn.plot.ly/plotly-latest.min.js\"></script>    \n",
              "            <div id=\"28db29b6-d338-497f-80ab-770a19b293fa\" class=\"plotly-graph-div\" style=\"height:525px; width:100%;\"></div>\n",
              "            <script type=\"text/javascript\">\n",
              "                \n",
              "                    window.PLOTLYENV=window.PLOTLYENV || {};\n",
              "                    \n",
              "                if (document.getElementById(\"28db29b6-d338-497f-80ab-770a19b293fa\")) {\n",
              "                    Plotly.newPlot(\n",
              "                        '28db29b6-d338-497f-80ab-770a19b293fa',\n",
              "                        [{\"domain\": {\"x\": [0.0, 1.0], \"y\": [0.0, 1.0]}, \"hoverlabel\": {\"namelength\": 0}, \"hovertemplate\": \"property_type_id=%{label}<br>property_category=%{value}\", \"labels\": [2, 1, 1, 1, 1, 1, 1, 1, 3, 1, 1, 1, 1, 3, 1, 1, 1, 1, 1, 1, 3, 1, 1, 1, 1, 1, 1, 1, 1, 1, 1, 1, 1, 1, 1, 1, 1, 1, 1, 2, 1, 3, 2, 1, 1, 1, 1, 1, 1, 1, 1, 1, 1, 1, 3, 3, 3, 1, 1, 2, 1, 1, 1, 1, 1, 1, 1, 1, 2, 1, 3, 2, 2, 3, 3, 3, 1, 1, 1, 1, 1, 1, 1, 3, 1, 2, 1, 1, 1, 3, 3, 1, 1, 1, 2, 3, 1, 3, 1, 2, 3, 3, 3, 1, 1, 1, 1, 1, 3, 1, 1, 3, 3, 3, 3, 3, 1, 1, 1, 1, 1, 3, 1, 1, 1, 1, 1, 3, 3, 1, 3, 1, 1, 1, 1, 2, 2, 3, 1, 3, 3, 2, 3, 1, 1, 3, 1, 1, 1, 3, 2, 1, 1, 3, 1, 1, 3, 3, 3, 1, 1, 1, 1, 1, 3, 3, 1, 1, 1, 1, 1, 1, 1, 3, 1, 2, 2, 3, 1, 1, 1, 1, 1, 1, 3, 3, 1, 3, 2, 1, 3, 1, 1, 1, 1, 3, 3, 2, 1, 1, 1, 3, 1, 1, 1, 1, 1, 1, 1, 1, 3, 1, 3, 3, 3, 3, 1, 1, 1, 1, 1, 3, 1, 1, 3, 3, 1, 1, 1, 1, 1, 1, 1, 1, 1, 1, 1, 1, 1, 1, 2, 1, 3, 1, 3, 1, 1, 1, 3, 1, 3, 2, 1, 1, 1, 1, 1, 3, 3, 1, 1, 1, 1, 1, 1, 1, 3, 1, 1, 1, 1, 1, 3, 1, 1, 1, 3, 3, 3, 3, 3, 2, 3, 1, 1, 3, 1, 3, 1, 1, 1, 3, 1, 1, 1, 3, 3, 3, 3, 2, 1, 1, 1, 1, 1, 3, 3, 3, 1, 3, 3, 1, 1, 1, 1, 1, 1, 3, 1, 1, 3, 3, 1, 1, 1, 1, 1, 1, 1, 1, 1, 3, 1, 1, 1, 1, 3, 3, 3, 1, 1, 1, 1, 3, 1, 1, 1, 1, 1, 1, 1, 1, 3, 1, 1, 1, 1, 1, 3, 3, 1, 3, 1, 1, 3, 3, 3, 2, 1, 3, 3, 3, 3, 3, 3, 3, 3, 3, 1, 3, 3, 3, 3, 1, 1, 1, 1, 2, 1, 1, 3, 1, 1, 3, 3, 3, 3, 3, 1, 3, 1, 1, 1, 1, 3, 1, 1, 3, 3, 3, 3, 3, 3, 3, 1, 1, 3, 3, 1, 3, 1, 1, 3, 1, 3, 3, 1, 1, 1, 1, 1, 1, 1, 1, 1, 1, 1, 3, 3, 1, 3, 1, 3, 1, 1, 3, 1, 1, 1, 1, 1, 1, 1, 2, 1, 1, 1, 1, 1, 1, 3, 1, 1, 1, 1, 3, 3, 3, 1, 3, 1, 1, 1, 1, 3, 3, 3, 1, 1, 3, 3, 3, 1, 1, 1, 3, 3, 1, 1, 1, 1, 1, 1, 2, 1, 3, 3, 3, 3, 3, 2, 1, 3, 1, 1, 1, 1, 1, 1, 3, 1, 1, 1, 1, 1, 1, 1, 1, 1, 1, 3, 1, 1, 1, 1, 1, 1, 1, 1, 1, 1, 1, 1, 1, 1, 1, 2, 1, 1, 1, 1, 1, 1, 1, 1, 1, 3, 3, 3, 3, 2, 3, 3, 1, 1, 3, 3, 1, 2, 1, 3, 1, 3, 1, 1, 3, 3, 3, 3, 3, 1, 3, 3, 3, 3, 3, 3, 1, 1, 1, 1, 1, 1, 3, 3, 3, 3, 3, 3, 1, 1, 1, 1, 1, 1, 1, 1, 3, 3, 1, 1, 3, 3, 3, 3, 3, 3, 3, 3, 1, 1, 1, 1, 1, 1, 1, 3, 1, 1, 1, 2, 3, 3, 1, 1, 3, 1, 1, 1, 1, 1, 1, 1, 1, 1, 1, 1, 1, 1, 1, 1, 1, 1, 1, 1, 3, 3, 1, 1, 1, 1, 3, 1, 1, 3, 3, 1, 1, 3, 1, 1, 1, 1, 1, 1, 1, 3, 1, 1, 1, 1, 1, 1, 1, 3, 1, 1, 1, 3, 1, 2, 1, 1, 1, 3, 3, 3, 1, 1, 1, 1, 1, 1, 3, 3, 3, 3, 3, 2, 1, 3, 3, 3, 1, 1, 1, 1, 3, 3, 1, 1, 1, 1, 3, 3, 3, 1, 1, 1, 1, 3, 3, 1, 3, 1, 3, 1, 1, 2, 1, 1, 1, 1, 1, 1, 3, 1, 3, 1, 1, 3, 1, 3, 1, 2, 1, 1, 1, 1, 1, 3, 1, 1, 1, 1, 3, 3, 1, 3, 1, 3, 3, 3, 3, 1, 3, 1, 3, 2, 3, 1, 3, 3, 3, 1, 1, 1, 3, 2, 3, 1, 1, 1, 3, 1, 3, 1, 3, 3, 3, 1, 1, 1, 1, 1, 1, 1, 1, 3, 1, 1, 3, 3, 3, 3, 3, 1, 1, 1, 1, 1, 1, 3, 3, 1, 1, 3, 1, 1, 3, 1, 3, 1, 3, 1, 1, 1, 1, 1, 1, 1, 1, 1, 1, 3, 1, 3, 1, 1, 3, 1, 1, 2, 1, 1, 1, 1, 1, 1, 1, 2, 3, 1, 2, 1, 1, 1, 1, 1, 3, 1, 3, 3, 2, 1, 3, 1, 1, 1, 3, 1, 1, 3, 1, 1, 1, 1, 3, 3, 3, 3, 3, 3, 1, 1, 1, 3, 3, 1, 3, 3, 3, 3, 3, 3, 3, 3, 3, 3, 3, 3, 3, 3, 3, 1, 3, 1, 3, 3, 3, 3, 1, 1, 1, 3, 3, 2, 1, 3, 3, 3, 3, 3, 3, 3, 1, 3, 3, 3, 1, 1, 2, 3, 1, 1, 1, 3, 3, 3, 3, 3, 1, 2, 3, 1, 3, 1, 3, 1, 1, 3, 1, 1, 3, 1, 3, 3, 3, 1, 1, 3, 1, 3, 1, 3, 3, 1, 1, 1, 3, 3, 1, 1, 1, 1, 1, 1, 1, 1, 3, 1, 1, 1, 1, 1, 1, 2, 3, 3, 1, 3, 1, 1, 1, 1, 1, 1, 1, 3, 3, 3, 3, 1, 1, 3, 2, 1, 1, 3, 3, 3, 3, 1, 1, 2, 2, 3, 3, 3, 1, 3, 1, 1, 1, 3, 1, 1, 1, 2, 1, 1, 1, 1, 1, 1, 1, 3, 3, 1, 1, 1, 1, 3, 1, 3, 3, 3, 3, 3, 2, 3, 3, 1, 1, 3, 3, 1, 1, 1, 1, 1, 3, 3, 1, 1, 1, 1, 1, 3, 1, 1, 3, 3, 3, 2, 1, 1, 1, 1, 3, 3, 1, 1, 3, 1, 3, 1, 3, 1, 1, 3, 1, 3, 1, 1, 1, 1, 3, 1, 1, 1, 3, 3, 3, 3, 3, 3, 1, 3, 3, 3, 1, 1, 1, 3, 1, 3, 1, 1, 1, 3, 3, 3, 3, 1, 3, 3, 3, 1, 1, 3, 1, 1, 3, 3, 1, 1, 1, 1, 1, 2, 1, 3, 3, 3, 2, 1, 3, 3, 1, 3, 1, 3, 1, 3, 3, 1, 3, 1, 1, 1, 1, 1, 3, 1, 3, 3, 3, 1, 1, 1, 1, 1, 1, 1, 1, 1, 1, 1, 1, 1, 1, 1, 3, 1, 1, 1, 1, 1, 1, 1, 1, 3, 1, 3, 1, 1, 1, 1, 1, 1, 1, 3, 1, 3, 3, 3, 3, 1, 1, 3, 3, 3, 3, 1, 1, 1, 1, 3, 3, 3, 1, 2, 3, 3, 3, 3, 1, 3, 1, 1, 3, 3, 3, 1, 1, 1, 1, 1, 3, 1, 1, 1, 3, 3, 1, 3, 1, 1, 1, 3, 1, 3, 3, 3, 1, 1, 3, 3, 3, 3, 3, 3, 1, 1, 1, 3, 1, 1, 1, 1, 1, 3, 1, 3, 3, 3, 1, 3, 3, 1, 1, 1, 3, 3, 3, 1, 3, 3, 3, 3, 1, 1, 3, 3, 1, 3, 3, 2, 3, 1, 1, 1, 1, 1, 1, 1, 1, 1, 1, 1, 1, 3, 3, 3, 1, 1, 1, 3, 3, 1, 1, 1, 3, 3, 1, 3, 1, 1, 1, 3, 3, 1, 3, 1, 3, 1, 1, 3, 1, 1, 2, 3, 2, 3, 1, 3, 1, 1, 3, 1, 1, 1, 3, 3, 3, 1, 1, 3, 1, 3, 3, 3, 3, 3, 1, 3, 3, 1, 1, 1, 3, 1, 1, 1, 3, 1, 2, 1, 1, 1, 3, 3, 3, 3, 1, 1, 1, 3, 3, 3, 3, 3, 1, 2, 3, 1, 3, 3, 1, 1, 3, 1, 2, 1, 3, 3, 1, 3, 1, 1, 3, 3, 1, 1, 3, 3, 3, 3, 3, 3, 1, 1, 1, 1, 1, 3, 2, 3, 1, 1, 3, 3, 3, 3, 3, 3, 1, 3, 3, 3, 3, 3, 3, 3, 3, 3, 1, 3, 1, 3, 3, 3, 1, 3, 1, 1, 3, 3, 3, 3, 3, 3, 3, 3, 1, 3, 3, 1, 1, 1, 2, 1, 1, 1, 3, 3, 1, 1, 1, 1, 3, 1, 1, 1, 3, 1, 3, 1, 3, 1, 1, 1, 3, 1, 1, 3, 1, 3, 1, 1, 3, 3, 1, 1, 1, 3, 1, 1, 1, 1, 3, 1, 1, 1, 3, 1, 3, 1, 3, 1, 3, 3, 1, 1, 3, 3, 2, 3, 1, 1, 1, 1, 3, 3, 1, 1, 1, 3, 1, 2, 1, 1, 3, 3, 3, 1, 3, 3, 1, 1, 1, 3, 3, 3, 1, 3, 3, 3, 3, 3, 1, 1, 3, 1, 1, 3, 3, 1, 1, 1, 1, 1, 1, 1, 1, 1, 3, 3, 1, 1, 1, 1, 3, 3, 1, 2, 1, 1, 3, 2, 3, 3, 1, 1, 3, 3, 3, 2, 1, 1, 3, 1, 1, 3, 3, 3, 1, 1, 3, 1, 1, 2, 3, 1, 3, 3, 1, 1, 3, 1, 1, 1, 1, 1, 1, 1, 1, 1, 3, 3, 1, 3, 3, 3, 1, 1, 3, 1, 2, 3, 1, 1, 3, 3, 1, 1, 1, 1, 3, 1, 1, 1, 3, 1, 3, 2, 1, 1, 1, 3, 3, 1, 1, 1, 1, 1, 1, 1, 1, 3, 3, 1, 3, 2, 1, 2, 3, 3, 1, 1, 1, 3, 1, 1, 1, 1, 1, 3, 1, 1, 1, 1, 3, 1, 3, 3, 1, 1, 1, 1, 3, 1, 1, 1, 1, 3, 1, 1, 1, 1, 1, 3, 1, 3, 2, 1, 1, 1, 1, 3, 3, 1, 3, 3, 3, 2, 3, 1, 3, 3, 1, 1, 3, 3, 3, 1, 1, 1, 1, 1, 1, 1, 1, 3, 2, 1, 1, 3, 1, 1, 3, 3, 1, 1, 3, 3, 3, 1, 1, 2, 3, 3, 3, 3, 3, 1, 3, 1, 3, 1, 1, 1, 3, 3, 3, 1, 1, 1, 1, 1, 1, 1, 3, 1, 1, 3, 1, 1, 1, 3, 3, 1, 1, 1, 1, 3, 1, 1, 1, 1, 1, 1, 1, 3, 3, 3, 1, 1, 3, 3, 1, 1, 1, 1, 1, 3, 1, 1, 1, 1, 1, 1, 2, 1, 1, 3, 3, 1, 3, 1, 1, 1, 3, 1, 3, 1, 1, 3, 1, 1, 1, 1, 1, 1, 1, 1, 1, 1, 1, 1, 1, 1, 1, 1, 1, 3, 3, 3, 1, 1, 1, 1, 1, 3, 1, 1, 1, 1, 2, 1, 3, 1, 1, 3, 3, 1, 3, 3, 1, 1, 1, 3, 1, 1, 3, 3, 1, 3, 3, 3, 3, 3, 1, 1, 1, 3, 1, 1, 1, 1, 1, 1, 3, 1, 3, 3, 1, 3, 3, 3, 3, 3, 1, 3, 1, 3, 1, 1, 2, 3, 1, 1, 1, 1, 1, 3, 1, 1, 1, 1, 1, 1, 1, 3, 1, 3, 3, 1, 1, 1, 1, 1, 1, 3, 3, 1, 1, 1, 3, 1, 3, 1, 3, 3, 2, 1, 3, 1, 1, 1, 3, 1, 1, 1, 1, 1, 1, 1, 1, 3, 3, 3, 1, 3, 1, 3, 1, 1, 1, 1, 1, 3, 3, 3, 3, 3, 3, 2, 1, 3, 3, 3, 1, 3, 1, 1, 3, 1, 3, 1, 1, 3, 3, 1, 1, 1, 1, 1, 3, 3, 1, 3, 3, 1, 1, 3, 3, 3, 1, 3, 1, 1, 1, 1, 3, 3, 1, 3, 1, 1, 2, 1, 1, 3, 3, 3, 1, 1, 1, 1, 1, 1, 1, 3, 1, 3, 3, 1, 1, 3, 2, 3, 1, 3, 3, 1, 3, 3, 1, 3, 1, 3, 1, 1, 1, 1, 1, 3, 1, 2, 1, 1, 1, 3, 3, 2, 1, 1, 1, 3, 1, 3, 3, 3, 3, 1, 1, 3, 3, 1, 3, 3, 1, 1, 1, 3, 3, 1, 1, 1, 3, 3, 1, 2, 3, 1, 3, 1, 3, 1, 1, 1, 1, 1, 3, 1, 1, 3, 1, 1, 1, 3, 1, 1, 3, 3, 1, 1, 3, 1, 1, 1, 1, 1, 3, 1, 1, 1, 3, 3, 3, 3, 1, 1, 1, 1, 1, 1, 1, 1, 1, 1, 1, 1, 1, 3, 1, 1, 3, 1, 3, 3, 3, 1, 1, 1, 1, 1, 3, 1, 1, 1, 1, 3, 3, 2, 3, 1, 1, 3, 1, 1, 1, 1, 2, 3, 1, 3, 1, 1, 3, 1, 1, 1, 1, 3, 1, 1, 1, 1, 1, 2, 3, 3, 3, 3, 1, 3, 3, 1, 3, 3, 1, 2, 1, 3, 1, 1, 3, 1, 1, 1, 1, 1, 3, 1, 1, 1, 3, 1, 2, 1, 1, 1, 1, 1, 3, 1, 1, 3, 2, 1, 1, 1, 2, 3, 3, 3, 1, 3, 1, 1, 1, 1, 1, 1, 1, 3, 3, 1, 1, 1, 3, 1, 1, 1, 3, 3, 3, 1, 1, 1, 1, 1, 1, 3, 3, 1, 3, 1, 3, 1, 3, 3, 1, 1, 1, 1, 1, 1, 1, 1, 1, 3, 3, 1, 1, 3, 1, 3, 3, 1, 1, 3, 1, 3, 3, 2, 3, 3, 1, 1, 1, 1, 1, 1, 1, 1, 3, 3, 3, 1, 1, 3, 3, 1, 1, 1, 2, 3, 3, 1, 3, 1, 1, 3, 3, 3, 2, 3, 2, 1, 1, 1, 1, 1, 3, 1, 2, 1, 1, 2, 3, 1, 1, 1, 1, 1, 1, 1, 1, 3, 3, 3, 3, 1, 1, 1, 3, 3, 1, 1, 1, 1, 1, 1, 1, 3, 1, 1, 3, 1, 1, 2, 3, 1, 1, 3, 1, 1, 1, 1, 1, 1, 1, 3, 3, 1, 1, 1, 3, 1, 3, 1, 3, 3, 1, 1, 3, 1, 3, 1, 3, 3, 1, 1, 1, 1, 3, 1, 1, 3, 3, 3, 1, 2, 1, 3, 1, 1, 3, 3, 3, 1, 1, 3, 1, 1, 2, 1, 1, 3, 3, 3, 1, 3, 3, 3, 1, 1, 3, 1, 1, 1, 3, 1, 1, 1, 1, 1, 1, 1, 1, 1, 1, 1, 3, 3, 1, 1, 1, 1, 1, 1, 3, 1, 3, 3, 1, 1, 1, 1, 3, 3, 1, 1, 3, 3, 3, 3, 1, 3, 1, 1, 1, 1, 1, 1, 3, 3, 3, 3, 3, 2, 1, 1, 1, 1, 1, 1, 1, 3, 3, 3, 3, 3, 3, 3, 3, 3, 3, 3, 3, 3, 1, 1, 1, 1, 1, 3, 3, 3, 1, 1, 1, 3, 1, 1, 2, 1, 3, 1, 3, 1, 1, 1, 1, 3, 3, 1, 1, 1, 1, 1, 2, 1, 1, 3, 1, 1, 1, 1, 3, 3, 3, 3, 3, 3, 3, 1, 1, 1, 3, 3, 2, 1, 1, 3, 1, 1, 3, 1, 1, 1, 1, 3, 1, 1, 1, 1, 3, 2, 3, 1, 1, 3, 3, 3, 1, 3, 1, 3, 1, 3, 1, 1, 2, 1, 1, 1, 1, 1, 3, 3, 3, 1, 1, 1, 1, 1, 3, 1, 1, 1, 3, 3, 1, 3, 3, 3, 3, 1, 1, 3, 3, 3, 3, 3, 1, 1, 1, 1, 1, 1, 3, 1, 1, 3, 1, 3, 3, 3, 2, 1, 3, 1, 2, 3, 3, 1, 1, 1, 1, 3, 1, 1, 1, 1, 3, 1, 1, 3, 3, 1, 1, 2, 1, 3, 1, 1, 3, 3, 1, 1, 3, 1, 3, 1, 1, 1, 1, 1, 3, 1, 3, 3, 3, 3, 1, 1, 1, 1, 3, 3, 1, 1, 1, 1, 3, 3, 3, 3, 1, 1, 1, 1, 1, 2, 1, 3, 1, 1, 3, 3, 1, 3, 1, 3, 1, 1, 1, 1, 1, 1, 1, 1, 1, 1, 1, 3, 1, 1, 1, 1, 1, 3, 1, 3, 3, 1, 3, 1, 1, 1, 1, 3, 3, 3, 3, 1, 3, 3, 1, 1, 1, 1, 1, 3, 3, 3, 3, 1, 3, 3, 3, 3, 3, 3, 3, 3, 3, 3, 1, 1, 1, 3, 1, 1, 1, 3, 1, 1, 1, 1, 3, 3, 1, 3, 1, 1, 1, 1, 3, 1, 3, 3, 3, 1, 3, 3, 3, 1, 1, 2, 1, 3, 3, 3, 1, 1, 1, 2, 3, 1, 1, 1, 3, 1, 1, 1, 1, 1, 3, 1, 1, 1, 3, 1, 1, 1, 1, 1, 1, 3, 3, 2, 3, 3, 1, 1, 1, 1, 1, 1, 3, 1, 1, 1, 1, 1, 1, 1, 3, 3, 3, 3, 3, 3, 3, 1, 1, 3, 3, 1, 3, 3, 3, 3, 3, 1, 1, 3, 1, 3, 3, 3, 1, 1, 1, 1, 3, 1, 1, 3, 3, 3, 3, 3, 1, 1, 3, 1, 3, 1, 1, 1, 1, 1, 1, 3, 3, 1, 1, 1, 3, 3, 3, 3, 3, 1, 3, 1, 1, 1, 3, 3, 2, 3, 1, 1, 1, 1, 1, 1, 3, 1, 1, 1, 1, 1, 1, 3, 1, 1, 3, 1, 3, 1, 1, 3, 3, 3, 3, 3, 3, 3, 1, 3, 3, 1, 3, 3, 1, 1, 1, 3, 3, 3, 3, 1, 1, 1, 1, 1, 1, 1, 1, 3, 1, 1, 3, 1, 2, 1, 3, 3, 1, 3, 1, 3, 3, 3, 3, 1, 3, 2, 1, 1, 1, 1, 1, 1, 1, 3, 1, 1, 1, 3, 1, 3, 1, 3, 1, 3, 3, 3, 3, 3, 3, 3, 3, 1, 1, 1, 3, 3, 1, 1, 1, 3, 3, 1, 3, 3, 3, 3, 1, 1, 3, 1, 3, 3, 3, 1, 1, 1, 1, 1, 1, 1, 1, 1, 3, 3, 3, 1, 1, 1, 1, 1, 1, 3, 1, 1, 1, 1, 3, 1, 1, 1, 1, 1, 2, 1, 3, 3, 3, 3, 3, 1, 1, 3, 3, 3, 3, 1, 1, 1, 1, 1, 1, 1, 1, 3, 1, 1, 3, 3, 1, 1, 1, 1, 3, 3, 3, 3, 3, 3, 1, 1, 1, 3, 3, 3, 3, 3, 3, 1, 3, 3, 2, 1, 1, 1, 1, 1, 1, 1, 1, 1, 3, 1, 1, 3, 1, 1, 3, 3, 1, 1, 1, 1, 1, 3, 3, 3, 3, 3, 3, 3, 3, 1, 1, 1, 2, 1, 1, 3, 1, 1, 1, 1, 1, 3, 3, 1, 1, 1, 1, 1, 1, 1, 3, 3, 2, 1, 1, 3, 1, 1, 3, 3, 1, 3, 1, 3, 3, 1, 2, 1, 1, 1, 1, 1, 1, 3, 3, 3, 1, 1, 1, 3, 3, 1, 3, 1, 1, 1, 1, 1, 3, 1, 1, 3, 3, 3, 1, 1, 1, 1, 3, 3, 3, 1, 2, 1, 3, 1, 1, 1, 1, 3, 3, 3, 3, 3, 1, 1, 1, 3, 3, 1, 1, 1, 3, 3, 3, 1, 1, 3, 2, 1, 1, 1, 1, 1, 1, 3, 2, 3, 3, 3, 3, 3, 3, 1, 1, 1, 1, 1, 3, 1, 3, 1, 1, 1, 1, 1, 3, 1, 1, 3, 1, 1, 1, 1, 1, 1, 3, 1, 1, 1, 1, 3, 1, 1, 1, 2, 3, 1, 1, 1, 3, 3, 2, 3, 1, 2, 1, 1, 1, 1, 1, 1, 3, 3, 3, 1, 1, 1, 3, 1, 3, 3, 1, 3, 1, 1, 1, 3, 3, 1, 1, 1, 3, 3, 1, 1, 3, 1, 1, 3, 1, 1, 3, 1, 1, 1, 1, 1, 3, 1, 1, 1, 1, 3, 3, 3, 3, 2, 1, 1, 1, 1, 1, 1, 3, 1, 1, 3, 3, 3, 1, 3, 3, 3, 3, 1, 3, 1, 1, 3, 1, 1, 3, 3, 1, 1, 1, 1, 1, 3, 3, 1, 1, 1, 2, 1, 3, 1, 1, 1, 1, 3, 3, 1, 1, 3, 3, 1, 3, 1, 1, 3, 3, 1, 1, 3, 1, 1, 3, 1, 1, 2, 1, 1, 1, 1, 3, 3, 3, 1, 1, 3, 1, 1, 3, 1, 1, 1, 1, 1, 3, 1, 1, 1, 1, 1, 2, 3, 2, 2, 3, 3, 3, 3, 1, 1, 3, 1, 3, 3, 1, 1, 3, 3, 1, 3, 3, 1, 3, 1, 1, 3, 1, 1, 1, 1, 3, 1, 3, 3, 3, 3, 3, 3, 3, 3, 3, 3, 3, 3, 3, 3, 3, 3, 3, 3, 3, 3, 3, 3, 2, 2, 3, 3, 1, 3, 3, 3, 1, 3, 1, 1, 1, 3, 1, 1, 2, 3, 1, 3, 1, 3, 1, 3, 1, 1, 1, 3, 3, 1, 1, 1, 1, 1, 1, 3, 1, 1, 1, 1, 1, 1, 1, 1, 1, 3, 3, 3, 3, 1, 1, 3, 1, 3, 2, 1, 3, 1, 1, 3, 1, 1, 1, 1, 1, 3, 1, 1, 1, 1, 3, 1, 1, 3, 1, 3, 3, 1, 3, 3, 2, 1, 1, 3, 3, 3, 1, 1, 1, 1, 1, 1, 1, 1, 3, 3, 3, 1, 1, 3, 1, 1, 3, 1, 1, 1, 3, 1, 1, 1, 1, 1, 3, 1, 3, 3, 1, 3, 3, 1, 3, 3, 3, 3, 2, 1, 3, 3, 1, 1, 1, 1, 3, 3, 1, 1, 1, 1, 1, 3, 1, 1, 1, 1, 3, 3, 1, 3, 1, 1, 3, 3, 1, 1, 1, 1, 3, 1, 1, 1, 1, 3, 1, 1, 1, 3, 1, 1, 1, 1, 3, 1, 1, 1, 1, 1, 1, 1, 1, 1, 1, 1, 1, 1, 3, 3, 2, 1, 1, 3, 1, 3, 1, 1, 1, 3, 1, 1, 1, 1, 3, 1, 1, 1, 3, 1, 1, 3, 3, 3, 1, 3, 1, 3, 3, 1, 1, 1, 1, 1, 3, 1, 1, 1, 1, 1, 1, 1, 1, 3, 3, 1, 1, 1, 1, 3, 1, 3, 1, 1, 3, 3, 1, 3, 3, 3, 3, 3, 3, 3, 3, 3, 3, 3, 3, 3, 3, 3, 3, 3, 1, 1, 3, 1, 1, 1, 1, 3, 1, 3, 3, 2, 1, 2, 1, 1, 1, 3, 1, 1, 3, 1, 3, 1, 1, 1, 3, 1, 3, 1, 1, 1, 1, 1, 1, 1, 3, 1, 3, 1, 1, 1, 3, 1, 3, 1, 1, 3, 3, 1, 1, 1, 3, 1, 3, 3, 1, 1, 1, 2, 1, 3, 1, 1, 3, 3, 1, 3, 1, 1, 1, 1, 3, 3, 3, 1, 1, 3, 3, 3, 1, 3, 3, 3, 3, 1, 1, 1, 1, 3, 1, 1, 1, 1, 3, 3, 3, 1, 1, 1, 1, 1, 3, 1, 1, 1, 1, 1, 1, 1, 3, 1, 1, 3, 3, 2, 3, 3, 3, 3, 3, 1, 1, 1, 3, 1, 1, 1, 1, 1, 3, 3, 1, 3, 3, 1, 1, 1, 1, 3, 1, 1, 3, 3, 1, 1, 1, 2, 1, 1, 1, 1, 3, 1, 3, 1, 1, 1, 3, 3, 1, 3, 1, 3, 1, 3, 1, 1, 3, 1, 3, 2, 1, 2, 1, 3, 1, 1, 1, 1, 3, 1, 3, 1, 3, 1, 1, 1, 3, 1, 1, 1, 3, 3, 1, 1, 2, 3, 3, 3, 1, 2, 3, 2, 3, 3, 3, 3, 1, 1, 3, 2, 1, 3, 1, 1, 3, 3, 2, 3, 3, 1, 3, 1, 1, 3, 3, 3, 3, 1, 1, 3, 3, 3, 3, 3, 3, 3, 3, 3, 1, 3, 1, 1, 1, 3, 3, 1, 2, 3, 3, 1, 3, 1, 1, 3, 1, 1, 3, 3, 1, 1, 1, 1, 1, 1, 1, 1, 1, 1, 1, 1, 3, 1, 1, 1, 2, 1, 3, 3, 1, 1, 1, 1, 3, 1, 3, 1, 2, 1, 1, 1, 1, 1, 1, 3, 1, 1, 1, 3, 3, 3, 3, 3, 1, 3, 1, 3, 2, 1, 3, 1, 1, 1, 1, 1, 1, 3, 3, 1, 3, 3, 3, 1, 3, 3, 1, 1, 3, 1, 3, 2, 1, 1, 3, 3, 1, 1, 1, 1, 3, 3, 3, 3, 3, 3, 3, 3, 3, 3, 3, 1, 3, 3, 2, 2, 2, 3, 3, 3, 3, 1, 3, 3, 3, 1, 1, 3, 1, 1, 3, 3, 1, 1, 3, 1, 3, 3, 1, 1, 1, 1, 1, 1, 1, 1, 1, 1, 1, 1, 1, 3, 1, 1, 3, 1, 3, 1, 1, 1, 1, 1, 1, 1, 3, 3, 3, 3, 1, 3, 3, 3, 3, 1, 3, 1, 3, 2, 3, 1, 1, 1, 3, 1, 1, 1, 1, 1, 1, 3, 3, 3, 3, 1, 1, 1, 1, 1, 3, 1, 1, 3, 1, 1, 1, 3, 1, 1, 3, 1, 1, 1, 1, 1, 3, 3, 3, 3, 1, 1, 1, 1, 1, 1, 3, 3, 3, 3, 1, 3, 3, 3, 3, 1, 1, 2, 1, 1, 3, 3, 3, 3, 1, 3, 3, 3, 3, 3, 3, 3, 2, 3, 1, 3, 3, 3, 2, 3, 1, 3, 1, 3, 3, 3, 1, 1, 3, 2, 3, 3, 1, 1, 1, 1, 1, 1, 3, 3, 3, 1, 3, 1, 1, 1, 3, 3, 1, 1, 3, 3, 1, 3, 1, 3, 1, 1, 1, 1, 1, 1, 1, 1, 1, 1, 1, 1, 1, 1, 1, 1, 1, 1, 1, 1, 1, 1, 1, 1, 1, 1, 1, 3, 3, 3, 1, 1, 1, 1, 1, 1, 1, 1, 1, 1, 1, 1, 1, 1, 1, 1, 3, 1, 3, 1, 1, 1, 1, 1, 1, 1, 1, 1, 1, 1, 1, 1, 1, 1, 1, 1, 1, 3, 3, 1, 3, 1, 1, 1, 1, 1, 1, 2, 3, 3, 1, 1, 3, 1, 3, 3, 1, 1, 1, 1, 1, 1, 1, 1, 1, 3, 3, 1, 1, 3, 1, 1, 1, 3, 1, 1, 1, 1, 3, 1, 3, 3, 1, 3, 3, 1, 1, 2, 3, 3, 1, 1, 3, 1, 2, 3, 3, 3, 1, 1, 3, 3, 3, 1, 1, 1, 3, 3, 1, 3, 3, 3, 1, 1, 3, 3, 1, 3, 1, 1, 1, 1, 1, 1, 1, 1, 1, 1, 3, 1, 3, 3, 3, 3, 1, 1, 1, 1, 1, 1, 1, 1, 1, 1, 1, 1, 1, 1, 1, 1, 1, 1, 1, 1, 3, 3, 1, 1, 3, 1, 3, 3, 1, 1, 3, 3, 1, 1, 3, 3, 3, 1, 1, 1, 1, 3, 3, 3, 3, 3, 1, 1, 1, 1, 1, 3, 3, 1, 1, 1, 1, 3, 1, 1, 1, 3, 1, 3, 1, 1, 3, 1, 1, 1, 1, 1, 1, 1, 1, 1, 1, 1, 3, 1, 1, 1, 1, 1, 1, 1, 1, 1, 1, 1, 1, 3, 1, 3, 1, 1, 1, 1, 1, 1, 1, 1, 1, 1, 1, 1, 1, 1, 1, 1, 1, 2, 3, 3, 2, 1, 1, 1, 1, 1, 1, 1, 1, 1, 1, 1, 1, 1, 1, 1, 1, 1, 1, 1, 1, 1, 3, 1, 1, 1, 1, 3, 1, 1, 3, 3, 1, 3, 1, 1, 1, 1, 1, 1, 3, 1, 1, 1, 1, 1, 1, 1, 1, 1, 1, 1, 1, 1, 1, 1, 1, 1, 1, 1, 1, 1, 1, 1, 3, 1, 3, 1, 1, 3, 1, 3, 1, 3, 3, 3, 3, 1, 1, 3, 1, 1, 1, 1, 2, 3, 1, 1, 3, 1, 3, 1, 1, 1, 3, 1, 3, 1, 1, 1, 1, 3, 1, 1, 1, 1, 1, 1, 1, 1, 3, 3, 2, 3, 3, 3, 3, 3, 3, 1, 3, 1, 3, 3, 3, 3, 1, 3, 1, 1, 1, 1, 3, 3, 3, 3, 1, 1, 1, 1, 1, 1, 3, 1, 1, 1, 1, 1, 1, 1, 1, 1, 1, 1, 1, 1, 1, 1, 1, 1, 1, 1, 1, 1, 1, 1, 1, 1, 3, 1, 1, 3, 3, 1, 3, 3, 3, 1, 3, 3, 1, 2, 2, 1, 1, 1, 1, 1, 1, 3, 3, 1, 1, 1, 1, 3, 1, 3, 3, 3, 1, 2, 3, 1, 1, 1, 1, 1, 1, 1, 3, 3, 1, 1, 1, 1, 1, 1, 1, 1, 1, 3, 3, 1, 1, 1, 3, 1, 3, 3, 3, 1, 3, 3, 1, 1, 1, 3, 3, 3, 3, 2, 3, 3, 1, 3, 3, 3, 1, 1, 1, 3, 3, 3, 1, 1, 1, 1, 1, 3, 3, 1, 1, 1, 1, 1, 1, 3, 1, 1, 1, 1, 1, 1, 2, 1, 3, 1, 1, 1, 1, 1, 3, 1, 1, 1, 1, 1, 1, 1, 1, 1, 1, 1, 1, 3, 1, 1, 1, 1, 1, 1, 1, 1, 1, 1, 1, 1, 1, 1, 1, 1, 1, 1, 1, 1, 3, 1, 1, 1, 1, 1, 1, 2, 1, 1, 1, 1, 1, 1, 1, 3, 1, 1, 3, 3, 3, 1, 1, 1, 1, 1, 3, 1, 1, 3, 1, 3, 1, 1, 1, 3, 3, 3, 1, 1, 1, 3, 1, 1, 1, 1, 1, 1, 1, 3, 1, 1, 1, 1, 1, 1, 1, 1, 1, 1, 1, 1, 1, 1, 1, 1, 1, 3, 1, 1, 1, 3, 1, 1, 1, 1, 3, 3, 3, 1, 3, 1, 1, 3, 3, 3, 3, 1, 1, 1, 1, 3, 3, 3, 3, 3, 1, 3, 1, 1, 1, 1, 1, 1, 3, 3, 3, 1, 3, 3, 1, 3, 1, 1, 3, 3, 1, 1, 1, 1, 1, 1, 3, 1, 1, 1, 1, 1, 3, 1, 3, 1, 1, 1, 1, 3, 1, 1, 1, 1, 1, 1, 1, 1, 1, 1, 1, 1, 1, 1, 1, 1, 1, 1, 1, 1, 1, 1, 1, 1, 1, 1, 1, 2, 3, 1, 1, 1, 3, 1, 1, 1, 3, 1, 3, 1, 1, 1, 1, 1, 1, 1, 1, 3, 3, 3, 3, 3, 1, 1, 1, 1, 1, 3, 1, 1, 1, 3, 1, 1, 1, 1, 1, 1, 3, 3, 3, 1, 3, 1, 3, 3, 3, 1, 3, 3, 3, 1, 3, 1, 3, 3, 3, 1, 1, 1, 3, 1, 1, 1, 3, 1, 1, 1, 1, 1, 1, 1, 1, 1, 1, 1, 1, 1, 1, 1, 3, 3, 1, 1, 3, 3, 1, 1, 1, 1, 1, 1, 1, 3, 3, 1, 1, 1, 1, 1, 1, 1, 1, 1, 1, 1, 3, 3, 1, 1, 1, 1, 1, 1, 1, 3, 3, 1, 1, 3, 3, 3, 3, 1, 1, 1, 1, 1, 3, 3, 1, 1, 1, 1, 3, 3, 2, 3, 1, 3, 1, 1, 1, 3, 1, 3, 3, 3, 1, 1, 1, 3, 1, 1, 3, 3, 1, 1, 3, 1, 1, 1, 1, 1, 1, 2, 1, 3, 1, 3, 1, 3, 1, 3, 1, 3, 3, 3, 1, 1, 3, 1, 1, 3, 3, 1, 1, 1, 1, 1, 1, 1, 1, 1, 1, 1, 2, 3, 3, 1, 3, 1, 2, 1, 1, 3, 1, 1, 3, 1, 1, 1, 3, 3, 1, 1, 3, 3, 1, 1, 1, 1, 3, 3, 1, 1, 1, 1, 1, 1, 1, 1, 1, 1, 1, 3, 3, 1, 1, 3, 1, 1, 3, 3, 3, 1, 1, 1, 1, 1, 1, 1, 1, 3, 1, 3, 3, 1, 3, 3, 3, 3, 3, 1, 1, 3, 2, 3, 3, 1, 3, 1, 3, 3, 1, 2, 1, 3, 1, 3, 1, 1, 1, 1, 3, 1, 1, 1, 1, 3, 1, 1, 3, 1, 3, 2, 1, 3, 1, 1, 1, 1, 1, 1, 1, 3, 3, 1, 1, 3, 3, 3, 1, 3, 1, 3, 1, 1, 1, 1, 3, 1, 1, 3, 3, 1, 1, 1, 1, 1, 1, 1, 1, 1, 1, 1, 3, 3, 1, 1, 1, 3, 3, 1, 1, 1, 1, 1, 3, 1, 1, 1, 3, 3, 3, 1, 1, 1, 3, 1, 1, 1, 1, 1, 1, 1, 1, 1, 2, 3, 1, 3, 1, 1, 1, 1, 1, 1, 1, 1, 1, 1, 1, 1, 1, 1, 3, 3, 1, 3, 1, 3, 1, 3, 1, 1, 3, 3, 1, 3, 1, 1, 1, 1, 1, 1, 1, 1, 1, 1, 3, 3, 1, 3, 1, 3, 3, 1, 2, 3, 3, 3, 3, 1, 1, 3, 3, 3, 3, 1, 1, 3, 1, 1, 3, 3, 1, 3, 3, 1, 1, 1, 3, 3, 1, 1, 1, 1, 1, 1, 1, 3, 3, 1, 2, 3, 1, 1, 1, 1, 1, 3, 3, 1, 1, 1, 1, 1, 3, 1, 1, 3, 1, 1, 1, 1, 3, 1, 3, 3, 3, 1, 2, 3, 1, 1, 3, 1, 1, 1, 3, 1, 1, 1, 1, 1, 1, 1, 1, 3, 1, 1, 2, 3, 3, 2, 1, 1, 2, 3, 3, 3, 3, 3, 1, 1, 3, 1, 1, 2, 2, 1, 1, 3, 1, 1, 2, 1, 1, 3, 3, 3, 1, 3, 1, 1, 1, 1, 1, 3, 1, 1, 1, 3, 3, 1, 3, 3, 3, 2, 3, 1, 1, 1, 2, 2, 1, 3, 3, 1, 1, 1, 1, 1, 3, 2, 3, 1, 1, 1, 3, 1, 2, 3, 3, 3, 3, 1, 1, 1, 3, 3, 1, 1, 3, 1, 3, 3, 1, 1, 1, 3, 3, 3, 1, 1, 1, 1, 1, 1, 1, 1, 1, 1, 1, 3, 1, 1, 3, 3, 3, 1, 1, 1, 1, 1, 1, 1, 1, 1, 1, 3, 3, 3, 2, 1, 1, 3, 1, 3, 1, 1, 1, 3, 1, 1, 1, 1, 3, 3, 3, 3, 3, 1, 1, 3, 3, 1, 1, 1, 1, 1, 3, 1, 3, 1, 3, 1, 1, 1, 1, 1, 3, 1, 1, 1, 1, 3, 3, 3, 1, 1, 1, 3, 1, 1, 1, 3, 1, 3, 3, 1, 1, 3, 1, 1, 1, 1, 1, 1, 1, 1, 3, 1, 1, 1, 1, 3, 2, 1, 3, 3, 3, 3, 3, 1, 1, 3, 1, 3, 1, 1, 3, 1, 1, 3, 3, 3, 1, 1, 1, 1, 1, 1, 1, 1, 1, 3, 1, 1, 1, 2, 1, 3, 1, 1, 1, 1, 1, 1, 3, 1, 1, 1, 1, 3, 1, 1, 3, 1, 1, 1, 3, 3, 1, 1, 1, 3, 3, 1, 1, 1, 1, 1, 1, 1, 1, 1, 3, 1, 3, 3, 3, 3, 1, 3, 1, 1, 2, 1, 1, 1, 3, 3, 3, 3, 1, 3, 3, 1, 1, 3, 1, 2, 1, 1, 1, 1, 1, 3, 1, 1, 3, 1, 1, 1, 1, 3, 3, 3, 3, 3, 1, 1, 1, 1, 1, 3, 1, 3, 3, 3, 3, 3, 1, 1, 3, 1, 3, 3, 1, 2, 1, 1, 3, 1, 3, 3, 1, 3, 3, 3, 3, 3, 1, 1, 3, 1, 1, 1, 1, 1, 1, 1, 1, 1, 1, 1, 1, 1, 3, 1, 1, 1, 1, 1, 1, 1, 3, 2, 1, 3, 3, 3, 3, 1, 3, 1, 1, 1, 1, 1, 1, 1, 1, 1, 3, 1, 3, 3, 1, 3, 1, 3, 3, 3, 3, 3, 3, 3, 3, 3, 3, 1, 1, 1, 1, 3, 3, 1, 1, 1, 1, 1, 3, 3, 1, 3, 3, 3, 3, 1, 3, 1, 3, 1, 1, 1, 3, 3, 1, 3, 3, 3, 1, 1, 1, 1, 3, 3, 1, 3, 3, 3, 1, 1, 1, 3, 3, 1, 1, 1, 3, 1, 1, 1, 1, 3, 3, 3, 3, 3, 1, 1, 1, 1, 1, 3, 3, 1, 1, 1, 3, 1, 3, 1, 3, 1, 1, 3, 2, 3, 1, 1, 3, 3, 1, 1, 3, 1, 1, 1, 1, 1, 1, 3, 1, 1, 3, 1, 1, 1, 3, 1, 1, 1, 3, 1, 3, 1, 1, 1, 1, 1, 1, 3, 1, 1, 3, 1, 3, 3, 1, 2, 3, 3, 3, 2, 3, 1, 1, 1, 1, 1, 1, 1, 1, 3, 3, 2, 3, 1, 1, 2, 3, 3, 3, 1, 1, 3, 1, 3, 3, 1, 3, 1, 1, 1, 1, 1, 1, 3, 1, 1, 1, 1, 3, 3, 3, 1, 3, 3, 1, 1, 3, 3, 3, 3, 1, 1, 3, 3, 1, 3, 1, 1, 1, 3, 1, 3, 3, 3, 3, 1, 3, 3, 1, 1, 1, 1, 1, 1, 1, 1, 1, 1, 1, 3, 3, 1, 1, 3, 3, 3, 1, 3, 1, 1, 1, 1, 1, 3, 1, 1, 3, 1, 1, 1, 1, 3, 1, 1, 3, 1, 1, 1, 3, 1, 1, 3, 1, 1, 1, 1, 1, 3, 1, 1, 1, 1, 1, 1, 1, 1, 1, 3, 3, 1, 3, 1, 1, 3, 3, 3, 3, 1, 1, 3, 1, 1, 2, 3, 1, 1, 1, 3, 1, 3, 2, 1, 1, 1, 3, 2, 3, 2, 1, 3, 1, 1, 3, 1, 1, 3, 3, 1, 1, 1, 1, 1, 3, 1, 1, 1, 1, 1, 1, 1, 1, 1, 1, 1, 1, 3, 1, 1, 1, 1, 1, 1, 1, 1, 3, 3, 3, 3, 1, 3, 3, 3, 1, 1, 3, 1, 3, 1, 1, 3, 3, 3, 1, 1, 3, 3, 1, 1, 1, 3, 1, 1, 3, 1, 1, 3, 3, 1, 1, 3, 1, 1, 1, 1, 1, 1, 1, 1, 1, 1, 1, 1, 1, 1, 1, 3, 2, 1, 1, 1, 3, 1, 3, 3, 3, 3, 3, 3, 3, 3, 1, 3, 1, 1, 1, 1, 3, 1, 1, 1, 1, 3, 3, 1, 1, 1, 1, 2, 1, 1, 1, 1, 1, 1, 1, 1, 1, 1, 1, 1, 1, 3, 1, 1, 1, 1, 1, 1, 1, 1, 3, 3, 3, 3, 3, 3, 3, 3, 3, 1, 1, 1, 1, 1, 3, 1, 1, 1, 1, 1, 2, 3, 3, 1, 1, 3, 1, 1, 3, 1, 3, 3, 1, 3, 3, 1, 3, 1, 3, 1, 1, 3, 1, 1, 3, 1, 1, 1, 1, 1, 1, 1, 1, 1, 1, 1, 1, 1, 1, 1, 1, 3, 1, 1, 3, 1, 1, 3, 1, 1, 1, 1, 1, 1, 1, 3, 3, 1, 3, 3, 3, 3, 3, 3, 3, 3, 3, 1, 1, 1, 1, 3, 2, 3, 3, 1, 1, 3, 3, 1, 1, 1, 1, 1, 3, 3, 1, 1, 1, 1, 1, 3, 1, 3, 3, 3, 3, 1, 3, 3, 1, 1, 1, 1, 1, 1, 1, 1, 1, 1, 3, 1, 1, 3, 1, 1, 1, 1, 1, 3, 1, 1, 1, 1, 1, 1, 1, 3, 3, 3, 3, 1, 1, 3, 3, 1, 1, 1, 3, 2, 1, 1, 3, 3, 3, 3, 1, 1, 3, 3, 1, 3, 3, 1, 3, 1, 1, 3, 3, 1, 1, 1, 3, 1, 1, 1, 1, 1, 1, 1, 1, 1, 3, 3, 3, 1, 1, 1, 1, 1, 1, 3, 3, 3, 3, 1, 1, 1, 1, 1, 1, 1, 1, 3, 1, 1, 3, 3, 1, 1, 3, 1, 3, 3, 3, 1, 2, 3, 3, 3, 3, 1, 3, 1, 1, 1, 3, 3, 3, 3, 3, 3, 3, 1, 1, 1, 1, 1, 3, 1, 1, 3, 1, 1, 1, 1, 1, 1, 1, 1, 1, 1, 1, 1, 3, 1, 1, 1, 3, 1, 1, 3, 3, 3, 3, 3, 1, 3, 1, 3, 3, 1, 3, 3, 3, 1, 3, 1, 1, 3, 1, 1, 1, 1, 3, 1, 1, 1, 1, 3, 1, 3, 3, 3, 1, 3, 3, 3, 1, 3, 3, 3, 1, 1, 1, 1, 3, 1, 1, 1, 1, 1, 1, 1, 1, 3, 1, 1, 3, 1, 1, 3, 1, 1, 3, 3, 3, 3, 1, 3, 3, 3, 3, 2, 3, 1, 1, 1, 1, 3, 3, 1, 1, 1, 1, 1, 3, 3, 3, 3, 3, 1, 3, 3, 3, 3, 3, 1, 1, 1, 1, 3, 3, 1, 3, 3, 1, 3, 3, 1, 1, 2, 3, 1, 1, 2, 1, 1, 2, 3, 3, 3, 1, 3, 1, 3, 1, 3, 1, 1, 3, 1, 1, 1, 3, 2, 1, 1, 1, 1, 1, 1, 3, 1, 1, 1, 3, 1, 1, 3, 1, 3, 1, 1, 1, 3, 3, 3, 3, 1, 1, 1, 1, 3, 1, 1, 1, 3, 3, 1, 3, 1, 1, 1, 1, 3, 3, 1, 3, 1, 3, 3, 3, 3, 3, 3, 1, 2, 2, 2, 2, 1, 3, 3, 1, 3, 3, 1, 1, 3, 3, 3, 3, 3, 1, 3, 3, 3, 1, 3, 3, 1, 3, 3, 3, 1, 3, 3, 3, 3, 1, 1, 1, 1, 1, 3, 3, 1, 3, 1, 3, 3, 1, 3, 1, 1, 1, 1, 3, 3, 3, 3, 3, 3, 3, 1, 2, 1, 3, 3, 1, 3, 1, 1, 3, 1, 1, 1, 3, 3, 1, 1, 1, 3, 1, 3, 1, 1, 1, 3, 1, 3, 1, 1, 3, 3, 1, 3, 3, 3, 1, 1, 3, 3, 3, 3, 1, 1, 1, 3, 1, 1, 1, 3, 1, 3, 3, 3, 3, 1, 1, 1, 1, 3, 1, 1, 1, 1, 1, 1, 1, 1, 3, 1, 3, 1, 1, 3, 3, 1, 1, 3, 3, 3, 3, 1, 1, 3, 3, 3, 1, 3, 3, 3, 3, 1, 3, 1, 1, 1, 1, 1, 3, 1, 1, 1, 1, 1, 3, 2, 1, 3, 3, 3, 1, 1, 1, 1, 1, 1, 1, 1, 1, 1, 1, 3, 1, 3, 1, 1, 1, 1, 1, 1, 3, 1, 3, 1, 3, 1, 3, 1, 3, 1, 1, 1, 3, 3, 1, 1, 1, 3, 3, 1, 3, 3, 1, 3, 1, 3, 1, 1, 1, 1, 1, 3, 3, 3, 1, 1, 3, 3, 3, 3, 1, 3, 3, 1, 3, 1, 1, 1, 1, 3, 3, 1, 1, 1, 3, 1, 1, 3, 1, 3, 1, 1, 1, 1, 1, 1, 3, 1, 1, 3, 1, 3, 3, 1, 1, 3, 1, 3, 1, 3, 1, 1, 2, 1, 1, 1, 1, 1, 3, 3, 1, 1, 3, 3, 1, 1, 1, 1, 3, 1, 1, 1, 1, 1, 1, 1, 1, 1, 3, 1, 1, 1, 3, 3, 3, 3, 1, 3, 3, 3, 1, 3, 1, 1, 1, 1, 3, 1, 1, 3, 1, 3, 3, 1, 1, 1, 1, 3, 2, 3, 1, 3, 1, 1, 1, 3, 3, 3, 3, 3, 3, 3, 3, 3, 1, 1, 1, 1, 1, 3, 3, 3, 3, 3, 3, 3, 3, 1, 1, 2, 3, 3, 1, 3, 3, 3, 3, 1, 1, 1, 3, 3, 1, 3, 3, 1, 3, 1, 3, 1, 3, 3, 1, 3, 1, 1, 3, 1, 1, 3, 2, 1, 1, 3, 3, 3, 3, 3, 1, 1, 3, 1, 1, 1, 1, 1, 3, 3, 1, 3, 1, 3, 1, 3, 3, 3, 3, 1, 1, 1, 2, 1, 1, 1, 3, 2, 3, 1, 3, 3, 3, 3, 1, 3, 1, 3, 3, 3, 3, 1, 3, 1, 1, 3, 3, 3, 1, 1, 1, 1, 1, 1, 1, 1, 1, 1, 1, 3, 1, 3, 1, 3, 1, 1, 1, 1, 1, 3, 1, 1, 3, 3, 3, 3, 3, 1, 1, 1, 1, 2, 1, 3, 3, 1, 3, 1, 3, 1, 3, 1, 1, 1, 1, 1, 1, 1, 1, 2, 3, 1, 3, 3, 1, 3, 3, 3, 3, 2, 1, 1, 1, 3, 2, 1, 1, 3, 3, 3, 3, 3, 1, 3, 3, 3, 3, 1, 3, 3, 3, 3, 3, 3, 3, 1, 2, 3, 1, 3, 1, 1, 1, 3, 2, 1, 3, 1, 3, 1, 3, 3, 1, 3, 3, 3, 3, 1, 3, 1, 3, 3, 3, 1, 1, 1, 1, 1, 1, 1, 3, 3, 3, 1, 1, 3, 3, 1, 3, 3, 3, 3, 3, 3, 1, 1, 3, 1, 3, 1, 3, 3, 3, 1, 1, 3, 3, 3, 3, 3, 1, 3, 2, 1, 3, 1, 3, 1, 3, 3, 3, 1, 1, 1, 3, 3, 3, 1, 3, 3, 3, 3, 3, 3, 1, 3, 1, 1, 1, 3, 3, 2, 3, 3, 3, 3, 3, 1, 1, 2, 3, 1, 3, 3, 3, 1, 3, 3, 1, 1, 1, 3, 1, 1, 1, 1, 1, 3, 1, 1, 3, 3, 1, 1, 3, 2, 1, 1, 3, 1, 3, 1, 1, 3, 1, 3, 1, 1, 3, 3, 3, 3, 3, 3, 3, 3, 1, 1, 3, 1, 1, 2, 3, 3, 3, 3, 1, 1, 3, 3, 1, 3, 1, 1, 1, 3, 1, 3, 3, 3, 1, 3, 1, 1, 1, 3, 3, 1, 2, 3, 1, 3, 1, 1, 1, 1, 1, 3, 3, 1, 3, 1, 3, 3, 1, 3, 2, 3, 3, 1, 3, 1, 1, 3, 3, 3, 3, 3, 3, 3, 1, 3, 1, 1, 3, 1, 1, 3, 3, 1, 3, 3, 3, 3, 3, 3, 3, 1, 3, 1, 1, 3, 1, 1, 1, 1, 3, 3, 3, 3, 3, 1, 1, 1, 3, 3, 1, 3, 3, 1, 1, 1, 1, 3, 2, 3, 3, 3, 3, 3, 1, 1, 1, 3, 3, 1, 1, 3, 3, 2, 1, 3, 1, 3, 3, 3, 1, 3, 1, 3, 1, 1, 3, 3, 1, 1, 1, 1, 1, 1, 1, 1, 1, 3, 1, 1, 3, 3, 1, 1, 1, 1, 1, 1, 1, 1, 1, 3, 3, 3, 3, 3, 3, 3, 1, 1, 1, 3, 3, 3, 3, 1, 1, 3, 3, 1, 1, 1, 1, 3, 3, 1, 3, 3, 1, 3, 3, 3, 3, 3, 3, 1, 3, 3, 1, 1, 1, 3, 3, 1, 3, 3, 3, 3, 1, 1, 1, 1, 3, 1, 1, 3, 1, 2, 3, 3, 3, 3, 1, 3, 3, 1, 3, 1, 3, 3, 3, 3, 3, 1, 3, 3, 3, 3, 1, 1, 1, 3, 3, 1, 1, 1, 1, 3, 3, 3, 1, 3, 3, 1, 1, 3, 1, 1, 1, 1, 3, 1, 1, 1, 3, 3, 1, 1, 1, 1, 3, 3, 3, 1, 3, 3, 1, 1, 1, 1, 3, 3, 1, 3, 3, 3, 1, 1, 3, 3, 3, 1, 1, 3, 1, 1, 3, 3, 3, 1, 3, 3, 3, 1, 1, 1, 3, 3, 3, 1, 3, 3, 3, 3, 3, 1, 3, 1, 3, 1, 1, 3, 1, 1, 3, 3, 1, 1, 1, 3, 1, 3, 1, 3, 1, 1, 1, 1, 1, 1, 1, 1, 1, 1, 1, 1, 3, 3, 3, 3, 3, 1, 1, 3, 3, 1, 3, 3, 1, 1, 1, 1, 3, 1, 3, 2, 1, 1, 1, 1, 1, 3, 1, 1, 1, 3, 3, 1, 1, 3, 1, 1, 3, 3, 3, 3, 3, 1, 2, 1, 1, 1, 1, 1, 1, 3, 3, 2, 3, 3, 3, 1, 1, 1, 3, 3, 3, 3, 1, 1, 3, 3, 1, 3, 3, 1, 1, 3, 1, 3, 3, 3, 3, 3, 1, 1, 3, 1, 1, 2, 1, 1, 1, 1, 1, 1, 1, 3, 3, 3, 3, 2, 3, 3, 3, 1, 1, 1, 3, 1, 1, 1, 1, 1, 3, 3, 3, 1, 1, 1, 3, 1, 1, 3, 1, 1, 3, 1, 1, 1, 1, 3, 1, 3, 3, 1, 3, 3, 1, 3, 1, 3, 1, 1, 1, 3, 3, 3, 3, 1, 1, 1, 3, 1, 3, 1, 3, 1, 3, 3, 1, 3, 1, 3, 2, 1, 3, 3, 1, 3, 3, 3, 1, 3, 3, 3, 3, 1, 1, 1, 3, 1, 1, 1, 1, 1, 1, 1, 3, 3, 3, 1, 1, 1, 1, 2, 3, 3, 2, 1, 1, 3, 1, 1, 2, 3, 1, 3, 1, 3, 1, 1, 1, 3, 3, 3, 1, 1, 3, 1, 3, 3, 3, 3, 1, 1, 3, 1, 3, 1, 1, 1, 1, 3, 3, 1, 3, 1, 1, 1, 1, 3, 3, 1, 1, 1, 1, 1, 1, 1, 1, 1, 3, 1, 1, 1, 1, 1, 3, 1, 3, 3, 3, 3, 3, 3, 2, 3, 1, 3, 3, 3, 3, 3, 3, 3, 3, 1, 3, 3, 3, 3, 3, 1, 1, 3, 1, 1, 1, 1, 3, 3, 3, 3, 1, 3, 3, 1, 3, 3, 3, 3, 3, 3, 1, 1, 3, 3, 1, 3, 3, 3, 3, 1, 3, 3, 3, 3, 3, 3, 3, 3, 3, 3, 1, 1, 3, 1, 1, 1, 2, 1, 3, 3, 1, 1, 1, 1, 3, 1, 1, 1, 1, 3, 1, 1, 1, 1, 1, 3, 3, 3, 1, 1, 3, 1, 3, 1, 3, 3, 1, 1, 1, 1, 3, 3, 1, 3, 3, 1, 1, 1, 1, 1, 3, 3, 3, 3, 1, 3, 3, 1, 1, 1, 1, 1, 3, 1, 1, 1, 3, 3, 1, 1, 3, 1, 1, 3, 1, 1, 1, 1, 3, 1, 1, 3, 3, 3, 3, 3, 3, 1, 1, 1, 3, 2, 3, 1, 1, 1, 3, 3, 3, 1, 3, 3, 3, 2, 2, 3, 3, 3, 1, 3, 3, 1, 3, 3, 3, 3, 3, 1, 3, 3, 1, 3, 1, 3, 3, 1, 1, 1, 1, 3, 1, 1, 1, 3, 3, 1, 3, 1, 1, 1, 2, 3, 3, 3, 1, 1, 1, 3, 3, 1, 1, 1, 3, 1, 3, 1, 1, 3, 3, 3, 1, 3, 3, 1, 1, 3, 2, 2, 1, 3, 1, 1, 3, 3, 3, 3, 3, 3, 3, 1, 3, 1, 1, 1, 3, 1, 1, 1, 3, 3, 1, 1, 1, 1, 1, 3, 3, 3, 3, 3, 1, 1, 1, 3, 1, 1, 3, 1, 3, 3, 1, 1, 1, 1, 1, 1, 1, 3, 1, 3, 3, 1, 1, 1, 3, 1, 1, 1, 1, 1, 2, 3, 3, 1, 3, 1, 3, 3, 1, 3, 3, 1, 1, 1, 1, 1, 1, 1, 1, 3, 1, 3, 1, 3, 1, 1, 1, 1, 1, 3, 3, 1, 1, 3, 1, 3, 1, 1, 3, 3, 3, 3, 3, 1, 1, 3, 3, 3, 1, 1, 1, 1, 3, 1, 1, 1, 2, 3, 3, 3, 3, 3, 3, 3, 3, 1, 1, 1, 1, 1, 1, 3, 3, 1, 3, 1, 1, 3, 3, 3, 3, 3, 3, 3, 3, 3, 3, 1, 3, 1, 1, 1, 1, 3, 1, 3, 3, 2, 3, 3, 3, 3, 1, 3, 1, 2, 3, 1, 3, 3, 3, 3, 1, 3, 3, 1, 1, 3, 1, 3, 2, 1, 1, 3, 1, 3, 3, 1, 3, 1, 3, 2, 1, 1, 1, 3, 1, 1, 3, 3, 3, 1, 1, 1, 1, 1, 3, 3, 3, 1, 1, 1, 3, 1, 3, 3, 3, 3, 3, 1, 3, 1, 3, 1, 3, 3, 1, 1, 3, 1, 3, 3, 1, 3, 3, 3, 3, 3, 3, 3, 3, 3, 3, 3, 3, 3, 1, 1, 1, 1, 1, 2, 3, 1, 3, 3, 3, 1, 1, 1, 1, 1, 1, 1, 1, 3, 1, 3, 3, 1, 1, 3, 1, 3, 3, 1, 1, 3, 3, 1, 1, 3, 1, 3, 1, 3, 3, 3, 3, 3, 3, 3, 3, 3, 3, 3, 3, 3, 1, 2, 3, 3, 1, 3, 1, 3, 3, 1, 3, 3, 2, 1, 1, 1, 1, 1, 1, 3, 1, 1, 3, 1, 1, 1, 1, 1, 3, 1, 1, 1, 3, 1, 3, 3, 1, 1, 3, 1, 1, 1, 1, 3, 1, 3, 3, 3, 3, 1, 3, 1, 1, 1, 1, 3, 1, 3, 1, 1, 1, 1, 1, 1, 1, 1, 1, 1, 3, 3, 1, 3, 3, 3, 3, 1, 1, 3, 1, 3, 3, 3, 3, 1, 2, 3, 3, 3, 1, 1, 3, 1, 1, 3, 3, 1, 3, 1, 3, 3, 3, 1, 1, 1, 1, 2, 2, 3, 1, 3, 1, 1, 3, 1, 1, 1, 1, 1, 3, 3, 1, 3, 3, 3, 1, 3, 3, 3, 3, 3, 3, 3, 3, 1, 3, 3, 1, 1, 1, 3, 1, 1, 3, 3, 2, 1, 3, 1, 1, 1, 1, 1, 1, 3, 1, 1, 3, 1, 1, 1, 3, 3, 3, 3, 3, 1, 1, 1, 1, 1, 1, 1, 3, 1, 3, 1, 1, 1, 1, 1, 1, 1, 3, 1, 3, 1, 3, 1, 1, 3, 3, 3, 3, 1, 1, 2, 2, 3, 3, 3, 1, 1, 1, 3, 1, 3, 3, 1, 3, 1, 3, 3, 1, 1, 1, 1, 3, 3, 1, 1, 1, 1, 1, 1, 1, 1, 1, 1, 3, 3, 3, 3, 3, 1, 3, 3, 1, 1, 1, 1, 3, 3, 3, 1, 1, 3, 1, 3, 3, 3, 1, 1, 1, 1, 3, 3, 3, 3, 3, 3, 3, 3, 3, 1, 1, 1, 1, 1, 1, 3, 3, 1, 3, 1, 3, 1, 3, 1, 2, 3, 1, 1, 3, 1, 1, 1, 3, 1, 1, 3, 3, 1, 3, 3, 3, 3, 3, 3, 1, 1, 1, 1, 3, 1, 3, 3, 3, 3, 3, 3, 1, 1, 1, 1, 1, 3, 3, 3, 1, 3, 1, 1, 1, 1, 3, 3, 1, 3, 1, 1, 3, 3, 3, 1, 1, 3, 3, 1, 1, 3, 3, 1, 3, 3, 1, 3, 1, 1, 3, 1, 1, 1, 1, 3, 3, 3, 3, 3, 1, 1, 3, 3, 3, 1, 3, 1, 1, 3, 1, 1, 1, 1, 2, 3, 1, 1, 3, 3, 1, 1, 1, 1, 1, 3, 1, 3, 1, 1, 1, 1, 1, 3, 3, 2, 1, 1, 1, 1, 3, 3, 3, 3, 1, 1, 1, 1, 3, 3, 3, 3, 1, 3, 1, 1, 1, 1, 1, 1, 3, 3, 2, 2, 1, 1, 2, 1, 3, 3, 3, 3, 3, 1, 1, 1, 3, 1, 3, 3, 3, 3, 3, 1, 3, 3, 1, 1, 3, 3, 3, 1, 1, 1, 1, 1, 3, 1, 3, 1, 1, 1, 1, 3, 3, 1, 1, 3, 3, 3, 1, 1, 1, 3, 1, 3, 1, 3, 3, 3, 1, 3, 3, 3, 1, 3, 2, 1, 3, 1, 1, 1, 2, 1, 1, 1, 3, 3, 1, 3, 3, 3, 1, 3, 3, 3, 3, 3, 1, 1, 1, 1, 3, 3, 1, 3, 1, 1, 1, 3, 1, 3, 1, 1, 1, 3, 3, 3, 3, 3, 1, 1, 1, 3, 1, 1, 1, 3, 2, 3, 3, 1, 1, 1, 1, 1, 1, 1, 3, 1, 1, 3, 3, 3, 3, 1, 1, 1, 1, 3, 1, 1, 3, 3, 3, 3, 3, 3, 1, 3, 1, 1, 1, 1, 3, 1, 1, 1, 1, 1, 3, 1, 3, 1, 1, 3, 1, 1, 1, 3, 3, 1, 3, 2, 1, 1, 1, 2, 3, 1, 1, 3, 3, 1, 1, 3, 3, 1, 3, 1, 3, 3, 1, 3, 3, 1, 1, 3, 3, 3, 3, 3, 1, 1, 3, 3, 3, 3, 1, 3, 1, 1, 3, 3, 3, 3, 3, 3, 3, 3, 3, 2, 3, 1, 3, 3, 1, 3, 3, 1, 3, 1, 3, 3, 1, 1, 3, 1, 1, 3, 1, 1, 3, 1, 3, 3, 1, 1, 1, 3, 3, 1, 1, 3, 3, 1, 1, 1, 1, 1, 1, 1, 1, 1, 1, 3, 1, 1, 3, 3, 3, 3, 3, 3, 3, 1, 1, 3, 3, 3, 3, 3, 3, 1, 3, 3, 1, 1, 1, 3, 3, 1, 3, 3, 1, 1, 3, 1, 3, 1, 1, 1, 1, 1, 3, 1, 3, 1, 1, 3, 3, 1, 3, 1, 1, 3, 3, 3, 3, 1, 1, 1, 1, 3, 1, 1, 1, 1, 3, 3, 3, 3, 3, 1, 3, 3, 3, 3, 3, 2, 3, 3, 1, 1, 3, 3, 1, 3, 3, 3, 3, 1, 3, 3, 1, 3, 3, 3, 3, 1, 3, 3, 3, 1, 3, 2, 1, 3, 3, 3, 1, 3, 3, 3, 1, 3, 1, 3, 3, 1, 3, 3, 1, 1, 1, 1, 1, 1, 3, 1, 3, 3, 3, 3, 1, 1, 3, 2, 1, 3, 1, 3, 1, 1, 2, 3, 3, 3, 3, 3, 3, 3, 1, 3, 1, 1, 3, 1, 1, 1, 3, 2, 1, 1, 1, 1, 1, 1, 3, 3, 1, 1, 1, 3, 3, 3, 3, 1, 1, 1, 1, 1, 3, 3, 3, 3, 1, 1, 3, 3, 3, 1, 1, 3, 3, 3, 3, 1, 3, 1, 1, 1, 1, 1, 3, 1, 3, 1, 3, 3, 1, 1, 3, 3, 3, 1, 1, 3, 1, 1, 3, 3, 1, 1, 3, 1, 1, 3, 3, 3, 3, 1, 3, 1, 1, 1, 1, 1, 1, 3, 1, 3, 1, 3, 3, 1, 3, 2, 1, 3, 1, 1, 1, 3, 3, 1, 3, 3, 1, 3, 3, 1, 3, 3, 1, 1, 1, 1, 3, 1, 1, 3, 3, 1, 1, 1, 1, 3, 1, 3, 1, 3, 3, 1, 1, 1, 1, 3, 2, 3, 3, 3, 1, 3, 3, 3, 3, 3, 3, 1, 1, 1, 3, 1, 1, 3, 1, 1, 1, 3, 1, 1, 3, 1, 1, 3, 3, 2, 1, 3, 1, 3, 3, 3, 3, 1, 1, 1, 1, 3, 3, 1, 3, 1, 3, 3, 3, 3, 3, 1, 1, 3, 3, 3, 3, 1, 1, 3, 3, 3, 1, 1, 1, 2, 1, 3, 3, 3, 1, 1, 1, 1, 1, 1, 1, 1, 1, 1, 3, 1, 3, 1, 3, 1, 1, 1, 1, 3, 1, 1, 3, 3, 3, 3, 1, 1, 1, 3, 1, 3, 1, 3, 3, 1, 3, 3, 3, 1, 1, 3, 1, 1, 3, 1, 3, 1, 3, 1, 1, 3, 3, 3, 1, 1, 1, 1, 1, 3, 1, 3, 3, 3, 3, 3, 3, 3, 3, 1, 1, 3, 3, 1, 3, 3, 3, 3, 1, 3, 3, 1, 3, 1, 1, 1, 1, 3, 1, 3, 1, 3, 3, 1, 3, 1, 1, 1, 2, 1, 3, 1, 3, 3, 1, 3, 1, 3, 3, 2, 1, 1, 3, 3, 1, 1, 3, 1, 3, 3, 1, 1, 1, 1, 1, 1, 1, 3, 1, 3, 1, 1, 3, 3, 3, 3, 2, 3, 3, 1, 1, 1, 1, 3, 1, 1, 3, 1, 3, 1, 1, 1, 3, 1, 1, 1, 1, 1, 1, 1, 1, 1, 1, 1, 2, 1, 1, 3, 1, 1, 3, 3, 1, 3, 3, 1, 1, 1, 3, 3, 3, 1, 3, 3, 1, 1, 1, 3, 3, 3, 3, 1, 3, 3, 3, 2, 3, 3, 1, 1, 1, 3, 3, 3, 3, 1, 3, 1, 1, 1, 1, 3, 3, 3, 3, 3, 1, 1, 1, 3, 1, 1, 3, 1, 2, 3, 3, 3, 3, 1, 1, 1, 3, 1, 1, 1, 3, 3, 1, 1, 3, 1, 3, 1, 3, 1, 3, 3, 3, 3, 3, 3, 3, 3, 1, 1, 3, 1, 2, 1, 1, 2, 1, 1, 3, 3, 3, 1, 1, 3, 1, 3, 3, 2, 2, 2, 3, 1, 1, 3, 3, 3, 1, 1, 1, 1, 3, 1, 3, 3, 3, 3, 3, 3, 1, 3, 3, 3, 2, 3, 3, 1, 3, 3, 1, 1, 3, 1, 1, 1, 1, 1, 1, 3, 3, 1, 1, 1, 3, 1, 3, 1, 1, 1, 1, 3, 1, 1, 3, 1, 1, 1, 1, 1, 1, 1, 3, 1, 1, 1, 1, 3, 3, 1, 1, 1, 3, 3, 3, 1, 1, 3, 3, 1, 1, 1, 3, 3, 1, 3, 3, 3, 1, 2, 3, 3, 1, 3, 1, 1, 1, 3, 1, 3, 3, 1, 3, 3, 3, 1, 1, 3, 3, 3, 1, 1, 1, 3, 3, 1, 3, 3, 3, 3, 1, 3, 3, 3, 3, 1, 1, 1, 3, 1, 3, 3, 1, 3, 3, 3, 3, 1, 1, 1, 1, 1, 3, 3, 3, 3, 1, 3, 3, 1, 3, 3, 1, 3, 1, 3, 1, 1, 1, 1, 1, 1, 1, 1, 3, 1, 3, 3, 1, 1, 1, 3, 3, 3, 3, 1, 3, 1, 3, 3, 1, 1, 2, 1, 3, 1, 1, 1, 3, 3, 3, 3, 1, 1, 3, 1, 1, 3, 3, 3, 3, 3, 3, 1, 1, 1, 1, 1, 1, 1, 1, 3, 3, 1, 1, 1, 1, 1, 1, 3, 1, 3, 1, 1, 3, 1, 3, 1, 3, 1, 1, 1, 3, 3, 3, 2, 1, 1, 1, 3, 3, 2, 3, 3, 3, 3, 1, 3, 1, 3, 3, 3, 1, 1, 3, 1, 1, 3, 1, 1, 3, 3, 3, 3, 1, 3, 3, 1, 3, 3, 3, 1, 1, 1, 3, 1, 3, 1, 1, 1, 1, 1, 1, 3, 1, 3, 3, 3, 3, 1, 1, 1, 1, 3, 1, 1, 1, 1, 3, 3, 1, 3, 1, 3, 3, 1, 3, 1, 3, 3, 1, 1, 3, 3, 1, 3, 3, 3, 1, 3, 3, 3, 1, 1, 3, 1, 3, 1, 1, 1, 1, 3, 3, 1, 3, 3, 1, 3, 3, 3, 3, 3, 3, 1, 1, 3, 1, 3, 1, 3, 3, 1, 1, 1, 1, 3, 3, 2, 1, 1, 1, 2, 3, 3, 3, 3, 1, 1, 3, 3, 1, 1, 1, 3, 3, 3, 3, 1, 1, 1, 1, 1, 1, 1, 1, 3, 3, 3, 3, 3, 3, 2, 3, 1, 1, 1, 3, 3, 1, 3, 2, 3, 1, 1, 2, 2, 3, 1, 1, 1, 3, 1, 3, 1, 1, 3, 3, 3, 1, 1, 3, 3, 1, 3, 1, 1, 3, 2, 3, 1, 3, 3, 1, 3, 3, 3, 1, 3, 1, 2, 3, 1, 3, 1, 1, 1, 3, 1, 1, 1, 3, 3, 3, 1, 3, 3, 3, 3, 3, 1, 3, 1, 1, 1, 1, 1, 3, 3, 3, 1, 1, 1, 3, 2, 3, 2, 2, 3, 1, 3, 1, 1, 3, 1, 1, 3, 1, 1, 1, 1, 1, 1, 1, 1, 1, 1, 3, 1, 1, 1, 1, 3, 1, 1, 1, 3, 3, 3, 1, 3, 2, 3, 3, 3, 3, 3, 1, 3, 1, 1, 3, 1, 3, 3, 3, 1, 3, 3, 3, 3, 3, 3, 1, 3, 3, 3, 1, 3, 3, 3, 3, 1, 3, 1, 3, 3, 1, 1, 3, 3, 1, 1, 3, 3, 1, 1, 1, 1, 3, 3, 3, 3, 1, 3, 3, 2, 3, 3, 1, 1, 3, 3, 1, 1, 3, 1, 1, 3, 1, 1, 1, 1, 1, 3, 3, 3, 1, 3, 3, 1, 1, 3, 3, 3, 1, 1, 3, 1, 3, 3, 3, 1, 1, 3, 1, 1, 3, 3, 1, 1, 3, 3, 3, 3, 1, 1, 1, 1, 3, 3, 3, 3, 3, 3, 1, 3, 1, 3, 3, 1, 3, 1, 1, 3, 1, 3, 3, 3, 1, 1, 1, 1, 1, 1, 1, 3, 3, 3, 1, 1, 2, 3, 3, 3, 3, 3, 1, 2, 3, 3, 1, 3, 3, 1, 1, 1, 1, 1, 3, 3, 1, 2, 1, 1, 3, 3, 1, 1, 1, 1, 1, 1, 1, 3, 3, 3, 3, 3, 1, 1, 3, 3, 1, 1, 1, 3, 3, 3, 3, 2, 1, 1, 3, 3, 2, 1, 3, 1, 3, 3, 3, 1, 3, 1, 1, 1, 2, 3, 1, 3, 3, 2, 3, 3, 3, 3, 1, 1, 1, 1, 3, 3, 3, 3, 1, 3, 3, 3, 3, 3, 3, 1, 3, 1, 3, 3, 3, 3, 1, 1, 3, 3, 1, 3, 1, 3, 3, 3, 1, 3, 1, 1, 3, 3, 3, 3, 3, 3, 1, 3, 3, 1, 3, 3, 1, 1, 1, 1, 1, 1, 1, 3, 3, 3, 3, 1, 1, 3, 3, 1, 1, 1, 1, 3, 3, 3, 1, 1, 3, 1, 3, 3, 1, 3, 1, 1, 1, 1, 1, 1, 1, 1, 2, 3, 3, 3, 3, 1, 1, 3, 1, 2, 3, 3, 3, 1, 3, 3, 1, 3, 3, 1, 1, 1, 1, 1, 3, 1, 3, 1, 1, 1, 3, 1, 1, 3, 3, 2, 3, 1, 1, 2, 1, 1, 1, 1, 1, 3, 3, 3, 3, 3, 1, 1, 3, 3, 1, 3, 1, 1, 1, 1, 2, 3, 3, 3, 3, 3, 1, 2, 1, 3, 1, 1, 3, 3, 3, 3, 1, 1, 3, 1, 1, 1, 1, 3, 3, 3, 3, 3, 3, 1, 1, 1, 3, 1, 3, 3, 3, 3, 3, 3, 3, 1, 1, 3, 3, 3, 3, 1, 3, 1, 3, 1, 3, 3, 1, 1, 3, 3, 2, 3, 3, 3, 1, 1, 1, 1, 1, 1, 3, 1, 3, 1, 3, 3, 1, 3, 1, 1, 1, 1, 2, 1, 1, 1, 1, 1, 3, 1, 1, 3, 3, 1, 3, 1, 1, 1, 1, 1, 3, 3, 3, 3, 1, 3, 3, 1, 3, 3, 3, 3, 3, 1, 3, 3, 3, 1, 1, 3, 1, 1, 3, 1, 1, 1, 1, 3, 3, 3, 1, 3, 3, 1, 1, 3, 3, 3, 3, 1, 1, 2, 1, 3, 1, 3, 1, 1, 1, 3, 3, 1, 3, 3, 3, 1, 1, 1, 1, 1, 3, 3, 1, 3, 3, 1, 1, 3, 1, 1, 1, 1, 1, 1, 1, 3, 1, 1, 3, 1, 3, 1, 3, 2, 1, 3, 3, 1, 1, 1, 3, 3, 3, 3, 3, 1, 1, 1, 1, 3, 3, 3, 3, 1, 1, 3, 1, 1, 1, 1, 1, 3, 1, 3, 1, 3, 3, 3, 1, 1, 1, 1, 1, 3, 1, 3, 1, 1, 1, 3, 1, 3, 3, 1, 3, 3, 1, 3, 1, 3, 1, 1, 1, 1, 3, 3, 3, 3, 1, 1, 3, 1, 1, 1, 1, 1, 2, 3, 1, 3, 3, 1, 3, 3, 1, 3, 3, 1, 1, 1, 3, 1, 3, 1, 3, 3, 3, 2, 1, 1, 3, 1, 3, 1, 3, 1, 3, 3, 3, 3, 3, 1, 2, 3, 3, 3, 3, 1, 1, 3, 3, 3, 1, 1, 1, 1, 1, 3, 3, 3, 2, 3, 3, 3, 1, 1, 1, 3, 1, 1, 1, 1, 1, 3, 3, 3, 3, 3, 3, 1, 1, 1, 3, 1, 1, 1, 1, 1, 1, 1, 1, 2, 1, 1, 3, 1, 3, 3, 1, 1, 1, 1, 3, 1, 3, 3, 3, 3, 1, 3, 1, 3, 1, 3, 1, 1, 2, 3, 1, 1, 1, 3, 3, 1, 3, 1, 1, 1, 1, 1, 3, 1, 1, 3, 3, 1, 3, 1, 1, 3, 3, 3, 3, 1, 3, 3, 1, 1, 1, 3, 3, 1, 3, 3, 3, 3, 3, 3, 3, 3, 1, 1, 2, 1, 2, 1, 1, 3, 3, 1, 1, 1, 3, 1, 3, 1, 3, 1, 3, 3, 1, 3, 3, 2, 3, 2, 3, 3, 1, 1, 1, 1, 1, 1, 3, 3, 3, 3, 2, 2, 1, 2, 3, 1, 1, 1, 1, 1, 3, 1, 3, 3, 1, 3, 1, 1, 3, 1, 1, 1, 3, 1, 1, 1, 1, 1, 1, 1, 3, 1, 3, 3, 1, 3, 2, 1, 1, 3, 3, 1, 1, 3, 1, 1, 1, 3, 1, 1, 1, 3, 3, 3, 1, 1, 1, 3, 3, 3, 1, 1, 1, 3, 1, 1, 3, 1, 1, 1, 1, 3, 3, 1, 1, 1, 1, 1, 1, 1, 1, 3, 3, 1, 1, 1, 3, 3, 3, 3, 3, 1, 3, 1, 1, 1, 3, 1, 1, 3, 3, 1, 1, 3, 3, 3, 3, 3, 3, 1, 1, 3, 1, 1, 1, 1, 3, 1, 1, 3, 3, 1, 1, 3, 1, 1, 1, 3, 1, 3, 1, 1, 1, 3, 3, 1, 1, 3, 1, 3, 3, 3, 1, 1, 3, 1, 3, 1, 3, 3, 1, 3, 1, 1, 3, 1, 1, 3, 3, 3, 1, 1, 1, 1, 3, 3, 3, 1, 3, 1, 3, 1, 3, 3, 1, 3, 3, 3, 1, 1, 3, 1, 3, 1, 1, 2, 1, 1, 1, 1, 3, 1, 1, 1, 2, 1, 3, 1, 1, 1, 1, 1, 1, 3, 3, 1, 1, 3, 1, 3, 3, 3, 1, 3, 1, 1, 1, 1, 1, 3, 3, 1, 1, 2, 3, 3, 3, 2, 1, 1, 3, 3, 3, 1, 3, 3, 1, 3, 1, 1, 2, 1, 1, 1, 1, 3, 1, 1, 3, 3, 3, 3, 1, 1, 1, 3, 3, 1, 1, 1, 3, 3, 3, 1, 1, 3, 3, 3, 1, 3, 3, 3, 3, 3, 3, 3, 1, 1, 1, 1, 3, 1, 1, 3, 1, 2, 1, 1, 3, 1, 3, 1, 1, 1, 1, 3, 3, 1, 1, 3, 1, 3, 3, 1, 3, 1, 1, 1, 1, 3, 1, 1, 1, 1, 1, 3, 1, 3, 3, 1, 1, 3, 3, 3, 3, 3, 3, 3, 3, 3, 3, 1, 1, 1, 1, 1, 3, 3, 3, 3, 3, 1, 1, 3, 1, 3, 3, 1, 2, 3, 3, 1, 1, 1, 3, 1, 1, 1, 3, 3, 1, 1, 1, 3, 1, 3, 1, 1, 3, 3, 3, 3, 1, 3, 1, 3, 1, 1, 3, 3, 1, 3, 3, 3, 3, 2, 1, 1, 2, 2, 1, 1, 3, 3, 1, 1, 1, 3, 3, 2, 3, 3, 1, 1, 1, 3, 1, 3, 1, 3, 3, 1, 3, 1, 3, 2, 1, 3, 1, 2, 3, 3, 1, 1, 1, 3, 1, 1, 1, 1, 3, 1, 3, 3, 3, 1, 3, 3, 1, 3, 1, 1, 1, 3, 1, 3, 1, 3, 1, 3, 1, 3, 3, 3, 3, 3, 1, 3, 1, 3, 1, 1, 1, 1, 1, 1, 3, 1, 3, 3, 1, 3, 3, 3, 3, 1, 1, 1, 3, 1, 1, 3, 1, 1, 1, 2, 1, 3, 2, 1, 1, 1, 1, 3, 1, 3, 1, 1, 1, 1, 3, 1, 3, 1, 1, 1, 1, 3, 3, 3, 3, 1, 1, 1, 3, 1, 3, 3, 3, 1, 1, 1, 1, 1, 3, 3, 1, 3, 1, 1, 3, 3, 3, 1, 3, 3, 1, 1, 3, 1, 3, 3, 1, 1, 1, 3, 3, 1, 3, 1, 1, 1, 1, 3, 1, 3, 3, 1, 3, 1, 3, 3, 3, 1, 3, 3, 1, 1, 1, 3, 2, 1, 3, 1, 3, 3, 2, 3, 3, 3, 3, 1, 3, 3, 3, 3, 1, 1, 1, 1, 1, 3, 3, 3, 3, 3, 3, 1, 1, 3, 1, 3, 3, 1, 3, 1, 1, 1, 1, 3, 1, 1, 1, 1, 1, 1, 1, 1, 2, 1, 3, 3, 3, 3, 3, 1, 1, 3, 3, 3, 3, 1, 3, 3, 3, 2, 1, 1, 1, 3, 1, 1, 3, 2, 1, 1, 3, 1, 3, 3, 3, 1, 1, 1, 1, 3, 3, 3, 1, 3, 3, 1, 3, 3, 3, 3, 3, 1, 3, 3, 1, 3, 1, 3, 3, 1, 2, 1, 1, 1, 3, 3, 3, 3, 3, 3, 3, 3, 3, 3, 1, 1, 1, 1, 1, 3, 1, 2, 3, 3, 3, 1, 3, 3, 3, 3, 3, 1, 3, 3, 3, 3, 1, 1, 3, 3, 3, 3, 2, 3, 3, 1, 3, 1, 3, 1, 1, 1, 3, 1, 3, 1, 1, 1, 3, 1, 3, 3, 2, 1, 1, 1, 1, 1, 1, 1, 3, 3, 1, 3, 3, 1, 1, 1, 1, 3, 3, 3, 1, 3, 3, 1, 3, 1, 3, 1, 1, 3, 1, 1, 1, 3, 3, 1, 3, 1, 3, 3, 3, 1, 3, 3, 1, 1, 1, 3, 1, 2, 3, 3, 1, 1, 1, 3, 1, 1, 1, 1, 3, 1, 3, 3, 1, 3, 3, 3, 2, 3, 1, 3, 3, 3, 3, 3, 3, 1, 3, 2, 1, 1, 3, 1, 1, 3, 3, 3, 3, 3, 1, 3, 1, 1, 3, 3, 1, 2, 1, 1, 3, 1, 3, 3, 3, 3, 1, 3, 1, 1, 1, 1, 3, 1, 3, 1, 1, 1, 1, 1, 3, 1, 3, 1, 1, 1, 3, 3, 3, 3, 3, 3, 3, 3, 3, 3, 3, 3, 3, 3, 3, 3, 1, 3, 3, 3, 1, 1, 1, 1, 3, 1, 1, 3, 3, 3, 3, 3, 1, 1, 1, 3, 1, 3, 1, 3, 1, 1, 1, 3, 1, 3, 3, 1, 1, 1, 1, 3, 1, 1, 1, 1, 1, 3, 3, 3, 1, 1, 3, 1, 1, 3, 2, 1, 1, 1, 1, 1, 3, 1, 3, 3, 3, 3, 3, 3, 1, 1, 1, 1, 1, 1, 1, 3, 1, 1, 1, 1, 3, 1, 1, 1, 1, 3, 3, 3, 1, 1, 1, 1, 3, 3, 1, 3, 1, 1, 1, 1, 3, 1, 3, 3, 1, 3, 3, 1, 3, 3, 1, 3, 1, 1, 1, 3, 3, 3, 3, 3, 3, 1, 1, 3, 3, 3, 1, 1, 1, 1, 1, 1, 3, 1, 1, 3, 3, 3, 1, 1, 1, 3, 3, 1, 1, 1, 1, 3, 3, 1, 3, 3, 3, 1, 3, 1, 2, 1, 3, 1, 3, 1, 1, 3, 1, 3, 3, 1, 1, 1, 3, 1, 1, 1, 3, 1, 1, 1, 1, 1, 3, 3, 3, 3, 1, 3, 1, 3, 3, 1, 3, 3, 3, 1, 1, 1, 1, 1, 1, 3, 3, 3, 3, 1, 3, 3, 3, 1, 3, 1, 1, 3, 2, 1, 1, 3, 1, 3, 1, 1, 1, 1, 1, 1, 1, 1, 1, 2, 1, 1, 1, 1, 1, 3, 1, 1, 3, 1, 1, 1, 1, 3, 3, 3, 3, 1, 1, 1, 1, 1, 1, 1, 1, 2, 3, 3, 1, 3, 3, 3, 3, 1, 3, 3, 1, 1, 3, 1, 1, 1, 3, 3, 3, 1, 1, 1, 1, 1, 3, 1, 1, 3, 1, 1, 1, 3, 3, 1, 1, 3, 3, 3, 3, 1, 3, 1, 1, 1, 1, 1, 3, 2, 1, 3, 1, 1, 1, 3, 1, 1, 1, 1, 1, 3, 1, 1, 1, 1, 3, 1, 1, 3, 3, 1, 1, 1, 3, 2, 1, 1, 3, 1, 2, 3, 3, 3, 3, 3, 3, 1, 1, 3, 3, 1, 3, 1, 3, 1, 3, 3, 3, 1, 3, 3, 3, 3, 1, 1, 3, 1, 1, 3, 2, 3, 3, 1, 1, 1, 1, 1, 3, 1, 1, 3, 1, 3, 1, 1, 3, 1, 1, 3, 3, 3, 3, 1, 1, 1, 3, 1, 1, 1, 3, 3, 3, 3, 1, 2, 3, 3, 3, 1, 3, 3, 1, 1, 1, 3, 2, 1, 3, 2, 1, 1, 1, 1, 1, 1, 3, 1, 1, 3, 1, 1, 1, 1, 1, 3, 3, 3, 1, 1, 1, 3, 1, 1, 1, 1, 1, 3, 3, 3, 1, 1, 1, 3, 3, 1, 1, 1, 1, 1, 1, 1, 1, 1, 3, 2, 1, 3, 3, 3, 3, 1, 1, 3, 1, 1, 3, 3, 3, 1, 3, 1, 1, 1, 3, 1, 3, 3, 1, 1, 3, 3, 1, 3, 1, 1, 1, 1, 3, 1, 1, 1, 3, 3, 3, 1, 1, 1, 1, 1, 3, 1, 1, 3, 1, 1, 1, 3, 3, 3, 1, 3, 1, 1, 3, 1, 3, 3, 1, 1, 3, 1, 1, 1, 1, 1, 1, 1, 1, 1, 1, 1, 1, 2, 3, 1, 1, 3, 3, 1, 1, 3, 1, 1, 1, 1, 3, 1, 2, 3, 1, 3, 1, 3, 3, 1, 1, 3, 3, 3, 3, 3, 3, 3, 3, 1, 3, 3, 1, 3, 1, 1, 3, 1, 3, 3, 3, 1, 3, 1, 1, 1, 1, 1, 1, 1, 1, 1, 3, 3, 3, 1, 1, 2, 1, 3, 1, 1, 1, 1, 3, 3, 3, 1, 1, 1, 3, 3, 3, 3, 3, 3, 3, 3, 1, 3, 3, 1, 1, 3, 3, 1, 1, 1, 1, 1, 3, 3, 3, 3, 1, 3, 3, 1, 1, 3, 3, 1, 1, 1, 3, 1, 1, 1, 1, 1, 3, 1, 3, 3, 1, 3, 3, 3, 3, 3, 1, 3, 3, 1, 3, 1, 1, 3, 1, 3, 1, 3, 1, 3, 1, 3, 1, 3, 3, 1, 1, 1, 1, 1, 1, 3, 1, 1, 3, 1, 1, 3, 3, 3, 1, 1, 1, 3, 1, 1, 1, 1, 1, 1, 1, 3, 3, 3, 1, 1, 3, 3, 1, 1, 3, 1, 3, 3, 1, 3, 3, 3, 1, 3, 3, 1, 1, 1, 1, 3, 1, 1, 3, 3, 1, 1, 3, 3, 2, 1, 1, 1, 2, 1, 3, 1, 1, 1, 3, 3, 3, 3, 3, 3, 1, 1, 1, 3, 1, 3, 1, 1, 3, 3, 1, 1, 3, 1, 1, 1, 1, 1, 1, 1, 1, 3, 1, 1, 1, 3, 3, 1, 3, 1, 3, 1, 3, 1, 1, 3, 1, 1, 3, 1, 1, 1, 1, 1, 1, 3, 3, 3, 1, 3, 1, 1, 1, 3, 3, 3, 3, 1, 3, 1, 1, 3, 1, 1, 3, 3, 3, 1, 1, 1, 3, 1, 1, 1, 2, 2, 3, 3, 3, 3, 3, 1, 1, 1, 1, 1, 3, 3, 3, 1, 1, 3, 1, 3, 1, 1, 3, 1, 3, 3, 3, 3, 1, 1, 1, 1, 1, 3, 1, 1, 1, 3, 3, 3, 3, 3, 3, 3, 1, 3, 1, 1, 3, 3, 1, 2, 1, 3, 1, 1, 3, 1, 1, 3, 3, 1, 1, 1, 3, 1, 1, 3, 3, 3, 3, 1, 1, 1, 3, 1, 1, 2, 1, 1, 1, 3, 3, 1, 1, 3, 1, 1, 1, 3, 3, 1, 3, 1, 3, 1, 2, 1, 3, 1, 1, 1, 3, 3, 3, 3, 1, 1, 3, 3, 1, 1, 3, 3, 1, 3, 3, 1, 3, 1, 1, 3, 1, 3, 1, 1, 2, 1, 1, 3, 1, 1, 1, 1, 1, 1, 1, 3, 3, 3, 3, 3, 3, 1, 3, 3, 3, 3, 3, 3, 3, 3, 3, 3, 3, 3, 3, 3, 3, 2, 2, 2, 2, 3, 1, 1, 3, 3, 1, 3, 3, 3, 1, 3, 3, 1, 3, 3, 3, 1, 3, 1, 1, 1, 2, 1, 3, 3, 2, 3, 1, 3, 1, 1, 1, 3, 1, 1, 1, 3, 1, 1, 1, 1, 1, 1, 3, 1, 3, 3, 3, 3, 3, 3, 3, 3, 1, 3, 1, 1, 3, 1, 1, 3, 1, 1, 1, 1, 3, 1, 1, 3, 3, 1, 1, 1, 1, 1, 3, 1, 3, 1, 3, 1, 1, 1, 1, 1, 3, 3, 1, 3, 3, 2, 3, 1, 1, 1, 3, 1, 3, 3, 3, 1, 1, 1, 3, 1, 1, 1, 1, 1, 1, 1, 1, 3, 3, 2, 3, 1, 3, 3, 1, 3, 3, 1, 1, 1, 3, 1, 3, 3, 3, 3, 1, 3, 3, 1, 1, 1, 3, 1, 3, 1, 3, 1, 3, 3, 3, 1, 1, 3, 1, 1, 3, 1, 1, 3, 1, 3, 3, 1, 3, 1, 1, 3, 1, 1, 3, 1, 3, 1, 3, 1, 1, 1, 1, 1, 3, 3, 1, 3, 1, 1, 3, 3, 3, 1, 1, 3, 3, 3, 3, 1, 1, 1, 1, 1, 3, 3, 3, 1, 3, 1, 3, 3, 3, 3, 3, 3, 1, 1, 1, 3, 1, 3, 2, 3, 1, 3, 2, 3, 3, 3, 1, 1, 1, 3, 3, 1, 1, 1, 1, 1, 1, 1, 3, 3, 3, 1, 3, 3, 1, 3, 3, 3, 3, 2, 2, 3, 3, 1, 3, 3, 3, 1, 3, 1, 1, 3, 3, 3, 1, 1, 1, 3, 3, 3, 1, 3, 1, 1, 3, 3, 2, 3, 3, 1, 1, 1, 3, 3, 3, 3, 3, 3, 3, 3, 1, 3, 3, 1, 3, 1, 1, 1, 1, 3, 1, 1, 1, 2, 1, 3, 1, 1, 1, 3, 1, 3, 3, 3, 3, 3, 3, 3, 1, 3, 3, 3, 1, 1, 1, 2, 1, 1, 1, 1, 2, 3, 3, 1, 3, 3, 3, 1, 3, 3, 1, 1, 1, 3, 1, 3, 3, 3, 1, 3, 3, 1, 1, 1, 2, 1, 3, 3, 1, 3, 3, 3, 1, 3, 3, 3, 1, 1, 3, 3, 3, 3, 3, 3, 3, 1, 3, 3, 1, 1, 3, 1, 3, 1, 1, 1, 1, 3, 1, 1, 3, 1, 1, 1, 3, 1, 3, 3, 3, 3, 3, 3, 1, 3, 1, 1, 1, 1, 3, 3, 3, 3, 3, 3, 3, 3, 3, 2, 3, 1, 1, 1, 3, 3, 1, 1, 3, 1, 1, 3, 3, 3, 3, 1, 3, 1, 1, 1, 3, 1, 1, 3, 3, 3, 1, 3, 3, 1, 3, 2, 3, 3, 1, 1, 1, 1, 1, 3, 1, 3, 3, 1, 1, 3, 1, 1, 3, 1, 3, 3, 1, 3, 1, 1, 1, 1, 1, 2, 1, 1, 3, 3, 3, 3, 1, 1, 3, 3, 3, 3, 3, 1, 1, 1, 1, 3, 1, 3, 3, 3, 1, 2, 3, 1, 1, 1, 1, 3, 3, 1, 2, 3, 3, 1, 1, 3, 1, 1, 1, 3, 1, 3, 3, 3, 3, 3, 1, 1, 1, 1, 1, 3, 3, 1, 2, 1, 2, 3, 1, 3, 1, 3, 3, 1, 3, 3, 3, 3, 1, 1, 3, 1, 3, 2, 3, 1, 3, 1, 3, 3, 1, 3, 3, 3, 3, 1, 3, 3, 1, 3, 3, 3, 3, 1, 1, 1, 3, 1, 1, 1, 3, 2, 1, 3, 1, 1, 1, 1, 3, 1, 1, 1, 3, 3, 1, 1, 3, 3, 3, 1, 1, 3, 1, 3, 3, 1, 1, 3, 2, 1, 1, 3, 1, 3, 3, 1, 3, 3, 3, 3, 3, 1, 3, 3, 3, 1, 1, 3, 3, 1, 1, 1, 1, 1, 1, 3, 1, 3, 1, 1, 1, 1, 1, 1, 1, 3, 1, 3, 3, 1, 1, 3, 1, 3, 3, 1, 3, 3, 1, 3, 3, 1, 3, 3, 1, 1, 1, 1, 1, 2, 3, 2, 3, 3, 3, 1, 3, 1, 1, 1, 1, 3, 3, 3, 3, 1, 3, 3, 3, 3, 3, 1, 1, 3, 3, 1, 1, 3, 1, 1, 3, 1, 3, 1, 3, 2, 1, 1, 1, 1, 1, 1, 1, 3, 3, 3, 1, 1, 1, 3, 3, 1, 1, 2, 1, 1, 3, 1, 3, 1, 3, 3, 1, 3, 1, 1, 1, 1, 1, 3, 3, 3, 3, 3, 1, 1, 1, 3, 3, 1, 1, 3, 3, 1, 1, 1, 3, 1, 1, 1, 1, 1, 1, 3, 3, 3, 3, 1, 3, 1, 1, 1, 3, 1, 1, 1, 1, 1, 1, 1, 3, 3, 3, 3, 1, 1, 3, 3, 1, 1, 1, 3, 3, 3, 3, 3, 3, 1, 3, 3, 3, 1, 1, 3, 3, 1, 1, 3, 3, 1, 3, 3, 3, 1, 1, 3, 1, 3, 3, 1, 3, 1, 1, 1, 1, 3, 1, 1, 1, 1, 1, 1, 3, 1, 3, 1, 1, 1, 3, 3, 3, 3, 2, 3, 3, 3, 1, 3, 3, 3, 3, 3, 3, 3, 1, 1, 3, 3, 1, 3, 1, 3, 3, 3, 3, 1, 3, 3, 3, 3, 3, 3, 3, 3, 1, 1, 3, 3, 1, 1, 1, 3, 3, 3, 3, 2, 1, 1, 1, 3, 1, 3, 1, 1, 3, 3, 3, 1, 1, 3, 3, 1, 2, 3, 1, 3, 1, 3, 1, 3, 3, 3, 3, 1, 1, 1, 1, 3, 3, 3, 1, 1, 3, 1, 3, 3, 1, 1, 3, 1, 1, 1, 1, 1, 3, 1, 1, 1, 1, 3, 1, 1, 3, 3, 1, 3, 3, 3, 1, 1, 1, 3, 3, 1, 3, 1, 3, 2, 2, 3, 1, 1, 3, 3, 3, 3, 3, 3, 3, 3, 3, 3, 3, 3, 3, 3, 1, 3, 3, 3, 3, 3, 3, 3, 1, 3, 1, 3, 3, 1, 1, 1, 1, 3, 1, 1, 1, 3, 3, 1, 1, 1, 3, 3, 1, 3, 3, 1, 3, 3, 3, 3, 3, 1, 1, 1, 1, 1, 2, 3, 3, 1, 1, 3, 1, 3, 1, 3, 1, 1, 1, 1, 3, 3, 3, 1, 1, 1, 1, 3, 1, 3, 3, 3, 3, 1, 1, 3, 1, 3, 1, 1, 1, 1, 1, 1, 1, 3, 3, 3, 2, 3, 3, 1, 3, 1, 1, 3, 3, 2, 3, 1, 3, 1, 3, 3, 1, 3, 3, 3, 1, 1, 1, 1, 1, 3, 3, 3, 3, 1, 3, 1, 3, 2, 3, 3, 3, 1, 3, 3, 3, 3, 1, 1, 1, 3, 1, 3, 1, 3, 1, 1, 3, 1, 3, 1, 1, 1, 1, 1, 1, 3, 3, 2, 1, 3, 1, 1, 1, 3, 1, 1, 3, 1, 3, 1, 1, 1, 1, 1, 3, 1, 3, 3, 3, 1, 1, 3, 3, 3, 1, 3, 1, 3, 3, 1, 1, 1, 1, 1, 3, 3, 1, 3, 1, 3, 1, 1, 1, 3, 1, 1, 3, 3, 3, 1, 1, 1, 3, 3, 1, 1, 1, 1, 3, 1, 1, 1, 1, 1, 1, 1, 3, 1, 2, 2, 3, 3, 3, 3, 3, 3, 1, 1, 3, 3, 3, 1, 1, 1, 3, 1, 1, 3, 2, 3, 1, 1, 3, 1, 1, 1, 1, 3, 3, 1, 3, 3, 1, 3, 1, 3, 1, 1, 3, 3, 1, 3, 1, 1, 3, 3, 3, 1, 3, 2, 3, 3, 1, 1, 3, 3, 1, 3, 3, 2, 1, 1, 1, 3, 3, 1, 3, 1, 1, 1, 1, 1, 3, 1, 3, 3, 3, 1, 3, 1, 3, 1, 1, 2, 1, 1, 3, 3, 1, 3, 3, 1, 3, 1, 1, 1, 3, 1, 3, 1, 3, 1, 1, 1, 1, 3, 1, 1, 1, 3, 3, 3, 3, 3, 3, 3, 1, 3, 1, 1, 2, 3, 3, 3, 1, 3, 1, 1, 1, 1, 2, 3, 1, 1, 3, 3, 1, 1, 1, 3, 3, 1, 1, 1, 3, 3, 3, 1, 3, 3, 1, 1, 1, 3, 3, 1, 3, 1, 1, 1, 3, 1, 1, 3, 3, 1, 3, 3, 2, 3, 3, 3, 1, 1, 3, 3, 3, 1, 1, 1, 1, 1, 3, 3, 3, 1, 2, 3, 1, 1, 2, 3, 1, 3, 1, 1, 3, 1, 3, 1, 3, 3, 3, 3, 1, 1, 1, 3, 3, 3, 1, 1, 1, 3, 3, 3, 1, 3, 1, 3, 3, 3, 3, 1, 1, 3, 3, 1, 3, 1, 3, 1, 3, 1, 1, 3, 1, 3, 1, 3, 1, 3, 1, 3, 1, 3, 1, 1, 1, 3, 3, 1, 1, 3, 1, 1, 1, 3, 3, 3, 1, 1, 1, 1, 1, 1, 1, 3, 3, 3, 3, 3, 3, 3, 3, 1, 1, 3, 1, 1, 1, 3, 3, 3, 1, 1, 1, 3, 3, 1, 3, 3, 1, 2, 1, 3, 1, 3, 3, 1, 3, 3, 1, 1, 3, 2, 2, 1, 3, 2, 3, 1, 3, 1, 1, 2, 1, 1, 1, 3, 3, 3, 3, 3, 3, 1, 1, 1, 2, 1, 1, 3, 1, 1, 1, 1, 1, 1, 1, 1, 3, 3, 3, 3, 3, 1, 3, 1, 3, 1, 3, 3, 3, 3, 1, 1, 1, 3, 3, 1, 3, 1, 3, 1, 1, 1, 1, 1, 1, 3, 3, 3, 1, 3, 1, 3, 3, 1, 3, 3, 3, 3, 3, 3, 3, 3, 1, 1, 2, 3, 2, 1, 1, 3, 3, 3, 1, 3, 3, 3, 3, 3, 1, 3, 1, 1, 3, 1, 1, 3, 3, 3, 3, 1, 3, 1, 3, 1, 1, 1, 2, 3, 3, 3, 1, 3, 1, 1, 1, 3, 3, 3, 3, 3, 1, 1, 1, 1, 3, 3, 3, 1, 3, 3, 3, 3, 1, 1, 3, 3, 1, 1, 1, 1, 3, 3, 3, 3, 3, 1, 1, 1, 3, 3, 1, 3, 1, 1, 1, 3, 1, 1, 3, 3, 3, 1, 1, 1, 1, 1, 1, 1, 3, 1, 1, 3, 1, 3, 1, 1, 3, 1, 1, 3, 1, 3, 3, 2, 3, 3, 1, 3, 1, 1, 1, 3, 3, 1, 3, 3, 3, 2, 1, 1, 1, 1, 3, 3, 2, 3, 3, 3, 1, 1, 1, 1, 3, 3, 3, 1, 3, 3, 1, 1, 1, 1, 2, 2, 1, 2, 3, 3, 3, 1, 3, 3, 3, 3, 3, 3, 1, 3, 3, 1, 3, 3, 3, 3, 1, 3, 1, 3, 3, 3, 1, 1, 3, 1, 3, 3, 3, 2, 2, 1, 3, 1, 3, 3, 3, 3, 1, 3, 1, 1, 1, 3, 3, 1, 3, 3, 1, 3, 1, 1, 1, 1, 1, 1, 2, 1, 1, 1, 3, 1, 3, 3, 3, 3, 1, 2, 1, 1, 1, 1, 1, 3, 1, 3, 3, 3, 2, 1, 1, 1, 3, 3, 1, 1, 3, 1, 3, 3, 3, 1, 1, 1, 1, 3, 3, 1, 1, 3, 3, 1, 1, 3, 3, 3, 1, 1, 3, 3, 3, 2, 2, 3, 3, 3, 1, 1, 3, 3, 1, 1, 1, 3, 3, 3, 1, 1, 3, 3, 1, 1, 3, 1, 3, 3, 3, 3, 1, 1, 3, 1, 3, 3, 3, 3, 1, 1, 3, 1, 1, 1, 1, 3, 1, 1, 3, 3, 3, 3, 1, 1, 1, 3, 3, 1, 1, 3, 1, 3, 3, 3, 3, 3, 1, 1, 3, 3, 3, 1, 3, 3, 1, 3, 1, 1, 3, 3, 1, 3, 1, 3, 3, 1, 3, 3, 3, 1, 3, 1, 1, 1, 3, 1, 3, 3, 1, 3, 1, 3, 3, 3, 3, 1, 3, 1, 3, 3, 1, 1, 1, 3, 3, 1, 1, 1, 1, 3, 3, 1, 1, 1, 1, 1, 3, 3, 3, 3, 3, 1, 3, 2, 3, 3, 1, 3, 1, 3, 1, 3, 1, 3, 1, 3, 3, 1, 3, 3, 1, 3, 3, 3, 1, 1, 1, 3, 3, 3, 1, 1, 3, 3, 1, 1, 3, 3, 1, 3, 1, 3, 3, 1, 1, 1, 3, 3, 1, 3, 1, 3, 3, 1, 1, 1, 3, 3, 1, 1, 1, 3, 1, 3, 1, 3, 3, 1, 1, 3, 3, 3, 1, 3, 3, 1, 3, 1, 3, 3, 1, 2, 1, 1, 1, 1, 3, 3, 3, 1, 1, 3, 1, 3, 1, 3, 1, 1, 1, 1, 1, 1, 3, 1, 3, 1, 1, 1, 2, 1, 1, 1, 3, 3, 3, 3, 1, 1, 1, 1, 1, 1, 3, 3, 3, 1, 1, 1, 3, 3, 3, 1, 1, 3, 1, 1, 1, 1, 3, 3, 1, 3, 3, 3, 3, 3, 3, 1, 3, 1, 3, 3, 3, 1, 3, 1, 3, 3, 1, 2, 3, 3, 1, 1, 3, 1, 1, 2, 3, 3, 1, 3, 3, 1, 3, 1, 1, 1, 2, 3, 1, 3, 1, 1, 1, 3, 1, 1, 1, 1, 1, 1, 3, 1, 1, 3, 3, 3, 1, 3, 3, 3, 1, 3, 1, 3, 1, 1, 1, 1, 1, 3, 2, 3, 1, 1, 3, 1, 1, 3, 3, 3, 3, 1, 1, 1, 1, 1, 1, 1, 3, 1, 3, 1, 3, 1, 3, 3, 3, 1, 2, 1, 3, 1, 3, 1, 1, 1, 3, 2, 2, 1, 3, 1, 3, 3, 3, 3, 3, 3, 1, 3, 1, 1, 3, 3, 1, 1, 1, 3, 1, 1, 3, 3, 1, 1, 1, 3, 1, 1, 3, 1, 3, 3, 3, 3, 1, 3, 1, 1, 3, 3, 3, 1, 1, 1, 1, 1, 3, 1, 1, 1, 1, 3, 1, 3, 1, 1, 1, 3, 3, 3, 3, 1, 1, 3, 3, 3, 3, 1, 3, 3, 1, 1, 1, 3, 3, 1, 2, 3, 3, 3, 1, 1, 1, 1, 1, 1, 3, 1, 1, 3, 3, 3, 3, 3, 1, 1, 3, 3, 1, 3, 3, 3, 1, 3, 1, 1, 3, 3, 1, 1, 3, 3, 3, 1, 3, 3, 1, 1, 3, 3, 2, 3, 3, 1, 3, 1, 3, 1, 3, 1, 3, 3, 3, 1, 1, 1, 1, 3, 3, 1, 3, 1, 1, 1, 1, 3, 1, 3, 1, 3, 1, 1, 1, 3, 3, 3, 1, 3, 3, 3, 3, 1, 1, 1, 3, 1, 1, 1, 1, 3, 3, 1, 3, 3, 3, 1, 3, 1, 1, 3, 3, 1, 1, 1, 1, 3, 3, 1, 3, 1, 1, 1, 3, 3, 3, 1, 3, 1, 1, 1, 1, 3, 1, 1, 3, 3, 3, 3, 1, 3, 3, 1, 3, 1, 1, 1, 1, 1, 3, 3, 3, 1, 1, 3, 1, 1, 1, 1, 3, 1, 1, 1, 3, 3, 1, 3, 1, 3, 1, 1, 1, 1, 1, 3, 1, 3, 1, 3, 1, 3, 3, 2, 3, 1, 3, 3, 1, 1, 3, 3, 1, 3, 1, 1, 3, 1, 1, 3, 1, 3, 3, 3, 3, 1, 1, 1, 3, 3, 3, 1, 1, 1, 3, 1, 2, 3, 1, 1, 1, 3, 1, 3, 3, 3, 3, 1, 3, 3, 1, 3, 3, 3, 3, 3, 3, 3, 3, 3, 3, 1, 1, 1, 3, 3, 1, 3, 3, 1, 3, 1, 1, 3, 1, 1, 3, 1, 2, 3, 3, 1, 1, 1, 3, 1, 3, 2, 3, 3, 3, 3, 1, 1, 3, 1, 1, 3, 3, 3, 3, 1, 1, 3, 1, 3, 3, 3, 1, 1, 3, 3, 1, 3, 1, 1, 3, 3, 1, 1, 3, 3, 1, 1, 1, 3, 1, 1, 3, 3, 1, 3, 3, 1, 1, 1, 1, 1, 3, 1, 3, 1, 1, 1, 3, 3, 1, 3, 1, 1, 3, 3, 1, 3, 1, 1, 3, 3, 3, 1, 1, 1, 3, 1, 1, 3, 3, 2, 1, 3, 3, 3, 1, 1, 1, 1, 3, 3, 3, 1, 3, 1, 1, 3, 1, 3, 3, 3, 3, 1, 1, 1, 1, 1, 3, 1, 1, 3, 1, 1, 1, 1, 3, 3, 1, 3, 2, 3, 1, 1, 1, 3, 3, 1, 3, 1, 1, 3, 1, 3, 3, 3, 1, 3, 1, 3, 1, 1, 1, 3, 3, 3, 3, 3, 3, 3, 1, 1, 1, 1, 1, 3, 1, 3, 1, 1, 3, 3, 1, 1, 1, 3, 3, 1, 1, 3, 2, 1, 3, 3, 3, 1, 3, 1, 1, 1, 1, 3, 1, 3, 1, 1, 1, 1, 1, 3, 3, 1, 1, 3, 3, 3, 1, 1, 1, 3, 3, 3, 3, 1, 1, 3, 1, 1, 1, 1, 3, 3, 1, 1, 1, 1, 1, 1, 1, 1, 3, 1, 1, 1, 1, 3, 1, 3, 1, 3, 3, 3, 2, 3, 1, 1, 1, 1, 1, 1, 1, 1, 1, 3, 3, 1, 3, 1, 3, 1, 1, 1, 3, 1, 3, 3, 1, 1, 1, 3, 1, 1, 2, 3, 1, 3, 3, 1, 1, 3, 3, 3, 1, 1, 3, 1, 3, 1, 1, 3, 3, 2, 1, 3, 3, 1, 1, 1, 3, 3, 1, 3, 3, 2, 1, 3, 1, 3, 1, 1, 3, 1, 3, 3, 1, 1, 1, 3, 2, 3, 1, 1, 1, 3, 3, 3, 1, 1, 1, 1, 3, 1, 1, 3, 3, 3, 1, 1, 1, 2, 3, 1, 1, 1, 3, 1, 1, 1, 1, 3, 3, 1, 1, 3, 1, 1, 1, 3, 1, 3, 3, 1, 3, 3, 3, 3, 3, 1, 1, 1, 1, 1, 3, 3, 3, 3, 2, 1, 1, 1, 3, 1, 1, 3, 3, 3, 3, 3, 1, 1, 1, 1, 1, 3, 1, 3, 2, 3, 3, 1, 1, 3, 3, 1, 1, 1, 3, 3, 3, 3, 3, 1, 3, 3, 3, 3, 3, 1, 3, 3, 1, 2, 3, 2, 3, 3, 1, 3, 1, 1, 1, 3, 1, 1, 3, 1, 1, 1, 3, 3, 1, 1, 1, 2, 3, 1, 1, 1, 2, 3, 1, 1, 1, 1, 3, 3, 3, 3, 3, 3, 1, 3, 3, 1, 1, 3, 3, 1, 1, 3, 1, 2, 3, 3, 1, 1, 1, 3, 1, 1, 1, 1, 1, 1, 1, 3, 1, 1, 1, 3, 3, 1, 3, 3, 1, 3, 3, 3, 3, 1, 3, 1, 3, 1, 1, 1, 1, 1, 1, 3, 3, 3, 1, 3, 3, 3, 1, 3, 3, 1, 1, 3, 3, 3, 1, 1, 1, 1, 1, 3, 1, 3, 1, 3, 3, 3, 3, 1, 1, 2, 3, 1, 1, 3, 3, 3, 1, 1, 3, 3, 3, 3, 1, 1, 1, 1, 2, 1, 1, 1, 1, 2, 1, 2, 3, 3, 3, 3, 3, 3, 1, 1, 3, 1, 1, 1, 3, 3, 1, 1, 1, 1, 3, 1, 3, 1, 1, 3, 1, 3, 1, 1, 1, 3, 1, 3, 1, 1, 2, 3, 1, 1, 3, 1, 1, 1, 3, 3, 3, 1, 3, 1, 1, 3, 1, 1, 3, 1, 3, 1, 1, 1, 3, 3, 1, 3, 3, 1, 1, 1, 1, 3, 3, 1, 3, 3, 1, 1, 1, 1, 1, 3, 1, 1, 3, 1, 1, 3, 3, 3, 2, 1, 1, 3, 1, 1, 3, 1, 1, 3, 3, 1, 1, 3, 2, 3, 1, 1, 3, 1, 1, 3, 1, 1, 1, 3, 1, 1, 1, 1, 3, 3, 3, 1, 1, 3, 1, 1, 1, 1, 1, 3, 3, 3, 1, 1, 1, 1, 1, 1, 1, 1, 3, 3, 1, 3, 1, 3, 3, 1, 1, 1, 1, 3, 3, 3, 1, 1, 2, 3, 3, 1, 1, 1, 3, 3, 3, 3, 3, 3, 1, 1, 1, 1, 3, 1, 1, 3, 1, 3, 1, 1, 1, 3, 1, 1, 1, 1, 1, 1, 3, 1, 1, 3, 3, 3, 1, 1, 3, 3, 1, 3, 3, 3, 3, 3, 3, 3, 1, 1, 3, 1, 3, 1, 3, 3, 3, 3, 1, 1, 1, 1, 3, 2, 1, 3, 3, 3, 1, 1, 3, 1, 1, 2, 1, 3, 3, 3, 3, 3, 3, 2, 3, 3, 1, 1, 3, 2, 1, 1, 1, 1, 3, 3, 3, 1, 3, 1, 1, 1, 1, 3, 1, 3, 1, 1, 1, 3, 1, 1, 3, 1, 1, 1, 3, 3, 1, 1, 1, 3, 1, 3, 1, 1, 3, 3, 1, 3, 1, 3, 1, 3, 3, 3, 3, 1, 1, 1, 3, 3, 1, 3, 3, 1, 1, 1, 3, 3, 1, 3, 1, 1, 1, 1, 1, 3, 1, 1, 3, 3, 3, 3, 3, 1, 3, 1, 3, 1, 3, 1, 3, 1, 1, 1, 1, 3, 1, 1, 3, 3, 3, 1, 3, 3, 3, 1, 1, 1, 1, 1, 1, 3, 1, 1, 1, 1, 1, 1, 3, 1, 3, 3, 3, 3, 1, 3, 1, 3, 3, 3, 1, 3, 1, 1, 1, 3, 3, 3, 1, 3, 3, 3, 3, 3, 1, 1, 1, 1, 1, 3, 3, 1, 1, 3, 3, 1, 1, 3, 3, 3, 1, 1, 1, 1, 1, 3, 1, 1, 1, 1, 1, 3, 3, 3, 1, 3, 3, 3, 3, 3, 3, 3, 1, 3, 1, 2, 3, 1, 3, 3, 1, 1, 1, 1, 3, 1, 1, 1, 1, 1, 3, 1, 1, 1, 1, 1, 1, 1, 3, 3, 3, 3, 3, 1, 3, 1, 1, 1, 1, 3, 1, 1, 1, 1, 3, 1, 1, 1, 1, 1, 1, 1, 1, 3, 1, 1, 3, 1, 1, 1, 1, 3, 1, 2, 1, 1, 1, 3, 3, 3, 3, 1, 3, 1, 1, 3, 3, 3, 3, 1, 2, 1, 3, 1, 1, 3, 3, 3, 3, 1, 3, 2, 1, 1, 1, 1, 3, 3, 3, 1, 1, 3, 3, 1, 1, 1, 1, 3, 3, 3, 1, 1, 3, 3, 3, 3, 1, 3, 3, 1, 3, 3, 1, 3, 1, 1, 1, 1, 1, 3, 3, 1, 3, 3, 3, 1, 1, 3, 1, 1, 1, 1, 1, 1, 3, 1, 3, 2, 3, 1, 1, 3, 1, 3, 3, 3, 3, 1, 3, 3, 3, 1, 1, 1, 3, 3, 3, 1, 1, 2, 1, 1, 1, 3, 1, 3, 1, 3, 1, 2, 1, 1, 1, 1, 1, 1, 3, 3, 3, 1, 3, 1, 3, 3, 1, 2, 3, 1, 1, 3, 3, 3, 1, 1, 1, 1, 1, 1, 3, 1, 1, 1, 1, 1, 1, 1, 1, 2, 1, 1, 1, 3, 3, 1, 1, 1, 1, 1, 3, 1, 1, 2, 2, 2, 1, 1, 1, 1, 1, 1, 2, 3, 3, 3, 3, 1, 1, 3, 1, 1, 1, 1, 1, 1, 1, 3, 3, 3, 3, 3, 1, 1, 1, 3, 1, 3, 3, 3, 3, 3, 1, 1, 1, 2, 1, 1, 1, 3, 3, 3, 1, 3, 3, 3, 3, 1, 1, 1, 1, 1, 1, 3, 3, 3, 1, 1, 1, 1, 1, 3, 3, 1, 3, 3, 1, 1, 1, 1, 3, 3, 3, 1, 1, 1, 3, 1, 3, 3, 3, 3, 3, 3, 1, 1, 1, 1, 1, 3, 3, 1, 1, 1, 1, 1, 3, 3, 3, 3, 1, 3, 3, 1, 1, 1, 1, 3, 1, 1, 3, 3, 1, 1, 3, 1, 1, 3, 3, 3, 3, 3, 3, 1, 1, 1, 3, 1, 1, 3, 3, 3, 3, 1, 1, 1, 1, 3, 1, 3, 1, 1, 2, 1, 1, 1, 1, 1, 1, 3, 1, 3, 1, 3, 3, 2, 3, 3, 3, 2, 3, 3, 3, 3, 3, 3, 1, 3, 3, 1, 1, 1, 3, 3, 1, 1, 3, 3, 3, 3, 3, 3, 3, 3, 3, 3, 3, 3, 3, 3, 1, 3, 3, 3, 1, 3, 3, 1, 3, 1, 3, 1, 1, 3, 1, 1, 1, 3, 1, 1, 3, 1, 3, 3, 3, 1, 1, 3, 1, 1, 1, 1, 1, 3, 3, 1, 3, 3, 1, 3, 1, 1, 3, 3, 1, 1, 3, 2, 3, 3, 1, 3, 3, 1, 1, 3, 3, 1, 1, 3, 3, 1, 3, 3, 1, 3, 3, 3, 3, 3, 3, 3, 3, 3, 1, 3, 3, 1, 1, 1, 1, 1, 3, 1, 1, 3, 3, 3, 1, 3, 3, 3, 3, 1, 3, 1, 3, 1, 3, 3, 1, 3, 3, 3, 1, 1, 3, 3, 3, 3, 1, 3, 1, 1, 1, 3, 1, 3, 3, 3, 3, 1, 3, 3, 3, 1, 1, 3, 1, 2, 1, 2, 1, 3, 1, 1, 3, 3, 3, 3, 3, 3, 1, 3, 1, 1, 1, 1, 1, 3, 3, 3, 1, 3, 3, 1, 1, 1, 1, 1, 1, 3, 1, 1, 3, 1, 3, 1, 3, 3, 1, 1, 1, 3, 3, 3, 1, 3, 2, 3, 3, 3, 3, 3, 3, 3, 3, 1, 1, 3, 3, 1, 3, 1, 1, 1, 3, 1, 3, 1, 1, 1, 2, 2, 3, 1, 1, 1, 1, 1, 1, 3, 1, 1, 2, 3, 3, 3, 1, 1, 3, 3, 1, 3, 3, 3, 3, 3, 3, 3, 1, 3, 3, 3, 1, 1, 1, 1, 3, 3, 3, 3, 1, 1, 1, 1, 1, 1, 1, 1, 1, 1, 3, 3, 3, 3, 3, 3, 1, 3, 1, 1, 3, 3, 1, 3, 3, 1, 1, 1, 1, 3, 3, 1, 1, 3, 1, 1, 1, 1, 3, 3, 1, 1, 1, 1, 3, 3, 1, 3, 1, 1, 1, 1, 1, 1, 2, 2, 2, 2, 2, 1, 3, 1, 3, 3, 1, 2, 3, 3, 3, 1, 3, 3, 3, 1, 3, 3, 3, 3, 3, 3, 3, 3, 3, 1, 1, 1, 1, 1, 3, 1, 1, 2, 1, 1, 3, 3, 3, 1, 1, 3, 1, 3, 3, 3, 3, 3, 3, 3, 1, 1, 3, 3, 3, 3, 3, 3, 3, 3, 1, 3, 1, 1, 1, 1, 1, 1, 1, 3, 1, 1, 1, 2, 3, 1, 1, 1, 1, 3, 3, 3, 3, 1, 1, 1, 1, 1, 1, 1, 1, 3, 1, 1, 3, 3, 3, 3, 3, 3, 1, 1, 1, 1, 1, 3, 3, 2, 1, 1, 1, 1, 1, 1, 1, 3, 1, 3, 1, 3, 1, 3, 1, 2, 1, 3, 3, 3, 1, 1, 1, 1, 1, 1, 1, 1, 3, 1, 3, 1, 1, 3, 1, 3, 1, 1, 1, 1, 3, 2, 3, 1, 1, 3, 1, 3, 3, 3, 1, 1, 3, 1, 1, 1, 3, 1, 1, 1, 1, 3, 1, 3, 1, 3, 2, 3, 3, 3, 3, 3, 3, 1, 1, 3, 3, 3, 3, 1, 1, 1, 3, 3, 1, 3, 1, 3, 2, 3, 3, 3, 3, 3, 3, 3, 3, 1, 3, 3, 3, 3, 3, 3, 1, 1, 3, 1, 3, 3, 3, 1, 1, 1, 1, 3, 1, 3, 1, 3, 1, 1, 3, 1, 1, 1, 3, 3, 1, 3, 3, 1, 3, 1, 1, 3, 3, 3, 3, 3, 1, 1, 1, 2, 3, 1, 1, 1, 1, 1, 1, 1, 3, 1, 3, 3, 1, 3, 1, 3, 3, 3, 1, 1, 1, 3, 1, 3, 1, 3, 1, 1, 3, 3, 3, 3, 3, 3, 3, 3, 3, 3, 3, 3, 3, 3, 3, 3, 1, 3, 1, 3, 1, 1, 1, 1, 3, 3, 1, 2, 2, 1, 3, 1, 3, 3, 3, 3, 3, 3, 1, 3, 1, 3, 3, 1, 3, 1, 3, 3, 2, 2, 1, 3, 1, 3, 1, 3, 1, 1, 1, 3, 3, 1, 3, 3, 3, 1, 1, 1, 1, 1, 3, 1, 1, 3, 3, 1, 1, 3, 1, 1, 1, 1, 1, 3, 3, 3, 1, 3, 3, 1, 1, 1, 3, 3, 1, 1, 3, 3, 1, 1, 1, 1, 1, 1, 3, 3, 1, 3, 3, 1, 3, 1, 3, 1, 1, 1, 2, 3, 3, 1, 1, 3, 3, 3, 3, 3, 1, 1, 2, 3, 3, 1, 3, 1, 1, 3, 3, 1, 1, 3, 3, 3, 3, 3, 3, 3, 1, 1, 3, 3, 3, 1, 1, 1, 2, 3, 1, 3, 2, 1, 1, 3, 1, 3, 3, 3, 3, 1, 3, 3, 3, 3, 1, 1, 1, 1, 3, 1, 1, 3, 1, 1, 1, 3, 1, 1, 1, 1, 3, 1, 1, 3, 3, 3, 3, 1, 3, 3, 1, 1, 1, 3, 3, 3, 1, 1, 1, 3, 1, 3, 1, 3, 3, 3, 3, 3, 3, 3, 3, 3, 1, 3, 3, 1, 1, 1, 3, 1, 3, 3, 3, 3, 3, 3, 1, 1, 1, 1, 1, 3, 3, 1, 1, 3, 1, 1, 3, 3, 2, 1, 1, 1, 3, 1, 1, 3, 1, 1, 1, 1, 2, 3, 1, 2, 2, 1, 1, 1, 3, 3, 3, 1, 1, 1, 1, 1, 1, 2, 1, 1, 3, 3, 2, 3, 3, 3, 3, 1, 1, 3, 3, 2, 1, 3, 3, 1, 1, 2, 3, 3, 1, 3, 3, 3, 3, 3, 3, 2, 1, 3, 1, 1, 1, 1, 1, 2, 3, 2, 1, 3, 3, 1, 3, 3, 3, 1, 1, 1, 3, 3, 3, 1, 1, 2, 3, 1, 3, 3, 1, 3, 1, 1, 1, 3, 3, 3, 3, 3, 1, 1, 1, 1, 1, 3, 3, 2, 1, 1, 1, 1, 3, 1, 1, 1, 3, 1, 1, 3, 3, 3, 1, 3, 3, 3, 3, 1, 3, 3, 3, 1, 3, 1, 1, 1, 3, 1, 3, 3, 1, 1, 1, 3, 3, 3, 1, 1, 1, 1, 1, 3, 1, 1, 1, 3, 1, 3, 1, 1, 3, 3, 1, 2, 1, 1, 1, 3, 1, 1, 3, 1, 3, 1, 1, 3, 1, 1, 3, 3, 3, 3, 1, 1, 3, 3, 3, 1, 1, 1, 3, 1, 3, 1, 1, 1, 3, 1, 2, 3, 3, 3, 3, 3, 3, 3, 3, 1, 3, 3, 1, 3, 1, 3, 1, 1, 1, 1, 1, 3, 1, 3, 1, 1, 3, 3, 3, 1, 3, 3, 1, 1, 3, 3, 1, 2, 2, 1, 1, 3, 1, 1, 1, 3, 2, 3, 1, 3, 1, 1, 3, 3, 1, 3, 3, 3, 3, 3, 3, 3, 1, 1, 1, 3, 3, 3, 3, 3, 3, 3, 1, 1, 3, 3, 1, 3, 1, 1, 1, 3, 1, 3, 1, 1, 1, 3, 3, 3, 1, 1, 1, 1, 3, 3, 3, 3, 3, 1, 3, 3, 1, 1, 1, 1, 1, 3, 3, 2, 1, 1, 1, 1, 1, 1, 1, 3, 3, 1, 1, 1, 3, 3, 3, 3, 3, 2, 3, 3, 1, 1, 3, 3, 2, 3, 3, 3, 3, 1, 3, 3, 1, 3, 1, 3, 3, 3, 1, 1, 3, 1, 1, 3, 3, 3, 3, 3, 1, 1, 2, 3, 3, 3, 1, 1, 3, 1, 3, 3, 3, 1, 1, 3, 3, 1, 3, 3, 1, 3, 1, 1, 3, 3, 3, 1, 3, 3, 3, 3, 1, 1, 1, 1, 3, 3, 3, 1, 1, 2, 3, 1, 1, 2, 1, 2, 3, 3, 3, 3, 3, 3, 3, 1, 1, 3, 3, 3, 1, 3, 1, 1, 1, 3, 1, 1, 3, 1, 1, 3, 1, 1, 1, 3, 1, 3, 1, 1, 1, 3, 3, 1, 3, 3, 3, 1, 3, 3, 3, 3, 3, 3, 3, 1, 1, 1, 3, 3, 1, 1, 1, 1, 3, 1, 3, 1, 3, 3, 3, 1, 1, 1, 3, 3, 1, 1, 1, 1, 2, 1, 1, 1, 3, 1, 1, 1, 1, 1, 1, 3, 3, 1, 3, 3, 3, 1, 1, 3, 3, 3, 3, 3, 3, 3, 3, 1, 3, 3, 2, 2, 2, 1, 1, 1, 3, 1, 1, 3, 3, 3, 1, 1, 3, 2, 1, 1, 1, 1, 3, 1, 2, 1, 2, 3, 3, 3, 1, 1, 3, 3, 1, 3, 1, 1, 3, 3, 1, 3, 1, 3, 1, 1, 3, 1, 3, 3, 3, 1, 3, 1, 1, 3, 3, 1, 1, 1, 3, 1, 3, 3, 3, 3, 1, 1, 3, 3, 3, 3, 3, 2, 3, 1, 3, 1, 1, 1, 1, 1, 1, 1, 1, 3, 1, 3, 2, 1, 3, 3, 1, 3, 1, 3, 2, 3, 1, 3, 1, 1, 1, 3, 1, 3, 3, 1, 1, 1, 1, 1, 1, 3, 1, 1, 1, 1, 1, 3, 3, 1, 1, 3, 1, 3, 3, 3, 1, 1, 1, 1, 1, 3, 1, 1, 3, 3, 3, 3, 3, 2, 3, 1, 2, 3, 3, 3, 3, 3, 1, 3, 3, 1, 1, 1, 1, 3, 3, 3, 1, 2, 3, 1, 1, 3, 3, 2, 1, 1, 3, 1, 3, 3, 1, 1, 1, 1, 1, 3, 1, 1, 1, 3, 1, 3, 3, 2, 1, 3, 1, 1, 1, 1, 1, 3, 1, 3, 3, 1, 3, 3, 3, 3, 1, 2, 1, 3, 1, 3, 3, 1, 3, 3, 1, 3, 1, 3, 3, 1, 1, 1, 1, 3, 3, 3, 3, 3, 1, 3, 1, 1, 1, 1, 1, 1, 1, 1, 1, 3, 1, 3, 3, 3, 3, 1, 1, 3, 1, 3, 1, 3, 3, 1, 1, 3, 1, 1, 1, 3, 3, 3, 1, 3, 3, 3, 1, 1, 3, 3, 3, 3, 3, 3, 1, 3, 3, 1, 3, 1, 1, 3, 1, 1, 1, 2, 2, 3, 1, 1, 3, 1, 3, 3, 1, 1, 3, 1, 1, 3, 1, 3, 1, 1, 1, 3, 1, 3, 1, 1, 3, 1, 1, 1, 3, 1, 3, 1, 1, 3, 3, 3, 3, 3, 3, 1, 1, 1, 1, 3, 3, 3, 1, 1, 1, 3, 1, 3, 2, 1, 3, 3, 3, 1, 3, 1, 3, 1, 1, 3, 3, 2, 1, 1, 1, 1, 1, 1, 1, 1, 3, 1, 1, 1, 3, 3, 1, 3, 3, 3, 3, 1, 3, 3, 1, 3, 1, 3, 1, 3, 3, 1, 1, 1, 3, 1, 3, 3, 1, 1, 1, 1, 3, 3, 1, 1, 1, 3, 3, 3, 3, 1, 3, 3, 1, 1, 1, 3, 3, 3, 3, 1, 1, 1, 1, 3, 1, 1, 1, 1, 1, 1, 3, 3, 1, 1, 3, 1, 3, 1, 1, 3, 1, 1, 1, 3, 3, 3, 1, 1, 3, 1, 3, 3, 1, 3, 3, 3, 1, 3, 3, 1, 1, 3, 3, 3, 3, 3, 1, 3, 3, 3, 3, 2, 3, 1, 3, 1, 1, 3, 1, 3, 3, 3, 3, 3, 1, 3, 3, 1, 3, 3, 3, 3, 3, 3, 3, 3, 3, 1, 1, 1, 1, 1, 1, 3, 3, 2, 3, 3, 1, 1, 1, 3, 1, 1, 3, 1, 3, 3, 3, 1, 3, 1, 1, 3, 1, 3, 3, 1, 1, 3, 3, 1, 1, 3, 1, 3, 1, 3, 3, 3, 3, 1, 3, 3, 3, 2, 1, 1, 3, 2, 3, 3, 1, 3, 3, 3, 1, 3, 3, 3, 3, 1, 3, 1, 3, 1, 3, 3, 1, 1, 1, 2, 3, 1, 1, 3, 3, 3, 1, 3, 3, 2, 1, 3, 1, 1, 1, 1, 1, 1, 1, 3, 3, 3, 1, 3, 3, 3, 3, 3, 3, 3, 3, 3, 1, 1, 1, 3, 3, 1, 1, 1, 1, 1, 3, 3, 1, 3, 3, 3, 3, 3, 3, 3, 1, 3, 1, 1, 1, 1, 2, 1, 1, 3, 3, 1, 3, 3, 1, 3, 3, 3, 3, 3, 1, 1, 1, 3, 3, 1, 3, 1, 1, 1, 1, 1, 3, 1, 1, 3, 1, 1, 1, 1, 3, 1, 3, 3, 1, 1, 3, 1, 3, 1, 3, 2, 1, 2, 1, 1, 1, 3, 3, 1, 1, 3, 1, 1, 2, 1, 1, 1, 3, 3, 1, 1, 1, 1, 1, 1, 1, 3, 3, 1, 1, 3, 3, 3, 2, 1, 3, 1, 1, 1, 1, 3, 1, 3, 3, 3, 3, 3, 3, 1, 1, 1, 1, 1, 3, 3, 1, 1, 3, 1, 3, 3, 1, 3, 1, 1, 3, 1, 1, 1, 3, 3, 3, 1, 1, 3, 3, 1, 1, 3, 3, 3, 1, 1, 1, 1, 3, 3, 3, 3, 3, 3, 1, 1, 1, 3, 3, 3, 1, 3, 3, 3, 1, 3, 1, 1, 1, 1, 3, 3, 1, 1, 3, 1, 3, 2, 3, 3, 3, 1, 1, 1, 3, 1, 3, 1, 1, 1, 1, 3, 1, 3, 1, 1, 3, 3, 1, 3, 1, 3, 3, 1, 3, 1, 1, 1, 1, 1, 1, 1, 3, 3, 2, 3, 3, 3, 1, 3, 3, 3, 1, 1, 3, 3, 1, 1, 3, 1, 2, 1, 1, 3, 3, 3, 1, 3, 3, 3, 3, 1, 1, 3, 1, 1, 1, 1, 3, 3, 3, 1, 1, 3, 3, 1, 2, 3, 3, 1, 3, 1, 1, 3, 3, 1, 1, 3, 3, 3, 1, 3, 3, 1, 1, 1, 3, 3, 1, 3, 1, 3, 3, 1, 1, 3, 3, 3, 1, 1, 1, 2, 3, 3, 1, 1, 1, 1, 1, 3, 3, 1, 3, 3, 1, 1, 1, 3, 3, 1, 1, 1, 3, 1, 3, 3, 1, 1, 1, 3, 1, 3, 3, 1, 3, 1, 3, 3, 1, 1, 3, 3, 3, 1, 1, 1, 3, 3, 1, 1, 3, 3, 1, 1, 3, 3, 1, 1, 1, 3, 1, 3, 3, 1, 3, 3, 3, 1, 3, 3, 1, 3, 1, 3, 1, 1, 3, 1, 1, 3, 3, 3, 3, 1, 1, 3, 3, 3, 3, 3, 1, 1, 1, 1, 1, 3, 3, 1, 1, 1, 1, 1, 3, 1, 3, 1, 3, 3, 3, 2, 2, 2, 1, 1, 1, 3, 1, 3, 1, 1, 1, 2, 1, 3, 3, 1, 1, 3, 1, 1, 1, 1, 1, 1, 2, 3, 1, 3, 3, 1, 3, 3, 1, 3, 1, 1, 1, 1, 3, 3, 3, 3, 1, 3, 1, 1, 1, 1, 1, 1, 3, 3, 1, 1, 1, 3, 1, 1, 1, 3, 1, 1, 1, 1, 2, 1, 1, 3, 3, 3, 1, 3, 3, 1, 1, 1, 3, 3, 3, 3, 3, 3, 1, 1, 3, 1, 3, 3, 3, 3, 1, 3, 3, 3, 3, 1, 1, 1, 1, 1, 1, 1, 1, 3, 3, 1, 1, 1, 3, 3, 3, 1, 1, 1, 1, 3, 3, 1, 3, 1, 1, 1, 3, 3, 3, 3, 1, 3, 3, 1, 1, 1, 1, 1, 3, 1, 1, 1, 1, 3, 1, 3, 3, 3, 2, 3, 3, 3, 1, 2, 3, 1, 3, 3, 3, 3, 1, 3, 1, 1, 3, 1, 3, 1, 3, 3, 3, 3, 3, 3, 3, 3, 3, 3, 3, 3, 1, 3, 3, 3, 1, 1, 3, 1, 3, 2, 3, 1, 3, 1, 1, 1, 1, 3, 1, 1, 3, 1, 1, 3, 1, 1, 3, 1, 1, 1, 3, 3, 1, 1, 1, 3, 1, 3, 3, 1, 1, 1, 3, 1, 3, 3, 3, 1, 3, 1, 3, 3, 1, 1, 1, 1, 3, 3, 3, 1, 3, 1, 1, 1, 1, 3, 1, 3, 3, 1, 3, 3, 1, 3, 3, 1, 3, 1, 1, 1, 1, 3, 3, 1, 1, 3, 3, 1, 1, 3, 3, 3, 1, 3, 3, 1, 3, 1, 3, 3, 1, 3, 3, 3, 1, 3, 3, 3, 3, 1, 1, 1, 3, 3, 3, 1, 1, 1, 3, 1, 3, 3, 3, 3, 1, 1, 1, 1, 1, 1, 1, 1, 1, 1, 3, 3, 3, 1, 1, 3, 1, 1, 1, 1, 1, 1, 1, 1, 1, 1, 2, 3, 3, 3, 3, 3, 1, 3, 3, 3, 3, 1, 3, 3, 1, 1, 3, 1, 1, 1, 1, 1, 3, 1, 2, 1, 1, 3, 3, 3, 3, 1, 3, 1, 3, 3, 3, 3, 1, 3, 1, 3, 3, 3, 1, 1, 1, 1, 3, 3, 3, 1, 1, 1, 3, 3, 1, 1, 1, 3, 3, 3, 3, 3, 1, 1, 3, 3, 3, 3, 3, 3, 1, 1, 3, 3, 1, 1, 3, 3, 1, 3, 1, 3, 1, 3, 3, 3, 3, 1, 3, 3, 3, 1, 1, 1, 1, 1, 1, 1, 1, 1, 3, 3, 3, 3, 1, 1, 3, 1, 3, 1, 3, 3, 1, 2, 3, 3, 1, 1, 3, 3, 3, 1, 3, 1, 1, 3, 3, 3, 1, 3, 3, 3, 3, 3, 1, 3, 3, 3, 3, 1, 1, 3, 3, 1, 1, 3, 3, 3, 3, 3, 3, 1, 3, 3, 3, 3, 1, 1, 2, 1, 3, 3, 1, 1, 3, 3, 3, 3, 3, 3, 1, 1, 3, 2, 1, 1, 1, 1, 3, 3, 2, 3, 1, 3, 1, 1, 3, 1, 3, 3, 1, 1, 3, 1, 1, 3, 3, 3, 3, 3, 1, 3, 3, 3, 3, 3, 3, 3, 1, 3, 3, 1, 3, 3, 1, 1, 1, 3, 1, 3, 3, 3, 1, 3, 3, 3, 1, 3, 1, 1, 3, 1, 1, 3, 1, 1, 2, 1, 2, 3, 2, 1, 1, 3, 1, 1, 1, 3, 3, 1, 2, 1, 3, 3, 2, 1, 3, 3, 3, 3, 3, 3, 1, 3, 2, 2, 3, 1, 1, 3, 3, 1, 3, 3, 1, 2, 3, 3, 1, 3, 3, 1, 1, 1, 3, 1, 1, 3, 3, 2, 1, 3, 1, 1, 1, 1, 3, 3, 3, 1, 1, 3, 3, 2, 3, 1, 1, 3, 2, 1, 1, 1, 1, 3, 1, 3, 1, 3, 3, 3, 3, 1, 1, 1, 1, 3, 3, 3, 1, 1, 1, 3, 1, 1, 3, 3, 1, 1, 1, 3, 3, 3, 3, 1, 1, 3, 3, 3, 1, 1, 3, 3, 3, 3, 1, 3, 3, 3, 2, 3, 1, 1, 1, 3, 3, 3, 3, 1, 3, 3, 1, 3, 3, 3, 3, 1, 1, 3, 1, 3, 3, 3, 1, 1, 3, 2, 3, 3, 3, 3, 3, 3, 3, 2, 2, 2, 3, 1, 2, 3, 1, 2, 3, 1, 1, 1, 3, 3, 3, 3, 3, 1, 3, 3, 1, 1, 3, 3, 3, 3, 3, 1, 1, 1, 3, 1, 1, 1, 2, 1, 3, 1, 3, 3, 3, 3, 3, 3, 3, 3, 3, 1, 1, 1, 1, 3, 3, 1, 3, 1, 1, 1, 3, 3, 1, 1, 3, 3, 3, 1, 3, 1, 1, 1, 1, 3, 3, 3, 3, 3, 1, 3, 3, 3, 3, 3, 3, 3, 3, 2, 3, 3, 3, 1, 1, 3, 3, 2, 1, 3, 3, 1, 1, 3, 3, 3, 1, 1, 1, 3, 3, 1, 3, 1, 3, 1, 3, 3, 3, 3, 3, 1, 3, 1, 1, 1, 1, 1, 3, 1, 3, 3, 3, 3, 3, 3, 3, 3, 1, 3, 3, 1, 1, 1, 3, 3, 1, 1, 3, 1, 3, 1, 3, 3, 1, 1, 3, 3, 3, 1, 3, 3, 1, 3, 3, 1, 1, 3, 3, 3, 3, 3, 3, 3, 1, 1, 3, 1, 3, 1, 3, 1, 1, 1, 1, 1, 3, 3, 1, 3, 3, 3, 3, 1, 3, 3, 3, 3, 1, 1, 1, 1, 3, 3, 3, 3, 3, 3, 1, 1, 1, 1, 1, 1, 1, 3, 3, 3, 3, 1, 1, 1, 3, 1, 3, 1, 3, 3, 3, 3, 1, 3, 2, 1, 1, 1, 2, 1, 3, 3, 1, 3, 1, 1, 3, 2, 1, 1, 1, 3, 1, 1, 3, 1, 3, 3, 3, 3, 3, 1, 3, 1, 3, 3, 1, 1, 3, 1, 1, 3, 3, 1, 1, 1, 1, 1, 1, 3, 3, 1, 3, 3, 3, 3, 1, 1, 3, 3, 3, 2, 3, 3, 3, 1, 2, 2, 1, 3, 3, 3, 3, 3, 3, 3, 3, 3, 2, 3, 3, 1, 1, 3, 1, 1, 1, 1, 1, 3, 1, 1, 1, 1, 3, 3, 1, 3, 3, 3, 1, 3, 3, 3, 3, 3, 3, 3, 3, 3, 3, 1, 3, 3, 3, 3, 3, 3, 1, 3, 3, 3, 1, 1, 1, 1, 1, 3, 3, 3, 3, 3, 1, 3, 1, 3, 3, 3, 3, 3, 2, 1, 1, 3, 3, 3, 3, 3, 1, 3, 3, 1, 1, 3, 1, 3, 3, 3, 3, 3, 3, 1, 1, 1, 3, 3, 3, 3, 1, 3, 3, 3, 3, 3, 2, 3, 3, 1, 1, 1, 3, 1, 3, 3, 3, 1, 3, 3, 3, 3, 3, 1, 3, 3, 1, 2, 3, 1, 1, 3, 1, 1, 3, 1, 3, 1, 1, 3, 1, 1, 1, 3, 1, 3, 3, 3, 1, 3, 3, 3, 3, 3, 3, 1, 1, 3, 1, 3, 3, 3, 3, 3, 1, 1, 3, 3, 3, 1, 3, 1, 1, 3, 3, 1, 1, 3, 3, 1, 1, 3, 3, 3, 3, 1, 3, 2, 3, 1, 2, 1, 3, 3, 3, 3, 3, 3, 1, 3, 3, 1, 1, 1, 3, 1, 3, 3, 3, 1, 3, 2, 1, 1, 1, 3, 3, 3, 1, 1, 3, 3, 1, 1, 1, 3, 1, 2, 3, 1, 1, 1, 1, 3, 1, 3, 1, 1, 3, 3, 1, 3, 1, 3, 3, 3, 1, 3, 1, 1, 3, 1, 1, 3, 1, 1, 1, 3, 3, 3, 3, 3, 2, 1, 3, 1, 3, 1, 3, 3, 3, 3, 3, 1, 3, 3, 3, 1, 3, 3, 1, 1, 1, 3, 3, 3, 3, 3, 3, 3, 2, 1, 3, 1, 3, 3, 3, 1, 1, 3, 1, 2, 1, 3, 3, 3, 1, 3, 3, 3, 3, 1, 1, 3, 3, 3, 3, 3, 1, 1, 3, 3, 1, 3, 2, 3, 3, 1, 1, 3, 3, 1, 3, 1, 3, 1, 3, 1, 1, 3, 3, 3, 1, 1, 3, 3, 3, 1, 1, 1, 3, 3, 3, 3, 1, 3, 3, 3, 3, 3, 3, 3, 1, 3, 1, 1, 1, 1, 3, 3, 3, 3, 3, 3, 1, 1, 3, 3, 3, 3, 1, 3, 3, 2, 1, 1, 1, 1, 3, 1, 1, 3, 1, 3, 3, 3, 3, 3, 1, 1, 3, 1, 1, 3, 1, 1, 3, 1, 3, 3, 1, 1, 1, 1, 1, 1, 3, 3, 3, 3, 3, 3, 1, 1, 3, 3, 3, 3, 3, 3, 3, 3, 3, 1, 3, 3, 3, 3, 1, 3, 1, 3, 3, 3, 1, 1, 1, 3, 3, 1, 1, 3, 1, 1, 1, 1, 1, 1, 3, 3, 3, 3, 3, 1, 1, 3, 3, 1, 3, 3, 3, 3, 3, 3, 1, 3, 1, 1, 3, 3, 1, 1, 3, 1, 1, 3, 3, 3, 3, 3, 3, 3, 3, 3, 1, 3, 1, 1, 1, 1, 3, 3, 1, 3, 3, 3, 3, 1, 3, 3, 3, 1, 3, 1, 1, 3, 3, 1, 3, 1, 3, 1, 1, 1, 1, 1, 3, 3, 1, 3, 3, 3, 3, 3, 2, 3, 3, 1, 1, 3, 3, 1, 3, 1, 3, 3, 1, 1, 1, 3, 1, 3, 3, 1, 1, 3, 3, 1, 3, 3, 3, 3, 3, 1, 3, 2, 3, 1, 3, 1, 3, 3, 3, 1, 3, 3, 3, 3, 1, 1, 3, 3, 3, 1, 1, 1, 3, 3, 3, 3, 3, 3, 1, 1, 1, 3, 3, 3, 3, 3, 3, 3, 3, 3, 3, 3, 3, 1, 1, 3, 3, 3, 3, 1, 1, 3, 1, 3, 3, 3, 1, 3, 1, 2, 3, 3, 1, 3, 3, 3, 3, 3, 1, 3, 3, 1, 3, 1, 3, 3, 3, 1, 1, 3, 1, 3, 1, 1, 3, 3, 1, 1, 1, 1, 1, 1, 1, 1, 1, 1, 1, 3, 3, 3, 3, 3, 3, 1, 3, 1, 1, 1, 3, 1, 1, 3, 3, 3, 3, 3, 3, 3, 3, 3, 3, 1, 1, 1, 3, 3, 3, 1, 3, 1, 3, 1, 1, 3, 1, 3, 1, 3, 3, 3, 1, 3, 3, 3, 1, 1, 1, 1, 1, 1, 2, 3, 1, 3, 3, 3, 3, 3, 3, 1, 1, 3, 3, 3, 3, 1, 1, 3, 3, 1, 3, 1, 3, 3, 3, 3, 3, 3, 3, 3, 3, 3, 3, 1, 3, 1, 1, 1, 1, 1, 2, 1, 3, 3, 3, 3, 3, 1, 1, 1, 1, 3, 1, 1, 3, 1, 1, 3, 3, 3, 1, 1, 3, 3, 3, 3, 3, 3, 1, 1, 3, 1, 3, 3, 3, 3, 3, 3, 3, 3, 3, 3, 3, 3, 3, 3, 3, 3, 3, 3, 3, 3, 1, 3, 3, 3, 3, 3, 1, 1, 1, 3, 3, 3, 3, 3, 3, 3, 3, 3, 3, 3, 3, 1, 1, 1, 3, 1, 1, 1, 3, 1, 1, 3, 3, 1, 1, 3, 3, 1, 3, 3, 1, 1, 1, 3, 3, 3, 3, 3, 3, 3, 1, 1, 3, 3, 3, 3, 3, 3, 1, 1, 1, 3, 3, 3, 1, 1, 3, 3, 3, 3, 3, 3, 3, 1, 3, 1, 1, 1, 1, 1, 3, 3, 3, 1, 3, 1, 1, 1, 1, 1, 3, 3, 3, 3, 1, 1, 1, 3, 1, 2, 1, 3, 1, 3, 1, 1, 3, 3, 3, 1, 1, 3, 1, 3, 3, 3, 3, 3, 3, 3, 3, 3, 3, 3, 3, 3, 1, 1, 1, 1, 3, 1, 3, 3, 3, 1, 3, 3, 1, 3, 3, 3, 1, 1, 1, 3, 1, 1, 3, 3, 3, 3, 3, 1, 3, 3, 3, 1, 3, 3, 3, 1, 3, 1, 3, 3, 3, 1, 1, 3, 1, 3, 3, 3, 1, 1, 1, 1, 3, 3, 1, 3, 3, 3, 3, 3, 3, 1, 1, 1, 1, 1, 3, 3, 3, 1, 3, 3, 3, 3, 3, 1, 1, 1, 1, 1, 3, 3, 3, 1, 1, 3, 1, 3, 3, 3, 3, 1, 3, 1, 3, 3, 3, 3, 3, 3, 3, 1, 3, 3, 3, 1, 3, 1, 1, 1, 3, 2, 3, 1, 3, 3, 3, 3, 1, 3, 1, 3, 1, 3, 3, 3, 3, 3, 3, 3, 1, 1, 1, 1, 3, 1, 1, 1, 1, 1, 1, 1, 3, 1, 3, 1, 2, 3, 1, 1, 1, 3, 1, 1, 1, 3, 1, 3, 3, 3, 3, 1, 3, 1, 1, 1, 3, 1, 3, 3, 1, 3, 3, 3, 3, 1, 1, 3, 3, 1, 1, 1, 3, 3, 3, 3, 3, 3, 3, 3, 3, 3, 3, 1, 2, 3, 1, 3, 3, 1, 3, 3, 3, 1, 1, 3, 3, 3, 3, 1, 1, 3, 1, 1, 3, 3, 3, 3, 1, 1, 2, 3, 3, 1, 1, 3, 2, 3, 3, 3, 1, 3, 3, 3, 3, 1, 3, 3, 1, 1, 1, 3, 3, 3, 3, 3, 1, 1, 1, 3, 3, 3, 3, 3, 3, 3, 3, 3, 3, 1, 1, 3, 3, 3, 3, 3, 3, 1, 3, 3, 3, 3, 3, 3, 3, 3, 3, 1, 1, 3, 3, 3, 1, 3, 3, 1, 3, 3, 3, 3, 1, 1, 3, 3, 1, 3, 3, 3, 3, 1, 1, 3, 3, 1, 3, 3, 3, 2, 3, 3, 3, 3, 1, 3, 1, 3, 1, 3, 3, 3, 3, 3, 3, 3, 1, 1, 1, 3, 3, 3, 3, 3, 1, 3, 3, 3, 1, 1, 1, 1, 3, 3, 3, 1, 3, 1, 3, 3, 3, 3, 1, 3, 3, 1, 1, 3, 1, 3, 1, 1, 3, 3, 3, 1, 3, 3, 3, 1, 3, 1, 3, 3, 1, 3, 3, 3, 3, 3, 1, 1, 1, 1, 2, 3, 1, 1, 3, 3, 1, 1, 3, 1, 3, 3, 1, 3, 3, 3, 3, 1, 3, 3, 1, 3, 3, 3, 3, 1, 3, 1, 3, 1, 3, 3, 3, 3, 3, 3, 3, 3, 3, 3, 3, 1, 3, 3, 1, 3, 3, 3, 3, 3, 3, 3, 3, 3, 1, 1, 1, 3, 1, 3, 1, 3, 1, 1, 1, 3, 3, 1, 3, 3, 3, 1, 1, 3, 1, 3, 3, 3, 1, 1, 1, 1, 3, 3, 1, 3, 1, 1, 3, 2, 1, 1, 1, 3, 3, 1, 1, 1, 1, 3, 2, 3, 1, 3, 1, 1, 1, 3, 3, 3, 3, 3, 1, 3, 3, 1, 1, 1, 1, 1, 3, 3, 3, 3, 3, 3, 3, 3, 1, 3, 2, 1, 1, 1, 3, 1, 1, 1, 3, 1, 3, 1, 3, 3, 1, 1, 1, 3, 3, 1, 3, 3, 3, 1, 1, 3, 1, 1, 3, 3, 3, 3, 1, 1, 3, 3, 1, 1, 1, 3, 1, 1, 3, 3, 3, 1, 3, 3, 3, 3, 3, 1, 1, 3, 1, 3, 3, 3, 1, 1, 1, 2, 1, 3, 3, 3, 1, 1, 3, 3, 3, 3, 1, 3, 3, 3, 1, 1, 3, 3, 3, 3, 1, 1, 1, 3, 3, 3, 3, 1, 3, 1, 3, 1, 3, 1, 3, 3, 1, 1, 3, 1, 1, 3, 3, 1, 3, 3, 1, 3, 3, 1, 1, 3, 3, 3, 3, 1, 1, 3, 1, 3, 1, 1, 1, 3, 3, 3, 3, 3, 3, 3, 1, 3, 3, 3, 3, 1, 2, 3, 3, 3, 1, 3, 3, 3, 2, 2, 1, 1, 1, 3, 3, 3, 1, 1, 3, 1, 1, 1, 3, 3, 1, 3, 1, 3, 3, 2, 1, 3, 3, 1, 3, 1, 3, 3, 3, 2, 1, 1, 1, 1, 1, 3, 1, 3, 1, 1, 1, 3, 3, 3, 1, 3, 3, 1, 1, 1, 1, 3, 3, 3, 3, 3, 3, 3, 3, 3, 1, 1, 1, 1, 1, 1, 1, 3, 3, 1, 3, 3, 1, 1, 3, 1, 1, 2, 1, 1, 1, 3, 3, 1, 3, 1, 1, 3, 2, 3, 3, 3, 3, 3, 3, 3, 3, 3, 1, 3, 3, 3, 3, 3, 3, 3, 3, 3, 3, 3, 3, 2, 3, 3, 3, 1, 1, 3, 1, 3, 3, 1, 3, 3, 1, 3, 1, 3, 3, 1, 1, 3, 3, 1, 1, 1, 3, 3, 3, 3, 3, 1, 3, 3, 1, 1, 3, 1, 1, 1, 1, 1, 3, 3, 1, 3, 2, 2, 3, 1, 3, 1, 3, 3, 3, 3, 3, 3, 3, 3, 3, 3, 3, 1, 3, 3, 1, 3, 1, 1, 3, 3, 3, 1, 1, 3, 3, 3, 3, 1, 3, 3, 1, 1, 3, 1, 3, 3, 3, 3, 1, 3, 3, 3, 1, 3, 1, 3, 3, 3, 3, 3, 3, 1, 3, 3, 3, 1, 1, 1, 3, 3, 1, 1, 3, 3, 3, 3, 3, 1, 3, 3, 3, 1, 3, 3, 3, 3, 3, 3, 1, 3, 1, 3, 3, 3, 1, 3, 1, 1, 3, 3, 1, 3, 1, 3, 1, 1, 3, 3, 3, 3, 3, 1, 1, 3, 3, 3, 1, 1, 3, 3, 3, 3, 1, 3, 3, 3, 3, 3, 1, 1, 3, 1, 1, 3, 1, 3, 1, 1, 1, 3, 3, 3, 3, 3, 3, 1, 1, 3, 3, 3, 3, 3, 3, 3, 3, 3, 3, 1, 1, 3, 1, 2, 1, 3, 3, 3, 3, 3, 3, 3, 3, 1, 3, 1, 3, 3, 3, 1, 3, 3, 3, 3, 1, 1, 3, 3, 3, 3, 3, 1, 3, 3, 1, 3, 3, 3, 3, 3, 3, 3, 3, 3, 1, 3, 3, 3, 3, 3, 2, 3, 2, 3, 1, 2, 3, 3, 3, 3, 3, 3, 3, 3, 3, 3, 3, 3, 1, 3, 3, 3, 3, 3, 3, 1, 3, 3, 1, 3, 3, 3, 3, 3, 1, 1, 3, 3, 1, 1, 1, 3, 3, 3, 3, 3, 3, 3, 3, 1, 1, 1, 3, 3, 1, 3, 1, 2, 1, 2, 3, 1, 3, 3, 3, 1, 3, 3, 1, 3, 1, 3, 3, 3, 1, 3, 3, 3, 1, 3, 3, 1, 3, 3, 3, 3, 3, 3, 2, 1, 3, 2, 3, 2, 3, 1, 1, 1, 1, 1, 3, 3, 3, 3, 3, 3, 2, 3, 3, 3, 3, 3, 3, 3, 3, 3, 3, 3, 3, 3, 3, 3, 3, 3, 3, 1, 3, 3, 3, 3, 3, 3, 3, 1, 1, 3, 3, 3, 3, 1, 1, 1, 3, 3, 1, 3, 1, 1, 3, 3, 3, 3, 3, 3, 3, 1, 3, 1, 3, 3, 3, 3, 3, 1, 3, 3, 3, 3, 1, 1, 3, 3, 1, 1, 3, 1, 1, 1, 3, 1, 3, 3, 3, 1, 3, 1, 3, 3, 3, 3, 1, 3, 3, 1, 1, 1, 1, 1, 3, 1, 3, 3, 3, 1, 3, 3, 3, 3, 3, 3, 1, 1, 1, 2, 3, 1, 1, 1, 1, 1, 3, 3, 3, 3, 3, 3, 3, 3, 1, 1, 1, 1, 3, 3, 3, 3, 3, 1, 1, 3, 3, 1, 1, 1, 3, 1, 2, 2, 3, 3, 3, 3, 3, 3, 3, 3, 3, 1, 3, 1, 1, 3, 3, 3, 1, 3, 3, 3, 3, 3, 3, 3, 3, 1, 3, 1, 3, 3, 3, 2, 1, 3, 3, 1, 1, 3, 1, 1, 3, 1, 1, 2, 3, 3, 1, 3, 3, 1, 3, 3, 2, 1, 3, 3, 3, 3, 3, 3, 3, 1, 1, 1, 1, 1, 1, 1, 3, 1, 3, 1, 1, 3, 3, 3, 3, 1, 1, 3, 3, 3, 3, 3, 1, 1, 3, 3, 3, 3, 3, 3, 3, 3, 3, 3, 1, 1, 1, 1, 1, 1, 3, 3, 3, 3, 3, 3, 1, 3, 3, 3, 3, 3, 3, 3, 3, 1, 1, 3, 3, 3, 1, 3, 3, 3, 3, 1, 1, 3, 3, 3, 3, 3, 3, 1, 1, 1, 3, 3, 1, 3, 3, 3, 3, 3, 3, 3, 3, 3, 1, 3, 3, 1, 1, 3, 1, 3, 1, 3, 3, 3, 1, 1, 3, 3, 1, 1, 1, 1, 1, 3, 2, 1, 3, 1, 3, 3, 3, 1, 3, 3, 3, 1, 3, 3, 1, 3, 3, 3, 1, 3, 3, 1, 3, 3, 3, 1, 3, 3, 1, 3, 3, 1, 1, 3, 1, 1, 1, 1, 3, 3, 3, 1, 1, 3, 1, 1, 3, 3, 3, 3, 3, 3, 3, 3, 3, 1, 1, 1, 1, 1, 3, 3, 1, 3, 3, 1, 3, 3, 3, 3, 3, 1, 3, 3, 3, 1, 1, 1, 1, 1, 1, 3, 3, 1, 1, 1, 1, 3, 3, 3, 3, 1, 3, 3, 3, 3, 3, 3, 3, 3, 3, 3, 3, 1, 1, 1, 3, 3, 2, 2, 1, 3, 1, 1, 3, 3, 3, 1, 3, 3, 1, 3, 3, 3, 3, 3, 3, 3, 1, 3, 3, 3, 3, 3, 3, 1, 3, 3, 1, 3, 1, 2, 1, 3, 3, 1, 1, 1, 1, 3, 3, 2, 1, 1, 3, 3, 3, 3, 3, 3, 3, 3, 3, 1, 3, 3, 3, 3, 3, 3, 3, 3, 1, 3, 3, 1, 3, 3, 3, 1, 1, 1, 3, 3, 3, 1, 3, 1, 1, 3, 3, 1, 3, 1, 3, 1, 3, 1, 3, 3, 3, 3, 3, 3, 1, 3, 3, 1, 3, 3, 1, 3, 1, 1, 3, 1, 3, 1, 3, 3, 3, 1, 1, 3, 3, 1, 2, 3, 1, 2, 2, 3, 3, 3, 3, 3, 3, 3, 3, 3, 3, 2, 1, 1, 3, 2, 1, 1, 3, 3, 3, 1, 3, 3, 1, 3, 3, 1, 1, 3, 3, 1, 3, 3, 3, 3, 3, 1, 1, 1, 1, 3, 3, 3, 1, 3, 1, 3, 3, 1, 3, 3, 1, 3, 3, 1, 3, 3, 1, 1, 3, 3, 1, 3, 3, 3, 3, 3, 3, 3, 3, 1, 1, 3, 3, 3, 3, 3, 3, 3, 3, 3, 3, 3, 1, 3, 1, 3, 3, 3, 3, 1, 1, 1, 1, 1, 1, 3, 1, 3, 3, 3, 3, 1, 1, 1, 3, 3, 1, 1, 1, 1, 3, 1, 1, 1, 3, 2, 2, 1, 3, 3, 1, 1, 1, 1, 1, 1, 1, 3, 3, 1, 3, 3, 3, 3, 3, 3, 3, 3, 3, 3, 1, 1, 3, 3, 3, 3, 1, 1, 1, 1, 3, 3, 1, 1, 2, 2, 1, 1, 1, 1, 1, 1, 1, 3, 3, 1, 3, 1, 1, 1, 1, 3, 3, 3, 1, 1, 3, 2, 3, 3, 2, 3, 3, 3, 3, 3, 1, 1, 1, 1, 1, 1, 1, 1, 1, 1, 3, 3, 1, 1, 3, 3, 3, 3, 3, 3, 3, 3, 1, 3, 2, 1, 1, 1, 3, 3, 3, 3, 1, 2, 1, 3, 1, 1, 1, 1, 1, 3, 3, 1, 1, 1, 1, 3, 1, 3, 3, 3, 3, 3, 1, 1, 3, 2, 1, 1, 1, 3, 3, 3, 3, 3, 3, 3, 3, 3, 1, 3, 3, 3, 1, 1, 3, 1, 1, 2, 1, 1, 3, 1, 1, 3, 2, 3, 1, 1, 3, 3, 3, 1, 3, 3, 3, 3, 1, 1, 3, 2, 1, 2, 3, 3, 1, 2, 3, 3, 3, 3, 3, 3, 3, 1, 3, 3, 1, 3, 1, 3, 3, 3, 3, 3, 3, 1, 3, 3, 1, 1, 3, 3, 3, 3, 1, 3, 3, 3, 3, 3, 1, 3, 2, 1, 1, 3, 3, 3, 1, 1, 2, 2, 1, 1, 3, 3, 1, 3, 2, 1, 1, 3, 1, 1, 1, 3, 1, 1, 3, 1, 1, 3, 1, 3, 3, 3, 1, 1, 3, 3, 3, 3, 3, 3, 3, 3, 3, 3, 1, 3, 3, 3, 1, 3, 3, 3, 1, 3, 3, 3, 1, 1, 3, 1, 1, 3, 3, 3, 3, 3, 3, 1, 3, 3, 2, 3, 1, 1, 3, 1, 1, 3, 1, 1, 1, 2, 3, 1, 3, 1, 3, 3, 3, 1, 3, 3, 3, 3, 1, 3, 2, 3, 3, 1, 3, 1, 1, 1, 2, 1, 2, 1, 1, 3, 3, 1, 3, 3, 3, 3, 3, 3, 1, 1, 1, 1, 3, 1, 1, 3, 3, 1, 1, 3, 1, 1, 1, 3, 1, 3, 3, 3, 3, 3, 3, 3, 3, 3, 3, 3, 1, 1, 3, 1, 1, 3, 3, 3, 3, 1, 3, 3, 1, 3, 3, 3, 1, 1, 3, 3, 1, 3, 1, 3, 1, 1, 3, 1, 3, 3, 1, 1, 2, 1, 3, 3, 1, 1, 1, 1, 1, 3, 3, 3, 2, 3, 3, 3, 3, 3, 3, 3, 3, 3, 3, 3, 3, 3, 2, 1, 1, 3, 2, 1, 1, 1, 1, 1, 1, 1, 3, 3, 3, 1, 1, 3, 2, 1, 1, 3, 3, 3, 3, 3, 1, 3, 1, 1, 3, 3, 1, 1, 3, 3, 3, 3, 1, 3, 3, 1, 1, 1, 3, 3, 1, 3, 3, 3, 1, 3, 3, 3, 1, 1, 1, 1, 1, 3, 1, 3, 1, 1, 1, 1, 1, 3, 3, 1, 1, 1, 1, 1, 2, 1, 3, 1, 2, 1, 1, 3, 3, 3, 3, 3, 1, 3, 3, 3, 3, 3, 3, 3, 1, 3, 1, 3, 2, 3, 1, 1, 3, 3, 1, 3, 3, 1, 1, 1, 1, 1, 3, 3, 3, 3, 1, 3, 1, 1, 3, 1, 1, 1, 3, 3, 3, 3, 3, 3, 3, 3, 3, 1, 3, 3, 3, 3, 3, 1, 1, 1, 1, 3, 3, 3, 1, 3, 3, 3, 1, 1, 1, 1, 3, 1, 3, 1, 3, 3, 1, 1, 1, 1, 3, 3, 1, 3, 1, 1, 3, 3, 3, 1, 1, 3, 1, 3, 3, 1, 3, 3, 1, 1, 3, 3, 3, 3, 3, 3, 1, 1, 3, 1, 3, 1, 1, 1, 1, 1, 3, 3, 1, 1, 2, 2, 3, 3, 1, 1, 1, 3, 1, 1, 3, 1, 1, 2, 1, 3, 3, 3, 3, 3, 3, 3, 1, 2, 3, 2, 2, 1, 3, 3, 1, 1, 3, 3, 3, 3, 3, 3, 3, 3, 1, 1, 3, 3, 3, 3, 1, 3, 1, 1, 1, 3, 1, 3, 3, 3, 1, 1, 1, 1, 1, 3, 3, 1, 1, 3, 3, 3, 3, 3, 3, 3, 2, 3, 3, 3, 1, 3, 1, 3, 1, 1, 1, 1, 1, 1, 1, 1, 1, 1, 3, 1, 3, 3, 1, 1, 1, 3, 1, 1, 1, 1, 1, 1, 3, 3, 3, 3, 1, 3, 1, 1, 1, 1, 1, 3, 1, 3, 3, 3, 3, 3, 3, 1, 3, 3, 3, 3, 2, 1, 3, 1, 3, 3, 1, 3, 3, 1, 1, 3, 1, 3, 3, 3, 3, 1, 3, 3, 3, 3, 2, 1, 1, 3, 1, 3, 1, 3, 1, 3, 1, 3, 1, 3, 1, 3, 3, 3, 1, 3, 1, 3, 3, 3, 3, 3, 3, 3, 1, 3, 3, 3, 3, 3, 3, 3, 1, 1, 3, 3, 3, 3, 1, 1, 3, 3, 3, 3, 3, 3, 3, 3, 3, 1, 1, 1, 3, 1, 3, 3, 3, 3, 3, 3, 3, 3, 2, 1, 3, 3, 1, 1, 1, 1, 1, 1, 3, 3, 1, 3, 3, 3, 3, 1, 1, 2, 3, 3, 1, 1, 3, 1, 3, 1, 3, 3, 3, 1, 1, 3, 3, 3, 3, 1, 3, 3, 1, 1, 1, 1, 1, 1, 3, 1, 1, 3, 3, 1, 3, 1, 3, 3, 3, 1, 3, 2, 1, 3, 3, 3, 2, 3, 3, 3, 3, 3, 3, 1, 1, 1, 3, 1, 1, 1, 3, 3, 3, 3, 3, 1, 1, 1, 1, 3, 3, 1, 1, 1, 1, 1, 3, 3, 1, 1, 3, 1, 1, 2, 3, 1, 3, 3, 3, 1, 1, 1, 1, 1, 1, 3, 3, 3, 3, 1, 3, 3, 1, 1, 1, 3, 3, 3, 3, 1, 1, 1, 1, 1, 3, 3, 3, 1, 1, 3, 3, 3, 3, 3, 1, 3, 1, 1, 1, 2, 3, 2, 3, 3, 3, 1, 1, 1, 3, 1, 3, 1, 3, 3, 3, 3, 1, 1, 1, 3, 3, 1, 3, 1, 1, 3, 3, 3, 1, 3, 3, 1, 1, 3, 3, 1, 1, 3, 3, 1, 1, 3, 1, 1, 3, 3, 1, 1, 3, 3, 1, 3, 3, 3, 1, 3, 3, 1, 3, 1, 2, 1, 3, 3, 3, 3, 3, 3, 3, 3, 3, 3, 1, 1, 3, 1, 1, 3, 3, 3, 3, 1, 1, 3, 3, 3, 1, 1, 1, 3, 3, 3, 3, 1, 1, 3, 1, 3, 3, 1, 1, 3, 3, 3, 3, 3, 1, 1, 1, 1, 1, 1, 3, 3, 1, 3, 3, 1, 1, 3, 3, 3, 3, 3, 1, 3, 3, 3, 3, 1, 3, 3, 1, 1, 3, 1, 3, 1, 3, 3, 3, 1, 1, 3, 1, 3, 1, 3, 1, 1, 1, 1, 3, 1, 1, 3, 2, 2, 3, 3, 3, 1, 3, 3, 3, 3, 3, 3, 3, 1, 1, 3, 1, 3, 3, 3, 3, 3, 3, 3, 3, 3, 1, 1, 1, 1, 3, 1, 1, 3, 3, 1, 1, 1, 1, 1, 3, 3, 2, 1, 1, 1, 3, 3, 3, 1, 2, 3, 3, 3, 1, 3, 3, 3, 3, 3, 3, 1, 1, 1, 3, 3, 3, 3, 1, 2, 1, 3, 3, 3, 3, 3, 3, 1, 1, 1, 3, 1, 3, 3, 3, 3, 3, 3, 3, 1, 3, 3, 1, 1, 3, 3, 1, 3, 3, 3, 3, 3, 3, 3, 3, 3, 3, 3, 3, 3, 1, 3, 1, 1, 3, 1, 1, 3, 1, 1, 1, 3, 1, 3, 1, 1, 1, 1, 3, 1, 3, 1, 1, 1, 2, 3, 3, 3, 3, 3, 3, 1, 3, 1, 1, 1, 3, 3, 3, 1, 3, 3, 3, 1, 2, 1, 3, 1, 3, 3, 3, 3, 3, 3, 3, 3, 3, 3, 1, 3, 3, 3, 1, 1, 3, 3, 3, 1, 1, 1, 3, 3, 1, 1, 1, 1, 1, 1, 1, 1, 3, 3, 3, 1, 3, 3, 3, 1, 1, 3, 3, 1, 3, 3, 3, 3, 3, 3, 1, 3, 3, 1, 3, 2, 3, 3, 1, 3, 3, 3, 1, 3, 3, 1, 1, 3, 3, 1, 1, 3, 3, 1, 3, 1, 3, 2, 2, 1, 3, 1, 3, 1, 1, 1, 3, 3, 3, 1, 3, 3, 1, 1, 1, 2, 1, 2, 3, 1, 1, 3, 3, 1, 1, 3, 3, 1, 3, 1, 1, 1, 1, 1, 1, 1, 3, 3, 3, 1, 3, 1, 3, 1, 3, 3, 3, 1, 1, 3, 1, 1, 1, 3, 3, 3, 3, 3, 3, 1, 1, 3, 3, 1, 3, 3, 3, 1, 3, 3, 3, 3, 1, 1, 3, 1, 1, 1, 1, 1, 1, 3, 1, 3, 3, 1, 1, 3, 3, 1, 3, 1, 1, 1, 1, 1, 3, 3, 1, 1, 3, 2, 3, 3, 3, 3, 3, 3, 3, 3, 3, 3, 3, 3, 3, 1, 3, 3, 3, 1, 1, 3, 3, 3, 3, 3, 2, 1, 1, 1, 1, 1, 1, 3, 2, 1, 1, 3, 3, 1, 1, 3, 3, 3, 3, 1, 1, 3, 3, 3, 3, 1, 3, 1, 1, 1, 1, 3, 1, 1, 3, 3, 3, 3, 3, 3, 3, 3, 3, 1, 3, 1, 3, 3, 1, 1, 1, 3, 2, 2, 1, 1, 3, 3, 1, 3, 1, 3, 3, 3, 3, 3, 3, 3, 3, 3, 1, 1, 1, 3, 3, 1, 1, 1, 1, 1, 1, 1, 1, 3, 3, 1, 3, 3, 3, 1, 3, 1, 3, 3, 3, 3, 1, 3, 3, 3, 1, 3, 3, 3, 3, 3, 3, 3, 3, 3, 3, 1, 2, 3, 3, 3, 1, 3, 1, 3, 1, 3, 3, 3, 2, 3, 1, 3, 3, 3, 3, 1, 3, 1, 1, 3, 1, 1, 1, 1, 3, 3, 3, 3, 3, 3, 3, 3, 3, 3, 1, 3, 3, 1, 1, 3, 3, 3, 3, 3, 1, 1, 1, 3, 1, 1, 1, 3, 3, 3, 3, 3, 1, 1, 3, 2, 1, 3, 3, 3, 3, 3, 3, 3, 3, 1, 1, 3, 3, 3, 2, 1, 3, 3, 3, 1, 1, 3, 3, 3, 3, 2, 1, 1, 3, 3, 1, 1, 1, 1, 3, 1, 3, 3, 3, 3, 3, 3, 1, 3, 3, 3, 1, 2, 3, 3, 3, 3, 3, 3, 3, 3, 3, 3, 3, 3, 3, 3, 3, 3, 1, 3, 3, 1, 3, 3, 2, 1, 1, 1, 3, 2, 3, 3, 1, 1, 2, 1, 1, 3, 3, 1, 2, 1, 3, 3, 1, 1, 3, 3, 1, 1, 3, 3, 3, 3, 3, 3, 3, 3, 3, 1, 1, 3, 3, 3, 1, 3, 1, 1, 1, 1, 3, 1, 1, 1, 1, 1, 3, 3, 3, 3, 3, 3, 1, 2, 3, 3, 1, 1, 1, 3, 3, 3, 3, 3, 3, 3, 3, 3, 3, 3, 3, 3, 3, 3, 3, 3, 3, 3, 3, 2, 1, 3, 3, 1, 1, 1, 1, 3, 1, 3, 2, 2, 1, 1, 3, 3, 3, 3, 3, 3, 1, 1, 1, 1, 3, 1, 1, 3, 1, 3, 3, 3, 3, 3, 1, 1, 3, 3, 1, 1, 3, 1, 3, 3, 1, 1, 1, 3, 1, 3, 3, 1, 3, 3, 1, 3, 3, 3, 1, 3, 3, 1, 3, 3, 3, 3, 3, 3, 3, 1, 3, 3, 3, 1, 1, 3, 1, 1, 3, 1, 3, 1, 1, 1, 3, 3, 3, 3, 3, 3, 1, 1, 3, 3, 3, 3, 3, 3, 3, 1, 1, 3, 3, 3, 3, 3, 3, 1, 3, 3, 3, 3, 3, 3, 1, 3, 3, 3, 1, 3, 3, 1, 3, 3, 1, 1, 1, 1, 2, 1, 3, 3, 3, 3, 3, 2, 2, 1, 3, 3, 3, 3, 3, 3, 3, 3, 1, 3, 3, 3, 3, 3, 3, 3, 3, 3, 3, 3, 3, 3, 1, 1, 3, 3, 3, 1, 1, 1, 1, 1, 1, 3, 3, 3, 3, 1, 3, 3, 3, 3, 3, 1, 3, 3, 1, 3, 1, 2, 3, 3, 3, 1, 3, 1, 1, 3, 3, 3, 3, 3, 3, 3, 3, 3, 3, 3, 3, 3, 1, 3, 1, 1, 1, 1, 3, 3, 3, 3, 3, 1, 3, 3, 3, 3, 1, 1, 1, 1, 3, 3, 3, 1, 3, 3, 3, 3, 1, 1, 1, 3, 3, 3, 3, 3, 1, 3, 1, 3, 3, 3, 3, 3, 3, 1, 3, 3, 1, 1, 3, 1, 3, 1, 3, 3, 1, 3, 3, 2, 3, 3, 3, 3, 1, 3, 3, 3, 3, 3, 3, 1, 1, 3, 3, 3, 3, 1, 3, 1, 3, 3, 1, 3, 3, 2, 1, 3, 3, 3, 3, 1, 3, 3, 1, 3, 1, 1, 1, 3, 3, 3, 3, 1, 1, 3, 1, 3, 3, 3, 1, 3, 1, 1, 2, 3, 1, 2, 3, 3, 3, 3, 3, 3, 1, 2, 1, 3, 3, 1, 1, 3, 1, 1, 1, 1, 3, 3, 1, 3, 3, 3, 1, 3, 1, 3, 3, 3, 3, 2, 1, 3, 1, 3, 1, 3, 3, 3, 1, 1, 3, 3, 3, 3, 3, 1, 1, 3, 2, 3, 1, 1, 1, 1, 1, 3, 1, 3, 1, 1, 3, 1, 1, 3, 3, 3, 3, 3, 2, 3, 3, 3, 3, 3, 3, 3, 3, 1, 3, 3, 1, 3, 3, 1, 3, 3, 3, 3, 3, 1, 1, 1, 3, 3, 1, 1, 3, 3, 3, 3, 1, 1, 3, 3, 2, 3, 1, 3, 3, 1, 3, 3, 3, 1, 3, 1, 3, 3, 3, 3, 1, 1, 1, 3, 2, 1, 1, 3, 3, 1, 1, 3, 3, 1, 3, 1, 3, 3, 1, 3, 3, 1, 1, 3, 3, 1, 3, 1, 3, 3, 1, 2, 3, 3, 3, 3, 1, 1, 3, 3, 1, 1, 1, 1, 1, 3, 3, 2, 3, 1, 3, 3, 3, 3, 3, 3, 2, 3, 3, 3, 3, 3, 1, 3, 3, 1, 1, 3, 3, 3, 3, 1, 3, 3, 3, 1, 3, 1, 3, 3, 3, 3, 1, 1, 1, 1, 1, 3, 3, 1, 3, 3, 3, 3, 3, 3, 3, 3, 3, 1, 3, 1, 3, 3, 1, 3, 1, 3, 3, 2, 1, 1, 3, 3, 3, 3, 3, 3, 3, 3, 1, 3, 1, 1, 1, 1, 1, 3, 3, 1, 3, 1, 1, 1, 1, 1, 3, 1, 3, 1, 3, 1, 1, 1, 1, 1, 1, 1, 2, 1, 1, 3, 3, 1, 3, 3, 3, 3, 3, 3, 3, 3, 3, 3, 3, 1, 3, 1, 3, 3, 3, 3, 1, 3, 3, 3, 1, 3, 1, 2, 3, 1, 1, 3, 3, 3, 1, 3, 1, 3, 3, 3, 1, 3, 1, 3, 3, 3, 3, 1, 1, 3, 1, 3, 3, 3, 1, 1, 3, 3, 3, 3, 3, 1, 1, 3, 1, 3, 3, 3, 3, 3, 3, 3, 3, 3, 1, 1, 1, 1, 3, 2, 1, 1, 1, 3, 3, 3, 3, 3, 3, 3, 3, 2, 3, 3, 1, 3, 3, 1, 3, 3, 3, 3, 1, 3, 3, 1, 1, 1, 1, 1, 1, 3, 3, 3, 3, 3, 3, 2, 1, 3, 3, 3, 3, 3, 1, 1, 3, 3, 3, 3, 3, 1, 1, 3, 3, 3, 3, 3, 3, 1, 3, 1, 1, 1, 1, 1, 1, 1, 3, 1, 1, 1, 1, 1, 1, 1, 3, 3, 3, 3, 1, 3, 3, 3, 3, 1, 3, 3, 3, 3, 1, 1, 2, 1, 3, 3, 1, 1, 3, 3, 1, 3, 3, 3, 3, 3, 1, 1, 3, 3, 3, 3, 1, 1, 3, 3, 3, 2, 3, 3, 3, 1, 1, 1, 1, 3, 1, 3, 1, 3, 3, 3, 1, 3, 3, 1, 3, 1, 3, 3, 3, 3, 1, 1, 1, 3, 1, 3, 3, 1, 2, 1, 1, 3, 3, 1, 2, 1, 1, 1, 3, 2, 1, 3, 1, 1, 1, 1, 1, 2, 1, 1, 3, 3, 3, 3, 1, 1, 1, 3, 3, 3, 1, 1, 2, 3, 1, 2, 1, 1, 1, 1, 3, 1, 3, 2, 1, 3, 3, 1, 3, 1, 1, 3, 3, 3, 3, 3, 1, 3, 1, 3, 1, 1, 3, 3, 1, 3, 1, 1, 1, 3, 1, 3, 1, 3, 1, 1, 1, 1, 1, 3, 3, 1, 3, 1, 3, 1, 1, 3, 3, 1, 1, 1, 2, 1, 1, 3, 3, 3, 2, 3, 3, 1, 1, 3, 3, 1, 1, 1, 3, 1, 1, 3, 3, 3, 1, 1, 1, 1, 1, 3, 1, 1, 1, 1, 1, 3, 1, 1, 1, 1, 3, 3, 3, 3, 3, 1, 3, 1, 3, 1, 3, 3, 3, 1, 3, 1, 1, 1, 3, 1, 3, 3, 1, 1, 3, 1, 3, 3, 3, 1, 1, 1, 3, 1, 3, 3, 3, 1, 1, 3, 3, 3, 3, 1, 3, 3, 1, 1, 3, 1, 3, 1, 1, 3, 3, 1, 1, 1, 1, 3, 3, 3, 1, 1, 1, 1, 2, 1, 3, 1, 1, 1, 1, 1, 3, 2, 1, 3, 3, 3, 3, 3, 1, 1, 1, 1, 3, 3, 1, 3, 1, 1, 3, 3, 3, 3, 3, 3, 3, 1, 1, 3, 1, 3, 3, 3, 1, 1, 1, 1, 1, 3, 1, 3, 2, 1, 3, 1, 1, 1, 1, 3, 3, 1, 3, 1, 3, 3, 3, 1, 1, 1, 3, 1, 3, 3, 1, 2, 1, 3, 3, 3, 3, 3, 3, 3, 3, 1, 1, 3, 1, 3, 3, 2, 2, 1, 3, 1, 3, 1, 1, 3, 1, 1, 1, 1, 1, 3, 3, 3, 3, 3, 1, 1, 3, 3, 1, 1, 1, 2, 3, 3, 1, 1, 3, 1, 1, 1, 3, 1, 3, 1, 1, 1, 1, 1, 1, 1, 3, 1, 1, 1, 1, 1, 1, 3, 1, 1, 3, 3, 3, 1, 1, 3, 1, 3, 1, 1, 1, 3, 1, 1, 1, 3, 1, 3, 3, 3, 3, 3, 1, 1, 1, 3, 1, 3, 3, 3, 3, 1, 3, 1, 1, 1, 3, 1, 1, 3, 3, 3, 1, 1, 3, 1, 3, 1, 3, 1, 1, 1, 3, 1, 3, 3, 1, 1, 3, 1, 1, 2, 1, 1, 1, 1, 1, 1, 3, 3, 3, 3, 1, 1, 3, 3, 3, 1, 3, 1, 1, 1, 1, 3, 3, 1, 1, 3, 3, 1, 3, 1, 1, 1, 3, 1, 1, 1, 3, 1, 1, 1, 1, 3, 1, 3, 1, 1, 3, 3, 1, 1, 1, 1, 1, 1, 3, 3, 3, 1, 3, 3, 1, 1, 1, 1, 1, 1, 1, 1, 1, 1, 1, 1, 3, 1, 1, 1, 1, 3, 1, 3, 3, 3, 1, 3, 3, 1, 3, 3, 1, 1, 1, 1, 3, 1, 1, 1, 3, 3, 1, 3, 3, 1, 3, 3, 3, 1, 3, 3, 1, 1, 1, 3, 1, 3, 3, 1, 1, 1, 3, 3, 3, 3, 3, 2, 3, 1, 3, 2, 1, 1, 3, 1, 1, 1, 3, 1, 1, 3, 1, 1, 1, 3, 1, 3, 1, 1, 1, 1, 1, 3, 3, 1, 3, 1, 3, 1, 3, 1, 1, 1, 1, 3, 1, 3, 3, 3, 3, 3, 1, 3, 1, 1, 3, 1, 1, 1, 1, 3, 3, 1, 1, 1, 1, 3, 1, 3, 3, 1, 1, 1, 1, 1, 3, 3, 3, 3, 1, 1, 1, 3, 1, 1, 1, 1, 3, 1, 1, 1, 1, 3, 3, 1, 1, 1, 1, 1, 3, 1, 3, 3, 3, 3, 1, 3, 1, 3, 3, 3, 3, 1, 1, 1, 1, 1, 3, 1, 3, 1, 3, 2, 3, 1, 1, 1, 3, 3, 3, 3, 3, 3, 3, 3, 1, 1, 1, 1, 3, 1, 1, 3, 1, 3, 1, 1, 1, 1, 1, 1, 1, 3, 3, 3, 1, 1, 1, 3, 3, 3, 3, 3, 3, 1, 3, 1, 3, 1, 1, 1, 1, 3, 1, 3, 1, 3, 3, 3, 3, 1, 3, 1, 1, 1, 2, 3, 3, 1, 1, 3, 1, 1, 3, 1, 1, 1, 1, 3, 1, 3, 1, 1, 3, 1, 1, 1, 3, 1, 3, 1, 1, 3, 1, 3, 3, 1, 3, 3, 1, 1, 3, 3, 3, 3, 1, 1, 1, 3, 1, 1, 1, 3, 3, 3, 1, 3, 1, 1, 3, 1, 1, 1, 1, 1, 3, 1, 3, 3, 1, 3, 3, 1, 1, 1, 1, 1, 3, 1, 1, 1, 1, 1, 3, 1, 3, 3, 1, 1, 1, 1, 1, 2, 1, 1, 1, 3, 1, 3, 3, 1, 1, 1, 1, 1, 3, 1, 3, 3, 1, 1, 1, 1, 1, 1, 1, 3, 3, 3, 1, 1, 1, 1, 3, 1, 1, 1, 3, 3, 1, 3, 3, 3, 1, 1, 3, 1, 1, 1, 3, 1, 3, 1, 1, 3, 1, 1, 1, 3, 3, 1, 3, 1, 1, 2, 2, 1, 1, 1, 1, 1, 3, 3, 1, 1, 2, 1, 3, 1, 1, 1, 3, 3, 3, 1, 3, 3, 3, 3, 1, 3, 3, 3, 3, 1, 3, 1, 1, 3, 3, 3, 1, 3, 1, 1, 3, 1, 3, 1, 1, 1, 3, 1, 1, 2, 2, 3, 3, 1, 3, 1, 1, 3, 1, 1, 1, 3, 1, 3, 3, 1, 3, 1, 1, 3, 1, 2, 1, 1, 3, 3, 3, 3, 2, 1, 1, 1, 3, 3, 1, 1, 1, 1, 3, 1, 1, 1, 1, 1, 1, 1, 1, 1, 1, 3, 3, 1, 3, 1, 1, 1, 1, 1, 1, 3, 3, 3, 3, 1, 1, 1, 1, 3, 1, 3, 1, 3, 3, 3, 1, 1, 1, 1, 1, 3, 1, 3, 3, 3, 1, 3, 3, 3, 1, 1, 1, 1, 1, 3, 3, 1, 1, 1, 1, 3, 1, 3, 3, 3, 1, 1, 3, 3, 3, 1, 1, 3, 1, 1, 1, 1, 3, 3, 1, 1, 3, 1, 1, 3, 3, 3, 1, 3, 3, 1, 3, 3, 3, 1, 1, 2, 1, 1, 3, 1, 3, 3, 3, 1, 3, 1, 1, 2, 3, 3, 3, 3, 3, 3, 1, 3, 3, 1, 1, 3, 3, 3, 1, 1, 1, 1, 3, 1, 3, 1, 1, 1, 3, 1, 1, 3, 3, 1, 1, 3, 1, 1, 1, 3, 3, 3, 3, 1, 1, 1, 1, 1, 1, 1, 3, 1, 1, 3, 3, 3, 3, 1, 3, 3, 3, 3, 3, 3, 3, 1, 1, 3, 1, 1, 1, 1, 1, 3, 3, 1, 3, 1, 3, 3, 1, 3, 3, 3, 3, 3, 1, 3, 1, 3, 3, 3, 3, 1, 1, 1, 3, 1, 3, 1, 1, 3, 1, 1, 3, 3, 3, 1, 3, 3, 1, 3, 3, 3, 1, 1, 1, 3, 3, 1, 1, 1, 3, 3, 1, 2, 1, 3, 3, 1, 1, 1, 1, 3, 1, 1, 1, 1, 3, 1, 1, 1, 3, 3, 1, 1, 1, 3, 3, 1, 1, 1, 1, 1, 1, 1, 3, 3, 1, 3, 1, 3, 1, 3, 3, 3, 3, 1, 1, 1, 1, 1, 2, 3, 1, 1, 1, 1, 1, 1, 1, 1, 1, 1, 2, 1, 1, 1, 1, 1, 1, 1, 3, 1, 3, 1, 2, 3, 3, 3, 1, 1, 3, 3, 3, 3, 3, 1, 3, 1, 1, 3, 1, 3, 3, 3, 1, 3, 1, 1, 1, 3, 1, 1, 1, 1, 1, 3, 3, 3, 3, 1, 1, 3, 3, 3, 1, 1, 1, 1, 1, 3, 3, 3, 3, 3, 3, 1, 3, 3, 3, 3, 1, 1, 3, 3, 1, 3, 3, 1, 3, 1, 1, 1, 3, 1, 3, 3, 2, 1, 2, 1, 1, 1, 1, 1, 3, 1, 3, 3, 1, 1, 1, 1, 1, 1, 1, 3, 1, 1, 3, 1, 3, 1, 1, 1, 3, 3, 1, 1, 1, 1, 3, 3, 3, 1, 3, 3, 1, 3, 3, 1, 3, 1, 3, 1, 3, 3, 1, 1, 3, 3, 3, 3, 1, 3, 3, 3, 3, 1, 1, 1, 1, 1, 1, 1, 3, 3, 3, 3, 3, 3, 3, 1, 1, 1, 3, 3, 1, 1, 3, 3, 1, 3, 3, 1, 1, 3, 1, 3, 3, 1, 1, 3, 1, 3, 1, 3, 3, 3, 3, 1, 1, 1, 1, 1, 3, 1, 3, 1, 1, 1, 3, 1, 3, 3, 1, 1, 3, 3, 3, 3, 1, 1, 3, 1, 1, 1, 3, 1, 3, 3, 3, 3, 3, 3, 1, 1, 3, 3, 3, 3, 3, 3, 3, 1, 1, 3, 3, 3, 3, 3, 1, 1, 3, 1, 1, 1, 1, 1, 1, 1, 1, 3, 3, 1, 1, 3, 1, 1, 1, 1, 3, 1, 3, 1, 3, 3, 3, 3, 1, 3, 3, 3, 3, 3, 1, 3, 1, 3, 1, 3, 3, 1, 3, 1, 3, 2, 3, 1, 3, 1, 3, 1, 1, 3, 3, 2, 1, 1, 1, 3, 3, 1, 3, 1, 1, 3, 3, 1, 3, 3, 3, 3, 1, 1, 1, 1, 1, 1, 2, 3, 3, 3, 2, 3, 1, 1, 3, 1, 1, 1, 1, 1, 1, 1, 1, 1, 1, 3, 3, 1, 1, 1, 1, 1, 1, 1, 1, 3, 1, 1, 1, 1, 2, 3, 1, 1, 1, 1, 1, 1, 3, 1, 3, 3, 3, 2, 1, 1, 3, 3, 3, 3, 3, 1, 1, 3, 1, 1, 3, 3, 3, 3, 3, 3, 1, 1, 3, 3, 1, 1, 1, 1, 3, 1, 1, 1, 1, 1, 1, 1, 1, 1, 3, 1, 1, 1, 3, 1, 3, 3, 1, 3, 1, 2, 3, 1, 3, 1, 3, 1, 3, 3, 3, 1, 1, 1, 1, 1, 3, 3, 1, 1, 1, 1, 1, 1, 3, 1, 2, 3, 3, 1, 1, 1, 1, 3, 1, 3, 1, 1, 3, 3, 3, 1, 1, 1, 1, 3, 3, 1, 1, 3, 1, 3, 3, 3, 3, 1, 3, 3, 1, 2, 3, 3, 1, 1, 1, 3, 3, 3, 3, 3, 3, 1, 3, 1, 1, 1, 1, 1, 1, 1, 1, 1, 1, 1, 1, 3, 3, 1, 3, 1, 1, 2, 3, 3, 1, 3, 3, 3, 1, 1, 1, 3, 1, 1, 1, 3, 3, 3, 3, 1, 1, 1, 1, 1, 3, 1, 1, 1, 1, 3, 2, 1, 1, 1, 1, 3, 3, 1, 3, 3, 3, 3, 1, 1, 3, 3, 1, 1, 3, 1, 1, 1, 1, 3, 1, 3, 3, 1, 3, 3, 3, 3, 3, 1, 1, 1, 1, 3, 3, 3, 1, 1, 1, 1, 1, 1, 1, 1, 1, 1, 1, 1, 1, 1, 1, 3, 3, 1, 1, 3, 1, 3, 1, 1, 1, 3, 1, 3, 3, 3, 1, 3, 1, 1, 1, 3, 1, 1, 3, 1, 3, 1, 1, 3, 1, 1, 1, 3, 3, 1, 1, 1, 1, 1, 1, 3, 1, 3, 3, 1, 3, 3, 3, 3, 1, 3, 3, 3, 3, 3, 3, 1, 1, 1, 1, 1, 3, 1, 1, 3, 1, 3, 1, 1, 3, 3, 3, 1, 3, 1, 3, 3, 1, 3, 1, 1, 1, 1, 1, 1, 3, 1, 3, 1, 1, 1, 1, 3, 1, 3, 3, 3, 1, 3, 3, 1, 1, 3, 3, 1, 1, 1, 1, 3, 1, 3, 1, 1, 3, 3, 3, 1, 1, 1, 1, 1, 3, 1, 1, 3, 3, 3, 3, 1, 1, 1, 1, 3, 1, 3, 1, 1, 1, 1, 3, 1, 1, 3, 1, 1, 1, 1, 3, 1, 3, 3, 2, 2, 3, 1, 3, 3, 3, 1, 1, 3, 1, 1, 3, 3, 3, 3, 3, 1, 1, 1, 3, 1, 3, 1, 1, 1, 3, 3, 3, 3, 3, 3, 3, 1, 3, 1, 1, 1, 1, 1, 1, 3, 3, 1, 1, 3, 3, 1, 1, 3, 3, 2, 1, 1, 1, 3, 3, 3, 2, 3, 1, 1, 1, 1, 1, 1, 3, 3, 1, 3, 1, 1, 3, 1, 1, 3, 1, 3, 1, 1, 1, 1, 1, 1, 1, 3, 3, 3, 1, 3, 1, 1, 2, 1, 3, 1, 1, 1, 1, 1, 3, 3, 1, 1, 3, 2, 1, 3, 3, 1, 1, 1, 1, 1, 1, 1, 1, 1, 1, 1, 1, 3, 1, 2, 1, 3, 1, 1, 3, 1, 1, 1, 1, 1, 1, 1, 1, 3, 3, 3, 1, 3, 3, 1, 3, 3, 3, 3, 3, 1, 1, 3, 1, 1, 1, 1, 1, 1, 1, 1, 1, 1, 1, 1, 3, 1, 1, 3, 1, 3, 3, 3, 3, 1, 3, 3, 3, 3, 1, 1, 1, 1, 1, 3, 1, 3, 3, 1, 3, 2, 3, 3, 3, 1, 1, 3, 1, 1, 1, 1, 3, 3, 3, 2, 1, 3, 3, 3, 3, 3, 1, 1, 1, 3, 1, 1, 3, 3, 1, 1, 3, 1, 3, 2, 1, 1, 1, 3, 3, 3, 2, 1, 3, 3, 2, 3, 3, 1, 1, 1, 3, 1, 1, 1, 3, 1, 3, 3, 1, 1, 3, 1, 1, 3, 1, 3, 1, 3, 3, 1, 1, 1, 1, 1, 1, 1, 1, 1, 3, 1, 3, 3, 3, 1, 1, 1, 3, 1, 3, 3, 3, 3, 3, 1, 1, 1, 1, 1, 1, 1, 1, 1, 1, 1, 3, 1, 1, 1, 3, 3, 1, 3, 1, 1, 1, 1, 1, 1, 2, 1, 1, 1, 3, 1, 1, 1, 1, 3, 1, 1, 3, 3, 1, 3, 3, 1, 1, 3, 3, 1, 1, 1, 1, 1, 1, 1, 1, 1, 1, 1, 1, 1, 3, 2, 1, 1, 3, 3, 1, 3, 3, 3, 3, 1, 3, 3, 1, 3, 1, 1, 3, 3, 3, 3, 1, 3, 3, 1, 3, 1, 3, 3, 3, 1, 3, 1, 1, 3, 1, 1, 1, 3, 1, 3, 3, 3, 3, 3, 3, 1, 1, 1, 1, 3, 1, 1, 3, 1, 3, 3, 1, 1, 3, 1, 1, 3, 2, 1, 1, 1, 3, 1, 1, 3, 1, 1, 2, 3, 1, 3, 1, 1, 1, 1, 1, 1, 1, 1, 3, 1, 2, 3, 1, 3, 1, 1, 3, 1, 3, 3, 3, 1, 3, 1, 1, 1, 3, 1, 3, 3, 3, 1, 3, 3, 3, 3, 3, 1, 1, 1, 3, 1, 1, 1, 1, 1, 1, 1, 1, 1, 1, 1, 3, 2, 3, 1, 1, 3, 1, 1, 3, 3, 1, 3, 3, 3, 3, 1, 3, 3, 3, 3, 3, 1, 1, 1, 1, 3, 3, 3, 1, 1, 1, 3, 1, 1, 2, 1, 2, 3, 3, 3, 1, 3, 3, 1, 1, 1, 3, 3, 2, 3, 3, 3, 1, 3, 1, 1, 3, 1, 2, 1, 1, 1, 1, 1, 1, 1, 1, 1, 1, 3, 1, 1, 1, 1, 3, 1, 3, 3, 3, 3, 1, 3, 1, 3, 1, 3, 1, 1, 3, 1, 1, 3, 1, 3, 1, 1, 3, 1, 3, 3, 1, 3, 1, 1, 1, 1, 1, 1, 1, 3, 1, 3, 1, 3, 1, 1, 1, 3, 3, 3, 3, 3, 1, 1, 3, 1, 1, 1, 1, 1, 1, 3, 1, 1, 3, 1, 1, 3, 1, 3, 1, 3, 3, 2, 3, 1, 1, 3, 1, 1, 1, 1, 1, 3, 3, 3, 1, 2, 3, 1, 1, 2, 1, 1, 1, 3, 1, 3, 2, 1, 1, 3, 3, 1, 1, 1, 3, 3, 1, 1, 1, 1, 3, 1, 1, 1, 1, 3, 1, 1, 1, 1, 1, 1, 1, 1, 1, 1, 3, 1, 1, 3, 3, 3, 1, 3, 1, 3, 1, 3, 3, 3, 1, 1, 1, 1, 1, 3, 3, 3, 1, 1, 1, 3, 3, 1, 1, 1, 1, 1, 1, 3, 1, 1, 1, 1, 3, 3, 1, 3, 3, 1, 3, 1, 1, 3, 1, 1, 1, 3, 1, 3, 1, 1, 1, 1, 3, 1, 1, 1, 1, 1, 3, 1, 3, 1, 1, 1, 1, 1, 1, 1, 1, 1, 1, 1, 1, 1, 3, 1, 3, 1, 1, 1, 1, 1, 1, 2, 1, 1, 3, 1, 1, 1, 3, 1, 1, 3, 3, 3, 3, 1, 3, 3, 3, 3, 3, 3, 3, 3, 3, 1, 3, 3, 1, 1, 1, 3, 1, 1, 3, 3, 1, 3, 3, 3, 1, 3, 3, 3, 1, 1, 1, 1, 1, 3, 3, 1, 1, 1, 1, 1, 3, 1, 1, 1, 3, 1, 1, 3, 1, 1, 1, 3, 3, 1, 1, 1, 3, 1, 1, 1, 1, 1, 3, 1, 3, 3, 1, 3, 1, 1, 1, 1, 3, 3, 1, 1, 3, 3, 1, 1, 1, 2, 2, 1, 1, 1, 1, 3, 3, 1, 3, 3, 3, 3, 1, 3, 3, 3, 3, 1, 1, 1, 3, 3, 3, 1, 1, 1, 1, 1, 1, 1, 2, 3, 3, 3, 3, 1, 1, 1, 1, 3, 1, 3, 1, 1, 3, 1, 1, 1, 1, 1, 3, 3, 3, 1, 1, 1, 3, 1, 1, 1, 1, 3, 3, 3, 3, 2, 1, 3, 3, 3, 3, 3, 1, 1, 1, 3, 3, 1, 1, 1, 1, 1, 1, 1, 3, 1, 1, 1, 1, 1, 2, 3, 1, 1, 1, 1, 1, 1, 1, 3, 1, 3, 1, 1, 1, 1, 1, 1, 1, 1, 1, 1, 1, 1, 1, 1, 3, 3, 3, 3, 3, 3, 3, 3, 3, 3, 3, 3, 3, 3, 3, 3, 3, 3, 3, 3, 1, 3, 1, 1, 1, 1, 3, 3, 3, 3, 3, 3, 3, 1, 3, 3, 3, 3, 1, 1, 3, 3, 1, 1, 3, 3, 3, 3, 3, 1, 1, 2, 1, 1, 3, 2, 1, 3, 1, 3, 1, 1, 1, 1, 1, 1, 1, 3, 1, 3, 3, 3, 3, 3, 3, 1, 3, 3, 2, 3, 3, 3, 3, 3, 3, 3, 1, 1, 1, 2, 3, 1, 3, 1, 1, 1, 1, 1, 3, 1, 1, 1, 1, 1, 1, 1, 1, 1, 1, 1, 1, 1, 1, 1, 1, 1, 1, 3, 1, 1, 3, 3, 3, 3, 3, 1, 1, 1, 1, 1, 1, 1, 1, 3, 2, 1, 1, 1, 1, 1, 1, 3, 3, 1, 2, 1, 1, 1, 3, 3, 3, 3, 3, 1, 3, 3, 1, 1, 1, 1, 1, 3, 3, 3, 1, 3, 1, 3, 3, 3, 3, 3, 3, 3, 3, 3, 1, 1, 1, 1, 2, 3, 3, 3, 3, 3, 3, 3, 3, 3, 1, 1, 2, 3, 3, 1, 1, 1, 3, 1, 1, 1, 1, 1, 1, 1, 1, 1, 1, 1, 3, 3, 3, 1, 1, 3, 1, 3, 3, 1, 1, 3, 3, 3, 3, 3, 3, 3, 1, 1, 1, 1, 1, 1, 1, 1, 1, 1, 1, 1, 3, 1, 1, 3, 1, 1, 1, 1, 1, 1, 1, 1, 3, 3, 3, 3, 3, 3, 3, 1, 1, 2, 3, 1, 3, 1, 1, 3, 3, 3, 3, 3, 3, 1, 1, 1, 1, 1, 1, 1, 3, 3, 3, 1, 1, 3, 1, 1, 1, 1, 1, 1, 1, 1, 1, 1, 1, 1, 3, 1, 1, 1, 1, 1, 3, 1, 1, 1, 1, 1, 3, 3, 3, 3, 1, 1, 3, 2, 2, 2, 2, 2, 1, 3, 1, 3, 3, 1, 1, 3, 1, 3, 3, 3, 3, 3, 3, 1, 1, 3, 1, 1, 1, 3, 1, 3, 3, 3, 3, 3, 3, 3, 3, 3, 1, 3, 3, 3, 3, 3, 3, 3, 3, 3, 3, 3, 3, 3, 3, 3, 3, 1, 3, 3, 3, 3, 3, 1, 1, 3, 1, 1, 1, 1, 3, 1, 3, 3, 1, 3, 3, 3, 1, 3, 3, 3, 3, 3, 3, 2, 1, 1, 3, 3, 3, 1, 1, 1, 1, 1, 1, 1, 3, 3, 3, 3, 3, 3, 3, 1, 1, 1, 1, 1, 3, 3, 1, 3, 3, 3, 3, 3, 3, 3, 3, 3, 3, 3, 3, 3, 3, 3, 3, 3, 3, 3, 3, 3, 3, 3, 1, 1, 2, 1, 1, 1, 1, 1, 1, 1, 3, 2, 1, 1, 3, 1, 1, 3, 1, 1, 1, 2, 3, 3, 3, 3, 1, 1, 1, 3, 3, 3, 3, 3, 3, 3, 3, 3, 3, 3, 3, 3, 2, 3, 1, 1, 3, 3, 3, 1, 3, 1, 3, 3, 1, 1, 3, 3, 3, 3, 3, 3, 3, 3, 3, 3, 1, 1, 1, 3, 1, 1, 3, 3, 3, 3, 3, 3, 3, 3, 3, 1, 1, 3, 3, 3, 3, 1, 1, 3, 2, 1, 3, 1, 3, 1, 1, 1, 3, 1, 1, 1, 1, 1, 1, 2, 1, 1, 1, 1, 1, 3, 1, 3, 3, 3, 3, 3, 3, 3, 3, 1, 1, 1, 1, 3, 1, 3, 1, 3, 1, 3, 1, 1, 3, 1, 3, 3, 3, 1, 3, 3, 3, 3, 3, 3, 3, 1, 1, 1, 1, 2, 1, 1, 1, 1, 1, 3, 1, 1, 1, 3, 1, 3, 1, 3, 1, 3, 3, 3, 1, 3, 3, 3, 3, 3, 3, 1, 1, 1, 3, 1, 1, 1, 1, 1, 1, 3, 1, 3, 1, 1, 1, 3, 1, 1, 1, 1, 1, 3, 1, 1, 3, 1, 1, 1, 1, 3, 3, 2, 1, 3, 3, 3, 3, 3, 3, 3, 1, 1, 1, 1, 2, 3, 1, 1, 1, 1, 1, 3, 1, 1, 1, 1, 1, 3, 1, 3, 3, 1, 3, 3, 3, 1, 3, 3, 3, 3, 3, 3, 3, 3, 3, 1, 1, 1, 1, 1, 1, 1, 1, 1, 1, 3, 1, 1, 1, 3, 1, 1, 1, 1, 1, 3, 1, 1, 1, 1, 1, 1, 1, 1, 1, 1, 3, 1, 1, 1, 1, 1, 1, 1, 1, 1, 1, 1, 1, 1, 1, 1, 3, 1, 3, 3, 3, 3, 1, 1, 1, 3, 3, 1, 1, 3, 1, 1, 1, 1, 3, 3, 3, 1, 3, 3, 1, 3, 3, 1, 1, 3, 1, 1, 3, 3, 3, 3, 1, 3, 1, 1, 3, 1, 1, 1, 1, 1, 1, 2, 3, 3, 3, 3, 1, 1, 1, 1, 1, 1, 1, 1, 1, 3, 1, 3, 3, 3, 1, 1, 1, 1, 3, 3, 3, 3, 1, 1, 1, 1, 1, 1, 3, 1, 3, 3, 3, 3, 3, 3, 3, 3, 3, 3, 3, 3, 3, 1, 3, 3, 1, 3, 1, 3, 3, 1, 3, 3, 1, 3, 2, 1, 1, 1, 3, 1, 1, 1, 3, 3, 3, 3, 3, 3, 3, 3, 1, 1, 1, 1, 3, 1, 3, 3, 3, 1, 1, 3, 2, 1, 1, 3, 3, 1, 1, 1, 3, 3, 3, 2, 3, 1, 1, 1, 1, 1, 1, 2, 1, 3, 1, 1, 1, 1, 1, 1, 3, 3, 1, 1, 1, 1, 1, 1, 3, 3, 3, 3, 1, 1, 3, 1, 2, 1, 2, 2, 1, 3, 3, 1, 3, 3, 3, 1, 1, 1, 1, 2, 2, 1, 1, 1, 3, 1, 1, 3, 1, 3, 3, 3, 3, 3, 1, 1, 1, 1, 3, 3, 3, 3, 3, 3, 3, 3, 3, 3, 3, 3, 3, 3, 3, 3, 3, 3, 3, 3, 3, 3, 3, 3, 3, 3, 3, 3, 3, 1, 1, 1, 1, 1, 1, 1, 1, 3, 1, 1, 1, 1, 3, 3, 3, 3, 1, 3, 2, 1, 1, 3, 3, 3, 3, 3, 1, 1, 1, 3, 3, 3, 3, 1, 3, 3, 3, 3, 3, 3, 1, 3, 1, 3, 1, 3, 1, 1, 1, 1, 1, 1, 1, 1, 1, 1, 1, 1, 1, 3, 3, 3, 3, 3, 3, 3, 3, 3, 3, 3, 3, 3, 3, 3, 3, 3, 1, 3, 3, 3, 3, 3, 3, 3, 3, 3, 3, 3, 3, 3, 3, 3, 3, 3, 3, 3, 3, 3, 3, 3, 3, 3, 3, 1, 1, 1, 3, 3, 1, 1, 1, 1, 1, 1, 1, 1, 3, 1, 1, 1, 1, 1, 1, 1, 1, 2, 2, 3, 3, 3, 3, 2, 3, 2, 1, 1, 1, 1, 1, 3, 1, 3, 3, 3, 3, 3, 1, 3, 1, 1, 1, 3, 3, 3, 1, 1, 1, 1, 1, 1, 3, 3, 1, 1, 1, 1, 1, 1, 3, 3, 1, 1, 1, 1, 3, 3, 2, 1, 3, 2, 3, 1, 1, 1, 1, 1, 3, 3, 3, 3, 1, 1, 1, 3, 3, 1, 1, 1, 1, 1, 3, 3, 1, 3, 3, 3, 3, 3, 3, 3, 3, 3, 1, 1, 1, 1, 1, 1, 1, 1, 3, 1, 1, 1, 1, 3, 3, 3, 3, 3, 1, 3, 3, 3, 1, 1, 3, 3, 1, 1, 1, 1, 1, 1, 1, 3, 3, 3, 1, 1, 1, 1, 3, 3, 3, 3, 1, 1, 3, 1, 1, 1, 1, 1, 1, 1, 1, 3, 3, 1, 1, 1, 1, 1, 1, 3, 3, 3, 3, 3, 3, 3, 3, 3, 3, 3, 3, 3, 3, 3, 3, 1, 1, 1, 2, 2, 3, 3, 3, 3, 1, 1, 3, 1, 1, 1, 1, 1, 1, 3, 1, 1, 1, 3, 3, 3, 3, 3, 3, 3, 3, 1, 3, 3, 1, 1, 1, 3, 1, 3, 3, 1, 1, 1, 3, 3, 1, 3, 3, 3, 3, 3, 3, 1, 1, 1, 1, 1, 1, 1, 3, 1, 3, 3, 1, 1, 1, 3, 3, 1, 3, 3, 1, 1, 1, 3, 3, 3, 3, 3, 3, 3, 3, 3, 3, 3, 3, 1, 1, 1, 1, 3, 3, 3, 3, 3, 3, 1, 3, 3, 1, 1, 1, 1, 3, 3, 1, 1, 2, 1, 3, 3, 1, 1, 1, 1, 3, 3, 3, 1, 3, 1, 3, 1, 1, 1, 1, 1, 1, 3, 1, 3, 3, 3, 3, 3, 3, 3, 1, 1, 3, 3, 3, 3, 3, 3, 3, 1, 1, 3, 3, 1, 3, 3, 3, 1, 1, 1, 1, 3, 3, 1, 1, 1, 1, 1, 1, 1, 1, 1, 1, 1, 3, 1, 3, 1, 1, 1, 3, 3, 3, 3, 3, 3, 3, 3, 3, 1, 1, 1, 1, 1, 3, 3, 1, 3, 3, 3, 3, 3, 3, 1, 3, 3, 3, 1, 1, 1, 3, 3, 3, 1, 3, 3, 1, 3, 3, 3, 1, 1, 1, 1, 1, 1, 1, 3, 1, 1, 1, 1, 1, 1, 1, 1, 3, 3, 3, 1, 3, 3, 1, 1, 3, 1, 1, 3, 3, 3, 3, 3, 3, 3, 3, 3, 3, 1, 1, 3, 3, 3, 3, 3, 3, 3, 3, 3, 3, 3, 3, 1, 3, 1, 1, 1, 1, 1, 1, 2, 1, 1, 1, 1, 1, 1, 3, 1, 3, 1, 1, 2, 1, 3, 3, 3, 3, 3, 3, 3, 3, 1, 1, 1, 3, 1, 1, 1, 1, 1, 3, 3, 1, 1, 1, 3, 1, 3, 1, 3, 1, 3, 1, 1, 1, 3, 1, 1, 1, 1, 1, 1, 1, 1, 1, 1, 1, 1, 1, 1, 1, 1, 1, 1, 1, 1, 1, 1, 1, 3, 3, 3, 3, 3, 1, 3, 3, 1, 3, 3, 3, 3, 3, 3, 3, 3, 3, 3, 3, 1, 3, 3, 3, 3, 3, 3, 3, 3, 3, 3, 3, 3, 3, 1, 1, 3, 3, 3, 3, 3, 3, 3, 3, 3, 3, 3, 1, 3, 1, 1, 1, 1, 1, 3, 1, 1, 1, 1, 1, 3, 1, 1, 1, 3, 2, 1, 1, 1, 1, 1, 1, 1, 1, 1, 3, 3, 3, 1, 3, 1, 1, 1, 1, 1, 1, 1, 1, 3, 3, 1, 1, 1, 1, 1, 1, 1, 1, 1, 3, 3, 3, 3, 1, 3, 1, 1, 3, 1, 1, 1, 1, 1, 1, 1, 1, 1, 1, 1, 1, 1, 1, 1, 1, 1, 1, 3, 1, 3, 1, 3, 3, 3, 3, 1, 1, 1, 1, 1, 1, 1, 1, 3, 3, 3, 1, 3, 3, 1, 1, 1, 1, 1, 1, 1, 1, 3, 3, 1, 3, 3, 3, 3, 3, 1, 3, 1, 1, 1, 3, 1, 1, 1, 1, 1, 1, 1, 1, 1, 2, 1, 1, 3, 1, 1, 1, 1, 1, 1, 1, 1, 1, 2, 1, 3, 1, 1, 1, 1, 1, 3, 3, 3, 1, 3, 2, 3, 3, 3, 3, 2, 1, 1, 3, 1, 1, 1, 1, 1, 3, 3, 1, 3, 1, 3, 3, 3, 3, 3, 1, 3, 1, 3, 1, 1, 1, 1, 1, 1, 1, 1, 1, 1, 1, 1, 3, 1, 1, 1, 1, 1, 1, 1, 1, 1, 1, 1, 1, 1, 1, 1, 1, 1, 1, 1, 1, 3, 1, 3, 3, 3, 3, 1, 3, 1, 3, 2, 3, 3, 3, 1, 1, 1, 1, 1, 3, 1, 1, 1, 1, 1, 1, 1, 1, 3, 3, 1, 1, 3, 1, 2, 3, 1, 3, 3, 3, 3, 3, 1, 1, 1, 1, 1, 3, 1, 1, 3, 3, 1, 3, 1, 1, 3, 3, 3, 3, 3, 1, 1, 3, 1, 1, 3, 3, 1, 3, 3, 3, 3, 3, 3, 3, 1, 3, 3, 3, 1, 3, 1, 3, 2, 1, 1, 1, 3, 3, 3, 1, 1, 3, 3, 3, 3, 3, 1, 1, 3, 3, 3, 3, 1, 1, 1, 3, 1, 1, 1, 3, 1, 3, 3, 1, 1, 3, 3, 1, 3, 1, 1, 3, 3, 1, 1, 3, 3, 1, 1, 1, 3, 1, 1, 1, 1, 1, 1, 1, 1, 1, 1, 1, 1, 1, 1, 1, 1, 1, 3, 1, 1, 1, 3, 1, 1, 3, 1, 1, 3, 1, 3, 1, 3, 1, 3, 1, 3, 3, 3, 3, 3, 1, 1, 1, 3, 3, 1, 1, 1, 3, 3, 3, 3, 3, 1, 1, 1, 2, 1, 3, 1, 3, 3, 1, 1, 3, 3, 3, 3, 3, 1, 1, 1, 1, 1, 1, 1, 1, 3, 1, 1, 3, 1, 1, 3, 3, 3, 3, 3, 3, 1, 1, 1, 1, 1, 3, 1, 3, 3, 3, 3, 1, 1, 1, 1, 1, 1, 1, 1, 1, 1, 1, 3, 1, 2, 1, 3, 3, 1, 3, 3, 3, 3, 1, 2, 1, 3, 3, 1, 3, 3, 3, 3, 3, 3, 3, 3, 1, 1, 1, 2, 1, 1, 1, 1, 3, 1, 1, 1, 1, 1, 3, 3, 1, 1, 3, 3, 3, 3, 1, 3, 1, 3, 1, 3, 3, 3, 3, 3, 3, 1, 1, 2, 1, 1, 1, 3, 1, 1, 1, 3, 1, 1, 1, 1, 1, 1, 3, 1, 1, 1, 1, 3, 3, 1, 1, 1, 1, 1, 3, 1, 3, 3, 3, 3, 3, 2, 2, 3, 3, 1, 3, 1, 1, 1, 1, 3, 1, 1, 1, 3, 3, 3, 2, 1, 3, 3, 3, 3, 3, 3, 3, 3, 3, 3, 1, 3, 1, 3, 3, 3, 3, 1, 1, 1, 1, 2, 3, 1, 1, 3, 1, 3, 3, 3, 1, 1, 1, 1, 1, 1, 1, 1, 1, 1, 1, 1, 3, 3, 1, 1, 1, 1, 1, 1, 3, 1, 3, 3, 1, 1, 3, 3, 3, 3, 3, 1, 1, 1, 3, 1, 1, 1, 3, 3, 3, 3, 1, 1, 1, 1, 3, 3, 1, 1, 3, 1, 1, 3, 3, 3, 3, 3, 3, 1, 3, 3, 3, 3, 3, 3, 3, 3, 3, 3, 1, 1, 1, 1, 1, 1, 1, 1, 1, 1, 1, 1, 1, 1, 1, 1, 1, 1, 1, 1, 1, 1, 1, 1, 1, 1, 1, 1, 1, 1, 1, 3, 3, 1, 1, 3, 3, 3, 2, 2, 2, 3, 3, 3, 3, 3, 3, 3, 3, 3, 3, 3, 3, 3, 3, 3, 3, 3, 3, 3, 3, 3, 3, 3, 3, 3, 1, 1, 1, 3, 1, 3, 3, 3, 1, 1, 1, 3, 3, 1, 3, 3, 1, 3, 3, 1, 3, 3, 3, 3, 3, 3, 1, 1, 1, 1, 3, 3, 1, 3, 3, 3, 3, 1, 3, 1, 1, 3, 1, 1, 1, 2, 3], \"legendgroup\": \"\", \"name\": \"\", \"showlegend\": true, \"type\": \"pie\", \"values\": [\"2\", \"2\", \"1\", \"1\", \"3\", \"2\", \"1\", \"2\", \"2\", \"2\", \"2\", \"1\", \"2\", \"3\", \"2\", \"2\", \"2\", \"2\", \"2\", \"2\", \"2\", \"2\", \"2\", \"3\", \"2\", \"2\", \"2\", \"2\", \"2\", \"2\", \"2\", \"2\", \"2\", \"2\", \"2\", \"2\", \"2\", \"2\", \"2\", \"2\", \"2\", \"2\", \"2\", \"2\", \"1\", \"1\", \"1\", \"1\", \"1\", \"2\", \"2\", \"1\", \"2\", \"2\", \"2\", \"2\", \"2\", \"2\", \"2\", \"2\", \"2\", \"1\", \"2\", \"2\", \"2\", \"2\", \"2\", \"3\", \"2\", \"2\", \"2\", \"2\", \"2\", \"2\", \"2\", \"2\", \"2\", \"2\", \"2\", \"2\", \"2\", \"2\", \"2\", \"2\", \"1\", \"2\", \"2\", \"2\", \"2\", \"2\", \"2\", \"2\", \"2\", \"3\", \"2\", \"2\", \"2\", \"2\", \"2\", \"2\", \"2\", \"2\", \"2\", \"2\", \"3\", \"3\", \"3\", \"2\", \"2\", \"2\", \"2\", \"2\", \"2\", \"2\", \"2\", \"2\", \"2\", \"1\", \"2\", \"2\", \"2\", \"2\", \"2\", \"1\", \"2\", \"2\", \"2\", \"2\", \"2\", \"2\", \"2\", \"2\", \"2\", \"2\", \"2\", \"2\", \"2\", \"2\", \"2\", \"2\", \"2\", \"2\", \"3\", \"2\", \"2\", \"2\", \"2\", \"2\", \"2\", \"2\", \"2\", \"2\", \"2\", \"2\", \"2\", \"2\", \"2\", \"2\", \"2\", \"3\", \"3\", \"3\", \"3\", \"2\", \"2\", \"2\", \"2\", \"3\", \"2\", \"2\", \"2\", \"2\", \"1\", \"2\", \"3\", \"2\", \"2\", \"2\", \"2\", \"2\", \"2\", \"2\", \"2\", \"3\", \"2\", \"2\", \"2\", \"2\", \"2\", \"2\", \"2\", \"2\", \"2\", \"1\", \"2\", \"1\", \"1\", \"2\", \"2\", \"2\", \"2\", \"2\", \"2\", \"2\", \"2\", \"2\", \"2\", \"2\", \"2\", \"2\", \"2\", \"2\", \"2\", \"2\", \"2\", \"2\", \"2\", \"2\", \"2\", \"3\", \"2\", \"2\", \"2\", \"1\", \"3\", \"3\", \"1\", \"1\", \"1\", \"1\", \"1\", \"1\", \"1\", \"1\", \"1\", \"1\", \"1\", \"1\", \"2\", \"2\", \"2\", \"2\", \"2\", \"2\", \"2\", \"1\", \"2\", \"2\", \"2\", \"2\", \"2\", \"2\", \"2\", \"2\", \"2\", \"2\", \"2\", \"2\", \"2\", \"2\", \"2\", \"2\", \"1\", \"2\", \"2\", \"2\", \"2\", \"2\", \"2\", \"2\", \"2\", \"3\", \"2\", \"2\", \"1\", \"2\", \"3\", \"3\", \"3\", \"3\", \"3\", \"2\", \"3\", \"1\", \"2\", \"2\", \"2\", \"2\", \"2\", \"2\", \"2\", \"1\", \"2\", \"2\", \"2\", \"1\", \"1\", \"1\", \"1\", \"2\", \"2\", \"2\", \"2\", \"3\", \"2\", \"2\", \"2\", \"2\", \"1\", \"2\", \"2\", \"2\", \"2\", \"2\", \"1\", \"2\", \"2\", \"2\", \"2\", \"1\", \"3\", \"3\", \"1\", \"1\", \"2\", \"2\", \"2\", \"2\", \"2\", \"2\", \"2\", \"2\", \"2\", \"2\", \"1\", \"2\", \"2\", \"2\", \"2\", \"2\", \"2\", \"2\", \"2\", \"2\", \"1\", \"2\", \"2\", \"2\", \"2\", \"2\", \"2\", \"2\", \"3\", \"2\", \"2\", \"2\", \"2\", \"3\", \"2\", \"2\", \"2\", \"2\", \"2\", \"2\", \"2\", \"2\", \"3\", \"2\", \"2\", \"2\", \"3\", \"3\", \"3\", \"3\", \"3\", \"3\", \"3\", \"3\", \"2\", \"2\", \"2\", \"2\", \"2\", \"1\", \"1\", \"2\", \"2\", \"2\", \"2\", \"2\", \"2\", \"1\", \"2\", \"1\", \"1\", \"1\", \"1\", \"1\", \"2\", \"2\", \"2\", \"2\", \"2\", \"2\", \"2\", \"2\", \"2\", \"2\", \"2\", \"2\", \"2\", \"2\", \"2\", \"2\", \"2\", \"2\", \"2\", \"2\", \"2\", \"3\", \"2\", \"2\", \"3\", \"2\", \"2\", \"3\", \"1\", \"1\", \"1\", \"1\", \"1\", \"1\", \"1\", \"1\", \"1\", \"1\", \"2\", \"3\", \"2\", \"2\", \"2\", \"2\", \"2\", \"2\", \"2\", \"2\", \"1\", \"2\", \"2\", \"1\", \"2\", \"2\", \"2\", \"2\", \"2\", \"2\", \"2\", \"2\", \"2\", \"2\", \"2\", \"2\", \"2\", \"2\", \"2\", \"2\", \"2\", \"2\", \"3\", \"2\", \"2\", \"2\", \"2\", \"2\", \"3\", \"3\", \"3\", \"2\", \"2\", \"2\", \"3\", \"3\", \"2\", \"2\", \"2\", \"2\", \"2\", \"2\", \"1\", \"2\", \"2\", \"2\", \"1\", \"2\", \"2\", \"1\", \"1\", \"1\", \"1\", \"1\", \"2\", \"2\", \"2\", \"2\", \"2\", \"2\", \"2\", \"2\", \"2\", \"2\", \"2\", \"2\", \"2\", \"2\", \"2\", \"2\", \"2\", \"2\", \"1\", \"1\", \"2\", \"1\", \"2\", \"1\", \"1\", \"1\", \"1\", \"1\", \"1\", \"1\", \"1\", \"1\", \"1\", \"1\", \"1\", \"1\", \"2\", \"1\", \"2\", \"2\", \"2\", \"2\", \"2\", \"2\", \"2\", \"2\", \"2\", \"2\", \"2\", \"2\", \"2\", \"3\", \"3\", \"2\", \"2\", \"2\", \"2\", \"2\", \"2\", \"2\", \"3\", \"2\", \"2\", \"2\", \"3\", \"2\", \"2\", \"2\", \"2\", \"2\", \"2\", \"2\", \"1\", \"2\", \"2\", \"2\", \"2\", \"2\", \"2\", \"2\", \"2\", \"2\", \"1\", \"3\", \"3\", \"3\", \"3\", \"3\", \"3\", \"2\", \"2\", \"2\", \"2\", \"1\", \"2\", \"2\", \"2\", \"2\", \"2\", \"2\", \"2\", \"1\", \"1\", \"1\", \"1\", \"1\", \"1\", \"1\", \"1\", \"2\", \"2\", \"2\", \"1\", \"2\", \"2\", \"2\", \"3\", \"2\", \"2\", \"2\", \"2\", \"2\", \"2\", \"1\", \"2\", \"3\", \"1\", \"1\", \"1\", \"1\", \"1\", \"1\", \"1\", \"1\", \"1\", \"1\", \"1\", \"1\", \"1\", \"2\", \"2\", \"2\", \"1\", \"2\", \"2\", \"2\", \"2\", \"2\", \"2\", \"2\", \"3\", \"2\", \"1\", \"2\", \"2\", \"2\", \"2\", \"2\", \"2\", \"2\", \"2\", \"2\", \"2\", \"2\", \"2\", \"2\", \"3\", \"2\", \"2\", \"2\", \"2\", \"2\", \"1\", \"1\", \"2\", \"2\", \"2\", \"2\", \"2\", \"2\", \"2\", \"1\", \"2\", \"2\", \"3\", \"3\", \"3\", \"1\", \"1\", \"2\", \"2\", \"2\", \"2\", \"2\", \"2\", \"2\", \"2\", \"2\", \"2\", \"2\", \"2\", \"2\", \"2\", \"2\", \"2\", \"2\", \"3\", \"2\", \"3\", \"2\", \"2\", \"2\", \"2\", \"3\", \"3\", \"3\", \"1\", \"2\", \"2\", \"2\", \"2\", \"2\", \"2\", \"2\", \"2\", \"2\", \"2\", \"2\", \"2\", \"2\", \"2\", \"2\", \"2\", \"2\", \"2\", \"2\", \"2\", \"2\", \"2\", \"2\", \"2\", \"2\", \"2\", \"2\", \"2\", \"2\", \"2\", \"2\", \"1\", \"1\", \"2\", \"2\", \"2\", \"2\", \"2\", \"2\", \"2\", \"3\", \"2\", \"2\", \"2\", \"2\", \"2\", \"2\", \"2\", \"2\", \"2\", \"3\", \"2\", \"2\", \"2\", \"2\", \"2\", \"2\", \"2\", \"2\", \"2\", \"1\", \"2\", \"2\", \"2\", \"2\", \"2\", \"3\", \"2\", \"2\", \"3\", \"3\", \"3\", \"3\", \"2\", \"2\", \"2\", \"2\", \"2\", \"2\", \"3\", \"2\", \"2\", \"2\", \"1\", \"3\", \"1\", \"1\", \"1\", \"1\", \"2\", \"2\", \"2\", \"2\", \"2\", \"2\", \"2\", \"3\", \"2\", \"2\", \"2\", \"2\", \"2\", \"2\", \"2\", \"2\", \"2\", \"1\", \"2\", \"2\", \"2\", \"2\", \"2\", \"2\", \"2\", \"2\", \"2\", \"2\", \"3\", \"2\", \"3\", \"2\", \"2\", \"2\", \"2\", \"2\", \"2\", \"1\", \"2\", \"2\", \"2\", \"2\", \"2\", \"2\", \"2\", \"2\", \"2\", \"2\", \"2\", \"2\", \"2\", \"2\", \"2\", \"2\", \"2\", \"2\", \"2\", \"2\", \"2\", \"3\", \"2\", \"2\", \"2\", \"2\", \"2\", \"2\", \"2\", \"2\", \"2\", \"2\", \"2\", \"1\", \"2\", \"2\", \"2\", \"2\", \"3\", \"2\", \"2\", \"2\", \"3\", \"2\", \"2\", \"2\", \"2\", \"2\", \"2\", \"2\", \"2\", \"2\", \"1\", \"1\", \"1\", \"2\", \"2\", \"2\", \"2\", \"3\", \"2\", \"2\", \"1\", \"2\", \"3\", \"2\", \"2\", \"2\", \"2\", \"1\", \"2\", \"2\", \"2\", \"1\", \"2\", \"3\", \"3\", \"2\", \"2\", \"2\", \"2\", \"2\", \"2\", \"2\", \"3\", \"2\", \"2\", \"2\", \"2\", \"2\", \"1\", \"2\", \"2\", \"2\", \"2\", \"2\", \"2\", \"2\", \"2\", \"2\", \"2\", \"3\", \"2\", \"2\", \"2\", \"2\", \"2\", \"2\", \"2\", \"3\", \"2\", \"2\", \"1\", \"2\", \"2\", \"2\", \"2\", \"2\", \"2\", \"2\", \"2\", \"2\", \"2\", \"2\", \"2\", \"2\", \"2\", \"2\", \"2\", \"2\", \"2\", \"2\", \"2\", \"2\", \"2\", \"2\", \"2\", \"2\", \"2\", \"2\", \"2\", \"2\", \"2\", \"2\", \"2\", \"2\", \"2\", \"2\", \"2\", \"2\", \"2\", \"1\", \"2\", \"2\", \"2\", \"2\", \"2\", \"2\", \"2\", \"2\", \"2\", \"2\", \"2\", \"2\", \"2\", \"2\", \"2\", \"2\", \"2\", \"2\", \"2\", \"2\", \"2\", \"2\", \"2\", \"2\", \"3\", \"1\", \"2\", \"2\", \"2\", \"2\", \"1\", \"2\", \"2\", \"2\", \"2\", \"3\", \"3\", \"3\", \"2\", \"2\", \"3\", \"2\", \"2\", \"2\", \"2\", \"2\", \"3\", \"2\", \"2\", \"2\", \"2\", \"2\", \"2\", \"2\", \"1\", \"2\", \"2\", \"3\", \"2\", \"2\", \"2\", \"2\", \"2\", \"2\", \"2\", \"1\", \"1\", \"2\", \"2\", \"2\", \"2\", \"2\", \"2\", \"2\", \"2\", \"3\", \"3\", \"2\", \"2\", \"2\", \"2\", \"2\", \"2\", \"2\", \"2\", \"2\", \"2\", \"2\", \"2\", \"2\", \"1\", \"2\", \"2\", \"2\", \"2\", \"3\", \"2\", \"2\", \"2\", \"2\", \"2\", \"2\", \"1\", \"2\", \"1\", \"2\", \"2\", \"2\", \"2\", \"2\", \"2\", \"2\", \"2\", \"2\", \"2\", \"2\", \"2\", \"2\", \"2\", \"2\", \"2\", \"2\", \"2\", \"2\", \"2\", \"2\", \"3\", \"3\", \"2\", \"2\", \"2\", \"2\", \"2\", \"2\", \"2\", \"2\", \"2\", \"2\", \"2\", \"2\", \"2\", \"2\", \"2\", \"3\", \"2\", \"2\", \"2\", \"2\", \"2\", \"2\", \"2\", \"2\", \"3\", \"2\", \"2\", \"2\", \"2\", \"2\", \"1\", \"2\", \"2\", \"2\", \"2\", \"2\", \"2\", \"2\", \"2\", \"2\", \"2\", \"2\", \"1\", \"1\", \"2\", \"2\", \"2\", \"2\", \"2\", \"2\", \"2\", \"2\", \"2\", \"2\", \"2\", \"2\", \"3\", \"2\", \"2\", \"2\", \"2\", \"2\", \"2\", \"2\", \"2\", \"2\", \"2\", \"2\", \"2\", \"2\", \"2\", \"2\", \"1\", \"2\", \"2\", \"2\", \"1\", \"2\", \"2\", \"2\", \"2\", \"2\", \"2\", \"3\", \"2\", \"3\", \"2\", \"3\", \"3\", \"3\", \"2\", \"2\", \"1\", \"2\", \"2\", \"3\", \"3\", \"1\", \"2\", \"2\", \"2\", \"2\", \"2\", \"2\", \"2\", \"2\", \"2\", \"3\", \"3\", \"2\", \"2\", \"2\", \"2\", \"2\", \"3\", \"2\", \"2\", \"2\", \"2\", \"2\", \"2\", \"2\", \"2\", \"2\", \"2\", \"2\", \"2\", \"2\", \"2\", \"3\", \"2\", \"2\", \"2\", \"2\", \"2\", \"2\", \"2\", \"2\", \"2\", \"2\", \"2\", \"2\", \"3\", \"2\", \"2\", \"2\", \"2\", \"2\", \"2\", \"3\", \"2\", \"2\", \"2\", \"1\", \"2\", \"3\", \"2\", \"2\", \"1\", \"2\", \"3\", \"2\", \"2\", \"2\", \"1\", \"2\", \"2\", \"2\", \"2\", \"2\", \"2\", \"2\", \"2\", \"2\", \"2\", \"2\", \"2\", \"2\", \"2\", \"2\", \"2\", \"2\", \"2\", \"2\", \"2\", \"2\", \"2\", \"2\", \"2\", \"2\", \"3\", \"2\", \"2\", \"2\", \"2\", \"2\", \"2\", \"2\", \"2\", \"2\", \"2\", \"2\", \"2\", \"2\", \"2\", \"2\", \"2\", \"2\", \"2\", \"2\", \"2\", \"2\", \"2\", \"2\", \"2\", \"2\", \"2\", \"2\", \"2\", \"2\", \"2\", \"2\", \"2\", \"2\", \"2\", \"1\", \"2\", \"2\", \"2\", \"3\", \"3\", \"2\", \"2\", \"2\", \"2\", \"2\", \"2\", \"2\", \"2\", \"2\", \"2\", \"2\", \"2\", \"2\", \"2\", \"2\", \"2\", \"2\", \"2\", \"2\", \"2\", \"3\", \"2\", \"2\", \"2\", \"2\", \"2\", \"2\", \"2\", \"2\", \"2\", \"2\", \"2\", \"2\", \"3\", \"2\", \"2\", \"2\", \"2\", \"1\", \"2\", \"2\", \"1\", \"2\", \"3\", \"2\", \"2\", \"2\", \"2\", \"2\", \"2\", \"2\", \"2\", \"2\", \"2\", \"2\", \"2\", \"2\", \"2\", \"3\", \"2\", \"2\", \"2\", \"3\", \"2\", \"2\", \"3\", \"3\", \"2\", \"2\", \"2\", \"2\", \"2\", \"2\", \"2\", \"2\", \"2\", \"3\", \"3\", \"3\", \"3\", \"3\", \"2\", \"2\", \"2\", \"2\", \"2\", \"2\", \"1\", \"1\", \"1\", \"1\", \"3\", \"2\", \"2\", \"2\", \"2\", \"2\", \"2\", \"2\", \"2\", \"2\", \"2\", \"2\", \"3\", \"2\", \"2\", \"3\", \"3\", \"2\", \"2\", \"2\", \"2\", \"2\", \"2\", \"2\", \"3\", \"2\", \"2\", \"2\", \"2\", \"2\", \"1\", \"2\", \"1\", \"2\", \"2\", \"3\", \"2\", \"2\", \"2\", \"2\", \"1\", \"2\", \"2\", \"2\", \"2\", \"2\", \"2\", \"2\", \"2\", \"2\", \"2\", \"2\", \"2\", \"2\", \"2\", \"2\", \"2\", \"2\", \"2\", \"2\", \"2\", \"2\", \"2\", \"2\", \"2\", \"2\", \"2\", \"2\", \"2\", \"2\", \"2\", \"2\", \"2\", \"2\", \"2\", \"2\", \"2\", \"2\", \"2\", \"2\", \"2\", \"2\", \"2\", \"2\", \"2\", \"2\", \"2\", \"2\", \"2\", \"3\", \"3\", \"3\", \"3\", \"2\", \"2\", \"2\", \"2\", \"2\", \"2\", \"2\", \"2\", \"2\", \"3\", \"2\", \"1\", \"1\", \"2\", \"3\", \"3\", \"2\", \"1\", \"1\", \"2\", \"1\", \"2\", \"2\", \"2\", \"2\", \"2\", \"2\", \"2\", \"1\", \"2\", \"2\", \"2\", \"2\", \"2\", \"2\", \"2\", \"2\", \"2\", \"2\", \"3\", \"2\", \"1\", \"2\", \"2\", \"3\", \"2\", \"2\", \"2\", \"2\", \"2\", \"2\", \"2\", \"2\", \"2\", \"1\", \"1\", \"2\", \"2\", \"3\", \"2\", \"2\", \"2\", \"2\", \"2\", \"2\", \"2\", \"2\", \"2\", \"2\", \"2\", \"2\", \"2\", \"2\", \"2\", \"2\", \"2\", \"2\", \"2\", \"2\", \"2\", \"2\", \"2\", \"2\", \"2\", \"2\", \"2\", \"2\", \"2\", \"2\", \"2\", \"2\", \"2\", \"2\", \"2\", \"2\", \"2\", \"3\", \"2\", \"2\", \"1\", \"2\", \"2\", \"2\", \"2\", \"3\", \"2\", \"2\", \"2\", \"2\", \"2\", \"2\", \"2\", \"2\", \"2\", \"2\", \"2\", \"2\", \"2\", \"2\", \"1\", \"2\", \"3\", \"2\", \"2\", \"1\", \"2\", \"2\", \"2\", \"2\", \"2\", \"2\", \"2\", \"2\", \"2\", \"2\", \"2\", \"2\", \"2\", \"2\", \"2\", \"2\", \"2\", \"2\", \"2\", \"2\", \"3\", \"2\", \"2\", \"2\", \"2\", \"3\", \"2\", \"2\", \"2\", \"2\", \"2\", \"2\", \"2\", \"2\", \"3\", \"2\", \"2\", \"2\", \"2\", \"2\", \"2\", \"2\", \"2\", \"2\", \"2\", \"2\", \"2\", \"2\", \"2\", \"2\", \"2\", \"2\", \"2\", \"2\", \"3\", \"2\", \"2\", \"2\", \"1\", \"2\", \"2\", \"2\", \"2\", \"2\", \"2\", \"2\", \"2\", \"2\", \"3\", \"2\", \"2\", \"2\", \"1\", \"2\", \"1\", \"2\", \"2\", \"2\", \"2\", \"2\", \"2\", \"2\", \"2\", \"2\", \"2\", \"2\", \"2\", \"2\", \"2\", \"1\", \"1\", \"2\", \"3\", \"2\", \"2\", \"2\", \"2\", \"2\", \"2\", \"2\", \"2\", \"2\", \"2\", \"2\", \"2\", \"2\", \"2\", \"2\", \"2\", \"3\", \"3\", \"2\", \"2\", \"2\", \"2\", \"2\", \"2\", \"2\", \"2\", \"2\", \"2\", \"2\", \"2\", \"2\", \"2\", \"2\", \"2\", \"2\", \"2\", \"2\", \"2\", \"2\", \"2\", \"2\", \"2\", \"2\", \"3\", \"2\", \"2\", \"2\", \"2\", \"2\", \"2\", \"3\", \"2\", \"2\", \"2\", \"2\", \"2\", \"2\", \"2\", \"2\", \"2\", \"2\", \"2\", \"2\", \"3\", \"2\", \"2\", \"2\", \"2\", \"2\", \"2\", \"2\", \"1\", \"3\", \"2\", \"2\", \"2\", \"2\", \"2\", \"2\", \"2\", \"2\", \"2\", \"2\", \"2\", \"2\", \"2\", \"2\", \"2\", \"2\", \"2\", \"2\", \"2\", \"2\", \"2\", \"2\", \"3\", \"2\", \"3\", \"2\", \"2\", \"2\", \"2\", \"2\", \"2\", \"3\", \"2\", \"2\", \"2\", \"2\", \"2\", \"2\", \"1\", \"2\", \"2\", \"2\", \"2\", \"2\", \"3\", \"3\", \"2\", \"2\", \"2\", \"2\", \"2\", \"2\", \"2\", \"2\", \"2\", \"3\", \"3\", \"2\", \"2\", \"2\", \"2\", \"2\", \"2\", \"2\", \"2\", \"2\", \"2\", \"2\", \"3\", \"1\", \"2\", \"2\", \"2\", \"2\", \"2\", \"2\", \"2\", \"2\", \"2\", \"2\", \"2\", \"2\", \"2\", \"2\", \"2\", \"2\", \"2\", \"2\", \"2\", \"2\", \"2\", \"2\", \"2\", \"2\", \"2\", \"2\", \"2\", \"2\", \"2\", \"2\", \"2\", \"2\", \"2\", \"2\", \"2\", \"2\", \"2\", \"2\", \"2\", \"2\", \"2\", \"2\", \"2\", \"2\", \"2\", \"2\", \"1\", \"2\", \"2\", \"2\", \"2\", \"2\", \"2\", \"2\", \"2\", \"2\", \"2\", \"2\", \"2\", \"2\", \"2\", \"3\", \"2\", \"2\", \"2\", \"2\", \"2\", \"2\", \"2\", \"2\", \"2\", \"2\", \"2\", \"2\", \"2\", \"2\", \"3\", \"2\", \"2\", \"2\", \"2\", \"2\", \"2\", \"2\", \"2\", \"2\", \"2\", \"2\", \"2\", \"2\", \"2\", \"2\", \"2\", \"2\", \"2\", \"2\", \"2\", \"2\", \"2\", \"2\", \"2\", \"2\", \"2\", \"2\", \"2\", \"2\", \"2\", \"2\", \"2\", \"2\", \"2\", \"2\", \"2\", \"2\", \"3\", \"1\", \"2\", \"2\", \"2\", \"2\", \"2\", \"2\", \"2\", \"2\", \"2\", \"3\", \"3\", \"2\", \"2\", \"2\", \"2\", \"2\", \"2\", \"2\", \"2\", \"3\", \"2\", \"2\", \"2\", \"2\", \"1\", \"2\", \"2\", \"2\", \"2\", \"2\", \"2\", \"2\", \"2\", \"2\", \"2\", \"2\", \"2\", \"2\", \"3\", \"3\", \"2\", \"2\", \"2\", \"1\", \"2\", \"2\", \"2\", \"2\", \"2\", \"2\", \"2\", \"3\", \"2\", \"2\", \"2\", \"2\", \"1\", \"2\", \"2\", \"2\", \"2\", \"2\", \"3\", \"2\", \"2\", \"2\", \"2\", \"2\", \"2\", \"2\", \"2\", \"2\", \"2\", \"2\", \"2\", \"2\", \"2\", \"2\", \"2\", \"2\", \"3\", \"2\", \"2\", \"2\", \"2\", \"2\", \"2\", \"2\", \"2\", \"2\", \"2\", \"2\", \"2\", \"2\", \"2\", \"2\", \"2\", \"2\", \"2\", \"2\", \"2\", \"2\", \"2\", \"2\", \"2\", \"2\", \"2\", \"2\", \"2\", \"2\", \"2\", \"2\", \"3\", \"1\", \"2\", \"2\", \"2\", \"2\", \"2\", \"3\", \"2\", \"2\", \"2\", \"2\", \"2\", \"2\", \"2\", \"2\", \"2\", \"2\", \"2\", \"2\", \"2\", \"2\", \"2\", \"2\", \"2\", \"2\", \"2\", \"2\", \"2\", \"2\", \"3\", \"2\", \"2\", \"2\", \"2\", \"2\", \"2\", \"2\", \"2\", \"2\", \"2\", \"2\", \"2\", \"2\", \"2\", \"2\", \"3\", \"2\", \"2\", \"3\", \"2\", \"1\", \"2\", \"2\", \"2\", \"2\", \"2\", \"2\", \"2\", \"2\", \"2\", \"2\", \"2\", \"3\", \"2\", \"2\", \"2\", \"1\", \"2\", \"2\", \"2\", \"3\", \"3\", \"2\", \"2\", \"2\", \"2\", \"2\", \"2\", \"2\", \"2\", \"2\", \"2\", \"2\", \"3\", \"2\", \"2\", \"2\", \"2\", \"2\", \"2\", \"2\", \"2\", \"2\", \"1\", \"2\", \"2\", \"2\", \"2\", \"2\", \"2\", \"2\", \"2\", \"2\", \"2\", \"2\", \"2\", \"2\", \"2\", \"2\", \"2\", \"2\", \"2\", \"2\", \"2\", \"2\", \"2\", \"2\", \"3\", \"3\", \"3\", \"2\", \"2\", \"2\", \"2\", \"2\", \"2\", \"2\", \"2\", \"2\", \"2\", \"2\", \"2\", \"2\", \"2\", \"2\", \"2\", \"1\", \"2\", \"2\", \"2\", \"2\", \"2\", \"2\", \"2\", \"3\", \"2\", \"2\", \"3\", \"3\", \"2\", \"2\", \"2\", \"2\", \"1\", \"2\", \"2\", \"1\", \"2\", \"2\", \"2\", \"2\", \"2\", \"2\", \"1\", \"2\", \"3\", \"2\", \"2\", \"2\", \"2\", \"2\", \"2\", \"2\", \"2\", \"2\", \"2\", \"2\", \"2\", \"2\", \"2\", \"2\", \"2\", \"2\", \"2\", \"2\", \"2\", \"2\", \"2\", \"2\", \"2\", \"2\", \"2\", \"2\", \"1\", \"2\", \"2\", \"2\", \"2\", \"2\", \"2\", \"2\", \"1\", \"1\", \"2\", \"2\", \"2\", \"1\", \"2\", \"2\", \"2\", \"2\", \"2\", \"2\", \"2\", \"2\", \"2\", \"2\", \"2\", \"2\", \"2\", \"2\", \"2\", \"2\", \"2\", \"2\", \"2\", \"2\", \"2\", \"2\", \"1\", \"2\", \"2\", \"1\", \"2\", \"2\", \"2\", \"2\", \"2\", \"1\", \"2\", \"2\", \"2\", \"1\", \"2\", \"2\", \"2\", \"2\", \"2\", \"2\", \"2\", \"2\", \"2\", \"2\", \"2\", \"2\", \"2\", \"2\", \"2\", \"2\", \"3\", \"2\", \"2\", \"2\", \"2\", \"2\", \"1\", \"2\", \"2\", \"2\", \"2\", \"1\", \"1\", \"2\", \"2\", \"2\", \"2\", \"3\", \"2\", \"2\", \"2\", \"2\", \"2\", \"2\", \"2\", \"2\", \"2\", \"2\", \"2\", \"2\", \"2\", \"2\", \"2\", \"2\", \"2\", \"2\", \"2\", \"2\", \"2\", \"2\", \"2\", \"2\", \"2\", \"2\", \"2\", \"2\", \"2\", \"2\", \"2\", \"2\", \"3\", \"2\", \"2\", \"3\", \"2\", \"2\", \"2\", \"3\", \"2\", \"2\", \"2\", \"2\", \"2\", \"2\", \"2\", \"2\", \"2\", \"2\", \"2\", \"2\", \"2\", \"3\", \"2\", \"2\", \"2\", \"2\", \"2\", \"2\", \"2\", \"2\", \"2\", \"2\", \"2\", \"2\", \"2\", \"3\", \"2\", \"3\", \"2\", \"2\", \"2\", \"2\", \"2\", \"2\", \"2\", \"2\", \"2\", \"2\", \"2\", \"3\", \"3\", \"3\", \"3\", \"2\", \"2\", \"2\", \"2\", \"2\", \"2\", \"2\", \"2\", \"2\", \"2\", \"2\", \"2\", \"2\", \"2\", \"2\", \"2\", \"1\", \"2\", \"2\", \"2\", \"2\", \"2\", \"2\", \"2\", \"2\", \"2\", \"2\", \"2\", \"2\", \"2\", \"2\", \"2\", \"2\", \"2\", \"2\", \"2\", \"1\", \"2\", \"3\", \"2\", \"2\", \"1\", \"2\", \"2\", \"2\", \"2\", \"2\", \"2\", \"2\", \"2\", \"2\", \"2\", \"2\", \"2\", \"2\", \"2\", \"1\", \"2\", \"2\", \"2\", \"3\", \"2\", \"1\", \"2\", \"2\", \"1\", \"2\", \"2\", \"2\", \"2\", \"2\", \"2\", \"3\", \"2\", \"2\", \"2\", \"2\", \"3\", \"2\", \"2\", \"1\", \"2\", \"2\", \"2\", \"2\", \"2\", \"2\", \"2\", \"2\", \"2\", \"2\", \"2\", \"2\", \"2\", \"2\", \"3\", \"2\", \"2\", \"2\", \"3\", \"2\", \"2\", \"2\", \"2\", \"2\", \"2\", \"2\", \"2\", \"1\", \"2\", \"2\", \"2\", \"2\", \"2\", \"2\", \"2\", \"2\", \"2\", \"2\", \"2\", \"1\", \"2\", \"2\", \"2\", \"2\", \"1\", \"2\", \"2\", \"2\", \"2\", \"2\", \"2\", \"2\", \"2\", \"2\", \"2\", \"2\", \"2\", \"2\", \"2\", \"2\", \"2\", \"2\", \"2\", \"3\", \"3\", \"3\", \"2\", \"2\", \"2\", \"2\", \"2\", \"2\", \"2\", \"2\", \"2\", \"2\", \"2\", \"2\", \"2\", \"2\", \"2\", \"2\", \"2\", \"2\", \"2\", \"2\", \"2\", \"2\", \"2\", \"2\", \"2\", \"2\", \"2\", \"2\", \"2\", \"2\", \"1\", \"2\", \"1\", \"2\", \"3\", \"2\", \"1\", \"2\", \"2\", \"2\", \"2\", \"1\", \"2\", \"2\", \"3\", \"2\", \"2\", \"2\", \"1\", \"1\", \"2\", \"2\", \"2\", \"2\", \"2\", \"2\", \"2\", \"2\", \"2\", \"2\", \"2\", \"2\", \"2\", \"2\", \"2\", \"2\", \"2\", \"2\", \"2\", \"2\", \"2\", \"2\", \"2\", \"2\", \"2\", \"2\", \"2\", \"2\", \"2\", \"2\", \"2\", \"2\", \"2\", \"2\", \"2\", \"2\", \"2\", \"2\", \"2\", \"2\", \"2\", \"1\", \"2\", \"2\", \"2\", \"2\", \"2\", \"2\", \"2\", \"2\", \"1\", \"2\", \"2\", \"2\", \"2\", \"2\", \"2\", \"2\", \"2\", \"2\", \"3\", \"3\", \"2\", \"2\", \"2\", \"1\", \"2\", \"2\", \"2\", \"2\", \"2\", \"2\", \"1\", \"2\", \"2\", \"1\", \"2\", \"2\", \"2\", \"2\", \"2\", \"2\", \"2\", \"2\", \"2\", \"2\", \"2\", \"2\", \"2\", \"2\", \"2\", \"2\", \"2\", \"2\", \"2\", \"2\", \"2\", \"2\", \"2\", \"2\", \"2\", \"2\", \"1\", \"2\", \"3\", \"2\", \"2\", \"2\", \"2\", \"2\", \"2\", \"2\", \"2\", \"2\", \"2\", \"2\", \"2\", \"3\", \"2\", \"2\", \"2\", \"2\", \"2\", \"2\", \"2\", \"1\", \"2\", \"2\", \"2\", \"2\", \"2\", \"2\", \"2\", \"2\", \"2\", \"2\", \"2\", \"3\", \"1\", \"3\", \"2\", \"1\", \"2\", \"2\", \"2\", \"2\", \"2\", \"2\", \"2\", \"2\", \"2\", \"2\", \"2\", \"2\", \"2\", \"2\", \"2\", \"3\", \"2\", \"2\", \"2\", \"2\", \"2\", \"2\", \"2\", \"2\", \"1\", \"2\", \"2\", \"2\", \"2\", \"2\", \"2\", \"2\", \"2\", \"3\", \"2\", \"2\", \"2\", \"2\", \"2\", \"2\", \"2\", \"2\", \"3\", \"2\", \"2\", \"3\", \"3\", \"3\", \"3\", \"3\", \"2\", \"2\", \"2\", \"2\", \"2\", \"2\", \"1\", \"2\", \"1\", \"2\", \"2\", \"2\", \"2\", \"2\", \"2\", \"2\", \"2\", \"2\", \"2\", \"2\", \"2\", \"2\", \"2\", \"2\", \"2\", \"2\", \"2\", \"2\", \"2\", \"2\", \"2\", \"2\", \"1\", \"2\", \"2\", \"2\", \"2\", \"2\", \"2\", \"2\", \"2\", \"3\", \"2\", \"2\", \"2\", \"2\", \"2\", \"2\", \"2\", \"2\", \"2\", \"1\", \"2\", \"2\", \"2\", \"2\", \"2\", \"2\", \"2\", \"2\", \"2\", \"2\", \"2\", \"2\", \"1\", \"2\", \"2\", \"2\", \"2\", \"2\", \"2\", \"2\", \"2\", \"2\", \"2\", \"2\", \"2\", \"2\", \"2\", \"2\", \"2\", \"2\", \"2\", \"2\", \"2\", \"2\", \"3\", \"3\", \"3\", \"3\", \"2\", \"2\", \"2\", \"1\", \"1\", \"2\", \"2\", \"2\", \"2\", \"2\", \"2\", \"2\", \"2\", \"2\", \"2\", \"2\", \"3\", \"2\", \"2\", \"2\", \"1\", \"2\", \"3\", \"3\", \"2\", \"2\", \"2\", \"2\", \"2\", \"2\", \"2\", \"2\", \"2\", \"2\", \"2\", \"1\", \"2\", \"2\", \"3\", \"2\", \"2\", \"2\", \"2\", \"2\", \"2\", \"2\", \"2\", \"2\", \"2\", \"2\", \"2\", \"2\", \"2\", \"2\", \"2\", \"2\", \"2\", \"1\", \"2\", \"2\", \"2\", \"2\", \"2\", \"2\", \"2\", \"2\", \"2\", \"2\", \"1\", \"2\", \"2\", \"2\", \"2\", \"2\", \"2\", \"1\", \"3\", \"2\", \"2\", \"2\", \"2\", \"2\", \"2\", \"2\", \"3\", \"2\", \"2\", \"2\", \"2\", \"2\", \"2\", \"2\", \"2\", \"1\", \"2\", \"3\", \"2\", \"3\", \"2\", \"2\", \"2\", \"2\", \"2\", \"2\", \"2\", \"2\", \"2\", \"2\", \"2\", \"2\", \"2\", \"2\", \"2\", \"2\", \"2\", \"2\", \"2\", \"2\", \"1\", \"2\", \"2\", \"2\", \"2\", \"2\", \"3\", \"2\", \"2\", \"2\", \"3\", \"2\", \"2\", \"1\", \"2\", \"2\", \"2\", \"3\", \"2\", \"2\", \"2\", \"2\", \"2\", \"2\", \"3\", \"3\", \"3\", \"3\", \"3\", \"2\", \"2\", \"2\", \"3\", \"2\", \"1\", \"2\", \"2\", \"2\", \"2\", \"2\", \"2\", \"2\", \"2\", \"2\", \"2\", \"2\", \"2\", \"2\", \"2\", \"2\", \"2\", \"2\", \"2\", \"1\", \"2\", \"2\", \"2\", \"2\", \"2\", \"2\", \"2\", \"2\", \"2\", \"2\", \"2\", \"2\", \"2\", \"2\", \"2\", \"2\", \"2\", \"3\", \"2\", \"2\", \"2\", \"2\", \"2\", \"2\", \"2\", \"2\", \"2\", \"2\", \"2\", \"3\", \"2\", \"2\", \"2\", \"2\", \"2\", \"2\", \"2\", \"2\", \"1\", \"2\", \"2\", \"2\", \"2\", \"2\", \"2\", \"2\", \"2\", \"2\", \"1\", \"1\", \"2\", \"2\", \"2\", \"2\", \"2\", \"2\", \"2\", \"2\", \"2\", \"2\", \"2\", \"2\", \"2\", \"2\", \"2\", \"2\", \"2\", \"2\", \"2\", \"2\", \"2\", \"2\", \"2\", \"2\", \"3\", \"2\", \"2\", \"2\", \"2\", \"2\", \"3\", \"2\", \"2\", \"2\", \"1\", \"2\", \"2\", \"2\", \"3\", \"1\", \"3\", \"2\", \"2\", \"2\", \"2\", \"2\", \"2\", \"2\", \"3\", \"3\", \"2\", \"2\", \"2\", \"2\", \"2\", \"2\", \"2\", \"2\", \"2\", \"2\", \"2\", \"2\", \"2\", \"2\", \"2\", \"2\", \"2\", \"2\", \"2\", \"2\", \"2\", \"2\", \"2\", \"2\", \"3\", \"3\", \"2\", \"2\", \"2\", \"2\", \"1\", \"2\", \"2\", \"2\", \"3\", \"2\", \"2\", \"2\", \"2\", \"2\", \"2\", \"2\", \"2\", \"2\", \"2\", \"2\", \"2\", \"2\", \"2\", \"2\", \"2\", \"2\", \"2\", \"1\", \"2\", \"1\", \"2\", \"2\", \"1\", \"2\", \"2\", \"2\", \"2\", \"2\", \"2\", \"2\", \"2\", \"3\", \"2\", \"2\", \"2\", \"2\", \"2\", \"2\", \"2\", \"2\", \"2\", \"1\", \"2\", \"2\", \"1\", \"2\", \"3\", \"2\", \"2\", \"2\", \"2\", \"3\", \"2\", \"2\", \"2\", \"2\", \"2\", \"2\", \"2\", \"2\", \"2\", \"2\", \"3\", \"2\", \"2\", \"2\", \"2\", \"2\", \"2\", \"2\", \"2\", \"2\", \"1\", \"2\", \"2\", \"2\", \"2\", \"2\", \"2\", \"3\", \"2\", \"2\", \"2\", \"2\", \"2\", \"1\", \"2\", \"2\", \"2\", \"2\", \"1\", \"2\", \"2\", \"2\", \"2\", \"2\", \"2\", \"2\", \"3\", \"2\", \"2\", \"2\", \"2\", \"2\", \"2\", \"2\", \"2\", \"2\", \"2\", \"1\", \"2\", \"2\", \"2\", \"2\", \"2\", \"2\", \"2\", \"2\", \"2\", \"2\", \"2\", \"3\", \"2\", \"2\", \"2\", \"2\", \"2\", \"2\", \"2\", \"2\", \"2\", \"2\", \"1\", \"2\", \"1\", \"1\", \"2\", \"2\", \"1\", \"2\", \"2\", \"2\", \"1\", \"2\", \"1\", \"2\", \"2\", \"2\", \"2\", \"2\", \"2\", \"2\", \"2\", \"2\", \"1\", \"2\", \"2\", \"3\", \"2\", \"2\", \"2\", \"2\", \"1\", \"1\", \"2\", \"2\", \"1\", \"1\", \"2\", \"2\", \"2\", \"3\", \"2\", \"3\", \"2\", \"2\", \"2\", \"3\", \"2\", \"2\", \"1\", \"2\", \"2\", \"2\", \"2\", \"2\", \"1\", \"2\", \"2\", \"2\", \"2\", \"3\", \"2\", \"2\", \"2\", \"2\", \"2\", \"2\", \"2\", \"2\", \"1\", \"2\", \"2\", \"2\", \"2\", \"2\", \"2\", \"2\", \"2\", \"2\", \"2\", \"2\", \"3\", \"2\", \"2\", \"2\", \"2\", \"2\", \"2\", \"2\", \"2\", \"2\", \"2\", \"2\", \"2\", \"2\", \"2\", \"2\", \"2\", \"2\", \"2\", \"2\", \"2\", \"2\", \"2\", \"2\", \"2\", \"2\", \"2\", \"2\", \"2\", \"2\", \"2\", \"2\", \"3\", \"2\", \"2\", \"2\", \"2\", \"1\", \"1\", \"2\", \"2\", \"2\", \"2\", \"2\", \"1\", \"2\", \"2\", \"1\", \"2\", \"2\", \"1\", \"1\", \"1\", \"1\", \"2\", \"2\", \"2\", \"2\", \"2\", \"2\", \"1\", \"2\", \"2\", \"2\", \"2\", \"2\", \"2\", \"2\", \"2\", \"2\", \"2\", \"2\", \"2\", \"2\", \"1\", \"2\", \"2\", \"2\", \"2\", \"2\", \"2\", \"2\", \"3\", \"2\", \"2\", \"2\", \"2\", \"3\", \"2\", \"2\", \"2\", \"2\", \"2\", \"2\", \"2\", \"2\", \"2\", \"2\", \"2\", \"2\", \"1\", \"1\", \"1\", \"2\", \"2\", \"1\", \"2\", \"2\", \"2\", \"2\", \"2\", \"2\", \"2\", \"2\", \"2\", \"2\", \"1\", \"2\", \"1\", \"2\", \"2\", \"2\", \"2\", \"2\", \"2\", \"2\", \"2\", \"2\", \"2\", \"2\", \"2\", \"2\", \"2\", \"2\", \"2\", \"2\", \"2\", \"2\", \"2\", \"2\", \"2\", \"2\", \"2\", \"2\", \"2\", \"2\", \"2\", \"2\", \"2\", \"2\", \"2\", \"2\", \"2\", \"2\", \"2\", \"2\", \"2\", \"2\", \"2\", \"2\", \"2\", \"2\", \"2\", \"3\", \"2\", \"1\", \"1\", \"1\", \"1\", \"2\", \"2\", \"2\", \"2\", \"2\", \"2\", \"2\", \"2\", \"2\", \"2\", \"2\", \"1\", \"1\", \"1\", \"2\", \"1\", \"1\", \"2\", \"2\", \"1\", \"2\", \"3\", \"1\", \"2\", \"2\", \"2\", \"1\", \"2\", \"2\", \"2\", \"2\", \"1\", \"2\", \"2\", \"2\", \"2\", \"2\", \"2\", \"2\", \"2\", \"2\", \"2\", \"3\", \"1\", \"2\", \"2\", \"2\", \"2\", \"2\", \"1\", \"2\", \"2\", \"2\", \"2\", \"2\", \"2\", \"2\", \"3\", \"3\", \"2\", \"2\", \"1\", \"2\", \"2\", \"2\", \"2\", \"2\", \"2\", \"2\", \"2\", \"2\", \"2\", \"2\", \"2\", \"3\", \"2\", \"2\", \"2\", \"2\", \"2\", \"2\", \"2\", \"1\", \"2\", \"2\", \"2\", \"2\", \"2\", \"2\", \"2\", \"2\", \"2\", \"2\", \"2\", \"2\", \"2\", \"2\", \"3\", \"3\", \"2\", \"2\", \"2\", \"2\", \"2\", \"2\", \"2\", \"3\", \"2\", \"2\", \"2\", \"2\", \"2\", \"2\", \"2\", \"3\", \"2\", \"2\", \"2\", \"2\", \"2\", \"3\", \"2\", \"2\", \"2\", \"2\", \"2\", \"2\", \"1\", \"2\", \"2\", \"2\", \"1\", \"2\", \"1\", \"1\", \"1\", \"1\", \"1\", \"1\", \"1\", \"2\", \"2\", \"2\", \"2\", \"2\", \"2\", \"2\", \"2\", \"2\", \"2\", \"2\", \"2\", \"2\", \"2\", \"3\", \"2\", \"2\", \"2\", \"2\", \"2\", \"2\", \"2\", \"2\", \"2\", \"2\", \"2\", \"2\", \"2\", \"2\", \"2\", \"2\", \"2\", \"2\", \"2\", \"2\", \"2\", \"2\", \"2\", \"2\", \"2\", \"2\", \"2\", \"2\", \"2\", \"2\", \"3\", \"3\", \"3\", \"2\", \"2\", \"2\", \"2\", \"2\", \"2\", \"2\", \"2\", \"2\", \"2\", \"2\", \"2\", \"2\", \"2\", \"2\", \"2\", \"2\", \"2\", \"2\", \"2\", \"2\", \"2\", \"2\", \"2\", \"1\", \"1\", \"2\", \"2\", \"2\", \"2\", \"2\", \"2\", \"2\", \"2\", \"2\", \"2\", \"2\", \"2\", \"2\", \"2\", \"2\", \"2\", \"2\", \"2\", \"2\", \"2\", \"2\", \"2\", \"2\", \"2\", \"2\", \"2\", \"2\", \"2\", \"2\", \"2\", \"2\", \"1\", \"2\", \"2\", \"2\", \"2\", \"2\", \"2\", \"2\", \"2\", \"2\", \"1\", \"2\", \"2\", \"2\", \"1\", \"1\", \"1\", \"1\", \"1\", \"2\", \"2\", \"1\", \"2\", \"2\", \"2\", \"2\", \"2\", \"2\", \"2\", \"3\", \"2\", \"2\", \"2\", \"2\", \"2\", \"1\", \"2\", \"2\", \"2\", \"2\", \"2\", \"3\", \"2\", \"2\", \"2\", \"2\", \"2\", \"2\", \"2\", \"1\", \"2\", \"2\", \"2\", \"2\", \"2\", \"2\", \"2\", \"2\", \"2\", \"2\", \"2\", \"2\", \"2\", \"3\", \"3\", \"3\", \"2\", \"2\", \"2\", \"2\", \"2\", \"1\", \"2\", \"2\", \"2\", \"3\", \"2\", \"2\", \"2\", \"2\", \"1\", \"1\", \"2\", \"1\", \"2\", \"2\", \"2\", \"2\", \"2\", \"1\", \"2\", \"2\", \"2\", \"2\", \"2\", \"2\", \"2\", \"2\", \"2\", \"2\", \"2\", \"2\", \"2\", \"2\", \"2\", \"2\", \"2\", \"2\", \"2\", \"2\", \"1\", \"3\", \"2\", \"2\", \"2\", \"2\", \"2\", \"2\", \"2\", \"2\", \"2\", \"2\", \"2\", \"2\", \"2\", \"1\", \"1\", \"1\", \"1\", \"1\", \"1\", \"2\", \"1\", \"2\", \"2\", \"2\", \"2\", \"2\", \"2\", \"2\", \"2\", \"2\", \"2\", \"2\", \"1\", \"2\", \"2\", \"2\", \"2\", \"2\", \"2\", \"2\", \"2\", \"2\", \"2\", \"2\", \"2\", \"2\", \"2\", \"2\", \"2\", \"2\", \"2\", \"2\", \"2\", \"2\", \"2\", \"2\", \"2\", \"2\", \"2\", \"2\", \"2\", \"2\", \"2\", \"2\", \"2\", \"2\", \"1\", \"3\", \"2\", \"2\", \"2\", \"2\", \"2\", \"2\", \"2\", \"2\", \"2\", \"2\", \"2\", \"2\", \"2\", \"2\", \"2\", \"2\", \"2\", \"2\", \"2\", \"2\", \"2\", \"2\", \"2\", \"2\", \"2\", \"2\", \"2\", \"2\", \"2\", \"2\", \"2\", \"2\", \"2\", \"2\", \"2\", \"2\", \"2\", \"2\", \"2\", \"2\", \"2\", \"2\", \"2\", \"2\", \"2\", \"2\", \"2\", \"2\", \"2\", \"2\", \"2\", \"2\", \"2\", \"2\", \"2\", \"2\", \"2\", \"2\", \"2\", \"2\", \"1\", \"3\", \"2\", \"2\", \"1\", \"1\", \"1\", \"2\", \"2\", \"2\", \"2\", \"2\", \"2\", \"2\", \"1\", \"2\", \"1\", \"1\", \"1\", \"1\", \"1\", \"2\", \"2\", \"1\", \"2\", \"2\", \"2\", \"2\", \"2\", \"2\", \"2\", \"2\", \"2\", \"2\", \"2\", \"2\", \"2\", \"2\", \"2\", \"2\", \"2\", \"2\", \"2\", \"2\", \"2\", \"2\", \"2\", \"3\", \"2\", \"2\", \"2\", \"2\", \"3\", \"2\", \"2\", \"2\", \"2\", \"2\", \"2\", \"2\", \"2\", \"2\", \"2\", \"2\", \"2\", \"1\", \"1\", \"2\", \"2\", \"2\", \"2\", \"2\", \"2\", \"2\", \"2\", \"2\", \"2\", \"2\", \"2\", \"3\", \"2\", \"2\", \"2\", \"3\", \"3\", \"3\", \"3\", \"2\", \"2\", \"2\", \"2\", \"2\", \"2\", \"1\", \"2\", \"2\", \"2\", \"2\", \"2\", \"2\", \"2\", \"2\", \"2\", \"2\", \"2\", \"2\", \"2\", \"2\", \"2\", \"2\", \"2\", \"2\", \"2\", \"2\", \"2\", \"2\", \"2\", \"2\", \"2\", \"2\", \"2\", \"2\", \"2\", \"1\", \"2\", \"2\", \"2\", \"3\", \"3\", \"2\", \"2\", \"2\", \"2\", \"2\", \"2\", \"2\", \"2\", \"2\", \"2\", \"2\", \"2\", \"2\", \"1\", \"3\", \"2\", \"2\", \"1\", \"2\", \"2\", \"2\", \"2\", \"2\", \"2\", \"2\", \"1\", \"2\", \"1\", \"2\", \"1\", \"1\", \"2\", \"2\", \"2\", \"2\", \"1\", \"1\", \"1\", \"1\", \"1\", \"1\", \"1\", \"1\", \"1\", \"2\", \"1\", \"1\", \"1\", \"2\", \"2\", \"1\", \"2\", \"2\", \"2\", \"2\", \"1\", \"1\", \"1\", \"1\", \"1\", \"1\", \"1\", \"1\", \"1\", \"1\", \"1\", \"1\", \"1\", \"1\", \"1\", \"2\", \"1\", \"2\", \"1\", \"1\", \"1\", \"1\", \"1\", \"2\", \"1\", \"1\", \"1\", \"1\", \"1\", \"1\", \"1\", \"2\", \"1\", \"1\", \"1\", \"1\", \"2\", \"2\", \"2\", \"2\", \"2\", \"1\", \"2\", \"2\", \"2\", \"2\", \"2\", \"2\", \"2\", \"2\", \"1\", \"2\", \"2\", \"2\", \"2\", \"2\", \"2\", \"2\", \"1\", \"1\", \"1\", \"1\", \"1\", \"1\", \"2\", \"2\", \"1\", \"2\", \"2\", \"1\", \"2\", \"1\", \"2\", \"1\", \"1\", \"2\", \"1\", \"2\", \"2\", \"3\", \"2\", \"2\", \"2\", \"2\", \"2\", \"2\", \"2\", \"3\", \"2\", \"2\", \"2\", \"2\", \"2\", \"2\", \"2\", \"2\", \"2\", \"2\", \"2\", \"3\", \"3\", \"3\", \"2\", \"2\", \"2\", \"2\", \"2\", \"1\", \"2\", \"2\", \"2\", \"2\", \"2\", \"2\", \"2\", \"2\", \"2\", \"2\", \"1\", \"1\", \"1\", \"1\", \"1\", \"1\", \"2\", \"1\", \"1\", \"1\", \"2\", \"2\", \"2\", \"2\", \"2\", \"1\", \"2\", \"2\", \"1\", \"1\", \"1\", \"1\", \"1\", \"1\", \"1\", \"1\", \"1\", \"1\", \"1\", \"1\", \"1\", \"1\", \"1\", \"2\", \"3\", \"2\", \"2\", \"2\", \"2\", \"2\", \"3\", \"2\", \"2\", \"2\", \"2\", \"3\", \"3\", \"1\", \"1\", \"2\", \"2\", \"2\", \"1\", \"1\", \"1\", \"1\", \"2\", \"2\", \"2\", \"2\", \"2\", \"1\", \"1\", \"2\", \"1\", \"2\", \"2\", \"2\", \"2\", \"2\", \"2\", \"1\", \"2\", \"2\", \"2\", \"2\", \"3\", \"2\", \"3\", \"1\", \"1\", \"2\", \"1\", \"1\", \"1\", \"1\", \"1\", \"1\", \"1\", \"1\", \"1\", \"1\", \"1\", \"2\", \"1\", \"1\", \"1\", \"1\", \"2\", \"2\", \"2\", \"2\", \"1\", \"1\", \"1\", \"1\", \"2\", \"1\", \"2\", \"1\", \"1\", \"1\", \"1\", \"1\", \"2\", \"1\", \"2\", \"1\", \"1\", \"1\", \"1\", \"1\", \"1\", \"1\", \"1\", \"1\", \"2\", \"2\", \"2\", \"2\", \"1\", \"2\", \"2\", \"1\", \"1\", \"1\", \"3\", \"2\", \"2\", \"1\", \"1\", \"1\", \"1\", \"1\", \"1\", \"1\", \"1\", \"1\", \"1\", \"1\", \"1\", \"2\", \"1\", \"1\", \"1\", \"1\", \"1\", \"2\", \"1\", \"2\", \"2\", \"1\", \"2\", \"2\", \"2\", \"1\", \"1\", \"1\", \"1\", \"2\", \"1\", \"1\", \"1\", \"1\", \"1\", \"1\", \"1\", \"1\", \"1\", \"1\", \"2\", \"1\", \"1\", \"1\", \"1\", \"1\", \"1\", \"1\", \"1\", \"1\", \"1\", \"1\", \"1\", \"2\", \"2\", \"2\", \"3\", \"2\", \"1\", \"2\", \"2\", \"2\", \"2\", \"2\", \"3\", \"3\", \"2\", \"2\", \"2\", \"1\", \"1\", \"1\", \"1\", \"2\", \"2\", \"2\", \"2\", \"2\", \"2\", \"2\", \"1\", \"1\", \"1\", \"2\", \"2\", \"2\", \"1\", \"1\", \"1\", \"1\", \"2\", \"1\", \"1\", \"1\", \"1\", \"2\", \"2\", \"1\", \"2\", \"2\", \"2\", \"2\", \"2\", \"2\", \"2\", \"2\", \"2\", \"2\", \"2\", \"2\", \"2\", \"2\", \"2\", \"3\", \"3\", \"2\", \"3\", \"1\", \"1\", \"1\", \"1\", \"2\", \"2\", \"2\", \"2\", \"1\", \"1\", \"1\", \"2\", \"3\", \"2\", \"2\", \"1\", \"1\", \"1\", \"1\", \"1\", \"1\", \"1\", \"1\", \"1\", \"1\", \"1\", \"1\", \"1\", \"1\", \"1\", \"1\", \"1\", \"1\", \"1\", \"1\", \"1\", \"1\", \"1\", \"1\", \"2\", \"2\", \"3\", \"2\", \"2\", \"2\", \"2\", \"2\", \"2\", \"2\", \"3\", \"2\", \"2\", \"2\", \"2\", \"2\", \"2\", \"2\", \"2\", \"2\", \"2\", \"1\", \"3\", \"3\", \"2\", \"1\", \"1\", \"1\", \"2\", \"1\", \"2\", \"2\", \"3\", \"2\", \"2\", \"2\", \"1\", \"1\", \"1\", \"1\", \"1\", \"1\", \"1\", \"2\", \"3\", \"1\", \"1\", \"1\", \"1\", \"2\", \"1\", \"1\", \"1\", \"3\", \"2\", \"2\", \"2\", \"2\", \"2\", \"2\", \"2\", \"2\", \"3\", \"2\", \"3\", \"2\", \"2\", \"1\", \"2\", \"2\", \"2\", \"3\", \"2\", \"2\", \"2\", \"2\", \"2\", \"2\", \"3\", \"3\", \"2\", \"2\", \"1\", \"2\", \"3\", \"3\", \"3\", \"2\", \"1\", \"1\", \"1\", \"2\", \"2\", \"2\", \"1\", \"1\", \"1\", \"2\", \"1\", \"1\", \"3\", \"1\", \"2\", \"2\", \"2\", \"2\", \"2\", \"2\", \"2\", \"2\", \"2\", \"1\", \"1\", \"1\", \"1\", \"2\", \"1\", \"1\", \"1\", \"1\", \"1\", \"1\", \"1\", \"1\", \"1\", \"1\", \"1\", \"1\", \"2\", \"2\", \"2\", \"1\", \"1\", \"1\", \"1\", \"2\", \"1\", \"1\", \"1\", \"1\", \"1\", \"1\", \"1\", \"1\", \"1\", \"1\", \"1\", \"1\", \"1\", \"2\", \"1\", \"1\", \"1\", \"1\", \"1\", \"1\", \"2\", \"1\", \"1\", \"1\", \"1\", \"2\", \"2\", \"2\", \"3\", \"2\", \"2\", \"2\", \"2\", \"2\", \"2\", \"2\", \"2\", \"2\", \"2\", \"2\", \"2\", \"2\", \"2\", \"2\", \"2\", \"2\", \"2\", \"2\", \"3\", \"2\", \"2\", \"2\", \"2\", \"2\", \"2\", \"1\", \"1\", \"2\", \"1\", \"2\", \"2\", \"3\", \"2\", \"2\", \"1\", \"1\", \"2\", \"1\", \"1\", \"1\", \"2\", \"1\", \"2\", \"1\", \"1\", \"1\", \"3\", \"2\", \"2\", \"2\", \"2\", \"2\", \"1\", \"1\", \"2\", \"2\", \"2\", \"2\", \"2\", \"2\", \"2\", \"2\", \"2\", \"2\", \"3\", \"2\", \"2\", \"2\", \"2\", \"3\", \"1\", \"2\", \"2\", \"2\", \"3\", \"3\", \"2\", \"3\", \"3\", \"1\", \"2\", \"1\", \"1\", \"1\", \"1\", \"1\", \"1\", \"2\", \"2\", \"2\", \"2\", \"2\", \"2\", \"2\", \"2\", \"2\", \"1\", \"2\", \"2\", \"1\", \"1\", \"1\", \"1\", \"1\", \"1\", \"2\", \"2\", \"2\", \"1\", \"1\", \"1\", \"2\", \"2\", \"2\", \"2\", \"1\", \"1\", \"1\", \"2\", \"2\", \"1\", \"1\", \"1\", \"1\", \"1\", \"1\", \"1\", \"1\", \"1\", \"1\", \"2\", \"1\", \"1\", \"1\", \"1\", \"1\", \"1\", \"1\", \"1\", \"2\", \"1\", \"1\", \"1\", \"1\", \"2\", \"1\", \"2\", \"2\", \"2\", \"2\", \"1\", \"2\", \"2\", \"2\", \"2\", \"2\", \"2\", \"2\", \"2\", \"2\", \"1\", \"1\", \"1\", \"1\", \"2\", \"2\", \"2\", \"2\", \"2\", \"2\", \"2\", \"2\", \"2\", \"1\", \"1\", \"2\", \"2\", \"1\", \"1\", \"2\", \"2\", \"2\", \"2\", \"2\", \"2\", \"2\", \"2\", \"3\", \"2\", \"2\", \"2\", \"2\", \"2\", \"2\", \"2\", \"2\", \"2\", \"2\", \"2\", \"2\", \"1\", \"2\", \"2\", \"2\", \"2\", \"2\", \"2\", \"2\", \"1\", \"2\", \"1\", \"1\", \"1\", \"2\", \"2\", \"2\", \"1\", \"1\", \"1\", \"1\", \"1\", \"1\", \"1\", \"2\", \"2\", \"2\", \"2\", \"2\", \"2\", \"2\", \"2\", \"1\", \"1\", \"2\", \"2\", \"1\", \"1\", \"1\", \"1\", \"1\", \"1\", \"1\", \"2\", \"1\", \"2\", \"1\", \"1\", \"1\", \"1\", \"1\", \"1\", \"1\", \"1\", \"1\", \"1\", \"2\", \"2\", \"1\", \"1\", \"1\", \"1\", \"2\", \"1\", \"2\", \"3\", \"2\", \"2\", \"2\", \"2\", \"2\", \"2\", \"2\", \"2\", \"3\", \"2\", \"2\", \"2\", \"2\", \"2\", \"2\", \"2\", \"2\", \"2\", \"3\", \"3\", \"2\", \"2\", \"2\", \"2\", \"2\", \"1\", \"1\", \"2\", \"2\", \"2\", \"2\", \"2\", \"2\", \"1\", \"1\", \"2\", \"1\", \"1\", \"2\", \"2\", \"1\", \"1\", \"2\", \"1\", \"1\", \"2\", \"2\", \"2\", \"2\", \"2\", \"2\", \"2\", \"2\", \"2\", \"2\", \"2\", \"2\", \"2\", \"2\", \"2\", \"3\", \"3\", \"1\", \"2\", \"2\", \"1\", \"1\", \"2\", \"2\", \"1\", \"2\", \"2\", \"2\", \"2\", \"1\", \"1\", \"1\", \"1\", \"2\", \"2\", \"2\", \"1\", \"2\", \"2\", \"2\", \"2\", \"2\", \"2\", \"2\", \"2\", \"2\", \"1\", \"2\", \"1\", \"1\", \"1\", \"2\", \"2\", \"1\", \"1\", \"2\", \"3\", \"2\", \"2\", \"2\", \"2\", \"2\", \"2\", \"1\", \"2\", \"1\", \"1\", \"1\", \"2\", \"2\", \"1\", \"1\", \"1\", \"2\", \"2\", \"2\", \"2\", \"2\", \"2\", \"2\", \"1\", \"2\", \"2\", \"2\", \"2\", \"2\", \"2\", \"2\", \"1\", \"1\", \"1\", \"2\", \"2\", \"1\", \"2\", \"2\", \"1\", \"2\", \"2\", \"2\", \"2\", \"2\", \"2\", \"2\", \"3\", \"2\", \"2\", \"2\", \"2\", \"3\", \"2\", \"3\", \"2\", \"2\", \"2\", \"2\", \"2\", \"1\", \"2\", \"1\", \"1\", \"2\", \"2\", \"2\", \"2\", \"2\", \"2\", \"2\", \"2\", \"2\", \"2\", \"2\", \"2\", \"3\", \"2\", \"2\", \"2\", \"3\", \"2\", \"1\", \"2\", \"2\", \"2\", \"2\", \"2\", \"2\", \"2\", \"2\", \"2\", \"2\", \"3\", \"2\", \"2\", \"2\", \"2\", \"1\", \"2\", \"1\", \"1\", \"2\", \"1\", \"1\", \"2\", \"2\", \"2\", \"2\", \"2\", \"2\", \"2\", \"1\", \"2\", \"2\", \"2\", \"2\", \"2\", \"3\", \"2\", \"2\", \"1\", \"2\", \"2\", \"2\", \"2\", \"1\", \"1\", \"1\", \"1\", \"2\", \"2\", \"2\", \"1\", \"2\", \"2\", \"2\", \"2\", \"2\", \"2\", \"2\", \"1\", \"2\", \"1\", \"1\", \"1\", \"2\", \"1\", \"1\", \"2\", \"2\", \"2\", \"2\", \"2\", \"2\", \"2\", \"2\", \"3\", \"3\", \"1\", \"1\", \"2\", \"1\", \"2\", \"1\", \"2\", \"2\", \"2\", \"2\", \"2\", \"2\", \"2\", \"1\", \"2\", \"2\", \"2\", \"1\", \"2\", \"2\", \"2\", \"1\", \"3\", \"1\", \"1\", \"1\", \"1\", \"1\", \"1\", \"1\", \"2\", \"2\", \"2\", \"2\", \"2\", \"2\", \"2\", \"2\", \"2\", \"2\", \"2\", \"2\", \"2\", \"2\", \"2\", \"3\", \"2\", \"2\", \"2\", \"1\", \"2\", \"2\", \"2\", \"2\", \"2\", \"2\", \"2\", \"2\", \"2\", \"1\", \"3\", \"3\", \"2\", \"2\", \"1\", \"2\", \"2\", \"1\", \"1\", \"2\", \"2\", \"2\", \"2\", \"2\", \"2\", \"2\", \"2\", \"2\", \"2\", \"2\", \"2\", \"2\", \"2\", \"2\", \"2\", \"2\", \"2\", \"2\", \"2\", \"2\", \"2\", \"2\", \"2\", \"2\", \"2\", \"1\", \"1\", \"1\", \"2\", \"2\", \"2\", \"2\", \"3\", \"2\", \"3\", \"2\", \"2\", \"1\", \"2\", \"3\", \"1\", \"1\", \"2\", \"2\", \"2\", \"2\", \"1\", \"1\", \"1\", \"1\", \"2\", \"2\", \"2\", \"2\", \"2\", \"2\", \"1\", \"2\", \"2\", \"2\", \"2\", \"2\", \"3\", \"3\", \"2\", \"2\", \"2\", \"2\", \"2\", \"2\", \"3\", \"1\", \"2\", \"2\", \"2\", \"1\", \"2\", \"1\", \"1\", \"2\", \"2\", \"2\", \"2\", \"2\", \"2\", \"1\", \"2\", \"2\", \"2\", \"1\", \"2\", \"2\", \"2\", \"2\", \"2\", \"2\", \"2\", \"2\", \"2\", \"2\", \"2\", \"2\", \"2\", \"2\", \"2\", \"2\", \"2\", \"2\", \"2\", \"2\", \"3\", \"2\", \"2\", \"2\", \"2\", \"2\", \"2\", \"2\", \"2\", \"2\", \"1\", \"1\", \"1\", \"2\", \"2\", \"2\", \"3\", \"3\", \"2\", \"2\", \"2\", \"1\", \"2\", \"2\", \"2\", \"2\", \"2\", \"2\", \"2\", \"2\", \"2\", \"2\", \"1\", \"2\", \"2\", \"2\", \"2\", \"2\", \"1\", \"1\", \"1\", \"2\", \"1\", \"2\", \"2\", \"2\", \"2\", \"2\", \"3\", \"2\", \"2\", \"2\", \"2\", \"3\", \"1\", \"2\", \"1\", \"1\", \"1\", \"1\", \"1\", \"1\", \"1\", \"1\", \"2\", \"2\", \"2\", \"2\", \"1\", \"1\", \"2\", \"1\", \"2\", \"2\", \"2\", \"3\", \"2\", \"3\", \"3\", \"3\", \"1\", \"2\", \"2\", \"2\", \"2\", \"2\", \"2\", \"2\", \"3\", \"3\", \"2\", \"1\", \"2\", \"1\", \"2\", \"2\", \"2\", \"3\", \"2\", \"2\", \"1\", \"1\", \"1\", \"1\", \"2\", \"2\", \"1\", \"1\", \"2\", \"2\", \"2\", \"2\", \"3\", \"2\", \"2\", \"2\", \"2\", \"2\", \"2\", \"2\", \"2\", \"2\", \"2\", \"2\", \"2\", \"2\", \"2\", \"2\", \"2\", \"2\", \"2\", \"2\", \"2\", \"2\", \"2\", \"2\", \"2\", \"2\", \"2\", \"2\", \"2\", \"2\", \"2\", \"2\", \"3\", \"2\", \"2\", \"2\", \"1\", \"2\", \"2\", \"2\", \"2\", \"2\", \"2\", \"2\", \"2\", \"1\", \"2\", \"2\", \"2\", \"1\", \"1\", \"1\", \"1\", \"1\", \"1\", \"1\", \"1\", \"2\", \"3\", \"2\", \"2\", \"2\", \"2\", \"2\", \"3\", \"2\", \"1\", \"2\", \"2\", \"2\", \"2\", \"2\", \"2\", \"1\", \"1\", \"1\", \"2\", \"1\", \"1\", \"2\", \"1\", \"1\", \"3\", \"2\", \"2\", \"2\", \"2\", \"2\", \"2\", \"2\", \"2\", \"3\", \"1\", \"1\", \"1\", \"2\", \"2\", \"1\", \"2\", \"1\", \"1\", \"2\", \"2\", \"2\", \"2\", \"2\", \"2\", \"2\", \"2\", \"2\", \"1\", \"1\", \"2\", \"2\", \"2\", \"2\", \"2\", \"2\", \"2\", \"3\", \"3\", \"2\", \"2\", \"1\", \"2\", \"2\", \"2\", \"2\", \"2\", \"2\", \"2\", \"2\", \"2\", \"2\", \"2\", \"1\", \"2\", \"2\", \"2\", \"2\", \"2\", \"2\", \"2\", \"2\", \"2\", \"2\", \"2\", \"2\", \"2\", \"2\", \"2\", \"2\", \"2\", \"2\", \"2\", \"2\", \"2\", \"2\", \"1\", \"2\", \"2\", \"2\", \"2\", \"2\", \"2\", \"2\", \"2\", \"2\", \"2\", \"1\", \"2\", \"2\", \"2\", \"3\", \"2\", \"2\", \"2\", \"2\", \"2\", \"1\", \"1\", \"1\", \"1\", \"2\", \"2\", \"1\", \"1\", \"1\", \"1\", \"2\", \"2\", \"2\", \"2\", \"1\", \"2\", \"1\", \"1\", \"1\", \"3\", \"2\", \"2\", \"2\", \"2\", \"2\", \"2\", \"2\", \"2\", \"2\", \"1\", \"1\", \"1\", \"2\", \"2\", \"1\", \"2\", \"3\", \"2\", \"2\", \"2\", \"3\", \"2\", \"1\", \"2\", \"2\", \"3\", \"3\", \"3\", \"2\", \"2\", \"2\", \"3\", \"3\", \"2\", \"2\", \"2\", \"2\", \"3\", \"2\", \"2\", \"2\", \"2\", \"2\", \"1\", \"2\", \"2\", \"2\", \"2\", \"2\", \"3\", \"2\", \"2\", \"2\", \"1\", \"2\", \"2\", \"2\", \"2\", \"2\", \"2\", \"2\", \"2\", \"2\", \"2\", \"2\", \"2\", \"2\", \"2\", \"2\", \"2\", \"2\", \"2\", \"2\", \"2\", \"2\", \"2\", \"2\", \"2\", \"2\", \"2\", \"2\", \"2\", \"2\", \"2\", \"2\", \"2\", \"1\", \"2\", \"2\", \"2\", \"2\", \"2\", \"2\", \"2\", \"1\", \"2\", \"1\", \"1\", \"1\", \"2\", \"2\", \"2\", \"2\", \"2\", \"2\", \"2\", \"2\", \"2\", \"3\", \"2\", \"2\", \"2\", \"2\", \"2\", \"2\", \"2\", \"2\", \"2\", \"1\", \"1\", \"3\", \"1\", \"1\", \"1\", \"1\", \"1\", \"1\", \"2\", \"3\", \"2\", \"2\", \"2\", \"1\", \"1\", \"2\", \"1\", \"2\", \"2\", \"2\", \"2\", \"2\", \"2\", \"2\", \"3\", \"1\", \"1\", \"1\", \"2\", \"2\", \"1\", \"2\", \"2\", \"2\", \"2\", \"3\", \"2\", \"2\", \"2\", \"2\", \"2\", \"2\", \"2\", \"2\", \"2\", \"2\", \"2\", \"2\", \"2\", \"2\", \"2\", \"2\", \"2\", \"2\", \"1\", \"2\", \"2\", \"3\", \"3\", \"2\", \"2\", \"2\", \"2\", \"1\", \"2\", \"3\", \"2\", \"3\", \"2\", \"1\", \"1\", \"2\", \"2\", \"2\", \"2\", \"1\", \"2\", \"2\", \"2\", \"2\", \"2\", \"2\", \"2\", \"2\", \"2\", \"3\", \"2\", \"2\", \"2\", \"2\", \"2\", \"2\", \"2\", \"2\", \"3\", \"2\", \"2\", \"2\", \"2\", \"2\", \"2\", \"2\", \"2\", \"3\", \"2\", \"2\", \"2\", \"2\", \"2\", \"1\", \"1\", \"1\", \"1\", \"1\", \"1\", \"1\", \"1\", \"2\", \"1\", \"2\", \"3\", \"2\", \"2\", \"2\", \"2\", \"2\", \"2\", \"2\", \"2\", \"2\", \"1\", \"1\", \"1\", \"2\", \"2\", \"1\", \"2\", \"2\", \"1\", \"1\", \"1\", \"1\", \"2\", \"1\", \"1\", \"2\", \"3\", \"3\", \"2\", \"3\", \"2\", \"2\", \"2\", \"2\", \"2\", \"2\", \"2\", \"2\", \"2\", \"1\", \"2\", \"1\", \"1\", \"1\", \"2\", \"2\", \"2\", \"2\", \"2\", \"2\", \"2\", \"2\", \"2\", \"1\", \"2\", \"2\", \"2\", \"2\", \"1\", \"2\", \"2\", \"1\", \"1\", \"2\", \"2\", \"1\", \"1\", \"1\", \"2\", \"2\", \"2\", \"2\", \"2\", \"2\", \"2\", \"2\", \"2\", \"2\", \"2\", \"3\", \"2\", \"2\", \"2\", \"2\", \"1\", \"2\", \"2\", \"2\", \"2\", \"1\", \"2\", \"1\", \"1\", \"2\", \"1\", \"1\", \"1\", \"2\", \"2\", \"1\", \"2\", \"1\", \"1\", \"1\", \"2\", \"2\", \"2\", \"2\", \"2\", \"1\", \"2\", \"1\", \"1\", \"2\", \"2\", \"2\", \"2\", \"2\", \"2\", \"2\", \"2\", \"2\", \"3\", \"1\", \"1\", \"2\", \"2\", \"2\", \"2\", \"2\", \"2\", \"2\", \"2\", \"2\", \"2\", \"2\", \"2\", \"2\", \"2\", \"2\", \"2\", \"2\", \"2\", \"2\", \"2\", \"2\", \"2\", \"2\", \"2\", \"2\", \"2\", \"1\", \"2\", \"1\", \"1\", \"1\", \"1\", \"1\", \"1\", \"1\", \"1\", \"1\", \"2\", \"1\", \"1\", \"2\", \"2\", \"2\", \"2\", \"1\", \"1\", \"2\", \"2\", \"2\", \"2\", \"2\", \"2\", \"2\", \"2\", \"2\", \"2\", \"1\", \"2\", \"2\", \"2\", \"2\", \"2\", \"2\", \"2\", \"2\", \"2\", \"1\", \"2\", \"2\", \"1\", \"1\", \"1\", \"1\", \"2\", \"1\", \"2\", \"1\", \"2\", \"1\", \"2\", \"2\", \"1\", \"2\", \"2\", \"2\", \"3\", \"2\", \"2\", \"2\", \"1\", \"1\", \"1\", \"1\", \"1\", \"1\", \"2\", \"2\", \"2\", \"2\", \"2\", \"2\", \"2\", \"2\", \"2\", \"2\", \"1\", \"1\", \"1\", \"1\", \"1\", \"2\", \"1\", \"1\", \"2\", \"2\", \"2\", \"2\", \"2\", \"2\", \"2\", \"2\", \"2\", \"2\", \"2\", \"2\", \"1\", \"2\", \"2\", \"2\", \"2\", \"2\", \"3\", \"3\", \"2\", \"2\", \"2\", \"2\", \"2\", \"2\", \"2\", \"2\", \"2\", \"1\", \"1\", \"1\", \"2\", \"1\", \"2\", \"1\", \"1\", \"1\", \"1\", \"1\", \"2\", \"2\", \"2\", \"2\", \"2\", \"2\", \"2\", \"2\", \"2\", \"2\", \"3\", \"2\", \"1\", \"1\", \"1\", \"1\", \"1\", \"2\", \"2\", \"2\", \"2\", \"2\", \"2\", \"2\", \"2\", \"2\", \"2\", \"3\", \"3\", \"3\", \"1\", \"1\", \"1\", \"1\", \"2\", \"2\", \"2\", \"2\", \"2\", \"2\", \"2\", \"2\", \"2\", \"2\", \"2\", \"2\", \"2\", \"2\", \"2\", \"2\", \"3\", \"2\", \"3\", \"2\", \"2\", \"2\", \"2\", \"2\", \"2\", \"2\", \"2\", \"2\", \"2\", \"2\", \"1\", \"1\", \"1\", \"2\", \"1\", \"2\", \"2\", \"2\", \"1\", \"2\", \"2\", \"2\", \"2\", \"3\", \"2\", \"2\", \"2\", \"2\", \"2\", \"1\", \"1\", \"1\", \"2\", \"2\", \"1\", \"1\", \"2\", \"2\", \"2\", \"2\", \"1\", \"2\", \"2\", \"2\", \"2\", \"2\", \"2\", \"2\", \"2\", \"2\", \"2\", \"2\", \"2\", \"2\", \"2\", \"2\", \"2\", \"2\", \"2\", \"3\", \"2\", \"2\", \"2\", \"2\", \"2\", \"2\", \"2\", \"2\", \"1\", \"2\", \"1\", \"2\", \"1\", \"1\", \"1\", \"1\", \"1\", \"2\", \"2\", \"2\", \"2\", \"2\", \"2\", \"2\", \"1\", \"1\", \"1\", \"2\", \"2\", \"2\", \"2\", \"2\", \"2\", \"2\", \"1\", \"1\", \"1\", \"1\", \"1\", \"1\", \"1\", \"1\", \"2\", \"1\", \"2\", \"2\", \"2\", \"2\", \"2\", \"2\", \"2\", \"2\", \"2\", \"2\", \"2\", \"2\", \"2\", \"2\", \"2\", \"2\", \"2\", \"2\", \"2\", \"2\", \"2\", \"2\", \"2\", \"2\", \"2\", \"2\", \"2\", \"2\", \"2\", \"2\", \"2\", \"2\", \"2\", \"2\", \"1\", \"1\", \"2\", \"2\", \"1\", \"1\", \"1\", \"1\", \"2\", \"2\", \"2\", \"2\", \"2\", \"2\", \"2\", \"2\", \"2\", \"2\", \"1\", \"2\", \"2\", \"2\", \"2\", \"2\", \"2\", \"2\", \"2\", \"1\", \"2\", \"2\", \"2\", \"2\", \"2\", \"2\", \"2\", \"2\", \"2\", \"2\", \"2\", \"2\", \"2\", \"1\", \"2\", \"2\", \"1\", \"2\", \"2\", \"2\", \"2\", \"2\", \"2\", \"2\", \"2\", \"2\", \"2\", \"2\", \"3\", \"2\", \"2\", \"3\", \"2\", \"2\", \"2\", \"2\", \"2\", \"2\", \"2\", \"2\", \"1\", \"1\", \"1\", \"1\", \"1\", \"1\", \"2\", \"2\", \"2\", \"2\", \"2\", \"2\", \"2\", \"2\", \"2\", \"2\", \"2\", \"2\", \"2\", \"2\", \"2\", \"2\", \"2\", \"2\", \"2\", \"2\", \"2\", \"2\", \"2\", \"1\", \"2\", \"2\", \"1\", \"2\", \"2\", \"1\", \"1\", \"1\", \"1\", \"2\", \"2\", \"2\", \"1\", \"3\", \"1\", \"3\", \"2\", \"2\", \"3\", \"3\", \"2\", \"1\", \"2\", \"2\", \"2\", \"2\", \"2\", \"2\", \"3\", \"2\", \"3\", \"2\", \"2\", \"2\", \"2\", \"2\", \"2\", \"2\", \"2\", \"2\", \"2\", \"2\", \"3\", \"2\", \"2\", \"2\", \"2\", \"2\", \"2\", \"2\", \"2\", \"2\", \"2\", \"2\", \"2\", \"1\", \"2\", \"2\", \"2\", \"2\", \"2\", \"1\", \"1\", \"1\", \"1\", \"2\", \"1\", \"2\", \"2\", \"3\", \"1\", \"2\", \"3\", \"1\", \"1\", \"1\", \"1\", \"1\", \"2\", \"2\", \"2\", \"2\", \"2\", \"1\", \"2\", \"1\", \"2\", \"2\", \"2\", \"2\", \"2\", \"2\", \"2\", \"2\", \"2\", \"2\", \"2\", \"2\", \"2\", \"2\", \"2\", \"1\", \"2\", \"2\", \"2\", \"2\", \"2\", \"2\", \"2\", \"2\", \"2\", \"2\", \"2\", \"2\", \"2\", \"2\", \"2\", \"2\", \"2\", \"2\", \"2\", \"2\", \"2\", \"3\", \"3\", \"3\", \"3\", \"1\", \"3\", \"3\", \"2\", \"2\", \"2\", \"2\", \"2\", \"2\", \"3\", \"3\", \"2\", \"2\", \"3\", \"3\", \"3\", \"2\", \"2\", \"2\", \"2\", \"2\", \"2\", \"2\", \"2\", \"2\", \"2\", \"2\", \"3\", \"2\", \"2\", \"2\", \"2\", \"2\", \"2\", \"2\", \"2\", \"2\", \"2\", \"2\", \"2\", \"2\", \"1\", \"2\", \"1\", \"2\", \"1\", \"2\", \"2\", \"2\", \"2\", \"2\", \"2\", \"2\", \"3\", \"2\", \"2\", \"2\", \"2\", \"2\", \"2\", \"2\", \"2\", \"2\", \"2\", \"2\", \"2\", \"1\", \"2\", \"2\", \"1\", \"1\", \"2\", \"2\", \"2\", \"2\", \"2\", \"2\", \"2\", \"2\", \"2\", \"2\", \"2\", \"2\", \"2\", \"1\", \"2\", \"1\", \"1\", \"1\", \"3\", \"2\", \"2\", \"3\", \"3\", \"3\", \"2\", \"1\", \"1\", \"3\", \"2\", \"2\", \"1\", \"1\", \"2\", \"2\", \"2\", \"2\", \"2\", \"2\", \"2\", \"2\", \"2\", \"2\", \"2\", \"2\", \"2\", \"1\", \"2\", \"2\", \"2\", \"3\", \"3\", \"2\", \"2\", \"2\", \"2\", \"2\", \"2\", \"2\", \"2\", \"2\", \"2\", \"2\", \"2\", \"1\", \"1\", \"2\", \"2\", \"2\", \"2\", \"2\", \"2\", \"2\", \"2\", \"2\", \"2\", \"1\", \"2\", \"2\", \"2\", \"2\", \"2\", \"2\", \"2\", \"2\", \"2\", \"2\", \"2\", \"2\", \"1\", \"2\", \"3\", \"2\", \"2\", \"1\", \"1\", \"2\", \"2\", \"2\", \"2\", \"2\", \"2\", \"2\", \"2\", \"2\", \"2\", \"3\", \"2\", \"2\", \"2\", \"2\", \"2\", \"2\", \"2\", \"2\", \"2\", \"2\", \"2\", \"2\", \"2\", \"2\", \"2\", \"2\", \"2\", \"2\", \"2\", \"1\", \"1\", \"1\", \"2\", \"2\", \"3\", \"2\", \"2\", \"1\", \"1\", \"1\", \"1\", \"2\", \"2\", \"2\", \"2\", \"2\", \"2\", \"2\", \"3\", \"2\", \"2\", \"2\", \"2\", \"2\", \"2\", \"2\", \"2\", \"2\", \"2\", \"2\", \"3\", \"2\", \"2\", \"3\", \"2\", \"1\", \"2\", \"2\", \"2\", \"2\", \"2\", \"2\", \"3\", \"2\", \"2\", \"2\", \"2\", \"1\", \"3\", \"2\", \"2\", \"2\", \"2\", \"2\", \"2\", \"2\", \"1\", \"2\", \"1\", \"2\", \"2\", \"2\", \"1\", \"1\", \"2\", \"2\", \"2\", \"2\", \"2\", \"2\", \"1\", \"2\", \"1\", \"1\", \"1\", \"2\", \"2\", \"1\", \"1\", \"2\", \"1\", \"2\", \"2\", \"2\", \"2\", \"3\", \"2\", \"2\", \"2\", \"2\", \"2\", \"2\", \"2\", \"2\", \"2\", \"2\", \"2\", \"2\", \"2\", \"2\", \"2\", \"2\", \"2\", \"2\", \"2\", \"2\", \"3\", \"2\", \"2\", \"2\", \"2\", \"2\", \"3\", \"2\", \"2\", \"2\", \"2\", \"2\", \"3\", \"2\", \"3\", \"3\", \"2\", \"2\", \"2\", \"2\", \"2\", \"3\", \"1\", \"3\", \"2\", \"2\", \"3\", \"3\", \"3\", \"2\", \"2\", \"2\", \"2\", \"2\", \"2\", \"2\", \"2\", \"3\", \"2\", \"2\", \"2\", \"1\", \"1\", \"1\", \"2\", \"2\", \"2\", \"2\", \"2\", \"2\", \"2\", \"2\", \"2\", \"1\", \"2\", \"2\", \"2\", \"2\", \"2\", \"2\", \"2\", \"2\", \"1\", \"2\", \"2\", \"2\", \"2\", \"2\", \"2\", \"3\", \"2\", \"1\", \"2\", \"1\", \"1\", \"2\", \"2\", \"2\", \"1\", \"1\", \"2\", \"2\", \"2\", \"2\", \"3\", \"2\", \"1\", \"3\", \"2\", \"2\", \"1\", \"2\", \"2\", \"3\", \"2\", \"1\", \"2\", \"2\", \"2\", \"1\", \"2\", \"3\", \"2\", \"2\", \"1\", \"2\", \"2\", \"2\", \"2\", \"2\", \"2\", \"2\", \"2\", \"2\", \"2\", \"2\", \"1\", \"1\", \"2\", \"1\", \"2\", \"1\", \"2\", \"2\", \"1\", \"2\", \"1\", \"1\", \"1\", \"1\", \"1\", \"1\", \"2\", \"2\", \"2\", \"2\", \"2\", \"2\", \"2\", \"2\", \"2\", \"2\", \"2\", \"2\", \"3\", \"1\", \"2\", \"2\", \"3\", \"2\", \"3\", \"2\", \"2\", \"2\", \"2\", \"2\", \"2\", \"2\", \"1\", \"1\", \"2\", \"2\", \"2\", \"2\", \"2\", \"2\", \"2\", \"1\", \"2\", \"2\", \"2\", \"2\", \"2\", \"2\", \"2\", \"2\", \"2\", \"2\", \"3\", \"2\", \"2\", \"3\", \"2\", \"3\", \"2\", \"2\", \"2\", \"1\", \"2\", \"2\", \"2\", \"2\", \"2\", \"2\", \"2\", \"2\", \"2\", \"1\", \"2\", \"2\", \"2\", \"2\", \"2\", \"3\", \"2\", \"2\", \"2\", \"1\", \"1\", \"2\", \"2\", \"2\", \"2\", \"2\", \"2\", \"2\", \"2\", \"2\", \"2\", \"2\", \"2\", \"3\", \"2\", \"2\", \"2\", \"2\", \"1\", \"2\", \"2\", \"3\", \"2\", \"3\", \"2\", \"2\", \"2\", \"2\", \"1\", \"2\", \"2\", \"2\", \"2\", \"1\", \"2\", \"2\", \"1\", \"3\", \"2\", \"2\", \"2\", \"2\", \"2\", \"2\", \"2\", \"2\", \"2\", \"1\", \"2\", \"2\", \"2\", \"2\", \"2\", \"2\", \"2\", \"2\", \"2\", \"2\", \"2\", \"2\", \"2\", \"2\", \"2\", \"2\", \"2\", \"2\", \"2\", \"2\", \"3\", \"2\", \"2\", \"2\", \"2\", \"2\", \"2\", \"2\", \"2\", \"2\", \"2\", \"1\", \"3\", \"1\", \"2\", \"3\", \"2\", \"3\", \"2\", \"2\", \"2\", \"2\", \"2\", \"2\", \"2\", \"1\", \"2\", \"1\", \"3\", \"3\", \"2\", \"3\", \"1\", \"2\", \"3\", \"1\", \"2\", \"2\", \"2\", \"2\", \"2\", \"2\", \"2\", \"2\", \"2\", \"2\", \"2\", \"2\", \"1\", \"1\", \"2\", \"2\", \"2\", \"2\", \"1\", \"1\", \"2\", \"2\", \"1\", \"3\", \"2\", \"2\", \"2\", \"2\", \"2\", \"1\", \"2\", \"2\", \"2\", \"3\", \"2\", \"1\", \"2\", \"2\", \"2\", \"2\", \"2\", \"2\", \"2\", \"2\", \"2\", \"2\", \"2\", \"2\", \"2\", \"2\", \"2\", \"2\", \"2\", \"2\", \"2\", \"2\", \"2\", \"1\", \"2\", \"1\", \"1\", \"3\", \"1\", \"2\", \"2\", \"1\", \"1\", \"2\", \"2\", \"2\", \"2\", \"2\", \"2\", \"2\", \"2\", \"2\", \"2\", \"2\", \"2\", \"2\", \"2\", \"2\", \"2\", \"2\", \"2\", \"2\", \"2\", \"2\", \"2\", \"2\", \"3\", \"2\", \"1\", \"2\", \"2\", \"2\", \"2\", \"2\", \"2\", \"2\", \"2\", \"2\", \"2\", \"2\", \"2\", \"2\", \"2\", \"2\", \"2\", \"2\", \"2\", \"2\", \"2\", \"1\", \"1\", \"2\", \"2\", \"2\", \"2\", \"2\", \"2\", \"2\", \"2\", \"2\", \"2\", \"2\", \"2\", \"2\", \"2\", \"2\", \"2\", \"2\", \"2\", \"2\", \"2\", \"1\", \"2\", \"2\", \"2\", \"2\", \"2\", \"2\", \"2\", \"2\", \"2\", \"1\", \"2\", \"2\", \"2\", \"2\", \"2\", \"1\", \"2\", \"2\", \"2\", \"2\", \"3\", \"2\", \"2\", \"2\", \"1\", \"1\", \"1\", \"1\", \"2\", \"2\", \"2\", \"2\", \"1\", \"2\", \"2\", \"2\", \"2\", \"2\", \"2\", \"1\", \"2\", \"3\", \"2\", \"2\", \"2\", \"1\", \"2\", \"2\", \"2\", \"2\", \"2\", \"2\", \"2\", \"2\", \"2\", \"2\", \"2\", \"2\", \"2\", \"1\", \"2\", \"2\", \"2\", \"2\", \"2\", \"2\", \"2\", \"1\", \"1\", \"1\", \"1\", \"1\", \"1\", \"1\", \"2\", \"2\", \"2\", \"2\", \"2\", \"2\", \"1\", \"2\", \"2\", \"2\", \"2\", \"2\", \"2\", \"2\", \"1\", \"1\", \"3\", \"3\", \"1\", \"2\", \"1\", \"1\", \"3\", \"1\", \"1\", \"2\", \"1\", \"2\", \"2\", \"2\", \"3\", \"3\", \"2\", \"2\", \"2\", \"2\", \"2\", \"2\", \"2\", \"2\", \"2\", \"3\", \"2\", \"3\", \"2\", \"2\", \"2\", \"2\", \"2\", \"2\", \"2\", \"2\", \"2\", \"2\", \"2\", \"2\", \"2\", \"2\", \"3\", \"2\", \"3\", \"2\", \"2\", \"2\", \"2\", \"3\", \"2\", \"2\", \"2\", \"2\", \"2\", \"2\", \"2\", \"1\", \"2\", \"1\", \"3\", \"1\", \"1\", \"2\", \"3\", \"2\", \"1\", \"1\", \"1\", \"1\", \"2\", \"2\", \"2\", \"2\", \"2\", \"3\", \"1\", \"2\", \"2\", \"2\", \"2\", \"2\", \"2\", \"2\", \"1\", \"2\", \"2\", \"2\", \"2\", \"2\", \"2\", \"2\", \"2\", \"2\", \"2\", \"2\", \"2\", \"2\", \"2\", \"3\", \"2\", \"2\", \"2\", \"2\", \"2\", \"2\", \"2\", \"2\", \"2\", \"2\", \"2\", \"2\", \"3\", \"2\", \"2\", \"2\", \"2\", \"2\", \"2\", \"2\", \"2\", \"2\", \"2\", \"2\", \"2\", \"2\", \"2\", \"2\", \"2\", \"3\", \"2\", \"2\", \"2\", \"3\", \"2\", \"2\", \"2\", \"2\", \"2\", \"2\", \"1\", \"1\", \"2\", \"3\", \"3\", \"1\", \"3\", \"2\", \"2\", \"2\", \"2\", \"2\", \"1\", \"2\", \"2\", \"2\", \"2\", \"1\", \"2\", \"2\", \"1\", \"2\", \"2\", \"2\", \"1\", \"1\", \"2\", \"2\", \"2\", \"3\", \"2\", \"3\", \"2\", \"2\", \"1\", \"1\", \"2\", \"2\", \"1\", \"2\", \"2\", \"2\", \"2\", \"1\", \"1\", \"3\", \"2\", \"2\", \"2\", \"2\", \"2\", \"2\", \"2\", \"2\", \"2\", \"1\", \"2\", \"2\", \"2\", \"2\", \"2\", \"2\", \"2\", \"2\", \"1\", \"2\", \"2\", \"2\", \"2\", \"2\", \"2\", \"2\", \"2\", \"2\", \"2\", \"2\", \"2\", \"2\", \"2\", \"2\", \"2\", \"3\", \"2\", \"2\", \"2\", \"2\", \"2\", \"2\", \"2\", \"2\", \"2\", \"2\", \"2\", \"2\", \"2\", \"2\", \"2\", \"2\", \"2\", \"2\", \"1\", \"2\", \"3\", \"2\", \"2\", \"2\", \"2\", \"3\", \"2\", \"2\", \"2\", \"2\", \"2\", \"2\", \"1\", \"3\", \"2\", \"2\", \"2\", \"2\", \"2\", \"2\", \"2\", \"3\", \"2\", \"2\", \"2\", \"1\", \"1\", \"1\", \"2\", \"2\", \"1\", \"2\", \"2\", \"2\", \"2\", \"2\", \"1\", \"2\", \"1\", \"2\", \"2\", \"2\", \"2\", \"1\", \"3\", \"1\", \"1\", \"2\", \"2\", \"1\", \"2\", \"1\", \"2\", \"2\", \"2\", \"2\", \"2\", \"2\", \"2\", \"2\", \"2\", \"2\", \"2\", \"3\", \"2\", \"2\", \"2\", \"3\", \"2\", \"2\", \"1\", \"1\", \"2\", \"2\", \"2\", \"3\", \"1\", \"2\", \"2\", \"2\", \"2\", \"2\", \"1\", \"2\", \"2\", \"2\", \"2\", \"2\", \"2\", \"2\", \"2\", \"3\", \"2\", \"2\", \"2\", \"2\", \"2\", \"2\", \"2\", \"2\", \"2\", \"2\", \"2\", \"2\", \"1\", \"2\", \"2\", \"2\", \"2\", \"2\", \"2\", \"2\", \"1\", \"2\", \"2\", \"2\", \"2\", \"2\", \"2\", \"2\", \"2\", \"2\", \"2\", \"2\", \"1\", \"2\", \"3\", \"2\", \"2\", \"1\", \"2\", \"2\", \"2\", \"3\", \"3\", \"2\", \"3\", \"2\", \"2\", \"2\", \"2\", \"2\", \"3\", \"2\", \"1\", \"2\", \"1\", \"2\", \"1\", \"2\", \"2\", \"2\", \"2\", \"1\", \"2\", \"2\", \"1\", \"2\", \"1\", \"1\", \"1\", \"1\", \"2\", \"3\", \"2\", \"1\", \"1\", \"1\", \"1\", \"1\", \"1\", \"1\", \"2\", \"3\", \"2\", \"2\", \"2\", \"2\", \"2\", \"2\", \"2\", \"2\", \"2\", \"2\", \"2\", \"2\", \"2\", \"2\", \"2\", \"2\", \"3\", \"2\", \"2\", \"2\", \"2\", \"2\", \"2\", \"2\", \"2\", \"2\", \"3\", \"3\", \"2\", \"3\", \"3\", \"3\", \"2\", \"2\", \"2\", \"2\", \"2\", \"3\", \"2\", \"3\", \"2\", \"2\", \"2\", \"2\", \"2\", \"2\", \"2\", \"2\", \"2\", \"2\", \"2\", \"2\", \"2\", \"2\", \"2\", \"2\", \"2\", \"2\", \"3\", \"2\", \"2\", \"2\", \"2\", \"2\", \"2\", \"2\", \"2\", \"2\", \"3\", \"2\", \"1\", \"1\", \"2\", \"3\", \"2\", \"2\", \"2\", \"2\", \"2\", \"2\", \"2\", \"2\", \"1\", \"2\", \"2\", \"2\", \"2\", \"2\", \"2\", \"1\", \"2\", \"2\", \"2\", \"2\", \"1\", \"2\", \"1\", \"2\", \"2\", \"2\", \"2\", \"2\", \"1\", \"3\", \"2\", \"2\", \"1\", \"1\", \"1\", \"1\", \"1\", \"2\", \"1\", \"2\", \"2\", \"2\", \"1\", \"1\", \"1\", \"2\", \"2\", \"2\", \"2\", \"2\", \"2\", \"2\", \"2\", \"2\", \"2\", \"2\", \"2\", \"2\", \"2\", \"2\", \"2\", \"2\", \"2\", \"2\", \"2\", \"2\", \"2\", \"3\", \"2\", \"2\", \"2\", \"2\", \"2\", \"2\", \"2\", \"3\", \"2\", \"1\", \"2\", \"2\", \"2\", \"2\", \"2\", \"3\", \"2\", \"2\", \"2\", \"2\", \"2\", \"2\", \"2\", \"2\", \"2\", \"2\", \"1\", \"1\", \"2\", \"2\", \"2\", \"2\", \"2\", \"2\", \"2\", \"2\", \"2\", \"2\", \"3\", \"3\", \"2\", \"2\", \"2\", \"2\", \"2\", \"3\", \"2\", \"2\", \"2\", \"2\", \"2\", \"2\", \"2\", \"3\", \"2\", \"2\", \"2\", \"2\", \"3\", \"2\", \"2\", \"2\", \"2\", \"3\", \"2\", \"2\", \"1\", \"2\", \"2\", \"2\", \"2\", \"1\", \"2\", \"1\", \"1\", \"1\", \"1\", \"2\", \"2\", \"2\", \"2\", \"2\", \"1\", \"2\", \"1\", \"2\", \"2\", \"2\", \"1\", \"1\", \"2\", \"2\", \"2\", \"2\", \"3\", \"2\", \"2\", \"1\", \"1\", \"1\", \"1\", \"2\", \"2\", \"2\", \"2\", \"2\", \"2\", \"2\", \"2\", \"2\", \"2\", \"1\", \"2\", \"2\", \"2\", \"2\", \"2\", \"2\", \"2\", \"2\", \"2\", \"2\", \"2\", \"2\", \"2\", \"2\", \"2\", \"2\", \"3\", \"2\", \"2\", \"2\", \"2\", \"2\", \"2\", \"2\", \"2\", \"2\", \"2\", \"2\", \"2\", \"2\", \"2\", \"2\", \"2\", \"2\", \"3\", \"2\", \"1\", \"2\", \"2\", \"2\", \"2\", \"2\", \"2\", \"2\", \"2\", \"2\", \"2\", \"2\", \"2\", \"2\", \"2\", \"2\", \"2\", \"2\", \"2\", \"2\", \"2\", \"2\", \"1\", \"2\", \"2\", \"2\", \"2\", \"1\", \"1\", \"1\", \"2\", \"1\", \"1\", \"1\", \"2\", \"1\", \"1\", \"1\", \"1\", \"2\", \"3\", \"2\", \"1\", \"2\", \"2\", \"1\", \"2\", \"1\", \"1\", \"2\", \"2\", \"1\", \"2\", \"2\", \"2\", \"2\", \"2\", \"2\", \"2\", \"2\", \"1\", \"2\", \"2\", \"3\", \"2\", \"2\", \"2\", \"2\", \"2\", \"3\", \"2\", \"3\", \"3\", \"3\", \"2\", \"2\", \"2\", \"2\", \"2\", \"3\", \"2\", \"2\", \"2\", \"2\", \"1\", \"2\", \"2\", \"2\", \"2\", \"2\", \"2\", \"2\", \"2\", \"1\", \"1\", \"1\", \"1\", \"2\", \"2\", \"3\", \"2\", \"2\", \"2\", \"2\", \"2\", \"2\", \"2\", \"2\", \"2\", \"2\", \"2\", \"2\", \"2\", \"2\", \"2\", \"3\", \"2\", \"2\", \"2\", \"2\", \"2\", \"2\", \"2\", \"2\", \"2\", \"2\", \"2\", \"2\", \"2\", \"2\", \"3\", \"2\", \"2\", \"2\", \"2\", \"2\", \"2\", \"2\", \"2\", \"2\", \"2\", \"2\", \"2\", \"2\", \"2\", \"2\", \"2\", \"2\", \"1\", \"2\", \"1\", \"1\", \"1\", \"1\", \"2\", \"1\", \"2\", \"2\", \"2\", \"1\", \"2\", \"1\", \"1\", \"1\", \"1\", \"2\", \"2\", \"2\", \"2\", \"3\", \"2\", \"2\", \"1\", \"3\", \"1\", \"2\", \"2\", \"2\", \"2\", \"2\", \"2\", \"2\", \"2\", \"2\", \"2\", \"2\", \"3\", \"3\", \"2\", \"2\", \"2\", \"2\", \"2\", \"2\", \"2\", \"2\", \"2\", \"3\", \"2\", \"2\", \"2\", \"3\", \"2\", \"3\", \"3\", \"2\", \"3\", \"2\", \"2\", \"2\", \"2\", \"2\", \"2\", \"2\", \"2\", \"2\", \"2\", \"2\", \"2\", \"3\", \"2\", \"2\", \"3\", \"2\", \"2\", \"2\", \"2\", \"1\", \"3\", \"2\", \"2\", \"2\", \"3\", \"2\", \"2\", \"2\", \"3\", \"3\", \"2\", \"3\", \"3\", \"3\", \"3\", \"1\", \"2\", \"2\", \"2\", \"2\", \"2\", \"2\", \"2\", \"2\", \"2\", \"2\", \"2\", \"2\", \"2\", \"2\", \"2\", \"2\", \"2\", \"2\", \"2\", \"1\", \"2\", \"2\", \"2\", \"2\", \"2\", \"2\", \"3\", \"2\", \"1\", \"2\", \"2\", \"1\", \"1\", \"3\", \"2\", \"2\", \"2\", \"1\", \"2\", \"1\", \"2\", \"1\", \"1\", \"2\", \"2\", \"1\", \"2\", \"2\", \"2\", \"2\", \"2\", \"2\", \"2\", \"2\", \"2\", \"3\", \"1\", \"1\", \"1\", \"2\", \"2\", \"2\", \"3\", \"1\", \"2\", \"2\", \"2\", \"1\", \"2\", \"2\", \"2\", \"2\", \"2\", \"2\", \"2\", \"2\", \"1\", \"2\", \"2\", \"2\", \"2\", \"2\", \"2\", \"2\", \"2\", \"2\", \"2\", \"3\", \"2\", \"2\", \"2\", \"1\", \"2\", \"2\", \"2\", \"2\", \"2\", \"1\", \"2\", \"2\", \"2\", \"2\", \"2\", \"2\", \"2\", \"2\", \"2\", \"2\", \"2\", \"2\", \"2\", \"2\", \"2\", \"2\", \"3\", \"2\", \"2\", \"2\", \"2\", \"1\", \"1\", \"2\", \"2\", \"2\", \"2\", \"2\", \"3\", \"2\", \"2\", \"2\", \"2\", \"2\", \"2\", \"2\", \"2\", \"2\", \"2\", \"3\", \"2\", \"3\", \"2\", \"2\", \"2\", \"2\", \"2\", \"2\", \"2\", \"2\", \"3\", \"2\", \"2\", \"1\", \"2\", \"2\", \"1\", \"1\", \"2\", \"2\", \"2\", \"1\", \"1\", \"3\", \"1\", \"2\", \"1\", \"2\", \"2\", \"2\", \"2\", \"2\", \"1\", \"2\", \"2\", \"1\", \"1\", \"2\", \"2\", \"2\", \"2\", \"2\", \"2\", \"2\", \"2\", \"2\", \"2\", \"2\", \"2\", \"2\", \"2\", \"2\", \"2\", \"2\", \"2\", \"2\", \"3\", \"3\", \"3\", \"3\", \"2\", \"2\", \"2\", \"2\", \"2\", \"1\", \"1\", \"1\", \"2\", \"1\", \"2\", \"2\", \"2\", \"2\", \"2\", \"2\", \"2\", \"2\", \"2\", \"1\", \"2\", \"2\", \"2\", \"3\", \"2\", \"2\", \"2\", \"2\", \"2\", \"2\", \"2\", \"2\", \"2\", \"2\", \"2\", \"3\", \"2\", \"2\", \"2\", \"2\", \"2\", \"3\", \"3\", \"2\", \"1\", \"2\", \"2\", \"2\", \"2\", \"2\", \"2\", \"1\", \"2\", \"2\", \"2\", \"2\", \"2\", \"2\", \"2\", \"1\", \"3\", \"1\", \"2\", \"2\", \"2\", \"2\", \"2\", \"3\", \"3\", \"2\", \"1\", \"2\", \"1\", \"2\", \"2\", \"2\", \"2\", \"3\", \"2\", \"3\", \"3\", \"2\", \"2\", \"2\", \"2\", \"2\", \"2\", \"2\", \"1\", \"2\", \"2\", \"2\", \"2\", \"2\", \"2\", \"2\", \"2\", \"2\", \"1\", \"2\", \"2\", \"1\", \"1\", \"2\", \"2\", \"1\", \"2\", \"1\", \"2\", \"2\", \"2\", \"2\", \"2\", \"2\", \"2\", \"3\", \"2\", \"2\", \"2\", \"1\", \"2\", \"2\", \"2\", \"3\", \"2\", \"1\", \"2\", \"2\", \"2\", \"2\", \"2\", \"2\", \"2\", \"2\", \"2\", \"2\", \"2\", \"2\", \"2\", \"2\", \"2\", \"2\", \"2\", \"3\", \"2\", \"2\", \"3\", \"3\", \"2\", \"2\", \"2\", \"1\", \"2\", \"2\", \"2\", \"2\", \"2\", \"2\", \"2\", \"1\", \"2\", \"2\", \"2\", \"2\", \"2\", \"2\", \"2\", \"2\", \"2\", \"3\", \"2\", \"2\", \"2\", \"3\", \"2\", \"2\", \"2\", \"2\", \"2\", \"2\", \"2\", \"2\", \"2\", \"2\", \"2\", \"2\", \"2\", \"2\", \"2\", \"2\", \"2\", \"3\", \"2\", \"2\", \"2\", \"1\", \"2\", \"2\", \"1\", \"1\", \"2\", \"2\", \"1\", \"1\", \"2\", \"2\", \"2\", \"2\", \"3\", \"1\", \"1\", \"1\", \"1\", \"2\", \"2\", \"2\", \"2\", \"2\", \"3\", \"2\", \"2\", \"2\", \"1\", \"2\", \"2\", \"2\", \"2\", \"2\", \"2\", \"2\", \"1\", \"2\", \"2\", \"2\", \"2\", \"2\", \"2\", \"2\", \"2\", \"3\", \"1\", \"3\", \"2\", \"2\", \"3\", \"2\", \"2\", \"1\", \"1\", \"1\", \"1\", \"2\", \"2\", \"2\", \"2\", \"2\", \"2\", \"1\", \"1\", \"2\", \"2\", \"2\", \"1\", \"2\", \"2\", \"2\", \"3\", \"1\", \"1\", \"1\", \"2\", \"2\", \"2\", \"2\", \"2\", \"2\", \"2\", \"2\", \"2\", \"2\", \"3\", \"2\", \"2\", \"2\", \"2\", \"2\", \"2\", \"3\", \"2\", \"2\", \"2\", \"2\", \"2\", \"2\", \"2\", \"2\", \"2\", \"2\", \"2\", \"2\", \"2\", \"2\", \"3\", \"2\", \"1\", \"2\", \"2\", \"2\", \"1\", \"2\", \"2\", \"2\", \"2\", \"1\", \"1\", \"1\", \"1\", \"2\", \"2\", \"2\", \"2\", \"2\", \"2\", \"2\", \"2\", \"1\", \"2\", \"1\", \"1\", \"1\", \"2\", \"2\", \"1\", \"2\", \"2\", \"2\", \"2\", \"2\", \"2\", \"2\", \"1\", \"2\", \"2\", \"2\", \"2\", \"2\", \"2\", \"2\", \"2\", \"2\", \"2\", \"1\", \"1\", \"2\", \"2\", \"2\", \"3\", \"2\", \"2\", \"1\", \"2\", \"2\", \"2\", \"2\", \"2\", \"2\", \"2\", \"3\", \"3\", \"2\", \"2\", \"2\", \"2\", \"2\", \"2\", \"2\", \"2\", \"1\", \"2\", \"2\", \"2\", \"3\", \"2\", \"2\", \"2\", \"2\", \"1\", \"2\", \"2\", \"2\", \"2\", \"2\", \"2\", \"2\", \"2\", \"2\", \"2\", \"2\", \"2\", \"1\", \"2\", \"2\", \"2\", \"2\", \"2\", \"1\", \"2\", \"2\", \"2\", \"2\", \"2\", \"2\", \"2\", \"2\", \"2\", \"1\", \"2\", \"1\", \"2\", \"3\", \"1\", \"2\", \"2\", \"2\", \"3\", \"2\", \"2\", \"3\", \"2\", \"2\", \"2\", \"2\", \"2\", \"2\", \"2\", \"2\", \"2\", \"2\", \"2\", \"2\", \"2\", \"2\", \"2\", \"2\", \"2\", \"2\", \"2\", \"2\", \"2\", \"2\", \"1\", \"2\", \"3\", \"2\", \"2\", \"2\", \"2\", \"2\", \"2\", \"2\", \"2\", \"1\", \"2\", \"2\", \"2\", \"2\", \"3\", \"1\", \"2\", \"2\", \"2\", \"2\", \"2\", \"2\", \"2\", \"1\", \"2\", \"2\", \"2\", \"2\", \"2\", \"2\", \"3\", \"2\", \"2\", \"2\", \"2\", \"2\", \"2\", \"2\", \"2\", \"2\", \"2\", \"2\", \"2\", \"2\", \"2\", \"2\", \"1\", \"2\", \"2\", \"1\", \"2\", \"2\", \"2\", \"2\", \"2\", \"2\", \"2\", \"2\", \"2\", \"2\", \"2\", \"1\", \"3\", \"2\", \"2\", \"2\", \"2\", \"2\", \"2\", \"1\", \"2\", \"2\", \"2\", \"1\", \"1\", \"1\", \"1\", \"2\", \"2\", \"1\", \"1\", \"1\", \"2\", \"2\", \"2\", \"3\", \"2\", \"1\", \"2\", \"1\", \"2\", \"2\", \"2\", \"2\", \"2\", \"2\", \"2\", \"2\", \"2\", \"2\", \"2\", \"2\", \"3\", \"2\", \"2\", \"2\", \"2\", \"2\", \"2\", \"2\", \"2\", \"2\", \"2\", \"2\", \"2\", \"2\", \"2\", \"1\", \"1\", \"2\", \"2\", \"2\", \"2\", \"1\", \"2\", \"2\", \"2\", \"2\", \"3\", \"2\", \"2\", \"2\", \"2\", \"2\", \"2\", \"2\", \"2\", \"2\", \"2\", \"2\", \"2\", \"2\", \"3\", \"2\", \"1\", \"3\", \"2\", \"1\", \"2\", \"1\", \"2\", \"2\", \"2\", \"2\", \"2\", \"2\", \"2\", \"2\", \"2\", \"1\", \"1\", \"2\", \"2\", \"2\", \"2\", \"2\", \"2\", \"2\", \"2\", \"2\", \"2\", \"1\", \"2\", \"2\", \"3\", \"2\", \"2\", \"2\", \"2\", \"2\", \"1\", \"1\", \"1\", \"2\", \"2\", \"2\", \"3\", \"2\", \"2\", \"2\", \"2\", \"2\", \"2\", \"2\", \"2\", \"1\", \"2\", \"2\", \"1\", \"1\", \"2\", \"2\", \"2\", \"2\", \"1\", \"2\", \"2\", \"2\", \"2\", \"2\", \"2\", \"2\", \"2\", \"2\", \"2\", \"2\", \"1\", \"2\", \"2\", \"2\", \"2\", \"2\", \"3\", \"2\", \"2\", \"2\", \"2\", \"2\", \"3\", \"2\", \"2\", \"3\", \"2\", \"1\", \"1\", \"2\", \"2\", \"2\", \"1\", \"2\", \"2\", \"2\", \"2\", \"1\", \"1\", \"2\", \"2\", \"2\", \"1\", \"2\", \"2\", \"2\", \"2\", \"2\", \"2\", \"2\", \"2\", \"2\", \"2\", \"1\", \"2\", \"3\", \"2\", \"2\", \"2\", \"2\", \"2\", \"2\", \"1\", \"2\", \"2\", \"3\", \"2\", \"2\", \"2\", \"2\", \"2\", \"2\", \"1\", \"2\", \"2\", \"2\", \"2\", \"2\", \"2\", \"2\", \"2\", \"2\", \"2\", \"3\", \"2\", \"2\", \"2\", \"3\", \"2\", \"2\", \"2\", \"2\", \"1\", \"1\", \"2\", \"2\", \"2\", \"2\", \"2\", \"2\", \"1\", \"2\", \"2\", \"2\", \"2\", \"1\", \"2\", \"3\", \"2\", \"2\", \"2\", \"2\", \"1\", \"2\", \"2\", \"2\", \"2\", \"2\", \"2\", \"2\", \"2\", \"2\", \"2\", \"2\", \"3\", \"2\", \"2\", \"2\", \"1\", \"2\", \"1\", \"1\", \"2\", \"2\", \"2\", \"2\", \"2\", \"2\", \"2\", \"2\", \"2\", \"2\", \"2\", \"2\", \"2\", \"2\", \"2\", \"2\", \"2\", \"2\", \"2\", \"2\", \"2\", \"2\", \"3\", \"1\", \"2\", \"2\", \"2\", \"2\", \"2\", \"2\", \"3\", \"2\", \"2\", \"2\", \"2\", \"2\", \"2\", \"2\", \"2\", \"1\", \"2\", \"2\", \"2\", \"2\", \"1\", \"2\", \"2\", \"2\", \"2\", \"2\", \"2\", \"2\", \"2\", \"1\", \"2\", \"1\", \"1\", \"1\", \"2\", \"2\", \"1\", \"1\", \"1\", \"2\", \"2\", \"2\", \"2\", \"2\", \"1\", \"1\", \"1\", \"1\", \"3\", \"2\", \"1\", \"3\", \"2\", \"2\", \"2\", \"2\", \"3\", \"2\", \"2\", \"2\", \"2\", \"2\", \"2\", \"2\", \"2\", \"2\", \"2\", \"2\", \"2\", \"2\", \"3\", \"2\", \"2\", \"3\", \"2\", \"2\", \"2\", \"1\", \"2\", \"2\", \"2\", \"2\", \"2\", \"2\", \"2\", \"2\", \"1\", \"2\", \"2\", \"2\", \"3\", \"2\", \"2\", \"2\", \"2\", \"2\", \"2\", \"2\", \"1\", \"2\", \"3\", \"1\", \"2\", \"2\", \"2\", \"2\", \"2\", \"2\", \"2\", \"2\", \"2\", \"2\", \"1\", \"2\", \"3\", \"2\", \"2\", \"2\", \"2\", \"2\", \"3\", \"3\", \"2\", \"2\", \"1\", \"2\", \"2\", \"2\", \"2\", \"2\", \"2\", \"2\", \"2\", \"1\", \"2\", \"1\", \"2\", \"2\", \"2\", \"2\", \"2\", \"2\", \"2\", \"2\", \"2\", \"2\", \"2\", \"2\", \"2\", \"2\", \"2\", \"2\", \"2\", \"2\", \"2\", \"2\", \"2\", \"2\", \"2\", \"2\", \"3\", \"2\", \"2\", \"2\", \"2\", \"2\", \"3\", \"3\", \"2\", \"2\", \"2\", \"2\", \"3\", \"2\", \"2\", \"2\", \"2\", \"2\", \"2\", \"1\", \"1\", \"2\", \"2\", \"2\", \"2\", \"2\", \"2\", \"2\", \"2\", \"2\", \"2\", \"2\", \"2\", \"2\", \"2\", \"2\", \"2\", \"2\", \"2\", \"2\", \"2\", \"2\", \"2\", \"2\", \"2\", \"1\", \"2\", \"2\", \"2\", \"2\", \"2\", \"3\", \"2\", \"2\", \"2\", \"2\", \"2\", \"2\", \"2\", \"2\", \"2\", \"2\", \"2\", \"2\", \"2\", \"2\", \"3\", \"2\", \"2\", \"2\", \"2\", \"2\", \"2\", \"2\", \"2\", \"3\", \"2\", \"2\", \"2\", \"2\", \"2\", \"3\", \"2\", \"2\", \"3\", \"1\", \"1\", \"1\", \"2\", \"1\", \"1\", \"2\", \"1\", \"2\", \"2\", \"1\", \"2\", \"3\", \"2\", \"1\", \"1\", \"2\", \"2\", \"2\", \"2\", \"2\", \"2\", \"2\", \"2\", \"2\", \"2\", \"2\", \"2\", \"2\", \"2\", \"3\", \"2\", \"2\", \"2\", \"2\", \"2\", \"2\", \"2\", \"2\", \"2\", \"3\", \"2\", \"2\", \"2\", \"2\", \"2\", \"2\", \"2\", \"2\", \"2\", \"2\", \"2\", \"2\", \"2\", \"2\", \"2\", \"2\", \"2\", \"2\", \"2\", \"2\", \"2\", \"3\", \"2\", \"3\", \"2\", \"2\", \"2\", \"1\", \"2\", \"2\", \"2\", \"2\", \"2\", \"2\", \"2\", \"1\", \"1\", \"2\", \"2\", \"3\", \"2\", \"2\", \"2\", \"3\", \"2\", \"2\", \"1\", \"1\", \"1\", \"2\", \"1\", \"2\", \"2\", \"1\", \"1\", \"1\", \"2\", \"3\", \"1\", \"1\", \"1\", \"3\", \"1\", \"3\", \"2\", \"3\", \"2\", \"2\", \"2\", \"2\", \"2\", \"2\", \"2\", \"2\", \"2\", \"2\", \"2\", \"2\", \"2\", \"2\", \"2\", \"2\", \"2\", \"2\", \"3\", \"3\", \"2\", \"2\", \"2\", \"2\", \"2\", \"2\", \"2\", \"2\", \"2\", \"2\", \"2\", \"2\", \"2\", \"2\", \"2\", \"2\", \"2\", \"2\", \"2\", \"2\", \"2\", \"2\", \"2\", \"1\", \"2\", \"2\", \"2\", \"1\", \"2\", \"1\", \"3\", \"2\", \"2\", \"2\", \"2\", \"2\", \"2\", \"2\", \"2\", \"2\", \"2\", \"2\", \"2\", \"2\", \"2\", \"2\", \"2\", \"2\", \"2\", \"2\", \"2\", \"2\", \"2\", \"2\", \"2\", \"2\", \"2\", \"2\", \"2\", \"2\", \"2\", \"2\", \"2\", \"2\", \"2\", \"3\", \"3\", \"3\", \"1\", \"1\", \"2\", \"1\", \"1\", \"2\", \"2\", \"2\", \"2\", \"1\", \"2\", \"2\", \"2\", \"2\", \"3\", \"1\", \"2\", \"2\", \"1\", \"1\", \"2\", \"1\", \"1\", \"2\", \"2\", \"2\", \"2\", \"2\", \"2\", \"2\", \"2\", \"2\", \"2\", \"2\", \"3\", \"3\", \"2\", \"3\", \"2\", \"2\", \"2\", \"2\", \"3\", \"2\", \"2\", \"2\", \"2\", \"2\", \"2\", \"2\", \"1\", \"2\", \"3\", \"3\", \"3\", \"2\", \"2\", \"2\", \"2\", \"2\", \"2\", \"2\", \"2\", \"2\", \"2\", \"2\", \"2\", \"2\", \"2\", \"2\", \"2\", \"2\", \"2\", \"2\", \"3\", \"2\", \"2\", \"2\", \"2\", \"2\", \"2\", \"1\", \"2\", \"1\", \"2\", \"2\", \"2\", \"2\", \"2\", \"2\", \"3\", \"2\", \"2\", \"2\", \"2\", \"2\", \"2\", \"2\", \"2\", \"2\", \"2\", \"2\", \"3\", \"3\", \"2\", \"2\", \"2\", \"3\", \"1\", \"2\", \"2\", \"2\", \"2\", \"2\", \"2\", \"2\", \"1\", \"3\", \"2\", \"2\", \"2\", \"2\", \"2\", \"2\", \"3\", \"2\", \"2\", \"2\", \"2\", \"2\", \"2\", \"3\", \"3\", \"2\", \"2\", \"2\", \"2\", \"2\", \"2\", \"3\", \"2\", \"2\", \"2\", \"2\", \"3\", \"2\", \"3\", \"2\", \"2\", \"3\", \"3\", \"3\", \"2\", \"2\", \"1\", \"2\", \"2\", \"2\", \"2\", \"2\", \"1\", \"2\", \"2\", \"1\", \"2\", \"2\", \"2\", \"2\", \"2\", \"3\", \"1\", \"2\", \"2\", \"2\", \"2\", \"2\", \"2\", \"1\", \"1\", \"1\", \"2\", \"2\", \"2\", \"2\", \"2\", \"2\", \"1\", \"2\", \"2\", \"3\", \"2\", \"2\", \"2\", \"2\", \"2\", \"2\", \"2\", \"1\", \"2\", \"2\", \"1\", \"1\", \"1\", \"1\", \"1\", \"1\", \"2\", \"2\", \"2\", \"2\", \"2\", \"2\", \"2\", \"2\", \"2\", \"2\", \"2\", \"2\", \"2\", \"2\", \"2\", \"2\", \"2\", \"2\", \"2\", \"3\", \"3\", \"2\", \"2\", \"1\", \"3\", \"1\", \"3\", \"1\", \"1\", \"2\", \"2\", \"2\", \"2\", \"2\", \"2\", \"2\", \"2\", \"1\", \"1\", \"1\", \"1\", \"1\", \"2\", \"2\", \"2\", \"2\", \"2\", \"2\", \"2\", \"2\", \"2\", \"2\", \"1\", \"2\", \"3\", \"2\", \"2\", \"2\", \"2\", \"2\", \"2\", \"2\", \"2\", \"2\", \"2\", \"1\", \"2\", \"2\", \"2\", \"3\", \"2\", \"3\", \"2\", \"2\", \"3\", \"2\", \"2\", \"3\", \"2\", \"1\", \"3\", \"2\", \"2\", \"3\", \"2\", \"2\", \"2\", \"2\", \"2\", \"2\", \"3\", \"3\", \"3\", \"2\", \"1\", \"2\", \"2\", \"3\", \"1\", \"3\", \"2\", \"1\", \"2\", \"2\", \"2\", \"2\", \"2\", \"2\", \"2\", \"2\", \"1\", \"1\", \"3\", \"2\", \"2\", \"2\", \"2\", \"3\", \"1\", \"2\", \"1\", \"1\", \"2\", \"3\", \"2\", \"2\", \"2\", \"2\", \"1\", \"2\", \"2\", \"2\", \"2\", \"2\", \"2\", \"2\", \"1\", \"1\", \"1\", \"1\", \"1\", \"2\", \"3\", \"2\", \"2\", \"1\", \"1\", \"2\", \"1\", \"1\", \"1\", \"2\", \"2\", \"2\", \"1\", \"1\", \"1\", \"1\", \"2\", \"1\", \"1\", \"1\", \"2\", \"2\", \"2\", \"2\", \"2\", \"2\", \"2\", \"3\", \"2\", \"2\", \"3\", \"2\", \"3\", \"2\", \"1\", \"2\", \"2\", \"2\", \"2\", \"2\", \"2\", \"2\", \"3\", \"2\", \"2\", \"3\", \"3\", \"2\", \"2\", \"2\", \"2\", \"1\", \"2\", \"2\", \"2\", \"2\", \"2\", \"2\", \"2\", \"2\", \"2\", \"2\", \"2\", \"2\", \"2\", \"2\", \"2\", \"2\", \"2\", \"2\", \"1\", \"2\", \"2\", \"2\", \"3\", \"3\", \"3\", \"2\", \"3\", \"3\", \"2\", \"3\", \"2\", \"2\", \"1\", \"3\", \"3\", \"2\", \"2\", \"2\", \"2\", \"2\", \"2\", \"2\", \"1\", \"1\", \"1\", \"2\", \"2\", \"2\", \"3\", \"2\", \"2\", \"2\", \"2\", \"2\", \"2\", \"2\", \"2\", \"2\", \"2\", \"2\", \"2\", \"2\", \"2\", \"2\", \"2\", \"2\", \"3\", \"2\", \"2\", \"2\", \"2\", \"1\", \"2\", \"3\", \"3\", \"2\", \"2\", \"2\", \"2\", \"2\", \"2\", \"2\", \"2\", \"2\", \"1\", \"2\", \"2\", \"1\", \"3\", \"1\", \"2\", \"3\", \"2\", \"2\", \"2\", \"1\", \"3\", \"1\", \"1\", \"2\", \"1\", \"2\", \"1\", \"3\", \"2\", \"2\", \"2\", \"2\", \"2\", \"2\", \"3\", \"2\", \"2\", \"2\", \"2\", \"2\", \"3\", \"2\", \"2\", \"1\", \"2\", \"2\", \"2\", \"1\", \"2\", \"2\", \"1\", \"2\", \"2\", \"2\", \"1\", \"2\", \"2\", \"2\", \"2\", \"2\", \"2\", \"2\", \"2\", \"2\", \"3\", \"1\", \"1\", \"1\", \"2\", \"2\", \"2\", \"1\", \"2\", \"2\", \"2\", \"2\", \"2\", \"2\", \"2\", \"2\", \"2\", \"2\", \"1\", \"2\", \"2\", \"2\", \"2\", \"2\", \"2\", \"2\", \"2\", \"2\", \"2\", \"2\", \"1\", \"2\", \"2\", \"2\", \"2\", \"3\", \"2\", \"2\", \"3\", \"2\", \"2\", \"2\", \"2\", \"2\", \"2\", \"1\", \"1\", \"1\", \"1\", \"2\", \"2\", \"2\", \"1\", \"2\", \"2\", \"2\", \"2\", \"2\", \"2\", \"2\", \"2\", \"2\", \"3\", \"2\", \"1\", \"1\", \"1\", \"1\", \"2\", \"2\", \"2\", \"1\", \"1\", \"2\", \"3\", \"1\", \"3\", \"2\", \"2\", \"2\", \"2\", \"2\", \"3\", \"2\", \"3\", \"2\", \"2\", \"2\", \"3\", \"2\", \"1\", \"1\", \"3\", \"3\", \"2\", \"2\", \"2\", \"2\", \"2\", \"2\", \"1\", \"2\", \"2\", \"1\", \"3\", \"2\", \"2\", \"2\", \"2\", \"2\", \"2\", \"2\", \"2\", \"2\", \"2\", \"1\", \"2\", \"2\", \"2\", \"1\", \"2\", \"2\", \"2\", \"2\", \"2\", \"2\", \"2\", \"2\", \"2\", \"2\", \"2\", \"1\", \"2\", \"2\", \"2\", \"2\", \"2\", \"2\", \"2\", \"2\", \"2\", \"2\", \"2\", \"2\", \"2\", \"2\", \"2\", \"3\", \"2\", \"1\", \"3\", \"3\", \"3\", \"3\", \"1\", \"1\", \"1\", \"1\", \"2\", \"2\", \"1\", \"2\", \"1\", \"1\", \"1\", \"1\", \"3\", \"2\", \"2\", \"2\", \"2\", \"2\", \"2\", \"2\", \"2\", \"2\", \"2\", \"2\", \"2\", \"2\", \"2\", \"2\", \"3\", \"2\", \"2\", \"2\", \"2\", \"2\", \"3\", \"2\", \"2\", \"2\", \"2\", \"2\", \"2\", \"2\", \"2\", \"1\", \"2\", \"2\", \"3\", \"2\", \"2\", \"2\", \"2\", \"2\", \"2\", \"2\", \"2\", \"2\", \"2\", \"2\", \"2\", \"2\", \"2\", \"2\", \"2\", \"2\", \"3\", \"2\", \"2\", \"2\", \"2\", \"2\", \"2\", \"1\", \"2\", \"2\", \"2\", \"2\", \"2\", \"2\", \"2\", \"2\", \"2\", \"2\", \"1\", \"2\", \"3\", \"3\", \"2\", \"3\", \"2\", \"2\", \"2\", \"2\", \"2\", \"2\", \"2\", \"2\", \"2\", \"3\", \"2\", \"2\", \"2\", \"2\", \"2\", \"2\", \"2\", \"2\", \"2\", \"2\", \"2\", \"2\", \"2\", \"2\", \"2\", \"2\", \"1\", \"2\", \"2\", \"1\", \"2\", \"2\", \"2\", \"2\", \"2\", \"2\", \"1\", \"2\", \"2\", \"2\", \"1\", \"1\", \"2\", \"2\", \"1\", \"2\", \"1\", \"1\", \"1\", \"1\", \"2\", \"2\", \"3\", \"3\", \"3\", \"2\", \"2\", \"2\", \"2\", \"2\", \"2\", \"2\", \"3\", \"2\", \"2\", \"1\", \"2\", \"2\", \"1\", \"2\", \"2\", \"2\", \"2\", \"2\", \"1\", \"2\", \"2\", \"2\", \"2\", \"1\", \"2\", \"1\", \"2\", \"2\", \"2\", \"2\", \"2\", \"2\", \"2\", \"2\", \"2\", \"2\", \"2\", \"2\", \"2\", \"1\", \"2\", \"2\", \"2\", \"2\", \"3\", \"2\", \"2\", \"2\", \"2\", \"2\", \"2\", \"1\", \"2\", \"1\", \"2\", \"2\", \"2\", \"2\", \"2\", \"2\", \"2\", \"2\", \"2\", \"2\", \"2\", \"2\", \"1\", \"1\", \"2\", \"2\", \"2\", \"2\", \"2\", \"3\", \"2\", \"2\", \"1\", \"2\", \"2\", \"1\", \"3\", \"3\", \"1\", \"1\", \"2\", \"2\", \"2\", \"1\", \"1\", \"3\", \"3\", \"2\", \"1\", \"1\", \"2\", \"3\", \"2\", \"3\", \"2\", \"2\", \"2\", \"2\", \"2\", \"2\", \"2\", \"2\", \"2\", \"2\", \"2\", \"2\", \"2\", \"2\", \"2\", \"2\", \"2\", \"2\", \"2\", \"2\", \"3\", \"2\", \"3\", \"2\", \"3\", \"2\", \"2\", \"2\", \"2\", \"2\", \"2\", \"2\", \"2\", \"2\", \"2\", \"2\", \"2\", \"2\", \"2\", \"2\", \"2\", \"2\", \"2\", \"2\", \"2\", \"2\", \"2\", \"2\", \"2\", \"2\", \"2\", \"2\", \"2\", \"2\", \"2\", \"2\", \"2\", \"2\", \"2\", \"2\", \"2\", \"3\", \"2\", \"2\", \"2\", \"1\", \"2\", \"2\", \"2\", \"2\", \"2\", \"3\", \"2\", \"2\", \"2\", \"1\", \"2\", \"2\", \"2\", \"2\", \"2\", \"2\", \"2\", \"2\", \"2\", \"2\", \"2\", \"3\", \"1\", \"2\", \"2\", \"2\", \"2\", \"2\", \"2\", \"2\", \"2\", \"1\", \"1\", \"1\", \"2\", \"3\", \"2\", \"2\", \"2\", \"2\", \"2\", \"2\", \"2\", \"2\", \"2\", \"2\", \"1\", \"1\", \"2\", \"2\", \"2\", \"1\", \"1\", \"1\", \"2\", \"2\", \"3\", \"3\", \"3\", \"2\", \"2\", \"2\", \"1\", \"2\", \"2\", \"2\", \"2\", \"2\", \"2\", \"1\", \"2\", \"2\", \"2\", \"2\", \"2\", \"2\", \"1\", \"2\", \"1\", \"1\", \"2\", \"2\", \"2\", \"2\", \"2\", \"1\", \"2\", \"2\", \"2\", \"2\", \"2\", \"2\", \"2\", \"1\", \"3\", \"2\", \"2\", \"2\", \"2\", \"2\", \"2\", \"2\", \"3\", \"2\", \"2\", \"2\", \"1\", \"1\", \"1\", \"2\", \"2\", \"2\", \"2\", \"2\", \"2\", \"2\", \"2\", \"2\", \"2\", \"2\", \"3\", \"2\", \"3\", \"3\", \"2\", \"3\", \"1\", \"1\", \"3\", \"2\", \"2\", \"3\", \"2\", \"2\", \"2\", \"3\", \"2\", \"2\", \"2\", \"2\", \"3\", \"2\", \"2\", \"2\", \"2\", \"2\", \"1\", \"2\", \"2\", \"3\", \"1\", \"1\", \"2\", \"2\", \"3\", \"2\", \"2\", \"2\", \"1\", \"1\", \"1\", \"2\", \"2\", \"2\", \"2\", \"2\", \"2\", \"2\", \"2\", \"1\", \"1\", \"1\", \"1\", \"2\", \"1\", \"2\", \"2\", \"2\", \"2\", \"2\", \"2\", \"2\", \"2\", \"2\", \"2\", \"2\", \"2\", \"2\", \"2\", \"2\", \"2\", \"1\", \"3\", \"3\", \"2\", \"1\", \"2\", \"2\", \"3\", \"2\", \"2\", \"2\", \"2\", \"2\", \"2\", \"1\", \"2\", \"2\", \"2\", \"2\", \"2\", \"2\", \"2\", \"2\", \"2\", \"2\", \"2\", \"2\", \"2\", \"2\", \"1\", \"1\", \"2\", \"2\", \"2\", \"2\", \"2\", \"2\", \"2\", \"2\", \"2\", \"2\", \"2\", \"2\", \"2\", \"2\", \"2\", \"2\", \"2\", \"2\", \"2\", \"2\", \"2\", \"2\", \"2\", \"2\", \"2\", \"1\", \"2\", \"2\", \"2\", \"2\", \"2\", \"2\", \"2\", \"2\", \"1\", \"2\", \"2\", \"2\", \"2\", \"2\", \"2\", \"2\", \"2\", \"2\", \"2\", \"2\", \"1\", \"2\", \"2\", \"1\", \"2\", \"2\", \"2\", \"2\", \"1\", \"1\", \"2\", \"2\", \"1\", \"2\", \"2\", \"2\", \"2\", \"2\", \"2\", \"2\", \"2\", \"2\", \"3\", \"1\", \"1\", \"1\", \"1\", \"2\", \"2\", \"2\", \"3\", \"2\", \"2\", \"2\", \"2\", \"2\", \"2\", \"2\", \"2\", \"2\", \"2\", \"2\", \"2\", \"1\", \"3\", \"2\", \"2\", \"2\", \"2\", \"2\", \"2\", \"2\", \"2\", \"2\", \"1\", \"2\", \"2\", \"2\", \"2\", \"2\", \"3\", \"2\", \"2\", \"2\", \"1\", \"2\", \"1\", \"1\", \"2\", \"2\", \"2\", \"2\", \"1\", \"2\", \"2\", \"2\", \"2\", \"2\", \"2\", \"2\", \"2\", \"2\", \"2\", \"2\", \"2\", \"2\", \"2\", \"2\", \"2\", \"2\", \"2\", \"1\", \"2\", \"2\", \"2\", \"2\", \"2\", \"2\", \"1\", \"3\", \"1\", \"2\", \"2\", \"1\", \"1\", \"2\", \"2\", \"2\", \"2\", \"2\", \"2\", \"2\", \"1\", \"1\", \"1\", \"2\", \"1\", \"1\", \"2\", \"2\", \"2\", \"2\", \"3\", \"2\", \"3\", \"2\", \"1\", \"2\", \"2\", \"2\", \"2\", \"3\", \"2\", \"2\", \"2\", \"2\", \"1\", \"2\", \"2\", \"2\", \"1\", \"1\", \"2\", \"2\", \"1\", \"2\", \"2\", \"2\", \"2\", \"1\", \"2\", \"2\", \"2\", \"3\", \"2\", \"1\", \"2\", \"2\", \"2\", \"2\", \"2\", \"2\", \"2\", \"2\", \"2\", \"1\", \"2\", \"2\", \"2\", \"2\", \"2\", \"2\", \"2\", \"2\", \"2\", \"2\", \"2\", \"2\", \"3\", \"2\", \"3\", \"2\", \"2\", \"2\", \"2\", \"2\", \"2\", \"2\", \"2\", \"1\", \"2\", \"2\", \"2\", \"2\", \"2\", \"2\", \"2\", \"2\", \"1\", \"2\", \"2\", \"2\", \"2\", \"2\", \"2\", \"2\", \"2\", \"2\", \"1\", \"2\", \"2\", \"2\", \"3\", \"3\", \"2\", \"2\", \"2\", \"2\", \"2\", \"2\", \"2\", \"1\", \"1\", \"2\", \"2\", \"2\", \"2\", \"2\", \"3\", \"2\", \"1\", \"1\", \"2\", \"1\", \"2\", \"2\", \"2\", \"2\", \"2\", \"2\", \"2\", \"2\", \"2\", \"3\", \"2\", \"2\", \"2\", \"2\", \"1\", \"2\", \"2\", \"2\", \"2\", \"2\", \"2\", \"2\", \"2\", \"2\", \"3\", \"2\", \"2\", \"3\", \"2\", \"2\", \"2\", \"2\", \"2\", \"2\", \"2\", \"2\", \"2\", \"2\", \"2\", \"2\", \"2\", \"2\", \"1\", \"2\", \"2\", \"2\", \"3\", \"3\", \"2\", \"2\", \"2\", \"2\", \"2\", \"2\", \"2\", \"3\", \"2\", \"2\", \"2\", \"3\", \"2\", \"2\", \"2\", \"2\", \"2\", \"2\", \"2\", \"2\", \"1\", \"2\", \"2\", \"2\", \"2\", \"2\", \"2\", \"2\", \"2\", \"2\", \"2\", \"2\", \"2\", \"2\", \"2\", \"2\", \"3\", \"1\", \"3\", \"2\", \"2\", \"2\", \"2\", \"2\", \"2\", \"3\", \"2\", \"2\", \"2\", \"2\", \"2\", \"2\", \"1\", \"3\", \"2\", \"3\", \"2\", \"2\", \"2\", \"3\", \"2\", \"2\", \"2\", \"2\", \"2\", \"2\", \"2\", \"1\", \"2\", \"2\", \"1\", \"1\", \"2\", \"2\", \"2\", \"2\", \"3\", \"2\", \"2\", \"2\", \"2\", \"3\", \"3\", \"2\", \"2\", \"2\", \"2\", \"2\", \"2\", \"2\", \"2\", \"2\", \"2\", \"2\", \"2\", \"3\", \"2\", \"2\", \"2\", \"2\", \"2\", \"2\", \"3\", \"2\", \"2\", \"2\", \"2\", \"3\", \"2\", \"2\", \"2\", \"2\", \"1\", \"2\", \"2\", \"2\", \"2\", \"2\", \"2\", \"2\", \"2\", \"2\", \"2\", \"2\", \"2\", \"2\", \"1\", \"2\", \"1\", \"1\", \"1\", \"1\", \"1\", \"1\", \"1\", \"2\", \"2\", \"1\", \"3\", \"3\", \"2\", \"2\", \"2\", \"2\", \"2\", \"1\", \"2\", \"2\", \"2\", \"2\", \"2\", \"2\", \"2\", \"2\", \"2\", \"2\", \"2\", \"2\", \"2\", \"2\", \"2\", \"3\", \"2\", \"2\", \"2\", \"2\", \"2\", \"3\", \"2\", \"2\", \"2\", \"2\", \"2\", \"1\", \"2\", \"2\", \"2\", \"2\", \"2\", \"1\", \"2\", \"1\", \"2\", \"2\", \"3\", \"2\", \"1\", \"3\", \"2\", \"2\", \"2\", \"2\", \"2\", \"2\", \"2\", \"2\", \"2\", \"2\", \"2\", \"2\", \"2\", \"2\", \"1\", \"2\", \"2\", \"2\", \"2\", \"2\", \"2\", \"2\", \"2\", \"2\", \"2\", \"2\", \"2\", \"2\", \"2\", \"2\", \"1\", \"2\", \"2\", \"2\", \"2\", \"2\", \"2\", \"2\", \"2\", \"2\", \"2\", \"2\", \"1\", \"1\", \"1\", \"1\", \"1\", \"2\", \"1\", \"2\", \"2\", \"2\", \"2\", \"1\", \"1\", \"1\", \"1\", \"2\", \"1\", \"2\", \"1\", \"2\", \"2\", \"2\", \"2\", \"2\", \"2\", \"1\", \"2\", \"2\", \"2\", \"2\", \"2\", \"2\", \"2\", \"2\", \"2\", \"2\", \"1\", \"2\", \"2\", \"2\", \"2\", \"2\", \"2\", \"1\", \"2\", \"3\", \"2\", \"2\", \"2\", \"2\", \"2\", \"2\", \"2\", \"2\", \"2\", \"1\", \"2\", \"3\", \"2\", \"3\", \"2\", \"1\", \"3\", \"2\", \"2\", \"2\", \"1\", \"2\", \"2\", \"2\", \"3\", \"2\", \"2\", \"2\", \"2\", \"2\", \"1\", \"1\", \"1\", \"2\", \"3\", \"2\", \"2\", \"3\", \"2\", \"2\", \"2\", \"3\", \"2\", \"2\", \"2\", \"2\", \"1\", \"2\", \"2\", \"2\", \"2\", \"2\", \"2\", \"2\", \"2\", \"2\", \"2\", \"2\", \"2\", \"2\", \"2\", \"2\", \"2\", \"2\", \"2\", \"2\", \"2\", \"2\", \"2\", \"2\", \"2\", \"2\", \"2\", \"2\", \"2\", \"1\", \"1\", \"2\", \"1\", \"1\", \"2\", \"1\", \"2\", \"2\", \"2\", \"2\", \"2\", \"2\", \"1\", \"2\", \"1\", \"2\", \"2\", \"3\", \"2\", \"2\", \"2\", \"1\", \"1\", \"2\", \"2\", \"2\", \"2\", \"1\", \"2\", \"2\", \"2\", \"2\", \"2\", \"2\", \"2\", \"2\", \"2\", \"2\", \"2\", \"2\", \"2\", \"2\", \"2\", \"2\", \"3\", \"2\", \"2\", \"2\", \"2\", \"2\", \"2\", \"2\", \"1\", \"3\", \"2\", \"2\", \"2\", \"2\", \"2\", \"2\", \"2\", \"2\", \"2\", \"2\", \"2\", \"2\", \"2\", \"3\", \"3\", \"1\", \"2\", \"2\", \"2\", \"2\", \"1\", \"1\", \"2\", \"2\", \"2\", \"2\", \"2\", \"3\", \"2\", \"2\", \"2\", \"2\", \"2\", \"2\", \"2\", \"2\", \"2\", \"2\", \"2\", \"2\", \"2\", \"2\", \"2\", \"2\", \"2\", \"2\", \"2\", \"2\", \"2\", \"3\", \"2\", \"2\", \"2\", \"2\", \"2\", \"2\", \"2\", \"2\", \"2\", \"2\", \"2\", \"3\", \"1\", \"3\", \"2\", \"3\", \"2\", \"2\", \"2\", \"2\", \"2\", \"1\", \"1\", \"2\", \"2\", \"2\", \"1\", \"1\", \"1\", \"1\", \"1\", \"2\", \"2\", \"2\", \"2\", \"1\", \"2\", \"2\", \"2\", \"2\", \"2\", \"2\", \"2\", \"1\", \"2\", \"2\", \"2\", \"2\", \"2\", \"2\", \"2\", \"2\", \"2\", \"2\", \"2\", \"2\", \"2\", \"3\", \"2\", \"1\", \"2\", \"2\", \"2\", \"2\", \"2\", \"2\", \"2\", \"1\", \"2\", \"2\", \"2\", \"2\", \"2\", \"2\", \"2\", \"2\", \"2\", \"2\", \"2\", \"2\", \"2\", \"2\", \"2\", \"2\", \"2\", \"2\", \"2\", \"2\", \"2\", \"2\", \"2\", \"2\", \"2\", \"2\", \"3\", \"2\", \"3\", \"2\", \"2\", \"2\", \"2\", \"2\", \"3\", \"2\", \"2\", \"3\", \"1\", \"2\", \"1\", \"2\", \"2\", \"2\", \"2\", \"2\", \"2\", \"2\", \"3\", \"1\", \"2\", \"1\", \"2\", \"2\", \"2\", \"2\", \"2\", \"2\", \"1\", \"1\", \"1\", \"2\", \"1\", \"1\", \"2\", \"2\", \"1\", \"2\", \"2\", \"2\", \"2\", \"2\", \"2\", \"3\", \"2\", \"1\", \"2\", \"2\", \"2\", \"2\", \"2\", \"2\", \"2\", \"2\", \"2\", \"1\", \"2\", \"2\", \"2\", \"2\", \"2\", \"2\", \"2\", \"2\", \"2\", \"2\", \"2\", \"2\", \"2\", \"2\", \"2\", \"1\", \"2\", \"2\", \"1\", \"1\", \"2\", \"1\", \"2\", \"2\", \"2\", \"3\", \"2\", \"3\", \"2\", \"2\", \"2\", \"2\", \"2\", \"2\", \"1\", \"2\", \"2\", \"2\", \"2\", \"2\", \"2\", \"2\", \"2\", \"2\", \"2\", \"2\", \"2\", \"2\", \"2\", \"2\", \"2\", \"2\", \"2\", \"2\", \"2\", \"2\", \"1\", \"1\", \"2\", \"2\", \"2\", \"2\", \"1\", \"2\", \"2\", \"2\", \"2\", \"2\", \"2\", \"2\", \"1\", \"1\", \"1\", \"2\", \"2\", \"2\", \"2\", \"2\", \"2\", \"2\", \"2\", \"2\", \"2\", \"2\", \"2\", \"2\", \"2\", \"2\", \"1\", \"2\", \"2\", \"1\", \"1\", \"1\", \"2\", \"2\", \"3\", \"3\", \"1\", \"3\", \"3\", \"2\", \"2\", \"1\", \"2\", \"2\", \"2\", \"2\", \"2\", \"2\", \"2\", \"2\", \"2\", \"2\", \"2\", \"2\", \"2\", \"2\", \"2\", \"2\", \"2\", \"2\", \"2\", \"2\", \"2\", \"2\", \"2\", \"2\", \"2\", \"2\", \"2\", \"2\", \"2\", \"1\", \"2\", \"3\", \"2\", \"2\", \"2\", \"1\", \"3\", \"2\", \"1\", \"2\", \"2\", \"2\", \"2\", \"1\", \"2\", \"3\", \"2\", \"2\", \"2\", \"2\", \"2\", \"2\", \"2\", \"2\", \"2\", \"1\", \"1\", \"2\", \"2\", \"2\", \"2\", \"3\", \"3\", \"2\", \"2\", \"2\", \"2\", \"2\", \"2\", \"2\", \"2\", \"2\", \"2\", \"2\", \"2\", \"2\", \"3\", \"1\", \"1\", \"2\", \"2\", \"2\", \"2\", \"1\", \"2\", \"2\", \"2\", \"2\", \"2\", \"2\", \"2\", \"3\", \"2\", \"2\", \"2\", \"2\", \"1\", \"1\", \"2\", \"2\", \"2\", \"2\", \"2\", \"2\", \"2\", \"1\", \"2\", \"1\", \"1\", \"2\", \"2\", \"2\", \"3\", \"2\", \"2\", \"2\", \"2\", \"2\", \"2\", \"2\", \"2\", \"2\", \"2\", \"2\", \"2\", \"2\", \"3\", \"2\", \"2\", \"2\", \"2\", \"2\", \"2\", \"2\", \"2\", \"2\", \"2\", \"2\", \"2\", \"2\", \"2\", \"2\", \"2\", \"2\", \"2\", \"2\", \"2\", \"2\", \"3\", \"2\", \"2\", \"1\", \"2\", \"2\", \"2\", \"2\", \"2\", \"2\", \"1\", \"1\", \"2\", \"2\", \"2\", \"2\", \"2\", \"2\", \"2\", \"2\", \"2\", \"2\", \"1\", \"1\", \"2\", \"2\", \"2\", \"2\", \"2\", \"2\", \"2\", \"2\", \"2\", \"1\", \"2\", \"2\", \"2\", \"2\", \"3\", \"2\", \"2\", \"2\", \"3\", \"1\", \"1\", \"1\", \"2\", \"2\", \"2\", \"1\", \"2\", \"2\", \"2\", \"2\", \"2\", \"2\", \"1\", \"1\", \"1\", \"1\", \"2\", \"2\", \"2\", \"2\", \"2\", \"2\", \"2\", \"1\", \"1\", \"1\", \"2\", \"2\", \"2\", \"1\", \"1\", \"1\", \"3\", \"1\", \"1\", \"1\", \"1\", \"1\", \"1\", \"3\", \"2\", \"1\", \"1\", \"1\", \"2\", \"3\", \"2\", \"2\", \"2\", \"2\", \"2\", \"1\", \"1\", \"1\", \"2\", \"2\", \"2\", \"2\", \"3\", \"2\", \"2\", \"3\", \"2\", \"3\", \"3\", \"2\", \"1\", \"2\", \"2\", \"3\", \"2\", \"2\", \"2\", \"2\", \"2\", \"2\", \"2\", \"3\", \"3\", \"2\", \"2\", \"2\", \"3\", \"2\", \"2\", \"2\", \"2\", \"3\", \"2\", \"2\", \"2\", \"1\", \"2\", \"2\", \"2\", \"2\", \"2\", \"2\", \"2\", \"2\", \"1\", \"3\", \"2\", \"1\", \"1\", \"2\", \"2\", \"2\", \"2\", \"2\", \"2\", \"2\", \"2\", \"2\", \"2\", \"2\", \"2\", \"2\", \"1\", \"2\", \"2\", \"2\", \"2\", \"2\", \"2\", \"2\", \"1\", \"1\", \"1\", \"1\", \"1\", \"1\", \"2\", \"2\", \"2\", \"2\", \"2\", \"2\", \"1\", \"2\", \"1\", \"1\", \"2\", \"2\", \"2\", \"1\", \"1\", \"2\", \"2\", \"2\", \"2\", \"2\", \"2\", \"2\", \"2\", \"2\", \"2\", \"2\", \"2\", \"3\", \"2\", \"2\", \"2\", \"1\", \"3\", \"2\", \"2\", \"2\", \"2\", \"2\", \"1\", \"2\", \"1\", \"2\", \"2\", \"2\", \"2\", \"2\", \"2\", \"3\", \"2\", \"2\", \"2\", \"2\", \"2\", \"1\", \"2\", \"2\", \"2\", \"2\", \"2\", \"3\", \"2\", \"2\", \"2\", \"2\", \"2\", \"2\", \"2\", \"2\", \"2\", \"2\", \"1\", \"2\", \"2\", \"2\", \"2\", \"2\", \"3\", \"2\", \"2\", \"2\", \"2\", \"2\", \"2\", \"2\", \"3\", \"2\", \"2\", \"2\", \"2\", \"3\", \"1\", \"1\", \"1\", \"1\", \"1\", \"2\", \"2\", \"2\", \"2\", \"1\", \"2\", \"2\", \"1\", \"2\", \"2\", \"2\", \"2\", \"2\", \"2\", \"3\", \"2\", \"2\", \"2\", \"2\", \"2\", \"3\", \"2\", \"2\", \"2\", \"2\", \"3\", \"2\", \"2\", \"1\", \"2\", \"2\", \"2\", \"2\", \"2\", \"3\", \"2\", \"2\", \"2\", \"2\", \"2\", \"2\", \"2\", \"2\", \"2\", \"1\", \"2\", \"2\", \"2\", \"2\", \"1\", \"1\", \"1\", \"1\", \"2\", \"2\", \"2\", \"2\", \"2\", \"2\", \"2\", \"2\", \"2\", \"2\", \"2\", \"1\", \"2\", \"2\", \"2\", \"2\", \"2\", \"2\", \"3\", \"2\", \"1\", \"1\", \"2\", \"2\", \"2\", \"2\", \"2\", \"3\", \"3\", \"1\", \"1\", \"2\", \"2\", \"2\", \"2\", \"2\", \"2\", \"2\", \"1\", \"2\", \"2\", \"2\", \"2\", \"2\", \"2\", \"2\", \"2\", \"2\", \"2\", \"3\", \"3\", \"1\", \"3\", \"3\", \"2\", \"2\", \"3\", \"2\", \"3\", \"2\", \"2\", \"1\", \"1\", \"1\", \"1\", \"2\", \"2\", \"2\", \"2\", \"2\", \"2\", \"2\", \"2\", \"1\", \"2\", \"2\", \"2\", \"1\", \"1\", \"2\", \"3\", \"1\", \"2\", \"2\", \"2\", \"2\", \"2\", \"3\", \"2\", \"2\", \"2\", \"2\", \"2\", \"2\", \"2\", \"2\", \"3\", \"3\", \"2\", \"2\", \"1\", \"2\", \"2\", \"3\", \"2\", \"2\", \"2\", \"2\", \"2\", \"2\", \"2\", \"2\", \"2\", \"1\", \"2\", \"2\", \"2\", \"2\", \"2\", \"2\", \"1\", \"2\", \"1\", \"2\", \"2\", \"2\", \"2\", \"3\", \"2\", \"2\", \"2\", \"2\", \"2\", \"2\", \"2\", \"2\", \"2\", \"2\", \"2\", \"2\", \"2\", \"3\", \"1\", \"2\", \"2\", \"2\", \"2\", \"2\", \"2\", \"2\", \"2\", \"2\", \"2\", \"2\", \"2\", \"2\", \"2\", \"3\", \"1\", \"3\", \"2\", \"1\", \"3\", \"2\", \"2\", \"2\", \"1\", \"2\", \"1\", \"2\", \"3\", \"3\", \"2\", \"2\", \"1\", \"1\", \"1\", \"2\", \"2\", \"1\", \"1\", \"1\", \"2\", \"3\", \"3\", \"2\", \"2\", \"2\", \"2\", \"2\", \"2\", \"2\", \"2\", \"3\", \"2\", \"1\", \"2\", \"2\", \"2\", \"2\", \"2\", \"2\", \"3\", \"2\", \"2\", \"2\", \"2\", \"2\", \"2\", \"1\", \"2\", \"2\", \"2\", \"2\", \"2\", \"2\", \"2\", \"2\", \"2\", \"2\", \"2\", \"1\", \"2\", \"1\", \"2\", \"3\", \"2\", \"2\", \"2\", \"1\", \"2\", \"2\", \"2\", \"1\", \"2\", \"2\", \"2\", \"1\", \"2\", \"2\", \"2\", \"2\", \"2\", \"2\", \"2\", \"2\", \"2\", \"1\", \"2\", \"2\", \"2\", \"3\", \"2\", \"2\", \"2\", \"2\", \"2\", \"2\", \"3\", \"2\", \"2\", \"2\", \"2\", \"3\", \"2\", \"1\", \"2\", \"2\", \"2\", \"1\", \"2\", \"2\", \"2\", \"2\", \"2\", \"2\", \"1\", \"1\", \"1\", \"1\", \"2\", \"2\", \"2\", \"2\", \"1\", \"2\", \"1\", \"2\", \"2\", \"2\", \"2\", \"3\", \"2\", \"2\", \"2\", \"3\", \"2\", \"2\", \"2\", \"2\", \"2\", \"2\", \"2\", \"2\", \"2\", \"2\", \"2\", \"2\", \"3\", \"2\", \"2\", \"2\", \"2\", \"2\", \"2\", \"1\", \"1\", \"2\", \"2\", \"2\", \"1\", \"2\", \"2\", \"3\", \"2\", \"1\", \"2\", \"2\", \"2\", \"2\", \"2\", \"2\", \"2\", \"2\", \"2\", \"2\", \"2\", \"1\", \"2\", \"2\", \"2\", \"1\", \"1\", \"2\", \"3\", \"2\", \"1\", \"2\", \"2\", \"2\", \"2\", \"3\", \"2\", \"3\", \"3\", \"3\", \"3\", \"2\", \"3\", \"2\", \"2\", \"2\", \"2\", \"2\", \"1\", \"2\", \"2\", \"2\", \"2\", \"2\", \"2\", \"2\", \"2\", \"2\", \"2\", \"2\", \"2\", \"2\", \"2\", \"2\", \"2\", \"2\", \"1\", \"2\", \"2\", \"2\", \"1\", \"2\", \"1\", \"1\", \"1\", \"1\", \"2\", \"2\", \"2\", \"1\", \"2\", \"2\", \"2\", \"3\", \"1\", \"1\", \"1\", \"3\", \"2\", \"2\", \"2\", \"2\", \"2\", \"2\", \"2\", \"3\", \"2\", \"2\", \"2\", \"2\", \"2\", \"2\", \"2\", \"2\", \"2\", \"3\", \"2\", \"1\", \"2\", \"2\", \"3\", \"1\", \"2\", \"2\", \"2\", \"2\", \"2\", \"2\", \"2\", \"3\", \"3\", \"2\", \"2\", \"2\", \"2\", \"1\", \"2\", \"2\", \"1\", \"2\", \"2\", \"3\", \"1\", \"2\", \"2\", \"2\", \"2\", \"2\", \"2\", \"2\", \"3\", \"2\", \"2\", \"2\", \"2\", \"2\", \"2\", \"2\", \"2\", \"2\", \"2\", \"2\", \"1\", \"2\", \"3\", \"2\", \"1\", \"2\", \"2\", \"2\", \"2\", \"2\", \"2\", \"2\", \"2\", \"2\", \"2\", \"2\", \"2\", \"1\", \"2\", \"2\", \"2\", \"2\", \"2\", \"2\", \"2\", \"1\", \"1\", \"2\", \"2\", \"2\", \"2\", \"1\", \"1\", \"1\", \"2\", \"2\", \"2\", \"2\", \"1\", \"2\", \"3\", \"2\", \"2\", \"1\", \"2\", \"2\", \"2\", \"2\", \"2\", \"2\", \"2\", \"2\", \"2\", \"2\", \"2\", \"2\", \"2\", \"2\", \"2\", \"2\", \"2\", \"2\", \"2\", \"2\", \"2\", \"2\", \"1\", \"1\", \"2\", \"1\", \"2\", \"2\", \"2\", \"2\", \"3\", \"2\", \"2\", \"2\", \"2\", \"2\", \"2\", \"2\", \"2\", \"2\", \"2\", \"2\", \"2\", \"1\", \"3\", \"3\", \"2\", \"2\", \"1\", \"2\", \"1\", \"2\", \"3\", \"2\", \"3\", \"2\", \"1\", \"2\", \"2\", \"2\", \"2\", \"2\", \"3\", \"2\", \"2\", \"2\", \"3\", \"2\", \"2\", \"2\", \"2\", \"1\", \"2\", \"3\", \"2\", \"2\", \"2\", \"2\", \"2\", \"2\", \"2\", \"2\", \"2\", \"1\", \"2\", \"2\", \"1\", \"2\", \"2\", \"2\", \"2\", \"2\", \"2\", \"1\", \"2\", \"2\", \"2\", \"1\", \"2\", \"2\", \"2\", \"2\", \"2\", \"1\", \"2\", \"3\", \"3\", \"2\", \"3\", \"2\", \"2\", \"2\", \"2\", \"2\", \"2\", \"1\", \"2\", \"2\", \"2\", \"3\", \"2\", \"2\", \"2\", \"2\", \"2\", \"2\", \"2\", \"2\", \"2\", \"2\", \"2\", \"2\", \"2\", \"2\", \"2\", \"2\", \"3\", \"2\", \"2\", \"2\", \"2\", \"2\", \"2\", \"3\", \"2\", \"2\", \"2\", \"3\", \"3\", \"2\", \"2\", \"2\", \"2\", \"2\", \"3\", \"2\", \"2\", \"2\", \"2\", \"2\", \"2\", \"2\", \"2\", \"1\", \"2\", \"2\", \"2\", \"1\", \"3\", \"1\", \"2\", \"2\", \"2\", \"2\", \"2\", \"2\", \"1\", \"2\", \"2\", \"2\", \"2\", \"2\", \"2\", \"2\", \"2\", \"2\", \"2\", \"2\", \"2\", \"2\", \"3\", \"3\", \"3\", \"2\", \"3\", \"1\", \"2\", \"2\", \"1\", \"2\", \"2\", \"2\", \"2\", \"3\", \"2\", \"2\", \"2\", \"2\", \"2\", \"2\", \"2\", \"2\", \"2\", \"2\", \"2\", \"2\", \"2\", \"3\", \"1\", \"2\", \"3\", \"3\", \"1\", \"1\", \"1\", \"2\", \"2\", \"2\", \"2\", \"2\", \"2\", \"2\", \"2\", \"2\", \"2\", \"2\", \"2\", \"1\", \"2\", \"2\", \"2\", \"3\", \"3\", \"1\", \"2\", \"2\", \"2\", \"2\", \"3\", \"2\", \"1\", \"2\", \"2\", \"2\", \"2\", \"2\", \"2\", \"2\", \"1\", \"2\", \"2\", \"2\", \"2\", \"2\", \"3\", \"2\", \"1\", \"2\", \"2\", \"2\", \"2\", \"2\", \"2\", \"2\", \"3\", \"1\", \"2\", \"2\", \"2\", \"2\", \"2\", \"2\", \"2\", \"2\", \"1\", \"2\", \"3\", \"2\", \"3\", \"2\", \"2\", \"2\", \"2\", \"2\", \"2\", \"2\", \"2\", \"3\", \"2\", \"2\", \"2\", \"2\", \"2\", \"2\", \"2\", \"2\", \"2\", \"1\", \"2\", \"1\", \"3\", \"3\", \"2\", \"2\", \"2\", \"2\", \"3\", \"2\", \"2\", \"1\", \"2\", \"2\", \"2\", \"2\", \"2\", \"2\", \"2\", \"2\", \"1\", \"2\", \"1\", \"2\", \"2\", \"2\", \"2\", \"2\", \"2\", \"2\", \"2\", \"2\", \"2\", \"2\", \"2\", \"2\", \"2\", \"3\", \"2\", \"2\", \"3\", \"2\", \"2\", \"2\", \"2\", \"2\", \"2\", \"2\", \"2\", \"3\", \"2\", \"1\", \"2\", \"2\", \"2\", \"1\", \"2\", \"2\", \"2\", \"2\", \"1\", \"2\", \"2\", \"2\", \"2\", \"3\", \"2\", \"2\", \"2\", \"2\", \"2\", \"2\", \"2\", \"2\", \"2\", \"2\", \"2\", \"2\", \"3\", \"2\", \"2\", \"2\", \"2\", \"2\", \"2\", \"2\", \"2\", \"2\", \"2\", \"2\", \"2\", \"2\", \"2\", \"2\", \"2\", \"2\", \"3\", \"2\", \"1\", \"2\", \"2\", \"2\", \"2\", \"2\", \"2\", \"2\", \"1\", \"1\", \"2\", \"1\", \"2\", \"3\", \"2\", \"2\", \"2\", \"2\", \"2\", \"1\", \"2\", \"2\", \"2\", \"2\", \"2\", \"2\", \"2\", \"3\", \"1\", \"2\", \"2\", \"2\", \"2\", \"2\", \"2\", \"2\", \"2\", \"2\", \"3\", \"2\", \"2\", \"1\", \"2\", \"2\", \"2\", \"2\", \"2\", \"3\", \"2\", \"3\", \"3\", \"1\", \"1\", \"2\", \"2\", \"2\", \"2\", \"2\", \"2\", \"2\", \"2\", \"2\", \"2\", \"2\", \"2\", \"2\", \"3\", \"2\", \"2\", \"2\", \"2\", \"2\", \"2\", \"2\", \"2\", \"2\", \"2\", \"2\", \"2\", \"2\", \"2\", \"2\", \"2\", \"2\", \"2\", \"2\", \"2\", \"2\", \"1\", \"2\", \"2\", \"2\", \"2\", \"2\", \"2\", \"2\", \"2\", \"2\", \"3\", \"2\", \"2\", \"1\", \"2\", \"2\", \"2\", \"2\", \"2\", \"1\", \"2\", \"2\", \"1\", \"2\", \"2\", \"2\", \"1\", \"1\", \"3\", \"2\", \"2\", \"2\", \"1\", \"1\", \"2\", \"2\", \"2\", \"2\", \"2\", \"2\", \"2\", \"2\", \"1\", \"2\", \"1\", \"2\", \"1\", \"2\", \"2\", \"2\", \"2\", \"1\", \"2\", \"2\", \"1\", \"2\", \"1\", \"1\", \"2\", \"1\", \"2\", \"2\", \"2\", \"1\", \"3\", \"3\", \"2\", \"2\", \"2\", \"2\", \"2\", \"2\", \"2\", \"2\", \"1\", \"2\", \"2\", \"2\", \"2\", \"2\", \"2\", \"2\", \"2\", \"2\", \"2\", \"1\", \"2\", \"2\", \"2\", \"2\", \"1\", \"2\", \"2\", \"2\", \"2\", \"3\", \"2\", \"2\", \"2\", \"2\", \"3\", \"2\", \"2\", \"2\", \"3\", \"2\", \"2\", \"2\", \"2\", \"2\", \"2\", \"2\", \"2\", \"1\", \"2\", \"2\", \"2\", \"2\", \"2\", \"2\", \"2\", \"1\", \"3\", \"2\", \"1\", \"2\", \"2\", \"1\", \"2\", \"2\", \"2\", \"2\", \"1\", \"2\", \"2\", \"2\", \"2\", \"2\", \"2\", \"2\", \"1\", \"1\", \"1\", \"2\", \"2\", \"2\", \"2\", \"2\", \"2\", \"2\", \"2\", \"2\", \"2\", \"2\", \"2\", \"2\", \"2\", \"2\", \"2\", \"2\", \"2\", \"2\", \"2\", \"2\", \"2\", \"2\", \"2\", \"2\", \"2\", \"2\", \"2\", \"2\", \"2\", \"2\", \"2\", \"2\", \"2\", \"2\", \"2\", \"2\", \"2\", \"2\", \"2\", \"1\", \"2\", \"2\", \"2\", \"2\", \"2\", \"2\", \"2\", \"2\", \"3\", \"3\", \"1\", \"3\", \"2\", \"2\", \"2\", \"2\", \"2\", \"2\", \"2\", \"1\", \"2\", \"2\", \"2\", \"2\", \"2\", \"3\", \"2\", \"2\", \"2\", \"2\", \"3\", \"3\", \"2\", \"2\", \"2\", \"2\", \"2\", \"3\", \"2\", \"2\", \"1\", \"2\", \"2\", \"1\", \"2\", \"3\", \"1\", \"2\", \"2\", \"2\", \"2\", \"2\", \"2\", \"2\", \"2\", \"3\", \"2\", \"2\", \"1\", \"1\", \"2\", \"2\", \"2\", \"2\", \"2\", \"2\", \"2\", \"2\", \"2\", \"2\", \"2\", \"2\", \"1\", \"2\", \"3\", \"2\", \"1\", \"2\", \"2\", \"2\", \"2\", \"2\", \"2\", \"2\", \"3\", \"2\", \"2\", \"2\", \"2\", \"2\", \"2\", \"2\", \"2\", \"2\", \"2\", \"2\", \"2\", \"2\", \"3\", \"1\", \"2\", \"2\", \"2\", \"2\", \"2\", \"2\", \"2\", \"2\", \"2\", \"2\", \"3\", \"2\", \"2\", \"2\", \"2\", \"2\", \"3\", \"1\", \"2\", \"2\", \"3\", \"3\", \"2\", \"2\", \"2\", \"3\", \"2\", \"1\", \"2\", \"2\", \"2\", \"2\", \"2\", \"3\", \"1\", \"1\", \"2\", \"2\", \"1\", \"2\", \"3\", \"2\", \"2\", \"2\", \"2\", \"3\", \"2\", \"2\", \"2\", \"2\", \"2\", \"1\", \"2\", \"2\", \"2\", \"2\", \"2\", \"3\", \"2\", \"2\", \"3\", \"3\", \"2\", \"3\", \"2\", \"2\", \"2\", \"2\", \"2\", \"2\", \"2\", \"1\", \"2\", \"2\", \"2\", \"3\", \"2\", \"3\", \"2\", \"1\", \"2\", \"2\", \"2\", \"2\", \"2\", \"2\", \"2\", \"2\", \"3\", \"2\", \"2\", \"2\", \"2\", \"3\", \"2\", \"2\", \"2\", \"1\", \"2\", \"3\", \"2\", \"2\", \"2\", \"2\", \"2\", \"2\", \"2\", \"2\", \"2\", \"2\", \"2\", \"2\", \"2\", \"2\", \"2\", \"2\", \"2\", \"2\", \"2\", \"2\", \"2\", \"2\", \"2\", \"2\", \"2\", \"2\", \"2\", \"2\", \"1\", \"2\", \"2\", \"2\", \"2\", \"2\", \"2\", \"2\", \"2\", \"2\", \"2\", \"2\", \"2\", \"2\", \"2\", \"2\", \"2\", \"2\", \"2\", \"3\", \"2\", \"1\", \"2\", \"2\", \"1\", \"2\", \"1\", \"2\", \"1\", \"2\", \"2\", \"2\", \"2\", \"2\", \"3\", \"2\", \"2\", \"2\", \"2\", \"2\", \"2\", \"2\", \"2\", \"1\", \"2\", \"2\", \"2\", \"2\", \"2\", \"2\", \"2\", \"2\", \"1\", \"2\", \"3\", \"2\", \"2\", \"2\", \"3\", \"2\", \"2\", \"2\", \"2\", \"3\", \"2\", \"2\", \"2\", \"2\", \"1\", \"3\", \"2\", \"2\", \"2\", \"2\", \"2\", \"1\", \"1\", \"2\", \"2\", \"2\", \"2\", \"3\", \"3\", \"2\", \"3\", \"3\", \"2\", \"2\", \"2\", \"2\", \"2\", \"2\", \"2\", \"2\", \"3\", \"2\", \"2\", \"1\", \"2\", \"2\", \"2\", \"2\", \"2\", \"2\", \"3\", \"2\", \"1\", \"1\", \"2\", \"2\", \"2\", \"2\", \"3\", \"2\", \"3\", \"2\", \"2\", \"2\", \"2\", \"2\", \"2\", \"2\", \"2\", \"2\", \"2\", \"2\", \"3\", \"3\", \"2\", \"2\", \"2\", \"2\", \"2\", \"2\", \"2\", \"2\", \"3\", \"3\", \"2\", \"2\", \"2\", \"1\", \"1\", \"2\", \"2\", \"2\", \"2\", \"1\", \"1\", \"2\", \"3\", \"2\", \"2\", \"2\", \"2\", \"2\", \"2\", \"3\", \"2\", \"2\", \"2\", \"2\", \"2\", \"2\", \"2\", \"1\", \"2\", \"3\", \"2\", \"1\", \"2\", \"3\", \"2\", \"2\", \"2\", \"2\", \"2\", \"1\", \"1\", \"2\", \"1\", \"2\", \"1\", \"2\", \"2\", \"2\", \"2\", \"2\", \"2\", \"1\", \"2\", \"2\", \"2\", \"2\", \"2\", \"2\", \"2\", \"1\", \"2\", \"2\", \"2\", \"2\", \"2\", \"2\", \"2\", \"1\", \"2\", \"2\", \"2\", \"2\", \"2\", \"2\", \"1\", \"2\", \"2\", \"2\", \"2\", \"3\", \"3\", \"2\", \"2\", \"2\", \"2\", \"2\", \"3\", \"2\", \"2\", \"2\", \"2\", \"2\", \"2\", \"2\", \"2\", \"2\", \"2\", \"2\", \"1\", \"2\", \"2\", \"1\", \"2\", \"3\", \"2\", \"2\", \"3\", \"2\", \"2\", \"3\", \"2\", \"2\", \"2\", \"2\", \"3\", \"2\", \"2\", \"2\", \"2\", \"2\", \"2\", \"1\", \"2\", \"2\", \"2\", \"2\", \"2\", \"2\", \"2\", \"2\", \"2\", \"2\", \"2\", \"2\", \"2\", \"2\", \"2\", \"2\", \"2\", \"3\", \"3\", \"3\", \"2\", \"3\", \"3\", \"2\", \"2\", \"2\", \"2\", \"2\", \"2\", \"2\", \"2\", \"2\", \"2\", \"2\", \"2\", \"2\", \"2\", \"2\", \"2\", \"3\", \"2\", \"2\", \"2\", \"2\", \"1\", \"1\", \"2\", \"2\", \"1\", \"2\", \"2\", \"2\", \"2\", \"2\", \"2\", \"2\", \"2\", \"2\", \"2\", \"2\", \"2\", \"2\", \"2\", \"2\", \"2\", \"2\", \"2\", \"1\", \"3\", \"1\", \"2\", \"2\", \"2\", \"1\", \"2\", \"3\", \"2\", \"2\", \"2\", \"2\", \"2\", \"2\", \"2\", \"2\", \"2\", \"1\", \"1\", \"2\", \"2\", \"3\", \"2\", \"2\", \"2\", \"2\", \"3\", \"2\", \"2\", \"2\", \"2\", \"2\", \"2\", \"2\", \"2\", \"2\", \"2\", \"2\", \"3\", \"2\", \"2\", \"2\", \"2\", \"2\", \"3\", \"1\", \"2\", \"2\", \"2\", \"2\", \"3\", \"2\", \"2\", \"2\", \"3\", \"2\", \"3\", \"2\", \"2\", \"2\", \"3\", \"2\", \"2\", \"2\", \"2\", \"2\", \"2\", \"1\", \"2\", \"2\", \"1\", \"2\", \"2\", \"2\", \"2\", \"2\", \"2\", \"2\", \"1\", \"2\", \"1\", \"2\", \"2\", \"2\", \"2\", \"2\", \"2\", \"2\", \"2\", \"2\", \"1\", \"2\", \"2\", \"3\", \"2\", \"2\", \"3\", \"2\", \"2\", \"2\", \"2\", \"2\", \"2\", \"2\", \"2\", \"2\", \"2\", \"1\", \"2\", \"2\", \"2\", \"2\", \"2\", \"2\", \"2\", \"2\", \"2\", \"1\", \"1\", \"2\", \"2\", \"2\", \"2\", \"2\", \"3\", \"2\", \"2\", \"2\", \"2\", \"2\", \"1\", \"2\", \"1\", \"1\", \"2\", \"1\", \"2\", \"2\", \"1\", \"2\", \"2\", \"2\", \"2\", \"2\", \"2\", \"2\", \"2\", \"1\", \"2\", \"1\", \"2\", \"3\", \"2\", \"2\", \"2\", \"1\", \"2\", \"2\", \"2\", \"2\", \"1\", \"2\", \"2\", \"3\", \"2\", \"2\", \"2\", \"2\", \"2\", \"3\", \"2\", \"2\", \"2\", \"2\", \"3\", \"2\", \"2\", \"2\", \"3\", \"2\", \"2\", \"2\", \"2\", \"2\", \"2\", \"2\", \"2\", \"2\", \"1\", \"2\", \"1\", \"2\", \"2\", \"3\", \"2\", \"3\", \"2\", \"2\", \"2\", \"2\", \"2\", \"2\", \"2\", \"2\", \"2\", \"2\", \"1\", \"2\", \"3\", \"2\", \"2\", \"2\", \"2\", \"2\", \"2\", \"2\", \"3\", \"2\", \"2\", \"2\", \"2\", \"2\", \"3\", \"2\", \"2\", \"2\", \"2\", \"2\", \"2\", \"2\", \"2\", \"2\", \"2\", \"2\", \"2\", \"2\", \"2\", \"1\", \"2\", \"1\", \"2\", \"1\", \"2\", \"2\", \"2\", \"1\", \"2\", \"2\", \"1\", \"3\", \"3\", \"2\", \"2\", \"2\", \"3\", \"2\", \"2\", \"2\", \"2\", \"2\", \"2\", \"2\", \"2\", \"2\", \"2\", \"2\", \"2\", \"2\", \"1\", \"2\", \"2\", \"2\", \"2\", \"3\", \"2\", \"2\", \"2\", \"2\", \"2\", \"2\", \"2\", \"2\", \"2\", \"2\", \"3\", \"2\", \"1\", \"2\", \"2\", \"2\", \"2\", \"2\", \"2\", \"2\", \"2\", \"2\", \"1\", \"2\", \"2\", \"2\", \"2\", \"2\", \"2\", \"1\", \"2\", \"2\", \"2\", \"2\", \"2\", \"2\", \"2\", \"2\", \"2\", \"2\", \"2\", \"2\", \"2\", \"2\", \"2\", \"2\", \"2\", \"2\", \"2\", \"2\", \"2\", \"2\", \"2\", \"2\", \"1\", \"3\", \"2\", \"2\", \"2\", \"2\", \"2\", \"2\", \"2\", \"2\", \"2\", \"2\", \"2\", \"2\", \"1\", \"2\", \"2\", \"1\", \"2\", \"2\", \"2\", \"2\", \"2\", \"2\", \"2\", \"2\", \"2\", \"2\", \"2\", \"2\", \"2\", \"2\", \"2\", \"2\", \"2\", \"2\", \"2\", \"2\", \"2\", \"2\", \"3\", \"1\", \"2\", \"2\", \"2\", \"2\", \"2\", \"1\", \"3\", \"2\", \"2\", \"2\", \"2\", \"2\", \"2\", \"2\", \"2\", \"2\", \"2\", \"1\", \"2\", \"2\", \"2\", \"2\", \"2\", \"2\", \"2\", \"2\", \"2\", \"2\", \"3\", \"2\", \"2\", \"2\", \"2\", \"2\", \"2\", \"3\", \"2\", \"2\", \"2\", \"3\", \"2\", \"1\", \"2\", \"3\", \"2\", \"1\", \"2\", \"2\", \"2\", \"3\", \"3\", \"2\", \"2\", \"2\", \"2\", \"2\", \"2\", \"2\", \"2\", \"2\", \"2\", \"3\", \"3\", \"2\", \"2\", \"2\", \"2\", \"2\", \"3\", \"2\", \"1\", \"2\", \"2\", \"2\", \"2\", \"2\", \"2\", \"2\", \"2\", \"1\", \"1\", \"2\", \"2\", \"2\", \"2\", \"2\", \"3\", \"2\", \"2\", \"2\", \"1\", \"1\", \"3\", \"2\", \"2\", \"2\", \"3\", \"3\", \"3\", \"1\", \"2\", \"2\", \"2\", \"2\", \"2\", \"2\", \"2\", \"2\", \"3\", \"2\", \"2\", \"2\", \"2\", \"2\", \"1\", \"2\", \"3\", \"2\", \"2\", \"2\", \"2\", \"2\", \"2\", \"2\", \"2\", \"2\", \"2\", \"2\", \"2\", \"2\", \"2\", \"2\", \"2\", \"2\", \"2\", \"3\", \"3\", \"2\", \"1\", \"2\", \"2\", \"2\", \"2\", \"2\", \"2\", \"2\", \"2\", \"2\", \"2\", \"2\", \"2\", \"2\", \"3\", \"3\", \"2\", \"2\", \"1\", \"2\", \"2\", \"2\", \"2\", \"2\", \"1\", \"2\", \"1\", \"2\", \"2\", \"2\", \"2\", \"1\", \"2\", \"2\", \"2\", \"2\", \"2\", \"1\", \"2\", \"2\", \"2\", \"1\", \"2\", \"2\", \"1\", \"2\", \"1\", \"2\", \"2\", \"2\", \"3\", \"2\", \"2\", \"2\", \"3\", \"2\", \"1\", \"3\", \"2\", \"2\", \"2\", \"3\", \"2\", \"2\", \"3\", \"2\", \"2\", \"1\", \"2\", \"2\", \"3\", \"2\", \"2\", \"2\", \"2\", \"2\", \"2\", \"3\", \"1\", \"2\", \"2\", \"2\", \"3\", \"2\", \"2\", \"2\", \"2\", \"2\", \"2\", \"1\", \"2\", \"2\", \"2\", \"2\", \"2\", \"2\", \"2\", \"1\", \"2\", \"2\", \"2\", \"3\", \"1\", \"1\", \"2\", \"2\", \"2\", \"2\", \"2\", \"2\", \"2\", \"2\", \"2\", \"2\", \"2\", \"2\", \"2\", \"2\", \"2\", \"1\", \"2\", \"1\", \"2\", \"2\", \"2\", \"1\", \"2\", \"2\", \"2\", \"2\", \"2\", \"2\", \"2\", \"2\", \"2\", \"2\", \"2\", \"1\", \"1\", \"2\", \"3\", \"2\", \"2\", \"1\", \"2\", \"2\", \"1\", \"2\", \"1\", \"2\", \"2\", \"2\", \"2\", \"2\", \"2\", \"2\", \"2\", \"2\", \"2\", \"1\", \"2\", \"2\", \"2\", \"2\", \"1\", \"2\", \"2\", \"2\", \"2\", \"3\", \"2\", \"1\", \"1\", \"3\", \"1\", \"2\", \"3\", \"3\", \"2\", \"3\", \"2\", \"3\", \"3\", \"1\", \"2\", \"3\", \"2\", \"2\", \"1\", \"2\", \"2\", \"2\", \"2\", \"2\", \"2\", \"1\", \"2\", \"3\", \"2\", \"3\", \"3\", \"2\", \"2\", \"2\", \"2\", \"2\", \"1\", \"2\", \"2\", \"2\", \"2\", \"2\", \"2\", \"2\", \"2\", \"1\", \"2\", \"2\", \"2\", \"2\", \"2\", \"3\", \"3\", \"2\", \"2\", \"2\", \"2\", \"2\", \"3\", \"1\", \"2\", \"2\", \"2\", \"2\", \"2\", \"2\", \"2\", \"2\", \"2\", \"1\", \"2\", \"3\", \"2\", \"2\", \"1\", \"2\", \"2\", \"3\", \"2\", \"2\", \"2\", \"2\", \"2\", \"2\", \"2\", \"2\", \"2\", \"2\", \"2\", \"1\", \"2\", \"3\", \"3\", \"1\", \"2\", \"2\", \"2\", \"2\", \"2\", \"2\", \"2\", \"2\", \"2\", \"2\", \"2\", \"2\", \"2\", \"2\", \"2\", \"2\", \"2\", \"2\", \"2\", \"2\", \"2\", \"2\", \"2\", \"2\", \"2\", \"2\", \"2\", \"2\", \"2\", \"2\", \"3\", \"2\", \"2\", \"3\", \"2\", \"1\", \"2\", \"2\", \"2\", \"3\", \"3\", \"2\", \"2\", \"3\", \"2\", \"1\", \"3\", \"2\", \"2\", \"2\", \"3\", \"2\", \"2\", \"2\", \"2\", \"1\", \"2\", \"2\", \"2\", \"2\", \"2\", \"2\", \"2\", \"1\", \"2\", \"2\", \"2\", \"2\", \"2\", \"2\", \"2\", \"2\", \"2\", \"3\", \"2\", \"2\", \"2\", \"2\", \"3\", \"3\", \"2\", \"2\", \"2\", \"3\", \"2\", \"2\", \"2\", \"2\", \"2\", \"2\", \"2\", \"2\", \"2\", \"2\", \"2\", \"2\", \"2\", \"2\", \"2\", \"2\", \"2\", \"2\", \"2\", \"2\", \"1\", \"2\", \"2\", \"1\", \"2\", \"2\", \"2\", \"2\", \"2\", \"2\", \"2\", \"2\", \"3\", \"2\", \"2\", \"2\", \"2\", \"2\", \"2\", \"2\", \"2\", \"2\", \"2\", \"2\", \"3\", \"2\", \"2\", \"3\", \"2\", \"2\", \"2\", \"2\", \"1\", \"2\", \"1\", \"2\", \"2\", \"2\", \"2\", \"2\", \"2\", \"2\", \"2\", \"2\", \"2\", \"2\", \"2\", \"2\", \"2\", \"2\", \"2\", \"2\", \"2\", \"2\", \"2\", \"2\", \"2\", \"2\", \"3\", \"2\", \"2\", \"2\", \"3\", \"2\", \"3\", \"2\", \"3\", \"2\", \"1\", \"2\", \"2\", \"2\", \"2\", \"2\", \"2\", \"2\", \"2\", \"2\", \"2\", \"3\", \"2\", \"2\", \"2\", \"2\", \"2\", \"3\", \"2\", \"2\", \"2\", \"3\", \"2\", \"2\", \"2\", \"1\", \"1\", \"3\", \"1\", \"2\", \"2\", \"2\", \"2\", \"2\", \"2\", \"2\", \"1\", \"2\", \"3\", \"2\", \"1\", \"2\", \"2\", \"2\", \"2\", \"2\", \"2\", \"2\", \"2\", \"2\", \"2\", \"2\", \"2\", \"2\", \"2\", \"2\", \"1\", \"1\", \"2\", \"3\", \"2\", \"2\", \"2\", \"2\", \"3\", \"2\", \"2\", \"2\", \"2\", \"3\", \"1\", \"2\", \"2\", \"2\", \"2\", \"2\", \"2\", \"2\", \"3\", \"2\", \"2\", \"3\", \"3\", \"3\", \"2\", \"2\", \"2\", \"2\", \"2\", \"1\", \"2\", \"2\", \"2\", \"2\", \"2\", \"1\", \"3\", \"2\", \"2\", \"2\", \"2\", \"2\", \"3\", \"1\", \"2\", \"2\", \"2\", \"2\", \"2\", \"2\", \"2\", \"2\", \"2\", \"2\", \"3\", \"1\", \"2\", \"3\", \"2\", \"3\", \"2\", \"2\", \"2\", \"2\", \"2\", \"2\", \"2\", \"2\", \"2\", \"2\", \"2\", \"2\", \"1\", \"3\", \"2\", \"2\", \"2\", \"2\", \"2\", \"2\", \"2\", \"2\", \"3\", \"2\", \"3\", \"2\", \"2\", \"2\", \"2\", \"2\", \"2\", \"2\", \"2\", \"2\", \"2\", \"3\", \"2\", \"3\", \"2\", \"2\", \"2\", \"2\", \"2\", \"2\", \"2\", \"2\", \"3\", \"2\", \"2\", \"3\", \"1\", \"2\", \"2\", \"2\", \"2\", \"2\", \"2\", \"2\", \"3\", \"3\", \"2\", \"2\", \"2\", \"2\", \"2\", \"1\", \"1\", \"2\", \"2\", \"2\", \"2\", \"2\", \"1\", \"2\", \"2\", \"2\", \"2\", \"2\", \"2\", \"3\", \"2\", \"2\", \"2\", \"1\", \"2\", \"2\", \"2\", \"2\", \"1\", \"2\", \"2\", \"1\", \"2\", \"2\", \"2\", \"2\", \"2\", \"2\", \"2\", \"2\", \"2\", \"2\", \"2\", \"2\", \"2\", \"2\", \"1\", \"2\", \"2\", \"3\", \"2\", \"2\", \"2\", \"1\", \"1\", \"1\", \"2\", \"2\", \"2\", \"3\", \"3\", \"1\", \"1\", \"2\", \"2\", \"2\", \"2\", \"2\", \"2\", \"2\", \"2\", \"3\", \"2\", \"3\", \"2\", \"2\", \"2\", \"2\", \"2\", \"2\", \"1\", \"2\", \"2\", \"2\", \"2\", \"2\", \"2\", \"2\", \"2\", \"2\", \"3\", \"1\", \"2\", \"2\", \"2\", \"2\", \"3\", \"2\", \"2\", \"2\", \"2\", \"2\", \"2\", \"2\", \"2\", \"3\", \"2\", \"2\", \"1\", \"1\", \"1\", \"2\", \"2\", \"2\", \"2\", \"2\", \"2\", \"1\", \"2\", \"1\", \"2\", \"3\", \"2\", \"2\", \"2\", \"2\", \"2\", \"2\", \"2\", \"2\", \"2\", \"1\", \"2\", \"2\", \"3\", \"2\", \"2\", \"2\", \"2\", \"2\", \"3\", \"3\", \"2\", \"2\", \"2\", \"1\", \"2\", \"2\", \"1\", \"2\", \"2\", \"2\", \"2\", \"2\", \"2\", \"2\", \"2\", \"2\", \"2\", \"2\", \"2\", \"1\", \"2\", \"2\", \"3\", \"2\", \"2\", \"2\", \"2\", \"2\", \"2\", \"2\", \"2\", \"2\", \"2\", \"1\", \"2\", \"1\", \"2\", \"2\", \"1\", \"2\", \"2\", \"2\", \"2\", \"2\", \"2\", \"1\", \"2\", \"2\", \"2\", \"2\", \"2\", \"2\", \"3\", \"2\", \"2\", \"2\", \"2\", \"2\", \"2\", \"2\", \"1\", \"2\", \"2\", \"2\", \"3\", \"2\", \"2\", \"1\", \"2\", \"2\", \"2\", \"2\", \"2\", \"2\", \"2\", \"2\", \"2\", \"2\", \"2\", \"2\", \"3\", \"2\", \"2\", \"2\", \"2\", \"2\", \"2\", \"2\", \"2\", \"2\", \"2\", \"3\", \"2\", \"2\", \"2\", \"2\", \"2\", \"2\", \"2\", \"2\", \"1\", \"2\", \"2\", \"2\", \"1\", \"2\", \"2\", \"1\", \"1\", \"2\", \"2\", \"2\", \"2\", \"2\", \"2\", \"2\", \"2\", \"2\", \"3\", \"3\", \"2\", \"2\", \"2\", \"2\", \"2\", \"2\", \"2\", \"3\", \"2\", \"2\", \"2\", \"2\", \"2\", \"3\", \"2\", \"2\", \"2\", \"2\", \"2\", \"2\", \"2\", \"2\", \"2\", \"1\", \"2\", \"2\", \"2\", \"1\", \"2\", \"2\", \"2\", \"2\", \"2\", \"2\", \"1\", \"3\", \"2\", \"2\", \"2\", \"2\", \"2\", \"2\", \"3\", \"2\", \"2\", \"1\", \"2\", \"2\", \"2\", \"2\", \"1\", \"2\", \"2\", \"3\", \"2\", \"2\", \"2\", \"1\", \"2\", \"2\", \"1\", \"2\", \"2\", \"3\", \"2\", \"2\", \"1\", \"2\", \"2\", \"2\", \"2\", \"2\", \"2\", \"2\", \"2\", \"2\", \"2\", \"2\", \"2\", \"2\", \"2\", \"2\", \"2\", \"2\", \"2\", \"2\", \"2\", \"2\", \"2\", \"2\", \"2\", \"2\", \"1\", \"1\", \"2\", \"2\", \"2\", \"2\", \"2\", \"2\", \"2\", \"2\", \"2\", \"2\", \"2\", \"2\", \"3\", \"2\", \"2\", \"2\", \"2\", \"2\", \"2\", \"2\", \"2\", \"2\", \"2\", \"2\", \"2\", \"2\", \"2\", \"3\", \"1\", \"1\", \"2\", \"2\", \"2\", \"3\", \"1\", \"2\", \"2\", \"2\", \"2\", \"2\", \"1\", \"2\", \"2\", \"2\", \"2\", \"1\", \"2\", \"2\", \"2\", \"2\", \"2\", \"3\", \"2\", \"2\", \"2\", \"2\", \"2\", \"2\", \"2\", \"2\", \"2\", \"2\", \"2\", \"2\", \"2\", \"2\", \"3\", \"2\", \"2\", \"2\", \"2\", \"2\", \"2\", \"2\", \"1\", \"2\", \"2\", \"2\", \"2\", \"2\", \"2\", \"2\", \"1\", \"2\", \"2\", \"1\", \"2\", \"2\", \"2\", \"1\", \"3\", \"2\", \"2\", \"2\", \"2\", \"2\", \"1\", \"2\", \"2\", \"2\", \"2\", \"3\", \"2\", \"2\", \"2\", \"2\", \"2\", \"2\", \"1\", \"2\", \"2\", \"2\", \"1\", \"1\", \"2\", \"2\", \"2\", \"2\", \"2\", \"3\", \"1\", \"2\", \"2\", \"2\", \"2\", \"2\", \"2\", \"3\", \"2\", \"2\", \"2\", \"2\", \"2\", \"3\", \"2\", \"2\", \"2\", \"2\", \"2\", \"1\", \"2\", \"2\", \"2\", \"2\", \"2\", \"1\", \"2\", \"2\", \"2\", \"1\", \"2\", \"2\", \"2\", \"2\", \"2\", \"1\", \"2\", \"1\", \"2\", \"2\", \"2\", \"2\", \"2\", \"2\", \"2\", \"2\", \"2\", \"1\", \"2\", \"2\", \"1\", \"2\", \"2\", \"2\", \"3\", \"3\", \"1\", \"3\", \"2\", \"3\", \"2\", \"1\", \"1\", \"2\", \"2\", \"2\", \"2\", \"2\", \"2\", \"2\", \"2\", \"2\", \"2\", \"2\", \"2\", \"3\", \"3\", \"2\", \"2\", \"2\", \"2\", \"2\", \"2\", \"1\", \"2\", \"3\", \"2\", \"2\", \"1\", \"1\", \"2\", \"3\", \"1\", \"2\", \"2\", \"2\", \"2\", \"2\", \"2\", \"2\", \"1\", \"2\", \"2\", \"2\", \"2\", \"2\", \"2\", \"2\", \"3\", \"1\", \"2\", \"3\", \"3\", \"2\", \"2\", \"2\", \"3\", \"3\", \"1\", \"2\", \"3\", \"2\", \"2\", \"1\", \"2\", \"2\", \"2\", \"2\", \"2\", \"2\", \"2\", \"1\", \"2\", \"2\", \"2\", \"2\", \"2\", \"2\", \"2\", \"2\", \"2\", \"2\", \"2\", \"3\", \"3\", \"2\", \"1\", \"2\", \"2\", \"3\", \"3\", \"2\", \"2\", \"2\", \"2\", \"1\", \"2\", \"2\", \"3\", \"2\", \"2\", \"2\", \"2\", \"2\", \"2\", \"2\", \"2\", \"2\", \"2\", \"1\", \"2\", \"2\", \"2\", \"2\", \"2\", \"1\", \"2\", \"2\", \"1\", \"1\", \"2\", \"2\", \"2\", \"2\", \"2\", \"1\", \"2\", \"2\", \"2\", \"2\", \"2\", \"3\", \"2\", \"2\", \"3\", \"2\", \"2\", \"2\", \"3\", \"2\", \"2\", \"2\", \"3\", \"1\", \"2\", \"1\", \"2\", \"2\", \"1\", \"2\", \"2\", \"2\", \"2\", \"2\", \"2\", \"2\", \"2\", \"2\", \"1\", \"2\", \"2\", \"2\", \"2\", \"2\", \"2\", \"2\", \"2\", \"2\", \"2\", \"2\", \"1\", \"2\", \"1\", \"2\", \"3\", \"2\", \"2\", \"2\", \"2\", \"2\", \"2\", \"3\", \"2\", \"3\", \"2\", \"1\", \"2\", \"2\", \"2\", \"2\", \"1\", \"1\", \"2\", \"1\", \"2\", \"2\", \"2\", \"2\", \"2\", \"2\", \"2\", \"2\", \"2\", \"1\", \"3\", \"2\", \"2\", \"2\", \"2\", \"1\", \"2\", \"2\", \"2\", \"2\", \"3\", \"2\", \"1\", \"2\", \"2\", \"2\", \"1\", \"2\", \"2\", \"2\", \"2\", \"2\", \"2\", \"2\", \"2\", \"2\", \"2\", \"2\", \"2\", \"2\", \"2\", \"3\", \"2\", \"2\", \"2\", \"3\", \"2\", \"2\", \"2\", \"1\", \"1\", \"2\", \"2\", \"2\", \"3\", \"3\", \"2\", \"2\", \"2\", \"2\", \"1\", \"2\", \"2\", \"2\", \"1\", \"1\", \"2\", \"2\", \"2\", \"3\", \"2\", \"2\", \"2\", \"2\", \"2\", \"2\", \"2\", \"2\", \"2\", \"2\", \"2\", \"2\", \"2\", \"2\", \"2\", \"2\", \"1\", \"2\", \"2\", \"2\", \"2\", \"1\", \"1\", \"2\", \"2\", \"1\", \"2\", \"3\", \"1\", \"2\", \"2\", \"1\", \"2\", \"2\", \"2\", \"1\", \"2\", \"2\", \"1\", \"2\", \"2\", \"2\", \"2\", \"2\", \"3\", \"2\", \"3\", \"3\", \"2\", \"2\", \"2\", \"2\", \"2\", \"2\", \"2\", \"2\", \"2\", \"1\", \"1\", \"2\", \"2\", \"2\", \"2\", \"2\", \"2\", \"2\", \"2\", \"2\", \"2\", \"2\", \"2\", \"2\", \"3\", \"3\", \"2\", \"2\", \"1\", \"2\", \"2\", \"2\", \"3\", \"2\", \"2\", \"2\", \"2\", \"2\", \"2\", \"2\", \"2\", \"2\", \"2\", \"2\", \"2\", \"2\", \"2\", \"3\", \"2\", \"1\", \"2\", \"2\", \"2\", \"2\", \"2\", \"2\", \"1\", \"2\", \"2\", \"3\", \"2\", \"2\", \"1\", \"2\", \"3\", \"2\", \"2\", \"2\", \"2\", \"2\", \"2\", \"2\", \"2\", \"2\", \"2\", \"1\", \"2\", \"2\", \"2\", \"2\", \"2\", \"2\", \"2\", \"2\", \"2\", \"2\", \"2\", \"2\", \"2\", \"1\", \"2\", \"2\", \"2\", \"2\", \"2\", \"2\", \"3\", \"2\", \"2\", \"2\", \"2\", \"2\", \"2\", \"2\", \"2\", \"2\", \"2\", \"1\", \"2\", \"3\", \"2\", \"2\", \"2\", \"2\", \"2\", \"2\", \"2\", \"2\", \"3\", \"2\", \"2\", \"2\", \"2\", \"2\", \"2\", \"3\", \"2\", \"2\", \"2\", \"2\", \"2\", \"2\", \"2\", \"2\", \"2\", \"2\", \"1\", \"2\", \"2\", \"2\", \"1\", \"2\", \"2\", \"2\", \"2\", \"2\", \"2\", \"2\", \"2\", \"2\", \"2\", \"2\", \"2\", \"2\", \"1\", \"2\", \"2\", \"2\", \"1\", \"2\", \"2\", \"2\", \"1\", \"2\", \"2\", \"2\", \"2\", \"2\", \"2\", \"2\", \"3\", \"2\", \"2\", \"3\", \"2\", \"2\", \"2\", \"3\", \"2\", \"2\", \"2\", \"2\", \"2\", \"1\", \"2\", \"3\", \"3\", \"2\", \"2\", \"2\", \"1\", \"2\", \"2\", \"3\", \"2\", \"2\", \"2\", \"2\", \"2\", \"2\", \"2\", \"2\", \"2\", \"2\", \"2\", \"2\", \"2\", \"2\", \"2\", \"2\", \"2\", \"2\", \"2\", \"2\", \"2\", \"2\", \"2\", \"2\", \"2\", \"2\", \"2\", \"2\", \"2\", \"2\", \"2\", \"2\", \"2\", \"2\", \"1\", \"2\", \"2\", \"2\", \"2\", \"2\", \"1\", \"1\", \"2\", \"3\", \"2\", \"2\", \"2\", \"2\", \"2\", \"2\", \"2\", \"2\", \"2\", \"2\", \"2\", \"2\", \"2\", \"2\", \"2\", \"2\", \"2\", \"2\", \"1\", \"2\", \"2\", \"1\", \"1\", \"3\", \"2\", \"2\", \"2\", \"2\", \"2\", \"2\", \"2\", \"2\", \"2\", \"2\", \"2\", \"2\", \"2\", \"2\", \"1\", \"3\", \"2\", \"2\", \"2\", \"2\", \"2\", \"3\", \"2\", \"2\", \"2\", \"2\", \"2\", \"1\", \"2\", \"2\", \"2\", \"2\", \"2\", \"1\", \"2\", \"1\", \"2\", \"2\", \"2\", \"1\", \"2\", \"2\", \"2\", \"1\", \"2\", \"1\", \"2\", \"2\", \"2\", \"1\", \"2\", \"2\", \"1\", \"2\", \"2\", \"3\", \"3\", \"2\", \"2\", \"2\", \"2\", \"2\", \"2\", \"2\", \"2\", \"2\", \"2\", \"2\", \"2\", \"2\", \"2\", \"2\", \"2\", \"1\", \"2\", \"2\", \"2\", \"2\", \"2\", \"2\", \"1\", \"1\", \"1\", \"2\", \"2\", \"2\", \"2\", \"2\", \"2\", \"1\", \"2\", \"2\", \"2\", \"2\", \"2\", \"2\", \"3\", \"3\", \"3\", \"3\", \"2\", \"2\", \"3\", \"2\", \"2\", \"2\", \"2\", \"2\", \"2\", \"2\", \"2\", \"3\", \"2\", \"3\", \"2\", \"1\", \"2\", \"2\", \"2\", \"1\", \"1\", \"3\", \"1\", \"2\", \"2\", \"2\", \"1\", \"2\", \"2\", \"2\", \"2\", \"2\", \"2\", \"2\", \"2\", \"2\", \"2\", \"2\", \"1\", \"2\", \"2\", \"2\", \"1\", \"1\", \"1\", \"2\", \"2\", \"2\", \"2\", \"2\", \"2\", \"2\", \"1\", \"1\", \"3\", \"2\", \"2\", \"2\", \"2\", \"2\", \"2\", \"2\", \"2\", \"2\", \"2\", \"2\", \"2\", \"1\", \"2\", \"2\", \"2\", \"2\", \"2\", \"2\", \"2\", \"2\", \"2\", \"2\", \"1\", \"2\", \"2\", \"2\", \"2\", \"2\", \"2\", \"2\", \"2\", \"2\", \"2\", \"2\", \"2\", \"2\", \"2\", \"2\", \"2\", \"2\", \"2\", \"2\", \"2\", \"2\", \"2\", \"2\", \"2\", \"2\", \"2\", \"2\", \"2\", \"3\", \"2\", \"2\", \"2\", \"2\", \"2\", \"2\", \"2\", \"2\", \"2\", \"2\", \"2\", \"2\", \"1\", \"2\", \"1\", \"3\", \"3\", \"1\", \"1\", \"2\", \"2\", \"2\", \"2\", \"2\", \"2\", \"1\", \"2\", \"2\", \"2\", \"2\", \"2\", \"1\", \"2\", \"2\", \"2\", \"1\", \"2\", \"2\", \"2\", \"2\", \"2\", \"2\", \"2\", \"2\", \"2\", \"3\", \"2\", \"3\", \"3\", \"3\", \"3\", \"2\", \"3\", \"3\", \"2\", \"2\", \"2\", \"2\", \"2\", \"2\", \"2\", \"2\", \"2\", \"2\", \"2\", \"2\", \"3\", \"3\", \"3\", \"3\", \"3\", \"2\", \"2\", \"3\", \"2\", \"2\", \"2\", \"2\", \"2\", \"2\", \"2\", \"2\", \"2\", \"2\", \"3\", \"2\", \"2\", \"2\", \"2\", \"2\", \"1\", \"2\", \"2\", \"2\", \"1\", \"2\", \"2\", \"2\", \"2\", \"2\", \"2\", \"2\", \"2\", \"2\", \"2\", \"2\", \"2\", \"2\", \"3\", \"2\", \"2\", \"2\", \"3\", \"2\", \"2\", \"2\", \"2\", \"2\", \"2\", \"2\", \"2\", \"2\", \"2\", \"2\", \"2\", \"1\", \"2\", \"2\", \"2\", \"2\", \"1\", \"2\", \"2\", \"1\", \"2\", \"2\", \"2\", \"2\", \"2\", \"2\", \"3\", \"3\", \"2\", \"3\", \"2\", \"2\", \"2\", \"3\", \"3\", \"2\", \"3\", \"2\", \"2\", \"2\", \"2\", \"2\", \"2\", \"2\", \"2\", \"1\", \"2\", \"2\", \"3\", \"2\", \"2\", \"2\", \"2\", \"2\", \"2\", \"2\", \"2\", \"2\", \"2\", \"2\", \"2\", \"2\", \"2\", \"2\", \"2\", \"1\", \"2\", \"2\", \"2\", \"2\", \"2\", \"2\", \"2\", \"1\", \"2\", \"2\", \"2\", \"2\", \"2\", \"2\", \"2\", \"3\", \"1\", \"2\", \"2\", \"2\", \"2\", \"2\", \"2\", \"2\", \"2\", \"2\", \"2\", \"1\", \"3\", \"2\", \"1\", \"2\", \"2\", \"2\", \"2\", \"2\", \"2\", \"2\", \"2\", \"2\", \"2\", \"2\", \"2\", \"2\", \"3\", \"3\", \"3\", \"2\", \"2\", \"2\", \"2\", \"2\", \"2\", \"2\", \"2\", \"2\", \"2\", \"2\", \"2\", \"2\", \"2\", \"1\", \"2\", \"2\", \"2\", \"2\", \"2\", \"2\", \"1\", \"2\", \"2\", \"2\", \"2\", \"2\", \"2\", \"2\", \"2\", \"2\", \"2\", \"2\", \"3\", \"3\", \"2\", \"3\", \"2\", \"2\", \"1\", \"2\", \"3\", \"2\", \"2\", \"2\", \"1\", \"2\", \"2\", \"2\", \"2\", \"2\", \"2\", \"3\", \"2\", \"1\", \"2\", \"1\", \"1\", \"2\", \"2\", \"2\", \"2\", \"2\", \"2\", \"2\", \"2\", \"2\", \"2\", \"2\", \"3\", \"2\", \"2\", \"2\", \"2\", \"3\", \"2\", \"2\", \"2\", \"2\", \"2\", \"2\", \"2\", \"2\", \"2\", \"2\", \"2\", \"2\", \"2\", \"3\", \"1\", \"1\", \"2\", \"2\", \"2\", \"2\", \"2\", \"1\", \"1\", \"2\", \"2\", \"3\", \"3\", \"2\", \"2\", \"3\", \"2\", \"2\", \"2\", \"2\", \"2\", \"2\", \"2\", \"2\", \"2\", \"3\", \"2\", \"2\", \"1\", \"2\", \"1\", \"2\", \"2\", \"2\", \"2\", \"2\", \"2\", \"2\", \"1\", \"2\", \"2\", \"1\", \"3\", \"1\", \"1\", \"2\", \"2\", \"2\", \"2\", \"1\", \"2\", \"1\", \"2\", \"2\", \"2\", \"2\", \"2\", \"2\", \"2\", \"2\", \"2\", \"2\", \"2\", \"1\", \"1\", \"2\", \"2\", \"3\", \"3\", \"2\", \"2\", \"2\", \"2\", \"2\", \"2\", \"2\", \"2\", \"2\", \"2\", \"2\", \"3\", \"3\", \"3\", \"3\", \"2\", \"2\", \"2\", \"3\", \"2\", \"2\", \"2\", \"2\", \"2\", \"2\", \"2\", \"2\", \"2\", \"2\", \"2\", \"1\", \"2\", \"2\", \"2\", \"2\", \"2\", \"2\", \"3\", \"3\", \"2\", \"2\", \"2\", \"2\", \"1\", \"2\", \"2\", \"2\", \"1\", \"2\", \"2\", \"2\", \"2\", \"2\", \"1\", \"2\", \"1\", \"2\", \"2\", \"2\", \"2\", \"2\", \"2\", \"2\", \"2\", \"2\", \"2\", \"2\", \"2\", \"2\", \"2\", \"2\", \"2\", \"2\", \"2\", \"2\", \"2\", \"2\", \"2\", \"2\", \"2\", \"2\", \"2\", \"3\", \"2\", \"2\", \"2\", \"2\", \"2\", \"2\", \"2\", \"1\", \"1\", \"1\", \"2\", \"2\", \"3\", \"2\", \"2\", \"2\", \"2\", \"2\", \"1\", \"1\", \"2\", \"1\", \"2\", \"1\", \"2\", \"1\", \"3\", \"2\", \"3\", \"1\", \"2\", \"2\", \"2\", \"2\", \"2\", \"1\", \"1\", \"2\", \"2\", \"2\", \"2\", \"2\", \"2\", \"2\", \"2\", \"2\", \"1\", \"2\", \"2\", \"2\", \"3\", \"1\", \"2\", \"2\", \"2\", \"2\", \"2\", \"2\", \"2\", \"2\", \"3\", \"2\", \"2\", \"3\", \"3\", \"2\", \"2\", \"2\", \"2\", \"2\", \"2\", \"2\", \"2\", \"2\", \"2\", \"1\", \"2\", \"2\", \"2\", \"2\", \"2\", \"2\", \"2\", \"2\", \"2\", \"2\", \"2\", \"2\", \"2\", \"2\", \"2\", \"1\", \"1\", \"2\", \"2\", \"2\", \"3\", \"3\", \"2\", \"2\", \"2\", \"2\", \"2\", \"2\", \"2\", \"2\", \"2\", \"2\", \"2\", \"2\", \"2\", \"3\", \"2\", \"2\", \"2\", \"2\", \"2\", \"2\", \"3\", \"2\", \"2\", \"3\", \"2\", \"3\", \"3\", \"2\", \"2\", \"3\", \"2\", \"2\", \"3\", \"1\", \"2\", \"2\", \"3\", \"1\", \"1\", \"2\", \"2\", \"2\", \"2\", \"3\", \"3\", \"2\", \"2\", \"2\", \"2\", \"3\", \"2\", \"2\", \"2\", \"3\", \"2\", \"2\", \"3\", \"1\", \"2\", \"2\", \"2\", \"2\", \"2\", \"2\", \"2\", \"2\", \"2\", \"2\", \"2\", \"2\", \"2\", \"1\", \"2\", \"2\", \"2\", \"2\", \"2\", \"2\", \"2\", \"1\", \"2\", \"2\", \"2\", \"2\", \"2\", \"2\", \"2\", \"2\", \"1\", \"2\", \"2\", \"2\", \"2\", \"3\", \"2\", \"2\", \"3\", \"3\", \"2\", \"2\", \"2\", \"2\", \"3\", \"3\", \"3\", \"2\", \"2\", \"2\", \"2\", \"2\", \"2\", \"2\", \"2\", \"2\", \"2\", \"2\", \"2\", \"2\", \"2\", \"2\", \"2\", \"1\", \"2\", \"3\", \"2\", \"3\", \"1\", \"1\", \"2\", \"1\", \"3\", \"2\", \"2\", \"3\", \"2\", \"2\", \"2\", \"2\", \"2\", \"1\", \"2\", \"2\", \"2\", \"2\", \"2\", \"2\", \"2\", \"2\", \"3\", \"2\", \"2\", \"2\", \"2\", \"2\", \"1\", \"2\", \"3\", \"2\", \"2\", \"2\", \"2\", \"2\", \"2\", \"2\", \"1\", \"1\", \"2\", \"2\", \"2\", \"2\", \"1\", \"2\", \"2\", \"2\", \"3\", \"1\", \"2\", \"2\", \"2\", \"1\", \"2\", \"2\", \"2\", \"2\", \"3\", \"2\", \"3\", \"2\", \"2\", \"2\", \"2\", \"2\", \"2\", \"2\", \"2\", \"2\", \"2\", \"2\", \"2\", \"2\", \"2\", \"2\", \"2\", \"2\", \"2\", \"2\", \"2\", \"2\", \"2\", \"3\", \"2\", \"1\", \"2\", \"2\", \"2\", \"2\", \"2\", \"2\", \"2\", \"2\", \"2\", \"3\", \"1\", \"2\", \"2\", \"2\", \"1\", \"1\", \"2\", \"2\", \"2\", \"2\", \"2\", \"2\", \"2\", \"2\", \"2\", \"2\", \"3\", \"2\", \"1\", \"2\", \"2\", \"2\", \"2\", \"2\", \"2\", \"2\", \"2\", \"2\", \"2\", \"1\", \"2\", \"2\", \"2\", \"2\", \"2\", \"2\", \"2\", \"2\", \"3\", \"2\", \"2\", \"2\", \"2\", \"2\", \"2\", \"2\", \"2\", \"1\", \"2\", \"2\", \"3\", \"2\", \"2\", \"2\", \"2\", \"3\", \"2\", \"2\", \"2\", \"3\", \"1\", \"1\", \"2\", \"2\", \"2\", \"2\", \"2\", \"3\", \"2\", \"2\", \"2\", \"2\", \"2\", \"2\", \"2\", \"2\", \"3\", \"1\", \"2\", \"2\", \"2\", \"2\", \"2\", \"2\", \"2\", \"2\", \"2\", \"2\", \"3\", \"3\", \"2\", \"1\", \"2\", \"2\", \"1\", \"2\", \"2\", \"2\", \"2\", \"2\", \"2\", \"2\", \"1\", \"2\", \"2\", \"2\", \"2\", \"3\", \"2\", \"2\", \"2\", \"1\", \"2\", \"2\", \"2\", \"2\", \"1\", \"1\", \"1\", \"2\", \"1\", \"2\", \"2\", \"2\", \"2\", \"2\", \"2\", \"2\", \"2\", \"2\", \"2\", \"2\", \"2\", \"2\", \"2\", \"3\", \"2\", \"2\", \"2\", \"2\", \"2\", \"2\", \"2\", \"2\", \"2\", \"3\", \"2\", \"2\", \"3\", \"2\", \"2\", \"2\", \"1\", \"2\", \"2\", \"2\", \"2\", \"2\", \"2\", \"2\", \"2\", \"2\", \"2\", \"2\", \"2\", \"2\", \"2\", \"2\", \"2\", \"2\", \"2\", \"2\", \"2\", \"2\", \"2\", \"1\", \"3\", \"1\", \"2\", \"2\", \"2\", \"1\", \"2\", \"2\", \"2\", \"2\", \"2\", \"2\", \"2\", \"2\", \"1\", \"2\", \"2\", \"1\", \"1\", \"2\", \"2\", \"2\", \"1\", \"1\", \"2\", \"3\", \"2\", \"2\", \"2\", \"2\", \"3\", \"2\", \"2\", \"2\", \"3\", \"2\", \"3\", \"2\", \"2\", \"2\", \"2\", \"2\", \"2\", \"2\", \"1\", \"2\", \"2\", \"2\", \"2\", \"2\", \"2\", \"3\", \"1\", \"2\", \"2\", \"2\", \"2\", \"2\", \"2\", \"2\", \"2\", \"3\", \"2\", \"3\", \"2\", \"2\", \"2\", \"2\", \"2\", \"2\", \"2\", \"3\", \"2\", \"2\", \"2\", \"2\", \"2\", \"2\", \"2\", \"2\", \"2\", \"2\", \"2\", \"2\", \"2\", \"2\", \"2\", \"1\", \"2\", \"2\", \"1\", \"1\", \"2\", \"2\", \"2\", \"2\", \"3\", \"2\", \"1\", \"2\", \"2\", \"2\", \"2\", \"1\", \"2\", \"2\", \"3\", \"2\", \"2\", \"2\", \"1\", \"2\", \"1\", \"2\", \"2\", \"2\", \"2\", \"2\", \"1\", \"2\", \"2\", \"2\", \"2\", \"3\", \"2\", \"2\", \"2\", \"3\", \"2\", \"2\", \"2\", \"2\", \"2\", \"2\", \"2\", \"2\", \"2\", \"2\", \"2\", \"2\", \"2\", \"2\", \"2\", \"2\", \"2\", \"2\", \"2\", \"2\", \"2\", \"1\", \"3\", \"2\", \"3\", \"2\", \"2\", \"2\", \"2\", \"2\", \"2\", \"2\", \"2\", \"1\", \"3\", \"2\", \"3\", \"2\", \"2\", \"2\", \"3\", \"1\", \"2\", \"2\", \"2\", \"2\", \"2\", \"2\", \"1\", \"2\", \"3\", \"2\", \"2\", \"2\", \"3\", \"2\", \"2\", \"2\", \"2\", \"2\", \"2\", \"2\", \"2\", \"2\", \"2\", \"2\", \"3\", \"2\", \"3\", \"3\", \"2\", \"3\", \"2\", \"2\", \"2\", \"2\", \"2\", \"2\", \"2\", \"2\", \"2\", \"1\", \"2\", \"2\", \"2\", \"2\", \"2\", \"2\", \"2\", \"2\", \"3\", \"1\", \"2\", \"3\", \"1\", \"1\", \"2\", \"2\", \"2\", \"2\", \"2\", \"2\", \"2\", \"2\", \"2\", \"2\", \"2\", \"2\", \"2\", \"2\", \"2\", \"1\", \"1\", \"2\", \"1\", \"2\", \"3\", \"1\", \"2\", \"1\", \"2\", \"2\", \"2\", \"2\", \"2\", \"2\", \"2\", \"2\", \"1\", \"2\", \"2\", \"2\", \"2\", \"3\", \"3\", \"2\", \"2\", \"3\", \"2\", \"1\", \"2\", \"2\", \"2\", \"2\", \"2\", \"3\", \"2\", \"2\", \"2\", \"2\", \"2\", \"2\", \"2\", \"2\", \"2\", \"2\", \"1\", \"2\", \"2\", \"2\", \"2\", \"2\", \"1\", \"2\", \"2\", \"2\", \"2\", \"2\", \"2\", \"2\", \"2\", \"2\", \"3\", \"2\", \"2\", \"2\", \"2\", \"3\", \"3\", \"2\", \"2\", \"1\", \"2\", \"3\", \"1\", \"2\", \"2\", \"2\", \"2\", \"2\", \"2\", \"3\", \"2\", \"3\", \"2\", \"2\", \"2\", \"2\", \"2\", \"1\", \"1\", \"1\", \"1\", \"2\", \"2\", \"2\", \"2\", \"2\", \"2\", \"2\", \"2\", \"2\", \"2\", \"2\", \"2\", \"2\", \"2\", \"2\", \"2\", \"2\", \"2\", \"3\", \"2\", \"2\", \"2\", \"1\", \"2\", \"2\", \"3\", \"2\", \"2\", \"2\", \"2\", \"2\", \"1\", \"2\", \"3\", \"2\", \"2\", \"2\", \"1\", \"2\", \"2\", \"2\", \"3\", \"2\", \"2\", \"2\", \"3\", \"2\", \"2\", \"2\", \"2\", \"2\", \"2\", \"2\", \"2\", \"2\", \"1\", \"1\", \"3\", \"2\", \"3\", \"1\", \"2\", \"1\", \"2\", \"2\", \"2\", \"2\", \"2\", \"3\", \"2\", \"2\", \"2\", \"3\", \"2\", \"2\", \"2\", \"2\", \"2\", \"2\", \"2\", \"2\", \"1\", \"1\", \"2\", \"2\", \"2\", \"2\", \"1\", \"2\", \"1\", \"2\", \"1\", \"2\", \"2\", \"1\", \"3\", \"2\", \"2\", \"3\", \"3\", \"2\", \"2\", \"2\", \"2\", \"2\", \"2\", \"2\", \"3\", \"3\", \"2\", \"2\", \"2\", \"2\", \"2\", \"2\", \"2\", \"2\", \"2\", \"2\", \"1\", \"2\", \"1\", \"2\", \"2\", \"2\", \"2\", \"2\", \"2\", \"3\", \"2\", \"2\", \"1\", \"1\", \"2\", \"2\", \"2\", \"2\", \"2\", \"2\", \"2\", \"2\", \"2\", \"2\", \"2\", \"2\", \"2\", \"2\", \"3\", \"2\", \"2\", \"2\", \"2\", \"2\", \"1\", \"2\", \"2\", \"2\", \"2\", \"2\", \"1\", \"2\", \"2\", \"2\", \"2\", \"2\", \"3\", \"3\", \"2\", \"2\", \"2\", \"2\", \"2\", \"2\", \"2\", \"2\", \"3\", \"3\", \"2\", \"2\", \"2\", \"3\", \"2\", \"2\", \"3\", \"2\", \"2\", \"2\", \"2\", \"3\", \"2\", \"2\", \"1\", \"1\", \"2\", \"2\", \"2\", \"3\", \"1\", \"1\", \"2\", \"2\", \"2\", \"3\", \"3\", \"2\", \"2\", \"1\", \"2\", \"2\", \"2\", \"2\", \"2\", \"2\", \"1\", \"2\", \"2\", \"2\", \"2\", \"3\", \"1\", \"2\", \"2\", \"1\", \"2\", \"2\", \"2\", \"1\", \"2\", \"2\", \"2\", \"2\", \"2\", \"2\", \"2\", \"2\", \"2\", \"2\", \"2\", \"2\", \"2\", \"2\", \"2\", \"2\", \"2\", \"2\", \"2\", \"2\", \"2\", \"2\", \"3\", \"2\", \"2\", \"2\", \"2\", \"2\", \"2\", \"2\", \"2\", \"2\", \"2\", \"3\", \"1\", \"2\", \"1\", \"3\", \"3\", \"1\", \"2\", \"2\", \"2\", \"2\", \"2\", \"2\", \"2\", \"2\", \"1\", \"2\", \"2\", \"2\", \"2\", \"2\", \"2\", \"3\", \"2\", \"2\", \"2\", \"2\", \"1\", \"2\", \"2\", \"2\", \"2\", \"2\", \"1\", \"2\", \"2\", \"2\", \"2\", \"3\", \"2\", \"2\", \"2\", \"2\", \"2\", \"2\", \"2\", \"1\", \"2\", \"2\", \"2\", \"2\", \"2\", \"2\", \"2\", \"2\", \"2\", \"3\", \"2\", \"1\", \"2\", \"2\", \"2\", \"2\", \"3\", \"2\", \"2\", \"2\", \"2\", \"2\", \"2\", \"2\", \"2\", \"2\", \"1\", \"2\", \"2\", \"2\", \"2\", \"2\", \"2\", \"2\", \"2\", \"2\", \"2\", \"2\", \"2\", \"3\", \"2\", \"2\", \"2\", \"2\", \"2\", \"1\", \"3\", \"3\", \"2\", \"3\", \"2\", \"2\", \"2\", \"2\", \"2\", \"2\", \"3\", \"2\", \"2\", \"2\", \"2\", \"2\", \"2\", \"2\", \"3\", \"2\", \"2\", \"2\", \"2\", \"2\", \"2\", \"2\", \"2\", \"2\", \"2\", \"2\", \"2\", \"2\", \"2\", \"3\", \"3\", \"2\", \"2\", \"3\", \"1\", \"2\", \"3\", \"2\", \"3\", \"2\", \"2\", \"2\", \"2\", \"2\", \"2\", \"3\", \"2\", \"2\", \"2\", \"1\", \"2\", \"3\", \"2\", \"1\", \"2\", \"1\", \"2\", \"1\", \"1\", \"1\", \"3\", \"2\", \"3\", \"1\", \"3\", \"2\", \"2\", \"1\", \"2\", \"2\", \"2\", \"3\", \"1\", \"3\", \"3\", \"3\", \"3\", \"2\", \"2\", \"2\", \"2\", \"2\", \"1\", \"2\", \"2\", \"2\", \"2\", \"2\", \"2\", \"1\", \"2\", \"3\", \"2\", \"2\", \"2\", \"1\", \"3\", \"3\", \"2\", \"2\", \"2\", \"3\", \"1\", \"1\", \"2\", \"3\", \"2\", \"2\", \"2\", \"1\", \"3\", \"1\", \"1\", \"1\", \"1\", \"2\", \"2\", \"2\", \"2\", \"3\", \"2\", \"2\", \"2\", \"2\", \"3\", \"2\", \"2\", \"2\", \"2\", \"2\", \"2\", \"1\", \"2\", \"2\", \"1\", \"1\", \"2\", \"2\", \"2\", \"2\", \"2\", \"2\", \"2\", \"1\", \"1\", \"2\", \"2\", \"3\", \"2\", \"2\", \"2\", \"2\", \"2\", \"2\", \"1\", \"2\", \"2\", \"2\", \"2\", \"2\", \"2\", \"2\", \"2\", \"2\", \"2\", \"2\", \"2\", \"2\", \"1\", \"2\", \"2\", \"2\", \"2\", \"2\", \"2\", \"2\", \"2\", \"2\", \"2\", \"2\", \"2\", \"2\", \"2\", \"2\", \"3\", \"3\", \"2\", \"2\", \"2\", \"2\", \"2\", \"2\", \"2\", \"1\", \"2\", \"2\", \"2\", \"2\", \"2\", \"2\", \"2\", \"2\", \"1\", \"2\", \"3\", \"2\", \"2\", \"2\", \"2\", \"3\", \"2\", \"2\", \"3\", \"2\", \"2\", \"2\", \"2\", \"2\", \"2\", \"3\", \"2\", \"1\", \"2\", \"2\", \"2\", \"2\", \"2\", \"2\", \"2\", \"2\", \"2\", \"2\", \"2\", \"2\", \"1\", \"2\", \"2\", \"2\", \"2\", \"2\", \"1\", \"3\", \"3\", \"2\", \"2\", \"1\", \"2\", \"1\", \"2\", \"2\", \"2\", \"2\", \"2\", \"2\", \"2\", \"3\", \"3\", \"2\", \"2\", \"2\", \"2\", \"2\", \"2\", \"2\", \"2\", \"2\", \"2\", \"2\", \"1\", \"2\", \"2\", \"1\", \"3\", \"2\", \"2\", \"1\", \"2\", \"2\", \"2\", \"2\", \"2\", \"2\", \"3\", \"2\", \"2\", \"2\", \"2\", \"3\", \"2\", \"3\", \"3\", \"2\", \"2\", \"2\", \"2\", \"2\", \"2\", \"2\", \"2\", \"1\", \"2\", \"2\", \"2\", \"2\", \"2\", \"2\", \"2\", \"2\", \"2\", \"2\", \"2\", \"2\", \"2\", \"2\", \"2\", \"2\", \"2\", \"2\", \"2\", \"3\", \"1\", \"2\", \"2\", \"2\", \"2\", \"2\", \"3\", \"2\", \"2\", \"2\", \"3\", \"2\", \"3\", \"2\", \"3\", \"2\", \"2\", \"2\", \"3\", \"2\", \"2\", \"2\", \"3\", \"2\", \"2\", \"2\", \"3\", \"3\", \"2\", \"2\", \"2\", \"2\", \"1\", \"1\", \"2\", \"2\", \"2\", \"1\", \"2\", \"2\", \"2\", \"2\", \"2\", \"2\", \"2\", \"2\", \"1\", \"1\", \"2\", \"2\", \"3\", \"2\", \"1\", \"2\", \"1\", \"2\", \"3\", \"2\", \"2\", \"2\", \"2\", \"2\", \"2\", \"2\", \"2\", \"2\", \"2\", \"2\", \"2\", \"2\", \"2\", \"2\", \"2\", \"2\", \"3\", \"2\", \"2\", \"3\", \"2\", \"2\", \"1\", \"1\", \"2\", \"2\", \"1\", \"2\", \"2\", \"2\", \"2\", \"2\", \"2\", \"2\", \"2\", \"2\", \"2\", \"1\", \"2\", \"3\", \"2\", \"2\", \"2\", \"3\", \"2\", \"2\", \"2\", \"2\", \"2\", \"2\", \"2\", \"2\", \"1\", \"2\", \"3\", \"2\", \"2\", \"2\", \"2\", \"2\", \"1\", \"2\", \"2\", \"2\", \"2\", \"1\", \"1\", \"2\", \"1\", \"1\", \"2\", \"2\", \"2\", \"1\", \"2\", \"2\", \"2\", \"2\", \"1\", \"2\", \"1\", \"2\", \"2\", \"2\", \"2\", \"2\", \"3\", \"2\", \"2\", \"2\", \"2\", \"2\", \"2\", \"1\", \"2\", \"2\", \"2\", \"1\", \"2\", \"3\", \"2\", \"3\", \"2\", \"2\", \"3\", \"2\", \"2\", \"2\", \"2\", \"3\", \"3\", \"2\", \"2\", \"2\", \"2\", \"3\", \"2\", \"1\", \"2\", \"2\", \"1\", \"2\", \"3\", \"2\", \"2\", \"2\", \"2\", \"2\", \"2\", \"2\", \"1\", \"3\", \"3\", \"2\", \"3\", \"2\", \"2\", \"2\", \"3\", \"3\", \"3\", \"2\", \"3\", \"2\", \"2\", \"2\", \"2\", \"2\", \"2\", \"2\", \"2\", \"2\", \"2\", \"1\", \"3\", \"2\", \"2\", \"2\", \"2\", \"2\", \"2\", \"2\", \"3\", \"1\", \"3\", \"3\", \"1\", \"3\", \"2\", \"2\", \"2\", \"2\", \"2\", \"2\", \"2\", \"2\", \"2\", \"2\", \"2\", \"2\", \"2\", \"2\", \"2\", \"3\", \"2\", \"2\", \"1\", \"1\", \"2\", \"1\", \"1\", \"2\", \"2\", \"3\", \"3\", \"2\", \"2\", \"2\", \"2\", \"1\", \"2\", \"2\", \"2\", \"2\", \"1\", \"2\", \"2\", \"1\", \"2\", \"2\", \"3\", \"2\", \"1\", \"2\", \"2\", \"2\", \"3\", \"2\", \"2\", \"2\", \"2\", \"2\", \"2\", \"2\", \"1\", \"2\", \"2\", \"2\", \"2\", \"2\", \"3\", \"2\", \"2\", \"2\", \"2\", \"3\", \"1\", \"2\", \"2\", \"2\", \"2\", \"2\", \"2\", \"1\", \"2\", \"2\", \"1\", \"2\", \"3\", \"2\", \"2\", \"1\", \"2\", \"2\", \"2\", \"2\", \"2\", \"2\", \"3\", \"2\", \"2\", \"2\", \"2\", \"2\", \"2\", \"3\", \"3\", \"2\", \"2\", \"2\", \"2\", \"1\", \"2\", \"2\", \"2\", \"2\", \"1\", \"2\", \"2\", \"2\", \"2\", \"3\", \"2\", \"3\", \"2\", \"2\", \"2\", \"2\", \"2\", \"2\", \"2\", \"2\", \"2\", \"2\", \"1\", \"3\", \"2\", \"2\", \"2\", \"1\", \"1\", \"2\", \"2\", \"2\", \"1\", \"3\", \"1\", \"3\", \"2\", \"2\", \"2\", \"2\", \"2\", \"2\", \"2\", \"2\", \"2\", \"2\", \"2\", \"2\", \"3\", \"2\", \"2\", \"2\", \"2\", \"2\", \"3\", \"2\", \"2\", \"1\", \"2\", \"2\", \"2\", \"2\", \"2\", \"2\", \"2\", \"2\", \"2\", \"2\", \"2\", \"2\", \"3\", \"3\", \"3\", \"2\", \"2\", \"2\", \"2\", \"2\", \"3\", \"2\", \"2\", \"2\", \"1\", \"2\", \"2\", \"2\", \"2\", \"3\", \"2\", \"2\", \"2\", \"2\", \"2\", \"2\", \"2\", \"2\", \"2\", \"1\", \"2\", \"2\", \"2\", \"2\", \"2\", \"2\", \"2\", \"1\", \"2\", \"2\", \"2\", \"2\", \"2\", \"2\", \"2\", \"2\", \"3\", \"2\", \"2\", \"1\", \"2\", \"3\", \"2\", \"2\", \"3\", \"1\", \"2\", \"2\", \"2\", \"2\", \"1\", \"2\", \"2\", \"2\", \"2\", \"2\", \"2\", \"2\", \"1\", \"3\", \"2\", \"2\", \"2\", \"2\", \"1\", \"2\", \"1\", \"2\", \"1\", \"2\", \"2\", \"2\", \"2\", \"1\", \"2\", \"2\", \"2\", \"3\", \"2\", \"1\", \"2\", \"2\", \"1\", \"2\", \"2\", \"2\", \"2\", \"2\", \"1\", \"2\", \"2\", \"2\", \"2\", \"2\", \"3\", \"2\", \"2\", \"1\", \"2\", \"2\", \"2\", \"2\", \"2\", \"2\", \"2\", \"1\", \"2\", \"3\", \"2\", \"2\", \"2\", \"2\", \"1\", \"1\", \"2\", \"1\", \"2\", \"3\", \"3\", \"3\", \"2\", \"1\", \"2\", \"2\", \"2\", \"2\", \"1\", \"1\", \"2\", \"2\", \"1\", \"2\", \"2\", \"1\", \"2\", \"1\", \"2\", \"2\", \"2\", \"2\", \"2\", \"2\", \"2\", \"2\", \"2\", \"2\", \"2\", \"2\", \"2\", \"2\", \"2\", \"1\", \"2\", \"2\", \"3\", \"1\", \"2\", \"2\", \"1\", \"1\", \"3\", \"2\", \"2\", \"2\", \"1\", \"3\", \"2\", \"2\", \"2\", \"1\", \"3\", \"1\", \"2\", \"3\", \"2\", \"2\", \"3\", \"2\", \"2\", \"2\", \"2\", \"2\", \"2\", \"3\", \"2\", \"3\", \"2\", \"2\", \"3\", \"2\", \"2\", \"3\", \"1\", \"2\", \"2\", \"3\", \"2\", \"2\", \"2\", \"3\", \"2\", \"2\", \"3\", \"2\", \"3\", \"2\", \"2\", \"2\", \"3\", \"2\", \"2\", \"2\", \"2\", \"2\", \"2\", \"2\", \"2\", \"2\", \"2\", \"2\", \"2\", \"2\", \"3\", \"2\", \"2\", \"2\", \"1\", \"3\", \"1\", \"2\", \"2\", \"2\", \"3\", \"3\", \"2\", \"2\", \"2\", \"2\", \"2\", \"2\", \"2\", \"2\", \"2\", \"2\", \"2\", \"3\", \"2\", \"2\", \"3\", \"2\", \"2\", \"2\", \"2\", \"2\", \"2\", \"2\", \"2\", \"3\", \"2\", \"2\", \"2\", \"2\", \"1\", \"2\", \"2\", \"3\", \"2\", \"2\", \"2\", \"2\", \"1\", \"2\", \"1\", \"2\", \"1\", \"2\", \"2\", \"2\", \"2\", \"2\", \"2\", \"2\", \"2\", \"2\", \"1\", \"2\", \"1\", \"1\", \"3\", \"2\", \"2\", \"2\", \"2\", \"2\", \"2\", \"2\", \"2\", \"3\", \"2\", \"2\", \"3\", \"2\", \"2\", \"2\", \"2\", \"2\", \"3\", \"2\", \"2\", \"2\", \"2\", \"2\", \"3\", \"2\", \"2\", \"2\", \"2\", \"2\", \"1\", \"2\", \"2\", \"2\", \"2\", \"1\", \"1\", \"1\", \"2\", \"2\", \"3\", \"2\", \"2\", \"2\", \"2\", \"2\", \"1\", \"1\", \"2\", \"2\", \"2\", \"2\", \"2\", \"2\", \"3\", \"2\", \"2\", \"2\", \"3\", \"1\", \"1\", \"2\", \"1\", \"2\", \"2\", \"2\", \"2\", \"2\", \"2\", \"2\", \"3\", \"2\", \"2\", \"2\", \"2\", \"2\", \"2\", \"2\", \"2\", \"2\", \"2\", \"2\", \"2\", \"1\", \"1\", \"2\", \"2\", \"2\", \"2\", \"2\", \"2\", \"1\", \"2\", \"2\", \"2\", \"2\", \"3\", \"3\", \"2\", \"3\", \"1\", \"3\", \"2\", \"2\", \"1\", \"2\", \"1\", \"1\", \"2\", \"1\", \"2\", \"2\", \"2\", \"1\", \"2\", \"2\", \"2\", \"2\", \"1\", \"1\", \"2\", \"2\", \"1\", \"1\", \"1\", \"2\", \"2\", \"2\", \"3\", \"3\", \"3\", \"3\", \"2\", \"2\", \"2\", \"3\", \"3\", \"3\", \"3\", \"3\", \"2\", \"2\", \"2\", \"2\", \"2\", \"2\", \"2\", \"2\", \"2\", \"1\", \"2\", \"2\", \"2\", \"2\", \"3\", \"2\", \"3\", \"3\", \"2\", \"2\", \"3\", \"3\", \"2\", \"1\", \"2\", \"2\", \"2\", \"3\", \"3\", \"2\", \"2\", \"1\", \"1\", \"1\", \"2\", \"2\", \"2\", \"3\", \"2\", \"2\", \"2\", \"2\", \"3\", \"1\", \"2\", \"2\", \"2\", \"2\", \"2\", \"2\", \"3\", \"2\", \"2\", \"2\", \"2\", \"2\", \"2\", \"2\", \"1\", \"1\", \"1\", \"2\", \"2\", \"2\", \"2\", \"2\", \"3\", \"2\", \"3\", \"2\", \"1\", \"2\", \"2\", \"2\", \"2\", \"1\", \"3\", \"3\", \"3\", \"3\", \"3\", \"2\", \"2\", \"2\", \"2\", \"2\", \"1\", \"1\", \"1\", \"2\", \"2\", \"2\", \"2\", \"2\", \"2\", \"2\", \"2\", \"3\", \"3\", \"2\", \"2\", \"1\", \"1\", \"3\", \"2\", \"1\", \"2\", \"2\", \"1\", \"2\", \"2\", \"2\", \"2\", \"2\", \"3\", \"2\", \"2\", \"3\", \"2\", \"1\", \"1\", \"1\", \"2\", \"3\", \"2\", \"2\", \"2\", \"2\", \"2\", \"2\", \"3\", \"2\", \"2\", \"2\", \"2\", \"2\", \"3\", \"2\", \"2\", \"2\", \"2\", \"3\", \"1\", \"2\", \"2\", \"2\", \"2\", \"1\", \"3\", \"2\", \"3\", \"2\", \"2\", \"2\", \"2\", \"3\", \"2\", \"2\", \"2\", \"2\", \"2\", \"3\", \"2\", \"2\", \"3\", \"2\", \"2\", \"2\", \"1\", \"2\", \"2\", \"2\", \"1\", \"2\", \"3\", \"1\", \"2\", \"2\", \"2\", \"2\", \"2\", \"2\", \"2\", \"3\", \"3\", \"2\", \"2\", \"1\", \"1\", \"2\", \"2\", \"2\", \"3\", \"3\", \"2\", \"2\", \"2\", \"2\", \"2\", \"3\", \"3\", \"3\", \"2\", \"1\", \"1\", \"2\", \"2\", \"1\", \"3\", \"2\", \"2\", \"2\", \"1\", \"2\", \"2\", \"2\", \"2\", \"1\", \"3\", \"1\", \"2\", \"2\", \"2\", \"2\", \"2\", \"1\", \"1\", \"2\", \"3\", \"3\", \"2\", \"2\", \"1\", \"1\", \"2\", \"1\", \"2\", \"2\", \"2\", \"2\", \"2\", \"1\", \"1\", \"2\", \"3\", \"2\", \"3\", \"2\", \"3\", \"3\", \"2\", \"2\", \"2\", \"3\", \"2\", \"2\", \"3\", \"3\", \"3\", \"1\", \"2\", \"1\", \"2\", \"2\", \"2\", \"2\", \"3\", \"1\", \"3\", \"2\", \"3\", \"3\", \"3\", \"1\", \"1\", \"2\", \"2\", \"3\", \"2\", \"2\", \"2\", \"3\", \"2\", \"2\", \"2\", \"1\", \"2\", \"2\", \"2\", \"2\", \"2\", \"2\", \"2\", \"1\", \"3\", \"3\", \"3\", \"3\", \"2\", \"1\", \"1\", \"1\", \"2\", \"2\", \"2\", \"3\", \"2\", \"1\", \"3\", \"2\", \"2\", \"2\", \"1\", \"2\", \"2\", \"3\", \"2\", \"2\", \"3\", \"3\", \"3\", \"3\", \"2\", \"1\", \"2\", \"2\", \"2\", \"3\", \"2\", \"2\", \"3\", \"2\", \"2\", \"2\", \"1\", \"1\", \"1\", \"3\", \"3\", \"2\", \"2\", \"3\", \"1\", \"2\", \"2\", \"2\", \"2\", \"3\", \"3\", \"2\", \"2\", \"2\", \"2\", \"2\", \"2\", \"2\", \"2\", \"1\", \"2\", \"2\", \"2\", \"3\", \"2\", \"3\", \"3\", \"2\", \"3\", \"1\", \"2\", \"3\", \"3\", \"2\", \"1\", \"1\", \"1\", \"2\", \"3\", \"3\", \"2\", \"2\", \"2\", \"1\", \"1\", \"2\", \"2\", \"2\", \"3\", \"3\", \"3\", \"3\", \"2\", \"3\", \"3\", \"2\", \"2\", \"1\", \"2\", \"3\", \"3\", \"2\", \"3\", \"3\", \"1\", \"3\", \"1\", \"3\", \"2\", \"2\", \"2\", \"2\", \"2\", \"2\", \"2\", \"2\", \"2\", \"2\", \"2\", \"2\", \"2\", \"2\", \"3\", \"3\", \"1\", \"2\", \"3\", \"1\", \"3\", \"1\", \"1\", \"2\", \"3\", \"2\", \"2\", \"3\", \"2\", \"2\", \"2\", \"2\", \"2\", \"3\", \"1\", \"1\", \"2\", \"2\", \"2\", \"2\", \"1\", \"2\", \"2\", \"3\", \"1\", \"3\", \"2\", \"2\", \"2\", \"3\", \"2\", \"2\", \"2\", \"1\", \"2\", \"2\", \"2\", \"2\", \"2\", \"2\", \"2\", \"2\", \"1\", \"3\", \"2\", \"2\", \"2\", \"1\", \"2\", \"2\", \"2\", \"2\", \"2\", \"2\", \"2\", \"2\", \"2\", \"2\", \"2\", \"2\", \"1\", \"1\", \"3\", \"2\", \"2\", \"1\", \"1\", \"3\", \"2\", \"2\", \"1\", \"2\", \"2\", \"3\", \"2\", \"2\", \"2\", \"1\", \"2\", \"2\", \"2\", \"3\", \"3\", \"2\", \"2\", \"2\", \"3\", \"1\", \"2\", \"3\", \"3\", \"2\", \"2\", \"2\", \"2\", \"1\", \"2\", \"3\", \"1\", \"3\", \"3\", \"2\", \"1\", \"1\", \"2\", \"2\", \"2\", \"1\", \"2\", \"1\", \"2\", \"2\", \"3\", \"2\", \"2\", \"2\", \"2\", \"3\", \"1\", \"2\", \"2\", \"2\", \"2\", \"2\", \"1\", \"2\", \"3\", \"2\", \"2\", \"2\", \"2\", \"2\", \"2\", \"3\", \"3\", \"1\", \"1\", \"1\", \"2\", \"2\", \"2\", \"2\", \"1\", \"2\", \"3\", \"2\", \"2\", \"3\", \"2\", \"2\", \"2\", \"3\", \"2\", \"2\", \"2\", \"2\", \"2\", \"3\", \"3\", \"1\", \"1\", \"2\", \"2\", \"2\", \"2\", \"3\", \"2\", \"2\", \"2\", \"2\", \"2\", \"2\", \"2\", \"3\", \"2\", \"3\", \"3\", \"3\", \"2\", \"2\", \"2\", \"1\", \"3\", \"1\", \"2\", \"3\", \"3\", \"3\", \"2\", \"2\", \"2\", \"3\", \"3\", \"3\", \"3\", \"3\", \"2\", \"2\", \"1\", \"2\", \"3\", \"2\", \"2\", \"2\", \"1\", \"2\", \"2\", \"2\", \"2\", \"1\", \"1\", \"1\", \"2\", \"2\", \"2\", \"3\", \"2\", \"2\", \"2\", \"2\", \"3\", \"2\", \"2\", \"2\", \"2\", \"3\", \"3\", \"3\", \"3\", \"3\", \"2\", \"3\", \"2\", \"2\", \"1\", \"1\", \"2\", \"1\", \"3\", \"2\", \"3\", \"2\", \"2\", \"2\", \"2\", \"2\", \"2\", \"2\", \"2\", \"2\", \"2\", \"3\", \"2\", \"3\", \"2\", \"2\", \"2\", \"2\", \"2\", \"3\", \"3\", \"1\", \"2\", \"2\", \"2\", \"2\", \"3\", \"3\", \"3\", \"3\", \"2\", \"2\", \"2\", \"1\", \"2\", \"2\", \"2\", \"2\", \"2\", \"2\", \"3\", \"3\", \"3\", \"3\", \"2\", \"1\", \"1\", \"3\", \"2\", \"2\", \"3\", \"1\", \"3\", \"3\", \"3\", \"1\", \"2\", \"2\", \"2\", \"2\", \"2\", \"2\", \"1\", \"2\", \"1\", \"3\", \"3\", \"3\", \"1\", \"3\", \"2\", \"1\", \"2\", \"2\", \"2\", \"2\", \"2\", \"2\", \"2\", \"2\", \"1\", \"2\", \"2\", \"2\", \"2\", \"2\", \"1\", \"3\", \"2\", \"2\", \"2\", \"2\", \"2\", \"2\", \"2\", \"1\", \"2\", \"2\", \"2\", \"2\", \"2\", \"2\", \"2\", \"2\", \"2\", \"2\", \"2\", \"1\", \"3\", \"1\", \"3\", \"2\", \"1\", \"2\", \"3\", \"2\", \"1\", \"2\", \"3\", \"2\", \"1\", \"2\", \"2\", \"2\", \"2\", \"2\", \"2\", \"2\", \"2\", \"3\", \"2\", \"2\", \"3\", \"3\", \"2\", \"3\", \"2\", \"3\", \"2\", \"2\", \"2\", \"2\", \"1\", \"3\", \"2\", \"2\", \"3\", \"3\", \"3\", \"2\", \"1\", \"2\", \"2\", \"2\", \"2\", \"3\", \"1\", \"3\", \"2\", \"2\", \"2\", \"2\", \"2\", \"2\", \"3\", \"2\", \"3\", \"2\", \"1\", \"2\", \"2\", \"2\", \"2\", \"2\", \"2\", \"2\", \"1\", \"2\", \"2\", \"2\", \"2\", \"2\", \"2\", \"1\", \"2\", \"2\", \"2\", \"1\", \"2\", \"2\", \"2\", \"2\", \"2\", \"1\", \"2\", \"1\", \"2\", \"2\", \"2\", \"2\", \"2\", \"2\", \"1\", \"1\", \"3\", \"2\", \"1\", \"2\", \"3\", \"3\", \"3\", \"2\", \"2\", \"2\", \"1\", \"2\", \"1\", \"2\", \"2\", \"2\", \"2\", \"3\", \"3\", \"3\", \"2\", \"3\", \"3\", \"2\", \"2\", \"3\", \"2\", \"2\", \"1\", \"2\", \"2\", \"2\", \"3\", \"2\", \"2\", \"2\", \"2\", \"2\", \"2\", \"3\", \"2\", \"2\", \"2\", \"2\", \"2\", \"3\", \"2\", \"2\", \"2\", \"2\", \"2\", \"2\", \"2\", \"2\", \"3\", \"2\", \"3\", \"3\", \"2\", \"2\", \"3\", \"3\", \"3\", \"3\", \"3\", \"2\", \"2\", \"3\", \"3\", \"2\", \"2\", \"2\", \"3\", \"2\", \"2\", \"2\", \"2\", \"2\", \"1\", \"2\", \"2\", \"2\", \"2\", \"3\", \"2\", \"2\", \"2\", \"2\", \"2\", \"2\", \"2\", \"2\", \"1\", \"2\", \"2\", \"2\", \"2\", \"2\", \"3\", \"2\", \"2\", \"2\", \"2\", \"2\", \"2\", \"1\", \"3\", \"2\", \"2\", \"1\", \"2\", \"2\", \"1\", \"1\", \"2\", \"3\", \"3\", \"2\", \"2\", \"3\", \"2\", \"2\", \"1\", \"3\", \"2\", \"2\", \"2\", \"2\", \"2\", \"2\", \"2\", \"2\", \"2\", \"2\", \"2\", \"2\", \"2\", \"3\", \"3\", \"2\", \"2\", \"2\", \"2\", \"2\", \"2\", \"2\", \"1\", \"3\", \"2\", \"2\", \"2\", \"2\", \"2\", \"2\", \"2\", \"2\", \"2\", \"2\", \"2\", \"3\", \"2\", \"2\", \"2\", \"3\", \"3\", \"2\", \"3\", \"2\", \"2\", \"2\", \"1\", \"3\", \"3\", \"3\", \"3\", \"3\", \"3\", \"2\", \"2\", \"2\", \"2\", \"3\", \"2\", \"2\", \"2\", \"2\", \"2\", \"2\", \"2\", \"2\", \"2\", \"1\", \"2\", \"2\", \"2\", \"2\", \"2\", \"2\", \"2\", \"2\", \"2\", \"2\", \"2\", \"2\", \"1\", \"2\", \"2\", \"2\", \"2\", \"2\", \"2\", \"1\", \"2\", \"3\", \"2\", \"3\", \"3\", \"2\", \"2\", \"2\", \"2\", \"1\", \"2\", \"1\", \"2\", \"2\", \"2\", \"2\", \"2\", \"2\", \"2\", \"1\", \"2\", \"2\", \"2\", \"3\", \"2\", \"2\", \"2\", \"2\", \"2\", \"2\", \"2\", \"2\", \"2\", \"2\", \"2\", \"2\", \"2\", \"2\", \"2\", \"2\", \"2\", \"2\", \"2\", \"2\", \"2\", \"2\", \"2\", \"2\", \"2\", \"2\", \"3\", \"3\", \"2\", \"2\", \"1\", \"2\", \"2\", \"1\", \"2\", \"1\", \"2\", \"2\", \"2\", \"2\", \"3\", \"3\", \"3\", \"2\", \"2\", \"2\", \"2\", \"2\", \"1\", \"1\", \"2\", \"2\", \"3\", \"3\", \"2\", \"2\", \"3\", \"3\", \"2\", \"2\", \"2\", \"2\", \"3\", \"3\", \"2\", \"2\", \"2\", \"3\", \"2\", \"2\", \"3\", \"2\", \"2\", \"3\", \"2\", \"2\", \"2\", \"2\", \"1\", \"3\", \"2\", \"2\", \"3\", \"2\", \"2\", \"3\", \"3\", \"3\", \"3\", \"2\", \"2\", \"2\", \"3\", \"2\", \"2\", \"1\", \"2\", \"2\", \"2\", \"2\", \"2\", \"3\", \"3\", \"2\", \"2\", \"1\", \"2\", \"2\", \"2\", \"2\", \"2\", \"2\", \"3\", \"2\", \"3\", \"2\", \"2\", \"2\", \"2\", \"2\", \"2\", \"2\", \"3\", \"3\", \"2\", \"2\", \"2\", \"2\", \"2\", \"2\", \"2\", \"2\", \"2\", \"2\", \"2\", \"2\", \"3\", \"1\", \"2\", \"3\", \"3\", \"2\", \"3\", \"1\", \"2\", \"3\", \"2\", \"3\", \"1\", \"2\", \"3\", \"2\", \"2\", \"2\", \"2\", \"1\", \"3\", \"2\", \"2\", \"2\", \"2\", \"2\", \"2\", \"1\", \"2\", \"2\", \"1\", \"2\", \"2\", \"1\", \"2\", \"1\", \"2\", \"2\", \"2\", \"2\", \"2\", \"2\", \"2\", \"2\", \"2\", \"2\", \"2\", \"3\", \"2\", \"2\", \"3\", \"3\", \"3\", \"2\", \"3\", \"3\", \"3\", \"3\", \"3\", \"2\", \"2\", \"2\", \"3\", \"3\", \"3\", \"3\", \"2\", \"2\", \"2\", \"3\", \"3\", \"2\", \"2\", \"2\", \"2\", \"2\", \"1\", \"1\", \"3\", \"2\", \"2\", \"2\", \"2\", \"2\", \"2\", \"2\", \"2\", \"2\", \"2\", \"2\", \"2\", \"2\", \"3\", \"2\", \"2\", \"2\", \"2\", \"2\", \"2\", \"2\", \"2\", \"2\", \"2\", \"3\", \"2\", \"2\", \"3\", \"3\", \"2\", \"2\", \"2\", \"3\", \"3\", \"3\", \"2\", \"2\", \"3\", \"3\", \"3\", \"3\", \"2\", \"1\", \"1\", \"3\", \"2\", \"1\", \"2\", \"2\", \"3\", \"2\", \"2\", \"2\", \"2\", \"2\", \"2\", \"3\", \"2\", \"2\", \"2\", \"2\", \"2\", \"2\", \"2\", \"3\", \"2\", \"2\", \"2\", \"2\", \"2\", \"2\", \"2\", \"2\", \"2\", \"3\", \"3\", \"3\", \"3\", \"2\", \"2\", \"2\", \"2\", \"2\", \"3\", \"3\", \"3\", \"3\", \"2\", \"2\", \"2\", \"2\", \"3\", \"3\", \"2\", \"2\", \"2\", \"2\", \"3\", \"3\", \"3\", \"2\", \"2\", \"2\", \"2\", \"2\", \"2\", \"2\", \"2\", \"2\", \"1\", \"2\", \"2\", \"2\", \"2\", \"2\", \"2\", \"2\", \"2\", \"3\", \"2\", \"3\", \"3\", \"2\", \"2\", \"2\", \"2\", \"2\", \"2\", \"2\", \"2\", \"2\", \"2\", \"2\", \"2\", \"2\", \"2\", \"2\", \"3\", \"3\", \"2\", \"2\", \"3\", \"2\", \"2\", \"2\", \"2\", \"2\", \"2\", \"3\", \"2\", \"2\", \"2\", \"1\", \"2\", \"2\", \"2\", \"2\", \"2\", \"2\", \"3\", \"2\", \"2\", \"2\", \"2\", \"2\", \"2\", \"2\", \"2\", \"2\", \"1\", \"2\", \"3\", \"3\", \"2\", \"3\", \"2\", \"2\", \"2\", \"2\", \"1\", \"2\", \"1\", \"3\", \"3\", \"1\", \"2\", \"2\", \"2\", \"1\", \"2\", \"2\", \"2\", \"3\", \"3\", \"3\", \"3\", \"2\", \"1\", \"2\", \"2\", \"2\", \"2\", \"2\", \"2\", \"2\", \"2\", \"2\", \"2\", \"2\", \"2\", \"2\", \"1\", \"1\", \"2\", \"1\", \"2\", \"2\", \"2\", \"2\", \"2\", \"2\", \"2\", \"2\", \"2\", \"2\", \"2\", \"2\", \"2\", \"2\", \"2\", \"1\", \"2\", \"3\", \"2\", \"2\", \"2\", \"3\", \"1\", \"3\", \"2\", \"2\", \"3\", \"2\", \"2\", \"2\", \"1\", \"1\", \"2\", \"2\", \"2\", \"2\", \"2\", \"2\", \"2\", \"1\", \"2\", \"2\", \"2\", \"2\", \"2\", \"3\", \"2\", \"2\", \"1\", \"2\", \"2\", \"2\", \"2\", \"3\", \"2\", \"2\", \"3\", \"2\", \"3\", \"3\", \"2\", \"3\", \"2\", \"1\", \"2\", \"3\", \"3\", \"2\", \"2\", \"3\", \"3\", \"3\", \"3\", \"3\", \"2\", \"2\", \"2\", \"2\", \"2\", \"2\", \"2\", \"3\", \"1\", \"3\", \"1\", \"3\", \"3\", \"3\", \"2\", \"2\", \"2\", \"2\", \"1\", \"2\", \"2\", \"3\", \"2\", \"2\", \"3\", \"2\", \"3\", \"3\", \"2\", \"2\", \"2\", \"2\", \"1\", \"3\", \"2\", \"2\", \"2\", \"3\", \"3\", \"3\", \"2\", \"2\", \"3\", \"3\", \"2\", \"2\", \"1\", \"1\", \"2\", \"2\", \"2\", \"3\", \"2\", \"2\", \"1\", \"2\", \"2\", \"2\", \"2\", \"2\", \"2\", \"2\", \"2\", \"2\", \"2\", \"2\", \"2\", \"3\", \"3\", \"2\", \"2\", \"2\", \"2\", \"2\", \"2\", \"2\", \"2\", \"2\", \"3\", \"2\", \"3\", \"3\", \"1\", \"2\", \"2\", \"2\", \"2\", \"2\", \"3\", \"2\", \"2\", \"2\", \"1\", \"2\", \"2\", \"2\", \"3\", \"3\", \"2\", \"3\", \"2\", \"3\", \"2\", \"2\", \"1\", \"3\", \"2\", \"2\", \"2\", \"3\", \"3\", \"3\", \"3\", \"2\", \"2\", \"2\", \"2\", \"2\", \"2\", \"3\", \"2\", \"3\", \"2\", \"2\", \"2\", \"2\", \"2\", \"2\", \"2\", \"2\", \"2\", \"2\", \"1\", \"2\", \"2\", \"1\", \"2\", \"2\", \"2\", \"3\", \"2\", \"2\", \"2\", \"2\", \"2\", \"3\", \"3\", \"2\", \"2\", \"1\", \"2\", \"1\", \"2\", \"2\", \"3\", \"3\", \"3\", \"2\", \"2\", \"2\", \"3\", \"2\", \"1\", \"1\", \"2\", \"2\", \"3\", \"2\", \"2\", \"2\", \"2\", \"3\", \"2\", \"2\", \"2\", \"2\", \"3\", \"2\", \"2\", \"2\", \"2\", \"2\", \"3\", \"3\", \"3\", \"2\", \"2\", \"2\", \"3\", \"3\", \"3\", \"2\", \"2\", \"3\", \"2\", \"3\", \"3\", \"3\", \"2\", \"1\", \"2\", \"3\", \"2\", \"2\", \"2\", \"2\", \"2\", \"2\", \"2\", \"3\", \"2\", \"2\", \"2\", \"2\", \"2\", \"3\", \"2\", \"2\", \"2\", \"2\", \"3\", \"2\", \"2\", \"3\", \"2\", \"2\", \"1\", \"2\", \"3\", \"2\", \"3\", \"3\", \"2\", \"2\", \"3\", \"3\", \"3\", \"3\", \"2\", \"2\", \"3\", \"2\", \"2\", \"3\", \"3\", \"3\", \"2\", \"2\", \"3\", \"3\", \"3\", \"2\", \"2\", \"2\", \"2\", \"1\", \"3\", \"3\", \"3\", \"3\", \"2\", \"2\", \"2\", \"2\", \"3\", \"2\", \"2\", \"1\", \"2\", \"1\", \"2\", \"2\", \"2\", \"2\", \"3\", \"2\", \"2\", \"3\", \"2\", \"3\", \"2\", \"2\", \"2\", \"2\", \"2\", \"2\", \"3\", \"3\", \"3\", \"1\", \"3\", \"3\", \"1\", \"2\", \"3\", \"2\", \"3\", \"1\", \"2\", \"2\", \"3\", \"2\", \"2\", \"3\", \"2\", \"2\", \"2\", \"2\", \"2\", \"2\", \"2\", \"2\", \"2\", \"2\", \"2\", \"2\", \"3\", \"2\", \"1\", \"3\", \"2\", \"2\", \"2\", \"3\", \"3\", \"2\", \"2\", \"2\", \"2\", \"2\", \"2\", \"3\", \"2\", \"2\", \"2\", \"2\", \"2\", \"2\", \"2\", \"2\", \"2\", \"1\", \"3\", \"2\", \"3\", \"3\", \"1\", \"3\", \"2\", \"3\", \"2\", \"3\", \"3\", \"3\", \"2\", \"2\", \"2\", \"3\", \"3\", \"2\", \"2\", \"3\", \"2\", \"2\", \"2\", \"2\", \"2\", \"2\", \"2\", \"2\", \"2\", \"2\", \"3\", \"2\", \"2\", \"2\", \"2\", \"2\", \"2\", \"2\", \"2\", \"2\", \"2\", \"2\", \"2\", \"2\", \"1\", \"2\", \"2\", \"2\", \"2\", \"2\", \"2\", \"2\", \"3\", \"2\", \"3\", \"3\", \"3\", \"2\", \"2\", \"2\", \"2\", \"2\", \"3\", \"1\", \"2\", \"1\", \"2\", \"2\", \"2\", \"1\", \"2\", \"2\", \"2\", \"1\", \"2\", \"2\", \"1\", \"2\", \"3\", \"2\", \"2\", \"2\", \"2\", \"2\", \"2\", \"1\", \"2\", \"2\", \"2\", \"2\", \"2\", \"2\", \"3\", \"3\", \"2\", \"2\", \"2\", \"1\", \"2\", \"3\", \"3\", \"3\", \"3\", \"3\", \"2\", \"2\", \"2\", \"2\", \"3\", \"2\", \"1\", \"2\", \"1\", \"2\", \"2\", \"3\", \"2\", \"3\", \"2\", \"2\", \"2\", \"3\", \"2\", \"1\", \"1\", \"1\", \"2\", \"2\", \"1\", \"2\", \"2\", \"2\", \"2\", \"2\", \"2\", \"2\", \"2\", \"2\", \"2\", \"2\", \"2\", \"1\", \"1\", \"2\", \"2\", \"2\", \"2\", \"2\", \"2\", \"2\", \"2\", \"2\", \"2\", \"2\", \"2\", \"2\", \"2\", \"2\", \"3\", \"2\", \"1\", \"2\", \"3\", \"2\", \"2\", \"3\", \"2\", \"2\", \"2\", \"2\", \"2\", \"1\", \"2\", \"3\", \"2\", \"2\", \"2\", \"2\", \"2\", \"3\", \"3\", \"2\", \"2\", \"2\", \"2\", \"1\", \"3\", \"2\", \"2\", \"2\", \"2\", \"2\", \"1\", \"1\", \"2\", \"2\", \"3\", \"3\", \"2\", \"2\", \"2\", \"2\", \"2\", \"2\", \"1\", \"2\", \"2\", \"2\", \"2\", \"2\", \"1\", \"2\", \"2\", \"3\", \"1\", \"2\", \"3\", \"3\", \"3\", \"2\", \"2\", \"2\", \"2\", \"3\", \"3\", \"2\", \"3\", \"1\", \"2\", \"2\", \"2\", \"3\", \"1\", \"2\", \"2\", \"2\", \"2\", \"2\", \"2\", \"2\", \"2\", \"2\", \"2\", \"2\", \"2\", \"3\", \"1\", \"2\", \"3\", \"3\", \"2\", \"2\", \"3\", \"1\", \"3\", \"2\", \"2\", \"2\", \"2\", \"1\", \"1\", \"2\", \"2\", \"1\", \"2\", \"2\", \"1\", \"2\", \"2\", \"2\", \"2\", \"2\", \"2\", \"2\", \"2\", \"2\", \"2\", \"2\", \"2\", \"2\", \"2\", \"1\", \"2\", \"2\", \"2\", \"2\", \"2\", \"2\", \"2\", \"2\", \"2\", \"2\", \"2\", \"2\", \"2\", \"2\", \"2\", \"2\", \"2\", \"2\", \"2\", \"2\", \"2\", \"2\", \"2\", \"1\", \"2\", \"2\", \"2\", \"2\", \"2\", \"2\", \"2\", \"2\", \"2\", \"2\", \"2\", \"2\", \"2\", \"2\", \"2\", \"2\", \"3\", \"2\", \"3\", \"3\", \"2\", \"2\", \"2\", \"2\", \"2\", \"2\", \"1\", \"2\", \"2\", \"2\", \"2\", \"1\", \"1\", \"2\", \"2\", \"2\", \"2\", \"2\", \"3\", \"2\", \"2\", \"2\", \"2\", \"2\", \"2\", \"2\", \"2\", \"2\", \"2\", \"3\", \"2\", \"3\", \"3\", \"3\", \"3\", \"3\", \"3\", \"3\", \"2\", \"2\", \"2\", \"2\", \"2\", \"2\", \"3\", \"3\", \"2\", \"1\", \"2\", \"1\", \"2\", \"2\", \"2\", \"3\", \"2\", \"2\", \"2\", \"1\", \"2\", \"1\", \"1\", \"2\", \"3\", \"3\", \"2\", \"1\", \"2\", \"3\", \"2\", \"2\", \"2\", \"2\", \"2\", \"2\", \"2\", \"1\", \"2\", \"2\", \"1\", \"1\", \"2\", \"2\", \"1\", \"2\", \"2\", \"2\", \"3\", \"2\", \"2\", \"2\", \"1\", \"3\", \"2\", \"3\", \"2\", \"3\", \"2\", \"2\", \"3\", \"2\", \"2\", \"3\", \"3\", \"2\", \"2\", \"3\", \"2\", \"3\", \"2\", \"1\", \"2\", \"2\", \"2\", \"3\", \"2\", \"2\", \"2\", \"3\", \"2\", \"3\", \"2\", \"3\", \"3\", \"1\", \"1\", \"2\", \"3\", \"2\", \"2\", \"2\", \"2\", \"2\", \"3\", \"3\", \"3\", \"2\", \"2\", \"2\", \"3\", \"3\", \"3\", \"3\", \"2\", \"2\", \"1\", \"2\", \"2\", \"2\", \"2\", \"2\", \"2\", \"2\", \"2\", \"3\", \"1\", \"2\", \"3\", \"3\", \"2\", \"2\", \"2\", \"2\", \"2\", \"3\", \"2\", \"1\", \"1\", \"2\", \"2\", \"2\", \"2\", \"2\", \"2\", \"1\", \"3\", \"3\", \"2\", \"2\", \"3\", \"2\", \"2\", \"2\", \"2\", \"2\", \"2\", \"2\", \"2\", \"2\", \"2\", \"2\", \"2\", \"2\", \"2\", \"2\", \"2\", \"2\", \"2\", \"3\", \"3\", \"2\", \"2\", \"2\", \"2\", \"2\", \"2\", \"2\", \"2\", \"2\", \"2\", \"3\", \"2\", \"2\", \"2\", \"2\", \"1\", \"1\", \"2\", \"2\", \"3\", \"2\", \"2\", \"1\", \"2\", \"2\", \"2\", \"2\", \"2\", \"2\", \"2\", \"1\", \"2\", \"2\", \"2\", \"2\", \"3\", \"2\", \"2\", \"2\", \"3\", \"3\", \"2\", \"2\", \"3\", \"2\", \"2\", \"2\", \"3\", \"3\", \"3\", \"3\", \"2\", \"2\", \"3\", \"2\", \"2\", \"1\", \"1\", \"2\", \"2\", \"2\", \"2\", \"3\", \"2\", \"2\", \"2\", \"2\", \"2\", \"3\", \"3\", \"3\", \"3\", \"2\", \"3\", \"3\", \"2\", \"2\", \"2\", \"2\", \"2\", \"2\", \"2\", \"3\", \"3\", \"3\", \"2\", \"2\", \"2\", \"2\", \"2\", \"2\", \"3\", \"2\", \"2\", \"2\", \"3\", \"1\", \"2\", \"3\", \"3\", \"2\", \"2\", \"2\", \"3\", \"3\", \"3\", \"3\", \"3\", \"3\", \"3\", \"1\", \"2\", \"2\", \"2\", \"3\", \"2\", \"2\", \"2\", \"1\", \"2\", \"3\", \"1\", \"2\", \"3\", \"2\", \"2\", \"2\", \"2\", \"2\", \"2\", \"2\", \"2\", \"2\", \"2\", \"2\", \"2\", \"2\", \"3\", \"2\", \"2\", \"2\", \"2\", \"2\", \"1\", \"2\", \"2\", \"2\", \"3\", \"2\", \"2\", \"3\", \"2\", \"2\", \"1\", \"3\", \"3\", \"3\", \"2\", \"3\", \"3\", \"2\", \"1\", \"2\", \"3\", \"3\", \"3\", \"1\", \"2\", \"2\", \"2\", \"2\", \"2\", \"2\", \"2\", \"2\", \"3\", \"3\", \"2\", \"3\", \"2\", \"2\", \"2\", \"3\", \"2\", \"2\", \"2\", \"3\", \"2\", \"2\", \"2\", \"2\", \"2\", \"2\", \"3\", \"3\", \"3\", \"3\", \"2\", \"2\", \"1\", \"2\", \"2\", \"2\", \"3\", \"2\", \"2\", \"2\", \"2\", \"2\", \"2\", \"2\", \"3\", \"3\", \"1\", \"1\", \"2\", \"2\", \"2\", \"2\", \"3\", \"3\", \"3\", \"2\", \"2\", \"2\", \"2\", \"1\", \"2\", \"2\", \"2\", \"2\", \"2\", \"2\", \"2\", \"2\", \"3\", \"1\", \"3\", \"2\", \"2\", \"2\", \"2\", \"3\", \"3\", \"2\", \"3\", \"3\", \"2\", \"3\", \"2\", \"2\", \"3\", \"3\", \"2\", \"2\", \"2\", \"3\", \"3\", \"3\", \"3\", \"2\", \"3\", \"3\", \"2\", \"2\", \"2\", \"2\", \"1\", \"2\", \"2\", \"2\", \"3\", \"2\", \"2\", \"2\", \"2\", \"3\", \"2\", \"3\", \"3\", \"3\", \"2\", \"2\", \"2\", \"2\", \"2\", \"1\", \"2\", \"2\", \"2\", \"3\", \"2\", \"2\", \"3\", \"3\", \"1\", \"3\", \"2\", \"2\", \"3\", \"2\", \"2\", \"1\", \"2\", \"2\", \"2\", \"2\", \"2\", \"1\", \"1\", \"2\", \"2\", \"3\", \"2\", \"3\", \"2\", \"2\", \"2\", \"2\", \"2\", \"2\", \"2\", \"2\", \"2\", \"3\", \"3\", \"2\", \"2\", \"2\", \"1\", \"1\", \"1\", \"1\", \"2\", \"2\", \"2\", \"2\", \"1\", \"2\", \"2\", \"3\", \"3\", \"3\", \"2\", \"1\", \"3\", \"2\", \"2\", \"2\", \"1\", \"3\", \"1\", \"2\", \"2\", \"2\", \"2\", \"2\", \"2\", \"3\", \"2\", \"2\", \"2\", \"2\", \"2\", \"2\", \"2\", \"2\", \"1\", \"3\", \"3\", \"2\", \"2\", \"1\", \"2\", \"2\", \"1\", \"2\", \"2\", \"1\", \"2\", \"2\", \"1\", \"2\", \"2\", \"3\", \"3\", \"2\", \"3\", \"2\", \"2\", \"2\", \"2\", \"2\", \"2\", \"2\", \"3\", \"2\", \"2\", \"2\", \"2\", \"2\", \"2\", \"2\", \"2\", \"3\", \"2\", \"2\", \"3\", \"2\", \"1\", \"3\", \"2\", \"2\", \"3\", \"1\", \"2\", \"1\", \"2\", \"2\", \"3\", \"2\", \"2\", \"3\", \"2\", \"2\", \"1\", \"3\", \"3\", \"3\", \"3\", \"3\", \"3\", \"3\", \"3\", \"3\", \"3\", \"2\", \"1\", \"2\", \"2\", \"2\", \"2\", \"2\", \"2\", \"2\", \"2\", \"2\", \"3\", \"2\", \"2\", \"2\", \"2\", \"3\", \"2\", \"2\", \"2\", \"2\", \"2\", \"1\", \"2\", \"3\", \"2\", \"2\", \"2\", \"3\", \"3\", \"2\", \"2\", \"2\", \"2\", \"2\", \"2\", \"2\", \"3\", \"3\", \"2\", \"2\", \"1\", \"3\", \"2\", \"2\", \"2\", \"2\", \"2\", \"3\", \"2\", \"2\", \"3\", \"2\", \"3\", \"2\", \"2\", \"2\", \"1\", \"2\", \"2\", \"2\", \"2\", \"2\", \"3\", \"2\", \"2\", \"2\", \"1\", \"2\", \"3\", \"1\", \"1\", \"1\", \"2\", \"2\", \"2\", \"2\", \"1\", \"2\", \"2\", \"2\", \"2\", \"2\", \"2\", \"2\", \"2\", \"2\", \"2\", \"3\", \"2\", \"2\", \"3\", \"2\", \"2\", \"2\", \"2\", \"2\", \"2\", \"3\", \"3\", \"2\", \"2\", \"3\", \"2\", \"2\", \"2\", \"2\", \"2\", \"2\", \"2\", \"2\", \"2\", \"2\", \"1\", \"2\", \"3\", \"2\", \"2\", \"2\", \"3\", \"2\", \"2\", \"3\", \"3\", \"3\", \"2\", \"3\", \"3\", \"3\", \"2\", \"3\", \"2\", \"2\", \"2\", \"2\", \"2\", \"2\", \"2\", \"1\", \"2\", \"3\", \"2\", \"2\", \"3\", \"3\", \"2\", \"2\", \"2\", \"3\", \"3\", \"3\", \"2\", \"2\", \"2\", \"1\", \"3\", \"3\", \"2\", \"2\", \"2\", \"2\", \"3\", \"3\", \"2\", \"2\", \"2\", \"2\", \"2\", \"2\", \"3\", \"3\", \"2\", \"2\", \"3\", \"3\", \"1\", \"3\", \"2\", \"2\", \"2\", \"2\", \"2\", \"2\", \"1\", \"2\", \"2\", \"2\", \"2\", \"2\", \"1\", \"2\", \"2\", \"2\", \"2\", \"2\", \"2\", \"1\", \"2\", \"2\", \"2\", \"2\", \"2\", \"1\", \"1\", \"2\", \"2\", \"2\", \"3\", \"2\", \"3\", \"3\", \"2\", \"2\", \"2\", \"1\", \"2\", \"2\", \"2\", \"2\", \"3\", \"2\", \"2\", \"2\", \"2\", \"1\", \"3\", \"3\", \"2\", \"2\", \"1\", \"2\", \"2\", \"2\", \"2\", \"2\", \"2\", \"3\", \"2\", \"2\", \"2\", \"2\", \"3\", \"3\", \"2\", \"3\", \"3\", \"2\", \"3\", \"2\", \"2\", \"3\", \"2\", \"2\", \"2\", \"2\", \"2\", \"2\", \"2\", \"2\", \"2\", \"3\", \"2\", \"3\", \"1\", \"1\", \"2\", \"2\", \"2\", \"2\", \"2\", \"2\", \"2\", \"3\", \"2\", \"2\", \"2\", \"3\", \"2\", \"2\", \"3\", \"1\", \"1\", \"1\", \"2\", \"2\", \"2\", \"2\", \"2\", \"2\", \"2\", \"2\", \"2\", \"2\", \"2\", \"2\", \"2\", \"2\", \"2\", \"2\", \"2\", \"2\", \"1\", \"2\", \"3\", \"2\", \"3\", \"3\", \"2\", \"2\", \"1\", \"2\", \"2\", \"2\", \"2\", \"2\", \"2\", \"2\", \"2\", \"2\", \"2\", \"2\", \"2\", \"2\", \"2\", \"2\", \"2\", \"3\", \"1\", \"2\", \"3\", \"2\", \"3\", \"3\", \"1\", \"2\", \"3\", \"2\", \"2\", \"3\", \"3\", \"2\", \"2\", \"2\", \"2\", \"2\", \"2\", \"2\", \"2\", \"2\", \"2\", \"2\", \"3\", \"2\", \"2\", \"1\", \"2\", \"2\", \"2\", \"2\", \"2\", \"2\", \"2\", \"2\", \"3\", \"1\", \"1\", \"3\", \"3\", \"2\", \"2\", \"2\", \"2\", \"2\", \"2\", \"3\", \"2\", \"2\", \"2\", \"1\", \"2\", \"2\", \"2\", \"2\", \"3\", \"3\", \"3\", \"3\", \"3\", \"2\", \"2\", \"1\", \"1\", \"2\", \"2\", \"2\", \"2\", \"2\", \"2\", \"2\", \"2\", \"2\", \"2\", \"2\", \"2\", \"2\", \"3\", \"2\", \"3\", \"2\", \"1\", \"2\", \"2\", \"3\", \"3\", \"1\", \"2\", \"2\", \"1\", \"2\", \"3\", \"2\", \"2\", \"2\", \"2\", \"2\", \"2\", \"2\", \"2\", \"1\", \"2\", \"2\", \"1\", \"1\", \"2\", \"2\", \"2\", \"2\", \"2\", \"3\", \"3\", \"3\", \"2\", \"1\", \"2\", \"2\", \"1\", \"1\", \"1\", \"1\", \"2\", \"2\", \"2\", \"2\", \"1\", \"2\", \"2\", \"2\", \"3\", \"2\", \"2\", \"1\", \"2\", \"2\", \"2\", \"2\", \"2\", \"2\", \"2\", \"2\", \"2\", \"2\", \"3\", \"2\", \"1\", \"2\", \"2\", \"2\", \"2\", \"2\", \"2\", \"2\", \"3\", \"2\", \"2\", \"2\", \"2\", \"2\", \"2\", \"2\", \"2\", \"3\", \"1\", \"2\", \"2\", \"2\", \"2\", \"2\", \"2\", \"1\", \"1\", \"1\", \"2\", \"1\", \"3\", \"2\", \"2\", \"1\", \"1\", \"3\", \"3\", \"3\", \"2\", \"2\", \"2\", \"2\", \"3\", \"2\", \"2\", \"2\", \"1\", \"1\", \"3\", \"3\", \"2\", \"3\", \"3\", \"2\", \"2\", \"2\", \"2\", \"2\", \"2\", \"1\", \"2\", \"2\", \"2\", \"2\", \"2\", \"2\", \"2\", \"2\", \"3\", \"2\", \"3\", \"3\", \"2\", \"2\", \"2\", \"2\", \"2\", \"2\", \"2\", \"1\", \"2\", \"2\", \"3\", \"2\", \"2\", \"2\", \"3\", \"3\", \"3\", \"3\", \"2\", \"2\", \"3\", \"2\", \"2\", \"2\", \"2\", \"2\", \"2\", \"2\", \"2\", \"2\", \"2\", \"3\", \"2\", \"2\", \"2\", \"2\", \"2\", \"2\", \"2\", \"3\", \"2\", \"2\", \"2\", \"2\", \"3\", \"2\", \"2\", \"2\", \"1\", \"2\", \"2\", \"1\", \"2\", \"2\", \"3\", \"1\", \"2\", \"2\", \"3\", \"3\", \"2\", \"2\", \"2\", \"2\", \"1\", \"2\", \"3\", \"2\", \"2\", \"2\", \"3\", \"2\", \"2\", \"2\", \"2\", \"2\", \"2\", \"3\", \"2\", \"2\", \"2\", \"3\", \"3\", \"3\", \"3\", \"3\", \"3\", \"3\", \"2\", \"2\", \"2\", \"1\", \"2\", \"2\", \"2\", \"2\", \"3\", \"3\", \"3\", \"1\", \"2\", \"2\", \"2\", \"1\", \"1\", \"2\", \"2\", \"1\", \"2\", \"2\", \"1\", \"2\", \"2\", \"1\", \"2\", \"2\", \"2\", \"2\", \"2\", \"2\", \"2\", \"2\", \"2\", \"2\", \"2\", \"2\", \"2\", \"2\", \"2\", \"2\", \"2\", \"2\", \"2\", \"2\", \"3\", \"2\", \"3\", \"2\", \"2\", \"2\", \"2\", \"2\", \"2\", \"2\", \"2\", \"3\", \"2\", \"2\", \"2\", \"2\", \"2\", \"1\", \"1\", \"2\", \"2\", \"1\", \"2\", \"3\", \"3\", \"3\", \"2\", \"1\", \"2\", \"2\", \"2\", \"2\", \"2\", \"2\", \"2\", \"3\", \"2\", \"2\", \"2\", \"2\", \"2\", \"2\", \"2\", \"2\", \"1\", \"2\", \"2\", \"2\", \"2\", \"2\", \"2\", \"3\", \"2\", \"2\", \"2\", \"2\", \"2\", \"2\", \"3\", \"2\", \"1\", \"2\", \"2\", \"2\", \"2\", \"2\", \"2\", \"2\", \"1\", \"2\", \"2\", \"2\", \"1\", \"2\", \"2\", \"3\", \"2\", \"3\", \"2\", \"2\", \"2\", \"2\", \"2\", \"2\", \"2\", \"1\", \"2\", \"2\", \"2\", \"2\", \"1\", \"2\", \"2\", \"2\", \"2\", \"2\", \"1\", \"2\", \"2\", \"2\", \"2\", \"2\", \"3\", \"3\", \"3\", \"2\", \"2\", \"2\", \"2\", \"2\", \"1\", \"2\", \"2\", \"2\", \"2\", \"2\", \"2\", \"2\", \"3\", \"2\", \"2\", \"2\", \"2\", \"2\", \"2\", \"2\", \"3\", \"3\", \"2\", \"2\", \"3\", \"2\", \"2\", \"2\", \"2\", \"3\", \"2\", \"2\", \"2\", \"2\", \"2\", \"2\", \"3\", \"2\", \"2\", \"2\", \"2\", \"2\", \"2\", \"2\", \"2\", \"2\", \"2\", \"3\", \"3\", \"2\", \"3\", \"3\", \"3\", \"3\", \"3\", \"2\", \"2\", \"2\", \"2\", \"2\", \"3\", \"2\", \"1\", \"2\", \"2\", \"2\", \"2\", \"2\", \"2\", \"2\", \"1\", \"3\", \"2\", \"2\", \"3\", \"2\", \"2\", \"2\", \"2\", \"2\", \"2\", \"3\", \"3\", \"2\", \"2\", \"1\", \"3\", \"2\", \"2\", \"2\", \"2\", \"1\", \"2\", \"3\", \"2\", \"2\", \"2\", \"1\", \"2\", \"2\", \"2\", \"1\", \"2\", \"2\", \"2\", \"1\", \"3\", \"3\", \"3\", \"2\", \"3\", \"3\", \"2\", \"1\", \"2\", \"2\", \"2\", \"1\", \"3\", \"2\", \"1\", \"2\", \"2\", \"2\", \"2\", \"2\", \"2\", \"2\", \"1\", \"1\", \"2\", \"2\", \"2\", \"2\", \"1\", \"3\", \"1\", \"2\", \"2\", \"2\", \"1\", \"2\", \"2\", \"3\", \"2\", \"1\", \"3\", \"2\", \"3\", \"3\", \"2\", \"2\", \"2\", \"2\", \"2\", \"1\", \"2\", \"2\", \"2\", \"2\", \"2\", \"3\", \"2\", \"2\", \"1\", \"2\", \"1\", \"2\", \"2\", \"2\", \"1\", \"2\", \"2\", \"2\", \"2\", \"2\", \"3\", \"2\", \"2\", \"2\", \"1\", \"2\", \"1\", \"3\", \"1\", \"2\", \"2\", \"2\", \"2\", \"2\", \"2\", \"2\", \"2\", \"3\", \"2\", \"2\", \"2\", \"2\", \"3\", \"2\", \"1\", \"2\", \"3\", \"2\", \"2\", \"2\", \"2\", \"3\", \"2\", \"2\", \"2\", \"2\", \"2\", \"2\", \"2\", \"3\", \"1\", \"2\", \"2\", \"1\", \"1\", \"2\", \"1\", \"3\", \"3\", \"2\", \"1\", \"1\", \"1\", \"2\", \"2\", \"2\", \"2\", \"2\", \"1\", \"2\", \"3\", \"2\", \"2\", \"3\", \"3\", \"2\", \"2\", \"1\", \"1\", \"1\", \"2\", \"2\", \"1\", \"2\", \"2\", \"2\", \"2\", \"2\", \"1\", \"1\", \"2\", \"2\", \"2\", \"2\", \"2\", \"2\", \"1\", \"2\", \"2\", \"3\", \"3\", \"1\", \"2\", \"2\", \"2\", \"2\", \"2\", \"1\", \"2\", \"2\", \"2\", \"1\", \"3\", \"3\", \"3\", \"3\", \"2\", \"3\", \"3\", \"1\", \"2\", \"2\", \"2\", \"2\", \"1\", \"3\", \"2\", \"1\", \"2\", \"3\", \"2\", \"2\", \"1\", \"2\", \"3\", \"3\", \"2\", \"2\", \"2\", \"2\", \"3\", \"1\", \"2\", \"2\", \"2\", \"2\", \"2\", \"1\", \"3\", \"2\", \"2\", \"2\", \"2\", \"1\", \"1\", \"2\", \"2\", \"1\", \"3\", \"3\", \"2\", \"2\", \"3\", \"2\", \"2\", \"2\", \"2\", \"2\", \"3\", \"2\", \"3\", \"2\", \"2\", \"2\", \"2\", \"2\", \"3\", \"1\", \"1\", \"1\", \"1\", \"2\", \"2\", \"2\", \"2\", \"2\", \"2\", \"2\", \"2\", \"2\", \"2\", \"2\", \"2\", \"2\", \"3\", \"3\", \"2\", \"1\", \"2\", \"2\", \"2\", \"2\", \"3\", \"3\", \"3\", \"2\", \"3\", \"1\", \"1\", \"2\", \"2\", \"2\", \"2\", \"1\", \"2\", \"3\", \"3\", \"3\", \"2\", \"2\", \"2\", \"3\", \"2\", \"2\", \"2\", \"2\", \"2\", \"2\", \"3\", \"2\", \"1\", \"2\", \"3\", \"2\", \"2\", \"1\", \"2\", \"2\", \"2\", \"2\", \"3\", \"2\", \"2\", \"2\", \"2\", \"2\", \"2\", \"2\", \"2\", \"2\", \"3\", \"1\", \"2\", \"2\", \"3\", \"2\", \"3\", \"2\", \"2\", \"2\", \"2\", \"1\", \"2\", \"2\", \"2\", \"1\", \"2\", \"2\", \"2\", \"3\", \"3\", \"3\", \"3\", \"3\", \"2\", \"2\", \"1\", \"1\", \"1\", \"1\", \"1\", \"2\", \"2\", \"2\", \"2\", \"1\", \"3\", \"3\", \"3\", \"2\", \"2\", \"3\", \"3\", \"3\", \"2\", \"2\", \"2\", \"2\", \"2\", \"3\", \"2\", \"1\", \"2\", \"3\", \"2\", \"2\", \"2\", \"3\", \"3\", \"3\", \"3\", \"3\", \"3\", \"2\", \"1\", \"3\", \"2\", \"2\", \"2\", \"2\", \"1\", \"1\", \"2\", \"2\", \"2\", \"2\", \"2\", \"2\", \"2\", \"2\", \"2\", \"2\", \"2\", \"3\", \"2\", \"2\", \"1\", \"2\", \"2\", \"2\", \"2\", \"2\", \"3\", \"3\", \"2\", \"2\", \"2\", \"2\", \"2\", \"2\", \"2\", \"3\", \"2\", \"2\", \"2\", \"2\", \"2\", \"1\", \"2\", \"2\", \"2\", \"2\", \"2\", \"2\", \"1\", \"2\", \"1\", \"3\", \"2\", \"3\", \"2\", \"2\", \"2\", \"2\", \"2\", \"2\", \"2\", \"2\", \"3\", \"2\", \"2\", \"1\", \"1\", \"2\", \"2\", \"2\", \"2\", \"2\", \"2\", \"2\", \"2\", \"1\", \"2\", \"2\", \"2\", \"2\", \"2\", \"2\", \"1\", \"1\", \"2\", \"2\", \"2\", \"2\", \"2\", \"2\", \"2\", \"3\", \"2\", \"2\", \"2\", \"3\", \"2\", \"2\", \"2\", \"2\", \"1\", \"3\", \"3\", \"3\", \"1\", \"2\", \"2\", \"1\", \"2\", \"2\", \"2\", \"2\", \"2\", \"2\", \"2\", \"3\", \"2\", \"2\", \"2\", \"2\", \"2\", \"3\", \"3\", \"2\", \"2\", \"2\", \"2\", \"2\", \"2\", \"2\", \"2\", \"2\", \"1\", \"1\", \"2\", \"2\", \"2\", \"2\", \"3\", \"2\", \"2\", \"2\", \"2\", \"2\", \"2\", \"3\", \"2\", \"3\", \"2\", \"2\", \"2\", \"2\", \"2\", \"3\", \"2\", \"2\", \"2\", \"2\", \"2\", \"3\", \"3\", \"2\", \"1\", \"2\", \"2\", \"2\", \"2\", \"2\", \"2\", \"2\", \"3\", \"2\", \"2\", \"2\", \"2\", \"2\", \"3\", \"2\", \"3\", \"2\", \"2\", \"3\", \"2\", \"2\", \"2\", \"2\", \"2\", \"1\", \"1\", \"2\", \"2\", \"2\", \"2\", \"2\", \"3\", \"1\", \"3\", \"3\", \"2\", \"2\", \"2\", \"2\", \"2\", \"2\", \"2\", \"2\", \"2\", \"3\", \"3\", \"2\", \"2\", \"2\", \"2\", \"2\", \"2\", \"2\", \"3\", \"2\", \"2\", \"1\", \"2\", \"2\", \"1\", \"1\", \"1\", \"1\", \"2\", \"1\", \"3\", \"2\", \"2\", \"1\", \"2\", \"2\", \"2\", \"3\", \"3\", \"2\", \"2\", \"2\", \"2\", \"2\", \"2\", \"2\", \"2\", \"1\", \"2\", \"3\", \"2\", \"3\", \"3\", \"2\", \"2\", \"2\", \"2\", \"2\", \"2\", \"2\", \"2\", \"2\", \"2\", \"2\", \"2\", \"1\", \"2\", \"3\", \"3\", \"3\", \"2\", \"2\", \"2\", \"2\", \"2\", \"2\", \"2\", \"2\", \"2\", \"2\", \"2\", \"2\", \"1\", \"3\", \"2\", \"2\", \"2\", \"2\", \"2\", \"2\", \"3\", \"2\", \"2\", \"2\", \"2\", \"2\", \"2\", \"2\", \"2\", \"2\", \"2\", \"2\", \"2\", \"2\", \"2\", \"2\", \"2\", \"2\", \"1\", \"3\", \"2\", \"2\", \"2\", \"2\", \"2\", \"2\", \"1\", \"1\", \"3\", \"3\", \"2\", \"2\", \"2\", \"3\", \"2\", \"2\", \"3\", \"1\", \"3\", \"2\", \"1\", \"2\", \"1\", \"3\", \"2\", \"2\", \"2\", \"2\", \"2\", \"2\", \"2\", \"2\", \"2\", \"2\", \"1\", \"2\", \"2\", \"2\", \"2\", \"3\", \"3\", \"2\", \"2\", \"2\", \"3\", \"2\", \"2\", \"2\", \"2\", \"2\", \"3\", \"3\", \"2\", \"2\", \"1\", \"1\", \"2\", \"3\", \"2\", \"2\", \"3\", \"2\", \"2\", \"2\", \"3\", \"2\", \"2\", \"2\", \"2\", \"3\", \"2\", \"2\", \"2\", \"2\", \"2\", \"2\", \"1\", \"2\", \"2\", \"2\", \"2\", \"2\", \"2\", \"2\", \"3\", \"1\", \"2\", \"2\", \"3\", \"2\", \"2\", \"2\", \"2\", \"2\", \"2\", \"2\", \"2\", \"2\", \"2\", \"2\", \"2\", \"2\", \"2\", \"2\", \"2\", \"1\", \"2\", \"3\", \"2\", \"2\", \"3\", \"2\", \"2\", \"2\", \"3\", \"2\", \"2\", \"2\", \"2\", \"2\", \"1\", \"2\", \"1\", \"2\", \"2\", \"2\", \"2\", \"2\", \"2\", \"2\", \"2\", \"2\", \"2\", \"2\", \"2\", \"2\", \"2\", \"2\", \"2\", \"2\", \"3\", \"1\", \"1\", \"1\", \"1\", \"1\", \"2\", \"2\", \"2\", \"2\", \"2\", \"3\", \"3\", \"3\", \"3\", \"3\", \"3\", \"3\", \"1\", \"3\", \"2\", \"2\", \"2\", \"2\", \"2\", \"2\", \"1\", \"2\", \"3\", \"2\", \"2\", \"1\", \"2\", \"2\", \"2\", \"2\", \"2\", \"2\", \"3\", \"2\", \"1\", \"1\", \"1\", \"3\", \"2\", \"2\", \"2\", \"2\", \"2\", \"2\", \"2\", \"2\", \"2\", \"2\", \"1\", \"2\", \"2\", \"2\", \"3\", \"2\", \"2\", \"3\", \"2\", \"3\", \"2\", \"2\", \"2\", \"3\", \"2\", \"2\", \"3\", \"2\", \"2\", \"2\", \"2\", \"2\", \"2\", \"1\", \"2\", \"2\", \"1\", \"1\", \"2\", \"2\", \"1\", \"2\", \"2\", \"2\", \"2\", \"2\", \"2\", \"2\", \"3\", \"2\", \"2\", \"2\", \"2\", \"3\", \"2\", \"2\", \"1\", \"2\", \"2\", \"1\", \"2\", \"2\", \"2\", \"2\", \"2\", \"3\", \"2\", \"2\", \"3\", \"2\", \"2\", \"2\", \"2\", \"2\", \"2\", \"2\", \"2\", \"2\", \"1\", \"2\", \"1\", \"2\", \"2\", \"2\", \"2\", \"2\", \"2\", \"2\", \"2\", \"3\", \"1\", \"2\", \"3\", \"3\", \"1\", \"1\", \"3\", \"2\", \"2\", \"2\", \"2\", \"2\", \"2\", \"3\", \"3\", \"3\", \"2\", \"2\", \"2\", \"2\", \"2\", \"3\", \"2\", \"1\", \"1\", \"2\", \"2\", \"2\", \"2\", \"2\", \"2\", \"1\", \"2\", \"2\", \"2\", \"2\", \"2\", \"3\", \"2\", \"2\", \"3\", \"2\", \"1\", \"1\", \"2\", \"2\", \"2\", \"3\", \"2\", \"3\", \"2\", \"2\", \"1\", \"2\", \"2\", \"2\", \"2\", \"2\", \"2\", \"3\", \"2\", \"2\", \"2\", \"2\", \"1\", \"2\", \"1\", \"2\", \"3\", \"3\", \"2\", \"3\", \"2\", \"2\", \"3\", \"2\", \"2\", \"2\", \"2\", \"2\", \"1\", \"1\", \"2\", \"2\", \"2\", \"2\", \"2\", \"3\", \"2\", \"2\", \"2\", \"2\", \"2\", \"2\", \"2\", \"2\", \"2\", \"1\", \"2\", \"2\", \"2\", \"3\", \"1\", \"2\", \"2\", \"3\", \"2\", \"2\", \"2\", \"1\", \"1\", \"2\", \"2\", \"2\", \"2\", \"1\", \"1\", \"3\", \"2\", \"3\", \"3\", \"2\", \"2\", \"2\", \"2\", \"2\", \"2\", \"3\", \"1\", \"3\", \"3\", \"2\", \"1\", \"1\", \"2\", \"2\", \"2\", \"1\", \"2\", \"3\", \"3\", \"2\", \"2\", \"2\", \"2\", \"2\", \"2\", \"2\", \"2\", \"2\", \"2\", \"2\", \"2\", \"2\", \"2\", \"2\", \"2\", \"2\", \"2\", \"1\", \"2\", \"2\", \"2\", \"2\", \"1\", \"2\", \"3\", \"3\", \"2\", \"2\", \"3\", \"3\", \"2\", \"2\", \"2\", \"3\", \"1\", \"1\", \"1\", \"1\", \"3\", \"2\", \"2\", \"2\", \"2\", \"2\", \"2\", \"3\", \"3\", \"2\", \"2\", \"2\", \"3\", \"3\", \"2\", \"2\", \"3\", \"2\", \"3\", \"2\", \"2\", \"2\", \"2\", \"1\", \"2\", \"3\", \"2\", \"2\", \"2\", \"2\", \"2\", \"2\", \"2\", \"2\", \"1\", \"2\", \"2\", \"2\", \"2\", \"1\", \"1\", \"2\", \"2\", \"2\", \"3\", \"2\", \"2\", \"2\", \"2\", \"3\", \"3\", \"2\", \"2\", \"2\", \"2\", \"2\", \"2\", \"1\", \"2\", \"2\", \"2\", \"2\", \"2\", \"2\", \"1\", \"2\", \"2\", \"1\", \"2\", \"2\", \"1\", \"2\", \"3\", \"2\", \"2\", \"1\", \"2\", \"2\", \"2\", \"1\", \"3\", \"2\", \"2\", \"1\", \"2\", \"2\", \"2\", \"3\", \"2\", \"2\", \"3\", \"3\", \"3\", \"2\", \"1\", \"2\", \"3\", \"2\", \"2\", \"2\", \"2\", \"2\", \"2\", \"2\", \"2\", \"2\", \"2\", \"1\", \"2\", \"2\", \"3\", \"2\", \"2\", \"3\", \"2\", \"3\", \"3\", \"3\", \"2\", \"2\", \"2\", \"1\", \"2\", \"2\", \"2\", \"2\", \"2\", \"2\", \"3\", \"2\", \"2\", \"2\", \"3\", \"2\", \"3\", \"2\", \"3\", \"2\", \"3\", \"3\", \"2\", \"3\", \"2\", \"2\", \"2\", \"2\", \"2\", \"2\", \"2\", \"3\", \"1\", \"1\", \"2\", \"2\", \"2\", \"3\", \"3\", \"1\", \"2\", \"2\", \"1\", \"1\", \"3\", \"3\", \"2\", \"2\", \"2\", \"2\", \"2\", \"2\", \"2\", \"2\", \"2\", \"2\", \"1\", \"3\", \"3\", \"3\", \"3\", \"2\", \"1\", \"3\", \"3\", \"3\", \"2\", \"2\", \"2\", \"3\", \"2\", \"1\", \"3\", \"2\", \"2\", \"2\", \"2\", \"3\", \"2\", \"2\", \"1\", \"2\", \"2\", \"2\", \"2\", \"2\", \"2\", \"3\", \"3\", \"2\", \"2\", \"2\", \"2\", \"2\", \"2\", \"2\", \"2\", \"2\", \"2\", \"2\", \"2\", \"2\", \"2\", \"3\", \"2\", \"3\", \"2\", \"2\", \"3\", \"2\", \"2\", \"3\", \"1\", \"1\", \"1\", \"1\", \"2\", \"2\", \"2\", \"2\", \"2\", \"2\", \"2\", \"2\", \"2\", \"2\", \"1\", \"2\", \"2\", \"2\", \"2\", \"3\", \"3\", \"3\", \"1\", \"1\", \"2\", \"2\", \"2\", \"2\", \"2\", \"2\", \"2\", \"2\", \"2\", \"1\", \"2\", \"3\", \"3\", \"2\", \"2\", \"2\", \"2\", \"1\", \"2\", \"2\", \"2\", \"2\", \"2\", \"3\", \"2\", \"1\", \"2\", \"2\", \"3\", \"2\", \"2\", \"2\", \"2\", \"2\", \"3\", \"2\", \"3\", \"3\", \"3\", \"2\", \"2\", \"2\", \"2\", \"3\", \"3\", \"2\", \"3\", \"2\", \"2\", \"3\", \"2\", \"3\", \"2\", \"3\", \"2\", \"2\", \"2\", \"2\", \"2\", \"3\", \"2\", \"3\", \"2\", \"2\", \"2\", \"2\", \"2\", \"2\", \"3\", \"2\", \"2\", \"2\", \"1\", \"2\", \"2\", \"2\", \"2\", \"2\", \"2\", \"2\", \"2\", \"1\", \"2\", \"2\", \"2\", \"3\", \"3\", \"2\", \"2\", \"3\", \"3\", \"3\", \"3\", \"3\", \"3\", \"2\", \"3\", \"3\", \"3\", \"2\", \"2\", \"2\", \"3\", \"2\", \"2\", \"2\", \"2\", \"2\", \"2\", \"3\", \"1\", \"2\", \"3\", \"2\", \"2\", \"2\", \"2\", \"2\", \"2\", \"3\", \"2\", \"2\", \"2\", \"2\", \"2\", \"2\", \"2\", \"2\", \"2\", \"3\", \"2\", \"1\", \"2\", \"2\", \"2\", \"2\", \"2\", \"2\", \"3\", \"2\", \"3\", \"2\", \"2\", \"3\", \"2\", \"2\", \"2\", \"2\", \"2\", \"2\", \"2\", \"2\", \"2\", \"3\", \"3\", \"2\", \"2\", \"3\", \"3\", \"3\", \"3\", \"2\", \"1\", \"2\", \"2\", \"2\", \"2\", \"2\", \"2\", \"2\", \"2\", \"1\", \"3\", \"2\", \"1\", \"2\", \"2\", \"2\", \"2\", \"2\", \"2\", \"2\", \"2\", \"2\", \"2\", \"2\", \"3\", \"3\", \"2\", \"1\", \"2\", \"2\", \"1\", \"2\", \"3\", \"2\", \"2\", \"2\", \"3\", \"3\", \"2\", \"2\", \"2\", \"2\", \"2\", \"1\", \"1\", \"1\", \"1\", \"2\", \"2\", \"1\", \"1\", \"2\", \"3\", \"3\", \"2\", \"1\", \"2\", \"2\", \"2\", \"2\", \"2\", \"2\", \"3\", \"3\", \"2\", \"2\", \"2\", \"1\", \"2\", \"2\", \"2\", \"2\", \"2\", \"2\", \"2\", \"2\", \"2\", \"2\", \"1\", \"3\", \"1\", \"2\", \"2\", \"2\", \"3\", \"2\", \"2\", \"2\", \"2\", \"2\", \"3\", \"2\", \"2\", \"2\", \"2\", \"2\", \"3\", \"3\", \"1\", \"1\", \"3\", \"3\", \"2\", \"2\", \"2\", \"2\", \"2\", \"2\", \"1\", \"1\", \"2\", \"2\", \"2\", \"2\", \"2\", \"3\", \"3\", \"2\", \"2\", \"3\", \"2\", \"3\", \"3\", \"2\", \"2\", \"2\", \"2\", \"2\", \"3\", \"3\", \"2\", \"2\", \"2\", \"2\", \"2\", \"2\", \"2\", \"2\", \"2\", \"2\", \"2\", \"2\", \"3\", \"2\", \"2\", \"2\", \"2\", \"3\", \"3\", \"1\", \"2\", \"2\", \"2\", \"2\", \"2\", \"2\", \"2\", \"2\", \"3\", \"2\", \"2\", \"2\", \"2\", \"2\", \"2\", \"1\", \"2\", \"2\", \"2\", \"1\", \"2\", \"2\", \"2\", \"2\", \"2\", \"3\", \"2\", \"1\", \"2\", \"1\", \"3\", \"2\", \"3\", \"3\", \"3\", \"2\", \"2\", \"2\", \"3\", \"2\", \"2\", \"2\", \"2\", \"2\", \"2\", \"2\", \"2\", \"2\", \"1\", \"2\", \"3\", \"1\", \"2\", \"2\", \"2\", \"2\", \"2\", \"3\", \"2\", \"2\", \"2\", \"3\", \"1\", \"1\", \"1\", \"2\", \"2\", \"2\", \"3\", \"3\", \"3\", \"3\", \"2\", \"2\", \"2\", \"2\", \"2\", \"2\", \"2\", \"2\", \"2\", \"2\", \"2\", \"3\", \"3\", \"3\", \"1\", \"1\", \"1\", \"2\", \"3\", \"2\", \"2\", \"1\", \"1\", \"1\", \"1\", \"2\", \"2\", \"3\", \"2\", \"2\", \"3\", \"2\", \"2\", \"2\", \"1\", \"2\", \"2\", \"2\", \"1\", \"2\", \"2\", \"2\", \"2\", \"2\", \"3\", \"2\", \"1\", \"2\", \"3\", \"2\", \"1\", \"2\", \"2\", \"2\", \"1\", \"2\", \"2\", \"2\", \"2\", \"2\", \"1\", \"3\", \"3\", \"2\", \"2\", \"2\", \"2\", \"1\", \"3\", \"3\", \"2\", \"3\", \"2\", \"2\", \"3\", \"2\", \"2\", \"2\", \"2\", \"2\", \"2\", \"2\", \"2\", \"3\", \"1\", \"2\", \"1\", \"2\", \"2\", \"1\", \"2\", \"3\", \"2\", \"1\", \"2\", \"3\", \"3\", \"3\", \"2\", \"2\", \"2\", \"2\", \"2\", \"2\", \"2\", \"2\", \"2\", \"2\", \"3\", \"2\", \"3\", \"2\", \"3\", \"2\", \"2\", \"2\", \"2\", \"2\", \"2\", \"3\", \"1\", \"2\", \"2\", \"2\", \"2\", \"1\", \"2\", \"1\", \"2\", \"2\", \"2\", \"2\", \"3\", \"2\", \"1\", \"3\", \"2\", \"2\", \"2\", \"2\", \"2\", \"2\", \"2\", \"2\", \"2\", \"2\", \"2\", \"2\", \"2\", \"2\", \"3\", \"2\", \"3\", \"2\", \"2\", \"2\", \"2\", \"2\", \"2\", \"2\", \"2\", \"3\", \"2\", \"3\", \"3\", \"2\", \"1\", \"2\", \"2\", \"1\", \"2\", \"2\", \"3\", \"3\", \"2\", \"2\", \"2\", \"1\", \"1\", \"2\", \"2\", \"2\", \"2\", \"3\", \"2\", \"2\", \"2\", \"2\", \"2\", \"2\", \"2\", \"2\", \"2\", \"2\", \"2\", \"2\", \"3\", \"3\", \"2\", \"3\", \"2\", \"2\", \"2\", \"2\", \"2\", \"2\", \"2\", \"2\", \"2\", \"2\", \"3\", \"2\", \"1\", \"2\", \"3\", \"2\", \"2\", \"2\", \"1\", \"2\", \"2\", \"2\", \"1\", \"1\", \"2\", \"3\", \"2\", \"2\", \"2\", \"2\", \"2\", \"2\", \"2\", \"1\", \"2\", \"2\", \"3\", \"2\", \"2\", \"2\", \"2\", \"2\", \"3\", \"3\", \"1\", \"1\", \"2\", \"2\", \"2\", \"2\", \"2\", \"2\", \"2\", \"2\", \"3\", \"2\", \"3\", \"2\", \"2\", \"2\", \"3\", \"2\", \"3\", \"1\", \"2\", \"2\", \"2\", \"2\", \"2\", \"2\", \"2\", \"2\", \"3\", \"2\", \"1\", \"2\", \"2\", \"2\", \"1\", \"2\", \"3\", \"3\", \"3\", \"3\", \"3\", \"2\", \"3\", \"2\", \"2\", \"2\", \"3\", \"2\", \"3\", \"3\", \"1\", \"1\", \"2\", \"2\", \"2\", \"1\", \"2\", \"2\", \"2\", \"2\", \"2\", \"2\", \"2\", \"1\", \"2\", \"2\", \"2\", \"2\", \"2\", \"2\", \"2\", \"2\", \"3\", \"2\", \"3\", \"2\", \"2\", \"2\", \"2\", \"2\", \"2\", \"2\", \"2\", \"2\", \"1\", \"2\", \"2\", \"3\", \"3\", \"3\", \"2\", \"2\", \"2\", \"2\", \"2\", \"2\", \"2\", \"2\", \"3\", \"2\", \"2\", \"2\", \"1\", \"2\", \"1\", \"1\", \"1\", \"2\", \"2\", \"2\", \"2\", \"2\", \"1\", \"2\", \"2\", \"2\", \"2\", \"2\", \"2\", \"3\", \"3\", \"2\", \"2\", \"2\", \"1\", \"2\", \"2\", \"2\", \"3\", \"2\", \"1\", \"2\", \"3\", \"1\", \"3\", \"3\", \"3\", \"2\", \"2\", \"1\", \"1\", \"2\", \"2\", \"2\", \"3\", \"2\", \"2\", \"2\", \"2\", \"3\", \"2\", \"2\", \"2\", \"2\", \"2\", \"2\", \"1\", \"2\", \"2\", \"3\", \"2\", \"1\", \"2\", \"2\", \"2\", \"2\", \"3\", \"3\", \"2\", \"3\", \"2\", \"2\", \"2\", \"2\", \"2\", \"2\", \"2\", \"2\", \"2\", \"2\", \"2\", \"2\", \"1\", \"2\", \"2\", \"2\", \"3\", \"2\", \"2\", \"2\", \"2\", \"2\", \"2\", \"2\", \"3\", \"1\", \"3\", \"1\", \"2\", \"2\", \"2\", \"2\", \"2\", \"2\", \"2\", \"1\", \"1\", \"3\", \"2\", \"3\", \"1\", \"2\", \"2\", \"1\", \"2\", \"1\", \"2\", \"2\", \"2\", \"2\", \"2\", \"2\", \"2\", \"1\", \"2\", \"2\", \"1\", \"3\", \"2\", \"2\", \"2\", \"2\", \"2\", \"1\", \"1\", \"2\", \"2\", \"2\", \"2\", \"2\", \"2\", \"2\", \"2\", \"1\", \"3\", \"2\", \"2\", \"2\", \"2\", \"2\", \"3\", \"1\", \"2\", \"2\", \"3\", \"2\", \"2\", \"2\", \"2\", \"1\", \"2\", \"2\", \"1\", \"1\", \"2\", \"2\", \"2\", \"2\", \"1\", \"2\", \"1\", \"2\", \"2\", \"2\", \"2\", \"2\", \"2\", \"2\", \"2\", \"2\", \"1\", \"3\", \"3\", \"2\", \"2\", \"3\", \"2\", \"2\", \"3\", \"2\", \"1\", \"2\", \"2\", \"2\", \"2\", \"2\", \"2\", \"2\", \"2\", \"2\", \"2\", \"2\", \"1\", \"2\", \"2\", \"1\", \"1\", \"1\", \"1\", \"2\", \"2\", \"2\", \"2\", \"1\", \"2\", \"3\", \"3\", \"3\", \"2\", \"2\", \"1\", \"3\", \"1\", \"3\", \"2\", \"2\", \"2\", \"2\", \"1\", \"3\", \"2\", \"1\", \"2\", \"2\", \"1\", \"2\", \"2\", \"2\", \"3\", \"3\", \"2\", \"2\", \"2\", \"2\", \"2\", \"2\", \"2\", \"2\", \"2\", \"3\", \"2\", \"2\", \"2\", \"2\", \"2\", \"2\", \"2\", \"2\", \"2\", \"2\", \"3\", \"1\", \"2\", \"2\", \"1\", \"2\", \"2\", \"2\", \"2\", \"3\", \"2\", \"2\", \"2\", \"2\", \"2\", \"2\", \"2\", \"1\", \"2\", \"2\", \"2\", \"2\", \"2\", \"2\", \"2\", \"1\", \"1\", \"1\", \"2\", \"2\", \"2\", \"2\", \"1\", \"3\", \"3\", \"3\", \"3\", \"2\", \"2\", \"2\", \"2\", \"3\", \"2\", \"2\", \"2\", \"2\", \"1\", \"3\", \"2\", \"2\", \"2\", \"2\", \"3\", \"2\", \"2\", \"2\", \"2\", \"2\", \"2\", \"2\", \"3\", \"2\", \"1\", \"2\", \"2\", \"2\", \"2\", \"2\", \"1\", \"2\", \"1\", \"2\", \"2\", \"2\", \"2\", \"1\", \"2\", \"3\", \"2\", \"2\", \"2\", \"3\", \"2\", \"2\", \"3\", \"2\", \"2\", \"2\", \"2\", \"3\", \"3\", \"2\", \"2\", \"2\", \"2\", \"2\", \"2\", \"2\", \"2\", \"2\", \"2\", \"2\", \"2\", \"3\", \"2\", \"2\", \"2\", \"2\", \"2\", \"2\", \"2\", \"2\", \"2\", \"1\", \"2\", \"2\", \"2\", \"2\", \"2\", \"2\", \"1\", \"2\", \"2\", \"3\", \"3\", \"2\", \"2\", \"1\", \"1\", \"2\", \"2\", \"2\", \"2\", \"2\", \"2\", \"2\", \"2\", \"2\", \"1\", \"2\", \"2\", \"2\", \"2\", \"3\", \"1\", \"2\", \"1\", \"2\", \"2\", \"2\", \"2\", \"2\", \"1\", \"2\", \"2\", \"2\", \"2\", \"2\", \"2\", \"2\", \"2\", \"2\", \"2\", \"3\", \"2\", \"2\", \"2\", \"1\", \"1\", \"1\", \"2\", \"1\", \"1\", \"2\", \"2\", \"2\", \"3\", \"1\", \"3\", \"2\", \"3\", \"3\", \"3\", \"3\", \"3\", \"2\", \"1\", \"2\", \"2\", \"2\", \"2\", \"3\", \"3\", \"2\", \"2\", \"3\", \"1\", \"1\", \"2\", \"2\", \"2\", \"2\", \"2\", \"3\", \"3\", \"2\", \"2\", \"3\", \"3\", \"2\", \"2\", \"2\", \"1\", \"1\", \"2\", \"2\", \"3\", \"2\", \"2\", \"2\", \"1\", \"3\", \"3\", \"2\", \"2\", \"2\", \"2\", \"2\", \"2\", \"2\", \"2\", \"2\", \"2\", \"3\", \"2\", \"1\", \"2\", \"2\", \"2\", \"2\", \"2\", \"2\", \"2\", \"2\", \"1\", \"2\", \"2\", \"2\", \"2\", \"1\", \"3\", \"3\", \"2\", \"3\", \"2\", \"2\", \"1\", \"2\", \"2\", \"2\", \"1\", \"2\", \"2\", \"2\", \"2\", \"2\", \"3\", \"2\", \"2\", \"2\", \"2\", \"3\", \"2\", \"1\", \"2\", \"2\", \"1\", \"2\", \"2\", \"3\", \"2\", \"2\", \"2\", \"2\", \"2\", \"2\", \"2\", \"2\", \"2\", \"3\", \"2\", \"2\", \"2\", \"1\", \"2\", \"2\", \"3\", \"2\", \"2\", \"3\", \"1\", \"2\", \"2\", \"2\", \"2\", \"1\", \"3\", \"2\", \"2\", \"2\", \"1\", \"2\", \"2\", \"2\", \"2\", \"2\", \"1\", \"2\", \"2\", \"2\", \"2\", \"2\", \"1\", \"2\", \"2\", \"2\", \"1\", \"2\", \"2\", \"2\", \"2\", \"2\", \"2\", \"1\", \"2\", \"1\", \"2\", \"1\", \"3\", \"2\", \"2\", \"1\", \"2\", \"3\", \"3\", \"3\", \"2\", \"2\", \"2\", \"2\", \"2\", \"2\", \"2\", \"2\", \"2\", \"3\", \"2\", \"2\", \"2\", \"3\", \"1\", \"2\", \"2\", \"2\", \"2\", \"1\", \"2\", \"2\", \"2\", \"2\", \"2\", \"2\", \"2\", \"1\", \"2\", \"2\", \"2\", \"3\", \"1\", \"2\", \"1\", \"2\", \"2\", \"3\", \"2\", \"1\", \"2\", \"2\", \"2\", \"3\", \"3\", \"3\", \"3\", \"2\", \"2\", \"2\", \"2\", \"2\", \"2\", \"2\", \"1\", \"1\", \"3\", \"2\", \"2\", \"2\", \"1\", \"1\", \"2\", \"2\", \"1\", \"2\", \"2\", \"2\", \"2\", \"2\", \"2\", \"2\", \"2\", \"3\", \"3\", \"2\", \"2\", \"2\", \"2\", \"2\", \"3\", \"2\", \"2\", \"2\", \"1\", \"2\", \"2\", \"2\", \"1\", \"3\", \"2\", \"2\", \"2\", \"1\", \"2\", \"1\", \"2\", \"2\", \"3\", \"3\", \"3\", \"1\", \"2\", \"2\", \"3\", \"2\", \"3\", \"2\", \"3\", \"1\", \"2\", \"2\", \"1\", \"2\", \"2\", \"2\", \"1\", \"3\", \"2\", \"3\", \"1\", \"2\", \"2\", \"2\", \"3\", \"3\", \"3\", \"3\", \"3\", \"3\", \"3\", \"2\", \"1\", \"2\", \"2\", \"2\", \"1\", \"2\", \"2\", \"1\", \"2\", \"1\", \"2\", \"2\", \"2\", \"2\", \"2\", \"2\", \"2\", \"2\", \"3\", \"2\", \"2\", \"2\", \"3\", \"3\", \"2\", \"2\", \"2\", \"2\", \"1\", \"2\", \"1\", \"2\", \"1\", \"3\", \"2\", \"2\", \"2\", \"2\", \"3\", \"1\", \"3\", \"2\", \"2\", \"2\", \"1\", \"2\", \"1\", \"2\", \"2\", \"2\", \"3\", \"3\", \"2\", \"1\", \"2\", \"1\", \"1\", \"3\", \"2\", \"2\", \"2\", \"2\", \"2\", \"1\", \"2\", \"2\", \"2\", \"2\", \"1\", \"2\", \"2\", \"2\", \"2\", \"3\", \"1\", \"1\", \"2\", \"2\", \"2\", \"2\", \"2\", \"2\", \"2\", \"2\", \"2\", \"1\", \"3\", \"3\", \"3\", \"1\", \"3\", \"1\", \"2\", \"1\", \"3\", \"2\", \"2\", \"2\", \"3\", \"1\", \"2\", \"2\", \"2\", \"1\", \"2\", \"1\", \"2\", \"2\", \"2\", \"2\", \"2\", \"3\", \"3\", \"2\", \"2\", \"2\", \"2\", \"2\", \"3\", \"3\", \"2\", \"2\", \"3\", \"1\", \"2\", \"2\", \"2\", \"3\", \"2\", \"3\", \"3\", \"2\", \"2\", \"1\", \"2\", \"2\", \"2\", \"2\", \"2\", \"2\", \"2\", \"2\", \"3\", \"2\", \"2\", \"2\", \"2\", \"1\", \"1\", \"2\", \"1\", \"3\", \"2\", \"2\", \"2\", \"2\", \"1\", \"2\", \"2\", \"3\", \"3\", \"3\", \"3\", \"2\", \"2\", \"1\", \"2\", \"2\", \"1\", \"3\", \"2\", \"2\", \"3\", \"3\", \"2\", \"2\", \"2\", \"2\", \"2\", \"2\", \"2\", \"2\", \"1\", \"2\", \"2\", \"2\", \"1\", \"2\", \"2\", \"1\", \"2\", \"2\", \"1\", \"1\", \"2\", \"2\", \"1\", \"1\", \"2\", \"2\", \"2\", \"3\", \"2\", \"2\", \"1\", \"2\", \"2\", \"1\", \"2\", \"2\", \"2\", \"2\", \"1\", \"2\", \"2\", \"3\", \"3\", \"2\", \"2\", \"2\", \"3\", \"2\", \"2\", \"2\", \"2\", \"2\", \"2\", \"2\", \"2\", \"1\", \"2\", \"2\", \"2\", \"2\", \"2\", \"2\", \"2\", \"1\", \"2\", \"2\", \"1\", \"3\", \"2\", \"2\", \"2\", \"2\", \"2\", \"1\", \"2\", \"2\", \"3\", \"2\", \"2\", \"2\", \"1\", \"2\", \"2\", \"2\", \"2\", \"2\", \"2\", \"2\", \"2\", \"2\", \"2\", \"2\", \"2\", \"2\", \"2\", \"1\", \"2\", \"2\", \"2\", \"2\", \"2\", \"3\", \"2\", \"2\", \"2\", \"2\", \"2\", \"2\", \"2\", \"2\", \"1\", \"2\", \"2\", \"3\", \"2\", \"2\", \"2\", \"2\", \"3\", \"1\", \"1\", \"3\", \"1\", \"2\", \"2\", \"3\", \"3\", \"3\", \"2\", \"1\", \"2\", \"2\", \"2\", \"2\", \"3\", \"1\", \"3\", \"3\", \"2\", \"2\", \"2\", \"1\", \"2\", \"1\", \"2\", \"2\", \"2\", \"2\", \"2\", \"2\", \"2\", \"2\", \"2\", \"2\", \"2\", \"2\", \"1\", \"2\", \"2\", \"3\", \"2\", \"2\", \"3\", \"2\", \"2\", \"1\", \"3\", \"2\", \"2\", \"3\", \"2\", \"2\", \"1\", \"3\", \"2\", \"2\", \"3\", \"2\", \"2\", \"1\", \"2\", \"2\", \"2\", \"2\", \"1\", \"2\", \"2\", \"2\", \"2\", \"2\", \"2\", \"2\", \"2\", \"3\", \"2\", \"2\", \"2\", \"1\", \"2\", \"3\", \"3\", \"2\", \"2\", \"2\", \"2\", \"3\", \"3\", \"2\", \"3\", \"2\", \"2\", \"2\", \"2\", \"2\", \"2\", \"2\", \"1\", \"3\", \"2\", \"3\", \"2\", \"2\", \"2\", \"3\", \"2\", \"2\", \"2\", \"2\", \"2\", \"2\", \"3\", \"2\", \"1\", \"2\", \"2\", \"2\", \"2\", \"1\", \"1\", \"1\", \"2\", \"2\", \"2\", \"2\", \"2\", \"1\", \"2\", \"2\", \"3\", \"2\", \"2\", \"2\", \"2\", \"2\", \"2\", \"2\", \"1\", \"2\", \"2\", \"2\", \"3\", \"3\", \"2\", \"1\", \"1\", \"1\", \"2\", \"1\", \"2\", \"2\", \"2\", \"2\", \"2\", \"2\", \"2\", \"2\", \"2\", \"3\", \"3\", \"2\", \"1\", \"2\", \"3\", \"3\", \"2\", \"2\", \"2\", \"2\", \"2\", \"1\", \"1\", \"1\", \"2\", \"2\", \"2\", \"3\", \"2\", \"2\", \"3\", \"2\", \"2\", \"2\", \"2\", \"2\", \"2\", \"2\", \"2\", \"1\", \"2\", \"3\", \"3\", \"3\", \"2\", \"2\", \"2\", \"2\", \"2\", \"3\", \"3\", \"1\", \"3\", \"2\", \"2\", \"3\", \"2\", \"2\", \"2\", \"3\", \"2\", \"1\", \"2\", \"2\", \"3\", \"1\", \"1\", \"2\", \"2\", \"2\", \"2\", \"2\", \"2\", \"2\", \"2\", \"3\", \"2\", \"2\", \"3\", \"2\", \"2\", \"1\", \"2\", \"2\", \"2\", \"2\", \"2\", \"1\", \"2\", \"2\", \"2\", \"1\", \"1\", \"3\", \"3\", \"2\", \"2\", \"2\", \"3\", \"2\", \"1\", \"1\", \"2\", \"1\", \"1\", \"1\", \"2\", \"3\", \"3\", \"1\", \"3\", \"2\", \"2\", \"1\", \"3\", \"2\", \"2\", \"2\", \"2\", \"1\", \"2\", \"1\", \"2\", \"2\", \"3\", \"2\", \"2\", \"2\", \"2\", \"2\", \"2\", \"1\", \"2\", \"2\", \"2\", \"2\", \"2\", \"1\", \"1\", \"2\", \"2\", \"2\", \"2\", \"2\", \"2\", \"2\", \"3\", \"2\", \"2\", \"3\", \"2\", \"2\", \"1\", \"2\", \"2\", \"2\", \"2\", \"2\", \"2\", \"2\", \"2\", \"2\", \"2\", \"1\", \"2\", \"3\", \"2\", \"2\", \"2\", \"2\", \"2\", \"2\", \"2\", \"2\", \"2\", \"1\", \"2\", \"2\", \"2\", \"3\", \"2\", \"3\", \"2\", \"1\", \"2\", \"2\", \"2\", \"1\", \"2\", \"1\", \"2\", \"1\", \"3\", \"3\", \"3\", \"3\", \"2\", \"2\", \"2\", \"2\", \"1\", \"2\", \"3\", \"1\", \"2\", \"2\", \"2\", \"2\", \"2\", \"2\", \"2\", \"2\", \"1\", \"1\", \"2\", \"3\", \"2\", \"2\", \"3\", \"2\", \"2\", \"2\", \"2\", \"2\", \"2\", \"1\", \"2\", \"2\", \"2\", \"2\", \"3\", \"2\", \"2\", \"2\", \"2\", \"2\", \"2\", \"2\", \"2\", \"1\", \"2\", \"3\", \"2\", \"2\", \"1\", \"2\", \"1\", \"2\", \"2\", \"1\", \"2\", \"2\", \"2\", \"2\", \"3\", \"3\", \"3\", \"2\", \"2\", \"2\", \"3\", \"3\", \"2\", \"2\", \"1\", \"2\", \"2\", \"3\", \"2\", \"1\", \"2\", \"2\", \"1\", \"2\", \"2\", \"1\", \"2\", \"2\", \"2\", \"2\", \"2\", \"2\", \"2\", \"2\", \"2\", \"1\", \"2\", \"2\", \"3\", \"3\", \"3\", \"3\", \"3\", \"2\", \"2\", \"2\", \"1\", \"2\", \"2\", \"2\", \"2\", \"2\", \"2\", \"2\", \"3\", \"3\", \"1\", \"2\", \"1\", \"1\", \"3\", \"2\", \"1\", \"1\", \"2\", \"2\", \"2\", \"2\", \"2\", \"2\", \"2\", \"2\", \"2\", \"2\", \"2\", \"2\", \"2\", \"2\", \"2\", \"2\", \"2\", \"2\", \"2\", \"3\", \"2\", \"3\", \"3\", \"2\", \"2\", \"2\", \"3\", \"3\", \"2\", \"1\", \"1\", \"2\", \"2\", \"2\", \"2\", \"2\", \"2\", \"3\", \"3\", \"3\", \"3\", \"3\", \"2\", \"2\", \"3\", \"2\", \"2\", \"2\", \"2\", \"2\", \"2\", \"2\", \"1\", \"2\", \"2\", \"3\", \"3\", \"3\", \"3\", \"1\", \"1\", \"3\", \"2\", \"2\", \"2\", \"2\", \"1\", \"1\", \"2\", \"2\", \"2\", \"3\", \"2\", \"2\", \"2\", \"2\", \"2\", \"1\", \"2\", \"2\", \"2\", \"2\", \"1\", \"2\", \"2\", \"3\", \"3\", \"2\", \"2\", \"2\", \"2\", \"3\", \"2\", \"2\", \"2\", \"2\", \"3\", \"1\", \"2\", \"2\", \"2\", \"2\", \"1\", \"2\", \"2\", \"2\", \"1\", \"3\", \"2\", \"3\", \"1\", \"1\", \"2\", \"2\", \"2\", \"2\", \"1\", \"1\", \"2\", \"2\", \"2\", \"2\", \"2\", \"2\", \"2\", \"2\", \"2\", \"2\", \"2\", \"2\", \"2\", \"2\", \"2\", \"1\", \"2\", \"2\", \"2\", \"2\", \"2\", \"2\", \"3\", \"2\", \"2\", \"2\", \"2\", \"3\", \"2\", \"2\", \"1\", \"2\", \"2\", \"2\", \"2\", \"2\", \"2\", \"2\", \"2\", \"3\", \"1\", \"2\", \"1\", \"2\", \"2\", \"2\", \"1\", \"2\", \"2\", \"1\", \"1\", \"2\", \"2\", \"2\", \"2\", \"2\", \"2\", \"2\", \"2\", \"2\", \"2\", \"2\", \"2\", \"2\", \"3\", \"3\", \"2\", \"2\", \"1\", \"2\", \"2\", \"2\", \"3\", \"3\", \"2\", \"2\", \"2\", \"2\", \"2\", \"3\", \"2\", \"2\", \"2\", \"2\", \"3\", \"2\", \"2\", \"2\", \"2\", \"1\", \"2\", \"2\", \"2\", \"2\", \"2\", \"2\", \"1\", \"2\", \"2\", \"1\", \"1\", \"1\", \"2\", \"2\", \"2\", \"2\", \"2\", \"2\", \"2\", \"3\", \"1\", \"2\", \"3\", \"1\", \"2\", \"1\", \"2\", \"2\", \"2\", \"2\", \"1\", \"2\", \"2\", \"2\", \"1\", \"2\", \"2\", \"1\", \"2\", \"3\", \"2\", \"2\", \"1\", \"2\", \"1\", \"2\", \"2\", \"3\", \"2\", \"2\", \"2\", \"2\", \"2\", \"2\", \"2\", \"3\", \"2\", \"1\", \"2\", \"2\", \"3\", \"2\", \"3\", \"3\", \"2\", \"3\", \"2\", \"2\", \"2\", \"2\", \"2\", \"2\", \"3\", \"2\", \"2\", \"2\", \"2\", \"3\", \"2\", \"2\", \"2\", \"2\", \"2\", \"2\", \"3\", \"2\", \"2\", \"2\", \"2\", \"3\", \"2\", \"2\", \"2\", \"2\", \"2\", \"2\", \"1\", \"1\", \"1\", \"2\", \"1\", \"1\", \"1\", \"2\", \"1\", \"3\", \"2\", \"2\", \"3\", \"3\", \"2\", \"2\", \"2\", \"2\", \"2\", \"2\", \"3\", \"2\", \"2\", \"2\", \"2\", \"1\", \"1\", \"2\", \"2\", \"2\", \"1\", \"2\", \"2\", \"2\", \"3\", \"2\", \"2\", \"2\", \"2\", \"2\", \"2\", \"2\", \"2\", \"1\", \"2\", \"2\", \"2\", \"2\", \"1\", \"2\", \"2\", \"1\", \"2\", \"2\", \"2\", \"2\", \"3\", \"2\", \"2\", \"3\", \"2\", \"3\", \"2\", \"2\", \"2\", \"2\", \"2\", \"2\", \"1\", \"2\", \"2\", \"2\", \"2\", \"2\", \"2\", \"2\", \"2\", \"2\", \"2\", \"3\", \"3\", \"1\", \"2\", \"2\", \"3\", \"3\", \"3\", \"2\", \"2\", \"2\", \"2\", \"2\", \"1\", \"2\", \"1\", \"2\", \"3\", \"3\", \"1\", \"2\", \"2\", \"1\", \"3\", \"2\", \"2\", \"2\", \"2\", \"2\", \"2\", \"2\", \"2\", \"2\", \"3\", \"3\", \"3\", \"2\", \"2\", \"2\", \"3\", \"1\", \"2\", \"2\", \"2\", \"2\", \"2\", \"2\", \"2\", \"2\", \"1\", \"2\", \"3\", \"2\", \"2\", \"1\", \"2\", \"2\", \"2\", \"2\", \"2\", \"2\", \"2\", \"2\", \"2\", \"2\", \"2\", \"2\", \"1\", \"2\", \"3\", \"3\", \"2\", \"2\", \"2\", \"3\", \"2\", \"2\", \"2\", \"2\", \"2\", \"2\", \"2\", \"2\", \"2\", \"2\", \"2\", \"2\", \"2\", \"1\", \"2\", \"1\", \"2\", \"2\", \"2\", \"2\", \"2\", \"2\", \"3\", \"2\", \"2\", \"2\", \"2\", \"2\", \"2\", \"1\", \"2\", \"1\", \"1\", \"2\", \"2\", \"2\", \"2\", \"1\", \"1\", \"2\", \"3\", \"2\", \"3\", \"1\", \"1\", \"1\", \"2\", \"2\", \"1\", \"1\", \"2\", \"2\", \"2\", \"2\", \"2\", \"2\", \"2\", \"2\", \"2\", \"2\", \"2\", \"1\", \"3\", \"2\", \"2\", \"2\", \"2\", \"3\", \"2\", \"2\", \"2\", \"2\", \"2\", \"3\", \"2\", \"2\", \"3\", \"2\", \"2\", \"2\", \"2\", \"2\", \"2\", \"2\", \"2\", \"1\", \"2\", \"3\", \"1\", \"2\", \"2\", \"2\", \"2\", \"1\", \"2\", \"2\", \"2\", \"2\", \"2\", \"2\", \"2\", \"2\", \"2\", \"1\", \"2\", \"2\", \"2\", \"2\", \"2\", \"2\", \"2\", \"2\", \"3\", \"3\", \"2\", \"2\", \"2\", \"1\", \"1\", \"2\", \"1\", \"2\", \"2\", \"2\", \"2\", \"3\", \"2\", \"1\", \"3\", \"2\", \"2\", \"2\", \"2\", \"2\", \"2\", \"2\", \"2\", \"2\", \"2\", \"1\", \"3\", \"2\", \"2\", \"2\", \"3\", \"2\", \"2\", \"1\", \"2\", \"2\", \"2\", \"2\", \"2\", \"2\", \"3\", \"2\", \"2\", \"2\", \"2\", \"1\", \"2\", \"1\", \"2\", \"2\", \"2\", \"2\", \"2\", \"2\", \"2\", \"2\", \"2\", \"2\", \"1\", \"2\", \"2\", \"2\", \"2\", \"2\", \"2\", \"2\", \"2\", \"2\", \"2\", \"2\", \"3\", \"1\", \"3\", \"3\", \"2\", \"2\", \"1\", \"2\", \"2\", \"2\", \"2\", \"1\", \"3\", \"2\", \"2\", \"2\", \"3\", \"2\", \"2\", \"2\", \"2\", \"2\", \"2\", \"2\", \"2\", \"2\", \"2\", \"2\", \"3\", \"1\", \"2\", \"1\", \"3\", \"2\", \"2\", \"2\", \"2\", \"2\", \"2\", \"2\", \"2\", \"2\", \"1\", \"3\", \"1\", \"2\", \"1\", \"2\", \"2\", \"2\", \"2\", \"2\", \"2\", \"2\", \"2\", \"2\", \"2\", \"2\", \"2\", \"2\", \"2\", \"2\", \"2\", \"2\", \"1\", \"2\", \"1\", \"2\", \"2\", \"1\", \"2\", \"2\", \"2\", \"2\", \"2\", \"3\", \"1\", \"2\", \"2\", \"2\", \"2\", \"1\", \"2\", \"1\", \"2\", \"2\", \"3\", \"3\", \"2\", \"2\", \"2\", \"2\", \"3\", \"2\", \"2\", \"2\", \"2\", \"2\", \"2\", \"1\", \"2\", \"2\", \"2\", \"2\", \"2\", \"2\", \"2\", \"2\", \"3\", \"2\", \"3\", \"2\", \"3\", \"1\", \"2\", \"2\", \"3\", \"3\", \"2\", \"1\", \"2\", \"2\", \"3\", \"2\", \"2\", \"2\", \"2\", \"2\", \"2\", \"2\", \"1\", \"2\", \"2\", \"2\", \"1\", \"2\", \"1\", \"3\", \"2\", \"2\", \"2\", \"2\", \"3\", \"2\", \"2\", \"2\", \"1\", \"2\", \"2\", \"2\", \"2\", \"2\", \"2\", \"1\", \"1\", \"3\", \"2\", \"1\", \"2\", \"2\", \"2\", \"3\", \"2\", \"2\", \"1\", \"2\", \"3\", \"2\", \"3\", \"2\", \"2\", \"2\", \"3\", \"3\", \"1\", \"2\", \"1\", \"1\", \"2\", \"2\", \"2\", \"2\", \"2\", \"2\", \"2\", \"2\", \"2\", \"2\", \"2\", \"1\", \"2\", \"3\", \"2\", \"2\", \"3\", \"2\", \"3\", \"2\", \"1\", \"2\", \"2\", \"2\", \"2\", \"1\", \"2\", \"2\", \"2\", \"2\", \"1\", \"2\", \"2\", \"2\", \"2\", \"2\", \"3\", \"1\", \"3\", \"2\", \"2\", \"2\", \"3\", \"2\", \"2\", \"2\", \"1\", \"2\", \"2\", \"3\", \"2\", \"2\", \"2\", \"2\", \"2\", \"1\", \"2\", \"2\", \"2\", \"2\", \"2\", \"2\", \"1\", \"2\", \"2\", \"2\", \"2\", \"2\", \"2\", \"2\", \"2\", \"2\", \"2\", \"2\", \"2\", \"2\", \"2\", \"2\", \"2\", \"3\", \"2\", \"1\", \"2\", \"3\", \"3\", \"2\", \"3\", \"3\", \"3\", \"2\", \"2\", \"2\", \"2\", \"2\", \"2\", \"2\", \"2\", \"2\", \"3\", \"3\", \"3\", \"2\", \"3\", \"2\", \"2\", \"2\", \"2\", \"2\", \"2\", \"2\", \"2\", \"2\", \"2\", \"2\", \"2\", \"2\", \"2\", \"2\", \"3\", \"2\", \"3\", \"3\", \"3\", \"3\", \"3\", \"3\", \"1\", \"3\", \"2\", \"2\", \"2\", \"3\", \"2\", \"2\", \"2\", \"2\", \"2\", \"2\", \"2\", \"2\", \"2\", \"1\", \"3\", \"2\", \"2\", \"2\", \"2\", \"3\", \"1\", \"1\", \"2\", \"2\", \"1\", \"2\", \"2\", \"2\", \"2\", \"2\", \"2\", \"2\", \"1\", \"1\", \"2\", \"2\", \"2\", \"2\", \"2\", \"2\", \"2\", \"2\", \"2\", \"1\", \"1\", \"2\", \"1\", \"2\", \"3\", \"2\", \"2\", \"2\", \"2\", \"1\", \"1\", \"2\", \"1\", \"2\", \"2\", \"3\", \"2\", \"2\", \"2\", \"2\", \"2\", \"2\", \"2\", \"2\", \"1\", \"2\", \"2\", \"2\", \"2\", \"2\", \"2\", \"2\", \"2\", \"2\", \"2\", \"2\", \"2\", \"3\", \"2\", \"2\", \"2\", \"2\", \"2\", \"1\", \"3\", \"3\", \"2\", \"2\", \"3\", \"2\", \"2\", \"3\", \"2\", \"3\", \"3\", \"3\", \"2\", \"2\", \"2\", \"2\", \"2\", \"2\", \"2\", \"3\", \"2\", \"2\", \"2\", \"2\", \"2\", \"2\", \"2\", \"2\", \"2\", \"2\", \"2\", \"2\", \"2\", \"2\", \"3\", \"3\", \"2\", \"2\", \"2\", \"1\", \"2\", \"2\", \"3\", \"3\", \"2\", \"1\", \"3\", \"1\", \"2\", \"2\", \"2\", \"2\", \"2\", \"2\", \"3\", \"2\", \"2\", \"1\", \"2\", \"2\", \"2\", \"2\", \"2\", \"1\", \"2\", \"1\", \"2\", \"2\", \"2\", \"2\", \"3\", \"3\", \"3\", \"2\", \"2\", \"2\", \"2\", \"2\", \"2\", \"2\", \"2\", \"2\", \"2\", \"2\", \"2\", \"2\", \"2\", \"2\", \"2\", \"2\", \"1\", \"2\", \"2\", \"2\", \"2\", \"2\", \"1\", \"1\", \"2\", \"2\", \"2\", \"2\", \"3\", \"2\", \"2\", \"3\", \"2\", \"1\", \"2\", \"1\", \"2\", \"1\", \"2\", \"3\", \"3\", \"1\", \"2\", \"2\", \"2\", \"2\", \"2\", \"1\", \"1\", \"2\", \"3\", \"1\", \"1\", \"2\", \"2\", \"2\", \"3\", \"1\", \"2\", \"2\", \"2\", \"2\", \"2\", \"2\", \"1\", \"1\", \"2\", \"2\", \"2\", \"2\", \"2\", \"2\", \"2\", \"2\", \"3\", \"2\", \"2\", \"2\", \"2\", \"2\", \"2\", \"2\", \"2\", \"2\", \"3\", \"1\", \"2\", \"2\", \"2\", \"2\", \"2\", \"3\", \"2\", \"1\", \"2\", \"2\", \"2\", \"2\", \"1\", \"2\", \"2\", \"2\", \"2\", \"2\", \"2\", \"2\", \"2\", \"1\", \"3\", \"2\", \"2\", \"2\", \"1\", \"2\", \"2\", \"1\", \"1\", \"2\", \"2\", \"2\", \"2\", \"2\", \"2\", \"2\", \"2\", \"2\", \"2\", \"2\", \"2\", \"2\", \"2\", \"2\", \"2\", \"1\", \"1\", \"2\", \"3\", \"3\", \"3\", \"2\", \"3\", \"2\", \"2\", \"2\", \"2\", \"2\", \"2\", \"2\", \"1\", \"2\", \"2\", \"2\", \"2\", \"2\", \"1\", \"3\", \"2\", \"2\", \"1\", \"2\", \"2\", \"3\", \"2\", \"2\", \"2\", \"2\", \"2\", \"2\", \"2\", \"2\", \"2\", \"2\", \"2\", \"2\", \"2\", \"2\", \"2\", \"2\", \"2\", \"3\", \"2\", \"3\", \"3\", \"2\", \"2\", \"2\", \"2\", \"1\", \"2\", \"2\", \"2\", \"2\", \"1\", \"2\", \"2\", \"2\", \"2\", \"2\", \"2\", \"2\", \"2\", \"2\", \"2\", \"2\", \"2\", \"2\", \"2\", \"2\", \"1\", \"2\", \"2\", \"1\", \"2\", \"2\", \"2\", \"2\", \"2\", \"2\", \"2\", \"2\", \"2\", \"3\", \"3\", \"3\", \"3\", \"3\", \"3\", \"3\", \"3\", \"3\", \"1\", \"1\", \"3\", \"2\", \"2\", \"2\", \"3\", \"2\", \"2\", \"3\", \"2\", \"1\", \"2\", \"2\", \"3\", \"2\", \"3\", \"3\", \"3\", \"2\", \"2\", \"2\", \"2\", \"2\", \"2\", \"2\", \"2\", \"2\", \"2\", \"2\", \"2\", \"2\", \"2\", \"1\", \"1\", \"2\", \"2\", \"2\", \"3\", \"2\", \"3\", \"1\", \"2\", \"3\", \"3\", \"1\", \"1\", \"3\", \"2\", \"2\", \"1\", \"1\", \"2\", \"2\", \"1\", \"2\", \"2\", \"1\", \"2\", \"1\", \"1\", \"2\", \"2\", \"2\", \"3\", \"1\", \"2\", \"2\", \"2\", \"2\", \"2\", \"2\", \"2\", \"2\", \"3\", \"3\", \"2\", \"1\", \"2\", \"2\", \"3\", \"3\", \"3\", \"3\", \"2\", \"2\", \"2\", \"2\", \"2\", \"2\", \"2\", \"2\", \"2\", \"3\", \"2\", \"2\", \"2\", \"2\", \"2\", \"2\", \"1\", \"2\", \"2\", \"2\", \"2\", \"2\", \"2\", \"2\", \"1\", \"2\", \"2\", \"2\", \"2\", \"2\", \"2\", \"2\", \"1\", \"2\", \"1\", \"1\", \"1\", \"1\", \"1\", \"2\", \"2\", \"2\", \"2\", \"2\", \"2\", \"2\", \"2\", \"2\", \"2\", \"2\", \"1\", \"1\", \"1\", \"1\", \"2\", \"2\", \"2\", \"2\", \"2\", \"2\", \"2\", \"1\", \"2\", \"2\", \"2\", \"2\", \"2\", \"2\", \"2\", \"1\", \"2\", \"1\", \"1\", \"2\", \"2\", \"2\", \"2\", \"3\", \"2\", \"2\", \"2\", \"1\", \"2\", \"2\", \"2\", \"2\", \"2\", \"2\", \"2\", \"2\", \"2\", \"2\", \"2\", \"1\", \"3\", \"1\", \"3\", \"1\", \"3\", \"2\", \"1\", \"2\", \"2\", \"2\", \"2\", \"2\", \"2\", \"2\", \"2\", \"2\", \"2\", \"2\", \"2\", \"3\", \"2\", \"3\", \"2\", \"2\", \"2\", \"2\", \"2\", \"2\", \"2\", \"2\", \"2\", \"1\", \"2\", \"2\", \"2\", \"2\", \"2\", \"2\", \"3\", \"2\", \"2\", \"2\", \"2\", \"2\", \"1\", \"2\", \"2\", \"2\", \"2\", \"2\", \"2\", \"3\", \"3\", \"2\", \"2\", \"3\", \"2\", \"2\", \"2\", \"2\", \"2\", \"2\", \"2\", \"2\", \"2\", \"2\", \"2\", \"2\", \"2\", \"2\", \"2\", \"2\", \"2\", \"2\", \"2\", \"2\", \"2\", \"1\", \"3\", \"2\", \"3\", \"2\", \"2\", \"2\", \"3\", \"2\", \"2\", \"2\", \"2\", \"2\", \"3\", \"3\", \"3\", \"3\", \"3\", \"3\", \"3\", \"2\", \"3\", \"2\", \"2\", \"2\", \"2\", \"2\", \"2\", \"2\", \"2\", \"2\", \"2\", \"3\", \"2\", \"2\", \"2\", \"2\", \"2\", \"2\", \"2\", \"2\", \"2\", \"2\", \"2\", \"2\", \"1\", \"2\", \"3\", \"2\", \"2\", \"2\", \"2\", \"1\", \"2\", \"2\", \"2\", \"2\", \"3\", \"3\", \"2\", \"3\", \"2\", \"2\", \"2\", \"2\", \"2\", \"3\", \"3\", \"2\", \"2\", \"2\", \"2\", \"2\", \"2\", \"1\", \"2\", \"2\", \"1\", \"2\", \"2\", \"2\", \"2\", \"2\", \"3\", \"3\", \"1\", \"3\", \"2\", \"2\", \"2\", \"1\", \"2\", \"2\", \"2\", \"2\", \"2\", \"2\", \"3\", \"2\", \"2\", \"2\", \"2\", \"2\", \"2\", \"2\", \"2\", \"2\", \"2\", \"2\", \"2\", \"2\", \"2\", \"2\", \"2\", \"2\", \"2\", \"2\", \"2\", \"2\", \"1\", \"2\", \"2\", \"3\", \"3\", \"2\", \"2\", \"2\", \"2\", \"2\", \"2\", \"2\", \"2\", \"2\", \"2\", \"2\", \"2\", \"2\", \"2\", \"2\", \"2\", \"2\", \"1\", \"1\", \"1\", \"2\", \"2\", \"2\", \"2\", \"2\", \"2\", \"2\", \"2\", \"2\", \"2\", \"2\", \"2\", \"2\", \"3\", \"2\", \"2\", \"3\", \"2\", \"2\", \"2\", \"1\", \"2\", \"2\", \"2\", \"2\", \"2\", \"2\", \"2\", \"2\", \"2\", \"2\", \"1\", \"2\", \"3\", \"1\", \"1\", \"2\", \"2\", \"2\", \"2\", \"2\", \"2\", \"2\", \"2\", \"2\", \"3\", \"2\", \"2\", \"2\", \"2\", \"2\", \"2\", \"2\", \"2\", \"2\", \"2\", \"2\", \"3\", \"3\", \"2\", \"2\", \"2\", \"2\", \"2\", \"2\", \"2\", \"2\", \"2\", \"2\", \"2\", \"2\", \"2\", \"2\", \"2\", \"2\", \"2\", \"2\", \"2\", \"2\", \"2\", \"2\", \"2\", \"2\", \"1\", \"2\", \"2\", \"2\", \"2\", \"2\", \"2\", \"2\", \"1\", \"1\", \"2\", \"2\", \"2\", \"2\", \"2\", \"2\", \"2\", \"2\", \"2\", \"2\", \"2\", \"2\", \"1\", \"3\", \"2\", \"2\", \"2\", \"2\", \"2\", \"2\", \"2\", \"2\", \"2\", \"2\", \"2\", \"2\", \"2\", \"2\", \"3\", \"3\", \"3\", \"3\", \"3\", \"2\", \"2\", \"2\", \"2\", \"2\", \"2\", \"2\", \"3\", \"2\", \"2\", \"2\", \"2\", \"3\", \"2\", \"3\", \"2\", \"3\", \"3\", \"2\", \"3\", \"3\", \"3\", \"3\", \"2\", \"2\", \"2\", \"2\", \"2\", \"2\", \"2\", \"2\", \"2\", \"2\", \"2\", \"2\", \"2\", \"2\", \"2\", \"2\", \"2\", \"2\", \"2\", \"2\", \"2\", \"2\", \"2\", \"2\", \"2\", \"2\", \"2\", \"2\", \"2\", \"2\", \"2\", \"2\", \"2\", \"2\", \"2\", \"2\", \"2\", \"2\", \"1\", \"1\", \"2\", \"2\", \"2\", \"2\", \"2\", \"2\", \"2\", \"2\", \"2\", \"2\", \"2\", \"2\", \"3\", \"3\", \"3\", \"2\", \"2\", \"2\", \"3\", \"3\", \"2\", \"2\", \"2\", \"2\", \"3\", \"2\", \"2\", \"2\", \"2\", \"2\", \"2\", \"2\", \"2\", \"2\", \"2\", \"2\", \"2\", \"2\", \"2\", \"2\", \"2\", \"2\", \"2\", \"2\", \"2\", \"2\", \"2\", \"2\", \"2\", \"2\", \"2\", \"2\", \"1\", \"2\", \"2\", \"2\", \"2\", \"1\", \"2\", \"2\", \"2\", \"2\", \"2\", \"1\", \"2\", \"2\", \"2\", \"2\", \"2\", \"2\", \"2\", \"2\", \"2\", \"2\", \"2\", \"2\", \"2\", \"2\", \"2\", \"2\", \"3\", \"2\", \"2\", \"2\", \"2\", \"2\", \"2\", \"2\", \"2\", \"2\", \"2\", \"2\", \"2\", \"2\", \"2\", \"2\", \"2\", \"2\", \"2\", \"2\", \"2\", \"2\", \"2\", \"1\", \"3\", \"2\", \"2\", \"2\", \"2\", \"2\", \"2\", \"2\", \"3\", \"3\", \"3\", \"3\", \"3\", \"2\", \"3\", \"2\", \"3\", \"2\", \"2\", \"3\", \"3\", \"3\", \"3\", \"3\", \"3\", \"3\", \"3\", \"3\", \"2\", \"1\", \"2\", \"2\", \"2\", \"2\", \"2\", \"2\", \"1\", \"2\", \"2\", \"2\", \"2\", \"3\", \"2\", \"1\", \"1\", \"3\", \"2\", \"2\", \"2\", \"2\", \"2\", \"1\", \"2\", \"2\", \"2\", \"2\", \"2\", \"1\", \"2\", \"2\", \"2\", \"2\", \"2\", \"2\", \"2\", \"2\", \"2\", \"2\", \"2\", \"1\", \"1\", \"2\", \"2\", \"2\", \"2\", \"2\", \"2\", \"2\", \"2\", \"2\", \"3\", \"2\", \"1\", \"2\", \"2\", \"2\", \"1\", \"2\", \"2\", \"2\", \"2\", \"2\", \"3\", \"3\", \"2\", \"2\", \"2\", \"2\", \"2\", \"2\", \"1\", \"1\", \"1\", \"1\", \"2\", \"2\", \"2\", \"2\", \"2\", \"2\", \"2\", \"2\", \"3\", \"2\", \"2\", \"2\", \"2\", \"2\", \"3\", \"3\", \"3\", \"3\", \"3\", \"3\", \"2\", \"2\", \"2\", \"3\", \"2\", \"1\", \"2\", \"1\", \"1\", \"2\", \"2\", \"2\", \"2\", \"2\", \"2\", \"2\", \"3\", \"1\", \"2\", \"1\", \"2\", \"2\", \"2\", \"3\", \"1\", \"2\", \"2\", \"2\", \"2\", \"2\", \"2\", \"2\", \"2\", \"2\", \"2\", \"2\", \"2\", \"3\", \"2\", \"2\", \"2\", \"2\", \"2\", \"2\", \"2\", \"2\", \"2\", \"2\", \"2\", \"3\", \"2\", \"1\", \"2\", \"2\", \"2\", \"2\", \"3\", \"2\", \"2\", \"2\", \"2\", \"2\", \"2\", \"2\", \"2\", \"2\", \"2\", \"2\", \"2\", \"2\", \"2\", \"2\", \"2\", \"2\", \"2\", \"2\", \"2\", \"1\", \"2\", \"2\", \"2\", \"2\", \"2\", \"2\", \"2\", \"2\", \"2\", \"2\", \"2\", \"2\", \"2\", \"2\", \"1\", \"2\", \"2\", \"2\", \"2\", \"1\", \"2\", \"2\", \"2\", \"2\", \"2\", \"2\", \"2\", \"2\", \"1\", \"2\", \"2\", \"2\", \"2\", \"2\", \"2\", \"2\", \"2\", \"2\", \"3\", \"2\", \"2\", \"2\", \"2\", \"2\", \"2\", \"3\", \"2\", \"3\", \"2\", \"3\", \"2\", \"2\", \"2\", \"2\", \"2\", \"2\", \"2\", \"2\", \"2\", \"1\", \"1\", \"2\", \"2\", \"2\", \"2\", \"2\", \"2\", \"2\", \"2\", \"2\", \"2\", \"2\", \"2\", \"2\", \"2\", \"2\", \"1\", \"2\", \"2\", \"2\", \"2\", \"2\", \"2\", \"2\", \"2\", \"2\", \"2\", \"1\", \"2\", \"2\", \"1\", \"2\", \"2\", \"2\", \"2\", \"2\", \"2\", \"2\", \"2\", \"2\", \"2\", \"2\", \"2\", \"2\", \"2\", \"2\", \"2\", \"2\", \"2\", \"2\", \"2\", \"2\", \"2\", \"2\", \"2\", \"2\", \"2\", \"2\", \"2\", \"2\", \"2\", \"2\", \"2\", \"2\", \"2\", \"2\", \"2\", \"2\", \"2\", \"2\", \"2\", \"2\", \"2\", \"2\", \"2\", \"2\", \"3\", \"2\", \"2\", \"2\", \"1\", \"2\", \"2\", \"2\", \"2\", \"2\", \"2\", \"2\", \"2\", \"2\", \"2\", \"3\", \"2\", \"2\", \"2\", \"2\", \"2\", \"2\", \"2\", \"1\", \"2\", \"2\", \"3\", \"2\", \"2\", \"2\", \"2\", \"2\", \"2\", \"2\", \"2\", \"1\", \"2\", \"2\", \"2\", \"2\", \"2\", \"2\", \"2\", \"2\", \"2\", \"2\", \"2\", \"2\", \"2\", \"2\", \"2\", \"2\", \"2\", \"2\", \"2\", \"2\", \"2\", \"3\", \"2\", \"2\", \"2\", \"2\", \"3\", \"2\", \"2\", \"2\", \"2\", \"1\", \"1\", \"1\", \"2\", \"1\", \"2\", \"3\", \"2\", \"1\", \"1\", \"2\", \"2\", \"2\", \"3\", \"2\", \"2\", \"2\", \"2\", \"2\", \"2\", \"2\", \"1\", \"2\", \"2\", \"2\", \"2\", \"2\", \"2\", \"2\", \"1\", \"2\", \"3\", \"2\", \"1\", \"2\", \"2\", \"2\", \"2\", \"2\", \"2\", \"2\", \"2\", \"2\", \"2\", \"1\", \"2\", \"2\", \"2\", \"3\", \"2\", \"2\", \"3\", \"1\", \"1\", \"3\", \"3\", \"3\", \"2\", \"2\", \"3\", \"3\", \"3\", \"3\", \"3\", \"3\", \"3\", \"3\", \"3\", \"3\", \"3\", \"3\", \"3\", \"3\", \"3\", \"3\", \"3\", \"3\", \"3\", \"3\", \"3\", \"3\", \"3\", \"3\", \"3\", \"3\", \"2\", \"2\", \"2\", \"2\", \"2\", \"2\", \"2\", \"2\", \"2\", \"2\", \"2\", \"2\", \"2\", \"2\", \"3\", \"3\", \"3\", \"3\", \"2\", \"2\", \"2\", \"2\", \"2\", \"3\", \"3\", \"3\", \"3\", \"2\", \"1\", \"2\", \"3\", \"3\", \"2\", \"2\", \"1\", \"3\", \"3\", \"3\", \"3\", \"3\", \"3\", \"2\", \"2\", \"3\", \"2\", \"2\", \"3\", \"2\", \"2\", \"2\", \"1\", \"1\", \"2\", \"1\", \"1\", \"1\", \"1\", \"2\", \"1\", \"2\", \"3\", \"3\", \"3\", \"3\", \"3\", \"3\", \"3\", \"3\", \"3\", \"3\", \"3\", \"3\", \"3\", \"3\", \"3\", \"3\", \"3\", \"2\", \"3\", \"3\", \"3\", \"3\", \"3\", \"3\", \"3\", \"3\", \"3\", \"3\", \"3\", \"3\", \"3\", \"3\", \"3\", \"3\", \"3\", \"3\", \"3\", \"3\", \"3\", \"3\", \"3\", \"3\", \"3\", \"3\", \"1\", \"1\", \"2\", \"2\", \"2\", \"2\", \"2\", \"2\", \"2\", \"2\", \"2\", \"2\", \"2\", \"3\", \"2\", \"2\", \"1\", \"2\", \"2\", \"2\", \"2\", \"2\", \"2\", \"2\", \"2\", \"2\", \"2\", \"2\", \"2\", \"2\", \"2\", \"2\", \"2\", \"2\", \"2\", \"2\", \"2\", \"2\", \"3\", \"3\", \"3\", \"3\", \"3\", \"2\", \"2\", \"1\", \"2\", \"2\", \"2\", \"2\", \"1\", \"1\", \"1\", \"1\", \"1\", \"1\", \"1\", \"2\", \"2\", \"2\", \"2\", \"2\", \"2\", \"2\", \"1\", \"2\", \"2\", \"2\", \"2\", \"1\", \"2\", \"3\", \"2\", \"2\", \"2\", \"2\", \"2\", \"3\", \"2\", \"2\", \"2\", \"2\", \"3\", \"2\", \"2\", \"1\", \"2\", \"2\", \"2\", \"2\", \"2\", \"2\", \"2\", \"2\", \"2\", \"2\", \"2\", \"2\", \"2\", \"1\", \"3\", \"3\", \"3\", \"3\", \"3\", \"2\", \"2\", \"2\", \"2\", \"2\", \"2\", \"3\", \"2\", \"2\", \"2\", \"2\", \"2\", \"2\", \"2\", \"2\", \"2\", \"2\", \"3\", \"2\", \"2\", \"2\", \"2\", \"2\", \"2\", \"2\", \"2\", \"2\", \"1\", \"3\", \"3\", \"2\", \"2\", \"2\", \"2\", \"2\", \"2\", \"1\", \"2\", \"2\", \"2\", \"2\", \"1\", \"2\", \"2\", \"2\", \"2\", \"3\", \"2\", \"2\", \"2\", \"2\", \"2\", \"2\", \"2\", \"2\", \"1\", \"2\", \"2\", \"2\", \"2\", \"2\", \"2\", \"2\", \"2\", \"2\", \"2\", \"2\", \"3\", \"3\", \"3\", \"3\", \"2\", \"2\", \"2\", \"2\", \"2\", \"2\", \"2\", \"2\", \"2\", \"3\", \"2\", \"3\", \"1\", \"2\", \"2\", \"2\", \"2\", \"2\", \"2\", \"2\", \"2\", \"2\", \"2\", \"3\", \"2\", \"2\", \"2\", \"2\", \"2\", \"2\", \"2\", \"1\", \"2\", \"2\", \"2\", \"2\", \"2\", \"3\", \"3\", \"2\", \"3\", \"2\", \"2\", \"2\", \"2\", \"2\", \"2\", \"1\", \"2\", \"1\", \"2\", \"2\", \"2\", \"2\", \"2\", \"3\", \"3\", \"2\", \"1\", \"3\", \"3\", \"2\", \"2\", \"2\", \"2\", \"2\", \"2\", \"2\", \"2\", \"2\", \"2\", \"2\", \"2\", \"2\", \"2\", \"2\", \"2\", \"2\", \"3\", \"3\", \"2\", \"2\", \"3\", \"2\", \"2\", \"2\", \"2\", \"2\", \"2\", \"2\", \"2\", \"2\", \"2\", \"2\", \"2\", \"2\", \"2\", \"3\", \"2\", \"2\", \"2\", \"2\", \"2\", \"2\", \"2\", \"3\", \"2\", \"2\", \"2\", \"2\", \"2\", \"2\", \"2\", \"2\", \"2\", \"2\", \"2\", \"2\", \"2\", \"2\", \"2\", \"2\", \"2\", \"2\", \"1\", \"2\", \"1\", \"2\", \"2\", \"3\", \"2\", \"2\", \"2\", \"2\", \"1\", \"2\", \"2\", \"2\", \"2\", \"3\", \"3\", \"2\", \"3\", \"3\", \"3\", \"3\", \"3\", \"3\", \"3\", \"1\", \"2\", \"3\", \"3\", \"3\", \"3\", \"3\", \"3\", \"3\", \"2\", \"2\", \"2\", \"3\", \"1\", \"2\", \"2\", \"2\", \"3\", \"2\", \"1\", \"2\", \"2\", \"2\", \"1\", \"1\", \"1\", \"1\", \"1\", \"2\", \"2\", \"2\", \"2\", \"2\", \"2\", \"2\", \"2\", \"3\", \"2\", \"2\", \"2\", \"2\", \"2\", \"2\", \"2\", \"2\", \"2\", \"2\", \"2\", \"2\", \"2\", \"2\", \"3\", \"1\", \"3\", \"2\", \"2\", \"1\", \"2\", \"2\", \"2\", \"2\", \"2\", \"2\", \"3\", \"2\", \"2\", \"2\", \"2\", \"2\", \"2\", \"3\", \"3\", \"3\", \"2\", \"2\", \"2\", \"2\", \"2\", \"2\", \"2\", \"1\", \"2\", \"1\", \"1\", \"1\", \"1\", \"1\", \"2\", \"1\", \"2\", \"2\", \"2\", \"1\", \"1\", \"1\", \"1\", \"2\", \"2\", \"2\", \"2\", \"2\", \"3\", \"1\", \"1\", \"2\", \"1\", \"1\", \"2\", \"2\", \"2\", \"2\", \"2\", \"2\", \"2\", \"2\", \"2\", \"2\", \"2\", \"2\", \"2\", \"2\", \"2\", \"2\", \"2\", \"2\", \"2\", \"2\", \"3\", \"3\", \"3\", \"3\", \"2\", \"3\", \"2\", \"2\", \"2\", \"2\", \"2\", \"2\", \"2\", \"2\", \"2\", \"2\", \"2\", \"2\", \"2\", \"3\", \"2\", \"3\", \"2\", \"2\", \"2\", \"2\", \"2\", \"1\", \"1\", \"3\", \"1\", \"1\", \"1\", \"1\", \"2\", \"2\", \"2\", \"2\", \"2\", \"2\", \"2\", \"2\", \"2\", \"2\", \"2\", \"2\", \"2\", \"2\", \"2\", \"1\", \"2\", \"1\", \"2\", \"1\", \"2\", \"1\", \"1\", \"1\", \"2\", \"1\", \"1\", \"1\", \"1\", \"2\", \"1\", \"1\", \"2\", \"1\", \"1\", \"2\", \"1\", \"1\", \"1\", \"1\", \"1\", \"1\", \"1\", \"1\", \"1\", \"1\", \"1\", \"1\", \"2\", \"3\", \"3\", \"3\", \"2\", \"1\", \"3\", \"3\", \"2\", \"3\", \"3\", \"3\", \"3\", \"3\", \"3\", \"1\", \"3\", \"3\", \"3\", \"3\", \"2\", \"3\", \"3\", \"3\", \"3\", \"3\", \"3\", \"3\", \"3\", \"3\", \"3\", \"3\", \"3\", \"2\", \"1\", \"2\", \"3\", \"3\", \"3\", \"2\", \"3\", \"3\", \"3\", \"3\", \"2\", \"3\", \"3\", \"2\", \"3\", \"2\", \"1\", \"2\", \"2\", \"2\", \"2\", \"2\", \"2\", \"2\", \"2\", \"2\", \"2\", \"2\", \"2\", \"2\", \"3\", \"2\", \"1\", \"2\", \"1\", \"1\", \"1\", \"1\", \"2\", \"1\", \"1\", \"2\", \"2\", \"2\", \"2\", \"2\", \"2\", \"1\", \"2\", \"2\", \"2\", \"2\", \"2\", \"2\", \"2\", \"2\", \"1\", \"1\", \"1\", \"1\", \"1\", \"1\", \"2\", \"1\", \"1\", \"2\", \"2\", \"2\", \"3\", \"2\", \"2\", \"1\", \"3\", \"2\", \"1\", \"1\", \"1\", \"1\", \"1\", \"1\", \"1\", \"1\", \"2\", \"2\", \"1\", \"2\", \"2\", \"2\", \"2\", \"2\", \"2\", \"2\", \"2\", \"2\", \"2\", \"1\", \"2\", \"2\", \"3\", \"2\", \"2\", \"2\", \"2\", \"2\", \"2\", \"2\", \"2\", \"2\", \"2\", \"3\", \"1\", \"1\", \"2\", \"2\", \"2\", \"2\", \"2\", \"2\", \"2\", \"2\", \"2\", \"2\", \"2\", \"2\", \"2\", \"2\", \"2\", \"2\", \"2\", \"2\", \"2\", \"2\", \"2\", \"2\", \"2\", \"2\", \"2\", \"2\", \"2\", \"2\", \"2\", \"2\", \"2\", \"2\", \"2\", \"2\", \"2\", \"2\", \"2\", \"1\", \"2\", \"3\", \"3\", \"2\", \"3\", \"2\", \"2\", \"2\", \"2\", \"2\", \"3\", \"2\", \"2\", \"2\", \"2\", \"2\", \"2\", \"2\", \"2\", \"2\", \"3\", \"2\", \"2\", \"3\", \"2\", \"2\", \"2\", \"2\", \"2\", \"2\", \"1\", \"2\", \"2\", \"1\", \"2\", \"2\", \"2\", \"2\", \"2\", \"2\", \"3\", \"3\", \"3\", \"3\", \"2\", \"2\", \"2\", \"2\", \"2\", \"2\", \"2\", \"2\", \"2\", \"2\", \"2\", \"2\", \"2\", \"2\", \"2\", \"2\", \"2\", \"2\", \"2\", \"2\", \"2\", \"2\", \"2\", \"2\", \"2\", \"2\", \"2\", \"1\", \"1\", \"2\", \"1\", \"1\", \"2\", \"2\", \"2\", \"2\", \"2\", \"2\", \"3\", \"2\", \"3\", \"2\", \"3\", \"3\", \"1\", \"2\", \"2\", \"2\", \"2\", \"3\", \"2\", \"2\", \"2\", \"2\", \"2\", \"2\", \"1\", \"2\", \"3\", \"2\", \"2\", \"2\", \"2\", \"2\", \"2\", \"2\", \"2\", \"2\", \"1\", \"2\", \"2\", \"2\", \"2\", \"2\", \"2\", \"2\", \"2\", \"2\", \"3\", \"2\", \"2\", \"2\", \"2\", \"2\", \"2\", \"3\", \"2\", \"2\", \"2\", \"2\", \"2\", \"3\", \"2\", \"2\", \"3\", \"2\", \"2\", \"2\", \"2\", \"2\", \"1\", \"2\", \"2\", \"2\", \"3\", \"1\", \"2\", \"3\", \"1\", \"3\", \"2\", \"2\", \"2\", \"2\", \"2\", \"2\", \"2\", \"2\", \"3\", \"2\", \"2\", \"2\", \"2\", \"2\", \"2\", \"2\", \"2\", \"3\", \"3\", \"2\", \"2\", \"3\", \"2\", \"2\", \"2\", \"2\", \"2\", \"2\", \"2\", \"2\", \"2\", \"2\", \"3\", \"2\", \"2\", \"2\", \"2\", \"2\", \"2\", \"3\", \"2\", \"2\", \"2\", \"2\", \"2\", \"3\", \"2\", \"2\", \"2\", \"2\", \"2\", \"3\", \"3\", \"2\", \"2\", \"2\", \"2\", \"2\", \"1\", \"1\", \"3\", \"2\", \"2\", \"3\", \"3\", \"3\", \"2\", \"3\", \"2\", \"1\", \"1\", \"2\", \"2\", \"3\", \"3\", \"3\", \"2\", \"2\", \"2\", \"2\", \"2\", \"2\", \"3\", \"2\", \"3\", \"2\", \"2\", \"2\", \"2\", \"2\", \"2\", \"2\", \"2\", \"2\", \"2\", \"2\", \"2\", \"2\", \"2\", \"2\", \"2\", \"3\", \"2\", \"2\", \"2\", \"3\", \"2\", \"2\", \"2\", \"2\", \"3\", \"2\", \"3\", \"2\", \"2\", \"1\", \"3\", \"2\", \"2\", \"2\", \"1\", \"2\", \"3\", \"2\", \"2\", \"2\", \"2\", \"2\", \"2\", \"2\", \"2\", \"1\", \"1\", \"2\", \"2\", \"3\", \"2\", \"2\", \"2\", \"2\", \"2\", \"2\", \"2\", \"2\", \"1\", \"2\", \"2\", \"2\", \"2\", \"2\", \"2\", \"2\", \"2\", \"2\", \"2\", \"3\", \"2\", \"3\", \"3\", \"3\", \"2\", \"3\", \"2\", \"2\", \"2\", \"2\", \"2\", \"2\", \"2\", \"2\", \"2\", \"2\", \"2\", \"2\", \"2\", \"2\", \"2\", \"1\", \"1\", \"2\", \"1\", \"2\", \"2\", \"2\", \"2\", \"2\", \"2\", \"2\", \"2\", \"2\", \"2\", \"2\", \"2\", \"2\", \"2\", \"2\", \"2\", \"2\", \"1\", \"2\", \"2\", \"3\", \"2\", \"2\", \"2\", \"2\", \"1\", \"1\", \"1\", \"1\", \"2\", \"2\", \"2\", \"2\", \"2\", \"2\", \"2\", \"2\", \"2\", \"2\", \"2\", \"2\", \"2\", \"1\", \"3\", \"3\", \"3\", \"3\", \"3\", \"3\", \"2\", \"2\", \"2\", \"2\", \"1\", \"2\", \"2\", \"2\", \"2\", \"2\", \"2\", \"2\", \"3\", \"3\", \"3\", \"2\", \"1\", \"2\", \"2\", \"1\", \"1\", \"1\", \"2\", \"2\", \"1\", \"1\", \"1\", \"1\", \"2\", \"2\", \"1\", \"2\", \"2\", \"2\", \"2\", \"2\", \"2\", \"2\", \"2\", \"1\", \"2\", \"2\", \"2\", \"3\", \"2\", \"2\", \"2\", \"2\", \"2\", \"2\", \"2\", \"2\", \"2\", \"2\", \"2\", \"3\", \"2\", \"3\", \"3\", \"2\", \"2\", \"2\", \"2\", \"2\", \"2\", \"1\", \"3\", \"1\", \"1\", \"2\", \"1\", \"2\", \"2\", \"2\", \"2\", \"2\", \"2\", \"3\", \"2\", \"2\", \"3\", \"1\", \"2\", \"2\", \"2\", \"2\", \"2\", \"2\", \"2\", \"2\", \"2\", \"2\", \"2\", \"2\", \"2\", \"2\", \"2\", \"3\", \"2\", \"2\", \"1\", \"2\", \"1\", \"1\", \"2\", \"2\", \"2\", \"2\", \"2\", \"2\", \"2\", \"3\", \"3\", \"3\", \"3\", \"3\", \"2\", \"1\", \"2\", \"1\", \"1\", \"2\", \"2\", \"2\", \"2\", \"2\", \"2\", \"2\", \"2\", \"2\", \"2\", \"2\", \"2\", \"2\", \"2\", \"2\", \"3\", \"2\", \"2\", \"2\", \"3\", \"2\", \"2\", \"2\", \"2\", \"2\", \"2\", \"2\", \"2\", \"1\", \"2\", \"2\", \"2\", \"2\", \"2\", \"2\", \"2\", \"2\", \"2\", \"2\", \"2\", \"2\", \"2\", \"2\", \"2\", \"2\", \"2\", \"2\", \"2\", \"2\", \"2\", \"2\", \"2\", \"2\", \"2\", \"2\", \"2\", \"2\", \"2\", \"2\", \"2\", \"2\", \"2\", \"2\", \"2\", \"2\", \"3\", \"2\", \"1\", \"1\", \"2\", \"3\", \"3\", \"2\", \"2\", \"2\", \"2\", \"2\", \"2\", \"3\", \"2\", \"3\", \"2\", \"3\", \"3\", \"2\", \"3\", \"3\", \"3\", \"2\", \"2\", \"3\", \"3\", \"3\", \"3\", \"3\", \"3\", \"3\", \"3\", \"3\", \"3\", \"2\", \"3\", \"2\", \"2\", \"2\", \"2\", \"3\", \"3\", \"2\", \"2\", \"2\", \"2\", \"2\", \"2\", \"2\", \"2\", \"2\", \"2\", \"2\", \"2\", \"2\", \"2\", \"2\", \"2\", \"2\", \"2\", \"1\", \"3\", \"2\", \"2\", \"2\", \"3\", \"2\", \"2\", \"3\", \"2\", \"2\", \"2\", \"3\", \"2\", \"2\", \"2\", \"2\", \"2\", \"2\", \"2\", \"2\"]}],\n",
              "                        {\"legend\": {\"tracegroupgap\": 0}, \"margin\": {\"t\": 60}, \"piecolorway\": [\"rgb(103,0,31)\", \"rgb(178,24,43)\", \"rgb(214,96,77)\", \"rgb(244,165,130)\", \"rgb(253,219,199)\", \"rgb(247,247,247)\", \"rgb(209,229,240)\", \"rgb(146,197,222)\", \"rgb(67,147,195)\", \"rgb(33,102,172)\", \"rgb(5,48,97)\"], \"template\": {\"data\": {\"bar\": [{\"error_x\": {\"color\": \"#2a3f5f\"}, \"error_y\": {\"color\": \"#2a3f5f\"}, \"marker\": {\"line\": {\"color\": \"#E5ECF6\", \"width\": 0.5}}, \"type\": \"bar\"}], \"barpolar\": [{\"marker\": {\"line\": {\"color\": \"#E5ECF6\", \"width\": 0.5}}, \"type\": \"barpolar\"}], \"carpet\": [{\"aaxis\": {\"endlinecolor\": \"#2a3f5f\", \"gridcolor\": \"white\", \"linecolor\": \"white\", \"minorgridcolor\": \"white\", \"startlinecolor\": \"#2a3f5f\"}, \"baxis\": {\"endlinecolor\": \"#2a3f5f\", \"gridcolor\": \"white\", \"linecolor\": \"white\", \"minorgridcolor\": \"white\", \"startlinecolor\": \"#2a3f5f\"}, \"type\": \"carpet\"}], \"choropleth\": [{\"colorbar\": {\"outlinewidth\": 0, \"ticks\": \"\"}, \"type\": \"choropleth\"}], \"contour\": [{\"colorbar\": {\"outlinewidth\": 0, \"ticks\": \"\"}, \"colorscale\": [[0.0, \"#0d0887\"], [0.1111111111111111, \"#46039f\"], [0.2222222222222222, \"#7201a8\"], [0.3333333333333333, \"#9c179e\"], [0.4444444444444444, \"#bd3786\"], [0.5555555555555556, \"#d8576b\"], [0.6666666666666666, \"#ed7953\"], [0.7777777777777778, \"#fb9f3a\"], [0.8888888888888888, \"#fdca26\"], [1.0, \"#f0f921\"]], \"type\": \"contour\"}], \"contourcarpet\": [{\"colorbar\": {\"outlinewidth\": 0, \"ticks\": \"\"}, \"type\": \"contourcarpet\"}], \"heatmap\": [{\"colorbar\": {\"outlinewidth\": 0, \"ticks\": \"\"}, \"colorscale\": [[0.0, \"#0d0887\"], [0.1111111111111111, \"#46039f\"], [0.2222222222222222, \"#7201a8\"], [0.3333333333333333, \"#9c179e\"], [0.4444444444444444, \"#bd3786\"], [0.5555555555555556, \"#d8576b\"], [0.6666666666666666, \"#ed7953\"], [0.7777777777777778, \"#fb9f3a\"], [0.8888888888888888, \"#fdca26\"], [1.0, \"#f0f921\"]], \"type\": \"heatmap\"}], \"heatmapgl\": [{\"colorbar\": {\"outlinewidth\": 0, \"ticks\": \"\"}, \"colorscale\": [[0.0, \"#0d0887\"], [0.1111111111111111, \"#46039f\"], [0.2222222222222222, \"#7201a8\"], [0.3333333333333333, \"#9c179e\"], [0.4444444444444444, \"#bd3786\"], [0.5555555555555556, \"#d8576b\"], [0.6666666666666666, \"#ed7953\"], [0.7777777777777778, \"#fb9f3a\"], [0.8888888888888888, \"#fdca26\"], [1.0, \"#f0f921\"]], \"type\": \"heatmapgl\"}], \"histogram\": [{\"marker\": {\"colorbar\": {\"outlinewidth\": 0, \"ticks\": \"\"}}, \"type\": \"histogram\"}], \"histogram2d\": [{\"colorbar\": {\"outlinewidth\": 0, \"ticks\": \"\"}, \"colorscale\": [[0.0, \"#0d0887\"], [0.1111111111111111, \"#46039f\"], [0.2222222222222222, \"#7201a8\"], [0.3333333333333333, \"#9c179e\"], [0.4444444444444444, \"#bd3786\"], [0.5555555555555556, \"#d8576b\"], [0.6666666666666666, \"#ed7953\"], [0.7777777777777778, \"#fb9f3a\"], [0.8888888888888888, \"#fdca26\"], [1.0, \"#f0f921\"]], \"type\": \"histogram2d\"}], \"histogram2dcontour\": [{\"colorbar\": {\"outlinewidth\": 0, \"ticks\": \"\"}, \"colorscale\": [[0.0, \"#0d0887\"], [0.1111111111111111, \"#46039f\"], [0.2222222222222222, \"#7201a8\"], [0.3333333333333333, \"#9c179e\"], [0.4444444444444444, \"#bd3786\"], [0.5555555555555556, \"#d8576b\"], [0.6666666666666666, \"#ed7953\"], [0.7777777777777778, \"#fb9f3a\"], [0.8888888888888888, \"#fdca26\"], [1.0, \"#f0f921\"]], \"type\": \"histogram2dcontour\"}], \"mesh3d\": [{\"colorbar\": {\"outlinewidth\": 0, \"ticks\": \"\"}, \"type\": \"mesh3d\"}], \"parcoords\": [{\"line\": {\"colorbar\": {\"outlinewidth\": 0, \"ticks\": \"\"}}, \"type\": \"parcoords\"}], \"pie\": [{\"automargin\": true, \"type\": \"pie\"}], \"scatter\": [{\"marker\": {\"colorbar\": {\"outlinewidth\": 0, \"ticks\": \"\"}}, \"type\": \"scatter\"}], \"scatter3d\": [{\"line\": {\"colorbar\": {\"outlinewidth\": 0, \"ticks\": \"\"}}, \"marker\": {\"colorbar\": {\"outlinewidth\": 0, \"ticks\": \"\"}}, \"type\": \"scatter3d\"}], \"scattercarpet\": [{\"marker\": {\"colorbar\": {\"outlinewidth\": 0, \"ticks\": \"\"}}, \"type\": \"scattercarpet\"}], \"scattergeo\": [{\"marker\": {\"colorbar\": {\"outlinewidth\": 0, \"ticks\": \"\"}}, \"type\": \"scattergeo\"}], \"scattergl\": [{\"marker\": {\"colorbar\": {\"outlinewidth\": 0, \"ticks\": \"\"}}, \"type\": \"scattergl\"}], \"scattermapbox\": [{\"marker\": {\"colorbar\": {\"outlinewidth\": 0, \"ticks\": \"\"}}, \"type\": \"scattermapbox\"}], \"scatterpolar\": [{\"marker\": {\"colorbar\": {\"outlinewidth\": 0, \"ticks\": \"\"}}, \"type\": \"scatterpolar\"}], \"scatterpolargl\": [{\"marker\": {\"colorbar\": {\"outlinewidth\": 0, \"ticks\": \"\"}}, \"type\": \"scatterpolargl\"}], \"scatterternary\": [{\"marker\": {\"colorbar\": {\"outlinewidth\": 0, \"ticks\": \"\"}}, \"type\": \"scatterternary\"}], \"surface\": [{\"colorbar\": {\"outlinewidth\": 0, \"ticks\": \"\"}, \"colorscale\": [[0.0, \"#0d0887\"], [0.1111111111111111, \"#46039f\"], [0.2222222222222222, \"#7201a8\"], [0.3333333333333333, \"#9c179e\"], [0.4444444444444444, \"#bd3786\"], [0.5555555555555556, \"#d8576b\"], [0.6666666666666666, \"#ed7953\"], [0.7777777777777778, \"#fb9f3a\"], [0.8888888888888888, \"#fdca26\"], [1.0, \"#f0f921\"]], \"type\": \"surface\"}], \"table\": [{\"cells\": {\"fill\": {\"color\": \"#EBF0F8\"}, \"line\": {\"color\": \"white\"}}, \"header\": {\"fill\": {\"color\": \"#C8D4E3\"}, \"line\": {\"color\": \"white\"}}, \"type\": \"table\"}]}, \"layout\": {\"annotationdefaults\": {\"arrowcolor\": \"#2a3f5f\", \"arrowhead\": 0, \"arrowwidth\": 1}, \"coloraxis\": {\"colorbar\": {\"outlinewidth\": 0, \"ticks\": \"\"}}, \"colorscale\": {\"diverging\": [[0, \"#8e0152\"], [0.1, \"#c51b7d\"], [0.2, \"#de77ae\"], [0.3, \"#f1b6da\"], [0.4, \"#fde0ef\"], [0.5, \"#f7f7f7\"], [0.6, \"#e6f5d0\"], [0.7, \"#b8e186\"], [0.8, \"#7fbc41\"], [0.9, \"#4d9221\"], [1, \"#276419\"]], \"sequential\": [[0.0, \"#0d0887\"], [0.1111111111111111, \"#46039f\"], [0.2222222222222222, \"#7201a8\"], [0.3333333333333333, \"#9c179e\"], [0.4444444444444444, \"#bd3786\"], [0.5555555555555556, \"#d8576b\"], [0.6666666666666666, \"#ed7953\"], [0.7777777777777778, \"#fb9f3a\"], [0.8888888888888888, \"#fdca26\"], [1.0, \"#f0f921\"]], \"sequentialminus\": [[0.0, \"#0d0887\"], [0.1111111111111111, \"#46039f\"], [0.2222222222222222, \"#7201a8\"], [0.3333333333333333, \"#9c179e\"], [0.4444444444444444, \"#bd3786\"], [0.5555555555555556, \"#d8576b\"], [0.6666666666666666, \"#ed7953\"], [0.7777777777777778, \"#fb9f3a\"], [0.8888888888888888, \"#fdca26\"], [1.0, \"#f0f921\"]]}, \"colorway\": [\"#636efa\", \"#EF553B\", \"#00cc96\", \"#ab63fa\", \"#FFA15A\", \"#19d3f3\", \"#FF6692\", \"#B6E880\", \"#FF97FF\", \"#FECB52\"], \"font\": {\"color\": \"#2a3f5f\"}, \"geo\": {\"bgcolor\": \"white\", \"lakecolor\": \"white\", \"landcolor\": \"#E5ECF6\", \"showlakes\": true, \"showland\": true, \"subunitcolor\": \"white\"}, \"hoverlabel\": {\"align\": \"left\"}, \"hovermode\": \"closest\", \"mapbox\": {\"style\": \"light\"}, \"paper_bgcolor\": \"white\", \"plot_bgcolor\": \"#E5ECF6\", \"polar\": {\"angularaxis\": {\"gridcolor\": \"white\", \"linecolor\": \"white\", \"ticks\": \"\"}, \"bgcolor\": \"#E5ECF6\", \"radialaxis\": {\"gridcolor\": \"white\", \"linecolor\": \"white\", \"ticks\": \"\"}}, \"scene\": {\"xaxis\": {\"backgroundcolor\": \"#E5ECF6\", \"gridcolor\": \"white\", \"gridwidth\": 2, \"linecolor\": \"white\", \"showbackground\": true, \"ticks\": \"\", \"zerolinecolor\": \"white\"}, \"yaxis\": {\"backgroundcolor\": \"#E5ECF6\", \"gridcolor\": \"white\", \"gridwidth\": 2, \"linecolor\": \"white\", \"showbackground\": true, \"ticks\": \"\", \"zerolinecolor\": \"white\"}, \"zaxis\": {\"backgroundcolor\": \"#E5ECF6\", \"gridcolor\": \"white\", \"gridwidth\": 2, \"linecolor\": \"white\", \"showbackground\": true, \"ticks\": \"\", \"zerolinecolor\": \"white\"}}, \"shapedefaults\": {\"line\": {\"color\": \"#2a3f5f\"}}, \"ternary\": {\"aaxis\": {\"gridcolor\": \"white\", \"linecolor\": \"white\", \"ticks\": \"\"}, \"baxis\": {\"gridcolor\": \"white\", \"linecolor\": \"white\", \"ticks\": \"\"}, \"bgcolor\": \"#E5ECF6\", \"caxis\": {\"gridcolor\": \"white\", \"linecolor\": \"white\", \"ticks\": \"\"}}, \"title\": {\"x\": 0.05}, \"xaxis\": {\"automargin\": true, \"gridcolor\": \"white\", \"linecolor\": \"white\", \"ticks\": \"\", \"title\": {\"standoff\": 15}, \"zerolinecolor\": \"white\", \"zerolinewidth\": 2}, \"yaxis\": {\"automargin\": true, \"gridcolor\": \"white\", \"linecolor\": \"white\", \"ticks\": \"\", \"title\": {\"standoff\": 15}, \"zerolinecolor\": \"white\", \"zerolinewidth\": 2}}}},\n",
              "                        {\"responsive\": true}\n",
              "                    ).then(function(){\n",
              "                            \n",
              "var gd = document.getElementById('28db29b6-d338-497f-80ab-770a19b293fa');\n",
              "var x = new MutationObserver(function (mutations, observer) {{\n",
              "        var display = window.getComputedStyle(gd).display;\n",
              "        if (!display || display === 'none') {{\n",
              "            console.log([gd, 'removed!']);\n",
              "            Plotly.purge(gd);\n",
              "            observer.disconnect();\n",
              "        }}\n",
              "}});\n",
              "\n",
              "// Listen for the removal of the full notebook cells\n",
              "var notebookContainer = gd.closest('#notebook-container');\n",
              "if (notebookContainer) {{\n",
              "    x.observe(notebookContainer, {childList: true});\n",
              "}}\n",
              "\n",
              "// Listen for the clearing of the current output cell\n",
              "var outputEl = gd.closest('.output');\n",
              "if (outputEl) {{\n",
              "    x.observe(outputEl, {childList: true});\n",
              "}}\n",
              "\n",
              "                        })\n",
              "                };\n",
              "                \n",
              "            </script>\n",
              "        </div>\n",
              "</body>\n",
              "</html>"
            ]
          },
          "metadata": {
            "tags": []
          }
        }
      ]
    },
    {
      "cell_type": "code",
      "metadata": {
        "colab": {
          "base_uri": "https://localhost:8080/",
          "height": 312
        },
        "id": "e_W_MlmLvIoS",
        "outputId": "94ada6ef-234a-41fa-ec52-db02def87e9e"
      },
      "source": [
        "plt.figure()\n",
        "fig = sns.countplot(x=\"property_type_id\",hue=\"property_category\",data=actualvDf)\n",
        "plt.xlabel(\"Property Type:1(Land)        2(Building)            3(Unit)\")\n",
        "plt.title('Property type with categories')"
      ],
      "execution_count": 637,
      "outputs": [
        {
          "output_type": "execute_result",
          "data": {
            "text/plain": [
              "Text(0.5, 1.0, 'Property type with categories')"
            ]
          },
          "metadata": {
            "tags": []
          },
          "execution_count": 637
        },
        {
          "output_type": "display_data",
          "data": {
            "image/png": "[encoded data removed]",
            "text/plain": [
              "<Figure size 432x288 with 1 Axes>"
            ]
          },
          "metadata": {
            "tags": [],
            "needs_background": "light"
          }
        }
      ]
    },
    {
      "cell_type": "code",
      "metadata": {
        "colab": {
          "base_uri": "https://localhost:8080/"
        },
        "id": "9-W7UFmXtIUB",
        "outputId": "aaa2042b-78e8-4cf4-96f1-f03c631bef69"
      },
      "source": [
        "#count of procedure_category\n",
        "actualvDf.property_category.value_counts()"
      ],
      "execution_count": 638,
      "outputs": [
        {
          "output_type": "execute_result",
          "data": {
            "text/plain": [
              "2    23217\n",
              "1     4231\n",
              "3     3802\n",
              "Name: property_category, dtype: int64"
            ]
          },
          "metadata": {
            "tags": []
          },
          "execution_count": 638
        }
      ]
    },
    {
      "cell_type": "code",
      "metadata": {
        "colab": {
          "base_uri": "https://localhost:8080/",
          "height": 312
        },
        "id": "BUpO8TgFx8AE",
        "outputId": "6e074056-d4ea-494a-ac2e-a739bbe20229"
      },
      "source": [
        "plt.figure()\n",
        "fig = sns.countplot(x=\"property_category\",data=actualvDf)\n",
        "plt.xlabel(\"Property Type: 1(Residential) 2(Commercial) 3(Other)\")\n",
        "plt.title('Property categories')"
      ],
      "execution_count": 639,
      "outputs": [
        {
          "output_type": "execute_result",
          "data": {
            "text/plain": [
              "Text(0.5, 1.0, 'Property categories')"
            ]
          },
          "metadata": {
            "tags": []
          },
          "execution_count": 639
        },
        {
          "output_type": "display_data",
          "data": {
            "image/png": "[encoded data removed]",
            "text/plain": [
              "<Figure size 432x288 with 1 Axes>"
            ]
          },
          "metadata": {
            "tags": [],
            "needs_background": "light"
          }
        }
      ]
    },
    {
      "cell_type": "code",
      "metadata": {
        "colab": {
          "base_uri": "https://localhost:8080/"
        },
        "id": "nB8vL6KatLDM",
        "outputId": "769e673f-da59-472c-db20-c565d622ccd4"
      },
      "source": [
        "#count of area_id\n",
        "actualvDf.area_id.value_counts()"
      ],
      "execution_count": 640,
      "outputs": [
        {
          "output_type": "execute_result",
          "data": {
            "text/plain": [
              "330    3186\n",
              "350    2165\n",
              "526    2127\n",
              "390    1437\n",
              "343     821\n",
              "       ... \n",
              "480       1\n",
              "514       1\n",
              "508       1\n",
              "531       1\n",
              "476       1\n",
              "Name: area_id, Length: 184, dtype: int64"
            ]
          },
          "metadata": {
            "tags": []
          },
          "execution_count": 640
        }
      ]
    },
    {
      "cell_type": "code",
      "metadata": {
        "colab": {
          "base_uri": "https://localhost:8080/"
        },
        "id": "FH1RtWMxvYYI",
        "outputId": "214695c3-e98d-4b1b-80bf-862674468d83"
      },
      "source": [
        "#count of row_status: entered or completed\n",
        "actualvDf.row_status.value_counts()"
      ],
      "execution_count": 641,
      "outputs": [
        {
          "output_type": "execute_result",
          "data": {
            "text/plain": [
              "1    31196\n",
              "3       54\n",
              "Name: row_status, dtype: int64"
            ]
          },
          "metadata": {
            "tags": []
          },
          "execution_count": 641
        }
      ]
    },
    {
      "cell_type": "code",
      "metadata": {
        "id": "EK2YZ6mPrUB4"
      },
      "source": [
        "# Export new file from updated data frame\n",
        "actualvDf.to_csv('./valuation_cleaned.csv', index=False)"
      ],
      "execution_count": 642,
      "outputs": []
    },
    {
      "cell_type": "markdown",
      "metadata": {
        "id": "AKP6i0ESwCQT"
      },
      "source": [
        "One-hot encoding for categories and types as we might need to scale in future for model"
      ]
    },
    {
      "cell_type": "code",
      "metadata": {
        "id": "UEBt4dG4wOPk"
      },
      "source": [
        ""
      ],
      "execution_count": 642,
      "outputs": []
    },
    {
      "cell_type": "code",
      "metadata": {
        "id": "CwujRsNG0LZ-"
      },
      "source": [
        "# Export new file from updated data frame\n",
        "#scaledvDf.to_csv('./valuation_scaled.csv', index=False)"
      ],
      "execution_count": 643,
      "outputs": []
    }
  ]
}