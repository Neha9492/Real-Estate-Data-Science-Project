{
  "nbformat": 4,
  "nbformat_minor": 0,
  "metadata": {
    "colab": {
      "name": "Real_Estate_Dubai_Analysis_ValuationFinal.ipynb",
      "provenance": [],
      "collapsed_sections": [
        "-P85BvMzDnEQ",
        "3MBEWRUsahDm",
        "5UWAZmdSNY8y",
        "9jCie1eqNj1R",
        "E_doZ5ygOZOQ",
        "7u3-lMS8eI3d",
        "NWAx3im6f91c",
        "R35rUvw8L5b6",
        "6LIx2qFfhCLf",
        "HFW8U_0gEzQZ",
        "cvlYI8bUE5Ka"
      ],
      "include_colab_link": true
    },
    "kernelspec": {
      "name": "python3",
      "display_name": "Python 3"
    },
    "language_info": {
      "name": "python"
    }
  },
  "cells": [
    {
      "cell_type": "markdown",
      "metadata": {
        "id": "view-in-github",
        "colab_type": "text"
      },
      "source": [
        "<a href=\"https://colab.research.google.com/github/Neha9492/Real-Estate-Data-Science-Project/blob/main/Real_Estate_Dubai_Analysis_ValuationFinal.ipynb\" target=\"_parent\"><img src=\"https://colab.research.google.com/assets/colab-badge.svg\" alt=\"Open In Colab\"/></a>"
      ]
    },
    {
      "cell_type": "markdown",
      "metadata": {
        "id": "AWFatUL35QZP"
      },
      "source": [
        "#Real Estate of Dubai - Analysis and Prediction\n",
        "##Valuation Dataset\n",
        "Fields in this dataset are as below:\n",
        "\n",
        "*   Row status\n",
        "*   Property_Id\n",
        "\n",
        "*   Property Type\n",
        "*   Property Sub Type\n",
        "\n",
        "*   Valuation date\n",
        "*   Procedure and Actual area in sq ft\n",
        "\n",
        "*   Valuation amount as actual_worth and total_value"
      ]
    },
    {
      "cell_type": "markdown",
      "metadata": {
        "id": "-P85BvMzDnEQ"
      },
      "source": [
        "## **Importing**"
      ]
    },
    {
      "cell_type": "markdown",
      "metadata": {
        "id": "KooiwrEYfcCF"
      },
      "source": [
        "###Importing libraries and dataset\n",
        "* Pandas Library helps us create and handle dataset in dataframe(https://pandas.pydata.org/)\n",
        "* Numpy\n",
        "* Matplotlib Pyplot\n",
        "* sklearn/sci-kit learn is an exhaustive library supporting various algorithms for classifiacation, regression and others\n",
        "* GradientBoostingRegressor: regression algorithm for modelling(https://scikit-learn.org/stable/modules/generated/sklearn.ensemble.GradientBoostingRegressor.html)\n",
        "* train_test_split: splits datasets into randomized train and test sets(https://scikit-learn.org/stable/modules/generated/sklearn.model_selection.train_test_split.html)\n",
        "* GridSearchCV: used for hyperparameter tuning(https://scikit-learn.org/stable/modules/generated/sklearn.model_selection.GridSearchCV.html)"
      ]
    },
    {
      "cell_type": "code",
      "metadata": {
        "id": "1cwrzIKG5H4L"
      },
      "source": [
        "import pandas as pd\n",
        "import numpy as np\n",
        "\n",
        "import matplotlib.pyplot as plt\n",
        "import seaborn as sns\n",
        "import plotly.express as px\n",
        "\n",
        "%matplotlib inline\n",
        "\n",
        "from sklearn.ensemble import GradientBoostingRegressor\n",
        "from sklearn.model_selection import train_test_split\n",
        "from sklearn.metrics import mean_absolute_error\n",
        "from sklearn.model_selection import GridSearchCV"
      ],
      "execution_count": null,
      "outputs": []
    },
    {
      "cell_type": "code",
      "metadata": {
        "id": "sLcX0CzW5xdm"
      },
      "source": [
        "#Import datasets from the csv files\n",
        "vdf = pd.read_csv('./Valuation.csv')\n"
      ],
      "execution_count": null,
      "outputs": []
    },
    {
      "cell_type": "code",
      "metadata": {
        "colab": {
          "base_uri": "https://localhost:8080/"
        },
        "id": "7FkY49UK8wEg",
        "outputId": "582a77c1-544c-46d6-ed1e-7a745f43cd0b"
      },
      "source": [
        "#head() gives us first few rows of the dataframe, this gives a peek into the content of the dataframe\n",
        "vdf.head()"
      ],
      "execution_count": null,
      "outputs": [
        {
          "output_type": "execute_result",
          "data": {
            "text/html": [
              "<div>\n",
              "<style scoped>\n",
              "    .dataframe tbody tr th:only-of-type {\n",
              "        vertical-align: middle;\n",
              "    }\n",
              "\n",
              "    .dataframe tbody tr th {\n",
              "        vertical-align: top;\n",
              "    }\n",
              "\n",
              "    .dataframe thead th {\n",
              "        text-align: right;\n",
              "    }\n",
              "</style>\n",
              "<table border=\"1\" class=\"dataframe\">\n",
              "  <thead>\n",
              "    <tr style=\"text-align: right;\">\n",
              "      <th></th>\n",
              "      <th>procedure_id</th>\n",
              "      <th>procedure_name_ar</th>\n",
              "      <th>procedure_name_en</th>\n",
              "      <th>procedure_year</th>\n",
              "      <th>procedure_number</th>\n",
              "      <th>instance_date</th>\n",
              "      <th>actual_worth</th>\n",
              "      <th>row_status_code</th>\n",
              "      <th>procedure_area</th>\n",
              "      <th>property_type_id</th>\n",
              "      <th>property_type_ar</th>\n",
              "      <th>property_type_en</th>\n",
              "      <th>property_sub_type_id</th>\n",
              "      <th>property_sub_type_ar</th>\n",
              "      <th>property_sub_type_en</th>\n",
              "      <th>area_id</th>\n",
              "      <th>area_name_ar</th>\n",
              "      <th>area_name_en</th>\n",
              "      <th>actual_area</th>\n",
              "      <th>property_total_value</th>\n",
              "    </tr>\n",
              "  </thead>\n",
              "  <tbody>\n",
              "    <tr>\n",
              "      <th>0</th>\n",
              "      <td>24</td>\n",
              "      <td>تقييم عقار</td>\n",
              "      <td>Property Evaluation</td>\n",
              "      <td>2005</td>\n",
              "      <td>254</td>\n",
              "      <td>30-04-2005</td>\n",
              "      <td>9750000.0</td>\n",
              "      <td>COMPLETED</td>\n",
              "      <td>696.77</td>\n",
              "      <td>1</td>\n",
              "      <td>ارض</td>\n",
              "      <td>Land</td>\n",
              "      <td>62.0</td>\n",
              "      <td>تجارية</td>\n",
              "      <td>Commercial</td>\n",
              "      <td>239.0</td>\n",
              "      <td>البراحه</td>\n",
              "      <td>Al Baraha</td>\n",
              "      <td>696.77</td>\n",
              "      <td>9750000.0</td>\n",
              "    </tr>\n",
              "    <tr>\n",
              "      <th>1</th>\n",
              "      <td>24</td>\n",
              "      <td>تقييم عقار</td>\n",
              "      <td>Property Evaluation</td>\n",
              "      <td>2001</td>\n",
              "      <td>259</td>\n",
              "      <td>23-10-2001</td>\n",
              "      <td>0.0</td>\n",
              "      <td>COMPLETED</td>\n",
              "      <td>1159.24</td>\n",
              "      <td>1</td>\n",
              "      <td>ارض</td>\n",
              "      <td>Land</td>\n",
              "      <td>63.0</td>\n",
              "      <td>سكنية</td>\n",
              "      <td>Residential</td>\n",
              "      <td>318.0</td>\n",
              "      <td>جميرا الثالثه</td>\n",
              "      <td>Jumeirah Third</td>\n",
              "      <td>1159.24</td>\n",
              "      <td>NaN</td>\n",
              "    </tr>\n",
              "    <tr>\n",
              "      <th>2</th>\n",
              "      <td>24</td>\n",
              "      <td>تقييم عقار</td>\n",
              "      <td>Property Evaluation</td>\n",
              "      <td>2009</td>\n",
              "      <td>261</td>\n",
              "      <td>16-03-2009</td>\n",
              "      <td>39883500.0</td>\n",
              "      <td>COMPLETED</td>\n",
              "      <td>2470.20</td>\n",
              "      <td>1</td>\n",
              "      <td>ارض</td>\n",
              "      <td>Land</td>\n",
              "      <td>62.0</td>\n",
              "      <td>تجارية</td>\n",
              "      <td>Commercial</td>\n",
              "      <td>368.0</td>\n",
              "      <td>البرشاء الاولى</td>\n",
              "      <td>Al Barsha First</td>\n",
              "      <td>2470.20</td>\n",
              "      <td>39883500.0</td>\n",
              "    </tr>\n",
              "    <tr>\n",
              "      <th>3</th>\n",
              "      <td>24</td>\n",
              "      <td>تقييم عقار</td>\n",
              "      <td>Property Evaluation</td>\n",
              "      <td>2004</td>\n",
              "      <td>268</td>\n",
              "      <td>18-04-2004</td>\n",
              "      <td>4000000.0</td>\n",
              "      <td>COMPLETED</td>\n",
              "      <td>4455.35</td>\n",
              "      <td>1</td>\n",
              "      <td>ارض</td>\n",
              "      <td>Land</td>\n",
              "      <td>11.0</td>\n",
              "      <td>مخازن او مستودعات</td>\n",
              "      <td>Warehouse</td>\n",
              "      <td>319.0</td>\n",
              "      <td>راس الخور الصناعيه الثانيه</td>\n",
              "      <td>Ras Al Khor Industrial Second</td>\n",
              "      <td>4455.35</td>\n",
              "      <td>4000000.0</td>\n",
              "    </tr>\n",
              "    <tr>\n",
              "      <th>4</th>\n",
              "      <td>24</td>\n",
              "      <td>تقييم عقار</td>\n",
              "      <td>Property Evaluation</td>\n",
              "      <td>2006</td>\n",
              "      <td>272</td>\n",
              "      <td>22-03-2006</td>\n",
              "      <td>3000000.0</td>\n",
              "      <td>COMPLETED</td>\n",
              "      <td>1393.55</td>\n",
              "      <td>1</td>\n",
              "      <td>ارض</td>\n",
              "      <td>Land</td>\n",
              "      <td>63.0</td>\n",
              "      <td>سكنية</td>\n",
              "      <td>Residential</td>\n",
              "      <td>369.0</td>\n",
              "      <td>البرشاء الثالثه</td>\n",
              "      <td>Al Barsha Third</td>\n",
              "      <td>1393.55</td>\n",
              "      <td>3000000.0</td>\n",
              "    </tr>\n",
              "  </tbody>\n",
              "</table>\n",
              "</div>"
            ],
            "text/plain": [
              "   procedure_id procedure_name_ar  ... actual_area  property_total_value\n",
              "0            24        تقييم عقار  ...      696.77             9750000.0\n",
              "1            24        تقييم عقار  ...     1159.24                   NaN\n",
              "2            24        تقييم عقار  ...     2470.20            39883500.0\n",
              "3            24        تقييم عقار  ...     4455.35             4000000.0\n",
              "4            24        تقييم عقار  ...     1393.55             3000000.0\n",
              "\n",
              "[5 rows x 20 columns]"
            ]
          },
          "metadata": {
            "tags": []
          },
          "execution_count": 3
        }
      ]
    },
    {
      "cell_type": "code",
      "metadata": {
        "id": "RF6CGIOZ8x7-"
      },
      "source": [
        "#tdf.head()"
      ],
      "execution_count": null,
      "outputs": []
    },
    {
      "cell_type": "markdown",
      "metadata": {
        "id": "sTCEA4EIDqc0"
      },
      "source": [
        "## **Data Cleaning**"
      ]
    },
    {
      "cell_type": "markdown",
      "metadata": {
        "id": "Autpfyhafm3H"
      },
      "source": [
        "###Dropping columns and understanding metadata\n",
        "#####Dropping fields which are either redundant or not required for our analysis, this helps us reduce dimensions of the data and analyse only relevant data.\n",
        "######The arabic names for fields such as procedure_name_ar, property_type_ar etc are translated into english values in a different column, so we are removing the arabic columns for simplicity."
      ]
    },
    {
      "cell_type": "code",
      "metadata": {
        "id": "cHldbS_P8z6A"
      },
      "source": [
        "vdf = vdf.drop(['procedure_id','procedure_name_ar','procedure_name_en','property_type_ar','property_sub_type_ar','area_name_ar'],axis=1)"
      ],
      "execution_count": null,
      "outputs": []
    },
    {
      "cell_type": "markdown",
      "metadata": {
        "id": "Dno27lO__H77"
      },
      "source": [
        "* head() method from pandas library helps us review the few rows of the dataset, this sneak peek is useful to understand the content of the dataset."
      ]
    },
    {
      "cell_type": "code",
      "metadata": {
        "colab": {
          "base_uri": "https://localhost:8080/",
          "height": 290
        },
        "id": "BEMfy-bU-2AP",
        "outputId": "966a0ab5-4b89-43c8-810f-84946ae6cc21"
      },
      "source": [
        "vdf.head()"
      ],
      "execution_count": null,
      "outputs": [
        {
          "output_type": "execute_result",
          "data": {
            "text/html": [
              "<div>\n",
              "<style scoped>\n",
              "    .dataframe tbody tr th:only-of-type {\n",
              "        vertical-align: middle;\n",
              "    }\n",
              "\n",
              "    .dataframe tbody tr th {\n",
              "        vertical-align: top;\n",
              "    }\n",
              "\n",
              "    .dataframe thead th {\n",
              "        text-align: right;\n",
              "    }\n",
              "</style>\n",
              "<table border=\"1\" class=\"dataframe\">\n",
              "  <thead>\n",
              "    <tr style=\"text-align: right;\">\n",
              "      <th></th>\n",
              "      <th>procedure_year</th>\n",
              "      <th>procedure_number</th>\n",
              "      <th>instance_date</th>\n",
              "      <th>actual_worth</th>\n",
              "      <th>row_status_code</th>\n",
              "      <th>procedure_area</th>\n",
              "      <th>property_type_id</th>\n",
              "      <th>property_type_en</th>\n",
              "      <th>property_sub_type_id</th>\n",
              "      <th>property_sub_type_en</th>\n",
              "      <th>area_id</th>\n",
              "      <th>area_name_en</th>\n",
              "      <th>actual_area</th>\n",
              "      <th>property_total_value</th>\n",
              "    </tr>\n",
              "  </thead>\n",
              "  <tbody>\n",
              "    <tr>\n",
              "      <th>0</th>\n",
              "      <td>2005</td>\n",
              "      <td>254</td>\n",
              "      <td>30-04-2005</td>\n",
              "      <td>9750000.0</td>\n",
              "      <td>COMPLETED</td>\n",
              "      <td>696.77</td>\n",
              "      <td>1</td>\n",
              "      <td>Land</td>\n",
              "      <td>62.0</td>\n",
              "      <td>Commercial</td>\n",
              "      <td>239.0</td>\n",
              "      <td>Al Baraha</td>\n",
              "      <td>696.77</td>\n",
              "      <td>9750000.0</td>\n",
              "    </tr>\n",
              "    <tr>\n",
              "      <th>1</th>\n",
              "      <td>2001</td>\n",
              "      <td>259</td>\n",
              "      <td>23-10-2001</td>\n",
              "      <td>0.0</td>\n",
              "      <td>COMPLETED</td>\n",
              "      <td>1159.24</td>\n",
              "      <td>1</td>\n",
              "      <td>Land</td>\n",
              "      <td>63.0</td>\n",
              "      <td>Residential</td>\n",
              "      <td>318.0</td>\n",
              "      <td>Jumeirah Third</td>\n",
              "      <td>1159.24</td>\n",
              "      <td>NaN</td>\n",
              "    </tr>\n",
              "    <tr>\n",
              "      <th>2</th>\n",
              "      <td>2009</td>\n",
              "      <td>261</td>\n",
              "      <td>16-03-2009</td>\n",
              "      <td>39883500.0</td>\n",
              "      <td>COMPLETED</td>\n",
              "      <td>2470.20</td>\n",
              "      <td>1</td>\n",
              "      <td>Land</td>\n",
              "      <td>62.0</td>\n",
              "      <td>Commercial</td>\n",
              "      <td>368.0</td>\n",
              "      <td>Al Barsha First</td>\n",
              "      <td>2470.20</td>\n",
              "      <td>39883500.0</td>\n",
              "    </tr>\n",
              "    <tr>\n",
              "      <th>3</th>\n",
              "      <td>2004</td>\n",
              "      <td>268</td>\n",
              "      <td>18-04-2004</td>\n",
              "      <td>4000000.0</td>\n",
              "      <td>COMPLETED</td>\n",
              "      <td>4455.35</td>\n",
              "      <td>1</td>\n",
              "      <td>Land</td>\n",
              "      <td>11.0</td>\n",
              "      <td>Warehouse</td>\n",
              "      <td>319.0</td>\n",
              "      <td>Ras Al Khor Industrial Second</td>\n",
              "      <td>4455.35</td>\n",
              "      <td>4000000.0</td>\n",
              "    </tr>\n",
              "    <tr>\n",
              "      <th>4</th>\n",
              "      <td>2006</td>\n",
              "      <td>272</td>\n",
              "      <td>22-03-2006</td>\n",
              "      <td>3000000.0</td>\n",
              "      <td>COMPLETED</td>\n",
              "      <td>1393.55</td>\n",
              "      <td>1</td>\n",
              "      <td>Land</td>\n",
              "      <td>63.0</td>\n",
              "      <td>Residential</td>\n",
              "      <td>369.0</td>\n",
              "      <td>Al Barsha Third</td>\n",
              "      <td>1393.55</td>\n",
              "      <td>3000000.0</td>\n",
              "    </tr>\n",
              "  </tbody>\n",
              "</table>\n",
              "</div>"
            ],
            "text/plain": [
              "   procedure_year  procedure_number  ... actual_area  property_total_value\n",
              "0            2005               254  ...      696.77             9750000.0\n",
              "1            2001               259  ...     1159.24                   NaN\n",
              "2            2009               261  ...     2470.20            39883500.0\n",
              "3            2004               268  ...     4455.35             4000000.0\n",
              "4            2006               272  ...     1393.55             3000000.0\n",
              "\n",
              "[5 rows x 14 columns]"
            ]
          },
          "metadata": {
            "tags": []
          },
          "execution_count": 6
        }
      ]
    },
    {
      "cell_type": "markdown",
      "metadata": {
        "id": "LxCSwDm6_asb"
      },
      "source": [
        "* .info() method from pandas library gives understanding of the metadata in the dataframe, we get to know the columns and their data types, count etc. This will be crucial to EDA in further steps."
      ]
    },
    {
      "cell_type": "code",
      "metadata": {
        "colab": {
          "base_uri": "https://localhost:8080/"
        },
        "id": "tDj7PuI_8U5a",
        "outputId": "41c30bf8-0f59-4cba-a5d2-88c7558811f0"
      },
      "source": [
        "vdf.info()"
      ],
      "execution_count": null,
      "outputs": [
        {
          "output_type": "stream",
          "text": [
            "<class 'pandas.core.frame.DataFrame'>\n",
            "RangeIndex: 59389 entries, 0 to 59388\n",
            "Data columns (total 14 columns):\n",
            " #   Column                Non-Null Count  Dtype  \n",
            "---  ------                --------------  -----  \n",
            " 0   procedure_year        59389 non-null  int64  \n",
            " 1   procedure_number      59389 non-null  int64  \n",
            " 2   instance_date         59389 non-null  object \n",
            " 3   actual_worth          59326 non-null  float64\n",
            " 4   row_status_code       59389 non-null  object \n",
            " 5   procedure_area        59373 non-null  float64\n",
            " 6   property_type_id      59389 non-null  int64  \n",
            " 7   property_type_en      59389 non-null  object \n",
            " 8   property_sub_type_id  55564 non-null  float64\n",
            " 9   property_sub_type_en  55564 non-null  object \n",
            " 10  area_id               59387 non-null  float64\n",
            " 11  area_name_en          59387 non-null  object \n",
            " 12  actual_area           59389 non-null  float64\n",
            " 13  property_total_value  58672 non-null  float64\n",
            "dtypes: float64(6), int64(3), object(5)\n",
            "memory usage: 6.3+ MB\n"
          ],
          "name": "stdout"
        }
      ]
    },
    {
      "cell_type": "markdown",
      "metadata": {
        "id": "ZFNn98RI_0hH"
      },
      "source": [
        "* describe() method helps us understand statistical information of the numerical columns, like mean, min, max and quartiles."
      ]
    },
    {
      "cell_type": "code",
      "metadata": {
        "id": "m0-mjlIn3lCW",
        "colab": {
          "base_uri": "https://localhost:8080/",
          "height": 315
        },
        "outputId": "90f7dc95-e0c9-4e6f-9694-7246df2f8dd8"
      },
      "source": [
        "vdf.describe()"
      ],
      "execution_count": null,
      "outputs": [
        {
          "output_type": "execute_result",
          "data": {
            "text/html": [
              "<div>\n",
              "<style scoped>\n",
              "    .dataframe tbody tr th:only-of-type {\n",
              "        vertical-align: middle;\n",
              "    }\n",
              "\n",
              "    .dataframe tbody tr th {\n",
              "        vertical-align: top;\n",
              "    }\n",
              "\n",
              "    .dataframe thead th {\n",
              "        text-align: right;\n",
              "    }\n",
              "</style>\n",
              "<table border=\"1\" class=\"dataframe\">\n",
              "  <thead>\n",
              "    <tr style=\"text-align: right;\">\n",
              "      <th></th>\n",
              "      <th>procedure_year</th>\n",
              "      <th>procedure_number</th>\n",
              "      <th>actual_worth</th>\n",
              "      <th>procedure_area</th>\n",
              "      <th>property_type_id</th>\n",
              "      <th>property_sub_type_id</th>\n",
              "      <th>area_id</th>\n",
              "      <th>actual_area</th>\n",
              "      <th>property_total_value</th>\n",
              "    </tr>\n",
              "  </thead>\n",
              "  <tbody>\n",
              "    <tr>\n",
              "      <th>count</th>\n",
              "      <td>59389.000000</td>\n",
              "      <td>59389.000000</td>\n",
              "      <td>5.932600e+04</td>\n",
              "      <td>5.937300e+04</td>\n",
              "      <td>59389.000000</td>\n",
              "      <td>55564.000000</td>\n",
              "      <td>59387.000000</td>\n",
              "      <td>5.938900e+04</td>\n",
              "      <td>5.867200e+04</td>\n",
              "    </tr>\n",
              "    <tr>\n",
              "      <th>mean</th>\n",
              "      <td>2014.879742</td>\n",
              "      <td>2632.494553</td>\n",
              "      <td>3.550633e+07</td>\n",
              "      <td>1.492515e+04</td>\n",
              "      <td>1.517065</td>\n",
              "      <td>56.621158</td>\n",
              "      <td>358.739067</td>\n",
              "      <td>1.327961e+04</td>\n",
              "      <td>3.586130e+07</td>\n",
              "    </tr>\n",
              "    <tr>\n",
              "      <th>std</th>\n",
              "      <td>4.199673</td>\n",
              "      <td>2110.934692</td>\n",
              "      <td>2.255928e+08</td>\n",
              "      <td>3.854357e+05</td>\n",
              "      <td>0.865062</td>\n",
              "      <td>15.044037</td>\n",
              "      <td>78.952401</td>\n",
              "      <td>3.916868e+05</td>\n",
              "      <td>2.264686e+08</td>\n",
              "    </tr>\n",
              "    <tr>\n",
              "      <th>min</th>\n",
              "      <td>2000.000000</td>\n",
              "      <td>1.000000</td>\n",
              "      <td>-1.000000e+00</td>\n",
              "      <td>0.000000e+00</td>\n",
              "      <td>1.000000</td>\n",
              "      <td>1.000000</td>\n",
              "      <td>230.000000</td>\n",
              "      <td>0.000000e+00</td>\n",
              "      <td>0.000000e+00</td>\n",
              "    </tr>\n",
              "    <tr>\n",
              "      <th>25%</th>\n",
              "      <td>2013.000000</td>\n",
              "      <td>820.000000</td>\n",
              "      <td>1.821507e+06</td>\n",
              "      <td>2.081000e+02</td>\n",
              "      <td>1.000000</td>\n",
              "      <td>60.000000</td>\n",
              "      <td>306.000000</td>\n",
              "      <td>2.088500e+02</td>\n",
              "      <td>1.927112e+06</td>\n",
              "    </tr>\n",
              "    <tr>\n",
              "      <th>50%</th>\n",
              "      <td>2016.000000</td>\n",
              "      <td>2117.000000</td>\n",
              "      <td>5.874206e+06</td>\n",
              "      <td>1.021930e+03</td>\n",
              "      <td>1.000000</td>\n",
              "      <td>62.000000</td>\n",
              "      <td>350.000000</td>\n",
              "      <td>1.021930e+03</td>\n",
              "      <td>6.000000e+06</td>\n",
              "    </tr>\n",
              "    <tr>\n",
              "      <th>75%</th>\n",
              "      <td>2018.000000</td>\n",
              "      <td>4045.000000</td>\n",
              "      <td>2.100000e+07</td>\n",
              "      <td>2.787080e+03</td>\n",
              "      <td>2.000000</td>\n",
              "      <td>63.000000</td>\n",
              "      <td>410.000000</td>\n",
              "      <td>2.774360e+03</td>\n",
              "      <td>2.160765e+07</td>\n",
              "    </tr>\n",
              "    <tr>\n",
              "      <th>max</th>\n",
              "      <td>2021.000000</td>\n",
              "      <td>8334.000000</td>\n",
              "      <td>1.638402e+10</td>\n",
              "      <td>5.070624e+07</td>\n",
              "      <td>3.000000</td>\n",
              "      <td>113.000000</td>\n",
              "      <td>531.000000</td>\n",
              "      <td>5.247279e+07</td>\n",
              "      <td>1.638402e+10</td>\n",
              "    </tr>\n",
              "  </tbody>\n",
              "</table>\n",
              "</div>"
            ],
            "text/plain": [
              "       procedure_year  procedure_number  ...   actual_area  property_total_value\n",
              "count    59389.000000      59389.000000  ...  5.938900e+04          5.867200e+04\n",
              "mean      2014.879742       2632.494553  ...  1.327961e+04          3.586130e+07\n",
              "std          4.199673       2110.934692  ...  3.916868e+05          2.264686e+08\n",
              "min       2000.000000          1.000000  ...  0.000000e+00          0.000000e+00\n",
              "25%       2013.000000        820.000000  ...  2.088500e+02          1.927112e+06\n",
              "50%       2016.000000       2117.000000  ...  1.021930e+03          6.000000e+06\n",
              "75%       2018.000000       4045.000000  ...  2.774360e+03          2.160765e+07\n",
              "max       2021.000000       8334.000000  ...  5.247279e+07          1.638402e+10\n",
              "\n",
              "[8 rows x 9 columns]"
            ]
          },
          "metadata": {
            "tags": []
          },
          "execution_count": 8
        }
      ]
    },
    {
      "cell_type": "markdown",
      "metadata": {
        "id": "96-Q8wjqaQeG"
      },
      "source": [
        "* Observations from the above:Numeric values in 0 or negative values are basically junk data entered, they can askew our range and deviate the model, so we will look into removing them or replacing them.\n",
        "* Procedure year is from 2000 to 2021\n",
        "* Minimum area value is 0\n",
        "*Minimum worth and value is -1"
      ]
    },
    {
      "cell_type": "markdown",
      "metadata": {
        "id": "3MBEWRUsahDm"
      },
      "source": [
        "###Row_status_code"
      ]
    },
    {
      "cell_type": "markdown",
      "metadata": {
        "id": "vw3911mdA_Si"
      },
      "source": [
        "* Removing the rows in \"Cancelled\" or \"Entered\" development status as it is not relevant to our study, these rows stand for properties which were cancelled for development or have been recently entered into planning."
      ]
    },
    {
      "cell_type": "code",
      "metadata": {
        "colab": {
          "base_uri": "https://localhost:8080/"
        },
        "id": "OgQnK00cCS3D",
        "outputId": "30fe4bc8-8bcd-47e0-f800-73c4b06eeae0"
      },
      "source": [
        "actualvDf = vdf[vdf.row_status_code != \"CANCELLED\"]\n",
        "actualvDf.head()"
      ],
      "execution_count": null,
      "outputs": [
        {
          "output_type": "execute_result",
          "data": {
            "text/html": [
              "<div>\n",
              "<style scoped>\n",
              "    .dataframe tbody tr th:only-of-type {\n",
              "        vertical-align: middle;\n",
              "    }\n",
              "\n",
              "    .dataframe tbody tr th {\n",
              "        vertical-align: top;\n",
              "    }\n",
              "\n",
              "    .dataframe thead th {\n",
              "        text-align: right;\n",
              "    }\n",
              "</style>\n",
              "<table border=\"1\" class=\"dataframe\">\n",
              "  <thead>\n",
              "    <tr style=\"text-align: right;\">\n",
              "      <th></th>\n",
              "      <th>procedure_year</th>\n",
              "      <th>procedure_number</th>\n",
              "      <th>instance_date</th>\n",
              "      <th>actual_worth</th>\n",
              "      <th>row_status_code</th>\n",
              "      <th>procedure_area</th>\n",
              "      <th>property_type_id</th>\n",
              "      <th>property_type_en</th>\n",
              "      <th>property_sub_type_id</th>\n",
              "      <th>property_sub_type_en</th>\n",
              "      <th>area_id</th>\n",
              "      <th>area_name_en</th>\n",
              "      <th>actual_area</th>\n",
              "      <th>property_total_value</th>\n",
              "    </tr>\n",
              "  </thead>\n",
              "  <tbody>\n",
              "    <tr>\n",
              "      <th>0</th>\n",
              "      <td>2005</td>\n",
              "      <td>254</td>\n",
              "      <td>30-04-2005</td>\n",
              "      <td>9750000.0</td>\n",
              "      <td>COMPLETED</td>\n",
              "      <td>696.77</td>\n",
              "      <td>1</td>\n",
              "      <td>Land</td>\n",
              "      <td>62.0</td>\n",
              "      <td>Commercial</td>\n",
              "      <td>239.0</td>\n",
              "      <td>Al Baraha</td>\n",
              "      <td>696.77</td>\n",
              "      <td>9750000.0</td>\n",
              "    </tr>\n",
              "    <tr>\n",
              "      <th>1</th>\n",
              "      <td>2001</td>\n",
              "      <td>259</td>\n",
              "      <td>23-10-2001</td>\n",
              "      <td>0.0</td>\n",
              "      <td>COMPLETED</td>\n",
              "      <td>1159.24</td>\n",
              "      <td>1</td>\n",
              "      <td>Land</td>\n",
              "      <td>63.0</td>\n",
              "      <td>Residential</td>\n",
              "      <td>318.0</td>\n",
              "      <td>Jumeirah Third</td>\n",
              "      <td>1159.24</td>\n",
              "      <td>NaN</td>\n",
              "    </tr>\n",
              "    <tr>\n",
              "      <th>2</th>\n",
              "      <td>2009</td>\n",
              "      <td>261</td>\n",
              "      <td>16-03-2009</td>\n",
              "      <td>39883500.0</td>\n",
              "      <td>COMPLETED</td>\n",
              "      <td>2470.20</td>\n",
              "      <td>1</td>\n",
              "      <td>Land</td>\n",
              "      <td>62.0</td>\n",
              "      <td>Commercial</td>\n",
              "      <td>368.0</td>\n",
              "      <td>Al Barsha First</td>\n",
              "      <td>2470.20</td>\n",
              "      <td>39883500.0</td>\n",
              "    </tr>\n",
              "    <tr>\n",
              "      <th>3</th>\n",
              "      <td>2004</td>\n",
              "      <td>268</td>\n",
              "      <td>18-04-2004</td>\n",
              "      <td>4000000.0</td>\n",
              "      <td>COMPLETED</td>\n",
              "      <td>4455.35</td>\n",
              "      <td>1</td>\n",
              "      <td>Land</td>\n",
              "      <td>11.0</td>\n",
              "      <td>Warehouse</td>\n",
              "      <td>319.0</td>\n",
              "      <td>Ras Al Khor Industrial Second</td>\n",
              "      <td>4455.35</td>\n",
              "      <td>4000000.0</td>\n",
              "    </tr>\n",
              "    <tr>\n",
              "      <th>4</th>\n",
              "      <td>2006</td>\n",
              "      <td>272</td>\n",
              "      <td>22-03-2006</td>\n",
              "      <td>3000000.0</td>\n",
              "      <td>COMPLETED</td>\n",
              "      <td>1393.55</td>\n",
              "      <td>1</td>\n",
              "      <td>Land</td>\n",
              "      <td>63.0</td>\n",
              "      <td>Residential</td>\n",
              "      <td>369.0</td>\n",
              "      <td>Al Barsha Third</td>\n",
              "      <td>1393.55</td>\n",
              "      <td>3000000.0</td>\n",
              "    </tr>\n",
              "  </tbody>\n",
              "</table>\n",
              "</div>"
            ],
            "text/plain": [
              "   procedure_year  procedure_number  ... actual_area  property_total_value\n",
              "0            2005               254  ...      696.77             9750000.0\n",
              "1            2001               259  ...     1159.24                   NaN\n",
              "2            2009               261  ...     2470.20            39883500.0\n",
              "3            2004               268  ...     4455.35             4000000.0\n",
              "4            2006               272  ...     1393.55             3000000.0\n",
              "\n",
              "[5 rows x 14 columns]"
            ]
          },
          "metadata": {
            "tags": []
          },
          "execution_count": 9
        }
      ]
    },
    {
      "cell_type": "markdown",
      "metadata": {
        "id": "rGP7xIAnBi1K"
      },
      "source": [
        "* Converting the row_status_code to numerical values.\n",
        "######Defining a dictionary to contain the dictated values and the orginal values, and using the function statusgroup(), passing each row and replacing the values into the dictated values."
      ]
    },
    {
      "cell_type": "code",
      "metadata": {
        "id": "-FK-gt-7R-xb"
      },
      "source": [
        "statusgroups = {1: \"COMPLETED\",\n",
        "                  2: \"ENTERED\",\n",
        "                  3: \"None\"\n",
        "                   }\n",
        "def statusgroup(row_status_code):\n",
        "    if row_status_code == 'COMPLETED':\n",
        "       return \"1\"\n",
        "    elif row_status_code == 'ENTERED':\n",
        "       return \"2\"\n",
        "    else:\n",
        "      return \"3\""
      ],
      "execution_count": null,
      "outputs": []
    },
    {
      "cell_type": "code",
      "metadata": {
        "colab": {
          "base_uri": "https://localhost:8080/"
        },
        "id": "3x_hR-SWSnLB",
        "outputId": "7bba5258-feb1-4274-f64b-884dffc86de7"
      },
      "source": [
        "actualvDf['row_status']= actualvDf['row_status_code'].apply(statusgroup)\n",
        "actualvDf.head()"
      ],
      "execution_count": null,
      "outputs": [
        {
          "output_type": "execute_result",
          "data": {
            "text/html": [
              "<div>\n",
              "<style scoped>\n",
              "    .dataframe tbody tr th:only-of-type {\n",
              "        vertical-align: middle;\n",
              "    }\n",
              "\n",
              "    .dataframe tbody tr th {\n",
              "        vertical-align: top;\n",
              "    }\n",
              "\n",
              "    .dataframe thead th {\n",
              "        text-align: right;\n",
              "    }\n",
              "</style>\n",
              "<table border=\"1\" class=\"dataframe\">\n",
              "  <thead>\n",
              "    <tr style=\"text-align: right;\">\n",
              "      <th></th>\n",
              "      <th>procedure_year</th>\n",
              "      <th>procedure_number</th>\n",
              "      <th>instance_date</th>\n",
              "      <th>actual_worth</th>\n",
              "      <th>row_status_code</th>\n",
              "      <th>procedure_area</th>\n",
              "      <th>property_type_id</th>\n",
              "      <th>property_type_en</th>\n",
              "      <th>property_sub_type_id</th>\n",
              "      <th>property_sub_type_en</th>\n",
              "      <th>area_id</th>\n",
              "      <th>area_name_en</th>\n",
              "      <th>actual_area</th>\n",
              "      <th>property_total_value</th>\n",
              "      <th>row_status</th>\n",
              "    </tr>\n",
              "  </thead>\n",
              "  <tbody>\n",
              "    <tr>\n",
              "      <th>0</th>\n",
              "      <td>2005</td>\n",
              "      <td>254</td>\n",
              "      <td>30-04-2005</td>\n",
              "      <td>9750000.0</td>\n",
              "      <td>COMPLETED</td>\n",
              "      <td>696.77</td>\n",
              "      <td>1</td>\n",
              "      <td>Land</td>\n",
              "      <td>62.0</td>\n",
              "      <td>Commercial</td>\n",
              "      <td>239.0</td>\n",
              "      <td>Al Baraha</td>\n",
              "      <td>696.77</td>\n",
              "      <td>9750000.0</td>\n",
              "      <td>1</td>\n",
              "    </tr>\n",
              "    <tr>\n",
              "      <th>1</th>\n",
              "      <td>2001</td>\n",
              "      <td>259</td>\n",
              "      <td>23-10-2001</td>\n",
              "      <td>0.0</td>\n",
              "      <td>COMPLETED</td>\n",
              "      <td>1159.24</td>\n",
              "      <td>1</td>\n",
              "      <td>Land</td>\n",
              "      <td>63.0</td>\n",
              "      <td>Residential</td>\n",
              "      <td>318.0</td>\n",
              "      <td>Jumeirah Third</td>\n",
              "      <td>1159.24</td>\n",
              "      <td>NaN</td>\n",
              "      <td>1</td>\n",
              "    </tr>\n",
              "    <tr>\n",
              "      <th>2</th>\n",
              "      <td>2009</td>\n",
              "      <td>261</td>\n",
              "      <td>16-03-2009</td>\n",
              "      <td>39883500.0</td>\n",
              "      <td>COMPLETED</td>\n",
              "      <td>2470.20</td>\n",
              "      <td>1</td>\n",
              "      <td>Land</td>\n",
              "      <td>62.0</td>\n",
              "      <td>Commercial</td>\n",
              "      <td>368.0</td>\n",
              "      <td>Al Barsha First</td>\n",
              "      <td>2470.20</td>\n",
              "      <td>39883500.0</td>\n",
              "      <td>1</td>\n",
              "    </tr>\n",
              "    <tr>\n",
              "      <th>3</th>\n",
              "      <td>2004</td>\n",
              "      <td>268</td>\n",
              "      <td>18-04-2004</td>\n",
              "      <td>4000000.0</td>\n",
              "      <td>COMPLETED</td>\n",
              "      <td>4455.35</td>\n",
              "      <td>1</td>\n",
              "      <td>Land</td>\n",
              "      <td>11.0</td>\n",
              "      <td>Warehouse</td>\n",
              "      <td>319.0</td>\n",
              "      <td>Ras Al Khor Industrial Second</td>\n",
              "      <td>4455.35</td>\n",
              "      <td>4000000.0</td>\n",
              "      <td>1</td>\n",
              "    </tr>\n",
              "    <tr>\n",
              "      <th>4</th>\n",
              "      <td>2006</td>\n",
              "      <td>272</td>\n",
              "      <td>22-03-2006</td>\n",
              "      <td>3000000.0</td>\n",
              "      <td>COMPLETED</td>\n",
              "      <td>1393.55</td>\n",
              "      <td>1</td>\n",
              "      <td>Land</td>\n",
              "      <td>63.0</td>\n",
              "      <td>Residential</td>\n",
              "      <td>369.0</td>\n",
              "      <td>Al Barsha Third</td>\n",
              "      <td>1393.55</td>\n",
              "      <td>3000000.0</td>\n",
              "      <td>1</td>\n",
              "    </tr>\n",
              "  </tbody>\n",
              "</table>\n",
              "</div>"
            ],
            "text/plain": [
              "   procedure_year  procedure_number  ... property_total_value  row_status\n",
              "0            2005               254  ...            9750000.0           1\n",
              "1            2001               259  ...                  NaN           1\n",
              "2            2009               261  ...           39883500.0           1\n",
              "3            2004               268  ...            4000000.0           1\n",
              "4            2006               272  ...            3000000.0           1\n",
              "\n",
              "[5 rows x 15 columns]"
            ]
          },
          "metadata": {
            "tags": []
          },
          "execution_count": 11
        }
      ]
    },
    {
      "cell_type": "code",
      "metadata": {
        "colab": {
          "base_uri": "https://localhost:8080/"
        },
        "id": "JN88VStOTBz1",
        "outputId": "6a287a1b-b324-4db1-ce5a-b783d9220682"
      },
      "source": [
        "actualvDf=actualvDf.drop(['row_status_code'],axis=1)\n",
        "actualvDf.head()"
      ],
      "execution_count": null,
      "outputs": [
        {
          "output_type": "execute_result",
          "data": {
            "text/html": [
              "<div>\n",
              "<style scoped>\n",
              "    .dataframe tbody tr th:only-of-type {\n",
              "        vertical-align: middle;\n",
              "    }\n",
              "\n",
              "    .dataframe tbody tr th {\n",
              "        vertical-align: top;\n",
              "    }\n",
              "\n",
              "    .dataframe thead th {\n",
              "        text-align: right;\n",
              "    }\n",
              "</style>\n",
              "<table border=\"1\" class=\"dataframe\">\n",
              "  <thead>\n",
              "    <tr style=\"text-align: right;\">\n",
              "      <th></th>\n",
              "      <th>procedure_year</th>\n",
              "      <th>procedure_number</th>\n",
              "      <th>instance_date</th>\n",
              "      <th>actual_worth</th>\n",
              "      <th>procedure_area</th>\n",
              "      <th>property_type_id</th>\n",
              "      <th>property_type_en</th>\n",
              "      <th>property_sub_type_id</th>\n",
              "      <th>property_sub_type_en</th>\n",
              "      <th>area_id</th>\n",
              "      <th>area_name_en</th>\n",
              "      <th>actual_area</th>\n",
              "      <th>property_total_value</th>\n",
              "      <th>row_status</th>\n",
              "    </tr>\n",
              "  </thead>\n",
              "  <tbody>\n",
              "    <tr>\n",
              "      <th>0</th>\n",
              "      <td>2005</td>\n",
              "      <td>254</td>\n",
              "      <td>30-04-2005</td>\n",
              "      <td>9750000.0</td>\n",
              "      <td>696.77</td>\n",
              "      <td>1</td>\n",
              "      <td>Land</td>\n",
              "      <td>62.0</td>\n",
              "      <td>Commercial</td>\n",
              "      <td>239.0</td>\n",
              "      <td>Al Baraha</td>\n",
              "      <td>696.77</td>\n",
              "      <td>9750000.0</td>\n",
              "      <td>1</td>\n",
              "    </tr>\n",
              "    <tr>\n",
              "      <th>1</th>\n",
              "      <td>2001</td>\n",
              "      <td>259</td>\n",
              "      <td>23-10-2001</td>\n",
              "      <td>0.0</td>\n",
              "      <td>1159.24</td>\n",
              "      <td>1</td>\n",
              "      <td>Land</td>\n",
              "      <td>63.0</td>\n",
              "      <td>Residential</td>\n",
              "      <td>318.0</td>\n",
              "      <td>Jumeirah Third</td>\n",
              "      <td>1159.24</td>\n",
              "      <td>NaN</td>\n",
              "      <td>1</td>\n",
              "    </tr>\n",
              "    <tr>\n",
              "      <th>2</th>\n",
              "      <td>2009</td>\n",
              "      <td>261</td>\n",
              "      <td>16-03-2009</td>\n",
              "      <td>39883500.0</td>\n",
              "      <td>2470.20</td>\n",
              "      <td>1</td>\n",
              "      <td>Land</td>\n",
              "      <td>62.0</td>\n",
              "      <td>Commercial</td>\n",
              "      <td>368.0</td>\n",
              "      <td>Al Barsha First</td>\n",
              "      <td>2470.20</td>\n",
              "      <td>39883500.0</td>\n",
              "      <td>1</td>\n",
              "    </tr>\n",
              "    <tr>\n",
              "      <th>3</th>\n",
              "      <td>2004</td>\n",
              "      <td>268</td>\n",
              "      <td>18-04-2004</td>\n",
              "      <td>4000000.0</td>\n",
              "      <td>4455.35</td>\n",
              "      <td>1</td>\n",
              "      <td>Land</td>\n",
              "      <td>11.0</td>\n",
              "      <td>Warehouse</td>\n",
              "      <td>319.0</td>\n",
              "      <td>Ras Al Khor Industrial Second</td>\n",
              "      <td>4455.35</td>\n",
              "      <td>4000000.0</td>\n",
              "      <td>1</td>\n",
              "    </tr>\n",
              "    <tr>\n",
              "      <th>4</th>\n",
              "      <td>2006</td>\n",
              "      <td>272</td>\n",
              "      <td>22-03-2006</td>\n",
              "      <td>3000000.0</td>\n",
              "      <td>1393.55</td>\n",
              "      <td>1</td>\n",
              "      <td>Land</td>\n",
              "      <td>63.0</td>\n",
              "      <td>Residential</td>\n",
              "      <td>369.0</td>\n",
              "      <td>Al Barsha Third</td>\n",
              "      <td>1393.55</td>\n",
              "      <td>3000000.0</td>\n",
              "      <td>1</td>\n",
              "    </tr>\n",
              "  </tbody>\n",
              "</table>\n",
              "</div>"
            ],
            "text/plain": [
              "   procedure_year  procedure_number  ... property_total_value  row_status\n",
              "0            2005               254  ...            9750000.0           1\n",
              "1            2001               259  ...                  NaN           1\n",
              "2            2009               261  ...           39883500.0           1\n",
              "3            2004               268  ...            4000000.0           1\n",
              "4            2006               272  ...            3000000.0           1\n",
              "\n",
              "[5 rows x 14 columns]"
            ]
          },
          "metadata": {
            "tags": []
          },
          "execution_count": 12
        }
      ]
    },
    {
      "cell_type": "markdown",
      "metadata": {
        "id": "sPk9lPMGFe1y"
      },
      "source": [
        "#### **Correlation between columns**\n",
        "* Many columns have similar values, like actual_worth and Property_total_value, if these columns are strongly correlated, we can drop one of them to reduce dimensions."
      ]
    },
    {
      "cell_type": "code",
      "metadata": {
        "colab": {
          "base_uri": "https://localhost:8080/"
        },
        "id": "eeM5POIVi0it",
        "outputId": "cffd6a6b-e86c-48ea-bbc6-df6464ac8e5b"
      },
      "source": [
        "actualvDf.shape"
      ],
      "execution_count": null,
      "outputs": [
        {
          "output_type": "execute_result",
          "data": {
            "text/plain": [
              "(59389, 14)"
            ]
          },
          "metadata": {
            "tags": []
          },
          "execution_count": 13
        }
      ]
    },
    {
      "cell_type": "code",
      "metadata": {
        "colab": {
          "base_uri": "https://localhost:8080/"
        },
        "id": "ikiQvguXEYU_",
        "outputId": "9cf68688-e397-445b-9d98-9ba68aca5701"
      },
      "source": [
        "actualvDf.corr()"
      ],
      "execution_count": null,
      "outputs": [
        {
          "output_type": "execute_result",
          "data": {
            "text/html": [
              "<div>\n",
              "<style scoped>\n",
              "    .dataframe tbody tr th:only-of-type {\n",
              "        vertical-align: middle;\n",
              "    }\n",
              "\n",
              "    .dataframe tbody tr th {\n",
              "        vertical-align: top;\n",
              "    }\n",
              "\n",
              "    .dataframe thead th {\n",
              "        text-align: right;\n",
              "    }\n",
              "</style>\n",
              "<table border=\"1\" class=\"dataframe\">\n",
              "  <thead>\n",
              "    <tr style=\"text-align: right;\">\n",
              "      <th></th>\n",
              "      <th>procedure_year</th>\n",
              "      <th>procedure_number</th>\n",
              "      <th>actual_worth</th>\n",
              "      <th>procedure_area</th>\n",
              "      <th>property_type_id</th>\n",
              "      <th>property_sub_type_id</th>\n",
              "      <th>area_id</th>\n",
              "      <th>actual_area</th>\n",
              "      <th>property_total_value</th>\n",
              "    </tr>\n",
              "  </thead>\n",
              "  <tbody>\n",
              "    <tr>\n",
              "      <th>procedure_year</th>\n",
              "      <td>1.000000</td>\n",
              "      <td>0.379248</td>\n",
              "      <td>0.005142</td>\n",
              "      <td>0.001366</td>\n",
              "      <td>0.234575</td>\n",
              "      <td>-0.106524</td>\n",
              "      <td>0.287271</td>\n",
              "      <td>0.002506</td>\n",
              "      <td>0.000461</td>\n",
              "    </tr>\n",
              "    <tr>\n",
              "      <th>procedure_number</th>\n",
              "      <td>0.379248</td>\n",
              "      <td>1.000000</td>\n",
              "      <td>0.000949</td>\n",
              "      <td>-0.001126</td>\n",
              "      <td>0.165053</td>\n",
              "      <td>-0.042846</td>\n",
              "      <td>0.160746</td>\n",
              "      <td>0.000961</td>\n",
              "      <td>-0.000873</td>\n",
              "    </tr>\n",
              "    <tr>\n",
              "      <th>actual_worth</th>\n",
              "      <td>0.005142</td>\n",
              "      <td>0.000949</td>\n",
              "      <td>1.000000</td>\n",
              "      <td>0.184782</td>\n",
              "      <td>-0.088157</td>\n",
              "      <td>0.005448</td>\n",
              "      <td>0.003703</td>\n",
              "      <td>0.161314</td>\n",
              "      <td>0.998238</td>\n",
              "    </tr>\n",
              "    <tr>\n",
              "      <th>procedure_area</th>\n",
              "      <td>0.001366</td>\n",
              "      <td>-0.001126</td>\n",
              "      <td>0.184782</td>\n",
              "      <td>1.000000</td>\n",
              "      <td>-0.022779</td>\n",
              "      <td>-0.012839</td>\n",
              "      <td>0.036187</td>\n",
              "      <td>0.822938</td>\n",
              "      <td>0.183485</td>\n",
              "    </tr>\n",
              "    <tr>\n",
              "      <th>property_type_id</th>\n",
              "      <td>0.234575</td>\n",
              "      <td>0.165053</td>\n",
              "      <td>-0.088157</td>\n",
              "      <td>-0.022779</td>\n",
              "      <td>1.000000</td>\n",
              "      <td>-0.134091</td>\n",
              "      <td>0.311435</td>\n",
              "      <td>-0.019916</td>\n",
              "      <td>-0.089377</td>\n",
              "    </tr>\n",
              "    <tr>\n",
              "      <th>property_sub_type_id</th>\n",
              "      <td>-0.106524</td>\n",
              "      <td>-0.042846</td>\n",
              "      <td>0.005448</td>\n",
              "      <td>-0.012839</td>\n",
              "      <td>-0.134091</td>\n",
              "      <td>1.000000</td>\n",
              "      <td>-0.157755</td>\n",
              "      <td>-0.013192</td>\n",
              "      <td>0.006035</td>\n",
              "    </tr>\n",
              "    <tr>\n",
              "      <th>area_id</th>\n",
              "      <td>0.287271</td>\n",
              "      <td>0.160746</td>\n",
              "      <td>0.003703</td>\n",
              "      <td>0.036187</td>\n",
              "      <td>0.311435</td>\n",
              "      <td>-0.157755</td>\n",
              "      <td>1.000000</td>\n",
              "      <td>0.032829</td>\n",
              "      <td>0.002179</td>\n",
              "    </tr>\n",
              "    <tr>\n",
              "      <th>actual_area</th>\n",
              "      <td>0.002506</td>\n",
              "      <td>0.000961</td>\n",
              "      <td>0.161314</td>\n",
              "      <td>0.822938</td>\n",
              "      <td>-0.019916</td>\n",
              "      <td>-0.013192</td>\n",
              "      <td>0.032829</td>\n",
              "      <td>1.000000</td>\n",
              "      <td>0.161126</td>\n",
              "    </tr>\n",
              "    <tr>\n",
              "      <th>property_total_value</th>\n",
              "      <td>0.000461</td>\n",
              "      <td>-0.000873</td>\n",
              "      <td>0.998238</td>\n",
              "      <td>0.183485</td>\n",
              "      <td>-0.089377</td>\n",
              "      <td>0.006035</td>\n",
              "      <td>0.002179</td>\n",
              "      <td>0.161126</td>\n",
              "      <td>1.000000</td>\n",
              "    </tr>\n",
              "  </tbody>\n",
              "</table>\n",
              "</div>"
            ],
            "text/plain": [
              "                      procedure_year  ...  property_total_value\n",
              "procedure_year              1.000000  ...              0.000461\n",
              "procedure_number            0.379248  ...             -0.000873\n",
              "actual_worth                0.005142  ...              0.998238\n",
              "procedure_area              0.001366  ...              0.183485\n",
              "property_type_id            0.234575  ...             -0.089377\n",
              "property_sub_type_id       -0.106524  ...              0.006035\n",
              "area_id                     0.287271  ...              0.002179\n",
              "actual_area                 0.002506  ...              0.161126\n",
              "property_total_value        0.000461  ...              1.000000\n",
              "\n",
              "[9 rows x 9 columns]"
            ]
          },
          "metadata": {
            "tags": []
          },
          "execution_count": 14
        }
      ]
    },
    {
      "cell_type": "markdown",
      "metadata": {
        "id": "qhbVDKKNgzlu"
      },
      "source": [
        "###Actual_worth and Property_total_value\n",
        "* correlation of 0.998238 between these columns indicates they are strongly correlated so we can drop the one of the columns.\n"
      ]
    },
    {
      "cell_type": "code",
      "metadata": {
        "colab": {
          "base_uri": "https://localhost:8080/"
        },
        "id": "FGnk-B8DIYUy",
        "outputId": "d1d1e4c7-4227-4eaa-a571-955080facef2"
      },
      "source": [
        "actualvDf.isnull().sum()"
      ],
      "execution_count": null,
      "outputs": [
        {
          "output_type": "execute_result",
          "data": {
            "text/plain": [
              "procedure_year             0\n",
              "procedure_number           0\n",
              "instance_date              0\n",
              "actual_worth              63\n",
              "procedure_area            16\n",
              "property_type_id           0\n",
              "property_type_en           0\n",
              "property_sub_type_id    3825\n",
              "property_sub_type_en    3825\n",
              "area_id                    2\n",
              "area_name_en               2\n",
              "actual_area                0\n",
              "property_total_value     717\n",
              "row_status                 0\n",
              "dtype: int64"
            ]
          },
          "metadata": {
            "tags": []
          },
          "execution_count": 15
        }
      ]
    },
    {
      "cell_type": "markdown",
      "metadata": {
        "id": "_D6ibol1GqWJ"
      },
      "source": [
        "* Remove null values from actual_worth (which account for 14 rows in the dataset)"
      ]
    },
    {
      "cell_type": "code",
      "metadata": {
        "id": "8d9lQLs-QLpS"
      },
      "source": [
        "actualvDf = actualvDf.drop(['actual_worth'],axis=1)"
      ],
      "execution_count": null,
      "outputs": []
    },
    {
      "cell_type": "markdown",
      "metadata": {
        "id": "XOfWGaITa-R0"
      },
      "source": [
        "###Property_type\n",
        "* property_type_en and property_type_id are categorical to same values as below:\n",
        "    Land: 1\n",
        "    Building: 2\n",
        "    Unit: 3\n",
        "* Dropping property_type_en as it is encoded in property_type_id"
      ]
    },
    {
      "cell_type": "code",
      "metadata": {
        "colab": {
          "base_uri": "https://localhost:8080/",
          "height": 290
        },
        "id": "frZo2roDK0Qo",
        "outputId": "df44915b-8474-48b7-9224-de51af2e1573"
      },
      "source": [
        "actualvDf=actualvDf.drop(['property_type_en'],axis=1)\n",
        "actualvDf.head()"
      ],
      "execution_count": null,
      "outputs": [
        {
          "output_type": "execute_result",
          "data": {
            "text/html": [
              "<div>\n",
              "<style scoped>\n",
              "    .dataframe tbody tr th:only-of-type {\n",
              "        vertical-align: middle;\n",
              "    }\n",
              "\n",
              "    .dataframe tbody tr th {\n",
              "        vertical-align: top;\n",
              "    }\n",
              "\n",
              "    .dataframe thead th {\n",
              "        text-align: right;\n",
              "    }\n",
              "</style>\n",
              "<table border=\"1\" class=\"dataframe\">\n",
              "  <thead>\n",
              "    <tr style=\"text-align: right;\">\n",
              "      <th></th>\n",
              "      <th>procedure_year</th>\n",
              "      <th>procedure_number</th>\n",
              "      <th>instance_date</th>\n",
              "      <th>procedure_area</th>\n",
              "      <th>property_type_id</th>\n",
              "      <th>property_sub_type_id</th>\n",
              "      <th>property_sub_type_en</th>\n",
              "      <th>area_id</th>\n",
              "      <th>area_name_en</th>\n",
              "      <th>actual_area</th>\n",
              "      <th>property_total_value</th>\n",
              "      <th>row_status</th>\n",
              "    </tr>\n",
              "  </thead>\n",
              "  <tbody>\n",
              "    <tr>\n",
              "      <th>0</th>\n",
              "      <td>2005</td>\n",
              "      <td>254</td>\n",
              "      <td>30-04-2005</td>\n",
              "      <td>696.77</td>\n",
              "      <td>1</td>\n",
              "      <td>62.0</td>\n",
              "      <td>Commercial</td>\n",
              "      <td>239.0</td>\n",
              "      <td>Al Baraha</td>\n",
              "      <td>696.77</td>\n",
              "      <td>9750000.0</td>\n",
              "      <td>1</td>\n",
              "    </tr>\n",
              "    <tr>\n",
              "      <th>1</th>\n",
              "      <td>2001</td>\n",
              "      <td>259</td>\n",
              "      <td>23-10-2001</td>\n",
              "      <td>1159.24</td>\n",
              "      <td>1</td>\n",
              "      <td>63.0</td>\n",
              "      <td>Residential</td>\n",
              "      <td>318.0</td>\n",
              "      <td>Jumeirah Third</td>\n",
              "      <td>1159.24</td>\n",
              "      <td>NaN</td>\n",
              "      <td>1</td>\n",
              "    </tr>\n",
              "    <tr>\n",
              "      <th>2</th>\n",
              "      <td>2009</td>\n",
              "      <td>261</td>\n",
              "      <td>16-03-2009</td>\n",
              "      <td>2470.20</td>\n",
              "      <td>1</td>\n",
              "      <td>62.0</td>\n",
              "      <td>Commercial</td>\n",
              "      <td>368.0</td>\n",
              "      <td>Al Barsha First</td>\n",
              "      <td>2470.20</td>\n",
              "      <td>39883500.0</td>\n",
              "      <td>1</td>\n",
              "    </tr>\n",
              "    <tr>\n",
              "      <th>3</th>\n",
              "      <td>2004</td>\n",
              "      <td>268</td>\n",
              "      <td>18-04-2004</td>\n",
              "      <td>4455.35</td>\n",
              "      <td>1</td>\n",
              "      <td>11.0</td>\n",
              "      <td>Warehouse</td>\n",
              "      <td>319.0</td>\n",
              "      <td>Ras Al Khor Industrial Second</td>\n",
              "      <td>4455.35</td>\n",
              "      <td>4000000.0</td>\n",
              "      <td>1</td>\n",
              "    </tr>\n",
              "    <tr>\n",
              "      <th>4</th>\n",
              "      <td>2006</td>\n",
              "      <td>272</td>\n",
              "      <td>22-03-2006</td>\n",
              "      <td>1393.55</td>\n",
              "      <td>1</td>\n",
              "      <td>63.0</td>\n",
              "      <td>Residential</td>\n",
              "      <td>369.0</td>\n",
              "      <td>Al Barsha Third</td>\n",
              "      <td>1393.55</td>\n",
              "      <td>3000000.0</td>\n",
              "      <td>1</td>\n",
              "    </tr>\n",
              "  </tbody>\n",
              "</table>\n",
              "</div>"
            ],
            "text/plain": [
              "   procedure_year  procedure_number  ... property_total_value  row_status\n",
              "0            2005               254  ...            9750000.0           1\n",
              "1            2001               259  ...                  NaN           1\n",
              "2            2009               261  ...           39883500.0           1\n",
              "3            2004               268  ...            4000000.0           1\n",
              "4            2006               272  ...            3000000.0           1\n",
              "\n",
              "[5 rows x 12 columns]"
            ]
          },
          "metadata": {
            "tags": []
          },
          "execution_count": 17
        }
      ]
    },
    {
      "cell_type": "markdown",
      "metadata": {
        "id": "DvpzgoJCbENZ"
      },
      "source": [
        "###Property_sub_type\n",
        "* Property_sub_type contains diverse categories which is exhaustive however, they can be categorised into three below basic categories based on the business understanding.\n",
        "* Also, dropping the other General use sub types as our analysis is focussed on Residential and commercial use properties."
      ]
    },
    {
      "cell_type": "markdown",
      "metadata": {
        "id": "bvHNGe5GJpv4"
      },
      "source": [
        "##### Pulling all the irrelevant property sub types in a single list, it will help us drop them at a time."
      ]
    },
    {
      "cell_type": "code",
      "metadata": {
        "id": "VwXGaeG_I-oj"
      },
      "source": [
        "drop_lst = [\"Bus station & drivers residenc\", \n",
        "\"Car Services\", \n",
        "\"CHURCH\", \n",
        "\"Clinic\", \n",
        "\"Consulate\", \n",
        "\"Commercial\", \n",
        "\"Cooling Station\", \n",
        "\"Electricity Station\", \n",
        "\"Embassy\", \n",
        "\"Exhbition Center\", \n",
        "\"Funeral Gathering\", \n",
        "\"General Authority\", \n",
        "\"General Services\", \n",
        "\"General Use\", \n",
        "\"Government Housing\", \n",
        "\"Ground Level Parcking\", \n",
        "\"Gymnasium\", \n",
        "\"Health Club\", \n",
        "\"Hospital\", \n",
        "\"Hotel\", \n",
        "\"Labor Camp\", \n",
        "\"Mosque\", \n",
        "\"Multi Store Parcking\", \n",
        "\"Parking\", \n",
        "\"Organizations\", \n",
        "\"Petrol Station\", \n",
        "\"Railway Station\", \n",
        "\"Plants shop\", \n",
        "\"School\", \n",
        "\"Rest Area\", \n",
        "\"Sports Club\", \n",
        "\"Shopping Mall\", \n",
        "\"Sized Partition\", \n",
        "\"Warehouse\", \n",
        "\"Workshop\"]\n"
      ],
      "execution_count": null,
      "outputs": []
    },
    {
      "cell_type": "code",
      "metadata": {
        "colab": {
          "base_uri": "https://localhost:8080/",
          "height": 290
        },
        "id": "OJ1n4RqBY569",
        "outputId": "0d3ca893-9e14-49f7-f952-6a1ea6f0be1a"
      },
      "source": [
        "actualvDf.property_sub_type_en.replace(to_replace=drop_lst, value='Other', inplace=True)\n",
        "actualvDf = actualvDf[actualvDf.property_sub_type_en != 'Other']\n",
        "actualvDf.head()"
      ],
      "execution_count": null,
      "outputs": [
        {
          "output_type": "execute_result",
          "data": {
            "text/html": [
              "<div>\n",
              "<style scoped>\n",
              "    .dataframe tbody tr th:only-of-type {\n",
              "        vertical-align: middle;\n",
              "    }\n",
              "\n",
              "    .dataframe tbody tr th {\n",
              "        vertical-align: top;\n",
              "    }\n",
              "\n",
              "    .dataframe thead th {\n",
              "        text-align: right;\n",
              "    }\n",
              "</style>\n",
              "<table border=\"1\" class=\"dataframe\">\n",
              "  <thead>\n",
              "    <tr style=\"text-align: right;\">\n",
              "      <th></th>\n",
              "      <th>procedure_year</th>\n",
              "      <th>procedure_number</th>\n",
              "      <th>instance_date</th>\n",
              "      <th>procedure_area</th>\n",
              "      <th>property_type_id</th>\n",
              "      <th>property_sub_type_id</th>\n",
              "      <th>property_sub_type_en</th>\n",
              "      <th>area_id</th>\n",
              "      <th>area_name_en</th>\n",
              "      <th>actual_area</th>\n",
              "      <th>property_total_value</th>\n",
              "      <th>row_status</th>\n",
              "    </tr>\n",
              "  </thead>\n",
              "  <tbody>\n",
              "    <tr>\n",
              "      <th>1</th>\n",
              "      <td>2001</td>\n",
              "      <td>259</td>\n",
              "      <td>23-10-2001</td>\n",
              "      <td>1159.24</td>\n",
              "      <td>1</td>\n",
              "      <td>63.0</td>\n",
              "      <td>Residential</td>\n",
              "      <td>318.0</td>\n",
              "      <td>Jumeirah Third</td>\n",
              "      <td>1159.24</td>\n",
              "      <td>NaN</td>\n",
              "      <td>1</td>\n",
              "    </tr>\n",
              "    <tr>\n",
              "      <th>4</th>\n",
              "      <td>2006</td>\n",
              "      <td>272</td>\n",
              "      <td>22-03-2006</td>\n",
              "      <td>1393.55</td>\n",
              "      <td>1</td>\n",
              "      <td>63.0</td>\n",
              "      <td>Residential</td>\n",
              "      <td>369.0</td>\n",
              "      <td>Al Barsha Third</td>\n",
              "      <td>1393.55</td>\n",
              "      <td>3000000.0</td>\n",
              "      <td>1</td>\n",
              "    </tr>\n",
              "    <tr>\n",
              "      <th>5</th>\n",
              "      <td>2005</td>\n",
              "      <td>275</td>\n",
              "      <td>08-05-2005</td>\n",
              "      <td>4869.60</td>\n",
              "      <td>1</td>\n",
              "      <td>65.0</td>\n",
              "      <td>Industrial</td>\n",
              "      <td>378.0</td>\n",
              "      <td>Al Garhoud</td>\n",
              "      <td>4869.60</td>\n",
              "      <td>26208000.0</td>\n",
              "      <td>1</td>\n",
              "    </tr>\n",
              "    <tr>\n",
              "      <th>8</th>\n",
              "      <td>2005</td>\n",
              "      <td>285</td>\n",
              "      <td>09-05-2005</td>\n",
              "      <td>1393.55</td>\n",
              "      <td>1</td>\n",
              "      <td>63.0</td>\n",
              "      <td>Residential</td>\n",
              "      <td>393.0</td>\n",
              "      <td>Al Barsha Second</td>\n",
              "      <td>1393.55</td>\n",
              "      <td>2170000.0</td>\n",
              "      <td>1</td>\n",
              "    </tr>\n",
              "    <tr>\n",
              "      <th>9</th>\n",
              "      <td>2006</td>\n",
              "      <td>285</td>\n",
              "      <td>28-03-2006</td>\n",
              "      <td>1393.55</td>\n",
              "      <td>1</td>\n",
              "      <td>63.0</td>\n",
              "      <td>Residential</td>\n",
              "      <td>314.0</td>\n",
              "      <td>Al Saffa Second</td>\n",
              "      <td>1393.55</td>\n",
              "      <td>4500000.0</td>\n",
              "      <td>1</td>\n",
              "    </tr>\n",
              "  </tbody>\n",
              "</table>\n",
              "</div>"
            ],
            "text/plain": [
              "   procedure_year  procedure_number  ... property_total_value  row_status\n",
              "1            2001               259  ...                  NaN           1\n",
              "4            2006               272  ...            3000000.0           1\n",
              "5            2005               275  ...           26208000.0           1\n",
              "8            2005               285  ...            2170000.0           1\n",
              "9            2006               285  ...            4500000.0           1\n",
              "\n",
              "[5 rows x 12 columns]"
            ]
          },
          "metadata": {
            "tags": []
          },
          "execution_count": 19
        }
      ]
    },
    {
      "cell_type": "markdown",
      "metadata": {
        "id": "gftJmPyqJ9Wl"
      },
      "source": [
        "####Categorising the various diverse sub types into broader categories as Residential and Commercial.\n",
        "* Defining a dictionary with the values and the dictated meanings, as 1 stands for Commercial, 2 for Residential and 3 for None of them.\n",
        "*   Commercial for office, industrial, shop etc\n",
        "    Residential for flat, building etc"
      ]
    },
    {
      "cell_type": "markdown",
      "metadata": {
        "id": "pTGkKBe9KfKZ"
      },
      "source": [
        "###### Defining a function to pass each row value and replace them into the category values as 1, 2 or 3."
      ]
    },
    {
      "cell_type": "code",
      "metadata": {
        "id": "cw56sw77JFgk"
      },
      "source": [
        "propertygroups = {1: \"Commercial\",\n",
        "                  2: \"Residential\",\n",
        "                  3: \"None\"\n",
        "                   }\n",
        "def propgroup(property_sub):\n",
        "    if property_sub is 42:\n",
        "       return \"1\"\n",
        "    elif property_sub == 65: #industrial\n",
        "       return \"1\"\n",
        "    elif property_sub == 23: #shop\n",
        "       return \"1\"\n",
        "    elif property_sub == 17: #shopping mall\n",
        "       return \"1\"\n",
        "    elif property_sub == 4: #villa\n",
        "       return \"2\"\n",
        "    elif property_sub == 3: #unit\n",
        "       return \"2\"\n",
        "    elif property_sub == 63: #residential \n",
        "       return \"2\"\n",
        "    elif property_sub == 38: #residential flat \n",
        "       return \"2\"\n",
        "    elif property_sub == 60: #flat\n",
        "       return \"2\"\n",
        "    elif property_sub == 101: #hotel apartment\n",
        "       return \"2\"\n",
        "    else:\n",
        "       return \"3\"\n",
        "  "
      ],
      "execution_count": null,
      "outputs": []
    },
    {
      "cell_type": "code",
      "metadata": {
        "id": "ATltRS3HKMXc"
      },
      "source": [
        "actualvDf['property_category']= actualvDf['property_sub_type_id'].apply(propgroup)"
      ],
      "execution_count": null,
      "outputs": []
    },
    {
      "cell_type": "code",
      "metadata": {
        "colab": {
          "base_uri": "https://localhost:8080/",
          "height": 632
        },
        "id": "oCCOGNrBMyLD",
        "outputId": "88a4b139-48d0-4367-8856-47958ca6bf3e"
      },
      "source": [
        "actualvDf.tail(15)"
      ],
      "execution_count": null,
      "outputs": [
        {
          "output_type": "execute_result",
          "data": {
            "text/html": [
              "<div>\n",
              "<style scoped>\n",
              "    .dataframe tbody tr th:only-of-type {\n",
              "        vertical-align: middle;\n",
              "    }\n",
              "\n",
              "    .dataframe tbody tr th {\n",
              "        vertical-align: top;\n",
              "    }\n",
              "\n",
              "    .dataframe thead th {\n",
              "        text-align: right;\n",
              "    }\n",
              "</style>\n",
              "<table border=\"1\" class=\"dataframe\">\n",
              "  <thead>\n",
              "    <tr style=\"text-align: right;\">\n",
              "      <th></th>\n",
              "      <th>procedure_year</th>\n",
              "      <th>procedure_number</th>\n",
              "      <th>instance_date</th>\n",
              "      <th>procedure_area</th>\n",
              "      <th>property_type_id</th>\n",
              "      <th>property_sub_type_id</th>\n",
              "      <th>property_sub_type_en</th>\n",
              "      <th>area_id</th>\n",
              "      <th>area_name_en</th>\n",
              "      <th>actual_area</th>\n",
              "      <th>property_total_value</th>\n",
              "      <th>row_status</th>\n",
              "      <th>property_category</th>\n",
              "    </tr>\n",
              "  </thead>\n",
              "  <tbody>\n",
              "    <tr>\n",
              "      <th>59363</th>\n",
              "      <td>2021</td>\n",
              "      <td>2406</td>\n",
              "      <td>20-06-2021</td>\n",
              "      <td>87.02</td>\n",
              "      <td>3</td>\n",
              "      <td>60.0</td>\n",
              "      <td>Flat</td>\n",
              "      <td>507.0</td>\n",
              "      <td>Al Yelayiss 2</td>\n",
              "      <td>87.02</td>\n",
              "      <td>6.632820e+05</td>\n",
              "      <td>1</td>\n",
              "      <td>2</td>\n",
              "    </tr>\n",
              "    <tr>\n",
              "      <th>59364</th>\n",
              "      <td>2021</td>\n",
              "      <td>2407</td>\n",
              "      <td>20-06-2021</td>\n",
              "      <td>58.61</td>\n",
              "      <td>3</td>\n",
              "      <td>60.0</td>\n",
              "      <td>Flat</td>\n",
              "      <td>442.0</td>\n",
              "      <td>Al Barsha South Fifth</td>\n",
              "      <td>58.61</td>\n",
              "      <td>5.668991e+05</td>\n",
              "      <td>1</td>\n",
              "      <td>2</td>\n",
              "    </tr>\n",
              "    <tr>\n",
              "      <th>59367</th>\n",
              "      <td>2021</td>\n",
              "      <td>2498</td>\n",
              "      <td>24-06-2021</td>\n",
              "      <td>647.26</td>\n",
              "      <td>1</td>\n",
              "      <td>63.0</td>\n",
              "      <td>Residential</td>\n",
              "      <td>382.0</td>\n",
              "      <td>Al Waheda</td>\n",
              "      <td>647.26</td>\n",
              "      <td>6.967000e+03</td>\n",
              "      <td>2</td>\n",
              "      <td>2</td>\n",
              "    </tr>\n",
              "    <tr>\n",
              "      <th>59368</th>\n",
              "      <td>2021</td>\n",
              "      <td>2499</td>\n",
              "      <td>24-06-2021</td>\n",
              "      <td>23109.90</td>\n",
              "      <td>1</td>\n",
              "      <td>63.0</td>\n",
              "      <td>Residential</td>\n",
              "      <td>396.0</td>\n",
              "      <td>Al Khawaneej First</td>\n",
              "      <td>23109.90</td>\n",
              "      <td>0.000000e+00</td>\n",
              "      <td>2</td>\n",
              "      <td>2</td>\n",
              "    </tr>\n",
              "    <tr>\n",
              "      <th>59369</th>\n",
              "      <td>2021</td>\n",
              "      <td>2163</td>\n",
              "      <td>03-06-2021</td>\n",
              "      <td>1557.28</td>\n",
              "      <td>1</td>\n",
              "      <td>63.0</td>\n",
              "      <td>Residential</td>\n",
              "      <td>412.0</td>\n",
              "      <td>Al Merkadh</td>\n",
              "      <td>1557.28</td>\n",
              "      <td>1.676241e+07</td>\n",
              "      <td>1</td>\n",
              "      <td>2</td>\n",
              "    </tr>\n",
              "    <tr>\n",
              "      <th>59373</th>\n",
              "      <td>2021</td>\n",
              "      <td>2167</td>\n",
              "      <td>03-06-2021</td>\n",
              "      <td>230.70</td>\n",
              "      <td>3</td>\n",
              "      <td>42.0</td>\n",
              "      <td>Office</td>\n",
              "      <td>350.0</td>\n",
              "      <td>Al Thanyah Fifth</td>\n",
              "      <td>230.70</td>\n",
              "      <td>1.607872e+06</td>\n",
              "      <td>1</td>\n",
              "      <td>3</td>\n",
              "    </tr>\n",
              "    <tr>\n",
              "      <th>59374</th>\n",
              "      <td>2021</td>\n",
              "      <td>2168</td>\n",
              "      <td>03-06-2021</td>\n",
              "      <td>1263.48</td>\n",
              "      <td>1</td>\n",
              "      <td>63.0</td>\n",
              "      <td>Residential</td>\n",
              "      <td>303.0</td>\n",
              "      <td>Um Suqaim First</td>\n",
              "      <td>1263.48</td>\n",
              "      <td>7.500000e+06</td>\n",
              "      <td>1</td>\n",
              "      <td>2</td>\n",
              "    </tr>\n",
              "    <tr>\n",
              "      <th>59376</th>\n",
              "      <td>2021</td>\n",
              "      <td>2170</td>\n",
              "      <td>03-06-2021</td>\n",
              "      <td>1393.55</td>\n",
              "      <td>1</td>\n",
              "      <td>63.0</td>\n",
              "      <td>Residential</td>\n",
              "      <td>359.0</td>\n",
              "      <td>Al Twar Third</td>\n",
              "      <td>1393.55</td>\n",
              "      <td>3.500000e+06</td>\n",
              "      <td>1</td>\n",
              "      <td>2</td>\n",
              "    </tr>\n",
              "    <tr>\n",
              "      <th>59380</th>\n",
              "      <td>2021</td>\n",
              "      <td>2176</td>\n",
              "      <td>03-06-2021</td>\n",
              "      <td>76.83</td>\n",
              "      <td>3</td>\n",
              "      <td>60.0</td>\n",
              "      <td>Flat</td>\n",
              "      <td>484.0</td>\n",
              "      <td>Nadd Hessa</td>\n",
              "      <td>76.83</td>\n",
              "      <td>5.154589e+05</td>\n",
              "      <td>1</td>\n",
              "      <td>2</td>\n",
              "    </tr>\n",
              "    <tr>\n",
              "      <th>59381</th>\n",
              "      <td>2021</td>\n",
              "      <td>2177</td>\n",
              "      <td>03-06-2021</td>\n",
              "      <td>2197513.72</td>\n",
              "      <td>1</td>\n",
              "      <td>63.0</td>\n",
              "      <td>Residential</td>\n",
              "      <td>451.0</td>\n",
              "      <td>Al Hebiah Fifth</td>\n",
              "      <td>2197513.72</td>\n",
              "      <td>1.300960e+09</td>\n",
              "      <td>1</td>\n",
              "      <td>2</td>\n",
              "    </tr>\n",
              "    <tr>\n",
              "      <th>59382</th>\n",
              "      <td>2021</td>\n",
              "      <td>2178</td>\n",
              "      <td>03-06-2021</td>\n",
              "      <td>1532649.60</td>\n",
              "      <td>1</td>\n",
              "      <td>63.0</td>\n",
              "      <td>Residential</td>\n",
              "      <td>451.0</td>\n",
              "      <td>Al Hebiah Fifth</td>\n",
              "      <td>1532649.60</td>\n",
              "      <td>9.568426e+08</td>\n",
              "      <td>1</td>\n",
              "      <td>2</td>\n",
              "    </tr>\n",
              "    <tr>\n",
              "      <th>59383</th>\n",
              "      <td>2021</td>\n",
              "      <td>2181</td>\n",
              "      <td>06-06-2021</td>\n",
              "      <td>795.25</td>\n",
              "      <td>1</td>\n",
              "      <td>63.0</td>\n",
              "      <td>Residential</td>\n",
              "      <td>375.0</td>\n",
              "      <td>Jumeirah Second</td>\n",
              "      <td>795.25</td>\n",
              "      <td>5.991994e+06</td>\n",
              "      <td>1</td>\n",
              "      <td>2</td>\n",
              "    </tr>\n",
              "    <tr>\n",
              "      <th>59384</th>\n",
              "      <td>2021</td>\n",
              "      <td>2182</td>\n",
              "      <td>06-06-2021</td>\n",
              "      <td>929.03</td>\n",
              "      <td>1</td>\n",
              "      <td>NaN</td>\n",
              "      <td>NaN</td>\n",
              "      <td>497.0</td>\n",
              "      <td>Lehbab Second</td>\n",
              "      <td>929.03</td>\n",
              "      <td>2.005800e+06</td>\n",
              "      <td>3</td>\n",
              "      <td>3</td>\n",
              "    </tr>\n",
              "    <tr>\n",
              "      <th>59385</th>\n",
              "      <td>2021</td>\n",
              "      <td>2183</td>\n",
              "      <td>06-06-2021</td>\n",
              "      <td>225.40</td>\n",
              "      <td>2</td>\n",
              "      <td>4.0</td>\n",
              "      <td>Villa</td>\n",
              "      <td>445.0</td>\n",
              "      <td>Jabal Ali First</td>\n",
              "      <td>225.40</td>\n",
              "      <td>2.139200e+06</td>\n",
              "      <td>1</td>\n",
              "      <td>2</td>\n",
              "    </tr>\n",
              "    <tr>\n",
              "      <th>59387</th>\n",
              "      <td>2021</td>\n",
              "      <td>2185</td>\n",
              "      <td>06-06-2021</td>\n",
              "      <td>68.66</td>\n",
              "      <td>3</td>\n",
              "      <td>60.0</td>\n",
              "      <td>Flat</td>\n",
              "      <td>526.0</td>\n",
              "      <td>Business Bay</td>\n",
              "      <td>68.66</td>\n",
              "      <td>7.271656e+05</td>\n",
              "      <td>1</td>\n",
              "      <td>2</td>\n",
              "    </tr>\n",
              "  </tbody>\n",
              "</table>\n",
              "</div>"
            ],
            "text/plain": [
              "       procedure_year  procedure_number  ... row_status  property_category\n",
              "59363            2021              2406  ...          1                  2\n",
              "59364            2021              2407  ...          1                  2\n",
              "59367            2021              2498  ...          2                  2\n",
              "59368            2021              2499  ...          2                  2\n",
              "59369            2021              2163  ...          1                  2\n",
              "59373            2021              2167  ...          1                  3\n",
              "59374            2021              2168  ...          1                  2\n",
              "59376            2021              2170  ...          1                  2\n",
              "59380            2021              2176  ...          1                  2\n",
              "59381            2021              2177  ...          1                  2\n",
              "59382            2021              2178  ...          1                  2\n",
              "59383            2021              2181  ...          1                  2\n",
              "59384            2021              2182  ...          3                  3\n",
              "59385            2021              2183  ...          1                  2\n",
              "59387            2021              2185  ...          1                  2\n",
              "\n",
              "[15 rows x 13 columns]"
            ]
          },
          "metadata": {
            "tags": []
          },
          "execution_count": 22
        }
      ]
    },
    {
      "cell_type": "markdown",
      "metadata": {
        "id": "26wwF5t8K4GV"
      },
      "source": [
        "##### Dropping the property_sub_type_en column as it has been used to categorise into property_categories"
      ]
    },
    {
      "cell_type": "code",
      "metadata": {
        "id": "0EkVIxjBItu3"
      },
      "source": [
        "actualvDf=actualvDf.drop(['property_sub_type_en', 'property_sub_type_id'],axis=1)\n"
      ],
      "execution_count": null,
      "outputs": []
    },
    {
      "cell_type": "code",
      "metadata": {
        "colab": {
          "base_uri": "https://localhost:8080/",
          "height": 290
        },
        "id": "TJ7y_9mcNjlk",
        "outputId": "f644e797-8aaf-4fc0-9e56-59e5ef8166cc"
      },
      "source": [
        "actualvDf.head()"
      ],
      "execution_count": null,
      "outputs": [
        {
          "output_type": "execute_result",
          "data": {
            "text/html": [
              "<div>\n",
              "<style scoped>\n",
              "    .dataframe tbody tr th:only-of-type {\n",
              "        vertical-align: middle;\n",
              "    }\n",
              "\n",
              "    .dataframe tbody tr th {\n",
              "        vertical-align: top;\n",
              "    }\n",
              "\n",
              "    .dataframe thead th {\n",
              "        text-align: right;\n",
              "    }\n",
              "</style>\n",
              "<table border=\"1\" class=\"dataframe\">\n",
              "  <thead>\n",
              "    <tr style=\"text-align: right;\">\n",
              "      <th></th>\n",
              "      <th>procedure_year</th>\n",
              "      <th>procedure_number</th>\n",
              "      <th>instance_date</th>\n",
              "      <th>procedure_area</th>\n",
              "      <th>property_type_id</th>\n",
              "      <th>area_id</th>\n",
              "      <th>area_name_en</th>\n",
              "      <th>actual_area</th>\n",
              "      <th>property_total_value</th>\n",
              "      <th>row_status</th>\n",
              "      <th>property_category</th>\n",
              "    </tr>\n",
              "  </thead>\n",
              "  <tbody>\n",
              "    <tr>\n",
              "      <th>1</th>\n",
              "      <td>2001</td>\n",
              "      <td>259</td>\n",
              "      <td>23-10-2001</td>\n",
              "      <td>1159.24</td>\n",
              "      <td>1</td>\n",
              "      <td>318.0</td>\n",
              "      <td>Jumeirah Third</td>\n",
              "      <td>1159.24</td>\n",
              "      <td>NaN</td>\n",
              "      <td>1</td>\n",
              "      <td>2</td>\n",
              "    </tr>\n",
              "    <tr>\n",
              "      <th>4</th>\n",
              "      <td>2006</td>\n",
              "      <td>272</td>\n",
              "      <td>22-03-2006</td>\n",
              "      <td>1393.55</td>\n",
              "      <td>1</td>\n",
              "      <td>369.0</td>\n",
              "      <td>Al Barsha Third</td>\n",
              "      <td>1393.55</td>\n",
              "      <td>3000000.0</td>\n",
              "      <td>1</td>\n",
              "      <td>2</td>\n",
              "    </tr>\n",
              "    <tr>\n",
              "      <th>5</th>\n",
              "      <td>2005</td>\n",
              "      <td>275</td>\n",
              "      <td>08-05-2005</td>\n",
              "      <td>4869.60</td>\n",
              "      <td>1</td>\n",
              "      <td>378.0</td>\n",
              "      <td>Al Garhoud</td>\n",
              "      <td>4869.60</td>\n",
              "      <td>26208000.0</td>\n",
              "      <td>1</td>\n",
              "      <td>1</td>\n",
              "    </tr>\n",
              "    <tr>\n",
              "      <th>8</th>\n",
              "      <td>2005</td>\n",
              "      <td>285</td>\n",
              "      <td>09-05-2005</td>\n",
              "      <td>1393.55</td>\n",
              "      <td>1</td>\n",
              "      <td>393.0</td>\n",
              "      <td>Al Barsha Second</td>\n",
              "      <td>1393.55</td>\n",
              "      <td>2170000.0</td>\n",
              "      <td>1</td>\n",
              "      <td>2</td>\n",
              "    </tr>\n",
              "    <tr>\n",
              "      <th>9</th>\n",
              "      <td>2006</td>\n",
              "      <td>285</td>\n",
              "      <td>28-03-2006</td>\n",
              "      <td>1393.55</td>\n",
              "      <td>1</td>\n",
              "      <td>314.0</td>\n",
              "      <td>Al Saffa Second</td>\n",
              "      <td>1393.55</td>\n",
              "      <td>4500000.0</td>\n",
              "      <td>1</td>\n",
              "      <td>2</td>\n",
              "    </tr>\n",
              "  </tbody>\n",
              "</table>\n",
              "</div>"
            ],
            "text/plain": [
              "   procedure_year  procedure_number  ... row_status  property_category\n",
              "1            2001               259  ...          1                  2\n",
              "4            2006               272  ...          1                  2\n",
              "5            2005               275  ...          1                  1\n",
              "8            2005               285  ...          1                  2\n",
              "9            2006               285  ...          1                  2\n",
              "\n",
              "[5 rows x 11 columns]"
            ]
          },
          "metadata": {
            "tags": []
          },
          "execution_count": 24
        }
      ]
    },
    {
      "cell_type": "code",
      "metadata": {
        "colab": {
          "base_uri": "https://localhost:8080/"
        },
        "id": "US2PuV_6No79",
        "outputId": "3371a703-f443-4e07-8558-175ac3e35524"
      },
      "source": [
        "actualvDf.shape"
      ],
      "execution_count": null,
      "outputs": [
        {
          "output_type": "execute_result",
          "data": {
            "text/plain": [
              "(40300, 11)"
            ]
          },
          "metadata": {
            "tags": []
          },
          "execution_count": 25
        }
      ]
    },
    {
      "cell_type": "markdown",
      "metadata": {
        "id": "9BS3AUnBbysJ"
      },
      "source": [
        "###Area_id and Area_name_en\n",
        "* Copying over the original dataframe to a new one, and keeping only area related fields to create a reference for the areas and their area Ids."
      ]
    },
    {
      "cell_type": "code",
      "metadata": {
        "colab": {
          "base_uri": "https://localhost:8080/",
          "height": 203
        },
        "id": "pa-Wg7hYDBIk",
        "outputId": "6a344f52-23c7-40c3-a97d-203f87744374"
      },
      "source": [
        "\n",
        "areaDf=actualvDf\n",
        "areaDf = areaDf.drop(['procedure_year','procedure_number','instance_date','property_type_id','procedure_area','actual_area','property_total_value','row_status','property_category'],axis=1)\n",
        "areaDf.head()"
      ],
      "execution_count": null,
      "outputs": [
        {
          "output_type": "execute_result",
          "data": {
            "text/html": [
              "<div>\n",
              "<style scoped>\n",
              "    .dataframe tbody tr th:only-of-type {\n",
              "        vertical-align: middle;\n",
              "    }\n",
              "\n",
              "    .dataframe tbody tr th {\n",
              "        vertical-align: top;\n",
              "    }\n",
              "\n",
              "    .dataframe thead th {\n",
              "        text-align: right;\n",
              "    }\n",
              "</style>\n",
              "<table border=\"1\" class=\"dataframe\">\n",
              "  <thead>\n",
              "    <tr style=\"text-align: right;\">\n",
              "      <th></th>\n",
              "      <th>area_id</th>\n",
              "      <th>area_name_en</th>\n",
              "    </tr>\n",
              "  </thead>\n",
              "  <tbody>\n",
              "    <tr>\n",
              "      <th>1</th>\n",
              "      <td>318.0</td>\n",
              "      <td>Jumeirah Third</td>\n",
              "    </tr>\n",
              "    <tr>\n",
              "      <th>4</th>\n",
              "      <td>369.0</td>\n",
              "      <td>Al Barsha Third</td>\n",
              "    </tr>\n",
              "    <tr>\n",
              "      <th>5</th>\n",
              "      <td>378.0</td>\n",
              "      <td>Al Garhoud</td>\n",
              "    </tr>\n",
              "    <tr>\n",
              "      <th>8</th>\n",
              "      <td>393.0</td>\n",
              "      <td>Al Barsha Second</td>\n",
              "    </tr>\n",
              "    <tr>\n",
              "      <th>9</th>\n",
              "      <td>314.0</td>\n",
              "      <td>Al Saffa Second</td>\n",
              "    </tr>\n",
              "  </tbody>\n",
              "</table>\n",
              "</div>"
            ],
            "text/plain": [
              "   area_id      area_name_en\n",
              "1    318.0    Jumeirah Third\n",
              "4    369.0   Al Barsha Third\n",
              "5    378.0        Al Garhoud\n",
              "8    393.0  Al Barsha Second\n",
              "9    314.0   Al Saffa Second"
            ]
          },
          "metadata": {
            "tags": []
          },
          "execution_count": 26
        }
      ]
    },
    {
      "cell_type": "code",
      "metadata": {
        "colab": {
          "base_uri": "https://localhost:8080/"
        },
        "id": "LZ2kfwaMcaaF",
        "outputId": "787cbeaa-6104-496e-a62a-407815245e3b"
      },
      "source": [
        "areaDf.shape"
      ],
      "execution_count": null,
      "outputs": [
        {
          "output_type": "execute_result",
          "data": {
            "text/plain": [
              "(40300, 2)"
            ]
          },
          "metadata": {
            "tags": []
          },
          "execution_count": 27
        }
      ]
    },
    {
      "cell_type": "markdown",
      "metadata": {
        "id": "5UWAZmdSNY8y"
      },
      "source": [
        "#####Dropping duplicates to have a unique list of area names and their associated Ids"
      ]
    },
    {
      "cell_type": "code",
      "metadata": {
        "colab": {
          "base_uri": "https://localhost:8080/"
        },
        "id": "kgV7JtR_FnY4",
        "outputId": "8806c838-b179-44dd-90a5-9c66f6fe61d7"
      },
      "source": [
        "areaDf = areaDf.drop_duplicates()\n",
        "areaDf.shape"
      ],
      "execution_count": null,
      "outputs": [
        {
          "output_type": "execute_result",
          "data": {
            "text/plain": [
              "(201, 2)"
            ]
          },
          "metadata": {
            "tags": []
          },
          "execution_count": 28
        }
      ]
    },
    {
      "cell_type": "markdown",
      "metadata": {
        "id": "9jCie1eqNj1R"
      },
      "source": [
        "#####Sorting areas as per the area_id"
      ]
    },
    {
      "cell_type": "code",
      "metadata": {
        "id": "iYhYGVAqGr1K"
      },
      "source": [
        "areaDf = areaDf.sort_values(by=['area_id'])"
      ],
      "execution_count": null,
      "outputs": []
    },
    {
      "cell_type": "code",
      "metadata": {
        "colab": {
          "base_uri": "https://localhost:8080/"
        },
        "id": "OMqhBx4rGCVT",
        "outputId": "d23614d3-645a-418a-b434-b33136c5c7af"
      },
      "source": [
        "areaDf.head(15)"
      ],
      "execution_count": null,
      "outputs": [
        {
          "output_type": "execute_result",
          "data": {
            "text/html": [
              "<div>\n",
              "<style scoped>\n",
              "    .dataframe tbody tr th:only-of-type {\n",
              "        vertical-align: middle;\n",
              "    }\n",
              "\n",
              "    .dataframe tbody tr th {\n",
              "        vertical-align: top;\n",
              "    }\n",
              "\n",
              "    .dataframe thead th {\n",
              "        text-align: right;\n",
              "    }\n",
              "</style>\n",
              "<table border=\"1\" class=\"dataframe\">\n",
              "  <thead>\n",
              "    <tr style=\"text-align: right;\">\n",
              "      <th></th>\n",
              "      <th>area_id</th>\n",
              "      <th>area_name_en</th>\n",
              "    </tr>\n",
              "  </thead>\n",
              "  <tbody>\n",
              "    <tr>\n",
              "      <th>25</th>\n",
              "      <td>230.0</td>\n",
              "      <td>Abu Hail</td>\n",
              "    </tr>\n",
              "    <tr>\n",
              "      <th>112</th>\n",
              "      <td>231.0</td>\n",
              "      <td>Al Mamzer</td>\n",
              "    </tr>\n",
              "    <tr>\n",
              "      <th>28</th>\n",
              "      <td>232.0</td>\n",
              "      <td>Mirdif</td>\n",
              "    </tr>\n",
              "    <tr>\n",
              "      <th>13</th>\n",
              "      <td>233.0</td>\n",
              "      <td>Hor Al Anz</td>\n",
              "    </tr>\n",
              "    <tr>\n",
              "      <th>78</th>\n",
              "      <td>234.0</td>\n",
              "      <td>Hor Al Anz East</td>\n",
              "    </tr>\n",
              "    <tr>\n",
              "      <th>1979</th>\n",
              "      <td>235.0</td>\n",
              "      <td>Eyal Nasser</td>\n",
              "    </tr>\n",
              "    <tr>\n",
              "      <th>13286</th>\n",
              "      <td>237.0</td>\n",
              "      <td>Al Sabkha</td>\n",
              "    </tr>\n",
              "    <tr>\n",
              "      <th>949</th>\n",
              "      <td>238.0</td>\n",
              "      <td>Al Dhagaya</td>\n",
              "    </tr>\n",
              "    <tr>\n",
              "      <th>368</th>\n",
              "      <td>239.0</td>\n",
              "      <td>Al Baraha</td>\n",
              "    </tr>\n",
              "    <tr>\n",
              "      <th>774</th>\n",
              "      <td>240.0</td>\n",
              "      <td>Port Saeed</td>\n",
              "    </tr>\n",
              "    <tr>\n",
              "      <th>1171</th>\n",
              "      <td>242.0</td>\n",
              "      <td>Al Ras</td>\n",
              "    </tr>\n",
              "    <tr>\n",
              "      <th>76</th>\n",
              "      <td>244.0</td>\n",
              "      <td>Al Murqabat</td>\n",
              "    </tr>\n",
              "    <tr>\n",
              "      <th>37</th>\n",
              "      <td>247.0</td>\n",
              "      <td>Al Khabeesi</td>\n",
              "    </tr>\n",
              "    <tr>\n",
              "      <th>457</th>\n",
              "      <td>248.0</td>\n",
              "      <td>Um Ramool</td>\n",
              "    </tr>\n",
              "    <tr>\n",
              "      <th>146</th>\n",
              "      <td>249.0</td>\n",
              "      <td>Al Muteena</td>\n",
              "    </tr>\n",
              "  </tbody>\n",
              "</table>\n",
              "</div>"
            ],
            "text/plain": [
              "       area_id     area_name_en\n",
              "25       230.0         Abu Hail\n",
              "112      231.0        Al Mamzer\n",
              "28       232.0           Mirdif\n",
              "13       233.0       Hor Al Anz\n",
              "78       234.0  Hor Al Anz East\n",
              "1979     235.0      Eyal Nasser\n",
              "13286    237.0        Al Sabkha\n",
              "949      238.0       Al Dhagaya\n",
              "368      239.0        Al Baraha\n",
              "774      240.0       Port Saeed\n",
              "1171     242.0           Al Ras\n",
              "76       244.0      Al Murqabat\n",
              "37       247.0      Al Khabeesi\n",
              "457      248.0        Um Ramool\n",
              "146      249.0       Al Muteena"
            ]
          },
          "metadata": {
            "tags": []
          },
          "execution_count": 30
        }
      ]
    },
    {
      "cell_type": "markdown",
      "metadata": {
        "id": "E_doZ5ygOZOQ"
      },
      "source": [
        "#####Dropping area_name_en from original DF as we have stored the area_id and corresponding names in a new DF areaDf, for future reference"
      ]
    },
    {
      "cell_type": "code",
      "metadata": {
        "id": "pUFW__PdICIZ"
      },
      "source": [
        "actualvDf=actualvDf.drop(['area_name_en'],axis=1)\n"
      ],
      "execution_count": null,
      "outputs": []
    },
    {
      "cell_type": "code",
      "metadata": {
        "colab": {
          "base_uri": "https://localhost:8080/"
        },
        "id": "XBY1cavUH5WC",
        "outputId": "37bd9644-2113-4084-8542-e7172df1df1b"
      },
      "source": [
        "actualvDf.head()"
      ],
      "execution_count": null,
      "outputs": [
        {
          "output_type": "execute_result",
          "data": {
            "text/html": [
              "<div>\n",
              "<style scoped>\n",
              "    .dataframe tbody tr th:only-of-type {\n",
              "        vertical-align: middle;\n",
              "    }\n",
              "\n",
              "    .dataframe tbody tr th {\n",
              "        vertical-align: top;\n",
              "    }\n",
              "\n",
              "    .dataframe thead th {\n",
              "        text-align: right;\n",
              "    }\n",
              "</style>\n",
              "<table border=\"1\" class=\"dataframe\">\n",
              "  <thead>\n",
              "    <tr style=\"text-align: right;\">\n",
              "      <th></th>\n",
              "      <th>procedure_year</th>\n",
              "      <th>procedure_number</th>\n",
              "      <th>instance_date</th>\n",
              "      <th>procedure_area</th>\n",
              "      <th>property_type_id</th>\n",
              "      <th>area_id</th>\n",
              "      <th>actual_area</th>\n",
              "      <th>property_total_value</th>\n",
              "      <th>row_status</th>\n",
              "      <th>property_category</th>\n",
              "    </tr>\n",
              "  </thead>\n",
              "  <tbody>\n",
              "    <tr>\n",
              "      <th>1</th>\n",
              "      <td>2001</td>\n",
              "      <td>259</td>\n",
              "      <td>23-10-2001</td>\n",
              "      <td>1159.24</td>\n",
              "      <td>1</td>\n",
              "      <td>318.0</td>\n",
              "      <td>1159.24</td>\n",
              "      <td>NaN</td>\n",
              "      <td>1</td>\n",
              "      <td>2</td>\n",
              "    </tr>\n",
              "    <tr>\n",
              "      <th>4</th>\n",
              "      <td>2006</td>\n",
              "      <td>272</td>\n",
              "      <td>22-03-2006</td>\n",
              "      <td>1393.55</td>\n",
              "      <td>1</td>\n",
              "      <td>369.0</td>\n",
              "      <td>1393.55</td>\n",
              "      <td>3000000.0</td>\n",
              "      <td>1</td>\n",
              "      <td>2</td>\n",
              "    </tr>\n",
              "    <tr>\n",
              "      <th>5</th>\n",
              "      <td>2005</td>\n",
              "      <td>275</td>\n",
              "      <td>08-05-2005</td>\n",
              "      <td>4869.60</td>\n",
              "      <td>1</td>\n",
              "      <td>378.0</td>\n",
              "      <td>4869.60</td>\n",
              "      <td>26208000.0</td>\n",
              "      <td>1</td>\n",
              "      <td>1</td>\n",
              "    </tr>\n",
              "    <tr>\n",
              "      <th>8</th>\n",
              "      <td>2005</td>\n",
              "      <td>285</td>\n",
              "      <td>09-05-2005</td>\n",
              "      <td>1393.55</td>\n",
              "      <td>1</td>\n",
              "      <td>393.0</td>\n",
              "      <td>1393.55</td>\n",
              "      <td>2170000.0</td>\n",
              "      <td>1</td>\n",
              "      <td>2</td>\n",
              "    </tr>\n",
              "    <tr>\n",
              "      <th>9</th>\n",
              "      <td>2006</td>\n",
              "      <td>285</td>\n",
              "      <td>28-03-2006</td>\n",
              "      <td>1393.55</td>\n",
              "      <td>1</td>\n",
              "      <td>314.0</td>\n",
              "      <td>1393.55</td>\n",
              "      <td>4500000.0</td>\n",
              "      <td>1</td>\n",
              "      <td>2</td>\n",
              "    </tr>\n",
              "  </tbody>\n",
              "</table>\n",
              "</div>"
            ],
            "text/plain": [
              "   procedure_year  procedure_number  ... row_status  property_category\n",
              "1            2001               259  ...          1                  2\n",
              "4            2006               272  ...          1                  2\n",
              "5            2005               275  ...          1                  1\n",
              "8            2005               285  ...          1                  2\n",
              "9            2006               285  ...          1                  2\n",
              "\n",
              "[5 rows x 10 columns]"
            ]
          },
          "metadata": {
            "tags": []
          },
          "execution_count": 32
        }
      ]
    },
    {
      "cell_type": "markdown",
      "metadata": {
        "id": "7u3-lMS8eI3d"
      },
      "source": [
        "###Procedure_area and Actual_area\n",
        "* The coreraltion value 0.822938 indicates strong correlation between the two columns so we can remove one of them for minimizing dimensions of the data."
      ]
    },
    {
      "cell_type": "code",
      "metadata": {
        "colab": {
          "base_uri": "https://localhost:8080/"
        },
        "id": "_yB7Y8HkOxQF",
        "outputId": "604f2294-abc5-4b57-d460-dcdc3437edd7"
      },
      "source": [
        "actualvDf.head()"
      ],
      "execution_count": null,
      "outputs": [
        {
          "output_type": "execute_result",
          "data": {
            "text/html": [
              "<div>\n",
              "<style scoped>\n",
              "    .dataframe tbody tr th:only-of-type {\n",
              "        vertical-align: middle;\n",
              "    }\n",
              "\n",
              "    .dataframe tbody tr th {\n",
              "        vertical-align: top;\n",
              "    }\n",
              "\n",
              "    .dataframe thead th {\n",
              "        text-align: right;\n",
              "    }\n",
              "</style>\n",
              "<table border=\"1\" class=\"dataframe\">\n",
              "  <thead>\n",
              "    <tr style=\"text-align: right;\">\n",
              "      <th></th>\n",
              "      <th>procedure_year</th>\n",
              "      <th>procedure_number</th>\n",
              "      <th>instance_date</th>\n",
              "      <th>procedure_area</th>\n",
              "      <th>property_type_id</th>\n",
              "      <th>area_id</th>\n",
              "      <th>actual_area</th>\n",
              "      <th>property_total_value</th>\n",
              "      <th>row_status</th>\n",
              "      <th>property_category</th>\n",
              "    </tr>\n",
              "  </thead>\n",
              "  <tbody>\n",
              "    <tr>\n",
              "      <th>1</th>\n",
              "      <td>2001</td>\n",
              "      <td>259</td>\n",
              "      <td>23-10-2001</td>\n",
              "      <td>1159.24</td>\n",
              "      <td>1</td>\n",
              "      <td>318.0</td>\n",
              "      <td>1159.24</td>\n",
              "      <td>NaN</td>\n",
              "      <td>1</td>\n",
              "      <td>2</td>\n",
              "    </tr>\n",
              "    <tr>\n",
              "      <th>4</th>\n",
              "      <td>2006</td>\n",
              "      <td>272</td>\n",
              "      <td>22-03-2006</td>\n",
              "      <td>1393.55</td>\n",
              "      <td>1</td>\n",
              "      <td>369.0</td>\n",
              "      <td>1393.55</td>\n",
              "      <td>3000000.0</td>\n",
              "      <td>1</td>\n",
              "      <td>2</td>\n",
              "    </tr>\n",
              "    <tr>\n",
              "      <th>5</th>\n",
              "      <td>2005</td>\n",
              "      <td>275</td>\n",
              "      <td>08-05-2005</td>\n",
              "      <td>4869.60</td>\n",
              "      <td>1</td>\n",
              "      <td>378.0</td>\n",
              "      <td>4869.60</td>\n",
              "      <td>26208000.0</td>\n",
              "      <td>1</td>\n",
              "      <td>1</td>\n",
              "    </tr>\n",
              "    <tr>\n",
              "      <th>8</th>\n",
              "      <td>2005</td>\n",
              "      <td>285</td>\n",
              "      <td>09-05-2005</td>\n",
              "      <td>1393.55</td>\n",
              "      <td>1</td>\n",
              "      <td>393.0</td>\n",
              "      <td>1393.55</td>\n",
              "      <td>2170000.0</td>\n",
              "      <td>1</td>\n",
              "      <td>2</td>\n",
              "    </tr>\n",
              "    <tr>\n",
              "      <th>9</th>\n",
              "      <td>2006</td>\n",
              "      <td>285</td>\n",
              "      <td>28-03-2006</td>\n",
              "      <td>1393.55</td>\n",
              "      <td>1</td>\n",
              "      <td>314.0</td>\n",
              "      <td>1393.55</td>\n",
              "      <td>4500000.0</td>\n",
              "      <td>1</td>\n",
              "      <td>2</td>\n",
              "    </tr>\n",
              "  </tbody>\n",
              "</table>\n",
              "</div>"
            ],
            "text/plain": [
              "   procedure_year  procedure_number  ... row_status  property_category\n",
              "1            2001               259  ...          1                  2\n",
              "4            2006               272  ...          1                  2\n",
              "5            2005               275  ...          1                  1\n",
              "8            2005               285  ...          1                  2\n",
              "9            2006               285  ...          1                  2\n",
              "\n",
              "[5 rows x 10 columns]"
            ]
          },
          "metadata": {
            "tags": []
          },
          "execution_count": 33
        }
      ]
    },
    {
      "cell_type": "code",
      "metadata": {
        "id": "d_D5z0jGP7-c"
      },
      "source": [
        "actualvDf = actualvDf.drop(['actual_area'],axis=1)"
      ],
      "execution_count": null,
      "outputs": []
    },
    {
      "cell_type": "markdown",
      "metadata": {
        "id": "NWAx3im6f91c"
      },
      "source": [
        "###Instance_date and Procedure_year\n",
        "* The date columns can be tricky to deal with as they can be in different formats.\n",
        "* Formatting the instance Date and deducing the year and month of valuation, as the date itself is not relevant to the study.\n",
        "* Compare Procedure_year and year from instance date if they are correlated, and it one of them can be removed."
      ]
    },
    {
      "cell_type": "code",
      "metadata": {
        "id": "DYMIADLbTSgh"
      },
      "source": [
        "actualvDf['instance_date'] = pd.to_datetime(actualvDf.instance_date)\n",
        "\n",
        "actualvDf['Year'] = actualvDf['instance_date'].dt.year\n",
        "actualvDf['Month'] = actualvDf['instance_date'].dt.month\n"
      ],
      "execution_count": null,
      "outputs": []
    },
    {
      "cell_type": "code",
      "metadata": {
        "colab": {
          "base_uri": "https://localhost:8080/"
        },
        "id": "BXRfqCpqRBkO",
        "outputId": "b6a24750-305d-4913-a975-337504debccd"
      },
      "source": [
        "actualvDf.corr()"
      ],
      "execution_count": null,
      "outputs": [
        {
          "output_type": "execute_result",
          "data": {
            "text/html": [
              "<div>\n",
              "<style scoped>\n",
              "    .dataframe tbody tr th:only-of-type {\n",
              "        vertical-align: middle;\n",
              "    }\n",
              "\n",
              "    .dataframe tbody tr th {\n",
              "        vertical-align: top;\n",
              "    }\n",
              "\n",
              "    .dataframe thead th {\n",
              "        text-align: right;\n",
              "    }\n",
              "</style>\n",
              "<table border=\"1\" class=\"dataframe\">\n",
              "  <thead>\n",
              "    <tr style=\"text-align: right;\">\n",
              "      <th></th>\n",
              "      <th>procedure_year</th>\n",
              "      <th>procedure_number</th>\n",
              "      <th>procedure_area</th>\n",
              "      <th>property_type_id</th>\n",
              "      <th>area_id</th>\n",
              "      <th>property_total_value</th>\n",
              "      <th>Year</th>\n",
              "      <th>Month</th>\n",
              "    </tr>\n",
              "  </thead>\n",
              "  <tbody>\n",
              "    <tr>\n",
              "      <th>procedure_year</th>\n",
              "      <td>1.000000</td>\n",
              "      <td>0.339890</td>\n",
              "      <td>-0.000989</td>\n",
              "      <td>0.261397</td>\n",
              "      <td>0.294188</td>\n",
              "      <td>-0.002423</td>\n",
              "      <td>0.999945</td>\n",
              "      <td>-0.037424</td>\n",
              "    </tr>\n",
              "    <tr>\n",
              "      <th>procedure_number</th>\n",
              "      <td>0.339890</td>\n",
              "      <td>1.000000</td>\n",
              "      <td>-0.005191</td>\n",
              "      <td>0.170627</td>\n",
              "      <td>0.157232</td>\n",
              "      <td>-0.011070</td>\n",
              "      <td>0.339796</td>\n",
              "      <td>0.464757</td>\n",
              "    </tr>\n",
              "    <tr>\n",
              "      <th>procedure_area</th>\n",
              "      <td>-0.000989</td>\n",
              "      <td>-0.005191</td>\n",
              "      <td>1.000000</td>\n",
              "      <td>-0.032807</td>\n",
              "      <td>0.033261</td>\n",
              "      <td>0.305103</td>\n",
              "      <td>-0.000994</td>\n",
              "      <td>-0.003741</td>\n",
              "    </tr>\n",
              "    <tr>\n",
              "      <th>property_type_id</th>\n",
              "      <td>0.261397</td>\n",
              "      <td>0.170627</td>\n",
              "      <td>-0.032807</td>\n",
              "      <td>1.000000</td>\n",
              "      <td>0.287654</td>\n",
              "      <td>-0.117936</td>\n",
              "      <td>0.261257</td>\n",
              "      <td>0.016864</td>\n",
              "    </tr>\n",
              "    <tr>\n",
              "      <th>area_id</th>\n",
              "      <td>0.294188</td>\n",
              "      <td>0.157232</td>\n",
              "      <td>0.033261</td>\n",
              "      <td>0.287654</td>\n",
              "      <td>1.000000</td>\n",
              "      <td>0.009477</td>\n",
              "      <td>0.294172</td>\n",
              "      <td>0.022901</td>\n",
              "    </tr>\n",
              "    <tr>\n",
              "      <th>property_total_value</th>\n",
              "      <td>-0.002423</td>\n",
              "      <td>-0.011070</td>\n",
              "      <td>0.305103</td>\n",
              "      <td>-0.117936</td>\n",
              "      <td>0.009477</td>\n",
              "      <td>1.000000</td>\n",
              "      <td>-0.002457</td>\n",
              "      <td>-0.007073</td>\n",
              "    </tr>\n",
              "    <tr>\n",
              "      <th>Year</th>\n",
              "      <td>0.999945</td>\n",
              "      <td>0.339796</td>\n",
              "      <td>-0.000994</td>\n",
              "      <td>0.261257</td>\n",
              "      <td>0.294172</td>\n",
              "      <td>-0.002457</td>\n",
              "      <td>1.000000</td>\n",
              "      <td>-0.037595</td>\n",
              "    </tr>\n",
              "    <tr>\n",
              "      <th>Month</th>\n",
              "      <td>-0.037424</td>\n",
              "      <td>0.464757</td>\n",
              "      <td>-0.003741</td>\n",
              "      <td>0.016864</td>\n",
              "      <td>0.022901</td>\n",
              "      <td>-0.007073</td>\n",
              "      <td>-0.037595</td>\n",
              "      <td>1.000000</td>\n",
              "    </tr>\n",
              "  </tbody>\n",
              "</table>\n",
              "</div>"
            ],
            "text/plain": [
              "                      procedure_year  procedure_number  ...      Year     Month\n",
              "procedure_year              1.000000          0.339890  ...  0.999945 -0.037424\n",
              "procedure_number            0.339890          1.000000  ...  0.339796  0.464757\n",
              "procedure_area             -0.000989         -0.005191  ... -0.000994 -0.003741\n",
              "property_type_id            0.261397          0.170627  ...  0.261257  0.016864\n",
              "area_id                     0.294188          0.157232  ...  0.294172  0.022901\n",
              "property_total_value       -0.002423         -0.011070  ... -0.002457 -0.007073\n",
              "Year                        0.999945          0.339796  ...  1.000000 -0.037595\n",
              "Month                      -0.037424          0.464757  ... -0.037595  1.000000\n",
              "\n",
              "[8 rows x 8 columns]"
            ]
          },
          "metadata": {
            "tags": []
          },
          "execution_count": 36
        }
      ]
    },
    {
      "cell_type": "markdown",
      "metadata": {
        "id": "I_wZzwDYR6Qm"
      },
      "source": [
        "#####The correlation between Year and Procedure Year is 0.9999 which indicates very strong correlation and one of them can certainly be dropped."
      ]
    },
    {
      "cell_type": "code",
      "metadata": {
        "colab": {
          "base_uri": "https://localhost:8080/"
        },
        "id": "4vMUUhJRSKd4",
        "outputId": "4a136bde-88a3-4f73-f8b7-d3ff276a1cd1"
      },
      "source": [
        "actualvDf = actualvDf.drop(['procedure_year'],axis=1)\n",
        "actualvDf.head()"
      ],
      "execution_count": null,
      "outputs": [
        {
          "output_type": "execute_result",
          "data": {
            "text/html": [
              "<div>\n",
              "<style scoped>\n",
              "    .dataframe tbody tr th:only-of-type {\n",
              "        vertical-align: middle;\n",
              "    }\n",
              "\n",
              "    .dataframe tbody tr th {\n",
              "        vertical-align: top;\n",
              "    }\n",
              "\n",
              "    .dataframe thead th {\n",
              "        text-align: right;\n",
              "    }\n",
              "</style>\n",
              "<table border=\"1\" class=\"dataframe\">\n",
              "  <thead>\n",
              "    <tr style=\"text-align: right;\">\n",
              "      <th></th>\n",
              "      <th>procedure_number</th>\n",
              "      <th>instance_date</th>\n",
              "      <th>procedure_area</th>\n",
              "      <th>property_type_id</th>\n",
              "      <th>area_id</th>\n",
              "      <th>property_total_value</th>\n",
              "      <th>row_status</th>\n",
              "      <th>property_category</th>\n",
              "      <th>Year</th>\n",
              "      <th>Month</th>\n",
              "    </tr>\n",
              "  </thead>\n",
              "  <tbody>\n",
              "    <tr>\n",
              "      <th>1</th>\n",
              "      <td>259</td>\n",
              "      <td>2001-10-23</td>\n",
              "      <td>1159.24</td>\n",
              "      <td>1</td>\n",
              "      <td>318.0</td>\n",
              "      <td>NaN</td>\n",
              "      <td>1</td>\n",
              "      <td>2</td>\n",
              "      <td>2001</td>\n",
              "      <td>10</td>\n",
              "    </tr>\n",
              "    <tr>\n",
              "      <th>4</th>\n",
              "      <td>272</td>\n",
              "      <td>2006-03-22</td>\n",
              "      <td>1393.55</td>\n",
              "      <td>1</td>\n",
              "      <td>369.0</td>\n",
              "      <td>3000000.0</td>\n",
              "      <td>1</td>\n",
              "      <td>2</td>\n",
              "      <td>2006</td>\n",
              "      <td>3</td>\n",
              "    </tr>\n",
              "    <tr>\n",
              "      <th>5</th>\n",
              "      <td>275</td>\n",
              "      <td>2005-08-05</td>\n",
              "      <td>4869.60</td>\n",
              "      <td>1</td>\n",
              "      <td>378.0</td>\n",
              "      <td>26208000.0</td>\n",
              "      <td>1</td>\n",
              "      <td>1</td>\n",
              "      <td>2005</td>\n",
              "      <td>8</td>\n",
              "    </tr>\n",
              "    <tr>\n",
              "      <th>8</th>\n",
              "      <td>285</td>\n",
              "      <td>2005-09-05</td>\n",
              "      <td>1393.55</td>\n",
              "      <td>1</td>\n",
              "      <td>393.0</td>\n",
              "      <td>2170000.0</td>\n",
              "      <td>1</td>\n",
              "      <td>2</td>\n",
              "      <td>2005</td>\n",
              "      <td>9</td>\n",
              "    </tr>\n",
              "    <tr>\n",
              "      <th>9</th>\n",
              "      <td>285</td>\n",
              "      <td>2006-03-28</td>\n",
              "      <td>1393.55</td>\n",
              "      <td>1</td>\n",
              "      <td>314.0</td>\n",
              "      <td>4500000.0</td>\n",
              "      <td>1</td>\n",
              "      <td>2</td>\n",
              "      <td>2006</td>\n",
              "      <td>3</td>\n",
              "    </tr>\n",
              "  </tbody>\n",
              "</table>\n",
              "</div>"
            ],
            "text/plain": [
              "   procedure_number instance_date  ...  Year  Month\n",
              "1               259    2001-10-23  ...  2001     10\n",
              "4               272    2006-03-22  ...  2006      3\n",
              "5               275    2005-08-05  ...  2005      8\n",
              "8               285    2005-09-05  ...  2005      9\n",
              "9               285    2006-03-28  ...  2006      3\n",
              "\n",
              "[5 rows x 10 columns]"
            ]
          },
          "metadata": {
            "tags": []
          },
          "execution_count": 37
        }
      ]
    },
    {
      "cell_type": "markdown",
      "metadata": {
        "id": "R35rUvw8L5b6"
      },
      "source": [
        "###Reducing dimensions\n",
        "* Removing any column left which do not add any relevance to our study."
      ]
    },
    {
      "cell_type": "code",
      "metadata": {
        "id": "G_uEimixUWqP"
      },
      "source": [
        "actualvDf = actualvDf.drop(['instance_date'],axis=1)"
      ],
      "execution_count": null,
      "outputs": []
    },
    {
      "cell_type": "code",
      "metadata": {
        "id": "7EV9dRDaUT8z"
      },
      "source": [
        "df = actualvDf\n",
        "actualvDf = actualvDf.drop(['procedure_number'],axis=1)"
      ],
      "execution_count": null,
      "outputs": []
    },
    {
      "cell_type": "code",
      "metadata": {
        "colab": {
          "base_uri": "https://localhost:8080/"
        },
        "id": "5IhlFR1vVK09",
        "outputId": "ed6fb903-b5b9-45f8-b5e2-fd5b0a3af6ff"
      },
      "source": [
        "df.head()"
      ],
      "execution_count": null,
      "outputs": [
        {
          "output_type": "execute_result",
          "data": {
            "text/html": [
              "<div>\n",
              "<style scoped>\n",
              "    .dataframe tbody tr th:only-of-type {\n",
              "        vertical-align: middle;\n",
              "    }\n",
              "\n",
              "    .dataframe tbody tr th {\n",
              "        vertical-align: top;\n",
              "    }\n",
              "\n",
              "    .dataframe thead th {\n",
              "        text-align: right;\n",
              "    }\n",
              "</style>\n",
              "<table border=\"1\" class=\"dataframe\">\n",
              "  <thead>\n",
              "    <tr style=\"text-align: right;\">\n",
              "      <th></th>\n",
              "      <th>procedure_number</th>\n",
              "      <th>procedure_area</th>\n",
              "      <th>property_type_id</th>\n",
              "      <th>area_id</th>\n",
              "      <th>property_total_value</th>\n",
              "      <th>row_status</th>\n",
              "      <th>property_category</th>\n",
              "      <th>Year</th>\n",
              "      <th>Month</th>\n",
              "    </tr>\n",
              "  </thead>\n",
              "  <tbody>\n",
              "    <tr>\n",
              "      <th>1</th>\n",
              "      <td>259</td>\n",
              "      <td>1159.24</td>\n",
              "      <td>1</td>\n",
              "      <td>318.0</td>\n",
              "      <td>NaN</td>\n",
              "      <td>1</td>\n",
              "      <td>2</td>\n",
              "      <td>2001</td>\n",
              "      <td>10</td>\n",
              "    </tr>\n",
              "    <tr>\n",
              "      <th>4</th>\n",
              "      <td>272</td>\n",
              "      <td>1393.55</td>\n",
              "      <td>1</td>\n",
              "      <td>369.0</td>\n",
              "      <td>3000000.0</td>\n",
              "      <td>1</td>\n",
              "      <td>2</td>\n",
              "      <td>2006</td>\n",
              "      <td>3</td>\n",
              "    </tr>\n",
              "    <tr>\n",
              "      <th>5</th>\n",
              "      <td>275</td>\n",
              "      <td>4869.60</td>\n",
              "      <td>1</td>\n",
              "      <td>378.0</td>\n",
              "      <td>26208000.0</td>\n",
              "      <td>1</td>\n",
              "      <td>1</td>\n",
              "      <td>2005</td>\n",
              "      <td>8</td>\n",
              "    </tr>\n",
              "    <tr>\n",
              "      <th>8</th>\n",
              "      <td>285</td>\n",
              "      <td>1393.55</td>\n",
              "      <td>1</td>\n",
              "      <td>393.0</td>\n",
              "      <td>2170000.0</td>\n",
              "      <td>1</td>\n",
              "      <td>2</td>\n",
              "      <td>2005</td>\n",
              "      <td>9</td>\n",
              "    </tr>\n",
              "    <tr>\n",
              "      <th>9</th>\n",
              "      <td>285</td>\n",
              "      <td>1393.55</td>\n",
              "      <td>1</td>\n",
              "      <td>314.0</td>\n",
              "      <td>4500000.0</td>\n",
              "      <td>1</td>\n",
              "      <td>2</td>\n",
              "      <td>2006</td>\n",
              "      <td>3</td>\n",
              "    </tr>\n",
              "  </tbody>\n",
              "</table>\n",
              "</div>"
            ],
            "text/plain": [
              "   procedure_number  procedure_area  ...  Year  Month\n",
              "1               259         1159.24  ...  2001     10\n",
              "4               272         1393.55  ...  2006      3\n",
              "5               275         4869.60  ...  2005      8\n",
              "8               285         1393.55  ...  2005      9\n",
              "9               285         1393.55  ...  2006      3\n",
              "\n",
              "[5 rows x 9 columns]"
            ]
          },
          "metadata": {
            "tags": []
          },
          "execution_count": 40
        }
      ]
    },
    {
      "cell_type": "markdown",
      "metadata": {
        "id": "6LIx2qFfhCLf"
      },
      "source": [
        "###Dropping null values\n",
        "* Null values can create unnecessary complexities to the model so, we can drop the null values after cautious observation."
      ]
    },
    {
      "cell_type": "code",
      "metadata": {
        "colab": {
          "base_uri": "https://localhost:8080/"
        },
        "id": "54DH9ejCk7MS",
        "outputId": "e9498751-96e2-43d9-89e1-2a254286e799"
      },
      "source": [
        "actualvDf.shape"
      ],
      "execution_count": null,
      "outputs": [
        {
          "output_type": "execute_result",
          "data": {
            "text/plain": [
              "(40300, 8)"
            ]
          },
          "metadata": {
            "tags": []
          },
          "execution_count": 41
        }
      ]
    },
    {
      "cell_type": "code",
      "metadata": {
        "colab": {
          "base_uri": "https://localhost:8080/"
        },
        "id": "XoqPY5tRqdUT",
        "outputId": "b886ba39-20f1-45c2-e93f-7302dd4bb71e"
      },
      "source": [
        "actualvDf.isnull().sum()"
      ],
      "execution_count": null,
      "outputs": [
        {
          "output_type": "execute_result",
          "data": {
            "text/plain": [
              "procedure_area            6\n",
              "property_type_id          0\n",
              "area_id                   2\n",
              "property_total_value    418\n",
              "row_status                0\n",
              "property_category         0\n",
              "Year                      0\n",
              "Month                     0\n",
              "dtype: int64"
            ]
          },
          "metadata": {
            "tags": []
          },
          "execution_count": 42
        }
      ]
    },
    {
      "cell_type": "code",
      "metadata": {
        "id": "37AepgtUHJVX"
      },
      "source": [
        "actualvDf = actualvDf.dropna(axis=0)"
      ],
      "execution_count": null,
      "outputs": []
    },
    {
      "cell_type": "code",
      "metadata": {
        "colab": {
          "base_uri": "https://localhost:8080/"
        },
        "id": "woacb0lYlBRq",
        "outputId": "00b6505a-406b-4771-e35e-7e39c4875b37"
      },
      "source": [
        "actualvDf.shape"
      ],
      "execution_count": null,
      "outputs": [
        {
          "output_type": "execute_result",
          "data": {
            "text/plain": [
              "(39874, 8)"
            ]
          },
          "metadata": {
            "tags": []
          },
          "execution_count": 44
        }
      ]
    },
    {
      "cell_type": "code",
      "metadata": {
        "colab": {
          "base_uri": "https://localhost:8080/"
        },
        "id": "17oMAo8ChvAe",
        "outputId": "6e2fde08-8dc4-4812-949f-7cc7dbd6a183"
      },
      "source": [
        "actualvDf.head()"
      ],
      "execution_count": null,
      "outputs": [
        {
          "output_type": "execute_result",
          "data": {
            "text/html": [
              "<div>\n",
              "<style scoped>\n",
              "    .dataframe tbody tr th:only-of-type {\n",
              "        vertical-align: middle;\n",
              "    }\n",
              "\n",
              "    .dataframe tbody tr th {\n",
              "        vertical-align: top;\n",
              "    }\n",
              "\n",
              "    .dataframe thead th {\n",
              "        text-align: right;\n",
              "    }\n",
              "</style>\n",
              "<table border=\"1\" class=\"dataframe\">\n",
              "  <thead>\n",
              "    <tr style=\"text-align: right;\">\n",
              "      <th></th>\n",
              "      <th>procedure_area</th>\n",
              "      <th>property_type_id</th>\n",
              "      <th>area_id</th>\n",
              "      <th>property_total_value</th>\n",
              "      <th>row_status</th>\n",
              "      <th>property_category</th>\n",
              "      <th>Year</th>\n",
              "      <th>Month</th>\n",
              "    </tr>\n",
              "  </thead>\n",
              "  <tbody>\n",
              "    <tr>\n",
              "      <th>4</th>\n",
              "      <td>1393.55</td>\n",
              "      <td>1</td>\n",
              "      <td>369.0</td>\n",
              "      <td>3000000.0</td>\n",
              "      <td>1</td>\n",
              "      <td>2</td>\n",
              "      <td>2006</td>\n",
              "      <td>3</td>\n",
              "    </tr>\n",
              "    <tr>\n",
              "      <th>5</th>\n",
              "      <td>4869.60</td>\n",
              "      <td>1</td>\n",
              "      <td>378.0</td>\n",
              "      <td>26208000.0</td>\n",
              "      <td>1</td>\n",
              "      <td>1</td>\n",
              "      <td>2005</td>\n",
              "      <td>8</td>\n",
              "    </tr>\n",
              "    <tr>\n",
              "      <th>8</th>\n",
              "      <td>1393.55</td>\n",
              "      <td>1</td>\n",
              "      <td>393.0</td>\n",
              "      <td>2170000.0</td>\n",
              "      <td>1</td>\n",
              "      <td>2</td>\n",
              "      <td>2005</td>\n",
              "      <td>9</td>\n",
              "    </tr>\n",
              "    <tr>\n",
              "      <th>9</th>\n",
              "      <td>1393.55</td>\n",
              "      <td>1</td>\n",
              "      <td>314.0</td>\n",
              "      <td>4500000.0</td>\n",
              "      <td>1</td>\n",
              "      <td>2</td>\n",
              "      <td>2006</td>\n",
              "      <td>3</td>\n",
              "    </tr>\n",
              "    <tr>\n",
              "      <th>13</th>\n",
              "      <td>310.85</td>\n",
              "      <td>1</td>\n",
              "      <td>233.0</td>\n",
              "      <td>5000000.0</td>\n",
              "      <td>1</td>\n",
              "      <td>2</td>\n",
              "      <td>2006</td>\n",
              "      <td>2</td>\n",
              "    </tr>\n",
              "  </tbody>\n",
              "</table>\n",
              "</div>"
            ],
            "text/plain": [
              "    procedure_area  property_type_id  area_id  ...  property_category  Year Month\n",
              "4          1393.55                 1    369.0  ...                  2  2006     3\n",
              "5          4869.60                 1    378.0  ...                  1  2005     8\n",
              "8          1393.55                 1    393.0  ...                  2  2005     9\n",
              "9          1393.55                 1    314.0  ...                  2  2006     3\n",
              "13          310.85                 1    233.0  ...                  2  2006     2\n",
              "\n",
              "[5 rows x 8 columns]"
            ]
          },
          "metadata": {
            "tags": []
          },
          "execution_count": 45
        }
      ]
    },
    {
      "cell_type": "code",
      "metadata": {
        "colab": {
          "base_uri": "https://localhost:8080/"
        },
        "id": "pAzP7xfwqXGS",
        "outputId": "608f973e-7edb-4d82-cec5-f09420b84d43"
      },
      "source": [
        "actualvDf.isnull().sum()"
      ],
      "execution_count": null,
      "outputs": [
        {
          "output_type": "execute_result",
          "data": {
            "text/plain": [
              "procedure_area          0\n",
              "property_type_id        0\n",
              "area_id                 0\n",
              "property_total_value    0\n",
              "row_status              0\n",
              "property_category       0\n",
              "Year                    0\n",
              "Month                   0\n",
              "dtype: int64"
            ]
          },
          "metadata": {
            "tags": []
          },
          "execution_count": 46
        }
      ]
    },
    {
      "cell_type": "markdown",
      "metadata": {
        "id": "hUC9HQbqro65"
      },
      "source": [
        "##**EDA** - Exploratory Data Analysis\n",
        "* EDA is an approach to understand the data and summarize its main characteristics, through data visualizations and statistical techniques.\n",
        "* EDA can give insight into the dataset which are alien to our nake eyes."
      ]
    },
    {
      "cell_type": "code",
      "metadata": {
        "colab": {
          "base_uri": "https://localhost:8080/",
          "height": 203
        },
        "id": "jdGhECWursMn",
        "outputId": "30bddd7f-2619-4959-b079-19aaf0796cac"
      },
      "source": [
        "actualvDf.head()"
      ],
      "execution_count": null,
      "outputs": [
        {
          "output_type": "execute_result",
          "data": {
            "text/html": [
              "<div>\n",
              "<style scoped>\n",
              "    .dataframe tbody tr th:only-of-type {\n",
              "        vertical-align: middle;\n",
              "    }\n",
              "\n",
              "    .dataframe tbody tr th {\n",
              "        vertical-align: top;\n",
              "    }\n",
              "\n",
              "    .dataframe thead th {\n",
              "        text-align: right;\n",
              "    }\n",
              "</style>\n",
              "<table border=\"1\" class=\"dataframe\">\n",
              "  <thead>\n",
              "    <tr style=\"text-align: right;\">\n",
              "      <th></th>\n",
              "      <th>procedure_area</th>\n",
              "      <th>property_type_id</th>\n",
              "      <th>area_id</th>\n",
              "      <th>property_total_value</th>\n",
              "      <th>row_status</th>\n",
              "      <th>property_category</th>\n",
              "      <th>Year</th>\n",
              "      <th>Month</th>\n",
              "    </tr>\n",
              "  </thead>\n",
              "  <tbody>\n",
              "    <tr>\n",
              "      <th>4</th>\n",
              "      <td>1393.55</td>\n",
              "      <td>1</td>\n",
              "      <td>369.0</td>\n",
              "      <td>3000000.0</td>\n",
              "      <td>1</td>\n",
              "      <td>2</td>\n",
              "      <td>2006</td>\n",
              "      <td>3</td>\n",
              "    </tr>\n",
              "    <tr>\n",
              "      <th>5</th>\n",
              "      <td>4869.60</td>\n",
              "      <td>1</td>\n",
              "      <td>378.0</td>\n",
              "      <td>26208000.0</td>\n",
              "      <td>1</td>\n",
              "      <td>1</td>\n",
              "      <td>2005</td>\n",
              "      <td>8</td>\n",
              "    </tr>\n",
              "    <tr>\n",
              "      <th>8</th>\n",
              "      <td>1393.55</td>\n",
              "      <td>1</td>\n",
              "      <td>393.0</td>\n",
              "      <td>2170000.0</td>\n",
              "      <td>1</td>\n",
              "      <td>2</td>\n",
              "      <td>2005</td>\n",
              "      <td>9</td>\n",
              "    </tr>\n",
              "    <tr>\n",
              "      <th>9</th>\n",
              "      <td>1393.55</td>\n",
              "      <td>1</td>\n",
              "      <td>314.0</td>\n",
              "      <td>4500000.0</td>\n",
              "      <td>1</td>\n",
              "      <td>2</td>\n",
              "      <td>2006</td>\n",
              "      <td>3</td>\n",
              "    </tr>\n",
              "    <tr>\n",
              "      <th>13</th>\n",
              "      <td>310.85</td>\n",
              "      <td>1</td>\n",
              "      <td>233.0</td>\n",
              "      <td>5000000.0</td>\n",
              "      <td>1</td>\n",
              "      <td>2</td>\n",
              "      <td>2006</td>\n",
              "      <td>2</td>\n",
              "    </tr>\n",
              "  </tbody>\n",
              "</table>\n",
              "</div>"
            ],
            "text/plain": [
              "    procedure_area  property_type_id  area_id  ...  property_category  Year Month\n",
              "4          1393.55                 1    369.0  ...                  2  2006     3\n",
              "5          4869.60                 1    378.0  ...                  1  2005     8\n",
              "8          1393.55                 1    393.0  ...                  2  2005     9\n",
              "9          1393.55                 1    314.0  ...                  2  2006     3\n",
              "13          310.85                 1    233.0  ...                  2  2006     2\n",
              "\n",
              "[5 rows x 8 columns]"
            ]
          },
          "metadata": {
            "tags": []
          },
          "execution_count": 47
        }
      ]
    },
    {
      "cell_type": "markdown",
      "metadata": {
        "id": "OHyL9sTQ6yQz"
      },
      "source": [
        "##### Getting the counts of any column can summarize the number of rows each categorical value in the column, this helps us understand the distribution of the data and decide if we want to include them for our analysis."
      ]
    },
    {
      "cell_type": "markdown",
      "metadata": {
        "id": "u0-9z02N60h_"
      },
      "source": [
        "##### Count of year coulmn shows the total number of rows present for each of the Year value."
      ]
    },
    {
      "cell_type": "code",
      "metadata": {
        "colab": {
          "base_uri": "https://localhost:8080/"
        },
        "id": "o2_cWml1sb01",
        "outputId": "6d92a598-8f71-4804-e265-6cf39d48955b"
      },
      "source": [
        "actualvDf.Year.value_counts()"
      ],
      "execution_count": null,
      "outputs": [
        {
          "output_type": "execute_result",
          "data": {
            "text/plain": [
              "2017    5810\n",
              "2018    5625\n",
              "2016    4740\n",
              "2015    4498\n",
              "2014    3708\n",
              "2019    2764\n",
              "2013    2375\n",
              "2020    2147\n",
              "2012    1538\n",
              "2021    1522\n",
              "2010     884\n",
              "2011     867\n",
              "2008     645\n",
              "2009     543\n",
              "2006     531\n",
              "2005     432\n",
              "2007     421\n",
              "2004     396\n",
              "2003     297\n",
              "2002     130\n",
              "2000       1\n",
              "Name: Year, dtype: int64"
            ]
          },
          "metadata": {
            "tags": []
          },
          "execution_count": 48
        }
      ]
    },
    {
      "cell_type": "code",
      "metadata": {
        "colab": {
          "base_uri": "https://localhost:8080/"
        },
        "id": "ALFbwtVAqJu1",
        "outputId": "af9c5bb8-4df2-4db9-e226-cd03cb26ebb1"
      },
      "source": [
        "actualvDf.shape"
      ],
      "execution_count": null,
      "outputs": [
        {
          "output_type": "execute_result",
          "data": {
            "text/plain": [
              "(39874, 8)"
            ]
          },
          "metadata": {
            "tags": []
          },
          "execution_count": 49
        }
      ]
    },
    {
      "cell_type": "markdown",
      "metadata": {
        "id": "8TRw4PNZsk2-"
      },
      "source": [
        "#####Looking at the yearly data we can remove the rows corresponding to the years as 2000 to 2011 (the clean data available for these years in not propotionate)"
      ]
    },
    {
      "cell_type": "code",
      "metadata": {
        "colab": {
          "base_uri": "https://localhost:8080/"
        },
        "id": "aRLfWO8km-lT",
        "outputId": "13b45766-f50c-484f-aff1-6b289860ae3b"
      },
      "source": [
        "year_lst = [2000,2001,2002,2003,2004,2005,2006,2007,2008,2009,2010,2011]\n",
        "actualvDf.Year.replace(to_replace=year_lst, value=0000, inplace=True)\n",
        "actualvDf = actualvDf[actualvDf.Year != 0000]\n",
        "actualvDf.shape"
      ],
      "execution_count": null,
      "outputs": [
        {
          "output_type": "execute_result",
          "data": {
            "text/plain": [
              "(34727, 8)"
            ]
          },
          "metadata": {
            "tags": []
          },
          "execution_count": 50
        }
      ]
    },
    {
      "cell_type": "markdown",
      "metadata": {
        "id": "-HEz7qRS7H1Y"
      },
      "source": [
        "* For the numerical value columns, it is important to understand the range of the values, this helps us gather a meaningful range of the values."
      ]
    },
    {
      "cell_type": "markdown",
      "metadata": {
        "id": "8j9TPjSp7X1M"
      },
      "source": [
        "######Range of procedure_area: this shows that the minimum value of the area is 0, which is not viable, so we are going to have a baseline value, which is decided to be 10 m2 with our business understanding."
      ]
    },
    {
      "cell_type": "code",
      "metadata": {
        "colab": {
          "base_uri": "https://localhost:8080/",
          "height": 295
        },
        "id": "EKRD8HDds7LM",
        "outputId": "cb230922-2770-48a3-c76d-a425ebf8ad4f"
      },
      "source": [
        "actualvDf.describe()"
      ],
      "execution_count": null,
      "outputs": [
        {
          "output_type": "execute_result",
          "data": {
            "text/html": [
              "<div>\n",
              "<style scoped>\n",
              "    .dataframe tbody tr th:only-of-type {\n",
              "        vertical-align: middle;\n",
              "    }\n",
              "\n",
              "    .dataframe tbody tr th {\n",
              "        vertical-align: top;\n",
              "    }\n",
              "\n",
              "    .dataframe thead th {\n",
              "        text-align: right;\n",
              "    }\n",
              "</style>\n",
              "<table border=\"1\" class=\"dataframe\">\n",
              "  <thead>\n",
              "    <tr style=\"text-align: right;\">\n",
              "      <th></th>\n",
              "      <th>procedure_area</th>\n",
              "      <th>property_type_id</th>\n",
              "      <th>area_id</th>\n",
              "      <th>property_total_value</th>\n",
              "      <th>Year</th>\n",
              "      <th>Month</th>\n",
              "    </tr>\n",
              "  </thead>\n",
              "  <tbody>\n",
              "    <tr>\n",
              "      <th>count</th>\n",
              "      <td>3.472700e+04</td>\n",
              "      <td>34727.000000</td>\n",
              "      <td>34727.000000</td>\n",
              "      <td>3.472700e+04</td>\n",
              "      <td>34727.000000</td>\n",
              "      <td>34727.000000</td>\n",
              "    </tr>\n",
              "    <tr>\n",
              "      <th>mean</th>\n",
              "      <td>1.253721e+04</td>\n",
              "      <td>1.868143</td>\n",
              "      <td>379.542460</td>\n",
              "      <td>2.179380e+07</td>\n",
              "      <td>2016.471074</td>\n",
              "      <td>6.554381</td>\n",
              "    </tr>\n",
              "    <tr>\n",
              "      <th>std</th>\n",
              "      <td>3.046040e+05</td>\n",
              "      <td>0.976444</td>\n",
              "      <td>78.938845</td>\n",
              "      <td>1.322016e+08</td>\n",
              "      <td>2.296831</td>\n",
              "      <td>3.515530</td>\n",
              "    </tr>\n",
              "    <tr>\n",
              "      <th>min</th>\n",
              "      <td>0.000000e+00</td>\n",
              "      <td>1.000000</td>\n",
              "      <td>230.000000</td>\n",
              "      <td>0.000000e+00</td>\n",
              "      <td>2012.000000</td>\n",
              "      <td>1.000000</td>\n",
              "    </tr>\n",
              "    <tr>\n",
              "      <th>25%</th>\n",
              "      <td>1.224500e+02</td>\n",
              "      <td>1.000000</td>\n",
              "      <td>330.000000</td>\n",
              "      <td>1.300000e+06</td>\n",
              "      <td>2015.000000</td>\n",
              "      <td>3.000000</td>\n",
              "    </tr>\n",
              "    <tr>\n",
              "      <th>50%</th>\n",
              "      <td>4.645200e+02</td>\n",
              "      <td>1.000000</td>\n",
              "      <td>363.000000</td>\n",
              "      <td>3.138241e+06</td>\n",
              "      <td>2017.000000</td>\n",
              "      <td>6.000000</td>\n",
              "    </tr>\n",
              "    <tr>\n",
              "      <th>75%</th>\n",
              "      <td>1.997600e+03</td>\n",
              "      <td>3.000000</td>\n",
              "      <td>444.000000</td>\n",
              "      <td>1.100000e+07</td>\n",
              "      <td>2018.000000</td>\n",
              "      <td>10.000000</td>\n",
              "    </tr>\n",
              "    <tr>\n",
              "      <th>max</th>\n",
              "      <td>5.070624e+07</td>\n",
              "      <td>3.000000</td>\n",
              "      <td>531.000000</td>\n",
              "      <td>9.214433e+09</td>\n",
              "      <td>2021.000000</td>\n",
              "      <td>12.000000</td>\n",
              "    </tr>\n",
              "  </tbody>\n",
              "</table>\n",
              "</div>"
            ],
            "text/plain": [
              "       procedure_area  property_type_id  ...          Year         Month\n",
              "count    3.472700e+04      34727.000000  ...  34727.000000  34727.000000\n",
              "mean     1.253721e+04          1.868143  ...   2016.471074      6.554381\n",
              "std      3.046040e+05          0.976444  ...      2.296831      3.515530\n",
              "min      0.000000e+00          1.000000  ...   2012.000000      1.000000\n",
              "25%      1.224500e+02          1.000000  ...   2015.000000      3.000000\n",
              "50%      4.645200e+02          1.000000  ...   2017.000000      6.000000\n",
              "75%      1.997600e+03          3.000000  ...   2018.000000     10.000000\n",
              "max      5.070624e+07          3.000000  ...   2021.000000     12.000000\n",
              "\n",
              "[8 rows x 6 columns]"
            ]
          },
          "metadata": {
            "tags": []
          },
          "execution_count": 51
        }
      ]
    },
    {
      "cell_type": "code",
      "metadata": {
        "colab": {
          "base_uri": "https://localhost:8080/",
          "height": 110
        },
        "id": "0nx0_V8urstG",
        "outputId": "20e8a644-83a1-41be-c6f4-2e86e6c5dac6"
      },
      "source": [
        "df = actualvDf[actualvDf.procedure_area <= 10]\n",
        "df.tail(15)"
      ],
      "execution_count": null,
      "outputs": [
        {
          "output_type": "execute_result",
          "data": {
            "text/html": [
              "<div>\n",
              "<style scoped>\n",
              "    .dataframe tbody tr th:only-of-type {\n",
              "        vertical-align: middle;\n",
              "    }\n",
              "\n",
              "    .dataframe tbody tr th {\n",
              "        vertical-align: top;\n",
              "    }\n",
              "\n",
              "    .dataframe thead th {\n",
              "        text-align: right;\n",
              "    }\n",
              "</style>\n",
              "<table border=\"1\" class=\"dataframe\">\n",
              "  <thead>\n",
              "    <tr style=\"text-align: right;\">\n",
              "      <th></th>\n",
              "      <th>procedure_area</th>\n",
              "      <th>property_type_id</th>\n",
              "      <th>area_id</th>\n",
              "      <th>property_total_value</th>\n",
              "      <th>row_status</th>\n",
              "      <th>property_category</th>\n",
              "      <th>Year</th>\n",
              "      <th>Month</th>\n",
              "    </tr>\n",
              "  </thead>\n",
              "  <tbody>\n",
              "    <tr>\n",
              "      <th>57696</th>\n",
              "      <td>0.0</td>\n",
              "      <td>1</td>\n",
              "      <td>266.0</td>\n",
              "      <td>27000000.0</td>\n",
              "      <td>1</td>\n",
              "      <td>2</td>\n",
              "      <td>2021</td>\n",
              "      <td>5</td>\n",
              "    </tr>\n",
              "    <tr>\n",
              "      <th>59312</th>\n",
              "      <td>0.0</td>\n",
              "      <td>1</td>\n",
              "      <td>266.0</td>\n",
              "      <td>50000000.0</td>\n",
              "      <td>1</td>\n",
              "      <td>3</td>\n",
              "      <td>2021</td>\n",
              "      <td>2</td>\n",
              "    </tr>\n",
              "  </tbody>\n",
              "</table>\n",
              "</div>"
            ],
            "text/plain": [
              "       procedure_area  property_type_id  area_id  ...  property_category  Year Month\n",
              "57696             0.0                 1    266.0  ...                  2  2021     5\n",
              "59312             0.0                 1    266.0  ...                  3  2021     2\n",
              "\n",
              "[2 rows x 8 columns]"
            ]
          },
          "metadata": {
            "tags": []
          },
          "execution_count": 52
        }
      ]
    },
    {
      "cell_type": "markdown",
      "metadata": {
        "id": "V_Lbs8D99tFm"
      },
      "source": [
        "* Dropping rows with procedure_area less than 10"
      ]
    },
    {
      "cell_type": "code",
      "metadata": {
        "colab": {
          "base_uri": "https://localhost:8080/"
        },
        "id": "bC2I8Xe7tbAb",
        "outputId": "9a62c817-fd49-49a2-c982-970982a2ccea"
      },
      "source": [
        "actualvDf = actualvDf[actualvDf.procedure_area >= 10]\n",
        "actualvDf.shape"
      ],
      "execution_count": null,
      "outputs": [
        {
          "output_type": "execute_result",
          "data": {
            "text/plain": [
              "(34725, 8)"
            ]
          },
          "metadata": {
            "tags": []
          },
          "execution_count": 53
        }
      ]
    },
    {
      "cell_type": "markdown",
      "metadata": {
        "id": "UjRQTBid95Vm"
      },
      "source": [
        "#####Count of property_type_id: this shows that the rows are more for Land and Flats, and fewer for the Buildings."
      ]
    },
    {
      "cell_type": "code",
      "metadata": {
        "colab": {
          "base_uri": "https://localhost:8080/"
        },
        "id": "5-lvKsnVtAv1",
        "outputId": "34a743f3-7b5e-42f4-fedc-aa75845a0b16"
      },
      "source": [
        "actualvDf.property_type_id.value_counts()"
      ],
      "execution_count": null,
      "outputs": [
        {
          "output_type": "execute_result",
          "data": {
            "text/plain": [
              "1    19144\n",
              "3    14567\n",
              "2     1014\n",
              "Name: property_type_id, dtype: int64"
            ]
          },
          "metadata": {
            "tags": []
          },
          "execution_count": 54
        }
      ]
    },
    {
      "cell_type": "markdown",
      "metadata": {
        "id": "EMA5IKKR-MrF"
      },
      "source": [
        "* The pie chart representation of the property_type_id fields shows us the graphical representation of data disctribution across the property types."
      ]
    },
    {
      "cell_type": "code",
      "metadata": {
        "colab": {
          "base_uri": "https://localhost:8080/",
          "height": 542
        },
        "id": "mdaN3mY8xHrj",
        "outputId": "0904f77d-96be-48e9-f74b-0ab6397d0c49"
      },
      "source": [
        "fig = px.pie(actualvDf, values='property_category',names='property_type_id', color_discrete_sequence=px.colors.sequential.RdBu)\n",
        "fig.show()"
      ],
      "execution_count": null,
      "outputs": [
        {
          "output_type": "display_data",
          "data": {
            "text/html": [
              "<html>\n",
              "<head><meta charset=\"utf-8\" /></head>\n",
              "<body>\n",
              "    <div>\n",
              "            <script src=\"https://cdnjs.cloudflare.com/ajax/libs/mathjax/2.7.5/MathJax.js?config=TeX-AMS-MML_SVG\"></script><script type=\"text/javascript\">if (window.MathJax) {MathJax.Hub.Config({SVG: {font: \"STIX-Web\"}});}</script>\n",
              "                <script type=\"text/javascript\">window.PlotlyConfig = {MathJaxConfig: 'local'};</script>\n",
              "        <script src=\"https://cdn.plot.ly/plotly-latest.min.js\"></script>    \n",
              "            <div id=\"5faa9f81-a001-4ce0-ad70-d5e198b42e20\" class=\"plotly-graph-div\" style=\"height:525px; width:100%;\"></div>\n",
              "            <script type=\"text/javascript\">\n",
              "                \n",
              "                    window.PLOTLYENV=window.PLOTLYENV || {};\n",
              "                    \n",
              "                if (document.getElementById(\"5faa9f81-a001-4ce0-ad70-d5e198b42e20\")) {\n",
              "                    Plotly.newPlot(\n",
              "                        '5faa9f81-a001-4ce0-ad70-d5e198b42e20',\n",
              "                        [{\"domain\": {\"x\": [0.0, 1.0], \"y\": [0.0, 1.0]}, \"hoverlabel\": {\"namelength\": 0}, \"hovertemplate\": \"property_type_id=%{label}<br>property_category=%{value}\", \"labels\": [2, 1, 1, 1, 1, 1, 1, 1, 1, 3, 1, 1, 1, 1, 3, 1, 1, 1, 1, 1, 1, 3, 1, 1, 1, 1, 1, 1, 1, 1, 1, 1, 1, 1, 1, 1, 1, 1, 1, 1, 1, 2, 1, 3, 2, 1, 1, 1, 1, 1, 1, 1, 1, 1, 1, 1, 3, 3, 3, 1, 1, 2, 1, 1, 1, 1, 1, 1, 1, 1, 1, 2, 1, 3, 2, 2, 3, 3, 3, 1, 1, 1, 1, 1, 1, 1, 1, 1, 3, 1, 2, 1, 1, 1, 3, 3, 1, 1, 1, 2, 3, 1, 3, 1, 2, 3, 3, 3, 1, 1, 1, 1, 1, 3, 1, 1, 3, 3, 3, 3, 3, 1, 1, 1, 1, 1, 3, 1, 1, 1, 1, 1, 1, 1, 3, 3, 1, 3, 1, 1, 1, 1, 2, 2, 3, 1, 3, 3, 2, 3, 1, 1, 3, 1, 1, 1, 1, 3, 2, 1, 1, 1, 3, 1, 1, 3, 3, 3, 1, 1, 1, 1, 1, 3, 3, 1, 1, 1, 1, 1, 1, 1, 1, 1, 3, 1, 2, 2, 3, 1, 1, 1, 1, 1, 1, 3, 3, 1, 3, 2, 1, 3, 1, 1, 1, 1, 3, 3, 2, 1, 1, 1, 3, 1, 1, 1, 1, 1, 1, 1, 1, 3, 1, 3, 3, 3, 3, 1, 1, 1, 1, 1, 3, 1, 1, 3, 3, 1, 1, 1, 1, 1, 1, 1, 1, 1, 1, 1, 1, 1, 1, 2, 1, 3, 1, 1, 3, 1, 1, 1, 1, 3, 1, 3, 2, 1, 1, 1, 1, 1, 1, 1, 3, 3, 1, 1, 1, 1, 1, 1, 1, 3, 1, 1, 1, 1, 1, 3, 1, 1, 1, 1, 1, 3, 3, 3, 3, 3, 2, 3, 1, 1, 3, 1, 3, 1, 1, 1, 3, 1, 1, 1, 3, 3, 3, 3, 2, 1, 1, 1, 1, 1, 3, 3, 3, 1, 3, 3, 1, 1, 1, 1, 1, 1, 3, 1, 1, 3, 3, 1, 1, 1, 1, 1, 1, 1, 1, 1, 1, 1, 1, 1, 3, 1, 1, 1, 1, 3, 3, 3, 1, 1, 1, 1, 3, 1, 1, 1, 1, 1, 1, 1, 1, 1, 3, 1, 1, 1, 1, 1, 1, 3, 3, 1, 3, 1, 1, 1, 3, 3, 3, 2, 1, 1, 3, 3, 3, 3, 3, 3, 3, 3, 3, 1, 1, 3, 3, 3, 3, 1, 1, 1, 1, 1, 1, 2, 1, 1, 3, 1, 1, 1, 1, 1, 3, 3, 3, 3, 3, 1, 3, 1, 1, 1, 1, 3, 1, 1, 3, 3, 3, 3, 3, 3, 3, 1, 1, 3, 3, 1, 3, 1, 1, 1, 3, 1, 3, 3, 1, 1, 1, 1, 1, 1, 1, 1, 1, 1, 1, 1, 3, 3, 1, 3, 1, 1, 3, 1, 1, 3, 1, 1, 1, 1, 1, 1, 1, 2, 1, 1, 1, 1, 1, 1, 1, 3, 1, 1, 1, 1, 1, 1, 3, 3, 3, 1, 1, 3, 1, 1, 1, 1, 1, 3, 3, 3, 1, 1, 1, 3, 3, 3, 1, 1, 1, 3, 3, 1, 1, 1, 1, 1, 1, 1, 2, 1, 1, 3, 3, 3, 3, 3, 2, 1, 3, 1, 1, 1, 1, 1, 1, 3, 1, 1, 1, 1, 1, 1, 1, 1, 1, 1, 1, 3, 1, 1, 1, 1, 1, 1, 1, 1, 1, 1, 1, 1, 1, 1, 1, 2, 1, 1, 1, 1, 1, 1, 1, 1, 1, 3, 3, 3, 3, 2, 3, 3, 1, 1, 3, 3, 1, 1, 2, 1, 3, 1, 3, 1, 1, 1, 3, 3, 3, 3, 3, 1, 3, 3, 3, 3, 3, 3, 1, 1, 1, 1, 1, 1, 3, 3, 3, 3, 3, 3, 1, 1, 1, 1, 1, 1, 1, 1, 1, 3, 3, 1, 1, 3, 3, 3, 3, 3, 3, 3, 3, 1, 1, 1, 1, 1, 1, 1, 3, 1, 1, 1, 2, 3, 3, 1, 1, 3, 1, 1, 1, 1, 1, 1, 1, 1, 1, 1, 1, 1, 1, 1, 1, 1, 1, 1, 1, 1, 3, 3, 1, 1, 1, 1, 3, 1, 1, 3, 3, 1, 1, 3, 1, 1, 1, 1, 1, 1, 1, 3, 1, 1, 1, 1, 1, 1, 1, 3, 1, 1, 1, 3, 1, 2, 1, 1, 1, 1, 3, 3, 3, 1, 1, 1, 1, 1, 1, 1, 3, 3, 3, 3, 3, 2, 1, 3, 3, 3, 1, 1, 1, 1, 3, 1, 3, 1, 1, 1, 1, 3, 3, 3, 1, 1, 1, 1, 1, 1, 1, 3, 3, 1, 3, 1, 2, 3, 1, 1, 2, 1, 1, 1, 1, 1, 1, 1, 3, 1, 3, 1, 1, 3, 1, 3, 1, 2, 1, 1, 1, 1, 1, 1, 3, 1, 1, 1, 1, 3, 1, 3, 1, 3, 1, 3, 3, 1, 3, 3, 1, 3, 1, 3, 2, 3, 1, 3, 3, 3, 1, 1, 1, 1, 1, 3, 2, 3, 1, 1, 1, 3, 1, 3, 1, 3, 3, 3, 1, 1, 1, 1, 1, 1, 1, 1, 1, 3, 1, 1, 1, 3, 3, 3, 3, 3, 1, 1, 1, 1, 1, 1, 3, 3, 1, 1, 3, 1, 1, 3, 1, 3, 1, 3, 1, 1, 1, 1, 1, 1, 1, 1, 1, 1, 3, 1, 3, 1, 1, 3, 1, 1, 2, 1, 1, 1, 1, 1, 1, 1, 2, 3, 1, 2, 1, 1, 1, 1, 1, 1, 3, 1, 3, 3, 2, 1, 3, 1, 1, 1, 3, 1, 1, 3, 1, 1, 1, 1, 1, 3, 3, 3, 3, 3, 3, 1, 1, 1, 3, 3, 1, 3, 3, 3, 3, 3, 3, 3, 3, 3, 3, 3, 3, 3, 3, 2, 3, 1, 3, 1, 3, 3, 3, 3, 1, 1, 1, 3, 3, 2, 1, 3, 3, 3, 3, 3, 3, 3, 1, 3, 3, 3, 1, 1, 1, 1, 2, 3, 1, 1, 1, 3, 1, 3, 3, 3, 3, 1, 2, 3, 1, 3, 1, 3, 1, 1, 3, 1, 1, 3, 1, 3, 3, 3, 1, 1, 3, 1, 3, 1, 3, 3, 1, 1, 1, 3, 3, 1, 1, 1, 1, 1, 1, 1, 1, 3, 1, 1, 1, 1, 1, 1, 1, 2, 3, 3, 1, 3, 1, 1, 1, 1, 1, 1, 1, 3, 3, 3, 3, 1, 1, 3, 2, 1, 1, 3, 3, 3, 3, 1, 1, 2, 2, 3, 3, 3, 1, 3, 1, 1, 1, 3, 1, 1, 1, 2, 1, 1, 1, 1, 1, 1, 1, 1, 3, 3, 1, 1, 1, 1, 3, 1, 3, 3, 3, 3, 3, 2, 3, 3, 1, 1, 1, 3, 3, 1, 1, 1, 1, 1, 3, 3, 1, 1, 1, 1, 1, 3, 1, 1, 1, 3, 3, 3, 2, 1, 1, 1, 1, 3, 1, 3, 1, 1, 1, 3, 1, 3, 1, 3, 1, 1, 3, 1, 3, 1, 1, 1, 1, 3, 1, 1, 1, 3, 1, 3, 3, 3, 3, 3, 1, 3, 3, 3, 1, 1, 1, 3, 1, 1, 3, 1, 1, 1, 3, 3, 3, 3, 1, 3, 3, 3, 1, 1, 3, 1, 1, 3, 3, 1, 1, 1, 1, 1, 2, 1, 3, 3, 3, 2, 1, 3, 3, 1, 1, 3, 1, 3, 1, 1, 3, 3, 1, 3, 1, 1, 1, 1, 1, 3, 1, 3, 3, 3, 1, 1, 1, 1, 1, 1, 1, 1, 1, 1, 1, 1, 1, 1, 1, 3, 1, 1, 1, 1, 1, 1, 1, 1, 1, 3, 1, 3, 1, 1, 1, 1, 1, 1, 1, 3, 1, 3, 3, 3, 3, 1, 1, 3, 3, 3, 3, 1, 1, 1, 1, 3, 3, 3, 1, 2, 3, 3, 3, 3, 1, 3, 1, 1, 1, 3, 3, 3, 1, 1, 1, 1, 1, 3, 1, 1, 1, 3, 3, 1, 3, 1, 1, 1, 3, 1, 1, 3, 3, 3, 1, 1, 1, 3, 3, 3, 3, 3, 3, 1, 1, 1, 3, 1, 1, 1, 1, 1, 3, 1, 3, 3, 3, 1, 3, 3, 1, 1, 1, 3, 3, 3, 1, 3, 3, 3, 3, 1, 1, 3, 3, 1, 3, 3, 2, 3, 1, 1, 1, 1, 1, 1, 1, 1, 1, 1, 1, 1, 3, 3, 1, 3, 1, 1, 1, 3, 3, 1, 1, 1, 3, 3, 1, 3, 1, 1, 1, 3, 3, 3, 1, 3, 1, 3, 1, 1, 3, 1, 1, 2, 3, 2, 3, 1, 3, 1, 1, 1, 3, 1, 1, 1, 3, 3, 3, 1, 1, 3, 1, 3, 3, 3, 3, 1, 3, 1, 3, 3, 1, 1, 1, 3, 1, 1, 1, 3, 1, 2, 1, 1, 1, 3, 3, 3, 3, 1, 1, 1, 3, 3, 3, 3, 3, 1, 2, 3, 1, 3, 3, 1, 1, 3, 1, 2, 1, 3, 3, 1, 3, 1, 1, 3, 3, 1, 1, 3, 3, 3, 3, 3, 3, 1, 1, 1, 1, 1, 3, 2, 3, 1, 1, 3, 3, 3, 3, 3, 3, 1, 3, 3, 3, 3, 3, 3, 3, 3, 3, 1, 3, 1, 3, 3, 3, 1, 3, 1, 1, 3, 3, 3, 3, 3, 3, 3, 1, 3, 1, 3, 3, 1, 1, 1, 1, 2, 1, 1, 1, 3, 3, 1, 1, 1, 1, 1, 3, 1, 1, 1, 1, 3, 1, 3, 1, 3, 1, 1, 1, 3, 1, 1, 1, 3, 1, 1, 3, 1, 1, 3, 3, 1, 1, 1, 3, 1, 1, 1, 1, 1, 3, 1, 1, 1, 3, 1, 3, 1, 3, 1, 3, 3, 1, 1, 3, 3, 2, 3, 1, 1, 1, 1, 1, 1, 3, 3, 1, 1, 1, 3, 1, 2, 1, 1, 3, 3, 3, 1, 1, 3, 3, 1, 1, 1, 3, 3, 3, 1, 3, 3, 3, 3, 3, 1, 1, 3, 1, 1, 3, 3, 1, 1, 1, 1, 1, 1, 1, 1, 1, 3, 3, 1, 1, 1, 1, 1, 3, 3, 1, 2, 1, 1, 3, 2, 3, 3, 1, 1, 1, 3, 3, 3, 2, 1, 1, 3, 1, 1, 3, 3, 3, 1, 1, 3, 1, 1, 2, 1, 1, 1, 3, 1, 3, 3, 1, 1, 3, 1, 1, 1, 1, 1, 1, 1, 1, 1, 3, 3, 1, 3, 3, 3, 1, 1, 3, 1, 2, 3, 1, 1, 3, 3, 1, 1, 1, 1, 3, 1, 1, 1, 1, 3, 1, 1, 3, 2, 1, 1, 1, 3, 3, 1, 1, 1, 1, 1, 1, 1, 1, 1, 3, 3, 1, 3, 2, 1, 1, 2, 3, 3, 1, 1, 1, 3, 1, 1, 1, 1, 1, 3, 1, 1, 1, 1, 3, 1, 3, 3, 1, 1, 1, 1, 3, 1, 1, 1, 1, 1, 3, 1, 1, 1, 1, 1, 1, 1, 1, 1, 3, 1, 1, 1, 1, 1, 3, 1, 1, 2, 1, 1, 1, 1, 3, 3, 1, 3, 3, 3, 2, 3, 1, 3, 3, 1, 1, 3, 3, 3, 1, 1, 1, 1, 1, 1, 1, 1, 3, 2, 1, 1, 3, 1, 1, 1, 1, 3, 3, 1, 1, 3, 3, 3, 1, 1, 1, 2, 3, 3, 3, 3, 3, 1, 3, 1, 3, 1, 1, 1, 3, 3, 3, 1, 1, 1, 1, 1, 1, 1, 3, 1, 1, 3, 1, 1, 1, 3, 3, 1, 1, 1, 1, 3, 1, 1, 1, 1, 1, 1, 1, 3, 1, 1, 1, 1, 3, 3, 1, 1, 3, 3, 1, 1, 1, 1, 1, 1, 1, 1, 3, 1, 1, 1, 1, 1, 1, 1, 1, 1, 1, 1, 2, 1, 1, 3, 1, 3, 1, 3, 1, 1, 1, 1, 3, 1, 3, 1, 1, 3, 1, 1, 1, 1, 1, 1, 1, 1, 1, 1, 1, 1, 1, 1, 1, 1, 1, 3, 3, 3, 1, 1, 1, 1, 1, 3, 1, 1, 1, 1, 2, 1, 3, 1, 1, 3, 3, 1, 3, 3, 1, 1, 1, 1, 3, 1, 1, 3, 3, 1, 3, 3, 3, 3, 3, 1, 1, 1, 3, 1, 1, 1, 1, 1, 1, 1, 3, 1, 3, 1, 1, 3, 1, 1, 3, 3, 3, 3, 3, 1, 1, 1, 3, 1, 1, 1, 1, 1, 1, 3, 1, 1, 2, 3, 1, 1, 1, 1, 1, 1, 3, 1, 1, 1, 1, 1, 1, 1, 3, 1, 3, 3, 1, 1, 1, 1, 1, 1, 3, 3, 1, 1, 1, 3, 1, 3, 1, 3, 3, 2, 1, 3, 1, 1, 1, 1, 3, 1, 1, 1, 1, 1, 1, 1, 1, 1, 3, 3, 3, 1, 3, 1, 3, 1, 1, 1, 1, 1, 3, 3, 3, 3, 3, 3, 2, 1, 3, 3, 3, 1, 1, 3, 1, 1, 1, 3, 1, 3, 1, 1, 3, 3, 1, 1, 1, 1, 1, 3, 3, 1, 3, 1, 3, 1, 1, 3, 3, 3, 1, 1, 1, 1, 1, 1, 3, 1, 1, 1, 1, 1, 3, 3, 1, 3, 1, 1, 2, 1, 1, 3, 3, 3, 1, 1, 1, 1, 1, 1, 1, 3, 1, 3, 3, 1, 1, 3, 2, 1, 1, 3, 1, 3, 3, 1, 3, 3, 1, 3, 1, 1, 3, 1, 1, 1, 1, 1, 3, 1, 2, 1, 1, 1, 3, 3, 2, 1, 1, 1, 3, 1, 1, 3, 3, 3, 3, 1, 1, 3, 3, 1, 3, 3, 1, 1, 1, 3, 3, 1, 1, 1, 3, 3, 1, 1, 1, 1, 1, 2, 3, 1, 3, 1, 3, 1, 1, 1, 1, 1, 1, 1, 1, 1, 1, 1, 1, 1, 3, 1, 1, 3, 1, 1, 1, 3, 1, 1, 1, 1, 3, 3, 1, 1, 1, 3, 1, 1, 1, 1, 1, 1, 1, 1, 3, 1, 1, 1, 1, 3, 3, 3, 3, 1, 1, 1, 1, 1, 1, 1, 1, 1, 1, 1, 1, 1, 3, 1, 1, 3, 1, 3, 3, 3, 1, 1, 1, 1, 1, 1, 3, 1, 1, 1, 1, 3, 3, 2, 3, 1, 1, 3, 1, 1, 1, 1, 2, 3, 1, 3, 1, 1, 3, 1, 1, 1, 1, 3, 1, 1, 1, 1, 1, 1, 2, 3, 3, 3, 3, 1, 3, 3, 1, 1, 3, 3, 1, 2, 1, 3, 1, 1, 3, 1, 1, 1, 1, 1, 1, 1, 1, 1, 1, 1, 1, 3, 1, 1, 1, 1, 1, 3, 1, 2, 1, 1, 1, 1, 1, 1, 1, 1, 1, 1, 3, 1, 1, 3, 2, 1, 1, 1, 2, 3, 3, 3, 1, 3, 1, 1, 1, 1, 1, 1, 1, 3, 3, 1, 1, 1, 3, 1, 1, 1, 3, 3, 3, 1, 1, 1, 1, 1, 1, 1, 3, 3, 1, 3, 1, 3, 1, 3, 3, 1, 1, 1, 1, 1, 1, 1, 1, 1, 3, 3, 1, 1, 3, 1, 3, 3, 1, 1, 3, 1, 3, 3, 2, 3, 3, 1, 1, 1, 1, 1, 1, 1, 1, 1, 1, 1, 1, 1, 1, 1, 1, 1, 1, 1, 3, 3, 3, 1, 1, 1, 1, 1, 1, 1, 1, 1, 1, 3, 3, 1, 1, 1, 2, 3, 3, 1, 3, 1, 1, 3, 3, 3, 2, 3, 1, 1, 2, 1, 1, 1, 1, 1, 3, 1, 2, 1, 1, 1, 2, 3, 1, 1, 1, 1, 1, 1, 1, 1, 3, 3, 3, 3, 1, 1, 1, 3, 3, 1, 1, 1, 1, 1, 1, 1, 1, 3, 1, 1, 3, 1, 1, 2, 1, 3, 1, 1, 3, 1, 1, 1, 1, 1, 1, 1, 3, 3, 1, 1, 1, 3, 1, 3, 1, 3, 3, 1, 1, 1, 3, 1, 3, 1, 3, 3, 1, 1, 1, 1, 3, 1, 1, 3, 3, 3, 1, 2, 1, 3, 1, 1, 3, 1, 1, 3, 3, 1, 1, 3, 1, 1, 2, 1, 1, 3, 3, 1, 1, 1, 1, 1, 1, 3, 1, 3, 3, 1, 3, 1, 1, 3, 1, 1, 1, 1, 3, 1, 1, 1, 1, 1, 1, 1, 1, 1, 1, 1, 1, 1, 3, 1, 1, 3, 1, 1, 1, 1, 1, 1, 1, 3, 1, 1, 3, 3, 1, 1, 1, 1, 1, 3, 3, 1, 1, 3, 3, 3, 3, 1, 3, 1, 1, 1, 1, 1, 1, 3, 3, 3, 3, 3, 2, 1, 1, 1, 1, 1, 1, 1, 1, 3, 3, 3, 3, 3, 3, 3, 3, 3, 3, 3, 3, 3, 1, 1, 1, 1, 1, 1, 3, 3, 3, 1, 1, 1, 1, 1, 3, 1, 1, 2, 1, 3, 1, 3, 1, 1, 1, 1, 3, 3, 1, 1, 1, 1, 1, 2, 1, 1, 1, 3, 1, 1, 1, 1, 3, 3, 3, 3, 3, 3, 3, 1, 1, 1, 3, 3, 2, 1, 1, 3, 1, 1, 3, 1, 1, 1, 1, 3, 1, 1, 1, 1, 3, 2, 3, 1, 1, 1, 3, 1, 3, 3, 1, 3, 1, 3, 1, 3, 1, 1, 2, 1, 1, 1, 1, 1, 3, 3, 1, 3, 1, 1, 1, 1, 1, 3, 1, 1, 1, 3, 1, 3, 1, 3, 3, 3, 3, 1, 1, 1, 3, 3, 3, 3, 1, 3, 1, 1, 1, 1, 1, 1, 3, 1, 1, 3, 1, 3, 3, 3, 2, 1, 1, 3, 1, 2, 3, 3, 1, 1, 1, 1, 3, 1, 1, 1, 1, 1, 3, 1, 1, 3, 3, 1, 1, 2, 1, 3, 1, 1, 3, 3, 1, 1, 1, 3, 1, 3, 1, 1, 1, 1, 1, 3, 1, 3, 3, 3, 3, 1, 1, 1, 1, 1, 3, 3, 1, 1, 1, 1, 3, 3, 3, 3, 1, 1, 1, 1, 1, 1, 2, 1, 1, 3, 1, 1, 3, 3, 1, 3, 1, 3, 1, 1, 1, 1, 1, 1, 1, 1, 1, 1, 1, 1, 1, 1, 3, 1, 1, 1, 1, 1, 1, 1, 3, 1, 3, 3, 1, 3, 1, 1, 1, 1, 3, 1, 3, 3, 3, 1, 3, 3, 1, 1, 1, 1, 1, 3, 3, 3, 3, 1, 3, 3, 3, 3, 3, 3, 3, 3, 3, 3, 1, 1, 1, 3, 1, 1, 1, 3, 1, 1, 1, 1, 3, 3, 1, 3, 1, 1, 1, 1, 3, 1, 3, 3, 3, 1, 3, 3, 3, 1, 1, 2, 1, 3, 3, 3, 1, 1, 1, 2, 3, 1, 1, 1, 3, 1, 1, 1, 1, 1, 1, 3, 1, 1, 1, 3, 1, 1, 1, 1, 1, 1, 3, 3, 2, 3, 3, 1, 1, 1, 1, 1, 1, 1, 3, 1, 1, 1, 1, 1, 1, 1, 3, 3, 3, 3, 3, 3, 3, 1, 1, 3, 3, 1, 1, 3, 3, 3, 3, 3, 1, 1, 3, 1, 1, 3, 3, 3, 1, 1, 1, 1, 1, 1, 1, 3, 1, 1, 3, 3, 3, 3, 3, 1, 1, 3, 1, 3, 1, 1, 1, 1, 1, 1, 1, 3, 3, 1, 1, 1, 3, 3, 3, 3, 3, 1, 3, 1, 1, 1, 1, 3, 3, 2, 3, 1, 1, 1, 1, 1, 1, 1, 3, 1, 1, 1, 1, 1, 1, 1, 3, 1, 1, 3, 1, 3, 1, 1, 3, 3, 3, 3, 3, 3, 1, 3, 1, 3, 3, 1, 3, 3, 1, 1, 1, 3, 3, 3, 3, 1, 1, 1, 1, 1, 1, 1, 1, 3, 1, 1, 3, 1, 2, 1, 1, 3, 3, 1, 3, 1, 3, 3, 3, 3, 1, 1, 3, 2, 1, 1, 1, 1, 1, 1, 1, 3, 1, 1, 1, 1, 3, 1, 3, 1, 3, 1, 3, 3, 3, 3, 3, 3, 3, 3, 1, 1, 1, 1, 1, 3, 3, 1, 1, 1, 3, 3, 1, 3, 3, 1, 3, 3, 1, 1, 3, 1, 3, 3, 3, 1, 1, 1, 1, 1, 1, 1, 1, 1, 1, 3, 3, 3, 1, 1, 1, 1, 1, 1, 3, 1, 1, 1, 1, 3, 1, 1, 1, 1, 1, 2, 1, 3, 3, 3, 3, 3, 1, 1, 3, 3, 3, 3, 1, 1, 1, 1, 1, 1, 1, 1, 1, 3, 1, 1, 1, 3, 3, 1, 1, 1, 1, 3, 3, 3, 3, 3, 3, 1, 1, 1, 3, 3, 3, 3, 3, 3, 1, 3, 3, 2, 1, 1, 1, 1, 1, 1, 1, 1, 1, 1, 3, 1, 1, 3, 1, 1, 3, 3, 1, 1, 1, 1, 1, 3, 3, 3, 3, 1, 3, 3, 3, 3, 1, 1, 1, 2, 1, 1, 3, 1, 1, 1, 1, 1, 3, 3, 1, 1, 1, 1, 1, 1, 1, 3, 3, 2, 1, 1, 3, 1, 1, 1, 3, 3, 1, 3, 1, 3, 3, 1, 2, 1, 1, 1, 1, 1, 1, 1, 1, 3, 3, 3, 1, 1, 1, 3, 3, 1, 3, 1, 1, 1, 1, 1, 1, 3, 1, 1, 3, 3, 3, 1, 1, 1, 1, 3, 3, 3, 1, 2, 1, 3, 1, 1, 1, 1, 1, 3, 3, 3, 3, 3, 1, 1, 1, 1, 1, 3, 3, 1, 1, 1, 1, 1, 1, 3, 3, 3, 1, 1, 3, 1, 2, 1, 1, 1, 1, 1, 1, 3, 2, 1, 3, 3, 3, 3, 3, 3, 1, 1, 1, 1, 1, 3, 1, 3, 1, 1, 1, 1, 1, 3, 1, 1, 3, 1, 1, 1, 1, 1, 1, 3, 1, 1, 1, 1, 1, 1, 1, 3, 1, 1, 1, 1, 2, 3, 1, 1, 1, 3, 3, 2, 3, 1, 2, 1, 1, 1, 1, 1, 1, 1, 3, 3, 3, 1, 1, 1, 3, 1, 3, 3, 1, 3, 1, 1, 1, 1, 3, 3, 1, 1, 1, 1, 3, 1, 3, 1, 1, 3, 1, 1, 3, 1, 1, 3, 1, 1, 1, 1, 1, 3, 1, 1, 1, 1, 3, 3, 1, 3, 3, 2, 1, 1, 1, 1, 1, 1, 3, 1, 1, 3, 3, 1, 3, 1, 3, 3, 3, 3, 1, 3, 1, 1, 3, 1, 1, 3, 3, 1, 1, 1, 1, 1, 3, 3, 1, 1, 1, 1, 1, 2, 1, 3, 1, 1, 1, 1, 3, 3, 1, 1, 3, 3, 1, 3, 1, 1, 1, 3, 3, 1, 1, 1, 3, 1, 1, 3, 1, 1, 2, 1, 1, 1, 1, 1, 1, 3, 3, 3, 1, 1, 3, 1, 1, 3, 1, 1, 1, 1, 1, 3, 1, 1, 1, 1, 1, 1, 2, 3, 2, 2, 3, 3, 3, 3, 1, 1, 3, 1, 1, 3, 3, 1, 1, 3, 3, 1, 3, 3, 1, 3, 1, 1, 3, 1, 1, 1, 1, 3, 1, 3, 3, 3, 3, 3, 3, 3, 3, 3, 3, 3, 3, 3, 3, 3, 3, 3, 3, 3, 3, 3, 3, 2, 2, 3, 3, 1, 3, 3, 3, 1, 3, 1, 1, 1, 1, 3, 1, 1, 2, 3, 1, 3, 1, 3, 1, 3, 1, 1, 1, 3, 3, 1, 1, 1, 1, 1, 1, 3, 1, 1, 1, 1, 1, 1, 1, 1, 1, 3, 3, 3, 3, 1, 1, 3, 1, 1, 1, 3, 2, 1, 1, 3, 1, 1, 1, 3, 1, 1, 1, 1, 1, 3, 1, 1, 1, 1, 3, 1, 1, 3, 1, 3, 3, 1, 1, 3, 3, 2, 1, 1, 3, 3, 3, 1, 1, 1, 1, 1, 1, 1, 1, 3, 3, 3, 1, 1, 3, 1, 1, 3, 1, 1, 1, 3, 1, 1, 1, 1, 1, 3, 1, 3, 3, 1, 3, 3, 1, 3, 3, 3, 3, 2, 1, 3, 3, 1, 1, 1, 1, 1, 3, 3, 1, 1, 1, 1, 1, 3, 1, 1, 1, 1, 3, 3, 1, 3, 1, 1, 3, 3, 1, 1, 1, 1, 1, 3, 1, 1, 1, 1, 3, 1, 1, 1, 1, 3, 1, 1, 1, 1, 3, 1, 1, 1, 1, 1, 1, 1, 1, 1, 1, 1, 1, 1, 1, 3, 3, 2, 1, 1, 3, 1, 3, 1, 1, 1, 3, 1, 1, 1, 1, 3, 1, 1, 1, 1, 3, 1, 1, 3, 3, 3, 1, 3, 1, 3, 3, 1, 1, 1, 1, 1, 3, 1, 1, 1, 1, 1, 1, 1, 1, 3, 3, 1, 1, 1, 1, 1, 3, 1, 3, 1, 1, 3, 3, 1, 3, 3, 3, 3, 3, 3, 3, 3, 3, 3, 3, 3, 3, 3, 3, 3, 3, 1, 1, 1, 3, 1, 1, 1, 1, 3, 1, 3, 3, 2, 1, 2, 1, 1, 1, 3, 1, 1, 3, 1, 3, 1, 1, 1, 1, 3, 1, 3, 1, 1, 1, 1, 1, 1, 1, 3, 1, 3, 1, 1, 1, 1, 3, 1, 3, 1, 1, 1, 3, 3, 1, 1, 1, 3, 1, 3, 3, 1, 1, 1, 2, 1, 3, 1, 1, 3, 3, 1, 3, 1, 1, 1, 1, 1, 3, 3, 3, 1, 1, 3, 3, 3, 1, 3, 3, 3, 1, 3, 1, 1, 1, 1, 3, 1, 1, 1, 1, 3, 3, 3, 1, 1, 1, 1, 1, 3, 1, 1, 1, 1, 1, 1, 1, 1, 3, 1, 1, 3, 3, 2, 3, 3, 3, 1, 3, 3, 1, 1, 1, 3, 1, 1, 1, 1, 1, 3, 3, 1, 3, 3, 1, 1, 1, 1, 3, 1, 1, 3, 3, 1, 1, 1, 2, 1, 1, 1, 1, 1, 3, 1, 3, 1, 1, 1, 3, 3, 1, 1, 3, 1, 1, 3, 1, 3, 1, 1, 3, 1, 3, 2, 1, 2, 1, 3, 1, 1, 1, 1, 3, 1, 3, 1, 3, 1, 1, 1, 1, 3, 1, 1, 1, 3, 3, 1, 1, 2, 3, 3, 3, 1, 1, 2, 3, 2, 3, 3, 3, 3, 1, 1, 3, 2, 1, 3, 1, 1, 3, 3, 2, 3, 3, 1, 1, 3, 1, 1, 3, 3, 1, 3, 3, 1, 1, 3, 3, 3, 3, 3, 3, 3, 3, 3, 1, 3, 1, 1, 1, 3, 3, 1, 2, 3, 3, 1, 3, 1, 1, 1, 3, 1, 1, 1, 3, 3, 1, 1, 1, 1, 1, 1, 1, 1, 1, 1, 1, 1, 1, 1, 3, 1, 1, 1, 2, 1, 3, 3, 1, 1, 1, 1, 3, 1, 3, 1, 2, 1, 1, 1, 1, 1, 1, 3, 1, 1, 1, 3, 3, 3, 3, 3, 1, 3, 1, 1, 3, 2, 1, 3, 1, 1, 1, 1, 1, 1, 1, 3, 3, 1, 3, 3, 3, 1, 1, 3, 3, 1, 1, 3, 1, 1, 3, 2, 1, 1, 3, 3, 1, 1, 1, 1, 3, 3, 3, 3, 3, 3, 3, 3, 3, 3, 3, 1, 3, 3, 2, 2, 2, 3, 3, 3, 3, 1, 3, 3, 3, 1, 1, 3, 1, 1, 3, 3, 1, 1, 3, 1, 3, 3, 1, 1, 1, 1, 1, 1, 1, 1, 1, 1, 1, 1, 1, 3, 1, 1, 3, 1, 3, 1, 1, 1, 1, 1, 1, 1, 3, 3, 3, 1, 3, 1, 3, 3, 3, 3, 1, 3, 1, 3, 2, 3, 1, 1, 1, 3, 1, 1, 1, 1, 1, 1, 3, 3, 3, 3, 1, 1, 1, 1, 1, 1, 3, 1, 1, 3, 1, 1, 1, 3, 1, 1, 1, 3, 1, 1, 1, 1, 1, 3, 3, 3, 3, 1, 1, 1, 1, 1, 1, 1, 3, 3, 3, 3, 1, 3, 3, 3, 3, 1, 1, 2, 1, 1, 1, 3, 3, 3, 3, 1, 3, 3, 3, 3, 3, 3, 3, 2, 3, 1, 3, 3, 3, 2, 3, 1, 3, 1, 3, 3, 3, 1, 1, 1, 3, 2, 3, 3, 1, 1, 1, 1, 1, 1, 3, 3, 3, 1, 3, 1, 1, 1, 3, 3, 1, 1, 1, 3, 3, 1, 3, 1, 3, 1, 1, 1, 1, 1, 1, 1, 1, 1, 1, 1, 1, 1, 1, 1, 1, 1, 1, 1, 1, 1, 1, 1, 1, 1, 1, 1, 3, 3, 3, 1, 1, 1, 1, 1, 1, 1, 1, 1, 1, 1, 1, 1, 1, 1, 1, 3, 1, 3, 1, 1, 1, 1, 1, 1, 1, 1, 1, 1, 1, 1, 1, 1, 1, 1, 1, 1, 1, 3, 3, 1, 3, 1, 1, 1, 1, 1, 1, 2, 3, 1, 3, 1, 1, 3, 1, 3, 3, 1, 1, 1, 1, 1, 1, 1, 1, 1, 3, 3, 1, 1, 3, 1, 1, 1, 3, 1, 1, 1, 1, 3, 1, 3, 3, 1, 3, 3, 1, 1, 2, 1, 3, 3, 1, 1, 1, 3, 1, 2, 3, 3, 3, 1, 1, 3, 3, 3, 1, 1, 1, 3, 3, 1, 3, 3, 3, 1, 1, 3, 3, 1, 3, 1, 1, 1, 1, 1, 1, 1, 1, 1, 1, 1, 3, 1, 3, 3, 3, 3, 1, 1, 1, 1, 1, 1, 1, 1, 1, 1, 1, 1, 1, 1, 1, 1, 1, 1, 1, 1, 1, 3, 3, 1, 1, 1, 1, 3, 1, 3, 3, 1, 1, 3, 3, 1, 1, 1, 3, 3, 1, 3, 1, 1, 1, 1, 3, 3, 3, 3, 3, 1, 1, 1, 1, 1, 3, 3, 1, 1, 1, 1, 1, 1, 3, 1, 1, 1, 3, 1, 1, 3, 1, 1, 3, 1, 1, 1, 1, 1, 1, 1, 1, 1, 1, 1, 1, 3, 1, 1, 1, 1, 1, 1, 1, 1, 1, 1, 1, 1, 1, 3, 1, 3, 1, 1, 1, 1, 1, 1, 1, 1, 1, 1, 1, 1, 1, 1, 1, 1, 1, 2, 3, 3, 2, 1, 1, 1, 1, 1, 1, 1, 1, 1, 1, 1, 1, 1, 1, 1, 1, 1, 1, 1, 1, 1, 3, 1, 1, 1, 1, 3, 1, 1, 3, 3, 1, 3, 1, 1, 1, 1, 1, 1, 1, 3, 1, 1, 1, 1, 1, 1, 1, 1, 1, 1, 1, 1, 1, 1, 1, 1, 1, 1, 1, 1, 1, 1, 1, 3, 1, 3, 1, 1, 3, 1, 1, 3, 1, 3, 3, 3, 3, 1, 1, 3, 1, 1, 1, 1, 1, 2, 3, 1, 1, 1, 3, 1, 3, 1, 1, 1, 3, 1, 1, 1, 3, 1, 1, 1, 1, 3, 1, 1, 1, 1, 1, 1, 1, 1, 1, 3, 3, 2, 3, 3, 3, 3, 3, 3, 1, 3, 1, 1, 3, 3, 3, 3, 1, 1, 1, 3, 1, 1, 1, 1, 3, 3, 3, 3, 1, 1, 1, 1, 1, 1, 3, 1, 1, 1, 1, 1, 1, 1, 1, 1, 1, 1, 1, 1, 1, 1, 1, 1, 1, 1, 1, 1, 1, 1, 1, 1, 1, 1, 3, 1, 1, 3, 3, 1, 3, 3, 3, 1, 3, 3, 1, 2, 2, 1, 1, 1, 1, 1, 1, 3, 3, 1, 1, 1, 1, 1, 3, 1, 3, 3, 3, 1, 2, 3, 1, 1, 1, 1, 1, 1, 1, 3, 3, 1, 1, 1, 1, 1, 1, 1, 1, 1, 1, 3, 3, 1, 1, 1, 3, 1, 3, 3, 3, 1, 3, 3, 1, 1, 1, 3, 3, 3, 3, 2, 3, 3, 1, 3, 3, 3, 1, 1, 1, 3, 3, 3, 1, 1, 1, 1, 1, 3, 3, 1, 1, 1, 1, 1, 1, 3, 1, 1, 1, 1, 1, 1, 1, 2, 1, 3, 1, 1, 1, 1, 1, 3, 1, 1, 1, 1, 1, 1, 1, 1, 1, 1, 1, 1, 3, 1, 1, 1, 1, 1, 1, 1, 1, 1, 1, 1, 1, 1, 1, 1, 1, 1, 1, 1, 1, 3, 1, 1, 1, 1, 1, 1, 2, 1, 1, 1, 1, 1, 1, 1, 1, 3, 1, 1, 1, 3, 3, 3, 1, 1, 1, 1, 1, 3, 1, 1, 3, 1, 3, 1, 1, 1, 3, 3, 3, 1, 1, 1, 3, 1, 1, 1, 1, 1, 1, 1, 3, 1, 1, 1, 1, 1, 1, 1, 1, 1, 1, 1, 1, 1, 1, 1, 1, 1, 1, 3, 1, 1, 1, 1, 3, 1, 1, 1, 1, 3, 3, 3, 1, 3, 1, 1, 3, 3, 3, 3, 1, 1, 1, 1, 3, 3, 3, 3, 3, 1, 3, 1, 1, 1, 1, 1, 1, 3, 3, 3, 1, 3, 3, 1, 3, 1, 1, 1, 3, 3, 1, 1, 1, 1, 1, 1, 1, 3, 1, 1, 1, 1, 1, 3, 1, 3, 1, 1, 1, 1, 3, 1, 1, 1, 1, 1, 1, 1, 1, 1, 1, 1, 1, 1, 1, 1, 1, 1, 1, 1, 1, 1, 1, 1, 1, 1, 1, 1, 2, 3, 1, 1, 1, 1, 3, 1, 1, 1, 3, 1, 1, 3, 1, 1, 1, 1, 1, 1, 1, 1, 1, 3, 3, 3, 3, 3, 1, 1, 1, 1, 1, 1, 3, 1, 1, 1, 3, 1, 1, 1, 1, 1, 1, 3, 3, 3, 1, 3, 1, 3, 3, 3, 1, 3, 3, 3, 1, 3, 1, 3, 3, 3, 1, 1, 1, 3, 1, 1, 1, 3, 1, 1, 1, 1, 1, 1, 1, 1, 1, 1, 1, 1, 1, 1, 1, 1, 3, 1, 3, 1, 1, 3, 1, 3, 1, 1, 1, 1, 1, 1, 1, 1, 3, 3, 1, 1, 1, 1, 1, 1, 1, 1, 1, 1, 1, 3, 3, 1, 1, 1, 1, 1, 1, 1, 3, 3, 1, 1, 3, 3, 1, 3, 3, 1, 1, 1, 1, 1, 3, 3, 1, 1, 1, 1, 3, 3, 2, 3, 1, 3, 1, 1, 1, 3, 1, 3, 3, 3, 1, 1, 1, 3, 1, 1, 3, 3, 1, 1, 3, 1, 1, 1, 1, 1, 1, 1, 2, 1, 1, 3, 1, 3, 1, 3, 1, 1, 3, 1, 3, 3, 3, 1, 1, 3, 1, 1, 3, 3, 1, 1, 1, 1, 1, 1, 1, 1, 1, 1, 1, 1, 2, 3, 3, 1, 1, 1, 3, 1, 2, 1, 1, 3, 1, 1, 3, 1, 1, 1, 3, 3, 1, 1, 3, 3, 1, 1, 1, 1, 1, 1, 1, 1, 1, 3, 3, 1, 1, 1, 1, 1, 1, 1, 1, 1, 1, 1, 3, 3, 1, 1, 3, 1, 1, 3, 3, 3, 1, 1, 1, 1, 1, 1, 1, 1, 3, 1, 3, 3, 1, 3, 3, 3, 3, 3, 1, 1, 1, 3, 2, 3, 3, 1, 3, 1, 3, 3, 1, 2, 1, 3, 1, 3, 1, 1, 1, 1, 3, 1, 1, 1, 1, 1, 1, 1, 1, 3, 1, 1, 3, 1, 3, 1, 1, 2, 1, 3, 1, 1, 1, 1, 1, 1, 1, 3, 3, 1, 1, 3, 3, 3, 1, 3, 1, 3, 1, 1, 1, 1, 3, 1, 1, 3, 3, 1, 1, 1, 1, 1, 1, 1, 1, 1, 1, 1, 3, 3, 1, 1, 1, 1, 3, 3, 1, 1, 1, 1, 1, 3, 1, 1, 1, 3, 3, 3, 1, 1, 1, 1, 3, 1, 1, 1, 1, 1, 1, 1, 1, 1, 1, 2, 3, 1, 3, 1, 1, 1, 1, 1, 1, 1, 1, 1, 1, 1, 1, 1, 1, 3, 3, 1, 1, 3, 1, 3, 1, 3, 1, 1, 1, 3, 1, 3, 1, 3, 1, 1, 1, 1, 1, 1, 1, 1, 1, 1, 1, 3, 3, 1, 3, 1, 3, 3, 1, 2, 3, 3, 3, 3, 1, 1, 3, 3, 3, 3, 1, 1, 3, 1, 1, 3, 3, 1, 3, 3, 1, 1, 1, 1, 3, 3, 1, 1, 1, 1, 1, 1, 1, 1, 1, 1, 3, 3, 1, 2, 3, 1, 1, 1, 1, 1, 1, 3, 3, 1, 1, 1, 1, 1, 1, 3, 1, 1, 3, 1, 1, 1, 1, 3, 1, 3, 3, 3, 1, 2, 3, 1, 1, 3, 1, 1, 1, 3, 1, 1, 1, 1, 1, 1, 1, 1, 3, 1, 1, 2, 3, 3, 2, 1, 1, 1, 2, 1, 3, 3, 3, 3, 3, 1, 1, 3, 1, 1, 1, 1, 2, 2, 1, 1, 3, 1, 1, 1, 2, 1, 1, 3, 3, 3, 1, 3, 1, 1, 1, 1, 1, 3, 1, 1, 1, 3, 3, 1, 3, 3, 3, 2, 3, 1, 1, 1, 2, 2, 1, 3, 3, 1, 1, 1, 1, 1, 3, 2, 3, 1, 1, 1, 3, 1, 2, 3, 3, 3, 3, 1, 1, 1, 3, 3, 1, 1, 3, 1, 3, 3, 1, 1, 1, 3, 3, 3, 1, 1, 1, 1, 1, 1, 1, 1, 1, 1, 1, 1, 1, 1, 3, 1, 1, 3, 3, 3, 1, 1, 1, 1, 1, 1, 1, 1, 1, 1, 3, 3, 3, 2, 1, 1, 3, 1, 1, 3, 1, 1, 1, 3, 1, 1, 1, 1, 3, 3, 3, 3, 3, 1, 1, 3, 3, 1, 1, 1, 1, 1, 3, 1, 3, 1, 1, 3, 1, 1, 1, 1, 1, 3, 1, 1, 1, 1, 1, 3, 3, 3, 1, 1, 1, 1, 3, 1, 1, 1, 3, 1, 3, 3, 1, 1, 3, 1, 1, 1, 1, 1, 1, 1, 1, 1, 1, 3, 1, 1, 1, 1, 1, 3, 2, 1, 3, 3, 3, 3, 3, 1, 1, 3, 1, 1, 3, 1, 1, 1, 3, 1, 1, 3, 3, 3, 1, 1, 1, 1, 1, 1, 1, 1, 1, 3, 1, 1, 1, 2, 1, 3, 1, 1, 1, 1, 1, 1, 1, 3, 1, 1, 1, 1, 3, 1, 1, 3, 1, 1, 1, 3, 3, 1, 1, 1, 1, 3, 3, 1, 1, 1, 3, 1, 1, 1, 1, 1, 1, 1, 3, 1, 3, 3, 3, 3, 1, 3, 1, 1, 2, 1, 1, 1, 1, 3, 3, 3, 3, 1, 3, 3, 1, 1, 1, 1, 3, 1, 2, 1, 1, 1, 1, 1, 3, 1, 1, 3, 1, 1, 1, 1, 1, 1, 3, 3, 3, 3, 3, 1, 1, 1, 1, 1, 1, 3, 1, 3, 3, 3, 3, 3, 1, 1, 3, 1, 3, 3, 1, 2, 1, 1, 3, 1, 1, 3, 3, 1, 3, 3, 3, 3, 3, 1, 1, 1, 3, 1, 1, 1, 1, 1, 1, 1, 1, 1, 1, 1, 1, 1, 3, 1, 1, 1, 1, 1, 1, 1, 1, 3, 2, 1, 3, 3, 3, 3, 1, 3, 1, 1, 1, 1, 1, 1, 1, 1, 1, 3, 1, 3, 3, 1, 3, 1, 3, 3, 3, 3, 3, 3, 3, 3, 3, 3, 1, 1, 1, 1, 3, 3, 1, 1, 1, 1, 1, 3, 3, 1, 3, 3, 1, 3, 3, 1, 3, 1, 3, 1, 1, 1, 3, 3, 1, 3, 3, 3, 1, 1, 1, 1, 3, 3, 1, 3, 1, 3, 3, 1, 1, 1, 3, 3, 1, 1, 1, 3, 1, 1, 1, 1, 1, 1, 3, 3, 3, 3, 3, 1, 1, 1, 1, 1, 1, 3, 3, 1, 1, 1, 3, 1, 3, 1, 3, 1, 1, 3, 2, 3, 1, 1, 3, 3, 1, 1, 3, 1, 1, 1, 1, 1, 1, 3, 1, 1, 3, 1, 1, 1, 3, 1, 1, 1, 3, 1, 3, 1, 1, 1, 1, 1, 1, 3, 1, 1, 3, 1, 3, 3, 1, 2, 3, 3, 3, 2, 3, 1, 1, 1, 1, 1, 1, 1, 1, 3, 3, 2, 3, 1, 1, 2, 3, 3, 3, 1, 1, 3, 1, 3, 3, 1, 3, 1, 1, 1, 1, 1, 1, 1, 3, 1, 1, 1, 1, 3, 3, 3, 1, 3, 3, 1, 1, 3, 3, 3, 3, 1, 1, 3, 3, 1, 1, 3, 1, 1, 1, 3, 1, 3, 3, 3, 3, 1, 3, 3, 1, 1, 1, 1, 1, 1, 1, 1, 1, 1, 1, 1, 1, 3, 3, 1, 1, 3, 3, 3, 1, 3, 1, 1, 1, 1, 1, 3, 1, 1, 3, 1, 1, 1, 1, 3, 1, 1, 3, 1, 1, 1, 1, 3, 1, 1, 3, 1, 1, 1, 1, 1, 3, 1, 1, 1, 1, 1, 1, 1, 1, 1, 3, 1, 3, 1, 3, 1, 1, 1, 3, 3, 3, 3, 1, 1, 3, 1, 1, 2, 3, 1, 1, 1, 3, 1, 3, 2, 1, 1, 1, 1, 1, 3, 2, 3, 2, 1, 3, 1, 1, 3, 1, 1, 3, 3, 1, 1, 1, 1, 1, 3, 1, 1, 1, 1, 1, 1, 1, 1, 1, 1, 1, 1, 1, 1, 1, 3, 1, 1, 1, 1, 1, 1, 1, 1, 1, 3, 3, 3, 1, 3, 1, 3, 3, 3, 1, 1, 1, 3, 1, 3, 1, 1, 3, 3, 1, 3, 1, 1, 3, 3, 1, 1, 1, 3, 1, 1, 3, 1, 1, 3, 3, 1, 1, 1, 3, 1, 1, 1, 1, 1, 1, 1, 1, 1, 1, 1, 1, 1, 1, 1, 3, 2, 1, 1, 1, 1, 3, 1, 3, 3, 3, 3, 3, 3, 3, 3, 1, 3, 1, 1, 1, 1, 1, 1, 3, 1, 1, 1, 1, 3, 3, 1, 1, 1, 1, 1, 1, 2, 1, 1, 1, 1, 1, 1, 1, 1, 1, 1, 1, 1, 1, 1, 1, 3, 1, 1, 1, 1, 1, 1, 1, 1, 3, 3, 3, 3, 3, 3, 3, 3, 3, 1, 1, 1, 1, 1, 3, 1, 1, 1, 1, 1, 2, 3, 3, 1, 1, 3, 1, 1, 3, 1, 1, 1, 3, 3, 1, 3, 3, 1, 1, 3, 1, 3, 1, 1, 3, 1, 1, 1, 3, 1, 1, 1, 1, 1, 1, 1, 1, 1, 1, 1, 1, 1, 1, 1, 1, 3, 1, 1, 3, 1, 1, 1, 3, 1, 1, 1, 1, 1, 1, 1, 3, 3, 1, 1, 1, 1, 3, 3, 3, 3, 3, 3, 3, 3, 3, 1, 1, 1, 1, 1, 3, 2, 3, 3, 1, 1, 3, 3, 1, 1, 1, 1, 1, 1, 3, 3, 1, 1, 1, 1, 1, 3, 1, 1, 3, 3, 3, 3, 1, 3, 1, 3, 1, 1, 1, 1, 1, 1, 1, 1, 1, 1, 3, 1, 1, 1, 3, 1, 1, 1, 1, 1, 3, 1, 1, 1, 1, 1, 1, 1, 3, 3, 3, 3, 1, 1, 3, 3, 1, 1, 1, 1, 1, 3, 2, 1, 1, 3, 3, 3, 3, 1, 1, 1, 3, 3, 1, 3, 3, 1, 1, 3, 1, 1, 3, 3, 1, 1, 1, 3, 1, 1, 1, 1, 1, 1, 1, 1, 1, 1, 3, 3, 3, 1, 1, 1, 1, 1, 1, 3, 3, 3, 3, 1, 1, 1, 1, 1, 1, 1, 1, 3, 1, 1, 1, 3, 3, 1, 1, 3, 1, 3, 3, 3, 1, 2, 3, 3, 3, 3, 1, 3, 1, 1, 1, 3, 3, 3, 3, 1, 3, 3, 3, 1, 1, 1, 1, 1, 1, 3, 1, 1, 3, 1, 1, 1, 1, 1, 1, 1, 1, 1, 1, 1, 1, 3, 1, 1, 1, 3, 1, 1, 3, 3, 3, 3, 3, 1, 3, 1, 1, 3, 3, 1, 3, 3, 3, 1, 1, 3, 1, 1, 1, 3, 1, 1, 1, 1, 3, 1, 1, 1, 1, 1, 3, 1, 3, 3, 3, 1, 3, 3, 3, 1, 3, 3, 3, 1, 1, 1, 1, 3, 1, 1, 1, 1, 1, 1, 1, 1, 1, 1, 3, 1, 1, 3, 1, 1, 3, 1, 1, 3, 3, 3, 3, 1, 3, 3, 3, 3, 2, 3, 1, 1, 1, 1, 1, 1, 3, 3, 1, 1, 1, 1, 1, 3, 1, 3, 3, 3, 3, 1, 3, 3, 3, 3, 3, 1, 1, 1, 1, 1, 3, 3, 1, 3, 3, 1, 3, 3, 1, 1, 1, 2, 3, 1, 1, 2, 1, 1, 2, 3, 3, 3, 1, 3, 1, 3, 1, 3, 1, 1, 3, 1, 1, 1, 3, 2, 1, 1, 1, 1, 1, 1, 3, 1, 1, 1, 1, 3, 1, 1, 3, 1, 3, 1, 1, 1, 3, 3, 3, 3, 1, 1, 1, 1, 3, 1, 1, 1, 3, 3, 1, 3, 1, 1, 1, 1, 1, 3, 3, 1, 1, 1, 3, 1, 3, 3, 3, 3, 3, 3, 1, 2, 2, 2, 2, 1, 3, 3, 1, 3, 3, 1, 1, 3, 3, 3, 3, 3, 1, 1, 3, 3, 3, 1, 1, 3, 3, 1, 3, 3, 3, 1, 3, 3, 3, 3, 1, 1, 1, 1, 1, 1, 3, 3, 1, 3, 1, 3, 3, 1, 1, 1, 3, 1, 1, 1, 1, 3, 3, 3, 3, 3, 3, 3, 1, 2, 1, 1, 3, 3, 1, 3, 1, 1, 1, 3, 1, 1, 1, 3, 1, 3, 1, 1, 1, 3, 1, 3, 1, 1, 1, 3, 1, 1, 1, 3, 1, 1, 1, 3, 3, 1, 3, 3, 3, 1, 1, 1, 1, 3, 3, 3, 1, 3, 1, 1, 1, 3, 1, 1, 1, 3, 1, 3, 1, 1, 3, 3, 3, 1, 1, 1, 1, 3, 1, 1, 1, 1, 1, 1, 1, 1, 3, 1, 1, 3, 1, 1, 3, 3, 1, 1, 3, 3, 3, 3, 1, 1, 3, 3, 3, 1, 3, 3, 3, 3, 1, 3, 1, 1, 1, 1, 1, 1, 1, 1, 3, 1, 1, 1, 1, 1, 3, 2, 1, 3, 3, 3, 1, 1, 1, 1, 1, 1, 1, 1, 1, 1, 1, 1, 3, 1, 3, 1, 1, 1, 1, 1, 1, 3, 1, 3, 1, 3, 1, 3, 1, 3, 1, 1, 1, 3, 3, 1, 1, 1, 3, 3, 1, 1, 3, 3, 1, 3, 1, 3, 1, 1, 1, 1, 1, 1, 3, 3, 3, 1, 1, 3, 3, 3, 3, 1, 3, 3, 1, 3, 1, 1, 1, 1, 3, 3, 1, 1, 1, 3, 1, 1, 3, 1, 3, 1, 1, 1, 1, 1, 1, 1, 3, 1, 1, 3, 1, 3, 3, 1, 1, 3, 1, 1, 3, 1, 3, 1, 1, 2, 1, 1, 1, 1, 1, 1, 3, 3, 1, 1, 1, 3, 3, 1, 1, 1, 1, 3, 1, 1, 1, 1, 1, 1, 1, 1, 1, 3, 1, 1, 1, 3, 3, 3, 3, 1, 3, 3, 3, 1, 1, 3, 1, 1, 1, 1, 1, 3, 1, 1, 1, 3, 1, 3, 3, 1, 1, 1, 1, 1, 3, 2, 3, 1, 1, 3, 1, 1, 1, 1, 3, 3, 3, 3, 3, 3, 3, 3, 3, 1, 1, 1, 1, 1, 1, 1, 3, 3, 3, 3, 3, 3, 3, 3, 1, 1, 1, 2, 3, 3, 1, 3, 3, 3, 3, 1, 1, 1, 1, 1, 1, 1, 3, 3, 1, 1, 3, 1, 3, 1, 1, 3, 1, 3, 1, 3, 3, 1, 3, 1, 1, 3, 1, 1, 1, 3, 2, 1, 1, 1, 3, 3, 3, 3, 3, 1, 1, 1, 3, 1, 1, 1, 1, 1, 3, 3, 1, 3, 1, 3, 1, 3, 3, 3, 3, 1, 1, 1, 1, 2, 1, 1, 1, 3, 2, 3, 1, 3, 3, 3, 3, 1, 3, 1, 3, 3, 3, 3, 1, 3, 1, 1, 3, 3, 3, 1, 1, 1, 1, 1, 1, 1, 1, 1, 1, 1, 1, 3, 1, 1, 1, 3, 1, 3, 1, 1, 1, 1, 1, 1, 1, 3, 1, 1, 3, 3, 3, 3, 3, 1, 1, 1, 1, 2, 1, 3, 3, 1, 3, 1, 1, 3, 1, 3, 1, 1, 1, 1, 1, 1, 1, 1, 2, 3, 1, 3, 3, 1, 3, 3, 3, 3, 2, 1, 1, 1, 1, 3, 2, 1, 1, 3, 3, 3, 3, 3, 1, 1, 3, 3, 3, 3, 1, 3, 3, 3, 3, 3, 3, 3, 1, 2, 3, 1, 3, 1, 1, 1, 1, 3, 2, 1, 3, 1, 3, 1, 3, 3, 1, 3, 3, 1, 3, 3, 1, 3, 1, 3, 3, 3, 1, 1, 1, 1, 1, 1, 1, 3, 3, 3, 1, 1, 3, 3, 1, 3, 3, 3, 3, 3, 3, 1, 1, 1, 3, 1, 3, 1, 3, 3, 3, 1, 1, 3, 3, 3, 3, 3, 1, 3, 2, 1, 3, 1, 3, 1, 3, 3, 3, 1, 1, 1, 3, 3, 1, 3, 1, 3, 3, 3, 3, 3, 3, 1, 3, 1, 1, 1, 3, 3, 2, 3, 3, 3, 3, 3, 1, 1, 2, 3, 1, 1, 3, 1, 3, 3, 1, 3, 3, 1, 1, 1, 3, 1, 1, 1, 1, 1, 1, 3, 1, 1, 3, 3, 1, 1, 3, 2, 1, 1, 3, 1, 1, 1, 1, 3, 1, 1, 3, 1, 1, 3, 1, 1, 3, 3, 3, 3, 3, 3, 3, 3, 1, 1, 3, 1, 1, 2, 3, 1, 3, 3, 3, 1, 1, 3, 3, 1, 3, 1, 1, 1, 1, 3, 1, 3, 3, 3, 1, 3, 1, 1, 1, 3, 3, 1, 2, 3, 1, 3, 1, 1, 1, 1, 1, 1, 3, 3, 1, 1, 3, 1, 1, 3, 3, 1, 3, 2, 3, 3, 1, 3, 1, 1, 3, 3, 3, 1, 3, 3, 1, 3, 3, 1, 3, 1, 1, 3, 1, 1, 3, 3, 1, 3, 3, 1, 3, 3, 3, 3, 3, 1, 1, 1, 3, 1, 1, 3, 1, 1, 1, 1, 3, 3, 3, 3, 3, 1, 1, 1, 3, 3, 1, 3, 3, 1, 1, 1, 1, 3, 2, 3, 3, 3, 3, 3, 1, 1, 1, 3, 3, 1, 1, 3, 3, 2, 1, 3, 1, 3, 1, 3, 3, 1, 3, 1, 3, 1, 1, 3, 3, 1, 1, 1, 1, 1, 1, 1, 1, 1, 3, 1, 1, 3, 3, 1, 1, 1, 1, 1, 1, 1, 1, 1, 3, 3, 3, 3, 3, 3, 3, 1, 1, 1, 1, 1, 3, 3, 3, 3, 1, 1, 3, 3, 1, 1, 1, 1, 1, 1, 3, 3, 1, 3, 3, 1, 3, 3, 3, 3, 3, 3, 1, 3, 3, 1, 1, 1, 3, 3, 1, 3, 3, 3, 3, 1, 1, 1, 1, 3, 1, 1, 3, 1, 2, 3, 3, 3, 3, 1, 1, 3, 3, 1, 3, 1, 3, 3, 3, 3, 1, 3, 1, 1, 3, 3, 3, 3, 1, 1, 1, 3, 3, 1, 1, 1, 1, 1, 1, 3, 3, 3, 1, 3, 3, 1, 1, 3, 1, 1, 1, 1, 1, 3, 1, 1, 1, 3, 3, 1, 1, 1, 1, 3, 3, 3, 1, 3, 3, 1, 1, 1, 1, 3, 3, 1, 3, 3, 3, 1, 1, 1, 1, 1, 3, 3, 3, 1, 1, 1, 3, 1, 1, 3, 3, 3, 1, 3, 3, 3, 1, 1, 1, 3, 3, 3, 1, 3, 3, 3, 3, 3, 1, 3, 1, 3, 1, 1, 1, 3, 1, 1, 3, 3, 1, 1, 1, 3, 1, 3, 1, 3, 1, 1, 1, 1, 1, 1, 1, 1, 1, 1, 1, 1, 1, 3, 3, 3, 3, 3, 1, 1, 3, 3, 1, 3, 3, 1, 1, 1, 1, 1, 1, 3, 1, 3, 2, 1, 1, 1, 1, 1, 3, 1, 1, 1, 1, 3, 3, 1, 1, 3, 1, 1, 1, 1, 3, 3, 3, 3, 3, 1, 2, 1, 1, 1, 1, 1, 1, 3, 3, 2, 3, 3, 3, 1, 1, 1, 1, 3, 3, 1, 3, 3, 1, 1, 3, 3, 1, 3, 3, 1, 1, 3, 1, 3, 3, 3, 3, 3, 1, 1, 3, 1, 1, 2, 1, 1, 1, 1, 1, 1, 1, 3, 3, 3, 3, 2, 3, 1, 3, 3, 1, 1, 1, 3, 1, 1, 1, 1, 1, 1, 3, 3, 3, 1, 1, 1, 3, 1, 1, 3, 1, 1, 3, 1, 1, 1, 1, 1, 3, 1, 3, 3, 1, 3, 3, 1, 3, 1, 3, 1, 1, 1, 3, 3, 3, 3, 1, 1, 1, 1, 3, 1, 3, 1, 3, 1, 3, 3, 1, 3, 1, 3, 2, 1, 3, 3, 1, 1, 1, 3, 3, 3, 1, 3, 3, 3, 3, 1, 1, 1, 1, 3, 1, 1, 1, 1, 1, 1, 1, 3, 3, 3, 1, 1, 1, 1, 2, 3, 1, 1, 3, 2, 1, 1, 3, 1, 1, 2, 3, 1, 3, 1, 3, 1, 1, 1, 1, 3, 3, 3, 1, 1, 3, 1, 3, 3, 3, 3, 1, 1, 3, 1, 3, 1, 1, 1, 1, 3, 3, 1, 3, 1, 1, 1, 1, 1, 1, 3, 3, 1, 1, 1, 1, 1, 1, 1, 1, 1, 3, 1, 1, 1, 1, 1, 3, 1, 3, 3, 3, 3, 3, 3, 2, 3, 1, 3, 3, 3, 3, 3, 3, 3, 3, 1, 1, 3, 3, 3, 3, 3, 1, 1, 3, 1, 1, 1, 1, 3, 3, 3, 3, 1, 3, 1, 3, 1, 3, 3, 3, 3, 3, 3, 1, 1, 1, 3, 3, 1, 3, 3, 3, 3, 1, 3, 3, 3, 3, 3, 3, 3, 3, 3, 3, 1, 1, 1, 3, 1, 1, 1, 2, 1, 3, 3, 1, 1, 1, 1, 3, 1, 1, 1, 1, 3, 1, 1, 1, 1, 1, 1, 3, 3, 3, 1, 1, 1, 3, 1, 3, 1, 3, 3, 1, 1, 1, 1, 3, 3, 1, 3, 3, 1, 1, 1, 1, 1, 1, 3, 3, 3, 3, 1, 3, 3, 1, 1, 1, 1, 1, 1, 1, 3, 1, 1, 1, 1, 3, 3, 1, 1, 1, 3, 1, 1, 3, 1, 1, 1, 1, 3, 1, 1, 3, 3, 3, 3, 1, 3, 3, 1, 1, 1, 3, 2, 3, 1, 1, 1, 3, 3, 3, 1, 3, 3, 3, 2, 2, 3, 3, 3, 1, 3, 3, 1, 3, 3, 3, 3, 3, 1, 1, 1, 3, 3, 1, 3, 1, 3, 3, 1, 1, 1, 1, 3, 1, 1, 1, 3, 3, 1, 3, 1, 1, 1, 1, 1, 2, 3, 3, 3, 1, 1, 1, 1, 1, 3, 3, 1, 1, 1, 3, 1, 3, 1, 1, 3, 3, 3, 1, 3, 3, 1, 1, 3, 2, 2, 1, 3, 1, 1, 3, 3, 3, 3, 3, 3, 3, 1, 3, 1, 1, 1, 3, 1, 1, 1, 1, 3, 3, 1, 1, 1, 1, 1, 3, 3, 3, 1, 3, 3, 1, 1, 1, 3, 1, 1, 3, 1, 3, 3, 1, 1, 1, 1, 1, 1, 1, 3, 1, 3, 3, 1, 1, 1, 3, 1, 1, 1, 1, 1, 1, 2, 3, 1, 3, 1, 1, 3, 1, 1, 3, 3, 1, 3, 3, 1, 1, 1, 1, 1, 1, 1, 1, 3, 1, 3, 1, 3, 1, 1, 1, 1, 1, 1, 3, 3, 1, 1, 3, 1, 3, 1, 1, 3, 3, 3, 3, 3, 1, 1, 3, 3, 1, 3, 1, 1, 1, 1, 3, 1, 1, 1, 1, 1, 2, 3, 3, 3, 3, 3, 3, 3, 1, 3, 1, 1, 1, 1, 1, 1, 1, 3, 3, 1, 3, 1, 1, 3, 1, 3, 3, 3, 3, 3, 3, 3, 3, 3, 1, 3, 1, 1, 1, 1, 1, 3, 1, 3, 3, 2, 3, 1, 3, 3, 3, 1, 3, 1, 2, 3, 1, 3, 3, 3, 3, 1, 1, 3, 3, 1, 1, 3, 1, 3, 2, 1, 1, 1, 3, 1, 3, 3, 1, 3, 1, 3, 2, 1, 1, 1, 3, 1, 1, 1, 1, 3, 3, 3, 1, 1, 1, 1, 1, 3, 3, 3, 1, 1, 1, 3, 1, 3, 3, 3, 3, 3, 1, 3, 1, 3, 1, 3, 3, 1, 1, 3, 1, 3, 3, 1, 3, 3, 3, 3, 3, 3, 3, 3, 3, 3, 3, 3, 3, 1, 1, 1, 1, 1, 1, 1, 2, 3, 1, 3, 3, 3, 1, 1, 1, 1, 1, 1, 1, 1, 1, 3, 1, 3, 3, 1, 1, 3, 1, 3, 3, 1, 1, 3, 3, 1, 1, 3, 1, 1, 3, 1, 3, 3, 3, 3, 3, 3, 3, 3, 3, 3, 3, 3, 3, 1, 2, 3, 3, 1, 3, 1, 3, 3, 1, 3, 3, 2, 1, 1, 1, 1, 1, 1, 3, 1, 1, 3, 1, 1, 1, 1, 1, 3, 1, 1, 1, 3, 1, 3, 3, 1, 1, 3, 1, 1, 1, 1, 3, 1, 3, 3, 3, 3, 1, 1, 3, 1, 1, 1, 1, 1, 3, 1, 3, 1, 1, 1, 1, 1, 1, 1, 1, 1, 1, 1, 3, 3, 1, 3, 3, 3, 3, 1, 1, 3, 1, 3, 3, 1, 3, 3, 1, 2, 3, 3, 3, 1, 1, 3, 1, 1, 1, 3, 3, 1, 3, 1, 1, 3, 3, 3, 1, 1, 1, 1, 1, 2, 2, 3, 1, 1, 3, 1, 1, 3, 1, 1, 1, 1, 1, 3, 3, 1, 1, 3, 1, 3, 3, 1, 3, 3, 3, 3, 3, 3, 1, 3, 3, 1, 3, 3, 1, 1, 1, 1, 3, 1, 1, 3, 3, 2, 1, 1, 3, 1, 1, 1, 1, 1, 1, 3, 1, 1, 3, 1, 1, 1, 3, 3, 3, 3, 3, 1, 1, 1, 1, 1, 1, 1, 1, 3, 1, 3, 1, 1, 1, 1, 1, 1, 1, 3, 1, 1, 1, 3, 1, 3, 1, 1, 1, 3, 3, 3, 3, 1, 1, 2, 2, 3, 3, 3, 1, 1, 1, 3, 1, 1, 3, 3, 1, 3, 1, 3, 3, 1, 1, 1, 1, 1, 3, 3, 1, 1, 1, 1, 1, 1, 1, 1, 1, 1, 3, 3, 3, 3, 3, 1, 3, 3, 1, 1, 1, 1, 1, 3, 3, 3, 1, 1, 3, 1, 3, 3, 3, 1, 1, 1, 1, 1, 3, 3, 3, 3, 3, 3, 3, 3, 3, 1, 1, 1, 1, 1, 1, 3, 3, 1, 1, 1, 3, 1, 3, 1, 3, 1, 1, 2, 3, 1, 1, 3, 1, 1, 1, 3, 1, 1, 3, 3, 1, 3, 3, 3, 3, 3, 3, 1, 1, 1, 1, 1, 3, 1, 1, 1, 3, 3, 3, 3, 3, 3, 1, 1, 1, 1, 1, 1, 3, 3, 3, 1, 3, 1, 1, 1, 1, 1, 1, 3, 1, 3, 1, 3, 1, 1, 3, 3, 3, 1, 1, 3, 3, 1, 1, 3, 3, 1, 1, 3, 3, 1, 3, 1, 1, 3, 1, 1, 1, 1, 3, 3, 3, 3, 3, 1, 1, 3, 3, 3, 1, 3, 1, 1, 1, 1, 3, 1, 1, 1, 1, 1, 2, 3, 1, 1, 1, 3, 3, 1, 1, 1, 1, 1, 1, 3, 1, 3, 1, 1, 1, 1, 1, 1, 1, 3, 3, 2, 1, 1, 1, 1, 3, 3, 3, 3, 1, 1, 1, 1, 1, 1, 1, 3, 3, 3, 3, 1, 3, 1, 1, 1, 1, 1, 1, 1, 1, 3, 3, 1, 2, 1, 2, 1, 1, 2, 1, 3, 3, 3, 3, 3, 1, 1, 1, 3, 1, 3, 3, 3, 3, 3, 1, 3, 3, 1, 1, 1, 1, 1, 1, 3, 1, 3, 3, 1, 1, 1, 1, 1, 3, 1, 3, 1, 1, 1, 1, 3, 3, 1, 1, 1, 3, 3, 3, 1, 1, 1, 3, 1, 3, 1, 3, 3, 3, 1, 3, 3, 3, 1, 3, 2, 1, 3, 1, 1, 1, 2, 1, 1, 1, 3, 1, 3, 1, 3, 1, 3, 3, 1, 3, 3, 3, 3, 3, 1, 1, 1, 1, 3, 3, 1, 3, 1, 1, 1, 1, 3, 1, 3, 1, 1, 1, 3, 3, 3, 3, 3, 1, 1, 1, 3, 1, 1, 1, 3, 1, 2, 3, 3, 1, 1, 1, 1, 1, 1, 1, 1, 3, 1, 1, 3, 3, 3, 3, 1, 1, 1, 1, 3, 1, 1, 3, 3, 3, 3, 3, 3, 1, 3, 1, 1, 1, 1, 1, 1, 1, 3, 1, 1, 1, 1, 1, 3, 1, 3, 1, 1, 3, 1, 1, 1, 3, 3, 1, 1, 3, 2, 1, 1, 1, 1, 2, 3, 1, 1, 3, 3, 1, 1, 3, 3, 1, 3, 1, 3, 3, 1, 1, 1, 3, 3, 1, 1, 1, 3, 3, 3, 3, 3, 1, 1, 3, 3, 3, 3, 1, 3, 1, 1, 3, 3, 3, 3, 3, 3, 3, 3, 3, 2, 3, 1, 1, 3, 3, 1, 3, 3, 1, 3, 1, 3, 3, 1, 1, 3, 1, 1, 3, 1, 1, 3, 1, 3, 3, 1, 1, 1, 1, 1, 1, 3, 3, 1, 1, 3, 3, 1, 1, 1, 1, 1, 1, 1, 1, 1, 1, 1, 3, 1, 1, 1, 3, 3, 3, 3, 3, 3, 3, 1, 1, 3, 3, 3, 3, 3, 3, 1, 3, 3, 1, 1, 1, 3, 3, 1, 3, 3, 1, 1, 3, 1, 3, 1, 1, 1, 1, 1, 3, 1, 3, 1, 1, 1, 3, 3, 1, 3, 1, 1, 3, 3, 3, 3, 1, 1, 1, 1, 3, 1, 1, 1, 1, 3, 3, 3, 3, 1, 3, 1, 3, 3, 3, 3, 3, 2, 3, 3, 1, 1, 3, 3, 1, 3, 3, 3, 3, 1, 3, 3, 1, 3, 3, 3, 3, 1, 3, 3, 3, 1, 1, 3, 2, 1, 3, 1, 3, 3, 1, 3, 3, 1, 3, 1, 3, 1, 3, 3, 1, 1, 3, 3, 1, 1, 1, 1, 1, 1, 3, 1, 3, 3, 3, 3, 1, 1, 3, 2, 1, 3, 1, 3, 1, 1, 1, 2, 3, 3, 3, 3, 3, 3, 3, 1, 3, 1, 1, 1, 3, 1, 1, 1, 3, 1, 2, 1, 1, 1, 1, 1, 1, 3, 3, 1, 1, 1, 1, 1, 3, 3, 3, 3, 1, 1, 1, 1, 1, 3, 3, 3, 3, 1, 1, 3, 1, 3, 3, 1, 1, 3, 3, 3, 3, 1, 3, 1, 1, 1, 1, 1, 3, 1, 3, 1, 3, 3, 1, 1, 3, 3, 3, 1, 1, 1, 3, 1, 1, 3, 3, 1, 1, 3, 1, 1, 3, 3, 3, 3, 1, 3, 1, 1, 1, 1, 1, 1, 3, 1, 3, 1, 1, 3, 3, 1, 3, 2, 1, 3, 1, 1, 1, 3, 3, 1, 3, 3, 1, 1, 3, 3, 1, 3, 3, 1, 1, 1, 1, 3, 1, 1, 3, 3, 1, 1, 1, 1, 3, 1, 3, 1, 3, 3, 1, 1, 1, 1, 3, 2, 3, 3, 3, 1, 3, 3, 1, 3, 3, 3, 3, 1, 1, 1, 3, 1, 1, 3, 1, 1, 1, 3, 1, 1, 3, 1, 1, 3, 1, 3, 2, 1, 3, 1, 3, 3, 3, 3, 1, 1, 1, 1, 3, 3, 1, 1, 3, 1, 3, 3, 3, 1, 3, 3, 1, 1, 3, 3, 3, 3, 1, 1, 3, 3, 3, 1, 1, 1, 1, 2, 1, 1, 3, 3, 3, 1, 1, 1, 1, 1, 1, 1, 1, 1, 1, 3, 1, 3, 1, 3, 1, 1, 1, 1, 1, 3, 1, 1, 3, 3, 3, 3, 1, 1, 1, 1, 1, 3, 1, 3, 1, 1, 3, 3, 1, 3, 3, 3, 1, 1, 3, 1, 1, 3, 1, 3, 1, 3, 1, 1, 3, 3, 3, 1, 1, 1, 1, 1, 3, 1, 3, 3, 3, 3, 3, 3, 3, 3, 1, 1, 1, 3, 3, 1, 3, 3, 3, 3, 1, 3, 3, 1, 3, 1, 1, 1, 1, 1, 1, 3, 1, 3, 1, 3, 3, 1, 3, 1, 1, 1, 2, 1, 3, 1, 3, 3, 1, 3, 1, 1, 1, 3, 3, 2, 1, 1, 3, 3, 1, 1, 1, 3, 1, 3, 3, 1, 1, 1, 1, 1, 1, 1, 3, 1, 3, 1, 1, 3, 3, 3, 3, 2, 3, 3, 1, 1, 1, 1, 1, 3, 1, 1, 1, 3, 1, 1, 3, 1, 1, 1, 1, 1, 1, 3, 1, 1, 1, 1, 1, 1, 1, 1, 1, 1, 1, 1, 2, 1, 1, 3, 1, 1, 3, 3, 1, 3, 3, 1, 1, 1, 3, 1, 3, 3, 1, 3, 1, 3, 1, 1, 1, 3, 3, 3, 3, 1, 3, 3, 3, 2, 3, 3, 1, 1, 1, 1, 3, 3, 3, 3, 1, 3, 1, 1, 1, 1, 3, 3, 3, 3, 1, 3, 1, 1, 1, 3, 1, 1, 3, 1, 2, 3, 3, 3, 3, 1, 1, 1, 3, 1, 1, 1, 3, 3, 1, 1, 1, 3, 1, 1, 3, 1, 3, 1, 3, 3, 3, 3, 3, 3, 3, 3, 1, 1, 3, 1, 1, 2, 1, 1, 1, 2, 1, 1, 3, 1, 3, 3, 1, 1, 3, 1, 3, 3, 2, 2, 2, 3, 1, 1, 1, 3, 3, 3, 1, 1, 1, 1, 3, 1, 3, 3, 3, 3, 3, 3, 1, 3, 3, 3, 2, 3, 3, 1, 3, 3, 1, 1, 3, 1, 1, 1, 1, 1, 1, 3, 3, 1, 1, 1, 1, 3, 1, 3, 1, 1, 1, 1, 3, 1, 1, 3, 1, 1, 1, 1, 1, 1, 1, 1, 1, 3, 1, 1, 1, 1, 3, 3, 1, 1, 1, 3, 3, 3, 1, 1, 3, 3, 1, 1, 1, 3, 3, 1, 3, 3, 3, 1, 2, 3, 3, 1, 1, 3, 1, 1, 1, 3, 1, 3, 1, 3, 1, 3, 3, 3, 1, 1, 1, 3, 3, 3, 1, 1, 1, 3, 3, 1, 3, 3, 3, 3, 1, 3, 3, 3, 1, 3, 1, 1, 1, 1, 3, 1, 3, 3, 1, 3, 3, 3, 3, 1, 1, 1, 1, 1, 3, 3, 3, 3, 1, 3, 3, 1, 1, 3, 3, 1, 3, 1, 3, 1, 1, 1, 1, 1, 1, 1, 1, 3, 1, 3, 3, 1, 1, 1, 3, 3, 3, 3, 1, 3, 1, 1, 3, 3, 1, 1, 2, 1, 3, 1, 1, 1, 1, 1, 3, 3, 3, 3, 1, 1, 3, 1, 1, 3, 3, 3, 3, 3, 3, 1, 1, 1, 1, 1, 1, 1, 1, 3, 3, 1, 1, 1, 1, 1, 1, 3, 1, 1, 3, 1, 1, 1, 3, 1, 3, 1, 3, 1, 1, 1, 3, 3, 3, 2, 1, 1, 1, 3, 3, 2, 3, 3, 3, 3, 1, 3, 1, 3, 3, 3, 1, 1, 3, 1, 1, 3, 1, 1, 3, 3, 3, 3, 1, 3, 3, 1, 3, 3, 3, 1, 1, 1, 3, 1, 3, 1, 1, 1, 1, 1, 1, 3, 1, 3, 3, 3, 3, 1, 1, 1, 1, 1, 1, 3, 1, 1, 1, 1, 3, 3, 1, 3, 1, 3, 3, 1, 3, 1, 3, 1, 1, 3, 1, 1, 3, 3, 1, 3, 3, 3, 1, 3, 3, 3, 1, 1, 3, 1, 3, 1, 1, 1, 1, 3, 3, 1, 3, 3, 1, 3, 3, 3, 3, 3, 3, 1, 1, 3, 1, 3, 1, 3, 3, 1, 1, 1, 1, 1, 3, 3, 2, 1, 1, 1, 1, 2, 3, 1, 3, 3, 3, 1, 1, 3, 3, 1, 1, 1, 3, 3, 3, 3, 1, 1, 1, 1, 1, 1, 1, 1, 3, 3, 3, 3, 1, 3, 3, 2, 3, 1, 1, 1, 3, 3, 1, 3, 2, 3, 1, 1, 2, 2, 3, 1, 1, 1, 3, 1, 3, 1, 1, 3, 3, 3, 1, 1, 3, 3, 1, 3, 1, 1, 1, 1, 3, 2, 3, 1, 1, 3, 3, 1, 3, 3, 3, 1, 3, 1, 1, 2, 3, 1, 3, 1, 1, 1, 1, 3, 1, 1, 1, 1, 3, 3, 3, 1, 3, 3, 3, 3, 3, 1, 3, 1, 1, 1, 1, 1, 1, 3, 3, 3, 1, 1, 1, 3, 2, 3, 2, 2, 3, 1, 3, 1, 1, 3, 1, 1, 1, 1, 3, 1, 1, 1, 1, 1, 1, 1, 1, 1, 1, 1, 1, 3, 1, 1, 1, 1, 3, 1, 1, 1, 3, 3, 3, 1, 3, 2, 3, 1, 3, 3, 3, 3, 1, 3, 1, 1, 3, 1, 3, 1, 3, 3, 1, 3, 3, 3, 3, 3, 3, 1, 3, 3, 3, 1, 3, 3, 3, 3, 1, 3, 1, 3, 3, 1, 1, 3, 3, 1, 1, 3, 3, 1, 1, 1, 1, 1, 3, 3, 3, 3, 1, 3, 3, 1, 2, 3, 3, 1, 1, 3, 3, 1, 1, 3, 1, 1, 3, 1, 1, 1, 1, 1, 1, 3, 3, 3, 1, 3, 3, 1, 1, 3, 3, 3, 1, 1, 1, 1, 3, 1, 3, 3, 3, 1, 1, 3, 1, 1, 3, 3, 1, 1, 3, 3, 3, 3, 1, 1, 1, 1, 3, 3, 3, 3, 3, 3, 1, 3, 1, 3, 3, 1, 3, 1, 1, 3, 1, 3, 3, 3, 1, 1, 1, 1, 1, 1, 1, 1, 3, 3, 3, 1, 1, 2, 3, 1, 3, 1, 3, 3, 3, 1, 2, 3, 3, 1, 3, 3, 1, 1, 1, 1, 1, 3, 3, 1, 2, 1, 1, 1, 3, 3, 1, 1, 1, 1, 1, 1, 1, 1, 3, 3, 3, 3, 3, 1, 1, 3, 3, 1, 1, 1, 3, 3, 3, 3, 2, 1, 1, 3, 3, 1, 2, 1, 3, 1, 3, 3, 3, 1, 3, 1, 1, 1, 2, 3, 1, 1, 1, 1, 3, 3, 2, 3, 3, 3, 3, 1, 1, 1, 1, 1, 3, 3, 3, 3, 1, 3, 3, 3, 3, 3, 3, 1, 3, 1, 3, 3, 3, 3, 1, 1, 3, 3, 1, 3, 1, 3, 3, 3, 1, 1, 3, 1, 1, 3, 3, 3, 3, 3, 3, 1, 3, 3, 1, 3, 3, 1, 1, 1, 1, 1, 1, 1, 1, 1, 1, 3, 3, 3, 3, 1, 1, 3, 3, 1, 1, 1, 1, 3, 3, 3, 1, 1, 1, 3, 1, 3, 3, 1, 1, 3, 1, 1, 1, 1, 1, 1, 1, 1, 2, 3, 3, 3, 3, 1, 1, 1, 1, 3, 1, 2, 3, 3, 3, 1, 3, 3, 1, 3, 3, 1, 1, 1, 1, 1, 3, 1, 3, 1, 1, 1, 1, 3, 1, 1, 3, 3, 2, 3, 1, 1, 1, 2, 1, 1, 1, 1, 1, 1, 3, 1, 3, 3, 3, 1, 3, 1, 1, 3, 3, 1, 3, 1, 1, 1, 1, 2, 3, 3, 3, 3, 3, 1, 2, 1, 3, 1, 1, 3, 3, 3, 3, 1, 1, 3, 1, 1, 1, 1, 3, 3, 3, 3, 3, 3, 1, 1, 1, 3, 1, 3, 3, 3, 3, 3, 3, 1, 3, 1, 1, 1, 3, 3, 3, 3, 1, 3, 1, 3, 1, 3, 3, 1, 1, 3, 3, 2, 3, 3, 1, 3, 1, 1, 1, 1, 1, 1, 3, 1, 3, 1, 3, 1, 3, 1, 3, 1, 1, 1, 1, 2, 1, 1, 1, 1, 1, 3, 1, 1, 1, 3, 3, 1, 3, 1, 1, 1, 1, 1, 1, 1, 3, 3, 3, 3, 1, 1, 3, 3, 1, 3, 3, 3, 3, 3, 1, 3, 3, 1, 3, 1, 1, 3, 1, 1, 3, 1, 1, 1, 1, 3, 1, 3, 3, 1, 3, 3, 1, 1, 3, 1, 1, 1, 3, 3, 3, 1, 1, 1, 2, 1, 3, 1, 3, 1, 1, 1, 3, 3, 1, 3, 3, 3, 1, 1, 1, 1, 1, 3, 3, 1, 3, 3, 1, 1, 3, 1, 1, 1, 1, 1, 1, 1, 3, 1, 1, 3, 1, 3, 1, 3, 2, 1, 3, 3, 1, 1, 1, 3, 3, 3, 3, 3, 1, 1, 1, 1, 3, 3, 3, 3, 1, 1, 3, 1, 1, 1, 1, 1, 3, 1, 3, 1, 3, 3, 1, 3, 1, 1, 1, 1, 1, 3, 1, 3, 1, 1, 1, 3, 1, 3, 3, 1, 3, 3, 1, 1, 3, 1, 1, 3, 1, 1, 1, 1, 3, 1, 3, 3, 3, 1, 1, 1, 3, 1, 1, 1, 1, 1, 2, 3, 1, 3, 3, 1, 3, 3, 1, 3, 3, 1, 1, 1, 3, 1, 1, 3, 1, 3, 3, 3, 2, 1, 1, 1, 3, 1, 3, 1, 3, 1, 3, 3, 3, 3, 3, 1, 1, 2, 3, 3, 3, 3, 1, 1, 3, 3, 3, 1, 1, 1, 1, 1, 3, 3, 3, 1, 2, 3, 3, 3, 1, 1, 1, 3, 1, 1, 1, 1, 1, 3, 3, 3, 3, 1, 3, 3, 1, 1, 1, 3, 1, 1, 1, 1, 1, 1, 1, 1, 2, 1, 1, 1, 3, 1, 3, 3, 1, 1, 1, 1, 1, 3, 1, 1, 3, 1, 3, 3, 3, 1, 3, 1, 3, 1, 3, 1, 1, 2, 3, 1, 1, 1, 3, 1, 3, 1, 3, 1, 1, 1, 1, 1, 3, 1, 1, 3, 3, 1, 3, 1, 1, 3, 3, 3, 3, 1, 3, 3, 1, 1, 1, 3, 3, 1, 3, 3, 3, 3, 3, 3, 3, 3, 1, 1, 2, 1, 2, 1, 1, 1, 3, 3, 1, 1, 1, 3, 1, 3, 1, 3, 1, 3, 3, 1, 3, 3, 2, 3, 2, 3, 3, 1, 1, 1, 1, 1, 1, 3, 3, 3, 3, 2, 2, 1, 1, 2, 3, 1, 1, 1, 1, 1, 3, 1, 3, 3, 1, 3, 1, 1, 3, 1, 1, 1, 1, 3, 1, 1, 1, 1, 1, 1, 1, 1, 1, 3, 1, 3, 3, 1, 3, 2, 1, 1, 1, 3, 3, 1, 1, 1, 1, 3, 1, 1, 1, 1, 3, 1, 1, 1, 3, 3, 3, 1, 1, 1, 3, 3, 3, 1, 1, 1, 3, 1, 1, 3, 1, 1, 1, 1, 1, 3, 3, 1, 1, 1, 1, 1, 1, 1, 1, 1, 3, 3, 1, 1, 1, 3, 3, 3, 3, 3, 1, 3, 1, 1, 1, 3, 1, 1, 3, 3, 1, 1, 3, 3, 3, 3, 3, 3, 1, 1, 1, 3, 1, 1, 1, 1, 1, 3, 1, 1, 3, 3, 1, 1, 1, 3, 1, 1, 1, 3, 1, 3, 1, 1, 1, 1, 1, 3, 3, 1, 1, 3, 1, 3, 3, 3, 1, 1, 3, 1, 1, 3, 1, 3, 3, 1, 3, 1, 1, 3, 1, 1, 1, 3, 1, 3, 3, 1, 1, 1, 1, 3, 3, 1, 3, 1, 3, 1, 3, 1, 3, 1, 3, 1, 3, 3, 3, 1, 1, 3, 1, 3, 1, 1, 1, 2, 1, 1, 1, 1, 3, 1, 1, 1, 1, 1, 2, 1, 3, 1, 1, 1, 1, 1, 1, 3, 3, 1, 1, 3, 1, 3, 3, 3, 1, 3, 1, 1, 1, 1, 1, 3, 3, 1, 1, 2, 3, 3, 1, 1, 3, 1, 2, 1, 1, 3, 3, 3, 1, 3, 3, 1, 3, 1, 1, 2, 1, 1, 1, 1, 3, 1, 1, 3, 3, 3, 3, 1, 1, 1, 3, 3, 1, 1, 1, 3, 3, 3, 1, 1, 1, 3, 3, 3, 1, 1, 1, 3, 3, 3, 3, 3, 3, 3, 1, 1, 1, 1, 3, 1, 1, 1, 3, 1, 2, 1, 1, 3, 1, 3, 1, 1, 1, 1, 3, 3, 1, 1, 3, 1, 3, 3, 1, 3, 1, 1, 1, 1, 1, 3, 1, 1, 1, 1, 1, 3, 1, 3, 3, 1, 1, 1, 3, 3, 3, 3, 3, 1, 3, 3, 3, 3, 3, 1, 1, 1, 1, 1, 3, 3, 3, 3, 3, 1, 1, 3, 1, 3, 3, 1, 2, 3, 3, 1, 1, 1, 1, 3, 1, 1, 1, 3, 3, 1, 1, 1, 3, 1, 3, 1, 1, 3, 3, 3, 3, 1, 3, 1, 3, 1, 1, 3, 3, 1, 3, 3, 3, 3, 2, 1, 1, 2, 2, 1, 1, 3, 3, 1, 1, 1, 3, 3, 2, 3, 3, 1, 1, 1, 3, 1, 3, 1, 1, 3, 3, 1, 3, 1, 3, 2, 1, 1, 3, 1, 2, 3, 3, 1, 1, 1, 1, 3, 1, 1, 1, 1, 1, 1, 3, 1, 3, 3, 3, 1, 3, 3, 1, 3, 1, 1, 1, 1, 3, 1, 3, 1, 3, 1, 1, 1, 1, 1, 3, 1, 1, 3, 3, 3, 3, 3, 1, 3, 1, 3, 1, 1, 1, 1, 1, 1, 1, 1, 1, 3, 1, 3, 3, 1, 3, 3, 3, 3, 1, 1, 1, 3, 1, 1, 3, 1, 1, 1, 2, 1, 3, 2, 1, 1, 1, 1, 1, 3, 1, 3, 1, 1, 1, 1, 1, 3, 1, 1, 3, 1, 1, 1, 1, 1, 1, 3, 3, 3, 3, 1, 1, 1, 3, 1, 3, 3, 3, 1, 1, 1, 1, 1, 1, 1, 3, 3, 1, 3, 1, 1, 3, 3, 3, 1, 3, 3, 1, 1, 3, 1, 3, 3, 1, 1, 1, 3, 3, 1, 3, 1, 1, 1, 1, 3, 1, 3, 3, 1, 3, 1, 3, 3, 3, 1, 3, 3, 1, 1, 1, 3, 2, 1, 3, 1, 3, 3, 2, 3, 1, 3, 3, 3, 1, 3, 3, 3, 3, 1, 1, 1, 1, 1, 3, 3, 3, 3, 3, 3, 1, 1, 3, 1, 3, 3, 1, 3, 1, 1, 1, 1, 3, 1, 1, 1, 1, 1, 1, 1, 1, 2, 1, 3, 3, 3, 3, 1, 3, 1, 1, 3, 3, 3, 3, 1, 3, 3, 3, 2, 1, 1, 1, 3, 1, 1, 3, 2, 1, 1, 1, 3, 1, 1, 1, 3, 3, 3, 1, 1, 1, 1, 1, 3, 3, 3, 1, 3, 3, 1, 3, 3, 3, 3, 3, 1, 3, 3, 1, 3, 1, 1, 3, 3, 1, 2, 1, 1, 1, 3, 3, 3, 3, 3, 3, 3, 3, 3, 3, 1, 1, 1, 1, 1, 1, 3, 1, 2, 3, 3, 3, 1, 3, 3, 3, 3, 3, 1, 3, 3, 3, 3, 1, 1, 1, 3, 3, 3, 3, 2, 3, 3, 1, 1, 3, 1, 3, 1, 1, 1, 3, 1, 3, 1, 1, 1, 3, 1, 1, 3, 3, 2, 1, 1, 1, 1, 1, 1, 1, 3, 3, 1, 3, 3, 1, 1, 1, 1, 3, 3, 3, 1, 3, 3, 1, 3, 1, 3, 1, 1, 3, 1, 1, 1, 1, 3, 3, 1, 3, 1, 3, 3, 3, 1, 1, 3, 3, 1, 1, 1, 3, 1, 2, 1, 3, 3, 1, 1, 1, 3, 1, 1, 1, 1, 1, 1, 3, 1, 3, 1, 3, 1, 3, 3, 3, 2, 3, 1, 3, 3, 3, 3, 3, 3, 1, 3, 2, 1, 1, 3, 1, 1, 1, 3, 3, 3, 3, 3, 1, 3, 1, 1, 3, 3, 1, 2, 1, 1, 3, 1, 3, 3, 3, 3, 1, 1, 3, 1, 1, 1, 1, 3, 1, 3, 1, 1, 1, 1, 1, 3, 1, 1, 1, 1, 3, 1, 1, 1, 3, 3, 3, 3, 3, 3, 3, 3, 3, 3, 3, 3, 3, 3, 3, 3, 1, 3, 3, 3, 1, 1, 1, 1, 1, 3, 1, 1, 3, 3, 3, 1, 3, 3, 1, 1, 1, 3, 1, 3, 1, 1, 3, 1, 1, 1, 1, 3, 1, 3, 3, 1, 1, 1, 1, 1, 3, 1, 1, 1, 1, 1, 3, 3, 3, 1, 1, 3, 1, 1, 3, 2, 1, 1, 1, 1, 1, 3, 1, 3, 3, 3, 3, 3, 3, 1, 1, 1, 1, 1, 1, 1, 3, 1, 1, 1, 1, 3, 1, 1, 1, 1, 3, 3, 3, 1, 1, 1, 1, 3, 3, 1, 1, 3, 1, 1, 1, 1, 3, 1, 3, 3, 1, 3, 3, 1, 3, 1, 3, 1, 3, 1, 1, 1, 3, 3, 3, 3, 3, 3, 1, 1, 3, 3, 3, 1, 1, 1, 1, 1, 1, 3, 1, 1, 3, 3, 3, 1, 1, 1, 3, 3, 1, 1, 1, 1, 3, 3, 1, 3, 3, 1, 3, 1, 3, 1, 2, 1, 3, 1, 3, 1, 1, 3, 1, 1, 3, 3, 1, 1, 1, 1, 3, 1, 1, 1, 3, 1, 1, 1, 1, 1, 3, 3, 3, 3, 1, 3, 1, 3, 3, 1, 3, 3, 3, 1, 1, 1, 1, 1, 1, 1, 3, 3, 3, 3, 1, 3, 3, 3, 1, 3, 1, 1, 3, 2, 1, 1, 3, 1, 3, 1, 1, 1, 1, 1, 1, 1, 1, 1, 2, 1, 1, 1, 1, 1, 1, 3, 1, 1, 3, 1, 1, 1, 1, 1, 3, 3, 3, 3, 1, 1, 1, 1, 1, 1, 1, 1, 2, 3, 3, 1, 1, 3, 3, 3, 3, 1, 1, 3, 3, 1, 1, 3, 1, 1, 1, 3, 3, 3, 1, 1, 1, 1, 1, 3, 1, 1, 3, 1, 1, 1, 3, 3, 1, 1, 3, 1, 3, 3, 3, 1, 1, 3, 1, 1, 1, 1, 1, 3, 2, 1, 1, 3, 1, 1, 1, 1, 3, 1, 1, 1, 1, 1, 3, 1, 1, 1, 1, 3, 1, 1, 1, 3, 3, 1, 1, 1, 1, 3, 2, 1, 1, 3, 1, 2, 3, 3, 3, 3, 1, 3, 3, 1, 1, 3, 1, 3, 1, 3, 1, 3, 1, 3, 3, 3, 1, 3, 3, 3, 3, 1, 1, 3, 1, 1, 3, 1, 2, 3, 1, 3, 1, 1, 1, 1, 1, 3, 1, 1, 3, 1, 3, 1, 1, 3, 1, 1, 3, 3, 3, 3, 1, 1, 1, 3, 1, 1, 1, 1, 3, 3, 3, 3, 1, 2, 3, 3, 3, 1, 3, 3, 1, 1, 1, 3, 2, 1, 3, 2, 1, 1, 1, 1, 1, 1, 3, 1, 1, 3, 1, 1, 1, 1, 1, 1, 3, 3, 3, 1, 1, 1, 1, 3, 1, 1, 1, 1, 1, 3, 3, 3, 1, 1, 1, 3, 3, 1, 1, 1, 1, 1, 1, 1, 1, 1, 3, 2, 1, 3, 3, 3, 3, 1, 1, 1, 3, 1, 1, 3, 1, 3, 3, 1, 1, 1, 3, 1, 1, 1, 1, 3, 1, 3, 3, 1, 1, 3, 3, 1, 3, 1, 1, 1, 1, 1, 3, 1, 1, 1, 3, 3, 3, 1, 1, 1, 1, 1, 1, 3, 1, 1, 3, 1, 1, 1, 3, 3, 3, 1, 3, 1, 1, 3, 1, 3, 3, 1, 1, 1, 3, 1, 1, 1, 1, 1, 1, 1, 1, 1, 1, 1, 1, 2, 3, 1, 1, 3, 3, 1, 1, 3, 1, 1, 1, 1, 3, 1, 1, 2, 3, 1, 1, 3, 1, 3, 3, 1, 1, 1, 3, 1, 3, 3, 3, 3, 3, 3, 3, 1, 1, 3, 3, 1, 3, 1, 1, 3, 1, 3, 3, 1, 3, 1, 1, 3, 1, 1, 1, 1, 1, 1, 1, 1, 1, 1, 3, 3, 3, 1, 1, 1, 1, 2, 1, 3, 1, 1, 1, 1, 3, 1, 3, 3, 1, 1, 1, 1, 3, 1, 3, 3, 3, 3, 3, 3, 3, 1, 3, 3, 1, 1, 3, 3, 1, 1, 1, 1, 1, 3, 3, 3, 3, 1, 3, 3, 1, 1, 3, 3, 1, 1, 1, 3, 1, 1, 1, 1, 1, 1, 3, 1, 3, 3, 1, 1, 3, 3, 3, 3, 3, 1, 3, 3, 1, 3, 1, 1, 3, 1, 3, 1, 3, 1, 3, 1, 3, 1, 3, 3, 1, 1, 1, 1, 1, 1, 1, 3, 1, 1, 3, 1, 1, 3, 3, 3, 1, 1, 1, 3, 1, 1, 1, 1, 1, 1, 1, 3, 3, 3, 1, 1, 3, 3, 1, 1, 3, 1, 3, 1, 3, 1, 3, 3, 3, 1, 3, 3, 1, 1, 1, 1, 1, 1, 3, 1, 1, 3, 3, 1, 1, 3, 3, 2, 1, 1, 1, 1, 2, 1, 3, 1, 1, 1, 3, 3, 3, 3, 3, 3, 1, 1, 1, 1, 3, 1, 3, 1, 1, 3, 3, 1, 1, 1, 3, 1, 1, 1, 1, 1, 1, 1, 1, 3, 1, 1, 1, 3, 3, 1, 3, 1, 3, 1, 3, 1, 1, 3, 1, 1, 1, 3, 1, 1, 1, 1, 1, 1, 3, 3, 3, 1, 3, 1, 1, 1, 3, 3, 3, 3, 1, 1, 3, 1, 1, 1, 3, 1, 1, 3, 3, 3, 1, 1, 1, 3, 1, 1, 1, 1, 2, 2, 3, 3, 3, 3, 3, 1, 1, 1, 1, 1, 3, 1, 3, 3, 1, 1, 3, 1, 3, 1, 1, 3, 1, 3, 3, 3, 3, 1, 1, 1, 1, 1, 1, 3, 1, 1, 1, 3, 3, 3, 3, 3, 3, 3, 1, 3, 1, 1, 3, 3, 1, 2, 1, 3, 1, 1, 3, 1, 1, 3, 3, 1, 1, 1, 3, 1, 1, 1, 3, 3, 3, 3, 1, 1, 1, 3, 1, 1, 2, 1, 1, 1, 3, 3, 1, 1, 1, 3, 1, 1, 1, 1, 3, 3, 1, 3, 1, 1, 1, 3, 1, 2, 1, 1, 3, 1, 1, 1, 1, 1, 3, 3, 3, 3, 1, 1, 3, 3, 1, 1, 3, 3, 1, 3, 3, 1, 3, 1, 1, 3, 1, 3, 1, 1, 2, 1, 1, 3, 1, 1, 1, 1, 1, 1, 1, 1, 3, 3, 3, 3, 3, 3, 1, 3, 3, 3, 1, 3, 3, 3, 3, 3, 3, 3, 3, 3, 3, 3, 3, 2, 2, 2, 2, 3, 1, 1, 3, 3, 1, 1, 3, 3, 3, 1, 1, 3, 3, 1, 3, 3, 3, 1, 3, 1, 1, 1, 2, 1, 1, 3, 3, 2, 3, 1, 1, 1, 3, 1, 1, 1, 3, 1, 1, 1, 3, 1, 1, 1, 1, 1, 1, 3, 1, 3, 3, 3, 3, 3, 3, 3, 3, 1, 1, 3, 1, 1, 3, 1, 1, 3, 1, 1, 1, 1, 1, 3, 1, 1, 3, 3, 1, 1, 1, 1, 1, 1, 3, 1, 1, 3, 1, 3, 1, 1, 1, 1, 1, 3, 3, 1, 3, 3, 2, 1, 1, 3, 1, 1, 1, 3, 1, 3, 3, 3, 1, 1, 1, 1, 3, 1, 1, 1, 1, 1, 1, 1, 1, 1, 3, 3, 2, 3, 1, 3, 3, 1, 3, 3, 1, 1, 1, 3, 1, 3, 3, 3, 3, 1, 3, 3, 1, 1, 1, 3, 1, 3, 1, 3, 1, 3, 3, 3, 1, 1, 3, 1, 1, 1, 3, 1, 1, 1, 3, 1, 3, 3, 1, 3, 1, 1, 1, 1, 1, 3, 1, 1, 3, 1, 3, 1, 3, 1, 1, 1, 1, 1, 1, 3, 3, 1, 3, 1, 1, 3, 3, 3, 1, 1, 3, 3, 3, 1, 3, 1, 1, 1, 1, 1, 3, 3, 3, 1, 3, 1, 3, 3, 3, 3, 3, 3, 1, 1, 1, 3, 1, 3, 2, 3, 1, 3, 2, 3, 3, 3, 1, 1, 1, 1, 3, 3, 1, 1, 1, 1, 1, 1, 1, 1, 1, 3, 3, 3, 1, 3, 3, 1, 3, 3, 3, 3, 2, 2, 3, 1, 3, 1, 3, 3, 3, 1, 3, 1, 1, 3, 3, 3, 1, 1, 1, 1, 3, 3, 3, 1, 3, 1, 1, 3, 1, 3, 2, 3, 3, 1, 1, 1, 1, 3, 3, 3, 3, 3, 3, 1, 3, 3, 1, 3, 3, 1, 3, 1, 1, 1, 1, 3, 1, 1, 1, 2, 1, 1, 1, 3, 1, 1, 1, 3, 1, 3, 3, 3, 3, 3, 3, 3, 1, 3, 3, 3, 1, 1, 1, 2, 1, 1, 1, 1, 2, 3, 3, 1, 3, 3, 1, 3, 1, 3, 3, 1, 1, 1, 1, 1, 3, 1, 3, 3, 3, 1, 1, 3, 3, 1, 1, 2, 1, 1, 2, 1, 1, 3, 3, 1, 3, 3, 1, 3, 1, 1, 3, 3, 3, 1, 1, 3, 3, 3, 3, 3, 1, 3, 3, 1, 3, 3, 1, 1, 1, 3, 1, 3, 1, 1, 1, 1, 3, 1, 1, 3, 1, 1, 1, 1, 3, 1, 3, 3, 3, 3, 3, 3, 1, 3, 1, 1, 1, 1, 1, 1, 1, 3, 3, 3, 3, 3, 3, 3, 3, 1, 3, 2, 3, 1, 1, 1, 1, 3, 1, 3, 1, 1, 1, 3, 1, 1, 3, 3, 3, 3, 1, 3, 1, 1, 1, 3, 1, 1, 3, 3, 1, 3, 1, 3, 3, 1, 3, 2, 3, 3, 1, 1, 1, 1, 1, 1, 1, 3, 1, 3, 1, 1, 3, 1, 1, 3, 1, 1, 3, 1, 3, 1, 3, 1, 3, 1, 1, 1, 1, 1, 1, 2, 1, 1, 3, 3, 3, 3, 1, 1, 1, 3, 3, 3, 3, 3, 1, 1, 1, 1, 3, 1, 1, 3, 1, 3, 3, 1, 2, 3, 1, 1, 1, 1, 3, 3, 1, 2, 3, 3, 1, 1, 3, 1, 1, 1, 1, 3, 1, 1, 3, 3, 3, 3, 1, 3, 1, 1, 1, 1, 1, 3, 3, 1, 1, 2, 1, 2, 3, 1, 1, 3, 1, 1, 1, 3, 3, 1, 1, 3, 3, 3, 3, 1, 1, 3, 1, 1, 3, 1, 2, 3, 1, 3, 1, 3, 3, 1, 3, 3, 1, 1, 3, 3, 1, 3, 3, 1, 1, 1, 3, 1, 1, 3, 3, 3, 1, 1, 1, 1, 3, 1, 1, 1, 3, 2, 1, 3, 1, 1, 1, 1, 1, 3, 1, 1, 1, 3, 1, 3, 1, 1, 3, 3, 1, 3, 1, 1, 1, 3, 1, 3, 3, 1, 1, 3, 2, 1, 1, 3, 1, 3, 1, 3, 1, 1, 3, 3, 3, 3, 3, 1, 3, 3, 3, 1, 1, 3, 3, 1, 1, 1, 1, 1, 1, 1, 1, 1, 3, 1, 3, 1, 1, 1, 1, 1, 1, 1, 3, 1, 3, 3, 1, 1, 1, 3, 1, 3, 3, 1, 3, 3, 1, 3, 3, 1, 1, 3, 1, 1, 3, 1, 1, 1, 1, 1, 1, 2, 3, 1, 2, 3, 3, 3, 1, 3, 1, 1, 1, 1, 1, 3, 3, 3, 3, 1, 3, 3, 3, 3, 3, 1, 1, 3, 1, 1, 1, 1, 1, 3, 1, 1, 1, 1, 1, 1, 1, 1, 1, 1, 1, 1, 1, 1, 1, 1, 1, 3, 1, 1, 1, 1, 1, 1, 1, 1, 1, 1, 1, 1, 1, 3, 1, 1, 1, 1, 3, 1, 3, 1, 2, 1, 1, 1, 1, 1, 1, 1, 1, 3, 3, 1, 3, 1, 1, 1, 3, 3, 1, 1, 1, 2, 1, 1, 3, 1, 3, 1, 3, 3, 1, 3, 1, 1, 1, 1, 1, 3, 3, 3, 3, 3, 1, 1, 1, 1, 3, 1, 3, 1, 1, 3, 3, 1, 1, 1, 3, 1, 1, 1, 1, 1, 1, 1, 3, 3, 3, 3, 1, 3, 1, 1, 1, 3, 1, 1, 1, 1, 1, 1, 1, 1, 1, 3, 1, 1, 1, 1, 1, 1, 1, 1, 1, 3, 1, 1, 3, 1, 3, 1, 1, 1, 1, 1, 1, 1, 1, 1, 1, 1, 1, 1, 1, 1, 1, 1, 1, 1, 3, 1, 1, 3, 1, 1, 1, 1, 1, 3, 3, 3, 3, 3, 3, 1, 1, 3, 3, 3, 1, 1, 1, 1, 3, 1, 3, 1, 1, 3, 3, 1, 1, 3, 3, 1, 3, 1, 1, 3, 1, 1, 3, 3, 1, 3, 1, 1, 1, 1, 1, 3, 1, 1, 1, 1, 1, 1, 1, 3, 1, 3, 1, 1, 1, 3, 3, 3, 3, 1, 1, 1, 2, 3, 3, 3, 1, 1, 1, 1, 1, 3, 1, 3, 3, 3, 3, 3, 1, 3, 1, 1, 3, 3, 1, 3, 1, 3, 3, 3, 3, 1, 3, 3, 3, 3, 3, 3, 3, 3, 1, 1, 1, 3, 3, 1, 1, 1, 3, 1, 3, 3, 3, 1, 2, 1, 1, 1, 3, 1, 1, 3, 1, 1, 3, 3, 3, 1, 1, 3, 3, 1, 2, 3, 1, 3, 1, 3, 1, 1, 3, 3, 3, 3, 1, 1, 1, 1, 3, 3, 3, 1, 1, 1, 1, 3, 1, 1, 3, 3, 1, 1, 3, 1, 1, 1, 1, 1, 1, 3, 1, 1, 1, 1, 3, 1, 1, 3, 3, 1, 3, 3, 3, 1, 1, 1, 3, 3, 1, 3, 1, 1, 3, 2, 2, 3, 1, 1, 3, 1, 1, 1, 3, 1, 1, 1, 1, 1, 1, 1, 1, 1, 3, 3, 3, 3, 3, 3, 3, 3, 3, 1, 1, 3, 3, 3, 1, 3, 3, 3, 3, 3, 3, 1, 3, 1, 1, 3, 1, 1, 3, 3, 1, 1, 1, 1, 3, 1, 1, 1, 1, 3, 3, 1, 1, 1, 3, 1, 3, 1, 3, 3, 1, 1, 3, 3, 3, 3, 3, 1, 1, 1, 1, 1, 2, 3, 3, 1, 1, 1, 1, 3, 1, 3, 1, 3, 1, 1, 1, 1, 3, 1, 3, 3, 1, 1, 1, 1, 1, 3, 1, 3, 3, 3, 3, 1, 1, 1, 3, 1, 3, 1, 1, 1, 1, 1, 1, 1, 3, 3, 3, 2, 3, 3, 1, 3, 1, 1, 3, 1, 3, 2, 3, 1, 3, 1, 3, 3, 1, 3, 3, 3, 1, 1, 1, 1, 1, 3, 3, 3, 3, 1, 3, 1, 3, 1, 2, 3, 3, 3, 1, 3, 3, 3, 3, 1, 1, 1, 3, 1, 1, 3, 1, 3, 1, 1, 3, 1, 1, 3, 1, 1, 1, 1, 1, 1, 1, 1, 3, 3, 2, 1, 3, 1, 1, 1, 3, 1, 1, 3, 1, 3, 1, 1, 1, 1, 1, 3, 1, 3, 3, 3, 1, 1, 1, 1, 3, 3, 3, 1, 3, 1, 1, 3, 3, 1, 1, 1, 1, 1, 1, 1, 3, 3, 1, 3, 1, 1, 3, 1, 1, 1, 1, 3, 1, 1, 1, 3, 3, 3, 1, 1, 1, 3, 1, 3, 1, 1, 1, 1, 1, 1, 3, 1, 1, 1, 1, 1, 1, 1, 3, 1, 2, 2, 3, 3, 3, 3, 3, 1, 3, 1, 1, 3, 3, 3, 1, 1, 1, 3, 1, 1, 3, 2, 3, 1, 1, 3, 1, 1, 1, 1, 3, 3, 1, 3, 3, 1, 3, 1, 3, 1, 1, 1, 1, 3, 3, 1, 1, 3, 1, 1, 3, 3, 3, 1, 1, 3, 2, 3, 3, 1, 1, 1, 1, 3, 3, 1, 3, 3, 2, 1, 1, 1, 3, 3, 1, 3, 1, 1, 1, 1, 1, 1, 3, 1, 3, 3, 3, 1, 3, 1, 3, 1, 1, 2, 1, 1, 1, 3, 3, 1, 3, 3, 1, 3, 1, 1, 1, 1, 3, 1, 3, 1, 3, 1, 1, 1, 1, 1, 3, 1, 1, 1, 1, 1, 3, 3, 3, 3, 3, 3, 3, 1, 1, 3, 1, 1, 1, 2, 3, 1, 3, 3, 1, 3, 1, 1, 1, 1, 1, 2, 3, 1, 1, 1, 3, 3, 1, 1, 1, 1, 3, 3, 1, 1, 1, 1, 3, 3, 3, 1, 3, 3, 1, 1, 1, 3, 3, 1, 3, 1, 1, 1, 3, 1, 1, 3, 3, 1, 3, 1, 3, 2, 3, 3, 3, 1, 1, 3, 3, 3, 1, 1, 1, 1, 1, 3, 3, 3, 1, 2, 3, 1, 1, 2, 3, 1, 1, 3, 1, 1, 3, 1, 3, 1, 1, 3, 3, 3, 3, 1, 1, 1, 3, 3, 3, 1, 1, 1, 3, 3, 3, 1, 1, 3, 1, 3, 3, 3, 3, 1, 1, 3, 3, 1, 3, 1, 3, 1, 3, 1, 1, 3, 1, 3, 1, 3, 1, 3, 1, 3, 1, 1, 3, 1, 1, 1, 3, 3, 1, 1, 3, 1, 1, 1, 1, 1, 3, 3, 3, 1, 1, 1, 1, 1, 1, 1, 3, 3, 3, 3, 3, 1, 1, 3, 3, 3, 1, 1, 3, 1, 1, 1, 3, 3, 3, 3, 1, 1, 1, 3, 3, 1, 3, 3, 1, 1, 2, 1, 3, 1, 1, 3, 3, 1, 3, 3, 1, 1, 1, 3, 2, 2, 1, 3, 2, 3, 1, 3, 1, 1, 2, 1, 1, 1, 3, 3, 3, 3, 3, 3, 1, 1, 1, 2, 1, 1, 1, 3, 1, 1, 1, 1, 1, 1, 1, 1, 3, 3, 3, 3, 3, 1, 3, 1, 1, 3, 1, 3, 3, 3, 3, 1, 1, 1, 3, 3, 1, 3, 1, 1, 3, 1, 1, 1, 1, 1, 1, 1, 1, 3, 3, 3, 1, 3, 1, 3, 3, 1, 3, 3, 3, 3, 3, 3, 3, 3, 1, 1, 2, 3, 2, 1, 1, 1, 3, 3, 3, 1, 3, 3, 3, 3, 1, 3, 1, 3, 1, 1, 1, 3, 1, 1, 1, 3, 3, 3, 3, 1, 3, 1, 1, 3, 1, 1, 1, 2, 3, 3, 3, 1, 1, 3, 1, 1, 1, 1, 3, 3, 3, 3, 3, 1, 1, 1, 1, 3, 3, 3, 1, 3, 3, 3, 3, 1, 1, 3, 3, 1, 1, 1, 1, 3, 1, 3, 3, 1, 1, 3, 3, 1, 1, 1, 1, 1, 3, 3, 1, 3, 1, 1, 1, 3, 1, 1, 3, 1, 3, 3, 1, 1, 1, 1, 1, 1, 1, 1, 3, 1, 1, 1, 3, 1, 3, 1, 1, 1, 3, 1, 1, 3, 1, 3, 3, 2, 3, 1, 3, 1, 3, 1, 1, 1, 1, 1, 3, 3, 1, 3, 3, 3, 2, 1, 1, 1, 1, 3, 3, 2, 3, 3, 3, 1, 1, 1, 1, 3, 3, 3, 1, 3, 3, 1, 1, 1, 1, 2, 2, 1, 1, 2, 3, 3, 3, 1, 3, 3, 3, 3, 3, 3, 1, 3, 3, 1, 3, 3, 3, 3, 1, 3, 1, 3, 3, 3, 1, 1, 1, 3, 1, 3, 3, 3, 2, 2, 1, 3, 1, 3, 3, 1, 3, 3, 1, 3, 1, 1, 1, 3, 3, 1, 1, 3, 3, 1, 1, 3, 1, 1, 1, 1, 1, 1, 1, 2, 1, 1, 1, 3, 1, 3, 3, 3, 3, 1, 1, 2, 1, 1, 1, 1, 1, 3, 1, 1, 3, 3, 3, 2, 1, 1, 1, 3, 3, 1, 1, 3, 1, 3, 3, 1, 3, 1, 1, 1, 1, 3, 3, 1, 1, 1, 3, 3, 1, 1, 3, 3, 3, 1, 1, 1, 3, 3, 3, 1, 2, 2, 3, 3, 3, 1, 1, 3, 1, 3, 1, 1, 1, 3, 3, 3, 1, 1, 1, 3, 3, 1, 1, 3, 1, 3, 3, 3, 3, 1, 1, 3, 1, 3, 3, 3, 3, 1, 1, 3, 1, 1, 1, 1, 3, 1, 1, 1, 3, 3, 3, 3, 1, 1, 1, 3, 3, 1, 1, 3, 1, 3, 3, 3, 3, 1, 3, 1, 1, 3, 3, 3, 1, 3, 3, 1, 3, 1, 1, 3, 3, 1, 3, 1, 3, 3, 1, 3, 3, 3, 1, 1, 3, 1, 1, 1, 1, 1, 3, 1, 3, 3, 1, 3, 1, 1, 1, 3, 3, 1, 3, 3, 1, 3, 1, 3, 3, 1, 1, 1, 3, 1, 3, 1, 1, 1, 1, 3, 3, 1, 1, 1, 1, 1, 1, 3, 3, 3, 3, 3, 1, 3, 2, 3, 1, 3, 1, 3, 1, 3, 1, 3, 1, 3, 1, 3, 3, 1, 3, 3, 1, 3, 3, 3, 1, 1, 1, 3, 1, 3, 3, 1, 1, 1, 3, 3, 1, 1, 1, 1, 3, 3, 1, 3, 1, 3, 3, 1, 1, 1, 3, 3, 1, 3, 1, 3, 3, 1, 1, 1, 3, 3, 1, 1, 1, 3, 1, 3, 1, 3, 3, 1, 1, 3, 3, 3, 1, 3, 3, 1, 3, 1, 3, 3, 1, 2, 1, 1, 1, 1, 3, 3, 1, 3, 1, 1, 3, 1, 1, 3, 1, 3, 1, 1, 1, 1, 1, 1, 1, 1, 1, 3, 1, 3, 1, 1, 1, 2, 1, 1, 1, 3, 3, 3, 3, 1, 1, 1, 1, 1, 1, 1, 3, 3, 3, 1, 1, 1, 1, 3, 3, 3, 1, 1, 1, 1, 3, 1, 1, 1, 1, 3, 3, 1, 1, 3, 3, 3, 3, 3, 3, 1, 3, 1, 3, 3, 3, 1, 1, 1, 3, 1, 3, 3, 1, 2, 3, 3, 1, 1, 3, 1, 1, 2, 3, 3, 1, 1, 3, 3, 1, 3, 1, 1, 1, 2, 3, 1, 3, 1, 1, 1, 3, 1, 1, 1, 1, 1, 1, 1, 1, 3, 1, 1, 3, 3, 3, 1, 3, 3, 3, 1, 3, 1, 1, 1, 3, 1, 1, 1, 1, 1, 3, 2, 3, 1, 1, 3, 1, 1, 3, 3, 3, 3, 1, 1, 1, 1, 1, 1, 1, 3, 1, 3, 1, 3, 1, 3, 3, 3, 1, 2, 1, 3, 1, 3, 1, 1, 1, 3, 2, 1, 2, 1, 3, 1, 3, 1, 3, 3, 3, 3, 3, 1, 3, 1, 1, 1, 3, 3, 1, 1, 1, 3, 1, 1, 3, 1, 3, 1, 1, 1, 3, 1, 1, 3, 1, 3, 3, 1, 3, 3, 1, 3, 1, 1, 3, 3, 3, 1, 1, 1, 1, 1, 1, 3, 1, 1, 1, 1, 1, 3, 1, 3, 1, 1, 1, 3, 3, 3, 3, 1, 1, 3, 3, 3, 3, 1, 3, 3, 1, 1, 1, 3, 3, 1, 2, 3, 3, 3, 1, 1, 1, 1, 1, 1, 1, 1, 3, 1, 1, 3, 3, 3, 3, 3, 1, 1, 3, 3, 1, 3, 3, 3, 1, 1, 3, 1, 1, 3, 3, 1, 1, 3, 3, 3, 1, 3, 3, 1, 1, 1, 3, 3, 2, 3, 3, 1, 3, 1, 3, 1, 3, 1, 3, 3, 3, 1, 1, 1, 1, 3, 1, 3, 1, 3, 1, 1, 1, 1, 3, 1, 3, 1, 3, 1, 1, 1, 3, 3, 3, 1, 3, 3, 3, 3, 1, 1, 1, 3, 1, 1, 1, 1, 1, 3, 3, 1, 1, 3, 3, 3, 1, 3, 1, 1, 3, 3, 1, 1, 1, 1, 3, 3, 1, 1, 3, 1, 1, 1, 3, 3, 3, 1, 3, 1, 1, 1, 1, 1, 3, 1, 1, 3, 3, 3, 3, 1, 1, 1, 3, 3, 1, 1, 3, 1, 1, 1, 1, 1, 1, 1, 3, 3, 3, 1, 1, 3, 1, 1, 1, 1, 3, 1, 1, 1, 1, 1, 3, 3, 1, 3, 1, 1, 3, 1, 1, 1, 1, 1, 1, 3, 1, 3, 1, 3, 1, 3, 3, 2, 3, 1, 1, 3, 3, 1, 1, 1, 3, 3, 1, 1, 3, 1, 1, 1, 1, 1, 3, 1, 1, 1, 3, 1, 1, 3, 3, 3, 1, 3, 1, 1, 1, 1, 3, 3, 3, 1, 1, 1, 1, 3, 1, 2, 3, 1, 1, 1, 3, 1, 3, 3, 1, 3, 3, 1, 3, 3, 1, 1, 1, 3, 3, 3, 3, 3, 3, 3, 3, 3, 3, 1, 1, 1, 3, 3, 1, 3, 3, 1, 3, 1, 1, 1, 3, 1, 1, 3, 1, 2, 3, 3, 1, 1, 1, 3, 1, 3, 2, 3, 3, 3, 3, 1, 1, 3, 1, 1, 3, 3, 3, 3, 1, 1, 3, 1, 3, 3, 1, 3, 1, 1, 3, 3, 1, 3, 1, 1, 3, 3, 1, 1, 3, 3, 1, 1, 1, 3, 1, 1, 3, 3, 1, 3, 3, 1, 1, 1, 1, 1, 3, 1, 3, 1, 1, 1, 1, 3, 3, 1, 3, 1, 1, 1, 3, 3, 1, 3, 1, 1, 3, 3, 3, 1, 1, 1, 3, 1, 1, 3, 3, 2, 1, 3, 3, 3, 1, 1, 1, 1, 3, 1, 3, 3, 1, 1, 3, 1, 1, 3, 1, 3, 3, 3, 1, 3, 1, 1, 1, 1, 1, 3, 1, 1, 3, 1, 1, 1, 1, 3, 3, 1, 1, 3, 2, 3, 1, 1, 1, 3, 3, 1, 3, 1, 1, 1, 3, 1, 1, 3, 1, 3, 3, 1, 3, 1, 3, 1, 1, 1, 1, 3, 1, 3, 3, 3, 3, 3, 3, 1, 1, 1, 1, 1, 3, 1, 3, 1, 1, 3, 3, 1, 1, 1, 3, 3, 1, 1, 1, 1, 1, 3, 1, 2, 1, 3, 1, 3, 3, 1, 1, 1, 3, 1, 1, 1, 1, 1, 3, 2, 1, 3, 1, 1, 1, 1, 1, 1, 1, 3, 3, 1, 1, 3, 3, 1, 3, 1, 1, 1, 3, 3, 3, 3, 1, 1, 3, 1, 1, 1, 1, 1, 3, 3, 1, 1, 1, 1, 1, 1, 1, 1, 1, 1, 3, 1, 1, 1, 1, 1, 3, 1, 3, 1, 3, 3, 3, 2, 3, 1, 1, 1, 1, 1, 1, 1, 1, 1, 1, 3, 3, 1, 3, 1, 3, 1, 1, 1, 3, 1, 3, 3, 1, 1, 1, 3, 1, 1, 1, 2, 3, 1, 3, 3, 1, 1, 3, 3, 3, 1, 1, 3, 1, 3, 1, 1, 1, 3, 3, 2, 1, 1, 3, 3, 1, 1, 1, 1, 1, 3, 3, 1, 3, 3, 2, 1, 3, 1, 3, 1, 1, 1, 3, 1, 3, 3, 1, 1, 1, 3, 2, 3, 1, 1, 1, 3, 3, 3, 1, 1, 1, 1, 3, 1, 1, 1, 3, 3, 3, 1, 1, 1, 2, 3, 1, 1, 1, 1, 3, 1, 1, 1, 1, 1, 3, 3, 1, 1, 3, 1, 1, 1, 3, 1, 3, 3, 1, 3, 3, 3, 3, 3, 1, 1, 1, 1, 1, 1, 3, 3, 3, 3, 2, 1, 1, 1, 1, 1, 3, 1, 1, 3, 3, 3, 3, 3, 1, 1, 1, 1, 1, 3, 1, 3, 2, 1, 3, 3, 1, 1, 1, 3, 3, 1, 1, 1, 3, 3, 3, 3, 3, 1, 3, 3, 3, 3, 1, 3, 1, 3, 3, 1, 2, 3, 2, 3, 3, 1, 1, 3, 1, 1, 1, 3, 1, 1, 1, 3, 1, 1, 1, 3, 3, 1, 1, 1, 1, 1, 2, 3, 1, 1, 1, 2, 3, 1, 1, 1, 1, 1, 1, 3, 3, 1, 1, 3, 3, 3, 3, 1, 3, 1, 3, 1, 1, 3, 1, 3, 1, 1, 3, 1, 2, 3, 3, 1, 1, 1, 1, 1, 1, 3, 1, 1, 1, 1, 1, 1, 1, 3, 1, 1, 1, 1, 3, 3, 1, 3, 3, 1, 1, 3, 3, 3, 3, 1, 1, 3, 1, 3, 1, 1, 1, 1, 1, 1, 1, 3, 3, 3, 1, 3, 3, 3, 1, 3, 3, 1, 1, 3, 3, 3, 1, 1, 1, 1, 1, 3, 1, 3, 1, 3, 3, 3, 3, 1, 1, 2, 3, 1, 1, 3, 3, 1, 3, 1, 1, 3, 3, 3, 3, 1, 1, 1, 1, 1, 2, 1, 1, 1, 1, 1, 2, 1, 2, 3, 3, 3, 3, 3, 3, 1, 1, 1, 3, 1, 1, 1, 3, 3, 1, 1, 1, 1, 1, 3, 1, 3, 1, 1, 3, 1, 3, 1, 1, 1, 3, 1, 3, 1, 1, 1, 1, 2, 3, 1, 1, 3, 1, 1, 1, 1, 3, 3, 3, 1, 3, 1, 1, 3, 1, 1, 1, 3, 1, 3, 1, 1, 1, 3, 3, 1, 3, 3, 1, 1, 1, 1, 3, 3, 1, 1, 3, 3, 1, 1, 1, 1, 1, 1, 1, 1, 3, 1, 1, 3, 1, 1, 1, 3, 1, 3, 1, 3, 2, 1, 1, 3, 1, 1, 1, 3, 1, 1, 1, 3, 3, 1, 1, 3, 2, 3, 1, 1, 3, 1, 1, 3, 1, 1, 1, 1, 1, 3, 1, 1, 1, 1, 3, 3, 3, 1, 1, 3, 1, 1, 1, 1, 1, 3, 3, 3, 1, 1, 1, 1, 1, 1, 1, 1, 3, 3, 1, 3, 1, 3, 3, 1, 1, 1, 1, 3, 3, 3, 1, 1, 2, 3, 1, 1, 3, 1, 1, 1, 3, 3, 3, 3, 3, 3, 1, 1, 1, 1, 1, 1, 3, 1, 1, 3, 1, 3, 1, 1, 1, 1, 3, 1, 1, 1, 1, 1, 1, 1, 3, 1, 1, 3, 1, 3, 3, 1, 1, 3, 3, 1, 3, 3, 3, 3, 3, 1, 3, 3, 1, 1, 1, 1, 3, 1, 1, 1, 3, 1, 3, 3, 3, 3, 1, 1, 1, 1, 3, 2, 1, 3, 3, 3, 1, 1, 1, 3, 1, 1, 2, 1, 1, 1, 1, 3, 3, 3, 3, 3, 3, 2, 3, 3, 1, 1, 3, 2, 1, 1, 1, 1, 3, 3, 3, 1, 3, 1, 1, 1, 1, 3, 1, 3, 1, 1, 1, 3, 1, 1, 3, 1, 1, 1, 1, 1, 3, 3, 1, 1, 1, 3, 1, 3, 1, 1, 3, 3, 1, 3, 1, 3, 1, 3, 3, 3, 3, 1, 1, 1, 3, 3, 1, 3, 3, 1, 1, 1, 3, 3, 1, 3, 1, 1, 1, 1, 1, 3, 1, 1, 1, 3, 3, 3, 3, 3, 1, 3, 1, 1, 3, 1, 3, 1, 3, 1, 1, 1, 1, 1, 3, 1, 1, 3, 3, 3, 1, 3, 3, 3, 1, 1, 1, 1, 1, 1, 3, 1, 1, 1, 1, 1, 1, 3, 1, 1, 3, 3, 3, 3, 1, 3, 1, 3, 3, 3, 1, 1, 3, 1, 1, 1, 3, 3, 1, 3, 1, 3, 3, 3, 3, 3, 1, 1, 1, 1, 1, 1, 3, 3, 1, 1, 3, 3, 1, 1, 3, 3, 3, 1, 1, 1, 1, 1, 1, 1, 3, 1, 1, 1, 1, 1, 1, 3, 3, 3, 1, 3, 3, 3, 3, 3, 3, 3, 1, 3, 1, 2, 3, 1, 3, 3, 1, 1, 1, 1, 3, 1, 1, 1, 1, 1, 1, 3, 1, 1, 1, 1, 1, 1, 1, 1, 3, 3, 3, 3, 3, 1, 3, 1, 1, 1, 1, 3, 1, 1, 1, 1, 3, 1, 1, 1, 1, 1, 1, 1, 1, 3, 1, 1, 3, 1, 1, 1, 1, 1, 1, 1, 3, 1, 2, 1, 1, 1, 1, 3, 3, 3, 3, 1, 1, 3, 1, 1, 3, 3, 3, 3, 1, 2, 1, 3, 1, 1, 3, 3, 3, 3, 1, 3, 2, 1, 1, 1, 1, 3, 3, 3, 1, 1, 1, 1, 3, 3, 1, 1, 1, 1, 3, 3, 3, 1, 1, 1, 3, 3, 3, 3, 1, 3, 3, 1, 3, 3, 1, 3, 1, 1, 1, 1, 1, 1, 1, 1, 3, 1, 3, 1, 3, 3, 3, 1, 1, 3, 1, 1, 1, 1, 1, 1, 1, 1, 3, 1, 3, 2, 3, 1, 1, 3, 1, 3, 3, 3, 3, 1, 1, 1, 3, 3, 3, 1, 1, 1, 1, 3, 3, 3, 1, 1, 1, 2, 1, 1, 1, 3, 1, 3, 1, 3, 1, 2, 1, 1, 1, 1, 1, 1, 3, 3, 3, 1, 3, 1, 3, 3, 1, 2, 3, 1, 1, 1, 3, 3, 3, 1, 1, 1, 1, 1, 1, 1, 3, 1, 1, 1, 1, 1, 1, 1, 1, 1, 1, 2, 1, 1, 1, 3, 3, 1, 1, 1, 1, 1, 3, 1, 1, 2, 2, 1, 1, 1, 1, 1, 2, 1, 1, 1, 1, 1, 1, 2, 3, 3, 3, 1, 3, 1, 1, 1, 1, 1, 3, 1, 1, 1, 1, 1, 1, 1, 3, 3, 3, 3, 3, 1, 1, 1, 1, 3, 1, 3, 3, 3, 3, 3, 1, 1, 1, 1, 2, 1, 1, 1, 1, 3, 3, 3, 1, 3, 3, 3, 1, 3, 1, 1, 1, 1, 1, 1, 1, 1, 1, 3, 3, 3, 1, 1, 1, 1, 1, 1, 1, 3, 3, 1, 1, 1, 3, 3, 1, 1, 1, 1, 1, 1, 1, 1, 1, 1, 1, 1, 1, 1, 3, 3, 3, 1, 1, 1, 1, 3, 1, 3, 3, 3, 3, 3, 3, 1, 1, 1, 1, 1, 3, 3, 1, 1, 1, 1, 1, 3, 3, 3, 3, 1, 3, 3, 1, 1, 1, 1, 3, 1, 1, 3, 3, 1, 1, 3, 1, 1, 3, 3, 3, 3, 3, 3, 1, 1, 1, 3, 1, 1, 1, 3, 3, 3, 3, 1, 1, 1, 1, 3, 1, 3, 1, 1, 2, 1, 1, 1, 1, 1, 1, 1, 1, 1, 3, 1, 3, 1, 3, 3, 2, 3, 3, 3, 2, 3, 3, 3, 3, 3, 3, 1, 1, 3, 3, 1, 1, 1, 1, 3, 3, 1, 1, 1, 3, 1, 3, 3, 3, 3, 3, 3, 3, 3, 3, 3, 3, 3, 3, 1, 1, 3, 3, 3, 1, 3, 3, 1, 3, 1, 3, 1, 1, 3, 1, 1, 1, 1, 3, 1, 1, 3, 1, 3, 3, 3, 1, 1, 1, 1, 1, 3, 1, 1, 1, 1, 1, 3, 3, 1, 3, 3, 1, 3, 1, 1, 3, 3, 1, 1, 1, 1, 3, 2, 3, 3, 1, 3, 1, 3, 1, 1, 1, 3, 3, 1, 1, 3, 3, 1, 1, 3, 3, 1, 3, 3, 3, 3, 3, 3, 3, 3, 3, 1, 1, 3, 3, 1, 1, 1, 1, 1, 3, 1, 1, 3, 3, 3, 1, 3, 3, 3, 3, 1, 3, 1, 1, 3, 1, 3, 3, 1, 3, 3, 1, 3, 1, 1, 3, 3, 3, 3, 1, 3, 1, 1, 1, 3, 1, 3, 3, 3, 3, 1, 3, 3, 3, 1, 1, 3, 1, 2, 1, 2, 1, 3, 1, 1, 3, 3, 3, 3, 3, 3, 1, 3, 1, 1, 1, 1, 1, 3, 3, 1, 3, 1, 3, 3, 1, 1, 1, 1, 1, 1, 3, 1, 1, 1, 1, 3, 1, 3, 1, 3, 3, 1, 1, 1, 3, 3, 3, 1, 3, 2, 3, 1, 1, 3, 3, 3, 3, 3, 3, 3, 1, 1, 1, 1, 3, 3, 1, 3, 1, 1, 1, 3, 1, 3, 1, 1, 1, 2, 2, 3, 1, 1, 1, 1, 1, 1, 3, 1, 1, 2, 3, 1, 3, 1, 3, 1, 1, 3, 3, 1, 3, 3, 3, 3, 3, 3, 3, 1, 3, 3, 3, 1, 1, 1, 1, 3, 3, 3, 3, 1, 1, 1, 1, 1, 1, 1, 1, 1, 1, 3, 3, 3, 3, 3, 3, 1, 3, 1, 1, 3, 3, 1, 3, 3, 1, 1, 1, 1, 1, 1, 1, 3, 3, 1, 1, 3, 1, 1, 1, 1, 3, 3, 1, 1, 1, 1, 3, 3, 1, 1, 3, 1, 1, 1, 1, 1, 1, 2, 2, 2, 2, 2, 1, 3, 1, 3, 3, 1, 2, 3, 3, 3, 1, 1, 3, 3, 3, 1, 1, 3, 3, 3, 3, 3, 3, 3, 3, 3, 1, 1, 1, 1, 1, 1, 1, 3, 1, 1, 2, 1, 1, 1, 3, 1, 3, 3, 1, 1, 1, 3, 1, 3, 3, 3, 1, 1, 1, 3, 1, 3, 3, 1, 3, 1, 1, 3, 3, 3, 3, 3, 3, 3, 1, 3, 1, 3, 1, 1, 1, 1, 1, 1, 1, 3, 1, 1, 1, 1, 2, 3, 1, 1, 1, 1, 1, 1, 3, 3, 3, 3, 1, 1, 1, 1, 1, 1, 1, 1, 3, 1, 1, 3, 3, 3, 3, 3, 3, 1, 1, 1, 1, 1, 3, 3, 2, 1, 1, 1, 1, 1, 1, 1, 3, 1, 3, 1, 3, 1, 3, 1, 1, 1, 2, 1, 3, 3, 3, 1, 1, 1, 1, 1, 1, 1, 1, 3, 1, 3, 1, 1, 3, 1, 3, 1, 1, 1, 1, 3, 1, 2, 3, 1, 1, 1, 3, 1, 3, 3, 3, 1, 1, 1, 3, 1, 1, 1, 1, 1, 1, 1, 3, 1, 1, 1, 1, 3, 1, 3, 1, 3, 2, 3, 3, 3, 3, 3, 3, 1, 1, 3, 3, 3, 3, 1, 1, 1, 3, 3, 1, 3, 1, 3, 2, 1, 1, 1, 1, 1, 1, 3, 1, 3, 3, 3, 3, 1, 1, 1, 3, 1, 3, 3, 1, 3, 3, 3, 3, 3, 3, 1, 1, 1, 3, 1, 3, 3, 3, 1, 1, 1, 1, 3, 1, 3, 1, 3, 1, 1, 3, 1, 1, 1, 3, 3, 1, 3, 3, 1, 3, 1, 1, 3, 3, 3, 3, 3, 1, 1, 1, 1, 2, 3, 1, 1, 1, 1, 1, 1, 1, 1, 3, 1, 3, 3, 1, 3, 1, 3, 3, 3, 1, 1, 1, 1, 1, 3, 1, 3, 1, 3, 1, 1, 3, 1, 3, 3, 1, 3, 3, 3, 3, 3, 1, 1, 1, 1, 3, 3, 3, 1, 3, 3, 1, 3, 3, 3, 1, 3, 1, 3, 1, 1, 1, 1, 3, 3, 1, 2, 2, 1, 3, 1, 3, 3, 3, 1, 3, 3, 3, 1, 3, 1, 3, 1, 3, 1, 3, 1, 3, 3, 2, 2, 1, 1, 3, 1, 3, 1, 1, 3, 1, 1, 1, 3, 3, 1, 1, 3, 3, 1, 3, 1, 1, 1, 1, 1, 3, 1, 1, 3, 3, 1, 1, 1, 3, 1, 1, 1, 1, 1, 3, 3, 3, 1, 1, 1, 3, 3, 1, 1, 1, 3, 3, 1, 1, 1, 3, 3, 1, 1, 1, 1, 1, 1, 1, 3, 3, 1, 3, 1, 3, 1, 3, 1, 3, 1, 1, 1, 2, 3, 1, 3, 1, 1, 1, 3, 3, 3, 3, 3, 1, 1, 2, 3, 1, 3, 1, 3, 1, 1, 3, 3, 1, 1, 1, 1, 3, 3, 3, 3, 3, 3, 3, 1, 1, 1, 3, 3, 3, 1, 1, 1, 1, 2, 3, 1, 1, 3, 2, 1, 1, 1, 1, 3, 1, 3, 3, 3, 3, 1, 1, 3, 3, 3, 3, 1, 1, 1, 1, 1, 3, 1, 1, 1, 3, 1, 1, 1, 3, 1, 1, 1, 1, 1, 1, 3, 1, 1, 3, 3, 3, 3, 1, 3, 3, 1, 1, 1, 1, 1, 1, 3, 3, 3, 1, 1, 1, 1, 3, 1, 1, 3, 1, 1, 3, 3, 3, 3, 1, 3, 3, 3, 3, 3, 1, 3, 3, 1, 1, 1, 3, 1, 3, 3, 3, 3, 3, 3, 1, 1, 1, 1, 1, 1, 3, 3, 1, 1, 3, 1, 1, 3, 3, 2, 1, 1, 1, 1, 1, 3, 1, 1, 1, 3, 1, 1, 1, 1, 1, 2, 3, 1, 2, 2, 1, 1, 1, 3, 3, 3, 1, 1, 1, 1, 1, 1, 1, 2, 1, 1, 3, 3, 2, 3, 3, 3, 1, 3, 1, 1, 3, 3, 2, 1, 1, 3, 3, 1, 1, 2, 3, 3, 1, 3, 3, 3, 1, 3, 1, 1, 1, 3, 3, 2, 1, 3, 1, 1, 1, 1, 1, 2, 3, 1, 1, 2, 1, 3, 3, 1, 3, 3, 3, 1, 1, 1, 1, 3, 3, 3, 1, 1, 2, 3, 1, 1, 3, 3, 1, 3, 1, 1, 1, 3, 3, 3, 3, 3, 1, 1, 1, 1, 1, 3, 3, 2, 1, 1, 1, 1, 3, 1, 1, 1, 1, 3, 1, 1, 3, 3, 3, 1, 3, 3, 3, 3, 1, 1, 1, 3, 3, 3, 1, 1, 3, 1, 1, 1, 3, 1, 1, 3, 3, 1, 1, 1, 3, 3, 3, 1, 1, 1, 1, 1, 1, 1, 3, 1, 1, 1, 3, 1, 3, 1, 1, 1, 3, 1, 1, 1, 3, 1, 2, 1, 1, 1, 1, 1, 3, 1, 1, 3, 1, 1, 3, 1, 1, 1, 3, 1, 1, 3, 3, 3, 3, 1, 1, 3, 3, 3, 1, 1, 1, 3, 1, 3, 1, 1, 1, 3, 1, 1, 2, 3, 3, 3, 3, 3, 3, 3, 3, 1, 3, 3, 1, 3, 1, 3, 1, 1, 1, 1, 1, 1, 1, 1, 3, 1, 1, 3, 1, 1, 3, 3, 3, 1, 3, 3, 1, 1, 3, 3, 1, 1, 2, 2, 1, 1, 1, 1, 3, 1, 1, 1, 3, 2, 3, 1, 3, 1, 1, 3, 3, 1, 3, 3, 1, 3, 3, 3, 3, 3, 1, 1, 1, 1, 1, 1, 3, 3, 3, 3, 3, 3, 3, 1, 1, 1, 1, 3, 3, 1, 3, 1, 1, 1, 3, 1, 1, 3, 1, 1, 1, 1, 3, 3, 3, 1, 1, 1, 1, 3, 3, 3, 3, 3, 1, 3, 3, 1, 1, 1, 1, 1, 1, 1, 3, 3, 2, 1, 1, 1, 1, 1, 1, 1, 3, 3, 1, 1, 1, 3, 3, 3, 1, 3, 3, 2, 1, 3, 1, 3, 1, 1, 3, 3, 2, 3, 3, 3, 3, 1, 3, 3, 1, 3, 1, 3, 3, 3, 1, 1, 1, 1, 3, 1, 1, 1, 1, 3, 3, 3, 3, 3, 1, 1, 1, 1, 2, 1, 1, 3, 1, 3, 1, 1, 3, 1, 1, 3, 1, 1, 1, 3, 3, 3, 1, 1, 1, 1, 3, 3, 1, 1, 3, 3, 1, 3, 1, 1, 3, 3, 3, 1, 3, 3, 3, 3, 1, 1, 1, 1, 3, 3, 3, 1, 1, 2, 3, 1, 1, 2, 1, 2, 3, 1, 3, 3, 3, 3, 3, 3, 1, 1, 3, 3, 3, 1, 3, 1, 1, 1, 1, 3, 1, 1, 1, 1, 1, 1, 3, 1, 1, 3, 1, 1, 1, 1, 1, 3, 1, 3, 1, 1, 1, 3, 3, 1, 3, 3, 3, 1, 3, 1, 3, 3, 1, 1, 3, 3, 3, 3, 1, 1, 1, 1, 1, 1, 3, 3, 1, 1, 1, 1, 1, 3, 1, 1, 3, 1, 3, 3, 1, 3, 1, 1, 1, 3, 3, 1, 1, 1, 1, 2, 1, 1, 1, 1, 3, 1, 1, 1, 1, 1, 1, 3, 3, 1, 3, 3, 3, 1, 1, 1, 3, 1, 1, 3, 3, 3, 3, 3, 3, 3, 1, 3, 3, 2, 2, 2, 1, 1, 1, 1, 3, 1, 1, 3, 1, 3, 3, 1, 1, 3, 2, 1, 1, 1, 1, 3, 1, 2, 1, 2, 3, 3, 3, 1, 1, 1, 3, 3, 1, 3, 1, 1, 3, 3, 1, 1, 3, 1, 3, 1, 1, 3, 1, 3, 3, 3, 1, 3, 1, 1, 3, 3, 1, 1, 1, 1, 1, 1, 1, 1, 3, 1, 1, 3, 3, 3, 3, 1, 1, 3, 3, 1, 3, 3, 3, 2, 3, 1, 1, 3, 1, 1, 1, 1, 1, 1, 1, 1, 1, 3, 1, 3, 1, 2, 1, 3, 3, 1, 3, 1, 1, 3, 2, 3, 1, 3, 1, 1, 1, 3, 1, 3, 3, 1, 1, 1, 1, 1, 1, 3, 1, 1, 1, 1, 1, 1, 3, 3, 1, 1, 3, 1, 1, 3, 1, 3, 3, 1, 1, 1, 1, 1, 1, 3, 1, 1, 3, 3, 3, 3, 3, 2, 3, 1, 2, 3, 3, 3, 3, 1, 3, 1, 1, 3, 3, 1, 1, 1, 1, 3, 1, 1, 1, 3, 1, 3, 1, 1, 2, 3, 1, 1, 1, 3, 3, 2, 1, 1, 3, 1, 3, 3, 1, 1, 1, 1, 1, 1, 1, 3, 1, 1, 1, 3, 1, 3, 3, 2, 1, 3, 1, 1, 1, 1, 1, 1, 3, 1, 1, 3, 1, 3, 1, 1, 3, 3, 3, 3, 1, 2, 1, 1, 3, 1, 3, 3, 1, 1, 3, 1, 3, 1, 1, 3, 1, 1, 3, 3, 1, 1, 1, 1, 3, 3, 3, 3, 3, 1, 3, 1, 1, 1, 1, 1, 1, 1, 1, 1, 3, 1, 3, 3, 3, 3, 1, 1, 3, 1, 3, 1, 3, 3, 1, 1, 3, 1, 1, 1, 3, 3, 3, 1, 3, 3, 1, 1, 1, 1, 1, 3, 1, 1, 3, 3, 3, 3, 3, 3, 1, 3, 3, 1, 3, 1, 1, 3, 1, 1, 1, 2, 2, 3, 1, 1, 3, 1, 3, 3, 1, 1, 1, 3, 1, 1, 1, 3, 1, 3, 1, 1, 1, 3, 1, 1, 1, 3, 1, 1, 3, 1, 1, 1, 3, 1, 3, 1, 1, 3, 3, 3, 3, 3, 3, 1, 1, 1, 1, 1, 3, 3, 3, 1, 1, 1, 1, 3, 1, 3, 2, 1, 3, 1, 3, 3, 1, 3, 1, 1, 1, 1, 3, 1, 1, 3, 3, 2, 1, 1, 1, 1, 1, 1, 1, 1, 3, 1, 1, 1, 3, 3, 1, 1, 1, 1, 3, 3, 3, 3, 1, 1, 1, 1, 3, 3, 1, 3, 1, 3, 3, 1, 3, 3, 1, 1, 1, 1, 3, 1, 3, 3, 1, 1, 1, 1, 3, 3, 1, 1, 1, 3, 3, 3, 3, 1, 3, 3, 1, 1, 1, 1, 3, 3, 3, 3, 1, 1, 1, 1, 1, 1, 3, 1, 1, 1, 1, 1, 1, 1, 1, 3, 3, 1, 1, 3, 1, 1, 3, 1, 1, 3, 1, 1, 1, 1, 1, 3, 3, 3, 1, 1, 1, 3, 1, 3, 3, 1, 3, 3, 3, 1, 1, 3, 3, 1, 1, 3, 3, 3, 3, 3, 1, 3, 1, 1, 3, 3, 3, 2, 3, 1, 3, 1, 1, 3, 1, 3, 3, 3, 3, 3, 1, 3, 3, 1, 1, 3, 3, 3, 1, 3, 1, 3, 3, 3, 3, 3, 1, 1, 1, 1, 1, 1, 1, 1, 1, 3, 3, 2, 3, 3, 1, 1, 1, 1, 3, 1, 1, 3, 1, 3, 3, 3, 1, 3, 1, 1, 3, 1, 3, 3, 1, 1, 3, 3, 1, 1, 1, 3, 1, 3, 1, 3, 3, 3, 3, 1, 3, 3, 3, 2, 1, 1, 3, 2, 1, 1, 3, 3, 1, 1, 1, 1, 3, 3, 3, 1, 3, 3, 3, 3, 1, 3, 1, 3, 1, 3, 1, 1, 3, 1, 1, 1, 1, 2, 3, 1, 1, 3, 3, 3, 1, 1, 3, 3, 2, 1, 3, 1, 1, 1, 1, 1, 1, 1, 1, 1, 3, 3, 1, 1, 3, 1, 3, 3, 3, 3, 3, 3, 3, 3, 3, 1, 1, 1, 3, 3, 1, 1, 1, 1, 1, 1, 1, 3, 3, 1, 3, 3, 3, 3, 3, 3, 3, 1, 3, 1, 1, 1, 1, 1, 2, 1, 1, 1, 3, 3, 1, 3, 3, 1, 3, 3, 3, 3, 3, 1, 1, 1, 3, 3, 1, 1, 3, 1, 1, 1, 1, 1, 3, 1, 1, 3, 1, 1, 1, 1, 3, 1, 1, 3, 1, 1, 3, 1, 1, 3, 1, 3, 1, 3, 2, 1, 2, 1, 1, 1, 3, 1, 3, 1, 1, 3, 1, 1, 1, 1, 2, 1, 1, 1, 1, 1, 3, 3, 1, 1, 1, 1, 1, 1, 1, 1, 3, 3, 1, 1, 3, 3, 3, 2, 1, 3, 1, 1, 1, 1, 3, 1, 3, 1, 3, 3, 3, 3, 3, 1, 1, 1, 1, 1, 1, 1, 3, 3, 1, 1, 3, 1, 3, 3, 1, 1, 3, 1, 1, 3, 1, 1, 1, 1, 3, 3, 3, 1, 1, 3, 3, 1, 1, 3, 3, 3, 1, 1, 1, 1, 1, 1, 1, 3, 3, 3, 3, 3, 3, 1, 1, 1, 1, 3, 1, 3, 3, 1, 3, 1, 3, 1, 3, 1, 1, 3, 1, 1, 1, 1, 3, 1, 3, 1, 1, 3, 1, 3, 1, 2, 3, 3, 3, 1, 1, 1, 1, 3, 1, 3, 1, 1, 1, 1, 3, 1, 3, 1, 1, 3, 3, 1, 3, 1, 3, 3, 1, 3, 1, 1, 1, 1, 1, 1, 1, 3, 3, 2, 3, 3, 3, 1, 1, 3, 3, 3, 1, 1, 3, 1, 3, 1, 1, 1, 3, 1, 2, 1, 1, 1, 3, 3, 3, 1, 1, 3, 3, 3, 3, 1, 1, 1, 1, 1, 1, 3, 1, 1, 1, 1, 3, 3, 3, 1, 1, 1, 1, 1, 1, 1, 1, 3, 3, 1, 2, 3, 3, 1, 3, 1, 1, 1, 1, 3, 3, 1, 1, 3, 3, 3, 1, 1, 3, 3, 1, 1, 1, 3, 3, 1, 3, 1, 3, 3, 1, 1, 1, 3, 3, 3, 1, 1, 1, 2, 3, 3, 1, 1, 1, 1, 1, 1, 3, 3, 1, 3, 3, 1, 1, 1, 3, 3, 1, 1, 1, 3, 1, 1, 3, 3, 1, 1, 1, 3, 1, 3, 3, 1, 3, 2, 1, 1, 3, 3, 1, 1, 3, 3, 3, 1, 1, 1, 3, 3, 1, 1, 1, 1, 1, 3, 3, 1, 1, 3, 1, 3, 1, 1, 1, 1, 3, 1, 3, 3, 1, 3, 3, 3, 1, 1, 3, 3, 1, 3, 1, 3, 1, 1, 3, 1, 1, 1, 3, 3, 3, 1, 3, 1, 1, 1, 1, 1, 1, 3, 3, 3, 3, 3, 1, 1, 1, 1, 1, 1, 1, 3, 3, 1, 1, 1, 1, 1, 1, 1, 1, 3, 1, 3, 1, 3, 3, 3, 2, 2, 2, 1, 1, 1, 3, 1, 3, 1, 1, 1, 1, 2, 1, 3, 3, 1, 1, 1, 3, 1, 1, 1, 1, 1, 1, 2, 3, 1, 1, 3, 3, 1, 3, 1, 3, 1, 3, 1, 1, 1, 1, 3, 3, 3, 3, 1, 3, 1, 1, 1, 1, 1, 1, 3, 3, 1, 1, 1, 3, 1, 1, 1, 1, 3, 1, 1, 1, 1, 1, 1, 2, 1, 1, 3, 1, 3, 3, 1, 3, 3, 1, 1, 1, 1, 3, 3, 3, 3, 3, 3, 1, 1, 3, 1, 3, 3, 3, 3, 1, 3, 3, 3, 3, 1, 1, 1, 1, 1, 1, 1, 1, 1, 1, 3, 3, 1, 1, 1, 3, 3, 3, 1, 1, 1, 1, 3, 3, 1, 3, 1, 1, 1, 3, 3, 3, 3, 1, 3, 1, 3, 1, 1, 1, 1, 1, 3, 1, 3, 1, 1, 1, 3, 1, 1, 3, 3, 3, 2, 1, 3, 3, 3, 1, 2, 3, 1, 3, 3, 3, 3, 1, 3, 1, 1, 1, 3, 1, 3, 1, 1, 3, 3, 3, 1, 1, 3, 3, 3, 3, 3, 3, 3, 1, 3, 3, 1, 1, 3, 3, 3, 1, 1, 1, 3, 1, 1, 3, 2, 3, 1, 3, 1, 1, 1, 1, 3, 1, 1, 3, 1, 1, 3, 1, 1, 3, 1, 1, 1, 3, 3, 1, 1, 1, 1, 3, 1, 3, 3, 1, 1, 1, 1, 3, 1, 1, 3, 3, 3, 1, 1, 3, 1, 3, 3, 1, 1, 1, 1, 1, 1, 3, 3, 3, 1, 3, 1, 1, 1, 1, 1, 3, 1, 3, 3, 1, 3, 3, 1, 3, 3, 1, 3, 1, 1, 1, 1, 1, 3, 3, 1, 1, 1, 3, 3, 1, 1, 1, 1, 1, 1, 1, 1, 1, 1, 1, 3, 3, 3, 1, 1, 3, 3, 1, 3, 1, 1, 3, 3, 1, 3, 3, 3, 1, 3, 3, 3, 3, 1, 1, 1, 1, 3, 3, 3, 1, 1, 1, 1, 3, 1, 3, 1, 3, 1, 3, 3, 1, 1, 1, 1, 1, 1, 1, 1, 1, 1, 1, 1, 1, 3, 3, 3, 1, 1, 1, 3, 1, 1, 1, 1, 1, 1, 1, 1, 1, 1, 1, 1, 1, 1, 1, 2, 3, 1, 3, 1, 3, 3, 3, 1, 3, 3, 3, 3, 1, 1, 3, 3, 1, 1, 1, 1, 3, 1, 1, 1, 1, 1, 3, 1, 2, 1, 1, 3, 3, 3, 1, 3, 1, 3, 1, 3, 3, 3, 3, 1, 1, 3, 1, 1, 3, 3, 3, 1, 1, 1, 1, 3, 3, 3, 1, 1, 1, 3, 3, 1, 1, 1, 3, 3, 3, 3, 3, 1, 1, 3, 3, 3, 3, 3, 3, 1, 1, 3, 3, 1, 1, 3, 3, 1, 3, 1, 3, 1, 1, 3, 3, 3, 3, 1, 1, 3, 3, 3, 1, 1, 1, 1, 1, 1, 1, 1, 1, 1, 3, 3, 3, 3, 1, 1, 3, 1, 3, 1, 3, 3, 1, 2, 3, 3, 1, 1, 3, 3, 3, 1, 1, 1, 3, 1, 1, 3, 3, 3, 1, 3, 1, 3, 1, 3, 3, 3, 1, 3, 3, 3, 3, 1, 1, 3, 3, 1, 1, 3, 3, 3, 3, 3, 3, 1, 3, 3, 3, 3, 1, 1, 2, 1, 3, 3, 1, 1, 1, 3, 1, 3, 3, 3, 3, 3, 1, 1, 3, 2, 1, 1, 1, 1, 1, 3, 3, 2, 3, 1, 3, 1, 1, 3, 1, 3, 3, 1, 1, 3, 1, 1, 3, 3, 3, 3, 3, 1, 3, 3, 3, 3, 3, 3, 3, 1, 3, 3, 1, 1, 3, 1, 3, 1, 1, 1, 1, 3, 1, 3, 3, 3, 1, 3, 3, 3, 1, 3, 1, 1, 3, 1, 1, 1, 3, 1, 1, 2, 1, 2, 3, 1, 1, 1, 1, 2, 1, 1, 3, 1, 1, 1, 3, 3, 1, 2, 1, 3, 3, 2, 1, 3, 3, 3, 3, 3, 3, 1, 3, 2, 2, 3, 1, 1, 3, 3, 1, 3, 3, 1, 2, 3, 1, 1, 1, 3, 1, 3, 1, 3, 1, 1, 1, 3, 1, 1, 3, 3, 2, 1, 3, 1, 1, 1, 1, 1, 1, 3, 3, 3, 1, 1, 3, 3, 2, 3, 1, 1, 3, 2, 1, 1, 1, 1, 3, 1, 3, 1, 3, 1, 3, 3, 3, 1, 1, 1, 1, 1, 3, 3, 3, 1, 1, 1, 3, 1, 1, 3, 3, 1, 1, 1, 3, 3, 3, 3, 1, 1, 3, 3, 3, 1, 1, 3, 3, 3, 3, 1, 1, 3, 3, 3, 2, 3, 1, 1, 1, 3, 3, 3, 3, 1, 3, 3, 1, 3, 1, 3, 3, 3, 1, 1, 1, 1, 3, 1, 3, 3, 3, 1, 1, 1, 3, 1, 2, 3, 3, 3, 3, 3, 3, 3, 2, 2, 2, 3, 1, 1, 2, 1, 3, 1, 2, 3, 1, 1, 1, 3, 3, 3, 3, 1, 3, 1, 3, 3, 1, 1, 1, 3, 3, 3, 3, 3, 1, 1, 1, 3, 1, 1, 1, 2, 1, 3, 1, 3, 3, 3, 3, 3, 3, 3, 3, 3, 1, 1, 1, 1, 1, 1, 3, 3, 1, 1, 3, 1, 1, 1, 3, 3, 1, 1, 1, 3, 3, 3, 1, 3, 1, 1, 1, 1, 3, 3, 3, 3, 3, 1, 3, 3, 3, 3, 3, 3, 3, 1, 3, 2, 3, 3, 3, 1, 1, 3, 3, 2, 1, 3, 3, 1, 1, 3, 3, 3, 1, 1, 1, 3, 3, 1, 1, 3, 1, 1, 1, 3, 1, 3, 3, 3, 3, 3, 1, 3, 1, 1, 1, 1, 1, 1, 3, 1, 3, 3, 3, 3, 3, 1, 3, 3, 3, 1, 3, 3, 1, 1, 1, 1, 3, 1, 1, 3, 1, 1, 3, 1, 3, 1, 3, 3, 1, 1, 3, 3, 3, 1, 1, 3, 3, 1, 3, 3, 1, 1, 3, 3, 3, 1, 3, 3, 3, 3, 1, 1, 3, 1, 3, 1, 3, 1, 1, 1, 1, 1, 3, 3, 1, 3, 3, 1, 1, 3, 3, 1, 3, 3, 3, 3, 1, 1, 1, 1, 3, 3, 3, 3, 3, 3, 1, 1, 1, 1, 1, 1, 1, 3, 3, 3, 3, 1, 1, 1, 1, 1, 3, 1, 3, 1, 3, 3, 3, 3, 1, 3, 2, 1, 1, 1, 1, 2, 1, 3, 3, 1, 3, 1, 1, 1, 3, 2, 1, 1, 1, 3, 1, 1, 1, 3, 1, 3, 3, 3, 3, 3, 1, 3, 1, 3, 3, 1, 1, 3, 1, 1, 3, 3, 1, 1, 1, 1, 1, 1, 3, 3, 1, 1, 3, 3, 3, 3, 1, 1, 3, 3, 3, 2, 3, 3, 1, 3, 1, 2, 2, 1, 3, 3, 3, 3, 3, 3, 3, 3, 3, 2, 3, 3, 1, 1, 3, 1, 1, 1, 1, 1, 1, 3, 1, 1, 1, 1, 1, 1, 3, 3, 1, 3, 1, 3, 3, 1, 3, 3, 3, 3, 3, 3, 3, 3, 1, 3, 3, 1, 3, 3, 3, 3, 3, 3, 1, 3, 3, 3, 1, 1, 1, 1, 1, 1, 3, 3, 3, 3, 3, 1, 3, 1, 3, 3, 3, 3, 3, 2, 1, 1, 3, 3, 3, 3, 3, 1, 3, 3, 1, 1, 3, 1, 3, 3, 3, 3, 3, 3, 1, 1, 1, 1, 3, 3, 3, 3, 1, 3, 3, 3, 3, 3, 2, 3, 3, 1, 1, 1, 3, 1, 3, 3, 3, 1, 3, 3, 3, 3, 3, 1, 3, 3, 1, 2, 3, 1, 1, 3, 1, 1, 1, 3, 1, 3, 1, 1, 3, 1, 1, 1, 3, 1, 3, 3, 3, 1, 3, 1, 1, 3, 3, 3, 3, 3, 1, 1, 3, 1, 3, 3, 3, 3, 3, 1, 1, 3, 3, 3, 1, 3, 1, 1, 3, 3, 1, 1, 1, 3, 3, 1, 1, 3, 3, 3, 3, 1, 3, 2, 3, 1, 2, 1, 3, 3, 3, 1, 3, 3, 3, 1, 3, 3, 1, 1, 1, 1, 3, 1, 3, 3, 3, 1, 3, 2, 1, 1, 1, 3, 3, 1, 3, 1, 1, 3, 3, 1, 1, 1, 1, 3, 1, 2, 1, 3, 1, 1, 1, 1, 3, 1, 1, 3, 1, 1, 3, 3, 1, 3, 1, 3, 3, 3, 1, 3, 1, 1, 3, 1, 1, 3, 1, 1, 1, 3, 3, 3, 3, 3, 2, 1, 3, 1, 3, 1, 1, 3, 3, 3, 1, 3, 3, 1, 3, 3, 3, 1, 3, 3, 1, 1, 1, 1, 3, 3, 3, 3, 3, 3, 1, 3, 2, 1, 3, 1, 1, 3, 3, 3, 1, 1, 3, 1, 2, 1, 3, 1, 3, 3, 1, 3, 3, 3, 3, 1, 1, 1, 3, 3, 3, 3, 3, 1, 1, 1, 3, 3, 1, 3, 2, 3, 3, 1, 1, 3, 3, 1, 3, 1, 3, 1, 3, 1, 1, 3, 3, 3, 1, 1, 3, 3, 3, 1, 1, 1, 3, 3, 3, 3, 1, 3, 3, 3, 3, 3, 1, 3, 3, 1, 3, 1, 1, 1, 1, 3, 3, 3, 3, 3, 3, 1, 1, 3, 3, 1, 3, 3, 1, 3, 3, 2, 1, 1, 1, 1, 3, 1, 1, 3, 1, 3, 3, 3, 3, 3, 1, 1, 3, 1, 1, 3, 1, 1, 3, 1, 3, 3, 1, 1, 1, 1, 1, 1, 3, 3, 3, 3, 3, 3, 1, 1, 3, 3, 3, 3, 3, 3, 3, 3, 3, 1, 3, 3, 3, 3, 1, 3, 1, 3, 3, 3, 1, 1, 1, 3, 1, 3, 1, 1, 3, 1, 1, 1, 1, 1, 1, 1, 1, 3, 3, 3, 3, 3, 1, 1, 3, 3, 1, 1, 3, 3, 3, 3, 3, 3, 1, 3, 1, 1, 1, 3, 3, 1, 1, 3, 1, 1, 3, 3, 3, 3, 3, 3, 3, 3, 3, 1, 3, 1, 1, 1, 1, 1, 3, 3, 1, 3, 3, 3, 3, 1, 3, 3, 3, 1, 3, 1, 1, 3, 3, 1, 3, 1, 3, 1, 1, 1, 1, 1, 3, 3, 1, 3, 3, 3, 3, 3, 2, 1, 3, 3, 1, 1, 3, 3, 1, 3, 1, 3, 3, 1, 1, 1, 3, 1, 3, 3, 1, 1, 1, 3, 3, 1, 3, 3, 3, 3, 3, 1, 3, 2, 3, 1, 1, 1, 3, 1, 3, 3, 1, 3, 1, 3, 3, 3, 3, 1, 1, 3, 3, 3, 1, 1, 1, 3, 3, 3, 3, 3, 3, 1, 1, 1, 3, 3, 3, 3, 3, 3, 3, 3, 3, 3, 3, 3, 1, 1, 3, 3, 3, 3, 1, 1, 3, 1, 3, 3, 3, 1, 3, 1, 2, 3, 3, 1, 3, 3, 3, 3, 3, 1, 3, 3, 1, 3, 1, 3, 3, 3, 1, 1, 3, 1, 1, 3, 1, 1, 3, 3, 1, 1, 1, 1, 1, 1, 1, 1, 1, 1, 1, 3, 3, 3, 3, 3, 3, 1, 1, 3, 1, 1, 1, 3, 1, 1, 3, 3, 1, 3, 3, 1, 3, 3, 3, 3, 3, 3, 1, 1, 1, 3, 3, 3, 1, 3, 1, 3, 1, 1, 1, 3, 1, 3, 1, 3, 3, 3, 1, 3, 3, 3, 1, 1, 1, 1, 1, 1, 1, 2, 3, 1, 3, 3, 3, 3, 3, 3, 1, 1, 3, 3, 3, 3, 1, 1, 3, 3, 1, 3, 1, 3, 3, 3, 3, 3, 3, 3, 3, 3, 1, 3, 3, 1, 3, 1, 1, 1, 1, 1, 1, 2, 1, 3, 3, 3, 1, 3, 3, 1, 1, 1, 1, 3, 1, 1, 3, 1, 1, 3, 3, 3, 1, 1, 3, 3, 3, 3, 3, 3, 1, 1, 3, 1, 3, 3, 3, 3, 3, 3, 3, 3, 3, 1, 3, 3, 3, 3, 3, 1, 3, 1, 3, 3, 3, 3, 3, 1, 3, 3, 3, 3, 1, 3, 1, 1, 1, 3, 3, 3, 3, 3, 3, 3, 3, 3, 3, 3, 3, 1, 1, 1, 1, 1, 3, 1, 1, 1, 1, 1, 3, 1, 1, 1, 3, 3, 1, 1, 1, 3, 3, 1, 3, 1, 3, 1, 1, 1, 3, 3, 3, 3, 3, 3, 3, 1, 1, 3, 3, 3, 1, 3, 3, 3, 1, 1, 1, 3, 3, 3, 1, 1, 3, 3, 3, 3, 3, 3, 3, 1, 3, 1, 1, 1, 1, 1, 3, 3, 3, 1, 3, 1, 1, 1, 1, 1, 3, 3, 3, 3, 1, 1, 1, 2, 1, 1, 1, 3, 1, 2, 1, 3, 1, 3, 1, 1, 1, 3, 3, 3, 1, 1, 1, 3, 1, 3, 3, 3, 3, 3, 3, 3, 3, 3, 3, 3, 3, 3, 1, 1, 1, 1, 3, 1, 3, 3, 3, 1, 3, 3, 1, 3, 3, 1, 3, 1, 1, 1, 3, 1, 1, 1, 1, 3, 3, 3, 3, 1, 3, 1, 3, 1, 3, 1, 3, 1, 3, 3, 3, 1, 3, 1, 1, 1, 3, 3, 3, 1, 1, 3, 1, 3, 3, 3, 1, 1, 1, 1, 1, 1, 3, 3, 1, 3, 3, 3, 3, 3, 3, 1, 1, 1, 1, 1, 1, 3, 3, 3, 1, 3, 3, 3, 3, 3, 1, 1, 1, 1, 1, 3, 3, 3, 1, 1, 3, 1, 3, 3, 3, 3, 1, 3, 1, 3, 3, 3, 3, 3, 3, 3, 1, 3, 3, 3, 1, 1, 3, 1, 1, 1, 1, 1, 1, 1, 1, 3, 1, 2, 1, 1, 1, 3, 1, 3, 3, 1, 3, 3, 1, 1, 3, 1, 3, 1, 3, 3, 3, 3, 3, 3, 3, 1, 1, 1, 1, 1, 3, 1, 1, 1, 1, 1, 1, 1, 1, 3, 1, 3, 1, 2, 3, 1, 1, 1, 3, 1, 1, 1, 1, 3, 1, 1, 3, 3, 3, 3, 1, 3, 1, 1, 1, 3, 1, 3, 3, 1, 3, 3, 3, 3, 1, 1, 3, 3, 1, 1, 1, 3, 3, 3, 1, 3, 3, 3, 3, 3, 3, 3, 3, 1, 2, 3, 1, 3, 3, 1, 3, 3, 3, 1, 1, 3, 3, 3, 3, 1, 1, 1, 1, 3, 1, 1, 3, 3, 3, 3, 1, 1, 2, 1, 1, 3, 3, 1, 1, 1, 3, 2, 3, 3, 3, 1, 3, 3, 3, 3, 1, 3, 3, 1, 1, 1, 3, 3, 3, 3, 3, 1, 1, 1, 3, 3, 3, 3, 3, 3, 3, 3, 3, 3, 1, 1, 3, 3, 3, 3, 3, 3, 1, 3, 3, 3, 3, 1, 3, 3, 3, 3, 3, 1, 1, 3, 3, 3, 1, 3, 3, 1, 3, 3, 3, 3, 1, 1, 3, 3, 1, 3, 3, 3, 3, 1, 1, 1, 3, 3, 1, 1, 3, 3, 3, 2, 3, 3, 3, 3, 1, 1, 3, 1, 3, 1, 1, 1, 3, 3, 3, 3, 3, 3, 3, 1, 1, 1, 3, 3, 3, 3, 3, 1, 3, 3, 3, 1, 1, 1, 1, 1, 3, 3, 3, 1, 3, 1, 3, 3, 3, 3, 1, 3, 3, 1, 1, 3, 1, 3, 1, 1, 3, 3, 3, 1, 3, 3, 3, 1, 3, 1, 1, 3, 3, 1, 1, 1, 3, 3, 3, 3, 3, 1, 1, 1, 1, 2, 3, 1, 1, 1, 3, 3, 1, 1, 3, 1, 3, 3, 1, 1, 3, 3, 3, 3, 1, 3, 3, 1, 3, 3, 3, 3, 1, 3, 1, 3, 1, 3, 3, 3, 3, 3, 3, 3, 3, 3, 3, 3, 1, 1, 3, 3, 1, 1, 3, 3, 3, 3, 3, 3, 3, 3, 3, 1, 1, 1, 3, 1, 3, 1, 3, 1, 1, 1, 3, 3, 1, 3, 3, 3, 1, 1, 3, 1, 1, 3, 3, 3, 1, 1, 1, 1, 1, 1, 3, 3, 1, 3, 1, 1, 3, 1, 2, 1, 1, 1, 1, 3, 3, 1, 1, 1, 1, 3, 2, 3, 1, 3, 1, 1, 1, 3, 3, 1, 3, 3, 3, 1, 3, 3, 1, 1, 1, 1, 1, 1, 1, 3, 3, 3, 3, 3, 3, 3, 3, 1, 1, 3, 2, 1, 1, 1, 1, 3, 1, 1, 1, 1, 3, 1, 3, 1, 3, 3, 1, 1, 1, 3, 3, 1, 3, 3, 3, 1, 1, 3, 1, 1, 3, 3, 3, 3, 1, 1, 3, 3, 1, 1, 1, 1, 1, 1, 3, 1, 1, 3, 3, 3, 1, 1, 3, 3, 3, 3, 3, 1, 1, 3, 1, 3, 3, 3, 1, 1, 1, 2, 1, 3, 3, 1, 3, 1, 1, 1, 1, 3, 3, 3, 1, 3, 1, 3, 3, 1, 3, 1, 1, 3, 3, 3, 3, 1, 1, 1, 3, 3, 3, 3, 1, 1, 3, 1, 3, 1, 3, 1, 3, 1, 3, 1, 1, 3, 1, 1, 3, 3, 1, 3, 3, 1, 3, 3, 1, 1, 3, 3, 3, 3, 1, 1, 3, 1, 1, 1, 3, 1, 1, 1, 1, 3, 3, 3, 3, 3, 3, 1, 3, 1, 3, 3, 1, 1, 3, 3, 1, 2, 1, 3, 3, 3, 1, 3, 3, 3, 1, 2, 2, 1, 1, 1, 3, 3, 3, 1, 1, 3, 1, 1, 1, 3, 1, 3, 1, 3, 1, 3, 3, 2, 1, 1, 3, 3, 1, 1, 3, 1, 3, 3, 3, 2, 1, 1, 1, 1, 1, 3, 1, 1, 3, 1, 1, 1, 3, 3, 3, 1, 3, 3, 1, 1, 1, 1, 3, 3, 3, 3, 3, 3, 3, 3, 3, 1, 1, 1, 1, 1, 1, 1, 3, 3, 1, 3, 3, 1, 1, 3, 1, 1, 2, 1, 1, 1, 3, 3, 1, 3, 1, 1, 3, 2, 3, 3, 3, 3, 3, 3, 3, 3, 3, 1, 1, 3, 3, 1, 3, 3, 3, 3, 3, 3, 3, 3, 3, 3, 2, 3, 3, 3, 1, 1, 3, 1, 3, 1, 3, 1, 3, 3, 1, 3, 1, 3, 3, 1, 1, 3, 3, 1, 1, 1, 3, 3, 3, 3, 3, 1, 3, 3, 1, 1, 1, 3, 1, 1, 1, 1, 1, 3, 3, 1, 1, 3, 2, 2, 3, 1, 3, 1, 3, 3, 3, 3, 3, 1, 3, 3, 1, 3, 3, 3, 3, 1, 3, 3, 1, 3, 1, 1, 3, 3, 3, 1, 1, 3, 3, 3, 3, 1, 3, 3, 1, 1, 3, 1, 1, 3, 3, 3, 3, 1, 3, 3, 3, 1, 3, 1, 3, 3, 3, 3, 3, 3, 1, 1, 1, 3, 3, 1, 3, 1, 1, 1, 1, 3, 3, 1, 1, 1, 3, 3, 1, 3, 3, 3, 1, 3, 3, 3, 1, 3, 3, 3, 3, 3, 3, 1, 3, 1, 3, 3, 3, 1, 1, 3, 1, 1, 1, 1, 3, 3, 1, 3, 1, 3, 1, 1, 3, 3, 3, 3, 3, 1, 1, 3, 3, 3, 1, 1, 1, 3, 3, 3, 3, 1, 3, 3, 3, 3, 3, 1, 1, 1, 3, 1, 1, 3, 1, 3, 1, 1, 1, 3, 3, 3, 3, 3, 3, 1, 1, 3, 3, 3, 3, 3, 3, 3, 1, 3, 3, 3, 1, 1, 3, 1, 1, 2, 1, 1, 3, 3, 3, 3, 3, 3, 3, 3, 1, 3, 1, 3, 3, 3, 1, 3, 1, 3, 3, 3, 1, 1, 1, 3, 3, 3, 3, 3, 1, 3, 3, 1, 3, 1, 3, 3, 3, 3, 3, 3, 3, 3, 1, 3, 3, 3, 3, 3, 2, 3, 1, 2, 3, 1, 2, 1, 3, 3, 3, 3, 3, 3, 3, 3, 3, 3, 3, 3, 1, 3, 3, 3, 3, 1, 3, 3, 1, 1, 3, 3, 1, 3, 3, 3, 3, 3, 1, 1, 3, 3, 1, 1, 1, 3, 3, 3, 3, 3, 3, 3, 3, 1, 1, 1, 3, 3, 1, 3, 1, 2, 1, 2, 3, 1, 3, 3, 3, 1, 3, 3, 1, 1, 3, 1, 3, 3, 3, 1, 3, 3, 3, 1, 1, 3, 3, 1, 3, 3, 1, 3, 3, 3, 3, 2, 1, 1, 3, 2, 3, 2, 3, 1, 1, 1, 1, 1, 1, 3, 3, 3, 3, 3, 3, 1, 2, 1, 3, 3, 3, 3, 3, 3, 1, 3, 3, 3, 3, 3, 3, 3, 3, 3, 3, 3, 3, 1, 3, 3, 3, 3, 3, 3, 3, 3, 1, 1, 3, 3, 3, 3, 1, 1, 1, 3, 1, 1, 3, 1, 3, 1, 1, 3, 3, 3, 3, 3, 3, 3, 1, 3, 1, 3, 3, 3, 3, 3, 1, 1, 3, 3, 3, 3, 1, 1, 3, 3, 1, 1, 3, 1, 1, 1, 3, 1, 3, 3, 3, 1, 3, 1, 3, 3, 1, 3, 3, 1, 1, 3, 3, 1, 1, 1, 1, 1, 1, 3, 1, 3, 3, 3, 1, 3, 3, 3, 3, 3, 3, 1, 1, 1, 1, 1, 2, 3, 1, 1, 1, 1, 1, 3, 1, 3, 3, 3, 3, 3, 1, 3, 3, 1, 1, 1, 1, 3, 3, 3, 3, 3, 1, 1, 3, 3, 1, 1, 1, 1, 1, 3, 1, 1, 2, 2, 3, 3, 3, 1, 1, 3, 3, 3, 1, 3, 3, 3, 1, 3, 1, 1, 3, 3, 3, 1, 3, 3, 3, 3, 3, 3, 3, 3, 1, 3, 1, 3, 3, 3, 2, 1, 3, 3, 1, 1, 3, 1, 1, 1, 1, 3, 1, 1, 1, 2, 3, 3, 1, 3, 3, 1, 3, 3, 2, 1, 3, 3, 1, 3, 3, 1, 3, 1, 3, 3, 1, 1, 1, 1, 1, 1, 1, 1, 3, 1, 3, 1, 1, 3, 3, 3, 3, 1, 1, 3, 3, 3, 3, 1, 3, 1, 1, 3, 3, 3, 3, 3, 1, 3, 3, 3, 3, 3, 1, 1, 1, 1, 1, 1, 3, 3, 3, 3, 3, 3, 1, 3, 3, 3, 3, 3, 3, 3, 1, 3, 1, 1, 3, 3, 3, 1, 3, 3, 3, 3, 1, 1, 3, 3, 1, 3, 3, 3, 3, 1, 1, 1, 3, 1, 3, 1, 1, 3, 3, 3, 3, 3, 3, 3, 3, 3, 1, 3, 3, 1, 1, 3, 1, 3, 1, 3, 3, 3, 1, 1, 3, 3, 1, 1, 1, 1, 1, 3, 2, 1, 3, 1, 3, 3, 3, 1, 3, 3, 3, 1, 1, 3, 3, 1, 1, 3, 3, 3, 1, 3, 3, 1, 3, 3, 3, 1, 3, 3, 1, 3, 3, 1, 1, 1, 3, 1, 1, 1, 1, 3, 3, 3, 1, 1, 3, 1, 1, 3, 3, 3, 3, 3, 3, 1, 3, 3, 3, 1, 1, 1, 1, 1, 3, 3, 1, 1, 3, 3, 1, 3, 3, 3, 3, 3, 1, 1, 3, 3, 1, 3, 1, 1, 1, 1, 1, 1, 3, 3, 1, 1, 1, 1, 3, 3, 3, 3, 1, 3, 3, 3, 3, 3, 3, 3, 3, 3, 3, 3, 1, 1, 1, 3, 3, 2, 2, 1, 3, 1, 1, 3, 3, 3, 1, 3, 1, 3, 1, 3, 3, 3, 3, 3, 3, 3, 1, 3, 3, 3, 3, 3, 3, 1, 3, 3, 1, 3, 1, 2, 1, 3, 3, 1, 1, 1, 1, 1, 1, 1, 3, 3, 2, 1, 1, 3, 3, 3, 3, 3, 3, 3, 3, 1, 1, 1, 3, 1, 3, 3, 3, 3, 3, 3, 3, 3, 1, 1, 1, 3, 3, 1, 3, 3, 3, 1, 1, 1, 3, 3, 3, 1, 3, 1, 1, 1, 1, 3, 3, 1, 3, 1, 1, 3, 1, 3, 1, 3, 3, 3, 3, 3, 3, 1, 3, 3, 1, 3, 3, 1, 1, 3, 1, 1, 1, 3, 1, 1, 1, 3, 1, 3, 3, 3, 1, 1, 3, 3, 1, 2, 3, 1, 2, 2, 3, 3, 3, 3, 3, 3, 3, 3, 3, 1, 3, 2, 1, 1, 3, 1, 2, 1, 1, 1, 3, 3, 3, 1, 3, 3, 1, 3, 3, 1, 1, 3, 1, 3, 1, 3, 3, 3, 3, 3, 1, 1, 1, 1, 1, 3, 3, 3, 1, 3, 1, 3, 3, 1, 3, 3, 1, 3, 3, 1, 3, 3, 1, 1, 3, 3, 1, 3, 3, 3, 3, 3, 3, 3, 3, 1, 1, 3, 3, 3, 3, 3, 3, 3, 3, 3, 3, 3, 1, 3, 1, 3, 3, 3, 3, 1, 1, 1, 1, 1, 1, 3, 1, 3, 1, 3, 3, 3, 1, 1, 1, 1, 1, 1, 3, 3, 1, 1, 1, 1, 3, 1, 1, 1, 3, 2, 2, 1, 3, 3, 1, 1, 1, 1, 1, 1, 1, 3, 3, 1, 3, 3, 3, 3, 3, 1, 3, 3, 3, 3, 3, 1, 1, 3, 3, 3, 3, 1, 1, 1, 1, 1, 1, 1, 3, 3, 1, 1, 1, 2, 2, 1, 1, 1, 1, 1, 1, 1, 1, 1, 3, 3, 1, 3, 1, 1, 1, 1, 3, 3, 3, 1, 1, 1, 1, 3, 2, 3, 3, 2, 3, 1, 1, 3, 3, 3, 3, 1, 1, 1, 1, 1, 1, 1, 1, 1, 1, 1, 1, 3, 3, 1, 1, 1, 1, 3, 3, 3, 3, 3, 3, 3, 3, 1, 3, 2, 1, 1, 1, 1, 3, 3, 3, 3, 1, 2, 1, 1, 3, 1, 1, 1, 1, 1, 1, 3, 3, 1, 1, 1, 1, 3, 1, 3, 3, 1, 3, 3, 3, 1, 1, 3, 2, 1, 1, 1, 3, 3, 3, 1, 3, 3, 3, 3, 3, 3, 1, 3, 3, 3, 1, 1, 3, 1, 1, 2, 1, 1, 1, 3, 1, 1, 1, 3, 2, 3, 1, 1, 3, 3, 3, 1, 3, 3, 3, 3, 1, 1, 3, 2, 1, 2, 3, 3, 1, 2, 3, 3, 3, 3, 3, 3, 3, 1, 1, 3, 3, 1, 3, 1, 3, 3, 3, 3, 3, 3, 1, 3, 3, 1, 1, 1, 3, 1, 3, 3, 3, 1, 3, 3, 3, 3, 3, 1, 3, 2, 1, 1, 3, 3, 3, 1, 1, 2, 2, 1, 1, 3, 3, 1, 1, 3, 2, 1, 1, 3, 1, 1, 1, 3, 1, 1, 3, 1, 1, 3, 1, 3, 3, 3, 1, 1, 3, 3, 3, 3, 3, 3, 3, 3, 3, 3, 1, 3, 3, 3, 1, 3, 3, 3, 1, 3, 1, 3, 3, 3, 1, 1, 3, 1, 1, 3, 3, 3, 3, 3, 3, 1, 3, 3, 2, 3, 1, 1, 3, 1, 1, 3, 1, 1, 1, 2, 3, 1, 3, 1, 3, 3, 3, 1, 1, 3, 3, 3, 3, 1, 3, 2, 3, 3, 1, 3, 1, 1, 1, 2, 1, 2, 1, 1, 3, 1, 1, 3, 1, 3, 3, 3, 3, 3, 3, 1, 1, 1, 1, 1, 3, 1, 1, 1, 3, 3, 1, 1, 3, 1, 1, 1, 3, 1, 3, 3, 3, 3, 3, 3, 3, 3, 3, 3, 3, 1, 1, 3, 1, 1, 3, 3, 3, 3, 1, 3, 3, 1, 3, 3, 3, 1, 1, 3, 3, 1, 3, 1, 3, 1, 1, 3, 1, 3, 3, 1, 1, 2, 1, 3, 3, 1, 1, 1, 1, 1, 1, 3, 3, 3, 2, 3, 3, 3, 3, 3, 3, 3, 3, 3, 1, 3, 3, 3, 3, 2, 1, 1, 3, 1, 1, 2, 1, 1, 1, 1, 1, 1, 1, 1, 3, 3, 1, 3, 1, 1, 3, 2, 1, 1, 3, 3, 3, 3, 3, 1, 3, 1, 1, 3, 3, 1, 1, 3, 3, 3, 1, 3, 1, 3, 3, 1, 1, 1, 3, 3, 1, 3, 3, 3, 1, 3, 3, 3, 1, 1, 1, 1, 1, 3, 1, 3, 1, 1, 1, 1, 1, 3, 3, 1, 1, 1, 1, 1, 2, 1, 3, 1, 2, 1, 1, 3, 3, 3, 3, 3, 1, 3, 3, 3, 3, 3, 3, 1, 3, 1, 3, 1, 3, 2, 3, 1, 1, 3, 3, 1, 3, 3, 1, 1, 1, 1, 1, 1, 3, 3, 3, 3, 1, 3, 1, 1, 3, 1, 1, 1, 3, 3, 3, 3, 3, 3, 3, 3, 3, 1, 3, 3, 3, 3, 3, 1, 1, 1, 1, 1, 1, 1, 1, 3, 3, 3, 1, 3, 3, 3, 1, 1, 1, 1, 3, 1, 3, 1, 3, 3, 1, 1, 1, 1, 3, 3, 1, 3, 1, 1, 1, 3, 3, 3, 1, 1, 3, 1, 3, 3, 1, 3, 3, 1, 1, 3, 3, 3, 3, 3, 3, 1, 1, 1, 3, 1, 1, 3, 1, 1, 1, 1, 1, 3, 3, 1, 1, 2, 2, 3, 1, 3, 1, 1, 1, 3, 1, 1, 3, 1, 1, 2, 1, 3, 3, 3, 3, 3, 3, 3, 3, 1, 2, 3, 1, 2, 2, 1, 3, 3, 1, 1, 3, 3, 3, 3, 3, 3, 3, 3, 1, 1, 3, 3, 3, 3, 1, 3, 1, 1, 1, 1, 3, 1, 1, 1, 1, 3, 3, 3, 1, 1, 1, 1, 1, 3, 3, 1, 1, 3, 3, 3, 3, 3, 3, 3, 2, 3, 3, 3, 1, 3, 1, 3, 1, 1, 1, 1, 1, 1, 1, 1, 1, 1, 1, 1, 3, 1, 3, 3, 1, 1, 1, 1, 3, 1, 1, 1, 1, 1, 1, 1, 3, 3, 3, 3, 1, 3, 1, 1, 1, 1, 1, 3, 1, 3, 3, 3, 3, 3, 3, 1, 3, 3, 3, 3, 2, 1, 1, 3, 1, 3, 3, 1, 3, 1, 3, 1, 1, 1, 3, 1, 1, 3, 3, 3, 3, 1, 3, 3, 3, 3, 2, 1, 1, 3, 1, 3, 1, 3, 1, 1, 3, 1, 3, 1, 3, 1, 3, 3, 3, 1, 3, 1, 3, 3, 3, 3, 3, 3, 3, 1, 3, 3, 3, 3, 3, 3, 3, 1, 1, 3, 3, 3, 3, 1, 1, 1, 3, 3, 3, 3, 3, 1, 3, 3, 3, 3, 1, 1, 1, 3, 1, 3, 3, 3, 3, 3, 3, 3, 1, 3, 2, 1, 3, 3, 1, 1, 1, 1, 1, 1, 3, 3, 1, 3, 3, 3, 3, 1, 1, 2, 3, 3, 1, 1, 3, 1, 3, 1, 3, 3, 3, 1, 1, 1, 3, 3, 3, 3, 1, 3, 3, 1, 1, 1, 1, 1, 1, 3, 1, 1, 3, 1, 3, 1, 3, 1, 3, 3, 3, 1, 3, 2, 1, 1, 3, 3, 3, 2, 3, 3, 3, 3, 3, 3, 1, 1, 1, 3, 1, 1, 1, 3, 3, 3, 3, 3, 1, 1, 1, 1, 3, 3, 1, 1, 1, 1, 1, 3, 3, 1, 1, 3, 1, 1, 2, 3, 1, 3, 1, 3, 3, 1, 1, 1, 1, 1, 1, 1, 3, 3, 3, 3, 1, 3, 3, 1, 1, 1, 3, 3, 3, 3, 1, 1, 1, 1, 1, 3, 3, 3, 1, 1, 1, 3, 3, 3, 3, 1, 3, 1, 3, 1, 1, 1, 2, 3, 2, 3, 3, 3, 1, 1, 1, 3, 1, 3, 1, 3, 3, 3, 3, 1, 1, 1, 3, 3, 1, 3, 1, 1, 3, 3, 3, 1, 3, 3, 1, 1, 3, 3, 1, 1, 3, 3, 1, 1, 3, 1, 1, 1, 1, 3, 3, 1, 1, 3, 3, 1, 1, 3, 3, 3, 1, 3, 3, 1, 1, 3, 1, 2, 1, 1, 1, 1, 1, 3, 3, 3, 3, 3, 3, 3, 1, 3, 3, 3, 1, 1, 1, 3, 1, 1, 3, 3, 3, 3, 1, 1, 1, 3, 3, 3, 1, 1, 1, 1, 3, 3, 3, 3, 1, 1, 3, 1, 3, 3, 1, 1, 3, 3, 3, 3, 3, 1, 1, 1, 1, 1, 1, 3, 3, 1, 1, 3, 3, 1, 1, 1, 3, 3, 3, 3, 3, 1, 1, 3, 3, 3, 3, 1, 3, 3, 1, 1, 3, 1, 3, 1, 1, 1, 3, 3, 3, 1, 1, 1, 3, 1, 3, 1, 3, 1, 1, 1, 1, 3, 1, 1, 3, 2, 2, 3, 3, 3, 1, 3, 3, 3, 3, 3, 3, 3, 1, 1, 1, 3, 1, 3, 3, 3, 3, 3, 3, 3, 3, 3, 1, 1, 1, 1, 3, 1, 1, 3, 3, 1, 1, 1, 1, 1, 1, 3, 3, 2, 1, 1, 1, 3, 3, 3, 1, 2, 3, 3, 3, 1, 3, 3, 3, 3, 3, 3, 1, 1, 1, 3, 3, 3, 3, 1, 2, 1, 3, 1, 3, 3, 3, 3, 3, 1, 1, 1, 3, 1, 1, 1, 3, 3, 3, 3, 3, 3, 3, 1, 3, 3, 1, 1, 3, 3, 1, 3, 3, 3, 3, 3, 3, 3, 3, 3, 3, 3, 3, 3, 1, 3, 1, 1, 1, 3, 1, 1, 3, 1, 1, 1, 1, 3, 1, 3, 1, 1, 1, 1, 3, 1, 3, 1, 1, 1, 1, 2, 3, 3, 3, 1, 3, 3, 3, 1, 3, 1, 1, 1, 3, 3, 3, 1, 3, 3, 3, 1, 2, 1, 3, 1, 3, 3, 3, 3, 3, 3, 3, 3, 3, 3, 1, 3, 3, 1, 3, 1, 1, 3, 3, 3, 1, 1, 1, 1, 3, 3, 1, 1, 1, 1, 1, 1, 1, 1, 3, 3, 3, 1, 3, 1, 3, 3, 1, 1, 3, 3, 1, 3, 3, 1, 3, 3, 3, 3, 1, 3, 3, 1, 3, 2, 3, 3, 1, 3, 3, 3, 1, 3, 3, 1, 1, 3, 3, 1, 1, 3, 3, 1, 3, 1, 3, 2, 2, 1, 3, 1, 3, 1, 1, 1, 3, 3, 1, 3, 1, 3, 3, 1, 1, 1, 2, 1, 2, 3, 1, 1, 3, 3, 1, 1, 3, 3, 1, 1, 3, 1, 1, 1, 1, 1, 1, 1, 1, 1, 3, 3, 3, 1, 3, 1, 1, 3, 1, 3, 3, 3, 1, 1, 1, 3, 1, 1, 1, 3, 3, 3, 3, 3, 3, 1, 1, 3, 3, 1, 3, 3, 3, 1, 3, 3, 3, 3, 1, 1, 1, 3, 1, 1, 1, 1, 1, 1, 1, 1, 1, 3, 1, 3, 3, 1, 1, 3, 3, 1, 3, 1, 1, 1, 1, 1, 3, 3, 1, 1, 3, 2, 3, 3, 3, 3, 3, 3, 3, 3, 3, 3, 3, 3, 3, 1, 3, 3, 1, 3, 1, 1, 1, 1, 1, 1, 3, 3, 3, 3, 3, 2, 1, 1, 1, 1, 1, 1, 3, 2, 1, 1, 3, 3, 1, 1, 3, 3, 1, 3, 3, 1, 1, 3, 3, 3, 3, 1, 3, 1, 1, 1, 1, 3, 1, 1, 3, 1, 3, 3, 3, 3, 3, 3, 3, 3, 1, 1, 3, 1, 1, 3, 3, 1, 1, 1, 3, 2, 2, 1, 1, 3, 3, 1, 3, 1, 1, 3, 3, 1, 3, 3, 3, 3, 3, 3, 3, 1, 1, 1, 1, 3, 3, 1, 1, 1, 1, 1, 1, 1, 1, 3, 3, 1, 3, 3, 3, 1, 1, 3, 1, 3, 3, 3, 3, 1, 3, 3, 3, 1, 3, 1, 1, 3, 3, 3, 3, 3, 1, 3, 3, 3, 3, 1, 1, 2, 3, 3, 3, 1, 3, 1, 1, 1, 3, 1, 3, 3, 3, 2, 3, 1, 1, 3, 3, 3, 3, 1, 3, 1, 1, 3, 1, 1, 1, 1, 1, 3, 3, 3, 1, 3, 3, 3, 3, 3, 3, 3, 1, 3, 3, 1, 1, 3, 3, 3, 1, 1, 3, 3, 1, 1, 1, 3, 1, 1, 1, 1, 1, 1, 3, 3, 3, 3, 3, 1, 1, 1, 3, 2, 1, 3, 3, 3, 3, 3, 3, 3, 3, 1, 1, 1, 1, 3, 3, 3, 2, 1, 3, 3, 3, 1, 1, 3, 3, 3, 3, 2, 1, 1, 3, 3, 1, 1, 1, 1, 1, 1, 1, 3, 1, 3, 3, 3, 3, 3, 3, 1, 3, 3, 3, 1, 2, 3, 3, 3, 3, 3, 1, 3, 3, 3, 3, 3, 3, 1, 1, 3, 3, 1, 3, 3, 3, 1, 3, 3, 1, 3, 3, 2, 1, 1, 1, 3, 1, 2, 3, 3, 1, 1, 2, 1, 1, 3, 3, 1, 2, 1, 3, 3, 1, 1, 3, 3, 1, 1, 1, 3, 3, 3, 3, 3, 3, 3, 3, 3, 1, 1, 1, 3, 3, 1, 3, 1, 3, 1, 1, 1, 1, 1, 1, 1, 3, 1, 1, 1, 1, 1, 3, 1, 3, 3, 3, 3, 3, 1, 2, 3, 3, 1, 1, 1, 3, 1, 3, 3, 3, 3, 3, 3, 3, 3, 3, 3, 3, 3, 3, 3, 3, 3, 3, 3, 3, 1, 2, 1, 1, 3, 3, 1, 1, 1, 1, 1, 1, 1, 1, 3, 1, 3, 2, 2, 1, 1, 3, 3, 3, 3, 3, 3, 1, 1, 1, 1, 1, 3, 1, 1, 3, 1, 1, 1, 3, 3, 3, 3, 3, 1, 1, 3, 3, 1, 1, 1, 3, 1, 3, 3, 1, 1, 1, 3, 1, 1, 3, 3, 1, 3, 3, 1, 1, 3, 3, 3, 1, 3, 3, 1, 1, 3, 3, 3, 3, 3, 3, 1, 3, 1, 3, 3, 3, 1, 1, 1, 3, 1, 1, 3, 1, 3, 1, 1, 1, 3, 1, 3, 3, 3, 3, 3, 1, 1, 3, 3, 3, 3, 3, 3, 1, 3, 1, 1, 3, 3, 3, 3, 3, 3, 1, 3, 3, 3, 3, 3, 3, 1, 1, 3, 3, 3, 1, 3, 3, 1, 3, 3, 1, 1, 1, 1, 1, 1, 1, 1, 2, 1, 3, 3, 3, 3, 3, 2, 2, 1, 3, 3, 3, 3, 3, 3, 3, 3, 1, 3, 3, 3, 3, 3, 3, 3, 3, 3, 1, 3, 3, 3, 3, 1, 1, 3, 3, 3, 1, 1, 1, 1, 1, 1, 3, 3, 3, 3, 1, 3, 3, 3, 3, 3, 1, 3, 1, 3, 1, 3, 1, 1, 2, 3, 3, 3, 1, 3, 1, 1, 3, 3, 3, 3, 3, 3, 3, 3, 3, 1, 1, 3, 3, 3, 3, 1, 3, 1, 1, 1, 1, 3, 3, 3, 3, 3, 1, 3, 3, 3, 3, 1, 1, 1, 1, 3, 3, 3, 1, 3, 3, 3, 3, 1, 1, 1, 3, 3, 3, 3, 3, 1, 3, 1, 1, 1, 3, 3, 3, 3, 3, 3, 1, 1, 3, 3, 1, 1, 1, 3, 1, 3, 1, 1, 3, 3, 1, 3, 3, 2, 3, 3, 3, 3, 1, 3, 3, 3, 3, 3, 1, 3, 1, 1, 3, 3, 1, 3, 3, 1, 1, 1, 3, 1, 3, 3, 1, 3, 3, 2, 1, 3, 3, 3, 1, 3, 1, 3, 3, 1, 1, 3, 1, 1, 1, 3, 3, 3, 3, 1, 1, 3, 1, 3, 3, 3, 1, 3, 1, 1, 2, 3, 1, 2, 3, 3, 3, 3, 3, 3, 1, 1, 2, 1, 3, 1, 3, 1, 1, 3, 1, 1, 1, 1, 3, 3, 1, 3, 3, 3, 1, 3, 1, 3, 3, 3, 3, 2, 1, 3, 1, 1, 3, 1, 3, 3, 3, 1, 1, 3, 3, 3, 3, 1, 3, 1, 1, 3, 2, 3, 1, 1, 1, 1, 1, 1, 3, 1, 3, 1, 1, 1, 1, 3, 1, 1, 3, 3, 3, 3, 3, 2, 3, 1, 3, 3, 3, 3, 3, 3, 3, 1, 3, 3, 1, 3, 3, 1, 3, 3, 3, 3, 3, 1, 1, 1, 3, 3, 1, 1, 3, 3, 3, 3, 1, 1, 3, 3, 2, 3, 1, 1, 3, 3, 1, 3, 3, 3, 1, 3, 1, 3, 3, 3, 3, 1, 1, 1, 3, 2, 1, 1, 3, 3, 1, 1, 3, 3, 1, 3, 1, 3, 3, 1, 3, 3, 1, 1, 3, 3, 1, 3, 1, 3, 3, 1, 2, 3, 3, 3, 3, 1, 1, 3, 3, 1, 1, 1, 1, 1, 3, 3, 2, 3, 1, 3, 3, 1, 1, 3, 3, 3, 1, 3, 2, 3, 3, 3, 3, 3, 1, 3, 3, 1, 1, 1, 3, 3, 3, 3, 1, 1, 3, 1, 3, 3, 1, 3, 1, 3, 3, 3, 3, 1, 1, 1, 1, 1, 3, 3, 1, 3, 3, 3, 3, 3, 3, 3, 3, 3, 1, 3, 1, 3, 3, 1, 3, 1, 3, 3, 2, 1, 1, 3, 3, 3, 3, 3, 1, 3, 3, 3, 1, 3, 1, 1, 1, 1, 1, 3, 3, 1, 3, 1, 1, 1, 1, 1, 3, 1, 3, 1, 1, 3, 1, 1, 1, 1, 1, 1, 1, 1, 2, 1, 1, 3, 3, 1, 3, 3, 3, 3, 3, 3, 3, 3, 3, 3, 3, 1, 1, 1, 3, 1, 3, 1, 3, 3, 3, 1, 3, 3, 3, 1, 3, 1, 2, 3, 1, 1, 3, 3, 3, 1, 3, 1, 3, 3, 3, 1, 3, 1, 3, 3, 3, 3, 1, 1, 3, 1, 3, 3, 3, 1, 1, 3, 3, 3, 3, 3, 3, 1, 1, 3, 1, 3, 3, 3, 3, 3, 3, 3, 3, 3, 1, 1, 1, 1, 1, 3, 2, 1, 1, 1, 3, 3, 3, 3, 3, 3, 3, 3, 2, 3, 3, 1, 3, 3, 1, 3, 1, 3, 3, 3, 1, 3, 3, 1, 1, 1, 1, 1, 1, 3, 3, 3, 3, 3, 3, 2, 1, 3, 3, 3, 3, 3, 1, 1, 3, 3, 3, 3, 3, 1, 1, 3, 3, 3, 3, 3, 3, 1, 1, 3, 1, 1, 1, 1, 1, 1, 1, 1, 3, 1, 1, 1, 1, 1, 1, 1, 3, 3, 3, 3, 1, 1, 3, 3, 3, 3, 1, 3, 3, 3, 3, 1, 1, 2, 1, 3, 3, 1, 1, 3, 3, 1, 1, 3, 3, 3, 1, 3, 3, 1, 1, 3, 3, 3, 3, 1, 1, 3, 3, 1, 3, 2, 3, 3, 3, 1, 1, 1, 1, 3, 1, 3, 1, 3, 3, 3, 1, 3, 1, 3, 1, 3, 1, 3, 3, 3, 3, 1, 1, 1, 3, 1, 3, 3, 1, 1, 1, 1, 1, 2, 1, 1, 1, 3, 1, 3, 1, 2, 1, 1, 1, 3, 2, 1, 3, 1, 1, 1, 1, 1, 2, 1, 1, 3, 3, 3, 3, 1, 1, 1, 3, 3, 3, 1, 1, 1, 2, 3, 1, 2, 1, 1, 1, 1, 3, 1, 3, 2, 1, 1, 1, 3, 3, 1, 3, 1, 1, 1, 3, 3, 3, 3, 3, 1, 3, 1, 3, 1, 1, 3, 3, 1, 1, 3, 1, 1, 1, 1, 3, 1, 3, 1, 3, 1, 1, 1, 1, 1, 3, 1, 1, 3, 1, 3, 1, 3, 1, 1, 1, 1, 1, 1, 1, 3, 3, 1, 1, 1, 2, 1, 1, 1, 3, 3, 3, 2, 3, 3, 1, 1, 3, 3, 1, 1, 1, 3, 1, 1, 1, 1, 3, 3, 3, 1, 1, 1, 1, 1, 1, 3, 1, 1, 1, 1, 1, 3, 1, 1, 1, 1, 1, 1, 1, 1, 1, 1, 1, 3, 3, 3, 3, 3, 1, 1, 3, 1, 3, 1, 3, 1, 3, 1, 3, 1, 1, 1, 3, 1, 1, 1, 1, 1, 1, 1, 1, 3, 1, 3, 3, 1, 1, 1, 3, 1, 3, 3, 3, 1, 1, 1, 3, 1, 3, 1, 3, 3, 1, 1, 3, 3, 3, 1, 3, 1, 3, 3, 1, 1, 3, 1, 1, 3, 1, 1, 3, 3, 1, 1, 1, 1, 3, 1, 3, 3, 1, 1, 1, 1, 1, 1, 1, 1, 1, 1, 1, 1, 2, 1, 1, 3, 1, 1, 1, 1, 1, 1, 3, 2, 1, 1, 3, 3, 3, 3, 3, 1, 1, 1, 1, 1, 1, 3, 3, 1, 1, 3, 1, 1, 3, 3, 3, 3, 3, 3, 1, 1, 3, 1, 1, 3, 1, 1, 3, 3, 3, 1, 1, 1, 1, 1, 3, 1, 3, 2, 1, 3, 1, 1, 1, 1, 1, 1, 3, 3, 1, 3, 1, 3, 1, 3, 3, 1, 1, 1, 3, 1, 3, 3, 1, 2, 1, 1, 3, 3, 3, 3, 3, 3, 3, 3, 1, 1, 3, 1, 1, 3, 3, 2, 2, 1, 3, 1, 3, 1, 1, 3, 1, 1, 1, 1, 1, 1, 3, 3, 3, 3, 3, 1, 1, 1, 3, 1, 1, 3, 1, 1, 1, 1, 2, 3, 3, 1, 1, 3, 1, 1, 1, 1, 3, 1, 3, 1, 1, 1, 1, 1, 1, 1, 1, 1, 3, 1, 1, 1, 1, 1, 1, 3, 1, 1, 1, 1, 3, 3, 3, 1, 1, 3, 1, 3, 1, 1, 1, 1, 3, 1, 1, 1, 1, 3, 1, 3, 3, 3, 3, 3, 1, 1, 1, 3, 1, 3, 1, 3, 3, 3, 1, 3, 1, 1, 1, 3, 1, 1, 3, 3, 3, 1, 1, 1, 3, 1, 3, 1, 1, 3, 1, 1, 1, 1, 3, 1, 3, 3, 1, 1, 3, 1, 1, 2, 1, 1, 1, 1, 1, 1, 1, 1, 3, 3, 3, 1, 1, 1, 3, 1, 1, 3, 1, 3, 3, 1, 3, 1, 1, 1, 1, 3, 3, 1, 1, 1, 3, 3, 1, 3, 1, 1, 1, 3, 1, 1, 1, 3, 1, 1, 1, 1, 3, 1, 3, 1, 1, 3, 3, 1, 1, 1, 1, 1, 1, 3, 3, 3, 1, 3, 3, 1, 1, 1, 1, 1, 1, 1, 1, 1, 1, 1, 1, 1, 1, 3, 1, 1, 1, 1, 1, 1, 1, 3, 1, 3, 3, 3, 1, 1, 3, 3, 1, 1, 3, 3, 1, 1, 1, 1, 1, 1, 3, 1, 1, 1, 1, 3, 3, 1, 3, 3, 1, 3, 3, 3, 1, 3, 3, 1, 1, 1, 3, 1, 3, 1, 3, 1, 1, 1, 1, 1, 3, 3, 3, 3, 3, 2, 3, 1, 3, 2, 1, 1, 3, 1, 1, 1, 1, 1, 1, 3, 1, 1, 1, 3, 1, 1, 1, 3, 1, 1, 3, 1, 1, 1, 1, 1, 3, 3, 1, 3, 1, 3, 1, 3, 1, 1, 1, 1, 3, 1, 3, 3, 3, 3, 3, 1, 3, 1, 1, 1, 1, 1, 3, 1, 1, 1, 1, 3, 3, 1, 1, 1, 1, 3, 1, 1, 3, 3, 1, 1, 1, 1, 1, 3, 3, 3, 3, 1, 1, 1, 1, 3, 1, 1, 1, 1, 3, 1, 1, 1, 1, 1, 1, 3, 3, 1, 1, 1, 1, 1, 1, 1, 3, 1, 1, 3, 3, 3, 3, 1, 1, 3, 1, 3, 3, 3, 3, 1, 1, 1, 1, 1, 3, 1, 3, 1, 3, 2, 3, 1, 1, 1, 1, 3, 3, 1, 3, 3, 3, 3, 3, 3, 1, 1, 1, 1, 1, 1, 3, 1, 1, 1, 3, 1, 1, 3, 1, 1, 1, 1, 1, 1, 1, 3, 3, 3, 1, 1, 1, 3, 3, 3, 3, 3, 3, 1, 1, 1, 3, 1, 3, 1, 1, 1, 1, 1, 3, 1, 3, 1, 3, 1, 3, 3, 3, 1, 1, 3, 1, 1, 1, 1, 2, 3, 3, 1, 1, 1, 3, 1, 1, 3, 1, 1, 1, 1, 3, 1, 1, 3, 1, 1, 3, 1, 1, 1, 3, 1, 3, 1, 1, 3, 1, 3, 3, 1, 3, 3, 1, 1, 3, 3, 3, 3, 1, 1, 1, 1, 1, 3, 1, 1, 1, 3, 3, 3, 1, 3, 1, 1, 3, 1, 1, 1, 1, 1, 3, 1, 1, 3, 3, 1, 3, 3, 1, 1, 1, 1, 1, 1, 3, 1, 1, 1, 1, 1, 1, 1, 1, 3, 1, 3, 3, 1, 1, 1, 1, 1, 1, 2, 1, 1, 1, 1, 3, 1, 1, 3, 1, 3, 1, 1, 1, 1, 1, 1, 3, 1, 3, 3, 1, 1, 1, 1, 1, 1, 1, 3, 3, 3, 1, 1, 1, 1, 3, 1, 1, 1, 1, 3, 1, 3, 1, 3, 1, 3, 1, 3, 1, 1, 1, 3, 1, 1, 1, 1, 1, 1, 3, 1, 1, 3, 1, 1, 3, 1, 1, 1, 3, 3, 1, 3, 1, 1, 2, 2, 1, 1, 1, 1, 1, 1, 3, 3, 1, 1, 1, 2, 1, 3, 1, 1, 1, 3, 3, 3, 1, 3, 3, 3, 3, 1, 3, 3, 3, 3, 1, 3, 1, 1, 3, 3, 1, 3, 1, 3, 1, 1, 1, 1, 3, 1, 3, 1, 1, 1, 3, 1, 1, 2, 2, 3, 3, 1, 3, 1, 1, 3, 1, 1, 1, 3, 1, 3, 3, 1, 1, 3, 1, 1, 3, 1, 2, 1, 1, 3, 3, 3, 3, 2, 1, 1, 1, 3, 3, 1, 1, 1, 1, 1, 1, 1, 3, 1, 1, 1, 1, 1, 1, 1, 1, 1, 1, 3, 3, 1, 3, 1, 1, 1, 1, 1, 1, 1, 3, 3, 3, 3, 1, 1, 1, 1, 3, 1, 1, 1, 3, 1, 3, 3, 3, 1, 1, 1, 1, 1, 1, 1, 3, 1, 3, 3, 3, 1, 3, 3, 3, 1, 1, 1, 1, 1, 1, 3, 3, 1, 1, 1, 1, 1, 3, 1, 3, 3, 3, 1, 1, 1, 1, 1, 3, 3, 1, 3, 1, 1, 1, 1, 3, 1, 1, 1, 1, 1, 1, 1, 3, 3, 1, 1, 3, 1, 1, 1, 3, 1, 3, 3, 1, 3, 3, 1, 3, 3, 3, 1, 1, 2, 1, 1, 3, 1, 1, 3, 3, 3, 1, 3, 1, 1, 2, 3, 3, 3, 3, 3, 3, 1, 1, 3, 3, 1, 1, 1, 3, 3, 3, 1, 1, 1, 1, 3, 1, 1, 3, 1, 1, 1, 3, 1, 1, 3, 3, 1, 1, 1, 3, 1, 1, 1, 1, 3, 3, 3, 3, 1, 1, 1, 1, 1, 1, 1, 1, 1, 3, 1, 1, 3, 3, 3, 1, 3, 1, 3, 3, 3, 3, 3, 3, 3, 1, 1, 3, 1, 1, 1, 1, 1, 1, 3, 3, 1, 3, 1, 1, 3, 3, 1, 1, 3, 1, 3, 1, 1, 1, 3, 3, 3, 1, 3, 1, 3, 3, 3, 3, 1, 1, 1, 3, 1, 3, 1, 1, 1, 3, 1, 1, 3, 3, 3, 1, 3, 3, 1, 1, 1, 1, 1, 3, 3, 3, 1, 1, 1, 3, 3, 1, 1, 1, 1, 3, 3, 1, 2, 1, 3, 3, 1, 1, 1, 1, 1, 3, 1, 1, 1, 1, 3, 1, 1, 1, 3, 3, 1, 1, 1, 3, 3, 1, 1, 1, 1, 1, 1, 1, 3, 3, 1, 3, 1, 1, 3, 1, 3, 3, 3, 3, 1, 1, 1, 1, 1, 2, 3, 1, 1, 1, 1, 1, 1, 1, 1, 1, 1, 1, 2, 1, 1, 1, 1, 1, 1, 1, 1, 1, 1, 1, 3, 1, 3, 1, 2, 3, 3, 1, 3, 1, 1, 3, 3, 3, 3, 3, 1, 1, 3, 1, 1, 3, 1, 3, 3, 3, 1, 3, 1, 1, 1, 1, 3, 1, 1, 1, 1, 1, 3, 3, 3, 3, 1, 1, 3, 3, 3, 1, 1, 1, 1, 1, 1, 1, 1, 1, 3, 3, 3, 3, 3, 3, 1, 3, 3, 3, 3, 1, 1, 3, 3, 1, 1, 3, 3, 1, 3, 1, 1, 1, 1, 3, 1, 3, 1, 3, 2, 1, 1, 1, 2, 1, 1, 1, 1, 1, 3, 1, 3, 3, 1, 1, 1, 1, 1, 1, 1, 1, 3, 1, 1, 3, 1, 3, 1, 1, 1, 3, 3, 1, 1, 1, 1, 3, 1, 3, 3, 1, 3, 3, 1, 1, 3, 3, 1, 3, 1, 1, 3, 1, 3, 3, 1, 1, 1, 1, 1, 1, 1, 1, 1, 1, 1, 1, 1, 1, 1, 3, 3, 1, 3, 3, 1, 3, 3, 3, 3, 1, 1, 1, 1, 1, 1, 1, 1, 1, 3, 3, 3, 3, 3, 3, 3, 1, 1, 1, 3, 3, 1, 1, 3, 3, 1, 1, 1, 1, 1, 1, 1, 1, 1, 1, 1, 1, 3, 3, 1, 1, 3, 1, 3, 1, 3, 1, 1, 3, 1, 1, 3, 1, 3, 3, 3, 3, 1, 1, 1, 1, 1, 3, 1, 3, 1, 1, 1, 3, 1, 3, 3, 1, 1, 3, 3, 3, 3, 1, 1, 1, 1, 3, 1, 1, 1, 1, 1, 1, 1, 1, 3, 1, 3, 3, 3, 3, 3, 3, 1, 1, 3, 3, 3, 3, 3, 3, 3, 1, 1, 1, 3, 3, 3, 3, 3, 1, 1, 1, 3, 1, 1, 1, 1, 1, 1, 1, 1, 3, 3, 1, 1, 3, 1, 1, 1, 1, 1, 3, 1, 3, 1, 1, 3, 3, 3, 3, 1, 3, 3, 3, 3, 1, 3, 1, 3, 1, 3, 1, 3, 1, 3, 1, 1, 1, 3, 1, 3, 2, 3, 1, 3, 1, 3, 1, 1, 3, 1, 3, 2, 1, 1, 1, 1, 1, 1, 1, 3, 3, 1, 1, 3, 1, 1, 1, 1, 3, 3, 1, 3, 3, 3, 3, 1, 1, 1, 1, 1, 1, 1, 1, 1, 2, 3, 3, 3, 1, 1, 2, 3, 1, 1, 3, 1, 1, 1, 1, 1, 1, 1, 1, 1, 1, 1, 1, 1, 1, 1, 1, 3, 3, 1, 1, 1, 1, 1, 1, 1, 1, 1, 1, 3, 1, 1, 1, 1, 1, 2, 3, 1, 1, 1, 1, 1, 1, 1, 3, 1, 3, 3, 3, 2, 1, 1, 1, 3, 3, 3, 3, 3, 1, 1, 3, 1, 1, 3, 3, 3, 3, 3, 3, 1, 1, 3, 3, 1, 1, 1, 1, 3, 1, 1, 1, 1, 1, 1, 1, 1, 1, 1, 1, 1, 1, 3, 1, 1, 1, 3, 1, 3, 3, 1, 3, 1, 2, 3, 1, 3, 1, 3, 1, 3, 3, 3, 1, 1, 1, 1, 1, 1, 1, 3, 3, 1, 1, 1, 1, 1, 1, 1, 3, 1, 2, 3, 3, 1, 1, 1, 1, 1, 1, 1, 3, 1, 3, 1, 1, 3, 1, 3, 3, 1, 1, 1, 1, 1, 1, 1, 3, 3, 1, 1, 3, 1, 3, 1, 3, 3, 3, 1, 3, 3, 1, 2, 3, 3, 1, 1, 1, 1, 3, 3, 3, 3, 3, 3, 1, 3, 1, 1, 1, 1, 1, 3, 1, 1, 1, 1, 1, 1, 1, 1, 1, 3, 1, 3, 1, 3, 1, 3, 1, 1, 2, 3, 3, 1, 3, 1, 1, 1, 3, 1, 3, 1, 1, 1, 3, 1, 1, 1, 3, 3, 3, 3, 1, 1, 1, 1, 1, 3, 1, 1, 1, 1, 3, 2, 1, 1, 1, 1, 1, 3, 3, 1, 3, 3, 3, 3, 1, 1, 3, 1, 3, 1, 1, 3, 1, 1, 1, 1, 1, 3, 1, 1, 1, 3, 3, 1, 3, 3, 3, 3, 3, 1, 1, 1, 1, 3, 3, 3, 1, 1, 1, 1, 1, 1, 1, 1, 1, 1, 1, 1, 1, 1, 1, 1, 1, 1, 3, 3, 1, 1, 3, 1, 3, 1, 1, 1, 1, 3, 1, 3, 3, 3, 1, 3, 1, 1, 1, 1, 1, 1, 3, 1, 1, 1, 3, 1, 3, 1, 1, 1, 1, 3, 1, 1, 1, 1, 3, 3, 1, 1, 1, 1, 1, 1, 1, 3, 1, 3, 3, 1, 3, 3, 3, 3, 1, 3, 3, 3, 3, 3, 3, 1, 1, 1, 1, 1, 3, 1, 1, 3, 1, 3, 1, 1, 3, 1, 3, 3, 1, 3, 1, 3, 3, 1, 3, 1, 1, 1, 1, 1, 1, 1, 3, 1, 3, 1, 1, 1, 1, 3, 1, 3, 1, 3, 3, 1, 1, 3, 3, 1, 1, 3, 3, 1, 1, 1, 1, 1, 1, 3, 1, 3, 1, 1, 1, 3, 1, 3, 3, 1, 1, 1, 1, 1, 1, 3, 1, 1, 1, 3, 1, 3, 3, 3, 1, 1, 1, 1, 3, 1, 3, 1, 1, 1, 1, 1, 3, 1, 1, 3, 1, 1, 1, 1, 3, 1, 3, 3, 2, 2, 3, 1, 1, 3, 3, 3, 1, 1, 3, 1, 1, 3, 1, 3, 3, 1, 3, 3, 1, 1, 1, 1, 3, 1, 3, 1, 1, 1, 3, 3, 3, 3, 3, 3, 3, 1, 3, 1, 1, 1, 1, 1, 1, 3, 3, 1, 1, 3, 3, 1, 1, 1, 3, 3, 2, 1, 1, 1, 1, 3, 3, 3, 1, 2, 3, 1, 1, 1, 1, 1, 1, 1, 3, 1, 3, 1, 1, 1, 3, 1, 1, 3, 1, 1, 3, 1, 3, 1, 1, 1, 1, 1, 1, 1, 1, 1, 3, 1, 3, 3, 1, 1, 3, 1, 1, 2, 1, 3, 1, 1, 1, 1, 1, 1, 1, 1, 1, 1, 3, 1, 3, 1, 1, 3, 2, 1, 1, 3, 3, 1, 1, 1, 1, 1, 1, 1, 1, 1, 1, 1, 1, 1, 3, 1, 2, 1, 3, 1, 1, 1, 3, 1, 1, 1, 1, 1, 1, 1, 1, 1, 3, 1, 1, 3, 3, 1, 1, 3, 3, 1, 3, 3, 3, 3, 3, 1, 1, 3, 1, 1, 1, 1, 1, 1, 1, 1, 1, 1, 1, 1, 1, 3, 1, 1, 3, 1, 3, 1, 3, 3, 3, 1, 3, 3, 3, 3, 1, 1, 1, 1, 1, 1, 1, 3, 1, 1, 3, 3, 1, 3, 2, 3, 3, 3, 1, 1, 3, 1, 1, 1, 1, 3, 1, 3, 3, 2, 1, 3, 1, 3, 3, 3, 3, 1, 1, 1, 3, 1, 1, 3, 3, 1, 1, 3, 1, 3, 2, 1, 1, 1, 3, 3, 3, 2, 1, 3, 3, 2, 3, 3, 1, 1, 1, 3, 1, 1, 1, 1, 3, 1, 3, 3, 1, 1, 1, 1, 3, 1, 1, 3, 1, 1, 1, 3, 1, 3, 3, 1, 1, 1, 1, 1, 1, 1, 1, 1, 1, 3, 1, 1, 3, 3, 3, 1, 1, 1, 3, 1, 3, 1, 3, 3, 3, 3, 1, 1, 1, 1, 1, 1, 1, 1, 1, 1, 1, 1, 3, 1, 1, 1, 3, 3, 1, 3, 1, 1, 1, 1, 1, 1, 1, 2, 1, 1, 1, 3, 1, 1, 1, 1, 3, 1, 1, 1, 3, 3, 1, 3, 3, 1, 1, 1, 1, 3, 3, 1, 1, 1, 1, 1, 1, 1, 1, 1, 1, 1, 1, 1, 1, 1, 3, 2, 1, 1, 1, 3, 1, 3, 1, 3, 3, 3, 3, 1, 1, 3, 1, 3, 1, 1, 3, 1, 1, 3, 1, 3, 3, 3, 1, 1, 1, 1, 1, 3, 3, 1, 1, 3, 1, 3, 3, 1, 3, 1, 1, 3, 1, 1, 3, 1, 1, 1, 1, 1, 1, 1, 3, 1, 3, 3, 3, 3, 3, 3, 1, 1, 1, 1, 3, 1, 1, 1, 3, 1, 3, 3, 1, 1, 1, 3, 1, 1, 3, 2, 1, 1, 1, 3, 1, 1, 3, 1, 1, 2, 3, 1, 3, 1, 1, 1, 1, 1, 1, 1, 1, 3, 1, 2, 3, 1, 3, 1, 1, 1, 3, 1, 3, 3, 3, 1, 3, 1, 1, 1, 3, 1, 3, 3, 3, 1, 1, 3, 3, 3, 3, 3, 1, 1, 1, 1, 3, 1, 1, 1, 1, 1, 1, 1, 1, 1, 1, 1, 1, 3, 2, 3, 1, 1, 3, 1, 1, 3, 3, 1, 3, 3, 1, 3, 3, 1, 3, 3, 3, 3, 3, 1, 1, 1, 1, 1, 1, 3, 1, 3, 3, 1, 1, 1, 3, 1, 1, 1, 2, 1, 1, 1, 2, 1, 3, 3, 3, 1, 3, 3, 1, 1, 1, 3, 3, 2, 3, 3, 3, 1, 3, 1, 1, 3, 1, 1, 2, 1, 1, 1, 1, 1, 1, 1, 1, 1, 1, 1, 3, 1, 1, 1, 1, 3, 1, 1, 1, 3, 3, 3, 3, 1, 3, 1, 3, 1, 3, 1, 1, 1, 1, 3, 1, 1, 1, 1, 1, 1, 1, 1, 3, 1, 3, 1, 1, 3, 1, 3, 3, 1, 3, 1, 1, 1, 1, 1, 1, 1, 1, 1, 3, 1, 1, 3, 1, 3, 1, 1, 1, 3, 3, 3, 3, 3, 1, 1, 3, 1, 1, 1, 1, 1, 1, 1, 3, 1, 1, 3, 1, 1, 3, 1, 3, 1, 3, 3, 2, 3, 1, 1, 1, 3, 1, 1, 1, 1, 1, 1, 3, 3, 3, 1, 2, 3, 1, 1, 2, 1, 1, 1, 1, 3, 1, 3, 2, 1, 1, 3, 3, 1, 1, 1, 3, 3, 1, 1, 1, 1, 1, 1, 3, 1, 1, 1, 1, 1, 3, 1, 1, 1, 1, 1, 1, 1, 1, 1, 1, 1, 1, 1, 3, 1, 1, 1, 3, 3, 3, 1, 1, 3, 1, 1, 1, 3, 1, 3, 3, 3, 1, 1, 1, 1, 1, 3, 3, 3, 1, 1, 1, 1, 3, 1, 3, 1, 1, 1, 1, 1, 1, 1, 1, 1, 3, 1, 1, 1, 1, 3, 3, 1, 3, 2, 3, 1, 3, 1, 1, 3, 1, 1, 1, 1, 1, 1, 3, 1, 1, 3, 1, 1, 1, 1, 3, 1, 1, 1, 1, 1, 3, 1, 3, 1, 1, 1, 1, 1, 1, 1, 1, 1, 1, 1, 1, 1, 3, 1, 3, 1, 1, 1, 1, 1, 1, 1, 1, 2, 1, 1, 1, 3, 1, 1, 1, 3, 1, 1, 3, 3, 3, 3, 1, 1, 3, 3, 3, 3, 3, 3, 3, 3, 3, 1, 3, 1, 3, 1, 1, 1, 3, 1, 1, 1, 1, 3, 1, 1, 3, 1, 1, 1, 1, 3, 3, 3, 1, 1, 1, 3, 3, 3, 1, 1, 1, 1, 1, 1, 1, 1, 3, 3, 1, 1, 1, 1, 1, 1, 1, 1, 1, 1, 3, 1, 1, 1, 1, 3, 1, 1, 3, 1, 1, 1, 1, 1, 3, 1, 3, 1, 1, 1, 1, 1, 1, 3, 1, 1, 1, 1, 1, 1, 1, 1, 1, 3, 1, 3, 3, 1, 1, 1, 3, 1, 1, 1, 1, 1, 1, 1, 1, 3, 1, 3, 1, 1, 1, 1, 1, 1, 1, 1, 1, 1, 1, 1, 1, 3, 3, 1, 1, 1, 2, 2, 1, 1, 1, 1, 1, 3, 3, 1, 3, 3, 3, 3, 1, 3, 3, 3, 3, 1, 1, 1, 3, 3, 3, 1, 1, 1, 1, 1, 1, 1, 1, 2, 3, 3, 3, 3, 1, 1, 1, 1, 3, 1, 3, 1, 1, 3, 1, 1, 1, 1, 1, 1, 3, 3, 1, 3, 1, 1, 1, 3, 1, 1, 1, 1, 3, 3, 3, 3, 2, 1, 3, 3, 3, 3, 3, 1, 1, 1, 1, 1, 3, 3, 1, 1, 1, 1, 1, 1, 1, 1, 3, 1, 1, 1, 1, 1, 2, 3, 1, 1, 1, 1, 1, 1, 1, 3, 1, 3, 1, 1, 1, 1, 1, 1, 1, 1, 1, 1, 1, 1, 1, 1, 1, 1, 3, 3, 3, 3, 3, 3, 3, 3, 3, 3, 3, 3, 3, 3, 3, 3, 3, 3, 3, 3, 1, 1, 3, 1, 1, 1, 1, 1, 3, 3, 3, 3, 3, 3, 3, 1, 3, 3, 3, 3, 1, 1, 3, 3, 1, 1, 3, 3, 3, 3, 3, 1, 1, 2, 1, 1, 3, 2, 1, 3, 1, 3, 1, 1, 1, 1, 1, 1, 1, 1, 1, 1, 3, 1, 3, 3, 3, 3, 3, 3, 1, 3, 3, 2, 3, 3, 3, 3, 3, 3, 3, 1, 1, 1, 1, 1, 2, 3, 1, 3, 1, 1, 1, 1, 1, 1, 3, 1, 1, 1, 1, 1, 1, 1, 1, 1, 1, 1, 1, 1, 1, 1, 1, 1, 1, 1, 1, 3, 1, 1, 3, 3, 3, 3, 3, 1, 1, 1, 1, 1, 1, 1, 1, 1, 1, 1, 3, 2, 1, 1, 1, 1, 1, 1, 1, 1, 3, 3, 1, 2, 1, 1, 1, 1, 1, 3, 3, 3, 3, 3, 1, 3, 1, 3, 1, 1, 1, 1, 1, 1, 3, 3, 3, 1, 3, 1, 3, 3, 3, 3, 3, 3, 3, 3, 3, 1, 1, 1, 1, 2, 3, 3, 3, 3, 3, 3, 3, 3, 3, 1, 1, 1, 2, 1, 1, 3, 3, 1, 1, 1, 1, 3, 1, 1, 1, 1, 1, 1, 1, 1, 1, 1, 1, 1, 3, 3, 3, 1, 1, 1, 3, 1, 3, 3, 1, 1, 1, 3, 3, 3, 3, 3, 3, 3, 1, 1, 1, 1, 1, 1, 1, 1, 1, 1, 1, 1, 1, 1, 3, 1, 1, 1, 3, 1, 1, 1, 1, 1, 1, 1, 1, 3, 3, 3, 3, 3, 3, 3, 1, 1, 1, 2, 3, 1, 3, 1, 1, 1, 3, 3, 3, 3, 3, 3, 1, 1, 1, 1, 1, 1, 1, 3, 3, 3, 1, 1, 1, 1, 1, 3, 1, 1, 1, 1, 1, 1, 1, 1, 1, 1, 1, 1, 1, 1, 1, 3, 1, 1, 1, 1, 1, 1, 3, 1, 1, 1, 1, 1, 3, 3, 3, 3, 1, 1, 3, 2, 2, 2, 2, 2, 1, 3, 1, 1, 1, 3, 3, 1, 1, 1, 3, 1, 3, 3, 3, 3, 3, 3, 1, 1, 1, 3, 1, 1, 1, 1, 1, 3, 1, 3, 3, 3, 3, 3, 3, 3, 3, 3, 1, 3, 3, 3, 3, 3, 3, 3, 3, 3, 3, 3, 3, 3, 3, 3, 3, 1, 3, 3, 3, 3, 3, 1, 1, 1, 1, 1, 1, 3, 1, 1, 1, 1, 1, 3, 1, 3, 3, 1, 3, 3, 3, 1, 3, 3, 3, 3, 3, 3, 2, 1, 1, 3, 3, 3, 1, 1, 1, 1, 1, 1, 1, 1, 1, 3, 3, 3, 3, 3, 3, 3, 1, 1, 1, 1, 1, 1, 3, 3, 1, 3, 3, 3, 3, 3, 3, 3, 3, 3, 3, 3, 3, 3, 3, 3, 3, 3, 3, 3, 3, 3, 3, 1, 3, 1, 1, 2, 1, 1, 1, 1, 1, 1, 1, 3, 1, 2, 1, 1, 3, 1, 1, 3, 1, 1, 1, 2, 1, 3, 3, 3, 3, 1, 1, 1, 3, 3, 1, 1, 3, 3, 3, 3, 3, 3, 3, 3, 3, 3, 3, 2, 3, 1, 1, 3, 1, 3, 3, 1, 3, 1, 3, 3, 1, 1, 3, 3, 3, 3, 3, 3, 3, 3, 3, 3, 1, 1, 1, 3, 1, 1, 1, 3, 3, 3, 3, 3, 3, 3, 3, 3, 1, 1, 1, 3, 3, 3, 3, 1, 1, 3, 1, 2, 1, 3, 1, 3, 1, 1, 1, 1, 1, 3, 1, 1, 1, 1, 1, 1, 1, 1, 1, 1, 1, 2, 1, 1, 1, 1, 1, 3, 1, 3, 3, 3, 3, 3, 3, 3, 3, 3, 1, 1, 1, 1, 1, 1, 1, 1, 1, 3, 1, 1, 3, 1, 1, 3, 1, 3, 1, 1, 3, 1, 3, 3, 3, 1, 1, 3, 3, 3, 3, 3, 3, 3, 1, 1, 1, 1, 2, 1, 1, 1, 1, 1, 1, 1, 3, 1, 1, 1, 1, 3, 1, 3, 1, 3, 1, 3, 3, 1, 3, 1, 3, 3, 3, 3, 3, 3, 1, 1, 1, 3, 1, 1, 1, 1, 1, 1, 1, 3, 1, 3, 1, 1, 1, 3, 1, 1, 1, 1, 1, 1, 1, 3, 1, 1, 3, 1, 1, 1, 1, 1, 1, 1, 1, 3, 3, 2, 1, 3, 1, 3, 3, 3, 3, 3, 3, 1, 1, 1, 1, 2, 3, 1, 1, 1, 1, 1, 3, 1, 1, 1, 1, 1, 1, 3, 1, 3, 3, 1, 3, 3, 3, 1, 3, 3, 3, 3, 1, 3, 3, 3, 3, 3, 1, 1, 1, 1, 1, 1, 1, 1, 1, 1, 1, 3, 1, 1, 1, 1, 1, 3, 1, 1, 1, 1, 1, 3, 1, 1, 1, 1, 1, 1, 1, 1, 1, 1, 1, 1, 3, 1, 1, 1, 1, 1, 1, 1, 1, 1, 1, 1, 1, 1, 1, 1, 1, 1, 1, 3, 1, 1, 1, 3, 3, 3, 3, 1, 1, 1, 3, 3, 1, 1, 1, 3, 1, 1, 1, 1, 1, 1, 1, 3, 3, 3, 1, 3, 3, 1, 3, 3, 1, 1, 3, 1, 1, 1, 1, 1, 3, 3, 1, 3, 3, 1, 3, 1, 1, 3, 1, 1, 1, 1, 1, 1, 2, 3, 3, 3, 1, 1, 1, 3, 1, 1, 1, 1, 1, 1, 1, 1, 1, 3, 1, 3, 3, 3, 1, 1, 1, 1, 1, 3, 3, 3, 3, 1, 1, 1, 1, 1, 1, 1, 3, 1, 3, 3, 3, 3, 3, 3, 3, 3, 3, 3, 3, 3, 3, 1, 3, 3, 1, 3, 1, 3, 3, 1, 3, 3, 1, 1, 3, 2, 1, 1, 1, 3, 1, 1, 1, 3, 3, 3, 3, 3, 3, 3, 3, 1, 1, 1, 1, 1, 1, 3, 1, 3, 3, 3, 1, 1, 1, 1, 3, 2, 1, 1, 1, 3, 3, 1, 1, 1, 1, 1, 3, 3, 3, 2, 3, 1, 1, 1, 1, 1, 1, 1, 2, 1, 1, 1, 1, 3, 1, 1, 1, 1, 1, 1, 3, 3, 1, 1, 1, 1, 1, 1, 1, 3, 3, 3, 1, 1, 3, 1, 1, 3, 1, 2, 1, 2, 2, 1, 3, 3, 1, 3, 1, 1, 1, 3, 3, 1, 1, 1, 1, 1, 2, 2, 1, 1, 1, 3, 1, 1, 3, 1, 3, 3, 3, 3, 3, 1, 1, 1, 1, 1, 3, 3, 3, 3, 3, 3, 3, 3, 3, 3, 3, 3, 3, 3, 3, 3, 3, 3, 3, 3, 3, 3, 3, 3, 3, 3, 3, 3, 3, 1, 1, 1, 1, 1, 1, 1, 1, 1, 3, 1, 1, 1, 1, 3, 3, 3, 3, 1, 1, 1, 3, 2, 1, 1, 3, 3, 3, 3, 3, 1, 1, 1, 3, 3, 3, 3, 1, 3, 3, 3, 3, 3, 3, 1, 3, 1, 3, 1, 3, 1, 1, 1, 1, 1, 1, 1, 1, 1, 1, 1, 1, 1, 1, 1, 1, 1, 1, 1, 1, 1, 1, 1, 1, 1, 3, 3, 3, 3, 3, 3, 3, 3, 3, 3, 3, 3, 3, 3, 3, 3, 3, 1, 3, 3, 3, 3, 3, 3, 3, 3, 3, 3, 3, 3, 3, 3, 3, 3, 3, 3, 3, 3, 3, 3, 3, 3, 3, 3, 1, 1, 1, 3, 3, 1, 1, 1, 1, 1, 1, 1, 1, 1, 3, 1, 1, 1, 1, 1, 1, 1, 1, 1, 2, 2, 3, 3, 3, 3, 2, 3, 2, 1, 1, 1, 1, 1, 3, 1, 3, 3, 3, 3, 3, 1, 1, 3, 1, 1, 1, 3, 3, 3, 1, 1, 1, 1, 1, 1, 3, 3, 1, 1, 1, 1, 1, 1, 1, 3, 3, 1, 1, 1, 1, 1, 1, 1, 3, 3, 2, 1, 3, 2, 3, 1, 1, 1, 1, 1, 1, 3, 3, 3, 3, 1, 1, 1, 1, 3, 3, 1, 1, 1, 1, 1, 1, 3, 3, 1, 1, 3, 3, 3, 3, 3, 3, 3, 3, 3, 1, 1, 1, 1, 1, 1, 1, 1, 1, 3, 1, 1, 1, 1, 1, 1, 3, 3, 3, 3, 3, 3, 3, 1, 3, 3, 3, 1, 1, 3, 3, 1, 1, 1, 1, 1, 1, 1, 1, 1, 1, 1, 3, 1, 3, 3, 1, 1, 1, 1, 3, 3, 3, 3, 1, 1, 1, 3, 1, 1, 1, 1, 1, 1, 1, 1, 1, 1, 1, 1, 1, 1, 1, 1, 3, 3, 1, 1, 1, 1, 1, 1, 1, 3, 3, 3, 3, 3, 3, 3, 3, 3, 3, 3, 3, 3, 1, 3, 3, 3, 1, 1, 1, 1, 2, 2, 3, 3, 1, 3, 1, 1, 3, 1, 1, 3, 1, 1, 1, 1, 1, 1, 1, 3, 1, 1, 1, 3, 3, 3, 3, 3, 3, 3, 3, 1, 3, 3, 1, 1, 1, 1, 3, 1, 1, 1, 3, 3, 1, 1, 1, 3, 3, 3, 1, 3, 3, 3, 1, 3, 3, 3, 1, 1, 1, 1, 1, 1, 1, 3, 1, 3, 3, 1, 1, 1, 1, 3, 3, 1, 3, 3, 1, 1, 1, 1, 3, 3, 3, 3, 3, 3, 3, 3, 3, 3, 3, 3, 1, 1, 1, 1, 3, 3, 3, 3, 3, 3, 1, 3, 3, 1, 1, 1, 1, 1, 3, 3, 1, 1, 2, 1, 3, 3, 1, 1, 1, 1, 1, 3, 3, 3, 1, 3, 1, 3, 1, 1, 1, 1, 1, 1, 1, 3, 1, 3, 3, 3, 3, 3, 3, 3, 1, 1, 3, 3, 3, 3, 3, 3, 3, 1, 1, 3, 3, 1, 3, 3, 3, 1, 1, 1, 1, 1, 3, 3, 1, 1, 1, 1, 1, 1, 1, 1, 1, 1, 1, 1, 3, 1, 3, 1, 1, 1, 3, 3, 3, 3, 3, 3, 3, 3, 3, 1, 1, 1, 1, 1, 1, 1, 1, 1, 3, 3, 1, 3, 3, 3, 3, 3, 3, 1, 1, 3, 3, 3, 1, 1, 1, 1, 1, 3, 3, 3, 1, 3, 3, 1, 3, 3, 3, 1, 1, 1, 1, 1, 1, 1, 3, 1, 1, 1, 1, 1, 1, 1, 1, 3, 3, 3, 1, 3, 3, 1, 1, 3, 1, 1, 3, 3, 3, 3, 3, 3, 1, 3, 3, 3, 3, 1, 1, 3, 3, 3, 3, 1, 3, 3, 3, 3, 3, 3, 3, 3, 1, 3, 1, 1, 1, 1, 1, 1, 2, 1, 1, 1, 1, 1, 1, 1, 3, 1, 3, 1, 1, 1, 1, 2, 1, 3, 3, 3, 3, 3, 3, 3, 3, 1, 1, 1, 3, 1, 1, 1, 1, 1, 3, 3, 1, 1, 1, 1, 3, 1, 3, 1, 3, 1, 3, 1, 1, 1, 3, 1, 1, 1, 1, 1, 1, 1, 1, 1, 1, 1, 1, 1, 1, 1, 1, 1, 1, 1, 1, 1, 1, 1, 1, 1, 1, 3, 3, 3, 3, 3, 1, 3, 3, 1, 3, 3, 3, 3, 3, 3, 3, 3, 3, 3, 3, 1, 1, 3, 3, 3, 3, 3, 3, 3, 3, 3, 3, 3, 3, 3, 1, 1, 1, 1, 3, 3, 1, 3, 3, 3, 3, 3, 3, 3, 3, 3, 1, 3, 1, 1, 1, 1, 1, 3, 1, 1, 1, 1, 1, 3, 1, 1, 1, 1, 3, 2, 1, 1, 1, 1, 1, 1, 1, 1, 1, 1, 3, 3, 3, 1, 3, 1, 1, 1, 1, 1, 1, 1, 1, 1, 3, 3, 1, 1, 1, 1, 1, 1, 1, 1, 1, 1, 3, 3, 1, 3, 3, 1, 1, 1, 1, 1, 3, 1, 1, 3, 1, 1, 1, 1, 1, 1, 1, 1, 1, 1, 1, 1, 1, 1, 1, 1, 1, 1, 1, 1, 1, 1, 1, 1, 3, 1, 1, 3, 1, 1, 3, 3, 3, 3, 1, 1, 1, 1, 1, 1, 1, 1, 1, 1, 1, 3, 3, 3, 1, 3, 3, 1, 1, 1, 1, 1, 1, 1, 1, 3, 3, 1, 3, 3, 3, 3, 3, 1, 3, 1, 1, 1, 1, 1, 1, 3, 1, 1, 1, 1, 1, 1, 1, 1, 1, 2, 1, 1, 1, 3, 1, 1, 1, 1, 1, 1, 1, 1, 1, 1, 2, 1, 3, 1, 1, 1, 1, 1, 1, 1, 3, 3, 3, 1, 3, 2, 3, 3, 3, 3, 2, 1, 1, 3, 1, 1, 1, 1, 1, 3, 3, 1, 3, 1, 3, 3, 3, 3, 3, 1, 3, 1, 3, 1, 1, 1, 1, 1, 1, 1, 1, 1, 1, 1, 1, 1, 3, 1, 1, 1, 1, 1, 1, 1, 1, 1, 1, 1, 1, 1, 1, 1, 1, 1, 1, 1, 1, 1, 1, 1, 3, 1, 3, 3, 3, 1, 1, 1, 1, 1, 1, 1, 3, 1, 1, 1, 1, 1, 1, 1, 1, 3, 1, 1, 1, 1, 1, 1, 3, 2, 3, 3, 3, 1, 1, 1, 1, 1, 3, 1, 1, 1, 1, 1, 1, 1, 1, 1, 1, 1, 3, 3, 1, 1, 3, 1, 2, 3, 1, 3, 3, 3, 3, 3, 1, 1, 1, 1, 1, 1, 1, 3, 1, 1, 3, 3, 1, 3, 1, 1, 3, 3, 3, 3, 3, 1, 1, 3, 1, 1, 3, 3, 1, 3, 3, 3, 3, 3, 3, 3, 1, 3, 3, 3, 1, 1, 1, 3, 1, 3, 2, 1, 1, 1, 1, 3, 3, 1, 3, 1, 1, 1, 3, 3, 3, 3, 3, 1, 1, 3, 3, 3, 3, 1, 1, 1, 1, 1, 1, 3, 1, 1, 1, 1, 3, 1, 3, 3, 1, 1, 3, 3, 1, 1, 3, 1, 1, 3, 3, 1, 1, 1, 3, 3, 1, 1, 1, 1, 1, 3, 1, 1, 1, 1, 1, 1, 1, 1, 1, 1, 1, 1, 1, 1, 1, 1, 1, 1, 1, 1, 1, 1, 1, 1, 1, 1, 1, 1, 1, 1, 1, 1, 1, 1, 1, 1, 3, 1, 1, 1, 3, 1, 1, 1, 1, 1, 3, 1, 1, 3, 1, 3, 1, 3, 1, 3, 1, 3, 3, 3, 3, 3, 1, 1, 1, 3, 3, 1, 1, 1, 1, 3, 3, 3, 3, 3, 1, 1, 1, 1, 1, 2, 1, 3, 1, 1, 3, 3, 1, 1, 3, 3, 3, 3, 3, 1, 1, 1, 1, 1, 1, 1, 1, 1, 3, 1, 1, 1, 3, 1, 1, 3, 3, 3, 3, 3, 3, 1, 1, 1, 1, 1, 1, 3, 1, 3, 3, 3, 3, 1, 1, 1, 1, 1, 1, 1, 1, 1, 1, 1, 1, 3, 1, 1, 2, 1, 3, 3, 1, 3, 3, 3, 3, 1, 2, 1, 3, 3, 1, 3, 1, 3, 3, 3, 3, 3, 3, 3, 1, 1, 1, 2, 1, 1, 1, 1, 3, 1, 1, 1, 1, 1, 1, 3, 3, 1, 1, 3, 3, 3, 3, 1, 3, 1, 3, 1, 3, 3, 3, 3, 3, 3, 1, 1, 1, 2, 1, 1, 1, 3, 1, 1, 1, 3, 1, 1, 1, 1, 1, 1, 3, 1, 1, 1, 1, 3, 3, 1, 1, 1, 1, 1, 3, 1, 3, 3, 3, 3, 3, 2, 2, 3, 3, 1, 1, 1, 1, 1, 1, 3, 1, 1, 1, 1, 1, 1, 1, 3, 1, 1, 1, 1, 1, 1, 1, 1, 1, 3, 1, 1, 3, 1, 1, 1, 1, 1, 1, 1, 3, 2, 1, 3, 3, 3, 3, 3, 3, 3, 3, 3, 3, 1, 3, 1, 3, 1, 3, 3, 3, 1, 1, 1, 1, 2, 3, 1, 1, 3, 1, 1, 3, 3, 3, 1, 1, 1, 1, 1, 1, 1, 1, 1, 1, 1, 1, 1, 1, 1, 3, 3, 1, 1, 1, 1, 1, 1, 1, 3, 1, 1, 1, 3, 3, 1, 1, 1, 3, 3, 3, 3, 3, 3, 1, 1, 1, 1, 3, 1, 1, 1, 1, 3, 3, 3, 3, 1, 1, 1, 1, 1, 3, 3, 1, 1, 3, 1, 1, 1, 1, 3, 3, 3, 3, 3, 3, 1, 3, 3, 3, 3, 3, 3, 3, 3, 3, 3, 1, 1, 1, 1, 1, 1, 1, 1, 1, 1, 1, 1, 1, 1, 1, 1, 1, 1, 1, 1, 1, 1, 1, 1, 1, 1, 1, 1, 1, 1, 1, 1, 1, 3, 3, 1, 1, 1, 3, 1, 3, 3, 1, 2, 1, 2, 2, 3, 3, 3, 3, 3, 3, 3, 3, 3, 3, 3, 3, 3, 1, 3, 3, 1, 1, 1, 3, 3, 3, 3, 3, 3, 3, 3, 3, 3, 1, 1, 1, 1, 1, 1, 1, 1, 3, 1, 1, 1, 1, 3, 3, 3, 1, 1, 1, 3, 1, 3, 1, 3, 3, 1, 3, 1, 3, 1, 3, 3, 3, 3, 3, 3, 1, 1, 1, 1, 1, 1, 1, 3, 1, 3, 1, 3, 3, 1, 3, 3, 1, 1, 1, 3, 1, 1, 3, 1, 1, 1, 1, 2, 3], \"legendgroup\": \"\", \"name\": \"\", \"showlegend\": true, \"type\": \"pie\", \"values\": [\"2\", \"2\", \"3\", \"1\", \"1\", \"3\", \"2\", \"1\", \"2\", \"2\", \"2\", \"2\", \"1\", \"2\", \"3\", \"2\", \"2\", \"2\", \"2\", \"2\", \"2\", \"2\", \"2\", \"2\", \"3\", \"2\", \"2\", \"2\", \"2\", \"2\", \"3\", \"2\", \"2\", \"2\", \"2\", \"2\", \"2\", \"2\", \"2\", \"2\", \"2\", \"2\", \"2\", \"2\", \"2\", \"2\", \"1\", \"1\", \"1\", \"1\", \"1\", \"2\", \"2\", \"1\", \"2\", \"2\", \"2\", \"2\", \"2\", \"2\", \"2\", \"2\", \"2\", \"1\", \"2\", \"2\", \"2\", \"3\", \"2\", \"2\", \"3\", \"2\", \"2\", \"2\", \"2\", \"2\", \"2\", \"2\", \"2\", \"2\", \"2\", \"2\", \"2\", \"2\", \"2\", \"3\", \"2\", \"3\", \"2\", \"1\", \"2\", \"2\", \"2\", \"2\", \"2\", \"2\", \"2\", \"2\", \"3\", \"2\", \"2\", \"2\", \"2\", \"2\", \"2\", \"2\", \"2\", \"2\", \"2\", \"3\", \"3\", \"3\", \"2\", \"2\", \"2\", \"2\", \"2\", \"2\", \"2\", \"2\", \"2\", \"2\", \"1\", \"2\", \"2\", \"2\", \"2\", \"2\", \"1\", \"2\", \"2\", \"3\", \"3\", \"2\", \"2\", \"2\", \"2\", \"2\", \"2\", \"2\", \"2\", \"2\", \"2\", \"2\", \"2\", \"2\", \"2\", \"2\", \"2\", \"3\", \"2\", \"2\", \"2\", \"2\", \"2\", \"2\", \"3\", \"2\", \"2\", \"2\", \"2\", \"3\", \"2\", \"2\", \"2\", \"2\", \"2\", \"2\", \"3\", \"3\", \"3\", \"3\", \"2\", \"2\", \"2\", \"2\", \"3\", \"2\", \"2\", \"3\", \"3\", \"2\", \"2\", \"1\", \"2\", \"3\", \"2\", \"2\", \"2\", \"2\", \"2\", \"2\", \"2\", \"2\", \"3\", \"2\", \"2\", \"2\", \"2\", \"2\", \"2\", \"2\", \"2\", \"2\", \"1\", \"2\", \"1\", \"1\", \"2\", \"2\", \"2\", \"2\", \"2\", \"2\", \"2\", \"2\", \"2\", \"2\", \"2\", \"2\", \"2\", \"2\", \"2\", \"2\", \"2\", \"2\", \"2\", \"2\", \"2\", \"2\", \"3\", \"2\", \"2\", \"2\", \"1\", \"3\", \"3\", \"1\", \"1\", \"1\", \"1\", \"1\", \"1\", \"1\", \"1\", \"1\", \"1\", \"1\", \"1\", \"2\", \"2\", \"2\", \"2\", \"2\", \"2\", \"3\", \"2\", \"3\", \"1\", \"2\", \"2\", \"2\", \"2\", \"2\", \"2\", \"2\", \"2\", \"2\", \"2\", \"3\", \"3\", \"2\", \"2\", \"2\", \"2\", \"2\", \"2\", \"1\", \"2\", \"2\", \"2\", \"2\", \"2\", \"2\", \"2\", \"2\", \"3\", \"2\", \"3\", \"3\", \"2\", \"1\", \"2\", \"3\", \"3\", \"3\", \"3\", \"3\", \"2\", \"3\", \"1\", \"2\", \"2\", \"2\", \"2\", \"2\", \"2\", \"2\", \"1\", \"2\", \"2\", \"2\", \"1\", \"1\", \"1\", \"1\", \"2\", \"2\", \"2\", \"2\", \"3\", \"2\", \"2\", \"2\", \"2\", \"1\", \"2\", \"2\", \"2\", \"2\", \"2\", \"1\", \"2\", \"2\", \"2\", \"2\", \"1\", \"3\", \"3\", \"1\", \"1\", \"2\", \"3\", \"2\", \"3\", \"2\", \"2\", \"3\", \"2\", \"3\", \"2\", \"2\", \"2\", \"2\", \"2\", \"1\", \"2\", \"2\", \"2\", \"2\", \"2\", \"2\", \"2\", \"2\", \"2\", \"1\", \"2\", \"2\", \"2\", \"2\", \"3\", \"2\", \"2\", \"2\", \"3\", \"2\", \"2\", \"3\", \"2\", \"2\", \"3\", \"2\", \"2\", \"2\", \"2\", \"2\", \"2\", \"3\", \"2\", \"2\", \"3\", \"2\", \"2\", \"3\", \"2\", \"3\", \"3\", \"3\", \"3\", \"3\", \"3\", \"3\", \"3\", \"2\", \"3\", \"2\", \"2\", \"2\", \"2\", \"3\", \"1\", \"1\", \"1\", \"2\", \"2\", \"2\", \"2\", \"2\", \"2\", \"3\", \"1\", \"3\", \"2\", \"3\", \"1\", \"1\", \"1\", \"1\", \"1\", \"2\", \"2\", \"2\", \"2\", \"2\", \"2\", \"2\", \"2\", \"2\", \"2\", \"2\", \"2\", \"2\", \"2\", \"2\", \"2\", \"2\", \"2\", \"2\", \"2\", \"2\", \"3\", \"2\", \"3\", \"2\", \"3\", \"2\", \"2\", \"3\", \"1\", \"1\", \"1\", \"1\", \"1\", \"1\", \"1\", \"1\", \"1\", \"1\", \"2\", \"3\", \"3\", \"2\", \"2\", \"2\", \"2\", \"3\", \"2\", \"2\", \"2\", \"2\", \"1\", \"2\", \"2\", \"1\", \"2\", \"2\", \"2\", \"2\", \"2\", \"2\", \"2\", \"3\", \"2\", \"2\", \"2\", \"2\", \"2\", \"2\", \"2\", \"3\", \"2\", \"3\", \"2\", \"2\", \"2\", \"3\", \"3\", \"2\", \"2\", \"2\", \"2\", \"3\", \"2\", \"3\", \"3\", \"3\", \"3\", \"2\", \"2\", \"2\", \"3\", \"3\", \"2\", \"2\", \"2\", \"2\", \"2\", \"2\", \"3\", \"1\", \"2\", \"2\", \"2\", \"1\", \"2\", \"3\", \"2\", \"1\", \"1\", \"1\", \"1\", \"1\", \"2\", \"2\", \"2\", \"2\", \"2\", \"2\", \"2\", \"2\", \"2\", \"2\", \"2\", \"2\", \"2\", \"2\", \"2\", \"2\", \"2\", \"2\", \"3\", \"1\", \"1\", \"2\", \"1\", \"2\", \"1\", \"1\", \"1\", \"1\", \"1\", \"1\", \"1\", \"1\", \"1\", \"1\", \"1\", \"1\", \"1\", \"2\", \"1\", \"2\", \"2\", \"2\", \"2\", \"2\", \"2\", \"2\", \"2\", \"2\", \"2\", \"2\", \"2\", \"2\", \"3\", \"3\", \"2\", \"2\", \"2\", \"2\", \"2\", \"3\", \"2\", \"2\", \"3\", \"2\", \"2\", \"3\", \"2\", \"3\", \"2\", \"2\", \"2\", \"2\", \"2\", \"2\", \"2\", \"1\", \"2\", \"2\", \"2\", \"2\", \"2\", \"2\", \"2\", \"2\", \"2\", \"1\", \"3\", \"3\", \"3\", \"3\", \"3\", \"3\", \"2\", \"2\", \"2\", \"2\", \"3\", \"1\", \"2\", \"2\", \"2\", \"2\", \"2\", \"2\", \"2\", \"1\", \"1\", \"1\", \"1\", \"1\", \"1\", \"1\", \"1\", \"2\", \"2\", \"2\", \"1\", \"2\", \"2\", \"2\", \"3\", \"2\", \"2\", \"2\", \"2\", \"2\", \"2\", \"1\", \"2\", \"3\", \"1\", \"1\", \"1\", \"1\", \"1\", \"1\", \"1\", \"1\", \"1\", \"1\", \"1\", \"1\", \"1\", \"2\", \"2\", \"3\", \"2\", \"1\", \"2\", \"2\", \"2\", \"2\", \"2\", \"2\", \"2\", \"3\", \"2\", \"1\", \"2\", \"2\", \"2\", \"2\", \"2\", \"2\", \"2\", \"2\", \"2\", \"2\", \"2\", \"2\", \"2\", \"3\", \"2\", \"2\", \"2\", \"2\", \"2\", \"1\", \"1\", \"2\", \"2\", \"2\", \"2\", \"2\", \"2\", \"2\", \"3\", \"1\", \"2\", \"2\", \"3\", \"3\", \"3\", \"1\", \"3\", \"1\", \"2\", \"2\", \"2\", \"2\", \"2\", \"2\", \"2\", \"2\", \"2\", \"2\", \"2\", \"2\", \"2\", \"2\", \"2\", \"2\", \"2\", \"3\", \"2\", \"3\", \"3\", \"2\", \"2\", \"2\", \"2\", \"3\", \"3\", \"3\", \"3\", \"3\", \"1\", \"2\", \"2\", \"2\", \"3\", \"2\", \"2\", \"2\", \"2\", \"2\", \"2\", \"2\", \"2\", \"2\", \"2\", \"3\", \"2\", \"2\", \"2\", \"2\", \"2\", \"2\", \"2\", \"2\", \"2\", \"2\", \"2\", \"2\", \"2\", \"2\", \"2\", \"2\", \"2\", \"3\", \"2\", \"2\", \"1\", \"1\", \"2\", \"2\", \"2\", \"2\", \"2\", \"2\", \"3\", \"2\", \"3\", \"2\", \"2\", \"2\", \"2\", \"3\", \"2\", \"2\", \"2\", \"2\", \"2\", \"3\", \"2\", \"2\", \"2\", \"2\", \"2\", \"2\", \"3\", \"3\", \"2\", \"2\", \"2\", \"1\", \"2\", \"2\", \"2\", \"2\", \"2\", \"3\", \"2\", \"2\", \"3\", \"3\", \"3\", \"3\", \"2\", \"2\", \"2\", \"2\", \"3\", \"2\", \"2\", \"3\", \"2\", \"2\", \"2\", \"1\", \"3\", \"3\", \"1\", \"1\", \"1\", \"1\", \"2\", \"2\", \"2\", \"2\", \"2\", \"2\", \"2\", \"3\", \"2\", \"2\", \"2\", \"2\", \"2\", \"2\", \"2\", \"2\", \"2\", \"1\", \"2\", \"2\", \"2\", \"2\", \"2\", \"2\", \"2\", \"2\", \"2\", \"2\", \"3\", \"2\", \"3\", \"2\", \"2\", \"2\", \"2\", \"2\", \"2\", \"1\", \"2\", \"2\", \"2\", \"2\", \"2\", \"2\", \"2\", \"2\", \"2\", \"2\", \"2\", \"3\", \"2\", \"2\", \"2\", \"2\", \"2\", \"2\", \"2\", \"2\", \"2\", \"2\", \"3\", \"2\", \"2\", \"2\", \"2\", \"2\", \"2\", \"2\", \"2\", \"2\", \"3\", \"2\", \"2\", \"1\", \"2\", \"2\", \"2\", \"2\", \"3\", \"2\", \"2\", \"2\", \"3\", \"2\", \"2\", \"2\", \"2\", \"2\", \"2\", \"2\", \"2\", \"2\", \"1\", \"1\", \"1\", \"2\", \"2\", \"2\", \"2\", \"3\", \"3\", \"2\", \"2\", \"1\", \"2\", \"3\", \"2\", \"2\", \"2\", \"2\", \"1\", \"2\", \"2\", \"2\", \"1\", \"2\", \"3\", \"3\", \"2\", \"2\", \"2\", \"2\", \"2\", \"2\", \"2\", \"3\", \"2\", \"2\", \"3\", \"3\", \"2\", \"2\", \"2\", \"1\", \"2\", \"2\", \"3\", \"2\", \"2\", \"2\", \"2\", \"2\", \"2\", \"2\", \"2\", \"3\", \"2\", \"2\", \"2\", \"2\", \"2\", \"2\", \"2\", \"3\", \"2\", \"2\", \"1\", \"2\", \"2\", \"2\", \"2\", \"2\", \"2\", \"2\", \"2\", \"2\", \"2\", \"2\", \"2\", \"2\", \"2\", \"2\", \"2\", \"2\", \"2\", \"2\", \"2\", \"2\", \"2\", \"2\", \"2\", \"2\", \"2\", \"2\", \"2\", \"2\", \"2\", \"2\", \"2\", \"2\", \"2\", \"2\", \"2\", \"2\", \"2\", \"2\", \"1\", \"2\", \"2\", \"2\", \"2\", \"2\", \"2\", \"2\", \"2\", \"2\", \"2\", \"2\", \"2\", \"2\", \"2\", \"2\", \"2\", \"2\", \"2\", \"2\", \"2\", \"2\", \"2\", \"2\", \"2\", \"3\", \"1\", \"2\", \"2\", \"2\", \"2\", \"1\", \"2\", \"2\", \"3\", \"2\", \"2\", \"3\", \"3\", \"3\", \"2\", \"2\", \"3\", \"2\", \"2\", \"2\", \"2\", \"2\", \"3\", \"2\", \"2\", \"2\", \"2\", \"2\", \"2\", \"2\", \"1\", \"2\", \"2\", \"3\", \"3\", \"2\", \"2\", \"2\", \"2\", \"2\", \"2\", \"2\", \"1\", \"1\", \"2\", \"2\", \"2\", \"2\", \"2\", \"2\", \"2\", \"2\", \"3\", \"3\", \"3\", \"2\", \"2\", \"2\", \"2\", \"2\", \"2\", \"2\", \"3\", \"2\", \"3\", \"2\", \"2\", \"2\", \"2\", \"2\", \"1\", \"2\", \"2\", \"2\", \"2\", \"3\", \"2\", \"2\", \"2\", \"2\", \"2\", \"2\", \"1\", \"2\", \"1\", \"2\", \"3\", \"2\", \"2\", \"2\", \"2\", \"2\", \"2\", \"2\", \"2\", \"2\", \"2\", \"2\", \"2\", \"2\", \"3\", \"2\", \"2\", \"2\", \"2\", \"2\", \"2\", \"2\", \"3\", \"3\", \"2\", \"2\", \"2\", \"2\", \"2\", \"2\", \"2\", \"2\", \"2\", \"2\", \"2\", \"2\", \"2\", \"2\", \"2\", \"3\", \"2\", \"2\", \"2\", \"2\", \"2\", \"2\", \"2\", \"2\", \"3\", \"2\", \"3\", \"2\", \"2\", \"2\", \"3\", \"2\", \"1\", \"2\", \"2\", \"2\", \"2\", \"2\", \"2\", \"2\", \"2\", \"2\", \"2\", \"2\", \"1\", \"1\", \"2\", \"2\", \"2\", \"2\", \"2\", \"2\", \"2\", \"2\", \"2\", \"2\", \"2\", \"2\", \"3\", \"2\", \"2\", \"2\", \"3\", \"2\", \"2\", \"2\", \"2\", \"2\", \"2\", \"2\", \"2\", \"2\", \"2\", \"2\", \"2\", \"1\", \"2\", \"2\", \"2\", \"1\", \"2\", \"2\", \"2\", \"2\", \"2\", \"2\", \"3\", \"2\", \"3\", \"2\", \"3\", \"3\", \"3\", \"2\", \"2\", \"1\", \"2\", \"2\", \"3\", \"3\", \"1\", \"2\", \"2\", \"2\", \"2\", \"2\", \"2\", \"2\", \"2\", \"2\", \"3\", \"3\", \"3\", \"2\", \"2\", \"2\", \"2\", \"2\", \"3\", \"2\", \"2\", \"2\", \"2\", \"2\", \"2\", \"2\", \"2\", \"2\", \"2\", \"2\", \"2\", \"3\", \"2\", \"2\", \"3\", \"2\", \"2\", \"2\", \"3\", \"2\", \"2\", \"2\", \"2\", \"2\", \"2\", \"2\", \"2\", \"2\", \"3\", \"2\", \"2\", \"2\", \"2\", \"2\", \"2\", \"3\", \"2\", \"2\", \"2\", \"1\", \"2\", \"3\", \"2\", \"2\", \"1\", \"2\", \"3\", \"2\", \"2\", \"2\", \"1\", \"2\", \"2\", \"2\", \"2\", \"2\", \"2\", \"2\", \"2\", \"2\", \"2\", \"2\", \"2\", \"2\", \"2\", \"2\", \"2\", \"2\", \"2\", \"2\", \"2\", \"2\", \"2\", \"2\", \"2\", \"2\", \"3\", \"3\", \"2\", \"2\", \"2\", \"2\", \"2\", \"2\", \"2\", \"2\", \"2\", \"2\", \"2\", \"2\", \"2\", \"2\", \"2\", \"2\", \"2\", \"2\", \"2\", \"2\", \"2\", \"2\", \"2\", \"2\", \"2\", \"2\", \"2\", \"2\", \"2\", \"2\", \"2\", \"2\", \"2\", \"2\", \"2\", \"3\", \"1\", \"2\", \"2\", \"2\", \"3\", \"3\", \"2\", \"2\", \"2\", \"2\", \"2\", \"2\", \"2\", \"2\", \"2\", \"3\", \"2\", \"2\", \"2\", \"2\", \"2\", \"2\", \"2\", \"2\", \"2\", \"2\", \"2\", \"3\", \"2\", \"2\", \"2\", \"2\", \"2\", \"2\", \"2\", \"2\", \"2\", \"2\", \"2\", \"2\", \"3\", \"2\", \"2\", \"2\", \"2\", \"1\", \"2\", \"2\", \"1\", \"2\", \"3\", \"2\", \"2\", \"2\", \"2\", \"2\", \"2\", \"2\", \"2\", \"2\", \"2\", \"2\", \"2\", \"2\", \"2\", \"3\", \"2\", \"2\", \"2\", \"3\", \"2\", \"2\", \"3\", \"3\", \"2\", \"2\", \"2\", \"2\", \"2\", \"2\", \"2\", \"2\", \"2\", \"3\", \"3\", \"3\", \"3\", \"3\", \"2\", \"2\", \"2\", \"2\", \"2\", \"2\", \"1\", \"1\", \"1\", \"1\", \"3\", \"2\", \"2\", \"2\", \"2\", \"2\", \"2\", \"2\", \"2\", \"2\", \"2\", \"2\", \"3\", \"2\", \"2\", \"3\", \"3\", \"2\", \"3\", \"2\", \"2\", \"2\", \"2\", \"2\", \"3\", \"2\", \"3\", \"2\", \"2\", \"2\", \"2\", \"2\", \"1\", \"2\", \"1\", \"3\", \"2\", \"2\", \"3\", \"2\", \"2\", \"3\", \"2\", \"2\", \"1\", \"2\", \"2\", \"2\", \"2\", \"2\", \"2\", \"2\", \"2\", \"2\", \"2\", \"2\", \"2\", \"3\", \"2\", \"2\", \"2\", \"2\", \"2\", \"2\", \"2\", \"2\", \"2\", \"3\", \"2\", \"2\", \"2\", \"2\", \"2\", \"2\", \"2\", \"2\", \"2\", \"2\", \"2\", \"2\", \"2\", \"2\", \"2\", \"2\", \"2\", \"2\", \"2\", \"2\", \"2\", \"2\", \"3\", \"2\", \"2\", \"2\", \"3\", \"2\", \"2\", \"2\", \"3\", \"3\", \"3\", \"3\", \"2\", \"2\", \"2\", \"2\", \"2\", \"2\", \"2\", \"2\", \"3\", \"2\", \"3\", \"2\", \"1\", \"1\", \"2\", \"3\", \"3\", \"2\", \"1\", \"1\", \"2\", \"1\", \"2\", \"2\", \"2\", \"2\", \"2\", \"2\", \"2\", \"1\", \"2\", \"2\", \"2\", \"2\", \"2\", \"2\", \"2\", \"2\", \"2\", \"2\", \"3\", \"2\", \"1\", \"2\", \"3\", \"2\", \"3\", \"2\", \"2\", \"2\", \"2\", \"2\", \"2\", \"2\", \"2\", \"2\", \"1\", \"3\", \"1\", \"2\", \"2\", \"3\", \"2\", \"2\", \"2\", \"2\", \"2\", \"2\", \"2\", \"2\", \"2\", \"2\", \"2\", \"2\", \"2\", \"2\", \"2\", \"3\", \"3\", \"3\", \"2\", \"2\", \"2\", \"2\", \"2\", \"2\", \"2\", \"2\", \"2\", \"2\", \"2\", \"2\", \"2\", \"2\", \"2\", \"2\", \"2\", \"2\", \"2\", \"2\", \"2\", \"2\", \"3\", \"2\", \"2\", \"1\", \"2\", \"2\", \"2\", \"2\", \"3\", \"2\", \"2\", \"2\", \"2\", \"2\", \"2\", \"2\", \"2\", \"3\", \"2\", \"2\", \"3\", \"2\", \"2\", \"2\", \"2\", \"1\", \"2\", \"3\", \"2\", \"2\", \"1\", \"2\", \"3\", \"2\", \"2\", \"2\", \"2\", \"2\", \"2\", \"2\", \"2\", \"2\", \"2\", \"3\", \"2\", \"2\", \"2\", \"2\", \"2\", \"2\", \"2\", \"2\", \"2\", \"3\", \"2\", \"2\", \"2\", \"2\", \"3\", \"2\", \"2\", \"2\", \"2\", \"2\", \"2\", \"2\", \"2\", \"3\", \"2\", \"2\", \"2\", \"2\", \"2\", \"2\", \"2\", \"3\", \"2\", \"2\", \"2\", \"2\", \"3\", \"3\", \"3\", \"2\", \"3\", \"2\", \"2\", \"3\", \"3\", \"3\", \"2\", \"3\", \"2\", \"3\", \"3\", \"2\", \"2\", \"2\", \"3\", \"2\", \"2\", \"2\", \"1\", \"2\", \"2\", \"2\", \"2\", \"2\", \"2\", \"2\", \"2\", \"2\", \"3\", \"2\", \"2\", \"2\", \"1\", \"2\", \"1\", \"2\", \"2\", \"2\", \"2\", \"2\", \"2\", \"2\", \"2\", \"2\", \"2\", \"2\", \"2\", \"3\", \"3\", \"2\", \"2\", \"1\", \"1\", \"2\", \"3\", \"2\", \"2\", \"2\", \"3\", \"2\", \"2\", \"2\", \"2\", \"2\", \"2\", \"2\", \"2\", \"2\", \"2\", \"2\", \"2\", \"2\", \"3\", \"3\", \"2\", \"2\", \"2\", \"2\", \"2\", \"2\", \"2\", \"2\", \"2\", \"2\", \"2\", \"2\", \"2\", \"2\", \"2\", \"2\", \"2\", \"2\", \"2\", \"2\", \"2\", \"2\", \"2\", \"2\", \"2\", \"3\", \"2\", \"2\", \"2\", \"2\", \"3\", \"3\", \"3\", \"3\", \"2\", \"2\", \"3\", \"2\", \"2\", \"2\", \"2\", \"2\", \"2\", \"2\", \"2\", \"3\", \"3\", \"3\", \"2\", \"3\", \"3\", \"3\", \"3\", \"2\", \"2\", \"2\", \"3\", \"2\", \"2\", \"3\", \"2\", \"2\", \"2\", \"2\", \"3\", \"2\", \"1\", \"3\", \"2\", \"3\", \"2\", \"2\", \"2\", \"2\", \"2\", \"2\", \"2\", \"2\", \"2\", \"2\", \"2\", \"2\", \"2\", \"2\", \"2\", \"2\", \"2\", \"2\", \"2\", \"2\", \"2\", \"3\", \"2\", \"3\", \"2\", \"2\", \"2\", \"2\", \"2\", \"2\", \"3\", \"2\", \"2\", \"2\", \"2\", \"2\", \"2\", \"1\", \"2\", \"2\", \"2\", \"2\", \"2\", \"3\", \"3\", \"2\", \"2\", \"2\", \"2\", \"3\", \"2\", \"2\", \"2\", \"2\", \"2\", \"3\", \"3\", \"2\", \"2\", \"2\", \"2\", \"2\", \"2\", \"2\", \"2\", \"2\", \"2\", \"2\", \"3\", \"3\", \"1\", \"2\", \"2\", \"2\", \"2\", \"2\", \"2\", \"3\", \"3\", \"2\", \"2\", \"3\", \"2\", \"2\", \"2\", \"2\", \"2\", \"2\", \"3\", \"3\", \"2\", \"2\", \"3\", \"3\", \"3\", \"3\", \"3\", \"2\", \"2\", \"2\", \"2\", \"2\", \"2\", \"2\", \"2\", \"2\", \"3\", \"2\", \"2\", \"2\", \"2\", \"2\", \"2\", \"2\", \"2\", \"2\", \"2\", \"2\", \"2\", \"2\", \"2\", \"2\", \"2\", \"2\", \"2\", \"2\", \"2\", \"2\", \"1\", \"2\", \"2\", \"2\", \"2\", \"2\", \"2\", \"2\", \"2\", \"2\", \"2\", \"2\", \"2\", \"2\", \"2\", \"3\", \"3\", \"2\", \"2\", \"2\", \"2\", \"2\", \"2\", \"2\", \"3\", \"2\", \"2\", \"2\", \"2\", \"2\", \"2\", \"2\", \"3\", \"2\", \"2\", \"2\", \"2\", \"2\", \"2\", \"2\", \"2\", \"2\", \"2\", \"2\", \"2\", \"2\", \"2\", \"2\", \"2\", \"2\", \"3\", \"2\", \"2\", \"2\", \"3\", \"2\", \"2\", \"2\", \"2\", \"2\", \"2\", \"2\", \"2\", \"2\", \"2\", \"2\", \"2\", \"2\", \"2\", \"2\", \"2\", \"3\", \"2\", \"3\", \"1\", \"2\", \"2\", \"2\", \"3\", \"3\", \"3\", \"3\", \"3\", \"2\", \"2\", \"2\", \"2\", \"2\", \"3\", \"2\", \"3\", \"3\", \"2\", \"2\", \"2\", \"2\", \"2\", \"2\", \"2\", \"2\", \"3\", \"2\", \"2\", \"2\", \"2\", \"1\", \"2\", \"2\", \"2\", \"2\", \"2\", \"2\", \"2\", \"2\", \"2\", \"2\", \"2\", \"3\", \"3\", \"2\", \"2\", \"3\", \"3\", \"2\", \"2\", \"2\", \"1\", \"2\", \"2\", \"3\", \"2\", \"2\", \"2\", \"2\", \"2\", \"3\", \"2\", \"2\", \"2\", \"2\", \"1\", \"2\", \"2\", \"2\", \"2\", \"2\", \"3\", \"2\", \"2\", \"3\", \"2\", \"2\", \"2\", \"2\", \"2\", \"2\", \"2\", \"2\", \"2\", \"2\", \"2\", \"2\", \"2\", \"2\", \"2\", \"3\", \"2\", \"2\", \"2\", \"2\", \"2\", \"2\", \"3\", \"2\", \"3\", \"3\", \"3\", \"2\", \"2\", \"2\", \"2\", \"2\", \"2\", \"2\", \"3\", \"2\", \"3\", \"3\", \"2\", \"3\", \"3\", \"3\", \"3\", \"2\", \"3\", \"2\", \"2\", \"2\", \"2\", \"2\", \"2\", \"2\", \"2\", \"2\", \"2\", \"2\", \"3\", \"3\", \"2\", \"2\", \"3\", \"2\", \"3\", \"1\", \"3\", \"2\", \"3\", \"2\", \"2\", \"2\", \"2\", \"3\", \"3\", \"2\", \"3\", \"2\", \"2\", \"2\", \"2\", \"2\", \"2\", \"2\", \"2\", \"2\", \"2\", \"2\", \"2\", \"2\", \"2\", \"2\", \"2\", \"2\", \"2\", \"2\", \"2\", \"2\", \"3\", \"2\", \"2\", \"2\", \"2\", \"2\", \"2\", \"2\", \"2\", \"2\", \"2\", \"3\", \"2\", \"2\", \"2\", \"2\", \"2\", \"3\", \"2\", \"2\", \"3\", \"2\", \"1\", \"2\", \"2\", \"2\", \"2\", \"2\", \"2\", \"2\", \"2\", \"2\", \"2\", \"2\", \"3\", \"2\", \"2\", \"2\", \"1\", \"2\", \"2\", \"2\", \"3\", \"3\", \"2\", \"3\", \"2\", \"2\", \"2\", \"2\", \"2\", \"2\", \"2\", \"2\", \"3\", \"2\", \"2\", \"3\", \"2\", \"2\", \"2\", \"2\", \"2\", \"2\", \"2\", \"3\", \"2\", \"2\", \"3\", \"3\", \"3\", \"3\", \"3\", \"1\", \"3\", \"2\", \"2\", \"2\", \"2\", \"2\", \"3\", \"2\", \"3\", \"2\", \"2\", \"2\", \"2\", \"2\", \"3\", \"3\", \"2\", \"3\", \"2\", \"2\", \"3\", \"3\", \"2\", \"2\", \"2\", \"2\", \"2\", \"2\", \"2\", \"2\", \"2\", \"3\", \"3\", \"3\", \"2\", \"2\", \"2\", \"2\", \"2\", \"2\", \"2\", \"2\", \"2\", \"2\", \"2\", \"2\", \"2\", \"2\", \"2\", \"2\", \"1\", \"2\", \"2\", \"2\", \"2\", \"2\", \"2\", \"2\", \"3\", \"3\", \"2\", \"2\", \"3\", \"3\", \"2\", \"2\", \"2\", \"2\", \"1\", \"2\", \"2\", \"1\", \"2\", \"2\", \"2\", \"2\", \"2\", \"2\", \"1\", \"2\", \"3\", \"2\", \"2\", \"2\", \"2\", \"2\", \"2\", \"2\", \"2\", \"2\", \"2\", \"2\", \"2\", \"2\", \"2\", \"2\", \"2\", \"3\", \"2\", \"2\", \"2\", \"2\", \"2\", \"2\", \"2\", \"3\", \"3\", \"2\", \"3\", \"3\", \"3\", \"3\", \"3\", \"3\", \"3\", \"3\", \"2\", \"2\", \"2\", \"1\", \"2\", \"3\", \"3\", \"3\", \"3\", \"3\", \"3\", \"3\", \"3\", \"2\", \"2\", \"2\", \"2\", \"2\", \"2\", \"1\", \"1\", \"2\", \"2\", \"2\", \"1\", \"2\", \"2\", \"2\", \"2\", \"2\", \"3\", \"3\", \"2\", \"2\", \"2\", \"2\", \"2\", \"2\", \"2\", \"2\", \"2\", \"3\", \"2\", \"2\", \"2\", \"2\", \"2\", \"2\", \"2\", \"2\", \"1\", \"2\", \"2\", \"1\", \"2\", \"2\", \"2\", \"2\", \"2\", \"1\", \"2\", \"2\", \"2\", \"1\", \"2\", \"2\", \"2\", \"2\", \"2\", \"2\", \"3\", \"2\", \"2\", \"2\", \"2\", \"2\", \"2\", \"2\", \"2\", \"2\", \"2\", \"2\", \"3\", \"2\", \"2\", \"2\", \"2\", \"2\", \"1\", \"2\", \"2\", \"2\", \"2\", \"1\", \"1\", \"2\", \"2\", \"2\", \"2\", \"3\", \"2\", \"2\", \"3\", \"2\", \"2\", \"2\", \"2\", \"2\", \"2\", \"2\", \"2\", \"2\", \"2\", \"2\", \"2\", \"2\", \"2\", \"2\", \"2\", \"2\", \"2\", \"2\", \"2\", \"2\", \"2\", \"2\", \"2\", \"3\", \"3\", \"2\", \"2\", \"2\", \"2\", \"2\", \"2\", \"3\", \"2\", \"2\", \"3\", \"2\", \"2\", \"3\", \"3\", \"3\", \"3\", \"3\", \"3\", \"2\", \"3\", \"2\", \"2\", \"3\", \"2\", \"2\", \"2\", \"2\", \"2\", \"2\", \"2\", \"3\", \"2\", \"3\", \"2\", \"2\", \"2\", \"3\", \"2\", \"2\", \"2\", \"2\", \"2\", \"2\", \"2\", \"3\", \"2\", \"3\", \"3\", \"2\", \"2\", \"2\", \"2\", \"2\", \"3\", \"3\", \"2\", \"3\", \"2\", \"3\", \"2\", \"2\", \"2\", \"2\", \"3\", \"2\", \"2\", \"2\", \"2\", \"2\", \"2\", \"3\", \"3\", \"3\", \"3\", \"2\", \"2\", \"2\", \"2\", \"2\", \"2\", \"2\", \"2\", \"2\", \"2\", \"2\", \"2\", \"2\", \"2\", \"3\", \"2\", \"2\", \"1\", \"2\", \"2\", \"2\", \"2\", \"2\", \"2\", \"2\", \"2\", \"2\", \"2\", \"2\", \"2\", \"2\", \"2\", \"2\", \"2\", \"2\", \"2\", \"3\", \"2\", \"1\", \"2\", \"3\", \"2\", \"2\", \"1\", \"2\", \"2\", \"3\", \"3\", \"2\", \"2\", \"2\", \"2\", \"2\", \"2\", \"2\", \"2\", \"2\", \"2\", \"2\", \"2\", \"1\", \"2\", \"2\", \"2\", \"3\", \"2\", \"1\", \"2\", \"2\", \"1\", \"2\", \"3\", \"2\", \"2\", \"2\", \"2\", \"2\", \"3\", \"2\", \"2\", \"2\", \"2\", \"3\", \"2\", \"2\", \"1\", \"2\", \"2\", \"2\", \"2\", \"2\", \"2\", \"2\", \"2\", \"2\", \"2\", \"2\", \"2\", \"2\", \"2\", \"3\", \"2\", \"2\", \"2\", \"3\", \"2\", \"2\", \"2\", \"2\", \"3\", \"2\", \"2\", \"3\", \"2\", \"2\", \"1\", \"2\", \"2\", \"2\", \"2\", \"2\", \"2\", \"2\", \"2\", \"2\", \"2\", \"2\", \"1\", \"2\", \"2\", \"2\", \"3\", \"2\", \"1\", \"2\", \"2\", \"2\", \"2\", \"2\", \"2\", \"2\", \"2\", \"2\", \"3\", \"2\", \"2\", \"2\", \"2\", \"2\", \"2\", \"2\", \"2\", \"3\", \"2\", \"3\", \"3\", \"3\", \"3\", \"2\", \"2\", \"2\", \"2\", \"2\", \"2\", \"2\", \"2\", \"2\", \"2\", \"2\", \"2\", \"2\", \"2\", \"2\", \"2\", \"2\", \"2\", \"2\", \"2\", \"2\", \"2\", \"2\", \"2\", \"2\", \"2\", \"2\", \"2\", \"2\", \"2\", \"2\", \"1\", \"2\", \"2\", \"1\", \"2\", \"3\", \"2\", \"1\", \"2\", \"2\", \"2\", \"2\", \"1\", \"2\", \"2\", \"3\", \"2\", \"3\", \"2\", \"2\", \"1\", \"1\", \"2\", \"2\", \"2\", \"2\", \"2\", \"2\", \"2\", \"2\", \"2\", \"2\", \"2\", \"2\", \"3\", \"2\", \"2\", \"2\", \"2\", \"2\", \"2\", \"2\", \"2\", \"2\", \"2\", \"2\", \"2\", \"2\", \"2\", \"2\", \"2\", \"2\", \"2\", \"3\", \"2\", \"3\", \"2\", \"2\", \"2\", \"2\", \"2\", \"2\", \"2\", \"2\", \"2\", \"2\", \"1\", \"2\", \"2\", \"3\", \"2\", \"2\", \"3\", \"3\", \"2\", \"2\", \"2\", \"2\", \"1\", \"2\", \"2\", \"2\", \"3\", \"2\", \"3\", \"2\", \"2\", \"2\", \"2\", \"2\", \"3\", \"3\", \"2\", \"2\", \"2\", \"1\", \"2\", \"2\", \"2\", \"3\", \"2\", \"2\", \"2\", \"1\", \"2\", \"2\", \"1\", \"2\", \"2\", \"2\", \"2\", \"2\", \"2\", \"2\", \"2\", \"2\", \"2\", \"2\", \"2\", \"2\", \"2\", \"2\", \"2\", \"2\", \"2\", \"2\", \"2\", \"2\", \"2\", \"2\", \"2\", \"2\", \"2\", \"1\", \"2\", \"3\", \"2\", \"2\", \"2\", \"2\", \"2\", \"2\", \"2\", \"2\", \"2\", \"2\", \"2\", \"2\", \"3\", \"2\", \"2\", \"2\", \"2\", \"2\", \"2\", \"2\", \"1\", \"2\", \"2\", \"2\", \"2\", \"2\", \"2\", \"2\", \"2\", \"2\", \"2\", \"2\", \"3\", \"1\", \"3\", \"2\", \"1\", \"3\", \"2\", \"2\", \"2\", \"2\", \"2\", \"2\", \"2\", \"2\", \"2\", \"2\", \"2\", \"2\", \"2\", \"2\", \"2\", \"3\", \"2\", \"2\", \"2\", \"2\", \"2\", \"2\", \"2\", \"2\", \"3\", \"1\", \"2\", \"2\", \"2\", \"2\", \"2\", \"2\", \"2\", \"2\", \"3\", \"2\", \"2\", \"2\", \"2\", \"2\", \"2\", \"2\", \"2\", \"3\", \"2\", \"2\", \"3\", \"3\", \"3\", \"3\", \"3\", \"3\", \"2\", \"2\", \"2\", \"3\", \"2\", \"2\", \"2\", \"1\", \"3\", \"3\", \"2\", \"1\", \"2\", \"3\", \"2\", \"2\", \"2\", \"2\", \"2\", \"2\", \"2\", \"2\", \"2\", \"2\", \"2\", \"2\", \"2\", \"2\", \"2\", \"2\", \"3\", \"2\", \"2\", \"2\", \"2\", \"2\", \"2\", \"1\", \"2\", \"2\", \"2\", \"2\", \"2\", \"2\", \"2\", \"2\", \"3\", \"2\", \"2\", \"3\", \"2\", \"2\", \"2\", \"2\", \"2\", \"2\", \"3\", \"2\", \"1\", \"2\", \"2\", \"2\", \"2\", \"2\", \"2\", \"2\", \"2\", \"2\", \"3\", \"2\", \"2\", \"2\", \"1\", \"2\", \"2\", \"2\", \"2\", \"2\", \"2\", \"2\", \"2\", \"2\", \"2\", \"2\", \"3\", \"2\", \"2\", \"2\", \"2\", \"2\", \"2\", \"2\", \"2\", \"2\", \"2\", \"3\", \"3\", \"3\", \"3\", \"2\", \"2\", \"2\", \"1\", \"1\", \"2\", \"2\", \"2\", \"2\", \"2\", \"2\", \"2\", \"2\", \"2\", \"2\", \"3\", \"2\", \"3\", \"2\", \"2\", \"2\", \"1\", \"2\", \"3\", \"3\", \"3\", \"2\", \"2\", \"2\", \"2\", \"2\", \"2\", \"2\", \"2\", \"2\", \"2\", \"2\", \"1\", \"2\", \"3\", \"2\", \"3\", \"2\", \"2\", \"2\", \"2\", \"2\", \"2\", \"2\", \"2\", \"2\", \"2\", \"2\", \"2\", \"2\", \"3\", \"2\", \"3\", \"2\", \"2\", \"2\", \"2\", \"1\", \"2\", \"2\", \"2\", \"2\", \"2\", \"2\", \"2\", \"3\", \"2\", \"2\", \"2\", \"1\", \"2\", \"2\", \"2\", \"2\", \"2\", \"2\", \"1\", \"3\", \"2\", \"2\", \"2\", \"2\", \"2\", \"2\", \"2\", \"2\", \"3\", \"2\", \"2\", \"2\", \"2\", \"2\", \"2\", \"2\", \"2\", \"1\", \"2\", \"3\", \"2\", \"3\", \"2\", \"2\", \"2\", \"2\", \"2\", \"2\", \"2\", \"2\", \"2\", \"2\", \"2\", \"2\", \"2\", \"2\", \"2\", \"2\", \"2\", \"2\", \"2\", \"2\", \"3\", \"1\", \"2\", \"2\", \"2\", \"2\", \"2\", \"3\", \"2\", \"2\", \"3\", \"2\", \"3\", \"2\", \"2\", \"1\", \"2\", \"2\", \"2\", \"3\", \"2\", \"2\", \"2\", \"2\", \"2\", \"2\", \"3\", \"3\", \"3\", \"3\", \"3\", \"2\", \"2\", \"2\", \"3\", \"2\", \"1\", \"2\", \"2\", \"2\", \"2\", \"3\", \"2\", \"2\", \"2\", \"2\", \"2\", \"2\", \"2\", \"2\", \"2\", \"2\", \"2\", \"2\", \"2\", \"2\", \"1\", \"2\", \"2\", \"2\", \"2\", \"2\", \"2\", \"3\", \"2\", \"2\", \"2\", \"2\", \"2\", \"2\", \"2\", \"2\", \"2\", \"2\", \"2\", \"3\", \"2\", \"2\", \"2\", \"2\", \"2\", \"2\", \"2\", \"2\", \"2\", \"2\", \"2\", \"3\", \"2\", \"2\", \"2\", \"2\", \"2\", \"2\", \"2\", \"2\", \"1\", \"3\", \"2\", \"2\", \"2\", \"2\", \"2\", \"2\", \"2\", \"2\", \"2\", \"1\", \"1\", \"3\", \"2\", \"3\", \"2\", \"2\", \"2\", \"2\", \"2\", \"2\", \"2\", \"2\", \"2\", \"2\", \"2\", \"2\", \"2\", \"2\", \"2\", \"2\", \"2\", \"2\", \"3\", \"2\", \"2\", \"2\", \"2\", \"2\", \"3\", \"2\", \"2\", \"2\", \"2\", \"2\", \"3\", \"2\", \"2\", \"2\", \"1\", \"2\", \"2\", \"2\", \"3\", \"3\", \"1\", \"3\", \"2\", \"2\", \"2\", \"2\", \"3\", \"2\", \"2\", \"3\", \"2\", \"3\", \"3\", \"3\", \"2\", \"2\", \"3\", \"3\", \"2\", \"2\", \"2\", \"2\", \"2\", \"2\", \"2\", \"3\", \"2\", \"2\", \"2\", \"2\", \"2\", \"2\", \"2\", \"2\", \"2\", \"3\", \"2\", \"2\", \"2\", \"2\", \"2\", \"2\", \"3\", \"3\", \"2\", \"2\", \"2\", \"2\", \"1\", \"2\", \"2\", \"2\", \"3\", \"2\", \"2\", \"2\", \"2\", \"2\", \"2\", \"2\", \"2\", \"2\", \"2\", \"2\", \"2\", \"2\", \"3\", \"2\", \"2\", \"2\", \"3\", \"2\", \"3\", \"2\", \"1\", \"2\", \"3\", \"1\", \"2\", \"2\", \"1\", \"2\", \"2\", \"2\", \"2\", \"2\", \"2\", \"2\", \"2\", \"3\", \"3\", \"2\", \"2\", \"2\", \"2\", \"2\", \"2\", \"2\", \"2\", \"2\", \"1\", \"2\", \"2\", \"1\", \"2\", \"3\", \"2\", \"2\", \"2\", \"3\", \"2\", \"3\", \"2\", \"2\", \"2\", \"2\", \"2\", \"3\", \"2\", \"3\", \"2\", \"2\", \"2\", \"2\", \"3\", \"2\", \"2\", \"2\", \"2\", \"2\", \"2\", \"2\", \"2\", \"2\", \"1\", \"2\", \"2\", \"2\", \"2\", \"2\", \"2\", \"3\", \"3\", \"2\", \"2\", \"2\", \"2\", \"2\", \"1\", \"2\", \"2\", \"2\", \"2\", \"1\", \"2\", \"2\", \"2\", \"3\", \"2\", \"2\", \"2\", \"2\", \"3\", \"2\", \"2\", \"2\", \"2\", \"2\", \"2\", \"2\", \"2\", \"2\", \"2\", \"1\", \"2\", \"2\", \"2\", \"2\", \"2\", \"2\", \"2\", \"3\", \"2\", \"2\", \"3\", \"2\", \"2\", \"3\", \"2\", \"2\", \"2\", \"2\", \"2\", \"2\", \"2\", \"2\", \"2\", \"2\", \"1\", \"2\", \"3\", \"1\", \"1\", \"2\", \"2\", \"1\", \"2\", \"3\", \"2\", \"2\", \"1\", \"2\", \"1\", \"2\", \"2\", \"3\", \"2\", \"2\", \"2\", \"2\", \"2\", \"2\", \"2\", \"2\", \"1\", \"2\", \"2\", \"3\", \"2\", \"2\", \"2\", \"2\", \"1\", \"1\", \"2\", \"2\", \"1\", \"1\", \"2\", \"2\", \"2\", \"2\", \"3\", \"2\", \"3\", \"2\", \"2\", \"2\", \"3\", \"2\", \"2\", \"1\", \"2\", \"3\", \"2\", \"2\", \"2\", \"2\", \"1\", \"2\", \"2\", \"2\", \"2\", \"3\", \"2\", \"2\", \"2\", \"2\", \"2\", \"2\", \"2\", \"2\", \"1\", \"2\", \"2\", \"2\", \"2\", \"2\", \"2\", \"2\", \"2\", \"2\", \"2\", \"2\", \"3\", \"2\", \"2\", \"2\", \"2\", \"2\", \"2\", \"2\", \"2\", \"2\", \"2\", \"2\", \"2\", \"2\", \"2\", \"2\", \"2\", \"2\", \"2\", \"2\", \"2\", \"2\", \"2\", \"2\", \"2\", \"2\", \"3\", \"2\", \"2\", \"2\", \"2\", \"2\", \"2\", \"3\", \"2\", \"2\", \"2\", \"2\", \"1\", \"1\", \"2\", \"2\", \"2\", \"2\", \"2\", \"1\", \"2\", \"2\", \"1\", \"2\", \"2\", \"1\", \"1\", \"1\", \"1\", \"2\", \"2\", \"2\", \"2\", \"2\", \"2\", \"1\", \"2\", \"2\", \"2\", \"2\", \"3\", \"3\", \"2\", \"2\", \"2\", \"2\", \"3\", \"2\", \"2\", \"3\", \"2\", \"2\", \"2\", \"1\", \"2\", \"2\", \"2\", \"2\", \"2\", \"2\", \"2\", \"3\", \"2\", \"2\", \"2\", \"2\", \"3\", \"2\", \"2\", \"2\", \"3\", \"2\", \"2\", \"2\", \"2\", \"2\", \"2\", \"2\", \"2\", \"2\", \"1\", \"1\", \"1\", \"2\", \"2\", \"1\", \"2\", \"2\", \"2\", \"2\", \"2\", \"2\", \"2\", \"2\", \"2\", \"2\", \"1\", \"2\", \"1\", \"2\", \"2\", \"2\", \"2\", \"2\", \"2\", \"2\", \"2\", \"2\", \"2\", \"2\", \"2\", \"2\", \"2\", \"2\", \"2\", \"2\", \"2\", \"2\", \"2\", \"2\", \"2\", \"2\", \"2\", \"3\", \"2\", \"2\", \"2\", \"2\", \"2\", \"2\", \"2\", \"2\", \"2\", \"2\", \"2\", \"2\", \"2\", \"2\", \"2\", \"2\", \"2\", \"2\", \"2\", \"2\", \"3\", \"2\", \"3\", \"1\", \"1\", \"1\", \"1\", \"2\", \"2\", \"2\", \"2\", \"2\", \"2\", \"2\", \"2\", \"2\", \"3\", \"2\", \"2\", \"1\", \"1\", \"1\", \"2\", \"1\", \"1\", \"2\", \"2\", \"3\", \"1\", \"2\", \"3\", \"1\", \"2\", \"2\", \"2\", \"1\", \"2\", \"2\", \"2\", \"2\", \"1\", \"2\", \"2\", \"2\", \"2\", \"2\", \"2\", \"2\", \"2\", \"2\", \"2\", \"3\", \"1\", \"2\", \"2\", \"2\", \"3\", \"2\", \"2\", \"1\", \"2\", \"2\", \"2\", \"2\", \"2\", \"2\", \"2\", \"3\", \"3\", \"2\", \"2\", \"1\", \"2\", \"2\", \"2\", \"2\", \"2\", \"2\", \"2\", \"2\", \"2\", \"2\", \"2\", \"2\", \"3\", \"2\", \"3\", \"2\", \"2\", \"2\", \"2\", \"2\", \"2\", \"1\", \"2\", \"2\", \"2\", \"2\", \"2\", \"2\", \"2\", \"2\", \"2\", \"2\", \"2\", \"2\", \"2\", \"2\", \"3\", \"3\", \"2\", \"2\", \"2\", \"2\", \"2\", \"2\", \"2\", \"3\", \"3\", \"2\", \"2\", \"2\", \"2\", \"2\", \"2\", \"2\", \"3\", \"2\", \"2\", \"2\", \"2\", \"2\", \"3\", \"2\", \"2\", \"2\", \"2\", \"2\", \"2\", \"1\", \"2\", \"2\", \"3\", \"2\", \"1\", \"2\", \"1\", \"1\", \"1\", \"1\", \"1\", \"1\", \"1\", \"2\", \"2\", \"2\", \"2\", \"2\", \"3\", \"2\", \"2\", \"2\", \"2\", \"2\", \"2\", \"3\", \"2\", \"2\", \"2\", \"3\", \"2\", \"2\", \"2\", \"2\", \"2\", \"2\", \"2\", \"2\", \"2\", \"2\", \"2\", \"2\", \"2\", \"2\", \"2\", \"2\", \"2\", \"2\", \"3\", \"2\", \"2\", \"2\", \"2\", \"2\", \"2\", \"2\", \"2\", \"2\", \"2\", \"2\", \"2\", \"3\", \"3\", \"3\", \"3\", \"2\", \"2\", \"2\", \"2\", \"2\", \"2\", \"2\", \"2\", \"2\", \"2\", \"2\", \"2\", \"2\", \"2\", \"2\", \"2\", \"2\", \"2\", \"2\", \"2\", \"2\", \"2\", \"2\", \"3\", \"2\", \"1\", \"1\", \"2\", \"2\", \"2\", \"2\", \"2\", \"2\", \"2\", \"2\", \"2\", \"3\", \"2\", \"2\", \"2\", \"2\", \"2\", \"2\", \"2\", \"2\", \"2\", \"2\", \"2\", \"2\", \"2\", \"2\", \"2\", \"2\", \"2\", \"2\", \"2\", \"2\", \"2\", \"2\", \"1\", \"2\", \"2\", \"2\", \"2\", \"2\", \"2\", \"2\", \"2\", \"3\", \"2\", \"1\", \"2\", \"2\", \"2\", \"1\", \"1\", \"1\", \"1\", \"1\", \"2\", \"3\", \"2\", \"1\", \"3\", \"2\", \"2\", \"2\", \"2\", \"2\", \"2\", \"2\", \"3\", \"2\", \"2\", \"2\", \"2\", \"2\", \"1\", \"2\", \"2\", \"2\", \"2\", \"2\", \"3\", \"2\", \"2\", \"2\", \"2\", \"2\", \"3\", \"2\", \"2\", \"1\", \"2\", \"2\", \"2\", \"2\", \"2\", \"2\", \"2\", \"2\", \"2\", \"3\", \"2\", \"2\", \"2\", \"2\", \"3\", \"3\", \"3\", \"2\", \"2\", \"2\", \"2\", \"2\", \"1\", \"2\", \"2\", \"2\", \"3\", \"2\", \"2\", \"2\", \"2\", \"1\", \"3\", \"1\", \"2\", \"1\", \"2\", \"2\", \"3\", \"2\", \"2\", \"2\", \"1\", \"2\", \"2\", \"2\", \"2\", \"2\", \"2\", \"2\", \"2\", \"2\", \"2\", \"2\", \"2\", \"2\", \"2\", \"2\", \"2\", \"2\", \"2\", \"2\", \"2\", \"1\", \"3\", \"3\", \"2\", \"2\", \"2\", \"3\", \"2\", \"2\", \"2\", \"2\", \"3\", \"2\", \"2\", \"2\", \"2\", \"2\", \"2\", \"1\", \"1\", \"2\", \"1\", \"1\", \"1\", \"1\", \"2\", \"1\", \"2\", \"2\", \"2\", \"2\", \"2\", \"2\", \"2\", \"2\", \"2\", \"2\", \"2\", \"1\", \"2\", \"2\", \"2\", \"2\", \"2\", \"2\", \"2\", \"2\", \"2\", \"2\", \"2\", \"2\", \"2\", \"2\", \"2\", \"2\", \"2\", \"2\", \"2\", \"2\", \"3\", \"2\", \"2\", \"2\", \"2\", \"2\", \"2\", \"2\", \"2\", \"3\", \"2\", \"2\", \"2\", \"2\", \"2\", \"1\", \"3\", \"2\", \"2\", \"3\", \"2\", \"2\", \"2\", \"2\", \"2\", \"2\", \"2\", \"3\", \"2\", \"2\", \"2\", \"2\", \"2\", \"2\", \"2\", \"2\", \"2\", \"2\", \"2\", \"2\", \"2\", \"2\", \"2\", \"2\", \"2\", \"2\", \"2\", \"2\", \"2\", \"2\", \"2\", \"2\", \"2\", \"2\", \"2\", \"2\", \"2\", \"2\", \"2\", \"2\", \"2\", \"2\", \"2\", \"2\", \"2\", \"2\", \"2\", \"2\", \"2\", \"2\", \"2\", \"2\", \"2\", \"2\", \"2\", \"2\", \"2\", \"2\", \"2\", \"1\", \"3\", \"2\", \"2\", \"1\", \"1\", \"1\", \"2\", \"2\", \"2\", \"2\", \"2\", \"2\", \"2\", \"1\", \"2\", \"1\", \"1\", \"1\", \"1\", \"1\", \"2\", \"2\", \"1\", \"2\", \"2\", \"2\", \"2\", \"2\", \"2\", \"2\", \"2\", \"2\", \"2\", \"2\", \"2\", \"2\", \"2\", \"2\", \"2\", \"2\", \"2\", \"2\", \"2\", \"2\", \"2\", \"2\", \"2\", \"3\", \"2\", \"2\", \"2\", \"2\", \"3\", \"3\", \"2\", \"2\", \"2\", \"2\", \"2\", \"2\", \"2\", \"2\", \"2\", \"2\", \"2\", \"2\", \"3\", \"1\", \"1\", \"2\", \"2\", \"2\", \"2\", \"2\", \"2\", \"2\", \"2\", \"2\", \"2\", \"2\", \"3\", \"2\", \"3\", \"2\", \"2\", \"2\", \"3\", \"3\", \"3\", \"3\", \"2\", \"2\", \"2\", \"2\", \"2\", \"2\", \"1\", \"2\", \"3\", \"2\", \"2\", \"2\", \"2\", \"2\", \"2\", \"2\", \"2\", \"2\", \"2\", \"2\", \"2\", \"2\", \"2\", \"2\", \"2\", \"2\", \"2\", \"2\", \"2\", \"2\", \"2\", \"2\", \"2\", \"2\", \"2\", \"2\", \"2\", \"3\", \"1\", \"2\", \"2\", \"2\", \"3\", \"3\", \"2\", \"2\", \"2\", \"2\", \"2\", \"2\", \"2\", \"2\", \"2\", \"2\", \"2\", \"2\", \"2\", \"1\", \"3\", \"2\", \"3\", \"2\", \"1\", \"2\", \"2\", \"2\", \"2\", \"2\", \"2\", \"2\", \"1\", \"2\", \"1\", \"2\", \"1\", \"1\", \"2\", \"2\", \"2\", \"2\", \"1\", \"1\", \"1\", \"1\", \"1\", \"1\", \"1\", \"1\", \"1\", \"2\", \"1\", \"1\", \"1\", \"2\", \"2\", \"1\", \"2\", \"2\", \"2\", \"2\", \"1\", \"1\", \"1\", \"1\", \"1\", \"1\", \"1\", \"1\", \"1\", \"1\", \"1\", \"1\", \"1\", \"1\", \"1\", \"2\", \"1\", \"2\", \"1\", \"1\", \"1\", \"1\", \"1\", \"2\", \"1\", \"1\", \"1\", \"1\", \"1\", \"1\", \"1\", \"2\", \"1\", \"1\", \"1\", \"1\", \"3\", \"2\", \"2\", \"2\", \"2\", \"2\", \"1\", \"2\", \"2\", \"2\", \"2\", \"2\", \"2\", \"3\", \"2\", \"2\", \"1\", \"2\", \"2\", \"2\", \"2\", \"2\", \"2\", \"2\", \"1\", \"1\", \"1\", \"1\", \"1\", \"1\", \"2\", \"2\", \"1\", \"2\", \"2\", \"1\", \"2\", \"1\", \"2\", \"1\", \"1\", \"2\", \"1\", \"2\", \"2\", \"3\", \"2\", \"2\", \"2\", \"2\", \"2\", \"2\", \"2\", \"3\", \"3\", \"2\", \"2\", \"2\", \"3\", \"2\", \"2\", \"2\", \"2\", \"2\", \"2\", \"2\", \"2\", \"3\", \"3\", \"3\", \"2\", \"2\", \"2\", \"2\", \"2\", \"1\", \"2\", \"2\", \"2\", \"2\", \"2\", \"2\", \"2\", \"2\", \"2\", \"2\", \"1\", \"1\", \"1\", \"1\", \"1\", \"1\", \"3\", \"2\", \"1\", \"1\", \"1\", \"2\", \"2\", \"2\", \"2\", \"2\", \"1\", \"2\", \"2\", \"1\", \"1\", \"1\", \"1\", \"1\", \"1\", \"1\", \"1\", \"1\", \"1\", \"1\", \"1\", \"1\", \"1\", \"1\", \"3\", \"2\", \"3\", \"2\", \"2\", \"2\", \"3\", \"3\", \"2\", \"2\", \"3\", \"2\", \"2\", \"2\", \"2\", \"3\", \"3\", \"3\", \"1\", \"1\", \"2\", \"2\", \"3\", \"2\", \"1\", \"1\", \"1\", \"1\", \"2\", \"2\", \"2\", \"2\", \"2\", \"1\", \"1\", \"2\", \"1\", \"2\", \"2\", \"2\", \"2\", \"3\", \"2\", \"2\", \"1\", \"3\", \"2\", \"2\", \"2\", \"2\", \"3\", \"3\", \"2\", \"3\", \"1\", \"1\", \"2\", \"1\", \"1\", \"1\", \"1\", \"1\", \"1\", \"1\", \"3\", \"1\", \"1\", \"1\", \"1\", \"2\", \"3\", \"1\", \"1\", \"1\", \"1\", \"2\", \"2\", \"2\", \"2\", \"1\", \"1\", \"1\", \"1\", \"2\", \"1\", \"2\", \"1\", \"1\", \"1\", \"1\", \"1\", \"2\", \"1\", \"2\", \"1\", \"1\", \"1\", \"1\", \"1\", \"1\", \"1\", \"1\", \"1\", \"2\", \"2\", \"2\", \"2\", \"1\", \"2\", \"2\", \"1\", \"1\", \"1\", \"3\", \"2\", \"2\", \"1\", \"1\", \"1\", \"1\", \"1\", \"1\", \"1\", \"1\", \"1\", \"1\", \"1\", \"1\", \"2\", \"1\", \"1\", \"1\", \"1\", \"1\", \"2\", \"1\", \"2\", \"2\", \"1\", \"2\", \"2\", \"2\", \"1\", \"1\", \"3\", \"1\", \"1\", \"2\", \"1\", \"1\", \"1\", \"1\", \"1\", \"1\", \"1\", \"1\", \"1\", \"1\", \"2\", \"1\", \"1\", \"1\", \"1\", \"1\", \"1\", \"1\", \"1\", \"1\", \"1\", \"1\", \"1\", \"2\", \"2\", \"2\", \"3\", \"2\", \"1\", \"3\", \"2\", \"2\", \"2\", \"2\", \"2\", \"3\", \"3\", \"2\", \"2\", \"2\", \"3\", \"1\", \"1\", \"1\", \"1\", \"2\", \"2\", \"2\", \"2\", \"3\", \"2\", \"2\", \"2\", \"1\", \"1\", \"1\", \"2\", \"3\", \"3\", \"2\", \"2\", \"1\", \"1\", \"1\", \"1\", \"2\", \"1\", \"1\", \"1\", \"1\", \"2\", \"2\", \"3\", \"1\", \"2\", \"2\", \"2\", \"2\", \"2\", \"2\", \"2\", \"2\", \"2\", \"2\", \"2\", \"2\", \"3\", \"2\", \"2\", \"2\", \"3\", \"3\", \"3\", \"3\", \"2\", \"3\", \"1\", \"1\", \"1\", \"1\", \"2\", \"2\", \"2\", \"2\", \"1\", \"1\", \"1\", \"2\", \"3\", \"2\", \"2\", \"1\", \"1\", \"1\", \"1\", \"1\", \"1\", \"1\", \"1\", \"1\", \"1\", \"1\", \"1\", \"1\", \"1\", \"1\", \"1\", \"1\", \"1\", \"1\", \"1\", \"1\", \"1\", \"1\", \"1\", \"2\", \"3\", \"3\", \"2\", \"3\", \"2\", \"2\", \"2\", \"2\", \"2\", \"2\", \"2\", \"3\", \"2\", \"2\", \"2\", \"2\", \"2\", \"2\", \"2\", \"2\", \"2\", \"2\", \"1\", \"3\", \"3\", \"3\", \"2\", \"1\", \"1\", \"1\", \"2\", \"1\", \"2\", \"2\", \"3\", \"2\", \"2\", \"2\", \"1\", \"1\", \"1\", \"1\", \"1\", \"1\", \"1\", \"2\", \"3\", \"1\", \"3\", \"1\", \"1\", \"1\", \"2\", \"1\", \"1\", \"1\", \"3\", \"2\", \"2\", \"2\", \"2\", \"2\", \"2\", \"2\", \"2\", \"3\", \"2\", \"3\", \"2\", \"2\", \"1\", \"2\", \"2\", \"2\", \"3\", \"2\", \"2\", \"2\", \"2\", \"2\", \"2\", \"3\", \"3\", \"2\", \"2\", \"1\", \"2\", \"3\", \"3\", \"3\", \"2\", \"1\", \"1\", \"1\", \"2\", \"2\", \"2\", \"1\", \"1\", \"1\", \"2\", \"1\", \"1\", \"3\", \"1\", \"2\", \"2\", \"2\", \"2\", \"2\", \"2\", \"2\", \"2\", \"2\", \"2\", \"1\", \"1\", \"1\", \"1\", \"2\", \"1\", \"1\", \"1\", \"1\", \"1\", \"1\", \"1\", \"1\", \"1\", \"1\", \"1\", \"1\", \"2\", \"2\", \"2\", \"1\", \"1\", \"1\", \"1\", \"2\", \"1\", \"1\", \"1\", \"1\", \"1\", \"1\", \"1\", \"1\", \"1\", \"1\", \"1\", \"1\", \"1\", \"2\", \"1\", \"1\", \"1\", \"1\", \"1\", \"1\", \"2\", \"1\", \"1\", \"1\", \"1\", \"2\", \"2\", \"2\", \"3\", \"3\", \"3\", \"2\", \"2\", \"2\", \"2\", \"2\", \"2\", \"2\", \"2\", \"2\", \"2\", \"2\", \"2\", \"2\", \"2\", \"2\", \"2\", \"2\", \"2\", \"2\", \"3\", \"2\", \"2\", \"2\", \"2\", \"2\", \"2\", \"1\", \"1\", \"2\", \"1\", \"2\", \"2\", \"3\", \"2\", \"2\", \"1\", \"1\", \"2\", \"1\", \"1\", \"1\", \"2\", \"1\", \"2\", \"1\", \"1\", \"1\", \"3\", \"2\", \"2\", \"2\", \"3\", \"2\", \"3\", \"2\", \"1\", \"1\", \"2\", \"2\", \"2\", \"2\", \"2\", \"2\", \"2\", \"2\", \"2\", \"2\", \"3\", \"2\", \"2\", \"2\", \"2\", \"3\", \"1\", \"2\", \"2\", \"2\", \"3\", \"3\", \"2\", \"3\", \"3\", \"1\", \"2\", \"1\", \"1\", \"1\", \"1\", \"1\", \"1\", \"2\", \"2\", \"2\", \"2\", \"2\", \"2\", \"2\", \"2\", \"3\", \"2\", \"1\", \"2\", \"2\", \"1\", \"3\", \"1\", \"1\", \"1\", \"1\", \"1\", \"2\", \"2\", \"2\", \"1\", \"1\", \"1\", \"2\", \"2\", \"2\", \"2\", \"1\", \"1\", \"1\", \"2\", \"2\", \"1\", \"1\", \"1\", \"1\", \"1\", \"1\", \"1\", \"1\", \"1\", \"1\", \"2\", \"1\", \"1\", \"1\", \"1\", \"1\", \"1\", \"1\", \"1\", \"2\", \"1\", \"1\", \"1\", \"1\", \"2\", \"1\", \"2\", \"2\", \"3\", \"2\", \"2\", \"1\", \"2\", \"2\", \"2\", \"2\", \"2\", \"2\", \"3\", \"2\", \"2\", \"2\", \"1\", \"1\", \"1\", \"1\", \"2\", \"2\", \"3\", \"2\", \"2\", \"2\", \"2\", \"2\", \"2\", \"3\", \"2\", \"1\", \"1\", \"2\", \"2\", \"1\", \"1\", \"2\", \"2\", \"2\", \"2\", \"2\", \"2\", \"2\", \"2\", \"3\", \"2\", \"2\", \"2\", \"2\", \"2\", \"2\", \"2\", \"2\", \"2\", \"2\", \"2\", \"2\", \"1\", \"2\", \"2\", \"2\", \"2\", \"2\", \"2\", \"2\", \"1\", \"2\", \"1\", \"1\", \"1\", \"2\", \"2\", \"2\", \"1\", \"1\", \"1\", \"1\", \"1\", \"3\", \"1\", \"1\", \"2\", \"2\", \"2\", \"2\", \"2\", \"2\", \"2\", \"3\", \"2\", \"1\", \"1\", \"2\", \"3\", \"2\", \"3\", \"1\", \"1\", \"1\", \"1\", \"1\", \"1\", \"1\", \"2\", \"1\", \"2\", \"1\", \"1\", \"1\", \"1\", \"1\", \"1\", \"1\", \"1\", \"1\", \"1\", \"2\", \"2\", \"1\", \"1\", \"1\", \"1\", \"2\", \"1\", \"2\", \"3\", \"2\", \"2\", \"2\", \"2\", \"2\", \"3\", \"2\", \"2\", \"2\", \"3\", \"2\", \"2\", \"2\", \"2\", \"2\", \"2\", \"2\", \"2\", \"2\", \"3\", \"3\", \"2\", \"2\", \"2\", \"2\", \"2\", \"1\", \"1\", \"2\", \"2\", \"2\", \"2\", \"2\", \"2\", \"1\", \"1\", \"2\", \"1\", \"1\", \"2\", \"2\", \"1\", \"1\", \"2\", \"1\", \"3\", \"1\", \"2\", \"2\", \"2\", \"2\", \"2\", \"2\", \"3\", \"2\", \"2\", \"2\", \"2\", \"2\", \"2\", \"3\", \"2\", \"2\", \"2\", \"3\", \"3\", \"1\", \"2\", \"2\", \"1\", \"1\", \"2\", \"2\", \"1\", \"3\", \"2\", \"2\", \"2\", \"2\", \"1\", \"1\", \"1\", \"1\", \"2\", \"2\", \"2\", \"1\", \"2\", \"2\", \"3\", \"3\", \"2\", \"2\", \"2\", \"2\", \"2\", \"2\", \"2\", \"1\", \"2\", \"1\", \"1\", \"1\", \"2\", \"2\", \"1\", \"1\", \"2\", \"3\", \"2\", \"2\", \"3\", \"2\", \"3\", \"3\", \"3\", \"3\", \"2\", \"2\", \"2\", \"1\", \"2\", \"1\", \"1\", \"1\", \"2\", \"2\", \"1\", \"1\", \"1\", \"2\", \"2\", \"2\", \"2\", \"2\", \"2\", \"2\", \"1\", \"2\", \"2\", \"2\", \"2\", \"2\", \"2\", \"2\", \"1\", \"1\", \"1\", \"2\", \"2\", \"1\", \"2\", \"2\", \"1\", \"2\", \"2\", \"2\", \"2\", \"2\", \"3\", \"2\", \"2\", \"3\", \"2\", \"2\", \"2\", \"2\", \"3\", \"2\", \"3\", \"2\", \"2\", \"2\", \"2\", \"2\", \"1\", \"2\", \"1\", \"1\", \"2\", \"2\", \"2\", \"2\", \"2\", \"2\", \"3\", \"3\", \"3\", \"3\", \"2\", \"2\", \"2\", \"2\", \"2\", \"2\", \"3\", \"3\", \"3\", \"2\", \"2\", \"2\", \"3\", \"2\", \"1\", \"2\", \"2\", \"2\", \"2\", \"2\", \"2\", \"2\", \"2\", \"2\", \"2\", \"3\", \"2\", \"2\", \"2\", \"2\", \"1\", \"2\", \"1\", \"1\", \"2\", \"1\", \"1\", \"2\", \"2\", \"2\", \"2\", \"2\", \"2\", \"2\", \"1\", \"2\", \"2\", \"2\", \"2\", \"2\", \"3\", \"2\", \"3\", \"2\", \"1\", \"2\", \"2\", \"2\", \"2\", \"1\", \"1\", \"1\", \"1\", \"2\", \"2\", \"2\", \"1\", \"2\", \"2\", \"2\", \"2\", \"3\", \"2\", \"2\", \"2\", \"3\", \"1\", \"2\", \"1\", \"1\", \"1\", \"2\", \"1\", \"1\", \"2\", \"2\", \"2\", \"2\", \"2\", \"2\", \"2\", \"2\", \"3\", \"3\", \"1\", \"1\", \"2\", \"1\", \"2\", \"1\", \"2\", \"2\", \"2\", \"2\", \"2\", \"2\", \"3\", \"2\", \"1\", \"2\", \"2\", \"2\", \"1\", \"2\", \"3\", \"2\", \"3\", \"2\", \"1\", \"3\", \"1\", \"1\", \"1\", \"1\", \"1\", \"1\", \"1\", \"2\", \"3\", \"2\", \"2\", \"2\", \"2\", \"2\", \"2\", \"2\", \"2\", \"2\", \"2\", \"2\", \"2\", \"2\", \"2\", \"3\", \"2\", \"2\", \"2\", \"1\", \"2\", \"2\", \"2\", \"2\", \"2\", \"2\", \"2\", \"2\", \"2\", \"1\", \"3\", \"3\", \"2\", \"2\", \"3\", \"1\", \"2\", \"2\", \"1\", \"1\", \"2\", \"2\", \"2\", \"3\", \"3\", \"2\", \"2\", \"3\", \"2\", \"2\", \"2\", \"2\", \"2\", \"2\", \"2\", \"2\", \"2\", \"3\", \"2\", \"2\", \"2\", \"2\", \"2\", \"2\", \"2\", \"2\", \"3\", \"2\", \"2\", \"2\", \"2\", \"1\", \"1\", \"1\", \"2\", \"2\", \"2\", \"2\", \"3\", \"2\", \"3\", \"2\", \"2\", \"1\", \"2\", \"3\", \"1\", \"1\", \"2\", \"2\", \"2\", \"2\", \"1\", \"1\", \"1\", \"1\", \"2\", \"2\", \"2\", \"2\", \"2\", \"2\", \"1\", \"2\", \"2\", \"2\", \"2\", \"3\", \"2\", \"3\", \"3\", \"3\", \"2\", \"2\", \"2\", \"2\", \"2\", \"2\", \"3\", \"3\", \"3\", \"1\", \"2\", \"2\", \"2\", \"1\", \"2\", \"1\", \"1\", \"3\", \"2\", \"2\", \"2\", \"2\", \"2\", \"2\", \"1\", \"2\", \"2\", \"2\", \"1\", \"2\", \"2\", \"2\", \"2\", \"2\", \"2\", \"2\", \"2\", \"2\", \"2\", \"2\", \"2\", \"2\", \"2\", \"2\", \"2\", \"2\", \"2\", \"2\", \"2\", \"3\", \"2\", \"2\", \"2\", \"2\", \"2\", \"2\", \"2\", \"2\", \"2\", \"1\", \"1\", \"1\", \"2\", \"2\", \"2\", \"3\", \"3\", \"2\", \"2\", \"2\", \"1\", \"2\", \"2\", \"2\", \"2\", \"2\", \"2\", \"2\", \"2\", \"2\", \"2\", \"1\", \"2\", \"2\", \"2\", \"2\", \"3\", \"2\", \"1\", \"1\", \"1\", \"2\", \"3\", \"1\", \"2\", \"2\", \"2\", \"2\", \"3\", \"2\", \"3\", \"2\", \"2\", \"2\", \"2\", \"3\", \"1\", \"2\", \"1\", \"1\", \"1\", \"1\", \"1\", \"1\", \"1\", \"1\", \"2\", \"2\", \"2\", \"2\", \"1\", \"1\", \"2\", \"1\", \"3\", \"2\", \"2\", \"2\", \"3\", \"2\", \"3\", \"3\", \"3\", \"1\", \"2\", \"2\", \"2\", \"2\", \"2\", \"2\", \"2\", \"3\", \"3\", \"2\", \"1\", \"2\", \"1\", \"2\", \"2\", \"2\", \"3\", \"3\", \"2\", \"2\", \"1\", \"1\", \"1\", \"1\", \"2\", \"2\", \"1\", \"1\", \"2\", \"2\", \"3\", \"2\", \"2\", \"3\", \"2\", \"2\", \"2\", \"3\", \"2\", \"2\", \"2\", \"2\", \"2\", \"2\", \"2\", \"2\", \"2\", \"2\", \"2\", \"3\", \"3\", \"2\", \"2\", \"2\", \"2\", \"2\", \"2\", \"2\", \"2\", \"2\", \"3\", \"2\", \"2\", \"2\", \"2\", \"2\", \"2\", \"2\", \"2\", \"3\", \"2\", \"2\", \"2\", \"1\", \"2\", \"2\", \"2\", \"3\", \"2\", \"2\", \"3\", \"2\", \"2\", \"2\", \"1\", \"2\", \"2\", \"2\", \"1\", \"1\", \"1\", \"1\", \"1\", \"1\", \"1\", \"1\", \"2\", \"3\", \"2\", \"2\", \"2\", \"2\", \"2\", \"3\", \"3\", \"2\", \"1\", \"2\", \"2\", \"2\", \"2\", \"2\", \"2\", \"1\", \"1\", \"1\", \"2\", \"1\", \"1\", \"2\", \"1\", \"1\", \"3\", \"2\", \"2\", \"2\", \"2\", \"2\", \"3\", \"2\", \"2\", \"2\", \"3\", \"3\", \"2\", \"1\", \"1\", \"1\", \"2\", \"2\", \"1\", \"2\", \"1\", \"1\", \"2\", \"2\", \"2\", \"2\", \"2\", \"2\", \"2\", \"2\", \"2\", \"3\", \"1\", \"1\", \"2\", \"2\", \"2\", \"2\", \"2\", \"2\", \"2\", \"3\", \"3\", \"3\", \"3\", \"2\", \"2\", \"1\", \"2\", \"2\", \"2\", \"2\", \"2\", \"2\", \"2\", \"2\", \"2\", \"2\", \"2\", \"1\", \"2\", \"3\", \"3\", \"2\", \"2\", \"2\", \"2\", \"2\", \"2\", \"2\", \"2\", \"3\", \"2\", \"2\", \"2\", \"2\", \"2\", \"2\", \"2\", \"2\", \"2\", \"2\", \"2\", \"2\", \"2\", \"1\", \"2\", \"2\", \"2\", \"2\", \"2\", \"2\", \"2\", \"2\", \"3\", \"2\", \"2\", \"1\", \"2\", \"2\", \"2\", \"3\", \"2\", \"3\", \"2\", \"2\", \"2\", \"2\", \"1\", \"1\", \"1\", \"1\", \"2\", \"2\", \"1\", \"1\", \"1\", \"1\", \"2\", \"2\", \"2\", \"2\", \"3\", \"1\", \"2\", \"1\", \"1\", \"1\", \"3\", \"2\", \"2\", \"2\", \"2\", \"2\", \"2\", \"2\", \"2\", \"2\", \"1\", \"1\", \"1\", \"2\", \"2\", \"1\", \"2\", \"3\", \"2\", \"2\", \"2\", \"3\", \"2\", \"1\", \"2\", \"2\", \"3\", \"3\", \"3\", \"2\", \"2\", \"2\", \"3\", \"3\", \"2\", \"2\", \"2\", \"2\", \"3\", \"2\", \"2\", \"2\", \"2\", \"2\", \"1\", \"2\", \"2\", \"2\", \"2\", \"2\", \"3\", \"2\", \"3\", \"2\", \"2\", \"1\", \"2\", \"2\", \"2\", \"2\", \"2\", \"2\", \"2\", \"2\", \"2\", \"2\", \"2\", \"2\", \"2\", \"2\", \"2\", \"2\", \"2\", \"2\", \"2\", \"2\", \"3\", \"2\", \"2\", \"2\", \"2\", \"2\", \"2\", \"2\", \"2\", \"2\", \"2\", \"2\", \"3\", \"2\", \"1\", \"3\", \"2\", \"2\", \"2\", \"2\", \"2\", \"2\", \"2\", \"3\", \"1\", \"2\", \"1\", \"1\", \"1\", \"2\", \"2\", \"2\", \"2\", \"2\", \"2\", \"2\", \"2\", \"2\", \"3\", \"2\", \"2\", \"2\", \"2\", \"2\", \"2\", \"2\", \"2\", \"2\", \"1\", \"1\", \"3\", \"1\", \"1\", \"1\", \"1\", \"1\", \"1\", \"2\", \"3\", \"2\", \"2\", \"2\", \"1\", \"1\", \"2\", \"1\", \"2\", \"2\", \"2\", \"2\", \"2\", \"2\", \"2\", \"3\", \"1\", \"1\", \"1\", \"2\", \"2\", \"1\", \"2\", \"2\", \"2\", \"2\", \"3\", \"2\", \"2\", \"2\", \"2\", \"2\", \"2\", \"2\", \"2\", \"2\", \"2\", \"2\", \"2\", \"2\", \"2\", \"2\", \"2\", \"2\", \"2\", \"1\", \"2\", \"2\", \"3\", \"3\", \"2\", \"2\", \"2\", \"2\", \"1\", \"2\", \"3\", \"2\", \"3\", \"2\", \"3\", \"1\", \"1\", \"2\", \"2\", \"2\", \"2\", \"1\", \"2\", \"2\", \"2\", \"2\", \"2\", \"2\", \"2\", \"2\", \"2\", \"3\", \"2\", \"2\", \"2\", \"2\", \"2\", \"2\", \"2\", \"2\", \"3\", \"2\", \"3\", \"2\", \"2\", \"2\", \"2\", \"2\", \"2\", \"2\", \"3\", \"2\", \"2\", \"2\", \"2\", \"2\", \"1\", \"1\", \"1\", \"1\", \"1\", \"1\", \"1\", \"1\", \"2\", \"1\", \"3\", \"2\", \"3\", \"3\", \"2\", \"2\", \"2\", \"2\", \"2\", \"2\", \"2\", \"2\", \"2\", \"1\", \"1\", \"1\", \"2\", \"2\", \"1\", \"2\", \"2\", \"1\", \"1\", \"1\", \"1\", \"2\", \"1\", \"1\", \"2\", \"3\", \"3\", \"3\", \"2\", \"3\", \"2\", \"2\", \"2\", \"2\", \"2\", \"2\", \"2\", \"2\", \"2\", \"1\", \"2\", \"1\", \"1\", \"1\", \"2\", \"2\", \"2\", \"2\", \"2\", \"3\", \"2\", \"2\", \"2\", \"2\", \"3\", \"1\", \"2\", \"2\", \"2\", \"2\", \"1\", \"2\", \"2\", \"1\", \"1\", \"2\", \"2\", \"1\", \"1\", \"1\", \"2\", \"2\", \"2\", \"2\", \"3\", \"3\", \"2\", \"2\", \"2\", \"2\", \"2\", \"2\", \"2\", \"3\", \"2\", \"2\", \"2\", \"2\", \"1\", \"2\", \"2\", \"2\", \"2\", \"1\", \"2\", \"1\", \"1\", \"2\", \"1\", \"1\", \"1\", \"3\", \"2\", \"2\", \"1\", \"2\", \"1\", \"1\", \"1\", \"3\", \"2\", \"2\", \"3\", \"2\", \"3\", \"2\", \"2\", \"1\", \"2\", \"1\", \"1\", \"2\", \"2\", \"2\", \"2\", \"2\", \"3\", \"2\", \"2\", \"2\", \"2\", \"3\", \"1\", \"3\", \"1\", \"2\", \"2\", \"2\", \"2\", \"2\", \"2\", \"2\", \"3\", \"2\", \"2\", \"2\", \"2\", \"2\", \"2\", \"2\", \"2\", \"2\", \"2\", \"2\", \"2\", \"2\", \"2\", \"2\", \"2\", \"3\", \"2\", \"2\", \"2\", \"1\", \"2\", \"1\", \"1\", \"1\", \"1\", \"1\", \"1\", \"1\", \"1\", \"1\", \"2\", \"1\", \"1\", \"2\", \"2\", \"2\", \"3\", \"2\", \"1\", \"1\", \"2\", \"2\", \"2\", \"2\", \"2\", \"2\", \"2\", \"2\", \"2\", \"2\", \"1\", \"2\", \"2\", \"3\", \"2\", \"2\", \"2\", \"3\", \"2\", \"2\", \"2\", \"2\", \"1\", \"2\", \"2\", \"3\", \"3\", \"1\", \"1\", \"1\", \"1\", \"2\", \"1\", \"2\", \"1\", \"2\", \"1\", \"2\", \"2\", \"1\", \"2\", \"2\", \"3\", \"2\", \"3\", \"3\", \"2\", \"2\", \"2\", \"1\", \"1\", \"1\", \"1\", \"1\", \"1\", \"2\", \"2\", \"2\", \"2\", \"2\", \"2\", \"2\", \"2\", \"2\", \"2\", \"1\", \"1\", \"1\", \"1\", \"1\", \"2\", \"1\", \"1\", \"2\", \"2\", \"2\", \"2\", \"2\", \"2\", \"2\", \"2\", \"2\", \"2\", \"2\", \"2\", \"3\", \"3\", \"1\", \"2\", \"2\", \"2\", \"2\", \"2\", \"3\", \"3\", \"3\", \"2\", \"2\", \"2\", \"2\", \"2\", \"2\", \"2\", \"3\", \"2\", \"2\", \"1\", \"1\", \"1\", \"2\", \"1\", \"2\", \"1\", \"1\", \"1\", \"1\", \"1\", \"2\", \"2\", \"2\", \"2\", \"2\", \"2\", \"2\", \"2\", \"3\", \"2\", \"2\", \"3\", \"2\", \"1\", \"1\", \"1\", \"1\", \"1\", \"2\", \"2\", \"2\", \"3\", \"2\", \"3\", \"3\", \"2\", \"2\", \"2\", \"2\", \"2\", \"2\", \"3\", \"3\", \"3\", \"3\", \"1\", \"1\", \"1\", \"1\", \"2\", \"2\", \"2\", \"2\", \"2\", \"2\", \"2\", \"2\", \"2\", \"3\", \"2\", \"2\", \"2\", \"2\", \"2\", \"2\", \"2\", \"3\", \"2\", \"3\", \"2\", \"2\", \"3\", \"2\", \"2\", \"2\", \"2\", \"2\", \"2\", \"2\", \"3\", \"2\", \"2\", \"1\", \"1\", \"1\", \"2\", \"1\", \"2\", \"2\", \"2\", \"1\", \"2\", \"2\", \"3\", \"2\", \"2\", \"3\", \"2\", \"2\", \"2\", \"2\", \"2\", \"1\", \"1\", \"1\", \"2\", \"2\", \"1\", \"1\", \"2\", \"2\", \"2\", \"2\", \"1\", \"2\", \"2\", \"2\", \"2\", \"2\", \"3\", \"3\", \"2\", \"2\", \"2\", \"2\", \"2\", \"2\", \"2\", \"2\", \"2\", \"3\", \"2\", \"2\", \"2\", \"2\", \"3\", \"2\", \"2\", \"3\", \"2\", \"2\", \"2\", \"2\", \"2\", \"2\", \"1\", \"2\", \"1\", \"2\", \"1\", \"1\", \"1\", \"3\", \"1\", \"1\", \"2\", \"2\", \"2\", \"2\", \"2\", \"2\", \"2\", \"1\", \"1\", \"1\", \"2\", \"2\", \"2\", \"2\", \"2\", \"2\", \"2\", \"1\", \"1\", \"1\", \"1\", \"1\", \"1\", \"1\", \"1\", \"2\", \"1\", \"2\", \"2\", \"2\", \"2\", \"2\", \"2\", \"2\", \"2\", \"2\", \"2\", \"2\", \"2\", \"2\", \"2\", \"2\", \"2\", \"2\", \"2\", \"2\", \"2\", \"2\", \"2\", \"2\", \"2\", \"2\", \"2\", \"3\", \"2\", \"2\", \"2\", \"2\", \"2\", \"2\", \"2\", \"3\", \"2\", \"2\", \"1\", \"1\", \"2\", \"2\", \"1\", \"1\", \"1\", \"1\", \"2\", \"2\", \"2\", \"2\", \"2\", \"2\", \"2\", \"2\", \"2\", \"2\", \"1\", \"2\", \"2\", \"2\", \"2\", \"2\", \"2\", \"2\", \"2\", \"1\", \"2\", \"3\", \"2\", \"2\", \"2\", \"2\", \"2\", \"2\", \"2\", \"2\", \"3\", \"2\", \"2\", \"3\", \"2\", \"2\", \"1\", \"2\", \"2\", \"1\", \"2\", \"3\", \"2\", \"2\", \"2\", \"2\", \"2\", \"2\", \"2\", \"2\", \"2\", \"2\", \"3\", \"2\", \"2\", \"3\", \"2\", \"2\", \"2\", \"2\", \"2\", \"2\", \"2\", \"2\", \"1\", \"1\", \"1\", \"1\", \"1\", \"1\", \"3\", \"2\", \"2\", \"3\", \"2\", \"2\", \"2\", \"2\", \"2\", \"2\", \"2\", \"2\", \"2\", \"2\", \"2\", \"2\", \"2\", \"2\", \"2\", \"2\", \"2\", \"2\", \"2\", \"2\", \"2\", \"3\", \"1\", \"2\", \"2\", \"3\", \"1\", \"2\", \"2\", \"1\", \"1\", \"1\", \"1\", \"2\", \"3\", \"2\", \"2\", \"1\", \"3\", \"1\", \"3\", \"2\", \"2\", \"3\", \"3\", \"2\", \"1\", \"2\", \"2\", \"3\", \"2\", \"2\", \"2\", \"2\", \"3\", \"2\", \"3\", \"2\", \"2\", \"3\", \"2\", \"2\", \"2\", \"2\", \"2\", \"2\", \"2\", \"2\", \"2\", \"3\", \"2\", \"2\", \"2\", \"2\", \"2\", \"2\", \"2\", \"2\", \"2\", \"2\", \"2\", \"2\", \"1\", \"2\", \"2\", \"2\", \"2\", \"2\", \"1\", \"1\", \"1\", \"1\", \"2\", \"1\", \"2\", \"3\", \"2\", \"3\", \"1\", \"2\", \"3\", \"1\", \"1\", \"1\", \"1\", \"1\", \"2\", \"2\", \"2\", \"2\", \"2\", \"1\", \"2\", \"1\", \"2\", \"2\", \"2\", \"2\", \"2\", \"2\", \"2\", \"2\", \"3\", \"2\", \"2\", \"2\", \"2\", \"2\", \"2\", \"3\", \"3\", \"2\", \"1\", \"2\", \"2\", \"2\", \"2\", \"2\", \"2\", \"2\", \"2\", \"2\", \"2\", \"2\", \"2\", \"2\", \"2\", \"2\", \"2\", \"2\", \"2\", \"2\", \"2\", \"2\", \"3\", \"3\", \"3\", \"3\", \"3\", \"1\", \"3\", \"3\", \"2\", \"3\", \"2\", \"2\", \"2\", \"2\", \"2\", \"3\", \"3\", \"2\", \"2\", \"3\", \"3\", \"3\", \"2\", \"2\", \"2\", \"3\", \"2\", \"2\", \"2\", \"2\", \"2\", \"2\", \"2\", \"2\", \"3\", \"3\", \"2\", \"3\", \"2\", \"2\", \"2\", \"2\", \"2\", \"2\", \"2\", \"2\", \"2\", \"2\", \"2\", \"2\", \"1\", \"2\", \"1\", \"3\", \"2\", \"1\", \"2\", \"2\", \"3\", \"2\", \"2\", \"2\", \"2\", \"2\", \"3\", \"2\", \"3\", \"2\", \"2\", \"2\", \"2\", \"2\", \"2\", \"2\", \"2\", \"2\", \"2\", \"2\", \"3\", \"3\", \"1\", \"2\", \"2\", \"1\", \"3\", \"1\", \"2\", \"2\", \"2\", \"2\", \"2\", \"2\", \"3\", \"2\", \"3\", \"2\", \"2\", \"2\", \"3\", \"2\", \"2\", \"2\", \"1\", \"2\", \"1\", \"1\", \"1\", \"3\", \"2\", \"2\", \"3\", \"3\", \"3\", \"3\", \"3\", \"2\", \"1\", \"1\", \"3\", \"2\", \"2\", \"1\", \"1\", \"2\", \"2\", \"2\", \"2\", \"2\", \"2\", \"3\", \"2\", \"2\", \"2\", \"2\", \"2\", \"2\", \"2\", \"1\", \"2\", \"2\", \"2\", \"3\", \"3\", \"2\", \"2\", \"2\", \"2\", \"2\", \"2\", \"2\", \"2\", \"2\", \"2\", \"2\", \"2\", \"3\", \"3\", \"1\", \"3\", \"1\", \"2\", \"2\", \"2\", \"2\", \"2\", \"2\", \"2\", \"2\", \"2\", \"2\", \"1\", \"2\", \"2\", \"2\", \"2\", \"2\", \"2\", \"2\", \"2\", \"2\", \"2\", \"3\", \"2\", \"2\", \"1\", \"2\", \"3\", \"2\", \"2\", \"1\", \"1\", \"2\", \"2\", \"2\", \"2\", \"2\", \"2\", \"2\", \"2\", \"2\", \"2\", \"3\", \"2\", \"2\", \"2\", \"2\", \"2\", \"2\", \"2\", \"2\", \"2\", \"2\", \"2\", \"2\", \"2\", \"3\", \"2\", \"2\", \"2\", \"2\", \"2\", \"2\", \"1\", \"1\", \"1\", \"2\", \"3\", \"2\", \"3\", \"2\", \"2\", \"1\", \"1\", \"1\", \"1\", \"2\", \"2\", \"2\", \"2\", \"2\", \"2\", \"2\", \"3\", \"2\", \"2\", \"2\", \"2\", \"2\", \"2\", \"2\", \"2\", \"2\", \"2\", \"2\", \"3\", \"2\", \"2\", \"3\", \"3\", \"2\", \"1\", \"2\", \"2\", \"2\", \"2\", \"2\", \"2\", \"3\", \"2\", \"2\", \"2\", \"2\", \"1\", \"3\", \"3\", \"2\", \"2\", \"2\", \"2\", \"2\", \"2\", \"2\", \"1\", \"2\", \"1\", \"2\", \"3\", \"2\", \"2\", \"1\", \"1\", \"2\", \"3\", \"2\", \"2\", \"2\", \"2\", \"2\", \"1\", \"2\", \"1\", \"1\", \"1\", \"2\", \"2\", \"1\", \"1\", \"2\", \"1\", \"2\", \"2\", \"2\", \"2\", \"3\", \"2\", \"2\", \"2\", \"2\", \"2\", \"2\", \"2\", \"3\", \"2\", \"2\", \"3\", \"2\", \"2\", \"2\", \"2\", \"2\", \"3\", \"2\", \"2\", \"2\", \"2\", \"2\", \"2\", \"3\", \"2\", \"2\", \"2\", \"3\", \"2\", \"2\", \"3\", \"3\", \"2\", \"2\", \"2\", \"2\", \"2\", \"3\", \"3\", \"2\", \"3\", \"3\", \"2\", \"2\", \"2\", \"2\", \"2\", \"3\", \"1\", \"3\", \"2\", \"3\", \"3\", \"2\", \"3\", \"3\", \"3\", \"2\", \"2\", \"2\", \"2\", \"2\", \"2\", \"2\", \"3\", \"2\", \"3\", \"2\", \"2\", \"2\", \"1\", \"1\", \"1\", \"2\", \"2\", \"3\", \"3\", \"3\", \"3\", \"2\", \"2\", \"2\", \"3\", \"2\", \"2\", \"3\", \"2\", \"3\", \"2\", \"1\", \"2\", \"2\", \"2\", \"2\", \"2\", \"2\", \"2\", \"2\", \"1\", \"2\", \"3\", \"2\", \"2\", \"2\", \"2\", \"2\", \"3\", \"3\", \"2\", \"1\", \"2\", \"1\", \"1\", \"2\", \"3\", \"2\", \"2\", \"1\", \"1\", \"2\", \"2\", \"2\", \"2\", \"3\", \"2\", \"1\", \"3\", \"2\", \"2\", \"1\", \"2\", \"2\", \"3\", \"2\", \"1\", \"3\", \"2\", \"2\", \"2\", \"1\", \"2\", \"3\", \"2\", \"2\", \"1\", \"2\", \"2\", \"2\", \"2\", \"2\", \"2\", \"2\", \"2\", \"2\", \"2\", \"2\", \"1\", \"1\", \"2\", \"1\", \"2\", \"1\", \"2\", \"2\", \"1\", \"2\", \"1\", \"1\", \"1\", \"1\", \"1\", \"3\", \"1\", \"2\", \"2\", \"2\", \"3\", \"3\", \"2\", \"2\", \"2\", \"2\", \"2\", \"2\", \"2\", \"2\", \"3\", \"3\", \"2\", \"3\", \"1\", \"2\", \"2\", \"3\", \"2\", \"3\", \"2\", \"2\", \"2\", \"2\", \"2\", \"2\", \"2\", \"1\", \"1\", \"2\", \"2\", \"3\", \"2\", \"2\", \"2\", \"2\", \"2\", \"1\", \"2\", \"2\", \"2\", \"2\", \"2\", \"2\", \"2\", \"2\", \"2\", \"2\", \"3\", \"2\", \"2\", \"3\", \"2\", \"3\", \"2\", \"2\", \"2\", \"1\", \"3\", \"2\", \"2\", \"2\", \"2\", \"2\", \"2\", \"2\", \"2\", \"2\", \"1\", \"3\", \"2\", \"2\", \"2\", \"2\", \"2\", \"3\", \"2\", \"2\", \"2\", \"1\", \"1\", \"2\", \"2\", \"2\", \"2\", \"2\", \"2\", \"2\", \"2\", \"3\", \"2\", \"2\", \"2\", \"2\", \"3\", \"2\", \"2\", \"2\", \"2\", \"1\", \"2\", \"2\", \"3\", \"3\", \"2\", \"3\", \"2\", \"2\", \"2\", \"2\", \"1\", \"2\", \"2\", \"2\", \"2\", \"1\", \"2\", \"2\", \"1\", \"3\", \"2\", \"2\", \"2\", \"2\", \"2\", \"2\", \"2\", \"2\", \"2\", \"1\", \"2\", \"2\", \"2\", \"2\", \"2\", \"3\", \"2\", \"2\", \"2\", \"2\", \"2\", \"2\", \"2\", \"2\", \"2\", \"2\", \"2\", \"2\", \"2\", \"2\", \"2\", \"3\", \"2\", \"2\", \"2\", \"2\", \"2\", \"2\", \"2\", \"2\", \"2\", \"2\", \"1\", \"3\", \"1\", \"2\", \"3\", \"3\", \"2\", \"3\", \"2\", \"2\", \"2\", \"2\", \"2\", \"2\", \"2\", \"1\", \"2\", \"1\", \"3\", \"3\", \"2\", \"3\", \"1\", \"2\", \"3\", \"1\", \"2\", \"2\", \"2\", \"2\", \"2\", \"3\", \"2\", \"3\", \"2\", \"2\", \"2\", \"2\", \"2\", \"2\", \"1\", \"1\", \"2\", \"2\", \"3\", \"2\", \"2\", \"1\", \"1\", \"2\", \"2\", \"1\", \"3\", \"2\", \"2\", \"2\", \"2\", \"2\", \"1\", \"2\", \"2\", \"3\", \"2\", \"3\", \"3\", \"3\", \"2\", \"1\", \"2\", \"3\", \"2\", \"2\", \"2\", \"2\", \"2\", \"2\", \"2\", \"2\", \"2\", \"2\", \"2\", \"2\", \"2\", \"2\", \"2\", \"2\", \"2\", \"2\", \"2\", \"3\", \"2\", \"1\", \"2\", \"1\", \"1\", \"3\", \"1\", \"2\", \"2\", \"1\", \"1\", \"2\", \"3\", \"2\", \"2\", \"2\", \"2\", \"2\", \"2\", \"2\", \"2\", \"2\", \"2\", \"2\", \"2\", \"2\", \"2\", \"2\", \"2\", \"2\", \"2\", \"2\", \"2\", \"2\", \"2\", \"3\", \"3\", \"2\", \"1\", \"3\", \"2\", \"2\", \"3\", \"2\", \"2\", \"2\", \"2\", \"2\", \"2\", \"2\", \"2\", \"2\", \"2\", \"2\", \"2\", \"2\", \"2\", \"3\", \"2\", \"2\", \"3\", \"2\", \"2\", \"1\", \"1\", \"2\", \"2\", \"2\", \"2\", \"2\", \"2\", \"2\", \"2\", \"2\", \"2\", \"3\", \"2\", \"2\", \"2\", \"2\", \"2\", \"2\", \"3\", \"3\", \"2\", \"2\", \"2\", \"2\", \"1\", \"2\", \"2\", \"2\", \"2\", \"2\", \"2\", \"2\", \"2\", \"2\", \"1\", \"2\", \"2\", \"2\", \"2\", \"2\", \"1\", \"2\", \"2\", \"2\", \"2\", \"3\", \"2\", \"2\", \"2\", \"1\", \"1\", \"1\", \"1\", \"2\", \"2\", \"2\", \"2\", \"1\", \"2\", \"2\", \"2\", \"2\", \"2\", \"2\", \"1\", \"2\", \"3\", \"3\", \"2\", \"2\", \"2\", \"1\", \"2\", \"2\", \"2\", \"2\", \"2\", \"2\", \"2\", \"2\", \"2\", \"2\", \"2\", \"2\", \"2\", \"1\", \"2\", \"2\", \"2\", \"2\", \"2\", \"2\", \"2\", \"1\", \"1\", \"1\", \"1\", \"1\", \"1\", \"1\", \"2\", \"2\", \"2\", \"2\", \"2\", \"2\", \"1\", \"2\", \"2\", \"2\", \"3\", \"3\", \"2\", \"2\", \"2\", \"2\", \"1\", \"1\", \"3\", \"3\", \"1\", \"3\", \"2\", \"1\", \"1\", \"3\", \"3\", \"1\", \"1\", \"2\", \"1\", \"2\", \"2\", \"2\", \"3\", \"3\", \"2\", \"2\", \"2\", \"2\", \"2\", \"2\", \"2\", \"2\", \"2\", \"3\", \"2\", \"3\", \"2\", \"2\", \"2\", \"2\", \"2\", \"2\", \"2\", \"2\", \"2\", \"2\", \"2\", \"2\", \"2\", \"2\", \"3\", \"2\", \"3\", \"3\", \"2\", \"2\", \"2\", \"2\", \"3\", \"2\", \"2\", \"2\", \"2\", \"2\", \"3\", \"2\", \"2\", \"3\", \"1\", \"2\", \"1\", \"3\", \"1\", \"1\", \"2\", \"3\", \"2\", \"1\", \"1\", \"1\", \"3\", \"3\", \"1\", \"2\", \"2\", \"2\", \"2\", \"2\", \"3\", \"1\", \"2\", \"2\", \"2\", \"3\", \"2\", \"2\", \"2\", \"2\", \"1\", \"2\", \"2\", \"2\", \"2\", \"2\", \"2\", \"2\", \"2\", \"2\", \"2\", \"2\", \"2\", \"2\", \"2\", \"3\", \"2\", \"2\", \"2\", \"2\", \"2\", \"2\", \"2\", \"2\", \"2\", \"3\", \"3\", \"3\", \"2\", \"2\", \"2\", \"3\", \"2\", \"2\", \"3\", \"2\", \"2\", \"2\", \"2\", \"2\", \"2\", \"2\", \"2\", \"2\", \"2\", \"2\", \"2\", \"2\", \"2\", \"3\", \"2\", \"2\", \"2\", \"3\", \"2\", \"2\", \"2\", \"2\", \"2\", \"2\", \"1\", \"1\", \"2\", \"3\", \"3\", \"3\", \"1\", \"3\", \"2\", \"2\", \"2\", \"2\", \"2\", \"1\", \"2\", \"2\", \"2\", \"2\", \"1\", \"2\", \"2\", \"2\", \"1\", \"2\", \"2\", \"2\", \"1\", \"1\", \"2\", \"2\", \"2\", \"3\", \"2\", \"3\", \"2\", \"2\", \"1\", \"1\", \"2\", \"2\", \"1\", \"2\", \"2\", \"2\", \"3\", \"3\", \"2\", \"1\", \"1\", \"3\", \"2\", \"2\", \"2\", \"2\", \"2\", \"2\", \"2\", \"2\", \"2\", \"1\", \"2\", \"2\", \"3\", \"2\", \"2\", \"2\", \"2\", \"2\", \"3\", \"3\", \"2\", \"1\", \"2\", \"2\", \"2\", \"2\", \"2\", \"2\", \"2\", \"2\", \"2\", \"2\", \"2\", \"2\", \"2\", \"2\", \"2\", \"2\", \"3\", \"2\", \"2\", \"2\", \"2\", \"2\", \"2\", \"2\", \"2\", \"3\", \"2\", \"2\", \"2\", \"2\", \"2\", \"2\", \"2\", \"2\", \"2\", \"2\", \"2\", \"1\", \"2\", \"3\", \"2\", \"2\", \"2\", \"2\", \"3\", \"2\", \"2\", \"2\", \"2\", \"2\", \"2\", \"1\", \"3\", \"2\", \"2\", \"2\", \"2\", \"2\", \"2\", \"2\", \"3\", \"2\", \"2\", \"3\", \"2\", \"1\", \"1\", \"1\", \"2\", \"2\", \"1\", \"3\", \"2\", \"2\", \"2\", \"2\", \"2\", \"1\", \"2\", \"1\", \"2\", \"2\", \"2\", \"2\", \"1\", \"3\", \"1\", \"1\", \"2\", \"2\", \"1\", \"2\", \"1\", \"3\", \"2\", \"2\", \"2\", \"2\", \"2\", \"2\", \"2\", \"2\", \"2\", \"2\", \"2\", \"3\", \"2\", \"2\", \"2\", \"3\", \"2\", \"2\", \"1\", \"1\", \"3\", \"2\", \"2\", \"2\", \"3\", \"1\", \"2\", \"2\", \"2\", \"2\", \"2\", \"1\", \"2\", \"2\", \"2\", \"2\", \"2\", \"2\", \"2\", \"3\", \"3\", \"2\", \"3\", \"2\", \"2\", \"2\", \"2\", \"2\", \"2\", \"2\", \"2\", \"2\", \"2\", \"2\", \"2\", \"2\", \"1\", \"2\", \"2\", \"2\", \"2\", \"2\", \"2\", \"2\", \"1\", \"2\", \"2\", \"2\", \"2\", \"2\", \"3\", \"3\", \"2\", \"2\", \"2\", \"2\", \"2\", \"2\", \"1\", \"2\", \"3\", \"2\", \"2\", \"1\", \"2\", \"3\", \"2\", \"2\", \"3\", \"3\", \"2\", \"3\", \"2\", \"2\", \"2\", \"2\", \"2\", \"3\", \"2\", \"1\", \"2\", \"1\", \"2\", \"1\", \"2\", \"2\", \"2\", \"2\", \"1\", \"2\", \"2\", \"1\", \"2\", \"1\", \"1\", \"3\", \"3\", \"1\", \"1\", \"2\", \"3\", \"2\", \"1\", \"1\", \"1\", \"1\", \"1\", \"1\", \"1\", \"2\", \"3\", \"2\", \"2\", \"2\", \"2\", \"2\", \"2\", \"2\", \"2\", \"2\", \"2\", \"2\", \"2\", \"2\", \"2\", \"2\", \"2\", \"3\", \"2\", \"2\", \"2\", \"2\", \"2\", \"2\", \"2\", \"3\", \"2\", \"2\", \"3\", \"3\", \"2\", \"3\", \"3\", \"3\", \"2\", \"2\", \"2\", \"2\", \"2\", \"3\", \"2\", \"3\", \"2\", \"2\", \"2\", \"3\", \"2\", \"2\", \"2\", \"2\", \"2\", \"2\", \"2\", \"2\", \"2\", \"3\", \"2\", \"2\", \"2\", \"2\", \"2\", \"2\", \"3\", \"2\", \"2\", \"2\", \"2\", \"2\", \"2\", \"2\", \"2\", \"2\", \"3\", \"2\", \"1\", \"3\", \"1\", \"2\", \"3\", \"2\", \"2\", \"2\", \"2\", \"2\", \"2\", \"2\", \"2\", \"1\", \"2\", \"2\", \"2\", \"2\", \"2\", \"2\", \"1\", \"2\", \"2\", \"2\", \"2\", \"1\", \"2\", \"3\", \"1\", \"2\", \"2\", \"2\", \"3\", \"2\", \"2\", \"1\", \"3\", \"2\", \"2\", \"1\", \"1\", \"1\", \"1\", \"1\", \"2\", \"1\", \"2\", \"2\", \"2\", \"1\", \"1\", \"1\", \"2\", \"2\", \"3\", \"2\", \"2\", \"2\", \"2\", \"2\", \"2\", \"2\", \"2\", \"3\", \"2\", \"2\", \"3\", \"2\", \"2\", \"2\", \"2\", \"2\", \"2\", \"3\", \"2\", \"2\", \"3\", \"2\", \"2\", \"3\", \"2\", \"2\", \"2\", \"2\", \"2\", \"2\", \"2\", \"3\", \"2\", \"1\", \"2\", \"2\", \"2\", \"2\", \"3\", \"2\", \"3\", \"2\", \"2\", \"2\", \"2\", \"2\", \"2\", \"2\", \"2\", \"2\", \"2\", \"1\", \"1\", \"2\", \"2\", \"2\", \"2\", \"2\", \"2\", \"2\", \"2\", \"2\", \"2\", \"3\", \"3\", \"2\", \"2\", \"2\", \"2\", \"2\", \"3\", \"3\", \"3\", \"2\", \"2\", \"2\", \"2\", \"2\", \"2\", \"2\", \"3\", \"2\", \"2\", \"2\", \"2\", \"3\", \"2\", \"2\", \"2\", \"2\", \"3\", \"2\", \"2\", \"3\", \"1\", \"3\", \"2\", \"2\", \"2\", \"2\", \"1\", \"2\", \"1\", \"1\", \"3\", \"2\", \"1\", \"1\", \"2\", \"2\", \"2\", \"2\", \"2\", \"1\", \"2\", \"1\", \"2\", \"2\", \"2\", \"1\", \"1\", \"2\", \"2\", \"2\", \"2\", \"3\", \"2\", \"2\", \"1\", \"1\", \"1\", \"1\", \"2\", \"2\", \"2\", \"2\", \"2\", \"2\", \"2\", \"2\", \"2\", \"2\", \"1\", \"2\", \"2\", \"2\", \"3\", \"2\", \"2\", \"2\", \"2\", \"2\", \"2\", \"2\", \"2\", \"2\", \"2\", \"2\", \"2\", \"3\", \"2\", \"3\", \"2\", \"2\", \"2\", \"2\", \"2\", \"2\", \"2\", \"2\", \"2\", \"2\", \"2\", \"2\", \"2\", \"2\", \"2\", \"2\", \"2\", \"3\", \"2\", \"1\", \"2\", \"2\", \"2\", \"2\", \"2\", \"2\", \"2\", \"2\", \"2\", \"2\", \"3\", \"2\", \"2\", \"3\", \"2\", \"3\", \"2\", \"2\", \"3\", \"2\", \"2\", \"2\", \"2\", \"2\", \"2\", \"1\", \"2\", \"2\", \"2\", \"2\", \"1\", \"1\", \"1\", \"2\", \"1\", \"1\", \"1\", \"2\", \"1\", \"3\", \"1\", \"1\", \"1\", \"2\", \"3\", \"2\", \"1\", \"2\", \"2\", \"1\", \"2\", \"1\", \"1\", \"2\", \"2\", \"1\", \"2\", \"2\", \"2\", \"2\", \"2\", \"2\", \"3\", \"2\", \"2\", \"1\", \"2\", \"2\", \"3\", \"2\", \"2\", \"3\", \"2\", \"3\", \"2\", \"2\", \"3\", \"2\", \"3\", \"3\", \"3\", \"2\", \"3\", \"2\", \"2\", \"2\", \"2\", \"3\", \"3\", \"2\", \"2\", \"2\", \"2\", \"1\", \"2\", \"2\", \"2\", \"2\", \"3\", \"2\", \"2\", \"2\", \"2\", \"1\", \"1\", \"1\", \"1\", \"2\", \"2\", \"3\", \"2\", \"2\", \"2\", \"2\", \"3\", \"2\", \"2\", \"2\", \"2\", \"2\", \"2\", \"3\", \"2\", \"2\", \"2\", \"2\", \"2\", \"3\", \"2\", \"2\", \"2\", \"2\", \"2\", \"2\", \"2\", \"3\", \"2\", \"2\", \"2\", \"2\", \"2\", \"2\", \"2\", \"3\", \"2\", \"2\", \"2\", \"3\", \"2\", \"2\", \"2\", \"2\", \"2\", \"2\", \"2\", \"2\", \"2\", \"2\", \"2\", \"2\", \"2\", \"3\", \"2\", \"3\", \"1\", \"2\", \"1\", \"1\", \"1\", \"1\", \"2\", \"1\", \"2\", \"2\", \"2\", \"1\", \"2\", \"1\", \"1\", \"1\", \"1\", \"2\", \"2\", \"2\", \"2\", \"3\", \"2\", \"2\", \"1\", \"3\", \"1\", \"2\", \"2\", \"2\", \"2\", \"2\", \"2\", \"2\", \"2\", \"2\", \"2\", \"2\", \"3\", \"3\", \"2\", \"2\", \"2\", \"2\", \"2\", \"2\", \"2\", \"2\", \"2\", \"3\", \"2\", \"3\", \"3\", \"2\", \"2\", \"3\", \"2\", \"3\", \"3\", \"2\", \"3\", \"2\", \"2\", \"2\", \"2\", \"2\", \"2\", \"2\", \"3\", \"2\", \"2\", \"2\", \"2\", \"2\", \"3\", \"2\", \"2\", \"3\", \"2\", \"2\", \"2\", \"2\", \"1\", \"3\", \"2\", \"2\", \"2\", \"3\", \"3\", \"2\", \"2\", \"2\", \"3\", \"3\", \"2\", \"3\", \"3\", \"3\", \"3\", \"1\", \"2\", \"2\", \"2\", \"2\", \"2\", \"2\", \"2\", \"2\", \"2\", \"2\", \"2\", \"2\", \"2\", \"2\", \"2\", \"2\", \"2\", \"2\", \"2\", \"1\", \"2\", \"2\", \"2\", \"2\", \"2\", \"2\", \"3\", \"2\", \"1\", \"2\", \"2\", \"1\", \"1\", \"3\", \"2\", \"2\", \"2\", \"1\", \"2\", \"1\", \"2\", \"1\", \"1\", \"2\", \"2\", \"1\", \"2\", \"2\", \"2\", \"2\", \"2\", \"2\", \"2\", \"2\", \"2\", \"3\", \"3\", \"1\", \"1\", \"1\", \"2\", \"2\", \"2\", \"2\", \"3\", \"1\", \"2\", \"2\", \"2\", \"1\", \"2\", \"2\", \"2\", \"2\", \"3\", \"2\", \"2\", \"2\", \"2\", \"1\", \"2\", \"2\", \"2\", \"2\", \"2\", \"2\", \"2\", \"2\", \"2\", \"3\", \"2\", \"3\", \"2\", \"2\", \"2\", \"1\", \"2\", \"2\", \"2\", \"2\", \"2\", \"1\", \"3\", \"2\", \"2\", \"2\", \"2\", \"2\", \"3\", \"2\", \"2\", \"2\", \"2\", \"2\", \"3\", \"2\", \"2\", \"2\", \"2\", \"2\", \"3\", \"2\", \"3\", \"2\", \"2\", \"2\", \"2\", \"1\", \"1\", \"2\", \"2\", \"2\", \"2\", \"2\", \"3\", \"3\", \"3\", \"2\", \"2\", \"2\", \"2\", \"2\", \"2\", \"2\", \"2\", \"2\", \"3\", \"2\", \"3\", \"2\", \"3\", \"2\", \"2\", \"2\", \"2\", \"3\", \"2\", \"2\", \"2\", \"2\", \"3\", \"2\", \"2\", \"3\", \"1\", \"2\", \"2\", \"1\", \"1\", \"2\", \"2\", \"2\", \"1\", \"1\", \"3\", \"1\", \"2\", \"1\", \"2\", \"2\", \"2\", \"2\", \"2\", \"3\", \"1\", \"2\", \"2\", \"1\", \"1\", \"2\", \"2\", \"2\", \"2\", \"2\", \"2\", \"2\", \"2\", \"2\", \"2\", \"2\", \"2\", \"2\", \"2\", \"3\", \"3\", \"2\", \"2\", \"2\", \"2\", \"2\", \"3\", \"3\", \"3\", \"3\", \"3\", \"2\", \"2\", \"2\", \"2\", \"2\", \"1\", \"1\", \"1\", \"2\", \"1\", \"2\", \"2\", \"3\", \"2\", \"2\", \"2\", \"2\", \"2\", \"2\", \"2\", \"1\", \"3\", \"2\", \"2\", \"2\", \"3\", \"2\", \"2\", \"2\", \"2\", \"2\", \"2\", \"2\", \"2\", \"2\", \"2\", \"2\", \"3\", \"2\", \"2\", \"2\", \"2\", \"2\", \"3\", \"3\", \"3\", \"2\", \"1\", \"2\", \"2\", \"2\", \"2\", \"2\", \"2\", \"1\", \"2\", \"2\", \"2\", \"2\", \"2\", \"2\", \"2\", \"1\", \"3\", \"3\", \"1\", \"2\", \"2\", \"2\", \"2\", \"2\", \"3\", \"3\", \"2\", \"1\", \"2\", \"1\", \"2\", \"2\", \"2\", \"2\", \"3\", \"2\", \"3\", \"3\", \"3\", \"3\", \"2\", \"2\", \"2\", \"2\", \"3\", \"2\", \"2\", \"2\", \"1\", \"2\", \"2\", \"2\", \"2\", \"2\", \"2\", \"2\", \"2\", \"2\", \"1\", \"2\", \"2\", \"1\", \"1\", \"2\", \"2\", \"3\", \"1\", \"2\", \"1\", \"2\", \"2\", \"2\", \"3\", \"3\", \"2\", \"2\", \"2\", \"2\", \"3\", \"2\", \"2\", \"2\", \"1\", \"2\", \"3\", \"2\", \"2\", \"3\", \"2\", \"1\", \"2\", \"2\", \"2\", \"2\", \"3\", \"3\", \"2\", \"2\", \"3\", \"2\", \"2\", \"2\", \"2\", \"2\", \"2\", \"2\", \"2\", \"2\", \"2\", \"2\", \"3\", \"2\", \"2\", \"3\", \"3\", \"2\", \"3\", \"2\", \"2\", \"1\", \"2\", \"2\", \"2\", \"2\", \"2\", \"2\", \"2\", \"1\", \"2\", \"2\", \"2\", \"2\", \"2\", \"2\", \"2\", \"2\", \"2\", \"3\", \"2\", \"2\", \"2\", \"3\", \"3\", \"3\", \"2\", \"2\", \"2\", \"2\", \"3\", \"2\", \"2\", \"2\", \"3\", \"2\", \"2\", \"2\", \"2\", \"2\", \"2\", \"2\", \"2\", \"2\", \"3\", \"2\", \"3\", \"2\", \"2\", \"2\", \"3\", \"3\", \"1\", \"2\", \"2\", \"1\", \"1\", \"2\", \"2\", \"1\", \"1\", \"2\", \"2\", \"2\", \"2\", \"3\", \"3\", \"1\", \"1\", \"1\", \"3\", \"3\", \"1\", \"2\", \"2\", \"2\", \"2\", \"2\", \"3\", \"3\", \"2\", \"2\", \"2\", \"1\", \"3\", \"2\", \"2\", \"2\", \"2\", \"3\", \"2\", \"3\", \"2\", \"2\", \"1\", \"2\", \"2\", \"2\", \"2\", \"2\", \"2\", \"2\", \"2\", \"3\", \"1\", \"3\", \"2\", \"2\", \"3\", \"2\", \"2\", \"1\", \"1\", \"1\", \"1\", \"3\", \"3\", \"2\", \"3\", \"3\", \"2\", \"2\", \"3\", \"2\", \"2\", \"2\", \"1\", \"1\", \"2\", \"2\", \"2\", \"1\", \"2\", \"2\", \"2\", \"3\", \"1\", \"1\", \"1\", \"3\", \"2\", \"2\", \"2\", \"2\", \"2\", \"2\", \"2\", \"2\", \"2\", \"2\", \"3\", \"2\", \"2\", \"2\", \"2\", \"2\", \"2\", \"3\", \"2\", \"2\", \"2\", \"2\", \"2\", \"2\", \"2\", \"2\", \"2\", \"2\", \"2\", \"2\", \"2\", \"2\", \"3\", \"3\", \"2\", \"1\", \"3\", \"2\", \"2\", \"2\", \"1\", \"2\", \"2\", \"2\", \"2\", \"1\", \"1\", \"1\", \"1\", \"2\", \"2\", \"2\", \"2\", \"2\", \"3\", \"2\", \"2\", \"2\", \"1\", \"2\", \"1\", \"1\", \"1\", \"2\", \"2\", \"1\", \"2\", \"2\", \"2\", \"2\", \"2\", \"2\", \"2\", \"1\", \"2\", \"2\", \"3\", \"2\", \"2\", \"2\", \"2\", \"2\", \"2\", \"2\", \"2\", \"1\", \"1\", \"3\", \"2\", \"2\", \"2\", \"3\", \"2\", \"2\", \"1\", \"2\", \"2\", \"2\", \"2\", \"2\", \"2\", \"2\", \"3\", \"3\", \"2\", \"2\", \"2\", \"2\", \"2\", \"2\", \"2\", \"2\", \"3\", \"1\", \"3\", \"3\", \"2\", \"2\", \"2\", \"3\", \"2\", \"2\", \"2\", \"2\", \"1\", \"2\", \"2\", \"2\", \"2\", \"2\", \"2\", \"2\", \"2\", \"2\", \"3\", \"2\", \"2\", \"2\", \"1\", \"2\", \"3\", \"2\", \"2\", \"2\", \"2\", \"1\", \"2\", \"2\", \"2\", \"2\", \"2\", \"2\", \"2\", \"2\", \"2\", \"1\", \"2\", \"1\", \"3\", \"3\", \"2\", \"3\", \"1\", \"2\", \"3\", \"2\", \"2\", \"3\", \"2\", \"2\", \"3\", \"2\", \"2\", \"2\", \"2\", \"2\", \"2\", \"2\", \"2\", \"2\", \"2\", \"2\", \"2\", \"2\", \"2\", \"2\", \"2\", \"2\", \"2\", \"2\", \"2\", \"2\", \"3\", \"2\", \"1\", \"2\", \"3\", \"2\", \"2\", \"2\", \"2\", \"2\", \"2\", \"2\", \"2\", \"1\", \"2\", \"2\", \"2\", \"2\", \"3\", \"1\", \"2\", \"2\", \"2\", \"2\", \"2\", \"2\", \"3\", \"3\", \"3\", \"2\", \"1\", \"2\", \"2\", \"2\", \"2\", \"2\", \"2\", \"3\", \"2\", \"2\", \"3\", \"2\", \"2\", \"2\", \"2\", \"2\", \"2\", \"2\", \"3\", \"2\", \"2\", \"2\", \"2\", \"2\", \"2\", \"1\", \"2\", \"2\", \"1\", \"2\", \"2\", \"2\", \"2\", \"2\", \"2\", \"2\", \"2\", \"2\", \"2\", \"2\", \"1\", \"3\", \"2\", \"2\", \"2\", \"2\", \"2\", \"2\", \"1\", \"2\", \"2\", \"2\", \"1\", \"1\", \"1\", \"1\", \"2\", \"2\", \"1\", \"1\", \"1\", \"2\", \"2\", \"2\", \"2\", \"3\", \"2\", \"1\", \"2\", \"1\", \"2\", \"2\", \"2\", \"2\", \"2\", \"2\", \"2\", \"2\", \"2\", \"2\", \"2\", \"2\", \"3\", \"2\", \"2\", \"3\", \"2\", \"2\", \"2\", \"2\", \"2\", \"2\", \"2\", \"2\", \"2\", \"2\", \"2\", \"2\", \"1\", \"1\", \"2\", \"2\", \"2\", \"2\", \"1\", \"2\", \"2\", \"2\", \"2\", \"3\", \"2\", \"2\", \"2\", \"2\", \"2\", \"2\", \"2\", \"3\", \"2\", \"2\", \"2\", \"2\", \"2\", \"3\", \"2\", \"3\", \"2\", \"1\", \"3\", \"3\", \"2\", \"1\", \"2\", \"1\", \"2\", \"2\", \"3\", \"2\", \"2\", \"2\", \"2\", \"2\", \"2\", \"2\", \"1\", \"1\", \"2\", \"2\", \"2\", \"2\", \"2\", \"2\", \"2\", \"2\", \"2\", \"2\", \"1\", \"2\", \"2\", \"3\", \"2\", \"2\", \"3\", \"2\", \"2\", \"2\", \"1\", \"1\", \"1\", \"2\", \"2\", \"2\", \"3\", \"2\", \"2\", \"3\", \"2\", \"2\", \"2\", \"2\", \"2\", \"3\", \"2\", \"1\", \"2\", \"2\", \"1\", \"1\", \"2\", \"2\", \"2\", \"2\", \"1\", \"2\", \"3\", \"3\", \"2\", \"2\", \"2\", \"2\", \"2\", \"2\", \"2\", \"2\", \"2\", \"2\", \"1\", \"2\", \"2\", \"2\", \"2\", \"2\", \"3\", \"3\", \"2\", \"2\", \"2\", \"2\", \"2\", \"3\", \"2\", \"2\", \"3\", \"2\", \"1\", \"1\", \"2\", \"2\", \"2\", \"1\", \"2\", \"2\", \"2\", \"2\", \"1\", \"1\", \"2\", \"2\", \"2\", \"1\", \"2\", \"3\", \"2\", \"2\", \"2\", \"2\", \"2\", \"2\", \"2\", \"2\", \"2\", \"1\", \"2\", \"3\", \"2\", \"2\", \"2\", \"2\", \"2\", \"2\", \"1\", \"2\", \"2\", \"3\", \"2\", \"2\", \"2\", \"2\", \"3\", \"2\", \"2\", \"1\", \"2\", \"2\", \"2\", \"2\", \"2\", \"2\", \"2\", \"2\", \"2\", \"2\", \"3\", \"2\", \"3\", \"2\", \"2\", \"3\", \"2\", \"2\", \"2\", \"2\", \"1\", \"1\", \"2\", \"2\", \"2\", \"2\", \"2\", \"2\", \"1\", \"2\", \"2\", \"2\", \"2\", \"1\", \"2\", \"3\", \"2\", \"2\", \"2\", \"2\", \"1\", \"2\", \"2\", \"2\", \"2\", \"2\", \"2\", \"2\", \"2\", \"2\", \"3\", \"2\", \"2\", \"3\", \"2\", \"2\", \"2\", \"1\", \"2\", \"1\", \"1\", \"2\", \"2\", \"2\", \"2\", \"2\", \"2\", \"2\", \"2\", \"2\", \"2\", \"2\", \"3\", \"2\", \"2\", \"2\", \"2\", \"2\", \"2\", \"2\", \"2\", \"2\", \"2\", \"2\", \"3\", \"1\", \"2\", \"2\", \"2\", \"3\", \"2\", \"2\", \"2\", \"3\", \"2\", \"3\", \"2\", \"2\", \"2\", \"2\", \"2\", \"2\", \"2\", \"1\", \"2\", \"2\", \"2\", \"2\", \"1\", \"3\", \"2\", \"2\", \"2\", \"2\", \"3\", \"2\", \"2\", \"2\", \"2\", \"1\", \"2\", \"1\", \"1\", \"1\", \"2\", \"2\", \"1\", \"1\", \"1\", \"2\", \"2\", \"2\", \"2\", \"2\", \"1\", \"3\", \"1\", \"1\", \"1\", \"3\", \"2\", \"1\", \"3\", \"2\", \"2\", \"2\", \"3\", \"3\", \"2\", \"3\", \"2\", \"2\", \"2\", \"2\", \"3\", \"2\", \"2\", \"2\", \"2\", \"2\", \"2\", \"2\", \"2\", \"2\", \"3\", \"2\", \"2\", \"3\", \"2\", \"2\", \"2\", \"1\", \"2\", \"2\", \"2\", \"2\", \"2\", \"2\", \"2\", \"2\", \"1\", \"2\", \"2\", \"2\", \"3\", \"2\", \"2\", \"2\", \"2\", \"2\", \"2\", \"2\", \"1\", \"3\", \"2\", \"3\", \"1\", \"2\", \"2\", \"2\", \"2\", \"2\", \"2\", \"2\", \"2\", \"2\", \"2\", \"1\", \"2\", \"3\", \"3\", \"3\", \"2\", \"2\", \"2\", \"2\", \"2\", \"3\", \"3\", \"2\", \"2\", \"1\", \"2\", \"2\", \"2\", \"2\", \"2\", \"2\", \"2\", \"2\", \"1\", \"2\", \"1\", \"3\", \"3\", \"2\", \"2\", \"2\", \"2\", \"2\", \"2\", \"2\", \"3\", \"2\", \"2\", \"2\", \"2\", \"2\", \"2\", \"2\", \"2\", \"2\", \"2\", \"2\", \"2\", \"2\", \"2\", \"2\", \"2\", \"2\", \"3\", \"2\", \"2\", \"2\", \"2\", \"2\", \"3\", \"3\", \"2\", \"2\", \"3\", \"2\", \"2\", \"3\", \"2\", \"3\", \"2\", \"2\", \"2\", \"3\", \"2\", \"2\", \"1\", \"3\", \"1\", \"3\", \"3\", \"2\", \"2\", \"2\", \"2\", \"2\", \"2\", \"2\", \"2\", \"3\", \"2\", \"2\", \"2\", \"2\", \"2\", \"2\", \"2\", \"2\", \"2\", \"2\", \"2\", \"2\", \"2\", \"2\", \"2\", \"2\", \"1\", \"2\", \"2\", \"3\", \"2\", \"2\", \"2\", \"3\", \"3\", \"2\", \"2\", \"2\", \"2\", \"2\", \"2\", \"2\", \"2\", \"2\", \"2\", \"2\", \"2\", \"2\", \"2\", \"3\", \"2\", \"2\", \"3\", \"2\", \"2\", \"2\", \"2\", \"2\", \"2\", \"3\", \"2\", \"2\", \"2\", \"2\", \"2\", \"3\", \"2\", \"2\", \"3\", \"3\", \"1\", \"1\", \"1\", \"2\", \"1\", \"1\", \"2\", \"1\", \"2\", \"2\", \"1\", \"2\", \"3\", \"2\", \"1\", \"1\", \"2\", \"2\", \"2\", \"2\", \"2\", \"2\", \"2\", \"2\", \"3\", \"2\", \"2\", \"3\", \"2\", \"2\", \"2\", \"2\", \"3\", \"2\", \"2\", \"2\", \"2\", \"2\", \"2\", \"2\", \"2\", \"2\", \"3\", \"3\", \"2\", \"2\", \"2\", \"2\", \"3\", \"2\", \"2\", \"2\", \"2\", \"3\", \"2\", \"2\", \"2\", \"2\", \"2\", \"2\", \"2\", \"2\", \"2\", \"2\", \"2\", \"2\", \"2\", \"3\", \"3\", \"2\", \"3\", \"2\", \"2\", \"2\", \"1\", \"2\", \"2\", \"2\", \"2\", \"2\", \"2\", \"2\", \"1\", \"1\", \"2\", \"2\", \"3\", \"2\", \"2\", \"2\", \"3\", \"2\", \"2\", \"1\", \"1\", \"1\", \"2\", \"1\", \"2\", \"2\", \"1\", \"1\", \"1\", \"2\", \"3\", \"1\", \"1\", \"3\", \"1\", \"3\", \"1\", \"3\", \"2\", \"3\", \"2\", \"2\", \"2\", \"2\", \"2\", \"2\", \"2\", \"2\", \"3\", \"2\", \"2\", \"2\", \"3\", \"2\", \"2\", \"2\", \"2\", \"2\", \"2\", \"2\", \"3\", \"3\", \"2\", \"2\", \"2\", \"2\", \"2\", \"2\", \"2\", \"2\", \"2\", \"2\", \"2\", \"2\", \"2\", \"2\", \"2\", \"2\", \"2\", \"2\", \"2\", \"2\", \"2\", \"2\", \"2\", \"3\", \"1\", \"2\", \"2\", \"2\", \"1\", \"2\", \"1\", \"3\", \"3\", \"2\", \"2\", \"2\", \"2\", \"2\", \"3\", \"2\", \"2\", \"2\", \"2\", \"2\", \"2\", \"2\", \"2\", \"2\", \"2\", \"2\", \"2\", \"2\", \"2\", \"2\", \"2\", \"2\", \"2\", \"2\", \"3\", \"2\", \"2\", \"2\", \"2\", \"3\", \"2\", \"2\", \"2\", \"2\", \"2\", \"2\", \"3\", \"3\", \"3\", \"1\", \"1\", \"2\", \"1\", \"1\", \"2\", \"2\", \"2\", \"2\", \"1\", \"2\", \"2\", \"2\", \"3\", \"2\", \"3\", \"1\", \"2\", \"2\", \"1\", \"1\", \"2\", \"1\", \"1\", \"2\", \"2\", \"2\", \"2\", \"2\", \"2\", \"2\", \"2\", \"2\", \"2\", \"2\", \"3\", \"3\", \"2\", \"3\", \"2\", \"2\", \"3\", \"2\", \"2\", \"3\", \"2\", \"2\", \"2\", \"2\", \"2\", \"2\", \"2\", \"3\", \"3\", \"1\", \"2\", \"3\", \"3\", \"3\", \"2\", \"2\", \"2\", \"2\", \"2\", \"2\", \"2\", \"2\", \"2\", \"2\", \"2\", \"2\", \"2\", \"2\", \"2\", \"2\", \"2\", \"2\", \"2\", \"3\", \"2\", \"2\", \"2\", \"2\", \"2\", \"2\", \"1\", \"2\", \"3\", \"1\", \"2\", \"2\", \"2\", \"3\", \"2\", \"2\", \"2\", \"3\", \"2\", \"2\", \"2\", \"2\", \"2\", \"2\", \"2\", \"2\", \"2\", \"2\", \"2\", \"3\", \"3\", \"2\", \"2\", \"2\", \"3\", \"1\", \"2\", \"2\", \"2\", \"2\", \"2\", \"2\", \"2\", \"1\", \"3\", \"2\", \"2\", \"2\", \"2\", \"2\", \"2\", \"3\", \"2\", \"2\", \"2\", \"2\", \"2\", \"2\", \"3\", \"3\", \"2\", \"2\", \"2\", \"2\", \"2\", \"2\", \"3\", \"2\", \"2\", \"2\", \"2\", \"3\", \"2\", \"3\", \"2\", \"2\", \"3\", \"3\", \"3\", \"2\", \"2\", \"3\", \"1\", \"2\", \"3\", \"2\", \"2\", \"2\", \"2\", \"1\", \"2\", \"2\", \"1\", \"2\", \"2\", \"2\", \"2\", \"2\", \"3\", \"1\", \"2\", \"3\", \"3\", \"2\", \"2\", \"2\", \"2\", \"2\", \"1\", \"1\", \"1\", \"2\", \"2\", \"2\", \"2\", \"2\", \"2\", \"1\", \"2\", \"2\", \"3\", \"2\", \"2\", \"2\", \"2\", \"2\", \"2\", \"2\", \"1\", \"2\", \"2\", \"1\", \"1\", \"1\", \"1\", \"1\", \"1\", \"2\", \"2\", \"2\", \"2\", \"2\", \"2\", \"2\", \"2\", \"2\", \"2\", \"2\", \"3\", \"2\", \"2\", \"2\", \"2\", \"2\", \"2\", \"2\", \"3\", \"2\", \"3\", \"3\", \"3\", \"2\", \"2\", \"1\", \"3\", \"1\", \"3\", \"1\", \"1\", \"2\", \"2\", \"2\", \"2\", \"2\", \"2\", \"2\", \"2\", \"1\", \"1\", \"1\", \"1\", \"1\", \"2\", \"2\", \"2\", \"2\", \"3\", \"2\", \"2\", \"2\", \"2\", \"2\", \"2\", \"1\", \"2\", \"3\", \"2\", \"2\", \"2\", \"2\", \"2\", \"2\", \"2\", \"2\", \"2\", \"2\", \"1\", \"2\", \"2\", \"2\", \"3\", \"2\", \"3\", \"2\", \"2\", \"3\", \"2\", \"2\", \"3\", \"2\", \"1\", \"3\", \"3\", \"2\", \"3\", \"2\", \"3\", \"2\", \"2\", \"3\", \"2\", \"2\", \"2\", \"2\", \"3\", \"3\", \"3\", \"2\", \"1\", \"3\", \"2\", \"2\", \"3\", \"1\", \"3\", \"2\", \"1\", \"2\", \"3\", \"2\", \"2\", \"3\", \"2\", \"2\", \"2\", \"2\", \"2\", \"1\", \"1\", \"3\", \"2\", \"2\", \"2\", \"2\", \"3\", \"1\", \"2\", \"1\", \"1\", \"3\", \"2\", \"3\", \"2\", \"2\", \"2\", \"2\", \"1\", \"2\", \"2\", \"2\", \"2\", \"2\", \"2\", \"2\", \"1\", \"1\", \"1\", \"1\", \"3\", \"3\", \"1\", \"2\", \"3\", \"2\", \"2\", \"3\", \"1\", \"1\", \"2\", \"3\", \"1\", \"1\", \"1\", \"2\", \"2\", \"2\", \"1\", \"1\", \"1\", \"1\", \"2\", \"1\", \"1\", \"1\", \"2\", \"2\", \"2\", \"2\", \"2\", \"2\", \"2\", \"3\", \"3\", \"2\", \"2\", \"3\", \"2\", \"3\", \"2\", \"1\", \"2\", \"2\", \"2\", \"3\", \"2\", \"2\", \"2\", \"2\", \"3\", \"2\", \"2\", \"3\", \"3\", \"2\", \"2\", \"2\", \"2\", \"1\", \"2\", \"2\", \"2\", \"2\", \"2\", \"2\", \"2\", \"2\", \"2\", \"2\", \"2\", \"2\", \"2\", \"2\", \"2\", \"2\", \"2\", \"2\", \"1\", \"2\", \"2\", \"3\", \"2\", \"3\", \"3\", \"3\", \"2\", \"3\", \"3\", \"3\", \"2\", \"3\", \"2\", \"2\", \"1\", \"3\", \"3\", \"2\", \"2\", \"2\", \"2\", \"2\", \"2\", \"2\", \"1\", \"1\", \"1\", \"3\", \"2\", \"2\", \"2\", \"3\", \"2\", \"2\", \"2\", \"2\", \"2\", \"2\", \"2\", \"2\", \"3\", \"3\", \"2\", \"2\", \"2\", \"2\", \"2\", \"2\", \"2\", \"2\", \"2\", \"3\", \"2\", \"2\", \"2\", \"2\", \"1\", \"2\", \"3\", \"3\", \"2\", \"2\", \"2\", \"2\", \"2\", \"2\", \"2\", \"2\", \"2\", \"1\", \"2\", \"2\", \"1\", \"3\", \"1\", \"2\", \"3\", \"2\", \"2\", \"2\", \"1\", \"3\", \"1\", \"1\", \"2\", \"1\", \"2\", \"1\", \"3\", \"2\", \"2\", \"3\", \"2\", \"2\", \"2\", \"2\", \"3\", \"2\", \"2\", \"2\", \"2\", \"3\", \"2\", \"3\", \"3\", \"2\", \"2\", \"1\", \"2\", \"2\", \"2\", \"1\", \"2\", \"2\", \"1\", \"2\", \"2\", \"2\", \"1\", \"2\", \"2\", \"2\", \"2\", \"2\", \"3\", \"2\", \"2\", \"2\", \"3\", \"2\", \"3\", \"1\", \"1\", \"1\", \"2\", \"2\", \"2\", \"1\", \"2\", \"2\", \"2\", \"2\", \"2\", \"2\", \"2\", \"2\", \"2\", \"2\", \"1\", \"2\", \"2\", \"2\", \"2\", \"2\", \"2\", \"2\", \"2\", \"3\", \"2\", \"2\", \"2\", \"1\", \"2\", \"2\", \"2\", \"2\", \"3\", \"2\", \"2\", \"3\", \"2\", \"2\", \"2\", \"3\", \"3\", \"3\", \"2\", \"2\", \"2\", \"1\", \"1\", \"1\", \"1\", \"3\", \"2\", \"2\", \"2\", \"1\", \"2\", \"2\", \"2\", \"2\", \"2\", \"2\", \"2\", \"2\", \"2\", \"3\", \"2\", \"1\", \"1\", \"1\", \"1\", \"2\", \"2\", \"2\", \"1\", \"1\", \"2\", \"3\", \"1\", \"3\", \"2\", \"2\", \"2\", \"2\", \"3\", \"2\", \"3\", \"2\", \"3\", \"2\", \"2\", \"2\", \"3\", \"2\", \"1\", \"1\", \"3\", \"3\", \"2\", \"2\", \"2\", \"2\", \"3\", \"3\", \"2\", \"2\", \"1\", \"3\", \"2\", \"2\", \"1\", \"3\", \"2\", \"2\", \"2\", \"2\", \"2\", \"2\", \"2\", \"2\", \"2\", \"2\", \"1\", \"2\", \"2\", \"2\", \"1\", \"3\", \"2\", \"2\", \"2\", \"2\", \"2\", \"3\", \"2\", \"2\", \"2\", \"2\", \"2\", \"2\", \"1\", \"2\", \"2\", \"2\", \"2\", \"2\", \"2\", \"2\", \"2\", \"3\", \"2\", \"3\", \"2\", \"2\", \"2\", \"2\", \"2\", \"2\", \"3\", \"2\", \"1\", \"3\", \"3\", \"3\", \"3\", \"1\", \"1\", \"1\", \"1\", \"2\", \"2\", \"1\", \"2\", \"1\", \"1\", \"1\", \"3\", \"1\", \"3\", \"2\", \"2\", \"2\", \"2\", \"2\", \"3\", \"2\", \"2\", \"2\", \"2\", \"2\", \"2\", \"3\", \"2\", \"2\", \"2\", \"3\", \"2\", \"3\", \"2\", \"3\", \"2\", \"2\", \"2\", \"2\", \"3\", \"2\", \"2\", \"2\", \"2\", \"2\", \"2\", \"2\", \"2\", \"1\", \"2\", \"2\", \"3\", \"2\", \"2\", \"2\", \"2\", \"2\", \"2\", \"2\", \"2\", \"2\", \"2\", \"2\", \"2\", \"2\", \"2\", \"2\", \"2\", \"2\", \"3\", \"2\", \"2\", \"2\", \"2\", \"2\", \"2\", \"1\", \"2\", \"2\", \"2\", \"2\", \"2\", \"2\", \"2\", \"2\", \"2\", \"3\", \"2\", \"1\", \"2\", \"3\", \"3\", \"3\", \"2\", \"3\", \"2\", \"2\", \"2\", \"2\", \"2\", \"2\", \"2\", \"2\", \"2\", \"3\", \"2\", \"2\", \"2\", \"2\", \"3\", \"2\", \"2\", \"2\", \"2\", \"2\", \"2\", \"2\", \"2\", \"2\", \"2\", \"2\", \"2\", \"3\", \"1\", \"2\", \"2\", \"1\", \"2\", \"2\", \"2\", \"2\", \"2\", \"2\", \"1\", \"2\", \"2\", \"2\", \"3\", \"1\", \"1\", \"2\", \"2\", \"1\", \"2\", \"1\", \"1\", \"1\", \"1\", \"3\", \"3\", \"2\", \"2\", \"3\", \"3\", \"3\", \"3\", \"2\", \"2\", \"2\", \"2\", \"2\", \"2\", \"2\", \"3\", \"2\", \"2\", \"1\", \"2\", \"3\", \"2\", \"1\", \"2\", \"2\", \"2\", \"2\", \"2\", \"1\", \"2\", \"2\", \"2\", \"2\", \"3\", \"1\", \"2\", \"1\", \"2\", \"2\", \"2\", \"2\", \"2\", \"3\", \"3\", \"3\", \"2\", \"2\", \"2\", \"2\", \"2\", \"3\", \"2\", \"2\", \"2\", \"1\", \"2\", \"2\", \"2\", \"2\", \"3\", \"2\", \"2\", \"2\", \"2\", \"2\", \"2\", \"1\", \"2\", \"1\", \"2\", \"2\", \"2\", \"2\", \"2\", \"2\", \"2\", \"2\", \"2\", \"2\", \"2\", \"2\", \"1\", \"1\", \"2\", \"2\", \"2\", \"2\", \"2\", \"3\", \"2\", \"2\", \"1\", \"2\", \"2\", \"1\", \"3\", \"3\", \"1\", \"1\", \"2\", \"2\", \"2\", \"1\", \"1\", \"3\", \"3\", \"2\", \"1\", \"1\", \"2\", \"3\", \"2\", \"3\", \"2\", \"2\", \"2\", \"2\", \"2\", \"2\", \"2\", \"2\", \"2\", \"2\", \"2\", \"2\", \"2\", \"2\", \"3\", \"2\", \"2\", \"2\", \"2\", \"2\", \"2\", \"3\", \"2\", \"3\", \"2\", \"3\", \"2\", \"2\", \"2\", \"2\", \"2\", \"2\", \"2\", \"2\", \"3\", \"2\", \"2\", \"2\", \"3\", \"2\", \"2\", \"2\", \"2\", \"2\", \"2\", \"3\", \"2\", \"2\", \"2\", \"2\", \"3\", \"2\", \"2\", \"2\", \"2\", \"2\", \"2\", \"2\", \"2\", \"2\", \"2\", \"2\", \"2\", \"2\", \"2\", \"2\", \"3\", \"2\", \"2\", \"2\", \"1\", \"2\", \"2\", \"3\", \"2\", \"2\", \"2\", \"3\", \"2\", \"2\", \"2\", \"1\", \"3\", \"2\", \"2\", \"2\", \"2\", \"2\", \"2\", \"2\", \"2\", \"2\", \"2\", \"2\", \"3\", \"3\", \"1\", \"2\", \"2\", \"2\", \"2\", \"2\", \"2\", \"2\", \"2\", \"1\", \"1\", \"1\", \"2\", \"3\", \"2\", \"2\", \"2\", \"2\", \"2\", \"3\", \"2\", \"2\", \"2\", \"2\", \"2\", \"1\", \"1\", \"2\", \"2\", \"2\", \"1\", \"1\", \"1\", \"2\", \"2\", \"3\", \"3\", \"3\", \"3\", \"2\", \"2\", \"2\", \"1\", \"2\", \"2\", \"2\", \"2\", \"2\", \"2\", \"1\", \"2\", \"2\", \"2\", \"2\", \"2\", \"3\", \"2\", \"1\", \"2\", \"1\", \"1\", \"2\", \"2\", \"3\", \"2\", \"2\", \"2\", \"3\", \"1\", \"3\", \"2\", \"2\", \"2\", \"2\", \"2\", \"2\", \"2\", \"1\", \"3\", \"2\", \"2\", \"2\", \"2\", \"2\", \"2\", \"2\", \"3\", \"3\", \"2\", \"2\", \"2\", \"1\", \"1\", \"1\", \"2\", \"2\", \"2\", \"2\", \"2\", \"2\", \"2\", \"2\", \"2\", \"2\", \"2\", \"3\", \"2\", \"3\", \"3\", \"2\", \"3\", \"1\", \"1\", \"3\", \"2\", \"2\", \"3\", \"2\", \"2\", \"2\", \"3\", \"2\", \"2\", \"2\", \"2\", \"3\", \"2\", \"2\", \"2\", \"2\", \"2\", \"3\", \"1\", \"2\", \"2\", \"3\", \"1\", \"1\", \"2\", \"2\", \"3\", \"2\", \"2\", \"2\", \"1\", \"1\", \"1\", \"2\", \"2\", \"2\", \"2\", \"2\", \"2\", \"2\", \"2\", \"1\", \"1\", \"1\", \"1\", \"2\", \"1\", \"2\", \"2\", \"2\", \"2\", \"2\", \"2\", \"2\", \"3\", \"2\", \"2\", \"2\", \"2\", \"2\", \"2\", \"2\", \"2\", \"2\", \"1\", \"3\", \"3\", \"2\", \"1\", \"2\", \"2\", \"3\", \"2\", \"3\", \"2\", \"2\", \"2\", \"2\", \"2\", \"3\", \"1\", \"2\", \"3\", \"2\", \"2\", \"2\", \"2\", \"2\", \"2\", \"2\", \"2\", \"2\", \"2\", \"3\", \"2\", \"2\", \"2\", \"3\", \"1\", \"1\", \"3\", \"2\", \"3\", \"2\", \"2\", \"2\", \"2\", \"2\", \"2\", \"2\", \"2\", \"2\", \"2\", \"2\", \"2\", \"2\", \"2\", \"2\", \"2\", \"2\", \"2\", \"2\", \"2\", \"2\", \"2\", \"2\", \"2\", \"1\", \"2\", \"2\", \"3\", \"2\", \"2\", \"2\", \"2\", \"2\", \"2\", \"1\", \"2\", \"2\", \"3\", \"2\", \"2\", \"2\", \"2\", \"2\", \"2\", \"2\", \"2\", \"2\", \"1\", \"2\", \"2\", \"1\", \"2\", \"2\", \"2\", \"2\", \"1\", \"1\", \"2\", \"2\", \"1\", \"2\", \"2\", \"2\", \"2\", \"2\", \"2\", \"2\", \"2\", \"3\", \"2\", \"3\", \"1\", \"1\", \"1\", \"1\", \"3\", \"2\", \"2\", \"2\", \"3\", \"2\", \"2\", \"3\", \"2\", \"2\", \"2\", \"2\", \"2\", \"2\", \"2\", \"2\", \"3\", \"3\", \"2\", \"2\", \"1\", \"3\", \"2\", \"2\", \"2\", \"2\", \"2\", \"2\", \"2\", \"2\", \"2\", \"1\", \"2\", \"3\", \"2\", \"2\", \"2\", \"2\", \"3\", \"2\", \"2\", \"2\", \"1\", \"2\", \"3\", \"1\", \"1\", \"2\", \"3\", \"2\", \"2\", \"2\", \"1\", \"2\", \"2\", \"2\", \"2\", \"3\", \"2\", \"2\", \"2\", \"2\", \"2\", \"2\", \"2\", \"3\", \"2\", \"2\", \"2\", \"2\", \"2\", \"2\", \"2\", \"1\", \"2\", \"2\", \"2\", \"2\", \"3\", \"2\", \"2\", \"1\", \"3\", \"1\", \"2\", \"2\", \"1\", \"1\", \"3\", \"3\", \"2\", \"2\", \"2\", \"2\", \"2\", \"2\", \"2\", \"1\", \"1\", \"1\", \"2\", \"1\", \"1\", \"2\", \"2\", \"2\", \"2\", \"3\", \"2\", \"3\", \"2\", \"1\", \"2\", \"2\", \"2\", \"2\", \"3\", \"2\", \"2\", \"2\", \"2\", \"1\", \"3\", \"3\", \"2\", \"3\", \"2\", \"2\", \"1\", \"1\", \"2\", \"2\", \"1\", \"2\", \"2\", \"2\", \"2\", \"1\", \"2\", \"2\", \"2\", \"3\", \"2\", \"1\", \"2\", \"2\", \"2\", \"2\", \"2\", \"2\", \"2\", \"2\", \"2\", \"1\", \"2\", \"2\", \"2\", \"2\", \"2\", \"2\", \"2\", \"2\", \"3\", \"2\", \"2\", \"2\", \"2\", \"3\", \"3\", \"3\", \"2\", \"3\", \"2\", \"2\", \"2\", \"2\", \"2\", \"2\", \"2\", \"2\", \"1\", \"2\", \"2\", \"2\", \"3\", \"2\", \"2\", \"2\", \"2\", \"2\", \"1\", \"2\", \"2\", \"2\", \"2\", \"2\", \"2\", \"2\", \"2\", \"2\", \"1\", \"2\", \"2\", \"2\", \"3\", \"3\", \"2\", \"2\", \"2\", \"2\", \"2\", \"3\", \"2\", \"2\", \"1\", \"1\", \"2\", \"2\", \"2\", \"2\", \"2\", \"3\", \"2\", \"1\", \"1\", \"3\", \"2\", \"1\", \"2\", \"2\", \"2\", \"3\", \"2\", \"2\", \"2\", \"2\", \"2\", \"2\", \"3\", \"2\", \"2\", \"2\", \"2\", \"1\", \"2\", \"2\", \"2\", \"2\", \"2\", \"2\", \"2\", \"2\", \"2\", \"3\", \"2\", \"2\", \"3\", \"3\", \"2\", \"2\", \"2\", \"2\", \"2\", \"2\", \"2\", \"2\", \"2\", \"2\", \"2\", \"2\", \"2\", \"2\", \"1\", \"2\", \"2\", \"2\", \"3\", \"3\", \"2\", \"2\", \"2\", \"2\", \"2\", \"2\", \"2\", \"3\", \"2\", \"2\", \"2\", \"3\", \"2\", \"2\", \"2\", \"2\", \"2\", \"2\", \"2\", \"2\", \"1\", \"2\", \"2\", \"2\", \"2\", \"2\", \"2\", \"2\", \"2\", \"2\", \"2\", \"2\", \"2\", \"2\", \"2\", \"2\", \"3\", \"1\", \"3\", \"3\", \"2\", \"2\", \"2\", \"2\", \"2\", \"2\", \"3\", \"3\", \"2\", \"2\", \"2\", \"2\", \"2\", \"3\", \"2\", \"1\", \"3\", \"2\", \"3\", \"2\", \"3\", \"2\", \"3\", \"2\", \"3\", \"2\", \"2\", \"2\", \"2\", \"2\", \"2\", \"2\", \"1\", \"2\", \"2\", \"3\", \"1\", \"1\", \"2\", \"2\", \"2\", \"2\", \"3\", \"3\", \"3\", \"3\", \"3\", \"2\", \"2\", \"3\", \"2\", \"2\", \"3\", \"3\", \"2\", \"2\", \"2\", \"2\", \"2\", \"2\", \"3\", \"2\", \"3\", \"2\", \"2\", \"2\", \"2\", \"2\", \"3\", \"3\", \"2\", \"2\", \"2\", \"2\", \"2\", \"2\", \"3\", \"2\", \"2\", \"2\", \"2\", \"3\", \"2\", \"2\", \"2\", \"2\", \"1\", \"2\", \"2\", \"2\", \"2\", \"2\", \"3\", \"2\", \"2\", \"2\", \"2\", \"2\", \"2\", \"2\", \"2\", \"1\", \"2\", \"3\", \"1\", \"1\", \"1\", \"3\", \"1\", \"1\", \"1\", \"1\", \"3\", \"3\", \"2\", \"2\", \"1\", \"3\", \"3\", \"2\", \"2\", \"2\", \"2\", \"2\", \"1\", \"2\", \"2\", \"2\", \"3\", \"2\", \"2\", \"3\", \"2\", \"2\", \"2\", \"2\", \"2\", \"2\", \"2\", \"2\", \"2\", \"2\", \"3\", \"2\", \"2\", \"2\", \"2\", \"2\", \"3\", \"2\", \"2\", \"2\", \"2\", \"2\", \"1\", \"2\", \"2\", \"2\", \"2\", \"2\", \"1\", \"2\", \"1\", \"2\", \"2\", \"3\", \"2\", \"1\", \"3\", \"2\", \"2\", \"2\", \"2\", \"2\", \"2\", \"2\", \"2\", \"2\", \"2\", \"2\", \"2\", \"2\", \"2\", \"1\", \"2\", \"2\", \"2\", \"2\", \"3\", \"2\", \"2\", \"2\", \"2\", \"2\", \"2\", \"2\", \"2\", \"2\", \"2\", \"2\", \"1\", \"2\", \"2\", \"2\", \"2\", \"2\", \"2\", \"2\", \"2\", \"2\", \"2\", \"2\", \"1\", \"1\", \"1\", \"1\", \"1\", \"2\", \"1\", \"2\", \"2\", \"2\", \"2\", \"1\", \"1\", \"1\", \"1\", \"2\", \"1\", \"2\", \"1\", \"2\", \"2\", \"2\", \"2\", \"3\", \"2\", \"2\", \"1\", \"2\", \"2\", \"2\", \"2\", \"2\", \"2\", \"2\", \"2\", \"2\", \"2\", \"1\", \"2\", \"2\", \"2\", \"2\", \"2\", \"2\", \"1\", \"3\", \"2\", \"3\", \"3\", \"2\", \"3\", \"2\", \"2\", \"2\", \"2\", \"3\", \"2\", \"2\", \"2\", \"2\", \"1\", \"2\", \"3\", \"2\", \"3\", \"2\", \"1\", \"3\", \"2\", \"2\", \"2\", \"1\", \"2\", \"2\", \"2\", \"3\", \"3\", \"2\", \"2\", \"2\", \"2\", \"2\", \"1\", \"1\", \"1\", \"2\", \"3\", \"2\", \"2\", \"3\", \"2\", \"2\", \"2\", \"3\", \"2\", \"2\", \"2\", \"3\", \"2\", \"1\", \"2\", \"2\", \"2\", \"2\", \"2\", \"2\", \"2\", \"2\", \"2\", \"2\", \"2\", \"2\", \"2\", \"2\", \"2\", \"2\", \"2\", \"2\", \"3\", \"2\", \"2\", \"2\", \"2\", \"2\", \"2\", \"2\", \"2\", \"2\", \"2\", \"3\", \"1\", \"1\", \"2\", \"1\", \"1\", \"2\", \"1\", \"2\", \"2\", \"2\", \"2\", \"2\", \"2\", \"1\", \"3\", \"2\", \"1\", \"2\", \"2\", \"3\", \"2\", \"2\", \"2\", \"1\", \"1\", \"2\", \"2\", \"2\", \"2\", \"1\", \"2\", \"2\", \"2\", \"2\", \"2\", \"2\", \"2\", \"2\", \"2\", \"2\", \"2\", \"2\", \"2\", \"2\", \"2\", \"2\", \"3\", \"3\", \"2\", \"2\", \"2\", \"2\", \"2\", \"2\", \"2\", \"1\", \"3\", \"2\", \"2\", \"3\", \"2\", \"2\", \"2\", \"2\", \"2\", \"2\", \"2\", \"2\", \"2\", \"3\", \"2\", \"2\", \"3\", \"3\", \"1\", \"2\", \"3\", \"2\", \"2\", \"3\", \"2\", \"1\", \"1\", \"2\", \"2\", \"3\", \"2\", \"2\", \"2\", \"3\", \"2\", \"2\", \"2\", \"2\", \"2\", \"2\", \"2\", \"2\", \"2\", \"2\", \"2\", \"2\", \"2\", \"2\", \"2\", \"2\", \"3\", \"2\", \"2\", \"2\", \"2\", \"2\", \"3\", \"2\", \"2\", \"2\", \"2\", \"2\", \"2\", \"2\", \"2\", \"2\", \"2\", \"2\", \"3\", \"1\", \"3\", \"2\", \"3\", \"2\", \"3\", \"2\", \"2\", \"2\", \"2\", \"1\", \"1\", \"2\", \"2\", \"2\", \"1\", \"1\", \"1\", \"1\", \"1\", \"2\", \"3\", \"3\", \"3\", \"2\", \"2\", \"2\", \"1\", \"2\", \"2\", \"2\", \"2\", \"2\", \"2\", \"2\", \"1\", \"2\", \"2\", \"2\", \"2\", \"2\", \"2\", \"2\", \"2\", \"2\", \"2\", \"2\", \"2\", \"2\", \"3\", \"2\", \"2\", \"1\", \"2\", \"2\", \"2\", \"2\", \"2\", \"2\", \"2\", \"2\", \"1\", \"2\", \"2\", \"2\", \"2\", \"2\", \"2\", \"2\", \"2\", \"3\", \"2\", \"3\", \"2\", \"2\", \"2\", \"2\", \"2\", \"2\", \"2\", \"2\", \"2\", \"2\", \"2\", \"3\", \"2\", \"2\", \"2\", \"2\", \"2\", \"2\", \"3\", \"2\", \"3\", \"2\", \"2\", \"2\", \"2\", \"2\", \"3\", \"2\", \"2\", \"3\", \"1\", \"2\", \"1\", \"2\", \"2\", \"2\", \"2\", \"2\", \"2\", \"2\", \"3\", \"1\", \"2\", \"1\", \"2\", \"2\", \"2\", \"2\", \"2\", \"2\", \"1\", \"1\", \"1\", \"2\", \"1\", \"1\", \"2\", \"2\", \"1\", \"2\", \"2\", \"2\", \"2\", \"2\", \"2\", \"3\", \"2\", \"3\", \"1\", \"2\", \"2\", \"2\", \"2\", \"2\", \"2\", \"2\", \"2\", \"2\", \"1\", \"2\", \"2\", \"2\", \"2\", \"3\", \"2\", \"2\", \"2\", \"2\", \"2\", \"2\", \"2\", \"2\", \"2\", \"2\", \"2\", \"1\", \"2\", \"2\", \"1\", \"1\", \"2\", \"1\", \"2\", \"2\", \"2\", \"3\", \"2\", \"3\", \"2\", \"2\", \"2\", \"2\", \"2\", \"2\", \"1\", \"2\", \"2\", \"2\", \"2\", \"2\", \"2\", \"2\", \"2\", \"2\", \"2\", \"2\", \"2\", \"3\", \"2\", \"2\", \"2\", \"2\", \"2\", \"2\", \"2\", \"2\", \"2\", \"1\", \"1\", \"2\", \"3\", \"2\", \"2\", \"2\", \"1\", \"2\", \"3\", \"2\", \"2\", \"2\", \"2\", \"2\", \"2\", \"1\", \"1\", \"1\", \"2\", \"2\", \"2\", \"2\", \"2\", \"2\", \"2\", \"2\", \"2\", \"2\", \"2\", \"2\", \"2\", \"2\", \"2\", \"1\", \"2\", \"2\", \"1\", \"3\", \"1\", \"1\", \"2\", \"2\", \"3\", \"3\", \"1\", \"3\", \"3\", \"2\", \"2\", \"1\", \"2\", \"2\", \"2\", \"2\", \"2\", \"2\", \"2\", \"2\", \"2\", \"2\", \"2\", \"2\", \"2\", \"2\", \"2\", \"2\", \"2\", \"2\", \"2\", \"3\", \"2\", \"2\", \"2\", \"2\", \"2\", \"2\", \"2\", \"2\", \"2\", \"2\", \"3\", \"1\", \"2\", \"3\", \"2\", \"2\", \"2\", \"1\", \"3\", \"2\", \"1\", \"2\", \"2\", \"2\", \"2\", \"1\", \"2\", \"3\", \"2\", \"3\", \"2\", \"2\", \"2\", \"2\", \"2\", \"2\", \"3\", \"2\", \"2\", \"1\", \"1\", \"2\", \"2\", \"2\", \"2\", \"3\", \"3\", \"2\", \"2\", \"2\", \"2\", \"2\", \"2\", \"2\", \"2\", \"2\", \"2\", \"2\", \"2\", \"2\", \"3\", \"1\", \"1\", \"2\", \"2\", \"3\", \"2\", \"2\", \"1\", \"3\", \"2\", \"2\", \"2\", \"2\", \"2\", \"2\", \"2\", \"3\", \"2\", \"3\", \"2\", \"2\", \"2\", \"1\", \"3\", \"1\", \"2\", \"2\", \"2\", \"2\", \"2\", \"2\", \"2\", \"1\", \"2\", \"1\", \"1\", \"2\", \"2\", \"2\", \"3\", \"3\", \"2\", \"2\", \"2\", \"3\", \"2\", \"2\", \"2\", \"2\", \"2\", \"2\", \"2\", \"2\", \"2\", \"2\", \"3\", \"2\", \"3\", \"2\", \"2\", \"2\", \"2\", \"2\", \"3\", \"2\", \"2\", \"2\", \"2\", \"2\", \"2\", \"2\", \"2\", \"2\", \"2\", \"2\", \"2\", \"2\", \"2\", \"2\", \"3\", \"2\", \"2\", \"1\", \"2\", \"3\", \"2\", \"2\", \"3\", \"2\", \"2\", \"2\", \"1\", \"1\", \"2\", \"2\", \"2\", \"2\", \"2\", \"2\", \"2\", \"2\", \"2\", \"2\", \"1\", \"1\", \"2\", \"2\", \"2\", \"2\", \"2\", \"2\", \"2\", \"2\", \"2\", \"3\", \"1\", \"2\", \"2\", \"2\", \"2\", \"3\", \"2\", \"2\", \"2\", \"3\", \"1\", \"1\", \"1\", \"2\", \"2\", \"2\", \"1\", \"2\", \"2\", \"2\", \"2\", \"2\", \"2\", \"1\", \"1\", \"1\", \"1\", \"2\", \"2\", \"2\", \"2\", \"2\", \"3\", \"2\", \"2\", \"1\", \"1\", \"1\", \"2\", \"2\", \"2\", \"1\", \"1\", \"3\", \"1\", \"3\", \"1\", \"1\", \"1\", \"1\", \"1\", \"1\", \"3\", \"2\", \"1\", \"1\", \"1\", \"2\", \"3\", \"2\", \"2\", \"2\", \"2\", \"2\", \"1\", \"1\", \"1\", \"2\", \"2\", \"2\", \"2\", \"3\", \"2\", \"2\", \"3\", \"3\", \"2\", \"3\", \"3\", \"2\", \"1\", \"2\", \"3\", \"2\", \"3\", \"2\", \"3\", \"3\", \"2\", \"3\", \"2\", \"2\", \"2\", \"2\", \"2\", \"3\", \"3\", \"2\", \"2\", \"2\", \"3\", \"2\", \"2\", \"2\", \"2\", \"3\", \"3\", \"2\", \"2\", \"2\", \"1\", \"2\", \"2\", \"2\", \"2\", \"2\", \"2\", \"2\", \"2\", \"3\", \"1\", \"3\", \"2\", \"1\", \"1\", \"2\", \"2\", \"2\", \"2\", \"2\", \"2\", \"2\", \"2\", \"2\", \"2\", \"2\", \"2\", \"2\", \"1\", \"3\", \"2\", \"2\", \"2\", \"2\", \"2\", \"2\", \"2\", \"1\", \"1\", \"1\", \"1\", \"1\", \"1\", \"2\", \"2\", \"2\", \"2\", \"2\", \"2\", \"1\", \"2\", \"1\", \"1\", \"2\", \"2\", \"2\", \"1\", \"1\", \"2\", \"3\", \"2\", \"2\", \"2\", \"2\", \"3\", \"2\", \"2\", \"2\", \"2\", \"2\", \"3\", \"2\", \"2\", \"3\", \"3\", \"2\", \"2\", \"2\", \"1\", \"3\", \"2\", \"3\", \"2\", \"2\", \"2\", \"2\", \"1\", \"2\", \"1\", \"2\", \"2\", \"2\", \"2\", \"3\", \"2\", \"2\", \"3\", \"3\", \"2\", \"3\", \"2\", \"2\", \"2\", \"2\", \"1\", \"2\", \"2\", \"2\", \"2\", \"2\", \"3\", \"3\", \"2\", \"2\", \"3\", \"2\", \"2\", \"2\", \"2\", \"2\", \"2\", \"2\", \"2\", \"3\", \"1\", \"2\", \"2\", \"2\", \"3\", \"2\", \"2\", \"3\", \"3\", \"2\", \"2\", \"2\", \"2\", \"2\", \"2\", \"2\", \"3\", \"2\", \"2\", \"2\", \"2\", \"3\", \"1\", \"1\", \"1\", \"1\", \"1\", \"2\", \"2\", \"2\", \"2\", \"1\", \"2\", \"2\", \"1\", \"2\", \"2\", \"2\", \"2\", \"2\", \"2\", \"3\", \"2\", \"3\", \"2\", \"2\", \"2\", \"2\", \"3\", \"2\", \"2\", \"2\", \"3\", \"2\", \"3\", \"2\", \"2\", \"1\", \"2\", \"2\", \"2\", \"2\", \"2\", \"3\", \"2\", \"2\", \"2\", \"2\", \"2\", \"2\", \"2\", \"2\", \"2\", \"1\", \"2\", \"2\", \"2\", \"2\", \"1\", \"1\", \"1\", \"3\", \"1\", \"2\", \"2\", \"2\", \"2\", \"2\", \"2\", \"2\", \"2\", \"2\", \"2\", \"2\", \"1\", \"2\", \"2\", \"2\", \"2\", \"2\", \"2\", \"3\", \"2\", \"1\", \"1\", \"2\", \"2\", \"2\", \"2\", \"2\", \"3\", \"3\", \"1\", \"1\", \"2\", \"2\", \"2\", \"3\", \"2\", \"2\", \"2\", \"2\", \"1\", \"2\", \"2\", \"2\", \"2\", \"2\", \"2\", \"3\", \"3\", \"2\", \"2\", \"2\", \"2\", \"3\", \"3\", \"1\", \"3\", \"3\", \"2\", \"2\", \"3\", \"2\", \"3\", \"3\", \"2\", \"2\", \"1\", \"1\", \"1\", \"1\", \"2\", \"2\", \"2\", \"2\", \"2\", \"2\", \"3\", \"2\", \"2\", \"1\", \"2\", \"2\", \"2\", \"1\", \"1\", \"2\", \"3\", \"1\", \"2\", \"3\", \"2\", \"2\", \"2\", \"2\", \"3\", \"2\", \"2\", \"2\", \"2\", \"2\", \"2\", \"2\", \"2\", \"3\", \"3\", \"2\", \"2\", \"1\", \"2\", \"2\", \"3\", \"2\", \"2\", \"2\", \"2\", \"2\", \"3\", \"2\", \"2\", \"2\", \"2\", \"1\", \"2\", \"2\", \"2\", \"2\", \"2\", \"2\", \"1\", \"2\", \"1\", \"2\", \"2\", \"2\", \"2\", \"3\", \"3\", \"2\", \"2\", \"2\", \"3\", \"2\", \"2\", \"2\", \"2\", \"2\", \"2\", \"2\", \"2\", \"2\", \"2\", \"3\", \"3\", \"1\", \"2\", \"2\", \"2\", \"2\", \"2\", \"2\", \"2\", \"2\", \"2\", \"2\", \"2\", \"2\", \"2\", \"2\", \"3\", \"3\", \"1\", \"3\", \"2\", \"1\", \"3\", \"2\", \"2\", \"2\", \"1\", \"2\", \"1\", \"2\", \"3\", \"3\", \"2\", \"2\", \"1\", \"1\", \"1\", \"3\", \"2\", \"2\", \"1\", \"1\", \"1\", \"2\", \"3\", \"3\", \"2\", \"2\", \"2\", \"2\", \"2\", \"2\", \"2\", \"2\", \"3\", \"2\", \"1\", \"2\", \"2\", \"2\", \"2\", \"2\", \"2\", \"3\", \"2\", \"2\", \"2\", \"2\", \"2\", \"2\", \"1\", \"2\", \"3\", \"2\", \"2\", \"2\", \"2\", \"2\", \"2\", \"2\", \"2\", \"2\", \"2\", \"1\", \"2\", \"1\", \"2\", \"3\", \"2\", \"2\", \"2\", \"3\", \"1\", \"2\", \"2\", \"2\", \"1\", \"3\", \"2\", \"2\", \"2\", \"1\", \"2\", \"3\", \"3\", \"2\", \"2\", \"2\", \"2\", \"3\", \"2\", \"2\", \"3\", \"2\", \"3\", \"2\", \"1\", \"2\", \"2\", \"2\", \"3\", \"2\", \"2\", \"2\", \"2\", \"2\", \"2\", \"3\", \"2\", \"2\", \"2\", \"2\", \"3\", \"2\", \"1\", \"2\", \"2\", \"2\", \"1\", \"2\", \"2\", \"2\", \"2\", \"2\", \"2\", \"3\", \"1\", \"1\", \"1\", \"1\", \"2\", \"2\", \"2\", \"2\", \"1\", \"2\", \"1\", \"2\", \"2\", \"2\", \"2\", \"3\", \"3\", \"2\", \"2\", \"2\", \"3\", \"2\", \"2\", \"2\", \"2\", \"2\", \"2\", \"2\", \"2\", \"2\", \"2\", \"2\", \"2\", \"3\", \"2\", \"2\", \"2\", \"2\", \"2\", \"3\", \"2\", \"1\", \"1\", \"2\", \"3\", \"2\", \"2\", \"1\", \"2\", \"2\", \"3\", \"2\", \"1\", \"2\", \"2\", \"2\", \"2\", \"3\", \"2\", \"2\", \"2\", \"2\", \"2\", \"3\", \"2\", \"3\", \"2\", \"1\", \"2\", \"2\", \"2\", \"1\", \"1\", \"2\", \"3\", \"2\", \"1\", \"2\", \"2\", \"2\", \"2\", \"3\", \"2\", \"3\", \"3\", \"3\", \"3\", \"2\", \"3\", \"2\", \"2\", \"2\", \"3\", \"2\", \"2\", \"1\", \"2\", \"2\", \"2\", \"2\", \"2\", \"2\", \"2\", \"3\", \"2\", \"2\", \"2\", \"2\", \"2\", \"2\", \"2\", \"2\", \"2\", \"3\", \"2\", \"1\", \"2\", \"3\", \"2\", \"2\", \"1\", \"2\", \"1\", \"1\", \"1\", \"1\", \"2\", \"2\", \"2\", \"1\", \"2\", \"2\", \"2\", \"3\", \"3\", \"3\", \"1\", \"1\", \"1\", \"3\", \"2\", \"2\", \"2\", \"2\", \"3\", \"2\", \"2\", \"2\", \"3\", \"2\", \"2\", \"2\", \"2\", \"3\", \"2\", \"2\", \"2\", \"2\", \"2\", \"3\", \"2\", \"1\", \"2\", \"2\", \"3\", \"1\", \"2\", \"2\", \"2\", \"2\", \"2\", \"2\", \"2\", \"3\", \"3\", \"2\", \"2\", \"2\", \"2\", \"1\", \"2\", \"2\", \"1\", \"2\", \"2\", \"3\", \"1\", \"2\", \"2\", \"2\", \"2\", \"2\", \"2\", \"2\", \"3\", \"2\", \"3\", \"2\", \"2\", \"2\", \"2\", \"3\", \"2\", \"2\", \"2\", \"2\", \"2\", \"2\", \"3\", \"3\", \"3\", \"1\", \"2\", \"3\", \"2\", \"1\", \"2\", \"2\", \"2\", \"2\", \"2\", \"2\", \"2\", \"2\", \"2\", \"2\", \"3\", \"2\", \"2\", \"1\", \"2\", \"2\", \"2\", \"2\", \"2\", \"2\", \"2\", \"1\", \"1\", \"2\", \"2\", \"3\", \"2\", \"2\", \"1\", \"1\", \"1\", \"2\", \"2\", \"2\", \"2\", \"1\", \"2\", \"3\", \"2\", \"2\", \"1\", \"2\", \"2\", \"2\", \"2\", \"2\", \"2\", \"2\", \"2\", \"2\", \"2\", \"2\", \"2\", \"2\", \"2\", \"2\", \"2\", \"2\", \"2\", \"2\", \"2\", \"3\", \"2\", \"2\", \"1\", \"1\", \"2\", \"1\", \"2\", \"2\", \"2\", \"3\", \"3\", \"2\", \"3\", \"2\", \"2\", \"2\", \"2\", \"2\", \"2\", \"2\", \"2\", \"2\", \"2\", \"2\", \"2\", \"3\", \"1\", \"3\", \"3\", \"2\", \"2\", \"1\", \"2\", \"1\", \"2\", \"3\", \"2\", \"3\", \"3\", \"2\", \"1\", \"2\", \"2\", \"2\", \"2\", \"2\", \"3\", \"2\", \"2\", \"2\", \"3\", \"3\", \"2\", \"2\", \"2\", \"2\", \"1\", \"3\", \"2\", \"3\", \"2\", \"2\", \"2\", \"2\", \"2\", \"3\", \"2\", \"2\", \"2\", \"2\", \"1\", \"2\", \"2\", \"1\", \"2\", \"2\", \"2\", \"2\", \"2\", \"2\", \"1\", \"2\", \"2\", \"3\", \"3\", \"2\", \"1\", \"2\", \"2\", \"2\", \"2\", \"2\", \"1\", \"2\", \"3\", \"3\", \"2\", \"3\", \"2\", \"2\", \"2\", \"2\", \"2\", \"2\", \"1\", \"2\", \"2\", \"2\", \"3\", \"2\", \"2\", \"2\", \"2\", \"2\", \"2\", \"2\", \"3\", \"2\", \"2\", \"2\", \"2\", \"2\", \"3\", \"2\", \"3\", \"2\", \"2\", \"2\", \"3\", \"2\", \"2\", \"3\", \"2\", \"2\", \"2\", \"2\", \"3\", \"2\", \"3\", \"2\", \"2\", \"2\", \"3\", \"3\", \"3\", \"2\", \"2\", \"2\", \"3\", \"2\", \"2\", \"3\", \"3\", \"2\", \"2\", \"2\", \"2\", \"2\", \"2\", \"2\", \"2\", \"1\", \"3\", \"2\", \"2\", \"2\", \"1\", \"3\", \"3\", \"1\", \"2\", \"2\", \"2\", \"2\", \"2\", \"2\", \"1\", \"2\", \"2\", \"2\", \"2\", \"2\", \"3\", \"2\", \"2\", \"2\", \"2\", \"2\", \"2\", \"2\", \"2\", \"3\", \"3\", \"3\", \"2\", \"3\", \"3\", \"1\", \"3\", \"3\", \"2\", \"2\", \"1\", \"2\", \"2\", \"2\", \"2\", \"3\", \"2\", \"2\", \"2\", \"3\", \"2\", \"2\", \"2\", \"3\", \"2\", \"2\", \"2\", \"2\", \"3\", \"2\", \"2\", \"2\", \"3\", \"3\", \"1\", \"2\", \"3\", \"3\", \"1\", \"1\", \"1\", \"2\", \"2\", \"2\", \"2\", \"2\", \"2\", \"2\", \"2\", \"2\", \"3\", \"2\", \"2\", \"2\", \"1\", \"2\", \"2\", \"2\", \"3\", \"3\", \"1\", \"3\", \"2\", \"2\", \"2\", \"2\", \"3\", \"3\", \"2\", \"1\", \"3\", \"3\", \"2\", \"2\", \"2\", \"2\", \"2\", \"2\", \"2\", \"1\", \"2\", \"3\", \"2\", \"2\", \"2\", \"3\", \"2\", \"3\", \"2\", \"1\", \"2\", \"2\", \"2\", \"2\", \"2\", \"2\", \"2\", \"3\", \"1\", \"2\", \"3\", \"2\", \"2\", \"2\", \"2\", \"2\", \"2\", \"2\", \"1\", \"2\", \"3\", \"2\", \"3\", \"3\", \"3\", \"2\", \"2\", \"2\", \"2\", \"2\", \"2\", \"2\", \"2\", \"3\", \"2\", \"2\", \"2\", \"2\", \"2\", \"2\", \"2\", \"2\", \"2\", \"1\", \"2\", \"1\", \"3\", \"3\", \"3\", \"3\", \"2\", \"2\", \"2\", \"2\", \"3\", \"3\", \"2\", \"2\", \"1\", \"2\", \"2\", \"2\", \"2\", \"2\", \"3\", \"2\", \"2\", \"2\", \"1\", \"3\", \"2\", \"1\", \"3\", \"2\", \"3\", \"2\", \"2\", \"2\", \"3\", \"2\", \"2\", \"2\", \"2\", \"2\", \"2\", \"2\", \"3\", \"2\", \"2\", \"3\", \"2\", \"3\", \"2\", \"2\", \"3\", \"2\", \"2\", \"2\", \"2\", \"2\", \"3\", \"3\", \"2\", \"2\", \"2\", \"3\", \"2\", \"1\", \"3\", \"3\", \"2\", \"3\", \"3\", \"2\", \"2\", \"1\", \"2\", \"2\", \"2\", \"3\", \"2\", \"1\", \"2\", \"2\", \"2\", \"2\", \"3\", \"2\", \"3\", \"2\", \"2\", \"2\", \"2\", \"2\", \"2\", \"2\", \"2\", \"2\", \"3\", \"2\", \"2\", \"3\", \"2\", \"2\", \"3\", \"2\", \"2\", \"3\", \"2\", \"2\", \"2\", \"2\", \"2\", \"2\", \"2\", \"2\", \"2\", \"2\", \"2\", \"2\", \"2\", \"3\", \"3\", \"2\", \"1\", \"3\", \"2\", \"2\", \"2\", \"2\", \"2\", \"2\", \"2\", \"1\", \"1\", \"2\", \"1\", \"2\", \"3\", \"2\", \"2\", \"3\", \"2\", \"3\", \"3\", \"2\", \"2\", \"1\", \"2\", \"2\", \"2\", \"2\", \"2\", \"2\", \"2\", \"3\", \"1\", \"2\", \"2\", \"2\", \"2\", \"2\", \"2\", \"2\", \"3\", \"2\", \"2\", \"3\", \"2\", \"2\", \"1\", \"2\", \"2\", \"2\", \"2\", \"3\", \"2\", \"3\", \"3\", \"3\", \"2\", \"3\", \"3\", \"3\", \"1\", \"1\", \"2\", \"2\", \"2\", \"3\", \"2\", \"2\", \"2\", \"2\", \"2\", \"2\", \"3\", \"2\", \"2\", \"2\", \"2\", \"3\", \"2\", \"2\", \"2\", \"2\", \"2\", \"2\", \"2\", \"2\", \"2\", \"2\", \"2\", \"2\", \"3\", \"3\", \"3\", \"3\", \"3\", \"2\", \"3\", \"3\", \"3\", \"3\", \"2\", \"3\", \"3\", \"3\", \"3\", \"3\", \"3\", \"3\", \"3\", \"3\", \"2\", \"3\", \"3\", \"2\", \"3\", \"3\", \"3\", \"3\", \"3\", \"3\", \"3\", \"3\", \"3\", \"3\", \"2\", \"3\", \"2\", \"2\", \"3\", \"3\", \"3\", \"2\", \"2\", \"1\", \"2\", \"3\", \"2\", \"2\", \"2\", \"2\", \"2\", \"2\", \"2\", \"3\", \"2\", \"3\", \"2\", \"3\", \"2\", \"1\", \"2\", \"2\", \"2\", \"2\", \"2\", \"1\", \"3\", \"2\", \"2\", \"1\", \"2\", \"2\", \"2\", \"1\", \"1\", \"3\", \"2\", \"2\", \"2\", \"1\", \"1\", \"2\", \"2\", \"2\", \"2\", \"2\", \"2\", \"2\", \"2\", \"1\", \"2\", \"3\", \"1\", \"3\", \"2\", \"1\", \"2\", \"2\", \"2\", \"2\", \"1\", \"2\", \"2\", \"1\", \"2\", \"3\", \"1\", \"1\", \"2\", \"1\", \"2\", \"2\", \"2\", \"1\", \"3\", \"3\", \"2\", \"2\", \"2\", \"2\", \"2\", \"3\", \"2\", \"2\", \"2\", \"1\", \"3\", \"2\", \"2\", \"2\", \"3\", \"3\", \"3\", \"3\", \"3\", \"3\", \"3\", \"3\", \"3\", \"2\", \"3\", \"3\", \"2\", \"3\", \"2\", \"3\", \"3\", \"3\", \"3\", \"3\", \"3\", \"3\", \"3\", \"3\", \"3\", \"3\", \"3\", \"3\", \"3\", \"3\", \"3\", \"2\", \"3\", \"2\", \"2\", \"3\", \"3\", \"2\", \"3\", \"1\", \"3\", \"2\", \"2\", \"2\", \"2\", \"1\", \"2\", \"2\", \"2\", \"2\", \"3\", \"3\", \"2\", \"2\", \"2\", \"3\", \"3\", \"2\", \"3\", \"3\", \"2\", \"2\", \"2\", \"3\", \"2\", \"3\", \"2\", \"2\", \"2\", \"3\", \"2\", \"2\", \"2\", \"2\", \"1\", \"3\", \"2\", \"2\", \"2\", \"2\", \"2\", \"2\", \"2\", \"1\", \"3\", \"3\", \"2\", \"1\", \"2\", \"2\", \"3\", \"1\", \"2\", \"2\", \"2\", \"2\", \"1\", \"2\", \"2\", \"2\", \"2\", \"2\", \"2\", \"3\", \"3\", \"3\", \"2\", \"1\", \"1\", \"1\", \"3\", \"3\", \"2\", \"3\", \"3\", \"2\", \"3\", \"2\", \"2\", \"2\", \"2\", \"2\", \"3\", \"2\", \"2\", \"2\", \"2\", \"2\", \"2\", \"2\", \"2\", \"2\", \"2\", \"2\", \"2\", \"2\", \"2\", \"2\", \"2\", \"2\", \"2\", \"2\", \"2\", \"2\", \"3\", \"2\", \"2\", \"2\", \"2\", \"2\", \"2\", \"2\", \"2\", \"3\", \"2\", \"2\", \"2\", \"3\", \"2\", \"1\", \"2\", \"2\", \"2\", \"2\", \"3\", \"2\", \"2\", \"2\", \"2\", \"3\", \"3\", \"1\", \"3\", \"2\", \"2\", \"2\", \"2\", \"2\", \"2\", \"2\", \"1\", \"2\", \"3\", \"2\", \"2\", \"2\", \"2\", \"3\", \"2\", \"2\", \"2\", \"2\", \"3\", \"3\", \"2\", \"3\", \"3\", \"2\", \"2\", \"2\", \"2\", \"3\", \"3\", \"2\", \"2\", \"1\", \"2\", \"2\", \"1\", \"3\", \"2\", \"3\", \"1\", \"2\", \"2\", \"2\", \"2\", \"2\", \"2\", \"2\", \"2\", \"3\", \"2\", \"2\", \"1\", \"1\", \"2\", \"2\", \"2\", \"2\", \"2\", \"2\", \"2\", \"2\", \"2\", \"3\", \"2\", \"2\", \"2\", \"1\", \"2\", \"3\", \"2\", \"3\", \"3\", \"3\", \"1\", \"3\", \"3\", \"3\", \"3\", \"3\", \"3\", \"3\", \"3\", \"3\", \"2\", \"2\", \"2\", \"2\", \"2\", \"2\", \"2\", \"3\", \"2\", \"3\", \"3\", \"2\", \"2\", \"2\", \"2\", \"2\", \"2\", \"2\", \"2\", \"2\", \"2\", \"3\", \"2\", \"3\", \"2\", \"3\", \"3\", \"1\", \"2\", \"2\", \"2\", \"2\", \"2\", \"2\", \"2\", \"2\", \"2\", \"2\", \"3\", \"3\", \"2\", \"2\", \"2\", \"2\", \"2\", \"3\", \"3\", \"1\", \"2\", \"2\", \"3\", \"3\", \"3\", \"2\", \"2\", \"2\", \"3\", \"2\", \"1\", \"2\", \"2\", \"2\", \"2\", \"2\", \"3\", \"1\", \"3\", \"3\", \"1\", \"2\", \"2\", \"1\", \"2\", \"3\", \"2\", \"2\", \"2\", \"2\", \"3\", \"3\", \"2\", \"2\", \"3\", \"2\", \"2\", \"2\", \"1\", \"2\", \"2\", \"2\", \"2\", \"2\", \"3\", \"2\", \"2\", \"3\", \"3\", \"3\", \"2\", \"3\", \"2\", \"2\", \"2\", \"2\", \"2\", \"2\", \"2\", \"1\", \"2\", \"2\", \"2\", \"3\", \"2\", \"3\", \"2\", \"1\", \"2\", \"3\", \"2\", \"2\", \"2\", \"2\", \"2\", \"2\", \"2\", \"3\", \"2\", \"2\", \"2\", \"2\", \"3\", \"2\", \"2\", \"2\", \"1\", \"2\", \"3\", \"2\", \"2\", \"2\", \"2\", \"2\", \"2\", \"3\", \"2\", \"2\", \"2\", \"2\", \"2\", \"2\", \"2\", \"2\", \"2\", \"2\", \"2\", \"2\", \"2\", \"2\", \"3\", \"2\", \"2\", \"2\", \"2\", \"2\", \"2\", \"2\", \"3\", \"2\", \"1\", \"3\", \"2\", \"2\", \"2\", \"2\", \"3\", \"2\", \"2\", \"2\", \"2\", \"2\", \"2\", \"2\", \"2\", \"2\", \"2\", \"2\", \"2\", \"2\", \"2\", \"3\", \"2\", \"1\", \"2\", \"2\", \"1\", \"2\", \"1\", \"2\", \"1\", \"2\", \"2\", \"2\", \"3\", \"3\", \"2\", \"2\", \"3\", \"2\", \"2\", \"3\", \"2\", \"2\", \"2\", \"2\", \"3\", \"2\", \"2\", \"1\", \"2\", \"3\", \"2\", \"2\", \"2\", \"2\", \"3\", \"2\", \"2\", \"3\", \"2\", \"1\", \"2\", \"3\", \"2\", \"2\", \"3\", \"2\", \"3\", \"2\", \"2\", \"2\", \"2\", \"3\", \"3\", \"2\", \"3\", \"2\", \"2\", \"2\", \"3\", \"1\", \"3\", \"2\", \"2\", \"2\", \"2\", \"2\", \"1\", \"1\", \"2\", \"2\", \"2\", \"2\", \"3\", \"3\", \"2\", \"3\", \"3\", \"3\", \"2\", \"2\", \"2\", \"2\", \"2\", \"2\", \"2\", \"2\", \"3\", \"2\", \"2\", \"1\", \"2\", \"2\", \"2\", \"2\", \"2\", \"2\", \"3\", \"2\", \"1\", \"1\", \"2\", \"2\", \"2\", \"2\", \"3\", \"2\", \"3\", \"2\", \"2\", \"2\", \"2\", \"2\", \"3\", \"2\", \"2\", \"2\", \"3\", \"2\", \"2\", \"2\", \"2\", \"3\", \"3\", \"3\", \"2\", \"2\", \"2\", \"2\", \"2\", \"2\", \"2\", \"3\", \"3\", \"2\", \"3\", \"3\", \"2\", \"2\", \"2\", \"1\", \"1\", \"2\", \"2\", \"2\", \"2\", \"1\", \"1\", \"2\", \"3\", \"3\", \"2\", \"2\", \"2\", \"2\", \"2\", \"2\", \"3\", \"2\", \"2\", \"2\", \"2\", \"2\", \"2\", \"2\", \"1\", \"2\", \"3\", \"3\", \"2\", \"1\", \"2\", \"3\", \"2\", \"2\", \"3\", \"2\", \"2\", \"2\", \"1\", \"1\", \"2\", \"1\", \"2\", \"3\", \"1\", \"2\", \"2\", \"2\", \"2\", \"3\", \"2\", \"2\", \"1\", \"3\", \"2\", \"2\", \"2\", \"2\", \"2\", \"2\", \"2\", \"3\", \"1\", \"2\", \"2\", \"3\", \"2\", \"2\", \"2\", \"3\", \"2\", \"2\", \"1\", \"2\", \"2\", \"2\", \"3\", \"2\", \"2\", \"2\", \"1\", \"2\", \"3\", \"2\", \"2\", \"2\", \"3\", \"3\", \"3\", \"2\", \"2\", \"2\", \"2\", \"3\", \"2\", \"3\", \"2\", \"2\", \"2\", \"2\", \"2\", \"2\", \"2\", \"2\", \"2\", \"2\", \"2\", \"1\", \"2\", \"2\", \"1\", \"2\", \"3\", \"2\", \"2\", \"3\", \"2\", \"2\", \"3\", \"3\", \"2\", \"2\", \"2\", \"2\", \"3\", \"2\", \"2\", \"2\", \"2\", \"2\", \"2\", \"1\", \"2\", \"2\", \"2\", \"2\", \"2\", \"2\", \"2\", \"2\", \"2\", \"2\", \"2\", \"2\", \"2\", \"3\", \"2\", \"2\", \"2\", \"2\", \"3\", \"3\", \"3\", \"3\", \"2\", \"3\", \"3\", \"2\", \"2\", \"2\", \"2\", \"2\", \"2\", \"2\", \"2\", \"2\", \"2\", \"2\", \"2\", \"2\", \"2\", \"3\", \"2\", \"2\", \"3\", \"2\", \"2\", \"2\", \"2\", \"1\", \"1\", \"2\", \"2\", \"1\", \"2\", \"2\", \"2\", \"2\", \"2\", \"2\", \"2\", \"2\", \"2\", \"2\", \"2\", \"2\", \"2\", \"2\", \"2\", \"2\", \"2\", \"3\", \"2\", \"1\", \"3\", \"1\", \"2\", \"2\", \"2\", \"1\", \"2\", \"3\", \"2\", \"3\", \"2\", \"3\", \"2\", \"2\", \"2\", \"2\", \"2\", \"2\", \"2\", \"1\", \"1\", \"2\", \"2\", \"3\", \"2\", \"2\", \"2\", \"3\", \"3\", \"2\", \"3\", \"2\", \"2\", \"2\", \"2\", \"2\", \"2\", \"2\", \"2\", \"2\", \"2\", \"2\", \"2\", \"3\", \"2\", \"2\", \"2\", \"2\", \"2\", \"3\", \"1\", \"3\", \"2\", \"2\", \"2\", \"2\", \"3\", \"3\", \"2\", \"2\", \"2\", \"3\", \"2\", \"3\", \"3\", \"2\", \"2\", \"2\", \"3\", \"2\", \"2\", \"2\", \"2\", \"2\", \"2\", \"1\", \"2\", \"2\", \"1\", \"2\", \"2\", \"2\", \"2\", \"2\", \"2\", \"2\", \"1\", \"2\", \"1\", \"2\", \"2\", \"2\", \"3\", \"2\", \"2\", \"2\", \"2\", \"2\", \"2\", \"1\", \"2\", \"2\", \"3\", \"2\", \"2\", \"3\", \"2\", \"2\", \"2\", \"2\", \"3\", \"2\", \"2\", \"2\", \"2\", \"2\", \"2\", \"1\", \"2\", \"2\", \"2\", \"2\", \"2\", \"2\", \"2\", \"3\", \"2\", \"3\", \"2\", \"3\", \"1\", \"1\", \"2\", \"2\", \"2\", \"2\", \"2\", \"3\", \"2\", \"2\", \"2\", \"2\", \"2\", \"1\", \"2\", \"1\", \"1\", \"2\", \"1\", \"2\", \"2\", \"1\", \"2\", \"2\", \"2\", \"2\", \"2\", \"2\", \"3\", \"2\", \"2\", \"1\", \"2\", \"1\", \"2\", \"3\", \"2\", \"2\", \"3\", \"2\", \"1\", \"2\", \"2\", \"3\", \"2\", \"2\", \"1\", \"3\", \"2\", \"2\", \"3\", \"2\", \"2\", \"2\", \"2\", \"2\", \"3\", \"3\", \"2\", \"2\", \"2\", \"2\", \"3\", \"2\", \"2\", \"3\", \"2\", \"3\", \"2\", \"2\", \"3\", \"2\", \"2\", \"2\", \"2\", \"2\", \"2\", \"2\", \"1\", \"2\", \"1\", \"2\", \"2\", \"3\", \"2\", \"3\", \"2\", \"2\", \"2\", \"2\", \"2\", \"2\", \"2\", \"2\", \"2\", \"2\", \"1\", \"2\", \"3\", \"3\", \"2\", \"3\", \"3\", \"2\", \"2\", \"3\", \"2\", \"3\", \"2\", \"2\", \"2\", \"3\", \"2\", \"2\", \"2\", \"2\", \"2\", \"3\", \"2\", \"2\", \"2\", \"3\", \"2\", \"2\", \"2\", \"2\", \"2\", \"2\", \"3\", \"2\", \"2\", \"2\", \"2\", \"2\", \"1\", \"3\", \"2\", \"1\", \"2\", \"1\", \"3\", \"2\", \"2\", \"2\", \"1\", \"2\", \"2\", \"1\", \"3\", \"3\", \"2\", \"3\", \"2\", \"2\", \"3\", \"2\", \"2\", \"3\", \"2\", \"3\", \"2\", \"2\", \"2\", \"2\", \"2\", \"2\", \"2\", \"2\", \"2\", \"2\", \"1\", \"2\", \"2\", \"2\", \"2\", \"3\", \"2\", \"2\", \"2\", \"2\", \"2\", \"2\", \"2\", \"2\", \"2\", \"2\", \"3\", \"2\", \"1\", \"2\", \"2\", \"2\", \"2\", \"2\", \"3\", \"2\", \"2\", \"2\", \"2\", \"1\", \"2\", \"2\", \"2\", \"2\", \"2\", \"2\", \"1\", \"2\", \"2\", \"2\", \"2\", \"2\", \"2\", \"2\", \"2\", \"2\", \"2\", \"2\", \"2\", \"2\", \"2\", \"2\", \"3\", \"2\", \"2\", \"2\", \"2\", \"2\", \"2\", \"2\", \"2\", \"2\", \"1\", \"3\", \"2\", \"3\", \"2\", \"2\", \"2\", \"2\", \"2\", \"2\", \"2\", \"2\", \"2\", \"2\", \"3\", \"2\", \"1\", \"2\", \"3\", \"2\", \"3\", \"1\", \"2\", \"2\", \"2\", \"2\", \"2\", \"2\", \"2\", \"2\", \"2\", \"2\", \"2\", \"2\", \"2\", \"2\", \"2\", \"2\", \"3\", \"2\", \"2\", \"2\", \"2\", \"2\", \"2\", \"3\", \"3\", \"1\", \"2\", \"2\", \"2\", \"2\", \"2\", \"1\", \"3\", \"2\", \"2\", \"2\", \"2\", \"2\", \"2\", \"2\", \"2\", \"3\", \"2\", \"2\", \"1\", \"2\", \"2\", \"2\", \"2\", \"2\", \"2\", \"3\", \"2\", \"2\", \"2\", \"2\", \"3\", \"2\", \"2\", \"3\", \"2\", \"2\", \"2\", \"2\", \"3\", \"3\", \"2\", \"2\", \"2\", \"3\", \"2\", \"1\", \"2\", \"3\", \"3\", \"2\", \"1\", \"2\", \"2\", \"2\", \"3\", \"3\", \"2\", \"2\", \"3\", \"2\", \"2\", \"2\", \"2\", \"2\", \"2\", \"2\", \"2\", \"3\", \"3\", \"2\", \"2\", \"2\", \"2\", \"2\", \"3\", \"2\", \"1\", \"2\", \"2\", \"2\", \"2\", \"2\", \"2\", \"2\", \"2\", \"1\", \"3\", \"1\", \"2\", \"2\", \"2\", \"2\", \"2\", \"3\", \"2\", \"2\", \"2\", \"1\", \"1\", \"3\", \"2\", \"2\", \"2\", \"3\", \"3\", \"3\", \"3\", \"1\", \"2\", \"2\", \"2\", \"2\", \"2\", \"2\", \"2\", \"2\", \"3\", \"2\", \"2\", \"2\", \"2\", \"2\", \"1\", \"2\", \"3\", \"2\", \"2\", \"2\", \"2\", \"2\", \"2\", \"3\", \"2\", \"2\", \"3\", \"3\", \"2\", \"2\", \"2\", \"2\", \"2\", \"2\", \"2\", \"2\", \"3\", \"3\", \"2\", \"2\", \"3\", \"3\", \"3\", \"2\", \"1\", \"2\", \"2\", \"2\", \"2\", \"2\", \"2\", \"2\", \"2\", \"3\", \"2\", \"2\", \"2\", \"2\", \"2\", \"3\", \"3\", \"2\", \"2\", \"1\", \"2\", \"3\", \"2\", \"2\", \"2\", \"2\", \"1\", \"2\", \"1\", \"2\", \"2\", \"2\", \"3\", \"2\", \"1\", \"2\", \"2\", \"2\", \"2\", \"2\", \"1\", \"2\", \"2\", \"2\", \"1\", \"2\", \"2\", \"1\", \"2\", \"1\", \"2\", \"2\", \"2\", \"3\", \"2\", \"2\", \"3\", \"2\", \"3\", \"2\", \"1\", \"3\", \"3\", \"2\", \"2\", \"2\", \"3\", \"3\", \"3\", \"2\", \"2\", \"3\", \"2\", \"2\", \"1\", \"2\", \"2\", \"3\", \"2\", \"2\", \"2\", \"2\", \"2\", \"2\", \"3\", \"1\", \"2\", \"2\", \"2\", \"3\", \"2\", \"2\", \"2\", \"2\", \"2\", \"2\", \"1\", \"2\", \"2\", \"2\", \"2\", \"2\", \"2\", \"2\", \"1\", \"2\", \"2\", \"2\", \"3\", \"1\", \"1\", \"2\", \"2\", \"2\", \"2\", \"2\", \"2\", \"2\", \"2\", \"2\", \"3\", \"2\", \"2\", \"2\", \"2\", \"3\", \"2\", \"2\", \"1\", \"2\", \"1\", \"2\", \"3\", \"2\", \"2\", \"3\", \"1\", \"2\", \"2\", \"2\", \"2\", \"2\", \"2\", \"2\", \"2\", \"2\", \"2\", \"2\", \"2\", \"1\", \"1\", \"2\", \"3\", \"2\", \"2\", \"1\", \"3\", \"2\", \"2\", \"1\", \"2\", \"1\", \"2\", \"2\", \"2\", \"3\", \"2\", \"2\", \"2\", \"2\", \"2\", \"2\", \"3\", \"3\", \"2\", \"1\", \"2\", \"2\", \"2\", \"2\", \"1\", \"3\", \"2\", \"2\", \"2\", \"2\", \"3\", \"2\", \"1\", \"1\", \"3\", \"1\", \"2\", \"3\", \"3\", \"3\", \"3\", \"2\", \"3\", \"2\", \"3\", \"3\", \"1\", \"2\", \"3\", \"2\", \"2\", \"1\", \"2\", \"2\", \"2\", \"2\", \"2\", \"2\", \"3\", \"1\", \"2\", \"3\", \"2\", \"3\", \"3\", \"2\", \"2\", \"2\", \"2\", \"2\", \"1\", \"2\", \"2\", \"2\", \"2\", \"2\", \"2\", \"2\", \"2\", \"3\", \"3\", \"1\", \"2\", \"2\", \"2\", \"2\", \"2\", \"3\", \"3\", \"2\", \"2\", \"2\", \"2\", \"2\", \"3\", \"3\", \"3\", \"1\", \"2\", \"2\", \"2\", \"2\", \"2\", \"2\", \"2\", \"2\", \"2\", \"1\", \"2\", \"3\", \"2\", \"2\", \"1\", \"2\", \"2\", \"3\", \"2\", \"2\", \"2\", \"2\", \"2\", \"2\", \"2\", \"2\", \"2\", \"2\", \"2\", \"1\", \"2\", \"3\", \"3\", \"1\", \"2\", \"2\", \"2\", \"2\", \"2\", \"2\", \"2\", \"2\", \"2\", \"2\", \"2\", \"3\", \"2\", \"2\", \"2\", \"2\", \"2\", \"3\", \"2\", \"2\", \"2\", \"2\", \"2\", \"2\", \"2\", \"2\", \"2\", \"3\", \"2\", \"2\", \"2\", \"2\", \"2\", \"3\", \"2\", \"2\", \"3\", \"3\", \"2\", \"1\", \"2\", \"2\", \"2\", \"3\", \"3\", \"2\", \"2\", \"3\", \"2\", \"3\", \"1\", \"3\", \"2\", \"2\", \"2\", \"3\", \"2\", \"2\", \"2\", \"2\", \"1\", \"3\", \"2\", \"2\", \"2\", \"2\", \"2\", \"2\", \"2\", \"1\", \"3\", \"2\", \"2\", \"2\", \"2\", \"2\", \"2\", \"2\", \"2\", \"2\", \"3\", \"2\", \"2\", \"2\", \"2\", \"3\", \"3\", \"2\", \"2\", \"2\", \"3\", \"2\", \"2\", \"2\", \"2\", \"2\", \"2\", \"2\", \"2\", \"2\", \"2\", \"2\", \"2\", \"3\", \"2\", \"2\", \"2\", \"3\", \"2\", \"2\", \"2\", \"2\", \"2\", \"1\", \"2\", \"2\", \"1\", \"2\", \"2\", \"2\", \"2\", \"2\", \"2\", \"2\", \"2\", \"3\", \"3\", \"2\", \"2\", \"2\", \"2\", \"2\", \"2\", \"2\", \"2\", \"2\", \"2\", \"2\", \"3\", \"2\", \"2\", \"3\", \"3\", \"2\", \"2\", \"2\", \"2\", \"1\", \"2\", \"1\", \"2\", \"2\", \"2\", \"2\", \"2\", \"2\", \"2\", \"2\", \"2\", \"2\", \"2\", \"2\", \"3\", \"2\", \"2\", \"2\", \"2\", \"2\", \"2\", \"2\", \"2\", \"2\", \"2\", \"2\", \"3\", \"2\", \"2\", \"2\", \"3\", \"2\", \"3\", \"2\", \"3\", \"2\", \"1\", \"2\", \"2\", \"2\", \"2\", \"2\", \"2\", \"2\", \"3\", \"2\", \"2\", \"2\", \"3\", \"3\", \"2\", \"2\", \"2\", \"2\", \"2\", \"3\", \"2\", \"2\", \"2\", \"3\", \"2\", \"2\", \"2\", \"1\", \"1\", \"3\", \"1\", \"3\", \"2\", \"2\", \"2\", \"2\", \"2\", \"2\", \"2\", \"1\", \"2\", \"3\", \"2\", \"1\", \"3\", \"2\", \"2\", \"2\", \"2\", \"2\", \"2\", \"2\", \"2\", \"2\", \"3\", \"3\", \"2\", \"2\", \"2\", \"3\", \"2\", \"2\", \"2\", \"1\", \"1\", \"3\", \"3\", \"2\", \"3\", \"2\", \"2\", \"2\", \"2\", \"3\", \"2\", \"2\", \"2\", \"2\", \"3\", \"1\", \"2\", \"3\", \"2\", \"3\", \"2\", \"2\", \"2\", \"2\", \"2\", \"3\", \"3\", \"3\", \"2\", \"2\", \"3\", \"3\", \"3\", \"2\", \"2\", \"2\", \"2\", \"2\", \"1\", \"2\", \"2\", \"2\", \"2\", \"2\", \"3\", \"1\", \"3\", \"2\", \"2\", \"3\", \"2\", \"2\", \"2\", \"3\", \"3\", \"1\", \"2\", \"3\", \"3\", \"3\", \"2\", \"2\", \"2\", \"3\", \"2\", \"2\", \"3\", \"2\", \"2\", \"2\", \"3\", \"2\", \"3\", \"1\", \"3\", \"2\", \"3\", \"2\", \"3\", \"2\", \"2\", \"2\", \"3\", \"2\", \"2\", \"2\", \"2\", \"2\", \"2\", \"2\", \"2\", \"2\", \"1\", \"3\", \"3\", \"2\", \"2\", \"2\", \"2\", \"2\", \"3\", \"3\", \"2\", \"2\", \"2\", \"3\", \"2\", \"3\", \"2\", \"2\", \"2\", \"2\", \"2\", \"2\", \"2\", \"2\", \"2\", \"2\", \"3\", \"2\", \"3\", \"2\", \"2\", \"3\", \"2\", \"2\", \"2\", \"2\", \"2\", \"2\", \"3\", \"2\", \"2\", \"3\", \"1\", \"2\", \"2\", \"2\", \"2\", \"2\", \"2\", \"2\", \"3\", \"3\", \"2\", \"2\", \"2\", \"2\", \"2\", \"1\", \"1\", \"2\", \"2\", \"2\", \"2\", \"2\", \"1\", \"2\", \"2\", \"2\", \"3\", \"2\", \"2\", \"2\", \"3\", \"2\", \"2\", \"2\", \"1\", \"2\", \"2\", \"2\", \"2\", \"1\", \"2\", \"2\", \"1\", \"2\", \"2\", \"2\", \"2\", \"2\", \"2\", \"2\", \"2\", \"2\", \"2\", \"2\", \"2\", \"2\", \"2\", \"1\", \"2\", \"2\", \"3\", \"2\", \"2\", \"3\", \"2\", \"1\", \"1\", \"1\", \"2\", \"3\", \"2\", \"2\", \"3\", \"3\", \"1\", \"1\", \"2\", \"2\", \"2\", \"2\", \"2\", \"2\", \"2\", \"2\", \"3\", \"2\", \"3\", \"2\", \"2\", \"2\", \"2\", \"2\", \"2\", \"1\", \"2\", \"2\", \"2\", \"2\", \"2\", \"3\", \"2\", \"2\", \"2\", \"3\", \"2\", \"3\", \"1\", \"2\", \"2\", \"2\", \"2\", \"3\", \"3\", \"2\", \"2\", \"2\", \"2\", \"2\", \"2\", \"2\", \"2\", \"3\", \"2\", \"2\", \"1\", \"1\", \"1\", \"2\", \"2\", \"2\", \"3\", \"2\", \"2\", \"2\", \"1\", \"2\", \"1\", \"2\", \"3\", \"2\", \"2\", \"2\", \"3\", \"2\", \"2\", \"3\", \"2\", \"2\", \"3\", \"2\", \"2\", \"1\", \"2\", \"2\", \"3\", \"2\", \"2\", \"3\", \"2\", \"2\", \"3\", \"2\", \"3\", \"3\", \"2\", \"2\", \"2\", \"1\", \"2\", \"2\", \"1\", \"2\", \"2\", \"2\", \"2\", \"2\", \"2\", \"2\", \"2\", \"2\", \"2\", \"2\", \"2\", \"1\", \"2\", \"2\", \"3\", \"3\", \"3\", \"3\", \"3\", \"2\", \"2\", \"2\", \"3\", \"2\", \"2\", \"2\", \"3\", \"3\", \"2\", \"2\", \"2\", \"3\", \"2\", \"1\", \"2\", \"2\", \"1\", \"2\", \"2\", \"1\", \"2\", \"3\", \"2\", \"2\", \"3\", \"2\", \"2\", \"2\", \"1\", \"2\", \"2\", \"3\", \"2\", \"2\", \"2\", \"2\", \"3\", \"2\", \"2\", \"2\", \"2\", \"2\", \"2\", \"2\", \"1\", \"2\", \"2\", \"3\", \"2\", \"3\", \"2\", \"3\", \"2\", \"1\", \"2\", \"3\", \"2\", \"2\", \"2\", \"2\", \"2\", \"2\", \"3\", \"2\", \"2\", \"2\", \"2\", \"2\", \"3\", \"2\", \"2\", \"2\", \"2\", \"2\", \"2\", \"2\", \"2\", \"2\", \"2\", \"3\", \"2\", \"2\", \"3\", \"2\", \"2\", \"2\", \"2\", \"2\", \"2\", \"1\", \"2\", \"2\", \"2\", \"1\", \"2\", \"2\", \"1\", \"1\", \"2\", \"2\", \"2\", \"2\", \"3\", \"2\", \"2\", \"2\", \"2\", \"2\", \"3\", \"3\", \"2\", \"2\", \"2\", \"2\", \"2\", \"2\", \"2\", \"3\", \"2\", \"2\", \"2\", \"2\", \"3\", \"2\", \"3\", \"2\", \"2\", \"3\", \"2\", \"2\", \"2\", \"2\", \"2\", \"3\", \"3\", \"2\", \"2\", \"1\", \"2\", \"2\", \"2\", \"1\", \"2\", \"2\", \"2\", \"2\", \"3\", \"2\", \"2\", \"1\", \"3\", \"2\", \"2\", \"2\", \"2\", \"2\", \"2\", \"3\", \"2\", \"2\", \"1\", \"2\", \"2\", \"2\", \"2\", \"1\", \"2\", \"2\", \"3\", \"2\", \"2\", \"3\", \"2\", \"1\", \"2\", \"2\", \"1\", \"2\", \"2\", \"3\", \"2\", \"2\", \"1\", \"3\", \"2\", \"2\", \"2\", \"2\", \"2\", \"3\", \"2\", \"2\", \"2\", \"2\", \"2\", \"2\", \"2\", \"2\", \"2\", \"2\", \"2\", \"2\", \"2\", \"2\", \"2\", \"2\", \"2\", \"2\", \"2\", \"2\", \"1\", \"1\", \"2\", \"3\", \"2\", \"2\", \"2\", \"2\", \"2\", \"2\", \"3\", \"2\", \"2\", \"3\", \"2\", \"2\", \"2\", \"3\", \"2\", \"2\", \"2\", \"2\", \"2\", \"2\", \"2\", \"2\", \"2\", \"2\", \"2\", \"2\", \"2\", \"3\", \"2\", \"3\", \"3\", \"1\", \"1\", \"2\", \"2\", \"2\", \"3\", \"1\", \"2\", \"2\", \"2\", \"2\", \"2\", \"1\", \"2\", \"2\", \"2\", \"2\", \"3\", \"1\", \"2\", \"2\", \"2\", \"2\", \"2\", \"3\", \"2\", \"2\", \"2\", \"2\", \"3\", \"2\", \"2\", \"2\", \"2\", \"2\", \"2\", \"3\", \"2\", \"2\", \"2\", \"2\", \"3\", \"2\", \"2\", \"3\", \"2\", \"2\", \"3\", \"2\", \"2\", \"2\", \"1\", \"2\", \"2\", \"2\", \"2\", \"3\", \"2\", \"2\", \"2\", \"1\", \"3\", \"2\", \"2\", \"3\", \"3\", \"1\", \"2\", \"2\", \"2\", \"1\", \"3\", \"3\", \"2\", \"2\", \"2\", \"2\", \"3\", \"2\", \"1\", \"2\", \"2\", \"2\", \"2\", \"3\", \"2\", \"3\", \"2\", \"2\", \"2\", \"3\", \"3\", \"2\", \"2\", \"1\", \"2\", \"2\", \"2\", \"1\", \"1\", \"2\", \"2\", \"2\", \"2\", \"3\", \"2\", \"3\", \"1\", \"2\", \"2\", \"2\", \"3\", \"2\", \"2\", \"2\", \"3\", \"3\", \"2\", \"2\", \"2\", \"2\", \"2\", \"3\", \"3\", \"2\", \"2\", \"2\", \"2\", \"2\", \"1\", \"2\", \"2\", \"2\", \"2\", \"2\", \"1\", \"2\", \"2\", \"2\", \"1\", \"2\", \"2\", \"2\", \"2\", \"2\", \"1\", \"2\", \"1\", \"2\", \"2\", \"2\", \"2\", \"2\", \"2\", \"2\", \"2\", \"2\", \"1\", \"2\", \"2\", \"1\", \"2\", \"2\", \"2\", \"3\", \"3\", \"3\", \"1\", \"3\", \"2\", \"3\", \"2\", \"3\", \"1\", \"1\", \"2\", \"2\", \"2\", \"2\", \"2\", \"2\", \"2\", \"3\", \"2\", \"2\", \"2\", \"2\", \"2\", \"3\", \"3\", \"2\", \"2\", \"2\", \"2\", \"3\", \"2\", \"2\", \"1\", \"2\", \"3\", \"2\", \"2\", \"3\", \"1\", \"1\", \"2\", \"3\", \"1\", \"2\", \"2\", \"2\", \"2\", \"2\", \"2\", \"2\", \"1\", \"2\", \"2\", \"2\", \"2\", \"3\", \"2\", \"3\", \"2\", \"2\", \"3\", \"1\", \"2\", \"3\", \"3\", \"2\", \"2\", \"3\", \"2\", \"3\", \"3\", \"1\", \"2\", \"3\", \"2\", \"2\", \"1\", \"2\", \"3\", \"2\", \"2\", \"2\", \"2\", \"2\", \"2\", \"1\", \"2\", \"2\", \"2\", \"2\", \"2\", \"2\", \"2\", \"2\", \"2\", \"2\", \"3\", \"2\", \"3\", \"3\", \"2\", \"3\", \"1\", \"2\", \"3\", \"3\", \"2\", \"3\", \"3\", \"2\", \"2\", \"2\", \"2\", \"3\", \"1\", \"2\", \"3\", \"2\", \"3\", \"3\", \"2\", \"2\", \"2\", \"2\", \"2\", \"3\", \"2\", \"2\", \"2\", \"2\", \"3\", \"2\", \"1\", \"2\", \"2\", \"2\", \"2\", \"2\", \"1\", \"2\", \"2\", \"1\", \"1\", \"2\", \"3\", \"2\", \"2\", \"2\", \"3\", \"2\", \"1\", \"2\", \"2\", \"2\", \"2\", \"2\", \"3\", \"2\", \"2\", \"3\", \"2\", \"2\", \"2\", \"3\", \"2\", \"2\", \"2\", \"3\", \"1\", \"2\", \"1\", \"2\", \"2\", \"1\", \"2\", \"2\", \"2\", \"2\", \"2\", \"2\", \"2\", \"2\", \"2\", \"1\", \"2\", \"2\", \"2\", \"2\", \"2\", \"2\", \"2\", \"2\", \"2\", \"2\", \"3\", \"3\", \"2\", \"1\", \"2\", \"1\", \"2\", \"3\", \"2\", \"2\", \"2\", \"2\", \"2\", \"3\", \"2\", \"3\", \"3\", \"2\", \"3\", \"2\", \"1\", \"2\", \"2\", \"2\", \"2\", \"1\", \"3\", \"1\", \"2\", \"1\", \"2\", \"2\", \"3\", \"2\", \"2\", \"2\", \"2\", \"2\", \"2\", \"2\", \"3\", \"1\", \"3\", \"2\", \"2\", \"2\", \"2\", \"1\", \"2\", \"2\", \"2\", \"2\", \"3\", \"3\", \"2\", \"1\", \"2\", \"3\", \"2\", \"3\", \"2\", \"3\", \"1\", \"3\", \"2\", \"2\", \"2\", \"2\", \"2\", \"2\", \"2\", \"2\", \"2\", \"2\", \"2\", \"2\", \"2\", \"2\", \"3\", \"2\", \"3\", \"2\", \"2\", \"3\", \"2\", \"2\", \"2\", \"1\", \"3\", \"3\", \"3\", \"1\", \"2\", \"2\", \"2\", \"3\", \"3\", \"2\", \"2\", \"2\", \"2\", \"1\", \"2\", \"2\", \"2\", \"1\", \"1\", \"2\", \"2\", \"2\", \"3\", \"2\", \"2\", \"2\", \"2\", \"2\", \"2\", \"2\", \"2\", \"2\", \"2\", \"2\", \"2\", \"2\", \"2\", \"2\", \"2\", \"3\", \"1\", \"2\", \"3\", \"2\", \"2\", \"2\", \"1\", \"1\", \"2\", \"2\", \"1\", \"2\", \"3\", \"1\", \"2\", \"2\", \"1\", \"2\", \"2\", \"2\", \"1\", \"2\", \"2\", \"1\", \"2\", \"2\", \"2\", \"2\", \"2\", \"3\", \"2\", \"3\", \"3\", \"2\", \"2\", \"2\", \"2\", \"2\", \"2\", \"2\", \"2\", \"2\", \"1\", \"1\", \"2\", \"2\", \"2\", \"2\", \"3\", \"2\", \"2\", \"2\", \"2\", \"2\", \"2\", \"2\", \"3\", \"2\", \"2\", \"3\", \"3\", \"2\", \"2\", \"1\", \"2\", \"2\", \"3\", \"2\", \"3\", \"2\", \"2\", \"2\", \"2\", \"2\", \"2\", \"2\", \"2\", \"2\", \"2\", \"2\", \"2\", \"2\", \"2\", \"3\", \"2\", \"1\", \"2\", \"2\", \"2\", \"2\", \"2\", \"2\", \"1\", \"3\", \"2\", \"2\", \"3\", \"2\", \"2\", \"1\", \"2\", \"3\", \"2\", \"2\", \"2\", \"3\", \"2\", \"2\", \"2\", \"2\", \"2\", \"2\", \"3\", \"2\", \"1\", \"2\", \"2\", \"2\", \"2\", \"2\", \"2\", \"2\", \"2\", \"2\", \"2\", \"3\", \"2\", \"2\", \"2\", \"1\", \"2\", \"2\", \"2\", \"2\", \"2\", \"2\", \"3\", \"2\", \"2\", \"2\", \"3\", \"2\", \"3\", \"2\", \"2\", \"2\", \"2\", \"2\", \"2\", \"1\", \"3\", \"2\", \"3\", \"2\", \"2\", \"2\", \"2\", \"2\", \"2\", \"2\", \"2\", \"3\", \"2\", \"2\", \"2\", \"2\", \"2\", \"2\", \"3\", \"2\", \"2\", \"2\", \"2\", \"2\", \"2\", \"3\", \"2\", \"2\", \"2\", \"2\", \"1\", \"2\", \"2\", \"2\", \"1\", \"3\", \"2\", \"2\", \"2\", \"2\", \"2\", \"2\", \"2\", \"2\", \"2\", \"2\", \"2\", \"2\", \"2\", \"1\", \"2\", \"2\", \"2\", \"1\", \"2\", \"2\", \"2\", \"1\", \"2\", \"2\", \"2\", \"2\", \"2\", \"2\", \"2\", \"3\", \"2\", \"2\", \"3\", \"3\", \"3\", \"2\", \"3\", \"2\", \"2\", \"3\", \"2\", \"2\", \"2\", \"2\", \"2\", \"1\", \"3\", \"2\", \"3\", \"3\", \"2\", \"2\", \"3\", \"2\", \"1\", \"2\", \"2\", \"3\", \"2\", \"2\", \"2\", \"2\", \"2\", \"2\", \"2\", \"2\", \"2\", \"2\", \"2\", \"2\", \"2\", \"2\", \"2\", \"2\", \"2\", \"2\", \"2\", \"2\", \"2\", \"2\", \"2\", \"3\", \"3\", \"2\", \"2\", \"2\", \"2\", \"2\", \"2\", \"2\", \"2\", \"2\", \"2\", \"2\", \"1\", \"3\", \"2\", \"2\", \"2\", \"2\", \"2\", \"1\", \"1\", \"2\", \"3\", \"2\", \"2\", \"2\", \"2\", \"3\", \"2\", \"2\", \"3\", \"2\", \"2\", \"3\", \"2\", \"3\", \"2\", \"2\", \"2\", \"2\", \"2\", \"2\", \"2\", \"2\", \"2\", \"1\", \"2\", \"2\", \"3\", \"1\", \"1\", \"3\", \"3\", \"2\", \"2\", \"2\", \"2\", \"2\", \"2\", \"2\", \"2\", \"2\", \"2\", \"2\", \"2\", \"2\", \"3\", \"3\", \"2\", \"1\", \"3\", \"2\", \"3\", \"2\", \"2\", \"2\", \"2\", \"3\", \"3\", \"2\", \"2\", \"2\", \"2\", \"2\", \"1\", \"2\", \"2\", \"2\", \"2\", \"2\", \"1\", \"2\", \"1\", \"2\", \"2\", \"2\", \"1\", \"2\", \"2\", \"2\", \"1\", \"2\", \"1\", \"2\", \"2\", \"2\", \"1\", \"2\", \"2\", \"3\", \"1\", \"2\", \"2\", \"3\", \"3\", \"2\", \"2\", \"3\", \"2\", \"2\", \"2\", \"2\", \"2\", \"2\", \"2\", \"2\", \"2\", \"2\", \"2\", \"2\", \"2\", \"3\", \"3\", \"2\", \"1\", \"2\", \"2\", \"2\", \"2\", \"2\", \"2\", \"1\", \"1\", \"1\", \"2\", \"2\", \"2\", \"2\", \"2\", \"3\", \"3\", \"3\", \"3\", \"3\", \"2\", \"1\", \"2\", \"2\", \"2\", \"2\", \"2\", \"2\", \"3\", \"3\", \"3\", \"3\", \"3\", \"3\", \"3\", \"3\", \"2\", \"2\", \"3\", \"2\", \"2\", \"2\", \"2\", \"2\", \"2\", \"2\", \"2\", \"3\", \"2\", \"3\", \"2\", \"3\", \"1\", \"2\", \"2\", \"2\", \"1\", \"1\", \"3\", \"1\", \"2\", \"2\", \"2\", \"1\", \"2\", \"3\", \"2\", \"2\", \"3\", \"2\", \"2\", \"2\", \"2\", \"2\", \"2\", \"2\", \"2\", \"1\", \"3\", \"2\", \"2\", \"2\", \"3\", \"2\", \"3\", \"1\", \"1\", \"1\", \"2\", \"2\", \"2\", \"2\", \"2\", \"2\", \"2\", \"3\", \"3\", \"1\", \"1\", \"3\", \"2\", \"3\", \"3\", \"2\", \"2\", \"2\", \"2\", \"3\", \"3\", \"3\", \"3\", \"3\", \"3\", \"2\", \"3\", \"2\", \"3\", \"3\", \"3\", \"2\", \"2\", \"2\", \"2\", \"3\", \"2\", \"1\", \"2\", \"2\", \"2\", \"2\", \"2\", \"2\", \"2\", \"2\", \"2\", \"2\", \"1\", \"2\", \"2\", \"2\", \"2\", \"2\", \"2\", \"2\", \"2\", \"2\", \"2\", \"2\", \"2\", \"2\", \"2\", \"2\", \"2\", \"2\", \"2\", \"2\", \"2\", \"2\", \"2\", \"2\", \"2\", \"2\", \"2\", \"2\", \"2\", \"3\", \"2\", \"2\", \"2\", \"2\", \"2\", \"2\", \"2\", \"2\", \"2\", \"2\", \"2\", \"2\", \"1\", \"3\", \"2\", \"1\", \"3\", \"3\", \"1\", \"1\", \"2\", \"2\", \"2\", \"2\", \"2\", \"2\", \"1\", \"2\", \"2\", \"3\", \"3\", \"2\", \"2\", \"2\", \"1\", \"3\", \"2\", \"2\", \"2\", \"1\", \"2\", \"2\", \"2\", \"2\", \"2\", \"2\", \"2\", \"2\", \"2\", \"3\", \"2\", \"3\", \"3\", \"3\", \"3\", \"3\", \"2\", \"3\", \"3\", \"3\", \"2\", \"2\", \"2\", \"2\", \"2\", \"3\", \"2\", \"2\", \"2\", \"3\", \"2\", \"2\", \"2\", \"2\", \"3\", \"3\", \"3\", \"3\", \"3\", \"2\", \"2\", \"3\", \"2\", \"2\", \"3\", \"2\", \"2\", \"2\", \"2\", \"2\", \"2\", \"2\", \"2\", \"3\", \"2\", \"2\", \"2\", \"2\", \"3\", \"2\", \"1\", \"2\", \"2\", \"2\", \"1\", \"2\", \"2\", \"2\", \"2\", \"2\", \"2\", \"3\", \"3\", \"2\", \"3\", \"2\", \"2\", \"2\", \"2\", \"2\", \"2\", \"3\", \"2\", \"2\", \"2\", \"3\", \"2\", \"2\", \"2\", \"2\", \"2\", \"2\", \"2\", \"3\", \"3\", \"2\", \"2\", \"2\", \"2\", \"2\", \"1\", \"2\", \"3\", \"2\", \"3\", \"2\", \"2\", \"1\", \"2\", \"2\", \"1\", \"2\", \"2\", \"2\", \"3\", \"2\", \"2\", \"2\", \"3\", \"3\", \"2\", \"3\", \"2\", \"2\", \"2\", \"3\", \"3\", \"2\", \"3\", \"3\", \"2\", \"2\", \"2\", \"2\", \"2\", \"2\", \"2\", \"2\", \"1\", \"2\", \"2\", \"3\", \"2\", \"2\", \"2\", \"2\", \"2\", \"2\", \"2\", \"3\", \"2\", \"2\", \"2\", \"2\", \"2\", \"2\", \"2\", \"2\", \"3\", \"2\", \"1\", \"2\", \"2\", \"2\", \"2\", \"2\", \"2\", \"2\", \"1\", \"2\", \"2\", \"2\", \"2\", \"2\", \"2\", \"2\", \"3\", \"1\", \"2\", \"2\", \"2\", \"2\", \"2\", \"2\", \"2\", \"2\", \"2\", \"2\", \"1\", \"3\", \"2\", \"1\", \"2\", \"2\", \"2\", \"2\", \"2\", \"2\", \"2\", \"2\", \"2\", \"2\", \"2\", \"2\", \"2\", \"3\", \"3\", \"3\", \"3\", \"2\", \"2\", \"2\", \"2\", \"2\", \"2\", \"2\", \"2\", \"2\", \"2\", \"2\", \"3\", \"3\", \"2\", \"2\", \"2\", \"1\", \"2\", \"2\", \"2\", \"2\", \"2\", \"2\", \"1\", \"2\", \"2\", \"2\", \"2\", \"2\", \"2\", \"3\", \"3\", \"2\", \"2\", \"2\", \"2\", \"2\", \"3\", \"3\", \"3\", \"2\", \"3\", \"3\", \"2\", \"2\", \"1\", \"2\", \"3\", \"2\", \"2\", \"2\", \"1\", \"2\", \"2\", \"2\", \"2\", \"2\", \"2\", \"3\", \"2\", \"1\", \"2\", \"1\", \"1\", \"2\", \"2\", \"2\", \"2\", \"2\", \"2\", \"3\", \"2\", \"3\", \"2\", \"2\", \"2\", \"2\", \"3\", \"2\", \"2\", \"2\", \"2\", \"3\", \"2\", \"2\", \"2\", \"2\", \"2\", \"2\", \"2\", \"2\", \"2\", \"2\", \"2\", \"2\", \"2\", \"3\", \"1\", \"1\", \"2\", \"2\", \"2\", \"2\", \"2\", \"1\", \"1\", \"2\", \"2\", \"3\", \"3\", \"2\", \"2\", \"3\", \"2\", \"2\", \"2\", \"2\", \"2\", \"2\", \"2\", \"2\", \"2\", \"3\", \"3\", \"3\", \"3\", \"2\", \"2\", \"1\", \"2\", \"1\", \"2\", \"2\", \"2\", \"2\", \"2\", \"2\", \"2\", \"1\", \"2\", \"2\", \"1\", \"3\", \"1\", \"1\", \"2\", \"2\", \"2\", \"3\", \"2\", \"1\", \"2\", \"1\", \"2\", \"2\", \"2\", \"2\", \"2\", \"2\", \"2\", \"2\", \"2\", \"2\", \"2\", \"1\", \"1\", \"2\", \"2\", \"3\", \"3\", \"2\", \"2\", \"3\", \"2\", \"2\", \"2\", \"2\", \"3\", \"2\", \"2\", \"2\", \"2\", \"2\", \"3\", \"3\", \"3\", \"3\", \"2\", \"3\", \"2\", \"3\", \"2\", \"3\", \"2\", \"2\", \"2\", \"2\", \"2\", \"2\", \"3\", \"2\", \"2\", \"3\", \"2\", \"2\", \"2\", \"3\", \"1\", \"2\", \"2\", \"2\", \"2\", \"2\", \"3\", \"3\", \"3\", \"2\", \"3\", \"3\", \"3\", \"3\", \"2\", \"2\", \"2\", \"2\", \"1\", \"2\", \"2\", \"2\", \"1\", \"2\", \"3\", \"2\", \"2\", \"2\", \"2\", \"1\", \"2\", \"1\", \"2\", \"2\", \"2\", \"2\", \"2\", \"3\", \"2\", \"2\", \"2\", \"2\", \"3\", \"3\", \"2\", \"2\", \"2\", \"2\", \"2\", \"2\", \"2\", \"2\", \"2\", \"2\", \"2\", \"2\", \"2\", \"2\", \"2\", \"2\", \"2\", \"3\", \"2\", \"2\", \"2\", \"2\", \"2\", \"2\", \"2\", \"1\", \"1\", \"1\", \"2\", \"2\", \"3\", \"2\", \"2\", \"2\", \"2\", \"2\", \"1\", \"1\", \"2\", \"1\", \"2\", \"1\", \"2\", \"1\", \"3\", \"2\", \"3\", \"1\", \"3\", \"3\", \"2\", \"2\", \"2\", \"2\", \"2\", \"1\", \"1\", \"2\", \"2\", \"2\", \"2\", \"2\", \"2\", \"2\", \"2\", \"2\", \"1\", \"2\", \"2\", \"2\", \"3\", \"1\", \"2\", \"2\", \"2\", \"2\", \"1\", \"2\", \"2\", \"3\", \"2\", \"2\", \"3\", \"2\", \"2\", \"3\", \"3\", \"2\", \"3\", \"2\", \"2\", \"3\", \"2\", \"3\", \"2\", \"2\", \"3\", \"3\", \"2\", \"2\", \"2\", \"2\", \"1\", \"2\", \"2\", \"2\", \"2\", \"2\", \"2\", \"2\", \"2\", \"2\", \"2\", \"2\", \"2\", \"2\", \"2\", \"2\", \"1\", \"1\", \"2\", \"2\", \"2\", \"3\", \"3\", \"2\", \"2\", \"2\", \"2\", \"2\", \"2\", \"3\", \"3\", \"3\", \"3\", \"3\", \"3\", \"2\", \"3\", \"2\", \"2\", \"2\", \"2\", \"3\", \"3\", \"3\", \"2\", \"3\", \"2\", \"3\", \"2\", \"2\", \"2\", \"2\", \"2\", \"2\", \"3\", \"2\", \"3\", \"2\", \"3\", \"2\", \"3\", \"3\", \"2\", \"2\", \"3\", \"2\", \"2\", \"3\", \"1\", \"2\", \"2\", \"3\", \"1\", \"1\", \"2\", \"2\", \"2\", \"2\", \"3\", \"3\", \"2\", \"2\", \"2\", \"2\", \"3\", \"2\", \"2\", \"2\", \"3\", \"2\", \"2\", \"3\", \"1\", \"2\", \"2\", \"3\", \"2\", \"2\", \"2\", \"2\", \"2\", \"3\", \"2\", \"2\", \"2\", \"2\", \"2\", \"2\", \"1\", \"2\", \"2\", \"2\", \"2\", \"2\", \"2\", \"2\", \"3\", \"1\", \"3\", \"2\", \"2\", \"2\", \"2\", \"2\", \"2\", \"2\", \"2\", \"1\", \"2\", \"3\", \"2\", \"2\", \"3\", \"2\", \"3\", \"2\", \"2\", \"3\", \"3\", \"3\", \"3\", \"3\", \"3\", \"2\", \"2\", \"3\", \"2\", \"2\", \"3\", \"3\", \"3\", \"3\", \"2\", \"2\", \"2\", \"2\", \"2\", \"2\", \"2\", \"2\", \"2\", \"2\", \"2\", \"2\", \"2\", \"2\", \"2\", \"2\", \"1\", \"2\", \"3\", \"3\", \"2\", \"3\", \"1\", \"1\", \"2\", \"1\", \"3\", \"3\", \"2\", \"2\", \"3\", \"2\", \"2\", \"2\", \"2\", \"2\", \"3\", \"1\", \"2\", \"2\", \"2\", \"3\", \"2\", \"2\", \"2\", \"2\", \"2\", \"3\", \"2\", \"2\", \"3\", \"2\", \"2\", \"3\", \"2\", \"1\", \"2\", \"3\", \"2\", \"2\", \"2\", \"2\", \"2\", \"2\", \"2\", \"1\", \"3\", \"1\", \"2\", \"2\", \"2\", \"2\", \"1\", \"2\", \"2\", \"2\", \"3\", \"3\", \"1\", \"3\", \"2\", \"2\", \"2\", \"1\", \"2\", \"2\", \"2\", \"2\", \"3\", \"3\", \"2\", \"3\", \"2\", \"2\", \"2\", \"2\", \"2\", \"3\", \"2\", \"2\", \"2\", \"2\", \"2\", \"3\", \"2\", \"2\", \"2\", \"2\", \"2\", \"2\", \"2\", \"2\", \"2\", \"2\", \"3\", \"2\", \"2\", \"3\", \"3\", \"2\", \"1\", \"2\", \"2\", \"2\", \"2\", \"2\", \"2\", \"2\", \"2\", \"2\", \"2\", \"3\", \"1\", \"2\", \"2\", \"2\", \"1\", \"1\", \"3\", \"3\", \"2\", \"2\", \"2\", \"2\", \"2\", \"2\", \"2\", \"2\", \"3\", \"2\", \"2\", \"3\", \"2\", \"1\", \"2\", \"2\", \"3\", \"2\", \"2\", \"3\", \"2\", \"2\", \"2\", \"2\", \"3\", \"2\", \"3\", \"2\", \"1\", \"2\", \"2\", \"2\", \"2\", \"3\", \"2\", \"2\", \"2\", \"2\", \"3\", \"2\", \"2\", \"2\", \"2\", \"3\", \"2\", \"2\", \"2\", \"3\", \"2\", \"1\", \"2\", \"2\", \"3\", \"2\", \"3\", \"2\", \"2\", \"3\", \"2\", \"3\", \"2\", \"2\", \"2\", \"3\", \"1\", \"1\", \"2\", \"2\", \"2\", \"2\", \"2\", \"3\", \"3\", \"3\", \"3\", \"2\", \"2\", \"2\", \"3\", \"2\", \"2\", \"2\", \"2\", \"3\", \"2\", \"3\", \"3\", \"1\", \"2\", \"2\", \"2\", \"2\", \"3\", \"2\", \"2\", \"2\", \"2\", \"2\", \"2\", \"3\", \"3\", \"2\", \"1\", \"2\", \"2\", \"1\", \"2\", \"2\", \"2\", \"2\", \"2\", \"2\", \"3\", \"2\", \"1\", \"2\", \"2\", \"2\", \"2\", \"3\", \"2\", \"2\", \"2\", \"1\", \"2\", \"2\", \"2\", \"2\", \"1\", \"1\", \"3\", \"3\", \"1\", \"2\", \"1\", \"3\", \"2\", \"2\", \"2\", \"3\", \"2\", \"2\", \"2\", \"2\", \"2\", \"2\", \"2\", \"2\", \"2\", \"2\", \"2\", \"3\", \"2\", \"2\", \"2\", \"2\", \"2\", \"2\", \"3\", \"2\", \"2\", \"2\", \"3\", \"2\", \"2\", \"3\", \"2\", \"2\", \"2\", \"1\", \"3\", \"2\", \"2\", \"2\", \"2\", \"2\", \"2\", \"2\", \"3\", \"2\", \"2\", \"2\", \"2\", \"2\", \"2\", \"2\", \"2\", \"2\", \"2\", \"2\", \"3\", \"2\", \"3\", \"3\", \"3\", \"2\", \"2\", \"2\", \"1\", \"3\", \"1\", \"2\", \"2\", \"2\", \"1\", \"2\", \"2\", \"3\", \"3\", \"2\", \"2\", \"2\", \"2\", \"2\", \"2\", \"1\", \"2\", \"2\", \"1\", \"3\", \"1\", \"2\", \"2\", \"2\", \"1\", \"1\", \"2\", \"3\", \"3\", \"2\", \"2\", \"2\", \"2\", \"3\", \"2\", \"2\", \"2\", \"3\", \"2\", \"3\", \"2\", \"2\", \"2\", \"2\", \"2\", \"2\", \"2\", \"1\", \"2\", \"2\", \"2\", \"2\", \"2\", \"2\", \"3\", \"1\", \"3\", \"2\", \"2\", \"2\", \"2\", \"2\", \"2\", \"2\", \"2\", \"3\", \"2\", \"3\", \"2\", \"2\", \"2\", \"3\", \"3\", \"2\", \"2\", \"2\", \"3\", \"2\", \"3\", \"2\", \"2\", \"2\", \"2\", \"2\", \"3\", \"2\", \"2\", \"2\", \"2\", \"2\", \"2\", \"2\", \"2\", \"2\", \"2\", \"3\", \"1\", \"3\", \"2\", \"2\", \"1\", \"1\", \"2\", \"2\", \"2\", \"2\", \"3\", \"3\", \"2\", \"1\", \"2\", \"3\", \"3\", \"3\", \"2\", \"2\", \"2\", \"1\", \"3\", \"2\", \"2\", \"3\", \"3\", \"2\", \"2\", \"2\", \"1\", \"3\", \"2\", \"1\", \"2\", \"3\", \"2\", \"2\", \"2\", \"2\", \"1\", \"2\", \"2\", \"2\", \"2\", \"3\", \"2\", \"2\", \"2\", \"3\", \"2\", \"2\", \"2\", \"2\", \"2\", \"2\", \"2\", \"2\", \"2\", \"3\", \"2\", \"2\", \"2\", \"2\", \"2\", \"2\", \"2\", \"2\", \"2\", \"2\", \"2\", \"2\", \"1\", \"3\", \"2\", \"3\", \"3\", \"2\", \"2\", \"2\", \"3\", \"2\", \"2\", \"3\", \"2\", \"3\", \"2\", \"2\", \"1\", \"3\", \"2\", \"3\", \"2\", \"2\", \"2\", \"3\", \"1\", \"2\", \"2\", \"2\", \"3\", \"2\", \"2\", \"2\", \"3\", \"1\", \"2\", \"3\", \"3\", \"2\", \"2\", \"2\", \"3\", \"2\", \"2\", \"2\", \"2\", \"2\", \"2\", \"2\", \"2\", \"2\", \"2\", \"2\", \"3\", \"3\", \"2\", \"3\", \"3\", \"2\", \"3\", \"2\", \"2\", \"3\", \"3\", \"3\", \"2\", \"2\", \"2\", \"2\", \"2\", \"2\", \"2\", \"3\", \"1\", \"2\", \"3\", \"2\", \"2\", \"2\", \"2\", \"2\", \"2\", \"2\", \"3\", \"3\", \"1\", \"2\", \"3\", \"3\", \"1\", \"1\", \"2\", \"2\", \"2\", \"2\", \"2\", \"2\", \"2\", \"2\", \"2\", \"2\", \"2\", \"2\", \"2\", \"2\", \"2\", \"3\", \"1\", \"1\", \"3\", \"2\", \"1\", \"2\", \"3\", \"1\", \"2\", \"1\", \"2\", \"2\", \"2\", \"2\", \"2\", \"2\", \"2\", \"2\", \"1\", \"2\", \"2\", \"2\", \"2\", \"3\", \"3\", \"3\", \"2\", \"2\", \"3\", \"3\", \"3\", \"2\", \"1\", \"2\", \"2\", \"2\", \"2\", \"2\", \"3\", \"2\", \"2\", \"2\", \"2\", \"2\", \"2\", \"2\", \"2\", \"2\", \"2\", \"1\", \"3\", \"2\", \"3\", \"2\", \"2\", \"2\", \"2\", \"3\", \"3\", \"1\", \"2\", \"2\", \"2\", \"2\", \"2\", \"2\", \"3\", \"3\", \"2\", \"3\", \"3\", \"2\", \"3\", \"2\", \"3\", \"3\", \"3\", \"2\", \"2\", \"2\", \"2\", \"3\", \"3\", \"3\", \"3\", \"2\", \"2\", \"3\", \"1\", \"3\", \"2\", \"3\", \"3\", \"1\", \"2\", \"2\", \"2\", \"2\", \"2\", \"2\", \"3\", \"2\", \"3\", \"2\", \"2\", \"2\", \"2\", \"2\", \"1\", \"1\", \"1\", \"1\", \"2\", \"2\", \"2\", \"2\", \"2\", \"2\", \"2\", \"2\", \"2\", \"2\", \"2\", \"2\", \"2\", \"3\", \"2\", \"2\", \"2\", \"2\", \"2\", \"3\", \"2\", \"2\", \"2\", \"1\", \"2\", \"2\", \"3\", \"2\", \"2\", \"2\", \"3\", \"2\", \"3\", \"2\", \"3\", \"3\", \"1\", \"3\", \"2\", \"3\", \"2\", \"2\", \"2\", \"3\", \"1\", \"3\", \"2\", \"2\", \"2\", \"3\", \"2\", \"2\", \"2\", \"3\", \"2\", \"2\", \"2\", \"2\", \"2\", \"2\", \"2\", \"3\", \"2\", \"2\", \"3\", \"3\", \"1\", \"1\", \"3\", \"2\", \"3\", \"3\", \"3\", \"3\", \"1\", \"2\", \"1\", \"2\", \"2\", \"2\", \"2\", \"3\", \"2\", \"3\", \"3\", \"2\", \"2\", \"2\", \"3\", \"2\", \"3\", \"2\", \"2\", \"2\", \"2\", \"2\", \"2\", \"2\", \"1\", \"1\", \"2\", \"2\", \"3\", \"2\", \"2\", \"1\", \"2\", \"1\", \"2\", \"1\", \"2\", \"2\", \"1\", \"3\", \"2\", \"2\", \"3\", \"3\", \"2\", \"2\", \"2\", \"3\", \"2\", \"3\", \"3\", \"2\", \"2\", \"2\", \"3\", \"3\", \"2\", \"2\", \"2\", \"2\", \"2\", \"2\", \"2\", \"2\", \"2\", \"2\", \"1\", \"3\", \"2\", \"1\", \"2\", \"2\", \"3\", \"2\", \"2\", \"2\", \"2\", \"3\", \"2\", \"2\", \"1\", \"1\", \"2\", \"2\", \"2\", \"2\", \"2\", \"2\", \"2\", \"2\", \"2\", \"2\", \"3\", \"2\", \"2\", \"2\", \"2\", \"3\", \"2\", \"2\", \"2\", \"2\", \"3\", \"2\", \"1\", \"2\", \"2\", \"2\", \"2\", \"2\", \"1\", \"2\", \"2\", \"2\", \"2\", \"2\", \"3\", \"3\", \"2\", \"2\", \"2\", \"2\", \"3\", \"3\", \"3\", \"3\", \"2\", \"3\", \"2\", \"3\", \"2\", \"2\", \"3\", \"3\", \"2\", \"2\", \"2\", \"3\", \"2\", \"3\", \"2\", \"3\", \"2\", \"2\", \"2\", \"2\", \"3\", \"3\", \"2\", \"2\", \"1\", \"1\", \"2\", \"3\", \"2\", \"2\", \"3\", \"1\", \"1\", \"2\", \"3\", \"2\", \"2\", \"3\", \"3\", \"2\", \"2\", \"3\", \"1\", \"2\", \"2\", \"2\", \"2\", \"2\", \"2\", \"1\", \"2\", \"2\", \"2\", \"2\", \"3\", \"1\", \"2\", \"2\", \"1\", \"2\", \"2\", \"2\", \"1\", \"3\", \"2\", \"2\", \"2\", \"2\", \"2\", \"2\", \"2\", \"2\", \"2\", \"3\", \"2\", \"2\", \"3\", \"2\", \"2\", \"2\", \"2\", \"2\", \"2\", \"3\", \"2\", \"2\", \"2\", \"2\", \"2\", \"3\", \"2\", \"2\", \"2\", \"2\", \"2\", \"2\", \"2\", \"2\", \"2\", \"2\", \"3\", \"3\", \"1\", \"2\", \"3\", \"1\", \"3\", \"3\", \"1\", \"2\", \"2\", \"2\", \"3\", \"3\", \"3\", \"2\", \"3\", \"2\", \"3\", \"2\", \"2\", \"2\", \"1\", \"3\", \"2\", \"2\", \"2\", \"2\", \"2\", \"2\", \"3\", \"2\", \"2\", \"2\", \"2\", \"1\", \"2\", \"2\", \"3\", \"3\", \"2\", \"2\", \"2\", \"1\", \"2\", \"2\", \"2\", \"2\", \"3\", \"2\", \"2\", \"2\", \"2\", \"2\", \"2\", \"3\", \"2\", \"1\", \"2\", \"3\", \"2\", \"2\", \"3\", \"2\", \"2\", \"3\", \"2\", \"2\", \"2\", \"2\", \"3\", \"2\", \"1\", \"3\", \"2\", \"2\", \"2\", \"2\", \"3\", \"3\", \"2\", \"3\", \"2\", \"2\", \"3\", \"2\", \"2\", \"3\", \"2\", \"2\", \"2\", \"2\", \"1\", \"2\", \"2\", \"2\", \"2\", \"2\", \"2\", \"2\", \"2\", \"2\", \"2\", \"2\", \"2\", \"3\", \"2\", \"2\", \"2\", \"2\", \"2\", \"1\", \"3\", \"3\", \"2\", \"3\", \"2\", \"2\", \"2\", \"2\", \"2\", \"2\", \"3\", \"2\", \"2\", \"2\", \"2\", \"2\", \"2\", \"2\", \"3\", \"2\", \"2\", \"2\", \"2\", \"2\", \"3\", \"3\", \"3\", \"3\", \"3\", \"2\", \"2\", \"2\", \"2\", \"2\", \"2\", \"2\", \"2\", \"2\", \"3\", \"3\", \"2\", \"2\", \"3\", \"1\", \"2\", \"3\", \"2\", \"3\", \"2\", \"2\", \"2\", \"2\", \"2\", \"2\", \"3\", \"2\", \"2\", \"2\", \"1\", \"3\", \"2\", \"3\", \"3\", \"2\", \"1\", \"2\", \"1\", \"2\", \"1\", \"1\", \"1\", \"3\", \"3\", \"2\", \"3\", \"3\", \"1\", \"3\", \"2\", \"2\", \"1\", \"2\", \"2\", \"2\", \"3\", \"1\", \"3\", \"3\", \"3\", \"3\", \"2\", \"2\", \"2\", \"3\", \"2\", \"2\", \"1\", \"2\", \"2\", \"2\", \"2\", \"2\", \"2\", \"1\", \"3\", \"2\", \"3\", \"2\", \"2\", \"2\", \"1\", \"3\", \"3\", \"3\", \"2\", \"2\", \"2\", \"3\", \"3\", \"3\", \"3\", \"1\", \"1\", \"2\", \"3\", \"2\", \"2\", \"2\", \"1\", \"3\", \"1\", \"1\", \"1\", \"1\", \"2\", \"2\", \"2\", \"2\", \"3\", \"2\", \"3\", \"2\", \"3\", \"3\", \"2\", \"2\", \"3\", \"2\", \"3\", \"3\", \"3\", \"2\", \"2\", \"2\", \"2\", \"2\", \"1\", \"2\", \"2\", \"2\", \"1\", \"1\", \"2\", \"2\", \"2\", \"3\", \"2\", \"2\", \"2\", \"2\", \"1\", \"1\", \"2\", \"2\", \"3\", \"2\", \"2\", \"2\", \"2\", \"2\", \"2\", \"1\", \"2\", \"2\", \"2\", \"2\", \"2\", \"2\", \"3\", \"2\", \"2\", \"2\", \"2\", \"2\", \"2\", \"2\", \"3\", \"1\", \"2\", \"3\", \"2\", \"3\", \"2\", \"2\", \"2\", \"3\", \"2\", \"2\", \"2\", \"2\", \"2\", \"2\", \"2\", \"2\", \"3\", \"2\", \"2\", \"3\", \"3\", \"2\", \"2\", \"3\", \"3\", \"2\", \"2\", \"2\", \"2\", \"2\", \"1\", \"2\", \"3\", \"2\", \"2\", \"2\", \"2\", \"2\", \"2\", \"2\", \"1\", \"2\", \"3\", \"3\", \"2\", \"2\", \"2\", \"2\", \"3\", \"2\", \"2\", \"3\", \"2\", \"2\", \"3\", \"3\", \"2\", \"2\", \"2\", \"2\", \"3\", \"2\", \"1\", \"2\", \"2\", \"2\", \"2\", \"2\", \"2\", \"2\", \"2\", \"2\", \"2\", \"2\", \"2\", \"3\", \"1\", \"2\", \"2\", \"2\", \"3\", \"2\", \"3\", \"2\", \"1\", \"3\", \"3\", \"2\", \"2\", \"1\", \"2\", \"1\", \"3\", \"3\", \"2\", \"2\", \"3\", \"2\", \"2\", \"2\", \"2\", \"2\", \"3\", \"3\", \"3\", \"2\", \"2\", \"2\", \"2\", \"2\", \"2\", \"2\", \"2\", \"2\", \"2\", \"2\", \"1\", \"2\", \"2\", \"1\", \"3\", \"2\", \"2\", \"1\", \"2\", \"2\", \"2\", \"2\", \"3\", \"2\", \"2\", \"3\", \"2\", \"2\", \"2\", \"2\", \"3\", \"2\", \"3\", \"3\", \"2\", \"2\", \"2\", \"2\", \"2\", \"2\", \"3\", \"3\", \"2\", \"2\", \"3\", \"3\", \"1\", \"3\", \"2\", \"2\", \"2\", \"2\", \"2\", \"2\", \"2\", \"2\", \"2\", \"2\", \"2\", \"2\", \"2\", \"2\", \"3\", \"3\", \"2\", \"3\", \"2\", \"2\", \"2\", \"2\", \"3\", \"1\", \"2\", \"2\", \"2\", \"2\", \"3\", \"2\", \"3\", \"2\", \"2\", \"2\", \"3\", \"2\", \"3\", \"3\", \"3\", \"2\", \"3\", \"2\", \"2\", \"2\", \"3\", \"2\", \"3\", \"3\", \"2\", \"2\", \"3\", \"2\", \"2\", \"2\", \"3\", \"3\", \"2\", \"2\", \"2\", \"2\", \"1\", \"1\", \"2\", \"2\", \"2\", \"1\", \"3\", \"2\", \"2\", \"3\", \"2\", \"2\", \"2\", \"2\", \"2\", \"2\", \"1\", \"1\", \"2\", \"2\", \"3\", \"2\", \"1\", \"2\", \"1\", \"3\", \"2\", \"3\", \"2\", \"2\", \"3\", \"2\", \"2\", \"2\", \"2\", \"2\", \"2\", \"2\", \"2\", \"2\", \"2\", \"2\", \"2\", \"2\", \"2\", \"2\", \"3\", \"2\", \"2\", \"3\", \"3\", \"2\", \"2\", \"1\", \"1\", \"2\", \"2\", \"1\", \"2\", \"2\", \"2\", \"2\", \"2\", \"2\", \"2\", \"2\", \"3\", \"2\", \"3\", \"3\", \"2\", \"1\", \"2\", \"3\", \"2\", \"2\", \"2\", \"3\", \"2\", \"2\", \"2\", \"2\", \"2\", \"2\", \"2\", \"3\", \"2\", \"1\", \"2\", \"3\", \"2\", \"3\", \"2\", \"3\", \"2\", \"2\", \"3\", \"3\", \"2\", \"1\", \"2\", \"2\", \"2\", \"3\", \"2\", \"1\", \"1\", \"2\", \"1\", \"1\", \"2\", \"2\", \"2\", \"1\", \"2\", \"2\", \"2\", \"2\", \"1\", \"2\", \"1\", \"2\", \"2\", \"2\", \"2\", \"2\", \"3\", \"3\", \"2\", \"2\", \"2\", \"2\", \"2\", \"2\", \"1\", \"3\", \"3\", \"2\", \"2\", \"2\", \"1\", \"2\", \"3\", \"2\", \"3\", \"2\", \"2\", \"3\", \"2\", \"3\", \"2\", \"2\", \"2\", \"3\", \"3\", \"2\", \"2\", \"3\", \"2\", \"2\", \"3\", \"2\", \"1\", \"2\", \"2\", \"1\", \"2\", \"3\", \"2\", \"2\", \"2\", \"2\", \"2\", \"3\", \"2\", \"3\", \"3\", \"2\", \"1\", \"3\", \"3\", \"2\", \"3\", \"2\", \"2\", \"3\", \"2\", \"3\", \"3\", \"3\", \"3\", \"2\", \"3\", \"3\", \"2\", \"3\", \"2\", \"2\", \"3\", \"2\", \"2\", \"2\", \"2\", \"2\", \"2\", \"3\", \"2\", \"1\", \"3\", \"2\", \"2\", \"2\", \"3\", \"2\", \"2\", \"2\", \"2\", \"3\", \"1\", \"3\", \"3\", \"3\", \"1\", \"3\", \"2\", \"2\", \"2\", \"2\", \"2\", \"2\", \"2\", \"2\", \"2\", \"2\", \"2\", \"2\", \"2\", \"2\", \"2\", \"3\", \"2\", \"2\", \"1\", \"1\", \"2\", \"1\", \"1\", \"2\", \"2\", \"3\", \"3\", \"2\", \"2\", \"2\", \"2\", \"3\", \"1\", \"2\", \"2\", \"2\", \"2\", \"1\", \"2\", \"3\", \"2\", \"1\", \"3\", \"2\", \"2\", \"3\", \"2\", \"3\", \"1\", \"2\", \"2\", \"2\", \"3\", \"2\", \"3\", \"2\", \"2\", \"2\", \"2\", \"2\", \"3\", \"3\", \"3\", \"2\", \"3\", \"1\", \"2\", \"2\", \"2\", \"2\", \"2\", \"3\", \"2\", \"3\", \"3\", \"3\", \"3\", \"3\", \"3\", \"2\", \"2\", \"2\", \"3\", \"1\", \"2\", \"2\", \"2\", \"2\", \"2\", \"2\", \"3\", \"3\", \"1\", \"2\", \"2\", \"1\", \"2\", \"3\", \"2\", \"2\", \"1\", \"3\", \"2\", \"2\", \"2\", \"2\", \"2\", \"2\", \"3\", \"2\", \"2\", \"2\", \"2\", \"2\", \"2\", \"3\", \"3\", \"3\", \"2\", \"2\", \"2\", \"2\", \"1\", \"2\", \"2\", \"2\", \"2\", \"1\", \"3\", \"2\", \"2\", \"2\", \"2\", \"3\", \"2\", \"3\", \"2\", \"2\", \"2\", \"2\", \"2\", \"2\", \"2\", \"2\", \"2\", \"2\", \"3\", \"1\", \"3\", \"2\", \"2\", \"2\", \"1\", \"1\", \"2\", \"2\", \"2\", \"1\", \"3\", \"2\", \"1\", \"3\", \"3\", \"2\", \"2\", \"2\", \"2\", \"2\", \"2\", \"2\", \"2\", \"2\", \"2\", \"2\", \"3\", \"2\", \"3\", \"3\", \"3\", \"2\", \"2\", \"2\", \"2\", \"2\", \"3\", \"3\", \"2\", \"2\", \"1\", \"3\", \"2\", \"2\", \"2\", \"2\", \"2\", \"2\", \"2\", \"2\", \"3\", \"2\", \"2\", \"2\", \"2\", \"3\", \"3\", \"3\", \"2\", \"2\", \"2\", \"3\", \"2\", \"2\", \"3\", \"2\", \"2\", \"3\", \"2\", \"1\", \"3\", \"3\", \"2\", \"3\", \"3\", \"2\", \"2\", \"2\", \"3\", \"2\", \"3\", \"2\", \"2\", \"2\", \"2\", \"2\", \"3\", \"2\", \"2\", \"2\", \"3\", \"3\", \"1\", \"2\", \"3\", \"2\", \"2\", \"2\", \"2\", \"2\", \"2\", \"1\", \"2\", \"2\", \"2\", \"2\", \"2\", \"2\", \"2\", \"2\", \"3\", \"2\", \"2\", \"1\", \"2\", \"3\", \"2\", \"2\", \"2\", \"3\", \"1\", \"3\", \"2\", \"2\", \"2\", \"2\", \"1\", \"2\", \"2\", \"2\", \"2\", \"2\", \"2\", \"2\", \"3\", \"1\", \"3\", \"2\", \"2\", \"3\", \"2\", \"2\", \"1\", \"2\", \"1\", \"2\", \"1\", \"2\", \"2\", \"2\", \"2\", \"1\", \"2\", \"2\", \"2\", \"3\", \"2\", \"1\", \"2\", \"2\", \"1\", \"2\", \"2\", \"2\", \"2\", \"2\", \"1\", \"2\", \"3\", \"2\", \"2\", \"2\", \"3\", \"2\", \"3\", \"3\", \"2\", \"2\", \"1\", \"2\", \"3\", \"2\", \"2\", \"2\", \"2\", \"2\", \"2\", \"3\", \"1\", \"2\", \"3\", \"2\", \"2\", \"2\", \"2\", \"1\", \"1\", \"2\", \"1\", \"2\", \"3\", \"3\", \"3\", \"2\", \"1\", \"2\", \"2\", \"2\", \"2\", \"1\", \"1\", \"2\", \"2\", \"1\", \"3\", \"3\", \"2\", \"2\", \"1\", \"2\", \"1\", \"2\", \"2\", \"2\", \"2\", \"2\", \"2\", \"2\", \"2\", \"2\", \"2\", \"2\", \"2\", \"2\", \"2\", \"2\", \"1\", \"2\", \"2\", \"3\", \"1\", \"2\", \"2\", \"1\", \"3\", \"1\", \"3\", \"2\", \"2\", \"2\", \"1\", \"3\", \"2\", \"2\", \"2\", \"2\", \"1\", \"3\", \"1\", \"3\", \"2\", \"3\", \"2\", \"2\", \"3\", \"3\", \"2\", \"2\", \"2\", \"2\", \"2\", \"2\", \"3\", \"2\", \"3\", \"2\", \"2\", \"3\", \"3\", \"2\", \"2\", \"3\", \"1\", \"2\", \"2\", \"3\", \"3\", \"2\", \"2\", \"3\", \"3\", \"2\", \"3\", \"2\", \"2\", \"3\", \"2\", \"3\", \"3\", \"2\", \"2\", \"3\", \"2\", \"3\", \"2\", \"2\", \"2\", \"2\", \"3\", \"2\", \"2\", \"3\", \"2\", \"2\", \"2\", \"2\", \"2\", \"2\", \"2\", \"3\", \"2\", \"2\", \"2\", \"1\", \"3\", \"1\", \"2\", \"2\", \"2\", \"3\", \"3\", \"2\", \"2\", \"2\", \"2\", \"2\", \"2\", \"2\", \"3\", \"2\", \"2\", \"2\", \"2\", \"3\", \"2\", \"2\", \"3\", \"3\", \"2\", \"3\", \"2\", \"2\", \"2\", \"2\", \"2\", \"3\", \"2\", \"2\", \"3\", \"2\", \"2\", \"3\", \"2\", \"2\", \"1\", \"3\", \"2\", \"2\", \"3\", \"2\", \"2\", \"3\", \"2\", \"2\", \"1\", \"2\", \"1\", \"2\", \"1\", \"2\", \"2\", \"2\", \"2\", \"2\", \"2\", \"2\", \"2\", \"2\", \"1\", \"2\", \"3\", \"1\", \"1\", \"3\", \"2\", \"2\", \"2\", \"3\", \"2\", \"2\", \"2\", \"2\", \"3\", \"3\", \"3\", \"3\", \"3\", \"3\", \"3\", \"3\", \"3\", \"2\", \"3\", \"2\", \"2\", \"3\", \"3\", \"2\", \"2\", \"2\", \"3\", \"2\", \"2\", \"3\", \"2\", \"2\", \"2\", \"2\", \"2\", \"3\", \"2\", \"2\", \"2\", \"2\", \"2\", \"1\", \"3\", \"2\", \"2\", \"2\", \"2\", \"1\", \"1\", \"3\", \"1\", \"2\", \"2\", \"3\", \"3\", \"3\", \"2\", \"2\", \"2\", \"2\", \"2\", \"3\", \"3\", \"1\", \"1\", \"2\", \"2\", \"2\", \"2\", \"2\", \"3\", \"2\", \"3\", \"2\", \"2\", \"2\", \"3\", \"3\", \"1\", \"3\", \"3\", \"1\", \"3\", \"2\", \"1\", \"3\", \"2\", \"2\", \"3\", \"2\", \"2\", \"2\", \"2\", \"2\", \"3\", \"3\", \"2\", \"3\", \"2\", \"2\", \"2\", \"2\", \"2\", \"2\", \"2\", \"2\", \"3\", \"2\", \"2\", \"2\", \"3\", \"1\", \"3\", \"1\", \"2\", \"2\", \"2\", \"2\", \"2\", \"2\", \"1\", \"2\", \"2\", \"2\", \"2\", \"3\", \"3\", \"2\", \"3\", \"3\", \"1\", \"3\", \"2\", \"2\", \"1\", \"2\", \"1\", \"1\", \"3\", \"2\", \"1\", \"3\", \"2\", \"2\", \"2\", \"1\", \"2\", \"2\", \"2\", \"2\", \"1\", \"1\", \"2\", \"2\", \"1\", \"1\", \"1\", \"2\", \"2\", \"2\", \"3\", \"3\", \"3\", \"3\", \"2\", \"2\", \"2\", \"3\", \"3\", \"3\", \"3\", \"3\", \"2\", \"2\", \"2\", \"2\", \"2\", \"2\", \"2\", \"2\", \"2\", \"1\", \"2\", \"2\", \"2\", \"3\", \"2\", \"3\", \"2\", \"3\", \"3\", \"3\", \"2\", \"2\", \"3\", \"3\", \"2\", \"1\", \"2\", \"2\", \"2\", \"3\", \"3\", \"2\", \"2\", \"3\", \"1\", \"1\", \"1\", \"2\", \"2\", \"2\", \"3\", \"2\", \"2\", \"2\", \"2\", \"3\", \"1\", \"2\", \"2\", \"2\", \"2\", \"2\", \"2\", \"3\", \"2\", \"3\", \"2\", \"3\", \"2\", \"2\", \"2\", \"2\", \"2\", \"1\", \"1\", \"1\", \"3\", \"2\", \"3\", \"2\", \"2\", \"2\", \"2\", \"3\", \"2\", \"3\", \"2\", \"1\", \"2\", \"2\", \"2\", \"2\", \"1\", \"3\", \"3\", \"3\", \"3\", \"3\", \"2\", \"2\", \"2\", \"2\", \"2\", \"1\", \"1\", \"1\", \"2\", \"2\", \"2\", \"2\", \"2\", \"3\", \"2\", \"2\", \"3\", \"2\", \"3\", \"3\", \"2\", \"2\", \"1\", \"1\", \"3\", \"2\", \"1\", \"3\", \"2\", \"2\", \"1\", \"2\", \"2\", \"2\", \"2\", \"2\", \"3\", \"2\", \"2\", \"3\", \"2\", \"1\", \"1\", \"1\", \"2\", \"3\", \"2\", \"2\", \"2\", \"2\", \"2\", \"2\", \"3\", \"2\", \"2\", \"2\", \"2\", \"2\", \"3\", \"2\", \"2\", \"2\", \"2\", \"3\", \"3\", \"1\", \"2\", \"3\", \"2\", \"2\", \"2\", \"1\", \"3\", \"3\", \"2\", \"3\", \"2\", \"2\", \"2\", \"2\", \"3\", \"2\", \"2\", \"2\", \"2\", \"2\", \"3\", \"3\", \"2\", \"2\", \"3\", \"2\", \"2\", \"2\", \"1\", \"2\", \"2\", \"3\", \"3\", \"3\", \"3\", \"2\", \"1\", \"2\", \"3\", \"1\", \"2\", \"2\", \"2\", \"2\", \"2\", \"2\", \"2\", \"3\", \"3\", \"2\", \"2\", \"1\", \"1\", \"2\", \"2\", \"2\", \"3\", \"3\", \"2\", \"2\", \"2\", \"2\", \"2\", \"3\", \"3\", \"3\", \"2\", \"1\", \"1\", \"2\", \"2\", \"1\", \"3\", \"3\", \"3\", \"3\", \"2\", \"2\", \"3\", \"2\", \"1\", \"2\", \"2\", \"2\", \"2\", \"1\", \"3\", \"1\", \"2\", \"2\", \"2\", \"2\", \"2\", \"1\", \"3\", \"3\", \"1\", \"2\", \"3\", \"3\", \"2\", \"2\", \"1\", \"1\", \"2\", \"1\", \"2\", \"2\", \"2\", \"2\", \"2\", \"1\", \"1\", \"2\", \"3\", \"2\", \"3\", \"2\", \"3\", \"3\", \"3\", \"2\", \"2\", \"3\", \"2\", \"3\", \"2\", \"2\", \"3\", \"3\", \"3\", \"1\", \"2\", \"1\", \"2\", \"2\", \"2\", \"2\", \"3\", \"1\", \"3\", \"2\", \"3\", \"3\", \"3\", \"1\", \"1\", \"2\", \"2\", \"3\", \"2\", \"2\", \"2\", \"3\", \"2\", \"2\", \"2\", \"3\", \"1\", \"2\", \"2\", \"2\", \"2\", \"2\", \"2\", \"2\", \"1\", \"3\", \"3\", \"3\", \"3\", \"2\", \"1\", \"1\", \"1\", \"2\", \"3\", \"2\", \"2\", \"3\", \"3\", \"2\", \"1\", \"3\", \"3\", \"2\", \"2\", \"2\", \"1\", \"3\", \"2\", \"2\", \"3\", \"3\", \"2\", \"2\", \"3\", \"3\", \"3\", \"3\", \"2\", \"1\", \"2\", \"2\", \"2\", \"3\", \"2\", \"3\", \"2\", \"3\", \"3\", \"2\", \"2\", \"2\", \"1\", \"1\", \"1\", \"3\", \"3\", \"2\", \"2\", \"3\", \"3\", \"1\", \"2\", \"2\", \"2\", \"3\", \"2\", \"3\", \"3\", \"2\", \"2\", \"2\", \"2\", \"2\", \"2\", \"2\", \"2\", \"1\", \"2\", \"2\", \"2\", \"3\", \"2\", \"3\", \"3\", \"2\", \"3\", \"1\", \"2\", \"3\", \"3\", \"2\", \"1\", \"1\", \"1\", \"2\", \"3\", \"3\", \"3\", \"3\", \"3\", \"2\", \"2\", \"2\", \"1\", \"1\", \"2\", \"2\", \"2\", \"3\", \"3\", \"3\", \"3\", \"3\", \"2\", \"3\", \"3\", \"2\", \"2\", \"1\", \"2\", \"3\", \"3\", \"2\", \"3\", \"3\", \"1\", \"3\", \"1\", \"3\", \"2\", \"2\", \"2\", \"3\", \"2\", \"2\", \"2\", \"2\", \"2\", \"2\", \"2\", \"2\", \"2\", \"2\", \"2\", \"3\", \"3\", \"1\", \"2\", \"3\", \"1\", \"3\", \"1\", \"1\", \"2\", \"3\", \"2\", \"2\", \"3\", \"3\", \"2\", \"3\", \"3\", \"2\", \"2\", \"2\", \"2\", \"3\", \"1\", \"1\", \"2\", \"2\", \"2\", \"3\", \"2\", \"1\", \"2\", \"2\", \"3\", \"1\", \"3\", \"2\", \"2\", \"2\", \"3\", \"3\", \"2\", \"2\", \"2\", \"1\", \"2\", \"2\", \"2\", \"2\", \"3\", \"2\", \"2\", \"3\", \"3\", \"2\", \"2\", \"1\", \"3\", \"2\", \"2\", \"2\", \"1\", \"2\", \"2\", \"2\", \"2\", \"2\", \"2\", \"2\", \"3\", \"2\", \"2\", \"2\", \"2\", \"2\", \"1\", \"1\", \"3\", \"2\", \"2\", \"3\", \"1\", \"1\", \"3\", \"2\", \"2\", \"1\", \"2\", \"2\", \"3\", \"2\", \"2\", \"2\", \"1\", \"2\", \"2\", \"2\", \"3\", \"3\", \"2\", \"2\", \"2\", \"3\", \"3\", \"3\", \"1\", \"2\", \"3\", \"3\", \"2\", \"2\", \"2\", \"2\", \"1\", \"2\", \"3\", \"1\", \"3\", \"3\", \"2\", \"1\", \"1\", \"2\", \"2\", \"2\", \"1\", \"2\", \"1\", \"2\", \"2\", \"3\", \"2\", \"3\", \"3\", \"2\", \"2\", \"2\", \"3\", \"1\", \"2\", \"2\", \"2\", \"2\", \"2\", \"1\", \"2\", \"3\", \"2\", \"2\", \"2\", \"2\", \"3\", \"2\", \"2\", \"3\", \"3\", \"1\", \"1\", \"1\", \"3\", \"2\", \"2\", \"2\", \"2\", \"1\", \"2\", \"3\", \"2\", \"3\", \"2\", \"3\", \"2\", \"2\", \"2\", \"3\", \"2\", \"2\", \"2\", \"2\", \"2\", \"3\", \"3\", \"1\", \"1\", \"2\", \"2\", \"2\", \"2\", \"3\", \"2\", \"2\", \"2\", \"2\", \"2\", \"2\", \"2\", \"3\", \"3\", \"2\", \"3\", \"3\", \"3\", \"2\", \"2\", \"2\", \"1\", \"3\", \"1\", \"2\", \"3\", \"3\", \"3\", \"3\", \"2\", \"2\", \"2\", \"3\", \"3\", \"3\", \"3\", \"3\", \"2\", \"2\", \"1\", \"2\", \"3\", \"2\", \"2\", \"2\", \"1\", \"2\", \"2\", \"2\", \"2\", \"2\", \"1\", \"1\", \"1\", \"2\", \"2\", \"2\", \"3\", \"2\", \"3\", \"3\", \"2\", \"2\", \"2\", \"3\", \"3\", \"2\", \"2\", \"2\", \"2\", \"3\", \"3\", \"3\", \"3\", \"3\", \"2\", \"3\", \"3\", \"2\", \"2\", \"1\", \"1\", \"2\", \"1\", \"3\", \"2\", \"3\", \"2\", \"2\", \"2\", \"2\", \"2\", \"3\", \"2\", \"2\", \"2\", \"2\", \"2\", \"3\", \"2\", \"3\", \"2\", \"2\", \"2\", \"2\", \"2\", \"3\", \"3\", \"1\", \"2\", \"2\", \"2\", \"2\", \"3\", \"3\", \"3\", \"3\", \"2\", \"2\", \"2\", \"1\", \"2\", \"2\", \"2\", \"2\", \"2\", \"2\", \"3\", \"3\", \"3\", \"3\", \"2\", \"1\", \"3\", \"1\", \"3\", \"2\", \"2\", \"3\", \"1\", \"3\", \"3\", \"3\", \"1\", \"2\", \"2\", \"2\", \"2\", \"2\", \"2\", \"1\", \"2\", \"1\", \"3\", \"3\", \"3\", \"1\", \"3\", \"2\", \"1\", \"2\", \"2\", \"2\", \"2\", \"2\", \"2\", \"2\", \"2\", \"1\", \"2\", \"2\", \"2\", \"3\", \"2\", \"2\", \"1\", \"3\", \"2\", \"2\", \"2\", \"2\", \"2\", \"2\", \"2\", \"1\", \"2\", \"2\", \"2\", \"2\", \"2\", \"3\", \"3\", \"2\", \"2\", \"2\", \"2\", \"2\", \"2\", \"1\", \"3\", \"1\", \"3\", \"2\", \"1\", \"2\", \"3\", \"2\", \"1\", \"2\", \"3\", \"2\", \"1\", \"2\", \"2\", \"2\", \"2\", \"2\", \"2\", \"3\", \"2\", \"2\", \"3\", \"2\", \"2\", \"3\", \"3\", \"2\", \"3\", \"2\", \"3\", \"2\", \"2\", \"2\", \"2\", \"1\", \"3\", \"2\", \"2\", \"3\", \"3\", \"3\", \"3\", \"2\", \"1\", \"2\", \"2\", \"2\", \"3\", \"2\", \"3\", \"1\", \"3\", \"2\", \"2\", \"2\", \"2\", \"2\", \"2\", \"3\", \"2\", \"3\", \"2\", \"3\", \"1\", \"2\", \"2\", \"2\", \"2\", \"2\", \"2\", \"2\", \"3\", \"1\", \"2\", \"2\", \"3\", \"2\", \"2\", \"2\", \"2\", \"1\", \"2\", \"2\", \"3\", \"2\", \"1\", \"2\", \"2\", \"2\", \"2\", \"2\", \"1\", \"2\", \"1\", \"2\", \"2\", \"2\", \"2\", \"2\", \"2\", \"1\", \"1\", \"3\", \"2\", \"1\", \"2\", \"3\", \"3\", \"3\", \"2\", \"2\", \"2\", \"1\", \"2\", \"1\", \"2\", \"3\", \"2\", \"2\", \"2\", \"3\", \"3\", \"3\", \"3\", \"2\", \"3\", \"3\", \"2\", \"2\", \"3\", \"2\", \"2\", \"3\", \"1\", \"2\", \"2\", \"2\", \"3\", \"2\", \"2\", \"2\", \"3\", \"2\", \"2\", \"2\", \"3\", \"3\", \"2\", \"2\", \"2\", \"2\", \"2\", \"3\", \"2\", \"2\", \"2\", \"2\", \"2\", \"3\", \"2\", \"2\", \"2\", \"3\", \"2\", \"3\", \"3\", \"2\", \"2\", \"3\", \"3\", \"3\", \"3\", \"3\", \"3\", \"3\", \"2\", \"2\", \"3\", \"3\", \"2\", \"2\", \"2\", \"3\", \"2\", \"2\", \"2\", \"2\", \"2\", \"1\", \"2\", \"2\", \"2\", \"2\", \"3\", \"2\", \"2\", \"2\", \"2\", \"2\", \"2\", \"2\", \"2\", \"1\", \"2\", \"2\", \"2\", \"2\", \"2\", \"3\", \"2\", \"2\", \"2\", \"2\", \"2\", \"2\", \"1\", \"3\", \"3\", \"2\", \"2\", \"1\", \"2\", \"2\", \"1\", \"1\", \"2\", \"3\", \"3\", \"2\", \"2\", \"3\", \"2\", \"2\", \"1\", \"3\", \"2\", \"3\", \"2\", \"2\", \"2\", \"2\", \"2\", \"2\", \"2\", \"2\", \"2\", \"2\", \"2\", \"2\", \"3\", \"3\", \"2\", \"2\", \"2\", \"2\", \"2\", \"2\", \"2\", \"1\", \"3\", \"2\", \"2\", \"2\", \"2\", \"2\", \"2\", \"2\", \"2\", \"2\", \"2\", \"2\", \"3\", \"2\", \"2\", \"2\", \"3\", \"3\", \"2\", \"3\", \"2\", \"2\", \"2\", \"1\", \"3\", \"3\", \"3\", \"3\", \"3\", \"3\", \"2\", \"2\", \"2\", \"2\", \"3\", \"2\", \"2\", \"2\", \"2\", \"2\", \"2\", \"2\", \"2\", \"2\", \"1\", \"2\", \"2\", \"2\", \"2\", \"2\", \"2\", \"2\", \"2\", \"3\", \"2\", \"2\", \"3\", \"2\", \"2\", \"2\", \"1\", \"2\", \"2\", \"2\", \"2\", \"2\", \"2\", \"1\", \"2\", \"3\", \"2\", \"3\", \"3\", \"3\", \"2\", \"2\", \"2\", \"2\", \"1\", \"2\", \"3\", \"1\", \"2\", \"2\", \"2\", \"2\", \"2\", \"2\", \"2\", \"1\", \"2\", \"2\", \"2\", \"3\", \"2\", \"2\", \"2\", \"2\", \"2\", \"2\", \"2\", \"2\", \"2\", \"3\", \"2\", \"2\", \"2\", \"2\", \"2\", \"2\", \"2\", \"2\", \"2\", \"2\", \"2\", \"2\", \"2\", \"2\", \"2\", \"2\", \"2\", \"3\", \"3\", \"2\", \"2\", \"1\", \"2\", \"2\", \"1\", \"2\", \"1\", \"2\", \"2\", \"2\", \"2\", \"3\", \"3\", \"3\", \"2\", \"2\", \"2\", \"3\", \"2\", \"2\", \"1\", \"1\", \"2\", \"2\", \"3\", \"3\", \"2\", \"2\", \"3\", \"3\", \"2\", \"2\", \"2\", \"2\", \"3\", \"3\", \"2\", \"3\", \"2\", \"2\", \"3\", \"2\", \"2\", \"3\", \"2\", \"2\", \"3\", \"2\", \"2\", \"2\", \"2\", \"3\", \"1\", \"3\", \"3\", \"2\", \"2\", \"3\", \"3\", \"2\", \"2\", \"3\", \"3\", \"3\", \"3\", \"2\", \"2\", \"2\", \"3\", \"2\", \"2\", \"1\", \"2\", \"2\", \"2\", \"2\", \"2\", \"3\", \"3\", \"2\", \"2\", \"1\", \"2\", \"2\", \"2\", \"2\", \"2\", \"2\", \"3\", \"2\", \"3\", \"2\", \"2\", \"2\", \"2\", \"2\", \"2\", \"2\", \"3\", \"3\", \"2\", \"2\", \"2\", \"2\", \"2\", \"2\", \"2\", \"2\", \"2\", \"2\", \"2\", \"2\", \"3\", \"1\", \"2\", \"3\", \"3\", \"2\", \"3\", \"1\", \"2\", \"3\", \"2\", \"3\", \"1\", \"2\", \"3\", \"2\", \"2\", \"2\", \"2\", \"1\", \"3\", \"3\", \"2\", \"2\", \"2\", \"2\", \"2\", \"2\", \"1\", \"2\", \"2\", \"1\", \"2\", \"2\", \"1\", \"2\", \"1\", \"2\", \"2\", \"2\", \"2\", \"2\", \"2\", \"2\", \"3\", \"2\", \"2\", \"2\", \"2\", \"3\", \"2\", \"2\", \"3\", \"3\", \"3\", \"3\", \"2\", \"3\", \"3\", \"3\", \"3\", \"3\", \"3\", \"2\", \"2\", \"2\", \"3\", \"3\", \"3\", \"3\", \"2\", \"2\", \"2\", \"3\", \"3\", \"2\", \"3\", \"2\", \"2\", \"2\", \"2\", \"1\", \"1\", \"3\", \"2\", \"2\", \"2\", \"2\", \"2\", \"2\", \"2\", \"2\", \"2\", \"3\", \"2\", \"2\", \"2\", \"2\", \"3\", \"2\", \"2\", \"2\", \"2\", \"2\", \"2\", \"2\", \"2\", \"2\", \"2\", \"3\", \"2\", \"2\", \"3\", \"3\", \"2\", \"2\", \"2\", \"3\", \"3\", \"3\", \"2\", \"2\", \"3\", \"3\", \"3\", \"3\", \"3\", \"2\", \"1\", \"1\", \"3\", \"2\", \"3\", \"1\", \"2\", \"2\", \"3\", \"2\", \"2\", \"2\", \"2\", \"2\", \"3\", \"2\", \"3\", \"2\", \"2\", \"2\", \"2\", \"2\", \"2\", \"2\", \"3\", \"2\", \"2\", \"2\", \"2\", \"2\", \"2\", \"2\", \"2\", \"2\", \"3\", \"3\", \"3\", \"3\", \"2\", \"2\", \"2\", \"2\", \"2\", \"3\", \"3\", \"3\", \"3\", \"2\", \"2\", \"2\", \"2\", \"3\", \"3\", \"3\", \"2\", \"2\", \"2\", \"3\", \"2\", \"3\", \"3\", \"3\", \"3\", \"2\", \"2\", \"2\", \"2\", \"2\", \"2\", \"2\", \"3\", \"2\", \"2\", \"1\", \"2\", \"2\", \"2\", \"2\", \"2\", \"2\", \"2\", \"2\", \"3\", \"2\", \"3\", \"3\", \"2\", \"3\", \"3\", \"2\", \"2\", \"2\", \"2\", \"3\", \"3\", \"2\", \"2\", \"2\", \"2\", \"2\", \"2\", \"2\", \"2\", \"2\", \"3\", \"2\", \"2\", \"3\", \"3\", \"2\", \"2\", \"3\", \"3\", \"2\", \"2\", \"2\", \"2\", \"2\", \"2\", \"3\", \"2\", \"2\", \"2\", \"1\", \"2\", \"2\", \"2\", \"2\", \"3\", \"2\", \"2\", \"3\", \"2\", \"2\", \"2\", \"2\", \"2\", \"2\", \"2\", \"2\", \"2\", \"1\", \"2\", \"3\", \"3\", \"2\", \"3\", \"2\", \"2\", \"2\", \"2\", \"1\", \"2\", \"1\", \"3\", \"3\", \"1\", \"2\", \"2\", \"2\", \"1\", \"2\", \"2\", \"2\", \"3\", \"3\", \"3\", \"3\", \"2\", \"3\", \"1\", \"2\", \"3\", \"3\", \"2\", \"2\", \"2\", \"2\", \"2\", \"2\", \"2\", \"2\", \"3\", \"2\", \"2\", \"2\", \"2\", \"2\", \"1\", \"1\", \"3\", \"2\", \"1\", \"2\", \"2\", \"2\", \"2\", \"2\", \"2\", \"2\", \"2\", \"2\", \"2\", \"2\", \"2\", \"2\", \"2\", \"2\", \"1\", \"2\", \"3\", \"2\", \"2\", \"2\", \"3\", \"1\", \"3\", \"2\", \"2\", \"3\", \"2\", \"3\", \"2\", \"2\", \"1\", \"1\", \"2\", \"3\", \"3\", \"2\", \"2\", \"2\", \"2\", \"2\", \"2\", \"3\", \"1\", \"2\", \"2\", \"2\", \"2\", \"3\", \"2\", \"2\", \"3\", \"2\", \"2\", \"1\", \"2\", \"2\", \"3\", \"3\", \"2\", \"2\", \"3\", \"2\", \"2\", \"3\", \"2\", \"3\", \"3\", \"2\", \"3\", \"2\", \"3\", \"3\", \"1\", \"2\", \"3\", \"3\", \"2\", \"2\", \"3\", \"3\", \"3\", \"3\", \"3\", \"2\", \"2\", \"2\", \"3\", \"2\", \"2\", \"2\", \"2\", \"3\", \"1\", \"3\", \"1\", \"3\", \"3\", \"3\", \"2\", \"2\", \"2\", \"2\", \"1\", \"2\", \"2\", \"3\", \"2\", \"2\", \"3\", \"2\", \"3\", \"3\", \"2\", \"2\", \"2\", \"2\", \"1\", \"3\", \"2\", \"2\", \"2\", \"3\", \"3\", \"3\", \"2\", \"2\", \"3\", \"3\", \"2\", \"3\", \"2\", \"1\", \"1\", \"3\", \"3\", \"3\", \"3\", \"3\", \"2\", \"2\", \"3\", \"2\", \"3\", \"3\", \"3\", \"3\", \"2\", \"2\", \"1\", \"3\", \"2\", \"2\", \"2\", \"3\", \"2\", \"2\", \"2\", \"2\", \"2\", \"2\", \"2\", \"2\", \"2\", \"3\", \"3\", \"3\", \"2\", \"2\", \"2\", \"2\", \"2\", \"3\", \"2\", \"2\", \"2\", \"2\", \"3\", \"2\", \"3\", \"3\", \"1\", \"2\", \"2\", \"2\", \"2\", \"2\", \"3\", \"2\", \"2\", \"3\", \"2\", \"1\", \"2\", \"2\", \"2\", \"3\", \"3\", \"3\", \"2\", \"3\", \"2\", \"3\", \"2\", \"2\", \"1\", \"3\", \"2\", \"2\", \"2\", \"3\", \"3\", \"3\", \"3\", \"2\", \"2\", \"2\", \"2\", \"2\", \"2\", \"3\", \"2\", \"3\", \"2\", \"2\", \"3\", \"2\", \"2\", \"2\", \"2\", \"2\", \"2\", \"2\", \"2\", \"1\", \"2\", \"2\", \"1\", \"2\", \"2\", \"2\", \"3\", \"2\", \"2\", \"2\", \"2\", \"2\", \"3\", \"3\", \"2\", \"2\", \"3\", \"1\", \"3\", \"2\", \"1\", \"2\", \"2\", \"3\", \"3\", \"3\", \"2\", \"2\", \"2\", \"3\", \"3\", \"3\", \"2\", \"3\", \"1\", \"1\", \"2\", \"2\", \"3\", \"2\", \"2\", \"2\", \"2\", \"3\", \"2\", \"2\", \"2\", \"2\", \"3\", \"2\", \"2\", \"2\", \"2\", \"2\", \"3\", \"3\", \"3\", \"2\", \"2\", \"2\", \"3\", \"3\", \"3\", \"2\", \"2\", \"3\", \"2\", \"3\", \"3\", \"3\", \"2\", \"1\", \"2\", \"3\", \"2\", \"2\", \"2\", \"2\", \"2\", \"2\", \"2\", \"3\", \"2\", \"3\", \"2\", \"2\", \"2\", \"2\", \"3\", \"2\", \"2\", \"2\", \"2\", \"3\", \"2\", \"2\", \"3\", \"2\", \"2\", \"1\", \"2\", \"3\", \"2\", \"3\", \"3\", \"2\", \"2\", \"3\", \"3\", \"3\", \"3\", \"2\", \"3\", \"2\", \"3\", \"2\", \"3\", \"2\", \"3\", \"3\", \"3\", \"2\", \"2\", \"3\", \"3\", \"3\", \"3\", \"2\", \"2\", \"2\", \"2\", \"3\", \"3\", \"1\", \"3\", \"3\", \"3\", \"3\", \"2\", \"2\", \"2\", \"2\", \"3\", \"2\", \"2\", \"1\", \"2\", \"1\", \"2\", \"2\", \"2\", \"2\", \"3\", \"2\", \"2\", \"3\", \"3\", \"2\", \"3\", \"2\", \"2\", \"2\", \"2\", \"2\", \"2\", \"3\", \"3\", \"3\", \"1\", \"3\", \"3\", \"1\", \"2\", \"3\", \"2\", \"3\", \"1\", \"2\", \"2\", \"3\", \"2\", \"2\", \"3\", \"2\", \"2\", \"2\", \"2\", \"3\", \"2\", \"2\", \"2\", \"3\", \"2\", \"3\", \"2\", \"2\", \"2\", \"2\", \"3\", \"2\", \"1\", \"3\", \"2\", \"2\", \"2\", \"3\", \"3\", \"3\", \"2\", \"2\", \"2\", \"2\", \"2\", \"2\", \"3\", \"2\", \"3\", \"2\", \"2\", \"2\", \"2\", \"2\", \"2\", \"2\", \"2\", \"1\", \"3\", \"2\", \"3\", \"3\", \"1\", \"3\", \"2\", \"3\", \"2\", \"3\", \"3\", \"3\", \"2\", \"2\", \"2\", \"3\", \"3\", \"2\", \"2\", \"3\", \"2\", \"3\", \"2\", \"2\", \"2\", \"3\", \"2\", \"2\", \"2\", \"2\", \"2\", \"2\", \"3\", \"2\", \"2\", \"2\", \"2\", \"2\", \"2\", \"2\", \"2\", \"2\", \"2\", \"2\", \"2\", \"2\", \"1\", \"2\", \"2\", \"2\", \"2\", \"2\", \"2\", \"2\", \"3\", \"3\", \"2\", \"3\", \"3\", \"3\", \"2\", \"2\", \"3\", \"3\", \"2\", \"2\", \"2\", \"3\", \"1\", \"2\", \"1\", \"2\", \"2\", \"3\", \"2\", \"1\", \"2\", \"3\", \"2\", \"2\", \"1\", \"2\", \"2\", \"1\", \"2\", \"3\", \"2\", \"2\", \"2\", \"2\", \"2\", \"2\", \"1\", \"2\", \"2\", \"3\", \"2\", \"2\", \"2\", \"2\", \"3\", \"3\", \"3\", \"2\", \"2\", \"2\", \"1\", \"2\", \"3\", \"3\", \"3\", \"3\", \"3\", \"3\", \"2\", \"2\", \"2\", \"2\", \"3\", \"3\", \"2\", \"1\", \"2\", \"1\", \"3\", \"2\", \"2\", \"3\", \"2\", \"3\", \"3\", \"2\", \"2\", \"2\", \"3\", \"2\", \"1\", \"1\", \"1\", \"2\", \"2\", \"1\", \"2\", \"2\", \"2\", \"2\", \"2\", \"2\", \"2\", \"2\", \"2\", \"2\", \"2\", \"2\", \"1\", \"1\", \"2\", \"2\", \"2\", \"2\", \"3\", \"3\", \"2\", \"3\", \"2\", \"2\", \"2\", \"2\", \"2\", \"2\", \"3\", \"2\", \"2\", \"2\", \"2\", \"3\", \"2\", \"1\", \"2\", \"3\", \"2\", \"2\", \"3\", \"2\", \"2\", \"2\", \"2\", \"2\", \"1\", \"2\", \"3\", \"3\", \"2\", \"3\", \"3\", \"2\", \"2\", \"2\", \"2\", \"3\", \"3\", \"3\", \"2\", \"2\", \"2\", \"3\", \"2\", \"1\", \"3\", \"2\", \"2\", \"2\", \"2\", \"2\", \"1\", \"1\", \"2\", \"2\", \"3\", \"3\", \"2\", \"3\", \"2\", \"2\", \"2\", \"2\", \"2\", \"1\", \"2\", \"3\", \"2\", \"2\", \"2\", \"2\", \"1\", \"2\", \"2\", \"3\", \"1\", \"2\", \"3\", \"3\", \"3\", \"2\", \"2\", \"2\", \"2\", \"3\", \"3\", \"2\", \"3\", \"1\", \"2\", \"2\", \"3\", \"3\", \"2\", \"3\", \"1\", \"3\", \"2\", \"2\", \"2\", \"2\", \"2\", \"2\", \"2\", \"3\", \"2\", \"2\", \"2\", \"2\", \"3\", \"3\", \"2\", \"3\", \"1\", \"2\", \"3\", \"3\", \"3\", \"2\", \"2\", \"3\", \"1\", \"3\", \"3\", \"2\", \"2\", \"2\", \"2\", \"1\", \"1\", \"2\", \"2\", \"1\", \"2\", \"2\", \"1\", \"2\", \"2\", \"2\", \"3\", \"2\", \"2\", \"2\", \"2\", \"2\", \"2\", \"2\", \"2\", \"3\", \"2\", \"2\", \"2\", \"3\", \"1\", \"2\", \"2\", \"2\", \"2\", \"2\", \"2\", \"2\", \"2\", \"2\", \"2\", \"2\", \"2\", \"3\", \"2\", \"2\", \"2\", \"2\", \"2\", \"2\", \"2\", \"2\", \"2\", \"2\", \"2\", \"1\", \"2\", \"2\", \"2\", \"2\", \"2\", \"2\", \"2\", \"2\", \"2\", \"2\", \"2\", \"2\", \"2\", \"2\", \"2\", \"2\", \"3\", \"2\", \"3\", \"3\", \"2\", \"2\", \"2\", \"2\", \"2\", \"2\", \"1\", \"2\", \"2\", \"2\", \"2\", \"1\", \"1\", \"2\", \"2\", \"2\", \"2\", \"2\", \"3\", \"2\", \"2\", \"2\", \"2\", \"2\", \"2\", \"2\", \"2\", \"2\", \"2\", \"3\", \"3\", \"2\", \"3\", \"3\", \"3\", \"3\", \"3\", \"3\", \"3\", \"3\", \"2\", \"2\", \"2\", \"2\", \"2\", \"2\", \"3\", \"3\", \"2\", \"1\", \"2\", \"1\", \"2\", \"3\", \"2\", \"2\", \"3\", \"2\", \"2\", \"2\", \"1\", \"2\", \"1\", \"1\", \"2\", \"3\", \"3\", \"2\", \"1\", \"2\", \"3\", \"2\", \"2\", \"2\", \"2\", \"2\", \"2\", \"2\", \"3\", \"1\", \"2\", \"2\", \"1\", \"1\", \"2\", \"2\", \"1\", \"2\", \"2\", \"2\", \"3\", \"3\", \"2\", \"2\", \"2\", \"1\", \"3\", \"2\", \"3\", \"2\", \"3\", \"2\", \"2\", \"3\", \"3\", \"2\", \"3\", \"2\", \"3\", \"3\", \"2\", \"2\", \"3\", \"2\", \"3\", \"2\", \"1\", \"2\", \"2\", \"2\", \"3\", \"2\", \"2\", \"2\", \"3\", \"2\", \"3\", \"2\", \"3\", \"3\", \"1\", \"1\", \"2\", \"3\", \"3\", \"2\", \"2\", \"2\", \"2\", \"2\", \"3\", \"3\", \"3\", \"2\", \"2\", \"2\", \"3\", \"3\", \"3\", \"3\", \"2\", \"2\", \"1\", \"3\", \"3\", \"2\", \"2\", \"3\", \"2\", \"2\", \"2\", \"2\", \"3\", \"2\", \"2\", \"3\", \"3\", \"1\", \"2\", \"3\", \"3\", \"3\", \"2\", \"2\", \"2\", \"2\", \"2\", \"3\", \"2\", \"1\", \"1\", \"2\", \"2\", \"2\", \"2\", \"2\", \"2\", \"1\", \"3\", \"3\", \"2\", \"2\", \"3\", \"3\", \"2\", \"3\", \"2\", \"3\", \"2\", \"2\", \"2\", \"2\", \"2\", \"2\", \"2\", \"2\", \"2\", \"2\", \"2\", \"2\", \"2\", \"2\", \"2\", \"2\", \"3\", \"3\", \"2\", \"2\", \"3\", \"2\", \"2\", \"2\", \"2\", \"2\", \"2\", \"2\", \"2\", \"3\", \"2\", \"3\", \"2\", \"2\", \"2\", \"1\", \"1\", \"2\", \"2\", \"3\", \"2\", \"2\", \"1\", \"2\", \"2\", \"2\", \"2\", \"2\", \"2\", \"2\", \"1\", \"2\", \"2\", \"2\", \"2\", \"3\", \"2\", \"2\", \"3\", \"2\", \"3\", \"3\", \"2\", \"2\", \"3\", \"2\", \"3\", \"2\", \"2\", \"3\", \"3\", \"3\", \"3\", \"3\", \"2\", \"2\", \"3\", \"2\", \"2\", \"1\", \"1\", \"2\", \"2\", \"2\", \"2\", \"3\", \"3\", \"2\", \"2\", \"2\", \"2\", \"3\", \"2\", \"3\", \"3\", \"3\", \"3\", \"2\", \"3\", \"3\", \"2\", \"2\", \"2\", \"3\", \"2\", \"2\", \"2\", \"2\", \"3\", \"3\", \"3\", \"2\", \"2\", \"2\", \"2\", \"2\", \"2\", \"3\", \"2\", \"2\", \"3\", \"2\", \"3\", \"1\", \"2\", \"3\", \"3\", \"3\", \"2\", \"2\", \"2\", \"3\", \"3\", \"3\", \"3\", \"3\", \"3\", \"3\", \"1\", \"2\", \"2\", \"2\", \"3\", \"3\", \"2\", \"2\", \"2\", \"3\", \"1\", \"2\", \"3\", \"1\", \"2\", \"3\", \"2\", \"2\", \"2\", \"2\", \"2\", \"2\", \"2\", \"2\", \"2\", \"2\", \"2\", \"2\", \"2\", \"3\", \"2\", \"2\", \"2\", \"2\", \"2\", \"1\", \"2\", \"2\", \"2\", \"3\", \"2\", \"2\", \"3\", \"2\", \"2\", \"1\", \"3\", \"3\", \"3\", \"2\", \"3\", \"3\", \"3\", \"2\", \"1\", \"2\", \"3\", \"3\", \"3\", \"1\", \"2\", \"2\", \"2\", \"3\", \"2\", \"2\", \"2\", \"2\", \"2\", \"3\", \"3\", \"3\", \"2\", \"3\", \"2\", \"2\", \"3\", \"2\", \"3\", \"2\", \"2\", \"2\", \"3\", \"2\", \"2\", \"2\", \"2\", \"3\", \"2\", \"2\", \"3\", \"3\", \"3\", \"3\", \"2\", \"3\", \"2\", \"3\", \"1\", \"2\", \"2\", \"2\", \"3\", \"2\", \"3\", \"2\", \"2\", \"2\", \"2\", \"2\", \"2\", \"3\", \"3\", \"1\", \"1\", \"2\", \"2\", \"2\", \"2\", \"2\", \"3\", \"3\", \"3\", \"2\", \"2\", \"2\", \"2\", \"1\", \"2\", \"2\", \"2\", \"2\", \"2\", \"2\", \"2\", \"2\", \"3\", \"3\", \"3\", \"1\", \"3\", \"2\", \"2\", \"2\", \"2\", \"3\", \"3\", \"2\", \"3\", \"3\", \"2\", \"3\", \"2\", \"2\", \"3\", \"3\", \"2\", \"2\", \"3\", \"2\", \"3\", \"3\", \"3\", \"3\", \"2\", \"3\", \"3\", \"2\", \"2\", \"2\", \"2\", \"1\", \"2\", \"2\", \"2\", \"3\", \"2\", \"2\", \"2\", \"2\", \"3\", \"2\", \"3\", \"3\", \"3\", \"3\", \"2\", \"3\", \"2\", \"2\", \"2\", \"2\", \"3\", \"1\", \"2\", \"2\", \"2\", \"3\", \"2\", \"2\", \"3\", \"3\", \"1\", \"3\", \"2\", \"2\", \"3\", \"2\", \"2\", \"1\", \"2\", \"2\", \"3\", \"3\", \"2\", \"2\", \"2\", \"1\", \"1\", \"2\", \"2\", \"3\", \"3\", \"2\", \"3\", \"2\", \"2\", \"2\", \"3\", \"2\", \"2\", \"2\", \"2\", \"2\", \"2\", \"3\", \"3\", \"2\", \"2\", \"2\", \"1\", \"1\", \"1\", \"1\", \"3\", \"2\", \"2\", \"2\", \"3\", \"2\", \"3\", \"1\", \"2\", \"2\", \"3\", \"3\", \"3\", \"3\", \"3\", \"2\", \"1\", \"3\", \"3\", \"2\", \"2\", \"2\", \"1\", \"3\", \"1\", \"2\", \"2\", \"2\", \"2\", \"2\", \"2\", \"3\", \"2\", \"2\", \"2\", \"2\", \"2\", \"2\", \"2\", \"2\", \"1\", \"3\", \"3\", \"2\", \"2\", \"1\", \"2\", \"2\", \"1\", \"2\", \"2\", \"1\", \"3\", \"2\", \"3\", \"2\", \"1\", \"2\", \"3\", \"2\", \"3\", \"3\", \"2\", \"3\", \"2\", \"2\", \"2\", \"2\", \"2\", \"2\", \"2\", \"3\", \"3\", \"2\", \"2\", \"3\", \"2\", \"3\", \"2\", \"2\", \"2\", \"2\", \"2\", \"3\", \"3\", \"2\", \"2\", \"3\", \"2\", \"1\", \"3\", \"2\", \"2\", \"3\", \"1\", \"2\", \"1\", \"2\", \"2\", \"3\", \"2\", \"2\", \"3\", \"3\", \"2\", \"2\", \"1\", \"3\", \"3\", \"3\", \"3\", \"3\", \"3\", \"3\", \"3\", \"3\", \"3\", \"3\", \"2\", \"1\", \"2\", \"2\", \"2\", \"2\", \"2\", \"2\", \"2\", \"2\", \"2\", \"3\", \"2\", \"2\", \"2\", \"2\", \"3\", \"2\", \"2\", \"2\", \"3\", \"2\", \"2\", \"1\", \"2\", \"3\", \"2\", \"2\", \"2\", \"3\", \"3\", \"2\", \"2\", \"2\", \"2\", \"2\", \"3\", \"2\", \"2\", \"3\", \"3\", \"2\", \"2\", \"1\", \"3\", \"3\", \"2\", \"2\", \"3\", \"2\", \"2\", \"2\", \"3\", \"2\", \"2\", \"3\", \"2\", \"3\", \"2\", \"2\", \"2\", \"1\", \"2\", \"2\", \"2\", \"2\", \"2\", \"3\", \"2\", \"2\", \"2\", \"1\", \"2\", \"3\", \"1\", \"1\", \"1\", \"2\", \"2\", \"2\", \"2\", \"1\", \"2\", \"2\", \"2\", \"2\", \"2\", \"2\", \"2\", \"2\", \"2\", \"3\", \"2\", \"3\", \"2\", \"2\", \"3\", \"3\", \"2\", \"2\", \"2\", \"2\", \"2\", \"2\", \"3\", \"3\", \"2\", \"2\", \"3\", \"2\", \"2\", \"2\", \"2\", \"2\", \"2\", \"3\", \"2\", \"2\", \"2\", \"2\", \"1\", \"2\", \"3\", \"2\", \"2\", \"2\", \"3\", \"2\", \"2\", \"3\", \"3\", \"3\", \"2\", \"3\", \"3\", \"3\", \"3\", \"2\", \"3\", \"2\", \"2\", \"2\", \"2\", \"2\", \"2\", \"2\", \"1\", \"3\", \"2\", \"3\", \"2\", \"2\", \"3\", \"3\", \"2\", \"2\", \"3\", \"2\", \"3\", \"3\", \"3\", \"3\", \"2\", \"2\", \"2\", \"1\", \"3\", \"3\", \"2\", \"2\", \"2\", \"2\", \"3\", \"3\", \"2\", \"2\", \"2\", \"2\", \"2\", \"2\", \"3\", \"3\", \"2\", \"2\", \"3\", \"3\", \"1\", \"3\", \"2\", \"2\", \"2\", \"2\", \"2\", \"2\", \"1\", \"2\", \"2\", \"2\", \"2\", \"2\", \"1\", \"2\", \"2\", \"2\", \"2\", \"2\", \"3\", \"2\", \"1\", \"2\", \"2\", \"2\", \"2\", \"2\", \"1\", \"1\", \"2\", \"2\", \"2\", \"3\", \"2\", \"3\", \"3\", \"2\", \"2\", \"2\", \"1\", \"2\", \"2\", \"2\", \"2\", \"3\", \"2\", \"2\", \"3\", \"2\", \"2\", \"3\", \"1\", \"3\", \"3\", \"3\", \"2\", \"2\", \"1\", \"2\", \"2\", \"2\", \"2\", \"2\", \"2\", \"3\", \"2\", \"3\", \"3\", \"3\", \"2\", \"2\", \"2\", \"3\", \"3\", \"2\", \"3\", \"3\", \"2\", \"3\", \"2\", \"3\", \"3\", \"2\", \"3\", \"2\", \"2\", \"2\", \"2\", \"2\", \"2\", \"2\", \"2\", \"2\", \"3\", \"2\", \"3\", \"3\", \"1\", \"1\", \"3\", \"2\", \"2\", \"2\", \"2\", \"3\", \"2\", \"2\", \"2\", \"3\", \"2\", \"2\", \"2\", \"3\", \"2\", \"2\", \"3\", \"1\", \"1\", \"1\", \"2\", \"2\", \"2\", \"3\", \"2\", \"2\", \"2\", \"3\", \"2\", \"2\", \"3\", \"2\", \"3\", \"2\", \"2\", \"2\", \"2\", \"2\", \"2\", \"2\", \"2\", \"2\", \"1\", \"2\", \"3\", \"2\", \"3\", \"3\", \"2\", \"2\", \"1\", \"2\", \"2\", \"2\", \"2\", \"2\", \"2\", \"3\", \"2\", \"2\", \"2\", \"2\", \"2\", \"3\", \"2\", \"2\", \"2\", \"3\", \"2\", \"2\", \"3\", \"1\", \"2\", \"3\", \"2\", \"3\", \"3\", \"1\", \"2\", \"3\", \"3\", \"2\", \"2\", \"3\", \"3\", \"2\", \"2\", \"2\", \"3\", \"2\", \"2\", \"2\", \"2\", \"2\", \"2\", \"2\", \"2\", \"3\", \"2\", \"2\", \"1\", \"2\", \"2\", \"2\", \"2\", \"2\", \"2\", \"2\", \"2\", \"3\", \"1\", \"1\", \"3\", \"3\", \"2\", \"2\", \"2\", \"2\", \"2\", \"2\", \"3\", \"2\", \"2\", \"2\", \"1\", \"2\", \"2\", \"2\", \"2\", \"3\", \"3\", \"3\", \"3\", \"3\", \"2\", \"2\", \"1\", \"1\", \"2\", \"2\", \"2\", \"2\", \"2\", \"2\", \"2\", \"2\", \"2\", \"2\", \"2\", \"2\", \"2\", \"3\", \"3\", \"2\", \"3\", \"2\", \"3\", \"3\", \"3\", \"1\", \"2\", \"2\", \"3\", \"3\", \"1\", \"2\", \"2\", \"1\", \"2\", \"3\", \"2\", \"2\", \"2\", \"2\", \"2\", \"2\", \"2\", \"2\", \"1\", \"2\", \"2\", \"1\", \"1\", \"2\", \"2\", \"2\", \"2\", \"2\", \"3\", \"3\", \"3\", \"2\", \"1\", \"3\", \"2\", \"2\", \"1\", \"1\", \"1\", \"1\", \"2\", \"2\", \"2\", \"2\", \"1\", \"2\", \"2\", \"3\", \"2\", \"3\", \"3\", \"3\", \"2\", \"2\", \"1\", \"3\", \"2\", \"2\", \"2\", \"2\", \"3\", \"2\", \"2\", \"2\", \"2\", \"2\", \"2\", \"3\", \"3\", \"2\", \"1\", \"2\", \"2\", \"2\", \"2\", \"2\", \"2\", \"2\", \"3\", \"2\", \"2\", \"3\", \"3\", \"2\", \"2\", \"2\", \"2\", \"2\", \"2\", \"3\", \"3\", \"3\", \"1\", \"2\", \"2\", \"2\", \"3\", \"2\", \"2\", \"2\", \"1\", \"1\", \"1\", \"2\", \"3\", \"1\", \"3\", \"2\", \"2\", \"1\", \"3\", \"3\", \"1\", \"3\", \"3\", \"3\", \"2\", \"2\", \"2\", \"2\", \"3\", \"2\", \"2\", \"2\", \"1\", \"1\", \"3\", \"3\", \"3\", \"2\", \"3\", \"3\", \"2\", \"2\", \"2\", \"2\", \"2\", \"2\", \"2\", \"1\", \"2\", \"2\", \"3\", \"2\", \"2\", \"2\", \"2\", \"2\", \"2\", \"3\", \"2\", \"3\", \"3\", \"3\", \"2\", \"2\", \"2\", \"2\", \"2\", \"2\", \"2\", \"1\", \"2\", \"2\", \"3\", \"2\", \"2\", \"3\", \"2\", \"3\", \"3\", \"3\", \"3\", \"2\", \"2\", \"3\", \"2\", \"2\", \"2\", \"2\", \"2\", \"2\", \"2\", \"2\", \"2\", \"3\", \"2\", \"3\", \"2\", \"3\", \"2\", \"2\", \"2\", \"2\", \"2\", \"2\", \"3\", \"2\", \"2\", \"2\", \"2\", \"3\", \"2\", \"2\", \"2\", \"1\", \"2\", \"2\", \"1\", \"2\", \"2\", \"3\", \"1\", \"2\", \"2\", \"3\", \"3\", \"2\", \"2\", \"2\", \"2\", \"3\", \"1\", \"2\", \"3\", \"2\", \"2\", \"2\", \"3\", \"2\", \"2\", \"2\", \"2\", \"2\", \"2\", \"3\", \"2\", \"2\", \"2\", \"3\", \"3\", \"3\", \"3\", \"3\", \"3\", \"3\", \"3\", \"3\", \"2\", \"2\", \"2\", \"1\", \"2\", \"2\", \"2\", \"2\", \"3\", \"3\", \"3\", \"1\", \"2\", \"2\", \"2\", \"1\", \"1\", \"2\", \"2\", \"3\", \"1\", \"2\", \"2\", \"1\", \"2\", \"2\", \"1\", \"2\", \"2\", \"2\", \"2\", \"2\", \"2\", \"2\", \"2\", \"2\", \"2\", \"2\", \"2\", \"2\", \"2\", \"2\", \"2\", \"2\", \"2\", \"2\", \"2\", \"3\", \"2\", \"3\", \"2\", \"2\", \"2\", \"2\", \"2\", \"2\", \"2\", \"2\", \"2\", \"3\", \"3\", \"2\", \"2\", \"2\", \"2\", \"2\", \"1\", \"1\", \"2\", \"2\", \"1\", \"2\", \"3\", \"3\", \"3\", \"2\", \"1\", \"2\", \"2\", \"2\", \"2\", \"2\", \"2\", \"2\", \"3\", \"2\", \"2\", \"2\", \"2\", \"2\", \"2\", \"2\", \"2\", \"1\", \"2\", \"2\", \"2\", \"2\", \"2\", \"3\", \"2\", \"3\", \"2\", \"2\", \"2\", \"2\", \"2\", \"2\", \"3\", \"2\", \"1\", \"2\", \"2\", \"2\", \"2\", \"2\", \"2\", \"2\", \"1\", \"2\", \"2\", \"3\", \"3\", \"2\", \"1\", \"2\", \"2\", \"3\", \"2\", \"3\", \"2\", \"2\", \"2\", \"2\", \"3\", \"2\", \"2\", \"2\", \"3\", \"1\", \"2\", \"2\", \"2\", \"2\", \"1\", \"2\", \"2\", \"2\", \"2\", \"2\", \"1\", \"2\", \"2\", \"2\", \"2\", \"2\", \"3\", \"3\", \"3\", \"2\", \"2\", \"2\", \"2\", \"2\", \"1\", \"2\", \"2\", \"2\", \"2\", \"2\", \"2\", \"2\", \"3\", \"2\", \"2\", \"2\", \"2\", \"2\", \"2\", \"2\", \"3\", \"3\", \"2\", \"2\", \"3\", \"2\", \"2\", \"2\", \"2\", \"3\", \"2\", \"2\", \"2\", \"2\", \"2\", \"2\", \"3\", \"2\", \"2\", \"3\", \"2\", \"2\", \"2\", \"2\", \"2\", \"2\", \"2\", \"2\", \"3\", \"3\", \"2\", \"3\", \"3\", \"3\", \"3\", \"3\", \"3\", \"2\", \"2\", \"2\", \"2\", \"2\", \"3\", \"2\", \"1\", \"3\", \"3\", \"2\", \"2\", \"2\", \"2\", \"2\", \"2\", \"2\", \"3\", \"1\", \"3\", \"2\", \"3\", \"2\", \"3\", \"2\", \"2\", \"2\", \"2\", \"2\", \"2\", \"3\", \"3\", \"2\", \"2\", \"1\", \"3\", \"2\", \"2\", \"2\", \"2\", \"1\", \"2\", \"3\", \"2\", \"2\", \"3\", \"2\", \"1\", \"2\", \"2\", \"2\", \"1\", \"2\", \"2\", \"2\", \"1\", \"3\", \"3\", \"3\", \"2\", \"3\", \"3\", \"2\", \"1\", \"2\", \"2\", \"2\", \"1\", \"3\", \"2\", \"1\", \"2\", \"2\", \"2\", \"2\", \"2\", \"2\", \"2\", \"1\", \"1\", \"2\", \"2\", \"2\", \"2\", \"1\", \"3\", \"1\", \"2\", \"2\", \"2\", \"1\", \"2\", \"2\", \"3\", \"2\", \"1\", \"3\", \"2\", \"3\", \"3\", \"2\", \"2\", \"3\", \"2\", \"2\", \"2\", \"1\", \"2\", \"2\", \"2\", \"2\", \"2\", \"3\", \"2\", \"2\", \"1\", \"2\", \"1\", \"2\", \"2\", \"3\", \"2\", \"1\", \"2\", \"2\", \"2\", \"2\", \"2\", \"3\", \"2\", \"2\", \"2\", \"1\", \"2\", \"1\", \"3\", \"1\", \"2\", \"2\", \"2\", \"2\", \"2\", \"2\", \"2\", \"2\", \"3\", \"2\", \"2\", \"2\", \"2\", \"3\", \"3\", \"3\", \"3\", \"3\", \"2\", \"1\", \"2\", \"3\", \"2\", \"2\", \"2\", \"2\", \"3\", \"2\", \"2\", \"2\", \"2\", \"2\", \"2\", \"2\", \"3\", \"1\", \"2\", \"2\", \"1\", \"1\", \"2\", \"1\", \"3\", \"3\", \"2\", \"1\", \"1\", \"1\", \"3\", \"2\", \"2\", \"2\", \"2\", \"2\", \"1\", \"2\", \"3\", \"2\", \"2\", \"3\", \"3\", \"2\", \"2\", \"1\", \"1\", \"1\", \"2\", \"2\", \"1\", \"3\", \"2\", \"2\", \"2\", \"3\", \"2\", \"2\", \"1\", \"1\", \"2\", \"2\", \"2\", \"2\", \"2\", \"2\", \"1\", \"2\", \"2\", \"3\", \"3\", \"3\", \"1\", \"2\", \"2\", \"2\", \"2\", \"2\", \"1\", \"2\", \"2\", \"2\", \"1\", \"3\", \"3\", \"3\", \"3\", \"3\", \"2\", \"3\", \"3\", \"1\", \"2\", \"2\", \"3\", \"2\", \"2\", \"1\", \"3\", \"2\", \"1\", \"2\", \"3\", \"2\", \"2\", \"1\", \"2\", \"3\", \"3\", \"2\", \"2\", \"2\", \"2\", \"3\", \"1\", \"2\", \"2\", \"2\", \"2\", \"2\", \"3\", \"1\", \"3\", \"3\", \"3\", \"3\", \"2\", \"2\", \"2\", \"2\", \"1\", \"1\", \"2\", \"2\", \"1\", \"3\", \"3\", \"2\", \"2\", \"3\", \"2\", \"2\", \"2\", \"2\", \"2\", \"3\", \"2\", \"3\", \"2\", \"2\", \"2\", \"2\", \"2\", \"3\", \"1\", \"1\", \"1\", \"1\", \"2\", \"2\", \"2\", \"2\", \"3\", \"2\", \"3\", \"2\", \"2\", \"2\", \"2\", \"2\", \"2\", \"2\", \"2\", \"3\", \"3\", \"3\", \"2\", \"1\", \"2\", \"2\", \"2\", \"3\", \"2\", \"3\", \"3\", \"3\", \"2\", \"3\", \"1\", \"1\", \"2\", \"2\", \"2\", \"2\", \"1\", \"2\", \"3\", \"3\", \"3\", \"2\", \"2\", \"2\", \"3\", \"2\", \"2\", \"2\", \"2\", \"3\", \"2\", \"2\", \"3\", \"2\", \"1\", \"2\", \"3\", \"3\", \"2\", \"2\", \"1\", \"3\", \"2\", \"2\", \"3\", \"2\", \"2\", \"3\", \"2\", \"2\", \"2\", \"2\", \"2\", \"2\", \"2\", \"2\", \"2\", \"3\", \"1\", \"2\", \"2\", \"3\", \"2\", \"3\", \"3\", \"2\", \"2\", \"2\", \"2\", \"1\", \"2\", \"2\", \"2\", \"1\", \"2\", \"2\", \"2\", \"3\", \"3\", \"3\", \"3\", \"3\", \"2\", \"2\", \"1\", \"1\", \"1\", \"1\", \"1\", \"2\", \"2\", \"2\", \"2\", \"1\", \"3\", \"3\", \"3\", \"3\", \"2\", \"2\", \"3\", \"3\", \"3\", \"2\", \"2\", \"3\", \"2\", \"2\", \"2\", \"3\", \"2\", \"1\", \"2\", \"3\", \"2\", \"2\", \"2\", \"3\", \"3\", \"3\", \"3\", \"3\", \"3\", \"3\", \"2\", \"1\", \"3\", \"2\", \"2\", \"2\", \"2\", \"1\", \"1\", \"2\", \"2\", \"2\", \"2\", \"2\", \"2\", \"2\", \"2\", \"2\", \"2\", \"2\", \"3\", \"2\", \"2\", \"1\", \"2\", \"2\", \"2\", \"2\", \"2\", \"3\", \"3\", \"3\", \"2\", \"2\", \"2\", \"2\", \"2\", \"2\", \"2\", \"3\", \"2\", \"2\", \"2\", \"2\", \"2\", \"1\", \"2\", \"2\", \"2\", \"2\", \"2\", \"3\", \"2\", \"1\", \"2\", \"1\", \"3\", \"2\", \"3\", \"2\", \"2\", \"2\", \"3\", \"2\", \"2\", \"2\", \"2\", \"2\", \"3\", \"2\", \"2\", \"1\", \"1\", \"2\", \"2\", \"2\", \"2\", \"2\", \"2\", \"2\", \"2\", \"1\", \"2\", \"2\", \"2\", \"2\", \"2\", \"2\", \"1\", \"1\", \"2\", \"2\", \"2\", \"2\", \"2\", \"2\", \"2\", \"3\", \"2\", \"2\", \"2\", \"3\", \"2\", \"2\", \"2\", \"2\", \"1\", \"3\", \"3\", \"3\", \"3\", \"1\", \"2\", \"2\", \"1\", \"3\", \"2\", \"2\", \"2\", \"2\", \"2\", \"2\", \"2\", \"3\", \"2\", \"2\", \"2\", \"2\", \"2\", \"3\", \"3\", \"2\", \"2\", \"2\", \"2\", \"2\", \"2\", \"2\", \"2\", \"2\", \"1\", \"3\", \"1\", \"2\", \"2\", \"2\", \"2\", \"3\", \"3\", \"2\", \"2\", \"2\", \"2\", \"2\", \"2\", \"3\", \"2\", \"3\", \"2\", \"2\", \"2\", \"2\", \"2\", \"3\", \"2\", \"2\", \"2\", \"2\", \"2\", \"3\", \"3\", \"2\", \"1\", \"2\", \"2\", \"2\", \"2\", \"2\", \"2\", \"2\", \"3\", \"2\", \"2\", \"2\", \"2\", \"2\", \"3\", \"2\", \"3\", \"2\", \"2\", \"3\", \"2\", \"2\", \"2\", \"2\", \"2\", \"3\", \"3\", \"1\", \"1\", \"2\", \"2\", \"2\", \"2\", \"2\", \"3\", \"3\", \"1\", \"3\", \"3\", \"2\", \"2\", \"2\", \"2\", \"2\", \"3\", \"2\", \"2\", \"2\", \"2\", \"3\", \"3\", \"3\", \"3\", \"3\", \"3\", \"2\", \"2\", \"2\", \"2\", \"2\", \"3\", \"2\", \"2\", \"3\", \"2\", \"3\", \"2\", \"1\", \"2\", \"2\", \"1\", \"1\", \"1\", \"1\", \"2\", \"3\", \"1\", \"3\", \"2\", \"2\", \"3\", \"1\", \"2\", \"2\", \"2\", \"3\", \"3\", \"2\", \"2\", \"2\", \"2\", \"2\", \"2\", \"2\", \"2\", \"1\", \"2\", \"3\", \"2\", \"3\", \"3\", \"2\", \"2\", \"2\", \"2\", \"2\", \"2\", \"2\", \"2\", \"3\", \"2\", \"2\", \"2\", \"3\", \"2\", \"1\", \"2\", \"3\", \"3\", \"3\", \"2\", \"2\", \"3\", \"2\", \"2\", \"2\", \"2\", \"2\", \"2\", \"2\", \"2\", \"2\", \"2\", \"1\", \"3\", \"3\", \"3\", \"2\", \"2\", \"2\", \"2\", \"3\", \"2\", \"2\", \"3\", \"2\", \"2\", \"2\", \"2\", \"2\", \"2\", \"2\", \"2\", \"2\", \"2\", \"2\", \"2\", \"2\", \"2\", \"2\", \"2\", \"2\", \"1\", \"3\", \"2\", \"2\", \"2\", \"2\", \"2\", \"2\", \"1\", \"1\", \"3\", \"3\", \"3\", \"2\", \"2\", \"2\", \"3\", \"2\", \"2\", \"3\", \"1\", \"3\", \"2\", \"1\", \"2\", \"1\", \"3\", \"2\", \"2\", \"2\", \"2\", \"2\", \"2\", \"3\", \"2\", \"2\", \"2\", \"2\", \"1\", \"2\", \"2\", \"2\", \"2\", \"3\", \"3\", \"2\", \"2\", \"2\", \"3\", \"2\", \"2\", \"2\", \"2\", \"2\", \"3\", \"3\", \"2\", \"2\", \"1\", \"1\", \"2\", \"3\", \"2\", \"2\", \"3\", \"2\", \"2\", \"2\", \"3\", \"3\", \"2\", \"2\", \"2\", \"2\", \"3\", \"2\", \"2\", \"2\", \"2\", \"3\", \"2\", \"2\", \"2\", \"1\", \"2\", \"2\", \"2\", \"2\", \"2\", \"2\", \"2\", \"3\", \"1\", \"2\", \"2\", \"3\", \"2\", \"2\", \"2\", \"2\", \"2\", \"2\", \"2\", \"2\", \"2\", \"2\", \"2\", \"2\", \"2\", \"2\", \"2\", \"2\", \"3\", \"1\", \"2\", \"3\", \"2\", \"2\", \"3\", \"3\", \"2\", \"2\", \"2\", \"3\", \"2\", \"2\", \"2\", \"2\", \"2\", \"1\", \"2\", \"1\", \"2\", \"2\", \"3\", \"2\", \"2\", \"2\", \"2\", \"2\", \"2\", \"3\", \"2\", \"2\", \"2\", \"2\", \"2\", \"2\", \"2\", \"2\", \"2\", \"3\", \"1\", \"1\", \"1\", \"1\", \"1\", \"2\", \"2\", \"2\", \"2\", \"2\", \"3\", \"3\", \"3\", \"3\", \"3\", \"3\", \"3\", \"1\", \"3\", \"2\", \"2\", \"2\", \"2\", \"3\", \"2\", \"2\", \"1\", \"2\", \"3\", \"2\", \"2\", \"1\", \"2\", \"3\", \"2\", \"2\", \"2\", \"2\", \"2\", \"3\", \"2\", \"1\", \"1\", \"1\", \"3\", \"2\", \"2\", \"2\", \"2\", \"3\", \"2\", \"2\", \"2\", \"2\", \"2\", \"2\", \"1\", \"2\", \"2\", \"3\", \"2\", \"3\", \"2\", \"2\", \"3\", \"2\", \"3\", \"2\", \"2\", \"2\", \"3\", \"2\", \"2\", \"3\", \"2\", \"2\", \"2\", \"2\", \"2\", \"2\", \"1\", \"2\", \"2\", \"1\", \"1\", \"2\", \"2\", \"1\", \"2\", \"2\", \"2\", \"2\", \"2\", \"2\", \"2\", \"3\", \"2\", \"2\", \"2\", \"2\", \"3\", \"2\", \"3\", \"2\", \"1\", \"2\", \"2\", \"1\", \"2\", \"2\", \"2\", \"2\", \"2\", \"3\", \"2\", \"2\", \"3\", \"2\", \"2\", \"2\", \"2\", \"2\", \"2\", \"3\", \"2\", \"2\", \"3\", \"2\", \"1\", \"2\", \"1\", \"2\", \"2\", \"2\", \"2\", \"2\", \"2\", \"2\", \"2\", \"2\", \"3\", \"3\", \"1\", \"2\", \"3\", \"3\", \"1\", \"3\", \"1\", \"3\", \"2\", \"2\", \"2\", \"2\", \"2\", \"2\", \"3\", \"3\", \"3\", \"2\", \"2\", \"2\", \"2\", \"2\", \"3\", \"2\", \"1\", \"1\", \"2\", \"2\", \"2\", \"2\", \"2\", \"3\", \"2\", \"1\", \"2\", \"3\", \"2\", \"2\", \"3\", \"2\", \"2\", \"2\", \"3\", \"2\", \"2\", \"3\", \"2\", \"1\", \"1\", \"2\", \"2\", \"2\", \"3\", \"2\", \"3\", \"2\", \"2\", \"1\", \"2\", \"2\", \"2\", \"2\", \"2\", \"2\", \"3\", \"2\", \"2\", \"2\", \"2\", \"1\", \"2\", \"1\", \"2\", \"3\", \"3\", \"2\", \"3\", \"2\", \"2\", \"3\", \"3\", \"2\", \"3\", \"3\", \"2\", \"3\", \"3\", \"2\", \"2\", \"2\", \"1\", \"1\", \"2\", \"2\", \"2\", \"2\", \"2\", \"3\", \"2\", \"2\", \"2\", \"2\", \"2\", \"2\", \"2\", \"2\", \"2\", \"1\", \"2\", \"2\", \"3\", \"2\", \"3\", \"1\", \"2\", \"2\", \"3\", \"2\", \"2\", \"2\", \"1\", \"1\", \"2\", \"2\", \"2\", \"2\", \"1\", \"1\", \"3\", \"3\", \"2\", \"3\", \"3\", \"2\", \"2\", \"2\", \"2\", \"2\", \"3\", \"2\", \"3\", \"3\", \"1\", \"3\", \"3\", \"2\", \"1\", \"1\", \"2\", \"2\", \"2\", \"1\", \"2\", \"3\", \"3\", \"2\", \"2\", \"2\", \"3\", \"2\", \"2\", \"2\", \"2\", \"2\", \"2\", \"2\", \"2\", \"2\", \"2\", \"2\", \"2\", \"3\", \"2\", \"2\", \"2\", \"2\", \"1\", \"2\", \"2\", \"2\", \"2\", \"1\", \"2\", \"3\", \"3\", \"2\", \"2\", \"3\", \"3\", \"2\", \"3\", \"2\", \"2\", \"3\", \"1\", \"1\", \"1\", \"1\", \"3\", \"2\", \"2\", \"2\", \"2\", \"3\", \"3\", \"2\", \"2\", \"3\", \"3\", \"2\", \"3\", \"2\", \"2\", \"3\", \"3\", \"2\", \"3\", \"2\", \"3\", \"2\", \"3\", \"2\", \"2\", \"3\", \"3\", \"2\", \"2\", \"1\", \"2\", \"3\", \"2\", \"2\", \"2\", \"3\", \"2\", \"2\", \"2\", \"2\", \"2\", \"1\", \"2\", \"2\", \"2\", \"2\", \"1\", \"1\", \"3\", \"2\", \"2\", \"2\", \"3\", \"2\", \"3\", \"2\", \"2\", \"2\", \"3\", \"3\", \"2\", \"2\", \"2\", \"2\", \"2\", \"2\", \"1\", \"2\", \"2\", \"2\", \"3\", \"3\", \"2\", \"2\", \"2\", \"1\", \"2\", \"2\", \"1\", \"2\", \"2\", \"3\", \"3\", \"3\", \"1\", \"2\", \"3\", \"2\", \"2\", \"1\", \"2\", \"3\", \"2\", \"2\", \"1\", \"3\", \"2\", \"2\", \"1\", \"2\", \"2\", \"2\", \"3\", \"2\", \"3\", \"3\", \"2\", \"3\", \"3\", \"3\", \"2\", \"1\", \"2\", \"3\", \"2\", \"2\", \"2\", \"2\", \"2\", \"2\", \"2\", \"2\", \"2\", \"2\", \"1\", \"2\", \"3\", \"3\", \"3\", \"2\", \"3\", \"2\", \"2\", \"3\", \"2\", \"3\", \"3\", \"3\", \"2\", \"2\", \"2\", \"1\", \"2\", \"2\", \"2\", \"2\", \"2\", \"2\", \"3\", \"2\", \"2\", \"2\", \"3\", \"3\", \"2\", \"3\", \"2\", \"3\", \"2\", \"3\", \"3\", \"3\", \"3\", \"3\", \"2\", \"3\", \"2\", \"2\", \"2\", \"2\", \"2\", \"2\", \"2\", \"3\", \"1\", \"1\", \"2\", \"2\", \"3\", \"2\", \"3\", \"3\", \"1\", \"2\", \"2\", \"1\", \"1\", \"3\", \"3\", \"2\", \"2\", \"2\", \"2\", \"2\", \"2\", \"2\", \"2\", \"2\", \"2\", \"1\", \"3\", \"3\", \"3\", \"3\", \"3\", \"2\", \"1\", \"3\", \"3\", \"3\", \"2\", \"2\", \"3\", \"2\", \"3\", \"3\", \"2\", \"1\", \"3\", \"3\", \"2\", \"2\", \"2\", \"2\", \"3\", \"3\", \"3\", \"2\", \"2\", \"1\", \"2\", \"2\", \"2\", \"3\", \"2\", \"2\", \"2\", \"3\", \"3\", \"2\", \"2\", \"2\", \"2\", \"2\", \"2\", \"2\", \"2\", \"3\", \"2\", \"2\", \"2\", \"2\", \"2\", \"2\", \"3\", \"2\", \"3\", \"2\", \"2\", \"3\", \"2\", \"2\", \"3\", \"1\", \"1\", \"1\", \"1\", \"3\", \"2\", \"3\", \"2\", \"2\", \"2\", \"3\", \"2\", \"2\", \"2\", \"2\", \"3\", \"3\", \"3\", \"2\", \"2\", \"1\", \"2\", \"2\", \"2\", \"2\", \"3\", \"3\", \"3\", \"1\", \"1\", \"2\", \"2\", \"2\", \"3\", \"2\", \"2\", \"2\", \"2\", \"2\", \"2\", \"3\", \"3\", \"1\", \"2\", \"3\", \"3\", \"2\", \"2\", \"2\", \"2\", \"1\", \"2\", \"2\", \"3\", \"2\", \"2\", \"2\", \"3\", \"2\", \"1\", \"2\", \"2\", \"3\", \"3\", \"2\", \"2\", \"2\", \"2\", \"2\", \"3\", \"2\", \"3\", \"3\", \"3\", \"3\", \"2\", \"2\", \"2\", \"3\", \"2\", \"3\", \"3\", \"2\", \"3\", \"2\", \"2\", \"3\", \"3\", \"2\", \"3\", \"2\", \"3\", \"2\", \"3\", \"2\", \"2\", \"2\", \"2\", \"3\", \"2\", \"3\", \"2\", \"2\", \"2\", \"2\", \"3\", \"2\", \"2\", \"3\", \"2\", \"2\", \"2\", \"1\", \"2\", \"2\", \"2\", \"2\", \"2\", \"2\", \"3\", \"2\", \"2\", \"1\", \"2\", \"2\", \"2\", \"3\", \"3\", \"2\", \"2\", \"3\", \"3\", \"3\", \"3\", \"3\", \"3\", \"2\", \"3\", \"3\", \"3\", \"3\", \"2\", \"2\", \"2\", \"3\", \"2\", \"2\", \"3\", \"3\", \"3\", \"2\", \"2\", \"2\", \"3\", \"2\", \"3\", \"1\", \"2\", \"3\", \"2\", \"2\", \"2\", \"2\", \"2\", \"2\", \"3\", \"2\", \"2\", \"2\", \"2\", \"2\", \"2\", \"2\", \"2\", \"2\", \"3\", \"2\", \"1\", \"2\", \"2\", \"2\", \"2\", \"2\", \"3\", \"2\", \"3\", \"2\", \"3\", \"2\", \"2\", \"3\", \"2\", \"2\", \"2\", \"2\", \"2\", \"2\", \"2\", \"2\", \"2\", \"3\", \"3\", \"2\", \"2\", \"3\", \"3\", \"3\", \"3\", \"2\", \"1\", \"2\", \"2\", \"2\", \"2\", \"2\", \"3\", \"2\", \"2\", \"2\", \"2\", \"1\", \"3\", \"2\", \"1\", \"2\", \"2\", \"2\", \"2\", \"2\", \"2\", \"2\", \"2\", \"2\", \"2\", \"3\", \"3\", \"2\", \"3\", \"3\", \"2\", \"1\", \"2\", \"2\", \"1\", \"2\", \"3\", \"2\", \"2\", \"2\", \"3\", \"3\", \"2\", \"2\", \"2\", \"2\", \"2\", \"1\", \"1\", \"1\", \"1\", \"2\", \"2\", \"1\", \"1\", \"2\", \"3\", \"3\", \"2\", \"1\", \"2\", \"2\", \"2\", \"2\", \"2\", \"2\", \"3\", \"3\", \"2\", \"3\", \"3\", \"2\", \"2\", \"1\", \"2\", \"2\", \"2\", \"2\", \"2\", \"3\", \"2\", \"2\", \"2\", \"3\", \"2\", \"2\", \"1\", \"3\", \"1\", \"3\", \"2\", \"2\", \"2\", \"3\", \"2\", \"2\", \"2\", \"2\", \"2\", \"3\", \"2\", \"2\", \"2\", \"2\", \"2\", \"3\", \"3\", \"3\", \"1\", \"1\", \"3\", \"3\", \"3\", \"2\", \"2\", \"2\", \"3\", \"3\", \"2\", \"2\", \"2\", \"1\", \"1\", \"2\", \"2\", \"2\", \"2\", \"2\", \"3\", \"3\", \"3\", \"2\", \"2\", \"3\", \"2\", \"3\", \"3\", \"3\", \"2\", \"2\", \"2\", \"2\", \"2\", \"3\", \"3\", \"2\", \"2\", \"2\", \"2\", \"2\", \"2\", \"2\", \"2\", \"2\", \"2\", \"2\", \"2\", \"3\", \"2\", \"2\", \"2\", \"2\", \"3\", \"3\", \"1\", \"2\", \"2\", \"3\", \"2\", \"2\", \"2\", \"3\", \"2\", \"2\", \"2\", \"3\", \"2\", \"2\", \"2\", \"2\", \"2\", \"2\", \"1\", \"2\", \"2\", \"2\", \"1\", \"2\", \"2\", \"2\", \"2\", \"2\", \"3\", \"2\", \"1\", \"2\", \"3\", \"1\", \"3\", \"2\", \"3\", \"3\", \"3\", \"2\", \"2\", \"2\", \"3\", \"2\", \"2\", \"3\", \"2\", \"2\", \"2\", \"2\", \"2\", \"2\", \"2\", \"1\", \"2\", \"3\", \"3\", \"1\", \"2\", \"2\", \"2\", \"3\", \"2\", \"3\", \"2\", \"3\", \"2\", \"2\", \"2\", \"3\", \"1\", \"1\", \"1\", \"2\", \"2\", \"3\", \"2\", \"3\", \"3\", \"3\", \"3\", \"2\", \"2\", \"2\", \"2\", \"2\", \"2\", \"2\", \"2\", \"2\", \"2\", \"2\", \"3\", \"3\", \"3\", \"1\", \"1\", \"1\", \"2\", \"3\", \"2\", \"2\", \"1\", \"1\", \"1\", \"1\", \"2\", \"2\", \"3\", \"2\", \"2\", \"3\", \"2\", \"3\", \"2\", \"2\", \"1\", \"2\", \"2\", \"2\", \"1\", \"2\", \"2\", \"2\", \"2\", \"2\", \"3\", \"2\", \"1\", \"2\", \"3\", \"2\", \"1\", \"2\", \"2\", \"2\", \"1\", \"2\", \"2\", \"2\", \"2\", \"2\", \"1\", \"3\", \"3\", \"2\", \"2\", \"2\", \"2\", \"1\", \"3\", \"3\", \"2\", \"3\", \"2\", \"2\", \"3\", \"2\", \"2\", \"2\", \"2\", \"2\", \"2\", \"2\", \"2\", \"3\", \"1\", \"2\", \"1\", \"2\", \"2\", \"1\", \"2\", \"3\", \"2\", \"1\", \"2\", \"3\", \"3\", \"3\", \"3\", \"3\", \"2\", \"2\", \"3\", \"2\", \"2\", \"2\", \"2\", \"2\", \"2\", \"2\", \"2\", \"3\", \"2\", \"3\", \"3\", \"2\", \"3\", \"2\", \"2\", \"2\", \"3\", \"2\", \"2\", \"3\", \"2\", \"3\", \"1\", \"2\", \"2\", \"2\", \"2\", \"1\", \"2\", \"1\", \"2\", \"2\", \"2\", \"2\", \"3\", \"2\", \"1\", \"3\", \"2\", \"2\", \"2\", \"2\", \"2\", \"2\", \"2\", \"2\", \"2\", \"2\", \"2\", \"2\", \"2\", \"2\", \"3\", \"2\", \"3\", \"2\", \"2\", \"2\", \"2\", \"2\", \"2\", \"2\", \"2\", \"3\", \"3\", \"2\", \"3\", \"3\", \"2\", \"1\", \"2\", \"2\", \"1\", \"2\", \"2\", \"3\", \"3\", \"2\", \"2\", \"2\", \"1\", \"1\", \"2\", \"2\", \"2\", \"2\", \"3\", \"2\", \"3\", \"2\", \"2\", \"3\", \"2\", \"2\", \"2\", \"2\", \"2\", \"2\", \"2\", \"2\", \"2\", \"3\", \"3\", \"2\", \"3\", \"2\", \"2\", \"2\", \"2\", \"2\", \"2\", \"2\", \"2\", \"2\", \"2\", \"3\", \"3\", \"3\", \"2\", \"1\", \"2\", \"3\", \"3\", \"2\", \"2\", \"2\", \"1\", \"2\", \"2\", \"2\", \"1\", \"1\", \"2\", \"3\", \"2\", \"2\", \"2\", \"2\", \"2\", \"2\", \"2\", \"1\", \"2\", \"2\", \"3\", \"2\", \"2\", \"2\", \"2\", \"2\", \"3\", \"3\", \"1\", \"1\", \"2\", \"2\", \"2\", \"2\", \"2\", \"2\", \"2\", \"2\", \"3\", \"2\", \"3\", \"3\", \"2\", \"2\", \"2\", \"3\", \"2\", \"3\", \"1\", \"2\", \"2\", \"2\", \"2\", \"2\", \"2\", \"2\", \"2\", \"3\", \"3\", \"2\", \"1\", \"2\", \"2\", \"2\", \"1\", \"2\", \"3\", \"3\", \"3\", \"3\", \"3\", \"2\", \"3\", \"2\", \"2\", \"2\", \"3\", \"2\", \"3\", \"3\", \"1\", \"1\", \"3\", \"2\", \"2\", \"2\", \"1\", \"2\", \"2\", \"2\", \"2\", \"2\", \"2\", \"2\", \"1\", \"2\", \"2\", \"2\", \"2\", \"2\", \"2\", \"2\", \"2\", \"3\", \"2\", \"3\", \"2\", \"2\", \"2\", \"2\", \"2\", \"2\", \"2\", \"2\", \"2\", \"1\", \"2\", \"2\", \"3\", \"3\", \"3\", \"2\", \"2\", \"2\", \"3\", \"2\", \"2\", \"2\", \"2\", \"2\", \"3\", \"3\", \"2\", \"2\", \"2\", \"1\", \"2\", \"1\", \"1\", \"1\", \"2\", \"2\", \"2\", \"2\", \"2\", \"1\", \"2\", \"3\", \"2\", \"2\", \"2\", \"2\", \"2\", \"3\", \"3\", \"2\", \"2\", \"2\", \"1\", \"2\", \"2\", \"2\", \"3\", \"2\", \"1\", \"2\", \"3\", \"3\", \"1\", \"3\", \"3\", \"3\", \"3\", \"2\", \"2\", \"1\", \"1\", \"2\", \"2\", \"2\", \"3\", \"2\", \"2\", \"2\", \"2\", \"3\", \"3\", \"2\", \"2\", \"2\", \"2\", \"2\", \"2\", \"1\", \"2\", \"2\", \"3\", \"2\", \"1\", \"2\", \"2\", \"2\", \"2\", \"3\", \"3\", \"3\", \"2\", \"3\", \"2\", \"2\", \"2\", \"2\", \"2\", \"2\", \"2\", \"2\", \"2\", \"2\", \"2\", \"2\", \"3\", \"3\", \"3\", \"3\", \"1\", \"2\", \"2\", \"2\", \"3\", \"3\", \"3\", \"2\", \"2\", \"2\", \"2\", \"2\", \"2\", \"2\", \"3\", \"1\", \"3\", \"1\", \"2\", \"2\", \"2\", \"2\", \"2\", \"2\", \"2\", \"1\", \"1\", \"3\", \"2\", \"3\", \"1\", \"2\", \"2\", \"1\", \"2\", \"1\", \"2\", \"3\", \"2\", \"2\", \"2\", \"2\", \"2\", \"2\", \"1\", \"2\", \"2\", \"1\", \"3\", \"2\", \"2\", \"3\", \"3\", \"2\", \"2\", \"2\", \"1\", \"3\", \"1\", \"2\", \"2\", \"2\", \"2\", \"2\", \"2\", \"2\", \"2\", \"1\", \"3\", \"2\", \"2\", \"2\", \"2\", \"2\", \"3\", \"3\", \"1\", \"2\", \"3\", \"2\", \"3\", \"2\", \"2\", \"2\", \"2\", \"1\", \"2\", \"2\", \"1\", \"1\", \"2\", \"3\", \"3\", \"2\", \"2\", \"2\", \"1\", \"2\", \"3\", \"3\", \"3\", \"3\", \"1\", \"3\", \"2\", \"2\", \"2\", \"2\", \"2\", \"2\", \"2\", \"2\", \"2\", \"3\", \"1\", \"3\", \"3\", \"2\", \"2\", \"3\", \"2\", \"2\", \"3\", \"2\", \"1\", \"2\", \"2\", \"2\", \"3\", \"2\", \"2\", \"3\", \"2\", \"2\", \"2\", \"2\", \"2\", \"2\", \"1\", \"2\", \"3\", \"2\", \"1\", \"1\", \"1\", \"1\", \"2\", \"2\", \"2\", \"3\", \"2\", \"3\", \"3\", \"1\", \"3\", \"3\", \"3\", \"3\", \"2\", \"3\", \"3\", \"3\", \"2\", \"2\", \"1\", \"3\", \"3\", \"1\", \"3\", \"2\", \"2\", \"3\", \"2\", \"3\", \"2\", \"3\", \"1\", \"3\", \"3\", \"2\", \"1\", \"3\", \"3\", \"3\", \"3\", \"3\", \"2\", \"2\", \"1\", \"2\", \"2\", \"2\", \"3\", \"3\", \"3\", \"2\", \"2\", \"2\", \"2\", \"2\", \"2\", \"2\", \"2\", \"2\", \"3\", \"3\", \"2\", \"2\", \"2\", \"2\", \"2\", \"2\", \"2\", \"3\", \"2\", \"2\", \"2\", \"3\", \"1\", \"2\", \"2\", \"1\", \"3\", \"2\", \"2\", \"2\", \"2\", \"3\", \"2\", \"2\", \"2\", \"2\", \"2\", \"3\", \"2\", \"2\", \"1\", \"3\", \"2\", \"3\", \"2\", \"2\", \"3\", \"3\", \"3\", \"3\", \"3\", \"3\", \"2\", \"3\", \"2\", \"2\", \"2\", \"1\", \"1\", \"1\", \"3\", \"2\", \"2\", \"2\", \"2\", \"3\", \"1\", \"3\", \"3\", \"3\", \"3\", \"3\", \"2\", \"2\", \"2\", \"3\", \"2\", \"3\", \"2\", \"3\", \"2\", \"2\", \"2\", \"1\", \"3\", \"2\", \"2\", \"2\", \"2\", \"3\", \"3\", \"3\", \"2\", \"2\", \"2\", \"2\", \"2\", \"3\", \"2\", \"2\", \"3\", \"2\", \"1\", \"2\", \"2\", \"2\", \"2\", \"2\", \"1\", \"2\", \"1\", \"2\", \"3\", \"3\", \"2\", \"2\", \"2\", \"1\", \"2\", \"3\", \"2\", \"2\", \"2\", \"3\", \"3\", \"2\", \"2\", \"3\", \"2\", \"2\", \"2\", \"2\", \"3\", \"3\", \"2\", \"2\", \"3\", \"2\", \"2\", \"2\", \"2\", \"2\", \"2\", \"2\", \"2\", \"2\", \"2\", \"3\", \"2\", \"2\", \"3\", \"2\", \"2\", \"2\", \"2\", \"2\", \"2\", \"2\", \"1\", \"2\", \"2\", \"2\", \"2\", \"2\", \"2\", \"1\", \"2\", \"3\", \"2\", \"3\", \"3\", \"2\", \"2\", \"1\", \"1\", \"3\", \"2\", \"3\", \"3\", \"2\", \"2\", \"3\", \"2\", \"2\", \"2\", \"2\", \"2\", \"2\", \"1\", \"2\", \"2\", \"2\", \"2\", \"3\", \"3\", \"1\", \"2\", \"1\", \"2\", \"2\", \"3\", \"3\", \"2\", \"2\", \"2\", \"1\", \"2\", \"2\", \"2\", \"2\", \"2\", \"2\", \"2\", \"2\", \"2\", \"2\", \"3\", \"3\", \"3\", \"2\", \"2\", \"2\", \"1\", \"1\", \"1\", \"2\", \"1\", \"1\", \"3\", \"2\", \"2\", \"2\", \"3\", \"1\", \"3\", \"3\", \"2\", \"3\", \"3\", \"3\", \"3\", \"3\", \"2\", \"1\", \"2\", \"2\", \"2\", \"2\", \"3\", \"3\", \"3\", \"2\", \"2\", \"3\", \"1\", \"1\", \"2\", \"2\", \"2\", \"2\", \"2\", \"3\", \"3\", \"2\", \"2\", \"3\", \"3\", \"3\", \"2\", \"3\", \"2\", \"2\", \"1\", \"1\", \"2\", \"3\", \"2\", \"3\", \"2\", \"2\", \"2\", \"1\", \"3\", \"3\", \"2\", \"2\", \"2\", \"2\", \"3\", \"2\", \"3\", \"2\", \"2\", \"2\", \"2\", \"2\", \"3\", \"3\", \"3\", \"3\", \"2\", \"1\", \"2\", \"2\", \"3\", \"2\", \"2\", \"2\", \"2\", \"2\", \"2\", \"1\", \"2\", \"2\", \"2\", \"2\", \"3\", \"1\", \"3\", \"3\", \"2\", \"3\", \"2\", \"2\", \"1\", \"2\", \"2\", \"2\", \"1\", \"2\", \"2\", \"2\", \"2\", \"2\", \"3\", \"2\", \"2\", \"2\", \"2\", \"3\", \"2\", \"1\", \"2\", \"2\", \"1\", \"2\", \"2\", \"3\", \"2\", \"2\", \"2\", \"2\", \"2\", \"2\", \"2\", \"2\", \"2\", \"2\", \"3\", \"3\", \"2\", \"2\", \"2\", \"1\", \"2\", \"2\", \"3\", \"2\", \"3\", \"2\", \"3\", \"3\", \"1\", \"2\", \"3\", \"2\", \"2\", \"2\", \"1\", \"3\", \"2\", \"3\", \"2\", \"2\", \"3\", \"1\", \"2\", \"2\", \"2\", \"2\", \"2\", \"1\", \"3\", \"3\", \"2\", \"3\", \"2\", \"2\", \"2\", \"2\", \"1\", \"2\", \"2\", \"2\", \"1\", \"2\", \"2\", \"2\", \"2\", \"2\", \"2\", \"1\", \"2\", \"1\", \"2\", \"1\", \"3\", \"3\", \"2\", \"2\", \"1\", \"3\", \"3\", \"2\", \"3\", \"3\", \"3\", \"2\", \"2\", \"2\", \"2\", \"2\", \"2\", \"2\", \"2\", \"2\", \"3\", \"2\", \"2\", \"3\", \"3\", \"3\", \"2\", \"3\", \"1\", \"2\", \"3\", \"2\", \"2\", \"2\", \"1\", \"2\", \"2\", \"3\", \"2\", \"2\", \"2\", \"2\", \"2\", \"1\", \"2\", \"2\", \"2\", \"3\", \"1\", \"2\", \"1\", \"2\", \"2\", \"3\", \"2\", \"1\", \"2\", \"2\", \"2\", \"3\", \"3\", \"3\", \"3\", \"2\", \"2\", \"3\", \"3\", \"3\", \"2\", \"2\", \"2\", \"2\", \"2\", \"1\", \"1\", \"3\", \"2\", \"2\", \"2\", \"1\", \"1\", \"2\", \"2\", \"3\", \"1\", \"2\", \"2\", \"2\", \"2\", \"2\", \"2\", \"2\", \"2\", \"3\", \"3\", \"3\", \"2\", \"2\", \"2\", \"2\", \"2\", \"3\", \"2\", \"2\", \"2\", \"1\", \"2\", \"2\", \"3\", \"3\", \"2\", \"1\", \"3\", \"2\", \"3\", \"3\", \"2\", \"2\", \"1\", \"2\", \"1\", \"3\", \"2\", \"2\", \"3\", \"3\", \"3\", \"1\", \"3\", \"2\", \"2\", \"3\", \"2\", \"3\", \"2\", \"3\", \"1\", \"2\", \"2\", \"1\", \"2\", \"2\", \"2\", \"1\", \"3\", \"2\", \"3\", \"1\", \"3\", \"2\", \"2\", \"2\", \"3\", \"3\", \"3\", \"3\", \"3\", \"3\", \"3\", \"3\", \"2\", \"1\", \"3\", \"2\", \"3\", \"2\", \"2\", \"1\", \"2\", \"3\", \"2\", \"3\", \"1\", \"2\", \"1\", \"2\", \"2\", \"2\", \"2\", \"2\", \"2\", \"2\", \"2\", \"3\", \"2\", \"2\", \"2\", \"3\", \"3\", \"2\", \"2\", \"2\", \"2\", \"2\", \"1\", \"3\", \"2\", \"1\", \"2\", \"3\", \"1\", \"3\", \"2\", \"2\", \"2\", \"2\", \"3\", \"1\", \"3\", \"3\", \"2\", \"2\", \"2\", \"3\", \"1\", \"2\", \"1\", \"2\", \"2\", \"3\", \"2\", \"3\", \"3\", \"3\", \"2\", \"1\", \"2\", \"1\", \"1\", \"3\", \"2\", \"2\", \"2\", \"2\", \"2\", \"1\", \"3\", \"2\", \"2\", \"2\", \"2\", \"1\", \"2\", \"2\", \"2\", \"2\", \"3\", \"1\", \"1\", \"2\", \"2\", \"2\", \"2\", \"2\", \"2\", \"2\", \"2\", \"2\", \"1\", \"3\", \"3\", \"3\", \"1\", \"3\", \"3\", \"3\", \"1\", \"2\", \"1\", \"3\", \"2\", \"2\", \"2\", \"3\", \"1\", \"2\", \"2\", \"2\", \"1\", \"2\", \"1\", \"2\", \"2\", \"2\", \"2\", \"2\", \"3\", \"3\", \"3\", \"2\", \"2\", \"2\", \"2\", \"2\", \"3\", \"3\", \"3\", \"2\", \"2\", \"3\", \"3\", \"3\", \"3\", \"1\", \"2\", \"2\", \"2\", \"3\", \"2\", \"3\", \"3\", \"2\", \"2\", \"3\", \"1\", \"2\", \"2\", \"2\", \"2\", \"2\", \"3\", \"2\", \"2\", \"3\", \"2\", \"3\", \"3\", \"2\", \"2\", \"3\", \"2\", \"2\", \"1\", \"1\", \"2\", \"1\", \"3\", \"2\", \"2\", \"2\", \"2\", \"1\", \"2\", \"2\", \"3\", \"3\", \"3\", \"3\", \"2\", \"2\", \"1\", \"2\", \"2\", \"1\", \"3\", \"3\", \"2\", \"2\", \"3\", \"3\", \"3\", \"2\", \"3\", \"2\", \"3\", \"2\", \"2\", \"3\", \"2\", \"2\", \"3\", \"2\", \"2\", \"3\", \"3\", \"1\", \"2\", \"3\", \"2\", \"2\", \"1\", \"2\", \"2\", \"1\", \"2\", \"2\", \"1\", \"1\", \"2\", \"2\", \"1\", \"1\", \"2\", \"2\", \"2\", \"3\", \"2\", \"3\", \"2\", \"1\", \"2\", \"2\", \"3\", \"1\", \"2\", \"2\", \"2\", \"2\", \"1\", \"2\", \"2\", \"3\", \"3\", \"2\", \"2\", \"2\", \"3\", \"2\", \"2\", \"2\", \"2\", \"2\", \"2\", \"2\", \"2\", \"1\", \"2\", \"2\", \"2\", \"2\", \"3\", \"2\", \"2\", \"2\", \"1\", \"2\", \"3\", \"3\", \"2\", \"1\", \"3\", \"2\", \"2\", \"2\", \"2\", \"2\", \"1\", \"2\", \"2\", \"3\", \"2\", \"2\", \"2\", \"1\", \"2\", \"2\", \"2\", \"2\", \"2\", \"2\", \"2\", \"2\", \"2\", \"2\", \"3\", \"2\", \"2\", \"2\", \"2\", \"1\", \"2\", \"2\", \"2\", \"2\", \"2\", \"3\", \"2\", \"2\", \"2\", \"2\", \"2\", \"2\", \"2\", \"2\", \"3\", \"3\", \"1\", \"3\", \"2\", \"2\", \"3\", \"2\", \"2\", \"2\", \"2\", \"3\", \"1\", \"1\", \"3\", \"1\", \"2\", \"2\", \"3\", \"3\", \"3\", \"2\", \"1\", \"2\", \"3\", \"2\", \"2\", \"2\", \"3\", \"1\", \"3\", \"3\", \"2\", \"2\", \"2\", \"1\", \"2\", \"3\", \"3\", \"1\", \"2\", \"2\", \"2\", \"2\", \"2\", \"3\", \"2\", \"2\", \"2\", \"2\", \"2\", \"3\", \"2\", \"2\", \"1\", \"2\", \"2\", \"3\", \"2\", \"2\", \"3\", \"2\", \"2\", \"3\", \"1\", \"3\", \"2\", \"2\", \"3\", \"2\", \"2\", \"1\", \"3\", \"3\", \"2\", \"2\", \"3\", \"2\", \"2\", \"1\", \"3\", \"3\", \"3\", \"2\", \"2\", \"2\", \"3\", \"2\", \"1\", \"2\", \"3\", \"3\", \"2\", \"2\", \"3\", \"2\", \"2\", \"3\", \"3\", \"2\", \"2\", \"2\", \"3\", \"2\", \"2\", \"2\", \"1\", \"3\", \"2\", \"3\", \"3\", \"3\", \"2\", \"2\", \"2\", \"2\", \"3\", \"3\", \"2\", \"3\", \"2\", \"2\", \"2\", \"2\", \"2\", \"3\", \"2\", \"2\", \"1\", \"3\", \"2\", \"3\", \"2\", \"2\", \"2\", \"3\", \"2\", \"2\", \"2\", \"2\", \"2\", \"3\", \"2\", \"3\", \"2\", \"1\", \"2\", \"2\", \"2\", \"2\", \"2\", \"1\", \"1\", \"1\", \"2\", \"2\", \"2\", \"3\", \"2\", \"2\", \"1\", \"2\", \"2\", \"3\", \"2\", \"2\", \"2\", \"2\", \"3\", \"2\", \"2\", \"2\", \"2\", \"1\", \"2\", \"2\", \"2\", \"3\", \"3\", \"3\", \"2\", \"1\", \"1\", \"1\", \"2\", \"1\", \"3\", \"2\", \"2\", \"2\", \"2\", \"2\", \"2\", \"2\", \"3\", \"2\", \"2\", \"3\", \"3\", \"2\", \"1\", \"2\", \"3\", \"3\", \"2\", \"2\", \"2\", \"2\", \"2\", \"1\", \"1\", \"1\", \"3\", \"2\", \"2\", \"2\", \"3\", \"2\", \"3\", \"2\", \"3\", \"2\", \"3\", \"2\", \"3\", \"2\", \"3\", \"3\", \"3\", \"2\", \"2\", \"2\", \"2\", \"2\", \"1\", \"2\", \"3\", \"3\", \"3\", \"2\", \"2\", \"2\", \"2\", \"2\", \"3\", \"3\", \"1\", \"3\", \"3\", \"2\", \"2\", \"3\", \"2\", \"2\", \"2\", \"3\", \"2\", \"1\", \"3\", \"3\", \"3\", \"3\", \"2\", \"2\", \"3\", \"1\", \"1\", \"2\", \"2\", \"2\", \"2\", \"2\", \"2\", \"3\", \"2\", \"2\", \"3\", \"2\", \"2\", \"3\", \"2\", \"2\", \"1\", \"2\", \"3\", \"2\", \"2\", \"2\", \"2\", \"1\", \"2\", \"2\", \"2\", \"1\", \"1\", \"3\", \"3\", \"2\", \"2\", \"2\", \"3\", \"2\", \"1\", \"1\", \"2\", \"1\", \"1\", \"1\", \"2\", \"3\", \"3\", \"1\", \"3\", \"3\", \"2\", \"2\", \"1\", \"3\", \"2\", \"2\", \"2\", \"2\", \"1\", \"2\", \"1\", \"2\", \"2\", \"3\", \"2\", \"3\", \"2\", \"2\", \"2\", \"2\", \"2\", \"1\", \"2\", \"2\", \"2\", \"2\", \"2\", \"3\", \"1\", \"3\", \"1\", \"2\", \"3\", \"2\", \"3\", \"2\", \"2\", \"2\", \"2\", \"2\", \"3\", \"2\", \"2\", \"3\", \"3\", \"2\", \"2\", \"1\", \"2\", \"2\", \"2\", \"2\", \"2\", \"2\", \"3\", \"2\", \"2\", \"2\", \"2\", \"1\", \"2\", \"3\", \"2\", \"2\", \"2\", \"2\", \"2\", \"2\", \"3\", \"2\", \"2\", \"2\", \"1\", \"2\", \"2\", \"2\", \"3\", \"2\", \"3\", \"2\", \"1\", \"2\", \"2\", \"2\", \"1\", \"2\", \"1\", \"2\", \"1\", \"2\", \"3\", \"3\", \"3\", \"3\", \"3\", \"3\", \"3\", \"2\", \"2\", \"2\", \"2\", \"1\", \"2\", \"3\", \"1\", \"2\", \"2\", \"2\", \"3\", \"2\", \"2\", \"2\", \"2\", \"2\", \"1\", \"1\", \"3\", \"2\", \"3\", \"2\", \"2\", \"3\", \"3\", \"2\", \"3\", \"3\", \"2\", \"2\", \"2\", \"2\", \"2\", \"1\", \"2\", \"2\", \"2\", \"2\", \"3\", \"2\", \"2\", \"2\", \"3\", \"2\", \"2\", \"2\", \"2\", \"2\", \"1\", \"2\", \"3\", \"2\", \"2\", \"1\", \"2\", \"1\", \"2\", \"2\", \"1\", \"2\", \"2\", \"2\", \"2\", \"3\", \"3\", \"3\", \"3\", \"2\", \"2\", \"2\", \"3\", \"3\", \"3\", \"2\", \"2\", \"1\", \"1\", \"2\", \"2\", \"3\", \"2\", \"3\", \"3\", \"3\", \"1\", \"3\", \"3\", \"3\", \"3\", \"3\", \"3\", \"3\", \"3\", \"3\", \"3\", \"2\", \"2\", \"1\", \"3\", \"2\", \"2\", \"1\", \"2\", \"2\", \"2\", \"2\", \"2\", \"2\", \"2\", \"2\", \"3\", \"2\", \"1\", \"3\", \"2\", \"2\", \"3\", \"3\", \"3\", \"3\", \"3\", \"2\", \"2\", \"2\", \"1\", \"2\", \"2\", \"2\", \"2\", \"2\", \"2\", \"2\", \"3\", \"3\", \"3\", \"3\", \"3\", \"3\", \"3\", \"3\", \"3\", \"3\", \"3\", \"3\", \"3\", \"1\", \"2\", \"1\", \"1\", \"3\", \"3\", \"2\", \"1\", \"1\", \"2\", \"2\", \"3\", \"2\", \"2\", \"2\", \"2\", \"2\", \"2\", \"2\", \"2\", \"2\", \"2\", \"2\", \"2\", \"2\", \"2\", \"2\", \"2\", \"2\", \"3\", \"2\", \"3\", \"3\", \"2\", \"2\", \"2\", \"3\", \"3\", \"2\", \"1\", \"1\", \"3\", \"3\", \"2\", \"2\", \"2\", \"2\", \"3\", \"3\", \"3\", \"3\", \"3\", \"2\", \"2\", \"3\", \"3\", \"3\", \"3\", \"3\", \"2\", \"2\", \"3\", \"2\", \"2\", \"2\", \"2\", \"2\", \"2\", \"2\", \"1\", \"3\", \"2\", \"2\", \"3\", \"3\", \"3\", \"3\", \"1\", \"1\", \"3\", \"3\", \"2\", \"2\", \"2\", \"2\", \"1\", \"1\", \"2\", \"2\", \"2\", \"3\", \"2\", \"2\", \"2\", \"2\", \"2\", \"1\", \"2\", \"3\", \"2\", \"2\", \"2\", \"1\", \"3\", \"2\", \"2\", \"3\", \"3\", \"2\", \"2\", \"2\", \"2\", \"3\", \"3\", \"2\", \"2\", \"2\", \"2\", \"3\", \"1\", \"2\", \"3\", \"2\", \"3\", \"2\", \"3\", \"2\", \"1\", \"2\", \"2\", \"2\", \"1\", \"3\", \"2\", \"3\", \"1\", \"1\", \"2\", \"3\", \"2\", \"2\", \"2\", \"3\", \"3\", \"1\", \"1\", \"3\", \"3\", \"2\", \"2\", \"3\", \"2\", \"2\", \"2\", \"3\", \"3\", \"2\", \"2\", \"2\", \"2\", \"2\", \"2\", \"2\", \"2\", \"2\", \"2\", \"1\", \"3\", \"3\", \"2\", \"2\", \"3\", \"2\", \"2\", \"2\", \"2\", \"3\", \"3\", \"3\", \"2\", \"2\", \"2\", \"2\", \"3\", \"2\", \"2\", \"1\", \"2\", \"2\", \"2\", \"3\", \"3\", \"3\", \"3\", \"3\", \"2\", \"2\", \"2\", \"2\", \"3\", \"2\", \"3\", \"1\", \"2\", \"1\", \"2\", \"3\", \"2\", \"2\", \"1\", \"3\", \"2\", \"2\", \"1\", \"1\", \"3\", \"2\", \"2\", \"2\", \"2\", \"3\", \"2\", \"2\", \"2\", \"2\", \"2\", \"2\", \"2\", \"2\", \"2\", \"3\", \"3\", \"2\", \"2\", \"3\", \"1\", \"2\", \"2\", \"2\", \"3\", \"3\", \"2\", \"2\", \"2\", \"2\", \"2\", \"3\", \"2\", \"2\", \"2\", \"2\", \"3\", \"2\", \"2\", \"2\", \"2\", \"1\", \"2\", \"2\", \"2\", \"2\", \"2\", \"2\", \"3\", \"3\", \"3\", \"1\", \"2\", \"2\", \"1\", \"1\", \"1\", \"3\", \"2\", \"2\", \"2\", \"2\", \"2\", \"2\", \"2\", \"3\", \"1\", \"2\", \"3\", \"1\", \"2\", \"1\", \"2\", \"2\", \"2\", \"2\", \"1\", \"2\", \"2\", \"2\", \"3\", \"1\", \"2\", \"2\", \"3\", \"1\", \"2\", \"3\", \"2\", \"2\", \"1\", \"2\", \"1\", \"2\", \"2\", \"3\", \"3\", \"2\", \"2\", \"2\", \"2\", \"3\", \"2\", \"3\", \"2\", \"2\", \"3\", \"3\", \"2\", \"1\", \"2\", \"2\", \"3\", \"2\", \"3\", \"3\", \"3\", \"2\", \"3\", \"3\", \"2\", \"3\", \"3\", \"2\", \"2\", \"2\", \"2\", \"2\", \"3\", \"2\", \"2\", \"3\", \"2\", \"2\", \"3\", \"2\", \"2\", \"2\", \"2\", \"2\", \"2\", \"3\", \"3\", \"2\", \"2\", \"2\", \"2\", \"3\", \"2\", \"2\", \"2\", \"2\", \"2\", \"2\", \"1\", \"1\", \"1\", \"2\", \"1\", \"2\", \"1\", \"1\", \"2\", \"3\", \"1\", \"3\", \"3\", \"2\", \"2\", \"3\", \"3\", \"3\", \"3\", \"2\", \"2\", \"2\", \"2\", \"2\", \"2\", \"2\", \"3\", \"2\", \"2\", \"3\", \"3\", \"3\", \"2\", \"3\", \"2\", \"1\", \"1\", \"2\", \"2\", \"2\", \"1\", \"2\", \"2\", \"2\", \"3\", \"2\", \"2\", \"2\", \"2\", \"2\", \"2\", \"2\", \"2\", \"1\", \"2\", \"2\", \"2\", \"2\", \"1\", \"3\", \"2\", \"2\", \"1\", \"2\", \"2\", \"2\", \"2\", \"3\", \"2\", \"2\", \"3\", \"2\", \"3\", \"3\", \"2\", \"2\", \"2\", \"2\", \"3\", \"2\", \"2\", \"1\", \"2\", \"2\", \"3\", \"3\", \"2\", \"2\", \"2\", \"2\", \"2\", \"2\", \"2\", \"2\", \"3\", \"3\", \"1\", \"2\", \"2\", \"3\", \"3\", \"3\", \"3\", \"2\", \"2\", \"2\", \"2\", \"2\", \"3\", \"1\", \"2\", \"1\", \"2\", \"3\", \"3\", \"1\", \"2\", \"2\", \"1\", \"3\", \"3\", \"2\", \"2\", \"2\", \"2\", \"2\", \"2\", \"2\", \"2\", \"2\", \"3\", \"3\", \"3\", \"3\", \"2\", \"2\", \"2\", \"3\", \"1\", \"3\", \"3\", \"3\", \"2\", \"2\", \"2\", \"2\", \"3\", \"2\", \"2\", \"2\", \"2\", \"3\", \"3\", \"1\", \"2\", \"3\", \"2\", \"2\", \"1\", \"3\", \"2\", \"2\", \"2\", \"2\", \"2\", \"2\", \"2\", \"3\", \"2\", \"2\", \"2\", \"2\", \"2\", \"1\", \"2\", \"3\", \"3\", \"2\", \"2\", \"2\", \"3\", \"2\", \"2\", \"2\", \"2\", \"2\", \"2\", \"2\", \"2\", \"2\", \"2\", \"2\", \"2\", \"2\", \"1\", \"2\", \"1\", \"2\", \"2\", \"3\", \"2\", \"2\", \"2\", \"2\", \"3\", \"2\", \"2\", \"2\", \"2\", \"1\", \"2\", \"2\", \"1\", \"2\", \"1\", \"1\", \"2\", \"2\", \"2\", \"2\", \"1\", \"1\", \"2\", \"3\", \"2\", \"3\", \"3\", \"1\", \"1\", \"3\", \"1\", \"2\", \"2\", \"1\", \"1\", \"2\", \"2\", \"3\", \"2\", \"2\", \"3\", \"2\", \"2\", \"2\", \"2\", \"2\", \"2\", \"3\", \"2\", \"1\", \"3\", \"3\", \"2\", \"2\", \"2\", \"2\", \"3\", \"3\", \"2\", \"2\", \"2\", \"3\", \"2\", \"2\", \"3\", \"3\", \"2\", \"2\", \"3\", \"2\", \"2\", \"2\", \"2\", \"2\", \"2\", \"2\", \"2\", \"1\", \"2\", \"3\", \"3\", \"1\", \"2\", \"2\", \"2\", \"2\", \"1\", \"2\", \"2\", \"2\", \"2\", \"2\", \"2\", \"2\", \"2\", \"3\", \"2\", \"1\", \"2\", \"2\", \"2\", \"2\", \"2\", \"2\", \"2\", \"2\", \"3\", \"3\", \"3\", \"3\", \"2\", \"2\", \"2\", \"1\", \"1\", \"3\", \"2\", \"1\", \"2\", \"2\", \"2\", \"2\", \"3\", \"2\", \"1\", \"3\", \"2\", \"2\", \"2\", \"2\", \"2\", \"2\", \"2\", \"2\", \"2\", \"2\", \"1\", \"3\", \"2\", \"2\", \"2\", \"3\", \"2\", \"2\", \"1\", \"3\", \"2\", \"2\", \"2\", \"3\", \"2\", \"2\", \"2\", \"3\", \"2\", \"2\", \"3\", \"2\", \"2\", \"1\", \"2\", \"1\", \"2\", \"2\", \"3\", \"2\", \"2\", \"3\", \"2\", \"2\", \"3\", \"3\", \"2\", \"2\", \"2\", \"2\", \"1\", \"2\", \"2\", \"2\", \"2\", \"3\", \"2\", \"2\", \"2\", \"2\", \"2\", \"3\", \"2\", \"2\", \"3\", \"3\", \"1\", \"3\", \"3\", \"3\", \"2\", \"2\", \"1\", \"2\", \"2\", \"2\", \"2\", \"1\", \"3\", \"3\", \"2\", \"3\", \"3\", \"3\", \"2\", \"3\", \"2\", \"3\", \"3\", \"2\", \"2\", \"2\", \"2\", \"2\", \"3\", \"2\", \"2\", \"2\", \"2\", \"2\", \"2\", \"3\", \"1\", \"3\", \"2\", \"1\", \"3\", \"2\", \"2\", \"2\", \"2\", \"2\", \"2\", \"2\", \"2\", \"3\", \"2\", \"1\", \"3\", \"1\", \"2\", \"1\", \"2\", \"2\", \"2\", \"2\", \"2\", \"3\", \"2\", \"3\", \"3\", \"2\", \"2\", \"2\", \"3\", \"2\", \"2\", \"2\", \"2\", \"2\", \"2\", \"2\", \"2\", \"1\", \"2\", \"1\", \"2\", \"2\", \"3\", \"1\", \"2\", \"2\", \"2\", \"2\", \"2\", \"3\", \"1\", \"2\", \"2\", \"2\", \"2\", \"1\", \"2\", \"1\", \"2\", \"3\", \"2\", \"3\", \"3\", \"2\", \"2\", \"2\", \"2\", \"3\", \"3\", \"3\", \"2\", \"2\", \"2\", \"2\", \"2\", \"2\", \"3\", \"1\", \"2\", \"2\", \"2\", \"2\", \"2\", \"2\", \"2\", \"2\", \"3\", \"2\", \"3\", \"2\", \"3\", \"1\", \"2\", \"2\", \"3\", \"3\", \"3\", \"2\", \"1\", \"2\", \"3\", \"2\", \"3\", \"2\", \"2\", \"2\", \"2\", \"2\", \"2\", \"2\", \"1\", \"2\", \"2\", \"2\", \"1\", \"2\", \"1\", \"3\", \"2\", \"2\", \"2\", \"2\", \"3\", \"2\", \"2\", \"2\", \"1\", \"2\", \"2\", \"2\", \"2\", \"2\", \"2\", \"1\", \"1\", \"3\", \"2\", \"1\", \"2\", \"3\", \"2\", \"2\", \"3\", \"2\", \"2\", \"3\", \"3\", \"1\", \"2\", \"3\", \"2\", \"3\", \"2\", \"3\", \"3\", \"2\", \"2\", \"3\", \"3\", \"1\", \"2\", \"1\", \"1\", \"2\", \"2\", \"3\", \"2\", \"2\", \"2\", \"2\", \"3\", \"2\", \"2\", \"2\", \"2\", \"2\", \"1\", \"2\", \"3\", \"2\", \"2\", \"3\", \"3\", \"2\", \"3\", \"2\", \"1\", \"2\", \"2\", \"2\", \"2\", \"2\", \"1\", \"2\", \"2\", \"2\", \"2\", \"1\", \"2\", \"2\", \"2\", \"2\", \"2\", \"3\", \"1\", \"3\", \"2\", \"3\", \"2\", \"2\", \"3\", \"2\", \"2\", \"2\", \"1\", \"2\", \"2\", \"3\", \"2\", \"2\", \"2\", \"2\", \"2\", \"1\", \"2\", \"3\", \"2\", \"2\", \"2\", \"2\", \"2\", \"1\", \"3\", \"2\", \"3\", \"2\", \"2\", \"2\", \"3\", \"2\", \"2\", \"2\", \"2\", \"2\", \"2\", \"2\", \"2\", \"2\", \"2\", \"2\", \"3\", \"2\", \"3\", \"2\", \"3\", \"1\", \"2\", \"3\", \"3\", \"3\", \"2\", \"3\", \"3\", \"3\", \"2\", \"2\", \"3\", \"2\", \"3\", \"2\", \"3\", \"2\", \"2\", \"2\", \"2\", \"2\", \"3\", \"3\", \"3\", \"3\", \"3\", \"3\", \"3\", \"3\", \"2\", \"3\", \"2\", \"2\", \"3\", \"2\", \"2\", \"2\", \"2\", \"3\", \"2\", \"2\", \"3\", \"2\", \"2\", \"2\", \"2\", \"2\", \"3\", \"3\", \"2\", \"3\", \"2\", \"3\", \"3\", \"2\", \"3\", \"3\", \"3\", \"3\", \"3\", \"3\", \"1\", \"3\", \"2\", \"2\", \"2\", \"3\", \"2\", \"3\", \"2\", \"2\", \"2\", \"2\", \"3\", \"2\", \"2\", \"2\", \"2\", \"1\", \"3\", \"2\", \"2\", \"2\", \"2\", \"3\", \"1\", \"1\", \"2\", \"2\", \"1\", \"2\", \"2\", \"2\", \"2\", \"2\", \"2\", \"2\", \"1\", \"1\", \"2\", \"2\", \"2\", \"2\", \"2\", \"2\", \"2\", \"2\", \"2\", \"1\", \"1\", \"3\", \"2\", \"1\", \"2\", \"3\", \"2\", \"2\", \"2\", \"2\", \"1\", \"1\", \"2\", \"1\", \"2\", \"2\", \"3\", \"3\", \"2\", \"2\", \"2\", \"2\", \"2\", \"2\", \"2\", \"3\", \"2\", \"1\", \"2\", \"2\", \"2\", \"2\", \"3\", \"2\", \"2\", \"2\", \"2\", \"2\", \"2\", \"2\", \"2\", \"3\", \"2\", \"2\", \"2\", \"2\", \"2\", \"1\", \"3\", \"3\", \"2\", \"2\", \"3\", \"2\", \"3\", \"2\", \"3\", \"2\", \"3\", \"3\", \"3\", \"2\", \"2\", \"3\", \"2\", \"3\", \"2\", \"2\", \"2\", \"2\", \"3\", \"3\", \"2\", \"2\", \"2\", \"2\", \"2\", \"2\", \"2\", \"3\", \"2\", \"2\", \"3\", \"3\", \"2\", \"3\", \"2\", \"2\", \"2\", \"2\", \"3\", \"3\", \"2\", \"2\", \"2\", \"1\", \"2\", \"2\", \"3\", \"3\", \"2\", \"1\", \"3\", \"1\", \"2\", \"2\", \"2\", \"3\", \"2\", \"2\", \"3\", \"2\", \"3\", \"2\", \"2\", \"1\", \"2\", \"2\", \"2\", \"2\", \"2\", \"1\", \"2\", \"1\", \"2\", \"2\", \"2\", \"3\", \"2\", \"2\", \"3\", \"3\", \"3\", \"2\", \"2\", \"2\", \"2\", \"2\", \"2\", \"2\", \"2\", \"3\", \"3\", \"2\", \"3\", \"3\", \"2\", \"3\", \"3\", \"3\", \"2\", \"3\", \"2\", \"2\", \"2\", \"2\", \"2\", \"2\", \"1\", \"2\", \"2\", \"2\", \"2\", \"2\", \"1\", \"3\", \"1\", \"2\", \"2\", \"2\", \"2\", \"3\", \"3\", \"3\", \"2\", \"2\", \"3\", \"2\", \"1\", \"2\", \"1\", \"2\", \"1\", \"2\", \"3\", \"3\", \"1\", \"2\", \"2\", \"3\", \"2\", \"2\", \"2\", \"1\", \"1\", \"2\", \"3\", \"1\", \"1\", \"2\", \"2\", \"2\", \"3\", \"1\", \"2\", \"2\", \"2\", \"2\", \"2\", \"2\", \"1\", \"1\", \"3\", \"2\", \"2\", \"2\", \"2\", \"2\", \"3\", \"2\", \"2\", \"2\", \"3\", \"2\", \"2\", \"2\", \"2\", \"2\", \"2\", \"2\", \"2\", \"3\", \"2\", \"3\", \"1\", \"2\", \"2\", \"2\", \"2\", \"2\", \"3\", \"2\", \"1\", \"2\", \"2\", \"2\", \"2\", \"1\", \"3\", \"2\", \"2\", \"3\", \"2\", \"2\", \"2\", \"2\", \"2\", \"3\", \"2\", \"1\", \"3\", \"3\", \"2\", \"2\", \"2\", \"1\", \"2\", \"2\", \"3\", \"1\", \"3\", \"1\", \"2\", \"3\", \"2\", \"2\", \"2\", \"2\", \"2\", \"3\", \"2\", \"2\", \"3\", \"3\", \"2\", \"2\", \"2\", \"2\", \"2\", \"2\", \"2\", \"2\", \"1\", \"1\", \"2\", \"3\", \"3\", \"3\", \"2\", \"3\", \"3\", \"2\", \"2\", \"3\", \"2\", \"2\", \"2\", \"2\", \"2\", \"1\", \"3\", \"3\", \"3\", \"2\", \"2\", \"2\", \"2\", \"2\", \"1\", \"3\", \"2\", \"2\", \"1\", \"3\", \"2\", \"2\", \"3\", \"2\", \"2\", \"2\", \"3\", \"3\", \"2\", \"2\", \"3\", \"2\", \"2\", \"3\", \"2\", \"2\", \"2\", \"2\", \"2\", \"2\", \"2\", \"2\", \"2\", \"2\", \"3\", \"2\", \"3\", \"3\", \"2\", \"2\", \"2\", \"2\", \"1\", \"2\", \"2\", \"2\", \"2\", \"1\", \"2\", \"2\", \"2\", \"2\", \"2\", \"2\", \"2\", \"2\", \"2\", \"2\", \"3\", \"3\", \"2\", \"2\", \"2\", \"2\", \"2\", \"1\", \"3\", \"2\", \"2\", \"1\", \"2\", \"2\", \"2\", \"2\", \"2\", \"2\", \"2\", \"2\", \"2\", \"3\", \"3\", \"3\", \"3\", \"3\", \"3\", \"3\", \"3\", \"3\", \"3\", \"1\", \"1\", \"3\", \"3\", \"2\", \"2\", \"2\", \"3\", \"2\", \"3\", \"3\", \"2\", \"3\", \"3\", \"3\", \"2\", \"1\", \"3\", \"3\", \"3\", \"2\", \"2\", \"3\", \"2\", \"3\", \"3\", \"3\", \"3\", \"3\", \"2\", \"2\", \"2\", \"2\", \"3\", \"3\", \"2\", \"3\", \"2\", \"2\", \"2\", \"2\", \"3\", \"2\", \"3\", \"3\", \"3\", \"3\", \"2\", \"2\", \"2\", \"2\", \"3\", \"1\", \"1\", \"2\", \"2\", \"2\", \"3\", \"2\", \"3\", \"3\", \"3\", \"1\", \"2\", \"3\", \"3\", \"3\", \"3\", \"3\", \"1\", \"1\", \"3\", \"3\", \"3\", \"3\", \"3\", \"3\", \"2\", \"2\", \"1\", \"1\", \"2\", \"2\", \"1\", \"2\", \"2\", \"3\", \"1\", \"3\", \"2\", \"1\", \"3\", \"3\", \"3\", \"1\", \"3\", \"2\", \"2\", \"2\", \"3\", \"3\", \"1\", \"2\", \"3\", \"3\", \"3\", \"3\", \"3\", \"3\", \"3\", \"3\", \"3\", \"3\", \"3\", \"2\", \"2\", \"2\", \"2\", \"2\", \"2\", \"2\", \"3\", \"3\", \"2\", \"1\", \"3\", \"2\", \"2\", \"3\", \"3\", \"3\", \"3\", \"2\", \"2\", \"2\", \"2\", \"2\", \"2\", \"2\", \"2\", \"2\", \"3\", \"2\", \"2\", \"2\", \"2\", \"3\", \"2\", \"2\", \"1\", \"2\", \"2\", \"2\", \"2\", \"2\", \"2\", \"2\", \"1\", \"2\", \"2\", \"2\", \"2\", \"2\", \"2\", \"2\", \"1\", \"2\", \"1\", \"1\", \"1\", \"1\", \"1\", \"3\", \"2\", \"2\", \"3\", \"2\", \"2\", \"2\", \"2\", \"2\", \"2\", \"2\", \"2\", \"2\", \"1\", \"1\", \"1\", \"1\", \"2\", \"2\", \"2\", \"2\", \"2\", \"2\", \"2\", \"3\", \"1\", \"3\", \"2\", \"2\", \"2\", \"2\", \"3\", \"2\", \"2\", \"2\", \"1\", \"2\", \"1\", \"1\", \"2\", \"2\", \"2\", \"2\", \"3\", \"2\", \"2\", \"2\", \"1\", \"2\", \"2\", \"2\", \"2\", \"2\", \"2\", \"2\", \"2\", \"2\", \"2\", \"2\", \"1\", \"3\", \"1\", \"3\", \"1\", \"3\", \"3\", \"2\", \"1\", \"2\", \"2\", \"2\", \"3\", \"2\", \"2\", \"2\", \"2\", \"2\", \"2\", \"2\", \"2\", \"2\", \"3\", \"2\", \"3\", \"2\", \"2\", \"2\", \"2\", \"2\", \"2\", \"2\", \"2\", \"2\", \"1\", \"3\", \"2\", \"2\", \"2\", \"2\", \"2\", \"3\", \"2\", \"3\", \"2\", \"2\", \"2\", \"2\", \"2\", \"1\", \"2\", \"2\", \"2\", \"2\", \"2\", \"2\", \"3\", \"3\", \"2\", \"2\", \"3\", \"2\", \"2\", \"2\", \"2\", \"2\", \"2\", \"2\", \"2\", \"2\", \"2\", \"2\", \"2\", \"2\", \"2\", \"2\", \"3\", \"2\", \"2\", \"2\", \"2\", \"2\", \"3\", \"2\", \"3\", \"1\", \"3\", \"2\", \"3\", \"2\", \"2\", \"2\", \"3\", \"2\", \"2\", \"2\", \"2\", \"2\", \"3\", \"3\", \"3\", \"3\", \"3\", \"3\", \"3\", \"2\", \"3\", \"3\", \"3\", \"2\", \"2\", \"2\", \"2\", \"2\", \"3\", \"2\", \"2\", \"2\", \"2\", \"2\", \"3\", \"2\", \"2\", \"2\", \"2\", \"2\", \"2\", \"2\", \"2\", \"2\", \"2\", \"2\", \"2\", \"2\", \"1\", \"2\", \"3\", \"3\", \"2\", \"2\", \"2\", \"2\", \"1\", \"2\", \"2\", \"2\", \"2\", \"3\", \"3\", \"3\", \"2\", \"2\", \"3\", \"3\", \"2\", \"2\", \"2\", \"2\", \"2\", \"3\", \"3\", \"2\", \"2\", \"2\", \"2\", \"2\", \"3\", \"2\", \"3\", \"1\", \"2\", \"2\", \"1\", \"2\", \"3\", \"3\", \"2\", \"2\", \"2\", \"2\", \"3\", \"3\", \"1\", \"3\", \"2\", \"2\", \"3\", \"2\", \"1\", \"2\", \"2\", \"3\", \"2\", \"2\", \"2\", \"2\", \"3\", \"2\", \"2\", \"2\", \"2\", \"2\", \"2\", \"2\", \"2\", \"2\", \"2\", \"2\", \"2\", \"2\", \"2\", \"2\", \"2\", \"2\", \"2\", \"2\", \"2\", \"2\", \"1\", \"2\", \"2\", \"3\", \"3\", \"3\", \"2\", \"2\", \"2\", \"3\", \"3\", \"2\", \"2\", \"2\", \"2\", \"2\", \"3\", \"2\", \"2\", \"2\", \"2\", \"2\", \"2\", \"2\", \"2\", \"2\", \"1\", \"1\", \"1\", \"3\", \"2\", \"2\", \"2\", \"2\", \"3\", \"2\", \"2\", \"2\", \"2\", \"2\", \"2\", \"3\", \"2\", \"2\", \"2\", \"3\", \"2\", \"2\", \"3\", \"2\", \"2\", \"2\", \"3\", \"1\", \"3\", \"2\", \"2\", \"2\", \"2\", \"2\", \"2\", \"2\", \"2\", \"2\", \"2\", \"3\", \"1\", \"2\", \"3\", \"1\", \"1\", \"2\", \"2\", \"2\", \"2\", \"2\", \"2\", \"2\", \"2\", \"2\", \"3\", \"2\", \"2\", \"2\", \"2\", \"2\", \"3\", \"2\", \"2\", \"2\", \"2\", \"2\", \"2\", \"3\", \"3\", \"3\", \"2\", \"2\", \"2\", \"2\", \"2\", \"2\", \"2\", \"2\", \"2\", \"2\", \"2\", \"2\", \"2\", \"2\", \"2\", \"3\", \"3\", \"2\", \"3\", \"2\", \"2\", \"2\", \"2\", \"2\", \"2\", \"2\", \"2\", \"3\", \"1\", \"2\", \"2\", \"2\", \"3\", \"3\", \"2\", \"2\", \"2\", \"2\", \"2\", \"1\", \"1\", \"2\", \"2\", \"2\", \"2\", \"2\", \"2\", \"2\", \"2\", \"2\", \"2\", \"2\", \"2\", \"1\", \"3\", \"2\", \"2\", \"2\", \"2\", \"2\", \"2\", \"2\", \"3\", \"2\", \"3\", \"2\", \"2\", \"2\", \"2\", \"3\", \"2\", \"2\", \"3\", \"3\", \"3\", \"3\", \"3\", \"2\", \"2\", \"3\", \"2\", \"2\", \"3\", \"3\", \"2\", \"2\", \"2\", \"3\", \"2\", \"2\", \"2\", \"2\", \"3\", \"2\", \"3\", \"2\", \"3\", \"3\", \"2\", \"3\", \"3\", \"3\", \"3\", \"2\", \"2\", \"2\", \"2\", \"2\", \"2\", \"2\", \"2\", \"2\", \"2\", \"2\", \"2\", \"2\", \"2\", \"2\", \"2\", \"2\", \"2\", \"2\", \"2\", \"3\", \"3\", \"3\", \"3\", \"2\", \"2\", \"3\", \"2\", \"2\", \"2\", \"2\", \"2\", \"2\", \"2\", \"2\", \"2\", \"2\", \"2\", \"2\", \"2\", \"2\", \"2\", \"2\", \"1\", \"1\", \"2\", \"2\", \"2\", \"2\", \"2\", \"2\", \"3\", \"3\", \"2\", \"2\", \"2\", \"2\", \"2\", \"2\", \"3\", \"3\", \"3\", \"2\", \"2\", \"2\", \"3\", \"3\", \"2\", \"2\", \"2\", \"3\", \"2\", \"3\", \"2\", \"2\", \"2\", \"2\", \"2\", \"2\", \"2\", \"2\", \"2\", \"2\", \"2\", \"2\", \"2\", \"2\", \"2\", \"2\", \"2\", \"2\", \"2\", \"2\", \"2\", \"2\", \"2\", \"2\", \"2\", \"3\", \"2\", \"2\", \"1\", \"2\", \"2\", \"2\", \"2\", \"1\", \"2\", \"2\", \"2\", \"2\", \"3\", \"2\", \"1\", \"2\", \"2\", \"2\", \"2\", \"2\", \"2\", \"2\", \"2\", \"2\", \"3\", \"2\", \"2\", \"2\", \"2\", \"2\", \"2\", \"2\", \"3\", \"2\", \"3\", \"3\", \"2\", \"2\", \"2\", \"2\", \"2\", \"2\", \"2\", \"2\", \"2\", \"2\", \"2\", \"2\", \"2\", \"2\", \"2\", \"2\", \"3\", \"2\", \"2\", \"2\", \"2\", \"2\", \"1\", \"3\", \"2\", \"2\", \"2\", \"2\", \"2\", \"2\", \"2\", \"3\", \"3\", \"3\", \"3\", \"3\", \"2\", \"3\", \"2\", \"3\", \"2\", \"2\", \"3\", \"3\", \"3\", \"3\", \"3\", \"3\", \"3\", \"3\", \"3\", \"3\", \"3\", \"2\", \"1\", \"2\", \"2\", \"2\", \"2\", \"2\", \"2\", \"1\", \"1\", \"2\", \"2\", \"2\", \"2\", \"3\", \"2\", \"3\", \"1\", \"1\", \"3\", \"3\", \"2\", \"3\", \"3\", \"3\", \"2\", \"2\", \"2\", \"3\", \"3\", \"2\", \"1\", \"2\", \"2\", \"2\", \"2\", \"2\", \"1\", \"2\", \"2\", \"2\", \"2\", \"2\", \"2\", \"2\", \"2\", \"2\", \"2\", \"2\", \"3\", \"2\", \"1\", \"3\", \"3\", \"1\", \"2\", \"2\", \"3\", \"2\", \"3\", \"2\", \"2\", \"3\", \"2\", \"2\", \"2\", \"2\", \"2\", \"3\", \"2\", \"1\", \"2\", \"2\", \"2\", \"3\", \"1\", \"2\", \"2\", \"2\", \"2\", \"2\", \"3\", \"3\", \"2\", \"2\", \"2\", \"2\", \"2\", \"2\", \"3\", \"1\", \"1\", \"3\", \"1\", \"1\", \"2\", \"3\", \"2\", \"2\", \"2\", \"2\", \"2\", \"2\", \"2\", \"3\", \"2\", \"2\", \"2\", \"3\", \"2\", \"2\", \"3\", \"3\", \"3\", \"3\", \"3\", \"3\", \"2\", \"2\", \"2\", \"3\", \"2\", \"1\", \"2\", \"1\", \"1\", \"2\", \"3\", \"2\", \"2\", \"2\", \"2\", \"2\", \"2\", \"3\", \"1\", \"2\", \"1\", \"2\", \"3\", \"3\", \"2\", \"2\", \"3\", \"1\", \"2\", \"2\", \"3\", \"2\", \"2\", \"2\", \"2\", \"3\", \"3\", \"2\", \"2\", \"2\", \"2\", \"2\", \"3\", \"2\", \"2\", \"3\", \"2\", \"2\", \"2\", \"2\", \"2\", \"2\", \"2\", \"2\", \"2\", \"2\", \"2\", \"3\", \"2\", \"1\", \"2\", \"3\", \"2\", \"2\", \"2\", \"3\", \"2\", \"2\", \"2\", \"2\", \"2\", \"2\", \"2\", \"2\", \"2\", \"2\", \"2\", \"2\", \"2\", \"2\", \"3\", \"2\", \"2\", \"2\", \"2\", \"2\", \"2\", \"3\", \"1\", \"2\", \"2\", \"2\", \"2\", \"2\", \"2\", \"2\", \"2\", \"2\", \"2\", \"2\", \"2\", \"3\", \"3\", \"2\", \"2\", \"1\", \"2\", \"2\", \"2\", \"2\", \"1\", \"2\", \"2\", \"2\", \"2\", \"2\", \"2\", \"2\", \"3\", \"2\", \"1\", \"3\", \"2\", \"2\", \"2\", \"2\", \"2\", \"2\", \"3\", \"2\", \"2\", \"2\", \"3\", \"2\", \"2\", \"2\", \"2\", \"2\", \"3\", \"2\", \"3\", \"3\", \"2\", \"3\", \"3\", \"3\", \"2\", \"3\", \"2\", \"2\", \"2\", \"2\", \"2\", \"2\", \"2\", \"3\", \"2\", \"2\", \"1\", \"1\", \"2\", \"3\", \"2\", \"3\", \"3\", \"2\", \"2\", \"2\", \"2\", \"2\", \"2\", \"2\", \"2\", \"2\", \"2\", \"2\", \"2\", \"3\", \"2\", \"1\", \"3\", \"3\", \"2\", \"2\", \"3\", \"2\", \"2\", \"2\", \"2\", \"2\", \"2\", \"2\", \"2\", \"1\", \"2\", \"2\", \"1\", \"2\", \"2\", \"2\", \"2\", \"2\", \"3\", \"3\", \"3\", \"2\", \"2\", \"2\", \"2\", \"2\", \"2\", \"2\", \"2\", \"2\", \"2\", \"2\", \"2\", \"2\", \"2\", \"2\", \"2\", \"2\", \"2\", \"2\", \"3\", \"2\", \"2\", \"2\", \"2\", \"2\", \"2\", \"2\", \"2\", \"2\", \"2\", \"3\", \"2\", \"2\", \"2\", \"2\", \"2\", \"2\", \"2\", \"2\", \"2\", \"2\", \"2\", \"3\", \"2\", \"2\", \"2\", \"1\", \"2\", \"2\", \"2\", \"2\", \"2\", \"2\", \"2\", \"2\", \"2\", \"2\", \"3\", \"3\", \"2\", \"2\", \"2\", \"2\", \"2\", \"2\", \"2\", \"1\", \"2\", \"2\", \"3\", \"2\", \"2\", \"2\", \"2\", \"2\", \"2\", \"2\", \"3\", \"2\", \"1\", \"3\", \"2\", \"2\", \"2\", \"2\", \"2\", \"2\", \"3\", \"2\", \"2\", \"3\", \"2\", \"2\", \"3\", \"2\", \"2\", \"2\", \"2\", \"3\", \"2\", \"3\", \"2\", \"2\", \"2\", \"2\", \"2\", \"2\", \"3\", \"2\", \"2\", \"2\", \"2\", \"3\", \"3\", \"2\", \"2\", \"3\", \"3\", \"3\", \"2\", \"2\", \"1\", \"1\", \"1\", \"2\", \"1\", \"2\", \"3\", \"2\", \"1\", \"1\", \"2\", \"2\", \"3\", \"2\", \"3\", \"2\", \"2\", \"2\", \"3\", \"3\", \"2\", \"2\", \"2\", \"2\", \"1\", \"2\", \"2\", \"2\", \"2\", \"2\", \"2\", \"2\", \"1\", \"2\", \"3\", \"3\", \"3\", \"3\", \"2\", \"1\", \"3\", \"2\", \"2\", \"2\", \"2\", \"2\", \"2\", \"2\", \"2\", \"2\", \"2\", \"1\", \"2\", \"2\", \"2\", \"3\", \"2\", \"2\", \"3\", \"1\", \"1\", \"3\", \"3\", \"3\", \"3\", \"2\", \"2\", \"3\", \"3\", \"3\", \"3\", \"3\", \"3\", \"3\", \"3\", \"3\", \"3\", \"3\", \"3\", \"3\", \"3\", \"3\", \"3\", \"3\", \"3\", \"3\", \"3\", \"3\", \"3\", \"3\", \"3\", \"3\", \"3\", \"2\", \"2\", \"2\", \"2\", \"2\", \"2\", \"2\", \"2\", \"3\", \"2\", \"2\", \"2\", \"2\", \"2\", \"2\", \"3\", \"3\", \"3\", \"3\", \"3\", \"3\", \"2\", \"2\", \"2\", \"2\", \"2\", \"3\", \"3\", \"3\", \"3\", \"2\", \"1\", \"2\", \"3\", \"3\", \"2\", \"2\", \"1\", \"3\", \"3\", \"3\", \"3\", \"3\", \"3\", \"2\", \"2\", \"3\", \"2\", \"2\", \"3\", \"2\", \"3\", \"3\", \"3\", \"3\", \"3\", \"3\", \"3\", \"3\", \"3\", \"3\", \"2\", \"3\", \"3\", \"2\", \"1\", \"1\", \"2\", \"1\", \"1\", \"1\", \"1\", \"2\", \"1\", \"2\", \"3\", \"3\", \"3\", \"3\", \"3\", \"3\", \"3\", \"3\", \"3\", \"3\", \"3\", \"3\", \"3\", \"3\", \"3\", \"3\", \"3\", \"2\", \"3\", \"3\", \"3\", \"3\", \"3\", \"3\", \"3\", \"3\", \"3\", \"3\", \"3\", \"3\", \"3\", \"3\", \"3\", \"3\", \"3\", \"3\", \"3\", \"3\", \"3\", \"3\", \"3\", \"3\", \"3\", \"3\", \"1\", \"1\", \"2\", \"2\", \"2\", \"2\", \"2\", \"2\", \"2\", \"2\", \"2\", \"3\", \"2\", \"2\", \"3\", \"3\", \"2\", \"2\", \"1\", \"2\", \"2\", \"2\", \"2\", \"2\", \"2\", \"2\", \"2\", \"2\", \"2\", \"2\", \"2\", \"2\", \"2\", \"2\", \"2\", \"2\", \"2\", \"2\", \"2\", \"2\", \"3\", \"3\", \"3\", \"3\", \"3\", \"2\", \"2\", \"2\", \"1\", \"2\", \"2\", \"2\", \"2\", \"1\", \"1\", \"1\", \"1\", \"1\", \"1\", \"1\", \"2\", \"2\", \"2\", \"3\", \"2\", \"2\", \"2\", \"2\", \"1\", \"2\", \"2\", \"3\", \"3\", \"2\", \"2\", \"1\", \"3\", \"2\", \"3\", \"2\", \"2\", \"2\", \"2\", \"2\", \"3\", \"2\", \"2\", \"2\", \"2\", \"3\", \"3\", \"2\", \"2\", \"1\", \"2\", \"2\", \"2\", \"2\", \"3\", \"2\", \"2\", \"2\", \"2\", \"2\", \"3\", \"2\", \"2\", \"2\", \"2\", \"3\", \"1\", \"3\", \"3\", \"3\", \"3\", \"3\", \"2\", \"2\", \"2\", \"2\", \"3\", \"2\", \"2\", \"3\", \"2\", \"2\", \"2\", \"2\", \"2\", \"2\", \"3\", \"2\", \"2\", \"3\", \"2\", \"2\", \"3\", \"2\", \"2\", \"2\", \"2\", \"2\", \"2\", \"2\", \"2\", \"2\", \"2\", \"2\", \"1\", \"3\", \"3\", \"2\", \"3\", \"2\", \"2\", \"2\", \"2\", \"2\", \"3\", \"3\", \"1\", \"3\", \"2\", \"3\", \"2\", \"2\", \"2\", \"1\", \"2\", \"2\", \"2\", \"2\", \"3\", \"2\", \"2\", \"3\", \"2\", \"2\", \"2\", \"2\", \"2\", \"3\", \"2\", \"3\", \"3\", \"3\", \"3\", \"2\", \"2\", \"1\", \"2\", \"3\", \"2\", \"2\", \"2\", \"2\", \"2\", \"2\", \"3\", \"2\", \"2\", \"2\", \"2\", \"3\", \"3\", \"3\", \"3\", \"2\", \"2\", \"2\", \"2\", \"2\", \"2\", \"2\", \"2\", \"2\", \"3\", \"3\", \"2\", \"3\", \"1\", \"2\", \"2\", \"3\", \"2\", \"2\", \"2\", \"2\", \"3\", \"2\", \"3\", \"3\", \"2\", \"2\", \"2\", \"3\", \"2\", \"2\", \"2\", \"3\", \"2\", \"2\", \"2\", \"2\", \"1\", \"2\", \"2\", \"2\", \"2\", \"2\", \"3\", \"3\", \"2\", \"3\", \"2\", \"2\", \"2\", \"2\", \"2\", \"2\", \"3\", \"1\", \"2\", \"3\", \"1\", \"3\", \"2\", \"2\", \"2\", \"2\", \"2\", \"3\", \"3\", \"2\", \"2\", \"1\", \"3\", \"3\", \"3\", \"2\", \"2\", \"2\", \"2\", \"2\", \"2\", \"2\", \"2\", \"2\", \"2\", \"2\", \"2\", \"2\", \"2\", \"2\", \"2\", \"2\", \"3\", \"3\", \"3\", \"2\", \"2\", \"3\", \"2\", \"2\", \"2\", \"3\", \"2\", \"2\", \"2\", \"2\", \"2\", \"2\", \"2\", \"2\", \"2\", \"2\", \"2\", \"3\", \"2\", \"2\", \"2\", \"2\", \"2\", \"2\", \"2\", \"3\", \"2\", \"2\", \"2\", \"2\", \"2\", \"3\", \"2\", \"2\", \"2\", \"2\", \"2\", \"2\", \"2\", \"2\", \"2\", \"2\", \"2\", \"2\", \"2\", \"1\", \"3\", \"2\", \"1\", \"2\", \"2\", \"3\", \"2\", \"2\", \"2\", \"2\", \"1\", \"3\", \"2\", \"2\", \"2\", \"2\", \"3\", \"3\", \"2\", \"3\", \"3\", \"3\", \"3\", \"3\", \"3\", \"3\", \"1\", \"2\", \"3\", \"3\", \"3\", \"3\", \"3\", \"3\", \"3\", \"2\", \"2\", \"2\", \"3\", \"1\", \"2\", \"2\", \"2\", \"2\", \"3\", \"2\", \"1\", \"2\", \"2\", \"2\", \"1\", \"1\", \"1\", \"1\", \"1\", \"2\", \"2\", \"2\", \"2\", \"2\", \"2\", \"3\", \"2\", \"2\", \"3\", \"2\", \"2\", \"2\", \"2\", \"2\", \"2\", \"2\", \"2\", \"2\", \"2\", \"2\", \"2\", \"2\", \"3\", \"3\", \"2\", \"3\", \"3\", \"3\", \"1\", \"3\", \"2\", \"2\", \"1\", \"2\", \"2\", \"2\", \"2\", \"2\", \"2\", \"3\", \"3\", \"2\", \"2\", \"2\", \"2\", \"2\", \"2\", \"3\", \"3\", \"3\", \"3\", \"3\", \"2\", \"2\", \"2\", \"2\", \"2\", \"2\", \"2\", \"1\", \"2\", \"1\", \"1\", \"1\", \"1\", \"1\", \"2\", \"1\", \"2\", \"2\", \"2\", \"1\", \"1\", \"1\", \"1\", \"2\", \"2\", \"2\", \"2\", \"2\", \"3\", \"1\", \"1\", \"2\", \"1\", \"1\", \"2\", \"2\", \"2\", \"2\", \"2\", \"2\", \"3\", \"2\", \"2\", \"2\", \"2\", \"2\", \"2\", \"2\", \"2\", \"2\", \"2\", \"3\", \"2\", \"2\", \"2\", \"2\", \"3\", \"3\", \"3\", \"3\", \"2\", \"3\", \"2\", \"2\", \"2\", \"2\", \"2\", \"2\", \"2\", \"2\", \"3\", \"2\", \"2\", \"2\", \"2\", \"2\", \"3\", \"2\", \"3\", \"2\", \"2\", \"3\", \"3\", \"2\", \"2\", \"2\", \"1\", \"1\", \"3\", \"1\", \"1\", \"1\", \"1\", \"2\", \"2\", \"2\", \"2\", \"2\", \"2\", \"2\", \"2\", \"2\", \"2\", \"2\", \"2\", \"2\", \"2\", \"3\", \"2\", \"1\", \"2\", \"1\", \"2\", \"1\", \"2\", \"1\", \"1\", \"1\", \"2\", \"1\", \"1\", \"1\", \"1\", \"2\", \"1\", \"1\", \"2\", \"1\", \"1\", \"2\", \"1\", \"1\", \"1\", \"1\", \"3\", \"1\", \"1\", \"1\", \"1\", \"1\", \"1\", \"1\", \"1\", \"3\", \"3\", \"2\", \"3\", \"3\", \"3\", \"2\", \"1\", \"3\", \"3\", \"2\", \"3\", \"3\", \"3\", \"3\", \"3\", \"3\", \"1\", \"3\", \"3\", \"3\", \"3\", \"2\", \"2\", \"3\", \"3\", \"3\", \"3\", \"3\", \"3\", \"3\", \"3\", \"3\", \"3\", \"3\", \"3\", \"2\", \"3\", \"1\", \"2\", \"3\", \"3\", \"3\", \"3\", \"3\", \"2\", \"3\", \"3\", \"3\", \"3\", \"2\", \"3\", \"3\", \"2\", \"3\", \"2\", \"1\", \"2\", \"2\", \"2\", \"2\", \"2\", \"2\", \"2\", \"2\", \"2\", \"2\", \"2\", \"3\", \"2\", \"2\", \"3\", \"2\", \"1\", \"2\", \"1\", \"1\", \"1\", \"1\", \"2\", \"2\", \"1\", \"1\", \"2\", \"2\", \"2\", \"2\", \"2\", \"3\", \"2\", \"1\", \"2\", \"2\", \"2\", \"2\", \"2\", \"2\", \"2\", \"2\", \"3\", \"1\", \"1\", \"1\", \"1\", \"1\", \"1\", \"2\", \"1\", \"1\", \"2\", \"2\", \"3\", \"2\", \"3\", \"1\", \"3\", \"3\", \"3\", \"2\", \"2\", \"1\", \"3\", \"2\", \"3\", \"1\", \"1\", \"1\", \"3\", \"1\", \"1\", \"1\", \"1\", \"1\", \"3\", \"2\", \"2\", \"1\", \"3\", \"3\", \"3\", \"2\", \"2\", \"2\", \"2\", \"2\", \"2\", \"2\", \"2\", \"3\", \"2\", \"2\", \"1\", \"3\", \"2\", \"2\", \"3\", \"2\", \"3\", \"3\", \"3\", \"2\", \"2\", \"2\", \"2\", \"2\", \"2\", \"2\", \"2\", \"2\", \"3\", \"1\", \"1\", \"2\", \"2\", \"2\", \"2\", \"2\", \"2\", \"2\", \"2\", \"2\", \"2\", \"2\", \"2\", \"2\", \"2\", \"2\", \"2\", \"2\", \"2\", \"2\", \"2\", \"3\", \"3\", \"2\", \"2\", \"3\", \"2\", \"2\", \"2\", \"2\", \"2\", \"2\", \"2\", \"2\", \"2\", \"2\", \"2\", \"2\", \"2\", \"3\", \"2\", \"2\", \"1\", \"3\", \"2\", \"3\", \"3\", \"2\", \"3\", \"2\", \"2\", \"2\", \"2\", \"2\", \"3\", \"2\", \"3\", \"2\", \"3\", \"2\", \"2\", \"2\", \"2\", \"2\", \"2\", \"2\", \"3\", \"2\", \"2\", \"3\", \"2\", \"2\", \"2\", \"2\", \"2\", \"2\", \"1\", \"2\", \"2\", \"1\", \"2\", \"2\", \"2\", \"2\", \"2\", \"2\", \"3\", \"3\", \"3\", \"3\", \"2\", \"2\", \"2\", \"2\", \"2\", \"2\", \"2\", \"3\", \"2\", \"2\", \"2\", \"2\", \"2\", \"2\", \"2\", \"2\", \"2\", \"2\", \"2\", \"2\", \"2\", \"2\", \"2\", \"3\", \"2\", \"2\", \"2\", \"2\", \"2\", \"1\", \"1\", \"2\", \"1\", \"1\", \"2\", \"3\", \"2\", \"2\", \"2\", \"2\", \"2\", \"3\", \"3\", \"2\", \"3\", \"2\", \"3\", \"3\", \"3\", \"3\", \"3\", \"3\", \"3\", \"3\", \"3\", \"3\", \"1\", \"3\", \"3\", \"3\", \"3\", \"3\", \"3\", \"2\", \"3\", \"3\", \"3\", \"3\", \"2\", \"3\", \"2\", \"2\", \"3\", \"2\", \"2\", \"2\", \"2\", \"2\", \"2\", \"1\", \"2\", \"3\", \"2\", \"3\", \"2\", \"2\", \"3\", \"3\", \"2\", \"2\", \"2\", \"2\", \"2\", \"2\", \"1\", \"2\", \"2\", \"2\", \"2\", \"2\", \"2\", \"2\", \"2\", \"2\", \"3\", \"2\", \"2\", \"3\", \"2\", \"2\", \"2\", \"3\", \"2\", \"3\", \"2\", \"2\", \"2\", \"2\", \"2\", \"3\", \"2\", \"2\", \"3\", \"2\", \"2\", \"2\", \"2\", \"2\", \"1\", \"2\", \"2\", \"2\", \"3\", \"1\", \"2\", \"3\", \"1\", \"3\", \"2\", \"2\", \"2\", \"2\", \"2\", \"2\", \"2\", \"2\", \"3\", \"3\", \"2\", \"2\", \"2\", \"2\", \"2\", \"2\", \"2\", \"2\", \"3\", \"2\", \"3\", \"3\", \"3\", \"2\", \"3\", \"2\", \"3\", \"2\", \"2\", \"2\", \"2\", \"2\", \"2\", \"2\", \"2\", \"2\", \"2\", \"3\", \"3\", \"2\", \"2\", \"2\", \"3\", \"2\", \"3\", \"2\", \"2\", \"2\", \"3\", \"2\", \"2\", \"2\", \"2\", \"2\", \"3\", \"2\", \"3\", \"2\", \"2\", \"2\", \"2\", \"3\", \"3\", \"2\", \"2\", \"3\", \"2\", \"2\", \"2\", \"3\", \"1\", \"3\", \"1\", \"3\", \"2\", \"2\", \"3\", \"3\", \"3\", \"3\", \"3\", \"3\", \"3\", \"3\", \"3\", \"3\", \"3\", \"3\", \"3\", \"3\", \"3\", \"3\", \"3\", \"3\", \"3\", \"3\", \"3\", \"3\", \"2\", \"3\", \"2\", \"1\", \"1\", \"2\", \"2\", \"3\", \"3\", \"3\", \"2\", \"2\", \"2\", \"2\", \"2\", \"2\", \"3\", \"2\", \"3\", \"3\", \"3\", \"3\", \"2\", \"2\", \"2\", \"2\", \"2\", \"2\", \"2\", \"2\", \"2\", \"2\", \"2\", \"2\", \"2\", \"2\", \"2\", \"2\", \"3\", \"2\", \"2\", \"2\", \"3\", \"2\", \"2\", \"2\", \"3\", \"2\", \"3\", \"2\", \"3\", \"2\", \"3\", \"2\", \"3\", \"1\", \"3\", \"2\", \"2\", \"2\", \"1\", \"3\", \"2\", \"3\", \"2\", \"2\", \"2\", \"2\", \"2\", \"2\", \"2\", \"2\", \"1\", \"1\", \"2\", \"3\", \"2\", \"3\", \"2\", \"2\", \"2\", \"2\", \"3\", \"2\", \"2\", \"2\", \"2\", \"1\", \"2\", \"2\", \"2\", \"2\", \"2\", \"2\", \"3\", \"2\", \"2\", \"2\", \"2\", \"3\", \"2\", \"3\", \"3\", \"3\", \"2\", \"3\", \"2\", \"2\", \"2\", \"2\", \"3\", \"2\", \"2\", \"2\", \"2\", \"2\", \"2\", \"2\", \"2\", \"3\", \"2\", \"2\", \"2\", \"1\", \"1\", \"2\", \"1\", \"2\", \"2\", \"2\", \"2\", \"2\", \"2\", \"2\", \"2\", \"2\", \"3\", \"2\", \"2\", \"2\", \"2\", \"2\", \"2\", \"2\", \"2\", \"1\", \"2\", \"2\", \"3\", \"2\", \"2\", \"2\", \"2\", \"1\", \"1\", \"1\", \"1\", \"1\", \"2\", \"2\", \"2\", \"2\", \"2\", \"2\", \"2\", \"2\", \"2\", \"2\", \"2\", \"2\", \"2\", \"1\", \"3\", \"3\", \"3\", \"3\", \"3\", \"3\", \"2\", \"2\", \"3\", \"2\", \"2\", \"1\", \"2\", \"2\", \"2\", \"2\", \"2\", \"2\", \"2\", \"3\", \"3\", \"3\", \"2\", \"1\", \"2\", \"2\", \"1\", \"1\", \"1\", \"2\", \"2\", \"1\", \"1\", \"1\", \"1\", \"2\", \"2\", \"1\", \"2\", \"2\", \"2\", \"2\", \"2\", \"2\", \"2\", \"2\", \"1\", \"2\", \"3\", \"3\", \"3\", \"3\", \"3\", \"2\", \"3\", \"3\", \"3\", \"2\", \"3\", \"2\", \"2\", \"2\", \"2\", \"3\", \"2\", \"2\", \"3\", \"2\", \"2\", \"2\", \"2\", \"2\", \"2\", \"2\", \"2\", \"3\", \"3\", \"3\", \"2\", \"2\", \"2\", \"2\", \"2\", \"2\", \"2\", \"3\", \"2\", \"3\", \"3\", \"2\", \"2\", \"2\", \"2\", \"2\", \"2\", \"1\", \"3\", \"1\", \"1\", \"3\", \"2\", \"1\", \"2\", \"2\", \"2\", \"2\", \"2\", \"2\", \"3\", \"2\", \"2\", \"3\", \"1\", \"3\", \"2\", \"2\", \"2\", \"2\", \"2\", \"2\", \"2\", \"2\", \"2\", \"2\", \"2\", \"2\", \"2\", \"2\", \"2\", \"2\", \"2\", \"2\", \"3\", \"2\", \"2\", \"1\", \"2\", \"1\", \"1\", \"1\", \"2\", \"2\", \"3\", \"2\", \"3\", \"2\", \"2\", \"2\", \"2\", \"2\", \"3\", \"3\", \"3\", \"3\", \"2\", \"3\", \"2\", \"1\", \"2\", \"2\", \"1\", \"1\", \"2\", \"2\", \"1\", \"2\", \"2\", \"2\", \"2\", \"2\", \"1\", \"2\", \"2\", \"2\", \"2\", \"2\", \"2\", \"2\", \"2\", \"2\", \"3\", \"3\", \"2\", \"2\", \"2\", \"3\", \"2\", \"2\", \"2\", \"2\", \"2\", \"2\", \"2\", \"2\", \"1\", \"2\", \"2\", \"2\", \"2\", \"2\", \"3\", \"2\", \"2\", \"3\", \"2\", \"2\", \"2\", \"2\", \"2\", \"2\", \"2\", \"2\", \"2\", \"2\", \"2\", \"2\", \"2\", \"2\", \"2\", \"2\", \"2\", \"2\", \"2\", \"2\", \"2\", \"2\", \"2\", \"2\", \"2\", \"2\", \"2\", \"2\", \"2\", \"3\", \"2\", \"1\", \"1\", \"2\", \"2\", \"3\", \"3\", \"3\", \"3\", \"2\", \"2\", \"2\", \"2\", \"2\", \"2\", \"2\", \"3\", \"2\", \"3\", \"2\", \"3\", \"3\", \"2\", \"3\", \"3\", \"3\", \"1\", \"2\", \"2\", \"3\", \"3\", \"2\", \"3\", \"3\", \"3\", \"3\", \"3\", \"3\", \"3\", \"3\", \"3\", \"3\", \"2\", \"2\", \"3\", \"3\", \"3\", \"3\", \"2\", \"3\", \"2\", \"2\", \"2\", \"3\", \"3\", \"2\", \"3\", \"3\", \"2\", \"2\", \"2\", \"2\", \"3\", \"2\", \"2\", \"2\", \"2\", \"2\", \"2\", \"3\", \"2\", \"2\", \"2\", \"2\", \"2\", \"2\", \"2\", \"2\", \"1\", \"3\", \"2\", \"2\", \"2\", \"2\", \"2\", \"2\", \"3\", \"3\", \"2\", \"2\", \"3\", \"1\", \"2\", \"2\", \"2\", \"2\", \"2\", \"3\", \"2\", \"2\", \"2\", \"2\", \"2\", \"2\", \"3\", \"2\", \"2\"]}],\n",
              "                        {\"legend\": {\"tracegroupgap\": 0}, \"margin\": {\"t\": 60}, \"piecolorway\": [\"rgb(103,0,31)\", \"rgb(178,24,43)\", \"rgb(214,96,77)\", \"rgb(244,165,130)\", \"rgb(253,219,199)\", \"rgb(247,247,247)\", \"rgb(209,229,240)\", \"rgb(146,197,222)\", \"rgb(67,147,195)\", \"rgb(33,102,172)\", \"rgb(5,48,97)\"], \"template\": {\"data\": {\"bar\": [{\"error_x\": {\"color\": \"#2a3f5f\"}, \"error_y\": {\"color\": \"#2a3f5f\"}, \"marker\": {\"line\": {\"color\": \"#E5ECF6\", \"width\": 0.5}}, \"type\": \"bar\"}], \"barpolar\": [{\"marker\": {\"line\": {\"color\": \"#E5ECF6\", \"width\": 0.5}}, \"type\": \"barpolar\"}], \"carpet\": [{\"aaxis\": {\"endlinecolor\": \"#2a3f5f\", \"gridcolor\": \"white\", \"linecolor\": \"white\", \"minorgridcolor\": \"white\", \"startlinecolor\": \"#2a3f5f\"}, \"baxis\": {\"endlinecolor\": \"#2a3f5f\", \"gridcolor\": \"white\", \"linecolor\": \"white\", \"minorgridcolor\": \"white\", \"startlinecolor\": \"#2a3f5f\"}, \"type\": \"carpet\"}], \"choropleth\": [{\"colorbar\": {\"outlinewidth\": 0, \"ticks\": \"\"}, \"type\": \"choropleth\"}], \"contour\": [{\"colorbar\": {\"outlinewidth\": 0, \"ticks\": \"\"}, \"colorscale\": [[0.0, \"#0d0887\"], [0.1111111111111111, \"#46039f\"], [0.2222222222222222, \"#7201a8\"], [0.3333333333333333, \"#9c179e\"], [0.4444444444444444, \"#bd3786\"], [0.5555555555555556, \"#d8576b\"], [0.6666666666666666, \"#ed7953\"], [0.7777777777777778, \"#fb9f3a\"], [0.8888888888888888, \"#fdca26\"], [1.0, \"#f0f921\"]], \"type\": \"contour\"}], \"contourcarpet\": [{\"colorbar\": {\"outlinewidth\": 0, \"ticks\": \"\"}, \"type\": \"contourcarpet\"}], \"heatmap\": [{\"colorbar\": {\"outlinewidth\": 0, \"ticks\": \"\"}, \"colorscale\": [[0.0, \"#0d0887\"], [0.1111111111111111, \"#46039f\"], [0.2222222222222222, \"#7201a8\"], [0.3333333333333333, \"#9c179e\"], [0.4444444444444444, \"#bd3786\"], [0.5555555555555556, \"#d8576b\"], [0.6666666666666666, \"#ed7953\"], [0.7777777777777778, \"#fb9f3a\"], [0.8888888888888888, \"#fdca26\"], [1.0, \"#f0f921\"]], \"type\": \"heatmap\"}], \"heatmapgl\": [{\"colorbar\": {\"outlinewidth\": 0, \"ticks\": \"\"}, \"colorscale\": [[0.0, \"#0d0887\"], [0.1111111111111111, \"#46039f\"], [0.2222222222222222, \"#7201a8\"], [0.3333333333333333, \"#9c179e\"], [0.4444444444444444, \"#bd3786\"], [0.5555555555555556, \"#d8576b\"], [0.6666666666666666, \"#ed7953\"], [0.7777777777777778, \"#fb9f3a\"], [0.8888888888888888, \"#fdca26\"], [1.0, \"#f0f921\"]], \"type\": \"heatmapgl\"}], \"histogram\": [{\"marker\": {\"colorbar\": {\"outlinewidth\": 0, \"ticks\": \"\"}}, \"type\": \"histogram\"}], \"histogram2d\": [{\"colorbar\": {\"outlinewidth\": 0, \"ticks\": \"\"}, \"colorscale\": [[0.0, \"#0d0887\"], [0.1111111111111111, \"#46039f\"], [0.2222222222222222, \"#7201a8\"], [0.3333333333333333, \"#9c179e\"], [0.4444444444444444, \"#bd3786\"], [0.5555555555555556, \"#d8576b\"], [0.6666666666666666, \"#ed7953\"], [0.7777777777777778, \"#fb9f3a\"], [0.8888888888888888, \"#fdca26\"], [1.0, \"#f0f921\"]], \"type\": \"histogram2d\"}], \"histogram2dcontour\": [{\"colorbar\": {\"outlinewidth\": 0, \"ticks\": \"\"}, \"colorscale\": [[0.0, \"#0d0887\"], [0.1111111111111111, \"#46039f\"], [0.2222222222222222, \"#7201a8\"], [0.3333333333333333, \"#9c179e\"], [0.4444444444444444, \"#bd3786\"], [0.5555555555555556, \"#d8576b\"], [0.6666666666666666, \"#ed7953\"], [0.7777777777777778, \"#fb9f3a\"], [0.8888888888888888, \"#fdca26\"], [1.0, \"#f0f921\"]], \"type\": \"histogram2dcontour\"}], \"mesh3d\": [{\"colorbar\": {\"outlinewidth\": 0, \"ticks\": \"\"}, \"type\": \"mesh3d\"}], \"parcoords\": [{\"line\": {\"colorbar\": {\"outlinewidth\": 0, \"ticks\": \"\"}}, \"type\": \"parcoords\"}], \"pie\": [{\"automargin\": true, \"type\": \"pie\"}], \"scatter\": [{\"marker\": {\"colorbar\": {\"outlinewidth\": 0, \"ticks\": \"\"}}, \"type\": \"scatter\"}], \"scatter3d\": [{\"line\": {\"colorbar\": {\"outlinewidth\": 0, \"ticks\": \"\"}}, \"marker\": {\"colorbar\": {\"outlinewidth\": 0, \"ticks\": \"\"}}, \"type\": \"scatter3d\"}], \"scattercarpet\": [{\"marker\": {\"colorbar\": {\"outlinewidth\": 0, \"ticks\": \"\"}}, \"type\": \"scattercarpet\"}], \"scattergeo\": [{\"marker\": {\"colorbar\": {\"outlinewidth\": 0, \"ticks\": \"\"}}, \"type\": \"scattergeo\"}], \"scattergl\": [{\"marker\": {\"colorbar\": {\"outlinewidth\": 0, \"ticks\": \"\"}}, \"type\": \"scattergl\"}], \"scattermapbox\": [{\"marker\": {\"colorbar\": {\"outlinewidth\": 0, \"ticks\": \"\"}}, \"type\": \"scattermapbox\"}], \"scatterpolar\": [{\"marker\": {\"colorbar\": {\"outlinewidth\": 0, \"ticks\": \"\"}}, \"type\": \"scatterpolar\"}], \"scatterpolargl\": [{\"marker\": {\"colorbar\": {\"outlinewidth\": 0, \"ticks\": \"\"}}, \"type\": \"scatterpolargl\"}], \"scatterternary\": [{\"marker\": {\"colorbar\": {\"outlinewidth\": 0, \"ticks\": \"\"}}, \"type\": \"scatterternary\"}], \"surface\": [{\"colorbar\": {\"outlinewidth\": 0, \"ticks\": \"\"}, \"colorscale\": [[0.0, \"#0d0887\"], [0.1111111111111111, \"#46039f\"], [0.2222222222222222, \"#7201a8\"], [0.3333333333333333, \"#9c179e\"], [0.4444444444444444, \"#bd3786\"], [0.5555555555555556, \"#d8576b\"], [0.6666666666666666, \"#ed7953\"], [0.7777777777777778, \"#fb9f3a\"], [0.8888888888888888, \"#fdca26\"], [1.0, \"#f0f921\"]], \"type\": \"surface\"}], \"table\": [{\"cells\": {\"fill\": {\"color\": \"#EBF0F8\"}, \"line\": {\"color\": \"white\"}}, \"header\": {\"fill\": {\"color\": \"#C8D4E3\"}, \"line\": {\"color\": \"white\"}}, \"type\": \"table\"}]}, \"layout\": {\"annotationdefaults\": {\"arrowcolor\": \"#2a3f5f\", \"arrowhead\": 0, \"arrowwidth\": 1}, \"coloraxis\": {\"colorbar\": {\"outlinewidth\": 0, \"ticks\": \"\"}}, \"colorscale\": {\"diverging\": [[0, \"#8e0152\"], [0.1, \"#c51b7d\"], [0.2, \"#de77ae\"], [0.3, \"#f1b6da\"], [0.4, \"#fde0ef\"], [0.5, \"#f7f7f7\"], [0.6, \"#e6f5d0\"], [0.7, \"#b8e186\"], [0.8, \"#7fbc41\"], [0.9, \"#4d9221\"], [1, \"#276419\"]], \"sequential\": [[0.0, \"#0d0887\"], [0.1111111111111111, \"#46039f\"], [0.2222222222222222, \"#7201a8\"], [0.3333333333333333, \"#9c179e\"], [0.4444444444444444, \"#bd3786\"], [0.5555555555555556, \"#d8576b\"], [0.6666666666666666, \"#ed7953\"], [0.7777777777777778, \"#fb9f3a\"], [0.8888888888888888, \"#fdca26\"], [1.0, \"#f0f921\"]], \"sequentialminus\": [[0.0, \"#0d0887\"], [0.1111111111111111, \"#46039f\"], [0.2222222222222222, \"#7201a8\"], [0.3333333333333333, \"#9c179e\"], [0.4444444444444444, \"#bd3786\"], [0.5555555555555556, \"#d8576b\"], [0.6666666666666666, \"#ed7953\"], [0.7777777777777778, \"#fb9f3a\"], [0.8888888888888888, \"#fdca26\"], [1.0, \"#f0f921\"]]}, \"colorway\": [\"#636efa\", \"#EF553B\", \"#00cc96\", \"#ab63fa\", \"#FFA15A\", \"#19d3f3\", \"#FF6692\", \"#B6E880\", \"#FF97FF\", \"#FECB52\"], \"font\": {\"color\": \"#2a3f5f\"}, \"geo\": {\"bgcolor\": \"white\", \"lakecolor\": \"white\", \"landcolor\": \"#E5ECF6\", \"showlakes\": true, \"showland\": true, \"subunitcolor\": \"white\"}, \"hoverlabel\": {\"align\": \"left\"}, \"hovermode\": \"closest\", \"mapbox\": {\"style\": \"light\"}, \"paper_bgcolor\": \"white\", \"plot_bgcolor\": \"#E5ECF6\", \"polar\": {\"angularaxis\": {\"gridcolor\": \"white\", \"linecolor\": \"white\", \"ticks\": \"\"}, \"bgcolor\": \"#E5ECF6\", \"radialaxis\": {\"gridcolor\": \"white\", \"linecolor\": \"white\", \"ticks\": \"\"}}, \"scene\": {\"xaxis\": {\"backgroundcolor\": \"#E5ECF6\", \"gridcolor\": \"white\", \"gridwidth\": 2, \"linecolor\": \"white\", \"showbackground\": true, \"ticks\": \"\", \"zerolinecolor\": \"white\"}, \"yaxis\": {\"backgroundcolor\": \"#E5ECF6\", \"gridcolor\": \"white\", \"gridwidth\": 2, \"linecolor\": \"white\", \"showbackground\": true, \"ticks\": \"\", \"zerolinecolor\": \"white\"}, \"zaxis\": {\"backgroundcolor\": \"#E5ECF6\", \"gridcolor\": \"white\", \"gridwidth\": 2, \"linecolor\": \"white\", \"showbackground\": true, \"ticks\": \"\", \"zerolinecolor\": \"white\"}}, \"shapedefaults\": {\"line\": {\"color\": \"#2a3f5f\"}}, \"ternary\": {\"aaxis\": {\"gridcolor\": \"white\", \"linecolor\": \"white\", \"ticks\": \"\"}, \"baxis\": {\"gridcolor\": \"white\", \"linecolor\": \"white\", \"ticks\": \"\"}, \"bgcolor\": \"#E5ECF6\", \"caxis\": {\"gridcolor\": \"white\", \"linecolor\": \"white\", \"ticks\": \"\"}}, \"title\": {\"x\": 0.05}, \"xaxis\": {\"automargin\": true, \"gridcolor\": \"white\", \"linecolor\": \"white\", \"ticks\": \"\", \"title\": {\"standoff\": 15}, \"zerolinecolor\": \"white\", \"zerolinewidth\": 2}, \"yaxis\": {\"automargin\": true, \"gridcolor\": \"white\", \"linecolor\": \"white\", \"ticks\": \"\", \"title\": {\"standoff\": 15}, \"zerolinecolor\": \"white\", \"zerolinewidth\": 2}}}},\n",
              "                        {\"responsive\": true}\n",
              "                    ).then(function(){\n",
              "                            \n",
              "var gd = document.getElementById('5faa9f81-a001-4ce0-ad70-d5e198b42e20');\n",
              "var x = new MutationObserver(function (mutations, observer) {{\n",
              "        var display = window.getComputedStyle(gd).display;\n",
              "        if (!display || display === 'none') {{\n",
              "            console.log([gd, 'removed!']);\n",
              "            Plotly.purge(gd);\n",
              "            observer.disconnect();\n",
              "        }}\n",
              "}});\n",
              "\n",
              "// Listen for the removal of the full notebook cells\n",
              "var notebookContainer = gd.closest('#notebook-container');\n",
              "if (notebookContainer) {{\n",
              "    x.observe(notebookContainer, {childList: true});\n",
              "}}\n",
              "\n",
              "// Listen for the clearing of the current output cell\n",
              "var outputEl = gd.closest('.output');\n",
              "if (outputEl) {{\n",
              "    x.observe(outputEl, {childList: true});\n",
              "}}\n",
              "\n",
              "                        })\n",
              "                };\n",
              "                \n",
              "            </script>\n",
              "        </div>\n",
              "</body>\n",
              "</html>"
            ]
          },
          "metadata": {
            "tags": []
          }
        }
      ]
    },
    {
      "cell_type": "markdown",
      "metadata": {
        "id": "T3lPMBVn-mWd"
      },
      "source": [
        "* Further categorizing the property type as Land, Flat, Building into Function property_categories as Residential, Commercial, Others. This shows the distribution of each property type in the categories."
      ]
    },
    {
      "cell_type": "code",
      "metadata": {
        "colab": {
          "base_uri": "https://localhost:8080/",
          "height": 312
        },
        "id": "e_W_MlmLvIoS",
        "outputId": "750b1d4c-b09a-4b0b-c359-ecabe9513f13"
      },
      "source": [
        "plt.figure()\n",
        "fig = sns.countplot(x=\"property_type_id\",hue=\"property_category\",data=actualvDf)\n",
        "plt.xlabel(\"Property Type:1(Land)        2(Building)            3(Unit)\")\n",
        "plt.title('Property type with categories')"
      ],
      "execution_count": null,
      "outputs": [
        {
          "output_type": "execute_result",
          "data": {
            "text/plain": [
              "Text(0.5, 1.0, 'Property type with categories')"
            ]
          },
          "metadata": {
            "tags": []
          },
          "execution_count": 56
        },
        {
          "output_type": "display_data",
          "data": {
            "image/png": "[encoded data removed]",
            "text/plain": [
              "<Figure size 432x288 with 1 Axes>"
            ]
          },
          "metadata": {
            "tags": [],
            "needs_background": "light"
          }
        }
      ]
    },
    {
      "cell_type": "markdown",
      "metadata": {
        "id": "sgrKExZhBf5s"
      },
      "source": [
        "##### Property_category is an important column for our analysis. Getting the count of procedure_category can help us understand the distribution of data across categories."
      ]
    },
    {
      "cell_type": "code",
      "metadata": {
        "colab": {
          "base_uri": "https://localhost:8080/"
        },
        "id": "9-W7UFmXtIUB",
        "outputId": "6158693f-2778-4714-f9b9-35fdf32b3d20"
      },
      "source": [
        "actualvDf.property_category.value_counts()"
      ],
      "execution_count": null,
      "outputs": [
        {
          "output_type": "execute_result",
          "data": {
            "text/plain": [
              "2    23317\n",
              "3     7165\n",
              "1     4243\n",
              "Name: property_category, dtype: int64"
            ]
          },
          "metadata": {
            "tags": []
          },
          "execution_count": 57
        }
      ]
    },
    {
      "cell_type": "markdown",
      "metadata": {
        "id": "nJzlWXXbB6JR"
      },
      "source": [
        "* Visual Representation of the property_category"
      ]
    },
    {
      "cell_type": "code",
      "metadata": {
        "colab": {
          "base_uri": "https://localhost:8080/",
          "height": 312
        },
        "id": "BUpO8TgFx8AE",
        "outputId": "0b1d9bd9-2646-4de4-f6db-f5dced2daac9"
      },
      "source": [
        "plt.figure()\n",
        "fig = sns.countplot(x=\"property_category\",data=actualvDf)\n",
        "plt.xlabel(\"2(Commercial)   1(Residential)        3(Other)\")\n",
        "plt.title('Property categories')"
      ],
      "execution_count": null,
      "outputs": [
        {
          "output_type": "execute_result",
          "data": {
            "text/plain": [
              "Text(0.5, 1.0, 'Property categories')"
            ]
          },
          "metadata": {
            "tags": []
          },
          "execution_count": 58
        },
        {
          "output_type": "display_data",
          "data": {
            "image/png": "[encoded data removed]",
            "text/plain": [
              "<Figure size 432x288 with 1 Axes>"
            ]
          },
          "metadata": {
            "tags": [],
            "needs_background": "light"
          }
        }
      ]
    },
    {
      "cell_type": "markdown",
      "metadata": {
        "id": "ELgC88GECgNc"
      },
      "source": [
        "##### Count of area_id shows the data present for each of the areas, obviously some of the areas in Dubai are densely occupied for residential or commercial purposes so that reflects the variations in the counts here."
      ]
    },
    {
      "cell_type": "code",
      "metadata": {
        "colab": {
          "base_uri": "https://localhost:8080/"
        },
        "id": "nB8vL6KatLDM",
        "outputId": "8d38e423-2505-4b76-d8f6-4c45e7aff1ce"
      },
      "source": [
        "actualvDf.area_id.value_counts()"
      ],
      "execution_count": null,
      "outputs": [
        {
          "output_type": "execute_result",
          "data": {
            "text/plain": [
              "330.0    3202\n",
              "350.0    2165\n",
              "526.0    2146\n",
              "390.0    1444\n",
              "343.0     823\n",
              "         ... \n",
              "496.0       1\n",
              "411.0       1\n",
              "476.0       1\n",
              "531.0       1\n",
              "508.0       1\n",
              "Name: area_id, Length: 195, dtype: int64"
            ]
          },
          "metadata": {
            "tags": []
          },
          "execution_count": 59
        }
      ]
    },
    {
      "cell_type": "markdown",
      "metadata": {
        "id": "MnWYxM_tC1Eh"
      },
      "source": [
        "##### Count of row_status values are indicative of rows present for different statuses."
      ]
    },
    {
      "cell_type": "code",
      "metadata": {
        "colab": {
          "base_uri": "https://localhost:8080/"
        },
        "id": "FH1RtWMxvYYI",
        "outputId": "44add9c1-e531-41e2-a809-76816a4235dd"
      },
      "source": [
        "actualvDf.row_status.value_counts()"
      ],
      "execution_count": null,
      "outputs": [
        {
          "output_type": "execute_result",
          "data": {
            "text/plain": [
              "1    34595\n",
              "2       72\n",
              "3       58\n",
              "Name: row_status, dtype: int64"
            ]
          },
          "metadata": {
            "tags": []
          },
          "execution_count": 60
        }
      ]
    },
    {
      "cell_type": "markdown",
      "metadata": {
        "id": "TeW93Q662tAY"
      },
      "source": [
        "##### Getting Dummy variables\n",
        "* Converting categorical values to dummy variable through one-hot encoding method, is useful for the ML model for training purposes."
      ]
    },
    {
      "cell_type": "code",
      "metadata": {
        "colab": {
          "base_uri": "https://localhost:8080/",
          "height": 252
        },
        "id": "PQOP84KL2sSr",
        "outputId": "5059cbbc-2ed9-46b3-cbdf-02d803e7c60c"
      },
      "source": [
        "actualvDf = pd.get_dummies(actualvDf, columns=['area_id','property_type_id','property_category','row_status'])\n",
        "actualvDf.head()"
      ],
      "execution_count": null,
      "outputs": [
        {
          "output_type": "execute_result",
          "data": {
            "text/html": [
              "<div>\n",
              "<style scoped>\n",
              "    .dataframe tbody tr th:only-of-type {\n",
              "        vertical-align: middle;\n",
              "    }\n",
              "\n",
              "    .dataframe tbody tr th {\n",
              "        vertical-align: top;\n",
              "    }\n",
              "\n",
              "    .dataframe thead th {\n",
              "        text-align: right;\n",
              "    }\n",
              "</style>\n",
              "<table border=\"1\" class=\"dataframe\">\n",
              "  <thead>\n",
              "    <tr style=\"text-align: right;\">\n",
              "      <th></th>\n",
              "      <th>procedure_area</th>\n",
              "      <th>property_total_value</th>\n",
              "      <th>Year</th>\n",
              "      <th>Month</th>\n",
              "      <th>area_id_230.0</th>\n",
              "      <th>area_id_231.0</th>\n",
              "      <th>area_id_232.0</th>\n",
              "      <th>area_id_233.0</th>\n",
              "      <th>area_id_234.0</th>\n",
              "      <th>area_id_235.0</th>\n",
              "      <th>area_id_237.0</th>\n",
              "      <th>area_id_238.0</th>\n",
              "      <th>area_id_239.0</th>\n",
              "      <th>area_id_240.0</th>\n",
              "      <th>area_id_242.0</th>\n",
              "      <th>area_id_244.0</th>\n",
              "      <th>area_id_247.0</th>\n",
              "      <th>area_id_248.0</th>\n",
              "      <th>area_id_249.0</th>\n",
              "      <th>area_id_254.0</th>\n",
              "      <th>area_id_255.0</th>\n",
              "      <th>area_id_264.0</th>\n",
              "      <th>area_id_266.0</th>\n",
              "      <th>area_id_267.0</th>\n",
              "      <th>area_id_269.0</th>\n",
              "      <th>area_id_271.0</th>\n",
              "      <th>area_id_276.0</th>\n",
              "      <th>area_id_278.0</th>\n",
              "      <th>area_id_282.0</th>\n",
              "      <th>area_id_284.0</th>\n",
              "      <th>area_id_295.0</th>\n",
              "      <th>area_id_297.0</th>\n",
              "      <th>area_id_298.0</th>\n",
              "      <th>area_id_299.0</th>\n",
              "      <th>area_id_300.0</th>\n",
              "      <th>area_id_301.0</th>\n",
              "      <th>area_id_303.0</th>\n",
              "      <th>area_id_304.0</th>\n",
              "      <th>area_id_305.0</th>\n",
              "      <th>area_id_306.0</th>\n",
              "      <th>...</th>\n",
              "      <th>area_id_482.0</th>\n",
              "      <th>area_id_483.0</th>\n",
              "      <th>area_id_484.0</th>\n",
              "      <th>area_id_485.0</th>\n",
              "      <th>area_id_489.0</th>\n",
              "      <th>area_id_492.0</th>\n",
              "      <th>area_id_493.0</th>\n",
              "      <th>area_id_494.0</th>\n",
              "      <th>area_id_496.0</th>\n",
              "      <th>area_id_497.0</th>\n",
              "      <th>area_id_499.0</th>\n",
              "      <th>area_id_500.0</th>\n",
              "      <th>area_id_502.0</th>\n",
              "      <th>area_id_503.0</th>\n",
              "      <th>area_id_504.0</th>\n",
              "      <th>area_id_506.0</th>\n",
              "      <th>area_id_507.0</th>\n",
              "      <th>area_id_508.0</th>\n",
              "      <th>area_id_509.0</th>\n",
              "      <th>area_id_513.0</th>\n",
              "      <th>area_id_514.0</th>\n",
              "      <th>area_id_515.0</th>\n",
              "      <th>area_id_519.0</th>\n",
              "      <th>area_id_522.0</th>\n",
              "      <th>area_id_523.0</th>\n",
              "      <th>area_id_524.0</th>\n",
              "      <th>area_id_525.0</th>\n",
              "      <th>area_id_526.0</th>\n",
              "      <th>area_id_527.0</th>\n",
              "      <th>area_id_528.0</th>\n",
              "      <th>area_id_531.0</th>\n",
              "      <th>property_type_id_1</th>\n",
              "      <th>property_type_id_2</th>\n",
              "      <th>property_type_id_3</th>\n",
              "      <th>property_category_1</th>\n",
              "      <th>property_category_2</th>\n",
              "      <th>property_category_3</th>\n",
              "      <th>row_status_1</th>\n",
              "      <th>row_status_2</th>\n",
              "      <th>row_status_3</th>\n",
              "    </tr>\n",
              "  </thead>\n",
              "  <tbody>\n",
              "    <tr>\n",
              "      <th>4029</th>\n",
              "      <td>236.44</td>\n",
              "      <td>1400000.00</td>\n",
              "      <td>2012</td>\n",
              "      <td>1</td>\n",
              "      <td>0</td>\n",
              "      <td>0</td>\n",
              "      <td>0</td>\n",
              "      <td>0</td>\n",
              "      <td>0</td>\n",
              "      <td>0</td>\n",
              "      <td>0</td>\n",
              "      <td>0</td>\n",
              "      <td>0</td>\n",
              "      <td>0</td>\n",
              "      <td>0</td>\n",
              "      <td>0</td>\n",
              "      <td>0</td>\n",
              "      <td>0</td>\n",
              "      <td>0</td>\n",
              "      <td>0</td>\n",
              "      <td>0</td>\n",
              "      <td>0</td>\n",
              "      <td>0</td>\n",
              "      <td>0</td>\n",
              "      <td>0</td>\n",
              "      <td>0</td>\n",
              "      <td>0</td>\n",
              "      <td>0</td>\n",
              "      <td>0</td>\n",
              "      <td>0</td>\n",
              "      <td>0</td>\n",
              "      <td>0</td>\n",
              "      <td>0</td>\n",
              "      <td>0</td>\n",
              "      <td>0</td>\n",
              "      <td>0</td>\n",
              "      <td>0</td>\n",
              "      <td>0</td>\n",
              "      <td>0</td>\n",
              "      <td>0</td>\n",
              "      <td>...</td>\n",
              "      <td>0</td>\n",
              "      <td>0</td>\n",
              "      <td>0</td>\n",
              "      <td>0</td>\n",
              "      <td>0</td>\n",
              "      <td>0</td>\n",
              "      <td>0</td>\n",
              "      <td>0</td>\n",
              "      <td>0</td>\n",
              "      <td>0</td>\n",
              "      <td>0</td>\n",
              "      <td>0</td>\n",
              "      <td>0</td>\n",
              "      <td>0</td>\n",
              "      <td>0</td>\n",
              "      <td>0</td>\n",
              "      <td>0</td>\n",
              "      <td>0</td>\n",
              "      <td>0</td>\n",
              "      <td>0</td>\n",
              "      <td>0</td>\n",
              "      <td>0</td>\n",
              "      <td>0</td>\n",
              "      <td>0</td>\n",
              "      <td>0</td>\n",
              "      <td>0</td>\n",
              "      <td>0</td>\n",
              "      <td>0</td>\n",
              "      <td>0</td>\n",
              "      <td>0</td>\n",
              "      <td>0</td>\n",
              "      <td>0</td>\n",
              "      <td>1</td>\n",
              "      <td>0</td>\n",
              "      <td>0</td>\n",
              "      <td>1</td>\n",
              "      <td>0</td>\n",
              "      <td>1</td>\n",
              "      <td>0</td>\n",
              "      <td>0</td>\n",
              "    </tr>\n",
              "    <tr>\n",
              "      <th>4191</th>\n",
              "      <td>7432.26</td>\n",
              "      <td>15450000.00</td>\n",
              "      <td>2012</td>\n",
              "      <td>5</td>\n",
              "      <td>0</td>\n",
              "      <td>0</td>\n",
              "      <td>0</td>\n",
              "      <td>0</td>\n",
              "      <td>0</td>\n",
              "      <td>0</td>\n",
              "      <td>0</td>\n",
              "      <td>0</td>\n",
              "      <td>0</td>\n",
              "      <td>0</td>\n",
              "      <td>0</td>\n",
              "      <td>0</td>\n",
              "      <td>0</td>\n",
              "      <td>0</td>\n",
              "      <td>0</td>\n",
              "      <td>0</td>\n",
              "      <td>0</td>\n",
              "      <td>0</td>\n",
              "      <td>0</td>\n",
              "      <td>0</td>\n",
              "      <td>0</td>\n",
              "      <td>0</td>\n",
              "      <td>0</td>\n",
              "      <td>0</td>\n",
              "      <td>0</td>\n",
              "      <td>0</td>\n",
              "      <td>0</td>\n",
              "      <td>0</td>\n",
              "      <td>0</td>\n",
              "      <td>0</td>\n",
              "      <td>0</td>\n",
              "      <td>0</td>\n",
              "      <td>0</td>\n",
              "      <td>0</td>\n",
              "      <td>0</td>\n",
              "      <td>0</td>\n",
              "      <td>...</td>\n",
              "      <td>0</td>\n",
              "      <td>0</td>\n",
              "      <td>0</td>\n",
              "      <td>0</td>\n",
              "      <td>0</td>\n",
              "      <td>0</td>\n",
              "      <td>0</td>\n",
              "      <td>0</td>\n",
              "      <td>0</td>\n",
              "      <td>0</td>\n",
              "      <td>0</td>\n",
              "      <td>0</td>\n",
              "      <td>0</td>\n",
              "      <td>0</td>\n",
              "      <td>0</td>\n",
              "      <td>0</td>\n",
              "      <td>0</td>\n",
              "      <td>0</td>\n",
              "      <td>0</td>\n",
              "      <td>0</td>\n",
              "      <td>0</td>\n",
              "      <td>0</td>\n",
              "      <td>0</td>\n",
              "      <td>0</td>\n",
              "      <td>0</td>\n",
              "      <td>0</td>\n",
              "      <td>0</td>\n",
              "      <td>0</td>\n",
              "      <td>0</td>\n",
              "      <td>0</td>\n",
              "      <td>0</td>\n",
              "      <td>1</td>\n",
              "      <td>0</td>\n",
              "      <td>0</td>\n",
              "      <td>0</td>\n",
              "      <td>1</td>\n",
              "      <td>0</td>\n",
              "      <td>1</td>\n",
              "      <td>0</td>\n",
              "      <td>0</td>\n",
              "    </tr>\n",
              "    <tr>\n",
              "      <th>5918</th>\n",
              "      <td>1056.21</td>\n",
              "      <td>1056.21</td>\n",
              "      <td>2012</td>\n",
              "      <td>6</td>\n",
              "      <td>0</td>\n",
              "      <td>0</td>\n",
              "      <td>0</td>\n",
              "      <td>0</td>\n",
              "      <td>0</td>\n",
              "      <td>0</td>\n",
              "      <td>0</td>\n",
              "      <td>0</td>\n",
              "      <td>0</td>\n",
              "      <td>0</td>\n",
              "      <td>0</td>\n",
              "      <td>0</td>\n",
              "      <td>0</td>\n",
              "      <td>0</td>\n",
              "      <td>0</td>\n",
              "      <td>0</td>\n",
              "      <td>0</td>\n",
              "      <td>0</td>\n",
              "      <td>0</td>\n",
              "      <td>0</td>\n",
              "      <td>0</td>\n",
              "      <td>0</td>\n",
              "      <td>0</td>\n",
              "      <td>0</td>\n",
              "      <td>0</td>\n",
              "      <td>0</td>\n",
              "      <td>0</td>\n",
              "      <td>0</td>\n",
              "      <td>0</td>\n",
              "      <td>0</td>\n",
              "      <td>0</td>\n",
              "      <td>0</td>\n",
              "      <td>0</td>\n",
              "      <td>0</td>\n",
              "      <td>0</td>\n",
              "      <td>0</td>\n",
              "      <td>...</td>\n",
              "      <td>0</td>\n",
              "      <td>0</td>\n",
              "      <td>0</td>\n",
              "      <td>0</td>\n",
              "      <td>0</td>\n",
              "      <td>0</td>\n",
              "      <td>0</td>\n",
              "      <td>0</td>\n",
              "      <td>0</td>\n",
              "      <td>0</td>\n",
              "      <td>0</td>\n",
              "      <td>0</td>\n",
              "      <td>0</td>\n",
              "      <td>0</td>\n",
              "      <td>0</td>\n",
              "      <td>0</td>\n",
              "      <td>0</td>\n",
              "      <td>0</td>\n",
              "      <td>0</td>\n",
              "      <td>0</td>\n",
              "      <td>0</td>\n",
              "      <td>0</td>\n",
              "      <td>0</td>\n",
              "      <td>0</td>\n",
              "      <td>0</td>\n",
              "      <td>0</td>\n",
              "      <td>0</td>\n",
              "      <td>0</td>\n",
              "      <td>0</td>\n",
              "      <td>0</td>\n",
              "      <td>0</td>\n",
              "      <td>1</td>\n",
              "      <td>0</td>\n",
              "      <td>0</td>\n",
              "      <td>0</td>\n",
              "      <td>0</td>\n",
              "      <td>1</td>\n",
              "      <td>1</td>\n",
              "      <td>0</td>\n",
              "      <td>0</td>\n",
              "    </tr>\n",
              "    <tr>\n",
              "      <th>7143</th>\n",
              "      <td>3135.48</td>\n",
              "      <td>2531250.00</td>\n",
              "      <td>2012</td>\n",
              "      <td>1</td>\n",
              "      <td>0</td>\n",
              "      <td>0</td>\n",
              "      <td>0</td>\n",
              "      <td>0</td>\n",
              "      <td>0</td>\n",
              "      <td>0</td>\n",
              "      <td>0</td>\n",
              "      <td>0</td>\n",
              "      <td>0</td>\n",
              "      <td>0</td>\n",
              "      <td>0</td>\n",
              "      <td>0</td>\n",
              "      <td>0</td>\n",
              "      <td>0</td>\n",
              "      <td>0</td>\n",
              "      <td>0</td>\n",
              "      <td>0</td>\n",
              "      <td>0</td>\n",
              "      <td>0</td>\n",
              "      <td>0</td>\n",
              "      <td>0</td>\n",
              "      <td>0</td>\n",
              "      <td>0</td>\n",
              "      <td>0</td>\n",
              "      <td>0</td>\n",
              "      <td>0</td>\n",
              "      <td>0</td>\n",
              "      <td>0</td>\n",
              "      <td>0</td>\n",
              "      <td>0</td>\n",
              "      <td>0</td>\n",
              "      <td>0</td>\n",
              "      <td>0</td>\n",
              "      <td>0</td>\n",
              "      <td>0</td>\n",
              "      <td>0</td>\n",
              "      <td>...</td>\n",
              "      <td>0</td>\n",
              "      <td>0</td>\n",
              "      <td>0</td>\n",
              "      <td>0</td>\n",
              "      <td>0</td>\n",
              "      <td>0</td>\n",
              "      <td>0</td>\n",
              "      <td>0</td>\n",
              "      <td>0</td>\n",
              "      <td>0</td>\n",
              "      <td>0</td>\n",
              "      <td>0</td>\n",
              "      <td>0</td>\n",
              "      <td>0</td>\n",
              "      <td>0</td>\n",
              "      <td>0</td>\n",
              "      <td>0</td>\n",
              "      <td>0</td>\n",
              "      <td>0</td>\n",
              "      <td>0</td>\n",
              "      <td>0</td>\n",
              "      <td>0</td>\n",
              "      <td>0</td>\n",
              "      <td>0</td>\n",
              "      <td>0</td>\n",
              "      <td>0</td>\n",
              "      <td>0</td>\n",
              "      <td>0</td>\n",
              "      <td>0</td>\n",
              "      <td>0</td>\n",
              "      <td>0</td>\n",
              "      <td>1</td>\n",
              "      <td>0</td>\n",
              "      <td>0</td>\n",
              "      <td>1</td>\n",
              "      <td>0</td>\n",
              "      <td>0</td>\n",
              "      <td>1</td>\n",
              "      <td>0</td>\n",
              "      <td>0</td>\n",
              "    </tr>\n",
              "    <tr>\n",
              "      <th>7146</th>\n",
              "      <td>2181.36</td>\n",
              "      <td>6000000.00</td>\n",
              "      <td>2012</td>\n",
              "      <td>11</td>\n",
              "      <td>0</td>\n",
              "      <td>0</td>\n",
              "      <td>0</td>\n",
              "      <td>0</td>\n",
              "      <td>0</td>\n",
              "      <td>0</td>\n",
              "      <td>0</td>\n",
              "      <td>0</td>\n",
              "      <td>0</td>\n",
              "      <td>0</td>\n",
              "      <td>0</td>\n",
              "      <td>0</td>\n",
              "      <td>0</td>\n",
              "      <td>0</td>\n",
              "      <td>0</td>\n",
              "      <td>0</td>\n",
              "      <td>0</td>\n",
              "      <td>0</td>\n",
              "      <td>0</td>\n",
              "      <td>0</td>\n",
              "      <td>0</td>\n",
              "      <td>0</td>\n",
              "      <td>0</td>\n",
              "      <td>0</td>\n",
              "      <td>0</td>\n",
              "      <td>0</td>\n",
              "      <td>0</td>\n",
              "      <td>0</td>\n",
              "      <td>0</td>\n",
              "      <td>0</td>\n",
              "      <td>0</td>\n",
              "      <td>0</td>\n",
              "      <td>0</td>\n",
              "      <td>0</td>\n",
              "      <td>0</td>\n",
              "      <td>0</td>\n",
              "      <td>...</td>\n",
              "      <td>0</td>\n",
              "      <td>0</td>\n",
              "      <td>0</td>\n",
              "      <td>0</td>\n",
              "      <td>0</td>\n",
              "      <td>0</td>\n",
              "      <td>0</td>\n",
              "      <td>0</td>\n",
              "      <td>0</td>\n",
              "      <td>0</td>\n",
              "      <td>0</td>\n",
              "      <td>0</td>\n",
              "      <td>0</td>\n",
              "      <td>0</td>\n",
              "      <td>0</td>\n",
              "      <td>0</td>\n",
              "      <td>0</td>\n",
              "      <td>0</td>\n",
              "      <td>0</td>\n",
              "      <td>0</td>\n",
              "      <td>0</td>\n",
              "      <td>0</td>\n",
              "      <td>0</td>\n",
              "      <td>0</td>\n",
              "      <td>0</td>\n",
              "      <td>0</td>\n",
              "      <td>0</td>\n",
              "      <td>0</td>\n",
              "      <td>0</td>\n",
              "      <td>0</td>\n",
              "      <td>0</td>\n",
              "      <td>1</td>\n",
              "      <td>0</td>\n",
              "      <td>0</td>\n",
              "      <td>1</td>\n",
              "      <td>0</td>\n",
              "      <td>0</td>\n",
              "      <td>1</td>\n",
              "      <td>0</td>\n",
              "      <td>0</td>\n",
              "    </tr>\n",
              "  </tbody>\n",
              "</table>\n",
              "<p>5 rows × 208 columns</p>\n",
              "</div>"
            ],
            "text/plain": [
              "      procedure_area  property_total_value  ...  row_status_2  row_status_3\n",
              "4029          236.44            1400000.00  ...             0             0\n",
              "4191         7432.26           15450000.00  ...             0             0\n",
              "5918         1056.21               1056.21  ...             0             0\n",
              "7143         3135.48            2531250.00  ...             0             0\n",
              "7146         2181.36            6000000.00  ...             0             0\n",
              "\n",
              "[5 rows x 208 columns]"
            ]
          },
          "metadata": {
            "tags": []
          },
          "execution_count": 61
        }
      ]
    },
    {
      "cell_type": "code",
      "metadata": {
        "colab": {
          "base_uri": "https://localhost:8080/",
          "height": 203
        },
        "id": "jBNyWQzlBZOT",
        "outputId": "16403f60-0c62-448f-f60e-0454fc6aa8b4"
      },
      "source": [
        "col = actualvDf[['property_total_value','Year']]\n",
        "valDf = col.copy()\n",
        "valDf.head()"
      ],
      "execution_count": null,
      "outputs": [
        {
          "output_type": "execute_result",
          "data": {
            "text/html": [
              "<div>\n",
              "<style scoped>\n",
              "    .dataframe tbody tr th:only-of-type {\n",
              "        vertical-align: middle;\n",
              "    }\n",
              "\n",
              "    .dataframe tbody tr th {\n",
              "        vertical-align: top;\n",
              "    }\n",
              "\n",
              "    .dataframe thead th {\n",
              "        text-align: right;\n",
              "    }\n",
              "</style>\n",
              "<table border=\"1\" class=\"dataframe\">\n",
              "  <thead>\n",
              "    <tr style=\"text-align: right;\">\n",
              "      <th></th>\n",
              "      <th>property_total_value</th>\n",
              "      <th>Year</th>\n",
              "    </tr>\n",
              "  </thead>\n",
              "  <tbody>\n",
              "    <tr>\n",
              "      <th>4029</th>\n",
              "      <td>1400000.00</td>\n",
              "      <td>2012</td>\n",
              "    </tr>\n",
              "    <tr>\n",
              "      <th>4191</th>\n",
              "      <td>15450000.00</td>\n",
              "      <td>2012</td>\n",
              "    </tr>\n",
              "    <tr>\n",
              "      <th>5918</th>\n",
              "      <td>1056.21</td>\n",
              "      <td>2012</td>\n",
              "    </tr>\n",
              "    <tr>\n",
              "      <th>7143</th>\n",
              "      <td>2531250.00</td>\n",
              "      <td>2012</td>\n",
              "    </tr>\n",
              "    <tr>\n",
              "      <th>7146</th>\n",
              "      <td>6000000.00</td>\n",
              "      <td>2012</td>\n",
              "    </tr>\n",
              "  </tbody>\n",
              "</table>\n",
              "</div>"
            ],
            "text/plain": [
              "      property_total_value  Year\n",
              "4029            1400000.00  2012\n",
              "4191           15450000.00  2012\n",
              "5918               1056.21  2012\n",
              "7143            2531250.00  2012\n",
              "7146            6000000.00  2012"
            ]
          },
          "metadata": {
            "tags": []
          },
          "execution_count": 62
        }
      ]
    },
    {
      "cell_type": "code",
      "metadata": {
        "id": "lrZmDRWOLqFb"
      },
      "source": [
        "valDf = valDf[valDf['property_total_value'] > 0]"
      ],
      "execution_count": null,
      "outputs": []
    },
    {
      "cell_type": "code",
      "metadata": {
        "colab": {
          "base_uri": "https://localhost:8080/",
          "height": 357
        },
        "id": "cFvt-Zh2DuIW",
        "outputId": "e65470a0-a038-470b-d3ca-b620a8c6a23c"
      },
      "source": [
        "valDf = valDf.groupby('Year').agg({'property_total_value': ['median','min','max','count']})\n",
        "valDf.columns = ['value_median','value_min','value_max','counts']\n",
        "valDf = valDf.reset_index()\n",
        "valDf.head(15)"
      ],
      "execution_count": null,
      "outputs": [
        {
          "output_type": "execute_result",
          "data": {
            "text/html": [
              "<div>\n",
              "<style scoped>\n",
              "    .dataframe tbody tr th:only-of-type {\n",
              "        vertical-align: middle;\n",
              "    }\n",
              "\n",
              "    .dataframe tbody tr th {\n",
              "        vertical-align: top;\n",
              "    }\n",
              "\n",
              "    .dataframe thead th {\n",
              "        text-align: right;\n",
              "    }\n",
              "</style>\n",
              "<table border=\"1\" class=\"dataframe\">\n",
              "  <thead>\n",
              "    <tr style=\"text-align: right;\">\n",
              "      <th></th>\n",
              "      <th>Year</th>\n",
              "      <th>value_median</th>\n",
              "      <th>value_min</th>\n",
              "      <th>value_max</th>\n",
              "      <th>counts</th>\n",
              "    </tr>\n",
              "  </thead>\n",
              "  <tbody>\n",
              "    <tr>\n",
              "      <th>0</th>\n",
              "      <td>2012</td>\n",
              "      <td>2700000.000</td>\n",
              "      <td>159.9</td>\n",
              "      <td>2.000000e+09</td>\n",
              "      <td>1535</td>\n",
              "    </tr>\n",
              "    <tr>\n",
              "      <th>1</th>\n",
              "      <td>2013</td>\n",
              "      <td>3636895.000</td>\n",
              "      <td>50000.0</td>\n",
              "      <td>5.700504e+09</td>\n",
              "      <td>2369</td>\n",
              "    </tr>\n",
              "    <tr>\n",
              "      <th>2</th>\n",
              "      <td>2014</td>\n",
              "      <td>5826000.000</td>\n",
              "      <td>274096.0</td>\n",
              "      <td>4.882487e+09</td>\n",
              "      <td>3704</td>\n",
              "    </tr>\n",
              "    <tr>\n",
              "      <th>3</th>\n",
              "      <td>2015</td>\n",
              "      <td>3343810.000</td>\n",
              "      <td>83000.0</td>\n",
              "      <td>7.563579e+09</td>\n",
              "      <td>4493</td>\n",
              "    </tr>\n",
              "    <tr>\n",
              "      <th>4</th>\n",
              "      <td>2016</td>\n",
              "      <td>3213697.000</td>\n",
              "      <td>219131.0</td>\n",
              "      <td>9.214433e+09</td>\n",
              "      <td>4728</td>\n",
              "    </tr>\n",
              "    <tr>\n",
              "      <th>5</th>\n",
              "      <td>2017</td>\n",
              "      <td>2860796.000</td>\n",
              "      <td>232.0</td>\n",
              "      <td>7.563572e+09</td>\n",
              "      <td>5801</td>\n",
              "    </tr>\n",
              "    <tr>\n",
              "      <th>6</th>\n",
              "      <td>2018</td>\n",
              "      <td>2264363.500</td>\n",
              "      <td>109759.0</td>\n",
              "      <td>1.887918e+09</td>\n",
              "      <td>5610</td>\n",
              "    </tr>\n",
              "    <tr>\n",
              "      <th>7</th>\n",
              "      <td>2019</td>\n",
              "      <td>3770766.000</td>\n",
              "      <td>146345.0</td>\n",
              "      <td>6.958487e+09</td>\n",
              "      <td>2748</td>\n",
              "    </tr>\n",
              "    <tr>\n",
              "      <th>8</th>\n",
              "      <td>2020</td>\n",
              "      <td>3075000.000</td>\n",
              "      <td>169983.0</td>\n",
              "      <td>1.150932e+09</td>\n",
              "      <td>2135</td>\n",
              "    </tr>\n",
              "    <tr>\n",
              "      <th>9</th>\n",
              "      <td>2021</td>\n",
              "      <td>2835179.605</td>\n",
              "      <td>1.0</td>\n",
              "      <td>6.655944e+09</td>\n",
              "      <td>1478</td>\n",
              "    </tr>\n",
              "  </tbody>\n",
              "</table>\n",
              "</div>"
            ],
            "text/plain": [
              "   Year  value_median  value_min     value_max  counts\n",
              "0  2012   2700000.000      159.9  2.000000e+09    1535\n",
              "1  2013   3636895.000    50000.0  5.700504e+09    2369\n",
              "2  2014   5826000.000   274096.0  4.882487e+09    3704\n",
              "3  2015   3343810.000    83000.0  7.563579e+09    4493\n",
              "4  2016   3213697.000   219131.0  9.214433e+09    4728\n",
              "5  2017   2860796.000      232.0  7.563572e+09    5801\n",
              "6  2018   2264363.500   109759.0  1.887918e+09    5610\n",
              "7  2019   3770766.000   146345.0  6.958487e+09    2748\n",
              "8  2020   3075000.000   169983.0  1.150932e+09    2135\n",
              "9  2021   2835179.605        1.0  6.655944e+09    1478"
            ]
          },
          "metadata": {
            "tags": []
          },
          "execution_count": 64
        }
      ]
    },
    {
      "cell_type": "code",
      "metadata": {
        "colab": {
          "base_uri": "https://localhost:8080/",
          "height": 542
        },
        "id": "A9L-Ef-MA5IP",
        "outputId": "706d08f2-012c-4211-b4a7-4398f602f19f"
      },
      "source": [
        "fig_s = px.line(valDf, x=\"Year\", y=valDf['value_median'],\n",
        "              \n",
        "              title='Plot of Average property values over the Year')\n",
        "fig_s.update_xaxes(\n",
        "    dtick=\"M1\",\n",
        "    tickmode=\"linear\")\n",
        "fig_s.show()"
      ],
      "execution_count": null,
      "outputs": [
        {
          "output_type": "display_data",
          "data": {
            "text/html": [
              "<html>\n",
              "<head><meta charset=\"utf-8\" /></head>\n",
              "<body>\n",
              "    <div>\n",
              "            <script src=\"https://cdnjs.cloudflare.com/ajax/libs/mathjax/2.7.5/MathJax.js?config=TeX-AMS-MML_SVG\"></script><script type=\"text/javascript\">if (window.MathJax) {MathJax.Hub.Config({SVG: {font: \"STIX-Web\"}});}</script>\n",
              "                <script type=\"text/javascript\">window.PlotlyConfig = {MathJaxConfig: 'local'};</script>\n",
              "        <script src=\"https://cdn.plot.ly/plotly-latest.min.js\"></script>    \n",
              "            <div id=\"e1667b87-b7b9-42b1-8126-ba52119c3686\" class=\"plotly-graph-div\" style=\"height:525px; width:100%;\"></div>\n",
              "            <script type=\"text/javascript\">\n",
              "                \n",
              "                    window.PLOTLYENV=window.PLOTLYENV || {};\n",
              "                    \n",
              "                if (document.getElementById(\"e1667b87-b7b9-42b1-8126-ba52119c3686\")) {\n",
              "                    Plotly.newPlot(\n",
              "                        'e1667b87-b7b9-42b1-8126-ba52119c3686',\n",
              "                        [{\"hoverlabel\": {\"namelength\": 0}, \"hovertemplate\": \"Year=%{x}<br>value_median=%{y}\", \"legendgroup\": \"\", \"line\": {\"color\": \"#636efa\", \"dash\": \"solid\"}, \"mode\": \"lines\", \"name\": \"\", \"showlegend\": false, \"type\": \"scatter\", \"x\": [2012, 2013, 2014, 2015, 2016, 2017, 2018, 2019, 2020, 2021], \"xaxis\": \"x\", \"y\": [2700000.0, 3636895.0, 5826000.0, 3343810.0, 3213697.0, 2860796.0, 2264363.5, 3770766.0, 3075000.0, 2835179.605], \"yaxis\": \"y\"}],\n",
              "                        {\"legend\": {\"tracegroupgap\": 0}, \"template\": {\"data\": {\"bar\": [{\"error_x\": {\"color\": \"#2a3f5f\"}, \"error_y\": {\"color\": \"#2a3f5f\"}, \"marker\": {\"line\": {\"color\": \"#E5ECF6\", \"width\": 0.5}}, \"type\": \"bar\"}], \"barpolar\": [{\"marker\": {\"line\": {\"color\": \"#E5ECF6\", \"width\": 0.5}}, \"type\": \"barpolar\"}], \"carpet\": [{\"aaxis\": {\"endlinecolor\": \"#2a3f5f\", \"gridcolor\": \"white\", \"linecolor\": \"white\", \"minorgridcolor\": \"white\", \"startlinecolor\": \"#2a3f5f\"}, \"baxis\": {\"endlinecolor\": \"#2a3f5f\", \"gridcolor\": \"white\", \"linecolor\": \"white\", \"minorgridcolor\": \"white\", \"startlinecolor\": \"#2a3f5f\"}, \"type\": \"carpet\"}], \"choropleth\": [{\"colorbar\": {\"outlinewidth\": 0, \"ticks\": \"\"}, \"type\": \"choropleth\"}], \"contour\": [{\"colorbar\": {\"outlinewidth\": 0, \"ticks\": \"\"}, \"colorscale\": [[0.0, \"#0d0887\"], [0.1111111111111111, \"#46039f\"], [0.2222222222222222, \"#7201a8\"], [0.3333333333333333, \"#9c179e\"], [0.4444444444444444, \"#bd3786\"], [0.5555555555555556, \"#d8576b\"], [0.6666666666666666, \"#ed7953\"], [0.7777777777777778, \"#fb9f3a\"], [0.8888888888888888, \"#fdca26\"], [1.0, \"#f0f921\"]], \"type\": \"contour\"}], \"contourcarpet\": [{\"colorbar\": {\"outlinewidth\": 0, \"ticks\": \"\"}, \"type\": \"contourcarpet\"}], \"heatmap\": [{\"colorbar\": {\"outlinewidth\": 0, \"ticks\": \"\"}, \"colorscale\": [[0.0, \"#0d0887\"], [0.1111111111111111, \"#46039f\"], [0.2222222222222222, \"#7201a8\"], [0.3333333333333333, \"#9c179e\"], [0.4444444444444444, \"#bd3786\"], [0.5555555555555556, \"#d8576b\"], [0.6666666666666666, \"#ed7953\"], [0.7777777777777778, \"#fb9f3a\"], [0.8888888888888888, \"#fdca26\"], [1.0, \"#f0f921\"]], \"type\": \"heatmap\"}], \"heatmapgl\": [{\"colorbar\": {\"outlinewidth\": 0, \"ticks\": \"\"}, \"colorscale\": [[0.0, \"#0d0887\"], [0.1111111111111111, \"#46039f\"], [0.2222222222222222, \"#7201a8\"], [0.3333333333333333, \"#9c179e\"], [0.4444444444444444, \"#bd3786\"], [0.5555555555555556, \"#d8576b\"], [0.6666666666666666, \"#ed7953\"], [0.7777777777777778, \"#fb9f3a\"], [0.8888888888888888, \"#fdca26\"], [1.0, \"#f0f921\"]], \"type\": \"heatmapgl\"}], \"histogram\": [{\"marker\": {\"colorbar\": {\"outlinewidth\": 0, \"ticks\": \"\"}}, \"type\": \"histogram\"}], \"histogram2d\": [{\"colorbar\": {\"outlinewidth\": 0, \"ticks\": \"\"}, \"colorscale\": [[0.0, \"#0d0887\"], [0.1111111111111111, \"#46039f\"], [0.2222222222222222, \"#7201a8\"], [0.3333333333333333, \"#9c179e\"], [0.4444444444444444, \"#bd3786\"], [0.5555555555555556, \"#d8576b\"], [0.6666666666666666, \"#ed7953\"], [0.7777777777777778, \"#fb9f3a\"], [0.8888888888888888, \"#fdca26\"], [1.0, \"#f0f921\"]], \"type\": \"histogram2d\"}], \"histogram2dcontour\": [{\"colorbar\": {\"outlinewidth\": 0, \"ticks\": \"\"}, \"colorscale\": [[0.0, \"#0d0887\"], [0.1111111111111111, \"#46039f\"], [0.2222222222222222, \"#7201a8\"], [0.3333333333333333, \"#9c179e\"], [0.4444444444444444, \"#bd3786\"], [0.5555555555555556, \"#d8576b\"], [0.6666666666666666, \"#ed7953\"], [0.7777777777777778, \"#fb9f3a\"], [0.8888888888888888, \"#fdca26\"], [1.0, \"#f0f921\"]], \"type\": \"histogram2dcontour\"}], \"mesh3d\": [{\"colorbar\": {\"outlinewidth\": 0, \"ticks\": \"\"}, \"type\": \"mesh3d\"}], \"parcoords\": [{\"line\": {\"colorbar\": {\"outlinewidth\": 0, \"ticks\": \"\"}}, \"type\": \"parcoords\"}], \"pie\": [{\"automargin\": true, \"type\": \"pie\"}], \"scatter\": [{\"marker\": {\"colorbar\": {\"outlinewidth\": 0, \"ticks\": \"\"}}, \"type\": \"scatter\"}], \"scatter3d\": [{\"line\": {\"colorbar\": {\"outlinewidth\": 0, \"ticks\": \"\"}}, \"marker\": {\"colorbar\": {\"outlinewidth\": 0, \"ticks\": \"\"}}, \"type\": \"scatter3d\"}], \"scattercarpet\": [{\"marker\": {\"colorbar\": {\"outlinewidth\": 0, \"ticks\": \"\"}}, \"type\": \"scattercarpet\"}], \"scattergeo\": [{\"marker\": {\"colorbar\": {\"outlinewidth\": 0, \"ticks\": \"\"}}, \"type\": \"scattergeo\"}], \"scattergl\": [{\"marker\": {\"colorbar\": {\"outlinewidth\": 0, \"ticks\": \"\"}}, \"type\": \"scattergl\"}], \"scattermapbox\": [{\"marker\": {\"colorbar\": {\"outlinewidth\": 0, \"ticks\": \"\"}}, \"type\": \"scattermapbox\"}], \"scatterpolar\": [{\"marker\": {\"colorbar\": {\"outlinewidth\": 0, \"ticks\": \"\"}}, \"type\": \"scatterpolar\"}], \"scatterpolargl\": [{\"marker\": {\"colorbar\": {\"outlinewidth\": 0, \"ticks\": \"\"}}, \"type\": \"scatterpolargl\"}], \"scatterternary\": [{\"marker\": {\"colorbar\": {\"outlinewidth\": 0, \"ticks\": \"\"}}, \"type\": \"scatterternary\"}], \"surface\": [{\"colorbar\": {\"outlinewidth\": 0, \"ticks\": \"\"}, \"colorscale\": [[0.0, \"#0d0887\"], [0.1111111111111111, \"#46039f\"], [0.2222222222222222, \"#7201a8\"], [0.3333333333333333, \"#9c179e\"], [0.4444444444444444, \"#bd3786\"], [0.5555555555555556, \"#d8576b\"], [0.6666666666666666, \"#ed7953\"], [0.7777777777777778, \"#fb9f3a\"], [0.8888888888888888, \"#fdca26\"], [1.0, \"#f0f921\"]], \"type\": \"surface\"}], \"table\": [{\"cells\": {\"fill\": {\"color\": \"#EBF0F8\"}, \"line\": {\"color\": \"white\"}}, \"header\": {\"fill\": {\"color\": \"#C8D4E3\"}, \"line\": {\"color\": \"white\"}}, \"type\": \"table\"}]}, \"layout\": {\"annotationdefaults\": {\"arrowcolor\": \"#2a3f5f\", \"arrowhead\": 0, \"arrowwidth\": 1}, \"coloraxis\": {\"colorbar\": {\"outlinewidth\": 0, \"ticks\": \"\"}}, \"colorscale\": {\"diverging\": [[0, \"#8e0152\"], [0.1, \"#c51b7d\"], [0.2, \"#de77ae\"], [0.3, \"#f1b6da\"], [0.4, \"#fde0ef\"], [0.5, \"#f7f7f7\"], [0.6, \"#e6f5d0\"], [0.7, \"#b8e186\"], [0.8, \"#7fbc41\"], [0.9, \"#4d9221\"], [1, \"#276419\"]], \"sequential\": [[0.0, \"#0d0887\"], [0.1111111111111111, \"#46039f\"], [0.2222222222222222, \"#7201a8\"], [0.3333333333333333, \"#9c179e\"], [0.4444444444444444, \"#bd3786\"], [0.5555555555555556, \"#d8576b\"], [0.6666666666666666, \"#ed7953\"], [0.7777777777777778, \"#fb9f3a\"], [0.8888888888888888, \"#fdca26\"], [1.0, \"#f0f921\"]], \"sequentialminus\": [[0.0, \"#0d0887\"], [0.1111111111111111, \"#46039f\"], [0.2222222222222222, \"#7201a8\"], [0.3333333333333333, \"#9c179e\"], [0.4444444444444444, \"#bd3786\"], [0.5555555555555556, \"#d8576b\"], [0.6666666666666666, \"#ed7953\"], [0.7777777777777778, \"#fb9f3a\"], [0.8888888888888888, \"#fdca26\"], [1.0, \"#f0f921\"]]}, \"colorway\": [\"#636efa\", \"#EF553B\", \"#00cc96\", \"#ab63fa\", \"#FFA15A\", \"#19d3f3\", \"#FF6692\", \"#B6E880\", \"#FF97FF\", \"#FECB52\"], \"font\": {\"color\": \"#2a3f5f\"}, \"geo\": {\"bgcolor\": \"white\", \"lakecolor\": \"white\", \"landcolor\": \"#E5ECF6\", \"showlakes\": true, \"showland\": true, \"subunitcolor\": \"white\"}, \"hoverlabel\": {\"align\": \"left\"}, \"hovermode\": \"closest\", \"mapbox\": {\"style\": \"light\"}, \"paper_bgcolor\": \"white\", \"plot_bgcolor\": \"#E5ECF6\", \"polar\": {\"angularaxis\": {\"gridcolor\": \"white\", \"linecolor\": \"white\", \"ticks\": \"\"}, \"bgcolor\": \"#E5ECF6\", \"radialaxis\": {\"gridcolor\": \"white\", \"linecolor\": \"white\", \"ticks\": \"\"}}, \"scene\": {\"xaxis\": {\"backgroundcolor\": \"#E5ECF6\", \"gridcolor\": \"white\", \"gridwidth\": 2, \"linecolor\": \"white\", \"showbackground\": true, \"ticks\": \"\", \"zerolinecolor\": \"white\"}, \"yaxis\": {\"backgroundcolor\": \"#E5ECF6\", \"gridcolor\": \"white\", \"gridwidth\": 2, \"linecolor\": \"white\", \"showbackground\": true, \"ticks\": \"\", \"zerolinecolor\": \"white\"}, \"zaxis\": {\"backgroundcolor\": \"#E5ECF6\", \"gridcolor\": \"white\", \"gridwidth\": 2, \"linecolor\": \"white\", \"showbackground\": true, \"ticks\": \"\", \"zerolinecolor\": \"white\"}}, \"shapedefaults\": {\"line\": {\"color\": \"#2a3f5f\"}}, \"ternary\": {\"aaxis\": {\"gridcolor\": \"white\", \"linecolor\": \"white\", \"ticks\": \"\"}, \"baxis\": {\"gridcolor\": \"white\", \"linecolor\": \"white\", \"ticks\": \"\"}, \"bgcolor\": \"#E5ECF6\", \"caxis\": {\"gridcolor\": \"white\", \"linecolor\": \"white\", \"ticks\": \"\"}}, \"title\": {\"x\": 0.05}, \"xaxis\": {\"automargin\": true, \"gridcolor\": \"white\", \"linecolor\": \"white\", \"ticks\": \"\", \"title\": {\"standoff\": 15}, \"zerolinecolor\": \"white\", \"zerolinewidth\": 2}, \"yaxis\": {\"automargin\": true, \"gridcolor\": \"white\", \"linecolor\": \"white\", \"ticks\": \"\", \"title\": {\"standoff\": 15}, \"zerolinecolor\": \"white\", \"zerolinewidth\": 2}}}, \"title\": {\"text\": \"Plot of Average property values over the Year\"}, \"xaxis\": {\"anchor\": \"y\", \"domain\": [0.0, 1.0], \"dtick\": \"M1\", \"tickmode\": \"linear\", \"title\": {\"text\": \"Year\"}}, \"yaxis\": {\"anchor\": \"x\", \"domain\": [0.0, 1.0], \"title\": {\"text\": \"value_median\"}}},\n",
              "                        {\"responsive\": true}\n",
              "                    ).then(function(){\n",
              "                            \n",
              "var gd = document.getElementById('e1667b87-b7b9-42b1-8126-ba52119c3686');\n",
              "var x = new MutationObserver(function (mutations, observer) {{\n",
              "        var display = window.getComputedStyle(gd).display;\n",
              "        if (!display || display === 'none') {{\n",
              "            console.log([gd, 'removed!']);\n",
              "            Plotly.purge(gd);\n",
              "            observer.disconnect();\n",
              "        }}\n",
              "}});\n",
              "\n",
              "// Listen for the removal of the full notebook cells\n",
              "var notebookContainer = gd.closest('#notebook-container');\n",
              "if (notebookContainer) {{\n",
              "    x.observe(notebookContainer, {childList: true});\n",
              "}}\n",
              "\n",
              "// Listen for the clearing of the current output cell\n",
              "var outputEl = gd.closest('.output');\n",
              "if (outputEl) {{\n",
              "    x.observe(outputEl, {childList: true});\n",
              "}}\n",
              "\n",
              "                        })\n",
              "                };\n",
              "                \n",
              "            </script>\n",
              "        </div>\n",
              "</body>\n",
              "</html>"
            ]
          },
          "metadata": {
            "tags": []
          }
        }
      ]
    },
    {
      "cell_type": "code",
      "metadata": {
        "colab": {
          "base_uri": "https://localhost:8080/",
          "height": 542
        },
        "id": "N6vkS5CdaDP6",
        "outputId": "c17d54c9-5835-4b7f-e8eb-a68d84a91dbc"
      },
      "source": [
        "fig_c = px.line(valDf, x=\"Year\", y=valDf['counts'],\n",
        "              \n",
        "              title='Plot of count of properties over the Years')\n",
        "fig_c.update_xaxes(\n",
        "    dtick=\"M1\",\n",
        "    tickmode=\"linear\")\n",
        "fig_c.show()"
      ],
      "execution_count": null,
      "outputs": [
        {
          "output_type": "display_data",
          "data": {
            "text/html": [
              "<html>\n",
              "<head><meta charset=\"utf-8\" /></head>\n",
              "<body>\n",
              "    <div>\n",
              "            <script src=\"https://cdnjs.cloudflare.com/ajax/libs/mathjax/2.7.5/MathJax.js?config=TeX-AMS-MML_SVG\"></script><script type=\"text/javascript\">if (window.MathJax) {MathJax.Hub.Config({SVG: {font: \"STIX-Web\"}});}</script>\n",
              "                <script type=\"text/javascript\">window.PlotlyConfig = {MathJaxConfig: 'local'};</script>\n",
              "        <script src=\"https://cdn.plot.ly/plotly-latest.min.js\"></script>    \n",
              "            <div id=\"75b1f065-24df-4104-a201-4cd8e0f4484a\" class=\"plotly-graph-div\" style=\"height:525px; width:100%;\"></div>\n",
              "            <script type=\"text/javascript\">\n",
              "                \n",
              "                    window.PLOTLYENV=window.PLOTLYENV || {};\n",
              "                    \n",
              "                if (document.getElementById(\"75b1f065-24df-4104-a201-4cd8e0f4484a\")) {\n",
              "                    Plotly.newPlot(\n",
              "                        '75b1f065-24df-4104-a201-4cd8e0f4484a',\n",
              "                        [{\"hoverlabel\": {\"namelength\": 0}, \"hovertemplate\": \"Year=%{x}<br>counts=%{y}\", \"legendgroup\": \"\", \"line\": {\"color\": \"#636efa\", \"dash\": \"solid\"}, \"mode\": \"lines\", \"name\": \"\", \"showlegend\": false, \"type\": \"scatter\", \"x\": [2012, 2013, 2014, 2015, 2016, 2017, 2018, 2019, 2020, 2021], \"xaxis\": \"x\", \"y\": [1535, 2369, 3704, 4493, 4728, 5801, 5610, 2748, 2135, 1478], \"yaxis\": \"y\"}],\n",
              "                        {\"legend\": {\"tracegroupgap\": 0}, \"template\": {\"data\": {\"bar\": [{\"error_x\": {\"color\": \"#2a3f5f\"}, \"error_y\": {\"color\": \"#2a3f5f\"}, \"marker\": {\"line\": {\"color\": \"#E5ECF6\", \"width\": 0.5}}, \"type\": \"bar\"}], \"barpolar\": [{\"marker\": {\"line\": {\"color\": \"#E5ECF6\", \"width\": 0.5}}, \"type\": \"barpolar\"}], \"carpet\": [{\"aaxis\": {\"endlinecolor\": \"#2a3f5f\", \"gridcolor\": \"white\", \"linecolor\": \"white\", \"minorgridcolor\": \"white\", \"startlinecolor\": \"#2a3f5f\"}, \"baxis\": {\"endlinecolor\": \"#2a3f5f\", \"gridcolor\": \"white\", \"linecolor\": \"white\", \"minorgridcolor\": \"white\", \"startlinecolor\": \"#2a3f5f\"}, \"type\": \"carpet\"}], \"choropleth\": [{\"colorbar\": {\"outlinewidth\": 0, \"ticks\": \"\"}, \"type\": \"choropleth\"}], \"contour\": [{\"colorbar\": {\"outlinewidth\": 0, \"ticks\": \"\"}, \"colorscale\": [[0.0, \"#0d0887\"], [0.1111111111111111, \"#46039f\"], [0.2222222222222222, \"#7201a8\"], [0.3333333333333333, \"#9c179e\"], [0.4444444444444444, \"#bd3786\"], [0.5555555555555556, \"#d8576b\"], [0.6666666666666666, \"#ed7953\"], [0.7777777777777778, \"#fb9f3a\"], [0.8888888888888888, \"#fdca26\"], [1.0, \"#f0f921\"]], \"type\": \"contour\"}], \"contourcarpet\": [{\"colorbar\": {\"outlinewidth\": 0, \"ticks\": \"\"}, \"type\": \"contourcarpet\"}], \"heatmap\": [{\"colorbar\": {\"outlinewidth\": 0, \"ticks\": \"\"}, \"colorscale\": [[0.0, \"#0d0887\"], [0.1111111111111111, \"#46039f\"], [0.2222222222222222, \"#7201a8\"], [0.3333333333333333, \"#9c179e\"], [0.4444444444444444, \"#bd3786\"], [0.5555555555555556, \"#d8576b\"], [0.6666666666666666, \"#ed7953\"], [0.7777777777777778, \"#fb9f3a\"], [0.8888888888888888, \"#fdca26\"], [1.0, \"#f0f921\"]], \"type\": \"heatmap\"}], \"heatmapgl\": [{\"colorbar\": {\"outlinewidth\": 0, \"ticks\": \"\"}, \"colorscale\": [[0.0, \"#0d0887\"], [0.1111111111111111, \"#46039f\"], [0.2222222222222222, \"#7201a8\"], [0.3333333333333333, \"#9c179e\"], [0.4444444444444444, \"#bd3786\"], [0.5555555555555556, \"#d8576b\"], [0.6666666666666666, \"#ed7953\"], [0.7777777777777778, \"#fb9f3a\"], [0.8888888888888888, \"#fdca26\"], [1.0, \"#f0f921\"]], \"type\": \"heatmapgl\"}], \"histogram\": [{\"marker\": {\"colorbar\": {\"outlinewidth\": 0, \"ticks\": \"\"}}, \"type\": \"histogram\"}], \"histogram2d\": [{\"colorbar\": {\"outlinewidth\": 0, \"ticks\": \"\"}, \"colorscale\": [[0.0, \"#0d0887\"], [0.1111111111111111, \"#46039f\"], [0.2222222222222222, \"#7201a8\"], [0.3333333333333333, \"#9c179e\"], [0.4444444444444444, \"#bd3786\"], [0.5555555555555556, \"#d8576b\"], [0.6666666666666666, \"#ed7953\"], [0.7777777777777778, \"#fb9f3a\"], [0.8888888888888888, \"#fdca26\"], [1.0, \"#f0f921\"]], \"type\": \"histogram2d\"}], \"histogram2dcontour\": [{\"colorbar\": {\"outlinewidth\": 0, \"ticks\": \"\"}, \"colorscale\": [[0.0, \"#0d0887\"], [0.1111111111111111, \"#46039f\"], [0.2222222222222222, \"#7201a8\"], [0.3333333333333333, \"#9c179e\"], [0.4444444444444444, \"#bd3786\"], [0.5555555555555556, \"#d8576b\"], [0.6666666666666666, \"#ed7953\"], [0.7777777777777778, \"#fb9f3a\"], [0.8888888888888888, \"#fdca26\"], [1.0, \"#f0f921\"]], \"type\": \"histogram2dcontour\"}], \"mesh3d\": [{\"colorbar\": {\"outlinewidth\": 0, \"ticks\": \"\"}, \"type\": \"mesh3d\"}], \"parcoords\": [{\"line\": {\"colorbar\": {\"outlinewidth\": 0, \"ticks\": \"\"}}, \"type\": \"parcoords\"}], \"pie\": [{\"automargin\": true, \"type\": \"pie\"}], \"scatter\": [{\"marker\": {\"colorbar\": {\"outlinewidth\": 0, \"ticks\": \"\"}}, \"type\": \"scatter\"}], \"scatter3d\": [{\"line\": {\"colorbar\": {\"outlinewidth\": 0, \"ticks\": \"\"}}, \"marker\": {\"colorbar\": {\"outlinewidth\": 0, \"ticks\": \"\"}}, \"type\": \"scatter3d\"}], \"scattercarpet\": [{\"marker\": {\"colorbar\": {\"outlinewidth\": 0, \"ticks\": \"\"}}, \"type\": \"scattercarpet\"}], \"scattergeo\": [{\"marker\": {\"colorbar\": {\"outlinewidth\": 0, \"ticks\": \"\"}}, \"type\": \"scattergeo\"}], \"scattergl\": [{\"marker\": {\"colorbar\": {\"outlinewidth\": 0, \"ticks\": \"\"}}, \"type\": \"scattergl\"}], \"scattermapbox\": [{\"marker\": {\"colorbar\": {\"outlinewidth\": 0, \"ticks\": \"\"}}, \"type\": \"scattermapbox\"}], \"scatterpolar\": [{\"marker\": {\"colorbar\": {\"outlinewidth\": 0, \"ticks\": \"\"}}, \"type\": \"scatterpolar\"}], \"scatterpolargl\": [{\"marker\": {\"colorbar\": {\"outlinewidth\": 0, \"ticks\": \"\"}}, \"type\": \"scatterpolargl\"}], \"scatterternary\": [{\"marker\": {\"colorbar\": {\"outlinewidth\": 0, \"ticks\": \"\"}}, \"type\": \"scatterternary\"}], \"surface\": [{\"colorbar\": {\"outlinewidth\": 0, \"ticks\": \"\"}, \"colorscale\": [[0.0, \"#0d0887\"], [0.1111111111111111, \"#46039f\"], [0.2222222222222222, \"#7201a8\"], [0.3333333333333333, \"#9c179e\"], [0.4444444444444444, \"#bd3786\"], [0.5555555555555556, \"#d8576b\"], [0.6666666666666666, \"#ed7953\"], [0.7777777777777778, \"#fb9f3a\"], [0.8888888888888888, \"#fdca26\"], [1.0, \"#f0f921\"]], \"type\": \"surface\"}], \"table\": [{\"cells\": {\"fill\": {\"color\": \"#EBF0F8\"}, \"line\": {\"color\": \"white\"}}, \"header\": {\"fill\": {\"color\": \"#C8D4E3\"}, \"line\": {\"color\": \"white\"}}, \"type\": \"table\"}]}, \"layout\": {\"annotationdefaults\": {\"arrowcolor\": \"#2a3f5f\", \"arrowhead\": 0, \"arrowwidth\": 1}, \"coloraxis\": {\"colorbar\": {\"outlinewidth\": 0, \"ticks\": \"\"}}, \"colorscale\": {\"diverging\": [[0, \"#8e0152\"], [0.1, \"#c51b7d\"], [0.2, \"#de77ae\"], [0.3, \"#f1b6da\"], [0.4, \"#fde0ef\"], [0.5, \"#f7f7f7\"], [0.6, \"#e6f5d0\"], [0.7, \"#b8e186\"], [0.8, \"#7fbc41\"], [0.9, \"#4d9221\"], [1, \"#276419\"]], \"sequential\": [[0.0, \"#0d0887\"], [0.1111111111111111, \"#46039f\"], [0.2222222222222222, \"#7201a8\"], [0.3333333333333333, \"#9c179e\"], [0.4444444444444444, \"#bd3786\"], [0.5555555555555556, \"#d8576b\"], [0.6666666666666666, \"#ed7953\"], [0.7777777777777778, \"#fb9f3a\"], [0.8888888888888888, \"#fdca26\"], [1.0, \"#f0f921\"]], \"sequentialminus\": [[0.0, \"#0d0887\"], [0.1111111111111111, \"#46039f\"], [0.2222222222222222, \"#7201a8\"], [0.3333333333333333, \"#9c179e\"], [0.4444444444444444, \"#bd3786\"], [0.5555555555555556, \"#d8576b\"], [0.6666666666666666, \"#ed7953\"], [0.7777777777777778, \"#fb9f3a\"], [0.8888888888888888, \"#fdca26\"], [1.0, \"#f0f921\"]]}, \"colorway\": [\"#636efa\", \"#EF553B\", \"#00cc96\", \"#ab63fa\", \"#FFA15A\", \"#19d3f3\", \"#FF6692\", \"#B6E880\", \"#FF97FF\", \"#FECB52\"], \"font\": {\"color\": \"#2a3f5f\"}, \"geo\": {\"bgcolor\": \"white\", \"lakecolor\": \"white\", \"landcolor\": \"#E5ECF6\", \"showlakes\": true, \"showland\": true, \"subunitcolor\": \"white\"}, \"hoverlabel\": {\"align\": \"left\"}, \"hovermode\": \"closest\", \"mapbox\": {\"style\": \"light\"}, \"paper_bgcolor\": \"white\", \"plot_bgcolor\": \"#E5ECF6\", \"polar\": {\"angularaxis\": {\"gridcolor\": \"white\", \"linecolor\": \"white\", \"ticks\": \"\"}, \"bgcolor\": \"#E5ECF6\", \"radialaxis\": {\"gridcolor\": \"white\", \"linecolor\": \"white\", \"ticks\": \"\"}}, \"scene\": {\"xaxis\": {\"backgroundcolor\": \"#E5ECF6\", \"gridcolor\": \"white\", \"gridwidth\": 2, \"linecolor\": \"white\", \"showbackground\": true, \"ticks\": \"\", \"zerolinecolor\": \"white\"}, \"yaxis\": {\"backgroundcolor\": \"#E5ECF6\", \"gridcolor\": \"white\", \"gridwidth\": 2, \"linecolor\": \"white\", \"showbackground\": true, \"ticks\": \"\", \"zerolinecolor\": \"white\"}, \"zaxis\": {\"backgroundcolor\": \"#E5ECF6\", \"gridcolor\": \"white\", \"gridwidth\": 2, \"linecolor\": \"white\", \"showbackground\": true, \"ticks\": \"\", \"zerolinecolor\": \"white\"}}, \"shapedefaults\": {\"line\": {\"color\": \"#2a3f5f\"}}, \"ternary\": {\"aaxis\": {\"gridcolor\": \"white\", \"linecolor\": \"white\", \"ticks\": \"\"}, \"baxis\": {\"gridcolor\": \"white\", \"linecolor\": \"white\", \"ticks\": \"\"}, \"bgcolor\": \"#E5ECF6\", \"caxis\": {\"gridcolor\": \"white\", \"linecolor\": \"white\", \"ticks\": \"\"}}, \"title\": {\"x\": 0.05}, \"xaxis\": {\"automargin\": true, \"gridcolor\": \"white\", \"linecolor\": \"white\", \"ticks\": \"\", \"title\": {\"standoff\": 15}, \"zerolinecolor\": \"white\", \"zerolinewidth\": 2}, \"yaxis\": {\"automargin\": true, \"gridcolor\": \"white\", \"linecolor\": \"white\", \"ticks\": \"\", \"title\": {\"standoff\": 15}, \"zerolinecolor\": \"white\", \"zerolinewidth\": 2}}}, \"title\": {\"text\": \"Plot of count of properties over the Years\"}, \"xaxis\": {\"anchor\": \"y\", \"domain\": [0.0, 1.0], \"dtick\": \"M1\", \"tickmode\": \"linear\", \"title\": {\"text\": \"Year\"}}, \"yaxis\": {\"anchor\": \"x\", \"domain\": [0.0, 1.0], \"title\": {\"text\": \"counts\"}}},\n",
              "                        {\"responsive\": true}\n",
              "                    ).then(function(){\n",
              "                            \n",
              "var gd = document.getElementById('75b1f065-24df-4104-a201-4cd8e0f4484a');\n",
              "var x = new MutationObserver(function (mutations, observer) {{\n",
              "        var display = window.getComputedStyle(gd).display;\n",
              "        if (!display || display === 'none') {{\n",
              "            console.log([gd, 'removed!']);\n",
              "            Plotly.purge(gd);\n",
              "            observer.disconnect();\n",
              "        }}\n",
              "}});\n",
              "\n",
              "// Listen for the removal of the full notebook cells\n",
              "var notebookContainer = gd.closest('#notebook-container');\n",
              "if (notebookContainer) {{\n",
              "    x.observe(notebookContainer, {childList: true});\n",
              "}}\n",
              "\n",
              "// Listen for the clearing of the current output cell\n",
              "var outputEl = gd.closest('.output');\n",
              "if (outputEl) {{\n",
              "    x.observe(outputEl, {childList: true});\n",
              "}}\n",
              "\n",
              "                        })\n",
              "                };\n",
              "                \n",
              "            </script>\n",
              "        </div>\n",
              "</body>\n",
              "</html>"
            ]
          },
          "metadata": {
            "tags": []
          }
        }
      ]
    },
    {
      "cell_type": "code",
      "metadata": {
        "colab": {
          "base_uri": "https://localhost:8080/",
          "height": 542
        },
        "id": "VAhbFXoddRuT",
        "outputId": "c431b42f-e38c-4e83-f209-5ea3c90e8dd1"
      },
      "source": [
        "fig_m = px.line(valDf, x=\"Year\", y=valDf['value_max'],\n",
        "              \n",
        "              title='Plot of maximum valuation over the Years')\n",
        "fig_m.update_xaxes(\n",
        "    dtick=\"M1\",\n",
        "    tickmode=\"linear\")\n",
        "fig_m.show()"
      ],
      "execution_count": null,
      "outputs": [
        {
          "output_type": "display_data",
          "data": {
            "text/html": [
              "<html>\n",
              "<head><meta charset=\"utf-8\" /></head>\n",
              "<body>\n",
              "    <div>\n",
              "            <script src=\"https://cdnjs.cloudflare.com/ajax/libs/mathjax/2.7.5/MathJax.js?config=TeX-AMS-MML_SVG\"></script><script type=\"text/javascript\">if (window.MathJax) {MathJax.Hub.Config({SVG: {font: \"STIX-Web\"}});}</script>\n",
              "                <script type=\"text/javascript\">window.PlotlyConfig = {MathJaxConfig: 'local'};</script>\n",
              "        <script src=\"https://cdn.plot.ly/plotly-latest.min.js\"></script>    \n",
              "            <div id=\"cafaf3d7-da55-421e-a2e5-19332546394c\" class=\"plotly-graph-div\" style=\"height:525px; width:100%;\"></div>\n",
              "            <script type=\"text/javascript\">\n",
              "                \n",
              "                    window.PLOTLYENV=window.PLOTLYENV || {};\n",
              "                    \n",
              "                if (document.getElementById(\"cafaf3d7-da55-421e-a2e5-19332546394c\")) {\n",
              "                    Plotly.newPlot(\n",
              "                        'cafaf3d7-da55-421e-a2e5-19332546394c',\n",
              "                        [{\"hoverlabel\": {\"namelength\": 0}, \"hovertemplate\": \"Year=%{x}<br>value_max=%{y}\", \"legendgroup\": \"\", \"line\": {\"color\": \"#636efa\", \"dash\": \"solid\"}, \"mode\": \"lines\", \"name\": \"\", \"showlegend\": false, \"type\": \"scatter\", \"x\": [2012, 2013, 2014, 2015, 2016, 2017, 2018, 2019, 2020, 2021], \"xaxis\": \"x\", \"y\": [2000000000.0, 5700503760.0, 4882486615.0, 7563578750.0, 9214432998.0, 7563572435.0, 1887918417.0, 6958486640.0, 1150932000.0, 6655943742.0], \"yaxis\": \"y\"}],\n",
              "                        {\"legend\": {\"tracegroupgap\": 0}, \"template\": {\"data\": {\"bar\": [{\"error_x\": {\"color\": \"#2a3f5f\"}, \"error_y\": {\"color\": \"#2a3f5f\"}, \"marker\": {\"line\": {\"color\": \"#E5ECF6\", \"width\": 0.5}}, \"type\": \"bar\"}], \"barpolar\": [{\"marker\": {\"line\": {\"color\": \"#E5ECF6\", \"width\": 0.5}}, \"type\": \"barpolar\"}], \"carpet\": [{\"aaxis\": {\"endlinecolor\": \"#2a3f5f\", \"gridcolor\": \"white\", \"linecolor\": \"white\", \"minorgridcolor\": \"white\", \"startlinecolor\": \"#2a3f5f\"}, \"baxis\": {\"endlinecolor\": \"#2a3f5f\", \"gridcolor\": \"white\", \"linecolor\": \"white\", \"minorgridcolor\": \"white\", \"startlinecolor\": \"#2a3f5f\"}, \"type\": \"carpet\"}], \"choropleth\": [{\"colorbar\": {\"outlinewidth\": 0, \"ticks\": \"\"}, \"type\": \"choropleth\"}], \"contour\": [{\"colorbar\": {\"outlinewidth\": 0, \"ticks\": \"\"}, \"colorscale\": [[0.0, \"#0d0887\"], [0.1111111111111111, \"#46039f\"], [0.2222222222222222, \"#7201a8\"], [0.3333333333333333, \"#9c179e\"], [0.4444444444444444, \"#bd3786\"], [0.5555555555555556, \"#d8576b\"], [0.6666666666666666, \"#ed7953\"], [0.7777777777777778, \"#fb9f3a\"], [0.8888888888888888, \"#fdca26\"], [1.0, \"#f0f921\"]], \"type\": \"contour\"}], \"contourcarpet\": [{\"colorbar\": {\"outlinewidth\": 0, \"ticks\": \"\"}, \"type\": \"contourcarpet\"}], \"heatmap\": [{\"colorbar\": {\"outlinewidth\": 0, \"ticks\": \"\"}, \"colorscale\": [[0.0, \"#0d0887\"], [0.1111111111111111, \"#46039f\"], [0.2222222222222222, \"#7201a8\"], [0.3333333333333333, \"#9c179e\"], [0.4444444444444444, \"#bd3786\"], [0.5555555555555556, \"#d8576b\"], [0.6666666666666666, \"#ed7953\"], [0.7777777777777778, \"#fb9f3a\"], [0.8888888888888888, \"#fdca26\"], [1.0, \"#f0f921\"]], \"type\": \"heatmap\"}], \"heatmapgl\": [{\"colorbar\": {\"outlinewidth\": 0, \"ticks\": \"\"}, \"colorscale\": [[0.0, \"#0d0887\"], [0.1111111111111111, \"#46039f\"], [0.2222222222222222, \"#7201a8\"], [0.3333333333333333, \"#9c179e\"], [0.4444444444444444, \"#bd3786\"], [0.5555555555555556, \"#d8576b\"], [0.6666666666666666, \"#ed7953\"], [0.7777777777777778, \"#fb9f3a\"], [0.8888888888888888, \"#fdca26\"], [1.0, \"#f0f921\"]], \"type\": \"heatmapgl\"}], \"histogram\": [{\"marker\": {\"colorbar\": {\"outlinewidth\": 0, \"ticks\": \"\"}}, \"type\": \"histogram\"}], \"histogram2d\": [{\"colorbar\": {\"outlinewidth\": 0, \"ticks\": \"\"}, \"colorscale\": [[0.0, \"#0d0887\"], [0.1111111111111111, \"#46039f\"], [0.2222222222222222, \"#7201a8\"], [0.3333333333333333, \"#9c179e\"], [0.4444444444444444, \"#bd3786\"], [0.5555555555555556, \"#d8576b\"], [0.6666666666666666, \"#ed7953\"], [0.7777777777777778, \"#fb9f3a\"], [0.8888888888888888, \"#fdca26\"], [1.0, \"#f0f921\"]], \"type\": \"histogram2d\"}], \"histogram2dcontour\": [{\"colorbar\": {\"outlinewidth\": 0, \"ticks\": \"\"}, \"colorscale\": [[0.0, \"#0d0887\"], [0.1111111111111111, \"#46039f\"], [0.2222222222222222, \"#7201a8\"], [0.3333333333333333, \"#9c179e\"], [0.4444444444444444, \"#bd3786\"], [0.5555555555555556, \"#d8576b\"], [0.6666666666666666, \"#ed7953\"], [0.7777777777777778, \"#fb9f3a\"], [0.8888888888888888, \"#fdca26\"], [1.0, \"#f0f921\"]], \"type\": \"histogram2dcontour\"}], \"mesh3d\": [{\"colorbar\": {\"outlinewidth\": 0, \"ticks\": \"\"}, \"type\": \"mesh3d\"}], \"parcoords\": [{\"line\": {\"colorbar\": {\"outlinewidth\": 0, \"ticks\": \"\"}}, \"type\": \"parcoords\"}], \"pie\": [{\"automargin\": true, \"type\": \"pie\"}], \"scatter\": [{\"marker\": {\"colorbar\": {\"outlinewidth\": 0, \"ticks\": \"\"}}, \"type\": \"scatter\"}], \"scatter3d\": [{\"line\": {\"colorbar\": {\"outlinewidth\": 0, \"ticks\": \"\"}}, \"marker\": {\"colorbar\": {\"outlinewidth\": 0, \"ticks\": \"\"}}, \"type\": \"scatter3d\"}], \"scattercarpet\": [{\"marker\": {\"colorbar\": {\"outlinewidth\": 0, \"ticks\": \"\"}}, \"type\": \"scattercarpet\"}], \"scattergeo\": [{\"marker\": {\"colorbar\": {\"outlinewidth\": 0, \"ticks\": \"\"}}, \"type\": \"scattergeo\"}], \"scattergl\": [{\"marker\": {\"colorbar\": {\"outlinewidth\": 0, \"ticks\": \"\"}}, \"type\": \"scattergl\"}], \"scattermapbox\": [{\"marker\": {\"colorbar\": {\"outlinewidth\": 0, \"ticks\": \"\"}}, \"type\": \"scattermapbox\"}], \"scatterpolar\": [{\"marker\": {\"colorbar\": {\"outlinewidth\": 0, \"ticks\": \"\"}}, \"type\": \"scatterpolar\"}], \"scatterpolargl\": [{\"marker\": {\"colorbar\": {\"outlinewidth\": 0, \"ticks\": \"\"}}, \"type\": \"scatterpolargl\"}], \"scatterternary\": [{\"marker\": {\"colorbar\": {\"outlinewidth\": 0, \"ticks\": \"\"}}, \"type\": \"scatterternary\"}], \"surface\": [{\"colorbar\": {\"outlinewidth\": 0, \"ticks\": \"\"}, \"colorscale\": [[0.0, \"#0d0887\"], [0.1111111111111111, \"#46039f\"], [0.2222222222222222, \"#7201a8\"], [0.3333333333333333, \"#9c179e\"], [0.4444444444444444, \"#bd3786\"], [0.5555555555555556, \"#d8576b\"], [0.6666666666666666, \"#ed7953\"], [0.7777777777777778, \"#fb9f3a\"], [0.8888888888888888, \"#fdca26\"], [1.0, \"#f0f921\"]], \"type\": \"surface\"}], \"table\": [{\"cells\": {\"fill\": {\"color\": \"#EBF0F8\"}, \"line\": {\"color\": \"white\"}}, \"header\": {\"fill\": {\"color\": \"#C8D4E3\"}, \"line\": {\"color\": \"white\"}}, \"type\": \"table\"}]}, \"layout\": {\"annotationdefaults\": {\"arrowcolor\": \"#2a3f5f\", \"arrowhead\": 0, \"arrowwidth\": 1}, \"coloraxis\": {\"colorbar\": {\"outlinewidth\": 0, \"ticks\": \"\"}}, \"colorscale\": {\"diverging\": [[0, \"#8e0152\"], [0.1, \"#c51b7d\"], [0.2, \"#de77ae\"], [0.3, \"#f1b6da\"], [0.4, \"#fde0ef\"], [0.5, \"#f7f7f7\"], [0.6, \"#e6f5d0\"], [0.7, \"#b8e186\"], [0.8, \"#7fbc41\"], [0.9, \"#4d9221\"], [1, \"#276419\"]], \"sequential\": [[0.0, \"#0d0887\"], [0.1111111111111111, \"#46039f\"], [0.2222222222222222, \"#7201a8\"], [0.3333333333333333, \"#9c179e\"], [0.4444444444444444, \"#bd3786\"], [0.5555555555555556, \"#d8576b\"], [0.6666666666666666, \"#ed7953\"], [0.7777777777777778, \"#fb9f3a\"], [0.8888888888888888, \"#fdca26\"], [1.0, \"#f0f921\"]], \"sequentialminus\": [[0.0, \"#0d0887\"], [0.1111111111111111, \"#46039f\"], [0.2222222222222222, \"#7201a8\"], [0.3333333333333333, \"#9c179e\"], [0.4444444444444444, \"#bd3786\"], [0.5555555555555556, \"#d8576b\"], [0.6666666666666666, \"#ed7953\"], [0.7777777777777778, \"#fb9f3a\"], [0.8888888888888888, \"#fdca26\"], [1.0, \"#f0f921\"]]}, \"colorway\": [\"#636efa\", \"#EF553B\", \"#00cc96\", \"#ab63fa\", \"#FFA15A\", \"#19d3f3\", \"#FF6692\", \"#B6E880\", \"#FF97FF\", \"#FECB52\"], \"font\": {\"color\": \"#2a3f5f\"}, \"geo\": {\"bgcolor\": \"white\", \"lakecolor\": \"white\", \"landcolor\": \"#E5ECF6\", \"showlakes\": true, \"showland\": true, \"subunitcolor\": \"white\"}, \"hoverlabel\": {\"align\": \"left\"}, \"hovermode\": \"closest\", \"mapbox\": {\"style\": \"light\"}, \"paper_bgcolor\": \"white\", \"plot_bgcolor\": \"#E5ECF6\", \"polar\": {\"angularaxis\": {\"gridcolor\": \"white\", \"linecolor\": \"white\", \"ticks\": \"\"}, \"bgcolor\": \"#E5ECF6\", \"radialaxis\": {\"gridcolor\": \"white\", \"linecolor\": \"white\", \"ticks\": \"\"}}, \"scene\": {\"xaxis\": {\"backgroundcolor\": \"#E5ECF6\", \"gridcolor\": \"white\", \"gridwidth\": 2, \"linecolor\": \"white\", \"showbackground\": true, \"ticks\": \"\", \"zerolinecolor\": \"white\"}, \"yaxis\": {\"backgroundcolor\": \"#E5ECF6\", \"gridcolor\": \"white\", \"gridwidth\": 2, \"linecolor\": \"white\", \"showbackground\": true, \"ticks\": \"\", \"zerolinecolor\": \"white\"}, \"zaxis\": {\"backgroundcolor\": \"#E5ECF6\", \"gridcolor\": \"white\", \"gridwidth\": 2, \"linecolor\": \"white\", \"showbackground\": true, \"ticks\": \"\", \"zerolinecolor\": \"white\"}}, \"shapedefaults\": {\"line\": {\"color\": \"#2a3f5f\"}}, \"ternary\": {\"aaxis\": {\"gridcolor\": \"white\", \"linecolor\": \"white\", \"ticks\": \"\"}, \"baxis\": {\"gridcolor\": \"white\", \"linecolor\": \"white\", \"ticks\": \"\"}, \"bgcolor\": \"#E5ECF6\", \"caxis\": {\"gridcolor\": \"white\", \"linecolor\": \"white\", \"ticks\": \"\"}}, \"title\": {\"x\": 0.05}, \"xaxis\": {\"automargin\": true, \"gridcolor\": \"white\", \"linecolor\": \"white\", \"ticks\": \"\", \"title\": {\"standoff\": 15}, \"zerolinecolor\": \"white\", \"zerolinewidth\": 2}, \"yaxis\": {\"automargin\": true, \"gridcolor\": \"white\", \"linecolor\": \"white\", \"ticks\": \"\", \"title\": {\"standoff\": 15}, \"zerolinecolor\": \"white\", \"zerolinewidth\": 2}}}, \"title\": {\"text\": \"Plot of maximum valuation over the Years\"}, \"xaxis\": {\"anchor\": \"y\", \"domain\": [0.0, 1.0], \"dtick\": \"M1\", \"tickmode\": \"linear\", \"title\": {\"text\": \"Year\"}}, \"yaxis\": {\"anchor\": \"x\", \"domain\": [0.0, 1.0], \"title\": {\"text\": \"value_max\"}}},\n",
              "                        {\"responsive\": true}\n",
              "                    ).then(function(){\n",
              "                            \n",
              "var gd = document.getElementById('cafaf3d7-da55-421e-a2e5-19332546394c');\n",
              "var x = new MutationObserver(function (mutations, observer) {{\n",
              "        var display = window.getComputedStyle(gd).display;\n",
              "        if (!display || display === 'none') {{\n",
              "            console.log([gd, 'removed!']);\n",
              "            Plotly.purge(gd);\n",
              "            observer.disconnect();\n",
              "        }}\n",
              "}});\n",
              "\n",
              "// Listen for the removal of the full notebook cells\n",
              "var notebookContainer = gd.closest('#notebook-container');\n",
              "if (notebookContainer) {{\n",
              "    x.observe(notebookContainer, {childList: true});\n",
              "}}\n",
              "\n",
              "// Listen for the clearing of the current output cell\n",
              "var outputEl = gd.closest('.output');\n",
              "if (outputEl) {{\n",
              "    x.observe(outputEl, {childList: true});\n",
              "}}\n",
              "\n",
              "                        })\n",
              "                };\n",
              "                \n",
              "            </script>\n",
              "        </div>\n",
              "</body>\n",
              "</html>"
            ]
          },
          "metadata": {
            "tags": []
          }
        }
      ]
    },
    {
      "cell_type": "code",
      "metadata": {
        "colab": {
          "base_uri": "https://localhost:8080/",
          "height": 371
        },
        "id": "3TQwIGfMKqez",
        "outputId": "1230a9c4-2a8c-42c6-e36f-05a394338f5f"
      },
      "source": [
        "fig, ax = plt.subplots()\n",
        "\n",
        "\n",
        "ax.plot(valDf['Year'], valDf['value_median'], color='green', label='Average of yearly property value')\n",
        "ax.set_yscale('log')\n",
        "ax.tick_params(axis='y', labelcolor='green')\n",
        "ax.legend(loc = 'lower right',bbox_to_anchor=(0.6, 1.2))\n",
        "\n",
        "ax3 = ax.twinx()\n",
        "ax3.plot(valDf['Year'], valDf['counts'], color='blue', label='Number of properties')\n",
        "#ax3.tick_params(axis='y', labelcolor='blue')\n",
        "ax3.legend(loc = 'lower right',bbox_to_anchor=(0.4, 1.3))\n",
        "\n",
        "\n",
        "plt.figure(figsize=(60,80))\n",
        "plt.show()"
      ],
      "execution_count": null,
      "outputs": [
        {
          "output_type": "display_data",
          "data": {
            "image/png": "[encoded data removed]",
            "text/plain": [
              "<Figure size 432x288 with 2 Axes>"
            ]
          },
          "metadata": {
            "tags": [],
            "needs_background": "light"
          }
        },
        {
          "output_type": "display_data",
          "data": {
            "text/plain": [
              "<Figure size 4320x5760 with 0 Axes>"
            ]
          },
          "metadata": {
            "tags": []
          }
        }
      ]
    },
    {
      "cell_type": "markdown",
      "metadata": {
        "id": "mLg1iTSuDX2s"
      },
      "source": [
        "#### Exporting the cleaned dataset into an excel sheet for reference only."
      ]
    },
    {
      "cell_type": "code",
      "metadata": {
        "id": "EK2YZ6mPrUB4"
      },
      "source": [
        "actualvDf.to_csv('./valuation_cleaned.csv', index=False)"
      ],
      "execution_count": null,
      "outputs": []
    },
    {
      "cell_type": "markdown",
      "metadata": {
        "id": "DAPDzcaaEAwd"
      },
      "source": [
        "## **Model Selection and Hyperparameter Tuning**"
      ]
    },
    {
      "cell_type": "markdown",
      "metadata": {
        "id": "nO8eiwEyEPqu"
      },
      "source": [
        "###Declaring the label or target variable and the feature variable in the dataset"
      ]
    },
    {
      "cell_type": "code",
      "metadata": {
        "id": "c3W2GILPEH4Q"
      },
      "source": [
        "label = actualvDf['property_total_value']\n",
        "features = actualvDf.drop(['property_total_value'], axis=1)"
      ],
      "execution_count": null,
      "outputs": []
    },
    {
      "cell_type": "markdown",
      "metadata": {
        "id": "9unLQYGOET7z"
      },
      "source": [
        "###Train-Test split\n",
        "Using train_test_split function to split the features and label rows into TRAIN and TEST sets in randomized state and given ratio"
      ]
    },
    {
      "cell_type": "code",
      "metadata": {
        "id": "ISnD9mqpEYSa"
      },
      "source": [
        "trainF, testF, trainL, testL = train_test_split(features, label, test_size=0.4, random_state=0)"
      ],
      "execution_count": null,
      "outputs": []
    },
    {
      "cell_type": "markdown",
      "metadata": {
        "id": "gYWEuicCEeCI"
      },
      "source": [
        "###Model selection and Hyperparameter tuning\n",
        "Creating a basic model with default parameters, this is done to observe its performance and provide a direction for further hyperparameter tuning\n"
      ]
    },
    {
      "cell_type": "code",
      "metadata": {
        "id": "jSQqLBVcEiZW"
      },
      "source": [
        "gbModel = GradientBoostingRegressor()"
      ],
      "execution_count": null,
      "outputs": []
    },
    {
      "cell_type": "markdown",
      "metadata": {
        "id": "D_eECSn1EmfB"
      },
      "source": [
        "##### Fitting the model of the train set (i.e, let the model learn the parameters)"
      ]
    },
    {
      "cell_type": "code",
      "metadata": {
        "colab": {
          "base_uri": "https://localhost:8080/"
        },
        "id": "3TOJ3VqkEqN1",
        "outputId": "2b168b0d-1744-4888-9496-b84c5a05f5d0"
      },
      "source": [
        "gbModel.fit(trainF, trainL)"
      ],
      "execution_count": null,
      "outputs": [
        {
          "output_type": "execute_result",
          "data": {
            "text/plain": [
              "GradientBoostingRegressor(alpha=0.9, ccp_alpha=0.0, criterion='friedman_mse',\n",
              "                          init=None, learning_rate=0.1, loss='ls', max_depth=3,\n",
              "                          max_features=None, max_leaf_nodes=None,\n",
              "                          min_impurity_decrease=0.0, min_impurity_split=None,\n",
              "                          min_samples_leaf=1, min_samples_split=2,\n",
              "                          min_weight_fraction_leaf=0.0, n_estimators=100,\n",
              "                          n_iter_no_change=None, presort='deprecated',\n",
              "                          random_state=None, subsample=1.0, tol=0.0001,\n",
              "                          validation_fraction=0.1, verbose=0, warm_start=False)"
            ]
          },
          "metadata": {
            "tags": []
          },
          "execution_count": 73
        }
      ]
    },
    {
      "cell_type": "markdown",
      "metadata": {
        "id": "HFW8U_0gEzQZ"
      },
      "source": [
        "##### Measuring the Mean Squared Absolute Error for Training Data\n",
        "######Mean Squared Absolute Error is a metric to evaluate the model. It compares the predicted value and the original values.\n",
        "######.predict() method is how the model adjusts the parameters"
      ]
    },
    {
      "cell_type": "code",
      "metadata": {
        "colab": {
          "base_uri": "https://localhost:8080/"
        },
        "id": "58-76kVeE0kM",
        "outputId": "b9c6c928-5128-4720-d201-dc3e98a0f64a"
      },
      "source": [
        "msae = mean_absolute_error(testL, gbModel.predict(testF))\n",
        "print(msae)"
      ],
      "execution_count": null,
      "outputs": [
        {
          "output_type": "stream",
          "text": [
            "14803135.914025167\n"
          ],
          "name": "stdout"
        }
      ]
    },
    {
      "cell_type": "markdown",
      "metadata": {
        "id": "cvlYI8bUE5Ka"
      },
      "source": [
        "#####Defining a function to format and print results from the gridSearch"
      ]
    },
    {
      "cell_type": "code",
      "metadata": {
        "id": "V78uMbSTE94t"
      },
      "source": [
        "def printResults(results):\n",
        "    print('Best ML Params: {}\\n'.format(results.best_params_))\n",
        "\n",
        "    means = results.cv_results_['mean_test_score']\n",
        "    stnDvs = results.cv_results_['std_test_score']\n",
        "\n",
        "    for mean, stnDvs, params in zip(means, stnDvs, results.cv_results_['params']):\n",
        "        print('{} (+/-{}) for {}'.format(\n",
        "                round(mean, 3),\n",
        "                round(stnDvs*2, 3),\n",
        "                params\n",
        "            )\n",
        "        )"
      ],
      "execution_count": null,
      "outputs": []
    },
    {
      "cell_type": "markdown",
      "metadata": {
        "id": "3jNbl6I2FEw4"
      },
      "source": [
        "##### Running the gridSearch with various parameters to find the best combination for our model"
      ]
    },
    {
      "cell_type": "code",
      "metadata": {
        "colab": {
          "base_uri": "https://localhost:8080/"
        },
        "id": "-dxTcWHCFFkG",
        "outputId": "4457edfb-22ce-4269-fd3b-bbdde04bf450"
      },
      "source": [
        "gbModel = GradientBoostingRegressor()\n",
        "\n",
        "parameters = {\n",
        "    'n_estimators':[500,1000,1500],      # Number of decision trees \n",
        "    'learning_rate':[0.05,0.1,0.2],      # How much time spent learning the parameters\n",
        "    'max_depth':[5,6,7],                 # Max depth for any decision tree\n",
        "    'min_samples_leaf':[50],             # Minimum number of types of house to sample\n",
        "    'max_features':['sqrt'],             # Max percentage of features to take into account by a tree\n",
        "    'loss':['huber']                     # Function to minimise loss\n",
        "}\n",
        "\n",
        "gridSearch = GridSearchCV(gbModel, parameters, cv=5)\n",
        "gridSearch.fit(trainF, trainL.values.ravel())\n",
        "\n",
        "printResults(gridSearch)"
      ],
      "execution_count": null,
      "outputs": [
        {
          "output_type": "stream",
          "text": [
            "Best ML Params: {'learning_rate': 0.2, 'loss': 'huber', 'max_depth': 7, 'max_features': 'sqrt', 'min_samples_leaf': 50, 'n_estimators': 1500}\n",
            "\n",
            "0.302 (+/-0.223) for {'learning_rate': 0.05, 'loss': 'huber', 'max_depth': 5, 'max_features': 'sqrt', 'min_samples_leaf': 50, 'n_estimators': 500}\n",
            "0.32 (+/-0.243) for {'learning_rate': 0.05, 'loss': 'huber', 'max_depth': 5, 'max_features': 'sqrt', 'min_samples_leaf': 50, 'n_estimators': 1000}\n",
            "0.322 (+/-0.242) for {'learning_rate': 0.05, 'loss': 'huber', 'max_depth': 5, 'max_features': 'sqrt', 'min_samples_leaf': 50, 'n_estimators': 1500}\n",
            "0.308 (+/-0.232) for {'learning_rate': 0.05, 'loss': 'huber', 'max_depth': 6, 'max_features': 'sqrt', 'min_samples_leaf': 50, 'n_estimators': 500}\n",
            "0.321 (+/-0.239) for {'learning_rate': 0.05, 'loss': 'huber', 'max_depth': 6, 'max_features': 'sqrt', 'min_samples_leaf': 50, 'n_estimators': 1000}\n",
            "0.325 (+/-0.248) for {'learning_rate': 0.05, 'loss': 'huber', 'max_depth': 6, 'max_features': 'sqrt', 'min_samples_leaf': 50, 'n_estimators': 1500}\n",
            "0.315 (+/-0.234) for {'learning_rate': 0.05, 'loss': 'huber', 'max_depth': 7, 'max_features': 'sqrt', 'min_samples_leaf': 50, 'n_estimators': 500}\n",
            "0.321 (+/-0.24) for {'learning_rate': 0.05, 'loss': 'huber', 'max_depth': 7, 'max_features': 'sqrt', 'min_samples_leaf': 50, 'n_estimators': 1000}\n",
            "0.327 (+/-0.243) for {'learning_rate': 0.05, 'loss': 'huber', 'max_depth': 7, 'max_features': 'sqrt', 'min_samples_leaf': 50, 'n_estimators': 1500}\n",
            "0.321 (+/-0.239) for {'learning_rate': 0.1, 'loss': 'huber', 'max_depth': 5, 'max_features': 'sqrt', 'min_samples_leaf': 50, 'n_estimators': 500}\n",
            "0.328 (+/-0.246) for {'learning_rate': 0.1, 'loss': 'huber', 'max_depth': 5, 'max_features': 'sqrt', 'min_samples_leaf': 50, 'n_estimators': 1000}\n",
            "0.329 (+/-0.245) for {'learning_rate': 0.1, 'loss': 'huber', 'max_depth': 5, 'max_features': 'sqrt', 'min_samples_leaf': 50, 'n_estimators': 1500}\n",
            "0.321 (+/-0.241) for {'learning_rate': 0.1, 'loss': 'huber', 'max_depth': 6, 'max_features': 'sqrt', 'min_samples_leaf': 50, 'n_estimators': 500}\n",
            "0.33 (+/-0.253) for {'learning_rate': 0.1, 'loss': 'huber', 'max_depth': 6, 'max_features': 'sqrt', 'min_samples_leaf': 50, 'n_estimators': 1000}\n",
            "0.331 (+/-0.25) for {'learning_rate': 0.1, 'loss': 'huber', 'max_depth': 6, 'max_features': 'sqrt', 'min_samples_leaf': 50, 'n_estimators': 1500}\n",
            "0.322 (+/-0.242) for {'learning_rate': 0.1, 'loss': 'huber', 'max_depth': 7, 'max_features': 'sqrt', 'min_samples_leaf': 50, 'n_estimators': 500}\n",
            "0.327 (+/-0.25) for {'learning_rate': 0.1, 'loss': 'huber', 'max_depth': 7, 'max_features': 'sqrt', 'min_samples_leaf': 50, 'n_estimators': 1000}\n",
            "0.333 (+/-0.253) for {'learning_rate': 0.1, 'loss': 'huber', 'max_depth': 7, 'max_features': 'sqrt', 'min_samples_leaf': 50, 'n_estimators': 1500}\n",
            "0.328 (+/-0.248) for {'learning_rate': 0.2, 'loss': 'huber', 'max_depth': 5, 'max_features': 'sqrt', 'min_samples_leaf': 50, 'n_estimators': 500}\n",
            "0.335 (+/-0.249) for {'learning_rate': 0.2, 'loss': 'huber', 'max_depth': 5, 'max_features': 'sqrt', 'min_samples_leaf': 50, 'n_estimators': 1000}\n",
            "0.337 (+/-0.256) for {'learning_rate': 0.2, 'loss': 'huber', 'max_depth': 5, 'max_features': 'sqrt', 'min_samples_leaf': 50, 'n_estimators': 1500}\n",
            "0.326 (+/-0.249) for {'learning_rate': 0.2, 'loss': 'huber', 'max_depth': 6, 'max_features': 'sqrt', 'min_samples_leaf': 50, 'n_estimators': 500}\n",
            "0.33 (+/-0.253) for {'learning_rate': 0.2, 'loss': 'huber', 'max_depth': 6, 'max_features': 'sqrt', 'min_samples_leaf': 50, 'n_estimators': 1000}\n",
            "0.338 (+/-0.26) for {'learning_rate': 0.2, 'loss': 'huber', 'max_depth': 6, 'max_features': 'sqrt', 'min_samples_leaf': 50, 'n_estimators': 1500}\n",
            "0.336 (+/-0.251) for {'learning_rate': 0.2, 'loss': 'huber', 'max_depth': 7, 'max_features': 'sqrt', 'min_samples_leaf': 50, 'n_estimators': 500}\n",
            "0.339 (+/-0.26) for {'learning_rate': 0.2, 'loss': 'huber', 'max_depth': 7, 'max_features': 'sqrt', 'min_samples_leaf': 50, 'n_estimators': 1000}\n",
            "0.341 (+/-0.252) for {'learning_rate': 0.2, 'loss': 'huber', 'max_depth': 7, 'max_features': 'sqrt', 'min_samples_leaf': 50, 'n_estimators': 1500}\n"
          ],
          "name": "stdout"
        }
      ]
    },
    {
      "cell_type": "markdown",
      "metadata": {
        "id": "oXmHV5t3FJsx"
      },
      "source": [
        "#####Since we found the hyperparameters, running the model with them finally."
      ]
    },
    {
      "cell_type": "code",
      "metadata": {
        "id": "T5JfyoJGR3yq"
      },
      "source": [
        "gbModelbest = GradientBoostingRegressor(\n",
        "    n_estimators=1500,      # Number of decision trees \n",
        "    learning_rate=0.2,      # How much time spent learning the parameters\n",
        "    max_depth=6,            # Max depth for any decision tree\n",
        "    min_samples_leaf=50,     # Minimum number of types of house to sample\n",
        "    max_features='sqrt',   # Max percentage of features to take into account by a tree\n",
        "    loss='huber'            # The function with which to calculate the errors made by the model\n",
        ")"
      ],
      "execution_count": 78,
      "outputs": []
    },
    {
      "cell_type": "code",
      "metadata": {
        "colab": {
          "base_uri": "https://localhost:8080/"
        },
        "id": "bUoCSkxFFO46",
        "outputId": "3ab0e7b9-2edb-4534-b232-a66fe0064d60"
      },
      "source": [
        "gbModelbest.fit(trainF, trainL)"
      ],
      "execution_count": 79,
      "outputs": [
        {
          "output_type": "execute_result",
          "data": {
            "text/plain": [
              "GradientBoostingRegressor(alpha=0.9, ccp_alpha=0.0, criterion='friedman_mse',\n",
              "                          init=None, learning_rate=0.2, loss='huber',\n",
              "                          max_depth=6, max_features='sqrt', max_leaf_nodes=None,\n",
              "                          min_impurity_decrease=0.0, min_impurity_split=None,\n",
              "                          min_samples_leaf=50, min_samples_split=2,\n",
              "                          min_weight_fraction_leaf=0.0, n_estimators=1500,\n",
              "                          n_iter_no_change=None, presort='deprecated',\n",
              "                          random_state=None, subsample=1.0, tol=0.0001,\n",
              "                          validation_fraction=0.1, verbose=0, warm_start=False)"
            ]
          },
          "metadata": {
            "tags": []
          },
          "execution_count": 79
        }
      ]
    },
    {
      "cell_type": "code",
      "metadata": {
        "id": "0QDXqclMFSFx",
        "colab": {
          "base_uri": "https://localhost:8080/"
        },
        "outputId": "891628e2-e06b-44ac-a3f9-1bbf01e14317"
      },
      "source": [
        "msae = mean_absolute_error(trainL, gbModelbest.predict(trainF))\n",
        "print(msae)"
      ],
      "execution_count": 80,
      "outputs": [
        {
          "output_type": "stream",
          "text": [
            "10788782.98774684\n"
          ],
          "name": "stdout"
        }
      ]
    },
    {
      "cell_type": "code",
      "metadata": {
        "id": "xkF0kdJsFVAa",
        "colab": {
          "base_uri": "https://localhost:8080/"
        },
        "outputId": "e3e9cd12-c9c8-42c1-b6fb-336591c7b6c3"
      },
      "source": [
        "msae = mean_absolute_error(testL, gbModelbest.predict(testF))\n",
        "print(msae)"
      ],
      "execution_count": 81,
      "outputs": [
        {
          "output_type": "stream",
          "text": [
            "13727658.71079464\n"
          ],
          "name": "stdout"
        }
      ]
    },
    {
      "cell_type": "code",
      "metadata": {
        "id": "3uXQ4_r5FX6T",
        "colab": {
          "base_uri": "https://localhost:8080/"
        },
        "outputId": "649eb836-afe9-4dc0-addb-351f48da46cc"
      },
      "source": [
        "print(\"Model Accuracy: %.3f\" % gbModelbest.score(trainF, trainL))"
      ],
      "execution_count": 82,
      "outputs": [
        {
          "output_type": "stream",
          "text": [
            "Model Accuracy: 0.325\n"
          ],
          "name": "stdout"
        }
      ]
    },
    {
      "cell_type": "code",
      "metadata": {
        "id": "jQxq5V6NFbQ1",
        "colab": {
          "base_uri": "https://localhost:8080/"
        },
        "outputId": "2ba55f91-db2e-4246-d3c6-73b9cf117374"
      },
      "source": [
        "print(\"Model Accuracy: %.3f\" % gbModelbest.score(testF, testL))"
      ],
      "execution_count": 83,
      "outputs": [
        {
          "output_type": "stream",
          "text": [
            "Model Accuracy: 0.202\n"
          ],
          "name": "stdout"
        }
      ]
    },
    {
      "cell_type": "markdown",
      "metadata": {
        "id": "nkBHkW2dFhRQ"
      },
      "source": [
        "##### Calculating the feature variance of the model, lets us compare the predicted labels and the original values for the test set, visualizing the same helps us understand the fitting of the model."
      ]
    },
    {
      "cell_type": "code",
      "metadata": {
        "id": "uljix6WyFdwI",
        "colab": {
          "base_uri": "https://localhost:8080/",
          "height": 585
        },
        "outputId": "ede9f9ec-1e55-4adb-d735-521ccf70834e"
      },
      "source": [
        "gbr_params ={\n",
        "    \"n_estimators\" :1500,      # Number of decision trees \n",
        "    \"learning_rate\":0.2,      # How much time spent learning the parameters\n",
        "    \"max_depth\":6,            # Max depth for any decision tree\n",
        "    \"min_samples_leaf\":50,     # Minimum number of types of house to sample\n",
        "    \"max_features\":'sqrt'}\n",
        "test_score = np.zeros((gbr_params['n_estimators'],), dtype=np.float64)\n",
        "for i, y_pred in enumerate(gbModelbest.staged_predict(testF)):\n",
        "    test_score[i] = gbModelbest.loss_(testL, y_pred)\n",
        " \n",
        "fig = plt.figure(figsize=(8, 8))\n",
        "plt.subplot(1, 1, 1)\n",
        "plt.title('Deviance')\n",
        "plt.plot(np.arange(gbr_params['n_estimators']) + 1, gbModelbest.train_score_, 'b-',\n",
        "         label='Training Set Deviance')\n",
        "plt.plot(np.arange(gbr_params['n_estimators']) + 1, test_score, 'r-',\n",
        "         label='Test Set Deviance')\n",
        "plt.legend(loc='upper right')\n",
        "plt.xlabel('Boosting Iterations')\n",
        "plt.ylabel('Deviance')\n",
        "fig.tight_layout()\n",
        "plt.show()"
      ],
      "execution_count": 84,
      "outputs": [
        {
          "output_type": "display_data",
          "data": {
            "image/png": "[encoded data removed]",
            "text/plain": [
              "<Figure size 576x576 with 1 Axes>"
            ]
          },
          "metadata": {
            "tags": [],
            "needs_background": "light"
          }
        }
      ]
    },
    {
      "cell_type": "markdown",
      "metadata": {
        "id": "N68GMtE8FqM6"
      },
      "source": [
        "##### Observation from the graph:\n",
        "* The deviance between the tran set prediction and test set prediction follows a similar shape of curve and they are close.\n",
        "* With the deviance graph, we can understand the fit of the model and identify if it is overfitting or underfitting.\n",
        "* In our case, the model is a close fit which works for us."
      ]
    },
    {
      "cell_type": "markdown",
      "metadata": {
        "id": "e0LARARRFsHh"
      },
      "source": [
        "##**Sample prediction**"
      ]
    },
    {
      "cell_type": "markdown",
      "metadata": {
        "id": "bRFduTufFvZ7"
      },
      "source": [
        "##### Importing the sample dataset from a csv file"
      ]
    },
    {
      "cell_type": "code",
      "metadata": {
        "id": "JCgsCEwpiYmJ"
      },
      "source": [
        "sampleDf = pd.read_csv('./sample.csv')"
      ],
      "execution_count": 91,
      "outputs": []
    },
    {
      "cell_type": "code",
      "metadata": {
        "id": "XRV1D9aMF1LO",
        "colab": {
          "base_uri": "https://localhost:8080/",
          "height": 129
        },
        "outputId": "701b4551-cd72-4611-910f-cba31d047f68"
      },
      "source": [
        "sampleDf.head()"
      ],
      "execution_count": 92,
      "outputs": [
        {
          "output_type": "execute_result",
          "data": {
            "text/html": [
              "<div>\n",
              "<style scoped>\n",
              "    .dataframe tbody tr th:only-of-type {\n",
              "        vertical-align: middle;\n",
              "    }\n",
              "\n",
              "    .dataframe tbody tr th {\n",
              "        vertical-align: top;\n",
              "    }\n",
              "\n",
              "    .dataframe thead th {\n",
              "        text-align: right;\n",
              "    }\n",
              "</style>\n",
              "<table border=\"1\" class=\"dataframe\">\n",
              "  <thead>\n",
              "    <tr style=\"text-align: right;\">\n",
              "      <th></th>\n",
              "      <th>procedure_area</th>\n",
              "      <th>Year</th>\n",
              "      <th>Month</th>\n",
              "      <th>area_id_230.0</th>\n",
              "      <th>area_id_231.0</th>\n",
              "      <th>area_id_232.0</th>\n",
              "      <th>area_id_233.0</th>\n",
              "      <th>area_id_234.0</th>\n",
              "      <th>area_id_235.0</th>\n",
              "      <th>area_id_237.0</th>\n",
              "      <th>area_id_238.0</th>\n",
              "      <th>area_id_239.0</th>\n",
              "      <th>area_id_240.0</th>\n",
              "      <th>area_id_242.0</th>\n",
              "      <th>area_id_244.0</th>\n",
              "      <th>area_id_247.0</th>\n",
              "      <th>area_id_248.0</th>\n",
              "      <th>area_id_249.0</th>\n",
              "      <th>area_id_254.0</th>\n",
              "      <th>area_id_255.0</th>\n",
              "      <th>area_id_264.0</th>\n",
              "      <th>area_id_266.0</th>\n",
              "      <th>area_id_267.0</th>\n",
              "      <th>area_id_269.0</th>\n",
              "      <th>area_id_271.0</th>\n",
              "      <th>area_id_276.0</th>\n",
              "      <th>area_id_278.0</th>\n",
              "      <th>area_id_282.0</th>\n",
              "      <th>area_id_284.0</th>\n",
              "      <th>area_id_295.0</th>\n",
              "      <th>area_id_297.0</th>\n",
              "      <th>area_id_298.0</th>\n",
              "      <th>area_id_299.0</th>\n",
              "      <th>area_id_300.0</th>\n",
              "      <th>area_id_301.0</th>\n",
              "      <th>area_id_303.0</th>\n",
              "      <th>area_id_304.0</th>\n",
              "      <th>area_id_305.0</th>\n",
              "      <th>area_id_306.0</th>\n",
              "      <th>area_id_307.0</th>\n",
              "      <th>...</th>\n",
              "      <th>area_id_482.0</th>\n",
              "      <th>area_id_483.0</th>\n",
              "      <th>area_id_484.0</th>\n",
              "      <th>area_id_485.0</th>\n",
              "      <th>area_id_489.0</th>\n",
              "      <th>area_id_492.0</th>\n",
              "      <th>area_id_493.0</th>\n",
              "      <th>area_id_494.0</th>\n",
              "      <th>area_id_496.0</th>\n",
              "      <th>area_id_497.0</th>\n",
              "      <th>area_id_499.0</th>\n",
              "      <th>area_id_500.0</th>\n",
              "      <th>area_id_502.0</th>\n",
              "      <th>area_id_503.0</th>\n",
              "      <th>area_id_504.0</th>\n",
              "      <th>area_id_506.0</th>\n",
              "      <th>area_id_507.0</th>\n",
              "      <th>area_id_508.0</th>\n",
              "      <th>area_id_509.0</th>\n",
              "      <th>area_id_513.0</th>\n",
              "      <th>area_id_514.0</th>\n",
              "      <th>area_id_515.0</th>\n",
              "      <th>area_id_519.0</th>\n",
              "      <th>area_id_522.0</th>\n",
              "      <th>area_id_523.0</th>\n",
              "      <th>area_id_524.0</th>\n",
              "      <th>area_id_525.0</th>\n",
              "      <th>area_id_526.0</th>\n",
              "      <th>area_id_527.0</th>\n",
              "      <th>area_id_528.0</th>\n",
              "      <th>area_id_531.0</th>\n",
              "      <th>property_type_id_1</th>\n",
              "      <th>property_type_id_2</th>\n",
              "      <th>property_type_id_3</th>\n",
              "      <th>property_category_1</th>\n",
              "      <th>property_category_2</th>\n",
              "      <th>property_category_3</th>\n",
              "      <th>row_status_1</th>\n",
              "      <th>row_status_2</th>\n",
              "      <th>row_status_3</th>\n",
              "    </tr>\n",
              "  </thead>\n",
              "  <tbody>\n",
              "    <tr>\n",
              "      <th>0</th>\n",
              "      <td>236.44</td>\n",
              "      <td>2022</td>\n",
              "      <td>1</td>\n",
              "      <td>0</td>\n",
              "      <td>0</td>\n",
              "      <td>0</td>\n",
              "      <td>0</td>\n",
              "      <td>0</td>\n",
              "      <td>0</td>\n",
              "      <td>0</td>\n",
              "      <td>0</td>\n",
              "      <td>0</td>\n",
              "      <td>0</td>\n",
              "      <td>0</td>\n",
              "      <td>0</td>\n",
              "      <td>0</td>\n",
              "      <td>0</td>\n",
              "      <td>0</td>\n",
              "      <td>0</td>\n",
              "      <td>0</td>\n",
              "      <td>0</td>\n",
              "      <td>0</td>\n",
              "      <td>0</td>\n",
              "      <td>0</td>\n",
              "      <td>0</td>\n",
              "      <td>0</td>\n",
              "      <td>0</td>\n",
              "      <td>0</td>\n",
              "      <td>0</td>\n",
              "      <td>0</td>\n",
              "      <td>0</td>\n",
              "      <td>0</td>\n",
              "      <td>0</td>\n",
              "      <td>0</td>\n",
              "      <td>0</td>\n",
              "      <td>0</td>\n",
              "      <td>0</td>\n",
              "      <td>0</td>\n",
              "      <td>0</td>\n",
              "      <td>0</td>\n",
              "      <td>...</td>\n",
              "      <td>0</td>\n",
              "      <td>0</td>\n",
              "      <td>0</td>\n",
              "      <td>0</td>\n",
              "      <td>0</td>\n",
              "      <td>0</td>\n",
              "      <td>0</td>\n",
              "      <td>0</td>\n",
              "      <td>0</td>\n",
              "      <td>0</td>\n",
              "      <td>0</td>\n",
              "      <td>0</td>\n",
              "      <td>0</td>\n",
              "      <td>0</td>\n",
              "      <td>0</td>\n",
              "      <td>0</td>\n",
              "      <td>0</td>\n",
              "      <td>0</td>\n",
              "      <td>0</td>\n",
              "      <td>0</td>\n",
              "      <td>0</td>\n",
              "      <td>0</td>\n",
              "      <td>0</td>\n",
              "      <td>0</td>\n",
              "      <td>0</td>\n",
              "      <td>0</td>\n",
              "      <td>0</td>\n",
              "      <td>0</td>\n",
              "      <td>0</td>\n",
              "      <td>0</td>\n",
              "      <td>0</td>\n",
              "      <td>0</td>\n",
              "      <td>1</td>\n",
              "      <td>0</td>\n",
              "      <td>0</td>\n",
              "      <td>1</td>\n",
              "      <td>0</td>\n",
              "      <td>1</td>\n",
              "      <td>0</td>\n",
              "      <td>0</td>\n",
              "    </tr>\n",
              "  </tbody>\n",
              "</table>\n",
              "<p>1 rows × 207 columns</p>\n",
              "</div>"
            ],
            "text/plain": [
              "   procedure_area  Year  Month  ...  row_status_1  row_status_2  row_status_3\n",
              "0          236.44  2022      1  ...             1             0             0\n",
              "\n",
              "[1 rows x 207 columns]"
            ]
          },
          "metadata": {
            "tags": []
          },
          "execution_count": 92
        }
      ]
    },
    {
      "cell_type": "markdown",
      "metadata": {
        "id": "FYiolQ5vF71C"
      },
      "source": [
        "######Using the model to predict the target variable, property_total_value for the sample dataset"
      ]
    },
    {
      "cell_type": "code",
      "metadata": {
        "id": "9_fnQ0v-F3nI"
      },
      "source": [
        "val = gbModelbest.predict(sampleDf)"
      ],
      "execution_count": 93,
      "outputs": []
    },
    {
      "cell_type": "code",
      "metadata": {
        "id": "ZytbWTixGCx9",
        "colab": {
          "base_uri": "https://localhost:8080/"
        },
        "outputId": "3e18d80e-5267-4314-86d1-b3466de3e52b"
      },
      "source": [
        "print(val)"
      ],
      "execution_count": 94,
      "outputs": [
        {
          "output_type": "stream",
          "text": [
            "[1820466.86322495]\n"
          ],
          "name": "stdout"
        }
      ]
    },
    {
      "cell_type": "code",
      "metadata": {
        "id": "DCTRWV6dIVjh",
        "colab": {
          "base_uri": "https://localhost:8080/"
        },
        "outputId": "99434a4f-6f4b-4d8f-8dd1-082c2c56ce51"
      },
      "source": [
        "print(\"Valuation predicted for a land which was valued AED 1400000 in 2012 is expected to grow to the valuation of : %.2f in 2022\" % val)"
      ],
      "execution_count": 149,
      "outputs": [
        {
          "output_type": "stream",
          "text": [
            "Valuation predicted for a land which was valued AED 1400000 in 2012 is expected to grow to the valuation of : 1820466.86 in 2022\n"
          ],
          "name": "stdout"
        }
      ]
    },
    {
      "cell_type": "markdown",
      "metadata": {
        "id": "f7ooTrWDUD59"
      },
      "source": [
        "* Sample Prediciton over the next 5 years"
      ]
    },
    {
      "cell_type": "code",
      "metadata": {
        "id": "PIbAYI4l_h98"
      },
      "source": [
        "sampleaDf = pd.read_csv('./sample1.csv')\n"
      ],
      "execution_count": 141,
      "outputs": []
    },
    {
      "cell_type": "code",
      "metadata": {
        "colab": {
          "base_uri": "https://localhost:8080/",
          "height": 129
        },
        "id": "gLMXPz6icXO5",
        "outputId": "2e3f9343-cea7-4e20-e843-3abc0591025a"
      },
      "source": [
        "sampleaDf.head()"
      ],
      "execution_count": 142,
      "outputs": [
        {
          "output_type": "execute_result",
          "data": {
            "text/html": [
              "<div>\n",
              "<style scoped>\n",
              "    .dataframe tbody tr th:only-of-type {\n",
              "        vertical-align: middle;\n",
              "    }\n",
              "\n",
              "    .dataframe tbody tr th {\n",
              "        vertical-align: top;\n",
              "    }\n",
              "\n",
              "    .dataframe thead th {\n",
              "        text-align: right;\n",
              "    }\n",
              "</style>\n",
              "<table border=\"1\" class=\"dataframe\">\n",
              "  <thead>\n",
              "    <tr style=\"text-align: right;\">\n",
              "      <th></th>\n",
              "      <th>procedure_area</th>\n",
              "      <th>Year</th>\n",
              "      <th>Month</th>\n",
              "      <th>area_id_230.0</th>\n",
              "      <th>area_id_231.0</th>\n",
              "      <th>area_id_232.0</th>\n",
              "      <th>area_id_233.0</th>\n",
              "      <th>area_id_234.0</th>\n",
              "      <th>area_id_235.0</th>\n",
              "      <th>area_id_237.0</th>\n",
              "      <th>area_id_238.0</th>\n",
              "      <th>area_id_239.0</th>\n",
              "      <th>area_id_240.0</th>\n",
              "      <th>area_id_242.0</th>\n",
              "      <th>area_id_244.0</th>\n",
              "      <th>area_id_247.0</th>\n",
              "      <th>area_id_248.0</th>\n",
              "      <th>area_id_249.0</th>\n",
              "      <th>area_id_254.0</th>\n",
              "      <th>area_id_255.0</th>\n",
              "      <th>area_id_264.0</th>\n",
              "      <th>area_id_266.0</th>\n",
              "      <th>area_id_267.0</th>\n",
              "      <th>area_id_269.0</th>\n",
              "      <th>area_id_271.0</th>\n",
              "      <th>area_id_276.0</th>\n",
              "      <th>area_id_278.0</th>\n",
              "      <th>area_id_282.0</th>\n",
              "      <th>area_id_284.0</th>\n",
              "      <th>area_id_295.0</th>\n",
              "      <th>area_id_297.0</th>\n",
              "      <th>area_id_298.0</th>\n",
              "      <th>area_id_299.0</th>\n",
              "      <th>area_id_300.0</th>\n",
              "      <th>area_id_301.0</th>\n",
              "      <th>area_id_303.0</th>\n",
              "      <th>area_id_304.0</th>\n",
              "      <th>area_id_305.0</th>\n",
              "      <th>area_id_306.0</th>\n",
              "      <th>area_id_307.0</th>\n",
              "      <th>...</th>\n",
              "      <th>area_id_482.0</th>\n",
              "      <th>area_id_483.0</th>\n",
              "      <th>area_id_484.0</th>\n",
              "      <th>area_id_485.0</th>\n",
              "      <th>area_id_489.0</th>\n",
              "      <th>area_id_492.0</th>\n",
              "      <th>area_id_493.0</th>\n",
              "      <th>area_id_494.0</th>\n",
              "      <th>area_id_496.0</th>\n",
              "      <th>area_id_497.0</th>\n",
              "      <th>area_id_499.0</th>\n",
              "      <th>area_id_500.0</th>\n",
              "      <th>area_id_502.0</th>\n",
              "      <th>area_id_503.0</th>\n",
              "      <th>area_id_504.0</th>\n",
              "      <th>area_id_506.0</th>\n",
              "      <th>area_id_507.0</th>\n",
              "      <th>area_id_508.0</th>\n",
              "      <th>area_id_509.0</th>\n",
              "      <th>area_id_513.0</th>\n",
              "      <th>area_id_514.0</th>\n",
              "      <th>area_id_515.0</th>\n",
              "      <th>area_id_519.0</th>\n",
              "      <th>area_id_522.0</th>\n",
              "      <th>area_id_523.0</th>\n",
              "      <th>area_id_524.0</th>\n",
              "      <th>area_id_525.0</th>\n",
              "      <th>area_id_526.0</th>\n",
              "      <th>area_id_527.0</th>\n",
              "      <th>area_id_528.0</th>\n",
              "      <th>area_id_531.0</th>\n",
              "      <th>property_type_id_1</th>\n",
              "      <th>property_type_id_2</th>\n",
              "      <th>property_type_id_3</th>\n",
              "      <th>property_category_1</th>\n",
              "      <th>property_category_2</th>\n",
              "      <th>property_category_3</th>\n",
              "      <th>row_status_1</th>\n",
              "      <th>row_status_2</th>\n",
              "      <th>row_status_3</th>\n",
              "    </tr>\n",
              "  </thead>\n",
              "  <tbody>\n",
              "    <tr>\n",
              "      <th>0</th>\n",
              "      <td>1000</td>\n",
              "      <td>2022</td>\n",
              "      <td>1</td>\n",
              "      <td>0</td>\n",
              "      <td>0</td>\n",
              "      <td>0</td>\n",
              "      <td>0</td>\n",
              "      <td>0</td>\n",
              "      <td>0</td>\n",
              "      <td>0</td>\n",
              "      <td>0</td>\n",
              "      <td>0</td>\n",
              "      <td>0</td>\n",
              "      <td>0</td>\n",
              "      <td>0</td>\n",
              "      <td>0</td>\n",
              "      <td>0</td>\n",
              "      <td>0</td>\n",
              "      <td>0</td>\n",
              "      <td>0</td>\n",
              "      <td>0</td>\n",
              "      <td>0</td>\n",
              "      <td>0</td>\n",
              "      <td>0</td>\n",
              "      <td>0</td>\n",
              "      <td>0</td>\n",
              "      <td>0</td>\n",
              "      <td>0</td>\n",
              "      <td>0</td>\n",
              "      <td>0</td>\n",
              "      <td>0</td>\n",
              "      <td>0</td>\n",
              "      <td>0</td>\n",
              "      <td>0</td>\n",
              "      <td>0</td>\n",
              "      <td>0</td>\n",
              "      <td>0</td>\n",
              "      <td>0</td>\n",
              "      <td>0</td>\n",
              "      <td>0</td>\n",
              "      <td>...</td>\n",
              "      <td>0</td>\n",
              "      <td>0</td>\n",
              "      <td>0</td>\n",
              "      <td>0</td>\n",
              "      <td>0</td>\n",
              "      <td>0</td>\n",
              "      <td>0</td>\n",
              "      <td>0</td>\n",
              "      <td>0</td>\n",
              "      <td>0</td>\n",
              "      <td>0</td>\n",
              "      <td>0</td>\n",
              "      <td>0</td>\n",
              "      <td>0</td>\n",
              "      <td>0</td>\n",
              "      <td>0</td>\n",
              "      <td>0</td>\n",
              "      <td>0</td>\n",
              "      <td>0</td>\n",
              "      <td>0</td>\n",
              "      <td>0</td>\n",
              "      <td>0</td>\n",
              "      <td>0</td>\n",
              "      <td>0</td>\n",
              "      <td>0</td>\n",
              "      <td>0</td>\n",
              "      <td>0</td>\n",
              "      <td>0</td>\n",
              "      <td>0</td>\n",
              "      <td>0</td>\n",
              "      <td>0</td>\n",
              "      <td>0</td>\n",
              "      <td>0</td>\n",
              "      <td>1</td>\n",
              "      <td>0</td>\n",
              "      <td>1</td>\n",
              "      <td>0</td>\n",
              "      <td>1</td>\n",
              "      <td>0</td>\n",
              "      <td>0</td>\n",
              "    </tr>\n",
              "  </tbody>\n",
              "</table>\n",
              "<p>1 rows × 207 columns</p>\n",
              "</div>"
            ],
            "text/plain": [
              "   procedure_area  Year  Month  ...  row_status_1  row_status_2  row_status_3\n",
              "0            1000  2022      1  ...             1             0             0\n",
              "\n",
              "[1 rows x 207 columns]"
            ]
          },
          "metadata": {
            "tags": []
          },
          "execution_count": 142
        }
      ]
    },
    {
      "cell_type": "code",
      "metadata": {
        "id": "14RKE9ebihTM"
      },
      "source": [
        "vala = gbModelbest.predict(sampleaDf.values)\n"
      ],
      "execution_count": 143,
      "outputs": []
    },
    {
      "cell_type": "code",
      "metadata": {
        "id": "UELIK4AYileR",
        "colab": {
          "base_uri": "https://localhost:8080/"
        },
        "outputId": "2e5ba183-f75a-42aa-e638-f2407be0ee92"
      },
      "source": [
        "print(vala)"
      ],
      "execution_count": 144,
      "outputs": [
        {
          "output_type": "stream",
          "text": [
            "[17075976.18093812]\n"
          ],
          "name": "stdout"
        }
      ]
    },
    {
      "cell_type": "code",
      "metadata": {
        "colab": {
          "base_uri": "https://localhost:8080/"
        },
        "id": "rtn6WrBfXe-6",
        "outputId": "ed9fa7c1-79f0-4cb3-b2ce-e934a0c3d2b1"
      },
      "source": [
        "print(\"Valuation predicted for a 1000 sqm Residential Unit in Al Barsha First is : %.2f\" % vala)\n"
      ],
      "execution_count": 150,
      "outputs": [
        {
          "output_type": "stream",
          "text": [
            "Valuation predicted for a 1000 sqm Residential Unit in Al Barsha First is : 17075976.18\n"
          ],
          "name": "stdout"
        }
      ]
    }
  ]
}